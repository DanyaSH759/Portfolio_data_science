{
 "cells": [
  {
   "cell_type": "markdown",
   "metadata": {},
   "source": [
    "# Рекомендация тарифов"
   ]
  },
  {
   "cell_type": "markdown",
   "metadata": {},
   "source": [
    "Заказчик хочет построить систему, способную проанализировать поведение клиентов и предложить пользователям новый тариф: «Смарт» или «Ультра». В вашем распоряжении данные о поведении клиентов, которые уже перешли на эти тарифы. Нужно построить модель для задачи классификации, которая выберет подходящий тариф."
   ]
  },
  {
   "cell_type": "markdown",
   "metadata": {},
   "source": [
    "**_Цель исследования:_**\n",
    "\n",
    ">Подготовить модель машинного обучения для подбора опитимального тарифа пользователям.\n",
    "\n",
    "**_Описание данных:_**\n",
    "\n",
    "Представленный датасет включает следующие колонки:\n",
    "\n",
    "- сalls — количество звонков,\n",
    "- minutes — суммарная длительность звонков в минутах,\n",
    "- messages — количество sms-сообщений,\n",
    "- mb_used — израсходованный интернет-трафик в Мб,\n",
    "- is_ultra — каким тарифом пользовался в течение месяца («Ультра» — 1, «Смарт» — 0).\n",
    " \n",
    "**_План работ:_**\n",
    "\n",
    "- Изучение предоставленного датасета \n",
    "- Разбивка датасета на тестовую и валидационную выборку \n",
    "- Подготовка моделей машинного обучения\n",
    "- Тестирование созданных моделей\n"
   ]
  },
  {
   "cell_type": "code",
   "execution_count": 2,
   "metadata": {},
   "outputs": [],
   "source": [
    "#Импортируем бибилотеки\n",
    "import pandas as pd\n",
    "import numpy as np\n",
    "import matplotlib.pyplot as plt\n",
    "import seaborn as sns\n",
    "from tqdm import tqdm\n",
    "\n",
    "from sklearn.dummy import DummyClassifier\n",
    "from sklearn import tree\n",
    "from sklearn.tree import DecisionTreeClassifier\n",
    "from sklearn.ensemble import RandomForestClassifier\n",
    "from sklearn.linear_model import LogisticRegression\n",
    "from sklearn.model_selection import train_test_split\n",
    "from sklearn.metrics import accuracy_score, recall_score, precision_score\n"
   ]
  },
  {
   "cell_type": "markdown",
   "metadata": {},
   "source": [
    "## Подготовка датасета"
   ]
  },
  {
   "cell_type": "code",
   "execution_count": 3,
   "metadata": {},
   "outputs": [],
   "source": [
    "#Открываем файл с датасетом\n",
    "try:\n",
    "    df = pd.read_csv('/datasets/users_behavior.csv')\n",
    "except:\n",
    "    df = pd.read_csv('users_behavior.csv')"
   ]
  },
  {
   "cell_type": "code",
   "execution_count": 4,
   "metadata": {},
   "outputs": [
    {
     "data": {
      "text/html": [
       "<div>\n",
       "<style scoped>\n",
       "    .dataframe tbody tr th:only-of-type {\n",
       "        vertical-align: middle;\n",
       "    }\n",
       "\n",
       "    .dataframe tbody tr th {\n",
       "        vertical-align: top;\n",
       "    }\n",
       "\n",
       "    .dataframe thead th {\n",
       "        text-align: right;\n",
       "    }\n",
       "</style>\n",
       "<table border=\"1\" class=\"dataframe\">\n",
       "  <thead>\n",
       "    <tr style=\"text-align: right;\">\n",
       "      <th></th>\n",
       "      <th>calls</th>\n",
       "      <th>minutes</th>\n",
       "      <th>messages</th>\n",
       "      <th>mb_used</th>\n",
       "      <th>is_ultra</th>\n",
       "    </tr>\n",
       "  </thead>\n",
       "  <tbody>\n",
       "    <tr>\n",
       "      <th>0</th>\n",
       "      <td>40.0</td>\n",
       "      <td>311.90</td>\n",
       "      <td>83.0</td>\n",
       "      <td>19915.42</td>\n",
       "      <td>0</td>\n",
       "    </tr>\n",
       "    <tr>\n",
       "      <th>1</th>\n",
       "      <td>85.0</td>\n",
       "      <td>516.75</td>\n",
       "      <td>56.0</td>\n",
       "      <td>22696.96</td>\n",
       "      <td>0</td>\n",
       "    </tr>\n",
       "    <tr>\n",
       "      <th>2</th>\n",
       "      <td>77.0</td>\n",
       "      <td>467.66</td>\n",
       "      <td>86.0</td>\n",
       "      <td>21060.45</td>\n",
       "      <td>0</td>\n",
       "    </tr>\n",
       "    <tr>\n",
       "      <th>3</th>\n",
       "      <td>106.0</td>\n",
       "      <td>745.53</td>\n",
       "      <td>81.0</td>\n",
       "      <td>8437.39</td>\n",
       "      <td>1</td>\n",
       "    </tr>\n",
       "    <tr>\n",
       "      <th>4</th>\n",
       "      <td>66.0</td>\n",
       "      <td>418.74</td>\n",
       "      <td>1.0</td>\n",
       "      <td>14502.75</td>\n",
       "      <td>0</td>\n",
       "    </tr>\n",
       "    <tr>\n",
       "      <th>5</th>\n",
       "      <td>58.0</td>\n",
       "      <td>344.56</td>\n",
       "      <td>21.0</td>\n",
       "      <td>15823.37</td>\n",
       "      <td>0</td>\n",
       "    </tr>\n",
       "    <tr>\n",
       "      <th>6</th>\n",
       "      <td>57.0</td>\n",
       "      <td>431.64</td>\n",
       "      <td>20.0</td>\n",
       "      <td>3738.90</td>\n",
       "      <td>1</td>\n",
       "    </tr>\n",
       "    <tr>\n",
       "      <th>7</th>\n",
       "      <td>15.0</td>\n",
       "      <td>132.40</td>\n",
       "      <td>6.0</td>\n",
       "      <td>21911.60</td>\n",
       "      <td>0</td>\n",
       "    </tr>\n",
       "    <tr>\n",
       "      <th>8</th>\n",
       "      <td>7.0</td>\n",
       "      <td>43.39</td>\n",
       "      <td>3.0</td>\n",
       "      <td>2538.67</td>\n",
       "      <td>1</td>\n",
       "    </tr>\n",
       "    <tr>\n",
       "      <th>9</th>\n",
       "      <td>90.0</td>\n",
       "      <td>665.41</td>\n",
       "      <td>38.0</td>\n",
       "      <td>17358.61</td>\n",
       "      <td>0</td>\n",
       "    </tr>\n",
       "  </tbody>\n",
       "</table>\n",
       "</div>"
      ],
      "text/plain": [
       "   calls  minutes  messages   mb_used  is_ultra\n",
       "0   40.0   311.90      83.0  19915.42         0\n",
       "1   85.0   516.75      56.0  22696.96         0\n",
       "2   77.0   467.66      86.0  21060.45         0\n",
       "3  106.0   745.53      81.0   8437.39         1\n",
       "4   66.0   418.74       1.0  14502.75         0\n",
       "5   58.0   344.56      21.0  15823.37         0\n",
       "6   57.0   431.64      20.0   3738.90         1\n",
       "7   15.0   132.40       6.0  21911.60         0\n",
       "8    7.0    43.39       3.0   2538.67         1\n",
       "9   90.0   665.41      38.0  17358.61         0"
      ]
     },
     "execution_count": 4,
     "metadata": {},
     "output_type": "execute_result"
    }
   ],
   "source": [
    "df.head(10)"
   ]
  },
  {
   "cell_type": "code",
   "execution_count": 5,
   "metadata": {},
   "outputs": [
    {
     "name": "stdout",
     "output_type": "stream",
     "text": [
      "<class 'pandas.core.frame.DataFrame'>\n",
      "RangeIndex: 3214 entries, 0 to 3213\n",
      "Data columns (total 5 columns):\n",
      " #   Column    Non-Null Count  Dtype  \n",
      "---  ------    --------------  -----  \n",
      " 0   calls     3214 non-null   float64\n",
      " 1   minutes   3214 non-null   float64\n",
      " 2   messages  3214 non-null   float64\n",
      " 3   mb_used   3214 non-null   float64\n",
      " 4   is_ultra  3214 non-null   int64  \n",
      "dtypes: float64(4), int64(1)\n",
      "memory usage: 125.7 KB\n"
     ]
    }
   ],
   "source": [
    "df.info()"
   ]
  },
  {
   "cell_type": "code",
   "execution_count": 6,
   "metadata": {},
   "outputs": [
    {
     "data": {
      "text/html": [
       "<div>\n",
       "<style scoped>\n",
       "    .dataframe tbody tr th:only-of-type {\n",
       "        vertical-align: middle;\n",
       "    }\n",
       "\n",
       "    .dataframe tbody tr th {\n",
       "        vertical-align: top;\n",
       "    }\n",
       "\n",
       "    .dataframe thead th {\n",
       "        text-align: right;\n",
       "    }\n",
       "</style>\n",
       "<table border=\"1\" class=\"dataframe\">\n",
       "  <thead>\n",
       "    <tr style=\"text-align: right;\">\n",
       "      <th></th>\n",
       "      <th>calls</th>\n",
       "      <th>minutes</th>\n",
       "      <th>messages</th>\n",
       "      <th>mb_used</th>\n",
       "      <th>is_ultra</th>\n",
       "    </tr>\n",
       "  </thead>\n",
       "  <tbody>\n",
       "    <tr>\n",
       "      <th>count</th>\n",
       "      <td>3214.000000</td>\n",
       "      <td>3214.000000</td>\n",
       "      <td>3214.000000</td>\n",
       "      <td>3214.000000</td>\n",
       "      <td>3214.000000</td>\n",
       "    </tr>\n",
       "    <tr>\n",
       "      <th>mean</th>\n",
       "      <td>63.038892</td>\n",
       "      <td>438.208787</td>\n",
       "      <td>38.281269</td>\n",
       "      <td>17207.673836</td>\n",
       "      <td>0.306472</td>\n",
       "    </tr>\n",
       "    <tr>\n",
       "      <th>std</th>\n",
       "      <td>33.236368</td>\n",
       "      <td>234.569872</td>\n",
       "      <td>36.148326</td>\n",
       "      <td>7570.968246</td>\n",
       "      <td>0.461100</td>\n",
       "    </tr>\n",
       "    <tr>\n",
       "      <th>min</th>\n",
       "      <td>0.000000</td>\n",
       "      <td>0.000000</td>\n",
       "      <td>0.000000</td>\n",
       "      <td>0.000000</td>\n",
       "      <td>0.000000</td>\n",
       "    </tr>\n",
       "    <tr>\n",
       "      <th>25%</th>\n",
       "      <td>40.000000</td>\n",
       "      <td>274.575000</td>\n",
       "      <td>9.000000</td>\n",
       "      <td>12491.902500</td>\n",
       "      <td>0.000000</td>\n",
       "    </tr>\n",
       "    <tr>\n",
       "      <th>50%</th>\n",
       "      <td>62.000000</td>\n",
       "      <td>430.600000</td>\n",
       "      <td>30.000000</td>\n",
       "      <td>16943.235000</td>\n",
       "      <td>0.000000</td>\n",
       "    </tr>\n",
       "    <tr>\n",
       "      <th>75%</th>\n",
       "      <td>82.000000</td>\n",
       "      <td>571.927500</td>\n",
       "      <td>57.000000</td>\n",
       "      <td>21424.700000</td>\n",
       "      <td>1.000000</td>\n",
       "    </tr>\n",
       "    <tr>\n",
       "      <th>max</th>\n",
       "      <td>244.000000</td>\n",
       "      <td>1632.060000</td>\n",
       "      <td>224.000000</td>\n",
       "      <td>49745.730000</td>\n",
       "      <td>1.000000</td>\n",
       "    </tr>\n",
       "  </tbody>\n",
       "</table>\n",
       "</div>"
      ],
      "text/plain": [
       "             calls      minutes     messages       mb_used     is_ultra\n",
       "count  3214.000000  3214.000000  3214.000000   3214.000000  3214.000000\n",
       "mean     63.038892   438.208787    38.281269  17207.673836     0.306472\n",
       "std      33.236368   234.569872    36.148326   7570.968246     0.461100\n",
       "min       0.000000     0.000000     0.000000      0.000000     0.000000\n",
       "25%      40.000000   274.575000     9.000000  12491.902500     0.000000\n",
       "50%      62.000000   430.600000    30.000000  16943.235000     0.000000\n",
       "75%      82.000000   571.927500    57.000000  21424.700000     1.000000\n",
       "max     244.000000  1632.060000   224.000000  49745.730000     1.000000"
      ]
     },
     "execution_count": 6,
     "metadata": {},
     "output_type": "execute_result"
    }
   ],
   "source": [
    "df.describe()"
   ]
  },
  {
   "cell_type": "code",
   "execution_count": 7,
   "metadata": {},
   "outputs": [
    {
     "data": {
      "text/html": [
       "<div>\n",
       "<style scoped>\n",
       "    .dataframe tbody tr th:only-of-type {\n",
       "        vertical-align: middle;\n",
       "    }\n",
       "\n",
       "    .dataframe tbody tr th {\n",
       "        vertical-align: top;\n",
       "    }\n",
       "\n",
       "    .dataframe thead th {\n",
       "        text-align: right;\n",
       "    }\n",
       "</style>\n",
       "<table border=\"1\" class=\"dataframe\">\n",
       "  <thead>\n",
       "    <tr style=\"text-align: right;\">\n",
       "      <th></th>\n",
       "      <th>calls</th>\n",
       "      <th>minutes</th>\n",
       "      <th>messages</th>\n",
       "      <th>mb_used</th>\n",
       "      <th>is_ultra</th>\n",
       "    </tr>\n",
       "  </thead>\n",
       "  <tbody>\n",
       "    <tr>\n",
       "      <th>calls</th>\n",
       "      <td>1.000000</td>\n",
       "      <td>0.982083</td>\n",
       "      <td>0.177385</td>\n",
       "      <td>0.286442</td>\n",
       "      <td>0.207122</td>\n",
       "    </tr>\n",
       "    <tr>\n",
       "      <th>minutes</th>\n",
       "      <td>0.982083</td>\n",
       "      <td>1.000000</td>\n",
       "      <td>0.173110</td>\n",
       "      <td>0.280967</td>\n",
       "      <td>0.206955</td>\n",
       "    </tr>\n",
       "    <tr>\n",
       "      <th>messages</th>\n",
       "      <td>0.177385</td>\n",
       "      <td>0.173110</td>\n",
       "      <td>1.000000</td>\n",
       "      <td>0.195721</td>\n",
       "      <td>0.203830</td>\n",
       "    </tr>\n",
       "    <tr>\n",
       "      <th>mb_used</th>\n",
       "      <td>0.286442</td>\n",
       "      <td>0.280967</td>\n",
       "      <td>0.195721</td>\n",
       "      <td>1.000000</td>\n",
       "      <td>0.198568</td>\n",
       "    </tr>\n",
       "    <tr>\n",
       "      <th>is_ultra</th>\n",
       "      <td>0.207122</td>\n",
       "      <td>0.206955</td>\n",
       "      <td>0.203830</td>\n",
       "      <td>0.198568</td>\n",
       "      <td>1.000000</td>\n",
       "    </tr>\n",
       "  </tbody>\n",
       "</table>\n",
       "</div>"
      ],
      "text/plain": [
       "             calls   minutes  messages   mb_used  is_ultra\n",
       "calls     1.000000  0.982083  0.177385  0.286442  0.207122\n",
       "minutes   0.982083  1.000000  0.173110  0.280967  0.206955\n",
       "messages  0.177385  0.173110  1.000000  0.195721  0.203830\n",
       "mb_used   0.286442  0.280967  0.195721  1.000000  0.198568\n",
       "is_ultra  0.207122  0.206955  0.203830  0.198568  1.000000"
      ]
     },
     "execution_count": 7,
     "metadata": {},
     "output_type": "execute_result"
    }
   ],
   "source": [
    "df.corr()"
   ]
  },
  {
   "cell_type": "code",
   "execution_count": 8,
   "metadata": {},
   "outputs": [
    {
     "name": "stdout",
     "output_type": "stream",
     "text": [
      "   index  is_ultra\n",
      "0      0  0.693528\n",
      "1      1  0.306472\n"
     ]
    }
   ],
   "source": [
    "#нашел такой вариант на stackoverflow для решения вопроса о сбалансированности выборки\n",
    "balance = df['is_ultra'].value_counts(normalize=True).reset_index()\n",
    "print(balance)\n",
    "\n",
    "#Тариф ультра встречается только в 30% случаях, а значит выборка не сбалансирована."
   ]
  },
  {
   "cell_type": "markdown",
   "metadata": {},
   "source": [
    "**Вывод:** В датасете 3214 строчки. Все этапы предобработки данных были выполненны заранее, поэтому в дополнительной предобработке датасет не нуждается. Медианные значения у всех пользователей в датасете: звонки - 62, минуты - 430.6 , смс - 30, использовано мегабайт - 16943.23. При изучении корреляции параметров датасета была вявленя полная корреляция столбцов calls и minutes. Для обучения модели желательно избавиться от одного из указанных столбцов т.к. эти признаки дублируют друг друга."
   ]
  },
  {
   "cell_type": "markdown",
   "metadata": {},
   "source": [
    "## Разбивка данных на выборки"
   ]
  },
  {
   "cell_type": "code",
   "execution_count": 9,
   "metadata": {},
   "outputs": [],
   "source": [
    "#Извлечение признаков и целевого признака для обучения модели\n",
    "features = df.drop('is_ultra', axis = 1)\n",
    "target = df['is_ultra']"
   ]
  },
  {
   "cell_type": "code",
   "execution_count": 10,
   "metadata": {},
   "outputs": [],
   "source": [
    "#Деление датасета на выборки\n",
    "features_train, X_rem, target_train, y_rem = train_test_split(\n",
    "    features, target, train_size=0.60, shuffle = False)\n",
    "\n",
    "features_valid, features_test, target_valid, target_test = train_test_split(\n",
    "    X_rem, y_rem, test_size=0.50)"
   ]
  },
  {
   "cell_type": "code",
   "execution_count": 11,
   "metadata": {},
   "outputs": [
    {
     "name": "stdout",
     "output_type": "stream",
     "text": [
      "(1928, 4) (643, 4) (643, 4)\n"
     ]
    }
   ],
   "source": [
    "print(features_train.shape, features_valid.shape, features_test.shape)"
   ]
  },
  {
   "cell_type": "code",
   "execution_count": 12,
   "metadata": {},
   "outputs": [
    {
     "name": "stdout",
     "output_type": "stream",
     "text": [
      "0    0.686722\n",
      "1    0.313278\n",
      "Name: is_ultra, dtype: float64\n"
     ]
    }
   ],
   "source": [
    "#Проверка сбалансированности выборки\n",
    "balance = target_train.value_counts(normalize=True)\n",
    "print(balance)"
   ]
  },
  {
   "cell_type": "code",
   "execution_count": 13,
   "metadata": {},
   "outputs": [
    {
     "name": "stdout",
     "output_type": "stream",
     "text": [
      "0    0.720062\n",
      "1    0.279938\n",
      "Name: is_ultra, dtype: float64\n"
     ]
    }
   ],
   "source": [
    "#Проверка сбалансированности выборки\n",
    "balance = target_valid.value_counts(normalize=True)\n",
    "print(balance)"
   ]
  },
  {
   "cell_type": "code",
   "execution_count": 14,
   "metadata": {},
   "outputs": [
    {
     "name": "stdout",
     "output_type": "stream",
     "text": [
      "0    0.687403\n",
      "1    0.312597\n",
      "Name: is_ultra, dtype: float64\n"
     ]
    }
   ],
   "source": [
    "#Проверка сбалансированности выборки\n",
    "balance = target_test.value_counts(normalize=True)\n",
    "print(balance)"
   ]
  },
  {
   "cell_type": "markdown",
   "metadata": {},
   "source": [
    "**Вывод:** Датасет был разделен на 3 части (обучающая, валидационная и тестовая выборки)."
   ]
  },
  {
   "cell_type": "markdown",
   "metadata": {},
   "source": [
    "## Исследование моделей"
   ]
  },
  {
   "cell_type": "code",
   "execution_count": 15,
   "metadata": {},
   "outputs": [
    {
     "name": "stdout",
     "output_type": "stream",
     "text": [
      "CPU times: user 88.1 ms, sys: 452 µs, total: 88.6 ms\n",
      "Wall time: 96.5 ms\n"
     ]
    }
   ],
   "source": [
    "%%time\n",
    "#Модель дерева решений\n",
    "\n",
    "#обнуление счетчиков\n",
    "best_model_tree = None\n",
    "best_result_tree = 0\n",
    "\n",
    "result_train_tree = []\n",
    "result_valid_tree = []\n",
    "\n",
    "#Цикл для поиска лучшей модели\n",
    "for depth in range(1, 11):\n",
    "    \n",
    "    model = DecisionTreeClassifier(max_depth=depth, random_state = 12345)\n",
    "    \n",
    "    model.fit(features_train, target_train) #Обучение\n",
    "    \n",
    "    #обучающая выборка\n",
    "    predictions_tree_train = model.predict(features_train) #Предсказание\n",
    "    result_train = accuracy_score(target_train, predictions_tree_train)   #Оценка предсказания\n",
    "    result_train_tree.append(result_train) #запись результата\n",
    "    \n",
    "    #валидационная выборка\n",
    "    predictions_tree_valid = model.predict(features_valid) #Предсказание\n",
    "    result_valid = accuracy_score(target_valid, predictions_tree_valid)   #Оценка предсказания\n",
    "    result_valid_tree.append(result_valid) #запись результата\n",
    "    \n",
    "    #Сохранение параметров лучшей модели \n",
    "    if result_valid > best_result_tree:\n",
    "        \n",
    "        best_model_tree = model\n",
    "        best_depth_tree = depth\n",
    "        best_result_tree = result_valid\n",
    "        "
   ]
  },
  {
   "cell_type": "code",
   "execution_count": 16,
   "metadata": {},
   "outputs": [
    {
     "name": "stdout",
     "output_type": "stream",
     "text": [
      "Наилучший рузультат модели дерева решений: 0.8164852255054432\n",
      "Кол-во деревьев в лучшей модели: 6\n",
      "DecisionTreeClassifier(max_depth=6, random_state=12345)\n"
     ]
    }
   ],
   "source": [
    "print('Наилучший рузультат модели дерева решений:', best_result_tree)\n",
    "print('Кол-во деревьев в лучшей модели:', best_depth_tree)\n",
    "print(best_model_tree)"
   ]
  },
  {
   "cell_type": "code",
   "execution_count": 17,
   "metadata": {},
   "outputs": [
    {
     "data": {
      "image/png": "[encoded data removed]",
      "text/plain": [
       "<Figure size 720x360 with 1 Axes>"
      ]
     },
     "metadata": {
      "needs_background": "light"
     },
     "output_type": "display_data"
    }
   ],
   "source": [
    "#визуальный поиск лучшей модели\n",
    "\n",
    "plt.figure(figsize =(10,5))\n",
    "\n",
    "plt.plot(result_train_tree, marker='o', linestyle='dashed')\n",
    "plt.plot(result_valid_tree, marker='o', linestyle='dashed')\n",
    "\n",
    "plt.grid(True)\n",
    "\n",
    "plt.xlabel('Кол-во деревьев')\n",
    "plt.ylabel('Оценка правильности предсказаний')\n",
    "plt.title('Сравнение результатов разных моделей')\n",
    "\n",
    "plt.legend(['train', 'valid'])\n",
    "\n",
    "plt.show()"
   ]
  },
  {
   "cell_type": "code",
   "execution_count": 18,
   "metadata": {},
   "outputs": [
    {
     "data": {
      "image/png": "[encoded data removed]",
      "text/plain": [
       "<Figure size 2160x1440 with 1 Axes>"
      ]
     },
     "metadata": {
      "needs_background": "light"
     },
     "output_type": "display_data"
    }
   ],
   "source": [
    "#Просмотр логики решений лучшей модели \n",
    "\n",
    "fig = plt.figure(figsize=(30,20))\n",
    "tree.plot_tree(best_model_tree, class_names=['Smart','Ultra'],\n",
    "               feature_names = ['calls', 'minutes', 'messages', 'mb_used'],\n",
    "               label = 'all',\n",
    "               proportion=False,\n",
    "               fontsize = 15, max_depth = 3,\n",
    "               filled = True)\n",
    "plt.show()"
   ]
  },
  {
   "cell_type": "code",
   "execution_count": 19,
   "metadata": {},
   "outputs": [
    {
     "name": "stdout",
     "output_type": "stream",
     "text": [
      "CPU times: user 3.71 s, sys: 30.2 ms, total: 3.74 s\n",
      "Wall time: 3.74 s\n"
     ]
    }
   ],
   "source": [
    "%%time\n",
    "#случайный лес\n",
    "\n",
    "#обнуление счетчиков\n",
    "best_model_rforest = None\n",
    "best_result_rforest = 0\n",
    "\n",
    "result_train_rforest = []\n",
    "result_valid_rforest = []\n",
    "\n",
    "#Цикл для поиска лучшей модели\n",
    "for est in range(10, 51, 10):\n",
    "    for depth in range (1, 11):\n",
    "        \n",
    "        model = RandomForestClassifier(random_state=12345, n_estimators=est, max_depth=depth)\n",
    "        \n",
    "        model.fit(features_train, target_train) #Обучение\n",
    "        \n",
    "        #обучающая выборка\n",
    "        predictions_rforest_train = model.predict(features_train) #Предсказание\n",
    "        result_train = accuracy_score(target_train, predictions_rforest_train) #Оценка предсказания\n",
    "        result_train_rforest.append(result_train) #запись результата\n",
    "        \n",
    "        #валидационная выборка\n",
    "        predictions_rforest_valid = model.predict(features_valid) #Предсказание\n",
    "        result_valid = accuracy_score(target_valid, predictions_rforest_valid) #Оценка предсказания\n",
    "        result_valid_rforest.append(result_valid) #запись результата\n",
    "        \n",
    "        \n",
    "        #Сохранение параметров лучшей модели \n",
    "        if result_valid > best_result_rforest:\n",
    "            \n",
    "            best_model_rforest = model \n",
    "            best_result_rforest = result_valid\n",
    "            best_est_rforest = est\n",
    "            best_depth_rforest = depth\n",
    "\n",
    "            "
   ]
  },
  {
   "cell_type": "code",
   "execution_count": 20,
   "metadata": {},
   "outputs": [
    {
     "name": "stdout",
     "output_type": "stream",
     "text": [
      "Наилучший рузультат модели \"случайный лес\": 0.8320373250388803\n",
      "Количество деревьев в модели: 10\n",
      "Количество листьев в модели: 9\n"
     ]
    }
   ],
   "source": [
    "print('Наилучший рузультат модели \"случайный лес\":', best_result_rforest)\n",
    "print('Количество деревьев в модели:', best_est_rforest)\n",
    "print('Количество листьев в модели:', best_depth_rforest)"
   ]
  },
  {
   "cell_type": "code",
   "execution_count": 25,
   "metadata": {},
   "outputs": [
    {
     "data": {
      "image/png": "[encoded data removed]",
      "text/plain": [
       "<Figure size 1080x720 with 2 Axes>"
      ]
     },
     "metadata": {
      "needs_background": "light"
     },
     "output_type": "display_data"
    }
   ],
   "source": [
    "#визуальный поиск лучшей модели\n",
    "\n",
    "result_valid_rforest = pd.DataFrame(data = result_valid_rforest, columns=['Точность'], index = range(1,51))\n",
    "\n",
    "plt.figure(figsize =(15,10))\n",
    "\n",
    "sns.heatmap(result_valid_rforest) #тепловая карта\n",
    "plt.title('Тепловая карта результатов модели', fontsize = 20) \n",
    "plt.ylabel('Кол-во деревьев + листья', fontsize = 15) \n",
    "\n",
    "plt.show()"
   ]
  },
  {
   "cell_type": "code",
   "execution_count": 22,
   "metadata": {},
   "outputs": [
    {
     "name": "stdout",
     "output_type": "stream",
     "text": [
      "CPU times: user 716 ms, sys: 8.3 ms, total: 724 ms\n",
      "Wall time: 743 ms\n"
     ]
    }
   ],
   "source": [
    "%%time\n",
    "#Логическая регрессия\n",
    "\n",
    "#обнуление счетчиков\n",
    "best_model_logic = None\n",
    "best_result_logic = 0\n",
    "\n",
    "result_train_logic = []\n",
    "result_valid_logic = []\n",
    "\n",
    "#Цикл для поиска лучшей модели\n",
    "for iters in range (100, 2000, 100):\n",
    "        \n",
    "    model = LogisticRegression(random_state = 12345, solver='lbfgs', max_iter = iters)\n",
    "        \n",
    "    model.fit(features_train, target_train) #Обучение \n",
    "    \n",
    "    predictions_logic_train = model.predict(features_train) #Предсказание \n",
    "    result_train = accuracy_score(target_train, predictions_logic_train) #Оценка предсказания\n",
    "    result_train_logic.append(result_train) #запись результата\n",
    "    \n",
    "\n",
    "    predictions_logic_valid = model.predict(features_valid) #Предсказание \n",
    "    result_valid = accuracy_score(target_valid, predictions_logic_valid) #Оценка предсказания\n",
    "    result_valid_logic.append(result_valid) #запись результата\n",
    "        \n",
    "    #Сохранение параметров лучшей модели \n",
    "    if result_valid > best_result_logic:\n",
    "            \n",
    "        best_model_logic = model \n",
    "        best_result_logic = result_valid\n",
    "        best_iter_logic = iters \n",
    "            \n"
   ]
  },
  {
   "cell_type": "code",
   "execution_count": 23,
   "metadata": {},
   "outputs": [
    {
     "name": "stdout",
     "output_type": "stream",
     "text": [
      "Наилучший рузультат модели \"логическая регрессия\": 0.7293934681181959\n",
      "Количество итераций в лучшем рузльтате: 100\n"
     ]
    }
   ],
   "source": [
    "print('Наилучший рузультат модели \"логическая регрессия\":', best_result_logic)\n",
    "print('Количество итераций в лучшем рузльтате:', best_iter_logic)"
   ]
  },
  {
   "cell_type": "markdown",
   "metadata": {},
   "source": [
    "**Вывод:** Наилучший результат на валидационной выборке показала модель \"случайный лес\" - 0.817, но для этого ей потребовалось создать 20 деревьев. Самое низкий результат, относительно остальных моделей, у логической регресии - 0.705, но лучший результат модели достигается всего при 100 итерациях. \"Дерево решений\" - лучший результат модели 0.80 при создании 4 деревьев."
   ]
  },
  {
   "cell_type": "markdown",
   "metadata": {},
   "source": [
    "## Проверка модели на тестовой выборке"
   ]
  },
  {
   "cell_type": "code",
   "execution_count": 24,
   "metadata": {},
   "outputs": [
    {
     "name": "stdout",
     "output_type": "stream",
     "text": [
      "Доля правильных ответов на тренировочной выборке (случайный лес): 0.8258164852255054\n",
      "CPU times: user 7.33 ms, sys: 0 ns, total: 7.33 ms\n",
      "Wall time: 6.9 ms\n"
     ]
    }
   ],
   "source": [
    "%%time\n",
    "#Случайный лес\n",
    "\n",
    "predictions_rforest_test = best_model_rforest.predict(features_test)\n",
    "result = accuracy_score(target_test, predictions_rforest_test)   \n",
    "\n",
    "print('Доля правильных ответов на тренировочной выборке (случайный лес):', result)"
   ]
  },
  {
   "cell_type": "code",
   "execution_count": 25,
   "metadata": {},
   "outputs": [],
   "source": [
    "#объеденение тренировочной и валидационной выборок\n",
    "features_con = pd.concat((features_train, features_valid), axis = 0)\n",
    "target_con = pd.concat((target_train, target_valid),axis =  0)"
   ]
  },
  {
   "cell_type": "code",
   "execution_count": 26,
   "metadata": {},
   "outputs": [
    {
     "name": "stdout",
     "output_type": "stream",
     "text": [
      "   calls  minutes  messages   mb_used\n",
      "0   40.0   311.90      83.0  19915.42\n",
      "1   85.0   516.75      56.0  22696.96\n",
      "2   77.0   467.66      86.0  21060.45\n",
      "3  106.0   745.53      81.0   8437.39\n",
      "4   66.0   418.74       1.0  14502.75 \n",
      "\n",
      " 0    0\n",
      "1    0\n",
      "2    0\n",
      "3    1\n",
      "4    0\n",
      "Name: is_ultra, dtype: int64\n"
     ]
    }
   ],
   "source": [
    "#проверка корректности после объеденения\n",
    "print(features_con.head(), f'\\n\\n', target_con.head())"
   ]
  },
  {
   "cell_type": "code",
   "execution_count": 27,
   "metadata": {},
   "outputs": [],
   "source": [
    "#проверка предсказания модели на тестовой выборке после обучения на объедененной\n",
    "test_RF = RandomForestClassifier(random_state=12345, n_estimators=best_est_rforest, max_depth=best_depth_rforest)\n",
    "test_RF.fit(features_con, target_con)\n",
    "\n",
    "predict = test_RF.predict(features_test) #предсказание\n",
    "result = accuracy_score(target_test, predict)#результат\n"
   ]
  },
  {
   "cell_type": "code",
   "execution_count": 28,
   "metadata": {
    "scrolled": true
   },
   "outputs": [
    {
     "name": "stdout",
     "output_type": "stream",
     "text": [
      "Результат модели натренированной на объедененной выборке: 0.8351477449455676\n"
     ]
    }
   ],
   "source": [
    "print('Результат модели натренированной на объедененной выборке:', result)"
   ]
  },
  {
   "cell_type": "markdown",
   "metadata": {},
   "source": [
    "**Вывод:** После обучения модели на объедененной выборке результат немного ухудшился."
   ]
  },
  {
   "cell_type": "markdown",
   "metadata": {},
   "source": [
    "## Проверка модели на адекватность"
   ]
  },
  {
   "cell_type": "code",
   "execution_count": 29,
   "metadata": {},
   "outputs": [
    {
     "name": "stdout",
     "output_type": "stream",
     "text": [
      "0    0.710731\n",
      "1    0.289269\n",
      "Name: is_ultra, dtype: float64\n"
     ]
    }
   ],
   "source": [
    "balance = target_test.value_counts(normalize=True)\n",
    "print(balance)"
   ]
  },
  {
   "cell_type": "code",
   "execution_count": 30,
   "metadata": {},
   "outputs": [
    {
     "data": {
      "text/plain": [
       "0.7107309486780715"
      ]
     },
     "execution_count": 30,
     "metadata": {},
     "output_type": "execute_result"
    }
   ],
   "source": [
    "dummy_clf = DummyClassifier(strategy=\"most_frequent\")\n",
    "\n",
    "dummy_clf.fit(features_test, target_test)\n",
    "\n",
    "dummy_clf.predict(features_test)\n",
    "\n",
    "dummy_clf.score(features_test, target_test)"
   ]
  },
  {
   "cell_type": "markdown",
   "metadata": {},
   "source": [
    "<div style=\"border:solid steelgreen 4px; padding: 20px; border-radius: 15px\">\n",
    "<h1>Итог:</h1>\n",
    "\n",
    ">В ходе работы были выполнены следующие операции:\n",
    ">>- Изучена общая информация о представленном датасете\n",
    ">>- Подготовленны обучающие и тренировочные выборки для обучения моделей\n",
    ">>- Исследованы результаты работы различных моделей\n",
    ">>- Проведено тестирование моделей на валидационной выборке\n",
    ">>- Проверены показатели метрики моделей\n",
    "   \n",
    "\n",
    "> В ходе исследования была выявлена самая лучшая модель для определения наилучшего тарифа для пользователей - \"Случайный лес\". У данной модели самый лучший показатель accuracy - 0.83. Данный моказатель был достигнуть при построении 30 деревьев по 4 ответвления в каждом.\n",
    "\n",
    ">Модель, ближе всего подходящая при оценке на адекватность - \"Логическая регрессия\"."
   ]
  }
 ],
 "metadata": {
  "ExecuteTimeLog": [
   {
    "duration": 1901,
    "start_time": "2023-04-20T12:59:04.982Z"
   },
   {
    "duration": 347,
    "start_time": "2023-04-20T13:00:19.264Z"
   },
   {
    "duration": 48,
    "start_time": "2023-04-20T13:00:47.212Z"
   },
   {
    "duration": 18,
    "start_time": "2023-04-20T13:00:53.071Z"
   },
   {
    "duration": 24,
    "start_time": "2023-04-20T13:01:03.853Z"
   },
   {
    "duration": 31,
    "start_time": "2023-04-20T13:01:33.855Z"
   },
   {
    "duration": 18,
    "start_time": "2023-04-20T13:01:37.795Z"
   },
   {
    "duration": 3,
    "start_time": "2023-04-20T13:02:29.413Z"
   },
   {
    "duration": 5,
    "start_time": "2023-04-20T13:10:44.308Z"
   },
   {
    "duration": 225,
    "start_time": "2023-04-20T13:11:11.859Z"
   },
   {
    "duration": 7,
    "start_time": "2023-04-20T13:11:31.600Z"
   },
   {
    "duration": 135,
    "start_time": "2023-04-20T13:28:35.661Z"
   },
   {
    "duration": 142,
    "start_time": "2023-04-20T13:29:05.086Z"
   },
   {
    "duration": 88,
    "start_time": "2023-04-20T13:29:36.561Z"
   },
   {
    "duration": 220,
    "start_time": "2023-04-20T13:29:40.856Z"
   },
   {
    "duration": 413,
    "start_time": "2023-04-20T13:29:47.660Z"
   },
   {
    "duration": 520,
    "start_time": "2023-04-20T13:30:24.944Z"
   },
   {
    "duration": 449,
    "start_time": "2023-04-20T13:30:36.411Z"
   },
   {
    "duration": 125,
    "start_time": "2023-04-20T13:30:45.952Z"
   },
   {
    "duration": 331,
    "start_time": "2023-04-20T13:30:52.780Z"
   },
   {
    "duration": 136,
    "start_time": "2023-04-20T13:30:58.080Z"
   },
   {
    "duration": 155,
    "start_time": "2023-04-20T13:32:37.509Z"
   },
   {
    "duration": 700,
    "start_time": "2023-04-20T13:33:08.560Z"
   },
   {
    "duration": 189,
    "start_time": "2023-04-20T13:33:15.103Z"
   },
   {
    "duration": 241,
    "start_time": "2023-04-20T13:33:23.041Z"
   },
   {
    "duration": 556,
    "start_time": "2023-04-20T13:33:26.833Z"
   },
   {
    "duration": 169,
    "start_time": "2023-04-20T13:33:33.027Z"
   },
   {
    "duration": 161,
    "start_time": "2023-04-20T13:36:02.161Z"
   },
   {
    "duration": 5591,
    "start_time": "2023-04-20T13:41:38.696Z"
   },
   {
    "duration": 6029,
    "start_time": "2023-04-20T13:43:00.997Z"
   },
   {
    "duration": 6128,
    "start_time": "2023-04-20T13:43:17.598Z"
   },
   {
    "duration": 155,
    "start_time": "2023-04-20T13:45:23.335Z"
   },
   {
    "duration": 131,
    "start_time": "2023-04-20T13:45:25.963Z"
   },
   {
    "duration": 8007,
    "start_time": "2023-04-20T13:45:35.280Z"
   },
   {
    "duration": 8006,
    "start_time": "2023-04-20T13:47:02.645Z"
   },
   {
    "duration": 7632,
    "start_time": "2023-04-20T13:48:38.897Z"
   },
   {
    "duration": 8187,
    "start_time": "2023-04-20T13:48:51.229Z"
   },
   {
    "duration": 134,
    "start_time": "2023-04-20T13:48:59.418Z"
   },
   {
    "duration": 125,
    "start_time": "2023-04-20T13:49:03.193Z"
   },
   {
    "duration": 4732,
    "start_time": "2023-04-20T13:49:17.684Z"
   },
   {
    "duration": 7346,
    "start_time": "2023-04-20T13:49:31.189Z"
   },
   {
    "duration": 7542,
    "start_time": "2023-04-20T13:49:59.989Z"
   },
   {
    "duration": 6268,
    "start_time": "2023-04-20T13:50:11.510Z"
   },
   {
    "duration": 58081,
    "start_time": "2023-04-20T14:02:07.504Z"
   },
   {
    "duration": 6698,
    "start_time": "2023-04-20T14:03:21.086Z"
   },
   {
    "duration": 6512,
    "start_time": "2023-04-20T14:03:35.669Z"
   },
   {
    "duration": 469,
    "start_time": "2023-04-20T14:06:41.389Z"
   },
   {
    "duration": 626,
    "start_time": "2023-04-20T14:06:52.778Z"
   },
   {
    "duration": 551,
    "start_time": "2023-04-20T14:06:58.797Z"
   },
   {
    "duration": 615,
    "start_time": "2023-04-20T14:07:21.997Z"
   },
   {
    "duration": 46,
    "start_time": "2023-04-20T14:07:39.378Z"
   },
   {
    "duration": 61,
    "start_time": "2023-04-20T14:07:59.358Z"
   },
   {
    "duration": 797,
    "start_time": "2023-04-20T14:08:07.394Z"
   },
   {
    "duration": 54,
    "start_time": "2023-04-20T14:09:25.038Z"
   },
   {
    "duration": 10221,
    "start_time": "2023-04-20T14:12:53.317Z"
   },
   {
    "duration": 13331,
    "start_time": "2023-04-20T14:13:21.117Z"
   },
   {
    "duration": 7799,
    "start_time": "2023-04-20T14:14:04.217Z"
   },
   {
    "duration": 9665,
    "start_time": "2023-04-20T14:14:47.404Z"
   },
   {
    "duration": 41560,
    "start_time": "2023-04-20T14:15:47.012Z"
   },
   {
    "duration": 10712,
    "start_time": "2023-04-20T14:16:32.121Z"
   },
   {
    "duration": 22,
    "start_time": "2023-04-20T14:22:07.679Z"
   },
   {
    "duration": 121,
    "start_time": "2023-04-20T14:22:31.761Z"
   },
   {
    "duration": 125,
    "start_time": "2023-04-20T14:23:52.407Z"
   },
   {
    "duration": 73,
    "start_time": "2023-04-20T14:23:58.854Z"
   },
   {
    "duration": 77,
    "start_time": "2023-04-20T14:25:01.663Z"
   },
   {
    "duration": 15,
    "start_time": "2023-04-20T14:25:27.993Z"
   },
   {
    "duration": 105,
    "start_time": "2023-04-20T14:25:29.191Z"
   },
   {
    "duration": 6772,
    "start_time": "2023-04-20T14:25:30.228Z"
   },
   {
    "duration": 523,
    "start_time": "2023-04-20T14:25:39.786Z"
   },
   {
    "duration": 33,
    "start_time": "2023-04-20T14:25:42.818Z"
   },
   {
    "duration": 19,
    "start_time": "2023-04-20T14:25:44.595Z"
   },
   {
    "duration": 12,
    "start_time": "2023-04-20T14:25:45.706Z"
   },
   {
    "duration": 21,
    "start_time": "2023-04-20T14:25:53.963Z"
   },
   {
    "duration": 75,
    "start_time": "2023-04-20T14:28:38.378Z"
   },
   {
    "duration": 116,
    "start_time": "2023-04-20T14:28:47.836Z"
   },
   {
    "duration": 28,
    "start_time": "2023-04-20T14:28:55.098Z"
   },
   {
    "duration": 88,
    "start_time": "2023-04-20T18:21:57.743Z"
   },
   {
    "duration": 77,
    "start_time": "2023-04-20T18:45:30.176Z"
   },
   {
    "duration": 1288,
    "start_time": "2023-04-20T18:45:35.038Z"
   },
   {
    "duration": 73,
    "start_time": "2023-04-20T18:45:36.329Z"
   },
   {
    "duration": 28,
    "start_time": "2023-04-20T18:45:36.405Z"
   },
   {
    "duration": 13,
    "start_time": "2023-04-20T18:45:36.435Z"
   },
   {
    "duration": 30,
    "start_time": "2023-04-20T18:45:36.450Z"
   },
   {
    "duration": 10,
    "start_time": "2023-04-20T18:45:36.482Z"
   },
   {
    "duration": 79,
    "start_time": "2023-04-20T18:45:39.765Z"
   },
   {
    "duration": 88,
    "start_time": "2023-04-20T18:45:46.777Z"
   },
   {
    "duration": 7,
    "start_time": "2023-04-20T18:45:48.485Z"
   },
   {
    "duration": 7,
    "start_time": "2023-04-20T18:47:42.962Z"
   },
   {
    "duration": 6,
    "start_time": "2023-04-20T18:48:36.281Z"
   },
   {
    "duration": 108,
    "start_time": "2023-04-20T18:54:31.136Z"
   },
   {
    "duration": 4,
    "start_time": "2023-04-20T18:54:33.347Z"
   },
   {
    "duration": 41,
    "start_time": "2023-04-20T18:54:46.254Z"
   },
   {
    "duration": 4,
    "start_time": "2023-04-20T18:54:46.860Z"
   },
   {
    "duration": 35,
    "start_time": "2023-04-20T18:55:35.405Z"
   },
   {
    "duration": 4,
    "start_time": "2023-04-20T18:55:35.907Z"
   },
   {
    "duration": 45,
    "start_time": "2023-04-20T18:55:39.938Z"
   },
   {
    "duration": 4,
    "start_time": "2023-04-20T18:55:40.802Z"
   },
   {
    "duration": 21,
    "start_time": "2023-04-20T18:55:44.203Z"
   },
   {
    "duration": 3,
    "start_time": "2023-04-20T18:55:45.125Z"
   },
   {
    "duration": 645,
    "start_time": "2023-04-20T18:55:49.687Z"
   },
   {
    "duration": 4,
    "start_time": "2023-04-20T18:55:50.605Z"
   },
   {
    "duration": 36,
    "start_time": "2023-04-20T18:55:58.775Z"
   },
   {
    "duration": 4,
    "start_time": "2023-04-20T18:55:59.134Z"
   },
   {
    "duration": 4,
    "start_time": "2023-04-20T18:56:47.800Z"
   },
   {
    "duration": 5512,
    "start_time": "2023-04-20T18:59:50.259Z"
   },
   {
    "duration": 86,
    "start_time": "2023-04-20T18:59:55.774Z"
   },
   {
    "duration": 71,
    "start_time": "2023-04-20T18:59:59.724Z"
   },
   {
    "duration": 5012,
    "start_time": "2023-04-20T19:00:01.734Z"
   },
   {
    "duration": 4,
    "start_time": "2023-04-20T19:00:16.385Z"
   },
   {
    "duration": 101,
    "start_time": "2023-04-20T19:00:41.131Z"
   },
   {
    "duration": 3,
    "start_time": "2023-04-20T19:00:53.685Z"
   },
   {
    "duration": 111,
    "start_time": "2023-04-20T19:01:00.077Z"
   },
   {
    "duration": 78,
    "start_time": "2023-04-20T19:01:14.675Z"
   },
   {
    "duration": 111,
    "start_time": "2023-04-20T19:01:20.760Z"
   },
   {
    "duration": 81,
    "start_time": "2023-04-20T19:01:30.269Z"
   },
   {
    "duration": 11,
    "start_time": "2023-04-20T19:01:39.883Z"
   },
   {
    "duration": 73,
    "start_time": "2023-04-20T19:01:47.608Z"
   },
   {
    "duration": 9,
    "start_time": "2023-04-20T19:01:52.755Z"
   },
   {
    "duration": 3,
    "start_time": "2023-04-20T19:02:02.409Z"
   },
   {
    "duration": 75,
    "start_time": "2023-04-20T19:02:55.560Z"
   },
   {
    "duration": 10,
    "start_time": "2023-04-20T19:03:00.684Z"
   },
   {
    "duration": 5,
    "start_time": "2023-04-20T19:03:09.790Z"
   },
   {
    "duration": 4,
    "start_time": "2023-04-20T19:03:14.064Z"
   },
   {
    "duration": 4,
    "start_time": "2023-04-20T19:03:23.726Z"
   },
   {
    "duration": 6,
    "start_time": "2023-04-20T19:03:30.730Z"
   },
   {
    "duration": 5,
    "start_time": "2023-04-20T19:03:46.849Z"
   },
   {
    "duration": 4,
    "start_time": "2023-04-20T19:03:58.305Z"
   },
   {
    "duration": 4,
    "start_time": "2023-04-20T19:04:04.520Z"
   },
   {
    "duration": 73,
    "start_time": "2023-04-20T19:04:31.746Z"
   },
   {
    "duration": 5,
    "start_time": "2023-04-20T19:05:54.791Z"
   },
   {
    "duration": 4,
    "start_time": "2023-04-20T19:06:12.912Z"
   },
   {
    "duration": 10191,
    "start_time": "2023-04-20T19:10:58.012Z"
   },
   {
    "duration": 12,
    "start_time": "2023-04-20T19:11:08.291Z"
   },
   {
    "duration": 1074,
    "start_time": "2023-04-20T19:11:42.831Z"
   },
   {
    "duration": 4,
    "start_time": "2023-04-20T19:11:46.372Z"
   },
   {
    "duration": 3368,
    "start_time": "2023-04-20T19:11:52.326Z"
   },
   {
    "duration": 3,
    "start_time": "2023-04-20T19:11:55.697Z"
   },
   {
    "duration": 12,
    "start_time": "2023-04-20T19:14:39.049Z"
   },
   {
    "duration": 4723,
    "start_time": "2023-04-20T19:14:40.966Z"
   },
   {
    "duration": 5,
    "start_time": "2023-04-20T19:14:47.057Z"
   },
   {
    "duration": 3,
    "start_time": "2023-04-20T19:15:15.910Z"
   },
   {
    "duration": 48,
    "start_time": "2023-04-20T19:15:15.915Z"
   },
   {
    "duration": 13,
    "start_time": "2023-04-20T19:15:15.965Z"
   },
   {
    "duration": 25,
    "start_time": "2023-04-20T19:15:15.979Z"
   },
   {
    "duration": 28,
    "start_time": "2023-04-20T19:15:16.006Z"
   },
   {
    "duration": 26,
    "start_time": "2023-04-20T19:15:16.036Z"
   },
   {
    "duration": 15,
    "start_time": "2023-04-20T19:15:16.064Z"
   },
   {
    "duration": 58,
    "start_time": "2023-04-20T19:15:16.081Z"
   },
   {
    "duration": 4,
    "start_time": "2023-04-20T19:15:16.141Z"
   },
   {
    "duration": 4995,
    "start_time": "2023-04-20T19:15:16.147Z"
   },
   {
    "duration": 5,
    "start_time": "2023-04-20T19:15:21.144Z"
   },
   {
    "duration": 4248,
    "start_time": "2023-04-20T19:15:21.151Z"
   },
   {
    "duration": 6,
    "start_time": "2023-04-20T19:15:25.491Z"
   },
   {
    "duration": 41,
    "start_time": "2023-04-20T19:19:27.107Z"
   },
   {
    "duration": 36,
    "start_time": "2023-04-20T19:19:41.425Z"
   },
   {
    "duration": 61,
    "start_time": "2023-04-20T19:19:51.395Z"
   },
   {
    "duration": 4929,
    "start_time": "2023-04-20T19:20:04.122Z"
   },
   {
    "duration": 5,
    "start_time": "2023-04-20T19:20:09.053Z"
   },
   {
    "duration": 8,
    "start_time": "2023-04-20T19:30:30.294Z"
   },
   {
    "duration": 7,
    "start_time": "2023-04-20T19:31:18.078Z"
   },
   {
    "duration": 17,
    "start_time": "2023-04-20T19:32:18.883Z"
   },
   {
    "duration": 7,
    "start_time": "2023-04-20T19:35:18.826Z"
   },
   {
    "duration": 8,
    "start_time": "2023-04-20T19:35:29.180Z"
   },
   {
    "duration": 17,
    "start_time": "2023-04-20T19:35:30.534Z"
   },
   {
    "duration": 7,
    "start_time": "2023-04-20T19:35:31.480Z"
   },
   {
    "duration": 6,
    "start_time": "2023-04-20T19:35:59.215Z"
   },
   {
    "duration": 17,
    "start_time": "2023-04-20T19:36:07.743Z"
   },
   {
    "duration": 6,
    "start_time": "2023-04-20T19:36:13.501Z"
   },
   {
    "duration": 32,
    "start_time": "2023-04-20T19:54:43.517Z"
   },
   {
    "duration": 7,
    "start_time": "2023-04-20T19:55:28.593Z"
   },
   {
    "duration": 7,
    "start_time": "2023-04-20T19:55:41.789Z"
   },
   {
    "duration": 7,
    "start_time": "2023-04-20T19:55:42.520Z"
   },
   {
    "duration": 6,
    "start_time": "2023-04-20T19:57:49.617Z"
   },
   {
    "duration": 4838,
    "start_time": "2023-04-20T19:58:01.731Z"
   },
   {
    "duration": 4815,
    "start_time": "2023-04-20T19:58:32.144Z"
   },
   {
    "duration": 4821,
    "start_time": "2023-04-20T19:58:39.510Z"
   },
   {
    "duration": 37,
    "start_time": "2023-04-20T19:58:47.732Z"
   },
   {
    "duration": 4625,
    "start_time": "2023-04-20T19:58:59.674Z"
   },
   {
    "duration": 4928,
    "start_time": "2023-04-20T19:59:22.453Z"
   },
   {
    "duration": 5010,
    "start_time": "2023-04-20T19:59:28.738Z"
   },
   {
    "duration": 4939,
    "start_time": "2023-04-20T19:59:38.273Z"
   },
   {
    "duration": 37,
    "start_time": "2023-04-20T19:59:43.214Z"
   },
   {
    "duration": 5395,
    "start_time": "2023-04-20T19:59:45.539Z"
   },
   {
    "duration": 41,
    "start_time": "2023-04-20T19:59:50.936Z"
   },
   {
    "duration": 46,
    "start_time": "2023-04-20T19:59:52.306Z"
   },
   {
    "duration": 55,
    "start_time": "2023-04-20T19:59:53.901Z"
   },
   {
    "duration": 39,
    "start_time": "2023-04-20T19:59:57.019Z"
   },
   {
    "duration": 5060,
    "start_time": "2023-04-20T20:00:04.479Z"
   },
   {
    "duration": 6157,
    "start_time": "2023-04-20T20:00:09.542Z"
   },
   {
    "duration": 5009,
    "start_time": "2023-04-20T20:00:15.791Z"
   },
   {
    "duration": 5057,
    "start_time": "2023-04-20T20:01:08.574Z"
   },
   {
    "duration": 4912,
    "start_time": "2023-04-20T20:01:51.819Z"
   },
   {
    "duration": 4863,
    "start_time": "2023-04-20T20:02:20.873Z"
   },
   {
    "duration": 4886,
    "start_time": "2023-04-20T20:02:57.984Z"
   },
   {
    "duration": 4899,
    "start_time": "2023-04-20T20:03:15.042Z"
   },
   {
    "duration": 4,
    "start_time": "2023-04-20T20:04:01.363Z"
   },
   {
    "duration": 5005,
    "start_time": "2023-04-20T20:04:29.813Z"
   },
   {
    "duration": 4995,
    "start_time": "2023-04-20T20:04:37.378Z"
   },
   {
    "duration": 37,
    "start_time": "2023-04-20T20:04:45.933Z"
   },
   {
    "duration": 5380,
    "start_time": "2023-04-20T20:04:50.610Z"
   },
   {
    "duration": 4563,
    "start_time": "2023-04-20T20:04:58.925Z"
   },
   {
    "duration": 36,
    "start_time": "2023-04-20T20:05:44.517Z"
   },
   {
    "duration": 7,
    "start_time": "2023-04-20T20:06:43.003Z"
   },
   {
    "duration": 17,
    "start_time": "2023-04-20T20:06:44.055Z"
   },
   {
    "duration": 7,
    "start_time": "2023-04-20T20:06:45.045Z"
   },
   {
    "duration": 10,
    "start_time": "2023-04-20T20:11:31.442Z"
   },
   {
    "duration": 3,
    "start_time": "2023-04-20T20:11:38.986Z"
   },
   {
    "duration": 14,
    "start_time": "2023-04-20T20:11:44.249Z"
   },
   {
    "duration": 7,
    "start_time": "2023-04-20T20:11:47.889Z"
   },
   {
    "duration": 10,
    "start_time": "2023-04-20T20:12:31.335Z"
   },
   {
    "duration": 4,
    "start_time": "2023-04-20T20:14:05.416Z"
   },
   {
    "duration": 10,
    "start_time": "2023-04-20T20:14:29.506Z"
   },
   {
    "duration": 10,
    "start_time": "2023-04-20T20:14:39.476Z"
   },
   {
    "duration": 10,
    "start_time": "2023-04-20T20:14:44.399Z"
   },
   {
    "duration": 10,
    "start_time": "2023-04-20T20:15:35.773Z"
   },
   {
    "duration": 9,
    "start_time": "2023-04-20T20:15:46.321Z"
   },
   {
    "duration": 12,
    "start_time": "2023-04-20T20:17:19.045Z"
   },
   {
    "duration": 14,
    "start_time": "2023-04-20T20:17:26.037Z"
   },
   {
    "duration": 21,
    "start_time": "2023-04-20T20:17:44.782Z"
   },
   {
    "duration": 14,
    "start_time": "2023-04-20T20:18:02.992Z"
   },
   {
    "duration": 10,
    "start_time": "2023-04-20T20:18:21.790Z"
   },
   {
    "duration": 12,
    "start_time": "2023-04-20T20:21:38.025Z"
   },
   {
    "duration": 13,
    "start_time": "2023-04-20T20:21:48.218Z"
   },
   {
    "duration": 9,
    "start_time": "2023-04-20T20:27:23.686Z"
   },
   {
    "duration": 5,
    "start_time": "2023-04-20T20:27:40.946Z"
   },
   {
    "duration": 15,
    "start_time": "2023-04-20T20:30:56.423Z"
   },
   {
    "duration": 13,
    "start_time": "2023-04-20T20:31:12.038Z"
   },
   {
    "duration": 15,
    "start_time": "2023-04-20T20:31:14.958Z"
   },
   {
    "duration": 6,
    "start_time": "2023-04-20T20:31:18.560Z"
   },
   {
    "duration": 7,
    "start_time": "2023-04-20T20:33:33.266Z"
   },
   {
    "duration": 7,
    "start_time": "2023-04-20T20:33:39.854Z"
   },
   {
    "duration": 7,
    "start_time": "2023-04-20T20:33:44.371Z"
   },
   {
    "duration": 8,
    "start_time": "2023-04-20T20:35:43.980Z"
   },
   {
    "duration": 98,
    "start_time": "2023-04-20T20:35:44.845Z"
   },
   {
    "duration": 7,
    "start_time": "2023-04-20T20:35:51.019Z"
   },
   {
    "duration": 8,
    "start_time": "2023-04-20T20:36:24.690Z"
   },
   {
    "duration": 93,
    "start_time": "2023-04-20T20:36:25.672Z"
   },
   {
    "duration": 7,
    "start_time": "2023-04-20T20:36:30.881Z"
   },
   {
    "duration": 73,
    "start_time": "2023-04-20T20:39:22.512Z"
   },
   {
    "duration": 8,
    "start_time": "2023-04-20T20:39:38.469Z"
   },
   {
    "duration": 9,
    "start_time": "2023-04-20T20:41:00.585Z"
   },
   {
    "duration": 12,
    "start_time": "2023-04-20T20:41:30.615Z"
   },
   {
    "duration": 8,
    "start_time": "2023-04-20T20:41:31.333Z"
   },
   {
    "duration": 9,
    "start_time": "2023-04-20T20:41:32.051Z"
   },
   {
    "duration": 3,
    "start_time": "2023-04-20T21:00:30.120Z"
   },
   {
    "duration": 4,
    "start_time": "2023-04-20T21:03:13.203Z"
   },
   {
    "duration": 44,
    "start_time": "2023-04-20T21:03:13.209Z"
   },
   {
    "duration": 12,
    "start_time": "2023-04-20T21:03:13.254Z"
   },
   {
    "duration": 30,
    "start_time": "2023-04-20T21:03:13.268Z"
   },
   {
    "duration": 20,
    "start_time": "2023-04-20T21:03:13.301Z"
   },
   {
    "duration": 41,
    "start_time": "2023-04-20T21:03:13.323Z"
   },
   {
    "duration": 14,
    "start_time": "2023-04-20T21:03:13.365Z"
   },
   {
    "duration": 54,
    "start_time": "2023-04-20T21:03:13.381Z"
   },
   {
    "duration": 4,
    "start_time": "2023-04-20T21:03:13.437Z"
   },
   {
    "duration": 13,
    "start_time": "2023-04-20T21:03:13.443Z"
   },
   {
    "duration": 5031,
    "start_time": "2023-04-20T21:03:13.458Z"
   },
   {
    "duration": 5,
    "start_time": "2023-04-20T21:03:18.491Z"
   },
   {
    "duration": 5898,
    "start_time": "2023-04-20T21:03:18.498Z"
   },
   {
    "duration": 6,
    "start_time": "2023-04-20T21:03:24.404Z"
   },
   {
    "duration": 15,
    "start_time": "2023-04-20T21:03:24.489Z"
   },
   {
    "duration": 100,
    "start_time": "2023-04-20T21:03:24.509Z"
   },
   {
    "duration": 10,
    "start_time": "2023-04-20T21:03:24.611Z"
   },
   {
    "duration": 26,
    "start_time": "2023-04-20T21:03:24.623Z"
   },
   {
    "duration": 10,
    "start_time": "2023-04-20T21:03:24.650Z"
   },
   {
    "duration": 7,
    "start_time": "2023-04-20T21:03:24.662Z"
   },
   {
    "duration": 2861,
    "start_time": "2023-04-21T10:00:41.573Z"
   },
   {
    "duration": 32,
    "start_time": "2023-04-21T10:00:44.437Z"
   },
   {
    "duration": 23,
    "start_time": "2023-04-21T10:00:44.472Z"
   },
   {
    "duration": 20,
    "start_time": "2023-04-21T10:00:44.498Z"
   },
   {
    "duration": 22,
    "start_time": "2023-04-21T10:00:44.520Z"
   },
   {
    "duration": 13,
    "start_time": "2023-04-21T10:00:44.544Z"
   },
   {
    "duration": 6,
    "start_time": "2023-04-21T10:00:44.560Z"
   },
   {
    "duration": 54,
    "start_time": "2023-04-21T10:00:44.569Z"
   },
   {
    "duration": 4,
    "start_time": "2023-04-21T10:00:44.625Z"
   },
   {
    "duration": 18,
    "start_time": "2023-04-21T10:00:44.632Z"
   },
   {
    "duration": 4624,
    "start_time": "2023-04-21T10:00:44.653Z"
   },
   {
    "duration": 6,
    "start_time": "2023-04-21T10:00:49.279Z"
   },
   {
    "duration": 151,
    "start_time": "2023-04-21T10:00:49.287Z"
   },
   {
    "duration": 0,
    "start_time": "2023-04-21T10:00:49.440Z"
   },
   {
    "duration": 0,
    "start_time": "2023-04-21T10:00:49.441Z"
   },
   {
    "duration": 0,
    "start_time": "2023-04-21T10:00:49.443Z"
   },
   {
    "duration": 0,
    "start_time": "2023-04-21T10:00:49.444Z"
   },
   {
    "duration": 0,
    "start_time": "2023-04-21T10:00:49.446Z"
   },
   {
    "duration": 0,
    "start_time": "2023-04-21T10:00:49.447Z"
   },
   {
    "duration": 81,
    "start_time": "2023-04-21T10:38:48.053Z"
   },
   {
    "duration": 60,
    "start_time": "2023-04-21T10:38:53.605Z"
   },
   {
    "duration": 75,
    "start_time": "2023-04-21T10:38:59.045Z"
   },
   {
    "duration": 72,
    "start_time": "2023-04-21T11:10:51.470Z"
   },
   {
    "duration": 187,
    "start_time": "2023-04-21T11:16:54.348Z"
   },
   {
    "duration": 1412,
    "start_time": "2023-04-21T11:22:52.121Z"
   },
   {
    "duration": 139,
    "start_time": "2023-04-21T11:24:02.275Z"
   },
   {
    "duration": 5,
    "start_time": "2023-04-21T11:24:07.320Z"
   },
   {
    "duration": 151,
    "start_time": "2023-04-21T11:24:08.818Z"
   },
   {
    "duration": 50,
    "start_time": "2023-04-21T11:24:10.363Z"
   },
   {
    "duration": 17,
    "start_time": "2023-04-21T11:24:12.609Z"
   },
   {
    "duration": 34,
    "start_time": "2023-04-21T11:24:14.020Z"
   },
   {
    "duration": 15,
    "start_time": "2023-04-21T11:25:52.348Z"
   },
   {
    "duration": 1640,
    "start_time": "2023-04-21T11:42:12.797Z"
   },
   {
    "duration": 611,
    "start_time": "2023-04-21T11:42:24.621Z"
   },
   {
    "duration": 890,
    "start_time": "2023-04-21T11:42:33.942Z"
   },
   {
    "duration": 1096,
    "start_time": "2023-04-21T11:42:57.213Z"
   },
   {
    "duration": 875,
    "start_time": "2023-04-21T11:43:22.159Z"
   },
   {
    "duration": 14,
    "start_time": "2023-04-21T11:44:28.544Z"
   },
   {
    "duration": 1273,
    "start_time": "2023-04-21T11:44:46.566Z"
   },
   {
    "duration": 818,
    "start_time": "2023-04-21T11:46:26.174Z"
   },
   {
    "duration": 14,
    "start_time": "2023-04-21T11:46:41.207Z"
   },
   {
    "duration": 1175,
    "start_time": "2023-04-21T11:47:03.207Z"
   },
   {
    "duration": 807,
    "start_time": "2023-04-21T11:47:57.463Z"
   },
   {
    "duration": 928,
    "start_time": "2023-04-21T11:48:10.505Z"
   },
   {
    "duration": 921,
    "start_time": "2023-04-21T11:48:35.790Z"
   },
   {
    "duration": 12,
    "start_time": "2023-04-21T11:48:54.407Z"
   },
   {
    "duration": 1789,
    "start_time": "2023-04-21T11:49:17.975Z"
   },
   {
    "duration": 19,
    "start_time": "2023-04-21T11:50:09.511Z"
   },
   {
    "duration": 170,
    "start_time": "2023-04-21T11:50:22.863Z"
   },
   {
    "duration": 109,
    "start_time": "2023-04-21T11:50:39.279Z"
   },
   {
    "duration": 165,
    "start_time": "2023-04-21T11:50:54.008Z"
   },
   {
    "duration": 11,
    "start_time": "2023-04-21T11:51:00.912Z"
   },
   {
    "duration": 11,
    "start_time": "2023-04-21T11:51:15.439Z"
   },
   {
    "duration": 11,
    "start_time": "2023-04-21T11:51:18.550Z"
   },
   {
    "duration": 146,
    "start_time": "2023-04-21T11:51:29.295Z"
   },
   {
    "duration": 225,
    "start_time": "2023-04-21T11:51:59.752Z"
   },
   {
    "duration": 14,
    "start_time": "2023-04-21T11:52:09.913Z"
   },
   {
    "duration": 16,
    "start_time": "2023-04-21T11:52:14.047Z"
   },
   {
    "duration": 10,
    "start_time": "2023-04-21T11:52:23.552Z"
   },
   {
    "duration": 165,
    "start_time": "2023-04-21T11:52:37.248Z"
   },
   {
    "duration": 151,
    "start_time": "2023-04-21T11:53:51.814Z"
   },
   {
    "duration": 11,
    "start_time": "2023-04-21T11:54:12.335Z"
   },
   {
    "duration": 14,
    "start_time": "2023-04-21T11:54:23.517Z"
   },
   {
    "duration": 128,
    "start_time": "2023-04-21T11:57:02.829Z"
   },
   {
    "duration": 131,
    "start_time": "2023-04-21T11:57:23.918Z"
   },
   {
    "duration": 146,
    "start_time": "2023-04-21T11:57:27.685Z"
   },
   {
    "duration": 155,
    "start_time": "2023-04-21T11:57:37.818Z"
   },
   {
    "duration": 15,
    "start_time": "2023-04-21T11:57:54.628Z"
   },
   {
    "duration": 1357,
    "start_time": "2023-04-21T11:58:04.916Z"
   },
   {
    "duration": 444,
    "start_time": "2023-04-21T11:58:12.727Z"
   },
   {
    "duration": 150,
    "start_time": "2023-04-21T11:59:33.643Z"
   },
   {
    "duration": 130,
    "start_time": "2023-04-21T11:59:45.294Z"
   },
   {
    "duration": 16,
    "start_time": "2023-04-21T11:59:52.962Z"
   },
   {
    "duration": 13,
    "start_time": "2023-04-21T11:59:56.282Z"
   },
   {
    "duration": 12,
    "start_time": "2023-04-21T12:02:15.673Z"
   },
   {
    "duration": 14,
    "start_time": "2023-04-21T12:02:25.129Z"
   },
   {
    "duration": 14,
    "start_time": "2023-04-21T12:02:28.843Z"
   },
   {
    "duration": 14,
    "start_time": "2023-04-21T12:02:35.328Z"
   },
   {
    "duration": 12,
    "start_time": "2023-04-21T12:03:06.960Z"
   },
   {
    "duration": 16,
    "start_time": "2023-04-21T12:03:16.688Z"
   },
   {
    "duration": 15,
    "start_time": "2023-04-21T12:03:33.184Z"
   },
   {
    "duration": 178,
    "start_time": "2023-04-21T12:03:48.966Z"
   },
   {
    "duration": 164,
    "start_time": "2023-04-21T12:03:55.615Z"
   },
   {
    "duration": 6,
    "start_time": "2023-04-21T12:04:14.512Z"
   },
   {
    "duration": 4,
    "start_time": "2023-04-21T12:04:27.976Z"
   },
   {
    "duration": 17,
    "start_time": "2023-04-21T12:04:43.671Z"
   },
   {
    "duration": 22,
    "start_time": "2023-04-21T12:04:50.092Z"
   },
   {
    "duration": 15,
    "start_time": "2023-04-21T12:04:56.168Z"
   },
   {
    "duration": 141,
    "start_time": "2023-04-21T12:05:00.144Z"
   },
   {
    "duration": 158,
    "start_time": "2023-04-21T12:05:04.016Z"
   },
   {
    "duration": 16,
    "start_time": "2023-04-21T12:05:10.319Z"
   },
   {
    "duration": 5,
    "start_time": "2023-04-21T12:05:45.175Z"
   },
   {
    "duration": 28,
    "start_time": "2023-04-21T12:06:08.159Z"
   },
   {
    "duration": 140,
    "start_time": "2023-04-21T12:06:11.319Z"
   },
   {
    "duration": 23,
    "start_time": "2023-04-21T12:06:26.015Z"
   },
   {
    "duration": 22,
    "start_time": "2023-04-21T12:06:40.278Z"
   },
   {
    "duration": 51,
    "start_time": "2023-04-21T12:06:52.678Z"
   },
   {
    "duration": 23,
    "start_time": "2023-04-21T12:06:57.390Z"
   },
   {
    "duration": 17,
    "start_time": "2023-04-21T12:07:05.902Z"
   },
   {
    "duration": 17,
    "start_time": "2023-04-21T12:07:12.935Z"
   },
   {
    "duration": 17,
    "start_time": "2023-04-21T12:07:24.835Z"
   },
   {
    "duration": 21,
    "start_time": "2023-04-21T12:08:47.655Z"
   },
   {
    "duration": 27,
    "start_time": "2023-04-21T12:08:50.699Z"
   },
   {
    "duration": 17,
    "start_time": "2023-04-21T12:09:02.142Z"
   },
   {
    "duration": 20,
    "start_time": "2023-04-21T12:09:49.933Z"
   },
   {
    "duration": 25,
    "start_time": "2023-04-21T12:10:05.270Z"
   },
   {
    "duration": 21,
    "start_time": "2023-04-21T12:10:08.133Z"
   },
   {
    "duration": 24,
    "start_time": "2023-04-21T12:10:13.393Z"
   },
   {
    "duration": 25,
    "start_time": "2023-04-21T12:10:21.125Z"
   },
   {
    "duration": 30,
    "start_time": "2023-04-21T12:10:50.693Z"
   },
   {
    "duration": 4,
    "start_time": "2023-04-21T12:10:55.336Z"
   },
   {
    "duration": 43,
    "start_time": "2023-04-21T12:10:55.342Z"
   },
   {
    "duration": 20,
    "start_time": "2023-04-21T12:10:55.387Z"
   },
   {
    "duration": 30,
    "start_time": "2023-04-21T12:10:55.412Z"
   },
   {
    "duration": 32,
    "start_time": "2023-04-21T12:10:55.446Z"
   },
   {
    "duration": 24,
    "start_time": "2023-04-21T12:10:55.480Z"
   },
   {
    "duration": 162,
    "start_time": "2023-04-21T12:11:03.408Z"
   },
   {
    "duration": 10,
    "start_time": "2023-04-21T12:11:16.349Z"
   },
   {
    "duration": 292,
    "start_time": "2023-04-21T12:11:28.404Z"
   },
   {
    "duration": 18,
    "start_time": "2023-04-21T12:11:33.109Z"
   },
   {
    "duration": 276,
    "start_time": "2023-04-21T12:11:41.085Z"
   },
   {
    "duration": 20,
    "start_time": "2023-04-21T12:13:46.092Z"
   },
   {
    "duration": 170,
    "start_time": "2023-04-21T12:14:06.100Z"
   },
   {
    "duration": 135,
    "start_time": "2023-04-21T12:14:17.835Z"
   },
   {
    "duration": 11,
    "start_time": "2023-04-21T12:15:27.501Z"
   },
   {
    "duration": 8,
    "start_time": "2023-04-21T12:27:22.262Z"
   },
   {
    "duration": 12,
    "start_time": "2023-04-21T12:28:21.871Z"
   },
   {
    "duration": 11,
    "start_time": "2023-04-21T12:34:09.113Z"
   },
   {
    "duration": 7,
    "start_time": "2023-04-21T12:34:13.977Z"
   },
   {
    "duration": 6,
    "start_time": "2023-04-21T12:34:16.316Z"
   },
   {
    "duration": 13,
    "start_time": "2023-04-21T12:34:16.817Z"
   },
   {
    "duration": 14,
    "start_time": "2023-04-21T12:34:21.602Z"
   },
   {
    "duration": 15,
    "start_time": "2023-04-21T12:34:39.010Z"
   },
   {
    "duration": 15,
    "start_time": "2023-04-21T12:34:51.641Z"
   },
   {
    "duration": 22,
    "start_time": "2023-04-21T12:35:36.729Z"
   },
   {
    "duration": 16,
    "start_time": "2023-04-21T12:36:13.357Z"
   },
   {
    "duration": 13,
    "start_time": "2023-04-21T12:37:46.410Z"
   },
   {
    "duration": 7,
    "start_time": "2023-04-21T12:38:39.618Z"
   },
   {
    "duration": 13,
    "start_time": "2023-04-21T12:38:59.649Z"
   },
   {
    "duration": 12,
    "start_time": "2023-04-21T12:39:23.578Z"
   },
   {
    "duration": 12,
    "start_time": "2023-04-21T12:39:39.666Z"
   },
   {
    "duration": 13,
    "start_time": "2023-04-21T12:40:33.049Z"
   },
   {
    "duration": 6,
    "start_time": "2023-04-21T12:40:38.762Z"
   },
   {
    "duration": 5,
    "start_time": "2023-04-21T12:40:45.458Z"
   },
   {
    "duration": 13,
    "start_time": "2023-04-21T12:40:55.858Z"
   },
   {
    "duration": 18,
    "start_time": "2023-04-21T12:42:43.046Z"
   },
   {
    "duration": 6,
    "start_time": "2023-04-21T12:43:55.356Z"
   },
   {
    "duration": 5,
    "start_time": "2023-04-21T12:44:23.163Z"
   },
   {
    "duration": 13,
    "start_time": "2023-04-21T12:44:45.771Z"
   },
   {
    "duration": 16,
    "start_time": "2023-04-21T12:45:17.836Z"
   },
   {
    "duration": 11,
    "start_time": "2023-04-21T12:45:24.147Z"
   },
   {
    "duration": 12,
    "start_time": "2023-04-21T12:45:32.971Z"
   },
   {
    "duration": 16,
    "start_time": "2023-04-21T12:46:01.571Z"
   },
   {
    "duration": 6,
    "start_time": "2023-04-21T12:48:46.370Z"
   },
   {
    "duration": 4,
    "start_time": "2023-04-21T12:49:11.810Z"
   },
   {
    "duration": 6,
    "start_time": "2023-04-21T12:49:23.308Z"
   },
   {
    "duration": 3,
    "start_time": "2023-04-21T12:49:23.870Z"
   },
   {
    "duration": 7,
    "start_time": "2023-04-21T12:49:27.603Z"
   },
   {
    "duration": 5,
    "start_time": "2023-04-21T12:49:28.690Z"
   },
   {
    "duration": 4,
    "start_time": "2023-04-21T12:51:36.282Z"
   },
   {
    "duration": 5,
    "start_time": "2023-04-21T12:53:07.539Z"
   },
   {
    "duration": 4,
    "start_time": "2023-04-21T12:53:08.475Z"
   },
   {
    "duration": 12,
    "start_time": "2023-04-21T12:53:15.523Z"
   },
   {
    "duration": 5,
    "start_time": "2023-04-21T12:53:19.315Z"
   },
   {
    "duration": 5,
    "start_time": "2023-04-21T12:53:20.378Z"
   },
   {
    "duration": 13,
    "start_time": "2023-04-21T12:53:23.700Z"
   },
   {
    "duration": 4,
    "start_time": "2023-04-21T12:53:24.683Z"
   },
   {
    "duration": 7,
    "start_time": "2023-04-21T12:54:06.724Z"
   },
   {
    "duration": 4,
    "start_time": "2023-04-21T12:54:08.347Z"
   },
   {
    "duration": 5,
    "start_time": "2023-04-21T12:55:31.924Z"
   },
   {
    "duration": 9,
    "start_time": "2023-04-21T12:55:48.435Z"
   },
   {
    "duration": 35,
    "start_time": "2023-04-21T12:56:25.483Z"
   },
   {
    "duration": 13,
    "start_time": "2023-04-21T12:56:41.162Z"
   },
   {
    "duration": 47,
    "start_time": "2023-04-21T12:56:53.868Z"
   },
   {
    "duration": 6,
    "start_time": "2023-04-21T12:57:01.666Z"
   },
   {
    "duration": 5,
    "start_time": "2023-04-21T12:57:13.747Z"
   },
   {
    "duration": 50,
    "start_time": "2023-04-21T13:02:09.020Z"
   },
   {
    "duration": 5,
    "start_time": "2023-04-21T13:05:23.540Z"
   },
   {
    "duration": 4,
    "start_time": "2023-04-21T13:05:28.427Z"
   },
   {
    "duration": 4,
    "start_time": "2023-04-21T13:07:51.741Z"
   },
   {
    "duration": 5,
    "start_time": "2023-04-21T13:07:52.100Z"
   },
   {
    "duration": 5,
    "start_time": "2023-04-21T13:07:52.476Z"
   },
   {
    "duration": 80,
    "start_time": "2023-04-21T13:08:16.827Z"
   },
   {
    "duration": 34,
    "start_time": "2023-04-21T13:08:28.325Z"
   },
   {
    "duration": 4,
    "start_time": "2023-04-21T13:08:29.676Z"
   },
   {
    "duration": 71,
    "start_time": "2023-04-21T13:14:37.900Z"
   },
   {
    "duration": 62,
    "start_time": "2023-04-21T13:14:46.284Z"
   },
   {
    "duration": 140,
    "start_time": "2023-04-21T13:16:07.004Z"
   },
   {
    "duration": 32,
    "start_time": "2023-04-21T13:16:18.244Z"
   },
   {
    "duration": 14,
    "start_time": "2023-04-21T13:16:19.101Z"
   },
   {
    "duration": 5,
    "start_time": "2023-04-21T13:16:25.772Z"
   },
   {
    "duration": 195,
    "start_time": "2023-04-21T13:16:35.628Z"
   },
   {
    "duration": 6,
    "start_time": "2023-04-21T13:16:36.883Z"
   },
   {
    "duration": 331,
    "start_time": "2023-04-21T13:16:44.852Z"
   },
   {
    "duration": 4,
    "start_time": "2023-04-21T13:16:45.342Z"
   },
   {
    "duration": 10,
    "start_time": "2023-04-21T13:19:39.044Z"
   },
   {
    "duration": 337,
    "start_time": "2023-04-21T13:19:41.468Z"
   },
   {
    "duration": 5,
    "start_time": "2023-04-21T13:19:41.956Z"
   },
   {
    "duration": 6,
    "start_time": "2023-04-21T13:19:48.564Z"
   },
   {
    "duration": 117,
    "start_time": "2023-04-21T13:21:12.341Z"
   },
   {
    "duration": 10,
    "start_time": "2023-04-21T13:21:37.848Z"
   },
   {
    "duration": 11,
    "start_time": "2023-04-21T13:21:52.253Z"
   },
   {
    "duration": 164,
    "start_time": "2023-04-21T13:30:40.790Z"
   },
   {
    "duration": 3,
    "start_time": "2023-04-21T13:32:32.918Z"
   },
   {
    "duration": 350,
    "start_time": "2023-04-21T13:32:43.165Z"
   },
   {
    "duration": 125,
    "start_time": "2023-04-21T13:32:44.381Z"
   },
   {
    "duration": 131,
    "start_time": "2023-04-21T13:32:52.869Z"
   },
   {
    "duration": 134,
    "start_time": "2023-04-21T13:32:53.709Z"
   },
   {
    "duration": 167,
    "start_time": "2023-04-21T13:33:00.757Z"
   },
   {
    "duration": 4,
    "start_time": "2023-04-21T13:33:03.789Z"
   },
   {
    "duration": 4,
    "start_time": "2023-04-21T13:36:31.422Z"
   },
   {
    "duration": 142,
    "start_time": "2023-04-21T13:37:01.021Z"
   },
   {
    "duration": 140,
    "start_time": "2023-04-21T13:37:01.668Z"
   },
   {
    "duration": 6498,
    "start_time": "2023-04-21T13:37:03.606Z"
   },
   {
    "duration": 4,
    "start_time": "2023-04-21T13:37:13.821Z"
   },
   {
    "duration": 6736,
    "start_time": "2023-04-21T13:37:31.269Z"
   },
   {
    "duration": 178,
    "start_time": "2023-04-21T13:39:09.686Z"
   },
   {
    "duration": 65,
    "start_time": "2023-04-21T13:40:20.830Z"
   },
   {
    "duration": 7025,
    "start_time": "2023-04-21T13:40:28.750Z"
   },
   {
    "duration": 11,
    "start_time": "2023-04-21T13:41:29.742Z"
   },
   {
    "duration": 5613,
    "start_time": "2023-04-21T13:41:39.167Z"
   },
   {
    "duration": 5261,
    "start_time": "2023-04-21T13:42:17.815Z"
   },
   {
    "duration": 6641,
    "start_time": "2023-04-21T13:42:26.343Z"
   },
   {
    "duration": 765,
    "start_time": "2023-04-21T13:44:34.919Z"
   },
   {
    "duration": 774,
    "start_time": "2023-04-21T13:44:45.176Z"
   },
   {
    "duration": 766,
    "start_time": "2023-04-21T13:44:52.878Z"
   },
   {
    "duration": 1109,
    "start_time": "2023-04-21T13:45:36.807Z"
   },
   {
    "duration": 1232,
    "start_time": "2023-04-21T13:45:48.078Z"
   },
   {
    "duration": 2632,
    "start_time": "2023-04-21T13:45:56.791Z"
   },
   {
    "duration": 70,
    "start_time": "2023-04-21T13:47:05.079Z"
   },
   {
    "duration": 73,
    "start_time": "2023-04-21T13:47:26.743Z"
   },
   {
    "duration": 69,
    "start_time": "2023-04-21T13:47:41.863Z"
   },
   {
    "duration": 64,
    "start_time": "2023-04-21T13:47:55.816Z"
   },
   {
    "duration": 96,
    "start_time": "2023-04-21T13:47:58.600Z"
   },
   {
    "duration": 54,
    "start_time": "2023-04-21T13:48:03.144Z"
   },
   {
    "duration": 2849,
    "start_time": "2023-04-21T13:49:39.911Z"
   },
   {
    "duration": 149,
    "start_time": "2023-04-21T13:49:59.727Z"
   },
   {
    "duration": 138,
    "start_time": "2023-04-21T13:50:05.433Z"
   },
   {
    "duration": 151,
    "start_time": "2023-04-21T13:50:14.417Z"
   },
   {
    "duration": 206,
    "start_time": "2023-04-21T13:50:30.424Z"
   },
   {
    "duration": 58,
    "start_time": "2023-04-21T18:00:14.715Z"
   },
   {
    "duration": 1050,
    "start_time": "2023-04-21T18:00:25.638Z"
   },
   {
    "duration": 109,
    "start_time": "2023-04-21T18:00:26.690Z"
   },
   {
    "duration": 15,
    "start_time": "2023-04-21T18:00:26.801Z"
   },
   {
    "duration": 12,
    "start_time": "2023-04-21T18:00:26.817Z"
   },
   {
    "duration": 19,
    "start_time": "2023-04-21T18:00:26.831Z"
   },
   {
    "duration": 8,
    "start_time": "2023-04-21T18:00:26.851Z"
   },
   {
    "duration": 11,
    "start_time": "2023-04-21T18:00:26.860Z"
   },
   {
    "duration": 5,
    "start_time": "2023-04-21T18:00:26.872Z"
   },
   {
    "duration": 11,
    "start_time": "2023-04-21T18:00:26.878Z"
   },
   {
    "duration": 13,
    "start_time": "2023-04-21T18:00:26.890Z"
   },
   {
    "duration": 5,
    "start_time": "2023-04-21T18:00:26.904Z"
   },
   {
    "duration": 6,
    "start_time": "2023-04-21T18:00:26.910Z"
   },
   {
    "duration": 123,
    "start_time": "2023-04-21T18:00:26.918Z"
   },
   {
    "duration": 59,
    "start_time": "2023-04-21T18:00:29.077Z"
   },
   {
    "duration": 400,
    "start_time": "2023-04-21T18:00:53.074Z"
   },
   {
    "duration": 136,
    "start_time": "2023-04-21T18:00:58.508Z"
   },
   {
    "duration": 124,
    "start_time": "2023-04-21T18:01:06.562Z"
   },
   {
    "duration": 142,
    "start_time": "2023-04-21T18:01:22.103Z"
   },
   {
    "duration": 140,
    "start_time": "2023-04-21T18:01:30.759Z"
   },
   {
    "duration": 163,
    "start_time": "2023-04-21T18:02:43.246Z"
   },
   {
    "duration": 215,
    "start_time": "2023-04-21T18:02:50.669Z"
   },
   {
    "duration": 126,
    "start_time": "2023-04-21T18:02:56.452Z"
   },
   {
    "duration": 128,
    "start_time": "2023-04-21T18:03:02.223Z"
   },
   {
    "duration": 129,
    "start_time": "2023-04-21T18:03:05.912Z"
   },
   {
    "duration": 4991,
    "start_time": "2023-04-21T18:03:50.885Z"
   },
   {
    "duration": 250,
    "start_time": "2023-04-21T18:04:08.858Z"
   },
   {
    "duration": 198,
    "start_time": "2023-04-21T18:04:14.916Z"
   },
   {
    "duration": 169,
    "start_time": "2023-04-21T18:04:20.524Z"
   },
   {
    "duration": 215,
    "start_time": "2023-04-21T18:04:26.102Z"
   },
   {
    "duration": 134,
    "start_time": "2023-04-21T18:04:31.390Z"
   },
   {
    "duration": 157,
    "start_time": "2023-04-21T18:05:06.125Z"
   },
   {
    "duration": 153,
    "start_time": "2023-04-21T18:05:29.805Z"
   },
   {
    "duration": 157,
    "start_time": "2023-04-21T18:05:36.728Z"
   },
   {
    "duration": 205,
    "start_time": "2023-04-21T18:05:45.204Z"
   },
   {
    "duration": 251,
    "start_time": "2023-04-21T18:06:06.528Z"
   },
   {
    "duration": 3,
    "start_time": "2023-04-21T18:07:13.792Z"
   },
   {
    "duration": 2260,
    "start_time": "2023-04-21T18:07:36.492Z"
   },
   {
    "duration": 2338,
    "start_time": "2023-04-21T18:08:03.987Z"
   },
   {
    "duration": 2318,
    "start_time": "2023-04-21T18:08:33.917Z"
   },
   {
    "duration": 2534,
    "start_time": "2023-04-21T18:08:43.354Z"
   },
   {
    "duration": 130,
    "start_time": "2023-04-21T18:12:59.725Z"
   },
   {
    "duration": 2290,
    "start_time": "2023-04-21T18:13:07.733Z"
   },
   {
    "duration": 201,
    "start_time": "2023-04-21T18:14:01.119Z"
   },
   {
    "duration": 232,
    "start_time": "2023-04-21T18:14:05.187Z"
   },
   {
    "duration": 242,
    "start_time": "2023-04-21T18:14:13.785Z"
   },
   {
    "duration": 231,
    "start_time": "2023-04-21T18:14:22.381Z"
   },
   {
    "duration": 225,
    "start_time": "2023-04-21T18:15:02.256Z"
   },
   {
    "duration": 11,
    "start_time": "2023-04-21T18:15:58.918Z"
   },
   {
    "duration": 317,
    "start_time": "2023-04-21T18:16:08.246Z"
   },
   {
    "duration": 232,
    "start_time": "2023-04-21T18:16:19.260Z"
   },
   {
    "duration": 2246,
    "start_time": "2023-04-21T18:17:05.751Z"
   },
   {
    "duration": 2239,
    "start_time": "2023-04-21T18:17:55.718Z"
   },
   {
    "duration": 3,
    "start_time": "2023-04-21T18:19:10.519Z"
   },
   {
    "duration": 32,
    "start_time": "2023-04-21T18:19:10.524Z"
   },
   {
    "duration": 11,
    "start_time": "2023-04-21T18:19:10.558Z"
   },
   {
    "duration": 16,
    "start_time": "2023-04-21T18:19:10.571Z"
   },
   {
    "duration": 23,
    "start_time": "2023-04-21T18:19:10.590Z"
   },
   {
    "duration": 9,
    "start_time": "2023-04-21T18:19:10.615Z"
   },
   {
    "duration": 13,
    "start_time": "2023-04-21T18:19:10.626Z"
   },
   {
    "duration": 6,
    "start_time": "2023-04-21T18:19:10.640Z"
   },
   {
    "duration": 4,
    "start_time": "2023-04-21T18:19:10.648Z"
   },
   {
    "duration": 7,
    "start_time": "2023-04-21T18:19:10.653Z"
   },
   {
    "duration": 6,
    "start_time": "2023-04-21T18:19:10.661Z"
   },
   {
    "duration": 9,
    "start_time": "2023-04-21T18:19:10.668Z"
   },
   {
    "duration": 140,
    "start_time": "2023-04-21T18:19:10.678Z"
   },
   {
    "duration": 3,
    "start_time": "2023-04-21T18:19:10.820Z"
   },
   {
    "duration": 204,
    "start_time": "2023-04-21T18:19:10.825Z"
   },
   {
    "duration": 85,
    "start_time": "2023-04-21T18:26:03.231Z"
   },
   {
    "duration": 4376,
    "start_time": "2023-04-21T18:27:07.616Z"
   },
   {
    "duration": 4,
    "start_time": "2023-04-21T18:27:15.507Z"
   },
   {
    "duration": 156,
    "start_time": "2023-04-21T18:28:01.010Z"
   },
   {
    "duration": 112,
    "start_time": "2023-04-21T18:28:22.649Z"
   },
   {
    "duration": 11,
    "start_time": "2023-04-21T18:28:39.687Z"
   },
   {
    "duration": 150,
    "start_time": "2023-04-21T18:28:52.189Z"
   },
   {
    "duration": 152,
    "start_time": "2023-04-21T18:28:56.395Z"
   },
   {
    "duration": 197,
    "start_time": "2023-04-21T18:29:07.393Z"
   },
   {
    "duration": 95,
    "start_time": "2023-04-21T18:29:16.796Z"
   },
   {
    "duration": 44,
    "start_time": "2023-04-21T18:29:20.518Z"
   },
   {
    "duration": 146,
    "start_time": "2023-04-21T18:29:24.670Z"
   },
   {
    "duration": 129,
    "start_time": "2023-04-21T18:29:35.310Z"
   },
   {
    "duration": 113,
    "start_time": "2023-04-21T18:29:39.546Z"
   },
   {
    "duration": 117,
    "start_time": "2023-04-21T18:29:58.663Z"
   },
   {
    "duration": 11,
    "start_time": "2023-04-21T18:30:02.001Z"
   },
   {
    "duration": 138,
    "start_time": "2023-04-21T18:30:22.936Z"
   },
   {
    "duration": 140,
    "start_time": "2023-04-21T18:30:30.405Z"
   },
   {
    "duration": 109,
    "start_time": "2023-04-21T18:30:36.761Z"
   },
   {
    "duration": 126,
    "start_time": "2023-04-21T18:30:47.897Z"
   },
   {
    "duration": 109,
    "start_time": "2023-04-21T18:31:03.097Z"
   },
   {
    "duration": 11,
    "start_time": "2023-04-21T18:33:15.309Z"
   },
   {
    "duration": 144,
    "start_time": "2023-04-21T18:33:24.215Z"
   },
   {
    "duration": 166,
    "start_time": "2023-04-21T18:33:35.432Z"
   },
   {
    "duration": 41,
    "start_time": "2023-04-21T18:33:40.705Z"
   },
   {
    "duration": 307,
    "start_time": "2023-04-21T18:33:44.613Z"
   },
   {
    "duration": 151,
    "start_time": "2023-04-21T18:33:52.758Z"
   },
   {
    "duration": 170,
    "start_time": "2023-04-21T18:34:10.297Z"
   },
   {
    "duration": 10,
    "start_time": "2023-04-21T18:34:27.937Z"
   },
   {
    "duration": 156,
    "start_time": "2023-04-21T18:34:31.675Z"
   },
   {
    "duration": 154,
    "start_time": "2023-04-21T18:34:36.601Z"
   },
   {
    "duration": 223,
    "start_time": "2023-04-21T18:34:54.652Z"
   },
   {
    "duration": 103,
    "start_time": "2023-04-21T18:35:19.642Z"
   },
   {
    "duration": 11,
    "start_time": "2023-04-21T18:35:23.053Z"
   },
   {
    "duration": 104,
    "start_time": "2023-04-21T18:35:32.212Z"
   },
   {
    "duration": 118,
    "start_time": "2023-04-21T18:35:53.472Z"
   },
   {
    "duration": 262,
    "start_time": "2023-04-21T18:36:43.967Z"
   },
   {
    "duration": 12,
    "start_time": "2023-04-21T18:36:49.150Z"
   },
   {
    "duration": 11,
    "start_time": "2023-04-21T18:36:57.901Z"
   },
   {
    "duration": 10,
    "start_time": "2023-04-21T18:37:07.332Z"
   },
   {
    "duration": 11,
    "start_time": "2023-04-21T18:37:14.955Z"
   },
   {
    "duration": 11,
    "start_time": "2023-04-21T18:37:34.419Z"
   },
   {
    "duration": 177,
    "start_time": "2023-04-21T18:37:42.612Z"
   },
   {
    "duration": 164,
    "start_time": "2023-04-21T18:37:52.837Z"
   },
   {
    "duration": 159,
    "start_time": "2023-04-21T18:39:17.750Z"
   },
   {
    "duration": 118,
    "start_time": "2023-04-21T18:40:40.708Z"
   },
   {
    "duration": 4,
    "start_time": "2023-04-21T18:40:41.081Z"
   },
   {
    "duration": 177,
    "start_time": "2023-04-21T18:40:41.628Z"
   },
   {
    "duration": 56,
    "start_time": "2023-04-21T18:41:18.310Z"
   },
   {
    "duration": 11,
    "start_time": "2023-04-21T18:41:28.071Z"
   },
   {
    "duration": 3854,
    "start_time": "2023-04-21T18:41:37.915Z"
   },
   {
    "duration": 133,
    "start_time": "2023-04-21T18:41:48.657Z"
   },
   {
    "duration": 17,
    "start_time": "2023-04-21T18:45:06.635Z"
   },
   {
    "duration": 201,
    "start_time": "2023-04-21T18:45:34.991Z"
   },
   {
    "duration": 9,
    "start_time": "2023-04-21T18:45:59.291Z"
   },
   {
    "duration": 48,
    "start_time": "2023-04-21T18:48:18.360Z"
   },
   {
    "duration": 11,
    "start_time": "2023-04-21T18:48:24.254Z"
   },
   {
    "duration": 11,
    "start_time": "2023-04-21T18:48:41.831Z"
   },
   {
    "duration": 10,
    "start_time": "2023-04-21T18:49:02.815Z"
   },
   {
    "duration": 1470,
    "start_time": "2023-04-21T18:50:45.038Z"
   },
   {
    "duration": 1879,
    "start_time": "2023-04-21T18:50:58.532Z"
   },
   {
    "duration": 2995,
    "start_time": "2023-04-21T18:51:33.021Z"
   },
   {
    "duration": 989,
    "start_time": "2023-04-21T18:51:53.471Z"
   },
   {
    "duration": 1034,
    "start_time": "2023-04-21T18:52:09.857Z"
   },
   {
    "duration": 13,
    "start_time": "2023-04-21T18:52:18.234Z"
   },
   {
    "duration": 923,
    "start_time": "2023-04-21T18:52:23.102Z"
   },
   {
    "duration": 1068,
    "start_time": "2023-04-21T18:52:45.284Z"
   },
   {
    "duration": 980,
    "start_time": "2023-04-21T18:52:50.524Z"
   },
   {
    "duration": 987,
    "start_time": "2023-04-21T18:53:00.872Z"
   },
   {
    "duration": 922,
    "start_time": "2023-04-21T18:53:08.337Z"
   },
   {
    "duration": 1044,
    "start_time": "2023-04-21T18:53:13.270Z"
   },
   {
    "duration": 47,
    "start_time": "2023-04-21T18:53:26.095Z"
   },
   {
    "duration": 984,
    "start_time": "2023-04-21T18:53:29.181Z"
   },
   {
    "duration": 1053,
    "start_time": "2023-04-21T18:53:35.050Z"
   },
   {
    "duration": 1114,
    "start_time": "2023-04-21T18:53:51.458Z"
   },
   {
    "duration": 11,
    "start_time": "2023-04-21T18:56:52.348Z"
   },
   {
    "duration": 0,
    "start_time": "2023-04-21T18:56:52.360Z"
   },
   {
    "duration": 0,
    "start_time": "2023-04-21T18:56:52.361Z"
   },
   {
    "duration": 0,
    "start_time": "2023-04-21T18:56:52.362Z"
   },
   {
    "duration": 0,
    "start_time": "2023-04-21T18:56:52.363Z"
   },
   {
    "duration": 0,
    "start_time": "2023-04-21T18:56:52.364Z"
   },
   {
    "duration": 0,
    "start_time": "2023-04-21T18:56:52.365Z"
   },
   {
    "duration": 0,
    "start_time": "2023-04-21T18:56:52.365Z"
   },
   {
    "duration": 0,
    "start_time": "2023-04-21T18:56:52.367Z"
   },
   {
    "duration": 4,
    "start_time": "2023-04-21T18:56:52.370Z"
   },
   {
    "duration": 8,
    "start_time": "2023-04-21T18:56:52.375Z"
   },
   {
    "duration": 9,
    "start_time": "2023-04-21T18:56:52.384Z"
   },
   {
    "duration": 141,
    "start_time": "2023-04-21T18:56:52.394Z"
   },
   {
    "duration": 3,
    "start_time": "2023-04-21T18:56:52.537Z"
   },
   {
    "duration": 180,
    "start_time": "2023-04-21T18:56:52.542Z"
   },
   {
    "duration": 891,
    "start_time": "2023-04-21T18:56:52.724Z"
   },
   {
    "duration": 3908,
    "start_time": "2023-04-21T18:56:53.616Z"
   },
   {
    "duration": 4,
    "start_time": "2023-04-21T18:56:57.525Z"
   },
   {
    "duration": 148,
    "start_time": "2023-04-21T18:56:57.535Z"
   },
   {
    "duration": 942,
    "start_time": "2023-04-21T18:56:57.685Z"
   },
   {
    "duration": 4,
    "start_time": "2023-04-21T18:57:11.075Z"
   },
   {
    "duration": 28,
    "start_time": "2023-04-21T18:57:12.537Z"
   },
   {
    "duration": 14,
    "start_time": "2023-04-21T18:57:13.353Z"
   },
   {
    "duration": 10,
    "start_time": "2023-04-21T18:57:13.665Z"
   },
   {
    "duration": 21,
    "start_time": "2023-04-21T18:57:14.173Z"
   },
   {
    "duration": 14,
    "start_time": "2023-04-21T18:57:14.627Z"
   },
   {
    "duration": 7,
    "start_time": "2023-04-21T18:57:14.993Z"
   },
   {
    "duration": 4,
    "start_time": "2023-04-21T18:57:16.827Z"
   },
   {
    "duration": 3,
    "start_time": "2023-04-21T18:57:17.167Z"
   },
   {
    "duration": 4,
    "start_time": "2023-04-21T18:57:20.301Z"
   },
   {
    "duration": 4,
    "start_time": "2023-04-21T18:57:20.615Z"
   },
   {
    "duration": 4,
    "start_time": "2023-04-21T18:57:20.929Z"
   },
   {
    "duration": 112,
    "start_time": "2023-04-21T18:57:21.400Z"
   },
   {
    "duration": 3,
    "start_time": "2023-04-21T18:57:21.989Z"
   },
   {
    "duration": 170,
    "start_time": "2023-04-21T18:57:22.672Z"
   },
   {
    "duration": 914,
    "start_time": "2023-04-21T18:57:24.868Z"
   },
   {
    "duration": 3830,
    "start_time": "2023-04-21T18:57:32.334Z"
   },
   {
    "duration": 4437,
    "start_time": "2023-04-21T18:58:13.076Z"
   },
   {
    "duration": 4,
    "start_time": "2023-04-21T18:58:17.515Z"
   },
   {
    "duration": 119,
    "start_time": "2023-04-21T18:58:20.097Z"
   },
   {
    "duration": 11,
    "start_time": "2023-04-21T18:58:44.581Z"
   },
   {
    "duration": 139,
    "start_time": "2023-04-21T18:58:51.579Z"
   },
   {
    "duration": 219,
    "start_time": "2023-04-21T18:59:09.318Z"
   },
   {
    "duration": 933,
    "start_time": "2023-04-21T18:59:28.950Z"
   },
   {
    "duration": 3316,
    "start_time": "2023-04-21T19:19:04.293Z"
   },
   {
    "duration": 610,
    "start_time": "2023-04-21T19:19:33.945Z"
   },
   {
    "duration": 3,
    "start_time": "2023-04-21T19:19:36.744Z"
   },
   {
    "duration": 184,
    "start_time": "2023-04-21T19:20:10.060Z"
   },
   {
    "duration": 11,
    "start_time": "2023-04-21T19:20:22.972Z"
   },
   {
    "duration": 13,
    "start_time": "2023-04-21T19:20:28.318Z"
   },
   {
    "duration": 186,
    "start_time": "2023-04-21T19:20:33.167Z"
   },
   {
    "duration": 300,
    "start_time": "2023-04-21T19:21:09.004Z"
   },
   {
    "duration": 475,
    "start_time": "2023-04-21T19:21:13.433Z"
   },
   {
    "duration": 312,
    "start_time": "2023-04-21T19:21:21.550Z"
   },
   {
    "duration": 302,
    "start_time": "2023-04-21T19:21:25.830Z"
   },
   {
    "duration": 12,
    "start_time": "2023-04-21T19:21:58.719Z"
   },
   {
    "duration": 202,
    "start_time": "2023-04-21T19:22:05.419Z"
   },
   {
    "duration": 12,
    "start_time": "2023-04-21T19:22:14.105Z"
   },
   {
    "duration": 11,
    "start_time": "2023-04-21T19:22:19.090Z"
   },
   {
    "duration": 3,
    "start_time": "2023-04-21T19:26:42.748Z"
   },
   {
    "duration": 35,
    "start_time": "2023-04-21T19:26:42.753Z"
   },
   {
    "duration": 11,
    "start_time": "2023-04-21T19:26:42.789Z"
   },
   {
    "duration": 19,
    "start_time": "2023-04-21T19:26:42.802Z"
   },
   {
    "duration": 25,
    "start_time": "2023-04-21T19:26:42.823Z"
   },
   {
    "duration": 10,
    "start_time": "2023-04-21T19:26:42.850Z"
   },
   {
    "duration": 6,
    "start_time": "2023-04-21T19:26:42.861Z"
   },
   {
    "duration": 7,
    "start_time": "2023-04-21T19:26:42.869Z"
   },
   {
    "duration": 11,
    "start_time": "2023-04-21T19:26:42.877Z"
   },
   {
    "duration": 5,
    "start_time": "2023-04-21T19:26:42.891Z"
   },
   {
    "duration": 12,
    "start_time": "2023-04-21T19:26:42.898Z"
   },
   {
    "duration": 23,
    "start_time": "2023-04-21T19:26:42.911Z"
   },
   {
    "duration": 129,
    "start_time": "2023-04-21T19:26:42.936Z"
   },
   {
    "duration": 5,
    "start_time": "2023-04-21T19:26:43.066Z"
   },
   {
    "duration": 185,
    "start_time": "2023-04-21T19:26:43.073Z"
   },
   {
    "duration": 952,
    "start_time": "2023-04-21T19:26:43.260Z"
   },
   {
    "duration": 4208,
    "start_time": "2023-04-21T19:26:44.214Z"
   },
   {
    "duration": 12,
    "start_time": "2023-04-21T19:26:48.424Z"
   },
   {
    "duration": 169,
    "start_time": "2023-04-21T19:26:48.438Z"
   },
   {
    "duration": 950,
    "start_time": "2023-04-21T19:26:48.608Z"
   },
   {
    "duration": 526,
    "start_time": "2023-04-21T19:26:49.559Z"
   },
   {
    "duration": 4,
    "start_time": "2023-04-21T19:26:50.087Z"
   },
   {
    "duration": 3,
    "start_time": "2023-04-21T19:27:10.375Z"
   },
   {
    "duration": 5,
    "start_time": "2023-04-21T19:27:12.757Z"
   },
   {
    "duration": 39,
    "start_time": "2023-04-21T19:27:12.765Z"
   },
   {
    "duration": 11,
    "start_time": "2023-04-21T19:27:12.806Z"
   },
   {
    "duration": 11,
    "start_time": "2023-04-21T19:27:12.819Z"
   },
   {
    "duration": 29,
    "start_time": "2023-04-21T19:27:12.833Z"
   },
   {
    "duration": 10,
    "start_time": "2023-04-21T19:27:12.864Z"
   },
   {
    "duration": 7,
    "start_time": "2023-04-21T19:27:12.875Z"
   },
   {
    "duration": 5,
    "start_time": "2023-04-21T19:27:12.883Z"
   },
   {
    "duration": 11,
    "start_time": "2023-04-21T19:27:12.890Z"
   },
   {
    "duration": 6,
    "start_time": "2023-04-21T19:27:12.903Z"
   },
   {
    "duration": 24,
    "start_time": "2023-04-21T19:27:12.911Z"
   },
   {
    "duration": 5,
    "start_time": "2023-04-21T19:27:12.936Z"
   },
   {
    "duration": 156,
    "start_time": "2023-04-21T19:27:12.942Z"
   },
   {
    "duration": 3,
    "start_time": "2023-04-21T19:27:13.101Z"
   },
   {
    "duration": 196,
    "start_time": "2023-04-21T19:27:13.106Z"
   },
   {
    "duration": 1138,
    "start_time": "2023-04-21T19:27:13.304Z"
   },
   {
    "duration": 4239,
    "start_time": "2023-04-21T19:27:14.444Z"
   },
   {
    "duration": 4,
    "start_time": "2023-04-21T19:27:18.685Z"
   },
   {
    "duration": 181,
    "start_time": "2023-04-21T19:27:18.690Z"
   },
   {
    "duration": 962,
    "start_time": "2023-04-21T19:27:18.873Z"
   },
   {
    "duration": 549,
    "start_time": "2023-04-21T19:27:19.836Z"
   },
   {
    "duration": 3,
    "start_time": "2023-04-21T19:27:20.386Z"
   },
   {
    "duration": 18,
    "start_time": "2023-04-21T19:27:20.391Z"
   },
   {
    "duration": 44,
    "start_time": "2023-04-21T19:27:20.411Z"
   },
   {
    "duration": 11,
    "start_time": "2023-04-21T19:27:20.457Z"
   },
   {
    "duration": 18,
    "start_time": "2023-04-21T19:27:20.469Z"
   },
   {
    "duration": 12,
    "start_time": "2023-04-21T19:27:20.489Z"
   },
   {
    "duration": 33,
    "start_time": "2023-04-21T19:27:20.502Z"
   },
   {
    "duration": 3,
    "start_time": "2023-04-21T19:27:54.231Z"
   },
   {
    "duration": 9,
    "start_time": "2023-04-21T19:53:00.117Z"
   },
   {
    "duration": 18,
    "start_time": "2023-04-21T19:53:48.125Z"
   },
   {
    "duration": 21,
    "start_time": "2023-04-21T19:54:19.780Z"
   },
   {
    "duration": 11,
    "start_time": "2023-04-21T19:54:28.231Z"
   },
   {
    "duration": 3,
    "start_time": "2023-04-21T20:01:06.220Z"
   },
   {
    "duration": 12,
    "start_time": "2023-04-21T20:01:39.700Z"
   },
   {
    "duration": 51,
    "start_time": "2023-04-21T20:02:11.100Z"
   },
   {
    "duration": 10,
    "start_time": "2023-04-21T20:02:42.512Z"
   },
   {
    "duration": 8,
    "start_time": "2023-04-21T20:05:03.650Z"
   },
   {
    "duration": 3,
    "start_time": "2023-04-21T20:05:26.635Z"
   },
   {
    "duration": 6,
    "start_time": "2023-04-21T20:06:03.375Z"
   },
   {
    "duration": 3,
    "start_time": "2023-04-21T20:06:04.100Z"
   },
   {
    "duration": 5,
    "start_time": "2023-04-21T20:06:19.778Z"
   },
   {
    "duration": 4,
    "start_time": "2023-04-21T20:06:20.617Z"
   },
   {
    "duration": 8,
    "start_time": "2023-04-21T20:07:51.821Z"
   },
   {
    "duration": 3,
    "start_time": "2023-04-21T20:07:52.906Z"
   },
   {
    "duration": 9,
    "start_time": "2023-04-21T20:08:10.865Z"
   },
   {
    "duration": 4,
    "start_time": "2023-04-21T20:08:12.233Z"
   },
   {
    "duration": 6,
    "start_time": "2023-04-21T20:08:17.332Z"
   },
   {
    "duration": 4,
    "start_time": "2023-04-21T20:08:17.887Z"
   },
   {
    "duration": 4,
    "start_time": "2023-04-21T20:08:21.152Z"
   },
   {
    "duration": 3,
    "start_time": "2023-04-21T20:08:40.849Z"
   },
   {
    "duration": 4,
    "start_time": "2023-04-21T20:08:54.174Z"
   },
   {
    "duration": 4,
    "start_time": "2023-04-21T20:09:24.208Z"
   },
   {
    "duration": 6,
    "start_time": "2023-04-21T20:09:26.582Z"
   },
   {
    "duration": 4,
    "start_time": "2023-04-21T20:09:27.275Z"
   },
   {
    "duration": 4,
    "start_time": "2023-04-21T20:09:59.042Z"
   },
   {
    "duration": 11,
    "start_time": "2023-04-21T20:10:20.712Z"
   },
   {
    "duration": 16,
    "start_time": "2023-04-21T20:10:57.298Z"
   },
   {
    "duration": 6,
    "start_time": "2023-04-21T20:11:04.398Z"
   },
   {
    "duration": 5,
    "start_time": "2023-04-21T20:11:05.694Z"
   },
   {
    "duration": 7,
    "start_time": "2023-04-21T20:11:14.437Z"
   },
   {
    "duration": 4,
    "start_time": "2023-04-21T20:11:15.502Z"
   },
   {
    "duration": 8,
    "start_time": "2023-04-21T20:11:18.535Z"
   },
   {
    "duration": 4,
    "start_time": "2023-04-21T20:11:18.953Z"
   },
   {
    "duration": 6,
    "start_time": "2023-04-21T20:13:34.099Z"
   },
   {
    "duration": 6,
    "start_time": "2023-04-21T20:13:51.400Z"
   },
   {
    "duration": 4,
    "start_time": "2023-04-21T20:13:52.547Z"
   },
   {
    "duration": 6,
    "start_time": "2023-04-21T20:14:39.732Z"
   },
   {
    "duration": 4,
    "start_time": "2023-04-21T20:14:40.328Z"
   },
   {
    "duration": 3,
    "start_time": "2023-04-21T20:14:59.793Z"
   },
   {
    "duration": 7,
    "start_time": "2023-04-21T20:15:00.870Z"
   },
   {
    "duration": 4,
    "start_time": "2023-04-21T20:15:01.171Z"
   },
   {
    "duration": 5,
    "start_time": "2023-04-21T20:15:43.304Z"
   },
   {
    "duration": 4,
    "start_time": "2023-04-21T20:16:05.197Z"
   },
   {
    "duration": 4,
    "start_time": "2023-04-21T20:17:12.736Z"
   },
   {
    "duration": 27,
    "start_time": "2023-04-21T20:17:14.126Z"
   },
   {
    "duration": 10,
    "start_time": "2023-04-21T20:17:14.877Z"
   },
   {
    "duration": 10,
    "start_time": "2023-04-21T20:17:15.253Z"
   },
   {
    "duration": 24,
    "start_time": "2023-04-21T20:17:15.611Z"
   },
   {
    "duration": 10,
    "start_time": "2023-04-21T20:17:16.265Z"
   },
   {
    "duration": 8,
    "start_time": "2023-04-21T20:17:21.819Z"
   },
   {
    "duration": 3,
    "start_time": "2023-04-21T20:17:25.703Z"
   },
   {
    "duration": 7,
    "start_time": "2023-04-21T20:17:31.964Z"
   },
   {
    "duration": 4,
    "start_time": "2023-04-21T20:17:33.046Z"
   },
   {
    "duration": 100,
    "start_time": "2023-04-21T20:17:37.028Z"
   },
   {
    "duration": 4,
    "start_time": "2023-04-21T20:17:39.127Z"
   },
   {
    "duration": 163,
    "start_time": "2023-04-21T20:17:47.300Z"
   },
   {
    "duration": 1033,
    "start_time": "2023-04-21T20:19:11.441Z"
   },
   {
    "duration": 3540,
    "start_time": "2023-04-21T20:19:22.281Z"
   },
   {
    "duration": 3,
    "start_time": "2023-04-21T20:19:25.823Z"
   },
   {
    "duration": 3588,
    "start_time": "2023-04-21T20:20:00.921Z"
   },
   {
    "duration": 4,
    "start_time": "2023-04-21T20:20:04.511Z"
   },
   {
    "duration": 178,
    "start_time": "2023-04-21T20:20:06.549Z"
   },
   {
    "duration": 164,
    "start_time": "2023-04-21T20:20:39.540Z"
   },
   {
    "duration": 190,
    "start_time": "2023-04-21T20:20:43.497Z"
   },
   {
    "duration": 15,
    "start_time": "2023-04-21T20:20:44.877Z"
   },
   {
    "duration": 23,
    "start_time": "2023-04-21T20:20:48.028Z"
   },
   {
    "duration": 5,
    "start_time": "2023-04-21T20:23:11.584Z"
   },
   {
    "duration": 205,
    "start_time": "2023-04-21T20:23:40.309Z"
   },
   {
    "duration": 71,
    "start_time": "2023-04-21T20:24:21.177Z"
   },
   {
    "duration": 4,
    "start_time": "2023-04-21T20:24:21.662Z"
   },
   {
    "duration": 189,
    "start_time": "2023-04-21T20:24:22.467Z"
   },
   {
    "duration": 59,
    "start_time": "2023-04-21T20:24:50.065Z"
   },
   {
    "duration": 38,
    "start_time": "2023-04-21T20:24:57.028Z"
   },
   {
    "duration": 292,
    "start_time": "2023-04-21T20:25:03.123Z"
   },
   {
    "duration": 79,
    "start_time": "2023-04-21T20:25:13.259Z"
   },
   {
    "duration": 71,
    "start_time": "2023-04-21T20:25:27.012Z"
   },
   {
    "duration": 3,
    "start_time": "2023-04-21T20:25:28.424Z"
   },
   {
    "duration": 175,
    "start_time": "2023-04-21T20:25:29.627Z"
   },
   {
    "duration": 4,
    "start_time": "2023-04-21T20:26:54.513Z"
   },
   {
    "duration": 206,
    "start_time": "2023-04-21T20:27:54.605Z"
   },
   {
    "duration": 226,
    "start_time": "2023-04-21T20:28:10.911Z"
   },
   {
    "duration": 117,
    "start_time": "2023-04-21T20:31:00.299Z"
   },
   {
    "duration": 127,
    "start_time": "2023-04-21T20:31:18.372Z"
   },
   {
    "duration": 162,
    "start_time": "2023-04-21T20:33:17.572Z"
   },
   {
    "duration": 277,
    "start_time": "2023-04-21T20:33:25.231Z"
   },
   {
    "duration": 173,
    "start_time": "2023-04-21T20:33:44.309Z"
   },
   {
    "duration": 169,
    "start_time": "2023-04-21T20:34:09.519Z"
   },
   {
    "duration": 50,
    "start_time": "2023-04-21T20:34:26.208Z"
   },
   {
    "duration": 180,
    "start_time": "2023-04-21T20:34:34.733Z"
   },
   {
    "duration": 163,
    "start_time": "2023-04-21T20:34:38.103Z"
   },
   {
    "duration": 160,
    "start_time": "2023-04-21T20:35:01.042Z"
   },
   {
    "duration": 984,
    "start_time": "2023-04-21T20:35:16.374Z"
   },
   {
    "duration": 4,
    "start_time": "2023-04-21T20:35:57.606Z"
   },
   {
    "duration": 36,
    "start_time": "2023-04-21T20:35:57.611Z"
   },
   {
    "duration": 11,
    "start_time": "2023-04-21T20:35:57.649Z"
   },
   {
    "duration": 25,
    "start_time": "2023-04-21T20:35:57.661Z"
   },
   {
    "duration": 30,
    "start_time": "2023-04-21T20:35:57.688Z"
   },
   {
    "duration": 15,
    "start_time": "2023-04-21T20:35:57.719Z"
   },
   {
    "duration": 9,
    "start_time": "2023-04-21T20:35:57.736Z"
   },
   {
    "duration": 17,
    "start_time": "2023-04-21T20:35:57.747Z"
   },
   {
    "duration": 12,
    "start_time": "2023-04-21T20:35:57.766Z"
   },
   {
    "duration": 19,
    "start_time": "2023-04-21T20:35:57.779Z"
   },
   {
    "duration": 79,
    "start_time": "2023-04-21T20:35:57.800Z"
   },
   {
    "duration": 3,
    "start_time": "2023-04-21T20:35:57.881Z"
   },
   {
    "duration": 164,
    "start_time": "2023-04-21T20:35:57.886Z"
   },
   {
    "duration": 912,
    "start_time": "2023-04-21T20:35:58.053Z"
   },
   {
    "duration": 3523,
    "start_time": "2023-04-21T20:35:58.966Z"
   },
   {
    "duration": 5,
    "start_time": "2023-04-21T20:36:02.490Z"
   },
   {
    "duration": 183,
    "start_time": "2023-04-21T20:36:02.496Z"
   },
   {
    "duration": 876,
    "start_time": "2023-04-21T20:36:02.681Z"
   },
   {
    "duration": 440,
    "start_time": "2023-04-21T20:36:03.559Z"
   },
   {
    "duration": 3,
    "start_time": "2023-04-21T20:36:04.001Z"
   },
   {
    "duration": 27,
    "start_time": "2023-04-21T20:36:04.007Z"
   },
   {
    "duration": 26,
    "start_time": "2023-04-21T20:36:04.036Z"
   },
   {
    "duration": 23,
    "start_time": "2023-04-21T20:36:04.064Z"
   },
   {
    "duration": 29,
    "start_time": "2023-04-21T20:36:04.089Z"
   },
   {
    "duration": 19,
    "start_time": "2023-04-21T20:36:04.120Z"
   },
   {
    "duration": 34,
    "start_time": "2023-04-21T20:36:04.141Z"
   },
   {
    "duration": 211,
    "start_time": "2023-04-21T20:37:21.414Z"
   },
   {
    "duration": 948,
    "start_time": "2023-04-21T20:37:30.911Z"
   },
   {
    "duration": 8,
    "start_time": "2023-04-21T20:41:24.755Z"
   },
   {
    "duration": 13,
    "start_time": "2023-04-21T20:41:26.411Z"
   },
   {
    "duration": 8,
    "start_time": "2023-04-21T20:41:27.947Z"
   },
   {
    "duration": 2,
    "start_time": "2023-04-21T20:51:06.325Z"
   },
   {
    "duration": 10,
    "start_time": "2023-04-21T20:52:47.908Z"
   },
   {
    "duration": 9,
    "start_time": "2023-04-21T20:53:07.062Z"
   },
   {
    "duration": 6,
    "start_time": "2023-04-21T20:53:21.730Z"
   },
   {
    "duration": 6,
    "start_time": "2023-04-21T20:53:59.375Z"
   },
   {
    "duration": 6,
    "start_time": "2023-04-21T20:54:18.977Z"
   },
   {
    "duration": 6,
    "start_time": "2023-04-21T20:55:50.495Z"
   },
   {
    "duration": 5,
    "start_time": "2023-04-21T20:55:59.522Z"
   },
   {
    "duration": 5,
    "start_time": "2023-04-21T20:56:15.677Z"
   },
   {
    "duration": 11,
    "start_time": "2023-04-21T20:56:39.295Z"
   },
   {
    "duration": 120,
    "start_time": "2023-04-21T20:56:47.897Z"
   },
   {
    "duration": 22,
    "start_time": "2023-04-21T20:56:54.736Z"
   },
   {
    "duration": 117,
    "start_time": "2023-04-21T20:56:58.948Z"
   },
   {
    "duration": 5,
    "start_time": "2023-04-21T20:57:09.812Z"
   },
   {
    "duration": 6,
    "start_time": "2023-04-21T20:57:14.014Z"
   },
   {
    "duration": 4,
    "start_time": "2023-04-21T21:04:07.209Z"
   },
   {
    "duration": 34,
    "start_time": "2023-04-21T21:04:07.214Z"
   },
   {
    "duration": 14,
    "start_time": "2023-04-21T21:04:07.249Z"
   },
   {
    "duration": 20,
    "start_time": "2023-04-21T21:04:07.265Z"
   },
   {
    "duration": 26,
    "start_time": "2023-04-21T21:04:07.287Z"
   },
   {
    "duration": 27,
    "start_time": "2023-04-21T21:04:07.315Z"
   },
   {
    "duration": 9,
    "start_time": "2023-04-21T21:04:07.344Z"
   },
   {
    "duration": 13,
    "start_time": "2023-04-21T21:04:07.354Z"
   },
   {
    "duration": 7,
    "start_time": "2023-04-21T21:04:07.369Z"
   },
   {
    "duration": 6,
    "start_time": "2023-04-21T21:04:07.378Z"
   },
   {
    "duration": 89,
    "start_time": "2023-04-21T21:04:07.386Z"
   },
   {
    "duration": 5,
    "start_time": "2023-04-21T21:04:07.476Z"
   },
   {
    "duration": 186,
    "start_time": "2023-04-21T21:04:07.482Z"
   },
   {
    "duration": 980,
    "start_time": "2023-04-21T21:04:07.671Z"
   },
   {
    "duration": 3981,
    "start_time": "2023-04-21T21:04:08.655Z"
   },
   {
    "duration": 5,
    "start_time": "2023-04-21T21:04:12.638Z"
   },
   {
    "duration": 221,
    "start_time": "2023-04-21T21:04:12.645Z"
   },
   {
    "duration": 14,
    "start_time": "2023-04-21T21:04:12.868Z"
   },
   {
    "duration": 0,
    "start_time": "2023-04-21T21:04:12.884Z"
   },
   {
    "duration": 0,
    "start_time": "2023-04-21T21:04:12.886Z"
   },
   {
    "duration": 0,
    "start_time": "2023-04-21T21:04:12.887Z"
   },
   {
    "duration": 0,
    "start_time": "2023-04-21T21:04:12.889Z"
   },
   {
    "duration": 0,
    "start_time": "2023-04-21T21:04:12.891Z"
   },
   {
    "duration": 0,
    "start_time": "2023-04-21T21:04:12.892Z"
   },
   {
    "duration": 0,
    "start_time": "2023-04-21T21:04:12.894Z"
   },
   {
    "duration": 0,
    "start_time": "2023-04-21T21:04:12.895Z"
   },
   {
    "duration": 4,
    "start_time": "2023-04-21T21:04:57.382Z"
   },
   {
    "duration": 27,
    "start_time": "2023-04-21T21:04:57.398Z"
   },
   {
    "duration": 12,
    "start_time": "2023-04-21T21:04:57.426Z"
   },
   {
    "duration": 23,
    "start_time": "2023-04-21T21:04:57.440Z"
   },
   {
    "duration": 21,
    "start_time": "2023-04-21T21:04:57.465Z"
   },
   {
    "duration": 9,
    "start_time": "2023-04-21T21:04:57.488Z"
   },
   {
    "duration": 6,
    "start_time": "2023-04-21T21:04:57.499Z"
   },
   {
    "duration": 9,
    "start_time": "2023-04-21T21:04:57.506Z"
   },
   {
    "duration": 21,
    "start_time": "2023-04-21T21:04:57.517Z"
   },
   {
    "duration": 8,
    "start_time": "2023-04-21T21:04:57.540Z"
   },
   {
    "duration": 87,
    "start_time": "2023-04-21T21:04:57.550Z"
   },
   {
    "duration": 6,
    "start_time": "2023-04-21T21:04:57.638Z"
   },
   {
    "duration": 169,
    "start_time": "2023-04-21T21:04:57.646Z"
   },
   {
    "duration": 425,
    "start_time": "2023-04-21T21:04:57.816Z"
   },
   {
    "duration": 3799,
    "start_time": "2023-04-21T21:04:58.245Z"
   },
   {
    "duration": 5,
    "start_time": "2023-04-21T21:05:02.046Z"
   },
   {
    "duration": 213,
    "start_time": "2023-04-21T21:05:02.053Z"
   },
   {
    "duration": 12,
    "start_time": "2023-04-21T21:05:02.268Z"
   },
   {
    "duration": 0,
    "start_time": "2023-04-21T21:05:02.282Z"
   },
   {
    "duration": 0,
    "start_time": "2023-04-21T21:05:02.283Z"
   },
   {
    "duration": 0,
    "start_time": "2023-04-21T21:05:02.284Z"
   },
   {
    "duration": 0,
    "start_time": "2023-04-21T21:05:02.285Z"
   },
   {
    "duration": 0,
    "start_time": "2023-04-21T21:05:02.286Z"
   },
   {
    "duration": 0,
    "start_time": "2023-04-21T21:05:02.287Z"
   },
   {
    "duration": 0,
    "start_time": "2023-04-21T21:05:02.288Z"
   },
   {
    "duration": 0,
    "start_time": "2023-04-21T21:05:02.289Z"
   },
   {
    "duration": 923,
    "start_time": "2023-04-21T21:05:32.111Z"
   },
   {
    "duration": 380,
    "start_time": "2023-04-21T21:06:07.031Z"
   },
   {
    "duration": 3,
    "start_time": "2023-04-21T21:06:07.413Z"
   },
   {
    "duration": 9,
    "start_time": "2023-04-21T21:06:11.456Z"
   },
   {
    "duration": 9,
    "start_time": "2023-04-21T21:06:11.498Z"
   },
   {
    "duration": 6,
    "start_time": "2023-04-21T21:06:11.616Z"
   },
   {
    "duration": 4,
    "start_time": "2023-04-21T21:06:12.858Z"
   },
   {
    "duration": 18,
    "start_time": "2023-04-21T21:06:13.043Z"
   },
   {
    "duration": 12,
    "start_time": "2023-04-21T21:06:13.231Z"
   },
   {
    "duration": 13,
    "start_time": "2023-04-21T21:06:34.634Z"
   },
   {
    "duration": 5,
    "start_time": "2023-04-21T21:06:34.910Z"
   },
   {
    "duration": 4,
    "start_time": "2023-04-21T21:06:38.210Z"
   },
   {
    "duration": 33,
    "start_time": "2023-04-21T21:06:38.215Z"
   },
   {
    "duration": 12,
    "start_time": "2023-04-21T21:06:38.251Z"
   },
   {
    "duration": 11,
    "start_time": "2023-04-21T21:06:38.264Z"
   },
   {
    "duration": 21,
    "start_time": "2023-04-21T21:06:38.277Z"
   },
   {
    "duration": 9,
    "start_time": "2023-04-21T21:06:38.300Z"
   },
   {
    "duration": 30,
    "start_time": "2023-04-21T21:06:38.310Z"
   },
   {
    "duration": 18,
    "start_time": "2023-04-21T21:06:38.343Z"
   },
   {
    "duration": 10,
    "start_time": "2023-04-21T21:06:38.363Z"
   },
   {
    "duration": 5,
    "start_time": "2023-04-21T21:06:38.376Z"
   },
   {
    "duration": 93,
    "start_time": "2023-04-21T21:06:38.383Z"
   },
   {
    "duration": 5,
    "start_time": "2023-04-21T21:06:38.478Z"
   },
   {
    "duration": 186,
    "start_time": "2023-04-21T21:06:38.484Z"
   },
   {
    "duration": 838,
    "start_time": "2023-04-21T21:06:38.672Z"
   },
   {
    "duration": 3616,
    "start_time": "2023-04-21T21:06:39.512Z"
   },
   {
    "duration": 3,
    "start_time": "2023-04-21T21:06:43.134Z"
   },
   {
    "duration": 198,
    "start_time": "2023-04-21T21:06:43.139Z"
   },
   {
    "duration": 896,
    "start_time": "2023-04-21T21:06:43.339Z"
   },
   {
    "duration": 312,
    "start_time": "2023-04-21T21:06:44.237Z"
   },
   {
    "duration": 7,
    "start_time": "2023-04-21T21:06:44.551Z"
   },
   {
    "duration": 7,
    "start_time": "2023-04-21T21:06:44.562Z"
   },
   {
    "duration": 12,
    "start_time": "2023-04-21T21:06:44.571Z"
   },
   {
    "duration": 9,
    "start_time": "2023-04-21T21:06:44.585Z"
   },
   {
    "duration": 8,
    "start_time": "2023-04-21T21:06:44.595Z"
   },
   {
    "duration": 10,
    "start_time": "2023-04-21T21:06:44.604Z"
   },
   {
    "duration": 27,
    "start_time": "2023-04-21T21:06:44.616Z"
   },
   {
    "duration": 6,
    "start_time": "2023-04-21T21:06:48.534Z"
   },
   {
    "duration": 41,
    "start_time": "2023-04-21T21:06:48.543Z"
   },
   {
    "duration": 10,
    "start_time": "2023-04-21T21:06:48.586Z"
   },
   {
    "duration": 18,
    "start_time": "2023-04-21T21:06:48.598Z"
   },
   {
    "duration": 34,
    "start_time": "2023-04-21T21:06:48.619Z"
   },
   {
    "duration": 24,
    "start_time": "2023-04-21T21:06:48.655Z"
   },
   {
    "duration": 9,
    "start_time": "2023-04-21T21:06:48.681Z"
   },
   {
    "duration": 17,
    "start_time": "2023-04-21T21:06:48.691Z"
   },
   {
    "duration": 15,
    "start_time": "2023-04-21T21:06:48.709Z"
   },
   {
    "duration": 17,
    "start_time": "2023-04-21T21:06:48.726Z"
   },
   {
    "duration": 103,
    "start_time": "2023-04-21T21:06:48.746Z"
   },
   {
    "duration": 11,
    "start_time": "2023-04-21T21:06:48.852Z"
   },
   {
    "duration": 182,
    "start_time": "2023-04-21T21:06:48.867Z"
   },
   {
    "duration": 509,
    "start_time": "2023-04-21T21:06:49.053Z"
   },
   {
    "duration": 3747,
    "start_time": "2023-04-21T21:06:49.564Z"
   },
   {
    "duration": 5,
    "start_time": "2023-04-21T21:06:53.313Z"
   },
   {
    "duration": 194,
    "start_time": "2023-04-21T21:06:53.335Z"
   },
   {
    "duration": 847,
    "start_time": "2023-04-21T21:06:53.531Z"
   },
   {
    "duration": 280,
    "start_time": "2023-04-21T21:06:54.379Z"
   },
   {
    "duration": 5,
    "start_time": "2023-04-21T21:06:54.661Z"
   },
   {
    "duration": 22,
    "start_time": "2023-04-21T21:06:54.667Z"
   },
   {
    "duration": 35,
    "start_time": "2023-04-21T21:06:54.691Z"
   },
   {
    "duration": 49,
    "start_time": "2023-04-21T21:06:54.728Z"
   },
   {
    "duration": 13,
    "start_time": "2023-04-21T21:06:54.780Z"
   },
   {
    "duration": 24,
    "start_time": "2023-04-21T21:06:54.795Z"
   },
   {
    "duration": 47,
    "start_time": "2023-04-21T21:06:54.821Z"
   },
   {
    "duration": 5,
    "start_time": "2023-04-21T21:07:36.534Z"
   },
   {
    "duration": 15,
    "start_time": "2023-04-21T21:07:39.997Z"
   },
   {
    "duration": 1202,
    "start_time": "2023-04-21T21:07:44.963Z"
   },
   {
    "duration": 4,
    "start_time": "2023-04-21T21:08:11.389Z"
   },
   {
    "duration": 57,
    "start_time": "2023-04-21T21:08:11.395Z"
   },
   {
    "duration": 18,
    "start_time": "2023-04-21T21:08:11.454Z"
   },
   {
    "duration": 17,
    "start_time": "2023-04-21T21:08:11.473Z"
   },
   {
    "duration": 36,
    "start_time": "2023-04-21T21:08:11.493Z"
   },
   {
    "duration": 20,
    "start_time": "2023-04-21T21:08:11.534Z"
   },
   {
    "duration": 20,
    "start_time": "2023-04-21T21:08:11.560Z"
   },
   {
    "duration": 17,
    "start_time": "2023-04-21T21:08:11.581Z"
   },
   {
    "duration": 9,
    "start_time": "2023-04-21T21:08:11.600Z"
   },
   {
    "duration": 6,
    "start_time": "2023-04-21T21:08:11.611Z"
   },
   {
    "duration": 101,
    "start_time": "2023-04-21T21:08:11.619Z"
   },
   {
    "duration": 5,
    "start_time": "2023-04-21T21:08:11.722Z"
   },
   {
    "duration": 223,
    "start_time": "2023-04-21T21:08:11.735Z"
   },
   {
    "duration": 1045,
    "start_time": "2023-04-21T21:08:11.965Z"
   },
   {
    "duration": 4181,
    "start_time": "2023-04-21T21:08:13.013Z"
   },
   {
    "duration": 5,
    "start_time": "2023-04-21T21:08:19.935Z"
   },
   {
    "duration": 5,
    "start_time": "2023-04-21T21:08:38.384Z"
   },
   {
    "duration": 45,
    "start_time": "2023-04-21T21:08:38.391Z"
   },
   {
    "duration": 15,
    "start_time": "2023-04-21T21:08:38.439Z"
   },
   {
    "duration": 22,
    "start_time": "2023-04-21T21:08:38.456Z"
   },
   {
    "duration": 22,
    "start_time": "2023-04-21T21:08:38.480Z"
   },
   {
    "duration": 10,
    "start_time": "2023-04-21T21:08:38.503Z"
   },
   {
    "duration": 9,
    "start_time": "2023-04-21T21:08:38.535Z"
   },
   {
    "duration": 16,
    "start_time": "2023-04-21T21:08:38.545Z"
   },
   {
    "duration": 20,
    "start_time": "2023-04-21T21:08:38.562Z"
   },
   {
    "duration": 4,
    "start_time": "2023-04-21T21:08:38.584Z"
   },
   {
    "duration": 77,
    "start_time": "2023-04-21T21:08:38.590Z"
   },
   {
    "duration": 4,
    "start_time": "2023-04-21T21:08:38.668Z"
   },
   {
    "duration": 290,
    "start_time": "2023-04-21T21:08:38.673Z"
   },
   {
    "duration": 1003,
    "start_time": "2023-04-21T21:08:38.964Z"
   },
   {
    "duration": 3627,
    "start_time": "2023-04-21T21:08:39.969Z"
   },
   {
    "duration": 4,
    "start_time": "2023-04-21T21:08:43.597Z"
   },
   {
    "duration": 202,
    "start_time": "2023-04-21T21:08:43.603Z"
   },
   {
    "duration": 1177,
    "start_time": "2023-04-21T21:08:43.807Z"
   },
   {
    "duration": 636,
    "start_time": "2023-04-21T21:08:44.987Z"
   },
   {
    "duration": 20,
    "start_time": "2023-04-21T21:08:45.624Z"
   },
   {
    "duration": 26,
    "start_time": "2023-04-21T21:08:45.645Z"
   },
   {
    "duration": 31,
    "start_time": "2023-04-21T21:08:45.672Z"
   },
   {
    "duration": 18,
    "start_time": "2023-04-21T21:08:45.706Z"
   },
   {
    "duration": 5,
    "start_time": "2023-04-21T21:08:45.726Z"
   },
   {
    "duration": 13,
    "start_time": "2023-04-21T21:08:45.733Z"
   },
   {
    "duration": 18,
    "start_time": "2023-04-21T21:08:45.748Z"
   },
   {
    "duration": 4,
    "start_time": "2023-04-21T21:08:49.072Z"
   },
   {
    "duration": 67,
    "start_time": "2023-04-21T21:08:49.078Z"
   },
   {
    "duration": 23,
    "start_time": "2023-04-21T21:08:49.146Z"
   },
   {
    "duration": 40,
    "start_time": "2023-04-21T21:08:49.171Z"
   },
   {
    "duration": 56,
    "start_time": "2023-04-21T21:08:49.213Z"
   },
   {
    "duration": 27,
    "start_time": "2023-04-21T21:08:49.271Z"
   },
   {
    "duration": 20,
    "start_time": "2023-04-21T21:08:49.301Z"
   },
   {
    "duration": 46,
    "start_time": "2023-04-21T21:08:49.323Z"
   },
   {
    "duration": 50,
    "start_time": "2023-04-21T21:08:49.372Z"
   },
   {
    "duration": 38,
    "start_time": "2023-04-21T21:08:49.423Z"
   },
   {
    "duration": 93,
    "start_time": "2023-04-21T21:08:49.463Z"
   },
   {
    "duration": 5,
    "start_time": "2023-04-21T21:08:49.557Z"
   },
   {
    "duration": 216,
    "start_time": "2023-04-21T21:08:49.564Z"
   },
   {
    "duration": 745,
    "start_time": "2023-04-21T21:08:49.782Z"
   },
   {
    "duration": 3845,
    "start_time": "2023-04-21T21:08:50.529Z"
   },
   {
    "duration": 4,
    "start_time": "2023-04-21T21:08:54.376Z"
   },
   {
    "duration": 200,
    "start_time": "2023-04-21T21:08:54.382Z"
   },
   {
    "duration": 937,
    "start_time": "2023-04-21T21:08:54.583Z"
   },
   {
    "duration": 540,
    "start_time": "2023-04-21T21:08:55.522Z"
   },
   {
    "duration": 3,
    "start_time": "2023-04-21T21:08:56.065Z"
   },
   {
    "duration": 12,
    "start_time": "2023-04-21T21:08:56.070Z"
   },
   {
    "duration": 12,
    "start_time": "2023-04-21T21:08:56.084Z"
   },
   {
    "duration": 6,
    "start_time": "2023-04-21T21:08:56.098Z"
   },
   {
    "duration": 28,
    "start_time": "2023-04-21T21:08:56.107Z"
   },
   {
    "duration": 28,
    "start_time": "2023-04-21T21:08:56.137Z"
   },
   {
    "duration": 10,
    "start_time": "2023-04-21T21:08:56.167Z"
   },
   {
    "duration": 7,
    "start_time": "2023-04-21T21:09:44.565Z"
   },
   {
    "duration": 9,
    "start_time": "2023-04-21T21:10:07.754Z"
   },
   {
    "duration": 7,
    "start_time": "2023-04-21T21:10:08.200Z"
   },
   {
    "duration": 7,
    "start_time": "2023-04-21T21:10:08.616Z"
   },
   {
    "duration": 3,
    "start_time": "2023-04-21T21:10:12.456Z"
   },
   {
    "duration": 30,
    "start_time": "2023-04-21T21:10:12.462Z"
   },
   {
    "duration": 12,
    "start_time": "2023-04-21T21:10:12.495Z"
   },
   {
    "duration": 12,
    "start_time": "2023-04-21T21:10:12.509Z"
   },
   {
    "duration": 25,
    "start_time": "2023-04-21T21:10:12.524Z"
   },
   {
    "duration": 14,
    "start_time": "2023-04-21T21:10:12.551Z"
   },
   {
    "duration": 9,
    "start_time": "2023-04-21T21:10:12.567Z"
   },
   {
    "duration": 15,
    "start_time": "2023-04-21T21:10:12.578Z"
   },
   {
    "duration": 24,
    "start_time": "2023-04-21T21:10:12.595Z"
   },
   {
    "duration": 6,
    "start_time": "2023-04-21T21:10:12.621Z"
   },
   {
    "duration": 8,
    "start_time": "2023-04-21T21:10:12.634Z"
   },
   {
    "duration": 28,
    "start_time": "2023-04-21T21:10:12.644Z"
   },
   {
    "duration": 22,
    "start_time": "2023-04-21T21:10:12.674Z"
   },
   {
    "duration": 4,
    "start_time": "2023-04-21T21:10:15.917Z"
   },
   {
    "duration": 36,
    "start_time": "2023-04-21T21:10:15.923Z"
   },
   {
    "duration": 16,
    "start_time": "2023-04-21T21:10:15.961Z"
   },
   {
    "duration": 18,
    "start_time": "2023-04-21T21:10:15.979Z"
   },
   {
    "duration": 29,
    "start_time": "2023-04-21T21:10:16.000Z"
   },
   {
    "duration": 17,
    "start_time": "2023-04-21T21:10:16.031Z"
   },
   {
    "duration": 29,
    "start_time": "2023-04-21T21:10:16.050Z"
   },
   {
    "duration": 8,
    "start_time": "2023-04-21T21:10:16.081Z"
   },
   {
    "duration": 11,
    "start_time": "2023-04-21T21:10:16.090Z"
   },
   {
    "duration": 5,
    "start_time": "2023-04-21T21:10:16.103Z"
   },
   {
    "duration": 16,
    "start_time": "2023-04-21T21:10:16.110Z"
   },
   {
    "duration": 13,
    "start_time": "2023-04-21T21:10:16.128Z"
   },
   {
    "duration": 5,
    "start_time": "2023-04-21T21:10:22.632Z"
   },
   {
    "duration": 37,
    "start_time": "2023-04-21T21:10:22.639Z"
   },
   {
    "duration": 16,
    "start_time": "2023-04-21T21:10:22.678Z"
   },
   {
    "duration": 15,
    "start_time": "2023-04-21T21:10:22.696Z"
   },
   {
    "duration": 24,
    "start_time": "2023-04-21T21:10:22.713Z"
   },
   {
    "duration": 13,
    "start_time": "2023-04-21T21:10:22.738Z"
   },
   {
    "duration": 19,
    "start_time": "2023-04-21T21:10:22.753Z"
   },
   {
    "duration": 10,
    "start_time": "2023-04-21T21:10:22.774Z"
   },
   {
    "duration": 10,
    "start_time": "2023-04-21T21:10:22.786Z"
   },
   {
    "duration": 8,
    "start_time": "2023-04-21T21:10:22.798Z"
   },
   {
    "duration": 9,
    "start_time": "2023-04-21T21:10:22.807Z"
   },
   {
    "duration": 4,
    "start_time": "2023-04-21T21:10:28.599Z"
   },
   {
    "duration": 28,
    "start_time": "2023-04-21T21:10:28.611Z"
   },
   {
    "duration": 13,
    "start_time": "2023-04-21T21:10:28.641Z"
   },
   {
    "duration": 27,
    "start_time": "2023-04-21T21:10:28.655Z"
   },
   {
    "duration": 25,
    "start_time": "2023-04-21T21:10:28.683Z"
   },
   {
    "duration": 8,
    "start_time": "2023-04-21T21:10:28.711Z"
   },
   {
    "duration": 16,
    "start_time": "2023-04-21T21:10:28.721Z"
   },
   {
    "duration": 33,
    "start_time": "2023-04-21T21:10:28.739Z"
   },
   {
    "duration": 9,
    "start_time": "2023-04-21T21:10:28.774Z"
   },
   {
    "duration": 12,
    "start_time": "2023-04-21T21:10:28.785Z"
   },
   {
    "duration": 6,
    "start_time": "2023-04-21T21:10:40.284Z"
   },
   {
    "duration": 4,
    "start_time": "2023-04-21T21:10:40.614Z"
   },
   {
    "duration": 9,
    "start_time": "2023-04-21T21:10:41.039Z"
   },
   {
    "duration": 7,
    "start_time": "2023-04-21T21:10:41.820Z"
   },
   {
    "duration": 8,
    "start_time": "2023-04-21T21:10:42.681Z"
   },
   {
    "duration": 6,
    "start_time": "2023-04-21T21:10:46.435Z"
   },
   {
    "duration": 55,
    "start_time": "2023-04-21T21:10:46.443Z"
   },
   {
    "duration": 22,
    "start_time": "2023-04-21T21:10:46.500Z"
   },
   {
    "duration": 43,
    "start_time": "2023-04-21T21:10:46.525Z"
   },
   {
    "duration": 37,
    "start_time": "2023-04-21T21:10:46.569Z"
   },
   {
    "duration": 12,
    "start_time": "2023-04-21T21:10:46.608Z"
   },
   {
    "duration": 13,
    "start_time": "2023-04-21T21:10:46.622Z"
   },
   {
    "duration": 21,
    "start_time": "2023-04-21T21:10:46.638Z"
   },
   {
    "duration": 12,
    "start_time": "2023-04-21T21:10:46.661Z"
   },
   {
    "duration": 6,
    "start_time": "2023-04-21T21:10:46.676Z"
   },
   {
    "duration": 12,
    "start_time": "2023-04-21T21:10:46.684Z"
   },
   {
    "duration": 17,
    "start_time": "2023-04-21T21:10:46.698Z"
   },
   {
    "duration": 42,
    "start_time": "2023-04-21T21:10:46.717Z"
   },
   {
    "duration": 5,
    "start_time": "2023-04-21T21:10:49.970Z"
   },
   {
    "duration": 36,
    "start_time": "2023-04-21T21:10:49.978Z"
   },
   {
    "duration": 11,
    "start_time": "2023-04-21T21:10:50.016Z"
   },
   {
    "duration": 37,
    "start_time": "2023-04-21T21:10:50.029Z"
   },
   {
    "duration": 52,
    "start_time": "2023-04-21T21:10:50.069Z"
   },
   {
    "duration": 11,
    "start_time": "2023-04-21T21:10:50.123Z"
   },
   {
    "duration": 10,
    "start_time": "2023-04-21T21:10:50.137Z"
   },
   {
    "duration": 13,
    "start_time": "2023-04-21T21:10:50.150Z"
   },
   {
    "duration": 14,
    "start_time": "2023-04-21T21:10:50.164Z"
   },
   {
    "duration": 24,
    "start_time": "2023-04-21T21:10:50.179Z"
   },
   {
    "duration": 20,
    "start_time": "2023-04-21T21:10:50.205Z"
   },
   {
    "duration": 27,
    "start_time": "2023-04-21T21:10:50.226Z"
   },
   {
    "duration": 4,
    "start_time": "2023-04-21T21:10:53.212Z"
   },
   {
    "duration": 63,
    "start_time": "2023-04-21T21:10:53.218Z"
   },
   {
    "duration": 12,
    "start_time": "2023-04-21T21:10:53.283Z"
   },
   {
    "duration": 37,
    "start_time": "2023-04-21T21:10:53.297Z"
   },
   {
    "duration": 30,
    "start_time": "2023-04-21T21:10:53.337Z"
   },
   {
    "duration": 10,
    "start_time": "2023-04-21T21:10:53.369Z"
   },
   {
    "duration": 8,
    "start_time": "2023-04-21T21:10:53.381Z"
   },
   {
    "duration": 16,
    "start_time": "2023-04-21T21:10:53.391Z"
   },
   {
    "duration": 12,
    "start_time": "2023-04-21T21:10:53.408Z"
   },
   {
    "duration": 53,
    "start_time": "2023-04-21T21:10:53.422Z"
   },
   {
    "duration": 41,
    "start_time": "2023-04-21T21:10:53.476Z"
   },
   {
    "duration": 4,
    "start_time": "2023-04-21T21:10:56.583Z"
   },
   {
    "duration": 43,
    "start_time": "2023-04-21T21:10:56.589Z"
   },
   {
    "duration": 15,
    "start_time": "2023-04-21T21:10:56.634Z"
   },
   {
    "duration": 24,
    "start_time": "2023-04-21T21:10:56.650Z"
   },
   {
    "duration": 20,
    "start_time": "2023-04-21T21:10:56.676Z"
   },
   {
    "duration": 9,
    "start_time": "2023-04-21T21:10:56.698Z"
   },
   {
    "duration": 10,
    "start_time": "2023-04-21T21:10:56.708Z"
   },
   {
    "duration": 7,
    "start_time": "2023-04-21T21:10:56.737Z"
   },
   {
    "duration": 19,
    "start_time": "2023-04-21T21:10:56.746Z"
   },
   {
    "duration": 16,
    "start_time": "2023-04-21T21:10:56.767Z"
   },
   {
    "duration": 4,
    "start_time": "2023-04-21T21:10:59.465Z"
   },
   {
    "duration": 33,
    "start_time": "2023-04-21T21:10:59.471Z"
   },
   {
    "duration": 9,
    "start_time": "2023-04-21T21:10:59.506Z"
   },
   {
    "duration": 13,
    "start_time": "2023-04-21T21:10:59.517Z"
   },
   {
    "duration": 27,
    "start_time": "2023-04-21T21:10:59.532Z"
   },
   {
    "duration": 10,
    "start_time": "2023-04-21T21:10:59.560Z"
   },
   {
    "duration": 8,
    "start_time": "2023-04-21T21:10:59.571Z"
   },
   {
    "duration": 7,
    "start_time": "2023-04-21T21:10:59.580Z"
   },
   {
    "duration": 10,
    "start_time": "2023-04-21T21:10:59.589Z"
   },
   {
    "duration": 5,
    "start_time": "2023-04-21T21:11:02.548Z"
   },
   {
    "duration": 55,
    "start_time": "2023-04-21T21:11:02.556Z"
   },
   {
    "duration": 12,
    "start_time": "2023-04-21T21:11:02.613Z"
   },
   {
    "duration": 32,
    "start_time": "2023-04-21T21:11:02.626Z"
   },
   {
    "duration": 30,
    "start_time": "2023-04-21T21:11:02.661Z"
   },
   {
    "duration": 9,
    "start_time": "2023-04-21T21:11:02.692Z"
   },
   {
    "duration": 34,
    "start_time": "2023-04-21T21:11:02.703Z"
   },
   {
    "duration": 22,
    "start_time": "2023-04-21T21:11:02.739Z"
   },
   {
    "duration": 3,
    "start_time": "2023-04-21T21:11:05.184Z"
   },
   {
    "duration": 41,
    "start_time": "2023-04-21T21:11:05.190Z"
   },
   {
    "duration": 15,
    "start_time": "2023-04-21T21:11:05.233Z"
   },
   {
    "duration": 71,
    "start_time": "2023-04-21T21:11:05.251Z"
   },
   {
    "duration": 31,
    "start_time": "2023-04-21T21:11:05.324Z"
   },
   {
    "duration": 17,
    "start_time": "2023-04-21T21:11:05.357Z"
   },
   {
    "duration": 11,
    "start_time": "2023-04-21T21:11:05.376Z"
   },
   {
    "duration": 5,
    "start_time": "2023-04-21T21:11:24.662Z"
   },
   {
    "duration": 6,
    "start_time": "2023-04-21T21:11:25.025Z"
   },
   {
    "duration": 5,
    "start_time": "2023-04-21T21:11:25.618Z"
   },
   {
    "duration": 4,
    "start_time": "2023-04-21T21:11:42.887Z"
   },
   {
    "duration": 33,
    "start_time": "2023-04-21T21:11:42.892Z"
   },
   {
    "duration": 18,
    "start_time": "2023-04-21T21:11:42.927Z"
   },
   {
    "duration": 17,
    "start_time": "2023-04-21T21:11:42.947Z"
   },
   {
    "duration": 27,
    "start_time": "2023-04-21T21:11:42.966Z"
   },
   {
    "duration": 10,
    "start_time": "2023-04-21T21:11:42.994Z"
   },
   {
    "duration": 20,
    "start_time": "2023-04-21T21:11:43.006Z"
   },
   {
    "duration": 13,
    "start_time": "2023-04-21T21:11:43.035Z"
   },
   {
    "duration": 23,
    "start_time": "2023-04-21T21:11:43.050Z"
   },
   {
    "duration": 12,
    "start_time": "2023-04-21T21:11:43.074Z"
   },
   {
    "duration": 14,
    "start_time": "2023-04-21T21:11:43.088Z"
   },
   {
    "duration": 18,
    "start_time": "2023-04-21T21:11:43.104Z"
   },
   {
    "duration": 9,
    "start_time": "2023-04-21T21:11:43.124Z"
   },
   {
    "duration": 88,
    "start_time": "2023-04-21T21:11:43.137Z"
   },
   {
    "duration": 3,
    "start_time": "2023-04-21T21:11:43.227Z"
   },
   {
    "duration": 192,
    "start_time": "2023-04-21T21:11:43.232Z"
   },
   {
    "duration": 478,
    "start_time": "2023-04-21T21:11:43.425Z"
   },
   {
    "duration": 3994,
    "start_time": "2023-04-21T21:11:43.905Z"
   },
   {
    "duration": 4,
    "start_time": "2023-04-21T21:11:47.901Z"
   },
   {
    "duration": 285,
    "start_time": "2023-04-21T21:11:47.906Z"
   },
   {
    "duration": 1145,
    "start_time": "2023-04-21T21:11:48.193Z"
   },
   {
    "duration": 336,
    "start_time": "2023-04-21T21:11:49.341Z"
   },
   {
    "duration": 4,
    "start_time": "2023-04-21T21:11:49.679Z"
   },
   {
    "duration": 15,
    "start_time": "2023-04-21T21:11:49.685Z"
   },
   {
    "duration": 21,
    "start_time": "2023-04-21T21:11:49.701Z"
   },
   {
    "duration": 24,
    "start_time": "2023-04-21T21:11:49.724Z"
   },
   {
    "duration": 17,
    "start_time": "2023-04-21T21:11:49.751Z"
   },
   {
    "duration": 14,
    "start_time": "2023-04-21T21:11:49.770Z"
   },
   {
    "duration": 9,
    "start_time": "2023-04-21T21:11:49.786Z"
   },
   {
    "duration": 4,
    "start_time": "2023-04-21T21:12:10.162Z"
   },
   {
    "duration": 38,
    "start_time": "2023-04-21T21:12:10.168Z"
   },
   {
    "duration": 11,
    "start_time": "2023-04-21T21:12:10.208Z"
   },
   {
    "duration": 16,
    "start_time": "2023-04-21T21:12:10.220Z"
   },
   {
    "duration": 32,
    "start_time": "2023-04-21T21:12:10.239Z"
   },
   {
    "duration": 9,
    "start_time": "2023-04-21T21:12:10.273Z"
   },
   {
    "duration": 16,
    "start_time": "2023-04-21T21:12:10.284Z"
   },
   {
    "duration": 16,
    "start_time": "2023-04-21T21:12:10.302Z"
   },
   {
    "duration": 29,
    "start_time": "2023-04-21T21:12:10.319Z"
   },
   {
    "duration": 15,
    "start_time": "2023-04-21T21:12:10.350Z"
   },
   {
    "duration": 12,
    "start_time": "2023-04-21T21:12:10.367Z"
   },
   {
    "duration": 7,
    "start_time": "2023-04-21T21:12:10.381Z"
   },
   {
    "duration": 13,
    "start_time": "2023-04-21T21:12:10.390Z"
   },
   {
    "duration": 124,
    "start_time": "2023-04-21T21:12:10.408Z"
   },
   {
    "duration": 5,
    "start_time": "2023-04-21T21:12:10.534Z"
   },
   {
    "duration": 207,
    "start_time": "2023-04-21T21:12:10.541Z"
   },
   {
    "duration": 649,
    "start_time": "2023-04-21T21:12:10.751Z"
   },
   {
    "duration": 4254,
    "start_time": "2023-04-21T21:12:11.401Z"
   },
   {
    "duration": 4,
    "start_time": "2023-04-21T21:12:15.659Z"
   },
   {
    "duration": 210,
    "start_time": "2023-04-21T21:12:15.665Z"
   },
   {
    "duration": 1020,
    "start_time": "2023-04-21T21:12:15.877Z"
   },
   {
    "duration": 310,
    "start_time": "2023-04-21T21:12:16.898Z"
   },
   {
    "duration": 4,
    "start_time": "2023-04-21T21:12:17.209Z"
   },
   {
    "duration": 11,
    "start_time": "2023-04-21T21:12:17.214Z"
   },
   {
    "duration": 18,
    "start_time": "2023-04-21T21:12:17.235Z"
   },
   {
    "duration": 25,
    "start_time": "2023-04-21T21:12:17.256Z"
   },
   {
    "duration": 8,
    "start_time": "2023-04-21T21:12:17.283Z"
   },
   {
    "duration": 7,
    "start_time": "2023-04-21T21:12:17.293Z"
   },
   {
    "duration": 11,
    "start_time": "2023-04-21T21:12:17.301Z"
   },
   {
    "duration": 6,
    "start_time": "2023-04-21T21:18:10.094Z"
   },
   {
    "duration": 14,
    "start_time": "2023-04-21T21:18:10.351Z"
   },
   {
    "duration": 7,
    "start_time": "2023-04-21T21:18:15.471Z"
   },
   {
    "duration": 4,
    "start_time": "2023-04-21T21:18:23.823Z"
   },
   {
    "duration": 50,
    "start_time": "2023-04-21T21:18:23.829Z"
   },
   {
    "duration": 10,
    "start_time": "2023-04-21T21:18:23.881Z"
   },
   {
    "duration": 11,
    "start_time": "2023-04-21T21:18:23.892Z"
   },
   {
    "duration": 22,
    "start_time": "2023-04-21T21:18:23.905Z"
   },
   {
    "duration": 19,
    "start_time": "2023-04-21T21:18:23.928Z"
   },
   {
    "duration": 7,
    "start_time": "2023-04-21T21:18:23.949Z"
   },
   {
    "duration": 6,
    "start_time": "2023-04-21T21:18:23.958Z"
   },
   {
    "duration": 7,
    "start_time": "2023-04-21T21:18:23.965Z"
   },
   {
    "duration": 5,
    "start_time": "2023-04-21T21:18:23.973Z"
   },
   {
    "duration": 6,
    "start_time": "2023-04-21T21:18:23.980Z"
   },
   {
    "duration": 8,
    "start_time": "2023-04-21T21:18:23.987Z"
   },
   {
    "duration": 8,
    "start_time": "2023-04-21T21:18:23.996Z"
   },
   {
    "duration": 87,
    "start_time": "2023-04-21T21:18:24.007Z"
   },
   {
    "duration": 4,
    "start_time": "2023-04-21T21:18:24.095Z"
   },
   {
    "duration": 176,
    "start_time": "2023-04-21T21:18:24.100Z"
   },
   {
    "duration": 884,
    "start_time": "2023-04-21T21:18:24.278Z"
   },
   {
    "duration": 3387,
    "start_time": "2023-04-21T21:18:25.163Z"
   },
   {
    "duration": 4,
    "start_time": "2023-04-21T21:18:28.551Z"
   },
   {
    "duration": 194,
    "start_time": "2023-04-21T21:18:28.557Z"
   },
   {
    "duration": 907,
    "start_time": "2023-04-21T21:18:28.752Z"
   },
   {
    "duration": 254,
    "start_time": "2023-04-21T21:18:29.661Z"
   },
   {
    "duration": 3,
    "start_time": "2023-04-21T21:18:29.916Z"
   },
   {
    "duration": 32,
    "start_time": "2023-04-21T21:18:29.920Z"
   },
   {
    "duration": 15,
    "start_time": "2023-04-21T21:18:29.954Z"
   },
   {
    "duration": 16,
    "start_time": "2023-04-21T21:18:29.971Z"
   },
   {
    "duration": 34,
    "start_time": "2023-04-21T21:18:29.989Z"
   },
   {
    "duration": 25,
    "start_time": "2023-04-21T21:18:30.024Z"
   },
   {
    "duration": 32,
    "start_time": "2023-04-21T21:18:30.050Z"
   },
   {
    "duration": 3,
    "start_time": "2023-04-21T21:29:54.516Z"
   },
   {
    "duration": 34,
    "start_time": "2023-04-21T21:29:54.521Z"
   },
   {
    "duration": 13,
    "start_time": "2023-04-21T21:29:54.557Z"
   },
   {
    "duration": 20,
    "start_time": "2023-04-21T21:29:54.572Z"
   },
   {
    "duration": 38,
    "start_time": "2023-04-21T21:29:54.595Z"
   },
   {
    "duration": 15,
    "start_time": "2023-04-21T21:29:54.635Z"
   },
   {
    "duration": 9,
    "start_time": "2023-04-21T21:29:54.652Z"
   },
   {
    "duration": 5,
    "start_time": "2023-04-21T21:29:54.664Z"
   },
   {
    "duration": 30,
    "start_time": "2023-04-21T21:29:54.672Z"
   },
   {
    "duration": 12,
    "start_time": "2023-04-21T21:29:54.704Z"
   },
   {
    "duration": 36,
    "start_time": "2023-04-21T21:29:54.718Z"
   },
   {
    "duration": 31,
    "start_time": "2023-04-21T21:29:54.756Z"
   },
   {
    "duration": 16,
    "start_time": "2023-04-21T21:29:54.789Z"
   },
   {
    "duration": 99,
    "start_time": "2023-04-21T21:29:54.809Z"
   },
   {
    "duration": 4,
    "start_time": "2023-04-21T21:29:54.910Z"
   },
   {
    "duration": 162,
    "start_time": "2023-04-21T21:29:54.915Z"
   },
   {
    "duration": 453,
    "start_time": "2023-04-21T21:29:55.079Z"
   },
   {
    "duration": 3338,
    "start_time": "2023-04-21T21:29:55.534Z"
   },
   {
    "duration": 4,
    "start_time": "2023-04-21T21:29:58.873Z"
   },
   {
    "duration": 180,
    "start_time": "2023-04-21T21:29:58.879Z"
   },
   {
    "duration": 934,
    "start_time": "2023-04-21T21:29:59.062Z"
   },
   {
    "duration": 274,
    "start_time": "2023-04-21T21:29:59.998Z"
   },
   {
    "duration": 4,
    "start_time": "2023-04-21T21:30:00.274Z"
   },
   {
    "duration": 46,
    "start_time": "2023-04-21T21:30:00.280Z"
   },
   {
    "duration": 32,
    "start_time": "2023-04-21T21:30:00.327Z"
   },
   {
    "duration": 15,
    "start_time": "2023-04-21T21:30:00.360Z"
   },
   {
    "duration": 26,
    "start_time": "2023-04-21T21:30:00.377Z"
   },
   {
    "duration": 16,
    "start_time": "2023-04-21T21:30:00.405Z"
   },
   {
    "duration": 40,
    "start_time": "2023-04-21T21:30:00.423Z"
   },
   {
    "duration": 8,
    "start_time": "2023-04-21T21:31:54.732Z"
   },
   {
    "duration": 6,
    "start_time": "2023-04-21T21:31:55.416Z"
   },
   {
    "duration": 5,
    "start_time": "2023-04-21T21:31:55.968Z"
   },
   {
    "duration": 165,
    "start_time": "2023-04-21T21:33:22.023Z"
   },
   {
    "duration": 6,
    "start_time": "2023-04-21T21:35:59.701Z"
   },
   {
    "duration": 14,
    "start_time": "2023-04-21T21:36:00.415Z"
   },
   {
    "duration": 7,
    "start_time": "2023-04-21T21:36:01.966Z"
   },
   {
    "duration": 3,
    "start_time": "2023-04-21T21:36:58.734Z"
   },
   {
    "duration": 37,
    "start_time": "2023-04-21T21:36:58.740Z"
   },
   {
    "duration": 10,
    "start_time": "2023-04-21T21:36:58.779Z"
   },
   {
    "duration": 12,
    "start_time": "2023-04-21T21:36:58.791Z"
   },
   {
    "duration": 20,
    "start_time": "2023-04-21T21:36:58.805Z"
   },
   {
    "duration": 15,
    "start_time": "2023-04-21T21:36:58.826Z"
   },
   {
    "duration": 6,
    "start_time": "2023-04-21T21:36:58.842Z"
   },
   {
    "duration": 10,
    "start_time": "2023-04-21T21:36:58.850Z"
   },
   {
    "duration": 8,
    "start_time": "2023-04-21T21:36:58.862Z"
   },
   {
    "duration": 6,
    "start_time": "2023-04-21T21:36:58.871Z"
   },
   {
    "duration": 17,
    "start_time": "2023-04-21T21:36:58.878Z"
   },
   {
    "duration": 7,
    "start_time": "2023-04-21T21:36:58.896Z"
   },
   {
    "duration": 115,
    "start_time": "2023-04-21T21:36:58.904Z"
   },
   {
    "duration": 76,
    "start_time": "2023-04-21T21:36:59.023Z"
   },
   {
    "duration": 4,
    "start_time": "2023-04-21T21:36:59.101Z"
   },
   {
    "duration": 175,
    "start_time": "2023-04-21T21:36:59.107Z"
   },
   {
    "duration": 422,
    "start_time": "2023-04-21T21:36:59.283Z"
   },
   {
    "duration": 3544,
    "start_time": "2023-04-21T21:36:59.706Z"
   },
   {
    "duration": 4,
    "start_time": "2023-04-21T21:37:03.252Z"
   },
   {
    "duration": 190,
    "start_time": "2023-04-21T21:37:03.257Z"
   },
   {
    "duration": 932,
    "start_time": "2023-04-21T21:37:03.448Z"
   },
   {
    "duration": 263,
    "start_time": "2023-04-21T21:37:04.382Z"
   },
   {
    "duration": 4,
    "start_time": "2023-04-21T21:37:04.646Z"
   },
   {
    "duration": 16,
    "start_time": "2023-04-21T21:37:04.652Z"
   },
   {
    "duration": 18,
    "start_time": "2023-04-21T21:37:04.669Z"
   },
   {
    "duration": 19,
    "start_time": "2023-04-21T21:37:04.689Z"
   },
   {
    "duration": 10,
    "start_time": "2023-04-21T21:37:04.711Z"
   },
   {
    "duration": 15,
    "start_time": "2023-04-21T21:37:04.724Z"
   },
   {
    "duration": 16,
    "start_time": "2023-04-21T21:37:04.741Z"
   },
   {
    "duration": 2948,
    "start_time": "2023-04-22T03:55:56.345Z"
   },
   {
    "duration": 118,
    "start_time": "2023-04-22T03:55:59.295Z"
   },
   {
    "duration": 17,
    "start_time": "2023-04-22T03:55:59.414Z"
   },
   {
    "duration": 12,
    "start_time": "2023-04-22T03:55:59.434Z"
   },
   {
    "duration": 29,
    "start_time": "2023-04-22T03:55:59.448Z"
   },
   {
    "duration": 17,
    "start_time": "2023-04-22T03:55:59.480Z"
   },
   {
    "duration": 10,
    "start_time": "2023-04-22T03:55:59.499Z"
   },
   {
    "duration": 144,
    "start_time": "2023-04-22T03:55:59.511Z"
   },
   {
    "duration": 0,
    "start_time": "2023-04-22T03:55:59.660Z"
   },
   {
    "duration": 0,
    "start_time": "2023-04-22T03:55:59.662Z"
   },
   {
    "duration": 0,
    "start_time": "2023-04-22T03:55:59.664Z"
   },
   {
    "duration": 0,
    "start_time": "2023-04-22T03:55:59.666Z"
   },
   {
    "duration": 0,
    "start_time": "2023-04-22T03:55:59.668Z"
   },
   {
    "duration": 0,
    "start_time": "2023-04-22T03:55:59.669Z"
   },
   {
    "duration": 0,
    "start_time": "2023-04-22T03:55:59.688Z"
   },
   {
    "duration": 0,
    "start_time": "2023-04-22T03:55:59.690Z"
   },
   {
    "duration": 0,
    "start_time": "2023-04-22T03:55:59.691Z"
   },
   {
    "duration": 0,
    "start_time": "2023-04-22T03:55:59.693Z"
   },
   {
    "duration": 0,
    "start_time": "2023-04-22T03:55:59.694Z"
   },
   {
    "duration": 0,
    "start_time": "2023-04-22T03:55:59.696Z"
   },
   {
    "duration": 0,
    "start_time": "2023-04-22T03:55:59.697Z"
   },
   {
    "duration": 0,
    "start_time": "2023-04-22T03:55:59.698Z"
   },
   {
    "duration": 0,
    "start_time": "2023-04-22T03:55:59.700Z"
   },
   {
    "duration": 0,
    "start_time": "2023-04-22T03:55:59.701Z"
   },
   {
    "duration": 0,
    "start_time": "2023-04-22T03:55:59.702Z"
   },
   {
    "duration": 0,
    "start_time": "2023-04-22T03:55:59.704Z"
   },
   {
    "duration": 0,
    "start_time": "2023-04-22T03:55:59.705Z"
   },
   {
    "duration": 0,
    "start_time": "2023-04-22T03:55:59.707Z"
   },
   {
    "duration": 1,
    "start_time": "2023-04-22T03:55:59.708Z"
   },
   {
    "duration": 10,
    "start_time": "2023-04-22T03:56:51.848Z"
   },
   {
    "duration": 2995,
    "start_time": "2023-04-22T03:56:58.907Z"
   },
   {
    "duration": 33,
    "start_time": "2023-04-22T03:57:01.904Z"
   },
   {
    "duration": 39,
    "start_time": "2023-04-22T03:57:01.939Z"
   },
   {
    "duration": 53,
    "start_time": "2023-04-22T03:57:01.980Z"
   },
   {
    "duration": 59,
    "start_time": "2023-04-22T03:57:02.036Z"
   },
   {
    "duration": 25,
    "start_time": "2023-04-22T03:57:02.098Z"
   },
   {
    "duration": 32,
    "start_time": "2023-04-22T03:57:02.125Z"
   },
   {
    "duration": 141,
    "start_time": "2023-04-22T03:57:02.159Z"
   },
   {
    "duration": 0,
    "start_time": "2023-04-22T03:57:02.304Z"
   },
   {
    "duration": 0,
    "start_time": "2023-04-22T03:57:02.305Z"
   },
   {
    "duration": 0,
    "start_time": "2023-04-22T03:57:02.307Z"
   },
   {
    "duration": 0,
    "start_time": "2023-04-22T03:57:02.308Z"
   },
   {
    "duration": 0,
    "start_time": "2023-04-22T03:57:02.309Z"
   },
   {
    "duration": 0,
    "start_time": "2023-04-22T03:57:02.310Z"
   },
   {
    "duration": 0,
    "start_time": "2023-04-22T03:57:02.312Z"
   },
   {
    "duration": 0,
    "start_time": "2023-04-22T03:57:02.313Z"
   },
   {
    "duration": 0,
    "start_time": "2023-04-22T03:57:02.314Z"
   },
   {
    "duration": 0,
    "start_time": "2023-04-22T03:57:02.315Z"
   },
   {
    "duration": 0,
    "start_time": "2023-04-22T03:57:02.316Z"
   },
   {
    "duration": 0,
    "start_time": "2023-04-22T03:57:02.317Z"
   },
   {
    "duration": 0,
    "start_time": "2023-04-22T03:57:02.318Z"
   },
   {
    "duration": 0,
    "start_time": "2023-04-22T03:57:02.319Z"
   },
   {
    "duration": 0,
    "start_time": "2023-04-22T03:57:02.320Z"
   },
   {
    "duration": 0,
    "start_time": "2023-04-22T03:57:02.322Z"
   },
   {
    "duration": 0,
    "start_time": "2023-04-22T03:57:02.323Z"
   },
   {
    "duration": 0,
    "start_time": "2023-04-22T03:57:02.323Z"
   },
   {
    "duration": 0,
    "start_time": "2023-04-22T03:57:02.324Z"
   },
   {
    "duration": 0,
    "start_time": "2023-04-22T03:57:02.326Z"
   },
   {
    "duration": 0,
    "start_time": "2023-04-22T03:57:02.327Z"
   },
   {
    "duration": 2780,
    "start_time": "2023-04-22T03:58:21.417Z"
   },
   {
    "duration": 32,
    "start_time": "2023-04-22T03:58:24.199Z"
   },
   {
    "duration": 15,
    "start_time": "2023-04-22T03:58:24.233Z"
   },
   {
    "duration": 11,
    "start_time": "2023-04-22T03:58:24.251Z"
   },
   {
    "duration": 41,
    "start_time": "2023-04-22T03:58:24.264Z"
   },
   {
    "duration": 10,
    "start_time": "2023-04-22T03:58:24.307Z"
   },
   {
    "duration": 8,
    "start_time": "2023-04-22T03:58:24.319Z"
   },
   {
    "duration": 6,
    "start_time": "2023-04-22T03:58:24.328Z"
   },
   {
    "duration": 143,
    "start_time": "2023-04-22T03:58:24.336Z"
   },
   {
    "duration": 0,
    "start_time": "2023-04-22T03:58:24.488Z"
   },
   {
    "duration": 0,
    "start_time": "2023-04-22T03:58:24.490Z"
   },
   {
    "duration": 0,
    "start_time": "2023-04-22T03:58:24.491Z"
   },
   {
    "duration": 0,
    "start_time": "2023-04-22T03:58:24.492Z"
   },
   {
    "duration": 0,
    "start_time": "2023-04-22T03:58:24.493Z"
   },
   {
    "duration": 0,
    "start_time": "2023-04-22T03:58:24.494Z"
   },
   {
    "duration": 0,
    "start_time": "2023-04-22T03:58:24.495Z"
   },
   {
    "duration": 0,
    "start_time": "2023-04-22T03:58:24.496Z"
   },
   {
    "duration": 0,
    "start_time": "2023-04-22T03:58:24.497Z"
   },
   {
    "duration": 0,
    "start_time": "2023-04-22T03:58:24.499Z"
   },
   {
    "duration": 0,
    "start_time": "2023-04-22T03:58:24.499Z"
   },
   {
    "duration": 0,
    "start_time": "2023-04-22T03:58:24.500Z"
   },
   {
    "duration": 0,
    "start_time": "2023-04-22T03:58:24.501Z"
   },
   {
    "duration": 0,
    "start_time": "2023-04-22T03:58:24.503Z"
   },
   {
    "duration": 0,
    "start_time": "2023-04-22T03:58:24.504Z"
   },
   {
    "duration": 0,
    "start_time": "2023-04-22T03:58:24.505Z"
   },
   {
    "duration": 0,
    "start_time": "2023-04-22T03:58:24.506Z"
   },
   {
    "duration": 0,
    "start_time": "2023-04-22T03:58:24.507Z"
   },
   {
    "duration": 0,
    "start_time": "2023-04-22T03:58:24.508Z"
   },
   {
    "duration": 0,
    "start_time": "2023-04-22T03:58:24.509Z"
   },
   {
    "duration": 10,
    "start_time": "2023-04-22T03:58:34.524Z"
   },
   {
    "duration": 5,
    "start_time": "2023-04-22T03:59:56.774Z"
   },
   {
    "duration": 3530,
    "start_time": "2023-04-22T03:59:59.980Z"
   },
   {
    "duration": 33,
    "start_time": "2023-04-22T04:00:03.512Z"
   },
   {
    "duration": 37,
    "start_time": "2023-04-22T04:00:03.547Z"
   },
   {
    "duration": 37,
    "start_time": "2023-04-22T04:00:03.586Z"
   },
   {
    "duration": 48,
    "start_time": "2023-04-22T04:00:03.625Z"
   },
   {
    "duration": 30,
    "start_time": "2023-04-22T04:00:03.675Z"
   },
   {
    "duration": 15,
    "start_time": "2023-04-22T04:00:03.707Z"
   },
   {
    "duration": 21,
    "start_time": "2023-04-22T04:00:03.724Z"
   },
   {
    "duration": 15,
    "start_time": "2023-04-22T04:00:03.747Z"
   },
   {
    "duration": 25,
    "start_time": "2023-04-22T04:00:03.765Z"
   },
   {
    "duration": 40,
    "start_time": "2023-04-22T04:00:03.792Z"
   },
   {
    "duration": 12,
    "start_time": "2023-04-22T04:00:03.835Z"
   },
   {
    "duration": 17,
    "start_time": "2023-04-22T04:00:03.849Z"
   },
   {
    "duration": 258,
    "start_time": "2023-04-22T04:00:03.868Z"
   },
   {
    "duration": 11,
    "start_time": "2023-04-22T04:00:04.128Z"
   },
   {
    "duration": 0,
    "start_time": "2023-04-22T04:00:04.140Z"
   },
   {
    "duration": 0,
    "start_time": "2023-04-22T04:00:04.142Z"
   },
   {
    "duration": 0,
    "start_time": "2023-04-22T04:00:04.143Z"
   },
   {
    "duration": 0,
    "start_time": "2023-04-22T04:00:04.144Z"
   },
   {
    "duration": 0,
    "start_time": "2023-04-22T04:00:04.145Z"
   },
   {
    "duration": 0,
    "start_time": "2023-04-22T04:00:04.147Z"
   },
   {
    "duration": 0,
    "start_time": "2023-04-22T04:00:04.148Z"
   },
   {
    "duration": 0,
    "start_time": "2023-04-22T04:00:04.150Z"
   },
   {
    "duration": 0,
    "start_time": "2023-04-22T04:00:04.151Z"
   },
   {
    "duration": 0,
    "start_time": "2023-04-22T04:00:04.152Z"
   },
   {
    "duration": 0,
    "start_time": "2023-04-22T04:00:04.153Z"
   },
   {
    "duration": 0,
    "start_time": "2023-04-22T04:00:04.155Z"
   },
   {
    "duration": 0,
    "start_time": "2023-04-22T04:00:04.156Z"
   },
   {
    "duration": 0,
    "start_time": "2023-04-22T04:00:04.157Z"
   },
   {
    "duration": 10,
    "start_time": "2023-04-22T04:00:13.207Z"
   },
   {
    "duration": 10,
    "start_time": "2023-04-22T04:03:43.207Z"
   },
   {
    "duration": 14,
    "start_time": "2023-04-22T04:03:49.152Z"
   },
   {
    "duration": 3,
    "start_time": "2023-04-22T04:04:19.131Z"
   },
   {
    "duration": 123,
    "start_time": "2023-04-22T04:04:22.197Z"
   },
   {
    "duration": 5,
    "start_time": "2023-04-22T04:04:23.692Z"
   },
   {
    "duration": 213,
    "start_time": "2023-04-22T04:04:26.029Z"
   },
   {
    "duration": 1280,
    "start_time": "2023-04-22T04:04:30.150Z"
   },
   {
    "duration": 5180,
    "start_time": "2023-04-22T04:06:26.227Z"
   },
   {
    "duration": 4,
    "start_time": "2023-04-22T04:06:31.410Z"
   },
   {
    "duration": 243,
    "start_time": "2023-04-22T04:06:31.416Z"
   },
   {
    "duration": 1166,
    "start_time": "2023-04-22T04:06:31.662Z"
   },
   {
    "duration": 706,
    "start_time": "2023-04-22T04:08:01.118Z"
   },
   {
    "duration": 5,
    "start_time": "2023-04-22T04:08:01.826Z"
   },
   {
    "duration": 7,
    "start_time": "2023-04-22T04:08:08.622Z"
   },
   {
    "duration": 11,
    "start_time": "2023-04-22T04:08:09.871Z"
   },
   {
    "duration": 9,
    "start_time": "2023-04-22T04:08:10.447Z"
   },
   {
    "duration": 3089,
    "start_time": "2023-04-22T04:09:42.423Z"
   },
   {
    "duration": 32,
    "start_time": "2023-04-22T04:09:45.514Z"
   },
   {
    "duration": 16,
    "start_time": "2023-04-22T04:09:45.548Z"
   },
   {
    "duration": 25,
    "start_time": "2023-04-22T04:09:45.566Z"
   },
   {
    "duration": 58,
    "start_time": "2023-04-22T04:09:45.593Z"
   },
   {
    "duration": 26,
    "start_time": "2023-04-22T04:09:45.653Z"
   },
   {
    "duration": 17,
    "start_time": "2023-04-22T04:09:45.681Z"
   },
   {
    "duration": 136,
    "start_time": "2023-04-22T04:09:45.700Z"
   },
   {
    "duration": 0,
    "start_time": "2023-04-22T04:09:45.840Z"
   },
   {
    "duration": 0,
    "start_time": "2023-04-22T04:09:45.841Z"
   },
   {
    "duration": 0,
    "start_time": "2023-04-22T04:09:45.842Z"
   },
   {
    "duration": 0,
    "start_time": "2023-04-22T04:09:45.844Z"
   },
   {
    "duration": 0,
    "start_time": "2023-04-22T04:09:45.845Z"
   },
   {
    "duration": 0,
    "start_time": "2023-04-22T04:09:45.846Z"
   },
   {
    "duration": 0,
    "start_time": "2023-04-22T04:09:45.848Z"
   },
   {
    "duration": 0,
    "start_time": "2023-04-22T04:09:45.849Z"
   },
   {
    "duration": 0,
    "start_time": "2023-04-22T04:09:45.850Z"
   },
   {
    "duration": 0,
    "start_time": "2023-04-22T04:09:45.851Z"
   },
   {
    "duration": 0,
    "start_time": "2023-04-22T04:09:45.852Z"
   },
   {
    "duration": 0,
    "start_time": "2023-04-22T04:09:45.853Z"
   },
   {
    "duration": 0,
    "start_time": "2023-04-22T04:09:45.854Z"
   },
   {
    "duration": 0,
    "start_time": "2023-04-22T04:09:45.855Z"
   },
   {
    "duration": 0,
    "start_time": "2023-04-22T04:09:45.856Z"
   },
   {
    "duration": 0,
    "start_time": "2023-04-22T04:09:45.857Z"
   },
   {
    "duration": 0,
    "start_time": "2023-04-22T04:09:45.858Z"
   },
   {
    "duration": 0,
    "start_time": "2023-04-22T04:09:45.860Z"
   },
   {
    "duration": 0,
    "start_time": "2023-04-22T04:09:45.860Z"
   },
   {
    "duration": 0,
    "start_time": "2023-04-22T04:09:45.862Z"
   },
   {
    "duration": 0,
    "start_time": "2023-04-22T04:09:45.863Z"
   },
   {
    "duration": 44,
    "start_time": "2023-04-22T09:03:20.839Z"
   },
   {
    "duration": 1482,
    "start_time": "2023-04-22T09:04:19.553Z"
   },
   {
    "duration": 110,
    "start_time": "2023-04-22T09:04:21.037Z"
   },
   {
    "duration": 13,
    "start_time": "2023-04-22T09:04:21.149Z"
   },
   {
    "duration": 33,
    "start_time": "2023-04-22T09:04:21.165Z"
   },
   {
    "duration": 40,
    "start_time": "2023-04-22T09:04:21.200Z"
   },
   {
    "duration": 9,
    "start_time": "2023-04-22T09:04:21.242Z"
   },
   {
    "duration": 16,
    "start_time": "2023-04-22T09:04:21.252Z"
   },
   {
    "duration": 10,
    "start_time": "2023-04-22T09:04:21.270Z"
   },
   {
    "duration": 13,
    "start_time": "2023-04-22T09:04:21.282Z"
   },
   {
    "duration": 4,
    "start_time": "2023-04-22T09:04:21.297Z"
   },
   {
    "duration": 10,
    "start_time": "2023-04-22T09:04:21.302Z"
   },
   {
    "duration": 21,
    "start_time": "2023-04-22T09:04:21.313Z"
   },
   {
    "duration": 5,
    "start_time": "2023-04-22T09:04:21.337Z"
   },
   {
    "duration": 132,
    "start_time": "2023-04-22T09:04:21.344Z"
   },
   {
    "duration": 9,
    "start_time": "2023-04-22T09:04:21.478Z"
   },
   {
    "duration": 0,
    "start_time": "2023-04-22T09:04:21.489Z"
   },
   {
    "duration": 0,
    "start_time": "2023-04-22T09:04:21.490Z"
   },
   {
    "duration": 0,
    "start_time": "2023-04-22T09:04:21.491Z"
   },
   {
    "duration": 0,
    "start_time": "2023-04-22T09:04:21.493Z"
   },
   {
    "duration": 0,
    "start_time": "2023-04-22T09:04:21.494Z"
   },
   {
    "duration": 0,
    "start_time": "2023-04-22T09:04:21.496Z"
   },
   {
    "duration": 0,
    "start_time": "2023-04-22T09:04:21.497Z"
   },
   {
    "duration": 0,
    "start_time": "2023-04-22T09:04:21.498Z"
   },
   {
    "duration": 0,
    "start_time": "2023-04-22T09:04:21.500Z"
   },
   {
    "duration": 0,
    "start_time": "2023-04-22T09:04:21.501Z"
   },
   {
    "duration": 0,
    "start_time": "2023-04-22T09:04:21.503Z"
   },
   {
    "duration": 0,
    "start_time": "2023-04-22T09:04:21.504Z"
   },
   {
    "duration": 0,
    "start_time": "2023-04-22T09:04:21.505Z"
   },
   {
    "duration": 0,
    "start_time": "2023-04-22T09:04:21.506Z"
   },
   {
    "duration": 5,
    "start_time": "2023-04-22T09:05:14.756Z"
   },
   {
    "duration": 5,
    "start_time": "2023-04-22T09:05:17.289Z"
   },
   {
    "duration": 47,
    "start_time": "2023-04-22T09:05:17.296Z"
   },
   {
    "duration": 10,
    "start_time": "2023-04-22T09:05:17.344Z"
   },
   {
    "duration": 11,
    "start_time": "2023-04-22T09:05:17.356Z"
   },
   {
    "duration": 21,
    "start_time": "2023-04-22T09:05:17.368Z"
   },
   {
    "duration": 9,
    "start_time": "2023-04-22T09:05:17.390Z"
   },
   {
    "duration": 6,
    "start_time": "2023-04-22T09:05:17.401Z"
   },
   {
    "duration": 27,
    "start_time": "2023-04-22T09:05:17.408Z"
   },
   {
    "duration": 21,
    "start_time": "2023-04-22T09:05:17.436Z"
   },
   {
    "duration": 5,
    "start_time": "2023-04-22T09:05:17.459Z"
   },
   {
    "duration": 12,
    "start_time": "2023-04-22T09:05:17.465Z"
   },
   {
    "duration": 9,
    "start_time": "2023-04-22T09:05:17.479Z"
   },
   {
    "duration": 6,
    "start_time": "2023-04-22T09:05:17.489Z"
   },
   {
    "duration": 82,
    "start_time": "2023-04-22T09:05:17.497Z"
   },
   {
    "duration": 4,
    "start_time": "2023-04-22T09:05:17.581Z"
   },
   {
    "duration": 180,
    "start_time": "2023-04-22T09:05:17.587Z"
   },
   {
    "duration": 951,
    "start_time": "2023-04-22T09:05:17.768Z"
   },
   {
    "duration": 4165,
    "start_time": "2023-04-22T09:05:18.721Z"
   },
   {
    "duration": 4,
    "start_time": "2023-04-22T09:05:22.887Z"
   },
   {
    "duration": 177,
    "start_time": "2023-04-22T09:05:22.892Z"
   },
   {
    "duration": 746,
    "start_time": "2023-04-22T09:05:23.071Z"
   },
   {
    "duration": 634,
    "start_time": "2023-04-22T09:05:23.818Z"
   },
   {
    "duration": 3,
    "start_time": "2023-04-22T09:05:24.454Z"
   },
   {
    "duration": 33,
    "start_time": "2023-04-22T09:05:24.458Z"
   },
   {
    "duration": 34,
    "start_time": "2023-04-22T09:05:24.492Z"
   },
   {
    "duration": 72,
    "start_time": "2023-04-22T09:05:24.527Z"
   },
   {
    "duration": 31,
    "start_time": "2023-04-22T09:05:24.600Z"
   },
   {
    "duration": 36,
    "start_time": "2023-04-22T09:05:24.633Z"
   },
   {
    "duration": 44,
    "start_time": "2023-04-22T09:05:24.671Z"
   },
   {
    "duration": 6,
    "start_time": "2023-04-22T09:05:57.705Z"
   },
   {
    "duration": 4,
    "start_time": "2023-04-22T09:05:58.519Z"
   },
   {
    "duration": 5,
    "start_time": "2023-04-22T09:06:10.156Z"
   },
   {
    "duration": 3,
    "start_time": "2023-04-22T09:06:10.910Z"
   },
   {
    "duration": 6,
    "start_time": "2023-04-22T09:06:14.166Z"
   },
   {
    "duration": 4,
    "start_time": "2023-04-22T09:06:14.517Z"
   },
   {
    "duration": 5,
    "start_time": "2023-04-22T09:06:53.601Z"
   },
   {
    "duration": 3,
    "start_time": "2023-04-22T09:06:53.953Z"
   },
   {
    "duration": 5,
    "start_time": "2023-04-22T09:06:55.129Z"
   },
   {
    "duration": 5,
    "start_time": "2023-04-22T09:06:55.497Z"
   },
   {
    "duration": 5,
    "start_time": "2023-04-22T09:06:55.841Z"
   },
   {
    "duration": 6,
    "start_time": "2023-04-22T09:06:59.083Z"
   },
   {
    "duration": 3,
    "start_time": "2023-04-22T09:06:59.381Z"
   },
   {
    "duration": 5,
    "start_time": "2023-04-22T09:06:59.865Z"
   },
   {
    "duration": 6,
    "start_time": "2023-04-22T09:07:00.339Z"
   },
   {
    "duration": 6,
    "start_time": "2023-04-22T09:07:00.798Z"
   },
   {
    "duration": 3,
    "start_time": "2023-04-22T09:07:11.178Z"
   },
   {
    "duration": 32,
    "start_time": "2023-04-22T09:07:11.183Z"
   },
   {
    "duration": 10,
    "start_time": "2023-04-22T09:07:11.217Z"
   },
   {
    "duration": 14,
    "start_time": "2023-04-22T09:07:11.228Z"
   },
   {
    "duration": 23,
    "start_time": "2023-04-22T09:07:11.244Z"
   },
   {
    "duration": 9,
    "start_time": "2023-04-22T09:07:11.268Z"
   },
   {
    "duration": 13,
    "start_time": "2023-04-22T09:07:11.279Z"
   },
   {
    "duration": 20,
    "start_time": "2023-04-22T09:07:11.294Z"
   },
   {
    "duration": 21,
    "start_time": "2023-04-22T09:07:11.315Z"
   },
   {
    "duration": 16,
    "start_time": "2023-04-22T09:07:11.338Z"
   },
   {
    "duration": 7,
    "start_time": "2023-04-22T09:07:11.356Z"
   },
   {
    "duration": 14,
    "start_time": "2023-04-22T09:07:11.364Z"
   },
   {
    "duration": 9,
    "start_time": "2023-04-22T09:07:11.379Z"
   },
   {
    "duration": 82,
    "start_time": "2023-04-22T09:07:11.391Z"
   },
   {
    "duration": 4,
    "start_time": "2023-04-22T09:07:11.474Z"
   },
   {
    "duration": 171,
    "start_time": "2023-04-22T09:07:11.479Z"
   },
   {
    "duration": 1009,
    "start_time": "2023-04-22T09:07:11.651Z"
   },
   {
    "duration": 4134,
    "start_time": "2023-04-22T09:07:12.662Z"
   },
   {
    "duration": 4,
    "start_time": "2023-04-22T09:07:16.797Z"
   },
   {
    "duration": 171,
    "start_time": "2023-04-22T09:07:16.802Z"
   },
   {
    "duration": 767,
    "start_time": "2023-04-22T09:07:16.975Z"
   },
   {
    "duration": 549,
    "start_time": "2023-04-22T09:07:17.744Z"
   },
   {
    "duration": 3,
    "start_time": "2023-04-22T09:07:18.295Z"
   },
   {
    "duration": 20,
    "start_time": "2023-04-22T09:07:18.299Z"
   },
   {
    "duration": 29,
    "start_time": "2023-04-22T09:07:18.321Z"
   },
   {
    "duration": 30,
    "start_time": "2023-04-22T09:07:18.352Z"
   },
   {
    "duration": 18,
    "start_time": "2023-04-22T09:07:18.384Z"
   },
   {
    "duration": 32,
    "start_time": "2023-04-22T09:07:18.404Z"
   },
   {
    "duration": 26,
    "start_time": "2023-04-22T09:07:18.437Z"
   },
   {
    "duration": 62,
    "start_time": "2023-04-22T09:10:57.439Z"
   },
   {
    "duration": 9,
    "start_time": "2023-04-22T09:11:02.244Z"
   },
   {
    "duration": 18,
    "start_time": "2023-04-22T09:11:08.501Z"
   },
   {
    "duration": 12,
    "start_time": "2023-04-22T09:11:17.946Z"
   },
   {
    "duration": 12,
    "start_time": "2023-04-22T09:11:42.127Z"
   },
   {
    "duration": 12,
    "start_time": "2023-04-22T09:13:06.067Z"
   },
   {
    "duration": 11,
    "start_time": "2023-04-22T09:14:15.435Z"
   },
   {
    "duration": 13,
    "start_time": "2023-04-22T09:14:26.221Z"
   },
   {
    "duration": 589,
    "start_time": "2023-04-22T09:14:32.425Z"
   },
   {
    "duration": 327,
    "start_time": "2023-04-22T09:14:55.137Z"
   },
   {
    "duration": 293,
    "start_time": "2023-04-22T09:14:59.862Z"
   },
   {
    "duration": 585,
    "start_time": "2023-04-22T09:15:26.670Z"
   },
   {
    "duration": 632,
    "start_time": "2023-04-22T09:15:59.001Z"
   },
   {
    "duration": 853,
    "start_time": "2023-04-22T09:16:06.943Z"
   },
   {
    "duration": 924,
    "start_time": "2023-04-22T09:17:16.013Z"
   },
   {
    "duration": 17,
    "start_time": "2023-04-22T09:17:21.007Z"
   },
   {
    "duration": 13,
    "start_time": "2023-04-22T09:18:31.353Z"
   },
   {
    "duration": 9,
    "start_time": "2023-04-22T09:18:41.631Z"
   },
   {
    "duration": 818,
    "start_time": "2023-04-22T09:18:49.867Z"
   },
   {
    "duration": 957,
    "start_time": "2023-04-22T09:21:09.737Z"
   },
   {
    "duration": 954,
    "start_time": "2023-04-22T09:23:39.137Z"
   },
   {
    "duration": 949,
    "start_time": "2023-04-22T09:24:07.935Z"
   },
   {
    "duration": 518,
    "start_time": "2023-04-22T09:24:35.830Z"
   },
   {
    "duration": 939,
    "start_time": "2023-04-22T09:25:14.813Z"
   },
   {
    "duration": 848,
    "start_time": "2023-04-22T09:25:28.815Z"
   },
   {
    "duration": 1057,
    "start_time": "2023-04-22T09:25:44.809Z"
   },
   {
    "duration": 839,
    "start_time": "2023-04-22T09:25:53.593Z"
   },
   {
    "duration": 10,
    "start_time": "2023-04-22T09:37:49.611Z"
   },
   {
    "duration": 12,
    "start_time": "2023-04-22T09:38:31.238Z"
   },
   {
    "duration": 43,
    "start_time": "2023-04-22T09:38:46.968Z"
   },
   {
    "duration": 4,
    "start_time": "2023-04-22T09:39:07.404Z"
   },
   {
    "duration": 10,
    "start_time": "2023-04-22T09:39:17.097Z"
   },
   {
    "duration": 57,
    "start_time": "2023-04-22T09:39:17.545Z"
   },
   {
    "duration": 5,
    "start_time": "2023-04-22T09:40:01.099Z"
   },
   {
    "duration": 129,
    "start_time": "2023-04-22T09:40:04.512Z"
   },
   {
    "duration": 50,
    "start_time": "2023-04-22T09:40:09.097Z"
   },
   {
    "duration": 60,
    "start_time": "2023-04-22T09:40:57.973Z"
   },
   {
    "duration": 72,
    "start_time": "2023-04-22T09:41:01.177Z"
   },
   {
    "duration": 8,
    "start_time": "2023-04-22T09:41:09.571Z"
   },
   {
    "duration": 4,
    "start_time": "2023-04-22T09:41:12.291Z"
   },
   {
    "duration": 9,
    "start_time": "2023-04-22T09:41:12.596Z"
   },
   {
    "duration": 3,
    "start_time": "2023-04-22T09:41:26.801Z"
   },
   {
    "duration": 7,
    "start_time": "2023-04-22T09:41:27.680Z"
   },
   {
    "duration": 3,
    "start_time": "2023-04-22T09:41:59.041Z"
   },
   {
    "duration": 4,
    "start_time": "2023-04-22T09:42:07.955Z"
   },
   {
    "duration": 4,
    "start_time": "2023-04-22T09:42:17.248Z"
   },
   {
    "duration": 6,
    "start_time": "2023-04-22T09:42:18.079Z"
   },
   {
    "duration": 4,
    "start_time": "2023-04-22T09:42:21.247Z"
   },
   {
    "duration": 4,
    "start_time": "2023-04-22T09:42:21.763Z"
   },
   {
    "duration": 6,
    "start_time": "2023-04-22T09:42:43.962Z"
   },
   {
    "duration": 6,
    "start_time": "2023-04-22T09:42:51.820Z"
   },
   {
    "duration": 7,
    "start_time": "2023-04-22T09:43:00.478Z"
   },
   {
    "duration": 7,
    "start_time": "2023-04-22T09:43:12.252Z"
   },
   {
    "duration": 7,
    "start_time": "2023-04-22T09:43:15.592Z"
   },
   {
    "duration": 7,
    "start_time": "2023-04-22T09:43:19.314Z"
   },
   {
    "duration": 41,
    "start_time": "2023-04-22T09:46:32.101Z"
   },
   {
    "duration": 4,
    "start_time": "2023-04-22T09:47:40.145Z"
   },
   {
    "duration": 48,
    "start_time": "2023-04-22T09:47:44.612Z"
   },
   {
    "duration": 3,
    "start_time": "2023-04-22T09:47:46.397Z"
   },
   {
    "duration": 68,
    "start_time": "2023-04-22T09:52:01.201Z"
   },
   {
    "duration": 3,
    "start_time": "2023-04-22T09:55:25.855Z"
   },
   {
    "duration": 4,
    "start_time": "2023-04-22T09:55:30.374Z"
   },
   {
    "duration": 6,
    "start_time": "2023-04-22T09:55:31.869Z"
   },
   {
    "duration": 83,
    "start_time": "2023-04-22T09:59:26.725Z"
   },
   {
    "duration": 5,
    "start_time": "2023-04-22T10:06:34.639Z"
   },
   {
    "duration": 3,
    "start_time": "2023-04-22T10:06:38.405Z"
   },
   {
    "duration": 28,
    "start_time": "2023-04-22T10:06:40.955Z"
   },
   {
    "duration": 10,
    "start_time": "2023-04-22T10:06:42.053Z"
   },
   {
    "duration": 10,
    "start_time": "2023-04-22T10:06:42.478Z"
   },
   {
    "duration": 19,
    "start_time": "2023-04-22T10:06:42.909Z"
   },
   {
    "duration": 9,
    "start_time": "2023-04-22T10:06:43.327Z"
   },
   {
    "duration": 7,
    "start_time": "2023-04-22T10:06:43.677Z"
   },
   {
    "duration": 4,
    "start_time": "2023-04-22T10:06:45.771Z"
   },
   {
    "duration": 8,
    "start_time": "2023-04-22T10:06:48.410Z"
   },
   {
    "duration": 4,
    "start_time": "2023-04-22T10:06:48.706Z"
   },
   {
    "duration": 5,
    "start_time": "2023-04-22T10:06:49.035Z"
   },
   {
    "duration": 5,
    "start_time": "2023-04-22T10:06:49.350Z"
   },
   {
    "duration": 5,
    "start_time": "2023-04-22T10:06:49.671Z"
   },
   {
    "duration": 77,
    "start_time": "2023-04-22T10:06:51.882Z"
   },
   {
    "duration": 4,
    "start_time": "2023-04-22T10:06:52.233Z"
   },
   {
    "duration": 148,
    "start_time": "2023-04-22T10:06:52.555Z"
   },
   {
    "duration": 893,
    "start_time": "2023-04-22T10:06:52.884Z"
   },
   {
    "duration": 3881,
    "start_time": "2023-04-22T10:06:54.243Z"
   },
   {
    "duration": 10,
    "start_time": "2023-04-22T10:06:58.126Z"
   },
   {
    "duration": 844,
    "start_time": "2023-04-22T10:06:58.137Z"
   },
   {
    "duration": 757,
    "start_time": "2023-04-22T10:06:58.983Z"
   },
   {
    "duration": 587,
    "start_time": "2023-04-22T10:06:59.742Z"
   },
   {
    "duration": 6,
    "start_time": "2023-04-22T10:07:00.330Z"
   },
   {
    "duration": 33,
    "start_time": "2023-04-22T10:07:00.338Z"
   },
   {
    "duration": 13,
    "start_time": "2023-04-22T10:07:00.373Z"
   },
   {
    "duration": 31,
    "start_time": "2023-04-22T10:07:00.388Z"
   },
   {
    "duration": 77,
    "start_time": "2023-04-22T10:07:00.422Z"
   },
   {
    "duration": 3,
    "start_time": "2023-04-22T10:07:00.501Z"
   },
   {
    "duration": 20,
    "start_time": "2023-04-22T10:07:00.506Z"
   },
   {
    "duration": 5,
    "start_time": "2023-04-22T10:07:00.673Z"
   },
   {
    "duration": 8,
    "start_time": "2023-04-22T10:07:00.860Z"
   },
   {
    "duration": 3,
    "start_time": "2023-04-22T10:07:55.621Z"
   },
   {
    "duration": 40,
    "start_time": "2023-04-22T10:07:55.626Z"
   },
   {
    "duration": 12,
    "start_time": "2023-04-22T10:07:55.668Z"
   },
   {
    "duration": 16,
    "start_time": "2023-04-22T10:07:55.682Z"
   },
   {
    "duration": 33,
    "start_time": "2023-04-22T10:07:55.700Z"
   },
   {
    "duration": 10,
    "start_time": "2023-04-22T10:07:55.735Z"
   },
   {
    "duration": 6,
    "start_time": "2023-04-22T10:07:55.747Z"
   },
   {
    "duration": 11,
    "start_time": "2023-04-22T10:07:55.755Z"
   },
   {
    "duration": 7,
    "start_time": "2023-04-22T10:07:55.768Z"
   },
   {
    "duration": 5,
    "start_time": "2023-04-22T10:07:55.776Z"
   },
   {
    "duration": 10,
    "start_time": "2023-04-22T10:07:55.783Z"
   },
   {
    "duration": 9,
    "start_time": "2023-04-22T10:07:55.794Z"
   },
   {
    "duration": 15,
    "start_time": "2023-04-22T10:07:55.804Z"
   },
   {
    "duration": 89,
    "start_time": "2023-04-22T10:07:55.821Z"
   },
   {
    "duration": 4,
    "start_time": "2023-04-22T10:07:55.911Z"
   },
   {
    "duration": 174,
    "start_time": "2023-04-22T10:07:55.917Z"
   },
   {
    "duration": 867,
    "start_time": "2023-04-22T10:07:56.093Z"
   },
   {
    "duration": 3809,
    "start_time": "2023-04-22T10:07:56.961Z"
   },
   {
    "duration": 4,
    "start_time": "2023-04-22T10:08:00.772Z"
   },
   {
    "duration": 912,
    "start_time": "2023-04-22T10:08:00.778Z"
   },
   {
    "duration": 782,
    "start_time": "2023-04-22T10:08:01.692Z"
   },
   {
    "duration": 694,
    "start_time": "2023-04-22T10:08:02.476Z"
   },
   {
    "duration": 3,
    "start_time": "2023-04-22T10:08:03.172Z"
   },
   {
    "duration": 16,
    "start_time": "2023-04-22T10:08:03.178Z"
   },
   {
    "duration": 20,
    "start_time": "2023-04-22T10:08:03.196Z"
   },
   {
    "duration": 11,
    "start_time": "2023-04-22T10:08:03.217Z"
   },
   {
    "duration": 44,
    "start_time": "2023-04-22T10:08:03.230Z"
   },
   {
    "duration": 3,
    "start_time": "2023-04-22T10:08:03.276Z"
   },
   {
    "duration": 18,
    "start_time": "2023-04-22T10:08:03.281Z"
   },
   {
    "duration": 15,
    "start_time": "2023-04-22T10:08:03.300Z"
   },
   {
    "duration": 12,
    "start_time": "2023-04-22T10:08:03.317Z"
   },
   {
    "duration": 825,
    "start_time": "2023-04-22T10:08:25.998Z"
   },
   {
    "duration": 831,
    "start_time": "2023-04-22T10:08:40.914Z"
   },
   {
    "duration": 893,
    "start_time": "2023-04-22T10:08:45.798Z"
   },
   {
    "duration": 797,
    "start_time": "2023-04-22T10:08:53.083Z"
   },
   {
    "duration": 856,
    "start_time": "2023-04-22T10:09:01.002Z"
   },
   {
    "duration": 1079,
    "start_time": "2023-04-22T10:09:10.644Z"
   },
   {
    "duration": 783,
    "start_time": "2023-04-22T10:09:29.073Z"
   },
   {
    "duration": 826,
    "start_time": "2023-04-22T10:09:37.041Z"
   },
   {
    "duration": 3924,
    "start_time": "2023-04-22T10:10:33.198Z"
   },
   {
    "duration": 3,
    "start_time": "2023-04-22T10:10:37.123Z"
   },
   {
    "duration": 845,
    "start_time": "2023-04-22T10:10:40.313Z"
   },
   {
    "duration": 3994,
    "start_time": "2023-04-22T10:14:04.235Z"
   },
   {
    "duration": 4322,
    "start_time": "2023-04-22T10:14:13.281Z"
   },
   {
    "duration": 3865,
    "start_time": "2023-04-22T10:15:01.327Z"
   },
   {
    "duration": 1288,
    "start_time": "2023-04-22T10:18:28.259Z"
   },
   {
    "duration": 29,
    "start_time": "2023-04-22T10:18:31.954Z"
   },
   {
    "duration": 15,
    "start_time": "2023-04-22T10:18:33.254Z"
   },
   {
    "duration": 12,
    "start_time": "2023-04-22T10:18:33.941Z"
   },
   {
    "duration": 21,
    "start_time": "2023-04-22T10:18:34.501Z"
   },
   {
    "duration": 10,
    "start_time": "2023-04-22T10:18:35.019Z"
   },
   {
    "duration": 8,
    "start_time": "2023-04-22T10:18:36.153Z"
   },
   {
    "duration": 3,
    "start_time": "2023-04-22T10:18:49.597Z"
   },
   {
    "duration": 5,
    "start_time": "2023-04-22T10:18:54.110Z"
   },
   {
    "duration": 3,
    "start_time": "2023-04-22T10:18:56.680Z"
   },
   {
    "duration": 4,
    "start_time": "2023-04-22T10:18:57.644Z"
   },
   {
    "duration": 5,
    "start_time": "2023-04-22T10:18:58.557Z"
   },
   {
    "duration": 4,
    "start_time": "2023-04-22T10:18:59.336Z"
   },
   {
    "duration": 77,
    "start_time": "2023-04-22T10:19:32.670Z"
   },
   {
    "duration": 5,
    "start_time": "2023-04-22T10:19:35.056Z"
   },
   {
    "duration": 159,
    "start_time": "2023-04-22T10:19:37.694Z"
   },
   {
    "duration": 980,
    "start_time": "2023-04-22T10:19:43.927Z"
   },
   {
    "duration": 3837,
    "start_time": "2023-04-22T10:19:54.601Z"
   },
   {
    "duration": 3,
    "start_time": "2023-04-22T10:19:59.672Z"
   },
   {
    "duration": 909,
    "start_time": "2023-04-22T10:20:01.757Z"
   },
   {
    "duration": 982,
    "start_time": "2023-04-22T10:20:08.068Z"
   },
   {
    "duration": 636,
    "start_time": "2023-04-22T10:20:13.645Z"
   },
   {
    "duration": 4,
    "start_time": "2023-04-22T10:20:20.281Z"
   },
   {
    "duration": 11,
    "start_time": "2023-04-22T10:20:38.268Z"
   },
   {
    "duration": 4,
    "start_time": "2023-04-22T10:20:40.380Z"
   },
   {
    "duration": 7,
    "start_time": "2023-04-22T10:20:42.359Z"
   },
   {
    "duration": 98,
    "start_time": "2023-04-22T10:20:44.778Z"
   },
   {
    "duration": 3,
    "start_time": "2023-04-22T10:20:46.472Z"
   },
   {
    "duration": 4,
    "start_time": "2023-04-22T10:21:11.095Z"
   },
   {
    "duration": 82,
    "start_time": "2023-04-22T10:22:18.996Z"
   },
   {
    "duration": 3,
    "start_time": "2023-04-22T10:22:19.964Z"
   },
   {
    "duration": 3,
    "start_time": "2023-04-22T10:22:24.206Z"
   },
   {
    "duration": 4,
    "start_time": "2023-04-22T10:22:45.932Z"
   },
   {
    "duration": 5,
    "start_time": "2023-04-22T10:22:55.005Z"
   },
   {
    "duration": 5,
    "start_time": "2023-04-22T10:22:55.936Z"
   },
   {
    "duration": 1331,
    "start_time": "2023-04-22T10:23:27.419Z"
   },
   {
    "duration": 28,
    "start_time": "2023-04-22T10:23:28.752Z"
   },
   {
    "duration": 15,
    "start_time": "2023-04-22T10:23:28.782Z"
   },
   {
    "duration": 20,
    "start_time": "2023-04-22T10:23:28.798Z"
   },
   {
    "duration": 22,
    "start_time": "2023-04-22T10:23:28.820Z"
   },
   {
    "duration": 9,
    "start_time": "2023-04-22T10:23:28.844Z"
   },
   {
    "duration": 7,
    "start_time": "2023-04-22T10:23:28.854Z"
   },
   {
    "duration": 3,
    "start_time": "2023-04-22T10:23:28.863Z"
   },
   {
    "duration": 29,
    "start_time": "2023-04-22T10:23:28.867Z"
   },
   {
    "duration": 11,
    "start_time": "2023-04-22T10:23:28.898Z"
   },
   {
    "duration": 14,
    "start_time": "2023-04-22T10:23:28.911Z"
   },
   {
    "duration": 12,
    "start_time": "2023-04-22T10:23:28.927Z"
   },
   {
    "duration": 9,
    "start_time": "2023-04-22T10:23:28.940Z"
   },
   {
    "duration": 80,
    "start_time": "2023-04-22T10:23:28.951Z"
   },
   {
    "duration": 5,
    "start_time": "2023-04-22T10:23:29.032Z"
   },
   {
    "duration": 179,
    "start_time": "2023-04-22T10:23:29.038Z"
   },
   {
    "duration": 884,
    "start_time": "2023-04-22T10:23:29.219Z"
   },
   {
    "duration": 3934,
    "start_time": "2023-04-22T10:23:30.105Z"
   },
   {
    "duration": 4,
    "start_time": "2023-04-22T10:23:34.040Z"
   },
   {
    "duration": 979,
    "start_time": "2023-04-22T10:23:34.045Z"
   },
   {
    "duration": 863,
    "start_time": "2023-04-22T10:23:35.026Z"
   },
   {
    "duration": 585,
    "start_time": "2023-04-22T10:23:35.891Z"
   },
   {
    "duration": 4,
    "start_time": "2023-04-22T10:23:36.477Z"
   },
   {
    "duration": 12,
    "start_time": "2023-04-22T10:23:36.482Z"
   },
   {
    "duration": 3,
    "start_time": "2023-04-22T10:23:36.496Z"
   },
   {
    "duration": 14,
    "start_time": "2023-04-22T10:23:36.501Z"
   },
   {
    "duration": 83,
    "start_time": "2023-04-22T10:23:36.516Z"
   },
   {
    "duration": 3,
    "start_time": "2023-04-22T10:23:36.601Z"
   },
   {
    "duration": 8,
    "start_time": "2023-04-22T10:23:36.605Z"
   },
   {
    "duration": 21,
    "start_time": "2023-04-22T10:23:36.614Z"
   },
   {
    "duration": 1337,
    "start_time": "2023-04-22T10:25:04.305Z"
   },
   {
    "duration": 29,
    "start_time": "2023-04-22T10:25:05.644Z"
   },
   {
    "duration": 14,
    "start_time": "2023-04-22T10:25:05.674Z"
   },
   {
    "duration": 20,
    "start_time": "2023-04-22T10:25:05.689Z"
   },
   {
    "duration": 35,
    "start_time": "2023-04-22T10:25:05.711Z"
   },
   {
    "duration": 8,
    "start_time": "2023-04-22T10:25:05.748Z"
   },
   {
    "duration": 17,
    "start_time": "2023-04-22T10:25:05.757Z"
   },
   {
    "duration": 5,
    "start_time": "2023-04-22T10:25:05.775Z"
   },
   {
    "duration": 8,
    "start_time": "2023-04-22T10:25:05.781Z"
   },
   {
    "duration": 23,
    "start_time": "2023-04-22T10:25:05.790Z"
   },
   {
    "duration": 20,
    "start_time": "2023-04-22T10:25:05.814Z"
   },
   {
    "duration": 9,
    "start_time": "2023-04-22T10:25:05.835Z"
   },
   {
    "duration": 16,
    "start_time": "2023-04-22T10:25:05.845Z"
   },
   {
    "duration": 78,
    "start_time": "2023-04-22T10:25:05.863Z"
   },
   {
    "duration": 5,
    "start_time": "2023-04-22T10:25:05.943Z"
   },
   {
    "duration": 163,
    "start_time": "2023-04-22T10:25:05.950Z"
   },
   {
    "duration": 980,
    "start_time": "2023-04-22T10:25:06.115Z"
   },
   {
    "duration": 3950,
    "start_time": "2023-04-22T10:25:07.097Z"
   },
   {
    "duration": 4,
    "start_time": "2023-04-22T10:25:11.049Z"
   },
   {
    "duration": 988,
    "start_time": "2023-04-22T10:25:11.054Z"
   },
   {
    "duration": 888,
    "start_time": "2023-04-22T10:25:12.044Z"
   },
   {
    "duration": 645,
    "start_time": "2023-04-22T10:25:12.933Z"
   },
   {
    "duration": 3,
    "start_time": "2023-04-22T10:25:13.580Z"
   },
   {
    "duration": 41,
    "start_time": "2023-04-22T10:25:13.585Z"
   },
   {
    "duration": 35,
    "start_time": "2023-04-22T10:25:13.628Z"
   },
   {
    "duration": 12,
    "start_time": "2023-04-22T10:25:13.665Z"
   },
   {
    "duration": 49,
    "start_time": "2023-04-22T10:25:13.679Z"
   },
   {
    "duration": 3,
    "start_time": "2023-04-22T10:25:13.730Z"
   },
   {
    "duration": 28,
    "start_time": "2023-04-22T10:25:13.735Z"
   },
   {
    "duration": 30,
    "start_time": "2023-04-22T10:25:13.764Z"
   },
   {
    "duration": 3087,
    "start_time": "2023-04-22T13:32:19.402Z"
   },
   {
    "duration": 86,
    "start_time": "2023-04-22T13:32:22.491Z"
   },
   {
    "duration": 18,
    "start_time": "2023-04-22T13:32:22.579Z"
   },
   {
    "duration": 43,
    "start_time": "2023-04-22T13:32:22.598Z"
   },
   {
    "duration": 37,
    "start_time": "2023-04-22T13:32:22.644Z"
   },
   {
    "duration": 48,
    "start_time": "2023-04-22T13:32:22.683Z"
   },
   {
    "duration": 23,
    "start_time": "2023-04-22T13:32:22.734Z"
   },
   {
    "duration": 17,
    "start_time": "2023-04-22T13:32:22.759Z"
   },
   {
    "duration": 17,
    "start_time": "2023-04-22T13:32:22.778Z"
   },
   {
    "duration": 45,
    "start_time": "2023-04-22T13:32:22.797Z"
   },
   {
    "duration": 6,
    "start_time": "2023-04-22T13:32:22.847Z"
   },
   {
    "duration": 20,
    "start_time": "2023-04-22T13:32:22.855Z"
   },
   {
    "duration": 24,
    "start_time": "2023-04-22T13:32:22.877Z"
   },
   {
    "duration": 97,
    "start_time": "2023-04-22T13:32:22.904Z"
   },
   {
    "duration": 5,
    "start_time": "2023-04-22T13:32:23.003Z"
   },
   {
    "duration": 221,
    "start_time": "2023-04-22T13:32:23.017Z"
   },
   {
    "duration": 1157,
    "start_time": "2023-04-22T13:32:23.244Z"
   },
   {
    "duration": 4868,
    "start_time": "2023-04-22T13:32:24.403Z"
   },
   {
    "duration": 5,
    "start_time": "2023-04-22T13:32:29.273Z"
   },
   {
    "duration": 1154,
    "start_time": "2023-04-22T13:32:29.280Z"
   },
   {
    "duration": 1144,
    "start_time": "2023-04-22T13:32:30.439Z"
   },
   {
    "duration": 756,
    "start_time": "2023-04-22T13:32:31.585Z"
   },
   {
    "duration": 5,
    "start_time": "2023-04-22T13:32:32.350Z"
   },
   {
    "duration": 27,
    "start_time": "2023-04-22T13:32:32.356Z"
   },
   {
    "duration": 43,
    "start_time": "2023-04-22T13:32:32.385Z"
   },
   {
    "duration": 20,
    "start_time": "2023-04-22T13:32:32.432Z"
   },
   {
    "duration": 118,
    "start_time": "2023-04-22T13:32:32.454Z"
   },
   {
    "duration": 3,
    "start_time": "2023-04-22T13:32:32.574Z"
   },
   {
    "duration": 29,
    "start_time": "2023-04-22T13:32:32.579Z"
   },
   {
    "duration": 26,
    "start_time": "2023-04-22T13:32:32.610Z"
   },
   {
    "duration": 44,
    "start_time": "2023-04-22T14:35:17.692Z"
   },
   {
    "duration": 1475,
    "start_time": "2023-04-22T14:35:21.748Z"
   },
   {
    "duration": 63,
    "start_time": "2023-04-22T14:35:23.226Z"
   },
   {
    "duration": 19,
    "start_time": "2023-04-22T14:35:23.291Z"
   },
   {
    "duration": 12,
    "start_time": "2023-04-22T14:35:23.312Z"
   },
   {
    "duration": 32,
    "start_time": "2023-04-22T14:35:23.325Z"
   },
   {
    "duration": 10,
    "start_time": "2023-04-22T14:35:23.358Z"
   },
   {
    "duration": 10,
    "start_time": "2023-04-22T14:35:23.394Z"
   },
   {
    "duration": 6,
    "start_time": "2023-04-22T14:35:23.405Z"
   },
   {
    "duration": 6,
    "start_time": "2023-04-22T14:35:23.413Z"
   },
   {
    "duration": 4,
    "start_time": "2023-04-22T14:35:23.422Z"
   },
   {
    "duration": 6,
    "start_time": "2023-04-22T14:35:23.428Z"
   },
   {
    "duration": 8,
    "start_time": "2023-04-22T14:35:23.436Z"
   },
   {
    "duration": 6,
    "start_time": "2023-04-22T14:35:23.445Z"
   },
   {
    "duration": 142,
    "start_time": "2023-04-22T14:35:23.453Z"
   },
   {
    "duration": 6,
    "start_time": "2023-04-22T14:35:23.597Z"
   },
   {
    "duration": 180,
    "start_time": "2023-04-22T14:35:23.604Z"
   },
   {
    "duration": 1014,
    "start_time": "2023-04-22T14:35:23.786Z"
   },
   {
    "duration": 3744,
    "start_time": "2023-04-22T14:35:24.801Z"
   },
   {
    "duration": 3,
    "start_time": "2023-04-22T14:35:28.547Z"
   },
   {
    "duration": 78,
    "start_time": "2023-04-22T14:35:30.594Z"
   },
   {
    "duration": 1074,
    "start_time": "2023-04-22T14:35:49.373Z"
   },
   {
    "duration": 874,
    "start_time": "2023-04-22T14:36:18.274Z"
   },
   {
    "duration": 711,
    "start_time": "2023-04-22T14:37:00.577Z"
   },
   {
    "duration": 714,
    "start_time": "2023-04-22T14:37:48.487Z"
   }
  ],
  "kernelspec": {
   "display_name": "Python 3 (ipykernel)",
   "language": "python",
   "name": "python3"
  },
  "language_info": {
   "codemirror_mode": {
    "name": "ipython",
    "version": 3
   },
   "file_extension": ".py",
   "mimetype": "text/x-python",
   "name": "python",
   "nbconvert_exporter": "python",
   "pygments_lexer": "ipython3",
   "version": "3.9.15"
  },
  "toc": {
   "base_numbering": 1,
   "nav_menu": {},
   "number_sections": true,
   "sideBar": true,
   "skip_h1_title": true,
   "title_cell": "Table of Contents",
   "title_sidebar": "Contents",
   "toc_cell": false,
   "toc_position": {},
   "toc_section_display": true,
   "toc_window_display": false
  }
 },
 "nbformat": 4,
 "nbformat_minor": 2
}
