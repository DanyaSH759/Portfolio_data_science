{
 "cells": [
  {
   "cell_type": "markdown",
   "metadata": {
    "toc": true
   },
   "source": [
    "<h1>Содержание<span class=\"tocSkip\"></span></h1>\n",
    "<div class=\"toc\"><ul class=\"toc-item\"><li><span><a href=\"#Подготовка\" data-toc-modified-id=\"Подготовка-1\"><span class=\"toc-item-num\">1&nbsp;&nbsp;</span>Подготовка</a></span></li><li><span><a href=\"#Обучение\" data-toc-modified-id=\"Обучение-2\"><span class=\"toc-item-num\">2&nbsp;&nbsp;</span>Обучение</a></span></li><li><span><a href=\"#Оценка-лучшей-модели\" data-toc-modified-id=\"Оценка-лучшей-модели-3\"><span class=\"toc-item-num\">3&nbsp;&nbsp;</span>Оценка лучшей модели</a></span></li><li><span><a href=\"#Выводы\" data-toc-modified-id=\"Выводы-4\"><span class=\"toc-item-num\">4&nbsp;&nbsp;</span>Выводы</a></span></li><li><span><a href=\"#Чек-лист-проверки\" data-toc-modified-id=\"Чек-лист-проверки-5\"><span class=\"toc-item-num\">5&nbsp;&nbsp;</span>Чек-лист проверки</a></span></li></ul></div>"
   ]
  },
  {
   "cell_type": "markdown",
   "metadata": {},
   "source": [
    "# Проект для «Викишоп»"
   ]
  },
  {
   "cell_type": "markdown",
   "metadata": {},
   "source": [
    "Интернет-магазин «Викишоп» запускает новый сервис. Теперь пользователи могут редактировать и дополнять описания товаров, как в вики-сообществах. То есть клиенты предлагают свои правки и комментируют изменения других. Магазину нужен инструмент, который будет искать токсичные комментарии и отправлять их на модерацию. \n",
    "\n",
    "Обучите модель классифицировать комментарии на позитивные и негативные. В вашем распоряжении набор данных с разметкой о токсичности правок.\n",
    "\n",
    "Постройте модель со значением метрики качества *F1* не меньше 0.75. \n",
    "\n",
    "**Инструкция по выполнению проекта**\n",
    "\n",
    "1. Загрузите и подготовьте данные.\n",
    "2. Обучите разные модели. \n",
    "3. Сделайте выводы.\n",
    "\n",
    "Для выполнения проекта применять *BERT* необязательно, но вы можете попробовать.\n",
    "\n",
    "**Описание данных**\n",
    "\n",
    "Данные находятся в файле `toxic_comments.csv`. Столбец *text* в нём содержит текст комментария, а *toxic* — целевой признак."
   ]
  },
  {
   "cell_type": "markdown",
   "metadata": {},
   "source": [
    "## Подготовка"
   ]
  },
  {
   "cell_type": "code",
   "execution_count": 1,
   "metadata": {},
   "outputs": [
    {
     "name": "stderr",
     "output_type": "stream",
     "text": [
      "[nltk_data] Downloading package wordnet to /home/danila/nltk_data...\n",
      "[nltk_data]   Package wordnet is already up-to-date!\n",
      "[nltk_data] Downloading package stopwords to /home/danila/nltk_data...\n",
      "[nltk_data]   Package stopwords is already up-to-date!\n",
      "[nltk_data] Downloading package punkt to /home/danila/nltk_data...\n",
      "[nltk_data]   Package punkt is already up-to-date!\n"
     ]
    }
   ],
   "source": [
    "# основные библиотеки\n",
    "import pandas as pd\n",
    "import re\n",
    "import numpy as np\n",
    "import time\n",
    "import torch\n",
    "import transformers\n",
    "import matplotlib.pyplot as plt\n",
    "\n",
    "import nltk\n",
    "nltk.download('wordnet')\n",
    "nltk.download('stopwords')\n",
    "nltk.download('punkt')\n",
    "\n",
    "from nltk.corpus import stopwords as nltk_stopwords\n",
    "from nltk.stem import WordNetLemmatizer \n",
    "\n",
    "from tqdm import notebook\n",
    "\n",
    "from lightgbm import LGBMClassifier\n",
    "from catboost import CatBoostClassifier\n",
    "\n",
    "from sklearn.metrics import f1_score, precision_score, recall_score\n",
    "from sklearn.feature_extraction.text import TfidfVectorizer \n",
    "from sklearn.linear_model import LogisticRegression\n",
    "from sklearn.model_selection import RandomizedSearchCV, train_test_split\n",
    "from sklearn.decomposition import PCA\n",
    "from sklearn.pipeline import Pipeline"
   ]
  },
  {
   "cell_type": "code",
   "execution_count": 2,
   "metadata": {},
   "outputs": [],
   "source": [
    "import warnings\n",
    "warnings.filterwarnings(\"ignore\")"
   ]
  },
  {
   "cell_type": "code",
   "execution_count": 3,
   "metadata": {},
   "outputs": [],
   "source": [
    "try:\n",
    "    data = pd.read_csv('/datasets/toxic_comments.csv')\n",
    "except:\n",
    "    data = pd.read_csv('toxic_comments.csv')\n",
    "else:\n",
    "    print('File not found')"
   ]
  },
  {
   "cell_type": "code",
   "execution_count": 4,
   "metadata": {},
   "outputs": [
    {
     "data": {
      "text/html": [
       "<div>\n",
       "<style scoped>\n",
       "    .dataframe tbody tr th:only-of-type {\n",
       "        vertical-align: middle;\n",
       "    }\n",
       "\n",
       "    .dataframe tbody tr th {\n",
       "        vertical-align: top;\n",
       "    }\n",
       "\n",
       "    .dataframe thead th {\n",
       "        text-align: right;\n",
       "    }\n",
       "</style>\n",
       "<table border=\"1\" class=\"dataframe\">\n",
       "  <thead>\n",
       "    <tr style=\"text-align: right;\">\n",
       "      <th></th>\n",
       "      <th>Unnamed: 0</th>\n",
       "      <th>text</th>\n",
       "      <th>toxic</th>\n",
       "    </tr>\n",
       "  </thead>\n",
       "  <tbody>\n",
       "    <tr>\n",
       "      <th>0</th>\n",
       "      <td>0</td>\n",
       "      <td>Explanation\\nWhy the edits made under my usern...</td>\n",
       "      <td>0</td>\n",
       "    </tr>\n",
       "    <tr>\n",
       "      <th>1</th>\n",
       "      <td>1</td>\n",
       "      <td>D'aww! He matches this background colour I'm s...</td>\n",
       "      <td>0</td>\n",
       "    </tr>\n",
       "    <tr>\n",
       "      <th>2</th>\n",
       "      <td>2</td>\n",
       "      <td>Hey man, I'm really not trying to edit war. It...</td>\n",
       "      <td>0</td>\n",
       "    </tr>\n",
       "    <tr>\n",
       "      <th>3</th>\n",
       "      <td>3</td>\n",
       "      <td>\"\\nMore\\nI can't make any real suggestions on ...</td>\n",
       "      <td>0</td>\n",
       "    </tr>\n",
       "    <tr>\n",
       "      <th>4</th>\n",
       "      <td>4</td>\n",
       "      <td>You, sir, are my hero. Any chance you remember...</td>\n",
       "      <td>0</td>\n",
       "    </tr>\n",
       "  </tbody>\n",
       "</table>\n",
       "</div>"
      ],
      "text/plain": [
       "   Unnamed: 0                                               text  toxic\n",
       "0           0  Explanation\\nWhy the edits made under my usern...      0\n",
       "1           1  D'aww! He matches this background colour I'm s...      0\n",
       "2           2  Hey man, I'm really not trying to edit war. It...      0\n",
       "3           3  \"\\nMore\\nI can't make any real suggestions on ...      0\n",
       "4           4  You, sir, are my hero. Any chance you remember...      0"
      ]
     },
     "execution_count": 4,
     "metadata": {},
     "output_type": "execute_result"
    }
   ],
   "source": [
    "data.head()"
   ]
  },
  {
   "cell_type": "code",
   "execution_count": 5,
   "metadata": {},
   "outputs": [
    {
     "name": "stdout",
     "output_type": "stream",
     "text": [
      "<class 'pandas.core.frame.DataFrame'>\n",
      "RangeIndex: 159292 entries, 0 to 159291\n",
      "Data columns (total 3 columns):\n",
      " #   Column      Non-Null Count   Dtype \n",
      "---  ------      --------------   ----- \n",
      " 0   Unnamed: 0  159292 non-null  int64 \n",
      " 1   text        159292 non-null  object\n",
      " 2   toxic       159292 non-null  int64 \n",
      "dtypes: int64(2), object(1)\n",
      "memory usage: 3.6+ MB\n"
     ]
    }
   ],
   "source": [
    "data.info()"
   ]
  },
  {
   "cell_type": "markdown",
   "metadata": {},
   "source": [
    "**Вывод:** Датасет загрузился корректно. Всего в датасете 159 292 строки."
   ]
  },
  {
   "cell_type": "code",
   "execution_count": 6,
   "metadata": {},
   "outputs": [
    {
     "data": {
      "text/plain": [
       "0"
      ]
     },
     "execution_count": 6,
     "metadata": {},
     "output_type": "execute_result"
    }
   ],
   "source": [
    "# дубликаты отсутствуют\n",
    "data.duplicated().sum()"
   ]
  },
  {
   "cell_type": "code",
   "execution_count": 7,
   "metadata": {},
   "outputs": [],
   "source": [
    "# удаляем лишний столбец\n",
    "data = data.drop('Unnamed: 0', axis = 1)"
   ]
  },
  {
   "cell_type": "code",
   "execution_count": 8,
   "metadata": {},
   "outputs": [],
   "source": [
    "# заранее очистим текст\n",
    "def clear_text(text):\n",
    "    text = re.sub(r'[^a-zA-Z]', ' ', text)\n",
    "    \n",
    "    #приводим к нижнему регистру\n",
    "    text = text.lower()\n",
    "    \n",
    "    # удаляем пробелы \n",
    "    text = \" \".join(text.split())\n",
    "    \n",
    "    #лемматизируем\n",
    "    text = nltk.word_tokenize(text)\n",
    "    text = ' '.join([WordNetLemmatizer().lemmatize(x) for x in text])\n",
    "    \n",
    "    return text"
   ]
  },
  {
   "cell_type": "code",
   "execution_count": 10,
   "metadata": {},
   "outputs": [
    {
     "name": "stdout",
     "output_type": "stream",
     "text": [
      "CPU times: user 1min, sys: 54.7 ms, total: 1min\n",
      "Wall time: 1min\n"
     ]
    }
   ],
   "source": [
    "%%time\n",
    "data['text'] = data['text'].apply(lambda x: clear_text(x))"
   ]
  },
  {
   "cell_type": "code",
   "execution_count": 11,
   "metadata": {},
   "outputs": [
    {
     "data": {
      "text/html": [
       "<div>\n",
       "<style scoped>\n",
       "    .dataframe tbody tr th:only-of-type {\n",
       "        vertical-align: middle;\n",
       "    }\n",
       "\n",
       "    .dataframe tbody tr th {\n",
       "        vertical-align: top;\n",
       "    }\n",
       "\n",
       "    .dataframe thead th {\n",
       "        text-align: right;\n",
       "    }\n",
       "</style>\n",
       "<table border=\"1\" class=\"dataframe\">\n",
       "  <thead>\n",
       "    <tr style=\"text-align: right;\">\n",
       "      <th></th>\n",
       "      <th>text</th>\n",
       "      <th>toxic</th>\n",
       "    </tr>\n",
       "  </thead>\n",
       "  <tbody>\n",
       "    <tr>\n",
       "      <th>0</th>\n",
       "      <td>explanation why the edits made under my userna...</td>\n",
       "      <td>0</td>\n",
       "    </tr>\n",
       "    <tr>\n",
       "      <th>1</th>\n",
       "      <td>d aww he match this background colour i m seem...</td>\n",
       "      <td>0</td>\n",
       "    </tr>\n",
       "    <tr>\n",
       "      <th>2</th>\n",
       "      <td>hey man i m really not trying to edit war it s...</td>\n",
       "      <td>0</td>\n",
       "    </tr>\n",
       "    <tr>\n",
       "      <th>3</th>\n",
       "      <td>more i can t make any real suggestion on impro...</td>\n",
       "      <td>0</td>\n",
       "    </tr>\n",
       "    <tr>\n",
       "      <th>4</th>\n",
       "      <td>you sir are my hero any chance you remember wh...</td>\n",
       "      <td>0</td>\n",
       "    </tr>\n",
       "  </tbody>\n",
       "</table>\n",
       "</div>"
      ],
      "text/plain": [
       "                                                text  toxic\n",
       "0  explanation why the edits made under my userna...      0\n",
       "1  d aww he match this background colour i m seem...      0\n",
       "2  hey man i m really not trying to edit war it s...      0\n",
       "3  more i can t make any real suggestion on impro...      0\n",
       "4  you sir are my hero any chance you remember wh...      0"
      ]
     },
     "execution_count": 11,
     "metadata": {},
     "output_type": "execute_result"
    }
   ],
   "source": [
    "data.head()"
   ]
  },
  {
   "cell_type": "code",
   "execution_count": 12,
   "metadata": {},
   "outputs": [
    {
     "data": {
      "image/png": "[encoded data removed]",
      "text/plain": [
       "<Figure size 800x800 with 1 Axes>"
      ]
     },
     "metadata": {},
     "output_type": "display_data"
    }
   ],
   "source": [
    "plt.figure(figsize = (8,8))\n",
    "plt.bar(x = ['0', '1'], height = data['toxic'].value_counts())\n",
    "plt.title('Гистограмма кол-ва классов')\n",
    "plt.xlabel('Класс')\n",
    "plt.ylabel('Кол-во')\n",
    "plt.grid(True)"
   ]
  },
  {
   "cell_type": "code",
   "execution_count": 13,
   "metadata": {},
   "outputs": [],
   "source": [
    "# сохраним данные для разных моделей\n",
    "data_tf_idf = data.copy()\n",
    "data_bert = data.copy()\n",
    "data_Word2Vec = data.copy()"
   ]
  },
  {
   "cell_type": "code",
   "execution_count": 14,
   "metadata": {},
   "outputs": [],
   "source": [
    "# Подготовка выборки для TfidfVectorizer"
   ]
  },
  {
   "cell_type": "code",
   "execution_count": 15,
   "metadata": {},
   "outputs": [],
   "source": [
    "X_train, X_test, y_train, y_test = train_test_split(data_tf_idf['text'], data_tf_idf['toxic'],\n",
    "                                                    random_state = 12345, test_size = 0.35)"
   ]
  },
  {
   "cell_type": "code",
   "execution_count": 16,
   "metadata": {},
   "outputs": [
    {
     "data": {
      "text/plain": [
       "((103539,), (55753,))"
      ]
     },
     "execution_count": 16,
     "metadata": {},
     "output_type": "execute_result"
    }
   ],
   "source": [
    "X_train.shape, X_test.shape"
   ]
  },
  {
   "cell_type": "code",
   "execution_count": 17,
   "metadata": {},
   "outputs": [
    {
     "data": {
      "text/plain": [
       "67564237"
      ]
     },
     "execution_count": 17,
     "metadata": {},
     "output_type": "execute_result"
    }
   ],
   "source": [
    "data['text'].memory_usage(deep=True)"
   ]
  },
  {
   "cell_type": "code",
   "execution_count": 18,
   "metadata": {},
   "outputs": [],
   "source": [
    "# corpus_train = X_train.values.astype('U')\n",
    "# corpus_test = X_test.values.astype('U')"
   ]
  },
  {
   "cell_type": "code",
   "execution_count": 19,
   "metadata": {},
   "outputs": [],
   "source": [
    "stopwords = set(nltk_stopwords.words('english'))"
   ]
  },
  {
   "cell_type": "code",
   "execution_count": 20,
   "metadata": {},
   "outputs": [
    {
     "name": "stdout",
     "output_type": "stream",
     "text": [
      "CPU times: user 6.04 s, sys: 31.9 ms, total: 6.07 s\n",
      "Wall time: 6.07 s\n"
     ]
    }
   ],
   "source": [
    "%%time\n",
    "try:\n",
    "    count_tf_idf = TfidfVectorizer(stop_words=list(stopwords))\n",
    "except:\n",
    "    count_tf_idf = TfidfVectorizer(stop_words=stopwords)\n",
    "\n",
    "tf_idf_train = count_tf_idf.fit_transform(X_train) \n",
    "tf_idf_test = count_tf_idf.transform(X_test) \n"
   ]
  },
  {
   "cell_type": "code",
   "execution_count": 21,
   "metadata": {},
   "outputs": [
    {
     "data": {
      "text/plain": [
       "((103539, 122367), (55753, 122367))"
      ]
     },
     "execution_count": 21,
     "metadata": {},
     "output_type": "execute_result"
    }
   ],
   "source": [
    "tf_idf_train.shape, tf_idf_test.shape"
   ]
  },
  {
   "cell_type": "markdown",
   "metadata": {},
   "source": [
    "**Вывод:** Датасет состоит из 159292 строк. Текст из строк был очищен от символов, разделен на датасеты для обучения моделей. В исходном датасете присутствует сильный дисбаланс классов. Тренировочный датасет состоит из 103539. Для моделей sklearn была произведена токенизация, кол-во токенов составило 130904 столбца, что сильно ограничевает обучения моделей из за черезмерного потребления ресурсов памяти локального ПК."
   ]
  },
  {
   "cell_type": "markdown",
   "metadata": {},
   "source": [
    "## Обучение"
   ]
  },
  {
   "cell_type": "code",
   "execution_count": 23,
   "metadata": {},
   "outputs": [],
   "source": [
    "def fit_model_RS( model, param_grid, n_jobs = -1 ):\n",
    "    '''Перебор параметров моделей'''\n",
    "    \n",
    "    #Шаги пайплайна\n",
    "    steps = [\n",
    "    ('pca', PCA()),\n",
    "    ('model', model)]\n",
    "    \n",
    "    # Pipeline\n",
    "    pipeline = Pipeline(steps)\n",
    "    \n",
    "    # подбор гиперпараметров\n",
    "    RS_model = RandomizedSearchCV(\n",
    "        model,\n",
    "        param_grid,\n",
    "        scoring = 'f1',\n",
    "        random_state = 12345,\n",
    "        n_jobs = n_jobs,\n",
    "        cv = 3\n",
    "    )\n",
    "    \n",
    "    start = time.time()\n",
    "    \n",
    "    # фит модели\n",
    "    RS_model.fit(tf_idf_train, y_train)\n",
    "    \n",
    "    end = time.time()\n",
    "    \n",
    "    \n",
    "    # лучшие параметры\n",
    "    try:\n",
    "        print('fbest_params:', {RS_model.best_params_})\n",
    "    except:\n",
    "        print('fbest_params:', dict(RS_model.best_params_))\n",
    "    else:\n",
    "        pass\n",
    "    \n",
    "    print(f'Время выполнения подбора параметров = {(end - start) / 60} мин.')\n",
    "    \n",
    "    return RS_model\n"
   ]
  },
  {
   "cell_type": "code",
   "execution_count": 24,
   "metadata": {},
   "outputs": [],
   "source": [
    "def best_thr(model, X_train, y_train):\n",
    "\n",
    "    '''Проверка изменение метрики при манипуляции с вероятностями классов'''\n",
    "    \n",
    "    X_train, X_valid, y_train, y_valid = train_test_split(X_train, y_train,\n",
    "                                                    random_state = 12345, test_size = 0.35)\n",
    "    \n",
    "    BestThr = -1\n",
    "    Bestf1 = -1\n",
    "\n",
    "    f1 = []\n",
    "\n",
    "    model_to_prob = model.fit(X_train, y_train)\n",
    "    \n",
    "    pred_proba = model_to_prob.predict_proba(X_valid)\n",
    "\n",
    "    # перебор вероятности и поиск лучшей метрики f1\n",
    "    for thr in np.arange(0, 1, 0.01):\n",
    "\n",
    "        classes = (pred_proba[:, 1] >= thr)*1\n",
    "        f_1 = f1_score(y_valid, classes)\n",
    "        f1.append(f_1)\n",
    "\n",
    "        if f_1 > Bestf1:\n",
    "            Bestf1 = f_1\n",
    "            BestThr = thr\n",
    "\n",
    "\n",
    "    print (f'Лучшая оценка f1 на valid = {Bestf1} получается при вероятности класс 1 равному {BestThr}')\n",
    "    print (f'Оценка f1 на valid = {f1_score(y_valid, model.predict(X_valid))} ') \n",
    "    \n",
    "    return BestThr\n",
    "    "
   ]
  },
  {
   "cell_type": "code",
   "execution_count": 25,
   "metadata": {
    "scrolled": true
   },
   "outputs": [
    {
     "name": "stderr",
     "output_type": "stream",
     "text": [
      "/home/danila/mainpk/jupyter/jupyter_env/lib/python3.10/site-packages/sklearn/linear_model/_sag.py:350: ConvergenceWarning: The max_iter was reached which means the coef_ did not converge\n",
      "  warnings.warn(\n",
      "/home/danila/mainpk/jupyter/jupyter_env/lib/python3.10/site-packages/sklearn/linear_model/_sag.py:350: ConvergenceWarning: The max_iter was reached which means the coef_ did not converge\n",
      "  warnings.warn(\n",
      "/home/danila/mainpk/jupyter/jupyter_env/lib/python3.10/site-packages/sklearn/linear_model/_sag.py:350: ConvergenceWarning: The max_iter was reached which means the coef_ did not converge\n",
      "  warnings.warn(\n",
      "/home/danila/mainpk/jupyter/jupyter_env/lib/python3.10/site-packages/sklearn/linear_model/_logistic.py:460: ConvergenceWarning: lbfgs failed to converge (status=1):\n",
      "STOP: TOTAL NO. of ITERATIONS REACHED LIMIT.\n",
      "\n",
      "Increase the number of iterations (max_iter) or scale the data as shown in:\n",
      "    https://scikit-learn.org/stable/modules/preprocessing.html\n",
      "Please also refer to the documentation for alternative solver options:\n",
      "    https://scikit-learn.org/stable/modules/linear_model.html#logistic-regression\n",
      "  n_iter_i = _check_optimize_result(\n",
      "/home/danila/mainpk/jupyter/jupyter_env/lib/python3.10/site-packages/sklearn/linear_model/_logistic.py:460: ConvergenceWarning: lbfgs failed to converge (status=1):\n",
      "STOP: TOTAL NO. of ITERATIONS REACHED LIMIT.\n",
      "\n",
      "Increase the number of iterations (max_iter) or scale the data as shown in:\n",
      "    https://scikit-learn.org/stable/modules/preprocessing.html\n",
      "Please also refer to the documentation for alternative solver options:\n",
      "    https://scikit-learn.org/stable/modules/linear_model.html#logistic-regression\n",
      "  n_iter_i = _check_optimize_result(\n",
      "/home/danila/mainpk/jupyter/jupyter_env/lib/python3.10/site-packages/sklearn/linear_model/_logistic.py:460: ConvergenceWarning: lbfgs failed to converge (status=1):\n",
      "STOP: TOTAL NO. of ITERATIONS REACHED LIMIT.\n",
      "\n",
      "Increase the number of iterations (max_iter) or scale the data as shown in:\n",
      "    https://scikit-learn.org/stable/modules/preprocessing.html\n",
      "Please also refer to the documentation for alternative solver options:\n",
      "    https://scikit-learn.org/stable/modules/linear_model.html#logistic-regression\n",
      "  n_iter_i = _check_optimize_result(\n",
      "/home/danila/mainpk/jupyter/jupyter_env/lib/python3.10/site-packages/sklearn/linear_model/_sag.py:350: ConvergenceWarning: The max_iter was reached which means the coef_ did not converge\n",
      "  warnings.warn(\n",
      "/home/danila/mainpk/jupyter/jupyter_env/lib/python3.10/site-packages/sklearn/linear_model/_sag.py:350: ConvergenceWarning: The max_iter was reached which means the coef_ did not converge\n",
      "  warnings.warn(\n",
      "/home/danila/mainpk/jupyter/jupyter_env/lib/python3.10/site-packages/sklearn/linear_model/_sag.py:350: ConvergenceWarning: The max_iter was reached which means the coef_ did not converge\n",
      "  warnings.warn(\n"
     ]
    },
    {
     "name": "stdout",
     "output_type": "stream",
     "text": [
      "fbest_params: {'solver': 'liblinear', 'penalty': 'l1', 'class_weight': None, 'C': 3.0}\n",
      "Время выполнения подбора параметров = 1.1908870577812194 мин.\n",
      "CPU times: user 1.18 s, sys: 129 ms, total: 1.31 s\n",
      "Wall time: 1min 11s\n"
     ]
    }
   ],
   "source": [
    "%%time\n",
    "# LogisticRegression\n",
    "\n",
    "lr_model  =  LogisticRegression(random_state = 12345)\n",
    "\n",
    "# комбинаций гиперпараметров\n",
    "param_grid = dict(\n",
    "    penalty = ['l1', 'l2'],\n",
    "    class_weight = ['balanced', None],\n",
    "    solver = ['lbfgs', 'liblinear', 'saga'],\n",
    "    C = [1.0, 2.0, 3.0]\n",
    "    )\n",
    "\n",
    "lr_RS = fit_model_RS(lr_model, param_grid)\n"
   ]
  },
  {
   "cell_type": "code",
   "execution_count": 26,
   "metadata": {
    "scrolled": true
   },
   "outputs": [
    {
     "name": "stderr",
     "output_type": "stream",
     "text": [
      "/home/danila/mainpk/jupyter/jupyter_env/lib/python3.10/site-packages/sklearn/linear_model/_sag.py:350: ConvergenceWarning: The max_iter was reached which means the coef_ did not converge\n",
      "  warnings.warn(\n",
      "/home/danila/mainpk/jupyter/jupyter_env/lib/python3.10/site-packages/sklearn/linear_model/_sag.py:350: ConvergenceWarning: The max_iter was reached which means the coef_ did not converge\n",
      "  warnings.warn(\n",
      "/home/danila/mainpk/jupyter/jupyter_env/lib/python3.10/site-packages/sklearn/linear_model/_sag.py:350: ConvergenceWarning: The max_iter was reached which means the coef_ did not converge\n",
      "  warnings.warn(\n",
      "/home/danila/mainpk/jupyter/jupyter_env/lib/python3.10/site-packages/sklearn/linear_model/_sag.py:350: ConvergenceWarning: The max_iter was reached which means the coef_ did not converge\n",
      "  warnings.warn(\n",
      "/home/danila/mainpk/jupyter/jupyter_env/lib/python3.10/site-packages/sklearn/linear_model/_sag.py:350: ConvergenceWarning: The max_iter was reached which means the coef_ did not converge\n",
      "  warnings.warn(\n",
      "/home/danila/mainpk/jupyter/jupyter_env/lib/python3.10/site-packages/sklearn/linear_model/_sag.py:350: ConvergenceWarning: The max_iter was reached which means the coef_ did not converge\n",
      "  warnings.warn(\n"
     ]
    },
    {
     "name": "stdout",
     "output_type": "stream",
     "text": [
      "Лучшая оценка f1 на valid = 0.7790393013100436 получается при вероятности класс 1 равному 0.38\n",
      "Оценка f1 на valid = 0.7690900777320531 \n",
      "CPU times: user 1.73 s, sys: 64.3 ms, total: 1.79 s\n",
      "Wall time: 38.2 s\n"
     ]
    }
   ],
   "source": [
    "%%time\n",
    "BestThr = best_thr(lr_RS, tf_idf_train, y_train)"
   ]
  },
  {
   "cell_type": "code",
   "execution_count": 27,
   "metadata": {
    "scrolled": true
   },
   "outputs": [
    {
     "name": "stdout",
     "output_type": "stream",
     "text": [
      "CPU times: user 3 µs, sys: 0 ns, total: 3 µs\n",
      "Wall time: 4.29 µs\n"
     ]
    }
   ],
   "source": [
    "%%time\n",
    "\n",
    "# LGBMClassifier перегружен кол-вом стоблцов и имеет черезмерное время обучения даже на базовой модели\n",
    "# (без перебора параметров) пока отложил в долгий ящик\n",
    "\n",
    "# LGBMClassifier\n",
    "\n",
    "# gb_model  =  LGBMClassifier(random_state = 12345)\n",
    "\n",
    "# # комбинаций гиперпараметров\n",
    "# param_grid = dict(\n",
    "#     learning_rate = [0.1, 0.05],\n",
    "#     n_estimators = [100, 200],\n",
    "#     max_depth = [-1],\n",
    "#     class_weight = ['balanced', None],\n",
    "#     )\n",
    "\n",
    "# gb_RS = fit_model_RS(gb_model, param_grid)"
   ]
  },
  {
   "cell_type": "code",
   "execution_count": 28,
   "metadata": {},
   "outputs": [],
   "source": [
    "# BestThr = best_thr(gb_RS, tf_idf_test)\n",
    "\n",
    "# pred_proba = gb_RS.predict_proba(tf_idf_test)\n",
    "# pred = gb_RS.predict(tf_idf_test)\n",
    "\n",
    "# classes = (pred_proba[:, 1] >= BestThr) * 1\n",
    "\n",
    "# print('f1 best (LGBMClassifier) = ', f1_score(y_test, pred))\n",
    "# print('f1 best correct proba (LGBMClassifier) = ', f1_score(y_test, classes))"
   ]
  },
  {
   "cell_type": "code",
   "execution_count": 29,
   "metadata": {
    "scrolled": true
   },
   "outputs": [
    {
     "name": "stdout",
     "output_type": "stream",
     "text": [
      "Learning rate set to 0.026118\n",
      "0:\tlearn: 0.6642180\ttotal: 219ms\tremaining: 3m 38s\n",
      "1:\tlearn: 0.6378238\ttotal: 398ms\tremaining: 3m 18s\n",
      "2:\tlearn: 0.6131180\ttotal: 561ms\tremaining: 3m 6s\n",
      "3:\tlearn: 0.5900726\ttotal: 738ms\tremaining: 3m 3s\n",
      "4:\tlearn: 0.5684798\ttotal: 900ms\tremaining: 2m 59s\n",
      "5:\tlearn: 0.5483450\ttotal: 1.06s\tremaining: 2m 56s\n",
      "6:\tlearn: 0.5301201\ttotal: 1.23s\tremaining: 2m 55s\n",
      "7:\tlearn: 0.5123903\ttotal: 1.41s\tremaining: 2m 55s\n",
      "8:\tlearn: 0.4964270\ttotal: 1.58s\tremaining: 2m 53s\n",
      "9:\tlearn: 0.4811477\ttotal: 1.74s\tremaining: 2m 52s\n",
      "10:\tlearn: 0.4662828\ttotal: 1.94s\tremaining: 2m 54s\n",
      "11:\tlearn: 0.4528539\ttotal: 2.11s\tremaining: 2m 54s\n",
      "12:\tlearn: 0.4392660\ttotal: 2.32s\tremaining: 2m 56s\n",
      "13:\tlearn: 0.4270939\ttotal: 2.51s\tremaining: 2m 56s\n",
      "14:\tlearn: 0.4154089\ttotal: 2.7s\tremaining: 2m 57s\n",
      "15:\tlearn: 0.4051780\ttotal: 2.87s\tremaining: 2m 56s\n",
      "16:\tlearn: 0.3952176\ttotal: 3.05s\tremaining: 2m 56s\n",
      "17:\tlearn: 0.3858503\ttotal: 3.26s\tremaining: 2m 58s\n",
      "18:\tlearn: 0.3769313\ttotal: 3.46s\tremaining: 2m 58s\n",
      "19:\tlearn: 0.3686512\ttotal: 3.63s\tremaining: 2m 58s\n",
      "20:\tlearn: 0.3609869\ttotal: 3.81s\tremaining: 2m 57s\n",
      "21:\tlearn: 0.3537305\ttotal: 3.99s\tremaining: 2m 57s\n",
      "22:\tlearn: 0.3466661\ttotal: 4.19s\tremaining: 2m 58s\n",
      "23:\tlearn: 0.3409757\ttotal: 4.34s\tremaining: 2m 56s\n",
      "24:\tlearn: 0.3352142\ttotal: 4.52s\tremaining: 2m 56s\n",
      "25:\tlearn: 0.3298936\ttotal: 4.7s\tremaining: 2m 56s\n",
      "26:\tlearn: 0.3248635\ttotal: 4.89s\tremaining: 2m 56s\n",
      "27:\tlearn: 0.3198465\ttotal: 5.06s\tremaining: 2m 55s\n",
      "28:\tlearn: 0.3151427\ttotal: 5.24s\tremaining: 2m 55s\n",
      "29:\tlearn: 0.3108397\ttotal: 5.4s\tremaining: 2m 54s\n",
      "30:\tlearn: 0.3064372\ttotal: 5.58s\tremaining: 2m 54s\n",
      "31:\tlearn: 0.3026620\ttotal: 5.75s\tremaining: 2m 54s\n",
      "32:\tlearn: 0.2994103\ttotal: 5.9s\tremaining: 2m 52s\n",
      "33:\tlearn: 0.2953526\ttotal: 6.11s\tremaining: 2m 53s\n",
      "34:\tlearn: 0.2915337\ttotal: 6.35s\tremaining: 2m 55s\n",
      "35:\tlearn: 0.2882468\ttotal: 6.53s\tremaining: 2m 54s\n",
      "36:\tlearn: 0.2851301\ttotal: 6.72s\tremaining: 2m 54s\n",
      "37:\tlearn: 0.2820713\ttotal: 6.9s\tremaining: 2m 54s\n",
      "38:\tlearn: 0.2792282\ttotal: 7.08s\tremaining: 2m 54s\n",
      "39:\tlearn: 0.2767806\ttotal: 7.24s\tremaining: 2m 53s\n",
      "40:\tlearn: 0.2742058\ttotal: 7.44s\tremaining: 2m 54s\n",
      "41:\tlearn: 0.2720039\ttotal: 7.61s\tremaining: 2m 53s\n",
      "42:\tlearn: 0.2697529\ttotal: 7.8s\tremaining: 2m 53s\n",
      "43:\tlearn: 0.2674795\ttotal: 8s\tremaining: 2m 53s\n",
      "44:\tlearn: 0.2654971\ttotal: 8.16s\tremaining: 2m 53s\n",
      "45:\tlearn: 0.2634844\ttotal: 8.35s\tremaining: 2m 53s\n",
      "46:\tlearn: 0.2615785\ttotal: 8.53s\tremaining: 2m 52s\n",
      "47:\tlearn: 0.2599715\ttotal: 8.71s\tremaining: 2m 52s\n",
      "48:\tlearn: 0.2582087\ttotal: 8.88s\tremaining: 2m 52s\n",
      "49:\tlearn: 0.2565275\ttotal: 9.07s\tremaining: 2m 52s\n",
      "50:\tlearn: 0.2550175\ttotal: 9.24s\tremaining: 2m 51s\n",
      "51:\tlearn: 0.2535782\ttotal: 9.41s\tremaining: 2m 51s\n",
      "52:\tlearn: 0.2520829\ttotal: 9.59s\tremaining: 2m 51s\n",
      "53:\tlearn: 0.2504687\ttotal: 9.79s\tremaining: 2m 51s\n",
      "54:\tlearn: 0.2490550\ttotal: 9.97s\tremaining: 2m 51s\n",
      "55:\tlearn: 0.2478385\ttotal: 10.1s\tremaining: 2m 50s\n",
      "56:\tlearn: 0.2465201\ttotal: 10.3s\tremaining: 2m 50s\n",
      "57:\tlearn: 0.2453615\ttotal: 10.5s\tremaining: 2m 50s\n",
      "58:\tlearn: 0.2442986\ttotal: 10.7s\tremaining: 2m 50s\n",
      "59:\tlearn: 0.2432639\ttotal: 10.8s\tremaining: 2m 49s\n",
      "60:\tlearn: 0.2420358\ttotal: 11s\tremaining: 2m 50s\n",
      "61:\tlearn: 0.2409728\ttotal: 11.2s\tremaining: 2m 50s\n",
      "62:\tlearn: 0.2399913\ttotal: 11.4s\tremaining: 2m 49s\n",
      "63:\tlearn: 0.2389868\ttotal: 11.6s\tremaining: 2m 49s\n",
      "64:\tlearn: 0.2381252\ttotal: 11.8s\tremaining: 2m 49s\n",
      "65:\tlearn: 0.2372548\ttotal: 12s\tremaining: 2m 49s\n",
      "66:\tlearn: 0.2364440\ttotal: 12.1s\tremaining: 2m 48s\n",
      "67:\tlearn: 0.2356291\ttotal: 12.3s\tremaining: 2m 48s\n",
      "68:\tlearn: 0.2346096\ttotal: 12.5s\tremaining: 2m 48s\n",
      "69:\tlearn: 0.2338484\ttotal: 12.7s\tremaining: 2m 48s\n",
      "70:\tlearn: 0.2331360\ttotal: 12.8s\tremaining: 2m 48s\n",
      "71:\tlearn: 0.2324250\ttotal: 13s\tremaining: 2m 47s\n",
      "72:\tlearn: 0.2317420\ttotal: 13.2s\tremaining: 2m 47s\n",
      "73:\tlearn: 0.2308648\ttotal: 13.4s\tremaining: 2m 47s\n",
      "74:\tlearn: 0.2301681\ttotal: 13.6s\tremaining: 2m 47s\n",
      "75:\tlearn: 0.2295693\ttotal: 13.7s\tremaining: 2m 46s\n",
      "76:\tlearn: 0.2289800\ttotal: 13.9s\tremaining: 2m 46s\n",
      "77:\tlearn: 0.2283115\ttotal: 14.1s\tremaining: 2m 46s\n",
      "78:\tlearn: 0.2276915\ttotal: 14.2s\tremaining: 2m 46s\n",
      "79:\tlearn: 0.2270747\ttotal: 14.4s\tremaining: 2m 45s\n",
      "80:\tlearn: 0.2263986\ttotal: 14.6s\tremaining: 2m 45s\n",
      "81:\tlearn: 0.2256545\ttotal: 14.8s\tremaining: 2m 46s\n",
      "82:\tlearn: 0.2251401\ttotal: 15s\tremaining: 2m 45s\n",
      "83:\tlearn: 0.2245953\ttotal: 15.2s\tremaining: 2m 45s\n",
      "84:\tlearn: 0.2240696\ttotal: 15.3s\tremaining: 2m 45s\n",
      "85:\tlearn: 0.2234294\ttotal: 15.5s\tremaining: 2m 45s\n",
      "86:\tlearn: 0.2230395\ttotal: 15.7s\tremaining: 2m 44s\n",
      "87:\tlearn: 0.2224066\ttotal: 15.9s\tremaining: 2m 44s\n",
      "88:\tlearn: 0.2220603\ttotal: 16.1s\tremaining: 2m 44s\n",
      "89:\tlearn: 0.2215773\ttotal: 16.2s\tremaining: 2m 44s\n",
      "90:\tlearn: 0.2211555\ttotal: 16.4s\tremaining: 2m 44s\n",
      "91:\tlearn: 0.2207162\ttotal: 16.6s\tremaining: 2m 43s\n",
      "92:\tlearn: 0.2203327\ttotal: 16.8s\tremaining: 2m 43s\n",
      "93:\tlearn: 0.2199581\ttotal: 16.9s\tremaining: 2m 43s\n",
      "94:\tlearn: 0.2195263\ttotal: 17.1s\tremaining: 2m 42s\n",
      "95:\tlearn: 0.2190652\ttotal: 17.3s\tremaining: 2m 42s\n",
      "96:\tlearn: 0.2186499\ttotal: 17.4s\tremaining: 2m 42s\n",
      "97:\tlearn: 0.2181633\ttotal: 17.6s\tremaining: 2m 42s\n",
      "98:\tlearn: 0.2177697\ttotal: 17.8s\tremaining: 2m 41s\n",
      "99:\tlearn: 0.2172550\ttotal: 18s\tremaining: 2m 41s\n",
      "100:\tlearn: 0.2168935\ttotal: 18.2s\tremaining: 2m 41s\n",
      "101:\tlearn: 0.2165207\ttotal: 18.3s\tremaining: 2m 41s\n",
      "102:\tlearn: 0.2161981\ttotal: 18.5s\tremaining: 2m 41s\n",
      "103:\tlearn: 0.2158349\ttotal: 18.7s\tremaining: 2m 40s\n",
      "104:\tlearn: 0.2154817\ttotal: 18.8s\tremaining: 2m 40s\n",
      "105:\tlearn: 0.2151058\ttotal: 19s\tremaining: 2m 40s\n",
      "106:\tlearn: 0.2147820\ttotal: 19.2s\tremaining: 2m 40s\n",
      "107:\tlearn: 0.2144406\ttotal: 19.3s\tremaining: 2m 39s\n",
      "108:\tlearn: 0.2140924\ttotal: 19.5s\tremaining: 2m 39s\n",
      "109:\tlearn: 0.2137669\ttotal: 19.7s\tremaining: 2m 39s\n",
      "110:\tlearn: 0.2134841\ttotal: 19.9s\tremaining: 2m 38s\n",
      "111:\tlearn: 0.2130444\ttotal: 20s\tremaining: 2m 38s\n",
      "112:\tlearn: 0.2127187\ttotal: 20.2s\tremaining: 2m 38s\n",
      "113:\tlearn: 0.2124457\ttotal: 20.4s\tremaining: 2m 38s\n",
      "114:\tlearn: 0.2119954\ttotal: 20.6s\tremaining: 2m 38s\n",
      "115:\tlearn: 0.2116984\ttotal: 20.8s\tremaining: 2m 38s\n",
      "116:\tlearn: 0.2113622\ttotal: 20.9s\tremaining: 2m 37s\n",
      "117:\tlearn: 0.2111000\ttotal: 21.1s\tremaining: 2m 37s\n",
      "118:\tlearn: 0.2108179\ttotal: 21.3s\tremaining: 2m 37s\n",
      "119:\tlearn: 0.2105389\ttotal: 21.4s\tremaining: 2m 37s\n",
      "120:\tlearn: 0.2100740\ttotal: 21.6s\tremaining: 2m 37s\n",
      "121:\tlearn: 0.2097761\ttotal: 21.8s\tremaining: 2m 36s\n",
      "122:\tlearn: 0.2095263\ttotal: 22s\tremaining: 2m 36s\n",
      "123:\tlearn: 0.2092495\ttotal: 22.1s\tremaining: 2m 36s\n",
      "124:\tlearn: 0.2089875\ttotal: 22.3s\tremaining: 2m 36s\n",
      "125:\tlearn: 0.2086864\ttotal: 22.5s\tremaining: 2m 35s\n",
      "126:\tlearn: 0.2084402\ttotal: 22.6s\tremaining: 2m 35s\n",
      "127:\tlearn: 0.2082017\ttotal: 22.8s\tremaining: 2m 35s\n",
      "128:\tlearn: 0.2079007\ttotal: 23s\tremaining: 2m 35s\n",
      "129:\tlearn: 0.2075543\ttotal: 23.2s\tremaining: 2m 35s\n",
      "130:\tlearn: 0.2072689\ttotal: 23.3s\tremaining: 2m 34s\n",
      "131:\tlearn: 0.2070357\ttotal: 23.5s\tremaining: 2m 34s\n",
      "132:\tlearn: 0.2066472\ttotal: 23.7s\tremaining: 2m 34s\n",
      "133:\tlearn: 0.2064545\ttotal: 23.9s\tremaining: 2m 34s\n",
      "134:\tlearn: 0.2062235\ttotal: 24.1s\tremaining: 2m 34s\n",
      "135:\tlearn: 0.2059983\ttotal: 24.2s\tremaining: 2m 33s\n",
      "136:\tlearn: 0.2057895\ttotal: 24.4s\tremaining: 2m 33s\n",
      "137:\tlearn: 0.2055198\ttotal: 24.6s\tremaining: 2m 33s\n",
      "138:\tlearn: 0.2052528\ttotal: 24.7s\tremaining: 2m 33s\n",
      "139:\tlearn: 0.2050504\ttotal: 24.9s\tremaining: 2m 32s\n",
      "140:\tlearn: 0.2048099\ttotal: 25s\tremaining: 2m 32s\n",
      "141:\tlearn: 0.2044231\ttotal: 25.2s\tremaining: 2m 32s\n",
      "142:\tlearn: 0.2041800\ttotal: 25.4s\tremaining: 2m 32s\n",
      "143:\tlearn: 0.2039649\ttotal: 25.6s\tremaining: 2m 31s\n",
      "144:\tlearn: 0.2037529\ttotal: 25.7s\tremaining: 2m 31s\n",
      "145:\tlearn: 0.2035012\ttotal: 25.9s\tremaining: 2m 31s\n",
      "146:\tlearn: 0.2032420\ttotal: 26.1s\tremaining: 2m 31s\n",
      "147:\tlearn: 0.2030883\ttotal: 26.2s\tremaining: 2m 31s\n",
      "148:\tlearn: 0.2028013\ttotal: 26.4s\tremaining: 2m 30s\n",
      "149:\tlearn: 0.2025712\ttotal: 26.6s\tremaining: 2m 30s\n",
      "150:\tlearn: 0.2023495\ttotal: 26.8s\tremaining: 2m 30s\n",
      "151:\tlearn: 0.2021570\ttotal: 26.9s\tremaining: 2m 30s\n",
      "152:\tlearn: 0.2019299\ttotal: 27.1s\tremaining: 2m 29s\n",
      "153:\tlearn: 0.2016559\ttotal: 27.3s\tremaining: 2m 29s\n",
      "154:\tlearn: 0.2014486\ttotal: 27.4s\tremaining: 2m 29s\n",
      "155:\tlearn: 0.2012417\ttotal: 27.6s\tremaining: 2m 29s\n",
      "156:\tlearn: 0.2010698\ttotal: 27.8s\tremaining: 2m 29s\n",
      "157:\tlearn: 0.2008981\ttotal: 27.9s\tremaining: 2m 28s\n",
      "158:\tlearn: 0.2005308\ttotal: 28.1s\tremaining: 2m 28s\n",
      "159:\tlearn: 0.2003449\ttotal: 28.3s\tremaining: 2m 28s\n",
      "160:\tlearn: 0.2001047\ttotal: 28.5s\tremaining: 2m 28s\n",
      "161:\tlearn: 0.1999039\ttotal: 28.6s\tremaining: 2m 28s\n",
      "162:\tlearn: 0.1996518\ttotal: 28.8s\tremaining: 2m 27s\n",
      "163:\tlearn: 0.1994775\ttotal: 29s\tremaining: 2m 27s\n",
      "164:\tlearn: 0.1992964\ttotal: 29.1s\tremaining: 2m 27s\n",
      "165:\tlearn: 0.1989802\ttotal: 29.3s\tremaining: 2m 27s\n",
      "166:\tlearn: 0.1987969\ttotal: 29.5s\tremaining: 2m 27s\n",
      "167:\tlearn: 0.1985715\ttotal: 29.7s\tremaining: 2m 26s\n",
      "168:\tlearn: 0.1983037\ttotal: 29.8s\tremaining: 2m 26s\n",
      "169:\tlearn: 0.1981013\ttotal: 30s\tremaining: 2m 26s\n",
      "170:\tlearn: 0.1979166\ttotal: 30.2s\tremaining: 2m 26s\n",
      "171:\tlearn: 0.1977222\ttotal: 30.3s\tremaining: 2m 25s\n",
      "172:\tlearn: 0.1974862\ttotal: 30.5s\tremaining: 2m 25s\n",
      "173:\tlearn: 0.1973408\ttotal: 30.7s\tremaining: 2m 25s\n",
      "174:\tlearn: 0.1971307\ttotal: 30.8s\tremaining: 2m 25s\n",
      "175:\tlearn: 0.1969777\ttotal: 31s\tremaining: 2m 25s\n",
      "176:\tlearn: 0.1968381\ttotal: 31.1s\tremaining: 2m 24s\n",
      "177:\tlearn: 0.1966510\ttotal: 31.3s\tremaining: 2m 24s\n",
      "178:\tlearn: 0.1964827\ttotal: 31.5s\tremaining: 2m 24s\n",
      "179:\tlearn: 0.1962988\ttotal: 31.7s\tremaining: 2m 24s\n",
      "180:\tlearn: 0.1961622\ttotal: 31.8s\tremaining: 2m 23s\n",
      "181:\tlearn: 0.1959287\ttotal: 32s\tremaining: 2m 23s\n",
      "182:\tlearn: 0.1957670\ttotal: 32.2s\tremaining: 2m 23s\n",
      "183:\tlearn: 0.1955722\ttotal: 32.3s\tremaining: 2m 23s\n",
      "184:\tlearn: 0.1952877\ttotal: 32.5s\tremaining: 2m 23s\n",
      "185:\tlearn: 0.1950631\ttotal: 32.7s\tremaining: 2m 23s\n",
      "186:\tlearn: 0.1949222\ttotal: 32.9s\tremaining: 2m 22s\n",
      "187:\tlearn: 0.1947755\ttotal: 33s\tremaining: 2m 22s\n",
      "188:\tlearn: 0.1946414\ttotal: 33.2s\tremaining: 2m 22s\n",
      "189:\tlearn: 0.1945086\ttotal: 33.4s\tremaining: 2m 22s\n",
      "190:\tlearn: 0.1942902\ttotal: 33.5s\tremaining: 2m 22s\n",
      "191:\tlearn: 0.1941404\ttotal: 33.7s\tremaining: 2m 21s\n",
      "192:\tlearn: 0.1939324\ttotal: 33.9s\tremaining: 2m 21s\n",
      "193:\tlearn: 0.1937204\ttotal: 34.1s\tremaining: 2m 21s\n",
      "194:\tlearn: 0.1935726\ttotal: 34.2s\tremaining: 2m 21s\n",
      "195:\tlearn: 0.1933694\ttotal: 34.4s\tremaining: 2m 21s\n",
      "196:\tlearn: 0.1932576\ttotal: 34.6s\tremaining: 2m 20s\n",
      "197:\tlearn: 0.1930947\ttotal: 34.8s\tremaining: 2m 20s\n",
      "198:\tlearn: 0.1929288\ttotal: 34.9s\tremaining: 2m 20s\n",
      "199:\tlearn: 0.1928117\ttotal: 35.1s\tremaining: 2m 20s\n",
      "200:\tlearn: 0.1925760\ttotal: 35.3s\tremaining: 2m 20s\n",
      "201:\tlearn: 0.1924350\ttotal: 35.4s\tremaining: 2m 19s\n",
      "202:\tlearn: 0.1922924\ttotal: 35.6s\tremaining: 2m 19s\n",
      "203:\tlearn: 0.1920494\ttotal: 35.8s\tremaining: 2m 19s\n",
      "204:\tlearn: 0.1918712\ttotal: 35.9s\tremaining: 2m 19s\n",
      "205:\tlearn: 0.1917144\ttotal: 36.1s\tremaining: 2m 19s\n",
      "206:\tlearn: 0.1915726\ttotal: 36.3s\tremaining: 2m 19s\n",
      "207:\tlearn: 0.1914385\ttotal: 36.5s\tremaining: 2m 18s\n",
      "208:\tlearn: 0.1912967\ttotal: 36.6s\tremaining: 2m 18s\n",
      "209:\tlearn: 0.1911787\ttotal: 36.8s\tremaining: 2m 18s\n",
      "210:\tlearn: 0.1910593\ttotal: 36.9s\tremaining: 2m 18s\n",
      "211:\tlearn: 0.1909337\ttotal: 37.1s\tremaining: 2m 17s\n",
      "212:\tlearn: 0.1907859\ttotal: 37.3s\tremaining: 2m 17s\n",
      "213:\tlearn: 0.1905344\ttotal: 37.5s\tremaining: 2m 17s\n",
      "214:\tlearn: 0.1903576\ttotal: 37.6s\tremaining: 2m 17s\n",
      "215:\tlearn: 0.1902435\ttotal: 37.8s\tremaining: 2m 17s\n",
      "216:\tlearn: 0.1899476\ttotal: 38s\tremaining: 2m 17s\n",
      "217:\tlearn: 0.1897997\ttotal: 38.1s\tremaining: 2m 16s\n",
      "218:\tlearn: 0.1896733\ttotal: 38.3s\tremaining: 2m 16s\n",
      "219:\tlearn: 0.1894981\ttotal: 38.5s\tremaining: 2m 16s\n",
      "220:\tlearn: 0.1893840\ttotal: 38.6s\tremaining: 2m 16s\n",
      "221:\tlearn: 0.1892530\ttotal: 38.8s\tremaining: 2m 15s\n",
      "222:\tlearn: 0.1891433\ttotal: 38.9s\tremaining: 2m 15s\n",
      "223:\tlearn: 0.1890554\ttotal: 39.1s\tremaining: 2m 15s\n",
      "224:\tlearn: 0.1889108\ttotal: 39.3s\tremaining: 2m 15s\n",
      "225:\tlearn: 0.1887698\ttotal: 39.4s\tremaining: 2m 15s\n",
      "226:\tlearn: 0.1886485\ttotal: 39.6s\tremaining: 2m 14s\n",
      "227:\tlearn: 0.1884648\ttotal: 39.8s\tremaining: 2m 14s\n",
      "228:\tlearn: 0.1883519\ttotal: 39.9s\tremaining: 2m 14s\n",
      "229:\tlearn: 0.1881830\ttotal: 40.1s\tremaining: 2m 14s\n",
      "230:\tlearn: 0.1880380\ttotal: 40.3s\tremaining: 2m 14s\n",
      "231:\tlearn: 0.1879475\ttotal: 40.4s\tremaining: 2m 13s\n",
      "232:\tlearn: 0.1878546\ttotal: 40.6s\tremaining: 2m 13s\n",
      "233:\tlearn: 0.1877630\ttotal: 40.7s\tremaining: 2m 13s\n",
      "234:\tlearn: 0.1875237\ttotal: 40.9s\tremaining: 2m 13s\n",
      "235:\tlearn: 0.1874153\ttotal: 41.1s\tremaining: 2m 13s\n",
      "236:\tlearn: 0.1872254\ttotal: 41.3s\tremaining: 2m 12s\n",
      "237:\tlearn: 0.1871283\ttotal: 41.4s\tremaining: 2m 12s\n",
      "238:\tlearn: 0.1869922\ttotal: 41.6s\tremaining: 2m 12s\n",
      "239:\tlearn: 0.1868185\ttotal: 41.8s\tremaining: 2m 12s\n",
      "240:\tlearn: 0.1867186\ttotal: 41.9s\tremaining: 2m 12s\n",
      "241:\tlearn: 0.1865358\ttotal: 42.1s\tremaining: 2m 11s\n",
      "242:\tlearn: 0.1863560\ttotal: 42.3s\tremaining: 2m 11s\n",
      "243:\tlearn: 0.1860812\ttotal: 42.5s\tremaining: 2m 11s\n",
      "244:\tlearn: 0.1859359\ttotal: 42.7s\tremaining: 2m 11s\n",
      "245:\tlearn: 0.1858427\ttotal: 42.8s\tremaining: 2m 11s\n",
      "246:\tlearn: 0.1856508\ttotal: 43s\tremaining: 2m 11s\n",
      "247:\tlearn: 0.1855239\ttotal: 43.2s\tremaining: 2m 10s\n",
      "248:\tlearn: 0.1853404\ttotal: 43.3s\tremaining: 2m 10s\n",
      "249:\tlearn: 0.1852126\ttotal: 43.5s\tremaining: 2m 10s\n",
      "250:\tlearn: 0.1851105\ttotal: 43.7s\tremaining: 2m 10s\n",
      "251:\tlearn: 0.1849026\ttotal: 43.8s\tremaining: 2m 10s\n",
      "252:\tlearn: 0.1847945\ttotal: 44s\tremaining: 2m 9s\n",
      "253:\tlearn: 0.1846637\ttotal: 44.2s\tremaining: 2m 9s\n",
      "254:\tlearn: 0.1845561\ttotal: 44.3s\tremaining: 2m 9s\n",
      "255:\tlearn: 0.1844656\ttotal: 44.5s\tremaining: 2m 9s\n",
      "256:\tlearn: 0.1843370\ttotal: 44.6s\tremaining: 2m 9s\n",
      "257:\tlearn: 0.1842427\ttotal: 44.8s\tremaining: 2m 8s\n",
      "258:\tlearn: 0.1841751\ttotal: 44.9s\tremaining: 2m 8s\n",
      "259:\tlearn: 0.1840187\ttotal: 45.1s\tremaining: 2m 8s\n",
      "260:\tlearn: 0.1839105\ttotal: 45.3s\tremaining: 2m 8s\n",
      "261:\tlearn: 0.1837888\ttotal: 45.4s\tremaining: 2m 7s\n",
      "262:\tlearn: 0.1836856\ttotal: 45.6s\tremaining: 2m 7s\n",
      "263:\tlearn: 0.1835742\ttotal: 45.8s\tremaining: 2m 7s\n",
      "264:\tlearn: 0.1834604\ttotal: 45.9s\tremaining: 2m 7s\n",
      "265:\tlearn: 0.1832825\ttotal: 46.1s\tremaining: 2m 7s\n",
      "266:\tlearn: 0.1831876\ttotal: 46.2s\tremaining: 2m 6s\n",
      "267:\tlearn: 0.1830815\ttotal: 46.4s\tremaining: 2m 6s\n",
      "268:\tlearn: 0.1829987\ttotal: 46.6s\tremaining: 2m 6s\n",
      "269:\tlearn: 0.1828733\ttotal: 46.7s\tremaining: 2m 6s\n",
      "270:\tlearn: 0.1826568\ttotal: 46.9s\tremaining: 2m 6s\n",
      "271:\tlearn: 0.1825416\ttotal: 47.1s\tremaining: 2m 5s\n",
      "272:\tlearn: 0.1824383\ttotal: 47.2s\tremaining: 2m 5s\n",
      "273:\tlearn: 0.1823485\ttotal: 47.4s\tremaining: 2m 5s\n",
      "274:\tlearn: 0.1822560\ttotal: 47.5s\tremaining: 2m 5s\n",
      "275:\tlearn: 0.1820995\ttotal: 47.7s\tremaining: 2m 5s\n",
      "276:\tlearn: 0.1820006\ttotal: 47.9s\tremaining: 2m 5s\n",
      "277:\tlearn: 0.1818782\ttotal: 48s\tremaining: 2m 4s\n",
      "278:\tlearn: 0.1816983\ttotal: 48.2s\tremaining: 2m 4s\n",
      "279:\tlearn: 0.1816046\ttotal: 48.4s\tremaining: 2m 4s\n",
      "280:\tlearn: 0.1814827\ttotal: 48.5s\tremaining: 2m 4s\n",
      "281:\tlearn: 0.1813185\ttotal: 48.7s\tremaining: 2m 4s\n",
      "282:\tlearn: 0.1812071\ttotal: 48.9s\tremaining: 2m 3s\n",
      "283:\tlearn: 0.1811451\ttotal: 49s\tremaining: 2m 3s\n",
      "284:\tlearn: 0.1810405\ttotal: 49.2s\tremaining: 2m 3s\n",
      "285:\tlearn: 0.1809167\ttotal: 49.4s\tremaining: 2m 3s\n",
      "286:\tlearn: 0.1808164\ttotal: 49.6s\tremaining: 2m 3s\n",
      "287:\tlearn: 0.1806792\ttotal: 49.7s\tremaining: 2m 2s\n",
      "288:\tlearn: 0.1805923\ttotal: 49.9s\tremaining: 2m 2s\n",
      "289:\tlearn: 0.1805018\ttotal: 50s\tremaining: 2m 2s\n",
      "290:\tlearn: 0.1803583\ttotal: 50.2s\tremaining: 2m 2s\n",
      "291:\tlearn: 0.1802733\ttotal: 50.4s\tremaining: 2m 2s\n",
      "292:\tlearn: 0.1801863\ttotal: 50.5s\tremaining: 2m 1s\n",
      "293:\tlearn: 0.1800994\ttotal: 50.7s\tremaining: 2m 1s\n",
      "294:\tlearn: 0.1800091\ttotal: 50.8s\tremaining: 2m 1s\n",
      "295:\tlearn: 0.1799215\ttotal: 51s\tremaining: 2m 1s\n",
      "296:\tlearn: 0.1798191\ttotal: 51.2s\tremaining: 2m 1s\n",
      "297:\tlearn: 0.1797227\ttotal: 51.3s\tremaining: 2m\n",
      "298:\tlearn: 0.1795905\ttotal: 51.5s\tremaining: 2m\n",
      "299:\tlearn: 0.1794121\ttotal: 51.7s\tremaining: 2m\n",
      "300:\tlearn: 0.1792525\ttotal: 51.9s\tremaining: 2m\n",
      "301:\tlearn: 0.1791560\ttotal: 52s\tremaining: 2m\n",
      "302:\tlearn: 0.1790333\ttotal: 52.2s\tremaining: 2m\n",
      "303:\tlearn: 0.1788880\ttotal: 52.4s\tremaining: 1m 59s\n",
      "304:\tlearn: 0.1788057\ttotal: 52.5s\tremaining: 1m 59s\n",
      "305:\tlearn: 0.1787136\ttotal: 52.7s\tremaining: 1m 59s\n",
      "306:\tlearn: 0.1786370\ttotal: 52.8s\tremaining: 1m 59s\n",
      "307:\tlearn: 0.1785513\ttotal: 53s\tremaining: 1m 59s\n",
      "308:\tlearn: 0.1783942\ttotal: 53.2s\tremaining: 1m 58s\n",
      "309:\tlearn: 0.1783138\ttotal: 53.3s\tremaining: 1m 58s\n",
      "310:\tlearn: 0.1782458\ttotal: 53.5s\tremaining: 1m 58s\n",
      "311:\tlearn: 0.1781319\ttotal: 53.6s\tremaining: 1m 58s\n",
      "312:\tlearn: 0.1780274\ttotal: 53.8s\tremaining: 1m 58s\n",
      "313:\tlearn: 0.1779353\ttotal: 53.9s\tremaining: 1m 57s\n",
      "314:\tlearn: 0.1778142\ttotal: 54.1s\tremaining: 1m 57s\n",
      "315:\tlearn: 0.1777255\ttotal: 54.3s\tremaining: 1m 57s\n",
      "316:\tlearn: 0.1776424\ttotal: 54.4s\tremaining: 1m 57s\n",
      "317:\tlearn: 0.1775795\ttotal: 54.6s\tremaining: 1m 57s\n",
      "318:\tlearn: 0.1775027\ttotal: 54.7s\tremaining: 1m 56s\n",
      "319:\tlearn: 0.1774175\ttotal: 54.9s\tremaining: 1m 56s\n",
      "320:\tlearn: 0.1772853\ttotal: 55.1s\tremaining: 1m 56s\n",
      "321:\tlearn: 0.1772002\ttotal: 55.2s\tremaining: 1m 56s\n",
      "322:\tlearn: 0.1771224\ttotal: 55.4s\tremaining: 1m 56s\n",
      "323:\tlearn: 0.1770614\ttotal: 55.6s\tremaining: 1m 55s\n",
      "324:\tlearn: 0.1769874\ttotal: 55.7s\tremaining: 1m 55s\n",
      "325:\tlearn: 0.1769220\ttotal: 55.9s\tremaining: 1m 55s\n",
      "326:\tlearn: 0.1768411\ttotal: 56s\tremaining: 1m 55s\n",
      "327:\tlearn: 0.1767351\ttotal: 56.2s\tremaining: 1m 55s\n",
      "328:\tlearn: 0.1766610\ttotal: 56.3s\tremaining: 1m 54s\n",
      "329:\tlearn: 0.1765428\ttotal: 56.5s\tremaining: 1m 54s\n",
      "330:\tlearn: 0.1764692\ttotal: 56.7s\tremaining: 1m 54s\n",
      "331:\tlearn: 0.1763445\ttotal: 56.8s\tremaining: 1m 54s\n",
      "332:\tlearn: 0.1762948\ttotal: 57s\tremaining: 1m 54s\n",
      "333:\tlearn: 0.1761741\ttotal: 57.2s\tremaining: 1m 53s\n",
      "334:\tlearn: 0.1761051\ttotal: 57.3s\tremaining: 1m 53s\n",
      "335:\tlearn: 0.1760400\ttotal: 57.5s\tremaining: 1m 53s\n",
      "336:\tlearn: 0.1759594\ttotal: 57.6s\tremaining: 1m 53s\n",
      "337:\tlearn: 0.1758573\ttotal: 57.8s\tremaining: 1m 53s\n",
      "338:\tlearn: 0.1758069\ttotal: 57.9s\tremaining: 1m 52s\n",
      "339:\tlearn: 0.1757027\ttotal: 58.1s\tremaining: 1m 52s\n",
      "340:\tlearn: 0.1755703\ttotal: 58.3s\tremaining: 1m 52s\n",
      "341:\tlearn: 0.1754845\ttotal: 58.4s\tremaining: 1m 52s\n",
      "342:\tlearn: 0.1754230\ttotal: 58.6s\tremaining: 1m 52s\n",
      "343:\tlearn: 0.1753317\ttotal: 58.7s\tremaining: 1m 52s\n",
      "344:\tlearn: 0.1752641\ttotal: 58.9s\tremaining: 1m 51s\n",
      "345:\tlearn: 0.1751988\ttotal: 59.1s\tremaining: 1m 51s\n",
      "346:\tlearn: 0.1751368\ttotal: 59.2s\tremaining: 1m 51s\n",
      "347:\tlearn: 0.1750709\ttotal: 59.4s\tremaining: 1m 51s\n",
      "348:\tlearn: 0.1749831\ttotal: 59.5s\tremaining: 1m 51s\n",
      "349:\tlearn: 0.1748964\ttotal: 59.7s\tremaining: 1m 50s\n",
      "350:\tlearn: 0.1748326\ttotal: 59.8s\tremaining: 1m 50s\n",
      "351:\tlearn: 0.1747247\ttotal: 1m\tremaining: 1m 50s\n",
      "352:\tlearn: 0.1746337\ttotal: 1m\tremaining: 1m 50s\n",
      "353:\tlearn: 0.1745756\ttotal: 1m\tremaining: 1m 50s\n",
      "354:\tlearn: 0.1744978\ttotal: 1m\tremaining: 1m 49s\n",
      "355:\tlearn: 0.1744132\ttotal: 1m\tremaining: 1m 49s\n",
      "356:\tlearn: 0.1743019\ttotal: 1m\tremaining: 1m 49s\n",
      "357:\tlearn: 0.1742269\ttotal: 1m\tremaining: 1m 49s\n",
      "358:\tlearn: 0.1741452\ttotal: 1m 1s\tremaining: 1m 49s\n",
      "359:\tlearn: 0.1741005\ttotal: 1m 1s\tremaining: 1m 48s\n",
      "360:\tlearn: 0.1739415\ttotal: 1m 1s\tremaining: 1m 48s\n",
      "361:\tlearn: 0.1738536\ttotal: 1m 1s\tremaining: 1m 48s\n",
      "362:\tlearn: 0.1738043\ttotal: 1m 1s\tremaining: 1m 48s\n",
      "363:\tlearn: 0.1737184\ttotal: 1m 1s\tremaining: 1m 48s\n",
      "364:\tlearn: 0.1736623\ttotal: 1m 2s\tremaining: 1m 48s\n",
      "365:\tlearn: 0.1735976\ttotal: 1m 2s\tremaining: 1m 47s\n",
      "366:\tlearn: 0.1735173\ttotal: 1m 2s\tremaining: 1m 47s\n",
      "367:\tlearn: 0.1734182\ttotal: 1m 2s\tremaining: 1m 47s\n",
      "368:\tlearn: 0.1733604\ttotal: 1m 2s\tremaining: 1m 47s\n",
      "369:\tlearn: 0.1732831\ttotal: 1m 2s\tremaining: 1m 47s\n",
      "370:\tlearn: 0.1732029\ttotal: 1m 3s\tremaining: 1m 46s\n",
      "371:\tlearn: 0.1731175\ttotal: 1m 3s\tremaining: 1m 46s\n",
      "372:\tlearn: 0.1730664\ttotal: 1m 3s\tremaining: 1m 46s\n",
      "373:\tlearn: 0.1729973\ttotal: 1m 3s\tremaining: 1m 46s\n",
      "374:\tlearn: 0.1729443\ttotal: 1m 3s\tremaining: 1m 46s\n",
      "375:\tlearn: 0.1728689\ttotal: 1m 3s\tremaining: 1m 46s\n",
      "376:\tlearn: 0.1727117\ttotal: 1m 4s\tremaining: 1m 45s\n",
      "377:\tlearn: 0.1726535\ttotal: 1m 4s\tremaining: 1m 45s\n",
      "378:\tlearn: 0.1725209\ttotal: 1m 4s\tremaining: 1m 45s\n",
      "379:\tlearn: 0.1724449\ttotal: 1m 4s\tremaining: 1m 45s\n",
      "380:\tlearn: 0.1722488\ttotal: 1m 4s\tremaining: 1m 45s\n",
      "381:\tlearn: 0.1721559\ttotal: 1m 4s\tremaining: 1m 45s\n",
      "382:\tlearn: 0.1720733\ttotal: 1m 5s\tremaining: 1m 44s\n",
      "383:\tlearn: 0.1719451\ttotal: 1m 5s\tremaining: 1m 44s\n",
      "384:\tlearn: 0.1719017\ttotal: 1m 5s\tremaining: 1m 44s\n",
      "385:\tlearn: 0.1718304\ttotal: 1m 5s\tremaining: 1m 44s\n",
      "386:\tlearn: 0.1717301\ttotal: 1m 5s\tremaining: 1m 44s\n",
      "387:\tlearn: 0.1716334\ttotal: 1m 5s\tremaining: 1m 43s\n",
      "388:\tlearn: 0.1715763\ttotal: 1m 6s\tremaining: 1m 43s\n",
      "389:\tlearn: 0.1714759\ttotal: 1m 6s\tremaining: 1m 43s\n",
      "390:\tlearn: 0.1713543\ttotal: 1m 6s\tremaining: 1m 43s\n",
      "391:\tlearn: 0.1712945\ttotal: 1m 6s\tremaining: 1m 43s\n",
      "392:\tlearn: 0.1712158\ttotal: 1m 6s\tremaining: 1m 43s\n",
      "393:\tlearn: 0.1711481\ttotal: 1m 6s\tremaining: 1m 42s\n",
      "394:\tlearn: 0.1710164\ttotal: 1m 7s\tremaining: 1m 42s\n",
      "395:\tlearn: 0.1709079\ttotal: 1m 7s\tremaining: 1m 42s\n",
      "396:\tlearn: 0.1708278\ttotal: 1m 7s\tremaining: 1m 42s\n",
      "397:\tlearn: 0.1707704\ttotal: 1m 7s\tremaining: 1m 42s\n",
      "398:\tlearn: 0.1707031\ttotal: 1m 7s\tremaining: 1m 42s\n",
      "399:\tlearn: 0.1706434\ttotal: 1m 7s\tremaining: 1m 41s\n",
      "400:\tlearn: 0.1705518\ttotal: 1m 8s\tremaining: 1m 41s\n",
      "401:\tlearn: 0.1704963\ttotal: 1m 8s\tremaining: 1m 41s\n",
      "402:\tlearn: 0.1704029\ttotal: 1m 8s\tremaining: 1m 41s\n",
      "403:\tlearn: 0.1703554\ttotal: 1m 8s\tremaining: 1m 41s\n",
      "404:\tlearn: 0.1702099\ttotal: 1m 8s\tremaining: 1m 40s\n",
      "405:\tlearn: 0.1701385\ttotal: 1m 8s\tremaining: 1m 40s\n",
      "406:\tlearn: 0.1700726\ttotal: 1m 9s\tremaining: 1m 40s\n",
      "407:\tlearn: 0.1700073\ttotal: 1m 9s\tremaining: 1m 40s\n",
      "408:\tlearn: 0.1699438\ttotal: 1m 9s\tremaining: 1m 40s\n",
      "409:\tlearn: 0.1698712\ttotal: 1m 9s\tremaining: 1m 40s\n",
      "410:\tlearn: 0.1697397\ttotal: 1m 9s\tremaining: 1m 39s\n",
      "411:\tlearn: 0.1696745\ttotal: 1m 9s\tremaining: 1m 39s\n",
      "412:\tlearn: 0.1695935\ttotal: 1m 9s\tremaining: 1m 39s\n",
      "413:\tlearn: 0.1695193\ttotal: 1m 10s\tremaining: 1m 39s\n",
      "414:\tlearn: 0.1694552\ttotal: 1m 10s\tremaining: 1m 39s\n",
      "415:\tlearn: 0.1693927\ttotal: 1m 10s\tremaining: 1m 38s\n",
      "416:\tlearn: 0.1693368\ttotal: 1m 10s\tremaining: 1m 38s\n",
      "417:\tlearn: 0.1692654\ttotal: 1m 10s\tremaining: 1m 38s\n",
      "418:\tlearn: 0.1692169\ttotal: 1m 10s\tremaining: 1m 38s\n",
      "419:\tlearn: 0.1691628\ttotal: 1m 11s\tremaining: 1m 38s\n",
      "420:\tlearn: 0.1690592\ttotal: 1m 11s\tremaining: 1m 38s\n",
      "421:\tlearn: 0.1690001\ttotal: 1m 11s\tremaining: 1m 37s\n",
      "422:\tlearn: 0.1689389\ttotal: 1m 11s\tremaining: 1m 37s\n",
      "423:\tlearn: 0.1688671\ttotal: 1m 11s\tremaining: 1m 37s\n",
      "424:\tlearn: 0.1687590\ttotal: 1m 11s\tremaining: 1m 37s\n",
      "425:\tlearn: 0.1687078\ttotal: 1m 12s\tremaining: 1m 37s\n",
      "426:\tlearn: 0.1686500\ttotal: 1m 12s\tremaining: 1m 36s\n",
      "427:\tlearn: 0.1686037\ttotal: 1m 12s\tremaining: 1m 36s\n",
      "428:\tlearn: 0.1685360\ttotal: 1m 12s\tremaining: 1m 36s\n",
      "429:\tlearn: 0.1684538\ttotal: 1m 12s\tremaining: 1m 36s\n",
      "430:\tlearn: 0.1683874\ttotal: 1m 12s\tremaining: 1m 36s\n",
      "431:\tlearn: 0.1683220\ttotal: 1m 12s\tremaining: 1m 35s\n",
      "432:\tlearn: 0.1682650\ttotal: 1m 13s\tremaining: 1m 35s\n",
      "433:\tlearn: 0.1682194\ttotal: 1m 13s\tremaining: 1m 35s\n",
      "434:\tlearn: 0.1681674\ttotal: 1m 13s\tremaining: 1m 35s\n",
      "435:\tlearn: 0.1681132\ttotal: 1m 13s\tremaining: 1m 35s\n",
      "436:\tlearn: 0.1680725\ttotal: 1m 13s\tremaining: 1m 35s\n",
      "437:\tlearn: 0.1679762\ttotal: 1m 13s\tremaining: 1m 34s\n",
      "438:\tlearn: 0.1679148\ttotal: 1m 14s\tremaining: 1m 34s\n",
      "439:\tlearn: 0.1678212\ttotal: 1m 14s\tremaining: 1m 34s\n",
      "440:\tlearn: 0.1677656\ttotal: 1m 14s\tremaining: 1m 34s\n",
      "441:\tlearn: 0.1677048\ttotal: 1m 14s\tremaining: 1m 34s\n",
      "442:\tlearn: 0.1676500\ttotal: 1m 14s\tremaining: 1m 33s\n",
      "443:\tlearn: 0.1675734\ttotal: 1m 14s\tremaining: 1m 33s\n",
      "444:\tlearn: 0.1674296\ttotal: 1m 15s\tremaining: 1m 33s\n",
      "445:\tlearn: 0.1673699\ttotal: 1m 15s\tremaining: 1m 33s\n",
      "446:\tlearn: 0.1672932\ttotal: 1m 15s\tremaining: 1m 33s\n",
      "447:\tlearn: 0.1672300\ttotal: 1m 15s\tremaining: 1m 33s\n",
      "448:\tlearn: 0.1671698\ttotal: 1m 15s\tremaining: 1m 32s\n",
      "449:\tlearn: 0.1670973\ttotal: 1m 15s\tremaining: 1m 32s\n",
      "450:\tlearn: 0.1670489\ttotal: 1m 16s\tremaining: 1m 32s\n",
      "451:\tlearn: 0.1669851\ttotal: 1m 16s\tremaining: 1m 32s\n",
      "452:\tlearn: 0.1669251\ttotal: 1m 16s\tremaining: 1m 32s\n",
      "453:\tlearn: 0.1668693\ttotal: 1m 16s\tremaining: 1m 32s\n",
      "454:\tlearn: 0.1667991\ttotal: 1m 16s\tremaining: 1m 31s\n",
      "455:\tlearn: 0.1667493\ttotal: 1m 16s\tremaining: 1m 31s\n",
      "456:\tlearn: 0.1666955\ttotal: 1m 17s\tremaining: 1m 31s\n",
      "457:\tlearn: 0.1666162\ttotal: 1m 17s\tremaining: 1m 31s\n",
      "458:\tlearn: 0.1665371\ttotal: 1m 17s\tremaining: 1m 31s\n",
      "459:\tlearn: 0.1664821\ttotal: 1m 17s\tremaining: 1m 30s\n",
      "460:\tlearn: 0.1664190\ttotal: 1m 17s\tremaining: 1m 30s\n",
      "461:\tlearn: 0.1663571\ttotal: 1m 17s\tremaining: 1m 30s\n",
      "462:\tlearn: 0.1662868\ttotal: 1m 17s\tremaining: 1m 30s\n",
      "463:\tlearn: 0.1662359\ttotal: 1m 18s\tremaining: 1m 30s\n",
      "464:\tlearn: 0.1661684\ttotal: 1m 18s\tremaining: 1m 30s\n",
      "465:\tlearn: 0.1661202\ttotal: 1m 18s\tremaining: 1m 29s\n",
      "466:\tlearn: 0.1660733\ttotal: 1m 18s\tremaining: 1m 29s\n",
      "467:\tlearn: 0.1660041\ttotal: 1m 18s\tremaining: 1m 29s\n",
      "468:\tlearn: 0.1659428\ttotal: 1m 18s\tremaining: 1m 29s\n",
      "469:\tlearn: 0.1658922\ttotal: 1m 19s\tremaining: 1m 29s\n",
      "470:\tlearn: 0.1658220\ttotal: 1m 19s\tremaining: 1m 28s\n",
      "471:\tlearn: 0.1657764\ttotal: 1m 19s\tremaining: 1m 28s\n",
      "472:\tlearn: 0.1657298\ttotal: 1m 19s\tremaining: 1m 28s\n",
      "473:\tlearn: 0.1656762\ttotal: 1m 19s\tremaining: 1m 28s\n",
      "474:\tlearn: 0.1656221\ttotal: 1m 19s\tremaining: 1m 28s\n",
      "475:\tlearn: 0.1655583\ttotal: 1m 19s\tremaining: 1m 28s\n",
      "476:\tlearn: 0.1654757\ttotal: 1m 20s\tremaining: 1m 27s\n",
      "477:\tlearn: 0.1654216\ttotal: 1m 20s\tremaining: 1m 27s\n",
      "478:\tlearn: 0.1653799\ttotal: 1m 20s\tremaining: 1m 27s\n",
      "479:\tlearn: 0.1653334\ttotal: 1m 20s\tremaining: 1m 27s\n",
      "480:\tlearn: 0.1652441\ttotal: 1m 20s\tremaining: 1m 27s\n",
      "481:\tlearn: 0.1651769\ttotal: 1m 20s\tremaining: 1m 27s\n",
      "482:\tlearn: 0.1650861\ttotal: 1m 21s\tremaining: 1m 26s\n",
      "483:\tlearn: 0.1650391\ttotal: 1m 21s\tremaining: 1m 26s\n",
      "484:\tlearn: 0.1649756\ttotal: 1m 21s\tremaining: 1m 26s\n",
      "485:\tlearn: 0.1649198\ttotal: 1m 21s\tremaining: 1m 26s\n",
      "486:\tlearn: 0.1648544\ttotal: 1m 21s\tremaining: 1m 26s\n",
      "487:\tlearn: 0.1647804\ttotal: 1m 21s\tremaining: 1m 25s\n",
      "488:\tlearn: 0.1647248\ttotal: 1m 22s\tremaining: 1m 25s\n",
      "489:\tlearn: 0.1646610\ttotal: 1m 22s\tremaining: 1m 25s\n",
      "490:\tlearn: 0.1646038\ttotal: 1m 22s\tremaining: 1m 25s\n",
      "491:\tlearn: 0.1645120\ttotal: 1m 22s\tremaining: 1m 25s\n",
      "492:\tlearn: 0.1644099\ttotal: 1m 22s\tremaining: 1m 25s\n",
      "493:\tlearn: 0.1643594\ttotal: 1m 22s\tremaining: 1m 24s\n",
      "494:\tlearn: 0.1642767\ttotal: 1m 23s\tremaining: 1m 24s\n",
      "495:\tlearn: 0.1642227\ttotal: 1m 23s\tremaining: 1m 24s\n",
      "496:\tlearn: 0.1641695\ttotal: 1m 23s\tremaining: 1m 24s\n",
      "497:\tlearn: 0.1641194\ttotal: 1m 23s\tremaining: 1m 24s\n",
      "498:\tlearn: 0.1640703\ttotal: 1m 23s\tremaining: 1m 24s\n",
      "499:\tlearn: 0.1639773\ttotal: 1m 23s\tremaining: 1m 23s\n",
      "500:\tlearn: 0.1639148\ttotal: 1m 24s\tremaining: 1m 23s\n",
      "501:\tlearn: 0.1638564\ttotal: 1m 24s\tremaining: 1m 23s\n",
      "502:\tlearn: 0.1638019\ttotal: 1m 24s\tremaining: 1m 23s\n",
      "503:\tlearn: 0.1637578\ttotal: 1m 24s\tremaining: 1m 23s\n",
      "504:\tlearn: 0.1636921\ttotal: 1m 24s\tremaining: 1m 23s\n",
      "505:\tlearn: 0.1636395\ttotal: 1m 24s\tremaining: 1m 22s\n",
      "506:\tlearn: 0.1635852\ttotal: 1m 25s\tremaining: 1m 22s\n",
      "507:\tlearn: 0.1634970\ttotal: 1m 25s\tremaining: 1m 22s\n",
      "508:\tlearn: 0.1634542\ttotal: 1m 25s\tremaining: 1m 22s\n",
      "509:\tlearn: 0.1633904\ttotal: 1m 25s\tremaining: 1m 22s\n",
      "510:\tlearn: 0.1632854\ttotal: 1m 25s\tremaining: 1m 21s\n",
      "511:\tlearn: 0.1632402\ttotal: 1m 25s\tremaining: 1m 21s\n",
      "512:\tlearn: 0.1631866\ttotal: 1m 25s\tremaining: 1m 21s\n",
      "513:\tlearn: 0.1631388\ttotal: 1m 26s\tremaining: 1m 21s\n",
      "514:\tlearn: 0.1630902\ttotal: 1m 26s\tremaining: 1m 21s\n",
      "515:\tlearn: 0.1630316\ttotal: 1m 26s\tremaining: 1m 21s\n",
      "516:\tlearn: 0.1629822\ttotal: 1m 26s\tremaining: 1m 20s\n",
      "517:\tlearn: 0.1629262\ttotal: 1m 26s\tremaining: 1m 20s\n",
      "518:\tlearn: 0.1628815\ttotal: 1m 26s\tremaining: 1m 20s\n",
      "519:\tlearn: 0.1628392\ttotal: 1m 27s\tremaining: 1m 20s\n",
      "520:\tlearn: 0.1627714\ttotal: 1m 27s\tremaining: 1m 20s\n",
      "521:\tlearn: 0.1627125\ttotal: 1m 27s\tremaining: 1m 20s\n",
      "522:\tlearn: 0.1626554\ttotal: 1m 27s\tremaining: 1m 19s\n",
      "523:\tlearn: 0.1625808\ttotal: 1m 27s\tremaining: 1m 19s\n",
      "524:\tlearn: 0.1625220\ttotal: 1m 27s\tremaining: 1m 19s\n",
      "525:\tlearn: 0.1624778\ttotal: 1m 28s\tremaining: 1m 19s\n",
      "526:\tlearn: 0.1624196\ttotal: 1m 28s\tremaining: 1m 19s\n",
      "527:\tlearn: 0.1623420\ttotal: 1m 28s\tremaining: 1m 19s\n",
      "528:\tlearn: 0.1622969\ttotal: 1m 28s\tremaining: 1m 18s\n",
      "529:\tlearn: 0.1622200\ttotal: 1m 28s\tremaining: 1m 18s\n",
      "530:\tlearn: 0.1621836\ttotal: 1m 28s\tremaining: 1m 18s\n",
      "531:\tlearn: 0.1621360\ttotal: 1m 28s\tremaining: 1m 18s\n",
      "532:\tlearn: 0.1620958\ttotal: 1m 29s\tremaining: 1m 18s\n",
      "533:\tlearn: 0.1620438\ttotal: 1m 29s\tremaining: 1m 17s\n",
      "534:\tlearn: 0.1620015\ttotal: 1m 29s\tremaining: 1m 17s\n",
      "535:\tlearn: 0.1619451\ttotal: 1m 29s\tremaining: 1m 17s\n",
      "536:\tlearn: 0.1618900\ttotal: 1m 29s\tremaining: 1m 17s\n",
      "537:\tlearn: 0.1617940\ttotal: 1m 29s\tremaining: 1m 17s\n",
      "538:\tlearn: 0.1617395\ttotal: 1m 30s\tremaining: 1m 17s\n",
      "539:\tlearn: 0.1616847\ttotal: 1m 30s\tremaining: 1m 16s\n",
      "540:\tlearn: 0.1616269\ttotal: 1m 30s\tremaining: 1m 16s\n",
      "541:\tlearn: 0.1615469\ttotal: 1m 30s\tremaining: 1m 16s\n",
      "542:\tlearn: 0.1615143\ttotal: 1m 30s\tremaining: 1m 16s\n",
      "543:\tlearn: 0.1614554\ttotal: 1m 30s\tremaining: 1m 16s\n",
      "544:\tlearn: 0.1613758\ttotal: 1m 31s\tremaining: 1m 16s\n",
      "545:\tlearn: 0.1613338\ttotal: 1m 31s\tremaining: 1m 15s\n",
      "546:\tlearn: 0.1612233\ttotal: 1m 31s\tremaining: 1m 15s\n",
      "547:\tlearn: 0.1611469\ttotal: 1m 31s\tremaining: 1m 15s\n",
      "548:\tlearn: 0.1610964\ttotal: 1m 31s\tremaining: 1m 15s\n",
      "549:\tlearn: 0.1610432\ttotal: 1m 31s\tremaining: 1m 15s\n",
      "550:\tlearn: 0.1609837\ttotal: 1m 32s\tremaining: 1m 15s\n",
      "551:\tlearn: 0.1609336\ttotal: 1m 32s\tremaining: 1m 14s\n",
      "552:\tlearn: 0.1608820\ttotal: 1m 32s\tremaining: 1m 14s\n",
      "553:\tlearn: 0.1608357\ttotal: 1m 32s\tremaining: 1m 14s\n",
      "554:\tlearn: 0.1607321\ttotal: 1m 32s\tremaining: 1m 14s\n",
      "555:\tlearn: 0.1606918\ttotal: 1m 32s\tremaining: 1m 14s\n",
      "556:\tlearn: 0.1606247\ttotal: 1m 33s\tremaining: 1m 14s\n",
      "557:\tlearn: 0.1605474\ttotal: 1m 33s\tremaining: 1m 13s\n",
      "558:\tlearn: 0.1604973\ttotal: 1m 33s\tremaining: 1m 13s\n",
      "559:\tlearn: 0.1604527\ttotal: 1m 33s\tremaining: 1m 13s\n",
      "560:\tlearn: 0.1604159\ttotal: 1m 33s\tremaining: 1m 13s\n",
      "561:\tlearn: 0.1603510\ttotal: 1m 33s\tremaining: 1m 13s\n",
      "562:\tlearn: 0.1603022\ttotal: 1m 34s\tremaining: 1m 12s\n",
      "563:\tlearn: 0.1602416\ttotal: 1m 34s\tremaining: 1m 12s\n",
      "564:\tlearn: 0.1602131\ttotal: 1m 34s\tremaining: 1m 12s\n",
      "565:\tlearn: 0.1601638\ttotal: 1m 34s\tremaining: 1m 12s\n",
      "566:\tlearn: 0.1601217\ttotal: 1m 34s\tremaining: 1m 12s\n",
      "567:\tlearn: 0.1600780\ttotal: 1m 34s\tremaining: 1m 12s\n",
      "568:\tlearn: 0.1600126\ttotal: 1m 35s\tremaining: 1m 11s\n",
      "569:\tlearn: 0.1599567\ttotal: 1m 35s\tremaining: 1m 11s\n",
      "570:\tlearn: 0.1599156\ttotal: 1m 35s\tremaining: 1m 11s\n",
      "571:\tlearn: 0.1598799\ttotal: 1m 35s\tremaining: 1m 11s\n",
      "572:\tlearn: 0.1598428\ttotal: 1m 35s\tremaining: 1m 11s\n",
      "573:\tlearn: 0.1597969\ttotal: 1m 35s\tremaining: 1m 11s\n",
      "574:\tlearn: 0.1597012\ttotal: 1m 35s\tremaining: 1m 10s\n",
      "575:\tlearn: 0.1596383\ttotal: 1m 36s\tremaining: 1m 10s\n",
      "576:\tlearn: 0.1595586\ttotal: 1m 36s\tremaining: 1m 10s\n",
      "577:\tlearn: 0.1595153\ttotal: 1m 36s\tremaining: 1m 10s\n",
      "578:\tlearn: 0.1594663\ttotal: 1m 36s\tremaining: 1m 10s\n",
      "579:\tlearn: 0.1594218\ttotal: 1m 36s\tremaining: 1m 10s\n",
      "580:\tlearn: 0.1593851\ttotal: 1m 36s\tremaining: 1m 9s\n",
      "581:\tlearn: 0.1593091\ttotal: 1m 37s\tremaining: 1m 9s\n",
      "582:\tlearn: 0.1592725\ttotal: 1m 37s\tremaining: 1m 9s\n",
      "583:\tlearn: 0.1592374\ttotal: 1m 37s\tremaining: 1m 9s\n",
      "584:\tlearn: 0.1591701\ttotal: 1m 37s\tremaining: 1m 9s\n",
      "585:\tlearn: 0.1591341\ttotal: 1m 37s\tremaining: 1m 9s\n",
      "586:\tlearn: 0.1590459\ttotal: 1m 37s\tremaining: 1m 8s\n",
      "587:\tlearn: 0.1590136\ttotal: 1m 38s\tremaining: 1m 8s\n",
      "588:\tlearn: 0.1589774\ttotal: 1m 38s\tremaining: 1m 8s\n",
      "589:\tlearn: 0.1589455\ttotal: 1m 38s\tremaining: 1m 8s\n",
      "590:\tlearn: 0.1589068\ttotal: 1m 38s\tremaining: 1m 8s\n",
      "591:\tlearn: 0.1588638\ttotal: 1m 38s\tremaining: 1m 8s\n",
      "592:\tlearn: 0.1588342\ttotal: 1m 38s\tremaining: 1m 7s\n",
      "593:\tlearn: 0.1587868\ttotal: 1m 38s\tremaining: 1m 7s\n",
      "594:\tlearn: 0.1587557\ttotal: 1m 39s\tremaining: 1m 7s\n",
      "595:\tlearn: 0.1587110\ttotal: 1m 39s\tremaining: 1m 7s\n",
      "596:\tlearn: 0.1586731\ttotal: 1m 39s\tremaining: 1m 7s\n",
      "597:\tlearn: 0.1586293\ttotal: 1m 39s\tremaining: 1m 6s\n",
      "598:\tlearn: 0.1585842\ttotal: 1m 39s\tremaining: 1m 6s\n",
      "599:\tlearn: 0.1585335\ttotal: 1m 39s\tremaining: 1m 6s\n",
      "600:\tlearn: 0.1584809\ttotal: 1m 40s\tremaining: 1m 6s\n",
      "601:\tlearn: 0.1584254\ttotal: 1m 40s\tremaining: 1m 6s\n",
      "602:\tlearn: 0.1583484\ttotal: 1m 40s\tremaining: 1m 6s\n",
      "603:\tlearn: 0.1583058\ttotal: 1m 40s\tremaining: 1m 5s\n",
      "604:\tlearn: 0.1582699\ttotal: 1m 40s\tremaining: 1m 5s\n",
      "605:\tlearn: 0.1582364\ttotal: 1m 40s\tremaining: 1m 5s\n",
      "606:\tlearn: 0.1581793\ttotal: 1m 41s\tremaining: 1m 5s\n",
      "607:\tlearn: 0.1581194\ttotal: 1m 41s\tremaining: 1m 5s\n",
      "608:\tlearn: 0.1580848\ttotal: 1m 41s\tremaining: 1m 5s\n",
      "609:\tlearn: 0.1580465\ttotal: 1m 41s\tremaining: 1m 4s\n",
      "610:\tlearn: 0.1579985\ttotal: 1m 41s\tremaining: 1m 4s\n",
      "611:\tlearn: 0.1579562\ttotal: 1m 41s\tremaining: 1m 4s\n",
      "612:\tlearn: 0.1579220\ttotal: 1m 41s\tremaining: 1m 4s\n",
      "613:\tlearn: 0.1578391\ttotal: 1m 42s\tremaining: 1m 4s\n",
      "614:\tlearn: 0.1578075\ttotal: 1m 42s\tremaining: 1m 4s\n",
      "615:\tlearn: 0.1577657\ttotal: 1m 42s\tremaining: 1m 3s\n",
      "616:\tlearn: 0.1577251\ttotal: 1m 42s\tremaining: 1m 3s\n",
      "617:\tlearn: 0.1576879\ttotal: 1m 42s\tremaining: 1m 3s\n",
      "618:\tlearn: 0.1576534\ttotal: 1m 42s\tremaining: 1m 3s\n",
      "619:\tlearn: 0.1576156\ttotal: 1m 43s\tremaining: 1m 3s\n",
      "620:\tlearn: 0.1575827\ttotal: 1m 43s\tremaining: 1m 3s\n",
      "621:\tlearn: 0.1575065\ttotal: 1m 43s\tremaining: 1m 2s\n",
      "622:\tlearn: 0.1574587\ttotal: 1m 43s\tremaining: 1m 2s\n",
      "623:\tlearn: 0.1574179\ttotal: 1m 43s\tremaining: 1m 2s\n",
      "624:\tlearn: 0.1573599\ttotal: 1m 43s\tremaining: 1m 2s\n",
      "625:\tlearn: 0.1573074\ttotal: 1m 44s\tremaining: 1m 2s\n",
      "626:\tlearn: 0.1572476\ttotal: 1m 44s\tremaining: 1m 1s\n",
      "627:\tlearn: 0.1571900\ttotal: 1m 44s\tremaining: 1m 1s\n",
      "628:\tlearn: 0.1571290\ttotal: 1m 44s\tremaining: 1m 1s\n",
      "629:\tlearn: 0.1570897\ttotal: 1m 44s\tremaining: 1m 1s\n",
      "630:\tlearn: 0.1570521\ttotal: 1m 44s\tremaining: 1m 1s\n",
      "631:\tlearn: 0.1570102\ttotal: 1m 44s\tremaining: 1m 1s\n",
      "632:\tlearn: 0.1569671\ttotal: 1m 45s\tremaining: 1m\n",
      "633:\tlearn: 0.1569126\ttotal: 1m 45s\tremaining: 1m\n",
      "634:\tlearn: 0.1568803\ttotal: 1m 45s\tremaining: 1m\n",
      "635:\tlearn: 0.1567914\ttotal: 1m 45s\tremaining: 1m\n",
      "636:\tlearn: 0.1567244\ttotal: 1m 45s\tremaining: 1m\n",
      "637:\tlearn: 0.1566758\ttotal: 1m 45s\tremaining: 1m\n",
      "638:\tlearn: 0.1566437\ttotal: 1m 46s\tremaining: 59.9s\n",
      "639:\tlearn: 0.1566018\ttotal: 1m 46s\tremaining: 59.8s\n",
      "640:\tlearn: 0.1565561\ttotal: 1m 46s\tremaining: 59.6s\n",
      "641:\tlearn: 0.1565149\ttotal: 1m 46s\tremaining: 59.4s\n",
      "642:\tlearn: 0.1564839\ttotal: 1m 46s\tremaining: 59.3s\n",
      "643:\tlearn: 0.1564428\ttotal: 1m 46s\tremaining: 59.1s\n",
      "644:\tlearn: 0.1563775\ttotal: 1m 47s\tremaining: 58.9s\n",
      "645:\tlearn: 0.1563378\ttotal: 1m 47s\tremaining: 58.7s\n",
      "646:\tlearn: 0.1562908\ttotal: 1m 47s\tremaining: 58.6s\n",
      "647:\tlearn: 0.1562588\ttotal: 1m 47s\tremaining: 58.4s\n",
      "648:\tlearn: 0.1562268\ttotal: 1m 47s\tremaining: 58.2s\n",
      "649:\tlearn: 0.1561912\ttotal: 1m 47s\tremaining: 58.1s\n",
      "650:\tlearn: 0.1561480\ttotal: 1m 47s\tremaining: 57.9s\n",
      "651:\tlearn: 0.1560929\ttotal: 1m 48s\tremaining: 57.7s\n",
      "652:\tlearn: 0.1560083\ttotal: 1m 48s\tremaining: 57.6s\n",
      "653:\tlearn: 0.1559477\ttotal: 1m 48s\tremaining: 57.4s\n",
      "654:\tlearn: 0.1559114\ttotal: 1m 48s\tremaining: 57.2s\n",
      "655:\tlearn: 0.1558416\ttotal: 1m 48s\tremaining: 57s\n",
      "656:\tlearn: 0.1557904\ttotal: 1m 48s\tremaining: 56.9s\n",
      "657:\tlearn: 0.1557454\ttotal: 1m 49s\tremaining: 56.7s\n",
      "658:\tlearn: 0.1557178\ttotal: 1m 49s\tremaining: 56.5s\n",
      "659:\tlearn: 0.1556832\ttotal: 1m 49s\tremaining: 56.4s\n",
      "660:\tlearn: 0.1556146\ttotal: 1m 49s\tremaining: 56.2s\n",
      "661:\tlearn: 0.1555850\ttotal: 1m 49s\tremaining: 56s\n",
      "662:\tlearn: 0.1555588\ttotal: 1m 49s\tremaining: 55.9s\n",
      "663:\tlearn: 0.1555250\ttotal: 1m 50s\tremaining: 55.7s\n",
      "664:\tlearn: 0.1554795\ttotal: 1m 50s\tremaining: 55.5s\n",
      "665:\tlearn: 0.1554103\ttotal: 1m 50s\tremaining: 55.4s\n",
      "666:\tlearn: 0.1553801\ttotal: 1m 50s\tremaining: 55.2s\n",
      "667:\tlearn: 0.1553513\ttotal: 1m 50s\tremaining: 55s\n",
      "668:\tlearn: 0.1553203\ttotal: 1m 50s\tremaining: 54.9s\n",
      "669:\tlearn: 0.1552924\ttotal: 1m 51s\tremaining: 54.7s\n",
      "670:\tlearn: 0.1552576\ttotal: 1m 51s\tremaining: 54.5s\n",
      "671:\tlearn: 0.1552238\ttotal: 1m 51s\tremaining: 54.3s\n",
      "672:\tlearn: 0.1551570\ttotal: 1m 51s\tremaining: 54.2s\n",
      "673:\tlearn: 0.1551178\ttotal: 1m 51s\tremaining: 54s\n",
      "674:\tlearn: 0.1550868\ttotal: 1m 51s\tremaining: 53.8s\n",
      "675:\tlearn: 0.1550540\ttotal: 1m 51s\tremaining: 53.7s\n",
      "676:\tlearn: 0.1550245\ttotal: 1m 52s\tremaining: 53.5s\n",
      "677:\tlearn: 0.1549919\ttotal: 1m 52s\tremaining: 53.3s\n",
      "678:\tlearn: 0.1549349\ttotal: 1m 52s\tremaining: 53.2s\n",
      "679:\tlearn: 0.1548795\ttotal: 1m 52s\tremaining: 53s\n",
      "680:\tlearn: 0.1548429\ttotal: 1m 52s\tremaining: 52.8s\n",
      "681:\tlearn: 0.1547846\ttotal: 1m 52s\tremaining: 52.7s\n",
      "682:\tlearn: 0.1547218\ttotal: 1m 53s\tremaining: 52.5s\n",
      "683:\tlearn: 0.1546849\ttotal: 1m 53s\tremaining: 52.3s\n",
      "684:\tlearn: 0.1546001\ttotal: 1m 53s\tremaining: 52.2s\n",
      "685:\tlearn: 0.1545752\ttotal: 1m 53s\tremaining: 52s\n",
      "686:\tlearn: 0.1545411\ttotal: 1m 53s\tremaining: 51.9s\n",
      "687:\tlearn: 0.1544986\ttotal: 1m 54s\tremaining: 51.7s\n",
      "688:\tlearn: 0.1544691\ttotal: 1m 54s\tremaining: 51.5s\n",
      "689:\tlearn: 0.1544308\ttotal: 1m 54s\tremaining: 51.4s\n",
      "690:\tlearn: 0.1543956\ttotal: 1m 54s\tremaining: 51.2s\n",
      "691:\tlearn: 0.1543596\ttotal: 1m 54s\tremaining: 51.1s\n",
      "692:\tlearn: 0.1543278\ttotal: 1m 54s\tremaining: 50.9s\n",
      "693:\tlearn: 0.1542915\ttotal: 1m 55s\tremaining: 50.8s\n",
      "694:\tlearn: 0.1542581\ttotal: 1m 55s\tremaining: 50.6s\n",
      "695:\tlearn: 0.1542250\ttotal: 1m 55s\tremaining: 50.4s\n",
      "696:\tlearn: 0.1541927\ttotal: 1m 55s\tremaining: 50.2s\n",
      "697:\tlearn: 0.1541792\ttotal: 1m 55s\tremaining: 50.1s\n",
      "698:\tlearn: 0.1541369\ttotal: 1m 55s\tremaining: 49.9s\n",
      "699:\tlearn: 0.1540917\ttotal: 1m 56s\tremaining: 49.7s\n",
      "700:\tlearn: 0.1540625\ttotal: 1m 56s\tremaining: 49.6s\n",
      "701:\tlearn: 0.1540320\ttotal: 1m 56s\tremaining: 49.4s\n",
      "702:\tlearn: 0.1539997\ttotal: 1m 56s\tremaining: 49.2s\n",
      "703:\tlearn: 0.1539668\ttotal: 1m 56s\tremaining: 49.1s\n",
      "704:\tlearn: 0.1539365\ttotal: 1m 56s\tremaining: 48.9s\n",
      "705:\tlearn: 0.1539025\ttotal: 1m 57s\tremaining: 48.7s\n",
      "706:\tlearn: 0.1538626\ttotal: 1m 57s\tremaining: 48.6s\n",
      "707:\tlearn: 0.1538052\ttotal: 1m 57s\tremaining: 48.4s\n",
      "708:\tlearn: 0.1537570\ttotal: 1m 57s\tremaining: 48.2s\n",
      "709:\tlearn: 0.1537154\ttotal: 1m 57s\tremaining: 48.1s\n",
      "710:\tlearn: 0.1536793\ttotal: 1m 57s\tremaining: 47.9s\n",
      "711:\tlearn: 0.1536460\ttotal: 1m 58s\tremaining: 47.7s\n",
      "712:\tlearn: 0.1536198\ttotal: 1m 58s\tremaining: 47.6s\n",
      "713:\tlearn: 0.1535871\ttotal: 1m 58s\tremaining: 47.4s\n",
      "714:\tlearn: 0.1535557\ttotal: 1m 58s\tremaining: 47.2s\n",
      "715:\tlearn: 0.1535148\ttotal: 1m 58s\tremaining: 47.1s\n",
      "716:\tlearn: 0.1534656\ttotal: 1m 58s\tremaining: 46.9s\n",
      "717:\tlearn: 0.1534271\ttotal: 1m 58s\tremaining: 46.7s\n",
      "718:\tlearn: 0.1533830\ttotal: 1m 59s\tremaining: 46.6s\n",
      "719:\tlearn: 0.1533383\ttotal: 1m 59s\tremaining: 46.4s\n",
      "720:\tlearn: 0.1533132\ttotal: 1m 59s\tremaining: 46.2s\n",
      "721:\tlearn: 0.1532840\ttotal: 1m 59s\tremaining: 46.1s\n",
      "722:\tlearn: 0.1532192\ttotal: 1m 59s\tremaining: 45.9s\n",
      "723:\tlearn: 0.1531895\ttotal: 1m 59s\tremaining: 45.7s\n",
      "724:\tlearn: 0.1531597\ttotal: 2m\tremaining: 45.6s\n",
      "725:\tlearn: 0.1531248\ttotal: 2m\tremaining: 45.4s\n",
      "726:\tlearn: 0.1530982\ttotal: 2m\tremaining: 45.2s\n",
      "727:\tlearn: 0.1530652\ttotal: 2m\tremaining: 45.1s\n",
      "728:\tlearn: 0.1530400\ttotal: 2m\tremaining: 44.9s\n",
      "729:\tlearn: 0.1530053\ttotal: 2m\tremaining: 44.7s\n",
      "730:\tlearn: 0.1529577\ttotal: 2m 1s\tremaining: 44.6s\n",
      "731:\tlearn: 0.1529278\ttotal: 2m 1s\tremaining: 44.4s\n",
      "732:\tlearn: 0.1529008\ttotal: 2m 1s\tremaining: 44.2s\n",
      "733:\tlearn: 0.1528665\ttotal: 2m 1s\tremaining: 44s\n",
      "734:\tlearn: 0.1528399\ttotal: 2m 1s\tremaining: 43.9s\n",
      "735:\tlearn: 0.1528155\ttotal: 2m 1s\tremaining: 43.7s\n",
      "736:\tlearn: 0.1527798\ttotal: 2m 2s\tremaining: 43.5s\n",
      "737:\tlearn: 0.1527351\ttotal: 2m 2s\tremaining: 43.4s\n",
      "738:\tlearn: 0.1526872\ttotal: 2m 2s\tremaining: 43.2s\n",
      "739:\tlearn: 0.1526626\ttotal: 2m 2s\tremaining: 43.1s\n",
      "740:\tlearn: 0.1526352\ttotal: 2m 2s\tremaining: 42.9s\n",
      "741:\tlearn: 0.1526099\ttotal: 2m 2s\tremaining: 42.7s\n",
      "742:\tlearn: 0.1525822\ttotal: 2m 3s\tremaining: 42.6s\n",
      "743:\tlearn: 0.1525113\ttotal: 2m 3s\tremaining: 42.4s\n",
      "744:\tlearn: 0.1524832\ttotal: 2m 3s\tremaining: 42.3s\n",
      "745:\tlearn: 0.1524561\ttotal: 2m 3s\tremaining: 42.1s\n",
      "746:\tlearn: 0.1524304\ttotal: 2m 3s\tremaining: 41.9s\n",
      "747:\tlearn: 0.1524083\ttotal: 2m 3s\tremaining: 41.8s\n",
      "748:\tlearn: 0.1523831\ttotal: 2m 4s\tremaining: 41.6s\n",
      "749:\tlearn: 0.1523629\ttotal: 2m 4s\tremaining: 41.4s\n",
      "750:\tlearn: 0.1523407\ttotal: 2m 4s\tremaining: 41.3s\n",
      "751:\tlearn: 0.1523198\ttotal: 2m 4s\tremaining: 41.1s\n",
      "752:\tlearn: 0.1522941\ttotal: 2m 4s\tremaining: 40.9s\n",
      "753:\tlearn: 0.1522597\ttotal: 2m 4s\tremaining: 40.8s\n",
      "754:\tlearn: 0.1521985\ttotal: 2m 5s\tremaining: 40.6s\n",
      "755:\tlearn: 0.1521655\ttotal: 2m 5s\tremaining: 40.4s\n",
      "756:\tlearn: 0.1521191\ttotal: 2m 5s\tremaining: 40.3s\n",
      "757:\tlearn: 0.1520918\ttotal: 2m 5s\tremaining: 40.1s\n",
      "758:\tlearn: 0.1520549\ttotal: 2m 5s\tremaining: 40s\n",
      "759:\tlearn: 0.1520223\ttotal: 2m 6s\tremaining: 39.8s\n",
      "760:\tlearn: 0.1519716\ttotal: 2m 6s\tremaining: 39.7s\n",
      "761:\tlearn: 0.1519102\ttotal: 2m 6s\tremaining: 39.5s\n",
      "762:\tlearn: 0.1518838\ttotal: 2m 6s\tremaining: 39.4s\n",
      "763:\tlearn: 0.1518446\ttotal: 2m 6s\tremaining: 39.2s\n",
      "764:\tlearn: 0.1518183\ttotal: 2m 7s\tremaining: 39s\n",
      "765:\tlearn: 0.1517820\ttotal: 2m 7s\tremaining: 38.9s\n",
      "766:\tlearn: 0.1517422\ttotal: 2m 7s\tremaining: 38.7s\n",
      "767:\tlearn: 0.1517183\ttotal: 2m 7s\tremaining: 38.5s\n",
      "768:\tlearn: 0.1516687\ttotal: 2m 7s\tremaining: 38.4s\n",
      "769:\tlearn: 0.1516399\ttotal: 2m 7s\tremaining: 38.2s\n",
      "770:\tlearn: 0.1516178\ttotal: 2m 8s\tremaining: 38s\n",
      "771:\tlearn: 0.1515884\ttotal: 2m 8s\tremaining: 37.9s\n",
      "772:\tlearn: 0.1515707\ttotal: 2m 8s\tremaining: 37.7s\n",
      "773:\tlearn: 0.1515441\ttotal: 2m 8s\tremaining: 37.5s\n",
      "774:\tlearn: 0.1515066\ttotal: 2m 8s\tremaining: 37.4s\n",
      "775:\tlearn: 0.1514861\ttotal: 2m 8s\tremaining: 37.2s\n",
      "776:\tlearn: 0.1514513\ttotal: 2m 8s\tremaining: 37s\n",
      "777:\tlearn: 0.1514145\ttotal: 2m 9s\tremaining: 36.8s\n",
      "778:\tlearn: 0.1513660\ttotal: 2m 9s\tremaining: 36.7s\n",
      "779:\tlearn: 0.1513439\ttotal: 2m 9s\tremaining: 36.5s\n",
      "780:\tlearn: 0.1513227\ttotal: 2m 9s\tremaining: 36.4s\n",
      "781:\tlearn: 0.1512965\ttotal: 2m 9s\tremaining: 36.2s\n",
      "782:\tlearn: 0.1512637\ttotal: 2m 9s\tremaining: 36s\n",
      "783:\tlearn: 0.1512399\ttotal: 2m 10s\tremaining: 35.8s\n",
      "784:\tlearn: 0.1512115\ttotal: 2m 10s\tremaining: 35.7s\n",
      "785:\tlearn: 0.1511490\ttotal: 2m 10s\tremaining: 35.5s\n",
      "786:\tlearn: 0.1511285\ttotal: 2m 10s\tremaining: 35.3s\n",
      "787:\tlearn: 0.1511066\ttotal: 2m 10s\tremaining: 35.2s\n",
      "788:\tlearn: 0.1510748\ttotal: 2m 10s\tremaining: 35s\n",
      "789:\tlearn: 0.1510532\ttotal: 2m 11s\tremaining: 34.8s\n",
      "790:\tlearn: 0.1510331\ttotal: 2m 11s\tremaining: 34.7s\n",
      "791:\tlearn: 0.1510077\ttotal: 2m 11s\tremaining: 34.5s\n",
      "792:\tlearn: 0.1509796\ttotal: 2m 11s\tremaining: 34.3s\n",
      "793:\tlearn: 0.1509586\ttotal: 2m 11s\tremaining: 34.2s\n",
      "794:\tlearn: 0.1509329\ttotal: 2m 11s\tremaining: 34s\n",
      "795:\tlearn: 0.1508813\ttotal: 2m 11s\tremaining: 33.8s\n",
      "796:\tlearn: 0.1508493\ttotal: 2m 12s\tremaining: 33.7s\n",
      "797:\tlearn: 0.1508318\ttotal: 2m 12s\tremaining: 33.5s\n",
      "798:\tlearn: 0.1508106\ttotal: 2m 12s\tremaining: 33.3s\n",
      "799:\tlearn: 0.1507528\ttotal: 2m 12s\tremaining: 33.2s\n",
      "800:\tlearn: 0.1507331\ttotal: 2m 12s\tremaining: 33s\n",
      "801:\tlearn: 0.1507151\ttotal: 2m 12s\tremaining: 32.8s\n",
      "802:\tlearn: 0.1506703\ttotal: 2m 13s\tremaining: 32.6s\n",
      "803:\tlearn: 0.1506492\ttotal: 2m 13s\tremaining: 32.5s\n",
      "804:\tlearn: 0.1506238\ttotal: 2m 13s\tremaining: 32.3s\n",
      "805:\tlearn: 0.1505894\ttotal: 2m 13s\tremaining: 32.1s\n",
      "806:\tlearn: 0.1505667\ttotal: 2m 13s\tremaining: 32s\n",
      "807:\tlearn: 0.1505456\ttotal: 2m 13s\tremaining: 31.8s\n",
      "808:\tlearn: 0.1505172\ttotal: 2m 14s\tremaining: 31.6s\n",
      "809:\tlearn: 0.1504990\ttotal: 2m 14s\tremaining: 31.5s\n",
      "810:\tlearn: 0.1504651\ttotal: 2m 14s\tremaining: 31.3s\n",
      "811:\tlearn: 0.1504404\ttotal: 2m 14s\tremaining: 31.1s\n",
      "812:\tlearn: 0.1504017\ttotal: 2m 14s\tremaining: 31s\n",
      "813:\tlearn: 0.1503708\ttotal: 2m 14s\tremaining: 30.8s\n",
      "814:\tlearn: 0.1503146\ttotal: 2m 14s\tremaining: 30.6s\n",
      "815:\tlearn: 0.1502749\ttotal: 2m 15s\tremaining: 30.5s\n",
      "816:\tlearn: 0.1502430\ttotal: 2m 15s\tremaining: 30.3s\n",
      "817:\tlearn: 0.1502167\ttotal: 2m 15s\tremaining: 30.1s\n",
      "818:\tlearn: 0.1501828\ttotal: 2m 15s\tremaining: 30s\n",
      "819:\tlearn: 0.1501456\ttotal: 2m 15s\tremaining: 29.8s\n",
      "820:\tlearn: 0.1501158\ttotal: 2m 15s\tremaining: 29.6s\n",
      "821:\tlearn: 0.1500651\ttotal: 2m 16s\tremaining: 29.5s\n",
      "822:\tlearn: 0.1500168\ttotal: 2m 16s\tremaining: 29.3s\n",
      "823:\tlearn: 0.1499927\ttotal: 2m 16s\tremaining: 29.1s\n",
      "824:\tlearn: 0.1499136\ttotal: 2m 16s\tremaining: 29s\n",
      "825:\tlearn: 0.1498546\ttotal: 2m 16s\tremaining: 28.8s\n",
      "826:\tlearn: 0.1498332\ttotal: 2m 16s\tremaining: 28.6s\n",
      "827:\tlearn: 0.1498090\ttotal: 2m 17s\tremaining: 28.5s\n",
      "828:\tlearn: 0.1497876\ttotal: 2m 17s\tremaining: 28.3s\n",
      "829:\tlearn: 0.1497312\ttotal: 2m 17s\tremaining: 28.1s\n",
      "830:\tlearn: 0.1496801\ttotal: 2m 17s\tremaining: 28s\n",
      "831:\tlearn: 0.1496541\ttotal: 2m 17s\tremaining: 27.8s\n",
      "832:\tlearn: 0.1496224\ttotal: 2m 17s\tremaining: 27.6s\n",
      "833:\tlearn: 0.1495990\ttotal: 2m 18s\tremaining: 27.5s\n",
      "834:\tlearn: 0.1495714\ttotal: 2m 18s\tremaining: 27.3s\n",
      "835:\tlearn: 0.1495402\ttotal: 2m 18s\tremaining: 27.1s\n",
      "836:\tlearn: 0.1495119\ttotal: 2m 18s\tremaining: 27s\n",
      "837:\tlearn: 0.1494884\ttotal: 2m 18s\tremaining: 26.8s\n",
      "838:\tlearn: 0.1494521\ttotal: 2m 18s\tremaining: 26.6s\n",
      "839:\tlearn: 0.1494180\ttotal: 2m 19s\tremaining: 26.5s\n",
      "840:\tlearn: 0.1493858\ttotal: 2m 19s\tremaining: 26.3s\n",
      "841:\tlearn: 0.1493555\ttotal: 2m 19s\tremaining: 26.1s\n",
      "842:\tlearn: 0.1493329\ttotal: 2m 19s\tremaining: 26s\n",
      "843:\tlearn: 0.1493060\ttotal: 2m 19s\tremaining: 25.8s\n",
      "844:\tlearn: 0.1492853\ttotal: 2m 19s\tremaining: 25.6s\n",
      "845:\tlearn: 0.1492534\ttotal: 2m 19s\tremaining: 25.5s\n",
      "846:\tlearn: 0.1492303\ttotal: 2m 20s\tremaining: 25.3s\n",
      "847:\tlearn: 0.1491863\ttotal: 2m 20s\tremaining: 25.1s\n",
      "848:\tlearn: 0.1491634\ttotal: 2m 20s\tremaining: 25s\n",
      "849:\tlearn: 0.1491228\ttotal: 2m 20s\tremaining: 24.8s\n",
      "850:\tlearn: 0.1490952\ttotal: 2m 20s\tremaining: 24.6s\n",
      "851:\tlearn: 0.1490721\ttotal: 2m 20s\tremaining: 24.5s\n",
      "852:\tlearn: 0.1490462\ttotal: 2m 21s\tremaining: 24.3s\n",
      "853:\tlearn: 0.1490045\ttotal: 2m 21s\tremaining: 24.1s\n",
      "854:\tlearn: 0.1489800\ttotal: 2m 21s\tremaining: 24s\n",
      "855:\tlearn: 0.1489514\ttotal: 2m 21s\tremaining: 23.8s\n",
      "856:\tlearn: 0.1489288\ttotal: 2m 21s\tremaining: 23.6s\n",
      "857:\tlearn: 0.1488954\ttotal: 2m 21s\tremaining: 23.5s\n",
      "858:\tlearn: 0.1488814\ttotal: 2m 21s\tremaining: 23.3s\n",
      "859:\tlearn: 0.1488565\ttotal: 2m 22s\tremaining: 23.1s\n",
      "860:\tlearn: 0.1488298\ttotal: 2m 22s\tremaining: 23s\n",
      "861:\tlearn: 0.1488210\ttotal: 2m 22s\tremaining: 22.8s\n",
      "862:\tlearn: 0.1487840\ttotal: 2m 22s\tremaining: 22.6s\n",
      "863:\tlearn: 0.1487310\ttotal: 2m 22s\tremaining: 22.5s\n",
      "864:\tlearn: 0.1486571\ttotal: 2m 22s\tremaining: 22.3s\n",
      "865:\tlearn: 0.1486089\ttotal: 2m 23s\tremaining: 22.1s\n",
      "866:\tlearn: 0.1485815\ttotal: 2m 23s\tremaining: 22s\n",
      "867:\tlearn: 0.1485607\ttotal: 2m 23s\tremaining: 21.8s\n",
      "868:\tlearn: 0.1485009\ttotal: 2m 23s\tremaining: 21.6s\n",
      "869:\tlearn: 0.1484566\ttotal: 2m 23s\tremaining: 21.5s\n",
      "870:\tlearn: 0.1483863\ttotal: 2m 23s\tremaining: 21.3s\n",
      "871:\tlearn: 0.1483424\ttotal: 2m 24s\tremaining: 21.2s\n",
      "872:\tlearn: 0.1483140\ttotal: 2m 24s\tremaining: 21s\n",
      "873:\tlearn: 0.1482820\ttotal: 2m 24s\tremaining: 20.8s\n",
      "874:\tlearn: 0.1482589\ttotal: 2m 24s\tremaining: 20.7s\n",
      "875:\tlearn: 0.1482410\ttotal: 2m 24s\tremaining: 20.5s\n",
      "876:\tlearn: 0.1482139\ttotal: 2m 24s\tremaining: 20.3s\n",
      "877:\tlearn: 0.1481877\ttotal: 2m 25s\tremaining: 20.2s\n",
      "878:\tlearn: 0.1481609\ttotal: 2m 25s\tremaining: 20s\n",
      "879:\tlearn: 0.1480991\ttotal: 2m 25s\tremaining: 19.8s\n",
      "880:\tlearn: 0.1480720\ttotal: 2m 25s\tremaining: 19.7s\n",
      "881:\tlearn: 0.1480364\ttotal: 2m 25s\tremaining: 19.5s\n",
      "882:\tlearn: 0.1480076\ttotal: 2m 25s\tremaining: 19.3s\n",
      "883:\tlearn: 0.1479907\ttotal: 2m 25s\tremaining: 19.2s\n",
      "884:\tlearn: 0.1479798\ttotal: 2m 26s\tremaining: 19s\n",
      "885:\tlearn: 0.1479477\ttotal: 2m 26s\tremaining: 18.8s\n",
      "886:\tlearn: 0.1479184\ttotal: 2m 26s\tremaining: 18.7s\n",
      "887:\tlearn: 0.1479000\ttotal: 2m 26s\tremaining: 18.5s\n",
      "888:\tlearn: 0.1478774\ttotal: 2m 26s\tremaining: 18.3s\n",
      "889:\tlearn: 0.1478222\ttotal: 2m 26s\tremaining: 18.2s\n",
      "890:\tlearn: 0.1477949\ttotal: 2m 27s\tremaining: 18s\n",
      "891:\tlearn: 0.1477574\ttotal: 2m 27s\tremaining: 17.8s\n",
      "892:\tlearn: 0.1477166\ttotal: 2m 27s\tremaining: 17.7s\n",
      "893:\tlearn: 0.1476824\ttotal: 2m 27s\tremaining: 17.5s\n",
      "894:\tlearn: 0.1476582\ttotal: 2m 27s\tremaining: 17.3s\n",
      "895:\tlearn: 0.1476322\ttotal: 2m 27s\tremaining: 17.2s\n",
      "896:\tlearn: 0.1476129\ttotal: 2m 28s\tremaining: 17s\n",
      "897:\tlearn: 0.1475890\ttotal: 2m 28s\tremaining: 16.8s\n",
      "898:\tlearn: 0.1475721\ttotal: 2m 28s\tremaining: 16.7s\n",
      "899:\tlearn: 0.1475480\ttotal: 2m 28s\tremaining: 16.5s\n",
      "900:\tlearn: 0.1475276\ttotal: 2m 28s\tremaining: 16.3s\n",
      "901:\tlearn: 0.1475077\ttotal: 2m 28s\tremaining: 16.2s\n",
      "902:\tlearn: 0.1474816\ttotal: 2m 29s\tremaining: 16s\n",
      "903:\tlearn: 0.1474571\ttotal: 2m 29s\tremaining: 15.8s\n",
      "904:\tlearn: 0.1474254\ttotal: 2m 29s\tremaining: 15.7s\n",
      "905:\tlearn: 0.1473922\ttotal: 2m 29s\tremaining: 15.5s\n",
      "906:\tlearn: 0.1473588\ttotal: 2m 29s\tremaining: 15.3s\n",
      "907:\tlearn: 0.1473364\ttotal: 2m 29s\tremaining: 15.2s\n",
      "908:\tlearn: 0.1473156\ttotal: 2m 30s\tremaining: 15s\n",
      "909:\tlearn: 0.1472936\ttotal: 2m 30s\tremaining: 14.9s\n",
      "910:\tlearn: 0.1472835\ttotal: 2m 30s\tremaining: 14.7s\n",
      "911:\tlearn: 0.1472189\ttotal: 2m 30s\tremaining: 14.5s\n",
      "912:\tlearn: 0.1471708\ttotal: 2m 30s\tremaining: 14.4s\n",
      "913:\tlearn: 0.1471571\ttotal: 2m 30s\tremaining: 14.2s\n",
      "914:\tlearn: 0.1470984\ttotal: 2m 31s\tremaining: 14s\n",
      "915:\tlearn: 0.1470845\ttotal: 2m 31s\tremaining: 13.9s\n",
      "916:\tlearn: 0.1470628\ttotal: 2m 31s\tremaining: 13.7s\n",
      "917:\tlearn: 0.1470419\ttotal: 2m 31s\tremaining: 13.5s\n",
      "918:\tlearn: 0.1470233\ttotal: 2m 31s\tremaining: 13.4s\n",
      "919:\tlearn: 0.1470044\ttotal: 2m 31s\tremaining: 13.2s\n",
      "920:\tlearn: 0.1469837\ttotal: 2m 31s\tremaining: 13s\n",
      "921:\tlearn: 0.1469624\ttotal: 2m 32s\tremaining: 12.9s\n",
      "922:\tlearn: 0.1469379\ttotal: 2m 32s\tremaining: 12.7s\n",
      "923:\tlearn: 0.1469133\ttotal: 2m 32s\tremaining: 12.5s\n",
      "924:\tlearn: 0.1468736\ttotal: 2m 32s\tremaining: 12.4s\n",
      "925:\tlearn: 0.1468524\ttotal: 2m 32s\tremaining: 12.2s\n",
      "926:\tlearn: 0.1468151\ttotal: 2m 32s\tremaining: 12s\n",
      "927:\tlearn: 0.1467948\ttotal: 2m 33s\tremaining: 11.9s\n",
      "928:\tlearn: 0.1467576\ttotal: 2m 33s\tremaining: 11.7s\n",
      "929:\tlearn: 0.1467312\ttotal: 2m 33s\tremaining: 11.5s\n",
      "930:\tlearn: 0.1466727\ttotal: 2m 33s\tremaining: 11.4s\n",
      "931:\tlearn: 0.1466261\ttotal: 2m 33s\tremaining: 11.2s\n",
      "932:\tlearn: 0.1466062\ttotal: 2m 33s\tremaining: 11s\n",
      "933:\tlearn: 0.1465863\ttotal: 2m 34s\tremaining: 10.9s\n",
      "934:\tlearn: 0.1465611\ttotal: 2m 34s\tremaining: 10.7s\n",
      "935:\tlearn: 0.1465280\ttotal: 2m 34s\tremaining: 10.6s\n",
      "936:\tlearn: 0.1464971\ttotal: 2m 34s\tremaining: 10.4s\n",
      "937:\tlearn: 0.1464734\ttotal: 2m 34s\tremaining: 10.2s\n",
      "938:\tlearn: 0.1464554\ttotal: 2m 34s\tremaining: 10.1s\n",
      "939:\tlearn: 0.1464353\ttotal: 2m 34s\tremaining: 9.89s\n",
      "940:\tlearn: 0.1464025\ttotal: 2m 35s\tremaining: 9.72s\n",
      "941:\tlearn: 0.1463860\ttotal: 2m 35s\tremaining: 9.56s\n",
      "942:\tlearn: 0.1463468\ttotal: 2m 35s\tremaining: 9.39s\n",
      "943:\tlearn: 0.1463261\ttotal: 2m 35s\tremaining: 9.23s\n",
      "944:\tlearn: 0.1463044\ttotal: 2m 35s\tremaining: 9.06s\n",
      "945:\tlearn: 0.1462878\ttotal: 2m 35s\tremaining: 8.9s\n",
      "946:\tlearn: 0.1462642\ttotal: 2m 36s\tremaining: 8.73s\n",
      "947:\tlearn: 0.1462312\ttotal: 2m 36s\tremaining: 8.57s\n",
      "948:\tlearn: 0.1462098\ttotal: 2m 36s\tremaining: 8.4s\n",
      "949:\tlearn: 0.1461925\ttotal: 2m 36s\tremaining: 8.24s\n",
      "950:\tlearn: 0.1461728\ttotal: 2m 36s\tremaining: 8.07s\n",
      "951:\tlearn: 0.1461464\ttotal: 2m 36s\tremaining: 7.91s\n",
      "952:\tlearn: 0.1461280\ttotal: 2m 36s\tremaining: 7.74s\n",
      "953:\tlearn: 0.1461011\ttotal: 2m 37s\tremaining: 7.58s\n",
      "954:\tlearn: 0.1460858\ttotal: 2m 37s\tremaining: 7.41s\n",
      "955:\tlearn: 0.1460689\ttotal: 2m 37s\tremaining: 7.25s\n",
      "956:\tlearn: 0.1460338\ttotal: 2m 37s\tremaining: 7.08s\n",
      "957:\tlearn: 0.1459981\ttotal: 2m 37s\tremaining: 6.92s\n",
      "958:\tlearn: 0.1459713\ttotal: 2m 37s\tremaining: 6.75s\n",
      "959:\tlearn: 0.1459498\ttotal: 2m 38s\tremaining: 6.59s\n",
      "960:\tlearn: 0.1459164\ttotal: 2m 38s\tremaining: 6.42s\n",
      "961:\tlearn: 0.1458858\ttotal: 2m 38s\tremaining: 6.26s\n",
      "962:\tlearn: 0.1458484\ttotal: 2m 38s\tremaining: 6.09s\n",
      "963:\tlearn: 0.1458305\ttotal: 2m 38s\tremaining: 5.93s\n",
      "964:\tlearn: 0.1458169\ttotal: 2m 38s\tremaining: 5.76s\n",
      "965:\tlearn: 0.1457881\ttotal: 2m 39s\tremaining: 5.6s\n",
      "966:\tlearn: 0.1457725\ttotal: 2m 39s\tremaining: 5.43s\n",
      "967:\tlearn: 0.1457482\ttotal: 2m 39s\tremaining: 5.27s\n",
      "968:\tlearn: 0.1457238\ttotal: 2m 39s\tremaining: 5.1s\n",
      "969:\tlearn: 0.1457072\ttotal: 2m 39s\tremaining: 4.94s\n",
      "970:\tlearn: 0.1456775\ttotal: 2m 39s\tremaining: 4.77s\n",
      "971:\tlearn: 0.1456592\ttotal: 2m 39s\tremaining: 4.61s\n",
      "972:\tlearn: 0.1456429\ttotal: 2m 40s\tremaining: 4.44s\n",
      "973:\tlearn: 0.1456267\ttotal: 2m 40s\tremaining: 4.28s\n",
      "974:\tlearn: 0.1456081\ttotal: 2m 40s\tremaining: 4.11s\n",
      "975:\tlearn: 0.1455790\ttotal: 2m 40s\tremaining: 3.95s\n",
      "976:\tlearn: 0.1455646\ttotal: 2m 40s\tremaining: 3.78s\n",
      "977:\tlearn: 0.1455399\ttotal: 2m 40s\tremaining: 3.62s\n",
      "978:\tlearn: 0.1454993\ttotal: 2m 41s\tremaining: 3.46s\n",
      "979:\tlearn: 0.1454727\ttotal: 2m 41s\tremaining: 3.29s\n",
      "980:\tlearn: 0.1454511\ttotal: 2m 41s\tremaining: 3.13s\n",
      "981:\tlearn: 0.1454319\ttotal: 2m 41s\tremaining: 2.96s\n",
      "982:\tlearn: 0.1454050\ttotal: 2m 41s\tremaining: 2.8s\n",
      "983:\tlearn: 0.1453777\ttotal: 2m 41s\tremaining: 2.63s\n",
      "984:\tlearn: 0.1453593\ttotal: 2m 42s\tremaining: 2.47s\n",
      "985:\tlearn: 0.1453468\ttotal: 2m 42s\tremaining: 2.3s\n",
      "986:\tlearn: 0.1453234\ttotal: 2m 42s\tremaining: 2.14s\n",
      "987:\tlearn: 0.1452800\ttotal: 2m 42s\tremaining: 1.97s\n",
      "988:\tlearn: 0.1452587\ttotal: 2m 42s\tremaining: 1.81s\n",
      "989:\tlearn: 0.1452288\ttotal: 2m 42s\tremaining: 1.64s\n",
      "990:\tlearn: 0.1452158\ttotal: 2m 42s\tremaining: 1.48s\n",
      "991:\tlearn: 0.1451788\ttotal: 2m 43s\tremaining: 1.31s\n",
      "992:\tlearn: 0.1451668\ttotal: 2m 43s\tremaining: 1.15s\n",
      "993:\tlearn: 0.1451496\ttotal: 2m 43s\tremaining: 987ms\n",
      "994:\tlearn: 0.1451161\ttotal: 2m 43s\tremaining: 822ms\n",
      "995:\tlearn: 0.1450944\ttotal: 2m 43s\tremaining: 658ms\n",
      "996:\tlearn: 0.1450865\ttotal: 2m 43s\tremaining: 493ms\n",
      "997:\tlearn: 0.1450745\ttotal: 2m 44s\tremaining: 329ms\n",
      "998:\tlearn: 0.1450582\ttotal: 2m 44s\tremaining: 164ms\n",
      "999:\tlearn: 0.1450426\ttotal: 2m 44s\tremaining: 0us\n",
      "CPU times: user 3min 50s, sys: 41.6 s, total: 4min 32s\n",
      "Wall time: 3min 1s\n"
     ]
    },
    {
     "data": {
      "text/plain": [
       "<catboost.core.CatBoostClassifier at 0x7f09cb39a290>"
      ]
     },
     "execution_count": 29,
     "metadata": {},
     "output_type": "execute_result"
    }
   ],
   "source": [
    "%%time\n",
    "# не хватает памяти для перебора параметров, потребность выходит за 50 гигов оперативки, пока обучаю на базовой\n",
    "\n",
    "cb_RS  = CatBoostClassifier(random_state = 42, task_type = \"GPU\")\n",
    "cb_RS.fit(tf_idf_train, y_train)"
   ]
  },
  {
   "cell_type": "code",
   "execution_count": 30,
   "metadata": {},
   "outputs": [],
   "source": [
    "# %%time\n",
    "# # CatBoostClassifier\n",
    "\n",
    "# cb_model  =  CatBoostClassifier()\n",
    "\n",
    "# # комбинаций гиперпараметров\n",
    "# param_grid = dict(\n",
    "#     learning_rate = [0.1, 0.05],\n",
    "#     task_type = [\"GPU\"],\n",
    "#     random_state = [42]\n",
    "#     )\n",
    "\n",
    "# cb_RS = fit_model_RS(cb_model, param_grid)"
   ]
  },
  {
   "cell_type": "code",
   "execution_count": 31,
   "metadata": {
    "scrolled": true
   },
   "outputs": [
    {
     "name": "stdout",
     "output_type": "stream",
     "text": [
      "Learning rate set to 0.026744\n",
      "0:\tlearn: 0.6645512\ttotal: 128ms\tremaining: 2m 8s\n",
      "1:\tlearn: 0.6377898\ttotal: 250ms\tremaining: 2m 4s\n",
      "2:\tlearn: 0.6128893\ttotal: 370ms\tremaining: 2m 2s\n",
      "3:\tlearn: 0.5896605\ttotal: 506ms\tremaining: 2m 5s\n",
      "4:\tlearn: 0.5677848\ttotal: 622ms\tremaining: 2m 3s\n",
      "5:\tlearn: 0.5479169\ttotal: 731ms\tremaining: 2m 1s\n",
      "6:\tlearn: 0.5295068\ttotal: 843ms\tremaining: 1m 59s\n",
      "7:\tlearn: 0.5117026\ttotal: 989ms\tremaining: 2m 2s\n",
      "8:\tlearn: 0.4955841\ttotal: 1.12s\tremaining: 2m 3s\n",
      "9:\tlearn: 0.4805387\ttotal: 1.24s\tremaining: 2m 2s\n",
      "10:\tlearn: 0.4654016\ttotal: 1.41s\tremaining: 2m 6s\n",
      "11:\tlearn: 0.4523614\ttotal: 1.54s\tremaining: 2m 7s\n",
      "12:\tlearn: 0.4386863\ttotal: 1.69s\tremaining: 2m 8s\n",
      "13:\tlearn: 0.4268619\ttotal: 1.8s\tremaining: 2m 6s\n",
      "14:\tlearn: 0.4148284\ttotal: 1.95s\tremaining: 2m 8s\n",
      "15:\tlearn: 0.4046920\ttotal: 2.08s\tremaining: 2m 7s\n",
      "16:\tlearn: 0.3950973\ttotal: 2.18s\tremaining: 2m 6s\n",
      "17:\tlearn: 0.3860713\ttotal: 2.32s\tremaining: 2m 6s\n",
      "18:\tlearn: 0.3768973\ttotal: 2.48s\tremaining: 2m 7s\n",
      "19:\tlearn: 0.3682694\ttotal: 2.62s\tremaining: 2m 8s\n",
      "20:\tlearn: 0.3609417\ttotal: 2.73s\tremaining: 2m 7s\n",
      "21:\tlearn: 0.3537152\ttotal: 2.85s\tremaining: 2m 6s\n",
      "22:\tlearn: 0.3467672\ttotal: 3s\tremaining: 2m 7s\n",
      "23:\tlearn: 0.3407155\ttotal: 3.13s\tremaining: 2m 7s\n",
      "24:\tlearn: 0.3350369\ttotal: 3.29s\tremaining: 2m 8s\n",
      "25:\tlearn: 0.3295413\ttotal: 3.42s\tremaining: 2m 7s\n",
      "26:\tlearn: 0.3247773\ttotal: 3.53s\tremaining: 2m 7s\n",
      "27:\tlearn: 0.3198203\ttotal: 3.64s\tremaining: 2m 6s\n",
      "28:\tlearn: 0.3152057\ttotal: 3.76s\tremaining: 2m 5s\n",
      "29:\tlearn: 0.3109220\ttotal: 3.87s\tremaining: 2m 5s\n",
      "30:\tlearn: 0.3065830\ttotal: 3.99s\tremaining: 2m 4s\n",
      "31:\tlearn: 0.3028290\ttotal: 4.13s\tremaining: 2m 4s\n",
      "32:\tlearn: 0.2995538\ttotal: 4.23s\tremaining: 2m 3s\n",
      "33:\tlearn: 0.2957971\ttotal: 4.35s\tremaining: 2m 3s\n",
      "34:\tlearn: 0.2924564\ttotal: 4.49s\tremaining: 2m 3s\n",
      "35:\tlearn: 0.2892804\ttotal: 4.63s\tremaining: 2m 4s\n",
      "36:\tlearn: 0.2860665\ttotal: 4.77s\tremaining: 2m 4s\n",
      "37:\tlearn: 0.2831224\ttotal: 4.89s\tremaining: 2m 3s\n",
      "38:\tlearn: 0.2805491\ttotal: 5.02s\tremaining: 2m 3s\n",
      "39:\tlearn: 0.2782076\ttotal: 5.17s\tremaining: 2m 4s\n",
      "40:\tlearn: 0.2756790\ttotal: 5.29s\tremaining: 2m 3s\n",
      "41:\tlearn: 0.2735350\ttotal: 5.4s\tremaining: 2m 3s\n",
      "42:\tlearn: 0.2712229\ttotal: 5.52s\tremaining: 2m 2s\n",
      "43:\tlearn: 0.2689738\ttotal: 5.64s\tremaining: 2m 2s\n",
      "44:\tlearn: 0.2671231\ttotal: 5.75s\tremaining: 2m 2s\n",
      "45:\tlearn: 0.2651504\ttotal: 5.88s\tremaining: 2m 1s\n",
      "46:\tlearn: 0.2632475\ttotal: 6.03s\tremaining: 2m 2s\n",
      "47:\tlearn: 0.2612938\ttotal: 6.15s\tremaining: 2m 1s\n",
      "48:\tlearn: 0.2596060\ttotal: 6.25s\tremaining: 2m 1s\n",
      "49:\tlearn: 0.2579080\ttotal: 6.38s\tremaining: 2m 1s\n",
      "50:\tlearn: 0.2561694\ttotal: 6.52s\tremaining: 2m 1s\n",
      "51:\tlearn: 0.2546033\ttotal: 6.68s\tremaining: 2m 1s\n",
      "52:\tlearn: 0.2531416\ttotal: 6.84s\tremaining: 2m 2s\n",
      "53:\tlearn: 0.2517818\ttotal: 6.95s\tremaining: 2m 1s\n",
      "54:\tlearn: 0.2504096\ttotal: 7.08s\tremaining: 2m 1s\n",
      "55:\tlearn: 0.2492030\ttotal: 7.19s\tremaining: 2m 1s\n",
      "56:\tlearn: 0.2479819\ttotal: 7.32s\tremaining: 2m 1s\n",
      "57:\tlearn: 0.2465412\ttotal: 7.45s\tremaining: 2m\n",
      "58:\tlearn: 0.2453525\ttotal: 7.57s\tremaining: 2m\n",
      "59:\tlearn: 0.2444286\ttotal: 7.68s\tremaining: 2m\n",
      "60:\tlearn: 0.2435265\ttotal: 7.8s\tremaining: 2m\n",
      "61:\tlearn: 0.2424239\ttotal: 7.93s\tremaining: 2m\n",
      "62:\tlearn: 0.2410719\ttotal: 8.07s\tremaining: 2m\n",
      "63:\tlearn: 0.2401113\ttotal: 8.18s\tremaining: 1m 59s\n",
      "64:\tlearn: 0.2392935\ttotal: 8.3s\tremaining: 1m 59s\n",
      "65:\tlearn: 0.2384117\ttotal: 8.42s\tremaining: 1m 59s\n",
      "66:\tlearn: 0.2375635\ttotal: 8.54s\tremaining: 1m 58s\n",
      "67:\tlearn: 0.2367768\ttotal: 8.64s\tremaining: 1m 58s\n",
      "68:\tlearn: 0.2359458\ttotal: 8.76s\tremaining: 1m 58s\n",
      "69:\tlearn: 0.2351538\ttotal: 8.89s\tremaining: 1m 58s\n",
      "70:\tlearn: 0.2344994\ttotal: 9.01s\tremaining: 1m 57s\n",
      "71:\tlearn: 0.2337948\ttotal: 9.13s\tremaining: 1m 57s\n",
      "72:\tlearn: 0.2328751\ttotal: 9.25s\tremaining: 1m 57s\n",
      "73:\tlearn: 0.2321740\ttotal: 9.36s\tremaining: 1m 57s\n",
      "74:\tlearn: 0.2314908\ttotal: 9.48s\tremaining: 1m 56s\n",
      "75:\tlearn: 0.2307711\ttotal: 9.59s\tremaining: 1m 56s\n",
      "76:\tlearn: 0.2300677\ttotal: 9.71s\tremaining: 1m 56s\n",
      "77:\tlearn: 0.2294158\ttotal: 9.83s\tremaining: 1m 56s\n",
      "78:\tlearn: 0.2288676\ttotal: 9.94s\tremaining: 1m 55s\n",
      "79:\tlearn: 0.2280239\ttotal: 10.1s\tremaining: 1m 55s\n",
      "80:\tlearn: 0.2274428\ttotal: 10.2s\tremaining: 1m 55s\n",
      "81:\tlearn: 0.2268817\ttotal: 10.3s\tremaining: 1m 55s\n",
      "82:\tlearn: 0.2263500\ttotal: 10.4s\tremaining: 1m 54s\n",
      "83:\tlearn: 0.2257839\ttotal: 10.5s\tremaining: 1m 54s\n",
      "84:\tlearn: 0.2253385\ttotal: 10.6s\tremaining: 1m 54s\n",
      "85:\tlearn: 0.2247996\ttotal: 10.8s\tremaining: 1m 54s\n",
      "86:\tlearn: 0.2244169\ttotal: 10.9s\tremaining: 1m 54s\n",
      "87:\tlearn: 0.2239801\ttotal: 11.1s\tremaining: 1m 54s\n",
      "88:\tlearn: 0.2235325\ttotal: 11.2s\tremaining: 1m 54s\n",
      "89:\tlearn: 0.2229869\ttotal: 11.4s\tremaining: 1m 54s\n",
      "90:\tlearn: 0.2225281\ttotal: 11.5s\tremaining: 1m 54s\n",
      "91:\tlearn: 0.2220907\ttotal: 11.6s\tremaining: 1m 54s\n",
      "92:\tlearn: 0.2216622\ttotal: 11.7s\tremaining: 1m 53s\n",
      "93:\tlearn: 0.2210945\ttotal: 11.8s\tremaining: 1m 53s\n",
      "94:\tlearn: 0.2206832\ttotal: 11.9s\tremaining: 1m 53s\n",
      "95:\tlearn: 0.2202771\ttotal: 12s\tremaining: 1m 53s\n",
      "96:\tlearn: 0.2198394\ttotal: 12.1s\tremaining: 1m 53s\n",
      "97:\tlearn: 0.2193643\ttotal: 12.3s\tremaining: 1m 52s\n",
      "98:\tlearn: 0.2188619\ttotal: 12.4s\tremaining: 1m 52s\n",
      "99:\tlearn: 0.2186071\ttotal: 12.5s\tremaining: 1m 52s\n",
      "100:\tlearn: 0.2182409\ttotal: 12.6s\tremaining: 1m 52s\n",
      "101:\tlearn: 0.2178008\ttotal: 12.7s\tremaining: 1m 51s\n",
      "102:\tlearn: 0.2172873\ttotal: 12.8s\tremaining: 1m 51s\n",
      "103:\tlearn: 0.2169318\ttotal: 12.9s\tremaining: 1m 51s\n",
      "104:\tlearn: 0.2165976\ttotal: 13.1s\tremaining: 1m 51s\n",
      "105:\tlearn: 0.2162349\ttotal: 13.2s\tremaining: 1m 50s\n",
      "106:\tlearn: 0.2159105\ttotal: 13.3s\tremaining: 1m 50s\n",
      "107:\tlearn: 0.2154946\ttotal: 13.4s\tremaining: 1m 50s\n",
      "108:\tlearn: 0.2150969\ttotal: 13.5s\tremaining: 1m 50s\n",
      "109:\tlearn: 0.2147017\ttotal: 13.6s\tremaining: 1m 50s\n",
      "110:\tlearn: 0.2143405\ttotal: 13.7s\tremaining: 1m 49s\n",
      "111:\tlearn: 0.2140129\ttotal: 13.8s\tremaining: 1m 49s\n",
      "112:\tlearn: 0.2136814\ttotal: 13.9s\tremaining: 1m 49s\n",
      "113:\tlearn: 0.2134035\ttotal: 14.1s\tremaining: 1m 49s\n",
      "114:\tlearn: 0.2129709\ttotal: 14.2s\tremaining: 1m 49s\n",
      "115:\tlearn: 0.2126547\ttotal: 14.3s\tremaining: 1m 49s\n",
      "116:\tlearn: 0.2123102\ttotal: 14.4s\tremaining: 1m 48s\n",
      "117:\tlearn: 0.2118704\ttotal: 14.5s\tremaining: 1m 48s\n",
      "118:\tlearn: 0.2115498\ttotal: 14.7s\tremaining: 1m 48s\n",
      "119:\tlearn: 0.2111760\ttotal: 14.8s\tremaining: 1m 48s\n",
      "120:\tlearn: 0.2109072\ttotal: 14.9s\tremaining: 1m 48s\n",
      "121:\tlearn: 0.2106911\ttotal: 15s\tremaining: 1m 47s\n",
      "122:\tlearn: 0.2104172\ttotal: 15.1s\tremaining: 1m 47s\n",
      "123:\tlearn: 0.2101212\ttotal: 15.2s\tremaining: 1m 47s\n",
      "124:\tlearn: 0.2096326\ttotal: 15.4s\tremaining: 1m 47s\n",
      "125:\tlearn: 0.2093632\ttotal: 15.5s\tremaining: 1m 47s\n",
      "126:\tlearn: 0.2090998\ttotal: 15.6s\tremaining: 1m 47s\n",
      "127:\tlearn: 0.2087459\ttotal: 15.7s\tremaining: 1m 46s\n",
      "128:\tlearn: 0.2084527\ttotal: 15.8s\tremaining: 1m 46s\n",
      "129:\tlearn: 0.2081816\ttotal: 15.9s\tremaining: 1m 46s\n",
      "130:\tlearn: 0.2078804\ttotal: 16s\tremaining: 1m 46s\n",
      "131:\tlearn: 0.2075648\ttotal: 16.1s\tremaining: 1m 46s\n",
      "132:\tlearn: 0.2073186\ttotal: 16.3s\tremaining: 1m 46s\n",
      "133:\tlearn: 0.2070499\ttotal: 16.4s\tremaining: 1m 45s\n",
      "134:\tlearn: 0.2068326\ttotal: 16.5s\tremaining: 1m 45s\n",
      "135:\tlearn: 0.2066302\ttotal: 16.6s\tremaining: 1m 45s\n",
      "136:\tlearn: 0.2063743\ttotal: 16.7s\tremaining: 1m 45s\n",
      "137:\tlearn: 0.2061461\ttotal: 16.8s\tremaining: 1m 44s\n",
      "138:\tlearn: 0.2058094\ttotal: 16.9s\tremaining: 1m 44s\n",
      "139:\tlearn: 0.2055696\ttotal: 17s\tremaining: 1m 44s\n",
      "140:\tlearn: 0.2054209\ttotal: 17.1s\tremaining: 1m 44s\n",
      "141:\tlearn: 0.2051565\ttotal: 17.2s\tremaining: 1m 44s\n",
      "142:\tlearn: 0.2049245\ttotal: 17.4s\tremaining: 1m 44s\n",
      "143:\tlearn: 0.2047318\ttotal: 17.5s\tremaining: 1m 43s\n",
      "144:\tlearn: 0.2044843\ttotal: 17.6s\tremaining: 1m 43s\n",
      "145:\tlearn: 0.2043052\ttotal: 17.7s\tremaining: 1m 43s\n",
      "146:\tlearn: 0.2041139\ttotal: 17.8s\tremaining: 1m 43s\n",
      "147:\tlearn: 0.2039063\ttotal: 17.9s\tremaining: 1m 43s\n",
      "148:\tlearn: 0.2036414\ttotal: 18s\tremaining: 1m 42s\n",
      "149:\tlearn: 0.2033988\ttotal: 18.1s\tremaining: 1m 42s\n",
      "150:\tlearn: 0.2031364\ttotal: 18.2s\tremaining: 1m 42s\n",
      "151:\tlearn: 0.2029762\ttotal: 18.3s\tremaining: 1m 42s\n",
      "152:\tlearn: 0.2027671\ttotal: 18.5s\tremaining: 1m 42s\n",
      "153:\tlearn: 0.2025415\ttotal: 18.6s\tremaining: 1m 42s\n",
      "154:\tlearn: 0.2022821\ttotal: 18.7s\tremaining: 1m 41s\n",
      "155:\tlearn: 0.2021306\ttotal: 18.8s\tremaining: 1m 41s\n",
      "156:\tlearn: 0.2017551\ttotal: 18.9s\tremaining: 1m 41s\n",
      "157:\tlearn: 0.2015819\ttotal: 19s\tremaining: 1m 41s\n",
      "158:\tlearn: 0.2014196\ttotal: 19.1s\tremaining: 1m 41s\n",
      "159:\tlearn: 0.2012172\ttotal: 19.3s\tremaining: 1m 41s\n",
      "160:\tlearn: 0.2010073\ttotal: 19.4s\tremaining: 1m 41s\n",
      "161:\tlearn: 0.2007756\ttotal: 19.5s\tremaining: 1m 40s\n",
      "162:\tlearn: 0.2005178\ttotal: 19.6s\tremaining: 1m 40s\n",
      "163:\tlearn: 0.2002918\ttotal: 19.7s\tremaining: 1m 40s\n",
      "164:\tlearn: 0.2000927\ttotal: 19.8s\tremaining: 1m 40s\n",
      "165:\tlearn: 0.1998359\ttotal: 20s\tremaining: 1m 40s\n",
      "166:\tlearn: 0.1996768\ttotal: 20.1s\tremaining: 1m 40s\n",
      "167:\tlearn: 0.1994619\ttotal: 20.2s\tremaining: 1m 40s\n",
      "168:\tlearn: 0.1992873\ttotal: 20.3s\tremaining: 1m 39s\n",
      "169:\tlearn: 0.1990071\ttotal: 20.5s\tremaining: 1m 39s\n",
      "170:\tlearn: 0.1987764\ttotal: 20.6s\tremaining: 1m 39s\n",
      "171:\tlearn: 0.1986092\ttotal: 20.7s\tremaining: 1m 39s\n",
      "172:\tlearn: 0.1984427\ttotal: 20.8s\tremaining: 1m 39s\n",
      "173:\tlearn: 0.1982178\ttotal: 20.9s\tremaining: 1m 39s\n",
      "174:\tlearn: 0.1980702\ttotal: 21s\tremaining: 1m 39s\n",
      "175:\tlearn: 0.1978920\ttotal: 21.1s\tremaining: 1m 38s\n",
      "176:\tlearn: 0.1976547\ttotal: 21.2s\tremaining: 1m 38s\n",
      "177:\tlearn: 0.1974750\ttotal: 21.4s\tremaining: 1m 38s\n",
      "178:\tlearn: 0.1973091\ttotal: 21.5s\tremaining: 1m 38s\n",
      "179:\tlearn: 0.1970721\ttotal: 21.6s\tremaining: 1m 38s\n",
      "180:\tlearn: 0.1969312\ttotal: 21.7s\tremaining: 1m 38s\n",
      "181:\tlearn: 0.1967383\ttotal: 21.8s\tremaining: 1m 38s\n",
      "182:\tlearn: 0.1966090\ttotal: 21.9s\tremaining: 1m 37s\n",
      "183:\tlearn: 0.1964625\ttotal: 22s\tremaining: 1m 37s\n",
      "184:\tlearn: 0.1961639\ttotal: 22.2s\tremaining: 1m 37s\n",
      "185:\tlearn: 0.1960072\ttotal: 22.3s\tremaining: 1m 37s\n",
      "186:\tlearn: 0.1958517\ttotal: 22.5s\tremaining: 1m 37s\n",
      "187:\tlearn: 0.1956307\ttotal: 22.6s\tremaining: 1m 37s\n",
      "188:\tlearn: 0.1953797\ttotal: 22.7s\tremaining: 1m 37s\n",
      "189:\tlearn: 0.1952207\ttotal: 22.8s\tremaining: 1m 37s\n",
      "190:\tlearn: 0.1950062\ttotal: 23s\tremaining: 1m 37s\n",
      "191:\tlearn: 0.1948565\ttotal: 23.1s\tremaining: 1m 37s\n",
      "192:\tlearn: 0.1946809\ttotal: 23.2s\tremaining: 1m 37s\n",
      "193:\tlearn: 0.1944695\ttotal: 23.4s\tremaining: 1m 37s\n",
      "194:\tlearn: 0.1943454\ttotal: 23.5s\tremaining: 1m 36s\n",
      "195:\tlearn: 0.1941888\ttotal: 23.6s\tremaining: 1m 36s\n",
      "196:\tlearn: 0.1940723\ttotal: 23.7s\tremaining: 1m 36s\n",
      "197:\tlearn: 0.1937817\ttotal: 23.8s\tremaining: 1m 36s\n",
      "198:\tlearn: 0.1935961\ttotal: 24s\tremaining: 1m 36s\n",
      "199:\tlearn: 0.1934676\ttotal: 24.1s\tremaining: 1m 36s\n",
      "200:\tlearn: 0.1933314\ttotal: 24.2s\tremaining: 1m 36s\n",
      "201:\tlearn: 0.1932062\ttotal: 24.3s\tremaining: 1m 36s\n",
      "202:\tlearn: 0.1930272\ttotal: 24.4s\tremaining: 1m 35s\n",
      "203:\tlearn: 0.1929049\ttotal: 24.5s\tremaining: 1m 35s\n",
      "204:\tlearn: 0.1926304\ttotal: 24.7s\tremaining: 1m 35s\n",
      "205:\tlearn: 0.1925140\ttotal: 24.8s\tremaining: 1m 35s\n",
      "206:\tlearn: 0.1923327\ttotal: 24.9s\tremaining: 1m 35s\n",
      "207:\tlearn: 0.1920924\ttotal: 25s\tremaining: 1m 35s\n",
      "208:\tlearn: 0.1919092\ttotal: 25.1s\tremaining: 1m 35s\n",
      "209:\tlearn: 0.1917233\ttotal: 25.2s\tremaining: 1m 34s\n",
      "210:\tlearn: 0.1916271\ttotal: 25.3s\tremaining: 1m 34s\n",
      "211:\tlearn: 0.1914924\ttotal: 25.4s\tremaining: 1m 34s\n",
      "212:\tlearn: 0.1913828\ttotal: 25.5s\tremaining: 1m 34s\n",
      "213:\tlearn: 0.1912521\ttotal: 25.6s\tremaining: 1m 34s\n",
      "214:\tlearn: 0.1911454\ttotal: 25.8s\tremaining: 1m 34s\n",
      "215:\tlearn: 0.1910116\ttotal: 25.9s\tremaining: 1m 33s\n",
      "216:\tlearn: 0.1908880\ttotal: 26s\tremaining: 1m 33s\n",
      "217:\tlearn: 0.1907491\ttotal: 26.1s\tremaining: 1m 33s\n",
      "218:\tlearn: 0.1905959\ttotal: 26.2s\tremaining: 1m 33s\n",
      "219:\tlearn: 0.1904034\ttotal: 26.3s\tremaining: 1m 33s\n",
      "220:\tlearn: 0.1902021\ttotal: 26.4s\tremaining: 1m 33s\n",
      "221:\tlearn: 0.1900654\ttotal: 26.5s\tremaining: 1m 32s\n",
      "222:\tlearn: 0.1899096\ttotal: 26.6s\tremaining: 1m 32s\n",
      "223:\tlearn: 0.1897218\ttotal: 26.8s\tremaining: 1m 32s\n",
      "224:\tlearn: 0.1895991\ttotal: 26.9s\tremaining: 1m 32s\n",
      "225:\tlearn: 0.1894228\ttotal: 27s\tremaining: 1m 32s\n",
      "226:\tlearn: 0.1892007\ttotal: 27.1s\tremaining: 1m 32s\n",
      "227:\tlearn: 0.1890198\ttotal: 27.2s\tremaining: 1m 32s\n",
      "228:\tlearn: 0.1888488\ttotal: 27.3s\tremaining: 1m 31s\n",
      "229:\tlearn: 0.1887235\ttotal: 27.4s\tremaining: 1m 31s\n",
      "230:\tlearn: 0.1886327\ttotal: 27.5s\tremaining: 1m 31s\n",
      "231:\tlearn: 0.1884777\ttotal: 27.6s\tremaining: 1m 31s\n",
      "232:\tlearn: 0.1883668\ttotal: 27.7s\tremaining: 1m 31s\n",
      "233:\tlearn: 0.1882557\ttotal: 27.8s\tremaining: 1m 31s\n",
      "234:\tlearn: 0.1881670\ttotal: 27.9s\tremaining: 1m 30s\n",
      "235:\tlearn: 0.1880577\ttotal: 28s\tremaining: 1m 30s\n",
      "236:\tlearn: 0.1879367\ttotal: 28.1s\tremaining: 1m 30s\n",
      "237:\tlearn: 0.1878367\ttotal: 28.3s\tremaining: 1m 30s\n",
      "238:\tlearn: 0.1877250\ttotal: 28.4s\tremaining: 1m 30s\n",
      "239:\tlearn: 0.1875863\ttotal: 28.5s\tremaining: 1m 30s\n",
      "240:\tlearn: 0.1874818\ttotal: 28.6s\tremaining: 1m 29s\n",
      "241:\tlearn: 0.1873353\ttotal: 28.7s\tremaining: 1m 29s\n",
      "242:\tlearn: 0.1872213\ttotal: 28.8s\tremaining: 1m 29s\n",
      "243:\tlearn: 0.1870268\ttotal: 28.9s\tremaining: 1m 29s\n",
      "244:\tlearn: 0.1869063\ttotal: 29s\tremaining: 1m 29s\n",
      "245:\tlearn: 0.1868184\ttotal: 29.1s\tremaining: 1m 29s\n",
      "246:\tlearn: 0.1866951\ttotal: 29.3s\tremaining: 1m 29s\n",
      "247:\tlearn: 0.1865170\ttotal: 29.4s\tremaining: 1m 29s\n",
      "248:\tlearn: 0.1864282\ttotal: 29.5s\tremaining: 1m 29s\n",
      "249:\tlearn: 0.1863256\ttotal: 29.6s\tremaining: 1m 28s\n",
      "250:\tlearn: 0.1861022\ttotal: 29.8s\tremaining: 1m 28s\n",
      "251:\tlearn: 0.1859748\ttotal: 29.9s\tremaining: 1m 28s\n",
      "252:\tlearn: 0.1859004\ttotal: 30s\tremaining: 1m 28s\n",
      "253:\tlearn: 0.1857774\ttotal: 30.2s\tremaining: 1m 28s\n",
      "254:\tlearn: 0.1856282\ttotal: 30.3s\tremaining: 1m 28s\n",
      "255:\tlearn: 0.1854519\ttotal: 30.4s\tremaining: 1m 28s\n",
      "256:\tlearn: 0.1853431\ttotal: 30.5s\tremaining: 1m 28s\n",
      "257:\tlearn: 0.1852444\ttotal: 30.6s\tremaining: 1m 28s\n",
      "258:\tlearn: 0.1851647\ttotal: 30.8s\tremaining: 1m 28s\n",
      "259:\tlearn: 0.1850589\ttotal: 30.9s\tremaining: 1m 27s\n",
      "260:\tlearn: 0.1849421\ttotal: 31s\tremaining: 1m 27s\n",
      "261:\tlearn: 0.1847650\ttotal: 31.1s\tremaining: 1m 27s\n",
      "262:\tlearn: 0.1846889\ttotal: 31.2s\tremaining: 1m 27s\n",
      "263:\tlearn: 0.1845812\ttotal: 31.3s\tremaining: 1m 27s\n",
      "264:\tlearn: 0.1844888\ttotal: 31.4s\tremaining: 1m 27s\n",
      "265:\tlearn: 0.1843114\ttotal: 31.5s\tremaining: 1m 27s\n",
      "266:\tlearn: 0.1841315\ttotal: 31.6s\tremaining: 1m 26s\n",
      "267:\tlearn: 0.1840252\ttotal: 31.8s\tremaining: 1m 26s\n",
      "268:\tlearn: 0.1839304\ttotal: 31.9s\tremaining: 1m 26s\n",
      "269:\tlearn: 0.1838405\ttotal: 32s\tremaining: 1m 26s\n",
      "270:\tlearn: 0.1837149\ttotal: 32.1s\tremaining: 1m 26s\n",
      "271:\tlearn: 0.1836173\ttotal: 32.2s\tremaining: 1m 26s\n",
      "272:\tlearn: 0.1834836\ttotal: 32.3s\tremaining: 1m 26s\n",
      "273:\tlearn: 0.1833415\ttotal: 32.5s\tremaining: 1m 26s\n",
      "274:\tlearn: 0.1832622\ttotal: 32.6s\tremaining: 1m 25s\n",
      "275:\tlearn: 0.1831134\ttotal: 32.7s\tremaining: 1m 25s\n",
      "276:\tlearn: 0.1829598\ttotal: 32.8s\tremaining: 1m 25s\n",
      "277:\tlearn: 0.1828733\ttotal: 32.9s\tremaining: 1m 25s\n",
      "278:\tlearn: 0.1827656\ttotal: 33s\tremaining: 1m 25s\n",
      "279:\tlearn: 0.1826915\ttotal: 33.1s\tremaining: 1m 25s\n",
      "280:\tlearn: 0.1826062\ttotal: 33.2s\tremaining: 1m 24s\n",
      "281:\tlearn: 0.1825277\ttotal: 33.3s\tremaining: 1m 24s\n",
      "282:\tlearn: 0.1823107\ttotal: 33.4s\tremaining: 1m 24s\n",
      "283:\tlearn: 0.1822274\ttotal: 33.5s\tremaining: 1m 24s\n",
      "284:\tlearn: 0.1821155\ttotal: 33.6s\tremaining: 1m 24s\n",
      "285:\tlearn: 0.1820376\ttotal: 33.8s\tremaining: 1m 24s\n",
      "286:\tlearn: 0.1819821\ttotal: 33.9s\tremaining: 1m 24s\n",
      "287:\tlearn: 0.1818134\ttotal: 34s\tremaining: 1m 23s\n",
      "288:\tlearn: 0.1817410\ttotal: 34.1s\tremaining: 1m 23s\n",
      "289:\tlearn: 0.1816478\ttotal: 34.2s\tremaining: 1m 23s\n",
      "290:\tlearn: 0.1815064\ttotal: 34.3s\tremaining: 1m 23s\n",
      "291:\tlearn: 0.1813972\ttotal: 34.4s\tremaining: 1m 23s\n",
      "292:\tlearn: 0.1813268\ttotal: 34.5s\tremaining: 1m 23s\n",
      "293:\tlearn: 0.1812458\ttotal: 34.6s\tremaining: 1m 23s\n",
      "294:\tlearn: 0.1811497\ttotal: 34.7s\tremaining: 1m 22s\n",
      "295:\tlearn: 0.1810770\ttotal: 34.8s\tremaining: 1m 22s\n",
      "296:\tlearn: 0.1809933\ttotal: 34.9s\tremaining: 1m 22s\n",
      "297:\tlearn: 0.1808761\ttotal: 35s\tremaining: 1m 22s\n",
      "298:\tlearn: 0.1807088\ttotal: 35.1s\tremaining: 1m 22s\n",
      "299:\tlearn: 0.1805927\ttotal: 35.2s\tremaining: 1m 22s\n",
      "300:\tlearn: 0.1803648\ttotal: 35.3s\tremaining: 1m 22s\n",
      "301:\tlearn: 0.1802803\ttotal: 35.4s\tremaining: 1m 21s\n",
      "302:\tlearn: 0.1802263\ttotal: 35.5s\tremaining: 1m 21s\n",
      "303:\tlearn: 0.1799506\ttotal: 35.7s\tremaining: 1m 21s\n",
      "304:\tlearn: 0.1798209\ttotal: 35.8s\tremaining: 1m 21s\n",
      "305:\tlearn: 0.1797208\ttotal: 35.9s\tremaining: 1m 21s\n",
      "306:\tlearn: 0.1796316\ttotal: 36s\tremaining: 1m 21s\n",
      "307:\tlearn: 0.1794402\ttotal: 36.1s\tremaining: 1m 21s\n",
      "308:\tlearn: 0.1793654\ttotal: 36.2s\tremaining: 1m 21s\n",
      "309:\tlearn: 0.1792558\ttotal: 36.3s\tremaining: 1m 20s\n",
      "310:\tlearn: 0.1791798\ttotal: 36.4s\tremaining: 1m 20s\n",
      "311:\tlearn: 0.1790950\ttotal: 36.5s\tremaining: 1m 20s\n",
      "312:\tlearn: 0.1790245\ttotal: 36.6s\tremaining: 1m 20s\n",
      "313:\tlearn: 0.1789401\ttotal: 36.8s\tremaining: 1m 20s\n",
      "314:\tlearn: 0.1788394\ttotal: 36.9s\tremaining: 1m 20s\n",
      "315:\tlearn: 0.1787596\ttotal: 37s\tremaining: 1m 20s\n",
      "316:\tlearn: 0.1786591\ttotal: 37.1s\tremaining: 1m 19s\n",
      "317:\tlearn: 0.1786075\ttotal: 37.2s\tremaining: 1m 19s\n",
      "318:\tlearn: 0.1785273\ttotal: 37.3s\tremaining: 1m 19s\n",
      "319:\tlearn: 0.1784427\ttotal: 37.4s\tremaining: 1m 19s\n",
      "320:\tlearn: 0.1783793\ttotal: 37.5s\tremaining: 1m 19s\n",
      "321:\tlearn: 0.1782895\ttotal: 37.6s\tremaining: 1m 19s\n",
      "322:\tlearn: 0.1781170\ttotal: 37.7s\tremaining: 1m 19s\n",
      "323:\tlearn: 0.1780682\ttotal: 37.8s\tremaining: 1m 18s\n",
      "324:\tlearn: 0.1779620\ttotal: 37.9s\tremaining: 1m 18s\n",
      "325:\tlearn: 0.1779058\ttotal: 38s\tremaining: 1m 18s\n",
      "326:\tlearn: 0.1778259\ttotal: 38.1s\tremaining: 1m 18s\n",
      "327:\tlearn: 0.1777190\ttotal: 38.2s\tremaining: 1m 18s\n",
      "328:\tlearn: 0.1776279\ttotal: 38.3s\tremaining: 1m 18s\n",
      "329:\tlearn: 0.1774500\ttotal: 38.4s\tremaining: 1m 18s\n",
      "330:\tlearn: 0.1773780\ttotal: 38.5s\tremaining: 1m 17s\n",
      "331:\tlearn: 0.1772951\ttotal: 38.6s\tremaining: 1m 17s\n",
      "332:\tlearn: 0.1772198\ttotal: 38.7s\tremaining: 1m 17s\n",
      "333:\tlearn: 0.1770880\ttotal: 38.8s\tremaining: 1m 17s\n",
      "334:\tlearn: 0.1770203\ttotal: 38.9s\tremaining: 1m 17s\n",
      "335:\tlearn: 0.1769458\ttotal: 39s\tremaining: 1m 17s\n",
      "336:\tlearn: 0.1767975\ttotal: 39.1s\tremaining: 1m 17s\n",
      "337:\tlearn: 0.1767223\ttotal: 39.2s\tremaining: 1m 16s\n",
      "338:\tlearn: 0.1766460\ttotal: 39.3s\tremaining: 1m 16s\n",
      "339:\tlearn: 0.1765859\ttotal: 39.5s\tremaining: 1m 16s\n",
      "340:\tlearn: 0.1765157\ttotal: 39.5s\tremaining: 1m 16s\n",
      "341:\tlearn: 0.1764290\ttotal: 39.6s\tremaining: 1m 16s\n",
      "342:\tlearn: 0.1763226\ttotal: 39.8s\tremaining: 1m 16s\n",
      "343:\tlearn: 0.1761872\ttotal: 39.9s\tremaining: 1m 16s\n",
      "344:\tlearn: 0.1760802\ttotal: 40s\tremaining: 1m 15s\n",
      "345:\tlearn: 0.1760048\ttotal: 40.1s\tremaining: 1m 15s\n",
      "346:\tlearn: 0.1759335\ttotal: 40.2s\tremaining: 1m 15s\n",
      "347:\tlearn: 0.1758335\ttotal: 40.3s\tremaining: 1m 15s\n",
      "348:\tlearn: 0.1757504\ttotal: 40.4s\tremaining: 1m 15s\n",
      "349:\tlearn: 0.1756623\ttotal: 40.5s\tremaining: 1m 15s\n",
      "350:\tlearn: 0.1755843\ttotal: 40.6s\tremaining: 1m 15s\n",
      "351:\tlearn: 0.1755185\ttotal: 40.7s\tremaining: 1m 14s\n",
      "352:\tlearn: 0.1754426\ttotal: 40.8s\tremaining: 1m 14s\n",
      "353:\tlearn: 0.1753747\ttotal: 40.9s\tremaining: 1m 14s\n",
      "354:\tlearn: 0.1752918\ttotal: 41s\tremaining: 1m 14s\n",
      "355:\tlearn: 0.1752029\ttotal: 41.1s\tremaining: 1m 14s\n",
      "356:\tlearn: 0.1751201\ttotal: 41.2s\tremaining: 1m 14s\n",
      "357:\tlearn: 0.1750522\ttotal: 41.3s\tremaining: 1m 14s\n",
      "358:\tlearn: 0.1749646\ttotal: 41.4s\tremaining: 1m 14s\n",
      "359:\tlearn: 0.1749180\ttotal: 41.5s\tremaining: 1m 13s\n",
      "360:\tlearn: 0.1748180\ttotal: 41.7s\tremaining: 1m 13s\n",
      "361:\tlearn: 0.1747659\ttotal: 41.8s\tremaining: 1m 13s\n",
      "362:\tlearn: 0.1747015\ttotal: 41.9s\tremaining: 1m 13s\n",
      "363:\tlearn: 0.1746161\ttotal: 42s\tremaining: 1m 13s\n",
      "364:\tlearn: 0.1745361\ttotal: 42.1s\tremaining: 1m 13s\n",
      "365:\tlearn: 0.1744660\ttotal: 42.2s\tremaining: 1m 13s\n",
      "366:\tlearn: 0.1743756\ttotal: 42.3s\tremaining: 1m 12s\n",
      "367:\tlearn: 0.1741370\ttotal: 42.4s\tremaining: 1m 12s\n",
      "368:\tlearn: 0.1740324\ttotal: 42.5s\tremaining: 1m 12s\n",
      "369:\tlearn: 0.1739718\ttotal: 42.6s\tremaining: 1m 12s\n",
      "370:\tlearn: 0.1739058\ttotal: 42.7s\tremaining: 1m 12s\n",
      "371:\tlearn: 0.1738255\ttotal: 42.8s\tremaining: 1m 12s\n",
      "372:\tlearn: 0.1737810\ttotal: 42.9s\tremaining: 1m 12s\n",
      "373:\tlearn: 0.1737484\ttotal: 43s\tremaining: 1m 11s\n",
      "374:\tlearn: 0.1736702\ttotal: 43.1s\tremaining: 1m 11s\n",
      "375:\tlearn: 0.1736053\ttotal: 43.2s\tremaining: 1m 11s\n",
      "376:\tlearn: 0.1735193\ttotal: 43.3s\tremaining: 1m 11s\n",
      "377:\tlearn: 0.1733817\ttotal: 43.4s\tremaining: 1m 11s\n",
      "378:\tlearn: 0.1732851\ttotal: 43.5s\tremaining: 1m 11s\n",
      "379:\tlearn: 0.1731754\ttotal: 43.6s\tremaining: 1m 11s\n",
      "380:\tlearn: 0.1730952\ttotal: 43.8s\tremaining: 1m 11s\n",
      "381:\tlearn: 0.1729677\ttotal: 43.9s\tremaining: 1m 10s\n",
      "382:\tlearn: 0.1728871\ttotal: 44s\tremaining: 1m 10s\n",
      "383:\tlearn: 0.1728226\ttotal: 44.1s\tremaining: 1m 10s\n",
      "384:\tlearn: 0.1727686\ttotal: 44.2s\tremaining: 1m 10s\n",
      "385:\tlearn: 0.1726736\ttotal: 44.3s\tremaining: 1m 10s\n",
      "386:\tlearn: 0.1725791\ttotal: 44.4s\tremaining: 1m 10s\n",
      "387:\tlearn: 0.1725156\ttotal: 44.5s\tremaining: 1m 10s\n",
      "388:\tlearn: 0.1724379\ttotal: 44.6s\tremaining: 1m 10s\n",
      "389:\tlearn: 0.1723512\ttotal: 44.7s\tremaining: 1m 9s\n",
      "390:\tlearn: 0.1722447\ttotal: 44.8s\tremaining: 1m 9s\n",
      "391:\tlearn: 0.1721475\ttotal: 44.9s\tremaining: 1m 9s\n",
      "392:\tlearn: 0.1720009\ttotal: 45s\tremaining: 1m 9s\n",
      "393:\tlearn: 0.1718342\ttotal: 45.1s\tremaining: 1m 9s\n",
      "394:\tlearn: 0.1717005\ttotal: 45.3s\tremaining: 1m 9s\n",
      "395:\tlearn: 0.1716064\ttotal: 45.4s\tremaining: 1m 9s\n",
      "396:\tlearn: 0.1715637\ttotal: 45.5s\tremaining: 1m 9s\n",
      "397:\tlearn: 0.1715065\ttotal: 45.6s\tremaining: 1m 8s\n",
      "398:\tlearn: 0.1714474\ttotal: 45.7s\tremaining: 1m 8s\n",
      "399:\tlearn: 0.1714018\ttotal: 45.8s\tremaining: 1m 8s\n",
      "400:\tlearn: 0.1713185\ttotal: 45.9s\tremaining: 1m 8s\n",
      "401:\tlearn: 0.1712622\ttotal: 46s\tremaining: 1m 8s\n",
      "402:\tlearn: 0.1711771\ttotal: 46.1s\tremaining: 1m 8s\n",
      "403:\tlearn: 0.1711137\ttotal: 46.2s\tremaining: 1m 8s\n",
      "404:\tlearn: 0.1710623\ttotal: 46.3s\tremaining: 1m 8s\n",
      "405:\tlearn: 0.1710130\ttotal: 46.4s\tremaining: 1m 7s\n",
      "406:\tlearn: 0.1709237\ttotal: 46.5s\tremaining: 1m 7s\n",
      "407:\tlearn: 0.1708409\ttotal: 46.6s\tremaining: 1m 7s\n",
      "408:\tlearn: 0.1707582\ttotal: 46.7s\tremaining: 1m 7s\n",
      "409:\tlearn: 0.1706767\ttotal: 46.8s\tremaining: 1m 7s\n",
      "410:\tlearn: 0.1705985\ttotal: 46.9s\tremaining: 1m 7s\n",
      "411:\tlearn: 0.1705291\ttotal: 47s\tremaining: 1m 7s\n",
      "412:\tlearn: 0.1704466\ttotal: 47.1s\tremaining: 1m 6s\n",
      "413:\tlearn: 0.1703666\ttotal: 47.2s\tremaining: 1m 6s\n",
      "414:\tlearn: 0.1703107\ttotal: 47.3s\tremaining: 1m 6s\n",
      "415:\tlearn: 0.1701732\ttotal: 47.4s\tremaining: 1m 6s\n",
      "416:\tlearn: 0.1701006\ttotal: 47.5s\tremaining: 1m 6s\n",
      "417:\tlearn: 0.1699859\ttotal: 47.7s\tremaining: 1m 6s\n",
      "418:\tlearn: 0.1699194\ttotal: 47.8s\tremaining: 1m 6s\n",
      "419:\tlearn: 0.1698501\ttotal: 47.9s\tremaining: 1m 6s\n",
      "420:\tlearn: 0.1697828\ttotal: 48s\tremaining: 1m 5s\n",
      "421:\tlearn: 0.1697196\ttotal: 48.1s\tremaining: 1m 5s\n",
      "422:\tlearn: 0.1696694\ttotal: 48.2s\tremaining: 1m 5s\n",
      "423:\tlearn: 0.1696016\ttotal: 48.3s\tremaining: 1m 5s\n",
      "424:\tlearn: 0.1695352\ttotal: 48.4s\tremaining: 1m 5s\n",
      "425:\tlearn: 0.1694904\ttotal: 48.5s\tremaining: 1m 5s\n",
      "426:\tlearn: 0.1694197\ttotal: 48.6s\tremaining: 1m 5s\n",
      "427:\tlearn: 0.1693330\ttotal: 48.7s\tremaining: 1m 5s\n",
      "428:\tlearn: 0.1692728\ttotal: 48.8s\tremaining: 1m 4s\n",
      "429:\tlearn: 0.1692057\ttotal: 48.9s\tremaining: 1m 4s\n",
      "430:\tlearn: 0.1690909\ttotal: 49s\tremaining: 1m 4s\n",
      "431:\tlearn: 0.1690232\ttotal: 49.1s\tremaining: 1m 4s\n",
      "432:\tlearn: 0.1689273\ttotal: 49.2s\tremaining: 1m 4s\n",
      "433:\tlearn: 0.1688643\ttotal: 49.3s\tremaining: 1m 4s\n",
      "434:\tlearn: 0.1688129\ttotal: 49.4s\tremaining: 1m 4s\n",
      "435:\tlearn: 0.1687301\ttotal: 49.5s\tremaining: 1m 4s\n",
      "436:\tlearn: 0.1686784\ttotal: 49.6s\tremaining: 1m 3s\n",
      "437:\tlearn: 0.1686035\ttotal: 49.7s\tremaining: 1m 3s\n",
      "438:\tlearn: 0.1685603\ttotal: 49.8s\tremaining: 1m 3s\n",
      "439:\tlearn: 0.1684609\ttotal: 49.9s\tremaining: 1m 3s\n",
      "440:\tlearn: 0.1683929\ttotal: 50s\tremaining: 1m 3s\n",
      "441:\tlearn: 0.1683342\ttotal: 50.1s\tremaining: 1m 3s\n",
      "442:\tlearn: 0.1682828\ttotal: 50.2s\tremaining: 1m 3s\n",
      "443:\tlearn: 0.1682303\ttotal: 50.3s\tremaining: 1m 3s\n",
      "444:\tlearn: 0.1681675\ttotal: 50.4s\tremaining: 1m 2s\n",
      "445:\tlearn: 0.1680937\ttotal: 50.5s\tremaining: 1m 2s\n",
      "446:\tlearn: 0.1680398\ttotal: 50.6s\tremaining: 1m 2s\n",
      "447:\tlearn: 0.1679431\ttotal: 50.7s\tremaining: 1m 2s\n",
      "448:\tlearn: 0.1678896\ttotal: 50.8s\tremaining: 1m 2s\n",
      "449:\tlearn: 0.1677735\ttotal: 50.9s\tremaining: 1m 2s\n",
      "450:\tlearn: 0.1677295\ttotal: 51s\tremaining: 1m 2s\n",
      "451:\tlearn: 0.1676641\ttotal: 51.1s\tremaining: 1m 1s\n",
      "452:\tlearn: 0.1675899\ttotal: 51.2s\tremaining: 1m 1s\n",
      "453:\tlearn: 0.1675140\ttotal: 51.3s\tremaining: 1m 1s\n",
      "454:\tlearn: 0.1674358\ttotal: 51.4s\tremaining: 1m 1s\n",
      "455:\tlearn: 0.1673614\ttotal: 51.5s\tremaining: 1m 1s\n",
      "456:\tlearn: 0.1672365\ttotal: 51.6s\tremaining: 1m 1s\n",
      "457:\tlearn: 0.1671006\ttotal: 51.8s\tremaining: 1m 1s\n",
      "458:\tlearn: 0.1670481\ttotal: 51.9s\tremaining: 1m 1s\n",
      "459:\tlearn: 0.1669962\ttotal: 52s\tremaining: 1m 1s\n",
      "460:\tlearn: 0.1669315\ttotal: 52.1s\tremaining: 1m\n",
      "461:\tlearn: 0.1668713\ttotal: 52.2s\tremaining: 1m\n",
      "462:\tlearn: 0.1667912\ttotal: 52.3s\tremaining: 1m\n",
      "463:\tlearn: 0.1667454\ttotal: 52.4s\tremaining: 1m\n",
      "464:\tlearn: 0.1666787\ttotal: 52.5s\tremaining: 1m\n",
      "465:\tlearn: 0.1666255\ttotal: 52.6s\tremaining: 1m\n",
      "466:\tlearn: 0.1664864\ttotal: 52.7s\tremaining: 1m\n",
      "467:\tlearn: 0.1664183\ttotal: 52.8s\tremaining: 1m\n",
      "468:\tlearn: 0.1663642\ttotal: 52.9s\tremaining: 59.9s\n",
      "469:\tlearn: 0.1662880\ttotal: 53s\tremaining: 59.8s\n",
      "470:\tlearn: 0.1662077\ttotal: 53.1s\tremaining: 59.7s\n",
      "471:\tlearn: 0.1661132\ttotal: 53.2s\tremaining: 59.5s\n",
      "472:\tlearn: 0.1660407\ttotal: 53.3s\tremaining: 59.4s\n",
      "473:\tlearn: 0.1659584\ttotal: 53.4s\tremaining: 59.3s\n",
      "474:\tlearn: 0.1659128\ttotal: 53.5s\tremaining: 59.2s\n",
      "475:\tlearn: 0.1658355\ttotal: 53.6s\tremaining: 59s\n",
      "476:\tlearn: 0.1657490\ttotal: 53.8s\tremaining: 58.9s\n",
      "477:\tlearn: 0.1656916\ttotal: 53.9s\tremaining: 58.8s\n",
      "478:\tlearn: 0.1656316\ttotal: 54s\tremaining: 58.7s\n",
      "479:\tlearn: 0.1655574\ttotal: 54s\tremaining: 58.6s\n",
      "480:\tlearn: 0.1654910\ttotal: 54.1s\tremaining: 58.4s\n",
      "481:\tlearn: 0.1654053\ttotal: 54.3s\tremaining: 58.3s\n",
      "482:\tlearn: 0.1653277\ttotal: 54.4s\tremaining: 58.2s\n",
      "483:\tlearn: 0.1652772\ttotal: 54.5s\tremaining: 58.1s\n",
      "484:\tlearn: 0.1651893\ttotal: 54.6s\tremaining: 57.9s\n",
      "485:\tlearn: 0.1651349\ttotal: 54.6s\tremaining: 57.8s\n",
      "486:\tlearn: 0.1650890\ttotal: 54.8s\tremaining: 57.7s\n",
      "487:\tlearn: 0.1649930\ttotal: 54.9s\tremaining: 57.6s\n",
      "488:\tlearn: 0.1649459\ttotal: 55s\tremaining: 57.4s\n",
      "489:\tlearn: 0.1648999\ttotal: 55.1s\tremaining: 57.3s\n",
      "490:\tlearn: 0.1648451\ttotal: 55.2s\tremaining: 57.2s\n",
      "491:\tlearn: 0.1648033\ttotal: 55.3s\tremaining: 57.1s\n",
      "492:\tlearn: 0.1647416\ttotal: 55.4s\tremaining: 56.9s\n",
      "493:\tlearn: 0.1646053\ttotal: 55.5s\tremaining: 56.8s\n",
      "494:\tlearn: 0.1645349\ttotal: 55.6s\tremaining: 56.7s\n",
      "495:\tlearn: 0.1644755\ttotal: 55.7s\tremaining: 56.6s\n",
      "496:\tlearn: 0.1644183\ttotal: 55.8s\tremaining: 56.5s\n",
      "497:\tlearn: 0.1643566\ttotal: 55.9s\tremaining: 56.3s\n",
      "498:\tlearn: 0.1642748\ttotal: 56s\tremaining: 56.2s\n",
      "499:\tlearn: 0.1641778\ttotal: 56.1s\tremaining: 56.1s\n",
      "500:\tlearn: 0.1641119\ttotal: 56.2s\tremaining: 56s\n",
      "501:\tlearn: 0.1640505\ttotal: 56.3s\tremaining: 55.8s\n",
      "502:\tlearn: 0.1639902\ttotal: 56.4s\tremaining: 55.7s\n",
      "503:\tlearn: 0.1639137\ttotal: 56.5s\tremaining: 55.6s\n",
      "504:\tlearn: 0.1638755\ttotal: 56.6s\tremaining: 55.5s\n",
      "505:\tlearn: 0.1638282\ttotal: 56.7s\tremaining: 55.4s\n",
      "506:\tlearn: 0.1637934\ttotal: 56.8s\tremaining: 55.2s\n",
      "507:\tlearn: 0.1637137\ttotal: 56.9s\tremaining: 55.1s\n",
      "508:\tlearn: 0.1636593\ttotal: 57s\tremaining: 55s\n",
      "509:\tlearn: 0.1636108\ttotal: 57.1s\tremaining: 54.9s\n",
      "510:\tlearn: 0.1635660\ttotal: 57.2s\tremaining: 54.8s\n",
      "511:\tlearn: 0.1635116\ttotal: 57.3s\tremaining: 54.6s\n",
      "512:\tlearn: 0.1634609\ttotal: 57.4s\tremaining: 54.5s\n",
      "513:\tlearn: 0.1633967\ttotal: 57.5s\tremaining: 54.4s\n",
      "514:\tlearn: 0.1633611\ttotal: 57.6s\tremaining: 54.3s\n",
      "515:\tlearn: 0.1633034\ttotal: 57.7s\tremaining: 54.1s\n",
      "516:\tlearn: 0.1631698\ttotal: 57.9s\tremaining: 54s\n",
      "517:\tlearn: 0.1631233\ttotal: 58s\tremaining: 53.9s\n",
      "518:\tlearn: 0.1630664\ttotal: 58s\tremaining: 53.8s\n",
      "519:\tlearn: 0.1630266\ttotal: 58.1s\tremaining: 53.7s\n",
      "520:\tlearn: 0.1629934\ttotal: 58.2s\tremaining: 53.5s\n",
      "521:\tlearn: 0.1629526\ttotal: 58.3s\tremaining: 53.4s\n",
      "522:\tlearn: 0.1629054\ttotal: 58.4s\tremaining: 53.3s\n",
      "523:\tlearn: 0.1628522\ttotal: 58.5s\tremaining: 53.2s\n",
      "524:\tlearn: 0.1628071\ttotal: 58.6s\tremaining: 53.1s\n",
      "525:\tlearn: 0.1627766\ttotal: 58.7s\tremaining: 52.9s\n",
      "526:\tlearn: 0.1627019\ttotal: 58.8s\tremaining: 52.8s\n",
      "527:\tlearn: 0.1626319\ttotal: 58.9s\tremaining: 52.7s\n",
      "528:\tlearn: 0.1625855\ttotal: 59s\tremaining: 52.6s\n",
      "529:\tlearn: 0.1625115\ttotal: 59.1s\tremaining: 52.4s\n",
      "530:\tlearn: 0.1624468\ttotal: 59.2s\tremaining: 52.3s\n",
      "531:\tlearn: 0.1624028\ttotal: 59.3s\tremaining: 52.2s\n",
      "532:\tlearn: 0.1623377\ttotal: 59.5s\tremaining: 52.1s\n",
      "533:\tlearn: 0.1623046\ttotal: 59.6s\tremaining: 52s\n",
      "534:\tlearn: 0.1622514\ttotal: 59.7s\tremaining: 51.8s\n",
      "535:\tlearn: 0.1621847\ttotal: 59.8s\tremaining: 51.7s\n",
      "536:\tlearn: 0.1621450\ttotal: 59.9s\tremaining: 51.6s\n",
      "537:\tlearn: 0.1621013\ttotal: 60s\tremaining: 51.5s\n",
      "538:\tlearn: 0.1620553\ttotal: 1m\tremaining: 51.4s\n",
      "539:\tlearn: 0.1620101\ttotal: 1m\tremaining: 51.2s\n",
      "540:\tlearn: 0.1619628\ttotal: 1m\tremaining: 51.1s\n",
      "541:\tlearn: 0.1618240\ttotal: 1m\tremaining: 51s\n",
      "542:\tlearn: 0.1617716\ttotal: 1m\tremaining: 50.9s\n",
      "543:\tlearn: 0.1617229\ttotal: 1m\tremaining: 50.8s\n",
      "544:\tlearn: 0.1616839\ttotal: 1m\tremaining: 50.6s\n",
      "545:\tlearn: 0.1616354\ttotal: 1m\tremaining: 50.5s\n",
      "546:\tlearn: 0.1615923\ttotal: 1m\tremaining: 50.4s\n",
      "547:\tlearn: 0.1615280\ttotal: 1m\tremaining: 50.3s\n",
      "548:\tlearn: 0.1614350\ttotal: 1m 1s\tremaining: 50.2s\n",
      "549:\tlearn: 0.1613974\ttotal: 1m 1s\tremaining: 50.1s\n",
      "550:\tlearn: 0.1613659\ttotal: 1m 1s\tremaining: 49.9s\n",
      "551:\tlearn: 0.1612970\ttotal: 1m 1s\tremaining: 49.8s\n",
      "552:\tlearn: 0.1612696\ttotal: 1m 1s\tremaining: 49.7s\n",
      "553:\tlearn: 0.1612399\ttotal: 1m 1s\tremaining: 49.6s\n",
      "554:\tlearn: 0.1611771\ttotal: 1m 1s\tremaining: 49.5s\n",
      "555:\tlearn: 0.1610641\ttotal: 1m 1s\tremaining: 49.4s\n",
      "556:\tlearn: 0.1609477\ttotal: 1m 1s\tremaining: 49.3s\n",
      "557:\tlearn: 0.1609023\ttotal: 1m 2s\tremaining: 49.1s\n",
      "558:\tlearn: 0.1607574\ttotal: 1m 2s\tremaining: 49s\n",
      "559:\tlearn: 0.1606849\ttotal: 1m 2s\tremaining: 48.9s\n",
      "560:\tlearn: 0.1606435\ttotal: 1m 2s\tremaining: 48.8s\n",
      "561:\tlearn: 0.1606000\ttotal: 1m 2s\tremaining: 48.7s\n",
      "562:\tlearn: 0.1605444\ttotal: 1m 2s\tremaining: 48.6s\n",
      "563:\tlearn: 0.1604688\ttotal: 1m 2s\tremaining: 48.5s\n",
      "564:\tlearn: 0.1604411\ttotal: 1m 2s\tremaining: 48.3s\n",
      "565:\tlearn: 0.1604014\ttotal: 1m 2s\tremaining: 48.2s\n",
      "566:\tlearn: 0.1603409\ttotal: 1m 2s\tremaining: 48.1s\n",
      "567:\tlearn: 0.1602876\ttotal: 1m 3s\tremaining: 48s\n",
      "568:\tlearn: 0.1602140\ttotal: 1m 3s\tremaining: 47.9s\n",
      "569:\tlearn: 0.1601730\ttotal: 1m 3s\tremaining: 47.7s\n",
      "570:\tlearn: 0.1601177\ttotal: 1m 3s\tremaining: 47.6s\n",
      "571:\tlearn: 0.1600704\ttotal: 1m 3s\tremaining: 47.5s\n",
      "572:\tlearn: 0.1600122\ttotal: 1m 3s\tremaining: 47.4s\n",
      "573:\tlearn: 0.1599673\ttotal: 1m 3s\tremaining: 47.3s\n",
      "574:\tlearn: 0.1599173\ttotal: 1m 3s\tremaining: 47.2s\n",
      "575:\tlearn: 0.1598648\ttotal: 1m 3s\tremaining: 47s\n",
      "576:\tlearn: 0.1598236\ttotal: 1m 4s\tremaining: 46.9s\n",
      "577:\tlearn: 0.1597987\ttotal: 1m 4s\tremaining: 46.8s\n",
      "578:\tlearn: 0.1597508\ttotal: 1m 4s\tremaining: 46.7s\n",
      "579:\tlearn: 0.1596888\ttotal: 1m 4s\tremaining: 46.6s\n",
      "580:\tlearn: 0.1596523\ttotal: 1m 4s\tremaining: 46.4s\n",
      "581:\tlearn: 0.1595989\ttotal: 1m 4s\tremaining: 46.3s\n",
      "582:\tlearn: 0.1595502\ttotal: 1m 4s\tremaining: 46.2s\n",
      "583:\tlearn: 0.1594520\ttotal: 1m 4s\tremaining: 46.1s\n",
      "584:\tlearn: 0.1594225\ttotal: 1m 4s\tremaining: 46s\n",
      "585:\tlearn: 0.1593579\ttotal: 1m 4s\tremaining: 45.9s\n",
      "586:\tlearn: 0.1593150\ttotal: 1m 5s\tremaining: 45.7s\n",
      "587:\tlearn: 0.1592397\ttotal: 1m 5s\tremaining: 45.6s\n",
      "588:\tlearn: 0.1591945\ttotal: 1m 5s\tremaining: 45.5s\n",
      "589:\tlearn: 0.1591345\ttotal: 1m 5s\tremaining: 45.4s\n",
      "590:\tlearn: 0.1590661\ttotal: 1m 5s\tremaining: 45.3s\n",
      "591:\tlearn: 0.1590163\ttotal: 1m 5s\tremaining: 45.2s\n",
      "592:\tlearn: 0.1589670\ttotal: 1m 5s\tremaining: 45s\n",
      "593:\tlearn: 0.1588996\ttotal: 1m 5s\tremaining: 44.9s\n",
      "594:\tlearn: 0.1588293\ttotal: 1m 5s\tremaining: 44.8s\n",
      "595:\tlearn: 0.1587902\ttotal: 1m 5s\tremaining: 44.7s\n",
      "596:\tlearn: 0.1587500\ttotal: 1m 6s\tremaining: 44.6s\n",
      "597:\tlearn: 0.1586745\ttotal: 1m 6s\tremaining: 44.5s\n",
      "598:\tlearn: 0.1586227\ttotal: 1m 6s\tremaining: 44.4s\n",
      "599:\tlearn: 0.1585652\ttotal: 1m 6s\tremaining: 44.2s\n",
      "600:\tlearn: 0.1585223\ttotal: 1m 6s\tremaining: 44.1s\n",
      "601:\tlearn: 0.1584406\ttotal: 1m 6s\tremaining: 44s\n",
      "602:\tlearn: 0.1583683\ttotal: 1m 6s\tremaining: 43.9s\n",
      "603:\tlearn: 0.1583490\ttotal: 1m 6s\tremaining: 43.8s\n",
      "604:\tlearn: 0.1582994\ttotal: 1m 6s\tremaining: 43.7s\n",
      "605:\tlearn: 0.1582605\ttotal: 1m 6s\tremaining: 43.5s\n",
      "606:\tlearn: 0.1582191\ttotal: 1m 7s\tremaining: 43.4s\n",
      "607:\tlearn: 0.1581888\ttotal: 1m 7s\tremaining: 43.3s\n",
      "608:\tlearn: 0.1581446\ttotal: 1m 7s\tremaining: 43.2s\n",
      "609:\tlearn: 0.1581061\ttotal: 1m 7s\tremaining: 43.1s\n",
      "610:\tlearn: 0.1580686\ttotal: 1m 7s\tremaining: 43s\n",
      "611:\tlearn: 0.1580345\ttotal: 1m 7s\tremaining: 42.9s\n",
      "612:\tlearn: 0.1580002\ttotal: 1m 7s\tremaining: 42.7s\n",
      "613:\tlearn: 0.1579717\ttotal: 1m 7s\tremaining: 42.6s\n",
      "614:\tlearn: 0.1579501\ttotal: 1m 7s\tremaining: 42.5s\n",
      "615:\tlearn: 0.1579164\ttotal: 1m 7s\tremaining: 42.4s\n",
      "616:\tlearn: 0.1578781\ttotal: 1m 8s\tremaining: 42.3s\n",
      "617:\tlearn: 0.1578376\ttotal: 1m 8s\tremaining: 42.1s\n",
      "618:\tlearn: 0.1577730\ttotal: 1m 8s\tremaining: 42s\n",
      "619:\tlearn: 0.1577329\ttotal: 1m 8s\tremaining: 41.9s\n",
      "620:\tlearn: 0.1576631\ttotal: 1m 8s\tremaining: 41.8s\n",
      "621:\tlearn: 0.1576166\ttotal: 1m 8s\tremaining: 41.7s\n",
      "622:\tlearn: 0.1575491\ttotal: 1m 8s\tremaining: 41.6s\n",
      "623:\tlearn: 0.1575159\ttotal: 1m 8s\tremaining: 41.5s\n",
      "624:\tlearn: 0.1574810\ttotal: 1m 8s\tremaining: 41.4s\n",
      "625:\tlearn: 0.1574113\ttotal: 1m 9s\tremaining: 41.3s\n",
      "626:\tlearn: 0.1573610\ttotal: 1m 9s\tremaining: 41.1s\n",
      "627:\tlearn: 0.1573002\ttotal: 1m 9s\tremaining: 41s\n",
      "628:\tlearn: 0.1572587\ttotal: 1m 9s\tremaining: 40.9s\n",
      "629:\tlearn: 0.1571984\ttotal: 1m 9s\tremaining: 40.8s\n",
      "630:\tlearn: 0.1571554\ttotal: 1m 9s\tremaining: 40.7s\n",
      "631:\tlearn: 0.1571049\ttotal: 1m 9s\tremaining: 40.6s\n",
      "632:\tlearn: 0.1570653\ttotal: 1m 9s\tremaining: 40.5s\n",
      "633:\tlearn: 0.1570209\ttotal: 1m 9s\tremaining: 40.3s\n",
      "634:\tlearn: 0.1569791\ttotal: 1m 9s\tremaining: 40.2s\n",
      "635:\tlearn: 0.1569451\ttotal: 1m 10s\tremaining: 40.1s\n",
      "636:\tlearn: 0.1569086\ttotal: 1m 10s\tremaining: 40s\n",
      "637:\tlearn: 0.1568546\ttotal: 1m 10s\tremaining: 39.9s\n",
      "638:\tlearn: 0.1568074\ttotal: 1m 10s\tremaining: 39.8s\n",
      "639:\tlearn: 0.1567289\ttotal: 1m 10s\tremaining: 39.7s\n",
      "640:\tlearn: 0.1566518\ttotal: 1m 10s\tremaining: 39.5s\n",
      "641:\tlearn: 0.1565938\ttotal: 1m 10s\tremaining: 39.4s\n",
      "642:\tlearn: 0.1565080\ttotal: 1m 10s\tremaining: 39.3s\n",
      "643:\tlearn: 0.1564770\ttotal: 1m 10s\tremaining: 39.2s\n",
      "644:\tlearn: 0.1563873\ttotal: 1m 11s\tremaining: 39.1s\n",
      "645:\tlearn: 0.1563437\ttotal: 1m 11s\tremaining: 39s\n",
      "646:\tlearn: 0.1563034\ttotal: 1m 11s\tremaining: 38.9s\n",
      "647:\tlearn: 0.1562685\ttotal: 1m 11s\tremaining: 38.8s\n",
      "648:\tlearn: 0.1562383\ttotal: 1m 11s\tremaining: 38.6s\n",
      "649:\tlearn: 0.1561715\ttotal: 1m 11s\tremaining: 38.5s\n",
      "650:\tlearn: 0.1561181\ttotal: 1m 11s\tremaining: 38.4s\n",
      "651:\tlearn: 0.1560938\ttotal: 1m 11s\tremaining: 38.3s\n",
      "652:\tlearn: 0.1560579\ttotal: 1m 11s\tremaining: 38.2s\n",
      "653:\tlearn: 0.1560124\ttotal: 1m 11s\tremaining: 38.1s\n",
      "654:\tlearn: 0.1558818\ttotal: 1m 12s\tremaining: 38s\n",
      "655:\tlearn: 0.1558586\ttotal: 1m 12s\tremaining: 37.8s\n",
      "656:\tlearn: 0.1558083\ttotal: 1m 12s\tremaining: 37.7s\n",
      "657:\tlearn: 0.1557143\ttotal: 1m 12s\tremaining: 37.6s\n",
      "658:\tlearn: 0.1556846\ttotal: 1m 12s\tremaining: 37.5s\n",
      "659:\tlearn: 0.1556407\ttotal: 1m 12s\tremaining: 37.4s\n",
      "660:\tlearn: 0.1555876\ttotal: 1m 12s\tremaining: 37.3s\n",
      "661:\tlearn: 0.1555397\ttotal: 1m 12s\tremaining: 37.2s\n",
      "662:\tlearn: 0.1555174\ttotal: 1m 12s\tremaining: 37s\n",
      "663:\tlearn: 0.1554766\ttotal: 1m 12s\tremaining: 36.9s\n",
      "664:\tlearn: 0.1554414\ttotal: 1m 13s\tremaining: 36.8s\n",
      "665:\tlearn: 0.1554053\ttotal: 1m 13s\tremaining: 36.7s\n",
      "666:\tlearn: 0.1553687\ttotal: 1m 13s\tremaining: 36.6s\n",
      "667:\tlearn: 0.1553216\ttotal: 1m 13s\tremaining: 36.5s\n",
      "668:\tlearn: 0.1552780\ttotal: 1m 13s\tremaining: 36.4s\n",
      "669:\tlearn: 0.1552433\ttotal: 1m 13s\tremaining: 36.3s\n",
      "670:\tlearn: 0.1552036\ttotal: 1m 13s\tremaining: 36.1s\n",
      "671:\tlearn: 0.1551641\ttotal: 1m 13s\tremaining: 36s\n",
      "672:\tlearn: 0.1551334\ttotal: 1m 13s\tremaining: 35.9s\n",
      "673:\tlearn: 0.1550491\ttotal: 1m 14s\tremaining: 35.8s\n",
      "674:\tlearn: 0.1550180\ttotal: 1m 14s\tremaining: 35.7s\n",
      "675:\tlearn: 0.1549832\ttotal: 1m 14s\tremaining: 35.6s\n",
      "676:\tlearn: 0.1549524\ttotal: 1m 14s\tremaining: 35.5s\n",
      "677:\tlearn: 0.1549067\ttotal: 1m 14s\tremaining: 35.4s\n",
      "678:\tlearn: 0.1548791\ttotal: 1m 14s\tremaining: 35.2s\n",
      "679:\tlearn: 0.1548366\ttotal: 1m 14s\tremaining: 35.1s\n",
      "680:\tlearn: 0.1548233\ttotal: 1m 14s\tremaining: 35s\n",
      "681:\tlearn: 0.1547888\ttotal: 1m 14s\tremaining: 34.9s\n",
      "682:\tlearn: 0.1547111\ttotal: 1m 14s\tremaining: 34.8s\n",
      "683:\tlearn: 0.1546484\ttotal: 1m 15s\tremaining: 34.7s\n",
      "684:\tlearn: 0.1546253\ttotal: 1m 15s\tremaining: 34.6s\n",
      "685:\tlearn: 0.1545835\ttotal: 1m 15s\tremaining: 34.4s\n",
      "686:\tlearn: 0.1545208\ttotal: 1m 15s\tremaining: 34.3s\n",
      "687:\tlearn: 0.1544802\ttotal: 1m 15s\tremaining: 34.2s\n",
      "688:\tlearn: 0.1544579\ttotal: 1m 15s\tremaining: 34.1s\n",
      "689:\tlearn: 0.1544267\ttotal: 1m 15s\tremaining: 34s\n",
      "690:\tlearn: 0.1544036\ttotal: 1m 15s\tremaining: 33.9s\n",
      "691:\tlearn: 0.1543385\ttotal: 1m 15s\tremaining: 33.8s\n",
      "692:\tlearn: 0.1542976\ttotal: 1m 15s\tremaining: 33.7s\n",
      "693:\tlearn: 0.1542565\ttotal: 1m 16s\tremaining: 33.5s\n",
      "694:\tlearn: 0.1542162\ttotal: 1m 16s\tremaining: 33.4s\n",
      "695:\tlearn: 0.1541890\ttotal: 1m 16s\tremaining: 33.3s\n",
      "696:\tlearn: 0.1541585\ttotal: 1m 16s\tremaining: 33.2s\n",
      "697:\tlearn: 0.1541259\ttotal: 1m 16s\tremaining: 33.1s\n",
      "698:\tlearn: 0.1540900\ttotal: 1m 16s\tremaining: 33s\n",
      "699:\tlearn: 0.1540355\ttotal: 1m 16s\tremaining: 32.9s\n",
      "700:\tlearn: 0.1540061\ttotal: 1m 16s\tremaining: 32.7s\n",
      "701:\tlearn: 0.1539709\ttotal: 1m 16s\tremaining: 32.6s\n",
      "702:\tlearn: 0.1538995\ttotal: 1m 16s\tremaining: 32.5s\n",
      "703:\tlearn: 0.1538603\ttotal: 1m 17s\tremaining: 32.4s\n",
      "704:\tlearn: 0.1538161\ttotal: 1m 17s\tremaining: 32.3s\n",
      "705:\tlearn: 0.1537777\ttotal: 1m 17s\tremaining: 32.2s\n",
      "706:\tlearn: 0.1537378\ttotal: 1m 17s\tremaining: 32.1s\n",
      "707:\tlearn: 0.1537172\ttotal: 1m 17s\tremaining: 31.9s\n",
      "708:\tlearn: 0.1536906\ttotal: 1m 17s\tremaining: 31.8s\n",
      "709:\tlearn: 0.1536521\ttotal: 1m 17s\tremaining: 31.7s\n",
      "710:\tlearn: 0.1536309\ttotal: 1m 17s\tremaining: 31.6s\n",
      "711:\tlearn: 0.1535808\ttotal: 1m 17s\tremaining: 31.5s\n",
      "712:\tlearn: 0.1535418\ttotal: 1m 17s\tremaining: 31.4s\n",
      "713:\tlearn: 0.1535137\ttotal: 1m 18s\tremaining: 31.3s\n",
      "714:\tlearn: 0.1534901\ttotal: 1m 18s\tremaining: 31.2s\n",
      "715:\tlearn: 0.1534328\ttotal: 1m 18s\tremaining: 31s\n",
      "716:\tlearn: 0.1534069\ttotal: 1m 18s\tremaining: 30.9s\n",
      "717:\tlearn: 0.1533702\ttotal: 1m 18s\tremaining: 30.8s\n",
      "718:\tlearn: 0.1533353\ttotal: 1m 18s\tremaining: 30.7s\n",
      "719:\tlearn: 0.1532587\ttotal: 1m 18s\tremaining: 30.6s\n",
      "720:\tlearn: 0.1532254\ttotal: 1m 18s\tremaining: 30.5s\n",
      "721:\tlearn: 0.1531955\ttotal: 1m 18s\tremaining: 30.4s\n",
      "722:\tlearn: 0.1531680\ttotal: 1m 18s\tremaining: 30.3s\n",
      "723:\tlearn: 0.1531218\ttotal: 1m 19s\tremaining: 30.1s\n",
      "724:\tlearn: 0.1530893\ttotal: 1m 19s\tremaining: 30s\n",
      "725:\tlearn: 0.1530706\ttotal: 1m 19s\tremaining: 29.9s\n",
      "726:\tlearn: 0.1530398\ttotal: 1m 19s\tremaining: 29.8s\n",
      "727:\tlearn: 0.1529642\ttotal: 1m 19s\tremaining: 29.7s\n",
      "728:\tlearn: 0.1529270\ttotal: 1m 19s\tremaining: 29.6s\n",
      "729:\tlearn: 0.1528705\ttotal: 1m 19s\tremaining: 29.5s\n",
      "730:\tlearn: 0.1528385\ttotal: 1m 19s\tremaining: 29.4s\n",
      "731:\tlearn: 0.1528140\ttotal: 1m 19s\tremaining: 29.3s\n",
      "732:\tlearn: 0.1527828\ttotal: 1m 19s\tremaining: 29.1s\n",
      "733:\tlearn: 0.1527470\ttotal: 1m 20s\tremaining: 29s\n",
      "734:\tlearn: 0.1527148\ttotal: 1m 20s\tremaining: 28.9s\n",
      "735:\tlearn: 0.1526911\ttotal: 1m 20s\tremaining: 28.8s\n",
      "736:\tlearn: 0.1526565\ttotal: 1m 20s\tremaining: 28.7s\n",
      "737:\tlearn: 0.1525905\ttotal: 1m 20s\tremaining: 28.6s\n",
      "738:\tlearn: 0.1525404\ttotal: 1m 20s\tremaining: 28.5s\n",
      "739:\tlearn: 0.1525066\ttotal: 1m 20s\tremaining: 28.4s\n",
      "740:\tlearn: 0.1524396\ttotal: 1m 20s\tremaining: 28.3s\n",
      "741:\tlearn: 0.1524223\ttotal: 1m 20s\tremaining: 28.1s\n",
      "742:\tlearn: 0.1523852\ttotal: 1m 21s\tremaining: 28s\n",
      "743:\tlearn: 0.1523407\ttotal: 1m 21s\tremaining: 27.9s\n",
      "744:\tlearn: 0.1523153\ttotal: 1m 21s\tremaining: 27.8s\n",
      "745:\tlearn: 0.1522659\ttotal: 1m 21s\tremaining: 27.7s\n",
      "746:\tlearn: 0.1522382\ttotal: 1m 21s\tremaining: 27.6s\n",
      "747:\tlearn: 0.1522216\ttotal: 1m 21s\tremaining: 27.5s\n",
      "748:\tlearn: 0.1521821\ttotal: 1m 21s\tremaining: 27.4s\n",
      "749:\tlearn: 0.1521552\ttotal: 1m 21s\tremaining: 27.2s\n",
      "750:\tlearn: 0.1521026\ttotal: 1m 21s\tremaining: 27.1s\n",
      "751:\tlearn: 0.1520554\ttotal: 1m 21s\tremaining: 27s\n",
      "752:\tlearn: 0.1520283\ttotal: 1m 22s\tremaining: 26.9s\n",
      "753:\tlearn: 0.1519947\ttotal: 1m 22s\tremaining: 26.8s\n",
      "754:\tlearn: 0.1519726\ttotal: 1m 22s\tremaining: 26.7s\n",
      "755:\tlearn: 0.1519429\ttotal: 1m 22s\tremaining: 26.6s\n",
      "756:\tlearn: 0.1519095\ttotal: 1m 22s\tremaining: 26.5s\n",
      "757:\tlearn: 0.1518430\ttotal: 1m 22s\tremaining: 26.4s\n",
      "758:\tlearn: 0.1517974\ttotal: 1m 22s\tremaining: 26.2s\n",
      "759:\tlearn: 0.1517673\ttotal: 1m 22s\tremaining: 26.1s\n",
      "760:\tlearn: 0.1517462\ttotal: 1m 22s\tremaining: 26s\n",
      "761:\tlearn: 0.1516872\ttotal: 1m 22s\tremaining: 25.9s\n",
      "762:\tlearn: 0.1516659\ttotal: 1m 23s\tremaining: 25.8s\n",
      "763:\tlearn: 0.1516351\ttotal: 1m 23s\tremaining: 25.7s\n",
      "764:\tlearn: 0.1515563\ttotal: 1m 23s\tremaining: 25.6s\n",
      "765:\tlearn: 0.1515327\ttotal: 1m 23s\tremaining: 25.5s\n",
      "766:\tlearn: 0.1515149\ttotal: 1m 23s\tremaining: 25.4s\n",
      "767:\tlearn: 0.1514675\ttotal: 1m 23s\tremaining: 25.2s\n",
      "768:\tlearn: 0.1514535\ttotal: 1m 23s\tremaining: 25.1s\n",
      "769:\tlearn: 0.1514210\ttotal: 1m 23s\tremaining: 25s\n",
      "770:\tlearn: 0.1513717\ttotal: 1m 23s\tremaining: 24.9s\n",
      "771:\tlearn: 0.1513432\ttotal: 1m 24s\tremaining: 24.8s\n",
      "772:\tlearn: 0.1512636\ttotal: 1m 24s\tremaining: 24.7s\n",
      "773:\tlearn: 0.1512296\ttotal: 1m 24s\tremaining: 24.6s\n",
      "774:\tlearn: 0.1511655\ttotal: 1m 24s\tremaining: 24.5s\n",
      "775:\tlearn: 0.1511447\ttotal: 1m 24s\tremaining: 24.4s\n",
      "776:\tlearn: 0.1511112\ttotal: 1m 24s\tremaining: 24.3s\n",
      "777:\tlearn: 0.1510876\ttotal: 1m 24s\tremaining: 24.1s\n",
      "778:\tlearn: 0.1510446\ttotal: 1m 24s\tremaining: 24s\n",
      "779:\tlearn: 0.1510229\ttotal: 1m 24s\tremaining: 23.9s\n",
      "780:\tlearn: 0.1510001\ttotal: 1m 24s\tremaining: 23.8s\n",
      "781:\tlearn: 0.1509852\ttotal: 1m 25s\tremaining: 23.7s\n",
      "782:\tlearn: 0.1509417\ttotal: 1m 25s\tremaining: 23.6s\n",
      "783:\tlearn: 0.1509118\ttotal: 1m 25s\tremaining: 23.5s\n",
      "784:\tlearn: 0.1508837\ttotal: 1m 25s\tremaining: 23.4s\n",
      "785:\tlearn: 0.1508534\ttotal: 1m 25s\tremaining: 23.3s\n",
      "786:\tlearn: 0.1508232\ttotal: 1m 25s\tremaining: 23.1s\n",
      "787:\tlearn: 0.1507768\ttotal: 1m 25s\tremaining: 23s\n",
      "788:\tlearn: 0.1507604\ttotal: 1m 25s\tremaining: 22.9s\n",
      "789:\tlearn: 0.1507345\ttotal: 1m 25s\tremaining: 22.8s\n",
      "790:\tlearn: 0.1506962\ttotal: 1m 25s\tremaining: 22.7s\n",
      "791:\tlearn: 0.1506566\ttotal: 1m 26s\tremaining: 22.6s\n",
      "792:\tlearn: 0.1506246\ttotal: 1m 26s\tremaining: 22.5s\n",
      "793:\tlearn: 0.1505878\ttotal: 1m 26s\tremaining: 22.4s\n",
      "794:\tlearn: 0.1505494\ttotal: 1m 26s\tremaining: 22.3s\n",
      "795:\tlearn: 0.1505271\ttotal: 1m 26s\tremaining: 22.1s\n",
      "796:\tlearn: 0.1504884\ttotal: 1m 26s\tremaining: 22s\n",
      "797:\tlearn: 0.1504644\ttotal: 1m 26s\tremaining: 21.9s\n",
      "798:\tlearn: 0.1504138\ttotal: 1m 26s\tremaining: 21.8s\n",
      "799:\tlearn: 0.1503718\ttotal: 1m 26s\tremaining: 21.7s\n",
      "800:\tlearn: 0.1503346\ttotal: 1m 26s\tremaining: 21.6s\n",
      "801:\tlearn: 0.1502917\ttotal: 1m 27s\tremaining: 21.5s\n",
      "802:\tlearn: 0.1502635\ttotal: 1m 27s\tremaining: 21.4s\n",
      "803:\tlearn: 0.1502370\ttotal: 1m 27s\tremaining: 21.3s\n",
      "804:\tlearn: 0.1502182\ttotal: 1m 27s\tremaining: 21.2s\n",
      "805:\tlearn: 0.1502021\ttotal: 1m 27s\tremaining: 21s\n",
      "806:\tlearn: 0.1501729\ttotal: 1m 27s\tremaining: 20.9s\n",
      "807:\tlearn: 0.1501084\ttotal: 1m 27s\tremaining: 20.8s\n",
      "808:\tlearn: 0.1500841\ttotal: 1m 27s\tremaining: 20.7s\n",
      "809:\tlearn: 0.1500603\ttotal: 1m 27s\tremaining: 20.6s\n",
      "810:\tlearn: 0.1500446\ttotal: 1m 27s\tremaining: 20.5s\n",
      "811:\tlearn: 0.1500266\ttotal: 1m 28s\tremaining: 20.4s\n",
      "812:\tlearn: 0.1500035\ttotal: 1m 28s\tremaining: 20.3s\n",
      "813:\tlearn: 0.1499637\ttotal: 1m 28s\tremaining: 20.2s\n",
      "814:\tlearn: 0.1499458\ttotal: 1m 28s\tremaining: 20.1s\n",
      "815:\tlearn: 0.1498835\ttotal: 1m 28s\tremaining: 19.9s\n",
      "816:\tlearn: 0.1498552\ttotal: 1m 28s\tremaining: 19.8s\n",
      "817:\tlearn: 0.1498349\ttotal: 1m 28s\tremaining: 19.7s\n",
      "818:\tlearn: 0.1498127\ttotal: 1m 28s\tremaining: 19.6s\n",
      "819:\tlearn: 0.1497807\ttotal: 1m 28s\tremaining: 19.5s\n",
      "820:\tlearn: 0.1497670\ttotal: 1m 28s\tremaining: 19.4s\n",
      "821:\tlearn: 0.1497178\ttotal: 1m 29s\tremaining: 19.3s\n",
      "822:\tlearn: 0.1497012\ttotal: 1m 29s\tremaining: 19.2s\n",
      "823:\tlearn: 0.1496647\ttotal: 1m 29s\tremaining: 19.1s\n",
      "824:\tlearn: 0.1496467\ttotal: 1m 29s\tremaining: 19s\n",
      "825:\tlearn: 0.1495900\ttotal: 1m 29s\tremaining: 18.8s\n",
      "826:\tlearn: 0.1495637\ttotal: 1m 29s\tremaining: 18.7s\n",
      "827:\tlearn: 0.1495451\ttotal: 1m 29s\tremaining: 18.6s\n",
      "828:\tlearn: 0.1495282\ttotal: 1m 29s\tremaining: 18.5s\n",
      "829:\tlearn: 0.1494957\ttotal: 1m 29s\tremaining: 18.4s\n",
      "830:\tlearn: 0.1494697\ttotal: 1m 30s\tremaining: 18.3s\n",
      "831:\tlearn: 0.1494492\ttotal: 1m 30s\tremaining: 18.2s\n",
      "832:\tlearn: 0.1494026\ttotal: 1m 30s\tremaining: 18.1s\n",
      "833:\tlearn: 0.1493829\ttotal: 1m 30s\tremaining: 18s\n",
      "834:\tlearn: 0.1493505\ttotal: 1m 30s\tremaining: 17.9s\n",
      "835:\tlearn: 0.1493231\ttotal: 1m 30s\tremaining: 17.8s\n",
      "836:\tlearn: 0.1492235\ttotal: 1m 30s\tremaining: 17.6s\n",
      "837:\tlearn: 0.1492044\ttotal: 1m 30s\tremaining: 17.5s\n",
      "838:\tlearn: 0.1491927\ttotal: 1m 30s\tremaining: 17.4s\n",
      "839:\tlearn: 0.1491714\ttotal: 1m 30s\tremaining: 17.3s\n",
      "840:\tlearn: 0.1491525\ttotal: 1m 31s\tremaining: 17.2s\n",
      "841:\tlearn: 0.1491341\ttotal: 1m 31s\tremaining: 17.1s\n",
      "842:\tlearn: 0.1491123\ttotal: 1m 31s\tremaining: 17s\n",
      "843:\tlearn: 0.1490918\ttotal: 1m 31s\tremaining: 16.9s\n",
      "844:\tlearn: 0.1490601\ttotal: 1m 31s\tremaining: 16.8s\n",
      "845:\tlearn: 0.1490365\ttotal: 1m 31s\tremaining: 16.7s\n",
      "846:\tlearn: 0.1490097\ttotal: 1m 31s\tremaining: 16.5s\n",
      "847:\tlearn: 0.1489691\ttotal: 1m 31s\tremaining: 16.4s\n",
      "848:\tlearn: 0.1489349\ttotal: 1m 31s\tremaining: 16.3s\n",
      "849:\tlearn: 0.1489073\ttotal: 1m 31s\tremaining: 16.2s\n",
      "850:\tlearn: 0.1488872\ttotal: 1m 32s\tremaining: 16.1s\n",
      "851:\tlearn: 0.1488723\ttotal: 1m 32s\tremaining: 16s\n",
      "852:\tlearn: 0.1488466\ttotal: 1m 32s\tremaining: 15.9s\n",
      "853:\tlearn: 0.1488202\ttotal: 1m 32s\tremaining: 15.8s\n",
      "854:\tlearn: 0.1487869\ttotal: 1m 32s\tremaining: 15.7s\n",
      "855:\tlearn: 0.1487666\ttotal: 1m 32s\tremaining: 15.6s\n",
      "856:\tlearn: 0.1487441\ttotal: 1m 32s\tremaining: 15.5s\n",
      "857:\tlearn: 0.1487197\ttotal: 1m 32s\tremaining: 15.3s\n",
      "858:\tlearn: 0.1486965\ttotal: 1m 32s\tremaining: 15.2s\n",
      "859:\tlearn: 0.1486778\ttotal: 1m 32s\tremaining: 15.1s\n",
      "860:\tlearn: 0.1486483\ttotal: 1m 32s\tremaining: 15s\n",
      "861:\tlearn: 0.1486006\ttotal: 1m 33s\tremaining: 14.9s\n",
      "862:\tlearn: 0.1485737\ttotal: 1m 33s\tremaining: 14.8s\n",
      "863:\tlearn: 0.1484920\ttotal: 1m 33s\tremaining: 14.7s\n",
      "864:\tlearn: 0.1484641\ttotal: 1m 33s\tremaining: 14.6s\n",
      "865:\tlearn: 0.1484277\ttotal: 1m 33s\tremaining: 14.5s\n",
      "866:\tlearn: 0.1484084\ttotal: 1m 33s\tremaining: 14.4s\n",
      "867:\tlearn: 0.1483898\ttotal: 1m 33s\tremaining: 14.3s\n",
      "868:\tlearn: 0.1483617\ttotal: 1m 33s\tremaining: 14.1s\n",
      "869:\tlearn: 0.1483469\ttotal: 1m 33s\tremaining: 14s\n",
      "870:\tlearn: 0.1483178\ttotal: 1m 34s\tremaining: 13.9s\n",
      "871:\tlearn: 0.1483033\ttotal: 1m 34s\tremaining: 13.8s\n",
      "872:\tlearn: 0.1482531\ttotal: 1m 34s\tremaining: 13.7s\n",
      "873:\tlearn: 0.1482390\ttotal: 1m 34s\tremaining: 13.6s\n",
      "874:\tlearn: 0.1482119\ttotal: 1m 34s\tremaining: 13.5s\n",
      "875:\tlearn: 0.1481918\ttotal: 1m 34s\tremaining: 13.4s\n",
      "876:\tlearn: 0.1481388\ttotal: 1m 34s\tremaining: 13.3s\n",
      "877:\tlearn: 0.1481040\ttotal: 1m 34s\tremaining: 13.2s\n",
      "878:\tlearn: 0.1480736\ttotal: 1m 34s\tremaining: 13.1s\n",
      "879:\tlearn: 0.1480068\ttotal: 1m 34s\tremaining: 12.9s\n",
      "880:\tlearn: 0.1479672\ttotal: 1m 35s\tremaining: 12.8s\n",
      "881:\tlearn: 0.1479353\ttotal: 1m 35s\tremaining: 12.7s\n",
      "882:\tlearn: 0.1478826\ttotal: 1m 35s\tremaining: 12.6s\n",
      "883:\tlearn: 0.1478646\ttotal: 1m 35s\tremaining: 12.5s\n",
      "884:\tlearn: 0.1478248\ttotal: 1m 35s\tremaining: 12.4s\n",
      "885:\tlearn: 0.1478062\ttotal: 1m 35s\tremaining: 12.3s\n",
      "886:\tlearn: 0.1477636\ttotal: 1m 35s\tremaining: 12.2s\n",
      "887:\tlearn: 0.1477421\ttotal: 1m 35s\tremaining: 12.1s\n",
      "888:\tlearn: 0.1477206\ttotal: 1m 35s\tremaining: 12s\n",
      "889:\tlearn: 0.1476995\ttotal: 1m 35s\tremaining: 11.9s\n",
      "890:\tlearn: 0.1476815\ttotal: 1m 36s\tremaining: 11.7s\n",
      "891:\tlearn: 0.1476525\ttotal: 1m 36s\tremaining: 11.6s\n",
      "892:\tlearn: 0.1476287\ttotal: 1m 36s\tremaining: 11.5s\n",
      "893:\tlearn: 0.1475947\ttotal: 1m 36s\tremaining: 11.4s\n",
      "894:\tlearn: 0.1475299\ttotal: 1m 36s\tremaining: 11.3s\n",
      "895:\tlearn: 0.1475090\ttotal: 1m 36s\tremaining: 11.2s\n",
      "896:\tlearn: 0.1474777\ttotal: 1m 36s\tremaining: 11.1s\n",
      "897:\tlearn: 0.1474587\ttotal: 1m 36s\tremaining: 11s\n",
      "898:\tlearn: 0.1474328\ttotal: 1m 36s\tremaining: 10.9s\n",
      "899:\tlearn: 0.1474132\ttotal: 1m 36s\tremaining: 10.8s\n",
      "900:\tlearn: 0.1473914\ttotal: 1m 37s\tremaining: 10.7s\n",
      "901:\tlearn: 0.1473728\ttotal: 1m 37s\tremaining: 10.6s\n",
      "902:\tlearn: 0.1473516\ttotal: 1m 37s\tremaining: 10.4s\n",
      "903:\tlearn: 0.1473099\ttotal: 1m 37s\tremaining: 10.3s\n",
      "904:\tlearn: 0.1472671\ttotal: 1m 37s\tremaining: 10.2s\n",
      "905:\tlearn: 0.1472349\ttotal: 1m 37s\tremaining: 10.1s\n",
      "906:\tlearn: 0.1472123\ttotal: 1m 37s\tremaining: 10s\n",
      "907:\tlearn: 0.1471851\ttotal: 1m 37s\tremaining: 9.91s\n",
      "908:\tlearn: 0.1471726\ttotal: 1m 37s\tremaining: 9.8s\n",
      "909:\tlearn: 0.1471427\ttotal: 1m 37s\tremaining: 9.69s\n",
      "910:\tlearn: 0.1471180\ttotal: 1m 38s\tremaining: 9.58s\n",
      "911:\tlearn: 0.1470993\ttotal: 1m 38s\tremaining: 9.47s\n",
      "912:\tlearn: 0.1470640\ttotal: 1m 38s\tremaining: 9.37s\n",
      "913:\tlearn: 0.1470466\ttotal: 1m 38s\tremaining: 9.26s\n",
      "914:\tlearn: 0.1470288\ttotal: 1m 38s\tremaining: 9.15s\n",
      "915:\tlearn: 0.1470153\ttotal: 1m 38s\tremaining: 9.04s\n",
      "916:\tlearn: 0.1469947\ttotal: 1m 38s\tremaining: 8.93s\n",
      "917:\tlearn: 0.1469687\ttotal: 1m 38s\tremaining: 8.82s\n",
      "918:\tlearn: 0.1469466\ttotal: 1m 38s\tremaining: 8.71s\n",
      "919:\tlearn: 0.1469063\ttotal: 1m 38s\tremaining: 8.61s\n",
      "920:\tlearn: 0.1468779\ttotal: 1m 39s\tremaining: 8.5s\n",
      "921:\tlearn: 0.1468528\ttotal: 1m 39s\tremaining: 8.39s\n",
      "922:\tlearn: 0.1468272\ttotal: 1m 39s\tremaining: 8.28s\n",
      "923:\tlearn: 0.1468071\ttotal: 1m 39s\tremaining: 8.17s\n",
      "924:\tlearn: 0.1467857\ttotal: 1m 39s\tremaining: 8.07s\n",
      "925:\tlearn: 0.1467464\ttotal: 1m 39s\tremaining: 7.96s\n",
      "926:\tlearn: 0.1467281\ttotal: 1m 39s\tremaining: 7.85s\n",
      "927:\tlearn: 0.1467004\ttotal: 1m 39s\tremaining: 7.74s\n",
      "928:\tlearn: 0.1466783\ttotal: 1m 39s\tremaining: 7.63s\n",
      "929:\tlearn: 0.1466615\ttotal: 1m 39s\tremaining: 7.53s\n",
      "930:\tlearn: 0.1466446\ttotal: 1m 40s\tremaining: 7.42s\n",
      "931:\tlearn: 0.1466246\ttotal: 1m 40s\tremaining: 7.31s\n",
      "932:\tlearn: 0.1465721\ttotal: 1m 40s\tremaining: 7.2s\n",
      "933:\tlearn: 0.1465474\ttotal: 1m 40s\tremaining: 7.09s\n",
      "934:\tlearn: 0.1465034\ttotal: 1m 40s\tremaining: 6.99s\n",
      "935:\tlearn: 0.1464551\ttotal: 1m 40s\tremaining: 6.88s\n",
      "936:\tlearn: 0.1464343\ttotal: 1m 40s\tremaining: 6.77s\n",
      "937:\tlearn: 0.1464193\ttotal: 1m 40s\tremaining: 6.66s\n",
      "938:\tlearn: 0.1463950\ttotal: 1m 40s\tremaining: 6.55s\n",
      "939:\tlearn: 0.1463620\ttotal: 1m 41s\tremaining: 6.45s\n",
      "940:\tlearn: 0.1463437\ttotal: 1m 41s\tremaining: 6.34s\n",
      "941:\tlearn: 0.1462763\ttotal: 1m 41s\tremaining: 6.23s\n",
      "942:\tlearn: 0.1462526\ttotal: 1m 41s\tremaining: 6.12s\n",
      "943:\tlearn: 0.1461965\ttotal: 1m 41s\tremaining: 6.02s\n",
      "944:\tlearn: 0.1461799\ttotal: 1m 41s\tremaining: 5.91s\n",
      "945:\tlearn: 0.1461577\ttotal: 1m 41s\tremaining: 5.8s\n",
      "946:\tlearn: 0.1461368\ttotal: 1m 41s\tremaining: 5.69s\n",
      "947:\tlearn: 0.1460970\ttotal: 1m 41s\tremaining: 5.58s\n",
      "948:\tlearn: 0.1460709\ttotal: 1m 41s\tremaining: 5.48s\n",
      "949:\tlearn: 0.1460372\ttotal: 1m 42s\tremaining: 5.37s\n",
      "950:\tlearn: 0.1460223\ttotal: 1m 42s\tremaining: 5.26s\n",
      "951:\tlearn: 0.1460038\ttotal: 1m 42s\tremaining: 5.15s\n",
      "952:\tlearn: 0.1459680\ttotal: 1m 42s\tremaining: 5.05s\n",
      "953:\tlearn: 0.1459482\ttotal: 1m 42s\tremaining: 4.94s\n",
      "954:\tlearn: 0.1459240\ttotal: 1m 42s\tremaining: 4.83s\n",
      "955:\tlearn: 0.1459082\ttotal: 1m 42s\tremaining: 4.72s\n",
      "956:\tlearn: 0.1458905\ttotal: 1m 42s\tremaining: 4.62s\n",
      "957:\tlearn: 0.1458629\ttotal: 1m 42s\tremaining: 4.51s\n",
      "958:\tlearn: 0.1458478\ttotal: 1m 42s\tremaining: 4.4s\n",
      "959:\tlearn: 0.1458221\ttotal: 1m 43s\tremaining: 4.29s\n",
      "960:\tlearn: 0.1457923\ttotal: 1m 43s\tremaining: 4.18s\n",
      "961:\tlearn: 0.1457810\ttotal: 1m 43s\tremaining: 4.08s\n",
      "962:\tlearn: 0.1457616\ttotal: 1m 43s\tremaining: 3.97s\n",
      "963:\tlearn: 0.1457484\ttotal: 1m 43s\tremaining: 3.86s\n",
      "964:\tlearn: 0.1457276\ttotal: 1m 43s\tremaining: 3.75s\n",
      "965:\tlearn: 0.1456819\ttotal: 1m 43s\tremaining: 3.65s\n",
      "966:\tlearn: 0.1456568\ttotal: 1m 43s\tremaining: 3.54s\n",
      "967:\tlearn: 0.1456410\ttotal: 1m 43s\tremaining: 3.43s\n",
      "968:\tlearn: 0.1456226\ttotal: 1m 43s\tremaining: 3.33s\n",
      "969:\tlearn: 0.1456085\ttotal: 1m 44s\tremaining: 3.22s\n",
      "970:\tlearn: 0.1455902\ttotal: 1m 44s\tremaining: 3.11s\n",
      "971:\tlearn: 0.1455802\ttotal: 1m 44s\tremaining: 3s\n",
      "972:\tlearn: 0.1455579\ttotal: 1m 44s\tremaining: 2.9s\n",
      "973:\tlearn: 0.1455170\ttotal: 1m 44s\tremaining: 2.79s\n",
      "974:\tlearn: 0.1455012\ttotal: 1m 44s\tremaining: 2.68s\n",
      "975:\tlearn: 0.1454781\ttotal: 1m 44s\tremaining: 2.57s\n",
      "976:\tlearn: 0.1454610\ttotal: 1m 44s\tremaining: 2.46s\n",
      "977:\tlearn: 0.1454205\ttotal: 1m 44s\tremaining: 2.36s\n",
      "978:\tlearn: 0.1454042\ttotal: 1m 44s\tremaining: 2.25s\n",
      "979:\tlearn: 0.1453836\ttotal: 1m 45s\tremaining: 2.14s\n",
      "980:\tlearn: 0.1453672\ttotal: 1m 45s\tremaining: 2.04s\n",
      "981:\tlearn: 0.1453469\ttotal: 1m 45s\tremaining: 1.93s\n",
      "982:\tlearn: 0.1452947\ttotal: 1m 45s\tremaining: 1.82s\n",
      "983:\tlearn: 0.1452656\ttotal: 1m 45s\tremaining: 1.71s\n",
      "984:\tlearn: 0.1452369\ttotal: 1m 45s\tremaining: 1.61s\n",
      "985:\tlearn: 0.1452261\ttotal: 1m 45s\tremaining: 1.5s\n",
      "986:\tlearn: 0.1451996\ttotal: 1m 45s\tremaining: 1.39s\n",
      "987:\tlearn: 0.1451718\ttotal: 1m 45s\tremaining: 1.28s\n",
      "988:\tlearn: 0.1451309\ttotal: 1m 45s\tremaining: 1.18s\n",
      "989:\tlearn: 0.1451067\ttotal: 1m 46s\tremaining: 1.07s\n",
      "990:\tlearn: 0.1450834\ttotal: 1m 46s\tremaining: 964ms\n",
      "991:\tlearn: 0.1450589\ttotal: 1m 46s\tremaining: 857ms\n",
      "992:\tlearn: 0.1450380\ttotal: 1m 46s\tremaining: 750ms\n",
      "993:\tlearn: 0.1449835\ttotal: 1m 46s\tremaining: 643ms\n",
      "994:\tlearn: 0.1449633\ttotal: 1m 46s\tremaining: 535ms\n",
      "995:\tlearn: 0.1449447\ttotal: 1m 46s\tremaining: 428ms\n",
      "996:\tlearn: 0.1449279\ttotal: 1m 46s\tremaining: 321ms\n",
      "997:\tlearn: 0.1449015\ttotal: 1m 46s\tremaining: 214ms\n",
      "998:\tlearn: 0.1448766\ttotal: 1m 46s\tremaining: 107ms\n",
      "999:\tlearn: 0.1448629\ttotal: 1m 47s\tremaining: 0us\n",
      "Лучшая оценка f1 на valid = 0.752096796370136 получается при вероятности класс 1 равному 0.15\n",
      "Оценка f1 на valid = 0.6817077403679278 \n"
     ]
    }
   ],
   "source": [
    "BestThr = best_thr(cb_RS, tf_idf_train, y_train)"
   ]
  },
  {
   "cell_type": "code",
   "execution_count": 32,
   "metadata": {},
   "outputs": [],
   "source": [
    "tokenizer = transformers.BertTokenizer.from_pretrained(\"bert-base-uncased\")\n",
    "model = transformers.BertModel.from_pretrained(\"bert-base-uncased\")"
   ]
  },
  {
   "cell_type": "code",
   "execution_count": 33,
   "metadata": {},
   "outputs": [],
   "source": [
    "# ограничение выборки\n",
    "data_short_bert = data_bert.sample( n = 1000, replace = True)"
   ]
  },
  {
   "cell_type": "code",
   "execution_count": 34,
   "metadata": {},
   "outputs": [
    {
     "name": "stderr",
     "output_type": "stream",
     "text": [
      "Truncation was not explicitly activated but `max_length` is provided a specific value, please use `truncation=True` to explicitly truncate examples to max length. Defaulting to 'longest_first' truncation strategy. If you encode pairs of sequences (GLUE-style) with the tokenizer you can select this strategy more precisely by providing a specific strategy to `truncation`.\n"
     ]
    },
    {
     "name": "stdout",
     "output_type": "stream",
     "text": [
      "CPU times: user 1.22 s, sys: 0 ns, total: 1.22 s\n",
      "Wall time: 1.22 s\n"
     ]
    }
   ],
   "source": [
    "%%time\n",
    "# перевод текста в токены \n",
    "\n",
    "tokenized = data_short_bert['text'].apply(\n",
    "    lambda x: tokenizer.encode(x, add_special_tokens=True, max_length=512))\n",
    "\n",
    "max_len = 0\n",
    "for i in tokenized.values:\n",
    "    if len(i) > max_len:\n",
    "        max_len = len(i)\n",
    "\n",
    "padded = np.array([i + [0]*(max_len - len(i)) for i in tokenized.values])\n",
    "\n",
    "attention_mask = np.where(padded != 0, 1, 0)"
   ]
  },
  {
   "cell_type": "code",
   "execution_count": 35,
   "metadata": {
    "scrolled": true
   },
   "outputs": [
    {
     "data": {
      "application/vnd.jupyter.widget-view+json": {
       "model_id": "aba43759e27c415ebf8bb3d87cce4e80",
       "version_major": 2,
       "version_minor": 0
      },
      "text/plain": [
       "  0%|          | 0/10 [00:00<?, ?it/s]"
      ]
     },
     "metadata": {},
     "output_type": "display_data"
    }
   ],
   "source": [
    "# создания тензоров для обучения\n",
    "batch_size = 100\n",
    "embeddings = []\n",
    "for i in notebook.tqdm(range(padded.shape[0] // batch_size)):\n",
    "    batch = torch.LongTensor(padded[batch_size*i:batch_size*(i+1)])\n",
    "    attention_mask_batch = torch.Tensor(attention_mask[batch_size*i : batch_size*(i+1)])\n",
    "\n",
    "    with torch.no_grad():\n",
    "        batch_embeddings = model(batch, attention_mask=attention_mask_batch)\n",
    "\n",
    "    embeddings.append(batch_embeddings[0][:, 0, :].numpy())\n",
    "\n"
   ]
  },
  {
   "cell_type": "code",
   "execution_count": 36,
   "metadata": {},
   "outputs": [],
   "source": [
    "# создание датасета из тензоров и  деление выборки\n",
    "\n",
    "features = np.concatenate(embeddings)\n",
    "target = data_short_bert['toxic']\n",
    "\n",
    "X_train, X_test, y_train, y_test = train_test_split(features, target, test_size = 0.3, random_state = 12345)\n"
   ]
  },
  {
   "cell_type": "code",
   "execution_count": 37,
   "metadata": {},
   "outputs": [
    {
     "name": "stdout",
     "output_type": "stream",
     "text": [
      "0.5517241379310346\n"
     ]
    }
   ],
   "source": [
    "# без перебора указал лучшие фичи для прошлой линейной модели\n",
    "lr = LogisticRegression(solver = 'saga', penalty = 'l1', class_weight = None, random_state = 12345)\n",
    "lr.fit(X_train, y_train)\n",
    "\n",
    "predict = lr.predict(X_test)\n",
    "\n",
    "print(f1_score(y_test,predict))"
   ]
  },
  {
   "cell_type": "markdown",
   "metadata": {},
   "source": [
    "**Вывод:** Была подобрана лучшая модель на данный момент - LogisticRegression, так же модель, которая обучалась на токинах BERT показала интересный результат, несмотря на то что модель состояла выборки равной 1000 строк. "
   ]
  },
  {
   "cell_type": "code",
   "execution_count": 38,
   "metadata": {},
   "outputs": [],
   "source": [
    "# !pip install FastText"
   ]
  },
  {
   "cell_type": "code",
   "execution_count": 39,
   "metadata": {},
   "outputs": [],
   "source": [
    "import fasttext"
   ]
  },
  {
   "cell_type": "code",
   "execution_count": 40,
   "metadata": {},
   "outputs": [],
   "source": [
    "# Разделяем на трейн, валидацию и тест\n",
    "train, test = train_test_split(data_Word2Vec, test_size = 0.25)\n",
    "train, valid = train_test_split(train, test_size = 0.35)\n"
   ]
  },
  {
   "cell_type": "code",
   "execution_count": 41,
   "metadata": {},
   "outputs": [
    {
     "data": {
      "text/plain": [
       "((77654, 2), (41815, 2), (39823, 2))"
      ]
     },
     "execution_count": 41,
     "metadata": {},
     "output_type": "execute_result"
    }
   ],
   "source": [
    "train.shape, valid.shape, test.shape"
   ]
  },
  {
   "cell_type": "code",
   "execution_count": 42,
   "metadata": {},
   "outputs": [],
   "source": [
    "# Производить загрузку данных в модель будем через текстовые фалики\n",
    "\n",
    "with open('train.txt', 'w') as f:\n",
    "    for each_text, each_label in zip(train['text'], train['toxic']):\n",
    "        f.writelines(f'__label__{each_label} {each_text}\\n')\n",
    "\n",
    "with open('valid.txt', 'w') as f:\n",
    "    for each_text, each_label in zip(valid['text'], valid['toxic']):\n",
    "        f.writelines(f'__label__{each_label} {each_text}\\n')\n",
    "\n",
    "with open('test.txt', 'w') as f:\n",
    "    for each_text, each_label in zip(test['text'], test['toxic']):\n",
    "        f.writelines(f'__label__{each_label} {each_text}\\n')"
   ]
  },
  {
   "cell_type": "code",
   "execution_count": 43,
   "metadata": {},
   "outputs": [
    {
     "name": "stdout",
     "output_type": "stream",
     "text": [
      "__label__1 i will net left harassing you i am the same ip s whom you re blocking i will gon na destroy you\n",
      "__label__0 such a the edit you made to richard machowicz\n",
      "__label__1 baby eater alright is it true that some of the band s song translate into lyric like i m going to cut open your fetus and eat your baby or other horrific lyric\n",
      "__label__0 i ve edited the page accordingly\n",
      "__label__1 hello you recently yipped and yapped about me breaking the rule but i notice that your latest update you edited in a proud faggot nutsack within my userpage i find this intolerable bigoted and downright hateful perhaps homosexual african american elecit anger in you you should visit www adl org\n"
     ]
    }
   ],
   "source": [
    "#проверка на корректность загрузки данных в файл\n",
    "!head -n 5 train.txt"
   ]
  },
  {
   "cell_type": "code",
   "execution_count": 44,
   "metadata": {},
   "outputs": [],
   "source": [
    "def print_results(sample_size, precision, recall):\n",
    "    '''Функция для тестирования натренировонной модели'''\n",
    "    \n",
    "    precision = round(precision, 5)\n",
    "    recall = round(recall, 5)\n",
    "    \n",
    "    print(f'{sample_size = }')\n",
    "    print(f'{precision = }')\n",
    "    print(f'{recall = }')\n",
    "    print(f'f1_score = {(2*(precision*recall))/(precision+recall)}')"
   ]
  },
  {
   "cell_type": "code",
   "execution_count": 45,
   "metadata": {},
   "outputs": [
    {
     "name": "stderr",
     "output_type": "stream",
     "text": [
      "Read 5M words\n",
      "Number of words:  103927\n",
      "Number of labels: 2\n",
      "Progress: 100.0% words/sec/thread: 3624922 lr:  0.000000 avg.loss:  0.111298 ETA:   0h 0m 0s\n"
     ]
    },
    {
     "name": "stdout",
     "output_type": "stream",
     "text": [
      "sample_size = 41815\n",
      "precision = 0.9608\n",
      "recall = 0.9608\n",
      "f1_score = 0.9608\n"
     ]
    }
   ],
   "source": [
    "# Просмотр на корректность работы модели\n",
    "model = fasttext.train_supervised('train.txt')\n",
    "print_results(*model.test('valid.txt'))"
   ]
  },
  {
   "cell_type": "code",
   "execution_count": 46,
   "metadata": {},
   "outputs": [
    {
     "name": "stderr",
     "output_type": "stream",
     "text": [
      "Read 5M words\n",
      "Number of words:  103927\n",
      "Number of labels: 2\n",
      "Progress: 100.0% words/sec/thread: 1811767 lr:  0.000000 avg.loss:  0.042789 ETA:   0h 0m 0s\n"
     ]
    },
    {
     "name": "stdout",
     "output_type": "stream",
     "text": [
      "sample_size = 41815\n",
      "precision = 0.95884\n",
      "recall = 0.95884\n",
      "f1_score = 0.95884\n"
     ]
    }
   ],
   "source": [
    "# Посмотрим как работает модель с указанием каких-либо параметров\n",
    "model = fasttext.train_supervised('train.txt', epoch=10, lr=1.0, wordNgrams = 2)\n",
    "print_results(*model.test('valid.txt'))"
   ]
  },
  {
   "cell_type": "code",
   "execution_count": 47,
   "metadata": {},
   "outputs": [
    {
     "name": "stderr",
     "output_type": "stream",
     "text": [
      "Progress: 100.0% Trials:   13 Best score:  0.787887 ETA:   0h 0m 0s\n",
      "Training again with best arguments\n",
      "Read 5M words\n",
      "Number of words:  103927\n",
      "Number of labels: 2\n",
      "Progress: 100.0% words/sec/thread: 4118954 lr:  0.000000 avg.loss:  0.112785 ETA:   0h 0m 0s\n"
     ]
    },
    {
     "name": "stdout",
     "output_type": "stream",
     "text": [
      "sample_size = 41815\n",
      "precision = 0.96078\n",
      "recall = 0.96078\n",
      "f1_score = 0.96078\n"
     ]
    }
   ],
   "source": [
    "# Воспользуемся строенным в библиотеку автоподблром гиперпараметров\n",
    "model = fasttext.train_supervised('train.txt', autotuneValidationFile='valid.txt', autotuneMetric=\"f1:__label__1\")\n",
    "print_results(*model.test('valid.txt'))"
   ]
  },
  {
   "cell_type": "markdown",
   "metadata": {},
   "source": [
    "## Оценка лучшей модели"
   ]
  },
  {
   "cell_type": "code",
   "execution_count": 50,
   "metadata": {},
   "outputs": [],
   "source": [
    "X_train, X_test, y_train, y_test = train_test_split(data_tf_idf['text'], data_tf_idf['toxic'],\n",
    "                                                    random_state = 12345, test_size = 0.35)"
   ]
  },
  {
   "cell_type": "code",
   "execution_count": 51,
   "metadata": {
    "scrolled": true
   },
   "outputs": [
    {
     "name": "stderr",
     "output_type": "stream",
     "text": [
      "/home/danila/mainpk/jupyter/jupyter_env/lib/python3.10/site-packages/sklearn/linear_model/_sag.py:350: ConvergenceWarning: The max_iter was reached which means the coef_ did not converge\n",
      "  warnings.warn(\n",
      "/home/danila/mainpk/jupyter/jupyter_env/lib/python3.10/site-packages/sklearn/linear_model/_sag.py:350: ConvergenceWarning: The max_iter was reached which means the coef_ did not converge\n",
      "  warnings.warn(\n",
      "/home/danila/mainpk/jupyter/jupyter_env/lib/python3.10/site-packages/sklearn/linear_model/_sag.py:350: ConvergenceWarning: The max_iter was reached which means the coef_ did not converge\n",
      "  warnings.warn(\n",
      "/home/danila/mainpk/jupyter/jupyter_env/lib/python3.10/site-packages/sklearn/linear_model/_sag.py:350: ConvergenceWarning: The max_iter was reached which means the coef_ did not converge\n",
      "  warnings.warn(\n",
      "/home/danila/mainpk/jupyter/jupyter_env/lib/python3.10/site-packages/sklearn/linear_model/_sag.py:350: ConvergenceWarning: The max_iter was reached which means the coef_ did not converge\n",
      "  warnings.warn(\n",
      "/home/danila/mainpk/jupyter/jupyter_env/lib/python3.10/site-packages/sklearn/linear_model/_sag.py:350: ConvergenceWarning: The max_iter was reached which means the coef_ did not converge\n",
      "  warnings.warn(\n"
     ]
    },
    {
     "name": "stdout",
     "output_type": "stream",
     "text": [
      "Лучшая оценка f1 на valid = 0.7790393013100436 получается при вероятности класс 1 равному 0.38\n",
      "Оценка f1 на valid = 0.7690900777320531 \n",
      "f1 test data(LogisticRegression) =  0.7753792298716452\n",
      "f1 correct proba test data(LogisticRegression) =  0.7794472268595808\n",
      "CPU times: user 1.82 s, sys: 629 ms, total: 2.45 s\n",
      "Wall time: 43 s\n"
     ]
    }
   ],
   "source": [
    "%%time\n",
    "\n",
    "# Лучшая модель ML-classic\n",
    "\n",
    "BestThr = best_thr(lr_RS, tf_idf_train, y_train)\n",
    "\n",
    "pred_proba = lr_RS.predict_proba(tf_idf_test)\n",
    "pred = lr_RS.predict(tf_idf_test)\n",
    "\n",
    "classes = (pred_proba[:, 1] >=  BestThr) * 1\n",
    "\n",
    "print('f1 test data(LogisticRegression) = ', f1_score(y_test, pred))\n",
    "print('f1 correct proba test data(LogisticRegression) = ', f1_score(y_test, classes))"
   ]
  },
  {
   "cell_type": "code",
   "execution_count": 52,
   "metadata": {},
   "outputs": [
    {
     "name": "stdout",
     "output_type": "stream",
     "text": [
      "sample_size = 39823\n",
      "precision = 0.9614\n",
      "recall = 0.9614\n",
      "f1_score = 0.9614\n"
     ]
    }
   ],
   "source": [
    "# Лучшая модель из предтренерованных моделей\n",
    "# fasttext\n",
    "print_results(*model.test('test.txt'))\n"
   ]
  },
  {
   "cell_type": "markdown",
   "metadata": {},
   "source": [
    "## Выводы"
   ]
  },
  {
   "cell_type": "markdown",
   "metadata": {},
   "source": [
    ">В ходе работы были выполнены следующие операции:\n",
    "\n",
    ">>Предобработаны данные для обучения\n",
    ">\n",
    ">>Исследованы различные модели обучения.\n",
    ">\n",
    ">>Выбрана лучшая модель.\n",
    "\n",
    "\n",
    ">В ходе исследования была подобрана лучшая модель классичесткого ML - LogisticRegression, метрика f1 на тестовой выборке составила 0.779 c учетом калиборвки вероятностей класса 1. Ввиду огромной выборки, обучения на всех данных не представляется возможным, необходимо сокращать датафрейм. Градиентные бустинги показали неудволетворительынй результат ввиду ресурсных ограничений, т.к. данные методы очень затраты по памяти. В модели BERT можно увидеть потенциал, но данный метод аналогично ограничен по времени и памяти (в первую очереть память).\n",
    "Из предобученных готовых моделей лучшей оказалась модель fasttext, метрика f1 на ней составила 0.96. В данном случае это самый лучший результат из всех исследованных моделей."
   ]
  }
 ],
 "metadata": {
  "ExecuteTimeLog": [
   {
    "duration": 384,
    "start_time": "2024-02-09T13:07:59.520Z"
   },
   {
    "duration": 76,
    "start_time": "2024-02-09T13:08:37.777Z"
   },
   {
    "duration": 52,
    "start_time": "2024-02-09T13:08:45.285Z"
   },
   {
    "duration": 62,
    "start_time": "2024-02-09T13:08:56.087Z"
   },
   {
    "duration": 74,
    "start_time": "2024-02-09T13:09:01.805Z"
   },
   {
    "duration": 46,
    "start_time": "2024-02-09T13:09:05.494Z"
   },
   {
    "duration": 78,
    "start_time": "2024-02-09T13:11:46.998Z"
   },
   {
    "duration": 38,
    "start_time": "2024-02-09T13:11:56.931Z"
   },
   {
    "duration": 90,
    "start_time": "2024-02-09T13:11:59.310Z"
   },
   {
    "duration": 13,
    "start_time": "2024-02-09T13:12:01.904Z"
   },
   {
    "duration": 57,
    "start_time": "2024-02-09T13:13:27.146Z"
   },
   {
    "duration": 37,
    "start_time": "2024-02-09T13:13:33.587Z"
   },
   {
    "duration": 3363,
    "start_time": "2024-02-09T13:14:18.442Z"
   },
   {
    "duration": 32,
    "start_time": "2024-02-09T13:28:06.406Z"
   },
   {
    "duration": 15,
    "start_time": "2024-02-09T13:28:09.082Z"
   },
   {
    "duration": 10,
    "start_time": "2024-02-09T13:29:09.819Z"
   },
   {
    "duration": 221,
    "start_time": "2024-02-09T13:29:22.766Z"
   },
   {
    "duration": 10,
    "start_time": "2024-02-09T13:29:43.808Z"
   },
   {
    "duration": 261,
    "start_time": "2024-02-09T13:48:34.505Z"
   },
   {
    "duration": 3,
    "start_time": "2024-02-09T13:48:36.332Z"
   },
   {
    "duration": 218,
    "start_time": "2024-02-09T13:48:37.329Z"
   },
   {
    "duration": 3,
    "start_time": "2024-02-09T13:48:47.625Z"
   },
   {
    "duration": 2,
    "start_time": "2024-02-09T13:48:48.466Z"
   },
   {
    "duration": 4407,
    "start_time": "2024-02-09T13:48:49.337Z"
   },
   {
    "duration": 7,
    "start_time": "2024-02-09T13:48:55.809Z"
   },
   {
    "duration": 870,
    "start_time": "2024-02-09T13:50:47.243Z"
   },
   {
    "duration": 7,
    "start_time": "2024-02-09T13:50:48.115Z"
   },
   {
    "duration": 41,
    "start_time": "2024-02-09T13:50:48.124Z"
   },
   {
    "duration": 229,
    "start_time": "2024-02-09T13:50:49.144Z"
   },
   {
    "duration": 10,
    "start_time": "2024-02-09T13:50:49.838Z"
   },
   {
    "duration": 949,
    "start_time": "2024-02-09T13:50:51.029Z"
   },
   {
    "duration": 212,
    "start_time": "2024-02-09T13:58:54.894Z"
   },
   {
    "duration": 8,
    "start_time": "2024-02-09T13:59:48.215Z"
   },
   {
    "duration": 4,
    "start_time": "2024-02-09T13:59:51.580Z"
   },
   {
    "duration": 4302,
    "start_time": "2024-02-09T13:59:51.695Z"
   },
   {
    "duration": 6,
    "start_time": "2024-02-09T13:59:55.999Z"
   },
   {
    "duration": 3,
    "start_time": "2024-02-09T14:07:03.336Z"
   },
   {
    "duration": 4,
    "start_time": "2024-02-09T14:07:07.078Z"
   },
   {
    "duration": 2,
    "start_time": "2024-02-09T14:07:22.189Z"
   },
   {
    "duration": 59,
    "start_time": "2024-02-09T14:07:26.129Z"
   },
   {
    "duration": 12056,
    "start_time": "2024-02-09T14:07:41.626Z"
   },
   {
    "duration": 1076,
    "start_time": "2024-02-09T14:15:05.893Z"
   },
   {
    "duration": 954,
    "start_time": "2024-02-09T14:15:06.971Z"
   },
   {
    "duration": 13,
    "start_time": "2024-02-09T14:15:07.927Z"
   },
   {
    "duration": 30,
    "start_time": "2024-02-09T14:15:07.942Z"
   },
   {
    "duration": 237,
    "start_time": "2024-02-09T14:15:07.987Z"
   },
   {
    "duration": 9,
    "start_time": "2024-02-09T14:15:08.226Z"
   },
   {
    "duration": 2165,
    "start_time": "2024-02-09T14:15:19.473Z"
   },
   {
    "duration": 3,
    "start_time": "2024-02-09T14:15:41.348Z"
   },
   {
    "duration": 3,
    "start_time": "2024-02-09T14:15:48.513Z"
   },
   {
    "duration": 4543,
    "start_time": "2024-02-09T14:15:49.044Z"
   },
   {
    "duration": 7,
    "start_time": "2024-02-09T14:15:53.589Z"
   },
   {
    "duration": 1128,
    "start_time": "2024-02-09T14:16:41.858Z"
   },
   {
    "duration": 3454,
    "start_time": "2024-02-09T14:16:42.988Z"
   },
   {
    "duration": 18,
    "start_time": "2024-02-09T14:16:46.443Z"
   },
   {
    "duration": 32,
    "start_time": "2024-02-09T14:16:46.462Z"
   },
   {
    "duration": 248,
    "start_time": "2024-02-09T14:16:46.496Z"
   },
   {
    "duration": 10,
    "start_time": "2024-02-09T14:16:46.746Z"
   },
   {
    "duration": 52,
    "start_time": "2024-02-09T14:16:46.757Z"
   },
   {
    "duration": 4376,
    "start_time": "2024-02-09T14:16:46.811Z"
   },
   {
    "duration": 6,
    "start_time": "2024-02-09T14:16:51.189Z"
   },
   {
    "duration": 10,
    "start_time": "2024-02-09T14:17:37.735Z"
   },
   {
    "duration": 236,
    "start_time": "2024-02-09T14:20:13.619Z"
   },
   {
    "duration": 2131,
    "start_time": "2024-02-09T14:20:49.818Z"
   },
   {
    "duration": 111,
    "start_time": "2024-02-09T14:21:11.024Z"
   },
   {
    "duration": 219,
    "start_time": "2024-02-09T14:21:33.625Z"
   },
   {
    "duration": 9701,
    "start_time": "2024-02-09T14:21:34.824Z"
   },
   {
    "duration": 5,
    "start_time": "2024-02-09T14:21:48.372Z"
   },
   {
    "duration": 4,
    "start_time": "2024-02-09T14:21:51.621Z"
   },
   {
    "duration": 11,
    "start_time": "2024-02-09T14:21:57.516Z"
   },
   {
    "duration": 3,
    "start_time": "2024-02-09T14:23:08.732Z"
   },
   {
    "duration": 25,
    "start_time": "2024-02-09T14:25:17.647Z"
   },
   {
    "duration": 28,
    "start_time": "2024-02-09T14:26:54.584Z"
   },
   {
    "duration": 1291,
    "start_time": "2024-02-09T14:27:06.769Z"
   },
   {
    "duration": 935,
    "start_time": "2024-02-09T14:27:08.061Z"
   },
   {
    "duration": 13,
    "start_time": "2024-02-09T14:27:08.998Z"
   },
   {
    "duration": 49,
    "start_time": "2024-02-09T14:27:09.013Z"
   },
   {
    "duration": 232,
    "start_time": "2024-02-09T14:27:09.065Z"
   },
   {
    "duration": 9,
    "start_time": "2024-02-09T14:27:09.299Z"
   },
   {
    "duration": 14,
    "start_time": "2024-02-09T14:27:09.310Z"
   },
   {
    "duration": 4170,
    "start_time": "2024-02-09T14:27:09.325Z"
   },
   {
    "duration": 7,
    "start_time": "2024-02-09T14:27:13.496Z"
   },
   {
    "duration": 11,
    "start_time": "2024-02-09T14:27:13.504Z"
   },
   {
    "duration": 2,
    "start_time": "2024-02-09T14:27:13.516Z"
   },
   {
    "duration": 30,
    "start_time": "2024-02-09T14:27:13.519Z"
   },
   {
    "duration": 747,
    "start_time": "2024-02-09T14:27:20.996Z"
   },
   {
    "duration": 164,
    "start_time": "2024-02-09T14:27:21.799Z"
   },
   {
    "duration": 1486,
    "start_time": "2024-02-09T14:27:26.779Z"
   },
   {
    "duration": 47,
    "start_time": "2024-02-09T14:28:30.771Z"
   },
   {
    "duration": 1318,
    "start_time": "2024-02-09T14:28:33.595Z"
   },
   {
    "duration": 3347,
    "start_time": "2024-02-09T14:28:34.915Z"
   },
   {
    "duration": 13,
    "start_time": "2024-02-09T14:28:38.264Z"
   },
   {
    "duration": 29,
    "start_time": "2024-02-09T14:28:38.279Z"
   },
   {
    "duration": 226,
    "start_time": "2024-02-09T14:28:38.310Z"
   },
   {
    "duration": 10,
    "start_time": "2024-02-09T14:28:38.537Z"
   },
   {
    "duration": 4,
    "start_time": "2024-02-09T14:28:38.548Z"
   },
   {
    "duration": 4145,
    "start_time": "2024-02-09T14:28:38.554Z"
   },
   {
    "duration": 6,
    "start_time": "2024-02-09T14:28:42.700Z"
   },
   {
    "duration": 20,
    "start_time": "2024-02-09T14:28:42.708Z"
   },
   {
    "duration": 3,
    "start_time": "2024-02-09T14:28:42.729Z"
   },
   {
    "duration": 40,
    "start_time": "2024-02-09T14:28:42.733Z"
   },
   {
    "duration": 75,
    "start_time": "2024-02-09T14:28:55.421Z"
   },
   {
    "duration": 9,
    "start_time": "2024-02-09T14:29:00.498Z"
   },
   {
    "duration": 32,
    "start_time": "2024-02-09T14:29:02.295Z"
   },
   {
    "duration": 3,
    "start_time": "2024-02-09T14:29:02.907Z"
   },
   {
    "duration": 2146,
    "start_time": "2024-02-09T14:29:12.610Z"
   },
   {
    "duration": 145,
    "start_time": "2024-02-09T14:29:19.089Z"
   },
   {
    "duration": 9033,
    "start_time": "2024-02-09T14:29:41.460Z"
   },
   {
    "duration": 4,
    "start_time": "2024-02-09T14:30:03.512Z"
   },
   {
    "duration": 1325,
    "start_time": "2024-02-09T15:33:28.774Z"
   },
   {
    "duration": 972,
    "start_time": "2024-02-09T15:33:30.101Z"
   },
   {
    "duration": 14,
    "start_time": "2024-02-09T15:33:31.074Z"
   },
   {
    "duration": 61,
    "start_time": "2024-02-09T15:33:31.090Z"
   },
   {
    "duration": 226,
    "start_time": "2024-02-09T15:33:31.155Z"
   },
   {
    "duration": 11,
    "start_time": "2024-02-09T15:33:31.383Z"
   },
   {
    "duration": 39,
    "start_time": "2024-02-09T15:33:31.395Z"
   },
   {
    "duration": 4247,
    "start_time": "2024-02-09T15:33:31.435Z"
   },
   {
    "duration": 7,
    "start_time": "2024-02-09T15:33:35.683Z"
   },
   {
    "duration": 12,
    "start_time": "2024-02-09T15:33:35.691Z"
   },
   {
    "duration": 3,
    "start_time": "2024-02-09T15:33:35.704Z"
   },
   {
    "duration": 32,
    "start_time": "2024-02-09T15:33:35.708Z"
   },
   {
    "duration": 3,
    "start_time": "2024-02-09T15:33:35.741Z"
   },
   {
    "duration": 2258,
    "start_time": "2024-02-09T15:33:35.747Z"
   },
   {
    "duration": 153,
    "start_time": "2024-02-09T15:33:38.006Z"
   },
   {
    "duration": 8927,
    "start_time": "2024-02-09T15:33:38.160Z"
   },
   {
    "duration": 4,
    "start_time": "2024-02-09T15:33:47.088Z"
   },
   {
    "duration": 15,
    "start_time": "2024-02-09T15:33:47.094Z"
   },
   {
    "duration": 113,
    "start_time": "2024-02-09T15:36:09.437Z"
   },
   {
    "duration": 3,
    "start_time": "2024-02-09T15:36:31.859Z"
   },
   {
    "duration": 29958,
    "start_time": "2024-02-09T15:36:55.172Z"
   },
   {
    "duration": 0,
    "start_time": "2024-02-09T15:37:25.132Z"
   },
   {
    "duration": 42630,
    "start_time": "2024-02-09T15:37:27.859Z"
   },
   {
    "duration": 100,
    "start_time": "2024-02-09T15:38:10.491Z"
   },
   {
    "duration": 8,
    "start_time": "2024-02-09T15:38:43.757Z"
   },
   {
    "duration": 136,
    "start_time": "2024-02-09T15:38:53.663Z"
   },
   {
    "duration": 9,
    "start_time": "2024-02-09T15:39:31.780Z"
   },
   {
    "duration": 10,
    "start_time": "2024-02-09T15:40:16.929Z"
   },
   {
    "duration": 4,
    "start_time": "2024-02-09T15:40:24.908Z"
   },
   {
    "duration": 4083,
    "start_time": "2024-02-09T15:41:19.523Z"
   },
   {
    "duration": 12,
    "start_time": "2024-02-09T15:41:24.885Z"
   },
   {
    "duration": 1737,
    "start_time": "2024-02-09T15:41:42.382Z"
   },
   {
    "duration": 99,
    "start_time": "2024-02-09T15:41:45.546Z"
   },
   {
    "duration": 12,
    "start_time": "2024-02-09T15:41:46.182Z"
   },
   {
    "duration": 119,
    "start_time": "2024-02-09T15:41:49.768Z"
   },
   {
    "duration": 12,
    "start_time": "2024-02-09T15:42:03.992Z"
   },
   {
    "duration": 9206,
    "start_time": "2024-02-09T15:42:11.179Z"
   },
   {
    "duration": 4,
    "start_time": "2024-02-09T15:42:20.387Z"
   },
   {
    "duration": 48,
    "start_time": "2024-02-09T15:42:20.392Z"
   },
   {
    "duration": 3,
    "start_time": "2024-02-09T15:42:52.694Z"
   },
   {
    "duration": 3,
    "start_time": "2024-02-09T15:42:55.904Z"
   },
   {
    "duration": 3,
    "start_time": "2024-02-09T15:43:04.544Z"
   },
   {
    "duration": 11,
    "start_time": "2024-02-09T15:43:19.708Z"
   },
   {
    "duration": 4,
    "start_time": "2024-02-09T15:44:33.700Z"
   },
   {
    "duration": 4,
    "start_time": "2024-02-09T15:44:36.531Z"
   },
   {
    "duration": 4,
    "start_time": "2024-02-09T15:44:38.959Z"
   },
   {
    "duration": 10,
    "start_time": "2024-02-09T15:44:54.365Z"
   },
   {
    "duration": 11,
    "start_time": "2024-02-09T15:45:01.393Z"
   },
   {
    "duration": 3765,
    "start_time": "2024-02-09T15:45:12.572Z"
   },
   {
    "duration": 42386,
    "start_time": "2024-02-09T15:45:22.604Z"
   },
   {
    "duration": 115,
    "start_time": "2024-02-09T15:46:04.992Z"
   },
   {
    "duration": 4,
    "start_time": "2024-02-09T16:16:45.886Z"
   },
   {
    "duration": 10,
    "start_time": "2024-02-09T16:16:50.945Z"
   },
   {
    "duration": 4,
    "start_time": "2024-02-09T16:16:54.291Z"
   },
   {
    "duration": 8,
    "start_time": "2024-02-09T16:17:02.173Z"
   },
   {
    "duration": 8,
    "start_time": "2024-02-09T16:17:47.067Z"
   },
   {
    "duration": 9,
    "start_time": "2024-02-09T16:17:51.605Z"
   },
   {
    "duration": 4,
    "start_time": "2024-02-09T16:17:55.323Z"
   },
   {
    "duration": 9,
    "start_time": "2024-02-09T16:18:04.801Z"
   },
   {
    "duration": 11,
    "start_time": "2024-02-09T16:18:23.235Z"
   },
   {
    "duration": 5,
    "start_time": "2024-02-09T16:18:27.635Z"
   },
   {
    "duration": 5,
    "start_time": "2024-02-09T16:18:34.409Z"
   },
   {
    "duration": 4,
    "start_time": "2024-02-09T16:18:39.784Z"
   },
   {
    "duration": 4,
    "start_time": "2024-02-09T16:18:51.194Z"
   },
   {
    "duration": 4,
    "start_time": "2024-02-09T16:18:55.812Z"
   },
   {
    "duration": 13,
    "start_time": "2024-02-09T16:19:16.301Z"
   },
   {
    "duration": 5,
    "start_time": "2024-02-09T16:19:30.145Z"
   },
   {
    "duration": 498,
    "start_time": "2024-02-09T16:19:57.200Z"
   },
   {
    "duration": 20,
    "start_time": "2024-02-09T16:20:04.998Z"
   },
   {
    "duration": 11,
    "start_time": "2024-02-09T16:20:15.156Z"
   },
   {
    "duration": 91,
    "start_time": "2024-02-09T16:20:29.513Z"
   },
   {
    "duration": 102,
    "start_time": "2024-02-09T16:20:52.867Z"
   },
   {
    "duration": 97,
    "start_time": "2024-02-09T16:21:05.303Z"
   },
   {
    "duration": 96,
    "start_time": "2024-02-09T16:21:08.566Z"
   },
   {
    "duration": 98,
    "start_time": "2024-02-09T16:21:10.846Z"
   },
   {
    "duration": 95,
    "start_time": "2024-02-09T16:21:13.425Z"
   },
   {
    "duration": 95,
    "start_time": "2024-02-09T16:21:19.764Z"
   },
   {
    "duration": 101,
    "start_time": "2024-02-09T16:21:42.848Z"
   },
   {
    "duration": 98,
    "start_time": "2024-02-09T16:21:46.569Z"
   },
   {
    "duration": 10,
    "start_time": "2024-02-09T16:22:04.189Z"
   },
   {
    "duration": 9,
    "start_time": "2024-02-09T16:22:16.189Z"
   },
   {
    "duration": 140,
    "start_time": "2024-02-09T16:22:19.435Z"
   },
   {
    "duration": 124,
    "start_time": "2024-02-09T16:22:23.723Z"
   },
   {
    "duration": 112,
    "start_time": "2024-02-09T16:22:32.519Z"
   },
   {
    "duration": 7,
    "start_time": "2024-02-09T16:28:45.296Z"
   },
   {
    "duration": 6,
    "start_time": "2024-02-09T16:28:49.236Z"
   },
   {
    "duration": 110,
    "start_time": "2024-02-09T16:28:58.226Z"
   },
   {
    "duration": 103,
    "start_time": "2024-02-09T16:29:07.872Z"
   },
   {
    "duration": 8,
    "start_time": "2024-02-09T16:29:20.490Z"
   },
   {
    "duration": 3,
    "start_time": "2024-02-09T16:29:27.268Z"
   },
   {
    "duration": 4,
    "start_time": "2024-02-09T16:29:27.936Z"
   },
   {
    "duration": 1512,
    "start_time": "2024-02-09T16:35:44.140Z"
   },
   {
    "duration": 3304,
    "start_time": "2024-02-09T16:35:45.654Z"
   },
   {
    "duration": 10,
    "start_time": "2024-02-09T16:35:48.960Z"
   },
   {
    "duration": 34,
    "start_time": "2024-02-09T16:35:48.972Z"
   },
   {
    "duration": 231,
    "start_time": "2024-02-09T16:35:49.008Z"
   },
   {
    "duration": 9,
    "start_time": "2024-02-09T16:35:49.241Z"
   },
   {
    "duration": 14,
    "start_time": "2024-02-09T16:35:49.252Z"
   },
   {
    "duration": 4378,
    "start_time": "2024-02-09T16:35:49.267Z"
   },
   {
    "duration": 7,
    "start_time": "2024-02-09T16:35:53.646Z"
   },
   {
    "duration": 139,
    "start_time": "2024-02-09T16:35:53.654Z"
   },
   {
    "duration": 10,
    "start_time": "2024-02-09T16:35:53.795Z"
   },
   {
    "duration": 17,
    "start_time": "2024-02-09T16:35:53.807Z"
   },
   {
    "duration": 34,
    "start_time": "2024-02-09T16:35:53.825Z"
   },
   {
    "duration": 4,
    "start_time": "2024-02-09T16:35:53.861Z"
   },
   {
    "duration": 2136,
    "start_time": "2024-02-09T16:35:53.867Z"
   },
   {
    "duration": 217,
    "start_time": "2024-02-09T16:35:56.005Z"
   },
   {
    "duration": 9181,
    "start_time": "2024-02-09T16:35:56.224Z"
   },
   {
    "duration": 3,
    "start_time": "2024-02-09T16:36:05.407Z"
   },
   {
    "duration": 4,
    "start_time": "2024-02-09T16:36:05.412Z"
   },
   {
    "duration": 47,
    "start_time": "2024-02-09T16:36:05.417Z"
   },
   {
    "duration": 544862,
    "start_time": "2024-02-09T16:36:05.465Z"
   },
   {
    "duration": 885332,
    "start_time": "2024-02-09T16:48:18.718Z"
   },
   {
    "duration": 6,
    "start_time": "2024-02-09T18:20:35.633Z"
   },
   {
    "duration": 22,
    "start_time": "2024-02-09T18:23:27.666Z"
   },
   {
    "duration": 21,
    "start_time": "2024-02-09T18:34:36.132Z"
   },
   {
    "duration": 5,
    "start_time": "2024-02-09T18:41:29.660Z"
   },
   {
    "duration": 215,
    "start_time": "2024-02-09T18:41:34.434Z"
   },
   {
    "duration": 17,
    "start_time": "2024-02-09T18:42:05.975Z"
   },
   {
    "duration": 16,
    "start_time": "2024-02-09T18:42:57.728Z"
   },
   {
    "duration": 9,
    "start_time": "2024-02-09T18:43:11.415Z"
   },
   {
    "duration": 15,
    "start_time": "2024-02-09T18:43:15.615Z"
   },
   {
    "duration": 5,
    "start_time": "2024-02-09T18:43:26.169Z"
   },
   {
    "duration": 7,
    "start_time": "2024-02-09T18:43:47.801Z"
   },
   {
    "duration": 111,
    "start_time": "2024-02-09T18:43:56.916Z"
   },
   {
    "duration": 2,
    "start_time": "2024-02-09T18:44:07.896Z"
   },
   {
    "duration": 113,
    "start_time": "2024-02-09T18:44:09.212Z"
   },
   {
    "duration": 1277,
    "start_time": "2024-02-09T18:44:27.888Z"
   },
   {
    "duration": 38,
    "start_time": "2024-02-09T18:45:30.984Z"
   },
   {
    "duration": 1259,
    "start_time": "2024-02-09T18:45:37.412Z"
   },
   {
    "duration": 1284,
    "start_time": "2024-02-09T18:45:58.653Z"
   },
   {
    "duration": 34,
    "start_time": "2024-02-09T18:46:10.239Z"
   },
   {
    "duration": 1314,
    "start_time": "2024-02-09T18:46:14.078Z"
   },
   {
    "duration": 1257,
    "start_time": "2024-02-09T18:46:18.077Z"
   },
   {
    "duration": 1270,
    "start_time": "2024-02-09T18:46:38.228Z"
   },
   {
    "duration": 14,
    "start_time": "2024-02-09T18:48:02.641Z"
   },
   {
    "duration": 4,
    "start_time": "2024-02-09T18:48:23.878Z"
   },
   {
    "duration": 22,
    "start_time": "2024-02-09T18:48:56.434Z"
   },
   {
    "duration": 10,
    "start_time": "2024-02-09T19:05:21.742Z"
   },
   {
    "duration": 4,
    "start_time": "2024-02-09T19:05:26.062Z"
   },
   {
    "duration": 2899,
    "start_time": "2024-02-09T19:06:36.243Z"
   },
   {
    "duration": 116,
    "start_time": "2024-02-09T19:06:39.144Z"
   },
   {
    "duration": 15,
    "start_time": "2024-02-09T19:06:39.262Z"
   },
   {
    "duration": 3223,
    "start_time": "2024-02-09T19:06:47.597Z"
   },
   {
    "duration": 90,
    "start_time": "2024-02-09T19:06:50.821Z"
   },
   {
    "duration": 8,
    "start_time": "2024-02-09T19:06:50.913Z"
   },
   {
    "duration": 3769,
    "start_time": "2024-02-09T19:07:02.257Z"
   },
   {
    "duration": 94,
    "start_time": "2024-02-09T19:07:06.027Z"
   },
   {
    "duration": 10,
    "start_time": "2024-02-09T19:07:06.440Z"
   },
   {
    "duration": 4193,
    "start_time": "2024-02-09T19:07:56.834Z"
   },
   {
    "duration": 25763,
    "start_time": "2024-02-09T19:08:43.389Z"
   },
   {
    "duration": 37908,
    "start_time": "2024-02-09T19:09:10.476Z"
   },
   {
    "duration": 11901,
    "start_time": "2024-02-09T19:09:53.411Z"
   },
   {
    "duration": 2,
    "start_time": "2024-02-09T19:12:40.637Z"
   },
   {
    "duration": 11,
    "start_time": "2024-02-09T19:12:46.733Z"
   },
   {
    "duration": 8,
    "start_time": "2024-02-09T19:12:50.980Z"
   },
   {
    "duration": 4,
    "start_time": "2024-02-09T19:13:05.477Z"
   },
   {
    "duration": 4,
    "start_time": "2024-02-09T19:13:26.210Z"
   },
   {
    "duration": 4,
    "start_time": "2024-02-09T19:13:53.853Z"
   },
   {
    "duration": 8,
    "start_time": "2024-02-09T19:14:03.964Z"
   },
   {
    "duration": 89,
    "start_time": "2024-02-09T19:14:42.796Z"
   },
   {
    "duration": 3,
    "start_time": "2024-02-09T19:14:48.077Z"
   },
   {
    "duration": 87,
    "start_time": "2024-02-09T19:15:42.146Z"
   },
   {
    "duration": 2,
    "start_time": "2024-02-09T19:15:47.704Z"
   },
   {
    "duration": 3,
    "start_time": "2024-02-09T19:18:05.694Z"
   },
   {
    "duration": 2,
    "start_time": "2024-02-09T19:18:10.302Z"
   },
   {
    "duration": 4,
    "start_time": "2024-02-09T19:18:14.688Z"
   },
   {
    "duration": 91,
    "start_time": "2024-02-09T19:22:21.872Z"
   },
   {
    "duration": 81,
    "start_time": "2024-02-09T19:22:35.771Z"
   },
   {
    "duration": 5,
    "start_time": "2024-02-09T19:22:49.632Z"
   },
   {
    "duration": 88,
    "start_time": "2024-02-09T19:22:58.477Z"
   },
   {
    "duration": 4,
    "start_time": "2024-02-09T19:23:20.791Z"
   },
   {
    "duration": 110,
    "start_time": "2024-02-09T19:23:23.300Z"
   },
   {
    "duration": 42368,
    "start_time": "2024-02-09T19:23:34.520Z"
   },
   {
    "duration": 4,
    "start_time": "2024-02-09T19:25:47.754Z"
   },
   {
    "duration": 1258,
    "start_time": "2024-02-09T19:27:05.454Z"
   },
   {
    "duration": 2,
    "start_time": "2024-02-09T19:27:22.200Z"
   },
   {
    "duration": 2,
    "start_time": "2024-02-09T19:27:22.553Z"
   },
   {
    "duration": 2,
    "start_time": "2024-02-09T19:27:22.927Z"
   },
   {
    "duration": 1242,
    "start_time": "2024-02-09T19:29:10.990Z"
   },
   {
    "duration": 1286,
    "start_time": "2024-02-09T19:29:33.193Z"
   },
   {
    "duration": 381348,
    "start_time": "2024-02-09T19:33:18.333Z"
   },
   {
    "duration": 7,
    "start_time": "2024-02-09T19:39:39.683Z"
   },
   {
    "duration": 4,
    "start_time": "2024-02-09T19:49:18.213Z"
   },
   {
    "duration": 4,
    "start_time": "2024-02-09T19:49:19.812Z"
   },
   {
    "duration": 387738,
    "start_time": "2024-02-09T19:49:23.676Z"
   },
   {
    "duration": 8,
    "start_time": "2024-02-09T19:55:51.415Z"
   },
   {
    "duration": 4,
    "start_time": "2024-02-09T20:01:34.777Z"
   },
   {
    "duration": 7385,
    "start_time": "2024-02-09T20:01:38.733Z"
   },
   {
    "duration": 7,
    "start_time": "2024-02-09T20:01:46.120Z"
   },
   {
    "duration": 3,
    "start_time": "2024-02-09T20:01:54.927Z"
   },
   {
    "duration": 8,
    "start_time": "2024-02-09T20:02:01.220Z"
   },
   {
    "duration": 14499,
    "start_time": "2024-02-09T20:02:22.314Z"
   },
   {
    "duration": 383473,
    "start_time": "2024-02-09T20:02:43.636Z"
   },
   {
    "duration": 7,
    "start_time": "2024-02-09T20:09:07.111Z"
   },
   {
    "duration": 4,
    "start_time": "2024-02-09T20:15:24.202Z"
   },
   {
    "duration": 66595,
    "start_time": "2024-02-09T20:15:27.631Z"
   },
   {
    "duration": 4,
    "start_time": "2024-02-09T20:16:34.227Z"
   },
   {
    "duration": 6,
    "start_time": "2024-02-09T20:16:34.233Z"
   },
   {
    "duration": 369176,
    "start_time": "2024-02-09T20:16:35.465Z"
   },
   {
    "duration": 23196,
    "start_time": "2024-02-09T20:22:44.642Z"
   },
   {
    "duration": 4,
    "start_time": "2024-02-09T20:30:03.566Z"
   },
   {
    "duration": 4,
    "start_time": "2024-02-09T20:30:20.486Z"
   },
   {
    "duration": 4,
    "start_time": "2024-02-09T20:35:35.110Z"
   },
   {
    "duration": 4,
    "start_time": "2024-02-09T20:35:46.093Z"
   },
   {
    "duration": 4,
    "start_time": "2024-02-09T20:35:46.971Z"
   },
   {
    "duration": 1567,
    "start_time": "2024-02-09T21:02:11.914Z"
   },
   {
    "duration": 3235,
    "start_time": "2024-02-09T21:02:13.483Z"
   },
   {
    "duration": 10,
    "start_time": "2024-02-09T21:02:16.720Z"
   },
   {
    "duration": 29,
    "start_time": "2024-02-09T21:02:16.732Z"
   },
   {
    "duration": 220,
    "start_time": "2024-02-09T21:02:16.763Z"
   },
   {
    "duration": 10,
    "start_time": "2024-02-09T21:02:16.987Z"
   },
   {
    "duration": 5,
    "start_time": "2024-02-09T21:02:16.999Z"
   },
   {
    "duration": 4028,
    "start_time": "2024-02-09T21:02:17.005Z"
   },
   {
    "duration": 6,
    "start_time": "2024-02-09T21:02:21.035Z"
   },
   {
    "duration": 197,
    "start_time": "2024-02-09T21:02:21.042Z"
   },
   {
    "duration": 12,
    "start_time": "2024-02-09T21:02:21.240Z"
   },
   {
    "duration": 2,
    "start_time": "2024-02-09T21:02:21.254Z"
   },
   {
    "duration": 46,
    "start_time": "2024-02-09T21:02:21.258Z"
   },
   {
    "duration": 4,
    "start_time": "2024-02-09T21:02:21.307Z"
   },
   {
    "duration": 2214,
    "start_time": "2024-02-09T21:02:21.312Z"
   },
   {
    "duration": 142,
    "start_time": "2024-02-09T21:02:23.528Z"
   },
   {
    "duration": 8894,
    "start_time": "2024-02-09T21:02:23.672Z"
   },
   {
    "duration": 4,
    "start_time": "2024-02-09T21:02:32.568Z"
   },
   {
    "duration": 23,
    "start_time": "2024-02-09T21:02:32.573Z"
   },
   {
    "duration": 4,
    "start_time": "2024-02-09T21:02:32.597Z"
   },
   {
    "duration": 1520,
    "start_time": "2024-02-09T21:07:36.777Z"
   },
   {
    "duration": 831,
    "start_time": "2024-02-09T21:07:38.299Z"
   },
   {
    "duration": 10,
    "start_time": "2024-02-09T21:07:39.132Z"
   },
   {
    "duration": 29,
    "start_time": "2024-02-09T21:07:39.143Z"
   },
   {
    "duration": 246,
    "start_time": "2024-02-09T21:07:39.174Z"
   },
   {
    "duration": 10,
    "start_time": "2024-02-09T21:07:39.421Z"
   },
   {
    "duration": 4,
    "start_time": "2024-02-09T21:07:39.432Z"
   },
   {
    "duration": 4061,
    "start_time": "2024-02-09T21:07:39.437Z"
   },
   {
    "duration": 6,
    "start_time": "2024-02-09T21:07:43.500Z"
   },
   {
    "duration": 226,
    "start_time": "2024-02-09T21:07:43.508Z"
   },
   {
    "duration": 11,
    "start_time": "2024-02-09T21:07:43.736Z"
   },
   {
    "duration": 2,
    "start_time": "2024-02-09T21:07:43.748Z"
   },
   {
    "duration": 50,
    "start_time": "2024-02-09T21:07:43.751Z"
   },
   {
    "duration": 4,
    "start_time": "2024-02-09T21:07:43.804Z"
   },
   {
    "duration": 2231,
    "start_time": "2024-02-09T21:07:43.810Z"
   },
   {
    "duration": 237,
    "start_time": "2024-02-09T21:07:46.043Z"
   },
   {
    "duration": 9175,
    "start_time": "2024-02-09T21:07:46.281Z"
   },
   {
    "duration": 4,
    "start_time": "2024-02-09T21:07:55.457Z"
   },
   {
    "duration": 6,
    "start_time": "2024-02-09T21:07:55.463Z"
   },
   {
    "duration": 18,
    "start_time": "2024-02-09T21:07:55.470Z"
   },
   {
    "duration": 29,
    "start_time": "2024-02-09T21:10:15.224Z"
   },
   {
    "duration": 330297,
    "start_time": "2024-02-09T21:10:19.124Z"
   },
   {
    "duration": 8,
    "start_time": "2024-02-09T21:15:49.423Z"
   },
   {
    "duration": 161650,
    "start_time": "2024-02-09T21:16:09.377Z"
   },
   {
    "duration": 0,
    "start_time": "2024-02-09T21:18:51.029Z"
   },
   {
    "duration": 3,
    "start_time": "2024-02-09T21:19:17.572Z"
   },
   {
    "duration": 4,
    "start_time": "2024-02-09T21:19:21.174Z"
   },
   {
    "duration": 10,
    "start_time": "2024-02-09T21:19:25.274Z"
   },
   {
    "duration": 4,
    "start_time": "2024-02-09T21:19:29.230Z"
   },
   {
    "duration": 559762,
    "start_time": "2024-02-09T21:19:45.709Z"
   },
   {
    "duration": 1348,
    "start_time": "2024-02-09T21:29:49.111Z"
   },
   {
    "duration": 3664661,
    "start_time": "2024-02-09T21:30:29.006Z"
   },
   {
    "duration": 17,
    "start_time": "2024-02-09T22:31:33.668Z"
   },
   {
    "duration": 28,
    "start_time": "2024-02-09T22:38:59.506Z"
   },
   {
    "duration": 117,
    "start_time": "2024-02-09T22:39:14.868Z"
   },
   {
    "duration": 114,
    "start_time": "2024-02-09T22:39:46.110Z"
   },
   {
    "duration": 108,
    "start_time": "2024-02-09T22:39:50.799Z"
   },
   {
    "duration": 119,
    "start_time": "2024-02-09T22:39:56.223Z"
   },
   {
    "duration": 8,
    "start_time": "2024-02-09T22:40:34.899Z"
   },
   {
    "duration": 3,
    "start_time": "2024-02-09T22:40:42.999Z"
   },
   {
    "duration": 31,
    "start_time": "2024-02-09T22:42:07.245Z"
   },
   {
    "duration": 124,
    "start_time": "2024-02-09T22:42:12.983Z"
   },
   {
    "duration": 118,
    "start_time": "2024-02-09T22:42:32.992Z"
   },
   {
    "duration": 124,
    "start_time": "2024-02-09T22:42:38.017Z"
   },
   {
    "duration": 108,
    "start_time": "2024-02-09T22:42:49.548Z"
   },
   {
    "duration": 112,
    "start_time": "2024-02-09T22:42:52.740Z"
   },
   {
    "duration": 115,
    "start_time": "2024-02-09T22:43:49.025Z"
   },
   {
    "duration": 1258,
    "start_time": "2024-02-09T22:44:09.949Z"
   },
   {
    "duration": 36916,
    "start_time": "2024-02-09T22:44:29.902Z"
   },
   {
    "duration": 2366,
    "start_time": "2024-02-09T22:46:04.737Z"
   },
   {
    "duration": 28544,
    "start_time": "2024-02-09T22:46:24.565Z"
   },
   {
    "duration": 45,
    "start_time": "2024-02-09T22:52:02.797Z"
   },
   {
    "duration": 1778,
    "start_time": "2024-02-10T07:27:52.137Z"
   },
   {
    "duration": 2224,
    "start_time": "2024-02-10T07:27:53.916Z"
   },
   {
    "duration": 10,
    "start_time": "2024-02-10T07:27:56.141Z"
   },
   {
    "duration": 34,
    "start_time": "2024-02-10T07:27:56.152Z"
   },
   {
    "duration": 216,
    "start_time": "2024-02-10T07:27:56.188Z"
   },
   {
    "duration": 9,
    "start_time": "2024-02-10T07:27:56.405Z"
   },
   {
    "duration": 17,
    "start_time": "2024-02-10T07:27:56.416Z"
   },
   {
    "duration": 4055,
    "start_time": "2024-02-10T07:27:56.435Z"
   },
   {
    "duration": 6,
    "start_time": "2024-02-10T07:28:00.492Z"
   },
   {
    "duration": 168,
    "start_time": "2024-02-10T07:28:00.500Z"
   },
   {
    "duration": 11,
    "start_time": "2024-02-10T07:28:00.670Z"
   },
   {
    "duration": 74,
    "start_time": "2024-02-10T07:28:00.683Z"
   },
   {
    "duration": 69,
    "start_time": "2024-02-10T07:28:00.759Z"
   },
   {
    "duration": 15,
    "start_time": "2024-02-10T07:28:00.830Z"
   },
   {
    "duration": 2495,
    "start_time": "2024-02-10T07:28:00.847Z"
   },
   {
    "duration": 152,
    "start_time": "2024-02-10T07:28:03.344Z"
   },
   {
    "duration": 9415,
    "start_time": "2024-02-10T07:28:03.498Z"
   },
   {
    "duration": 5,
    "start_time": "2024-02-10T07:28:12.914Z"
   },
   {
    "duration": 20,
    "start_time": "2024-02-10T07:28:12.920Z"
   },
   {
    "duration": 11,
    "start_time": "2024-02-10T07:28:12.942Z"
   },
   {
    "duration": 904067,
    "start_time": "2024-02-10T07:28:12.955Z"
   },
   {
    "duration": 1328,
    "start_time": "2024-02-10T07:43:17.024Z"
   },
   {
    "duration": 2143762,
    "start_time": "2024-02-10T07:43:18.354Z"
   },
   {
    "duration": 16,
    "start_time": "2024-02-10T08:19:02.117Z"
   },
   {
    "duration": 0,
    "start_time": "2024-02-10T08:19:02.134Z"
   },
   {
    "duration": 0,
    "start_time": "2024-02-10T08:19:02.135Z"
   },
   {
    "duration": 1573,
    "start_time": "2024-02-10T08:46:29.700Z"
   },
   {
    "duration": 2213,
    "start_time": "2024-02-10T08:46:31.275Z"
   },
   {
    "duration": 10,
    "start_time": "2024-02-10T08:46:33.490Z"
   },
   {
    "duration": 46,
    "start_time": "2024-02-10T08:46:33.502Z"
   },
   {
    "duration": 219,
    "start_time": "2024-02-10T08:46:33.551Z"
   },
   {
    "duration": 10,
    "start_time": "2024-02-10T08:46:33.772Z"
   },
   {
    "duration": 24,
    "start_time": "2024-02-10T08:46:33.783Z"
   },
   {
    "duration": 4072,
    "start_time": "2024-02-10T08:46:33.809Z"
   },
   {
    "duration": 6,
    "start_time": "2024-02-10T08:46:37.883Z"
   },
   {
    "duration": 209,
    "start_time": "2024-02-10T08:46:37.891Z"
   },
   {
    "duration": 13,
    "start_time": "2024-02-10T08:46:38.102Z"
   },
   {
    "duration": 11,
    "start_time": "2024-02-10T08:46:38.117Z"
   },
   {
    "duration": 46,
    "start_time": "2024-02-10T08:46:38.133Z"
   },
   {
    "duration": 4,
    "start_time": "2024-02-10T08:46:38.181Z"
   },
   {
    "duration": 2232,
    "start_time": "2024-02-10T08:46:38.187Z"
   },
   {
    "duration": 138,
    "start_time": "2024-02-10T08:46:40.420Z"
   },
   {
    "duration": 8641,
    "start_time": "2024-02-10T08:46:40.560Z"
   },
   {
    "duration": 4,
    "start_time": "2024-02-10T08:46:49.203Z"
   },
   {
    "duration": 7,
    "start_time": "2024-02-10T08:46:49.208Z"
   },
   {
    "duration": 18,
    "start_time": "2024-02-10T08:46:49.216Z"
   },
   {
    "duration": 1497,
    "start_time": "2024-02-10T08:46:52.960Z"
   },
   {
    "duration": 811,
    "start_time": "2024-02-10T08:46:54.458Z"
   },
   {
    "duration": 9,
    "start_time": "2024-02-10T08:46:55.271Z"
   },
   {
    "duration": 32,
    "start_time": "2024-02-10T08:46:55.282Z"
   },
   {
    "duration": 237,
    "start_time": "2024-02-10T08:46:55.316Z"
   },
   {
    "duration": 9,
    "start_time": "2024-02-10T08:46:55.555Z"
   },
   {
    "duration": 18,
    "start_time": "2024-02-10T08:46:55.565Z"
   },
   {
    "duration": 4098,
    "start_time": "2024-02-10T08:46:55.584Z"
   },
   {
    "duration": 6,
    "start_time": "2024-02-10T08:46:59.684Z"
   },
   {
    "duration": 205,
    "start_time": "2024-02-10T08:46:59.691Z"
   },
   {
    "duration": 11,
    "start_time": "2024-02-10T08:46:59.898Z"
   },
   {
    "duration": 11,
    "start_time": "2024-02-10T08:46:59.910Z"
   },
   {
    "duration": 39,
    "start_time": "2024-02-10T08:46:59.924Z"
   },
   {
    "duration": 3,
    "start_time": "2024-02-10T08:46:59.965Z"
   },
   {
    "duration": 2157,
    "start_time": "2024-02-10T08:46:59.969Z"
   },
   {
    "duration": 199,
    "start_time": "2024-02-10T08:47:02.127Z"
   },
   {
    "duration": 8856,
    "start_time": "2024-02-10T08:47:02.327Z"
   },
   {
    "duration": 3,
    "start_time": "2024-02-10T08:47:11.185Z"
   },
   {
    "duration": 28,
    "start_time": "2024-02-10T08:47:11.191Z"
   },
   {
    "duration": 19,
    "start_time": "2024-02-10T08:47:11.220Z"
   },
   {
    "duration": 452422,
    "start_time": "2024-02-10T08:47:11.240Z"
   },
   {
    "duration": 1256,
    "start_time": "2024-02-10T08:54:43.664Z"
   },
   {
    "duration": 2884,
    "start_time": "2024-02-12T10:55:39.129Z"
   },
   {
    "duration": 2916,
    "start_time": "2024-02-12T10:55:42.015Z"
   },
   {
    "duration": 10,
    "start_time": "2024-02-12T10:55:44.933Z"
   },
   {
    "duration": 45,
    "start_time": "2024-02-12T10:55:44.945Z"
   },
   {
    "duration": 215,
    "start_time": "2024-02-12T10:55:44.992Z"
   },
   {
    "duration": 8,
    "start_time": "2024-02-12T10:55:45.209Z"
   },
   {
    "duration": 3,
    "start_time": "2024-02-12T10:56:30.722Z"
   },
   {
    "duration": 2,
    "start_time": "2024-02-12T10:57:45.711Z"
   },
   {
    "duration": 5819,
    "start_time": "2024-02-12T10:57:48.938Z"
   },
   {
    "duration": 6,
    "start_time": "2024-02-12T10:57:55.945Z"
   },
   {
    "duration": 164,
    "start_time": "2024-02-12T10:58:21.445Z"
   },
   {
    "duration": 4,
    "start_time": "2024-02-12T10:58:26.092Z"
   },
   {
    "duration": 3,
    "start_time": "2024-02-12T10:58:57.813Z"
   },
   {
    "duration": 849,
    "start_time": "2024-02-12T10:59:00.328Z"
   },
   {
    "duration": 249,
    "start_time": "2024-02-12T10:59:05.554Z"
   },
   {
    "duration": 3,
    "start_time": "2024-02-12T10:59:19.375Z"
   },
   {
    "duration": 173254,
    "start_time": "2024-02-12T10:59:21.266Z"
   },
   {
    "duration": 8,
    "start_time": "2024-02-12T11:02:31.665Z"
   },
   {
    "duration": 827,
    "start_time": "2024-02-12T11:02:49.322Z"
   },
   {
    "duration": 3,
    "start_time": "2024-02-12T11:03:17.989Z"
   },
   {
    "duration": 12,
    "start_time": "2024-02-12T11:03:33.226Z"
   },
   {
    "duration": 3,
    "start_time": "2024-02-12T11:03:41.997Z"
   },
   {
    "duration": 4,
    "start_time": "2024-02-12T11:03:42.208Z"
   },
   {
    "duration": 3,
    "start_time": "2024-02-12T11:03:59.803Z"
   },
   {
    "duration": 4,
    "start_time": "2024-02-12T11:04:02.428Z"
   },
   {
    "duration": 2,
    "start_time": "2024-02-12T11:04:52.837Z"
   },
   {
    "duration": 4,
    "start_time": "2024-02-12T11:04:53.826Z"
   },
   {
    "duration": 4,
    "start_time": "2024-02-12T11:05:02.834Z"
   },
   {
    "duration": 4,
    "start_time": "2024-02-12T11:05:38.605Z"
   },
   {
    "duration": 4,
    "start_time": "2024-02-12T11:05:52.305Z"
   },
   {
    "duration": 74,
    "start_time": "2024-02-12T11:06:09.033Z"
   },
   {
    "duration": 2,
    "start_time": "2024-02-12T11:06:11.122Z"
   },
   {
    "duration": 17,
    "start_time": "2024-02-12T11:06:13.826Z"
   },
   {
    "duration": 4,
    "start_time": "2024-02-12T11:06:33.461Z"
   },
   {
    "duration": 4,
    "start_time": "2024-02-12T11:08:24.243Z"
   },
   {
    "duration": 4,
    "start_time": "2024-02-12T11:08:29.690Z"
   },
   {
    "duration": 277,
    "start_time": "2024-02-12T11:09:50.544Z"
   },
   {
    "duration": 4,
    "start_time": "2024-02-12T11:10:05.450Z"
   },
   {
    "duration": 5,
    "start_time": "2024-02-12T11:12:26.741Z"
   },
   {
    "duration": 844,
    "start_time": "2024-02-12T11:12:27.958Z"
   },
   {
    "duration": 6,
    "start_time": "2024-02-12T11:12:29.573Z"
   },
   {
    "duration": 4,
    "start_time": "2024-02-12T11:12:55.051Z"
   },
   {
    "duration": 3,
    "start_time": "2024-02-12T11:13:12.231Z"
   },
   {
    "duration": 3,
    "start_time": "2024-02-12T11:13:21.877Z"
   },
   {
    "duration": 3,
    "start_time": "2024-02-12T11:13:40.066Z"
   },
   {
    "duration": 2,
    "start_time": "2024-02-12T11:17:33.005Z"
   },
   {
    "duration": 4,
    "start_time": "2024-02-12T11:17:36.701Z"
   },
   {
    "duration": 2,
    "start_time": "2024-02-12T11:17:46.043Z"
   },
   {
    "duration": 4,
    "start_time": "2024-02-12T11:17:49.071Z"
   },
   {
    "duration": 17,
    "start_time": "2024-02-12T11:18:56.137Z"
   },
   {
    "duration": 20,
    "start_time": "2024-02-12T11:19:08.734Z"
   },
   {
    "duration": 17,
    "start_time": "2024-02-12T11:20:34.928Z"
   },
   {
    "duration": 17,
    "start_time": "2024-02-12T11:20:50.252Z"
   },
   {
    "duration": 7,
    "start_time": "2024-02-12T11:21:14.274Z"
   },
   {
    "duration": 3,
    "start_time": "2024-02-12T11:21:32.937Z"
   },
   {
    "duration": 10,
    "start_time": "2024-02-12T11:21:54.928Z"
   },
   {
    "duration": 10,
    "start_time": "2024-02-12T11:21:58.834Z"
   },
   {
    "duration": 10,
    "start_time": "2024-02-12T11:23:23.574Z"
   },
   {
    "duration": 3,
    "start_time": "2024-02-12T11:23:29.498Z"
   },
   {
    "duration": 4,
    "start_time": "2024-02-12T11:23:30.007Z"
   },
   {
    "duration": 4,
    "start_time": "2024-02-12T11:23:30.452Z"
   },
   {
    "duration": 3,
    "start_time": "2024-02-12T11:23:30.891Z"
   },
   {
    "duration": 4,
    "start_time": "2024-02-12T11:23:50.861Z"
   },
   {
    "duration": 3,
    "start_time": "2024-02-12T11:24:07.868Z"
   },
   {
    "duration": 5,
    "start_time": "2024-02-12T11:25:45.227Z"
   },
   {
    "duration": 796,
    "start_time": "2024-02-12T11:25:45.818Z"
   },
   {
    "duration": 7,
    "start_time": "2024-02-12T11:25:47.354Z"
   },
   {
    "duration": 200,
    "start_time": "2024-02-12T11:25:52.281Z"
   },
   {
    "duration": 10,
    "start_time": "2024-02-12T11:25:52.570Z"
   },
   {
    "duration": 4,
    "start_time": "2024-02-12T11:25:53.052Z"
   },
   {
    "duration": 85092,
    "start_time": "2024-02-12T11:25:56.286Z"
   },
   {
    "duration": 7,
    "start_time": "2024-02-12T11:27:21.379Z"
   },
   {
    "duration": 30,
    "start_time": "2024-02-12T11:32:34.857Z"
   },
   {
    "duration": 29,
    "start_time": "2024-02-12T11:32:45.869Z"
   },
   {
    "duration": 14,
    "start_time": "2024-02-12T11:32:53.283Z"
   },
   {
    "duration": 13,
    "start_time": "2024-02-12T11:33:09.286Z"
   },
   {
    "duration": 558,
    "start_time": "2024-02-12T11:34:16.955Z"
   },
   {
    "duration": 33,
    "start_time": "2024-02-12T11:34:30.010Z"
   },
   {
    "duration": 48,
    "start_time": "2024-02-12T11:34:55.353Z"
   },
   {
    "duration": 16,
    "start_time": "2024-02-12T11:35:07.530Z"
   },
   {
    "duration": 17,
    "start_time": "2024-02-12T11:35:20.012Z"
   },
   {
    "duration": 33,
    "start_time": "2024-02-12T11:35:59.586Z"
   },
   {
    "duration": 198,
    "start_time": "2024-02-12T11:37:17.352Z"
   },
   {
    "duration": 3,
    "start_time": "2024-02-12T11:37:20.252Z"
   },
   {
    "duration": 87,
    "start_time": "2024-02-12T11:37:21.136Z"
   },
   {
    "duration": 11,
    "start_time": "2024-02-12T11:37:24.210Z"
   },
   {
    "duration": 10,
    "start_time": "2024-02-12T11:37:24.865Z"
   },
   {
    "duration": 8,
    "start_time": "2024-02-12T11:37:26.617Z"
   },
   {
    "duration": 2,
    "start_time": "2024-02-12T11:37:26.872Z"
   },
   {
    "duration": 27,
    "start_time": "2024-02-12T11:37:27.094Z"
   },
   {
    "duration": 4,
    "start_time": "2024-02-12T11:37:27.628Z"
   },
   {
    "duration": 33,
    "start_time": "2024-02-12T11:37:29.528Z"
   },
   {
    "duration": 6575,
    "start_time": "2024-02-12T11:37:31.752Z"
   },
   {
    "duration": 2962,
    "start_time": "2024-02-12T12:47:08.369Z"
   },
   {
    "duration": 844,
    "start_time": "2024-02-12T12:47:11.333Z"
   },
   {
    "duration": 15,
    "start_time": "2024-02-12T12:47:12.179Z"
   },
   {
    "duration": 39,
    "start_time": "2024-02-12T12:47:12.196Z"
   },
   {
    "duration": 234,
    "start_time": "2024-02-12T12:47:12.238Z"
   },
   {
    "duration": 9,
    "start_time": "2024-02-12T12:47:12.473Z"
   },
   {
    "duration": 13,
    "start_time": "2024-02-12T12:47:12.484Z"
   },
   {
    "duration": 83742,
    "start_time": "2024-02-12T12:47:12.498Z"
   },
   {
    "duration": 6,
    "start_time": "2024-02-12T12:48:36.242Z"
   },
   {
    "duration": 268,
    "start_time": "2024-02-12T12:48:36.250Z"
   },
   {
    "duration": 11,
    "start_time": "2024-02-12T12:48:36.519Z"
   },
   {
    "duration": 14,
    "start_time": "2024-02-12T12:48:36.531Z"
   },
   {
    "duration": 33,
    "start_time": "2024-02-12T12:48:36.547Z"
   },
   {
    "duration": 3,
    "start_time": "2024-02-12T12:48:36.582Z"
   },
   {
    "duration": 35,
    "start_time": "2024-02-12T12:48:36.587Z"
   },
   {
    "duration": 20,
    "start_time": "2024-02-12T12:48:36.623Z"
   },
   {
    "duration": 12,
    "start_time": "2024-02-12T12:48:36.644Z"
   },
   {
    "duration": 6409,
    "start_time": "2024-02-12T12:48:36.657Z"
   },
   {
    "duration": 6,
    "start_time": "2024-02-12T12:48:43.067Z"
   },
   {
    "duration": 9,
    "start_time": "2024-02-12T13:07:59.563Z"
   },
   {
    "duration": 5,
    "start_time": "2024-02-12T13:10:28.011Z"
   },
   {
    "duration": 384893,
    "start_time": "2024-02-12T13:10:31.630Z"
   },
   {
    "duration": 154,
    "start_time": "2024-02-12T13:17:23.107Z"
   },
   {
    "duration": 4,
    "start_time": "2024-02-12T13:17:31.216Z"
   },
   {
    "duration": 1514,
    "start_time": "2024-02-12T13:17:33.871Z"
   },
   {
    "duration": 131,
    "start_time": "2024-02-12T13:23:26.636Z"
   },
   {
    "duration": 128,
    "start_time": "2024-02-12T13:23:48.342Z"
   },
   {
    "duration": 466175,
    "start_time": "2024-02-12T13:24:39.456Z"
   },
   {
    "duration": 1517,
    "start_time": "2024-02-12T13:33:17.527Z"
   },
   {
    "duration": 5,
    "start_time": "2024-02-12T13:44:50.259Z"
   },
   {
    "duration": 6,
    "start_time": "2024-02-12T13:48:18.056Z"
   },
   {
    "duration": 121,
    "start_time": "2024-02-12T13:48:20.562Z"
   },
   {
    "duration": 4,
    "start_time": "2024-02-12T13:49:11.897Z"
   },
   {
    "duration": 307187,
    "start_time": "2024-02-12T13:49:14.495Z"
   },
   {
    "duration": 165,
    "start_time": "2024-02-12T13:55:08.633Z"
   },
   {
    "duration": 47,
    "start_time": "2024-02-12T13:55:59.157Z"
   },
   {
    "duration": 45,
    "start_time": "2024-02-12T13:56:30.846Z"
   },
   {
    "duration": 43,
    "start_time": "2024-02-12T13:56:37.604Z"
   },
   {
    "duration": 44,
    "start_time": "2024-02-12T13:56:42.250Z"
   },
   {
    "duration": 43,
    "start_time": "2024-02-12T13:56:46.053Z"
   },
   {
    "duration": 44,
    "start_time": "2024-02-12T13:56:48.734Z"
   },
   {
    "duration": 44,
    "start_time": "2024-02-12T13:56:56.649Z"
   },
   {
    "duration": 5,
    "start_time": "2024-02-12T14:02:28.413Z"
   },
   {
    "duration": 312568,
    "start_time": "2024-02-12T14:04:21.666Z"
   },
   {
    "duration": 45,
    "start_time": "2024-02-12T14:09:48.182Z"
   },
   {
    "duration": 20,
    "start_time": "2024-02-12T14:21:14.100Z"
   },
   {
    "duration": 44,
    "start_time": "2024-02-12T14:22:19.499Z"
   },
   {
    "duration": 81,
    "start_time": "2024-02-12T14:23:05.160Z"
   },
   {
    "duration": 3,
    "start_time": "2024-02-12T14:23:59.115Z"
   },
   {
    "duration": 1753,
    "start_time": "2024-02-12T14:24:02.856Z"
   },
   {
    "duration": 318,
    "start_time": "2024-02-12T14:25:00.725Z"
   },
   {
    "duration": 93,
    "start_time": "2024-02-12T14:25:12.331Z"
   },
   {
    "duration": 31,
    "start_time": "2024-02-12T14:25:29.429Z"
   },
   {
    "duration": 94,
    "start_time": "2024-02-12T14:26:19.848Z"
   },
   {
    "duration": 207,
    "start_time": "2024-02-12T14:27:41.204Z"
   },
   {
    "duration": 169,
    "start_time": "2024-02-12T14:27:46.636Z"
   },
   {
    "duration": 199,
    "start_time": "2024-02-12T14:27:47.034Z"
   },
   {
    "duration": 10,
    "start_time": "2024-02-12T14:37:28.116Z"
   },
   {
    "duration": 6647,
    "start_time": "2024-02-12T14:37:33.386Z"
   },
   {
    "duration": 3903,
    "start_time": "2024-02-12T14:38:13.377Z"
   },
   {
    "duration": 5302,
    "start_time": "2024-02-12T14:38:39.612Z"
   },
   {
    "duration": 5,
    "start_time": "2024-02-12T14:39:47.458Z"
   },
   {
    "duration": 385,
    "start_time": "2024-02-12T14:40:01.158Z"
   },
   {
    "duration": 13,
    "start_time": "2024-02-12T14:40:13.066Z"
   },
   {
    "duration": 10,
    "start_time": "2024-02-12T14:41:56.497Z"
   },
   {
    "duration": 3,
    "start_time": "2024-02-12T14:42:04.205Z"
   },
   {
    "duration": 10877,
    "start_time": "2024-02-12T14:42:05.207Z"
   },
   {
    "duration": 46650,
    "start_time": "2024-02-12T14:42:20.569Z"
   },
   {
    "duration": 4,
    "start_time": "2024-02-12T14:43:34.053Z"
   },
   {
    "duration": 4,
    "start_time": "2024-02-12T14:44:38.489Z"
   },
   {
    "duration": 4,
    "start_time": "2024-02-12T14:44:59.298Z"
   },
   {
    "duration": 38,
    "start_time": "2024-02-12T14:45:04.826Z"
   },
   {
    "duration": 2,
    "start_time": "2024-02-12T14:45:10.454Z"
   },
   {
    "duration": 3,
    "start_time": "2024-02-12T14:45:10.760Z"
   },
   {
    "duration": 34,
    "start_time": "2024-02-12T14:45:10.972Z"
   },
   {
    "duration": 15,
    "start_time": "2024-02-12T14:45:19.924Z"
   },
   {
    "duration": 5,
    "start_time": "2024-02-12T14:45:41.255Z"
   },
   {
    "duration": 11,
    "start_time": "2024-02-12T14:47:27.848Z"
   },
   {
    "duration": 11,
    "start_time": "2024-02-12T14:48:32.875Z"
   },
   {
    "duration": 3,
    "start_time": "2024-02-12T14:53:04.957Z"
   },
   {
    "duration": 44,
    "start_time": "2024-02-12T14:58:18.475Z"
   },
   {
    "duration": 1032,
    "start_time": "2024-02-12T14:58:45.274Z"
   },
   {
    "duration": 6647,
    "start_time": "2024-02-12T14:59:19.468Z"
   },
   {
    "duration": 959,
    "start_time": "2024-02-12T14:59:49.859Z"
   },
   {
    "duration": 19,
    "start_time": "2024-02-12T15:00:15.928Z"
   },
   {
    "duration": 12,
    "start_time": "2024-02-12T15:00:58.929Z"
   },
   {
    "duration": 3,
    "start_time": "2024-02-12T15:01:12.397Z"
   },
   {
    "duration": 11,
    "start_time": "2024-02-12T15:01:17.568Z"
   },
   {
    "duration": 13464,
    "start_time": "2024-02-12T15:02:10.479Z"
   }
  ],
  "kernelspec": {
   "display_name": "Python 3 (ipykernel)",
   "language": "python",
   "name": "python3"
  },
  "language_info": {
   "codemirror_mode": {
    "name": "ipython",
    "version": 3
   },
   "file_extension": ".py",
   "mimetype": "text/x-python",
   "name": "python",
   "nbconvert_exporter": "python",
   "pygments_lexer": "ipython3",
   "version": "3.9.5"
  },
  "toc": {
   "base_numbering": 1,
   "nav_menu": {},
   "number_sections": true,
   "sideBar": true,
   "skip_h1_title": true,
   "title_cell": "Содержание",
   "title_sidebar": "Contents",
   "toc_cell": true,
   "toc_position": {
    "height": "calc(100% - 180px)",
    "left": "10px",
    "top": "150px",
    "width": "302.391px"
   },
   "toc_section_display": true,
   "toc_window_display": false
  }
 },
 "nbformat": 4,
 "nbformat_minor": 4
}
