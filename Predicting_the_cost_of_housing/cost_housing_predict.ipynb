{
 "cells": [
  {
   "cell_type": "markdown",
   "id": "GEqQaHzsZ_bA",
   "metadata": {
    "id": "GEqQaHzsZ_bA"
   },
   "source": [
    "# Предсказание стоимости жилья\n",
    "\n",
    "В проекте вам нужно обучить модель линейной регрессии на данных о жилье в Калифорнии в 1990 году. На основе данных нужно предсказать медианную стоимость дома в жилом массиве. Обучите модель и сделайте предсказания на тестовой выборке. Для оценки качества модели используйте метрики RMSE, MAE и R2.\n",
    "\n",
    "Предсказание стоимости жилья в Калифорнии в 1990 году. \n",
    "**Цель проекта** - обучить модель линейной регрессии на данных о жилье в Калифорнии в 1990 году. На основе данных нужно предсказать медианную стоимость дома в жилом массиве. Для оценки качества модели используйте метрики RMSE, MAE и R2.\n",
    "\n",
    "**В колонках датасета содержатся следующие данные:**\n",
    "\n",
    "- longitude — широта;\n",
    "- latitude — долгота;\n",
    "- housing_median_age — медианный возраст жителей жилого массива;\n",
    "- total_rooms — общее количество комнат в домах жилого массива;\n",
    "- total_bedrooms — общее количество спален в домах жилого массива;\n",
    "- population — количество человек, которые проживают в жилом массиве;\n",
    "- households — количество домовладений в жилом массиве;\n",
    "- median_income — медианный доход жителей жилого массива;\n",
    "- median_house_value — медианная стоимость дома в жилом массиве;\n",
    "- ocean_proximity — близость к океану.\n",
    "\n",
    "**План работ:**\n",
    "\n",
    "- Подготовка данных\n",
    "- Обучение моделей\n",
    "- Анализ результатов"
   ]
  },
  {
   "cell_type": "markdown",
   "id": "53871372",
   "metadata": {
    "id": "53871372"
   },
   "source": [
    "# Подготовка данных"
   ]
  },
  {
   "cell_type": "code",
   "execution_count": 49,
   "id": "0510a02e",
   "metadata": {},
   "outputs": [],
   "source": [
    "# загрузка основных библиотек\n",
    "import pandas as pd \n",
    "import numpy as np\n",
    "import pyspark\n",
    "\n",
    "from pyspark.sql import SparkSession\n",
    "from pyspark.sql.types import *\n",
    "import pyspark.sql.functions as F\n",
    "from functools import reduce\n",
    "\n",
    "from pyspark.ml.feature import (StringIndexer,\n",
    "                                VectorAssembler,\n",
    "                                StandardScaler,\n",
    "                                Imputer)\n",
    "\n",
    "from pyspark.ml.evaluation import RegressionEvaluator\n",
    "\n",
    "from pyspark.ml import Pipeline\n",
    "\n",
    "from pyspark.ml.regression import (DecisionTreeRegressor, \n",
    "                                   RandomForestRegressor,\n",
    "                                     LinearRegression,\n",
    "                                      GBTRegressor)\n",
    "\n",
    "from pyspark.ml.tuning import ParamGridBuilder, TrainValidationSplit\n",
    "\n",
    "pyspark_version = pyspark.__version__\n",
    "if int(pyspark_version[:1]) == 3:\n",
    "    from pyspark.ml.feature import OneHotEncoder    \n",
    "elif int(pyspark_version[:1]) == 2:\n",
    "    from pyspark.ml.feature import OneHotEncodeEstimator\n",
    "        "
   ]
  },
  {
   "cell_type": "code",
   "execution_count": 2,
   "id": "87022f8f",
   "metadata": {},
   "outputs": [
    {
     "data": {
      "text/html": [
       "<style>.container { width:85% !important; }</style>"
      ],
      "text/plain": [
       "<IPython.core.display.HTML object>"
      ]
     },
     "metadata": {},
     "output_type": "display_data"
    }
   ],
   "source": [
    "from IPython.core.display import display, HTML\n",
    "display(HTML(\"<style>.container { width:85% !important; }</style>\"))"
   ]
  },
  {
   "cell_type": "code",
   "execution_count": 3,
   "id": "7feeb213",
   "metadata": {},
   "outputs": [],
   "source": [
    "# запуск спарк сессии\n",
    "spark = SparkSession.builder \\\n",
    "                    .master(\"local\") \\\n",
    "                    .appName('California housing predict') \\\n",
    "                    .getOrCreate()"
   ]
  },
  {
   "cell_type": "code",
   "execution_count": 4,
   "id": "f393e38c",
   "metadata": {},
   "outputs": [
    {
     "name": "stderr",
     "output_type": "stream",
     "text": [
      "                                                                                \r"
     ]
    }
   ],
   "source": [
    "# читаем датасет \n",
    "df = spark.read.load('/datasets/housing.csv',format=\"csv\", \n",
    "                     sep=\",\", inferSchema=True, \n",
    "                    header=\"true\")"
   ]
  },
  {
   "cell_type": "code",
   "execution_count": 5,
   "id": "acee33aa",
   "metadata": {},
   "outputs": [
    {
     "name": "stdout",
     "output_type": "stream",
     "text": [
      "root\n",
      " |-- longitude: double (nullable = true)\n",
      " |-- latitude: double (nullable = true)\n",
      " |-- housing_median_age: double (nullable = true)\n",
      " |-- total_rooms: double (nullable = true)\n",
      " |-- total_bedrooms: double (nullable = true)\n",
      " |-- population: double (nullable = true)\n",
      " |-- households: double (nullable = true)\n",
      " |-- median_income: double (nullable = true)\n",
      " |-- median_house_value: double (nullable = true)\n",
      " |-- ocean_proximity: string (nullable = true)\n",
      "\n",
      "+---------+--------+------------------+-----------+--------------+----------+----------+-------------+------------------+---------------+\n",
      "|longitude|latitude|housing_median_age|total_rooms|total_bedrooms|population|households|median_income|median_house_value|ocean_proximity|\n",
      "+---------+--------+------------------+-----------+--------------+----------+----------+-------------+------------------+---------------+\n",
      "|  -122.23|   37.88|              41.0|      880.0|         129.0|     322.0|     126.0|       8.3252|          452600.0|       NEAR BAY|\n",
      "|  -122.22|   37.86|              21.0|     7099.0|        1106.0|    2401.0|    1138.0|       8.3014|          358500.0|       NEAR BAY|\n",
      "|  -122.24|   37.85|              52.0|     1467.0|         190.0|     496.0|     177.0|       7.2574|          352100.0|       NEAR BAY|\n",
      "|  -122.25|   37.85|              52.0|     1274.0|         235.0|     558.0|     219.0|       5.6431|          341300.0|       NEAR BAY|\n",
      "|  -122.25|   37.85|              52.0|     1627.0|         280.0|     565.0|     259.0|       3.8462|          342200.0|       NEAR BAY|\n",
      "|  -122.25|   37.85|              52.0|      919.0|         213.0|     413.0|     193.0|       4.0368|          269700.0|       NEAR BAY|\n",
      "|  -122.25|   37.84|              52.0|     2535.0|         489.0|    1094.0|     514.0|       3.6591|          299200.0|       NEAR BAY|\n",
      "|  -122.25|   37.84|              52.0|     3104.0|         687.0|    1157.0|     647.0|         3.12|          241400.0|       NEAR BAY|\n",
      "|  -122.26|   37.84|              42.0|     2555.0|         665.0|    1206.0|     595.0|       2.0804|          226700.0|       NEAR BAY|\n",
      "|  -122.25|   37.84|              52.0|     3549.0|         707.0|    1551.0|     714.0|       3.6912|          261100.0|       NEAR BAY|\n",
      "|  -122.26|   37.85|              52.0|     2202.0|         434.0|     910.0|     402.0|       3.2031|          281500.0|       NEAR BAY|\n",
      "|  -122.26|   37.85|              52.0|     3503.0|         752.0|    1504.0|     734.0|       3.2705|          241800.0|       NEAR BAY|\n",
      "|  -122.26|   37.85|              52.0|     2491.0|         474.0|    1098.0|     468.0|        3.075|          213500.0|       NEAR BAY|\n",
      "|  -122.26|   37.84|              52.0|      696.0|         191.0|     345.0|     174.0|       2.6736|          191300.0|       NEAR BAY|\n",
      "|  -122.26|   37.85|              52.0|     2643.0|         626.0|    1212.0|     620.0|       1.9167|          159200.0|       NEAR BAY|\n",
      "|  -122.26|   37.85|              50.0|     1120.0|         283.0|     697.0|     264.0|        2.125|          140000.0|       NEAR BAY|\n",
      "|  -122.27|   37.85|              52.0|     1966.0|         347.0|     793.0|     331.0|        2.775|          152500.0|       NEAR BAY|\n",
      "|  -122.27|   37.85|              52.0|     1228.0|         293.0|     648.0|     303.0|       2.1202|          155500.0|       NEAR BAY|\n",
      "|  -122.26|   37.84|              50.0|     2239.0|         455.0|     990.0|     419.0|       1.9911|          158700.0|       NEAR BAY|\n",
      "|  -122.27|   37.84|              52.0|     1503.0|         298.0|     690.0|     275.0|       2.6033|          162900.0|       NEAR BAY|\n",
      "+---------+--------+------------------+-----------+--------------+----------+----------+-------------+------------------+---------------+\n",
      "only showing top 20 rows\n",
      "\n"
     ]
    },
    {
     "data": {
      "text/plain": [
       "20640"
      ]
     },
     "execution_count": 5,
     "metadata": {},
     "output_type": "execute_result"
    }
   ],
   "source": [
    "# просмотр датасета\n",
    "df.printSchema()\n",
    "df.show()\n",
    "df.count()"
   ]
  },
  {
   "cell_type": "code",
   "execution_count": 6,
   "id": "b69d7bea",
   "metadata": {},
   "outputs": [
    {
     "name": "stdout",
     "output_type": "stream",
     "text": [
      "+---------+--------+------------------+-----------+--------------+----------+----------+-------------+------------------+---------------+\n",
      "|longitude|latitude|housing_median_age|total_rooms|total_bedrooms|population|households|median_income|median_house_value|ocean_proximity|\n",
      "+---------+--------+------------------+-----------+--------------+----------+----------+-------------+------------------+---------------+\n",
      "|  -122.16|   37.77|              47.0|     1256.0|          null|     570.0|     218.0|        4.375|          161900.0|       NEAR BAY|\n",
      "|  -122.17|   37.75|              38.0|      992.0|          null|     732.0|     259.0|       1.6196|           85100.0|       NEAR BAY|\n",
      "|  -122.28|   37.78|              29.0|     5154.0|          null|    3741.0|    1273.0|       2.5762|          173400.0|       NEAR BAY|\n",
      "|  -122.24|   37.75|              45.0|      891.0|          null|     384.0|     146.0|       4.9489|          247100.0|       NEAR BAY|\n",
      "|   -122.1|   37.69|              41.0|      746.0|          null|     387.0|     161.0|       3.9063|          178400.0|       NEAR BAY|\n",
      "|  -122.14|   37.67|              37.0|     3342.0|          null|    1635.0|     557.0|       4.7933|          186900.0|       NEAR BAY|\n",
      "|  -121.77|   39.66|              20.0|     3759.0|          null|    1705.0|     600.0|        4.712|          158600.0|         INLAND|\n",
      "|  -121.95|   38.03|               5.0|     5526.0|          null|    3207.0|    1012.0|       4.0767|          143100.0|         INLAND|\n",
      "|  -121.98|   37.96|              22.0|     2987.0|          null|    1420.0|     540.0|         3.65|          204100.0|         INLAND|\n",
      "|  -122.01|   37.94|              23.0|     3741.0|          null|    1339.0|     499.0|       6.7061|          322300.0|       NEAR BAY|\n",
      "|  -122.08|   37.88|              26.0|     2947.0|          null|     825.0|     626.0|        2.933|           85000.0|       NEAR BAY|\n",
      "|  -119.75|   36.71|              38.0|     1481.0|          null|    1543.0|     372.0|       1.4577|           49800.0|         INLAND|\n",
      "|  -119.72|   36.76|              23.0|     6403.0|          null|    3573.0|    1260.0|       2.3006|           69000.0|         INLAND|\n",
      "|  -119.78|   36.82|              25.0|     5016.0|          null|    2133.0|     928.0|        3.625|           89500.0|         INLAND|\n",
      "|  -119.73|   36.83|               8.0|     3602.0|          null|    1959.0|     580.0|       5.3478|          138800.0|         INLAND|\n",
      "|  -119.69|   36.83|              32.0|     1098.0|          null|     726.0|     224.0|       1.4913|           54600.0|         INLAND|\n",
      "|  -119.68|   36.79|              16.0|     1551.0|          null|    1010.0|     292.0|       3.5417|           71300.0|         INLAND|\n",
      "|  -119.45|   36.61|              24.0|     1302.0|          null|     693.0|     243.0|       3.7917|           90500.0|         INLAND|\n",
      "|  -119.44|   36.58|              37.0|     1054.0|          null|     879.0|     257.0|       2.5234|           63500.0|         INLAND|\n",
      "|  -124.06|   40.86|              34.0|     4183.0|          null|    1891.0|     669.0|       3.2216|           98100.0|     NEAR OCEAN|\n",
      "+---------+--------+------------------+-----------+--------------+----------+----------+-------------+------------------+---------------+\n",
      "only showing top 20 rows\n",
      "\n"
     ]
    },
    {
     "data": {
      "text/plain": [
       "207"
      ]
     },
     "execution_count": 6,
     "metadata": {},
     "output_type": "execute_result"
    }
   ],
   "source": [
    "# изучение пустых значений\n",
    "\n",
    "df.where(reduce(lambda x, y: x | y, (F.col(x).isNull() for x in df.columns))).show()\n",
    "\n",
    "df.where(reduce(lambda x, y: x | y, (F.col(x).isNull() for x in df.columns))).count()"
   ]
  },
  {
   "cell_type": "code",
   "execution_count": 9,
   "id": "b3dca050",
   "metadata": {},
   "outputs": [],
   "source": [
    "# замена пустых значений на медианные\n",
    "imputer = Imputer(inputCol=\"total_bedrooms\", outputCol=\"total_bedrooms_out\")"
   ]
  },
  {
   "cell_type": "code",
   "execution_count": 10,
   "id": "c627c7b3",
   "metadata": {},
   "outputs": [],
   "source": [
    "model_inp = imputer.setStrategy(\"median\").setMissingValue(1.0).fit(df)"
   ]
  },
  {
   "cell_type": "code",
   "execution_count": 11,
   "id": "1161927f",
   "metadata": {},
   "outputs": [
    {
     "name": "stdout",
     "output_type": "stream",
     "text": [
      "+--------------+\n",
      "|total_bedrooms|\n",
      "+--------------+\n",
      "|         435.0|\n",
      "+--------------+\n",
      "\n"
     ]
    }
   ],
   "source": [
    "model_inp.surrogateDF.show()"
   ]
  },
  {
   "cell_type": "code",
   "execution_count": 12,
   "id": "0636e403",
   "metadata": {},
   "outputs": [],
   "source": [
    "# трансформирую пустые строчки\n",
    "df = model_inp.transform(df)"
   ]
  },
  {
   "cell_type": "code",
   "execution_count": 13,
   "id": "813b62c6",
   "metadata": {},
   "outputs": [],
   "source": [
    "# удаляю старый столбец и переименовываю новый\n",
    "df = df.drop('total_bedrooms')\n",
    "df = df.withColumnRenamed('total_bedrooms_out', 'total_bedrooms')"
   ]
  },
  {
   "cell_type": "code",
   "execution_count": 22,
   "id": "7ffabb97",
   "metadata": {},
   "outputs": [
    {
     "name": "stdout",
     "output_type": "stream",
     "text": [
      "root\n",
      " |-- longitude: double (nullable = true)\n",
      " |-- latitude: double (nullable = true)\n",
      " |-- housing_median_age: double (nullable = true)\n",
      " |-- total_rooms: double (nullable = true)\n",
      " |-- population: double (nullable = true)\n",
      " |-- households: double (nullable = true)\n",
      " |-- median_income: double (nullable = true)\n",
      " |-- median_house_value: double (nullable = true)\n",
      " |-- ocean_proximity: string (nullable = true)\n",
      " |-- total_bedrooms: double (nullable = true)\n",
      "\n",
      "+---------+--------+------------------+-----------+----------+----------+-------------+------------------+---------------+--------------+\n",
      "|longitude|latitude|housing_median_age|total_rooms|population|households|median_income|median_house_value|ocean_proximity|total_bedrooms|\n",
      "+---------+--------+------------------+-----------+----------+----------+-------------+------------------+---------------+--------------+\n",
      "|  -122.23|   37.88|              41.0|      880.0|     322.0|     126.0|       8.3252|          452600.0|       NEAR BAY|         129.0|\n",
      "|  -122.22|   37.86|              21.0|     7099.0|    2401.0|    1138.0|       8.3014|          358500.0|       NEAR BAY|        1106.0|\n",
      "|  -122.24|   37.85|              52.0|     1467.0|     496.0|     177.0|       7.2574|          352100.0|       NEAR BAY|         190.0|\n",
      "|  -122.25|   37.85|              52.0|     1274.0|     558.0|     219.0|       5.6431|          341300.0|       NEAR BAY|         235.0|\n",
      "|  -122.25|   37.85|              52.0|     1627.0|     565.0|     259.0|       3.8462|          342200.0|       NEAR BAY|         280.0|\n",
      "|  -122.25|   37.85|              52.0|      919.0|     413.0|     193.0|       4.0368|          269700.0|       NEAR BAY|         213.0|\n",
      "|  -122.25|   37.84|              52.0|     2535.0|    1094.0|     514.0|       3.6591|          299200.0|       NEAR BAY|         489.0|\n",
      "|  -122.25|   37.84|              52.0|     3104.0|    1157.0|     647.0|         3.12|          241400.0|       NEAR BAY|         687.0|\n",
      "|  -122.26|   37.84|              42.0|     2555.0|    1206.0|     595.0|       2.0804|          226700.0|       NEAR BAY|         665.0|\n",
      "|  -122.25|   37.84|              52.0|     3549.0|    1551.0|     714.0|       3.6912|          261100.0|       NEAR BAY|         707.0|\n",
      "|  -122.26|   37.85|              52.0|     2202.0|     910.0|     402.0|       3.2031|          281500.0|       NEAR BAY|         434.0|\n",
      "|  -122.26|   37.85|              52.0|     3503.0|    1504.0|     734.0|       3.2705|          241800.0|       NEAR BAY|         752.0|\n",
      "|  -122.26|   37.85|              52.0|     2491.0|    1098.0|     468.0|        3.075|          213500.0|       NEAR BAY|         474.0|\n",
      "|  -122.26|   37.84|              52.0|      696.0|     345.0|     174.0|       2.6736|          191300.0|       NEAR BAY|         191.0|\n",
      "|  -122.26|   37.85|              52.0|     2643.0|    1212.0|     620.0|       1.9167|          159200.0|       NEAR BAY|         626.0|\n",
      "|  -122.26|   37.85|              50.0|     1120.0|     697.0|     264.0|        2.125|          140000.0|       NEAR BAY|         283.0|\n",
      "|  -122.27|   37.85|              52.0|     1966.0|     793.0|     331.0|        2.775|          152500.0|       NEAR BAY|         347.0|\n",
      "|  -122.27|   37.85|              52.0|     1228.0|     648.0|     303.0|       2.1202|          155500.0|       NEAR BAY|         293.0|\n",
      "|  -122.26|   37.84|              50.0|     2239.0|     990.0|     419.0|       1.9911|          158700.0|       NEAR BAY|         455.0|\n",
      "|  -122.27|   37.84|              52.0|     1503.0|     690.0|     275.0|       2.6033|          162900.0|       NEAR BAY|         298.0|\n",
      "+---------+--------+------------------+-----------+----------+----------+-------------+------------------+---------------+--------------+\n",
      "only showing top 20 rows\n",
      "\n"
     ]
    },
    {
     "data": {
      "text/plain": [
       "20640"
      ]
     },
     "execution_count": 22,
     "metadata": {},
     "output_type": "execute_result"
    }
   ],
   "source": [
    "# проверка выводимых значений\n",
    "df.printSchema()\n",
    "df.show()\n",
    "df.count()"
   ]
  },
  {
   "cell_type": "code",
   "execution_count": 23,
   "id": "e02b9e41",
   "metadata": {},
   "outputs": [
    {
     "name": "stderr",
     "output_type": "stream",
     "text": [
      "                                                                                \r"
     ]
    },
    {
     "data": {
      "text/html": [
       "<div>\n",
       "<style scoped>\n",
       "    .dataframe tbody tr th:only-of-type {\n",
       "        vertical-align: middle;\n",
       "    }\n",
       "\n",
       "    .dataframe tbody tr th {\n",
       "        vertical-align: top;\n",
       "    }\n",
       "\n",
       "    .dataframe thead th {\n",
       "        text-align: right;\n",
       "    }\n",
       "</style>\n",
       "<table border=\"1\" class=\"dataframe\">\n",
       "  <thead>\n",
       "    <tr style=\"text-align: right;\">\n",
       "      <th></th>\n",
       "      <th>summary</th>\n",
       "      <th>longitude</th>\n",
       "      <th>latitude</th>\n",
       "      <th>housing_median_age</th>\n",
       "      <th>total_rooms</th>\n",
       "      <th>population</th>\n",
       "      <th>households</th>\n",
       "      <th>median_income</th>\n",
       "      <th>median_house_value</th>\n",
       "      <th>ocean_proximity</th>\n",
       "      <th>total_bedrooms</th>\n",
       "    </tr>\n",
       "  </thead>\n",
       "  <tbody>\n",
       "    <tr>\n",
       "      <th>0</th>\n",
       "      <td>count</td>\n",
       "      <td>20640</td>\n",
       "      <td>20640</td>\n",
       "      <td>20640</td>\n",
       "      <td>20640</td>\n",
       "      <td>20640</td>\n",
       "      <td>20640</td>\n",
       "      <td>20640</td>\n",
       "      <td>20640</td>\n",
       "      <td>20640</td>\n",
       "      <td>20640</td>\n",
       "    </tr>\n",
       "    <tr>\n",
       "      <th>1</th>\n",
       "      <td>mean</td>\n",
       "      <td>-119.56970445736148</td>\n",
       "      <td>35.6318614341087</td>\n",
       "      <td>28.639486434108527</td>\n",
       "      <td>2635.7630813953488</td>\n",
       "      <td>1425.4767441860465</td>\n",
       "      <td>499.5396802325581</td>\n",
       "      <td>3.8706710029070246</td>\n",
       "      <td>206855.81690891474</td>\n",
       "      <td>None</td>\n",
       "      <td>536.8598837209303</td>\n",
       "    </tr>\n",
       "    <tr>\n",
       "      <th>2</th>\n",
       "      <td>stddev</td>\n",
       "      <td>2.003531723502584</td>\n",
       "      <td>2.135952397457101</td>\n",
       "      <td>12.58555761211163</td>\n",
       "      <td>2181.6152515827944</td>\n",
       "      <td>1132.46212176534</td>\n",
       "      <td>382.3297528316098</td>\n",
       "      <td>1.899821717945263</td>\n",
       "      <td>115395.61587441359</td>\n",
       "      <td>None</td>\n",
       "      <td>419.37589062980027</td>\n",
       "    </tr>\n",
       "    <tr>\n",
       "      <th>3</th>\n",
       "      <td>min</td>\n",
       "      <td>-124.35</td>\n",
       "      <td>32.54</td>\n",
       "      <td>1.0</td>\n",
       "      <td>2.0</td>\n",
       "      <td>3.0</td>\n",
       "      <td>1.0</td>\n",
       "      <td>0.4999</td>\n",
       "      <td>14999.0</td>\n",
       "      <td>&lt;1H OCEAN</td>\n",
       "      <td>2.0</td>\n",
       "    </tr>\n",
       "    <tr>\n",
       "      <th>4</th>\n",
       "      <td>max</td>\n",
       "      <td>-114.31</td>\n",
       "      <td>41.95</td>\n",
       "      <td>52.0</td>\n",
       "      <td>39320.0</td>\n",
       "      <td>35682.0</td>\n",
       "      <td>6082.0</td>\n",
       "      <td>15.0001</td>\n",
       "      <td>500001.0</td>\n",
       "      <td>NEAR OCEAN</td>\n",
       "      <td>6445.0</td>\n",
       "    </tr>\n",
       "  </tbody>\n",
       "</table>\n",
       "</div>"
      ],
      "text/plain": [
       "  summary            longitude           latitude  housing_median_age  \\\n",
       "0   count                20640              20640               20640   \n",
       "1    mean  -119.56970445736148   35.6318614341087  28.639486434108527   \n",
       "2  stddev    2.003531723502584  2.135952397457101   12.58555761211163   \n",
       "3     min              -124.35              32.54                 1.0   \n",
       "4     max              -114.31              41.95                52.0   \n",
       "\n",
       "          total_rooms          population         households  \\\n",
       "0               20640               20640              20640   \n",
       "1  2635.7630813953488  1425.4767441860465  499.5396802325581   \n",
       "2  2181.6152515827944    1132.46212176534  382.3297528316098   \n",
       "3                 2.0                 3.0                1.0   \n",
       "4             39320.0             35682.0             6082.0   \n",
       "\n",
       "        median_income  median_house_value ocean_proximity      total_bedrooms  \n",
       "0               20640               20640           20640               20640  \n",
       "1  3.8706710029070246  206855.81690891474            None   536.8598837209303  \n",
       "2   1.899821717945263  115395.61587441359            None  419.37589062980027  \n",
       "3              0.4999             14999.0       <1H OCEAN                 2.0  \n",
       "4             15.0001            500001.0      NEAR OCEAN              6445.0  "
      ]
     },
     "execution_count": 23,
     "metadata": {},
     "output_type": "execute_result"
    }
   ],
   "source": [
    "# статистически показатели \n",
    "df.describe().toPandas()"
   ]
  },
  {
   "cell_type": "code",
   "execution_count": 24,
   "id": "0f008d08",
   "metadata": {},
   "outputs": [
    {
     "name": "stdout",
     "output_type": "stream",
     "text": [
      "['longitude', 'latitude', 'housing_median_age', 'total_rooms', 'population', 'households', 'median_income', 'median_house_value', 'ocean_proximity', 'total_bedrooms']\n"
     ]
    }
   ],
   "source": [
    "print(df.columns)"
   ]
  },
  {
   "cell_type": "code",
   "execution_count": 25,
   "id": "0e87c88d",
   "metadata": {},
   "outputs": [],
   "source": [
    " # разделим колонки \n",
    "cat_cols = ['ocean_proximity']\n",
    "num_cols  = ['longitude', 'latitude', 'housing_median_age', 'total_rooms',\n",
    "                'total_bedrooms', 'population', 'households', 'median_income']\n",
    "target = 'median_house_value'"
   ]
  },
  {
   "cell_type": "code",
   "execution_count": 26,
   "id": "d01dd5bf",
   "metadata": {},
   "outputs": [],
   "source": [
    "# переведем значения категориальных переменных\n",
    "indexer = StringIndexer(inputCols = cat_cols,\n",
    "                       outputCols = [c+'_idx' for c in cat_cols])\n",
    "\n",
    " # перекодирование категориальных переменных\n",
    "encoder = OneHotEncoder(inputCols = [c+'_idx' for c in cat_cols],\n",
    "                       outputCols = [c+'_ohe' for c in cat_cols])\n",
    "\n",
    "# сборка категориальных переменных в один вектор\n",
    "categorical_assembler = \\\n",
    "        VectorAssembler(inputCols=[c+'_ohe' for c in cat_cols],\n",
    "                        outputCol=\"cat_f\")\n",
    "\n",
    "# сборка численных переменных в один вектор\n",
    "numerical_assembler = VectorAssembler(inputCols=num_cols,\n",
    "                                    outputCol=\"num_f\")\n",
    "\n",
    "# скалирование вектора \n",
    "standardScaler = StandardScaler(inputCol='num_f',\n",
    "                                outputCol='num_f_scaled', withMean=True)\n",
    "\n",
    "all_features = ['cat_f', 'num_f_scaled']\n",
    "\n",
    "# итоговое добавления векторов категориальных и численных \n",
    "# признаков через 1 единый вектор\n",
    "final_assembler = VectorAssembler(inputCols=all_features, outputCol='features')\n",
    "\n",
    "# сборка пайплайна\n",
    "pipeline = Pipeline(stages=[indexer, encoder, categorical_assembler, numerical_assembler, standardScaler, final_assembler])"
   ]
  },
  {
   "cell_type": "code",
   "execution_count": 27,
   "id": "b700a069",
   "metadata": {},
   "outputs": [
    {
     "name": "stderr",
     "output_type": "stream",
     "text": [
      "                                                                                \r"
     ]
    },
    {
     "name": "stdout",
     "output_type": "stream",
     "text": [
      "16431 4209\n"
     ]
    }
   ],
   "source": [
    "# делим выборку на 2 датасета\n",
    "train_data, test_data = df.randomSplit([.8,.2], seed=12345)\n",
    "print(train_data.count(), test_data.count()) "
   ]
  },
  {
   "cell_type": "code",
   "execution_count": 28,
   "id": "f2ac28a2",
   "metadata": {},
   "outputs": [
    {
     "name": "stderr",
     "output_type": "stream",
     "text": [
      "                                                                                \r"
     ]
    }
   ],
   "source": [
    "# обучения пайплайна на тренировочной выборке\n",
    "pipeline = pipeline.fit(train_data)"
   ]
  },
  {
   "cell_type": "code",
   "execution_count": 29,
   "id": "aa264c5f",
   "metadata": {},
   "outputs": [],
   "source": [
    "# трансформация тренировочноый выборки\n",
    "train_data = pipeline.transform(train_data)"
   ]
  },
  {
   "cell_type": "code",
   "execution_count": 30,
   "id": "4b0ef0da",
   "metadata": {},
   "outputs": [],
   "source": [
    "# трансформация тестовой выборки\n",
    "test_data = pipeline.transform(test_data)"
   ]
  },
  {
   "cell_type": "markdown",
   "id": "58844b48",
   "metadata": {},
   "source": [
    "**Вывод:** Датасет был изучен. Пустые значения было решено заполнить медианным значением. Всего в датасете 20640 строчек. Даныне были разделены на обучающию и тренировочную выборку, послсе чего данные были трансформированны через пайплайн."
   ]
  },
  {
   "cell_type": "markdown",
   "id": "9f0a82f3",
   "metadata": {
    "id": "9f0a82f3"
   },
   "source": [
    "# Обучение моделей"
   ]
  },
  {
   "cell_type": "code",
   "execution_count": 41,
   "id": "126bf81a",
   "metadata": {
    "scrolled": true
   },
   "outputs": [
    {
     "name": "stderr",
     "output_type": "stream",
     "text": [
      "23/09/13 09:06:48 WARN BLAS: Failed to load implementation from: com.github.fommil.netlib.NativeSystemBLAS\n",
      "23/09/13 09:06:48 WARN BLAS: Failed to load implementation from: com.github.fommil.netlib.NativeRefBLAS\n",
      "23/09/13 09:06:48 WARN LAPACK: Failed to load implementation from: com.github.fommil.netlib.NativeSystemLAPACK\n",
      "23/09/13 09:06:48 WARN LAPACK: Failed to load implementation from: com.github.fommil.netlib.NativeRefLAPACK\n",
      "                                                                                \r"
     ]
    },
    {
     "name": "stdout",
     "output_type": "stream",
     "text": [
      "CPU times: user 7.14 s, sys: 3.4 s, total: 10.5 s\n",
      "Wall time: 3min 54s\n"
     ]
    }
   ],
   "source": [
    "%%time\n",
    "\n",
    "# линейнай регрессия\n",
    "\n",
    "lr = LinearRegression(labelCol=target, featuresCol=\"features\")\n",
    "\n",
    "paramGrid = ParamGridBuilder()\\\n",
    "    .addGrid(lr.regParam, [0.1, 0.01]) \\\n",
    "    .addGrid(lr.fitIntercept, [False, True])\\\n",
    "    .addGrid(lr.elasticNetParam, [0.0, 0.5, 1.0])\\\n",
    "    .addGrid(lr.maxIter, range(5, 30, 5))\\\n",
    "    .addGrid(lr.solver, ['auto', 'normal', 'l-bfgs'])\\\n",
    "    .addGrid(lr.standardization, [True, False])\\\n",
    "    .build()\n",
    "\n",
    "tvs = TrainValidationSplit(estimator=lr,\n",
    "                           estimatorParamMaps=paramGrid,\n",
    "                           evaluator=RegressionEvaluator(labelCol=target),\n",
    "                           trainRatio=0.8)\n",
    "\n",
    "model = tvs.fit(train_data)\n",
    "\n",
    "predictions_lr = model.transform(test_data)"
   ]
  },
  {
   "cell_type": "code",
   "execution_count": 43,
   "id": "fb24ea36",
   "metadata": {
    "scrolled": true
   },
   "outputs": [
    {
     "name": "stderr",
     "output_type": "stream",
     "text": [
      "23/09/13 09:10:49 WARN DAGScheduler: Broadcasting large task binary with size 1137.3 KiB\n",
      "23/09/13 09:10:50 WARN DAGScheduler: Broadcasting large task binary with size 1422.0 KiB\n",
      "23/09/13 09:10:51 WARN DAGScheduler: Broadcasting large task binary with size 1078.7 KiB\n",
      "23/09/13 09:10:53 WARN DAGScheduler: Broadcasting large task binary with size 1137.3 KiB\n",
      "23/09/13 09:10:53 WARN DAGScheduler: Broadcasting large task binary with size 1422.0 KiB\n",
      "23/09/13 09:10:54 WARN DAGScheduler: Broadcasting large task binary with size 1722.6 KiB\n",
      "23/09/13 09:10:54 WARN DAGScheduler: Broadcasting large task binary with size 2023.4 KiB\n",
      "23/09/13 09:10:54 WARN DAGScheduler: Broadcasting large task binary with size 2.3 MiB\n",
      "23/09/13 09:10:55 WARN DAGScheduler: Broadcasting large task binary with size 2.5 MiB\n",
      "23/09/13 09:10:55 WARN DAGScheduler: Broadcasting large task binary with size 2.7 MiB\n",
      "23/09/13 09:10:56 WARN DAGScheduler: Broadcasting large task binary with size 1828.1 KiB\n",
      "23/09/13 09:10:58 WARN DAGScheduler: Broadcasting large task binary with size 1137.3 KiB\n",
      "23/09/13 09:10:58 WARN DAGScheduler: Broadcasting large task binary with size 1422.0 KiB\n",
      "23/09/13 09:10:59 WARN DAGScheduler: Broadcasting large task binary with size 1722.6 KiB\n",
      "23/09/13 09:10:59 WARN DAGScheduler: Broadcasting large task binary with size 2023.4 KiB\n",
      "23/09/13 09:10:59 WARN DAGScheduler: Broadcasting large task binary with size 2.3 MiB\n",
      "23/09/13 09:11:00 WARN DAGScheduler: Broadcasting large task binary with size 2.5 MiB\n",
      "23/09/13 09:11:00 WARN DAGScheduler: Broadcasting large task binary with size 2.7 MiB\n",
      "23/09/13 09:11:00 WARN DAGScheduler: Broadcasting large task binary with size 2.9 MiB\n",
      "23/09/13 09:11:01 WARN DAGScheduler: Broadcasting large task binary with size 3.0 MiB\n",
      "23/09/13 09:11:01 WARN DAGScheduler: Broadcasting large task binary with size 3.1 MiB\n",
      "23/09/13 09:11:02 WARN DAGScheduler: Broadcasting large task binary with size 3.2 MiB\n",
      "23/09/13 09:11:02 WARN DAGScheduler: Broadcasting large task binary with size 3.2 MiB\n",
      "23/09/13 09:11:02 WARN DAGScheduler: Broadcasting large task binary with size 2.0 MiB\n"
     ]
    },
    {
     "name": "stdout",
     "output_type": "stream",
     "text": [
      "CPU times: user 153 ms, sys: 87.5 ms, total: 240 ms\n",
      "Wall time: 24 s\n"
     ]
    }
   ],
   "source": [
    "%%time\n",
    "\n",
    "# дерево решений\n",
    "\n",
    "dt = DecisionTreeRegressor(labelCol=target, featuresCol=\"features\", seed = 12345)\n",
    "\n",
    "paramGrid = ParamGridBuilder() \\\n",
    "    .addGrid(dt.maxDepth, range(1, 31, 5)) \\\n",
    "    .addGrid(dt.minWeightFractionPerNode, np.arange(0.0, 0.05, 0.1)) \\\n",
    "    .build()\n",
    "\n",
    "tvs = TrainValidationSplit(estimator=dt,\n",
    "                           estimatorParamMaps=paramGrid,\n",
    "                           evaluator=RegressionEvaluator(labelCol=target),\n",
    "                           trainRatio=0.8)\n",
    "\n",
    "\n",
    "model = tvs.fit(train_data)\n",
    "\n",
    "predictions_dt = model.transform(test_data)\n"
   ]
  },
  {
   "cell_type": "code",
   "execution_count": 44,
   "id": "d65dec59",
   "metadata": {
    "scrolled": true
   },
   "outputs": [
    {
     "name": "stderr",
     "output_type": "stream",
     "text": [
      "23/09/13 09:11:15 WARN DAGScheduler: Broadcasting large task binary with size 1394.0 KiB\n",
      "23/09/13 09:11:15 WARN DAGScheduler: Broadcasting large task binary with size 2.1 MiB\n",
      "23/09/13 09:11:18 WARN DAGScheduler: Broadcasting large task binary with size 1562.1 KiB\n",
      "23/09/13 09:11:19 WARN DAGScheduler: Broadcasting large task binary with size 2.5 MiB\n",
      "23/09/13 09:11:20 WARN DAGScheduler: Broadcasting large task binary with size 4.1 MiB\n",
      "23/09/13 09:11:24 WARN DAGScheduler: Broadcasting large task binary with size 1125.6 KiB\n",
      "23/09/13 09:11:28 WARN DAGScheduler: Broadcasting large task binary with size 1394.0 KiB\n",
      "23/09/13 09:11:28 WARN DAGScheduler: Broadcasting large task binary with size 2.1 MiB\n",
      "23/09/13 09:11:29 WARN DAGScheduler: Broadcasting large task binary with size 3.2 MiB\n",
      "23/09/13 09:11:30 WARN DAGScheduler: Broadcasting large task binary with size 4.5 MiB\n",
      "23/09/13 09:11:31 WARN DAGScheduler: Broadcasting large task binary with size 6.2 MiB\n",
      "23/09/13 09:11:33 WARN DAGScheduler: Broadcasting large task binary with size 8.2 MiB\n",
      "23/09/13 09:11:34 WARN DAGScheduler: Broadcasting large task binary with size 10.2 MiB\n",
      "23/09/13 09:11:38 WARN DAGScheduler: Broadcasting large task binary with size 1562.1 KiB\n",
      "23/09/13 09:11:39 WARN DAGScheduler: Broadcasting large task binary with size 2.5 MiB\n",
      "23/09/13 09:11:40 WARN DAGScheduler: Broadcasting large task binary with size 4.1 MiB\n",
      "23/09/13 09:11:42 WARN DAGScheduler: Broadcasting large task binary with size 6.2 MiB\n",
      "23/09/13 09:11:42 WARN DAGScheduler: Broadcasting large task binary with size 1060.4 KiB\n",
      "23/09/13 09:11:44 WARN DAGScheduler: Broadcasting large task binary with size 8.9 MiB\n",
      "23/09/13 09:11:44 WARN DAGScheduler: Broadcasting large task binary with size 1301.9 KiB\n",
      "23/09/13 09:11:46 WARN DAGScheduler: Broadcasting large task binary with size 12.3 MiB\n",
      "23/09/13 09:11:47 WARN DAGScheduler: Broadcasting large task binary with size 1499.5 KiB\n",
      "23/09/13 09:11:49 WARN DAGScheduler: Broadcasting large task binary with size 16.0 MiB\n",
      "23/09/13 09:11:50 WARN DAGScheduler: Broadcasting large task binary with size 1619.2 KiB\n",
      "23/09/13 09:11:53 WARN DAGScheduler: Broadcasting large task binary with size 20.1 MiB\n",
      "23/09/13 09:11:54 WARN DAGScheduler: Broadcasting large task binary with size 1614.6 KiB\n",
      "23/09/13 09:11:58 WARN DAGScheduler: Broadcasting large task binary with size 1125.6 KiB\n",
      "23/09/13 09:11:58 WARN DAGScheduler: Broadcasting large task binary with size 1329.1 KiB\n",
      "23/09/13 09:11:58 WARN DAGScheduler: Broadcasting large task binary with size 1526.8 KiB\n",
      "23/09/13 09:11:59 WARN DAGScheduler: Broadcasting large task binary with size 1697.9 KiB\n",
      "23/09/13 09:11:59 WARN DAGScheduler: Broadcasting large task binary with size 1850.3 KiB\n",
      "23/09/13 09:11:59 WARN DAGScheduler: Broadcasting large task binary with size 1969.4 KiB\n",
      "23/09/13 09:12:01 WARN DAGScheduler: Broadcasting large task binary with size 1394.0 KiB\n",
      "23/09/13 09:12:01 WARN DAGScheduler: Broadcasting large task binary with size 2.1 MiB\n",
      "23/09/13 09:12:02 WARN DAGScheduler: Broadcasting large task binary with size 3.2 MiB\n",
      "23/09/13 09:12:03 WARN DAGScheduler: Broadcasting large task binary with size 4.5 MiB\n",
      "23/09/13 09:12:04 WARN DAGScheduler: Broadcasting large task binary with size 6.2 MiB\n",
      "23/09/13 09:12:06 WARN DAGScheduler: Broadcasting large task binary with size 8.2 MiB\n",
      "23/09/13 09:12:07 WARN DAGScheduler: Broadcasting large task binary with size 10.2 MiB\n",
      "23/09/13 09:12:09 WARN DAGScheduler: Broadcasting large task binary with size 12.3 MiB\n",
      "23/09/13 09:12:11 WARN DAGScheduler: Broadcasting large task binary with size 14.2 MiB\n",
      "23/09/13 09:12:13 WARN DAGScheduler: Broadcasting large task binary with size 15.9 MiB\n",
      "23/09/13 09:12:15 WARN DAGScheduler: Broadcasting large task binary with size 17.3 MiB\n",
      "23/09/13 09:12:17 WARN DAGScheduler: Broadcasting large task binary with size 18.4 MiB\n",
      "23/09/13 09:12:20 WARN DAGScheduler: Broadcasting large task binary with size 1562.1 KiB\n",
      "23/09/13 09:12:20 WARN DAGScheduler: Broadcasting large task binary with size 2.5 MiB\n",
      "23/09/13 09:12:21 WARN DAGScheduler: Broadcasting large task binary with size 4.1 MiB\n",
      "23/09/13 09:12:23 WARN DAGScheduler: Broadcasting large task binary with size 6.2 MiB\n",
      "23/09/13 09:12:23 WARN DAGScheduler: Broadcasting large task binary with size 1060.4 KiB\n",
      "23/09/13 09:12:24 WARN DAGScheduler: Broadcasting large task binary with size 8.9 MiB\n",
      "23/09/13 09:12:25 WARN DAGScheduler: Broadcasting large task binary with size 1301.9 KiB\n",
      "23/09/13 09:12:27 WARN DAGScheduler: Broadcasting large task binary with size 12.3 MiB\n",
      "23/09/13 09:12:28 WARN DAGScheduler: Broadcasting large task binary with size 1499.5 KiB\n",
      "23/09/13 09:12:30 WARN DAGScheduler: Broadcasting large task binary with size 16.0 MiB\n",
      "23/09/13 09:12:31 WARN DAGScheduler: Broadcasting large task binary with size 1619.2 KiB\n",
      "23/09/13 09:12:33 WARN DAGScheduler: Broadcasting large task binary with size 20.1 MiB\n",
      "23/09/13 09:12:34 WARN DAGScheduler: Broadcasting large task binary with size 1614.6 KiB\n",
      "23/09/13 09:12:37 WARN DAGScheduler: Broadcasting large task binary with size 24.0 MiB\n",
      "23/09/13 09:12:37 WARN DAGScheduler: Broadcasting large task binary with size 1510.8 KiB\n",
      "23/09/13 09:12:40 WARN DAGScheduler: Broadcasting large task binary with size 27.6 MiB\n",
      "23/09/13 09:12:42 WARN DAGScheduler: Broadcasting large task binary with size 1339.3 KiB\n",
      "23/09/13 09:12:44 WARN DAGScheduler: Broadcasting large task binary with size 30.8 MiB\n",
      "23/09/13 09:12:46 WARN DAGScheduler: Broadcasting large task binary with size 1133.2 KiB\n",
      "23/09/13 09:12:49 WARN DAGScheduler: Broadcasting large task binary with size 33.5 MiB\n",
      "23/09/13 09:12:53 WARN DAGScheduler: Broadcasting large task binary with size 35.6 MiB\n",
      "23/09/13 09:12:58 WARN DAGScheduler: Broadcasting large task binary with size 1125.6 KiB\n",
      "23/09/13 09:12:58 WARN DAGScheduler: Broadcasting large task binary with size 1329.1 KiB\n",
      "23/09/13 09:12:58 WARN DAGScheduler: Broadcasting large task binary with size 1526.8 KiB\n",
      "23/09/13 09:12:58 WARN DAGScheduler: Broadcasting large task binary with size 1697.9 KiB\n",
      "23/09/13 09:12:59 WARN DAGScheduler: Broadcasting large task binary with size 1850.3 KiB\n",
      "23/09/13 09:12:59 WARN DAGScheduler: Broadcasting large task binary with size 1969.4 KiB\n",
      "23/09/13 09:12:59 WARN DAGScheduler: Broadcasting large task binary with size 2.0 MiB\n",
      "23/09/13 09:12:59 WARN DAGScheduler: Broadcasting large task binary with size 2.1 MiB\n",
      "23/09/13 09:12:59 WARN DAGScheduler: Broadcasting large task binary with size 2.1 MiB\n",
      "23/09/13 09:12:59 WARN DAGScheduler: Broadcasting large task binary with size 2.1 MiB\n",
      "23/09/13 09:13:00 WARN DAGScheduler: Broadcasting large task binary with size 2.1 MiB\n",
      "23/09/13 09:13:01 WARN DAGScheduler: Broadcasting large task binary with size 1394.0 KiB\n",
      "23/09/13 09:13:02 WARN DAGScheduler: Broadcasting large task binary with size 2.1 MiB\n",
      "23/09/13 09:13:02 WARN DAGScheduler: Broadcasting large task binary with size 3.2 MiB\n",
      "23/09/13 09:13:03 WARN DAGScheduler: Broadcasting large task binary with size 4.5 MiB\n",
      "23/09/13 09:13:04 WARN DAGScheduler: Broadcasting large task binary with size 6.2 MiB\n",
      "23/09/13 09:13:06 WARN DAGScheduler: Broadcasting large task binary with size 8.2 MiB\n",
      "23/09/13 09:13:07 WARN DAGScheduler: Broadcasting large task binary with size 10.2 MiB\n",
      "23/09/13 09:13:09 WARN DAGScheduler: Broadcasting large task binary with size 12.3 MiB\n",
      "23/09/13 09:13:11 WARN DAGScheduler: Broadcasting large task binary with size 14.2 MiB\n",
      "23/09/13 09:13:13 WARN DAGScheduler: Broadcasting large task binary with size 15.9 MiB\n",
      "23/09/13 09:13:14 WARN DAGScheduler: Broadcasting large task binary with size 17.3 MiB\n",
      "23/09/13 09:13:16 WARN DAGScheduler: Broadcasting large task binary with size 18.4 MiB\n",
      "23/09/13 09:13:18 WARN DAGScheduler: Broadcasting large task binary with size 19.3 MiB\n",
      "23/09/13 09:13:19 WARN DAGScheduler: Broadcasting large task binary with size 19.9 MiB\n",
      "23/09/13 09:13:21 WARN DAGScheduler: Broadcasting large task binary with size 20.3 MiB\n",
      "23/09/13 09:13:23 WARN DAGScheduler: Broadcasting large task binary with size 20.6 MiB\n",
      "23/09/13 09:13:24 WARN DAGScheduler: Broadcasting large task binary with size 20.8 MiB\n",
      "23/09/13 09:13:27 WARN DAGScheduler: Broadcasting large task binary with size 1562.1 KiB\n",
      "23/09/13 09:13:28 WARN DAGScheduler: Broadcasting large task binary with size 2.5 MiB\n",
      "23/09/13 09:13:29 WARN DAGScheduler: Broadcasting large task binary with size 4.1 MiB\n",
      "23/09/13 09:13:30 WARN DAGScheduler: Broadcasting large task binary with size 6.2 MiB\n",
      "23/09/13 09:13:31 WARN DAGScheduler: Broadcasting large task binary with size 1060.4 KiB\n",
      "23/09/13 09:13:32 WARN DAGScheduler: Broadcasting large task binary with size 8.9 MiB\n",
      "23/09/13 09:13:33 WARN DAGScheduler: Broadcasting large task binary with size 1301.9 KiB\n",
      "23/09/13 09:13:34 WARN DAGScheduler: Broadcasting large task binary with size 12.3 MiB\n",
      "23/09/13 09:13:35 WARN DAGScheduler: Broadcasting large task binary with size 1499.5 KiB\n",
      "23/09/13 09:13:37 WARN DAGScheduler: Broadcasting large task binary with size 16.0 MiB\n",
      "23/09/13 09:13:38 WARN DAGScheduler: Broadcasting large task binary with size 1619.2 KiB\n",
      "23/09/13 09:13:40 WARN DAGScheduler: Broadcasting large task binary with size 20.1 MiB\n",
      "23/09/13 09:13:41 WARN DAGScheduler: Broadcasting large task binary with size 1614.6 KiB\n",
      "23/09/13 09:13:44 WARN DAGScheduler: Broadcasting large task binary with size 24.0 MiB\n",
      "23/09/13 09:13:45 WARN DAGScheduler: Broadcasting large task binary with size 1510.8 KiB\n",
      "23/09/13 09:13:48 WARN DAGScheduler: Broadcasting large task binary with size 27.6 MiB\n",
      "23/09/13 09:13:49 WARN DAGScheduler: Broadcasting large task binary with size 1339.3 KiB\n",
      "23/09/13 09:13:52 WARN DAGScheduler: Broadcasting large task binary with size 30.8 MiB\n",
      "23/09/13 09:13:53 WARN DAGScheduler: Broadcasting large task binary with size 1133.2 KiB\n",
      "23/09/13 09:13:56 WARN DAGScheduler: Broadcasting large task binary with size 33.5 MiB\n",
      "23/09/13 09:14:00 WARN DAGScheduler: Broadcasting large task binary with size 35.6 MiB\n",
      "23/09/13 09:14:04 WARN DAGScheduler: Broadcasting large task binary with size 37.2 MiB\n",
      "23/09/13 09:14:08 WARN DAGScheduler: Broadcasting large task binary with size 38.3 MiB\n",
      "23/09/13 09:14:12 WARN DAGScheduler: Broadcasting large task binary with size 39.1 MiB\n",
      "23/09/13 09:14:15 WARN DAGScheduler: Broadcasting large task binary with size 39.6 MiB\n",
      "23/09/13 09:14:29 WARN DAGScheduler: Broadcasting large task binary with size 1504.3 KiB\n",
      "23/09/13 09:14:29 WARN DAGScheduler: Broadcasting large task binary with size 2.4 MiB\n",
      "23/09/13 09:14:32 WARN DAGScheduler: Broadcasting large task binary with size 1601.9 KiB\n",
      "23/09/13 09:14:32 WARN DAGScheduler: Broadcasting large task binary with size 2.7 MiB\n",
      "23/09/13 09:14:33 WARN DAGScheduler: Broadcasting large task binary with size 4.3 MiB\n",
      "23/09/13 09:14:36 WARN DAGScheduler: Broadcasting large task binary with size 1137.3 KiB\n",
      "23/09/13 09:14:37 WARN DAGScheduler: Broadcasting large task binary with size 1422.0 KiB\n",
      "23/09/13 09:14:39 WARN DAGScheduler: Broadcasting large task binary with size 1504.3 KiB\n",
      "23/09/13 09:14:39 WARN DAGScheduler: Broadcasting large task binary with size 2.4 MiB\n",
      "23/09/13 09:14:46 WARN DAGScheduler: Broadcasting large task binary with size 13.3 MiB\n",
      "23/09/13 09:14:47 WARN DAGScheduler: Broadcasting large task binary with size 1270.0 KiB\n",
      "23/09/13 09:14:50 WARN DAGScheduler: Broadcasting large task binary with size 1601.9 KiB\n",
      "23/09/13 09:14:51 WARN DAGScheduler: Broadcasting large task binary with size 2.7 MiB\n",
      "23/09/13 09:14:52 WARN DAGScheduler: Broadcasting large task binary with size 4.3 MiB\n",
      "23/09/13 09:14:53 WARN DAGScheduler: Broadcasting large task binary with size 6.8 MiB\n",
      "23/09/13 09:14:53 WARN DAGScheduler: Broadcasting large task binary with size 1275.0 KiB\n",
      "23/09/13 09:14:55 WARN DAGScheduler: Broadcasting large task binary with size 10.1 MiB\n",
      "23/09/13 09:14:56 WARN DAGScheduler: Broadcasting large task binary with size 1653.0 KiB\n",
      "23/09/13 09:14:58 WARN DAGScheduler: Broadcasting large task binary with size 14.4 MiB\n",
      "23/09/13 09:14:59 WARN DAGScheduler: Broadcasting large task binary with size 2004.0 KiB\n",
      "23/09/13 09:15:01 WARN DAGScheduler: Broadcasting large task binary with size 19.5 MiB\n",
      "23/09/13 09:15:03 WARN DAGScheduler: Broadcasting large task binary with size 2.2 MiB\n",
      "23/09/13 09:15:06 WARN DAGScheduler: Broadcasting large task binary with size 25.2 MiB\n",
      "23/09/13 09:15:07 WARN DAGScheduler: Broadcasting large task binary with size 2.4 MiB\n",
      "23/09/13 09:15:12 WARN DAGScheduler: Broadcasting large task binary with size 1137.3 KiB\n",
      "23/09/13 09:15:13 WARN DAGScheduler: Broadcasting large task binary with size 1422.0 KiB\n",
      "23/09/13 09:15:13 WARN DAGScheduler: Broadcasting large task binary with size 1722.6 KiB\n",
      "23/09/13 09:15:13 WARN DAGScheduler: Broadcasting large task binary with size 2023.4 KiB\n",
      "23/09/13 09:15:14 WARN DAGScheduler: Broadcasting large task binary with size 2.3 MiB\n",
      "23/09/13 09:15:14 WARN DAGScheduler: Broadcasting large task binary with size 2.5 MiB\n",
      "23/09/13 09:15:14 WARN DAGScheduler: Broadcasting large task binary with size 2.7 MiB\n",
      "23/09/13 09:15:16 WARN DAGScheduler: Broadcasting large task binary with size 1504.3 KiB\n",
      "23/09/13 09:15:17 WARN DAGScheduler: Broadcasting large task binary with size 2.4 MiB\n",
      "23/09/13 09:15:18 WARN DAGScheduler: Broadcasting large task binary with size 3.7 MiB\n",
      "23/09/13 09:15:19 WARN DAGScheduler: Broadcasting large task binary with size 5.5 MiB\n",
      "23/09/13 09:15:20 WARN DAGScheduler: Broadcasting large task binary with size 7.7 MiB\n",
      "23/09/13 09:15:20 WARN DAGScheduler: Broadcasting large task binary with size 1041.1 KiB\n",
      "23/09/13 09:15:22 WARN DAGScheduler: Broadcasting large task binary with size 10.4 MiB\n",
      "23/09/13 09:15:22 WARN DAGScheduler: Broadcasting large task binary with size 1186.8 KiB\n",
      "23/09/13 09:15:24 WARN DAGScheduler: Broadcasting large task binary with size 13.3 MiB\n",
      "23/09/13 09:15:24 WARN DAGScheduler: Broadcasting large task binary with size 1270.0 KiB\n",
      "23/09/13 09:15:26 WARN DAGScheduler: Broadcasting large task binary with size 16.4 MiB\n",
      "23/09/13 09:15:27 WARN DAGScheduler: Broadcasting large task binary with size 1267.2 KiB\n",
      "23/09/13 09:15:29 WARN DAGScheduler: Broadcasting large task binary with size 19.5 MiB\n",
      "23/09/13 09:15:29 WARN DAGScheduler: Broadcasting large task binary with size 1180.5 KiB\n",
      "23/09/13 09:15:31 WARN DAGScheduler: Broadcasting large task binary with size 22.3 MiB\n",
      "23/09/13 09:15:32 WARN DAGScheduler: Broadcasting large task binary with size 1062.5 KiB\n",
      "23/09/13 09:15:34 WARN DAGScheduler: Broadcasting large task binary with size 24.8 MiB\n",
      "23/09/13 09:15:37 WARN DAGScheduler: Broadcasting large task binary with size 27.0 MiB\n",
      "23/09/13 09:15:41 WARN DAGScheduler: Broadcasting large task binary with size 1601.9 KiB\n",
      "23/09/13 09:15:42 WARN DAGScheduler: Broadcasting large task binary with size 2.7 MiB\n",
      "23/09/13 09:15:43 WARN DAGScheduler: Broadcasting large task binary with size 4.3 MiB\n",
      "23/09/13 09:15:44 WARN DAGScheduler: Broadcasting large task binary with size 6.8 MiB\n",
      "23/09/13 09:15:45 WARN DAGScheduler: Broadcasting large task binary with size 1275.0 KiB\n",
      "23/09/13 09:15:47 WARN DAGScheduler: Broadcasting large task binary with size 10.1 MiB\n",
      "23/09/13 09:15:47 WARN DAGScheduler: Broadcasting large task binary with size 1653.0 KiB\n",
      "23/09/13 09:15:49 WARN DAGScheduler: Broadcasting large task binary with size 14.4 MiB\n",
      "23/09/13 09:15:50 WARN DAGScheduler: Broadcasting large task binary with size 2004.0 KiB\n",
      "23/09/13 09:15:53 WARN DAGScheduler: Broadcasting large task binary with size 19.5 MiB\n",
      "23/09/13 09:15:54 WARN DAGScheduler: Broadcasting large task binary with size 2.2 MiB\n",
      "23/09/13 09:15:57 WARN DAGScheduler: Broadcasting large task binary with size 25.2 MiB\n",
      "23/09/13 09:15:58 WARN DAGScheduler: Broadcasting large task binary with size 2.4 MiB\n",
      "23/09/13 09:16:02 WARN DAGScheduler: Broadcasting large task binary with size 31.2 MiB\n",
      "23/09/13 09:16:03 WARN DAGScheduler: Broadcasting large task binary with size 2.4 MiB\n",
      "23/09/13 09:16:08 WARN DAGScheduler: Broadcasting large task binary with size 37.1 MiB\n",
      "23/09/13 09:16:10 WARN DAGScheduler: Broadcasting large task binary with size 2.2 MiB\n",
      "23/09/13 09:16:15 WARN DAGScheduler: Broadcasting large task binary with size 42.5 MiB\n",
      "23/09/13 09:16:17 WARN DAGScheduler: Broadcasting large task binary with size 2018.0 KiB\n",
      "23/09/13 09:16:22 WARN DAGScheduler: Broadcasting large task binary with size 47.3 MiB\n",
      "23/09/13 09:16:23 WARN DAGScheduler: Broadcasting large task binary with size 1704.5 KiB\n",
      "23/09/13 09:16:28 WARN DAGScheduler: Broadcasting large task binary with size 51.3 MiB\n",
      "23/09/13 09:16:30 WARN DAGScheduler: Broadcasting large task binary with size 1364.1 KiB\n",
      "23/09/13 09:16:35 WARN DAGScheduler: Broadcasting large task binary with size 1137.3 KiB\n",
      "23/09/13 09:16:35 WARN DAGScheduler: Broadcasting large task binary with size 1422.0 KiB\n",
      "23/09/13 09:16:35 WARN DAGScheduler: Broadcasting large task binary with size 1722.6 KiB\n",
      "23/09/13 09:16:36 WARN DAGScheduler: Broadcasting large task binary with size 2023.4 KiB\n",
      "23/09/13 09:16:36 WARN DAGScheduler: Broadcasting large task binary with size 2.3 MiB\n",
      "23/09/13 09:16:36 WARN DAGScheduler: Broadcasting large task binary with size 2.5 MiB\n",
      "23/09/13 09:16:37 WARN DAGScheduler: Broadcasting large task binary with size 2.7 MiB\n",
      "23/09/13 09:16:37 WARN DAGScheduler: Broadcasting large task binary with size 2.9 MiB\n",
      "23/09/13 09:16:37 WARN DAGScheduler: Broadcasting large task binary with size 3.0 MiB\n",
      "23/09/13 09:16:37 WARN DAGScheduler: Broadcasting large task binary with size 3.1 MiB\n",
      "23/09/13 09:16:38 WARN DAGScheduler: Broadcasting large task binary with size 3.2 MiB\n",
      "23/09/13 09:16:38 WARN DAGScheduler: Broadcasting large task binary with size 3.2 MiB\n",
      "23/09/13 09:16:40 WARN DAGScheduler: Broadcasting large task binary with size 1504.3 KiB\n",
      "23/09/13 09:16:40 WARN DAGScheduler: Broadcasting large task binary with size 2.4 MiB\n",
      "23/09/13 09:16:41 WARN DAGScheduler: Broadcasting large task binary with size 3.7 MiB\n",
      "23/09/13 09:16:42 WARN DAGScheduler: Broadcasting large task binary with size 5.5 MiB\n",
      "23/09/13 09:16:44 WARN DAGScheduler: Broadcasting large task binary with size 7.7 MiB\n",
      "23/09/13 09:16:44 WARN DAGScheduler: Broadcasting large task binary with size 1041.1 KiB\n",
      "23/09/13 09:16:46 WARN DAGScheduler: Broadcasting large task binary with size 10.4 MiB\n",
      "23/09/13 09:16:46 WARN DAGScheduler: Broadcasting large task binary with size 1186.8 KiB\n",
      "23/09/13 09:16:48 WARN DAGScheduler: Broadcasting large task binary with size 13.3 MiB\n",
      "23/09/13 09:16:48 WARN DAGScheduler: Broadcasting large task binary with size 1270.0 KiB\n",
      "23/09/13 09:16:50 WARN DAGScheduler: Broadcasting large task binary with size 16.4 MiB\n",
      "23/09/13 09:16:50 WARN DAGScheduler: Broadcasting large task binary with size 1267.2 KiB\n",
      "23/09/13 09:16:52 WARN DAGScheduler: Broadcasting large task binary with size 19.5 MiB\n",
      "23/09/13 09:16:53 WARN DAGScheduler: Broadcasting large task binary with size 1180.5 KiB\n",
      "23/09/13 09:16:55 WARN DAGScheduler: Broadcasting large task binary with size 22.3 MiB\n",
      "23/09/13 09:16:56 WARN DAGScheduler: Broadcasting large task binary with size 1062.5 KiB\n",
      "23/09/13 09:16:58 WARN DAGScheduler: Broadcasting large task binary with size 24.8 MiB\n",
      "23/09/13 09:17:01 WARN DAGScheduler: Broadcasting large task binary with size 27.0 MiB\n",
      "23/09/13 09:17:04 WARN DAGScheduler: Broadcasting large task binary with size 28.7 MiB\n",
      "23/09/13 09:17:07 WARN DAGScheduler: Broadcasting large task binary with size 30.0 MiB\n",
      "23/09/13 09:17:10 WARN DAGScheduler: Broadcasting large task binary with size 30.9 MiB\n",
      "23/09/13 09:17:12 WARN DAGScheduler: Broadcasting large task binary with size 31.6 MiB\n",
      "23/09/13 09:17:15 WARN DAGScheduler: Broadcasting large task binary with size 32.0 MiB\n",
      "23/09/13 09:17:19 WARN DAGScheduler: Broadcasting large task binary with size 1601.9 KiB\n",
      "23/09/13 09:17:19 WARN DAGScheduler: Broadcasting large task binary with size 2.7 MiB\n",
      "23/09/13 09:17:20 WARN DAGScheduler: Broadcasting large task binary with size 4.3 MiB\n",
      "23/09/13 09:17:22 WARN DAGScheduler: Broadcasting large task binary with size 6.8 MiB\n",
      "23/09/13 09:17:22 WARN DAGScheduler: Broadcasting large task binary with size 1275.0 KiB\n",
      "23/09/13 09:17:24 WARN DAGScheduler: Broadcasting large task binary with size 10.1 MiB\n",
      "23/09/13 09:17:24 WARN DAGScheduler: Broadcasting large task binary with size 1653.0 KiB\n",
      "23/09/13 09:17:26 WARN DAGScheduler: Broadcasting large task binary with size 14.4 MiB\n",
      "23/09/13 09:17:27 WARN DAGScheduler: Broadcasting large task binary with size 2004.0 KiB\n",
      "23/09/13 09:17:30 WARN DAGScheduler: Broadcasting large task binary with size 19.5 MiB\n",
      "23/09/13 09:17:31 WARN DAGScheduler: Broadcasting large task binary with size 2.2 MiB\n",
      "23/09/13 09:17:34 WARN DAGScheduler: Broadcasting large task binary with size 25.2 MiB\n",
      "23/09/13 09:17:36 WARN DAGScheduler: Broadcasting large task binary with size 2.4 MiB\n",
      "23/09/13 09:17:39 WARN DAGScheduler: Broadcasting large task binary with size 31.2 MiB\n",
      "23/09/13 09:17:40 WARN DAGScheduler: Broadcasting large task binary with size 2.4 MiB\n",
      "23/09/13 09:17:44 WARN DAGScheduler: Broadcasting large task binary with size 37.1 MiB\n",
      "23/09/13 09:17:46 WARN DAGScheduler: Broadcasting large task binary with size 2.2 MiB\n",
      "23/09/13 09:17:50 WARN DAGScheduler: Broadcasting large task binary with size 42.5 MiB\n",
      "23/09/13 09:17:52 WARN DAGScheduler: Broadcasting large task binary with size 2018.0 KiB\n",
      "23/09/13 09:17:57 WARN DAGScheduler: Broadcasting large task binary with size 47.3 MiB\n",
      "23/09/13 09:17:58 WARN DAGScheduler: Broadcasting large task binary with size 1704.5 KiB\n",
      "23/09/13 09:18:03 WARN DAGScheduler: Broadcasting large task binary with size 51.3 MiB\n",
      "23/09/13 09:18:05 WARN DAGScheduler: Broadcasting large task binary with size 1364.1 KiB\n",
      "23/09/13 09:18:10 WARN DAGScheduler: Broadcasting large task binary with size 54.5 MiB\n",
      "23/09/13 09:18:11 WARN DAGScheduler: Broadcasting large task binary with size 1037.0 KiB\n",
      "23/09/13 09:18:16 WARN DAGScheduler: Broadcasting large task binary with size 56.9 MiB\n",
      "23/09/13 09:18:22 WARN DAGScheduler: Broadcasting large task binary with size 58.6 MiB\n",
      "23/09/13 09:18:29 WARN DAGScheduler: Broadcasting large task binary with size 59.8 MiB\n",
      "23/09/13 09:18:35 WARN DAGScheduler: Broadcasting large task binary with size 60.6 MiB\n",
      "23/09/13 09:18:42 WARN DAGScheduler: Broadcasting large task binary with size 1542.4 KiB\n",
      "23/09/13 09:18:43 WARN DAGScheduler: Broadcasting large task binary with size 2.6 MiB\n",
      "23/09/13 09:18:44 WARN DAGScheduler: Broadcasting large task binary with size 4.4 MiB\n",
      "23/09/13 09:18:45 WARN DAGScheduler: Broadcasting large task binary with size 7.1 MiB\n",
      "23/09/13 09:18:46 WARN DAGScheduler: Broadcasting large task binary with size 1383.6 KiB\n",
      "23/09/13 09:18:48 WARN DAGScheduler: Broadcasting large task binary with size 10.7 MiB\n",
      "23/09/13 09:18:49 WARN DAGScheduler: Broadcasting large task binary with size 1831.2 KiB\n",
      "23/09/13 09:18:51 WARN DAGScheduler: Broadcasting large task binary with size 15.5 MiB\n",
      "23/09/13 09:18:52 WARN DAGScheduler: Broadcasting large task binary with size 2.2 MiB\n",
      "23/09/13 09:18:55 WARN DAGScheduler: Broadcasting large task binary with size 21.4 MiB\n",
      "23/09/13 09:18:56 WARN DAGScheduler: Broadcasting large task binary with size 2.6 MiB\n",
      "23/09/13 09:19:00 WARN DAGScheduler: Broadcasting large task binary with size 28.1 MiB\n",
      "23/09/13 09:19:01 WARN DAGScheduler: Broadcasting large task binary with size 2.8 MiB\n",
      "                                                                                \r"
     ]
    },
    {
     "name": "stdout",
     "output_type": "stream",
     "text": [
      "CPU times: user 1.47 s, sys: 592 ms, total: 2.06 s\n",
      "Wall time: 8min\n"
     ]
    }
   ],
   "source": [
    "%%time\n",
    "\n",
    "# случайны лес\n",
    "\n",
    "rf = RandomForestRegressor(labelCol=target, featuresCol=\"features\", seed = 12345)\n",
    "\n",
    "paramGrid = ParamGridBuilder() \\\n",
    "    .addGrid(rf.bootstrap, [True, False]) \\\n",
    "    .addGrid(rf.maxDepth, range(1, 31, 5)) \\\n",
    "    .addGrid(rf.numTrees, range(1, 31, 10)) \\\n",
    "    .build()\n",
    "\n",
    "tvs = TrainValidationSplit(estimator=rf,\n",
    "                           estimatorParamMaps=paramGrid,\n",
    "                           evaluator=RegressionEvaluator(labelCol=target),\n",
    "                           trainRatio=0.8)\n",
    "\n",
    "\n",
    "model = tvs.fit(train_data)\n",
    "\n",
    "predictions_rf = model.transform(test_data)"
   ]
  },
  {
   "cell_type": "code",
   "execution_count": 57,
   "id": "fe4a96a8",
   "metadata": {
    "scrolled": true
   },
   "outputs": [
    {
     "name": "stderr",
     "output_type": "stream",
     "text": [
      "23/09/13 09:37:50 WARN DAGScheduler: Broadcasting large task binary with size 1038.0 KiB\n",
      "23/09/13 09:37:50 WARN DAGScheduler: Broadcasting large task binary with size 1037.6 KiB\n",
      "23/09/13 09:37:50 WARN DAGScheduler: Broadcasting large task binary with size 1038.1 KiB\n",
      "23/09/13 09:37:50 WARN DAGScheduler: Broadcasting large task binary with size 1038.6 KiB\n",
      "23/09/13 09:37:51 WARN DAGScheduler: Broadcasting large task binary with size 1039.8 KiB\n",
      "23/09/13 09:37:51 WARN DAGScheduler: Broadcasting large task binary with size 1042.1 KiB\n",
      "23/09/13 09:37:51 WARN DAGScheduler: Broadcasting large task binary with size 1046.6 KiB\n",
      "23/09/13 09:37:51 WARN DAGScheduler: Broadcasting large task binary with size 1055.8 KiB\n",
      "23/09/13 09:37:51 WARN DAGScheduler: Broadcasting large task binary with size 1072.5 KiB\n",
      "23/09/13 09:37:51 WARN DAGScheduler: Broadcasting large task binary with size 1101.8 KiB\n",
      "23/09/13 09:37:51 WARN DAGScheduler: Broadcasting large task binary with size 1146.8 KiB\n",
      "23/09/13 09:37:51 WARN DAGScheduler: Broadcasting large task binary with size 1137.8 KiB\n",
      "23/09/13 09:37:51 WARN DAGScheduler: Broadcasting large task binary with size 1138.3 KiB\n",
      "23/09/13 09:37:51 WARN DAGScheduler: Broadcasting large task binary with size 1138.9 KiB\n",
      "23/09/13 09:37:51 WARN DAGScheduler: Broadcasting large task binary with size 1140.0 KiB\n",
      "23/09/13 09:37:52 WARN DAGScheduler: Broadcasting large task binary with size 1142.3 KiB\n",
      "23/09/13 09:37:52 WARN DAGScheduler: Broadcasting large task binary with size 1146.5 KiB\n",
      "23/09/13 09:37:52 WARN DAGScheduler: Broadcasting large task binary with size 1154.9 KiB\n",
      "23/09/13 09:37:52 WARN DAGScheduler: Broadcasting large task binary with size 1170.2 KiB\n",
      "23/09/13 09:37:52 WARN DAGScheduler: Broadcasting large task binary with size 1198.6 KiB\n",
      "23/09/13 09:37:52 WARN DAGScheduler: Broadcasting large task binary with size 1247.8 KiB\n",
      "23/09/13 09:37:54 WARN DAGScheduler: Broadcasting large task binary with size 1138.3 KiB\n",
      "23/09/13 09:37:54 WARN DAGScheduler: Broadcasting large task binary with size 1423.1 KiB\n",
      "23/09/13 09:37:55 WARN DAGScheduler: Broadcasting large task binary with size 1723.6 KiB\n",
      "23/09/13 09:37:55 WARN DAGScheduler: Broadcasting large task binary with size 2024.4 KiB\n",
      "23/09/13 09:37:55 WARN DAGScheduler: Broadcasting large task binary with size 2.3 MiB\n",
      "23/09/13 09:37:56 WARN DAGScheduler: Broadcasting large task binary with size 2.5 MiB\n",
      "23/09/13 09:37:56 WARN DAGScheduler: Broadcasting large task binary with size 1732.6 KiB\n",
      "23/09/13 09:37:56 WARN DAGScheduler: Broadcasting large task binary with size 1733.0 KiB\n",
      "23/09/13 09:37:56 WARN DAGScheduler: Broadcasting large task binary with size 1733.6 KiB\n",
      "23/09/13 09:37:57 WARN DAGScheduler: Broadcasting large task binary with size 1734.8 KiB\n",
      "23/09/13 09:37:57 WARN DAGScheduler: Broadcasting large task binary with size 1737.1 KiB\n",
      "23/09/13 09:37:57 WARN DAGScheduler: Broadcasting large task binary with size 1741.6 KiB\n",
      "23/09/13 09:37:57 WARN DAGScheduler: Broadcasting large task binary with size 1750.2 KiB\n",
      "23/09/13 09:37:57 WARN DAGScheduler: Broadcasting large task binary with size 1766.7 KiB\n",
      "23/09/13 09:37:57 WARN DAGScheduler: Broadcasting large task binary with size 1794.8 KiB\n",
      "23/09/13 09:37:57 WARN DAGScheduler: Broadcasting large task binary with size 1838.6 KiB\n",
      "23/09/13 09:37:57 WARN DAGScheduler: Broadcasting large task binary with size 1905.6 KiB\n",
      "23/09/13 09:37:58 WARN DAGScheduler: Broadcasting large task binary with size 1994.9 KiB\n",
      "23/09/13 09:37:58 WARN DAGScheduler: Broadcasting large task binary with size 2.0 MiB\n",
      "23/09/13 09:37:58 WARN DAGScheduler: Broadcasting large task binary with size 2.1 MiB\n",
      "23/09/13 09:37:58 WARN DAGScheduler: Broadcasting large task binary with size 2.3 MiB\n",
      "23/09/13 09:37:58 WARN DAGScheduler: Broadcasting large task binary with size 2.4 MiB\n",
      "23/09/13 09:37:59 WARN DAGScheduler: Broadcasting large task binary with size 2.5 MiB\n",
      "23/09/13 09:37:59 WARN DAGScheduler: Broadcasting large task binary with size 2.6 MiB\n",
      "23/09/13 09:37:59 WARN DAGScheduler: Broadcasting large task binary with size 2.7 MiB\n",
      "23/09/13 09:37:59 WARN DAGScheduler: Broadcasting large task binary with size 2.7 MiB\n",
      "23/09/13 09:37:59 WARN DAGScheduler: Broadcasting large task binary with size 2.4 MiB\n",
      "23/09/13 09:38:00 WARN DAGScheduler: Broadcasting large task binary with size 2.4 MiB\n",
      "23/09/13 09:38:00 WARN DAGScheduler: Broadcasting large task binary with size 2.4 MiB\n",
      "23/09/13 09:38:00 WARN DAGScheduler: Broadcasting large task binary with size 2.4 MiB\n",
      "23/09/13 09:38:00 WARN DAGScheduler: Broadcasting large task binary with size 2.4 MiB\n",
      "23/09/13 09:38:00 WARN DAGScheduler: Broadcasting large task binary with size 2.4 MiB\n",
      "23/09/13 09:38:00 WARN DAGScheduler: Broadcasting large task binary with size 2.4 MiB\n",
      "23/09/13 09:38:00 WARN DAGScheduler: Broadcasting large task binary with size 2.4 MiB\n",
      "23/09/13 09:38:00 WARN DAGScheduler: Broadcasting large task binary with size 2.4 MiB\n",
      "23/09/13 09:38:01 WARN DAGScheduler: Broadcasting large task binary with size 2.5 MiB\n",
      "23/09/13 09:38:01 WARN DAGScheduler: Broadcasting large task binary with size 2.5 MiB\n",
      "23/09/13 09:38:01 WARN DAGScheduler: Broadcasting large task binary with size 2.6 MiB\n",
      "23/09/13 09:38:01 WARN DAGScheduler: Broadcasting large task binary with size 2.7 MiB\n",
      "23/09/13 09:38:01 WARN DAGScheduler: Broadcasting large task binary with size 2.8 MiB\n",
      "23/09/13 09:38:02 WARN DAGScheduler: Broadcasting large task binary with size 2.9 MiB\n",
      "23/09/13 09:38:02 WARN DAGScheduler: Broadcasting large task binary with size 3.1 MiB\n",
      "23/09/13 09:38:02 WARN DAGScheduler: Broadcasting large task binary with size 3.2 MiB\n",
      "23/09/13 09:38:02 WARN DAGScheduler: Broadcasting large task binary with size 3.3 MiB\n",
      "23/09/13 09:38:03 WARN DAGScheduler: Broadcasting large task binary with size 3.4 MiB\n",
      "23/09/13 09:38:03 WARN DAGScheduler: Broadcasting large task binary with size 3.4 MiB\n",
      "23/09/13 09:38:03 WARN DAGScheduler: Broadcasting large task binary with size 3.1 MiB\n",
      "23/09/13 09:38:03 WARN DAGScheduler: Broadcasting large task binary with size 3.1 MiB\n",
      "23/09/13 09:38:03 WARN DAGScheduler: Broadcasting large task binary with size 3.1 MiB\n",
      "23/09/13 09:38:03 WARN DAGScheduler: Broadcasting large task binary with size 3.1 MiB\n",
      "23/09/13 09:38:03 WARN DAGScheduler: Broadcasting large task binary with size 3.1 MiB\n",
      "23/09/13 09:38:04 WARN DAGScheduler: Broadcasting large task binary with size 3.1 MiB\n",
      "23/09/13 09:38:04 WARN DAGScheduler: Broadcasting large task binary with size 3.1 MiB\n",
      "23/09/13 09:38:04 WARN DAGScheduler: Broadcasting large task binary with size 3.1 MiB\n",
      "23/09/13 09:38:04 WARN DAGScheduler: Broadcasting large task binary with size 3.1 MiB\n",
      "23/09/13 09:38:04 WARN DAGScheduler: Broadcasting large task binary with size 3.2 MiB\n",
      "23/09/13 09:38:04 WARN DAGScheduler: Broadcasting large task binary with size 3.2 MiB\n",
      "23/09/13 09:38:05 WARN DAGScheduler: Broadcasting large task binary with size 3.3 MiB\n",
      "23/09/13 09:38:05 WARN DAGScheduler: Broadcasting large task binary with size 3.4 MiB\n",
      "23/09/13 09:38:05 WARN DAGScheduler: Broadcasting large task binary with size 3.5 MiB\n",
      "23/09/13 09:38:05 WARN DAGScheduler: Broadcasting large task binary with size 3.6 MiB\n",
      "23/09/13 09:38:06 WARN DAGScheduler: Broadcasting large task binary with size 3.7 MiB\n",
      "23/09/13 09:38:06 WARN DAGScheduler: Broadcasting large task binary with size 3.9 MiB\n",
      "23/09/13 09:38:06 WARN DAGScheduler: Broadcasting large task binary with size 4.0 MiB\n",
      "23/09/13 09:38:06 WARN DAGScheduler: Broadcasting large task binary with size 4.1 MiB\n",
      "23/09/13 09:38:07 WARN DAGScheduler: Broadcasting large task binary with size 4.1 MiB\n",
      "23/09/13 09:38:07 WARN DAGScheduler: Broadcasting large task binary with size 3.8 MiB\n",
      "23/09/13 09:38:07 WARN DAGScheduler: Broadcasting large task binary with size 3.8 MiB\n",
      "23/09/13 09:38:07 WARN DAGScheduler: Broadcasting large task binary with size 3.8 MiB\n",
      "23/09/13 09:38:07 WARN DAGScheduler: Broadcasting large task binary with size 3.8 MiB\n",
      "23/09/13 09:38:08 WARN DAGScheduler: Broadcasting large task binary with size 3.8 MiB\n",
      "23/09/13 09:38:08 WARN DAGScheduler: Broadcasting large task binary with size 3.8 MiB\n",
      "23/09/13 09:38:08 WARN DAGScheduler: Broadcasting large task binary with size 3.8 MiB\n",
      "23/09/13 09:38:08 WARN DAGScheduler: Broadcasting large task binary with size 3.8 MiB\n",
      "23/09/13 09:38:08 WARN DAGScheduler: Broadcasting large task binary with size 3.8 MiB\n",
      "23/09/13 09:38:08 WARN DAGScheduler: Broadcasting large task binary with size 3.9 MiB\n",
      "23/09/13 09:38:09 WARN DAGScheduler: Broadcasting large task binary with size 3.9 MiB\n",
      "23/09/13 09:38:09 WARN DAGScheduler: Broadcasting large task binary with size 4.0 MiB\n",
      "23/09/13 09:38:09 WARN DAGScheduler: Broadcasting large task binary with size 4.1 MiB\n",
      "23/09/13 09:38:09 WARN DAGScheduler: Broadcasting large task binary with size 4.2 MiB\n",
      "23/09/13 09:38:10 WARN DAGScheduler: Broadcasting large task binary with size 4.3 MiB\n",
      "23/09/13 09:38:10 WARN DAGScheduler: Broadcasting large task binary with size 4.4 MiB\n",
      "23/09/13 09:38:10 WARN DAGScheduler: Broadcasting large task binary with size 4.5 MiB\n",
      "23/09/13 09:38:11 WARN DAGScheduler: Broadcasting large task binary with size 4.7 MiB\n",
      "23/09/13 09:38:11 WARN DAGScheduler: Broadcasting large task binary with size 4.8 MiB\n",
      "23/09/13 09:38:11 WARN DAGScheduler: Broadcasting large task binary with size 4.9 MiB\n",
      "23/09/13 09:38:11 WARN DAGScheduler: Broadcasting large task binary with size 4.5 MiB\n",
      "23/09/13 09:38:12 WARN DAGScheduler: Broadcasting large task binary with size 4.5 MiB\n",
      "23/09/13 09:38:12 WARN DAGScheduler: Broadcasting large task binary with size 4.5 MiB\n",
      "23/09/13 09:38:12 WARN DAGScheduler: Broadcasting large task binary with size 4.5 MiB\n",
      "23/09/13 09:38:12 WARN DAGScheduler: Broadcasting large task binary with size 4.5 MiB\n",
      "23/09/13 09:38:12 WARN DAGScheduler: Broadcasting large task binary with size 4.5 MiB\n",
      "23/09/13 09:38:13 WARN DAGScheduler: Broadcasting large task binary with size 4.5 MiB\n",
      "23/09/13 09:38:13 WARN DAGScheduler: Broadcasting large task binary with size 4.6 MiB\n",
      "23/09/13 09:38:13 WARN DAGScheduler: Broadcasting large task binary with size 4.6 MiB\n",
      "23/09/13 09:38:13 WARN DAGScheduler: Broadcasting large task binary with size 4.6 MiB\n",
      "23/09/13 09:38:13 WARN DAGScheduler: Broadcasting large task binary with size 4.7 MiB\n",
      "23/09/13 09:38:14 WARN DAGScheduler: Broadcasting large task binary with size 4.8 MiB\n",
      "23/09/13 09:38:14 WARN DAGScheduler: Broadcasting large task binary with size 4.9 MiB\n",
      "23/09/13 09:38:14 WARN DAGScheduler: Broadcasting large task binary with size 5.0 MiB\n",
      "23/09/13 09:38:14 WARN DAGScheduler: Broadcasting large task binary with size 5.1 MiB\n",
      "23/09/13 09:38:15 WARN DAGScheduler: Broadcasting large task binary with size 5.2 MiB\n",
      "23/09/13 09:38:15 WARN DAGScheduler: Broadcasting large task binary with size 5.3 MiB\n",
      "23/09/13 09:38:15 WARN DAGScheduler: Broadcasting large task binary with size 5.5 MiB\n",
      "23/09/13 09:38:16 WARN DAGScheduler: Broadcasting large task binary with size 5.6 MiB\n",
      "23/09/13 09:38:16 WARN DAGScheduler: Broadcasting large task binary with size 5.7 MiB\n",
      "23/09/13 09:38:16 WARN DAGScheduler: Broadcasting large task binary with size 5.3 MiB\n",
      "23/09/13 09:38:17 WARN DAGScheduler: Broadcasting large task binary with size 5.3 MiB\n",
      "23/09/13 09:38:17 WARN DAGScheduler: Broadcasting large task binary with size 5.3 MiB\n",
      "23/09/13 09:38:17 WARN DAGScheduler: Broadcasting large task binary with size 5.3 MiB\n",
      "23/09/13 09:38:17 WARN DAGScheduler: Broadcasting large task binary with size 5.3 MiB\n",
      "23/09/13 09:38:17 WARN DAGScheduler: Broadcasting large task binary with size 5.3 MiB\n",
      "23/09/13 09:38:18 WARN DAGScheduler: Broadcasting large task binary with size 5.3 MiB\n",
      "23/09/13 09:38:18 WARN DAGScheduler: Broadcasting large task binary with size 5.3 MiB\n",
      "23/09/13 09:38:18 WARN DAGScheduler: Broadcasting large task binary with size 5.4 MiB\n",
      "23/09/13 09:38:18 WARN DAGScheduler: Broadcasting large task binary with size 5.4 MiB\n",
      "23/09/13 09:38:19 WARN DAGScheduler: Broadcasting large task binary with size 5.5 MiB\n",
      "23/09/13 09:38:19 WARN DAGScheduler: Broadcasting large task binary with size 5.6 MiB\n",
      "23/09/13 09:38:19 WARN DAGScheduler: Broadcasting large task binary with size 5.6 MiB\n",
      "23/09/13 09:38:19 WARN DAGScheduler: Broadcasting large task binary with size 5.7 MiB\n",
      "23/09/13 09:38:20 WARN DAGScheduler: Broadcasting large task binary with size 5.9 MiB\n",
      "23/09/13 09:38:20 WARN DAGScheduler: Broadcasting large task binary with size 6.0 MiB\n",
      "23/09/13 09:38:20 WARN DAGScheduler: Broadcasting large task binary with size 6.1 MiB\n",
      "23/09/13 09:38:21 WARN DAGScheduler: Broadcasting large task binary with size 6.2 MiB\n",
      "23/09/13 09:38:21 WARN DAGScheduler: Broadcasting large task binary with size 6.4 MiB\n",
      "23/09/13 09:38:21 WARN DAGScheduler: Broadcasting large task binary with size 6.5 MiB\n",
      "23/09/13 09:38:22 WARN DAGScheduler: Broadcasting large task binary with size 6.1 MiB\n",
      "23/09/13 09:38:22 WARN DAGScheduler: Broadcasting large task binary with size 6.1 MiB\n",
      "23/09/13 09:38:22 WARN DAGScheduler: Broadcasting large task binary with size 6.1 MiB\n",
      "23/09/13 09:38:22 WARN DAGScheduler: Broadcasting large task binary with size 6.1 MiB\n",
      "23/09/13 09:38:23 WARN DAGScheduler: Broadcasting large task binary with size 6.1 MiB\n",
      "23/09/13 09:38:23 WARN DAGScheduler: Broadcasting large task binary with size 6.1 MiB\n",
      "23/09/13 09:38:23 WARN DAGScheduler: Broadcasting large task binary with size 6.1 MiB\n",
      "23/09/13 09:38:23 WARN DAGScheduler: Broadcasting large task binary with size 6.1 MiB\n",
      "23/09/13 09:38:24 WARN DAGScheduler: Broadcasting large task binary with size 6.2 MiB\n",
      "23/09/13 09:38:24 WARN DAGScheduler: Broadcasting large task binary with size 6.2 MiB\n",
      "23/09/13 09:38:24 WARN DAGScheduler: Broadcasting large task binary with size 6.3 MiB\n",
      "23/09/13 09:38:24 WARN DAGScheduler: Broadcasting large task binary with size 6.3 MiB\n",
      "23/09/13 09:38:25 WARN DAGScheduler: Broadcasting large task binary with size 6.4 MiB\n",
      "23/09/13 09:38:25 WARN DAGScheduler: Broadcasting large task binary with size 6.5 MiB\n",
      "23/09/13 09:38:25 WARN DAGScheduler: Broadcasting large task binary with size 6.6 MiB\n",
      "23/09/13 09:38:26 WARN DAGScheduler: Broadcasting large task binary with size 6.8 MiB\n",
      "23/09/13 09:38:26 WARN DAGScheduler: Broadcasting large task binary with size 6.9 MiB\n",
      "23/09/13 09:38:27 WARN DAGScheduler: Broadcasting large task binary with size 7.1 MiB\n",
      "23/09/13 09:38:27 WARN DAGScheduler: Broadcasting large task binary with size 7.2 MiB\n",
      "23/09/13 09:38:27 WARN DAGScheduler: Broadcasting large task binary with size 7.4 MiB\n",
      "23/09/13 09:38:28 WARN DAGScheduler: Broadcasting large task binary with size 6.9 MiB\n",
      "23/09/13 09:38:28 WARN DAGScheduler: Broadcasting large task binary with size 6.9 MiB\n",
      "23/09/13 09:38:28 WARN DAGScheduler: Broadcasting large task binary with size 6.9 MiB\n",
      "23/09/13 09:38:29 WARN DAGScheduler: Broadcasting large task binary with size 6.9 MiB\n",
      "23/09/13 09:38:29 WARN DAGScheduler: Broadcasting large task binary with size 6.9 MiB\n",
      "23/09/13 09:38:30 WARN DAGScheduler: Broadcasting large task binary with size 6.9 MiB\n",
      "23/09/13 09:38:30 WARN DAGScheduler: Broadcasting large task binary with size 7.0 MiB\n",
      "23/09/13 09:38:30 WARN DAGScheduler: Broadcasting large task binary with size 7.0 MiB\n",
      "23/09/13 09:38:30 WARN DAGScheduler: Broadcasting large task binary with size 7.0 MiB\n",
      "23/09/13 09:38:31 WARN DAGScheduler: Broadcasting large task binary with size 7.0 MiB\n",
      "23/09/13 09:38:31 WARN DAGScheduler: Broadcasting large task binary with size 7.1 MiB\n",
      "23/09/13 09:38:32 WARN DAGScheduler: Broadcasting large task binary with size 7.2 MiB\n",
      "23/09/13 09:38:32 WARN DAGScheduler: Broadcasting large task binary with size 7.3 MiB\n",
      "23/09/13 09:38:33 WARN DAGScheduler: Broadcasting large task binary with size 7.4 MiB\n",
      "23/09/13 09:38:33 WARN DAGScheduler: Broadcasting large task binary with size 7.5 MiB\n",
      "23/09/13 09:38:33 WARN DAGScheduler: Broadcasting large task binary with size 7.6 MiB\n",
      "23/09/13 09:38:34 WARN DAGScheduler: Broadcasting large task binary with size 7.7 MiB\n",
      "23/09/13 09:38:34 WARN DAGScheduler: Broadcasting large task binary with size 7.9 MiB\n",
      "23/09/13 09:38:35 WARN DAGScheduler: Broadcasting large task binary with size 8.0 MiB\n",
      "23/09/13 09:38:35 WARN DAGScheduler: Broadcasting large task binary with size 8.2 MiB\n",
      "23/09/13 09:38:36 WARN DAGScheduler: Broadcasting large task binary with size 7.8 MiB\n",
      "23/09/13 09:38:36 WARN DAGScheduler: Broadcasting large task binary with size 7.8 MiB\n",
      "23/09/13 09:38:36 WARN DAGScheduler: Broadcasting large task binary with size 7.8 MiB\n",
      "23/09/13 09:38:37 WARN DAGScheduler: Broadcasting large task binary with size 7.8 MiB\n",
      "23/09/13 09:38:37 WARN DAGScheduler: Broadcasting large task binary with size 7.8 MiB\n",
      "23/09/13 09:38:37 WARN DAGScheduler: Broadcasting large task binary with size 7.8 MiB\n",
      "23/09/13 09:38:37 WARN DAGScheduler: Broadcasting large task binary with size 7.8 MiB\n",
      "23/09/13 09:38:38 WARN DAGScheduler: Broadcasting large task binary with size 7.8 MiB\n",
      "23/09/13 09:38:38 WARN DAGScheduler: Broadcasting large task binary with size 7.8 MiB\n",
      "23/09/13 09:38:38 WARN DAGScheduler: Broadcasting large task binary with size 7.9 MiB\n",
      "23/09/13 09:38:39 WARN DAGScheduler: Broadcasting large task binary with size 7.9 MiB\n",
      "23/09/13 09:38:39 WARN DAGScheduler: Broadcasting large task binary with size 8.0 MiB\n",
      "23/09/13 09:38:39 WARN DAGScheduler: Broadcasting large task binary with size 8.1 MiB\n",
      "23/09/13 09:38:40 WARN DAGScheduler: Broadcasting large task binary with size 8.2 MiB\n",
      "23/09/13 09:38:40 WARN DAGScheduler: Broadcasting large task binary with size 8.3 MiB\n",
      "23/09/13 09:38:40 WARN DAGScheduler: Broadcasting large task binary with size 8.5 MiB\n",
      "23/09/13 09:38:41 WARN DAGScheduler: Broadcasting large task binary with size 8.6 MiB\n",
      "23/09/13 09:38:41 WARN DAGScheduler: Broadcasting large task binary with size 8.8 MiB\n",
      "23/09/13 09:38:42 WARN DAGScheduler: Broadcasting large task binary with size 8.9 MiB\n",
      "23/09/13 09:38:42 WARN DAGScheduler: Broadcasting large task binary with size 9.1 MiB\n",
      "23/09/13 09:38:51 WARN DAGScheduler: Broadcasting large task binary with size 1038.0 KiB\n",
      "23/09/13 09:38:51 WARN DAGScheduler: Broadcasting large task binary with size 1037.6 KiB\n",
      "23/09/13 09:38:51 WARN DAGScheduler: Broadcasting large task binary with size 1038.1 KiB\n",
      "23/09/13 09:38:51 WARN DAGScheduler: Broadcasting large task binary with size 1038.6 KiB\n",
      "23/09/13 09:38:51 WARN DAGScheduler: Broadcasting large task binary with size 1039.8 KiB\n",
      "23/09/13 09:38:51 WARN DAGScheduler: Broadcasting large task binary with size 1042.1 KiB\n",
      "23/09/13 09:38:51 WARN DAGScheduler: Broadcasting large task binary with size 1046.6 KiB\n",
      "23/09/13 09:38:51 WARN DAGScheduler: Broadcasting large task binary with size 1055.8 KiB\n",
      "23/09/13 09:38:51 WARN DAGScheduler: Broadcasting large task binary with size 1072.5 KiB\n",
      "23/09/13 09:38:51 WARN DAGScheduler: Broadcasting large task binary with size 1101.8 KiB\n",
      "23/09/13 09:38:51 WARN DAGScheduler: Broadcasting large task binary with size 1146.8 KiB\n",
      "23/09/13 09:38:52 WARN DAGScheduler: Broadcasting large task binary with size 1137.8 KiB\n",
      "23/09/13 09:38:52 WARN DAGScheduler: Broadcasting large task binary with size 1138.3 KiB\n",
      "23/09/13 09:38:52 WARN DAGScheduler: Broadcasting large task binary with size 1138.9 KiB\n",
      "23/09/13 09:38:52 WARN DAGScheduler: Broadcasting large task binary with size 1140.0 KiB\n",
      "23/09/13 09:38:52 WARN DAGScheduler: Broadcasting large task binary with size 1142.3 KiB\n",
      "23/09/13 09:38:52 WARN DAGScheduler: Broadcasting large task binary with size 1146.5 KiB\n",
      "23/09/13 09:38:52 WARN DAGScheduler: Broadcasting large task binary with size 1154.9 KiB\n",
      "23/09/13 09:38:52 WARN DAGScheduler: Broadcasting large task binary with size 1170.2 KiB\n",
      "23/09/13 09:38:52 WARN DAGScheduler: Broadcasting large task binary with size 1198.6 KiB\n",
      "23/09/13 09:38:52 WARN DAGScheduler: Broadcasting large task binary with size 1247.8 KiB\n",
      "23/09/13 09:38:52 WARN DAGScheduler: Broadcasting large task binary with size 1249.4 KiB\n",
      "23/09/13 09:38:53 WARN DAGScheduler: Broadcasting large task binary with size 1249.9 KiB\n",
      "23/09/13 09:38:53 WARN DAGScheduler: Broadcasting large task binary with size 1250.4 KiB\n",
      "23/09/13 09:38:53 WARN DAGScheduler: Broadcasting large task binary with size 1251.6 KiB\n",
      "23/09/13 09:38:53 WARN DAGScheduler: Broadcasting large task binary with size 1253.9 KiB\n",
      "23/09/13 09:38:53 WARN DAGScheduler: Broadcasting large task binary with size 1258.5 KiB\n",
      "23/09/13 09:38:53 WARN DAGScheduler: Broadcasting large task binary with size 1267.7 KiB\n",
      "23/09/13 09:38:53 WARN DAGScheduler: Broadcasting large task binary with size 1285.0 KiB\n",
      "23/09/13 09:38:53 WARN DAGScheduler: Broadcasting large task binary with size 1313.9 KiB\n",
      "23/09/13 09:38:53 WARN DAGScheduler: Broadcasting large task binary with size 1361.5 KiB\n",
      "23/09/13 09:38:53 WARN DAGScheduler: Broadcasting large task binary with size 1354.6 KiB\n",
      "23/09/13 09:38:53 WARN DAGScheduler: Broadcasting large task binary with size 1355.1 KiB\n",
      "23/09/13 09:38:53 WARN DAGScheduler: Broadcasting large task binary with size 1355.7 KiB\n",
      "23/09/13 09:38:54 WARN DAGScheduler: Broadcasting large task binary with size 1356.8 KiB\n",
      "23/09/13 09:38:54 WARN DAGScheduler: Broadcasting large task binary with size 1359.0 KiB\n",
      "23/09/13 09:38:54 WARN DAGScheduler: Broadcasting large task binary with size 1363.0 KiB\n",
      "23/09/13 09:38:54 WARN DAGScheduler: Broadcasting large task binary with size 1370.8 KiB\n",
      "23/09/13 09:38:54 WARN DAGScheduler: Broadcasting large task binary with size 1384.9 KiB\n",
      "23/09/13 09:38:54 WARN DAGScheduler: Broadcasting large task binary with size 1410.0 KiB\n",
      "23/09/13 09:38:54 WARN DAGScheduler: Broadcasting large task binary with size 1451.8 KiB\n",
      "23/09/13 09:38:54 WARN DAGScheduler: Broadcasting large task binary with size 1449.5 KiB\n",
      "23/09/13 09:38:54 WARN DAGScheduler: Broadcasting large task binary with size 1450.0 KiB\n",
      "23/09/13 09:38:54 WARN DAGScheduler: Broadcasting large task binary with size 1450.6 KiB\n",
      "23/09/13 09:38:54 WARN DAGScheduler: Broadcasting large task binary with size 1451.7 KiB\n",
      "23/09/13 09:38:55 WARN DAGScheduler: Broadcasting large task binary with size 1454.0 KiB\n",
      "23/09/13 09:38:55 WARN DAGScheduler: Broadcasting large task binary with size 1458.6 KiB\n",
      "23/09/13 09:38:55 WARN DAGScheduler: Broadcasting large task binary with size 1467.7 KiB\n",
      "23/09/13 09:38:55 WARN DAGScheduler: Broadcasting large task binary with size 1484.4 KiB\n",
      "23/09/13 09:38:55 WARN DAGScheduler: Broadcasting large task binary with size 1512.8 KiB\n",
      "23/09/13 09:38:55 WARN DAGScheduler: Broadcasting large task binary with size 1561.2 KiB\n",
      "23/09/13 09:38:55 WARN DAGScheduler: Broadcasting large task binary with size 1557.8 KiB\n",
      "23/09/13 09:38:55 WARN DAGScheduler: Broadcasting large task binary with size 1558.3 KiB\n",
      "23/09/13 09:38:55 WARN DAGScheduler: Broadcasting large task binary with size 1558.8 KiB\n",
      "23/09/13 09:38:55 WARN DAGScheduler: Broadcasting large task binary with size 1560.0 KiB\n",
      "23/09/13 09:38:55 WARN DAGScheduler: Broadcasting large task binary with size 1562.3 KiB\n",
      "23/09/13 09:38:56 WARN DAGScheduler: Broadcasting large task binary with size 1566.8 KiB\n",
      "23/09/13 09:38:56 WARN DAGScheduler: Broadcasting large task binary with size 1575.2 KiB\n",
      "23/09/13 09:38:56 WARN DAGScheduler: Broadcasting large task binary with size 1591.1 KiB\n",
      "23/09/13 09:38:56 WARN DAGScheduler: Broadcasting large task binary with size 1620.6 KiB\n",
      "23/09/13 09:38:56 WARN DAGScheduler: Broadcasting large task binary with size 1672.1 KiB\n",
      "23/09/13 09:38:56 WARN DAGScheduler: Broadcasting large task binary with size 1671.3 KiB\n",
      "23/09/13 09:38:56 WARN DAGScheduler: Broadcasting large task binary with size 1671.8 KiB\n",
      "23/09/13 09:38:56 WARN DAGScheduler: Broadcasting large task binary with size 1672.4 KiB\n",
      "23/09/13 09:38:56 WARN DAGScheduler: Broadcasting large task binary with size 1673.5 KiB\n",
      "23/09/13 09:38:56 WARN DAGScheduler: Broadcasting large task binary with size 1675.8 KiB\n",
      "23/09/13 09:38:57 WARN DAGScheduler: Broadcasting large task binary with size 1680.4 KiB\n",
      "23/09/13 09:38:57 WARN DAGScheduler: Broadcasting large task binary with size 1689.3 KiB\n",
      "23/09/13 09:38:57 WARN DAGScheduler: Broadcasting large task binary with size 1705.9 KiB\n",
      "23/09/13 09:38:57 WARN DAGScheduler: Broadcasting large task binary with size 1733.6 KiB\n",
      "23/09/13 09:38:57 WARN DAGScheduler: Broadcasting large task binary with size 1776.5 KiB\n",
      "23/09/13 09:38:57 WARN DAGScheduler: Broadcasting large task binary with size 1770.1 KiB\n",
      "23/09/13 09:38:57 WARN DAGScheduler: Broadcasting large task binary with size 1770.6 KiB\n",
      "23/09/13 09:38:57 WARN DAGScheduler: Broadcasting large task binary with size 1771.2 KiB\n",
      "23/09/13 09:38:57 WARN DAGScheduler: Broadcasting large task binary with size 1772.4 KiB\n",
      "23/09/13 09:38:57 WARN DAGScheduler: Broadcasting large task binary with size 1774.7 KiB\n",
      "23/09/13 09:38:58 WARN DAGScheduler: Broadcasting large task binary with size 1779.2 KiB\n",
      "23/09/13 09:38:58 WARN DAGScheduler: Broadcasting large task binary with size 1788.4 KiB\n",
      "23/09/13 09:38:58 WARN DAGScheduler: Broadcasting large task binary with size 1805.0 KiB\n",
      "23/09/13 09:38:58 WARN DAGScheduler: Broadcasting large task binary with size 1832.5 KiB\n",
      "23/09/13 09:38:58 WARN DAGScheduler: Broadcasting large task binary with size 1877.6 KiB\n",
      "23/09/13 09:38:58 WARN DAGScheduler: Broadcasting large task binary with size 1873.4 KiB\n",
      "23/09/13 09:38:58 WARN DAGScheduler: Broadcasting large task binary with size 1873.9 KiB\n",
      "23/09/13 09:38:58 WARN DAGScheduler: Broadcasting large task binary with size 1874.4 KiB\n",
      "23/09/13 09:38:58 WARN DAGScheduler: Broadcasting large task binary with size 1875.6 KiB\n",
      "23/09/13 09:38:59 WARN DAGScheduler: Broadcasting large task binary with size 1877.9 KiB\n",
      "23/09/13 09:38:59 WARN DAGScheduler: Broadcasting large task binary with size 1882.5 KiB\n",
      "23/09/13 09:38:59 WARN DAGScheduler: Broadcasting large task binary with size 1891.6 KiB\n",
      "23/09/13 09:38:59 WARN DAGScheduler: Broadcasting large task binary with size 1908.1 KiB\n",
      "23/09/13 09:38:59 WARN DAGScheduler: Broadcasting large task binary with size 1933.8 KiB\n",
      "23/09/13 09:38:59 WARN DAGScheduler: Broadcasting large task binary with size 1973.1 KiB\n",
      "23/09/13 09:38:59 WARN DAGScheduler: Broadcasting large task binary with size 1966.7 KiB\n",
      "23/09/13 09:38:59 WARN DAGScheduler: Broadcasting large task binary with size 1967.2 KiB\n",
      "23/09/13 09:38:59 WARN DAGScheduler: Broadcasting large task binary with size 1967.8 KiB\n",
      "23/09/13 09:38:59 WARN DAGScheduler: Broadcasting large task binary with size 1968.9 KiB\n",
      "23/09/13 09:39:00 WARN DAGScheduler: Broadcasting large task binary with size 1971.2 KiB\n",
      "23/09/13 09:39:00 WARN DAGScheduler: Broadcasting large task binary with size 1975.7 KiB\n",
      "23/09/13 09:39:00 WARN DAGScheduler: Broadcasting large task binary with size 1984.8 KiB\n",
      "23/09/13 09:39:00 WARN DAGScheduler: Broadcasting large task binary with size 2000.5 KiB\n",
      "23/09/13 09:39:00 WARN DAGScheduler: Broadcasting large task binary with size 2029.3 KiB\n",
      "23/09/13 09:39:00 WARN DAGScheduler: Broadcasting large task binary with size 2.0 MiB\n",
      "23/09/13 09:39:01 WARN DAGScheduler: Broadcasting large task binary with size 2.0 MiB\n",
      "23/09/13 09:39:01 WARN DAGScheduler: Broadcasting large task binary with size 2.0 MiB\n",
      "23/09/13 09:39:01 WARN DAGScheduler: Broadcasting large task binary with size 2.0 MiB\n",
      "23/09/13 09:39:01 WARN DAGScheduler: Broadcasting large task binary with size 2.0 MiB\n",
      "23/09/13 09:39:01 WARN DAGScheduler: Broadcasting large task binary with size 2.0 MiB\n",
      "23/09/13 09:39:01 WARN DAGScheduler: Broadcasting large task binary with size 2.0 MiB\n",
      "23/09/13 09:39:01 WARN DAGScheduler: Broadcasting large task binary with size 2.0 MiB\n",
      "23/09/13 09:39:01 WARN DAGScheduler: Broadcasting large task binary with size 2.1 MiB\n",
      "23/09/13 09:39:01 WARN DAGScheduler: Broadcasting large task binary with size 2.1 MiB\n",
      "23/09/13 09:39:01 WARN DAGScheduler: Broadcasting large task binary with size 2.1 MiB\n",
      "23/09/13 09:39:02 WARN DAGScheduler: Broadcasting large task binary with size 2.1 MiB\n",
      "23/09/13 09:39:02 WARN DAGScheduler: Broadcasting large task binary with size 2.1 MiB\n",
      "23/09/13 09:39:02 WARN DAGScheduler: Broadcasting large task binary with size 2.1 MiB\n",
      "23/09/13 09:39:02 WARN DAGScheduler: Broadcasting large task binary with size 2.1 MiB\n",
      "23/09/13 09:39:02 WARN DAGScheduler: Broadcasting large task binary with size 2.1 MiB\n",
      "23/09/13 09:39:02 WARN DAGScheduler: Broadcasting large task binary with size 2.1 MiB\n",
      "23/09/13 09:39:02 WARN DAGScheduler: Broadcasting large task binary with size 2.1 MiB\n",
      "23/09/13 09:39:02 WARN DAGScheduler: Broadcasting large task binary with size 2.1 MiB\n",
      "23/09/13 09:39:02 WARN DAGScheduler: Broadcasting large task binary with size 2.2 MiB\n",
      "23/09/13 09:39:03 WARN DAGScheduler: Broadcasting large task binary with size 2.2 MiB\n",
      "23/09/13 09:39:05 WARN DAGScheduler: Broadcasting large task binary with size 1138.3 KiB\n",
      "23/09/13 09:39:05 WARN DAGScheduler: Broadcasting large task binary with size 1423.1 KiB\n",
      "23/09/13 09:39:06 WARN DAGScheduler: Broadcasting large task binary with size 1723.6 KiB\n",
      "23/09/13 09:39:06 WARN DAGScheduler: Broadcasting large task binary with size 2024.4 KiB\n",
      "23/09/13 09:39:06 WARN DAGScheduler: Broadcasting large task binary with size 2.3 MiB\n",
      "23/09/13 09:39:07 WARN DAGScheduler: Broadcasting large task binary with size 2.5 MiB\n",
      "23/09/13 09:39:07 WARN DAGScheduler: Broadcasting large task binary with size 1732.6 KiB\n",
      "23/09/13 09:39:07 WARN DAGScheduler: Broadcasting large task binary with size 1733.0 KiB\n",
      "23/09/13 09:39:07 WARN DAGScheduler: Broadcasting large task binary with size 1733.6 KiB\n",
      "23/09/13 09:39:07 WARN DAGScheduler: Broadcasting large task binary with size 1734.8 KiB\n",
      "23/09/13 09:39:07 WARN DAGScheduler: Broadcasting large task binary with size 1737.1 KiB\n",
      "23/09/13 09:39:08 WARN DAGScheduler: Broadcasting large task binary with size 1741.6 KiB\n",
      "23/09/13 09:39:08 WARN DAGScheduler: Broadcasting large task binary with size 1750.2 KiB\n",
      "23/09/13 09:39:08 WARN DAGScheduler: Broadcasting large task binary with size 1766.7 KiB\n",
      "23/09/13 09:39:08 WARN DAGScheduler: Broadcasting large task binary with size 1794.8 KiB\n",
      "23/09/13 09:39:08 WARN DAGScheduler: Broadcasting large task binary with size 1838.6 KiB\n",
      "23/09/13 09:39:08 WARN DAGScheduler: Broadcasting large task binary with size 1905.6 KiB\n",
      "23/09/13 09:39:08 WARN DAGScheduler: Broadcasting large task binary with size 1994.9 KiB\n",
      "23/09/13 09:39:09 WARN DAGScheduler: Broadcasting large task binary with size 2.0 MiB\n",
      "23/09/13 09:39:09 WARN DAGScheduler: Broadcasting large task binary with size 2.1 MiB\n",
      "23/09/13 09:39:09 WARN DAGScheduler: Broadcasting large task binary with size 2.3 MiB\n",
      "23/09/13 09:39:09 WARN DAGScheduler: Broadcasting large task binary with size 2.4 MiB\n",
      "23/09/13 09:39:09 WARN DAGScheduler: Broadcasting large task binary with size 2.5 MiB\n",
      "23/09/13 09:39:10 WARN DAGScheduler: Broadcasting large task binary with size 2.6 MiB\n",
      "23/09/13 09:39:10 WARN DAGScheduler: Broadcasting large task binary with size 2.7 MiB\n",
      "23/09/13 09:39:10 WARN DAGScheduler: Broadcasting large task binary with size 2.7 MiB\n",
      "23/09/13 09:39:10 WARN DAGScheduler: Broadcasting large task binary with size 2.4 MiB\n",
      "23/09/13 09:39:10 WARN DAGScheduler: Broadcasting large task binary with size 2.4 MiB\n",
      "23/09/13 09:39:11 WARN DAGScheduler: Broadcasting large task binary with size 2.4 MiB\n",
      "23/09/13 09:39:11 WARN DAGScheduler: Broadcasting large task binary with size 2.4 MiB\n",
      "23/09/13 09:39:11 WARN DAGScheduler: Broadcasting large task binary with size 2.4 MiB\n",
      "23/09/13 09:39:11 WARN DAGScheduler: Broadcasting large task binary with size 2.4 MiB\n",
      "23/09/13 09:39:11 WARN DAGScheduler: Broadcasting large task binary with size 2.4 MiB\n",
      "23/09/13 09:39:11 WARN DAGScheduler: Broadcasting large task binary with size 2.4 MiB\n",
      "23/09/13 09:39:11 WARN DAGScheduler: Broadcasting large task binary with size 2.4 MiB\n",
      "23/09/13 09:39:11 WARN DAGScheduler: Broadcasting large task binary with size 2.5 MiB\n",
      "23/09/13 09:39:12 WARN DAGScheduler: Broadcasting large task binary with size 2.5 MiB\n",
      "23/09/13 09:39:12 WARN DAGScheduler: Broadcasting large task binary with size 2.6 MiB\n",
      "23/09/13 09:39:12 WARN DAGScheduler: Broadcasting large task binary with size 2.7 MiB\n",
      "23/09/13 09:39:12 WARN DAGScheduler: Broadcasting large task binary with size 2.8 MiB\n",
      "23/09/13 09:39:12 WARN DAGScheduler: Broadcasting large task binary with size 2.9 MiB\n",
      "23/09/13 09:39:13 WARN DAGScheduler: Broadcasting large task binary with size 3.1 MiB\n",
      "23/09/13 09:39:13 WARN DAGScheduler: Broadcasting large task binary with size 3.2 MiB\n",
      "23/09/13 09:39:13 WARN DAGScheduler: Broadcasting large task binary with size 3.3 MiB\n",
      "23/09/13 09:39:13 WARN DAGScheduler: Broadcasting large task binary with size 3.4 MiB\n",
      "23/09/13 09:39:14 WARN DAGScheduler: Broadcasting large task binary with size 3.4 MiB\n",
      "23/09/13 09:39:14 WARN DAGScheduler: Broadcasting large task binary with size 3.1 MiB\n",
      "23/09/13 09:39:14 WARN DAGScheduler: Broadcasting large task binary with size 3.1 MiB\n",
      "23/09/13 09:39:14 WARN DAGScheduler: Broadcasting large task binary with size 3.1 MiB\n",
      "23/09/13 09:39:14 WARN DAGScheduler: Broadcasting large task binary with size 3.1 MiB\n",
      "23/09/13 09:39:14 WARN DAGScheduler: Broadcasting large task binary with size 3.1 MiB\n",
      "23/09/13 09:39:14 WARN DAGScheduler: Broadcasting large task binary with size 3.1 MiB\n",
      "23/09/13 09:39:15 WARN DAGScheduler: Broadcasting large task binary with size 3.1 MiB\n",
      "23/09/13 09:39:15 WARN DAGScheduler: Broadcasting large task binary with size 3.1 MiB\n",
      "23/09/13 09:39:15 WARN DAGScheduler: Broadcasting large task binary with size 3.1 MiB\n",
      "23/09/13 09:39:15 WARN DAGScheduler: Broadcasting large task binary with size 3.2 MiB\n",
      "23/09/13 09:39:15 WARN DAGScheduler: Broadcasting large task binary with size 3.2 MiB\n",
      "23/09/13 09:39:15 WARN DAGScheduler: Broadcasting large task binary with size 3.3 MiB\n",
      "23/09/13 09:39:16 WARN DAGScheduler: Broadcasting large task binary with size 3.4 MiB\n",
      "23/09/13 09:39:16 WARN DAGScheduler: Broadcasting large task binary with size 3.5 MiB\n",
      "23/09/13 09:39:16 WARN DAGScheduler: Broadcasting large task binary with size 3.6 MiB\n",
      "23/09/13 09:39:16 WARN DAGScheduler: Broadcasting large task binary with size 3.7 MiB\n",
      "23/09/13 09:39:17 WARN DAGScheduler: Broadcasting large task binary with size 3.9 MiB\n",
      "23/09/13 09:39:17 WARN DAGScheduler: Broadcasting large task binary with size 4.0 MiB\n",
      "23/09/13 09:39:17 WARN DAGScheduler: Broadcasting large task binary with size 4.1 MiB\n",
      "23/09/13 09:39:17 WARN DAGScheduler: Broadcasting large task binary with size 4.1 MiB\n",
      "23/09/13 09:39:18 WARN DAGScheduler: Broadcasting large task binary with size 3.8 MiB\n",
      "23/09/13 09:39:18 WARN DAGScheduler: Broadcasting large task binary with size 3.8 MiB\n",
      "23/09/13 09:39:18 WARN DAGScheduler: Broadcasting large task binary with size 3.8 MiB\n",
      "23/09/13 09:39:18 WARN DAGScheduler: Broadcasting large task binary with size 3.8 MiB\n",
      "23/09/13 09:39:18 WARN DAGScheduler: Broadcasting large task binary with size 3.8 MiB\n",
      "23/09/13 09:39:18 WARN DAGScheduler: Broadcasting large task binary with size 3.8 MiB\n",
      "23/09/13 09:39:19 WARN DAGScheduler: Broadcasting large task binary with size 3.8 MiB\n",
      "23/09/13 09:39:19 WARN DAGScheduler: Broadcasting large task binary with size 3.8 MiB\n",
      "23/09/13 09:39:19 WARN DAGScheduler: Broadcasting large task binary with size 3.8 MiB\n",
      "23/09/13 09:39:19 WARN DAGScheduler: Broadcasting large task binary with size 3.9 MiB\n",
      "23/09/13 09:39:19 WARN DAGScheduler: Broadcasting large task binary with size 3.9 MiB\n",
      "23/09/13 09:39:20 WARN DAGScheduler: Broadcasting large task binary with size 4.0 MiB\n",
      "23/09/13 09:39:20 WARN DAGScheduler: Broadcasting large task binary with size 4.1 MiB\n",
      "23/09/13 09:39:20 WARN DAGScheduler: Broadcasting large task binary with size 4.2 MiB\n",
      "23/09/13 09:39:20 WARN DAGScheduler: Broadcasting large task binary with size 4.3 MiB\n",
      "23/09/13 09:39:21 WARN DAGScheduler: Broadcasting large task binary with size 4.4 MiB\n",
      "23/09/13 09:39:21 WARN DAGScheduler: Broadcasting large task binary with size 4.5 MiB\n",
      "23/09/13 09:39:21 WARN DAGScheduler: Broadcasting large task binary with size 4.7 MiB\n",
      "23/09/13 09:39:22 WARN DAGScheduler: Broadcasting large task binary with size 4.8 MiB\n",
      "23/09/13 09:39:22 WARN DAGScheduler: Broadcasting large task binary with size 4.9 MiB\n",
      "23/09/13 09:39:22 WARN DAGScheduler: Broadcasting large task binary with size 4.5 MiB\n",
      "23/09/13 09:39:22 WARN DAGScheduler: Broadcasting large task binary with size 4.5 MiB\n",
      "23/09/13 09:39:23 WARN DAGScheduler: Broadcasting large task binary with size 4.5 MiB\n",
      "23/09/13 09:39:23 WARN DAGScheduler: Broadcasting large task binary with size 4.5 MiB\n",
      "23/09/13 09:39:23 WARN DAGScheduler: Broadcasting large task binary with size 4.5 MiB\n",
      "23/09/13 09:39:23 WARN DAGScheduler: Broadcasting large task binary with size 4.5 MiB\n",
      "23/09/13 09:39:23 WARN DAGScheduler: Broadcasting large task binary with size 4.5 MiB\n",
      "23/09/13 09:39:23 WARN DAGScheduler: Broadcasting large task binary with size 4.6 MiB\n",
      "23/09/13 09:39:24 WARN DAGScheduler: Broadcasting large task binary with size 4.6 MiB\n",
      "23/09/13 09:39:24 WARN DAGScheduler: Broadcasting large task binary with size 4.6 MiB\n",
      "23/09/13 09:39:24 WARN DAGScheduler: Broadcasting large task binary with size 4.7 MiB\n",
      "23/09/13 09:39:24 WARN DAGScheduler: Broadcasting large task binary with size 4.8 MiB\n",
      "23/09/13 09:39:25 WARN DAGScheduler: Broadcasting large task binary with size 4.9 MiB\n",
      "23/09/13 09:39:25 WARN DAGScheduler: Broadcasting large task binary with size 5.0 MiB\n",
      "23/09/13 09:39:25 WARN DAGScheduler: Broadcasting large task binary with size 5.1 MiB\n",
      "23/09/13 09:39:25 WARN DAGScheduler: Broadcasting large task binary with size 5.2 MiB\n",
      "23/09/13 09:39:26 WARN DAGScheduler: Broadcasting large task binary with size 5.3 MiB\n",
      "23/09/13 09:39:26 WARN DAGScheduler: Broadcasting large task binary with size 5.5 MiB\n",
      "23/09/13 09:39:26 WARN DAGScheduler: Broadcasting large task binary with size 5.6 MiB\n",
      "23/09/13 09:39:27 WARN DAGScheduler: Broadcasting large task binary with size 5.7 MiB\n",
      "23/09/13 09:39:27 WARN DAGScheduler: Broadcasting large task binary with size 5.3 MiB\n",
      "23/09/13 09:39:27 WARN DAGScheduler: Broadcasting large task binary with size 5.3 MiB\n",
      "23/09/13 09:39:27 WARN DAGScheduler: Broadcasting large task binary with size 5.3 MiB\n",
      "23/09/13 09:39:28 WARN DAGScheduler: Broadcasting large task binary with size 5.3 MiB\n",
      "23/09/13 09:39:28 WARN DAGScheduler: Broadcasting large task binary with size 5.3 MiB\n",
      "23/09/13 09:39:28 WARN DAGScheduler: Broadcasting large task binary with size 5.3 MiB\n",
      "23/09/13 09:39:28 WARN DAGScheduler: Broadcasting large task binary with size 5.3 MiB\n",
      "23/09/13 09:39:28 WARN DAGScheduler: Broadcasting large task binary with size 5.3 MiB\n",
      "23/09/13 09:39:29 WARN DAGScheduler: Broadcasting large task binary with size 5.4 MiB\n",
      "23/09/13 09:39:29 WARN DAGScheduler: Broadcasting large task binary with size 5.4 MiB\n",
      "23/09/13 09:39:29 WARN DAGScheduler: Broadcasting large task binary with size 5.5 MiB\n",
      "23/09/13 09:39:29 WARN DAGScheduler: Broadcasting large task binary with size 5.6 MiB\n",
      "23/09/13 09:39:30 WARN DAGScheduler: Broadcasting large task binary with size 5.6 MiB\n",
      "23/09/13 09:39:30 WARN DAGScheduler: Broadcasting large task binary with size 5.7 MiB\n",
      "23/09/13 09:39:30 WARN DAGScheduler: Broadcasting large task binary with size 5.9 MiB\n",
      "23/09/13 09:39:31 WARN DAGScheduler: Broadcasting large task binary with size 6.0 MiB\n",
      "23/09/13 09:39:31 WARN DAGScheduler: Broadcasting large task binary with size 6.1 MiB\n",
      "23/09/13 09:39:31 WARN DAGScheduler: Broadcasting large task binary with size 6.2 MiB\n",
      "23/09/13 09:39:32 WARN DAGScheduler: Broadcasting large task binary with size 6.4 MiB\n",
      "23/09/13 09:39:32 WARN DAGScheduler: Broadcasting large task binary with size 6.5 MiB\n",
      "23/09/13 09:39:32 WARN DAGScheduler: Broadcasting large task binary with size 6.1 MiB\n",
      "23/09/13 09:39:33 WARN DAGScheduler: Broadcasting large task binary with size 6.1 MiB\n",
      "23/09/13 09:39:33 WARN DAGScheduler: Broadcasting large task binary with size 6.1 MiB\n",
      "23/09/13 09:39:33 WARN DAGScheduler: Broadcasting large task binary with size 6.1 MiB\n",
      "23/09/13 09:39:33 WARN DAGScheduler: Broadcasting large task binary with size 6.1 MiB\n",
      "23/09/13 09:39:33 WARN DAGScheduler: Broadcasting large task binary with size 6.1 MiB\n",
      "23/09/13 09:39:34 WARN DAGScheduler: Broadcasting large task binary with size 6.1 MiB\n",
      "23/09/13 09:39:34 WARN DAGScheduler: Broadcasting large task binary with size 6.1 MiB\n",
      "23/09/13 09:39:34 WARN DAGScheduler: Broadcasting large task binary with size 6.2 MiB\n",
      "23/09/13 09:39:34 WARN DAGScheduler: Broadcasting large task binary with size 6.2 MiB\n",
      "23/09/13 09:39:35 WARN DAGScheduler: Broadcasting large task binary with size 6.3 MiB\n",
      "23/09/13 09:39:35 WARN DAGScheduler: Broadcasting large task binary with size 6.3 MiB\n",
      "23/09/13 09:39:35 WARN DAGScheduler: Broadcasting large task binary with size 6.4 MiB\n",
      "23/09/13 09:39:36 WARN DAGScheduler: Broadcasting large task binary with size 6.5 MiB\n",
      "23/09/13 09:39:36 WARN DAGScheduler: Broadcasting large task binary with size 6.6 MiB\n",
      "23/09/13 09:39:36 WARN DAGScheduler: Broadcasting large task binary with size 6.8 MiB\n",
      "23/09/13 09:39:37 WARN DAGScheduler: Broadcasting large task binary with size 6.9 MiB\n",
      "23/09/13 09:39:37 WARN DAGScheduler: Broadcasting large task binary with size 7.1 MiB\n",
      "23/09/13 09:39:37 WARN DAGScheduler: Broadcasting large task binary with size 7.2 MiB\n",
      "23/09/13 09:39:38 WARN DAGScheduler: Broadcasting large task binary with size 7.4 MiB\n",
      "23/09/13 09:39:38 WARN DAGScheduler: Broadcasting large task binary with size 6.9 MiB\n",
      "23/09/13 09:39:39 WARN DAGScheduler: Broadcasting large task binary with size 6.9 MiB\n",
      "23/09/13 09:39:39 WARN DAGScheduler: Broadcasting large task binary with size 6.9 MiB\n",
      "23/09/13 09:39:39 WARN DAGScheduler: Broadcasting large task binary with size 6.9 MiB\n",
      "23/09/13 09:39:40 WARN DAGScheduler: Broadcasting large task binary with size 6.9 MiB\n",
      "23/09/13 09:39:40 WARN DAGScheduler: Broadcasting large task binary with size 6.9 MiB\n",
      "23/09/13 09:39:40 WARN DAGScheduler: Broadcasting large task binary with size 7.0 MiB\n",
      "23/09/13 09:39:40 WARN DAGScheduler: Broadcasting large task binary with size 7.0 MiB\n",
      "23/09/13 09:39:41 WARN DAGScheduler: Broadcasting large task binary with size 7.0 MiB\n",
      "23/09/13 09:39:41 WARN DAGScheduler: Broadcasting large task binary with size 7.0 MiB\n",
      "23/09/13 09:39:41 WARN DAGScheduler: Broadcasting large task binary with size 7.1 MiB\n",
      "23/09/13 09:39:42 WARN DAGScheduler: Broadcasting large task binary with size 7.2 MiB\n",
      "23/09/13 09:39:42 WARN DAGScheduler: Broadcasting large task binary with size 7.3 MiB\n",
      "23/09/13 09:39:42 WARN DAGScheduler: Broadcasting large task binary with size 7.4 MiB\n",
      "23/09/13 09:39:43 WARN DAGScheduler: Broadcasting large task binary with size 7.5 MiB\n",
      "23/09/13 09:39:43 WARN DAGScheduler: Broadcasting large task binary with size 7.6 MiB\n",
      "23/09/13 09:39:43 WARN DAGScheduler: Broadcasting large task binary with size 7.7 MiB\n",
      "23/09/13 09:39:44 WARN DAGScheduler: Broadcasting large task binary with size 7.9 MiB\n",
      "23/09/13 09:39:44 WARN DAGScheduler: Broadcasting large task binary with size 8.0 MiB\n",
      "23/09/13 09:39:45 WARN DAGScheduler: Broadcasting large task binary with size 8.2 MiB\n",
      "23/09/13 09:39:45 WARN DAGScheduler: Broadcasting large task binary with size 7.8 MiB\n",
      "23/09/13 09:39:45 WARN DAGScheduler: Broadcasting large task binary with size 7.8 MiB\n",
      "23/09/13 09:39:46 WARN DAGScheduler: Broadcasting large task binary with size 7.8 MiB\n",
      "23/09/13 09:39:46 WARN DAGScheduler: Broadcasting large task binary with size 7.8 MiB\n",
      "23/09/13 09:39:46 WARN DAGScheduler: Broadcasting large task binary with size 7.8 MiB\n",
      "23/09/13 09:39:46 WARN DAGScheduler: Broadcasting large task binary with size 7.8 MiB\n",
      "23/09/13 09:39:47 WARN DAGScheduler: Broadcasting large task binary with size 7.8 MiB\n",
      "23/09/13 09:39:47 WARN DAGScheduler: Broadcasting large task binary with size 7.8 MiB\n",
      "23/09/13 09:39:47 WARN DAGScheduler: Broadcasting large task binary with size 7.8 MiB\n",
      "23/09/13 09:39:48 WARN DAGScheduler: Broadcasting large task binary with size 7.9 MiB\n",
      "23/09/13 09:39:48 WARN DAGScheduler: Broadcasting large task binary with size 7.9 MiB\n",
      "23/09/13 09:39:48 WARN DAGScheduler: Broadcasting large task binary with size 8.0 MiB\n",
      "23/09/13 09:39:48 WARN DAGScheduler: Broadcasting large task binary with size 8.1 MiB\n",
      "23/09/13 09:39:49 WARN DAGScheduler: Broadcasting large task binary with size 8.2 MiB\n",
      "23/09/13 09:39:49 WARN DAGScheduler: Broadcasting large task binary with size 8.3 MiB\n",
      "23/09/13 09:39:50 WARN DAGScheduler: Broadcasting large task binary with size 8.5 MiB\n",
      "23/09/13 09:39:50 WARN DAGScheduler: Broadcasting large task binary with size 8.6 MiB\n",
      "23/09/13 09:39:50 WARN DAGScheduler: Broadcasting large task binary with size 8.8 MiB\n",
      "23/09/13 09:39:51 WARN DAGScheduler: Broadcasting large task binary with size 8.9 MiB\n",
      "23/09/13 09:39:51 WARN DAGScheduler: Broadcasting large task binary with size 9.1 MiB\n",
      "23/09/13 09:39:52 WARN DAGScheduler: Broadcasting large task binary with size 8.7 MiB\n",
      "23/09/13 09:39:52 WARN DAGScheduler: Broadcasting large task binary with size 8.7 MiB\n",
      "23/09/13 09:39:52 WARN DAGScheduler: Broadcasting large task binary with size 8.7 MiB\n",
      "23/09/13 09:39:53 WARN DAGScheduler: Broadcasting large task binary with size 8.7 MiB\n",
      "23/09/13 09:39:53 WARN DAGScheduler: Broadcasting large task binary with size 8.7 MiB\n",
      "23/09/13 09:39:53 WARN DAGScheduler: Broadcasting large task binary with size 8.7 MiB\n",
      "23/09/13 09:39:54 WARN DAGScheduler: Broadcasting large task binary with size 8.7 MiB\n",
      "23/09/13 09:39:54 WARN DAGScheduler: Broadcasting large task binary with size 8.7 MiB\n",
      "23/09/13 09:39:54 WARN DAGScheduler: Broadcasting large task binary with size 8.7 MiB\n",
      "23/09/13 09:39:55 WARN DAGScheduler: Broadcasting large task binary with size 8.8 MiB\n",
      "23/09/13 09:39:55 WARN DAGScheduler: Broadcasting large task binary with size 8.8 MiB\n",
      "23/09/13 09:39:56 WARN DAGScheduler: Broadcasting large task binary with size 8.9 MiB\n",
      "23/09/13 09:39:56 WARN DAGScheduler: Broadcasting large task binary with size 9.0 MiB\n",
      "23/09/13 09:39:56 WARN DAGScheduler: Broadcasting large task binary with size 9.1 MiB\n",
      "23/09/13 09:39:57 WARN DAGScheduler: Broadcasting large task binary with size 9.2 MiB\n",
      "23/09/13 09:39:57 WARN DAGScheduler: Broadcasting large task binary with size 9.3 MiB\n",
      "23/09/13 09:39:58 WARN DAGScheduler: Broadcasting large task binary with size 9.5 MiB\n",
      "23/09/13 09:39:58 WARN DAGScheduler: Broadcasting large task binary with size 9.6 MiB\n",
      "23/09/13 09:39:59 WARN DAGScheduler: Broadcasting large task binary with size 9.8 MiB\n",
      "23/09/13 09:39:59 WARN DAGScheduler: Broadcasting large task binary with size 10.0 MiB\n",
      "23/09/13 09:40:00 WARN DAGScheduler: Broadcasting large task binary with size 9.5 MiB\n",
      "23/09/13 09:40:00 WARN DAGScheduler: Broadcasting large task binary with size 9.5 MiB\n",
      "23/09/13 09:40:00 WARN DAGScheduler: Broadcasting large task binary with size 9.5 MiB\n",
      "23/09/13 09:40:01 WARN DAGScheduler: Broadcasting large task binary with size 9.5 MiB\n",
      "23/09/13 09:40:01 WARN DAGScheduler: Broadcasting large task binary with size 9.6 MiB\n",
      "23/09/13 09:40:01 WARN DAGScheduler: Broadcasting large task binary with size 9.6 MiB\n",
      "23/09/13 09:40:02 WARN DAGScheduler: Broadcasting large task binary with size 9.6 MiB\n",
      "23/09/13 09:40:02 WARN DAGScheduler: Broadcasting large task binary with size 9.6 MiB\n",
      "23/09/13 09:40:02 WARN DAGScheduler: Broadcasting large task binary with size 9.6 MiB\n",
      "23/09/13 09:40:03 WARN DAGScheduler: Broadcasting large task binary with size 9.6 MiB\n",
      "23/09/13 09:40:03 WARN DAGScheduler: Broadcasting large task binary with size 9.7 MiB\n",
      "23/09/13 09:40:04 WARN DAGScheduler: Broadcasting large task binary with size 9.8 MiB\n",
      "23/09/13 09:40:04 WARN DAGScheduler: Broadcasting large task binary with size 9.9 MiB\n",
      "23/09/13 09:40:04 WARN DAGScheduler: Broadcasting large task binary with size 10.0 MiB\n",
      "23/09/13 09:40:05 WARN DAGScheduler: Broadcasting large task binary with size 10.1 MiB\n",
      "23/09/13 09:40:05 WARN DAGScheduler: Broadcasting large task binary with size 10.2 MiB\n",
      "23/09/13 09:40:06 WARN DAGScheduler: Broadcasting large task binary with size 10.4 MiB\n",
      "23/09/13 09:40:06 WARN DAGScheduler: Broadcasting large task binary with size 10.5 MiB\n",
      "23/09/13 09:40:07 WARN DAGScheduler: Broadcasting large task binary with size 10.7 MiB\n",
      "23/09/13 09:40:07 WARN DAGScheduler: Broadcasting large task binary with size 10.8 MiB\n",
      "23/09/13 09:40:08 WARN DAGScheduler: Broadcasting large task binary with size 10.4 MiB\n",
      "23/09/13 09:40:08 WARN DAGScheduler: Broadcasting large task binary with size 10.4 MiB\n",
      "23/09/13 09:40:09 WARN DAGScheduler: Broadcasting large task binary with size 10.4 MiB\n",
      "23/09/13 09:40:09 WARN DAGScheduler: Broadcasting large task binary with size 10.4 MiB\n",
      "23/09/13 09:40:10 WARN DAGScheduler: Broadcasting large task binary with size 10.4 MiB\n",
      "23/09/13 09:40:10 WARN DAGScheduler: Broadcasting large task binary with size 10.4 MiB\n",
      "23/09/13 09:40:10 WARN DAGScheduler: Broadcasting large task binary with size 10.4 MiB\n",
      "23/09/13 09:40:11 WARN DAGScheduler: Broadcasting large task binary with size 10.4 MiB\n",
      "23/09/13 09:40:11 WARN DAGScheduler: Broadcasting large task binary with size 10.5 MiB\n",
      "23/09/13 09:40:11 WARN DAGScheduler: Broadcasting large task binary with size 10.5 MiB\n",
      "23/09/13 09:40:12 WARN DAGScheduler: Broadcasting large task binary with size 10.6 MiB\n",
      "23/09/13 09:40:12 WARN DAGScheduler: Broadcasting large task binary with size 10.6 MiB\n",
      "23/09/13 09:40:13 WARN DAGScheduler: Broadcasting large task binary with size 10.7 MiB\n",
      "23/09/13 09:40:13 WARN DAGScheduler: Broadcasting large task binary with size 10.8 MiB\n",
      "23/09/13 09:40:14 WARN DAGScheduler: Broadcasting large task binary with size 11.0 MiB\n",
      "23/09/13 09:40:14 WARN DAGScheduler: Broadcasting large task binary with size 11.1 MiB\n",
      "23/09/13 09:40:15 WARN DAGScheduler: Broadcasting large task binary with size 11.2 MiB\n",
      "23/09/13 09:40:15 WARN DAGScheduler: Broadcasting large task binary with size 11.4 MiB\n",
      "23/09/13 09:40:16 WARN DAGScheduler: Broadcasting large task binary with size 11.5 MiB\n",
      "23/09/13 09:40:16 WARN DAGScheduler: Broadcasting large task binary with size 11.7 MiB\n",
      "23/09/13 09:40:17 WARN DAGScheduler: Broadcasting large task binary with size 11.3 MiB\n",
      "23/09/13 09:40:17 WARN DAGScheduler: Broadcasting large task binary with size 11.3 MiB\n",
      "23/09/13 09:40:18 WARN DAGScheduler: Broadcasting large task binary with size 11.3 MiB\n",
      "23/09/13 09:40:18 WARN DAGScheduler: Broadcasting large task binary with size 11.3 MiB\n",
      "23/09/13 09:40:19 WARN DAGScheduler: Broadcasting large task binary with size 11.3 MiB\n",
      "23/09/13 09:40:19 WARN DAGScheduler: Broadcasting large task binary with size 11.3 MiB\n",
      "23/09/13 09:40:19 WARN DAGScheduler: Broadcasting large task binary with size 11.3 MiB\n",
      "23/09/13 09:40:20 WARN DAGScheduler: Broadcasting large task binary with size 11.3 MiB\n",
      "23/09/13 09:40:20 WARN DAGScheduler: Broadcasting large task binary with size 11.4 MiB\n",
      "23/09/13 09:40:21 WARN DAGScheduler: Broadcasting large task binary with size 11.4 MiB\n",
      "23/09/13 09:40:21 WARN DAGScheduler: Broadcasting large task binary with size 11.5 MiB\n",
      "23/09/13 09:40:22 WARN DAGScheduler: Broadcasting large task binary with size 11.5 MiB\n",
      "23/09/13 09:40:22 WARN DAGScheduler: Broadcasting large task binary with size 11.6 MiB\n",
      "23/09/13 09:40:23 WARN DAGScheduler: Broadcasting large task binary with size 11.8 MiB\n",
      "23/09/13 09:40:23 WARN DAGScheduler: Broadcasting large task binary with size 11.9 MiB\n",
      "23/09/13 09:40:24 WARN DAGScheduler: Broadcasting large task binary with size 12.0 MiB\n",
      "23/09/13 09:40:24 WARN DAGScheduler: Broadcasting large task binary with size 12.2 MiB\n",
      "23/09/13 09:40:25 WARN DAGScheduler: Broadcasting large task binary with size 12.3 MiB\n",
      "23/09/13 09:40:25 WARN DAGScheduler: Broadcasting large task binary with size 12.5 MiB\n",
      "23/09/13 09:40:26 WARN DAGScheduler: Broadcasting large task binary with size 12.6 MiB\n",
      "23/09/13 09:40:27 WARN DAGScheduler: Broadcasting large task binary with size 12.2 MiB\n",
      "23/09/13 09:40:27 WARN DAGScheduler: Broadcasting large task binary with size 12.2 MiB\n",
      "23/09/13 09:40:27 WARN DAGScheduler: Broadcasting large task binary with size 12.2 MiB\n",
      "23/09/13 09:40:28 WARN DAGScheduler: Broadcasting large task binary with size 12.2 MiB\n",
      "23/09/13 09:40:28 WARN DAGScheduler: Broadcasting large task binary with size 12.2 MiB\n",
      "23/09/13 09:40:29 WARN DAGScheduler: Broadcasting large task binary with size 12.2 MiB\n",
      "23/09/13 09:40:29 WARN DAGScheduler: Broadcasting large task binary with size 12.2 MiB\n",
      "23/09/13 09:40:30 WARN DAGScheduler: Broadcasting large task binary with size 12.2 MiB\n",
      "23/09/13 09:40:30 WARN DAGScheduler: Broadcasting large task binary with size 12.2 MiB\n",
      "23/09/13 09:40:31 WARN DAGScheduler: Broadcasting large task binary with size 12.3 MiB\n",
      "23/09/13 09:40:31 WARN DAGScheduler: Broadcasting large task binary with size 12.3 MiB\n",
      "23/09/13 09:40:32 WARN DAGScheduler: Broadcasting large task binary with size 12.4 MiB\n",
      "23/09/13 09:40:32 WARN DAGScheduler: Broadcasting large task binary with size 12.6 MiB\n",
      "23/09/13 09:40:33 WARN DAGScheduler: Broadcasting large task binary with size 12.7 MiB\n",
      "23/09/13 09:40:33 WARN DAGScheduler: Broadcasting large task binary with size 12.9 MiB\n",
      "23/09/13 09:40:34 WARN DAGScheduler: Broadcasting large task binary with size 13.1 MiB\n",
      "23/09/13 09:40:35 WARN DAGScheduler: Broadcasting large task binary with size 13.3 MiB\n",
      "23/09/13 09:40:35 WARN DAGScheduler: Broadcasting large task binary with size 13.4 MiB\n",
      "23/09/13 09:40:36 WARN DAGScheduler: Broadcasting large task binary with size 13.6 MiB\n",
      "23/09/13 09:40:37 WARN DAGScheduler: Broadcasting large task binary with size 13.8 MiB\n",
      "23/09/13 09:40:37 WARN DAGScheduler: Broadcasting large task binary with size 13.2 MiB\n",
      "23/09/13 09:40:38 WARN DAGScheduler: Broadcasting large task binary with size 13.2 MiB\n",
      "23/09/13 09:40:38 WARN DAGScheduler: Broadcasting large task binary with size 13.2 MiB\n",
      "23/09/13 09:40:38 WARN DAGScheduler: Broadcasting large task binary with size 13.2 MiB\n",
      "23/09/13 09:40:39 WARN DAGScheduler: Broadcasting large task binary with size 13.3 MiB\n",
      "23/09/13 09:40:40 WARN DAGScheduler: Broadcasting large task binary with size 13.3 MiB\n",
      "23/09/13 09:40:40 WARN DAGScheduler: Broadcasting large task binary with size 13.3 MiB\n",
      "23/09/13 09:40:41 WARN DAGScheduler: Broadcasting large task binary with size 13.3 MiB\n",
      "23/09/13 09:40:41 WARN DAGScheduler: Broadcasting large task binary with size 13.3 MiB\n",
      "23/09/13 09:40:42 WARN DAGScheduler: Broadcasting large task binary with size 13.3 MiB\n",
      "23/09/13 09:40:42 WARN DAGScheduler: Broadcasting large task binary with size 13.4 MiB\n",
      "23/09/13 09:40:43 WARN DAGScheduler: Broadcasting large task binary with size 13.5 MiB\n",
      "23/09/13 09:40:43 WARN DAGScheduler: Broadcasting large task binary with size 13.6 MiB\n",
      "23/09/13 09:40:44 WARN DAGScheduler: Broadcasting large task binary with size 13.7 MiB\n",
      "23/09/13 09:40:44 WARN DAGScheduler: Broadcasting large task binary with size 13.8 MiB\n",
      "23/09/13 09:40:45 WARN DAGScheduler: Broadcasting large task binary with size 14.0 MiB\n",
      "23/09/13 09:40:46 WARN DAGScheduler: Broadcasting large task binary with size 14.1 MiB\n",
      "23/09/13 09:40:46 WARN DAGScheduler: Broadcasting large task binary with size 14.3 MiB\n",
      "23/09/13 09:40:47 WARN DAGScheduler: Broadcasting large task binary with size 14.5 MiB\n",
      "23/09/13 09:40:48 WARN DAGScheduler: Broadcasting large task binary with size 14.7 MiB\n",
      "23/09/13 09:40:48 WARN DAGScheduler: Broadcasting large task binary with size 14.2 MiB\n",
      "23/09/13 09:40:49 WARN DAGScheduler: Broadcasting large task binary with size 14.2 MiB\n",
      "23/09/13 09:40:49 WARN DAGScheduler: Broadcasting large task binary with size 14.2 MiB\n",
      "23/09/13 09:40:50 WARN DAGScheduler: Broadcasting large task binary with size 14.2 MiB\n",
      "23/09/13 09:40:50 WARN DAGScheduler: Broadcasting large task binary with size 14.2 MiB\n",
      "23/09/13 09:40:51 WARN DAGScheduler: Broadcasting large task binary with size 14.2 MiB\n",
      "23/09/13 09:40:52 WARN DAGScheduler: Broadcasting large task binary with size 14.2 MiB\n",
      "23/09/13 09:40:52 WARN DAGScheduler: Broadcasting large task binary with size 14.2 MiB\n",
      "23/09/13 09:40:53 WARN DAGScheduler: Broadcasting large task binary with size 14.3 MiB\n",
      "23/09/13 09:40:53 WARN DAGScheduler: Broadcasting large task binary with size 14.3 MiB\n",
      "23/09/13 09:40:54 WARN DAGScheduler: Broadcasting large task binary with size 14.4 MiB\n",
      "23/09/13 09:40:54 WARN DAGScheduler: Broadcasting large task binary with size 14.5 MiB\n",
      "23/09/13 09:40:55 WARN DAGScheduler: Broadcasting large task binary with size 14.5 MiB\n",
      "23/09/13 09:40:55 WARN DAGScheduler: Broadcasting large task binary with size 14.7 MiB\n",
      "23/09/13 09:40:56 WARN DAGScheduler: Broadcasting large task binary with size 14.8 MiB\n",
      "23/09/13 09:40:57 WARN DAGScheduler: Broadcasting large task binary with size 14.9 MiB\n",
      "23/09/13 09:40:57 WARN DAGScheduler: Broadcasting large task binary with size 15.1 MiB\n",
      "23/09/13 09:40:58 WARN DAGScheduler: Broadcasting large task binary with size 15.2 MiB\n",
      "23/09/13 09:40:58 WARN DAGScheduler: Broadcasting large task binary with size 15.4 MiB\n",
      "23/09/13 09:40:59 WARN DAGScheduler: Broadcasting large task binary with size 15.5 MiB\n",
      "23/09/13 09:41:00 WARN DAGScheduler: Broadcasting large task binary with size 15.1 MiB\n",
      "23/09/13 09:41:01 WARN DAGScheduler: Broadcasting large task binary with size 15.1 MiB\n",
      "23/09/13 09:41:01 WARN DAGScheduler: Broadcasting large task binary with size 15.1 MiB\n",
      "23/09/13 09:41:02 WARN DAGScheduler: Broadcasting large task binary with size 15.1 MiB\n",
      "23/09/13 09:41:02 WARN DAGScheduler: Broadcasting large task binary with size 15.1 MiB\n",
      "23/09/13 09:41:03 WARN DAGScheduler: Broadcasting large task binary with size 15.1 MiB\n",
      "23/09/13 09:41:03 WARN DAGScheduler: Broadcasting large task binary with size 15.1 MiB\n",
      "23/09/13 09:41:04 WARN DAGScheduler: Broadcasting large task binary with size 15.1 MiB\n",
      "23/09/13 09:41:04 WARN DAGScheduler: Broadcasting large task binary with size 15.2 MiB\n",
      "23/09/13 09:41:05 WARN DAGScheduler: Broadcasting large task binary with size 15.2 MiB\n",
      "23/09/13 09:41:06 WARN DAGScheduler: Broadcasting large task binary with size 15.3 MiB\n",
      "23/09/13 09:41:06 WARN DAGScheduler: Broadcasting large task binary with size 15.4 MiB\n",
      "23/09/13 09:41:07 WARN DAGScheduler: Broadcasting large task binary with size 15.5 MiB\n",
      "23/09/13 09:41:07 WARN DAGScheduler: Broadcasting large task binary with size 15.6 MiB\n",
      "23/09/13 09:41:08 WARN DAGScheduler: Broadcasting large task binary with size 15.7 MiB\n",
      "23/09/13 09:41:09 WARN DAGScheduler: Broadcasting large task binary with size 15.8 MiB\n",
      "23/09/13 09:41:09 WARN DAGScheduler: Broadcasting large task binary with size 16.0 MiB\n",
      "23/09/13 09:41:10 WARN DAGScheduler: Broadcasting large task binary with size 16.1 MiB\n",
      "23/09/13 09:41:11 WARN DAGScheduler: Broadcasting large task binary with size 16.3 MiB\n",
      "23/09/13 09:41:12 WARN DAGScheduler: Broadcasting large task binary with size 16.5 MiB\n",
      "23/09/13 09:41:13 WARN DAGScheduler: Broadcasting large task binary with size 16.0 MiB\n",
      "23/09/13 09:41:13 WARN DAGScheduler: Broadcasting large task binary with size 16.0 MiB\n",
      "23/09/13 09:41:14 WARN DAGScheduler: Broadcasting large task binary with size 16.0 MiB\n",
      "23/09/13 09:41:14 WARN DAGScheduler: Broadcasting large task binary with size 16.0 MiB\n",
      "23/09/13 09:41:15 WARN DAGScheduler: Broadcasting large task binary with size 16.0 MiB\n",
      "23/09/13 09:41:15 WARN DAGScheduler: Broadcasting large task binary with size 16.0 MiB\n",
      "23/09/13 09:41:16 WARN DAGScheduler: Broadcasting large task binary with size 16.0 MiB\n",
      "23/09/13 09:41:16 WARN DAGScheduler: Broadcasting large task binary with size 16.1 MiB\n",
      "23/09/13 09:41:17 WARN DAGScheduler: Broadcasting large task binary with size 16.1 MiB\n",
      "23/09/13 09:41:18 WARN DAGScheduler: Broadcasting large task binary with size 16.1 MiB\n",
      "23/09/13 09:41:18 WARN DAGScheduler: Broadcasting large task binary with size 16.2 MiB\n",
      "23/09/13 09:41:19 WARN DAGScheduler: Broadcasting large task binary with size 16.3 MiB\n",
      "23/09/13 09:41:19 WARN DAGScheduler: Broadcasting large task binary with size 16.4 MiB\n",
      "23/09/13 09:41:20 WARN DAGScheduler: Broadcasting large task binary with size 16.5 MiB\n",
      "23/09/13 09:41:21 WARN DAGScheduler: Broadcasting large task binary with size 16.6 MiB\n",
      "23/09/13 09:41:22 WARN DAGScheduler: Broadcasting large task binary with size 16.8 MiB\n",
      "23/09/13 09:41:22 WARN DAGScheduler: Broadcasting large task binary with size 16.9 MiB\n",
      "23/09/13 09:41:23 WARN DAGScheduler: Broadcasting large task binary with size 17.1 MiB\n",
      "23/09/13 09:41:24 WARN DAGScheduler: Broadcasting large task binary with size 17.2 MiB\n",
      "23/09/13 09:41:24 WARN DAGScheduler: Broadcasting large task binary with size 17.4 MiB\n",
      "23/09/13 09:41:25 WARN DAGScheduler: Broadcasting large task binary with size 16.9 MiB\n",
      "23/09/13 09:41:26 WARN DAGScheduler: Broadcasting large task binary with size 16.9 MiB\n",
      "23/09/13 09:41:26 WARN DAGScheduler: Broadcasting large task binary with size 16.9 MiB\n",
      "23/09/13 09:41:27 WARN DAGScheduler: Broadcasting large task binary with size 16.9 MiB\n",
      "23/09/13 09:41:27 WARN DAGScheduler: Broadcasting large task binary with size 16.9 MiB\n",
      "23/09/13 09:41:28 WARN DAGScheduler: Broadcasting large task binary with size 16.9 MiB\n",
      "23/09/13 09:41:29 WARN DAGScheduler: Broadcasting large task binary with size 16.9 MiB\n",
      "23/09/13 09:41:29 WARN DAGScheduler: Broadcasting large task binary with size 17.0 MiB\n",
      "23/09/13 09:41:30 WARN DAGScheduler: Broadcasting large task binary with size 17.0 MiB\n",
      "23/09/13 09:41:30 WARN DAGScheduler: Broadcasting large task binary with size 17.0 MiB\n",
      "23/09/13 09:41:31 WARN DAGScheduler: Broadcasting large task binary with size 17.1 MiB\n",
      "23/09/13 09:41:32 WARN DAGScheduler: Broadcasting large task binary with size 17.2 MiB\n",
      "23/09/13 09:41:33 WARN DAGScheduler: Broadcasting large task binary with size 17.3 MiB\n",
      "23/09/13 09:41:33 WARN DAGScheduler: Broadcasting large task binary with size 17.4 MiB\n",
      "23/09/13 09:41:34 WARN DAGScheduler: Broadcasting large task binary with size 17.5 MiB\n",
      "23/09/13 09:41:35 WARN DAGScheduler: Broadcasting large task binary with size 17.7 MiB\n",
      "23/09/13 09:41:35 WARN DAGScheduler: Broadcasting large task binary with size 17.8 MiB\n",
      "23/09/13 09:41:36 WARN DAGScheduler: Broadcasting large task binary with size 17.9 MiB\n",
      "23/09/13 09:41:37 WARN DAGScheduler: Broadcasting large task binary with size 18.1 MiB\n",
      "23/09/13 09:41:38 WARN DAGScheduler: Broadcasting large task binary with size 18.3 MiB\n",
      "23/09/13 09:41:48 WARN DAGScheduler: Broadcasting large task binary with size 1038.0 KiB\n",
      "23/09/13 09:41:48 WARN DAGScheduler: Broadcasting large task binary with size 1037.6 KiB\n",
      "23/09/13 09:41:48 WARN DAGScheduler: Broadcasting large task binary with size 1038.1 KiB\n",
      "23/09/13 09:41:48 WARN DAGScheduler: Broadcasting large task binary with size 1038.6 KiB\n",
      "23/09/13 09:41:48 WARN DAGScheduler: Broadcasting large task binary with size 1039.8 KiB\n",
      "23/09/13 09:41:48 WARN DAGScheduler: Broadcasting large task binary with size 1042.1 KiB\n",
      "23/09/13 09:41:48 WARN DAGScheduler: Broadcasting large task binary with size 1046.6 KiB\n",
      "23/09/13 09:41:48 WARN DAGScheduler: Broadcasting large task binary with size 1055.8 KiB\n",
      "23/09/13 09:41:48 WARN DAGScheduler: Broadcasting large task binary with size 1072.5 KiB\n",
      "23/09/13 09:41:48 WARN DAGScheduler: Broadcasting large task binary with size 1101.8 KiB\n",
      "23/09/13 09:41:48 WARN DAGScheduler: Broadcasting large task binary with size 1146.8 KiB\n",
      "23/09/13 09:41:48 WARN DAGScheduler: Broadcasting large task binary with size 1137.8 KiB\n",
      "23/09/13 09:41:49 WARN DAGScheduler: Broadcasting large task binary with size 1138.3 KiB\n",
      "23/09/13 09:41:49 WARN DAGScheduler: Broadcasting large task binary with size 1138.9 KiB\n",
      "23/09/13 09:41:49 WARN DAGScheduler: Broadcasting large task binary with size 1140.0 KiB\n",
      "23/09/13 09:41:49 WARN DAGScheduler: Broadcasting large task binary with size 1142.3 KiB\n",
      "23/09/13 09:41:49 WARN DAGScheduler: Broadcasting large task binary with size 1146.5 KiB\n",
      "23/09/13 09:41:49 WARN DAGScheduler: Broadcasting large task binary with size 1154.9 KiB\n",
      "23/09/13 09:41:49 WARN DAGScheduler: Broadcasting large task binary with size 1170.2 KiB\n",
      "23/09/13 09:41:49 WARN DAGScheduler: Broadcasting large task binary with size 1198.6 KiB\n",
      "23/09/13 09:41:49 WARN DAGScheduler: Broadcasting large task binary with size 1247.8 KiB\n",
      "23/09/13 09:41:49 WARN DAGScheduler: Broadcasting large task binary with size 1249.4 KiB\n",
      "23/09/13 09:41:49 WARN DAGScheduler: Broadcasting large task binary with size 1249.9 KiB\n",
      "23/09/13 09:41:49 WARN DAGScheduler: Broadcasting large task binary with size 1250.4 KiB\n",
      "23/09/13 09:41:49 WARN DAGScheduler: Broadcasting large task binary with size 1251.6 KiB\n",
      "23/09/13 09:41:50 WARN DAGScheduler: Broadcasting large task binary with size 1253.9 KiB\n",
      "23/09/13 09:41:50 WARN DAGScheduler: Broadcasting large task binary with size 1258.5 KiB\n",
      "23/09/13 09:41:50 WARN DAGScheduler: Broadcasting large task binary with size 1267.7 KiB\n",
      "23/09/13 09:41:50 WARN DAGScheduler: Broadcasting large task binary with size 1285.0 KiB\n",
      "23/09/13 09:41:50 WARN DAGScheduler: Broadcasting large task binary with size 1313.9 KiB\n",
      "23/09/13 09:41:50 WARN DAGScheduler: Broadcasting large task binary with size 1361.5 KiB\n",
      "23/09/13 09:41:50 WARN DAGScheduler: Broadcasting large task binary with size 1354.6 KiB\n",
      "23/09/13 09:41:50 WARN DAGScheduler: Broadcasting large task binary with size 1355.1 KiB\n",
      "23/09/13 09:41:50 WARN DAGScheduler: Broadcasting large task binary with size 1355.7 KiB\n",
      "23/09/13 09:41:50 WARN DAGScheduler: Broadcasting large task binary with size 1356.8 KiB\n",
      "23/09/13 09:41:50 WARN DAGScheduler: Broadcasting large task binary with size 1359.0 KiB\n",
      "23/09/13 09:41:50 WARN DAGScheduler: Broadcasting large task binary with size 1363.0 KiB\n",
      "23/09/13 09:41:51 WARN DAGScheduler: Broadcasting large task binary with size 1370.8 KiB\n",
      "23/09/13 09:41:51 WARN DAGScheduler: Broadcasting large task binary with size 1384.9 KiB\n",
      "23/09/13 09:41:51 WARN DAGScheduler: Broadcasting large task binary with size 1410.0 KiB\n",
      "23/09/13 09:41:51 WARN DAGScheduler: Broadcasting large task binary with size 1451.8 KiB\n",
      "23/09/13 09:41:51 WARN DAGScheduler: Broadcasting large task binary with size 1449.5 KiB\n",
      "23/09/13 09:41:51 WARN DAGScheduler: Broadcasting large task binary with size 1450.0 KiB\n",
      "23/09/13 09:41:51 WARN DAGScheduler: Broadcasting large task binary with size 1450.6 KiB\n",
      "23/09/13 09:41:51 WARN DAGScheduler: Broadcasting large task binary with size 1451.7 KiB\n",
      "23/09/13 09:41:51 WARN DAGScheduler: Broadcasting large task binary with size 1454.0 KiB\n",
      "23/09/13 09:41:51 WARN DAGScheduler: Broadcasting large task binary with size 1458.6 KiB\n",
      "23/09/13 09:41:51 WARN DAGScheduler: Broadcasting large task binary with size 1467.7 KiB\n",
      "23/09/13 09:41:52 WARN DAGScheduler: Broadcasting large task binary with size 1484.4 KiB\n",
      "23/09/13 09:41:52 WARN DAGScheduler: Broadcasting large task binary with size 1512.8 KiB\n",
      "23/09/13 09:41:52 WARN DAGScheduler: Broadcasting large task binary with size 1561.2 KiB\n",
      "23/09/13 09:41:52 WARN DAGScheduler: Broadcasting large task binary with size 1557.8 KiB\n",
      "23/09/13 09:41:52 WARN DAGScheduler: Broadcasting large task binary with size 1558.3 KiB\n",
      "23/09/13 09:41:52 WARN DAGScheduler: Broadcasting large task binary with size 1558.8 KiB\n",
      "23/09/13 09:41:52 WARN DAGScheduler: Broadcasting large task binary with size 1560.0 KiB\n",
      "23/09/13 09:41:52 WARN DAGScheduler: Broadcasting large task binary with size 1562.3 KiB\n",
      "23/09/13 09:41:52 WARN DAGScheduler: Broadcasting large task binary with size 1566.8 KiB\n",
      "23/09/13 09:41:52 WARN DAGScheduler: Broadcasting large task binary with size 1575.2 KiB\n",
      "23/09/13 09:41:52 WARN DAGScheduler: Broadcasting large task binary with size 1591.1 KiB\n",
      "23/09/13 09:41:53 WARN DAGScheduler: Broadcasting large task binary with size 1620.6 KiB\n",
      "23/09/13 09:41:53 WARN DAGScheduler: Broadcasting large task binary with size 1672.1 KiB\n",
      "23/09/13 09:41:53 WARN DAGScheduler: Broadcasting large task binary with size 1671.3 KiB\n",
      "23/09/13 09:41:53 WARN DAGScheduler: Broadcasting large task binary with size 1671.8 KiB\n",
      "23/09/13 09:41:53 WARN DAGScheduler: Broadcasting large task binary with size 1672.4 KiB\n",
      "23/09/13 09:41:53 WARN DAGScheduler: Broadcasting large task binary with size 1673.5 KiB\n",
      "23/09/13 09:41:53 WARN DAGScheduler: Broadcasting large task binary with size 1675.8 KiB\n",
      "23/09/13 09:41:53 WARN DAGScheduler: Broadcasting large task binary with size 1680.4 KiB\n",
      "23/09/13 09:41:53 WARN DAGScheduler: Broadcasting large task binary with size 1689.3 KiB\n",
      "23/09/13 09:41:53 WARN DAGScheduler: Broadcasting large task binary with size 1705.9 KiB\n",
      "23/09/13 09:41:54 WARN DAGScheduler: Broadcasting large task binary with size 1733.6 KiB\n",
      "23/09/13 09:41:54 WARN DAGScheduler: Broadcasting large task binary with size 1776.5 KiB\n",
      "23/09/13 09:41:54 WARN DAGScheduler: Broadcasting large task binary with size 1770.1 KiB\n",
      "23/09/13 09:41:54 WARN DAGScheduler: Broadcasting large task binary with size 1770.6 KiB\n",
      "23/09/13 09:41:54 WARN DAGScheduler: Broadcasting large task binary with size 1771.2 KiB\n",
      "23/09/13 09:41:54 WARN DAGScheduler: Broadcasting large task binary with size 1772.4 KiB\n",
      "23/09/13 09:41:54 WARN DAGScheduler: Broadcasting large task binary with size 1774.7 KiB\n",
      "23/09/13 09:41:54 WARN DAGScheduler: Broadcasting large task binary with size 1779.2 KiB\n",
      "23/09/13 09:41:54 WARN DAGScheduler: Broadcasting large task binary with size 1788.4 KiB\n",
      "23/09/13 09:41:54 WARN DAGScheduler: Broadcasting large task binary with size 1805.0 KiB\n",
      "23/09/13 09:41:55 WARN DAGScheduler: Broadcasting large task binary with size 1832.5 KiB\n",
      "23/09/13 09:41:55 WARN DAGScheduler: Broadcasting large task binary with size 1877.6 KiB\n",
      "23/09/13 09:41:55 WARN DAGScheduler: Broadcasting large task binary with size 1873.4 KiB\n",
      "23/09/13 09:41:55 WARN DAGScheduler: Broadcasting large task binary with size 1873.9 KiB\n",
      "23/09/13 09:41:55 WARN DAGScheduler: Broadcasting large task binary with size 1874.4 KiB\n",
      "23/09/13 09:41:55 WARN DAGScheduler: Broadcasting large task binary with size 1875.6 KiB\n",
      "23/09/13 09:41:55 WARN DAGScheduler: Broadcasting large task binary with size 1877.9 KiB\n",
      "23/09/13 09:41:55 WARN DAGScheduler: Broadcasting large task binary with size 1882.5 KiB\n",
      "23/09/13 09:41:55 WARN DAGScheduler: Broadcasting large task binary with size 1891.6 KiB\n",
      "23/09/13 09:41:55 WARN DAGScheduler: Broadcasting large task binary with size 1908.1 KiB\n",
      "23/09/13 09:41:56 WARN DAGScheduler: Broadcasting large task binary with size 1933.8 KiB\n",
      "23/09/13 09:41:56 WARN DAGScheduler: Broadcasting large task binary with size 1973.1 KiB\n",
      "23/09/13 09:41:56 WARN DAGScheduler: Broadcasting large task binary with size 1966.7 KiB\n",
      "23/09/13 09:41:56 WARN DAGScheduler: Broadcasting large task binary with size 1967.2 KiB\n",
      "23/09/13 09:41:56 WARN DAGScheduler: Broadcasting large task binary with size 1967.8 KiB\n",
      "23/09/13 09:41:56 WARN DAGScheduler: Broadcasting large task binary with size 1968.9 KiB\n",
      "23/09/13 09:41:56 WARN DAGScheduler: Broadcasting large task binary with size 1971.2 KiB\n",
      "23/09/13 09:41:57 WARN DAGScheduler: Broadcasting large task binary with size 1975.7 KiB\n",
      "23/09/13 09:41:57 WARN DAGScheduler: Broadcasting large task binary with size 1984.8 KiB\n",
      "23/09/13 09:41:57 WARN DAGScheduler: Broadcasting large task binary with size 2000.5 KiB\n",
      "23/09/13 09:41:57 WARN DAGScheduler: Broadcasting large task binary with size 2029.3 KiB\n",
      "23/09/13 09:41:57 WARN DAGScheduler: Broadcasting large task binary with size 2.0 MiB\n",
      "23/09/13 09:41:57 WARN DAGScheduler: Broadcasting large task binary with size 2.0 MiB\n",
      "23/09/13 09:41:57 WARN DAGScheduler: Broadcasting large task binary with size 2.0 MiB\n",
      "23/09/13 09:41:57 WARN DAGScheduler: Broadcasting large task binary with size 2.0 MiB\n",
      "23/09/13 09:41:57 WARN DAGScheduler: Broadcasting large task binary with size 2.0 MiB\n",
      "23/09/13 09:41:57 WARN DAGScheduler: Broadcasting large task binary with size 2.0 MiB\n",
      "23/09/13 09:41:58 WARN DAGScheduler: Broadcasting large task binary with size 2.0 MiB\n",
      "23/09/13 09:41:58 WARN DAGScheduler: Broadcasting large task binary with size 2.0 MiB\n",
      "23/09/13 09:41:58 WARN DAGScheduler: Broadcasting large task binary with size 2.1 MiB\n",
      "23/09/13 09:41:58 WARN DAGScheduler: Broadcasting large task binary with size 2.1 MiB\n",
      "23/09/13 09:41:58 WARN DAGScheduler: Broadcasting large task binary with size 2.1 MiB\n",
      "23/09/13 09:41:58 WARN DAGScheduler: Broadcasting large task binary with size 2.1 MiB\n",
      "23/09/13 09:41:58 WARN DAGScheduler: Broadcasting large task binary with size 2.1 MiB\n",
      "23/09/13 09:41:58 WARN DAGScheduler: Broadcasting large task binary with size 2.1 MiB\n",
      "23/09/13 09:41:58 WARN DAGScheduler: Broadcasting large task binary with size 2.1 MiB\n",
      "23/09/13 09:41:59 WARN DAGScheduler: Broadcasting large task binary with size 2.1 MiB\n",
      "23/09/13 09:41:59 WARN DAGScheduler: Broadcasting large task binary with size 2.1 MiB\n",
      "23/09/13 09:41:59 WARN DAGScheduler: Broadcasting large task binary with size 2.1 MiB\n",
      "23/09/13 09:41:59 WARN DAGScheduler: Broadcasting large task binary with size 2.1 MiB\n",
      "23/09/13 09:41:59 WARN DAGScheduler: Broadcasting large task binary with size 2.2 MiB\n",
      "23/09/13 09:41:59 WARN DAGScheduler: Broadcasting large task binary with size 2.2 MiB\n",
      "23/09/13 09:41:59 WARN DAGScheduler: Broadcasting large task binary with size 2.2 MiB\n",
      "23/09/13 09:41:59 WARN DAGScheduler: Broadcasting large task binary with size 2.2 MiB\n",
      "23/09/13 09:41:59 WARN DAGScheduler: Broadcasting large task binary with size 2.2 MiB\n",
      "23/09/13 09:42:00 WARN DAGScheduler: Broadcasting large task binary with size 2.2 MiB\n",
      "23/09/13 09:42:00 WARN DAGScheduler: Broadcasting large task binary with size 2.2 MiB\n",
      "23/09/13 09:42:00 WARN DAGScheduler: Broadcasting large task binary with size 2.2 MiB\n",
      "23/09/13 09:42:00 WARN DAGScheduler: Broadcasting large task binary with size 2.2 MiB\n",
      "23/09/13 09:42:00 WARN DAGScheduler: Broadcasting large task binary with size 2.2 MiB\n",
      "23/09/13 09:42:00 WARN DAGScheduler: Broadcasting large task binary with size 2.3 MiB\n",
      "23/09/13 09:42:00 WARN DAGScheduler: Broadcasting large task binary with size 2.3 MiB\n",
      "23/09/13 09:42:00 WARN DAGScheduler: Broadcasting large task binary with size 2.3 MiB\n",
      "23/09/13 09:42:01 WARN DAGScheduler: Broadcasting large task binary with size 2.3 MiB\n",
      "23/09/13 09:42:01 WARN DAGScheduler: Broadcasting large task binary with size 2.3 MiB\n",
      "23/09/13 09:42:01 WARN DAGScheduler: Broadcasting large task binary with size 2.3 MiB\n",
      "23/09/13 09:42:01 WARN DAGScheduler: Broadcasting large task binary with size 2.3 MiB\n",
      "23/09/13 09:42:01 WARN DAGScheduler: Broadcasting large task binary with size 2.3 MiB\n",
      "23/09/13 09:42:01 WARN DAGScheduler: Broadcasting large task binary with size 2.3 MiB\n",
      "23/09/13 09:42:01 WARN DAGScheduler: Broadcasting large task binary with size 2.3 MiB\n",
      "23/09/13 09:42:01 WARN DAGScheduler: Broadcasting large task binary with size 2.4 MiB\n",
      "23/09/13 09:42:01 WARN DAGScheduler: Broadcasting large task binary with size 2.4 MiB\n",
      "23/09/13 09:42:02 WARN DAGScheduler: Broadcasting large task binary with size 2.4 MiB\n",
      "23/09/13 09:42:02 WARN DAGScheduler: Broadcasting large task binary with size 2.4 MiB\n",
      "23/09/13 09:42:02 WARN DAGScheduler: Broadcasting large task binary with size 2.4 MiB\n",
      "23/09/13 09:42:02 WARN DAGScheduler: Broadcasting large task binary with size 2.4 MiB\n",
      "23/09/13 09:42:02 WARN DAGScheduler: Broadcasting large task binary with size 2.4 MiB\n",
      "23/09/13 09:42:02 WARN DAGScheduler: Broadcasting large task binary with size 2.4 MiB\n",
      "23/09/13 09:42:02 WARN DAGScheduler: Broadcasting large task binary with size 2.4 MiB\n",
      "23/09/13 09:42:02 WARN DAGScheduler: Broadcasting large task binary with size 2.4 MiB\n",
      "23/09/13 09:42:02 WARN DAGScheduler: Broadcasting large task binary with size 2.4 MiB\n",
      "23/09/13 09:42:03 WARN DAGScheduler: Broadcasting large task binary with size 2.5 MiB\n",
      "23/09/13 09:42:03 WARN DAGScheduler: Broadcasting large task binary with size 2.5 MiB\n",
      "23/09/13 09:42:03 WARN DAGScheduler: Broadcasting large task binary with size 2.5 MiB\n",
      "23/09/13 09:42:03 WARN DAGScheduler: Broadcasting large task binary with size 2.5 MiB\n",
      "23/09/13 09:42:04 WARN DAGScheduler: Broadcasting large task binary with size 2.5 MiB\n",
      "23/09/13 09:42:04 WARN DAGScheduler: Broadcasting large task binary with size 2.5 MiB\n",
      "23/09/13 09:42:04 WARN DAGScheduler: Broadcasting large task binary with size 2.5 MiB\n",
      "23/09/13 09:42:04 WARN DAGScheduler: Broadcasting large task binary with size 2.5 MiB\n",
      "23/09/13 09:42:04 WARN DAGScheduler: Broadcasting large task binary with size 2.5 MiB\n",
      "23/09/13 09:42:04 WARN DAGScheduler: Broadcasting large task binary with size 2.5 MiB\n",
      "23/09/13 09:42:04 WARN DAGScheduler: Broadcasting large task binary with size 2.6 MiB\n",
      "23/09/13 09:42:04 WARN DAGScheduler: Broadcasting large task binary with size 2.6 MiB\n",
      "23/09/13 09:42:05 WARN DAGScheduler: Broadcasting large task binary with size 2.6 MiB\n",
      "23/09/13 09:42:05 WARN DAGScheduler: Broadcasting large task binary with size 2.6 MiB\n",
      "23/09/13 09:42:05 WARN DAGScheduler: Broadcasting large task binary with size 2.6 MiB\n",
      "23/09/13 09:42:05 WARN DAGScheduler: Broadcasting large task binary with size 2.6 MiB\n",
      "23/09/13 09:42:05 WARN DAGScheduler: Broadcasting large task binary with size 2.6 MiB\n",
      "23/09/13 09:42:05 WARN DAGScheduler: Broadcasting large task binary with size 2.6 MiB\n",
      "23/09/13 09:42:05 WARN DAGScheduler: Broadcasting large task binary with size 2.6 MiB\n",
      "23/09/13 09:42:05 WARN DAGScheduler: Broadcasting large task binary with size 2.6 MiB\n",
      "23/09/13 09:42:06 WARN DAGScheduler: Broadcasting large task binary with size 2.7 MiB\n",
      "23/09/13 09:42:06 WARN DAGScheduler: Broadcasting large task binary with size 2.7 MiB\n",
      "23/09/13 09:42:06 WARN DAGScheduler: Broadcasting large task binary with size 2.7 MiB\n",
      "23/09/13 09:42:06 WARN DAGScheduler: Broadcasting large task binary with size 2.7 MiB\n",
      "23/09/13 09:42:06 WARN DAGScheduler: Broadcasting large task binary with size 2.7 MiB\n",
      "23/09/13 09:42:06 WARN DAGScheduler: Broadcasting large task binary with size 2.7 MiB\n",
      "23/09/13 09:42:06 WARN DAGScheduler: Broadcasting large task binary with size 2.7 MiB\n",
      "23/09/13 09:42:06 WARN DAGScheduler: Broadcasting large task binary with size 2.7 MiB\n",
      "23/09/13 09:42:07 WARN DAGScheduler: Broadcasting large task binary with size 2.7 MiB\n",
      "23/09/13 09:42:07 WARN DAGScheduler: Broadcasting large task binary with size 2.7 MiB\n",
      "23/09/13 09:42:07 WARN DAGScheduler: Broadcasting large task binary with size 2.8 MiB\n",
      "23/09/13 09:42:07 WARN DAGScheduler: Broadcasting large task binary with size 2.8 MiB\n",
      "23/09/13 09:42:07 WARN DAGScheduler: Broadcasting large task binary with size 2.8 MiB\n",
      "23/09/13 09:42:07 WARN DAGScheduler: Broadcasting large task binary with size 2.8 MiB\n",
      "23/09/13 09:42:07 WARN DAGScheduler: Broadcasting large task binary with size 2.8 MiB\n",
      "23/09/13 09:42:07 WARN DAGScheduler: Broadcasting large task binary with size 2.8 MiB\n",
      "23/09/13 09:42:08 WARN DAGScheduler: Broadcasting large task binary with size 2.8 MiB\n",
      "23/09/13 09:42:08 WARN DAGScheduler: Broadcasting large task binary with size 2.8 MiB\n",
      "23/09/13 09:42:08 WARN DAGScheduler: Broadcasting large task binary with size 2.8 MiB\n",
      "23/09/13 09:42:08 WARN DAGScheduler: Broadcasting large task binary with size 2.8 MiB\n",
      "23/09/13 09:42:08 WARN DAGScheduler: Broadcasting large task binary with size 2.9 MiB\n",
      "23/09/13 09:42:08 WARN DAGScheduler: Broadcasting large task binary with size 2.9 MiB\n",
      "23/09/13 09:42:09 WARN DAGScheduler: Broadcasting large task binary with size 2.9 MiB\n",
      "23/09/13 09:42:09 WARN DAGScheduler: Broadcasting large task binary with size 2.9 MiB\n",
      "23/09/13 09:42:09 WARN DAGScheduler: Broadcasting large task binary with size 2.9 MiB\n",
      "23/09/13 09:42:09 WARN DAGScheduler: Broadcasting large task binary with size 2.9 MiB\n",
      "23/09/13 09:42:09 WARN DAGScheduler: Broadcasting large task binary with size 2.9 MiB\n",
      "23/09/13 09:42:09 WARN DAGScheduler: Broadcasting large task binary with size 2.9 MiB\n",
      "23/09/13 09:42:09 WARN DAGScheduler: Broadcasting large task binary with size 2.9 MiB\n",
      "23/09/13 09:42:09 WARN DAGScheduler: Broadcasting large task binary with size 2.9 MiB\n",
      "23/09/13 09:42:10 WARN DAGScheduler: Broadcasting large task binary with size 3.0 MiB\n",
      "23/09/13 09:42:10 WARN DAGScheduler: Broadcasting large task binary with size 3.0 MiB\n",
      "23/09/13 09:42:10 WARN DAGScheduler: Broadcasting large task binary with size 3.0 MiB\n",
      "23/09/13 09:42:10 WARN DAGScheduler: Broadcasting large task binary with size 3.0 MiB\n",
      "23/09/13 09:42:10 WARN DAGScheduler: Broadcasting large task binary with size 3.0 MiB\n",
      "23/09/13 09:42:10 WARN DAGScheduler: Broadcasting large task binary with size 3.0 MiB\n",
      "23/09/13 09:42:10 WARN DAGScheduler: Broadcasting large task binary with size 3.0 MiB\n",
      "23/09/13 09:42:11 WARN DAGScheduler: Broadcasting large task binary with size 3.0 MiB\n",
      "23/09/13 09:42:11 WARN DAGScheduler: Broadcasting large task binary with size 3.0 MiB\n",
      "23/09/13 09:42:11 WARN DAGScheduler: Broadcasting large task binary with size 3.0 MiB\n",
      "23/09/13 09:42:11 WARN DAGScheduler: Broadcasting large task binary with size 3.1 MiB\n",
      "23/09/13 09:42:11 WARN DAGScheduler: Broadcasting large task binary with size 3.1 MiB\n",
      "23/09/13 09:42:11 WARN DAGScheduler: Broadcasting large task binary with size 3.1 MiB\n",
      "23/09/13 09:42:11 WARN DAGScheduler: Broadcasting large task binary with size 3.1 MiB\n",
      "23/09/13 09:42:12 WARN DAGScheduler: Broadcasting large task binary with size 3.1 MiB\n",
      "23/09/13 09:42:12 WARN DAGScheduler: Broadcasting large task binary with size 3.1 MiB\n",
      "23/09/13 09:42:12 WARN DAGScheduler: Broadcasting large task binary with size 3.1 MiB\n",
      "23/09/13 09:42:12 WARN DAGScheduler: Broadcasting large task binary with size 3.1 MiB\n",
      "23/09/13 09:42:12 WARN DAGScheduler: Broadcasting large task binary with size 3.1 MiB\n",
      "23/09/13 09:42:12 WARN DAGScheduler: Broadcasting large task binary with size 3.1 MiB\n",
      "23/09/13 09:42:12 WARN DAGScheduler: Broadcasting large task binary with size 3.1 MiB\n",
      "23/09/13 09:42:15 WARN DAGScheduler: Broadcasting large task binary with size 1138.3 KiB\n",
      "23/09/13 09:42:15 WARN DAGScheduler: Broadcasting large task binary with size 1423.1 KiB\n",
      "23/09/13 09:42:15 WARN DAGScheduler: Broadcasting large task binary with size 1723.6 KiB\n",
      "23/09/13 09:42:16 WARN DAGScheduler: Broadcasting large task binary with size 2024.4 KiB\n",
      "23/09/13 09:42:16 WARN DAGScheduler: Broadcasting large task binary with size 2.3 MiB\n",
      "23/09/13 09:42:17 WARN DAGScheduler: Broadcasting large task binary with size 2.5 MiB\n",
      "23/09/13 09:42:17 WARN DAGScheduler: Broadcasting large task binary with size 1732.6 KiB\n",
      "23/09/13 09:42:17 WARN DAGScheduler: Broadcasting large task binary with size 1733.0 KiB\n",
      "23/09/13 09:42:17 WARN DAGScheduler: Broadcasting large task binary with size 1733.6 KiB\n",
      "23/09/13 09:42:17 WARN DAGScheduler: Broadcasting large task binary with size 1734.8 KiB\n",
      "23/09/13 09:42:17 WARN DAGScheduler: Broadcasting large task binary with size 1737.1 KiB\n",
      "23/09/13 09:42:17 WARN DAGScheduler: Broadcasting large task binary with size 1741.6 KiB\n",
      "23/09/13 09:42:17 WARN DAGScheduler: Broadcasting large task binary with size 1750.2 KiB\n",
      "23/09/13 09:42:17 WARN DAGScheduler: Broadcasting large task binary with size 1766.7 KiB\n",
      "23/09/13 09:42:18 WARN DAGScheduler: Broadcasting large task binary with size 1794.8 KiB\n",
      "23/09/13 09:42:18 WARN DAGScheduler: Broadcasting large task binary with size 1838.6 KiB\n",
      "23/09/13 09:42:18 WARN DAGScheduler: Broadcasting large task binary with size 1905.6 KiB\n",
      "23/09/13 09:42:18 WARN DAGScheduler: Broadcasting large task binary with size 1994.9 KiB\n",
      "23/09/13 09:42:18 WARN DAGScheduler: Broadcasting large task binary with size 2.0 MiB\n",
      "23/09/13 09:42:18 WARN DAGScheduler: Broadcasting large task binary with size 2.1 MiB\n",
      "23/09/13 09:42:19 WARN DAGScheduler: Broadcasting large task binary with size 2.3 MiB\n",
      "23/09/13 09:42:19 WARN DAGScheduler: Broadcasting large task binary with size 2.4 MiB\n",
      "23/09/13 09:42:19 WARN DAGScheduler: Broadcasting large task binary with size 2.5 MiB\n",
      "23/09/13 09:42:19 WARN DAGScheduler: Broadcasting large task binary with size 2.6 MiB\n",
      "23/09/13 09:42:19 WARN DAGScheduler: Broadcasting large task binary with size 2.7 MiB\n",
      "23/09/13 09:42:20 WARN DAGScheduler: Broadcasting large task binary with size 2.7 MiB\n",
      "23/09/13 09:42:20 WARN DAGScheduler: Broadcasting large task binary with size 2.4 MiB\n",
      "23/09/13 09:42:20 WARN DAGScheduler: Broadcasting large task binary with size 2.4 MiB\n",
      "23/09/13 09:42:20 WARN DAGScheduler: Broadcasting large task binary with size 2.4 MiB\n",
      "23/09/13 09:42:20 WARN DAGScheduler: Broadcasting large task binary with size 2.4 MiB\n",
      "23/09/13 09:42:20 WARN DAGScheduler: Broadcasting large task binary with size 2.4 MiB\n",
      "23/09/13 09:42:20 WARN DAGScheduler: Broadcasting large task binary with size 2.4 MiB\n",
      "23/09/13 09:42:20 WARN DAGScheduler: Broadcasting large task binary with size 2.4 MiB\n",
      "23/09/13 09:42:20 WARN DAGScheduler: Broadcasting large task binary with size 2.4 MiB\n",
      "23/09/13 09:42:21 WARN DAGScheduler: Broadcasting large task binary with size 2.4 MiB\n",
      "23/09/13 09:42:21 WARN DAGScheduler: Broadcasting large task binary with size 2.5 MiB\n",
      "23/09/13 09:42:21 WARN DAGScheduler: Broadcasting large task binary with size 2.5 MiB\n",
      "23/09/13 09:42:21 WARN DAGScheduler: Broadcasting large task binary with size 2.6 MiB\n",
      "23/09/13 09:42:21 WARN DAGScheduler: Broadcasting large task binary with size 2.7 MiB\n",
      "23/09/13 09:42:21 WARN DAGScheduler: Broadcasting large task binary with size 2.8 MiB\n",
      "23/09/13 09:42:22 WARN DAGScheduler: Broadcasting large task binary with size 2.9 MiB\n",
      "23/09/13 09:42:22 WARN DAGScheduler: Broadcasting large task binary with size 3.1 MiB\n",
      "23/09/13 09:42:22 WARN DAGScheduler: Broadcasting large task binary with size 3.2 MiB\n",
      "23/09/13 09:42:22 WARN DAGScheduler: Broadcasting large task binary with size 3.3 MiB\n",
      "23/09/13 09:42:23 WARN DAGScheduler: Broadcasting large task binary with size 3.4 MiB\n",
      "23/09/13 09:42:23 WARN DAGScheduler: Broadcasting large task binary with size 3.4 MiB\n",
      "23/09/13 09:42:23 WARN DAGScheduler: Broadcasting large task binary with size 3.1 MiB\n",
      "23/09/13 09:42:23 WARN DAGScheduler: Broadcasting large task binary with size 3.1 MiB\n",
      "23/09/13 09:42:23 WARN DAGScheduler: Broadcasting large task binary with size 3.1 MiB\n",
      "23/09/13 09:42:23 WARN DAGScheduler: Broadcasting large task binary with size 3.1 MiB\n",
      "23/09/13 09:42:23 WARN DAGScheduler: Broadcasting large task binary with size 3.1 MiB\n",
      "23/09/13 09:42:24 WARN DAGScheduler: Broadcasting large task binary with size 3.1 MiB\n",
      "23/09/13 09:42:24 WARN DAGScheduler: Broadcasting large task binary with size 3.1 MiB\n",
      "23/09/13 09:42:24 WARN DAGScheduler: Broadcasting large task binary with size 3.1 MiB\n",
      "23/09/13 09:42:24 WARN DAGScheduler: Broadcasting large task binary with size 3.1 MiB\n",
      "23/09/13 09:42:24 WARN DAGScheduler: Broadcasting large task binary with size 3.2 MiB\n",
      "23/09/13 09:42:24 WARN DAGScheduler: Broadcasting large task binary with size 3.2 MiB\n",
      "23/09/13 09:42:25 WARN DAGScheduler: Broadcasting large task binary with size 3.3 MiB\n",
      "23/09/13 09:42:25 WARN DAGScheduler: Broadcasting large task binary with size 3.4 MiB\n",
      "23/09/13 09:42:25 WARN DAGScheduler: Broadcasting large task binary with size 3.5 MiB\n",
      "23/09/13 09:42:25 WARN DAGScheduler: Broadcasting large task binary with size 3.6 MiB\n",
      "23/09/13 09:42:25 WARN DAGScheduler: Broadcasting large task binary with size 3.7 MiB\n",
      "23/09/13 09:42:26 WARN DAGScheduler: Broadcasting large task binary with size 3.9 MiB\n",
      "23/09/13 09:42:26 WARN DAGScheduler: Broadcasting large task binary with size 4.0 MiB\n",
      "23/09/13 09:42:26 WARN DAGScheduler: Broadcasting large task binary with size 4.1 MiB\n",
      "23/09/13 09:42:27 WARN DAGScheduler: Broadcasting large task binary with size 4.1 MiB\n",
      "23/09/13 09:42:27 WARN DAGScheduler: Broadcasting large task binary with size 3.8 MiB\n",
      "23/09/13 09:42:27 WARN DAGScheduler: Broadcasting large task binary with size 3.8 MiB\n",
      "23/09/13 09:42:27 WARN DAGScheduler: Broadcasting large task binary with size 3.8 MiB\n",
      "23/09/13 09:42:27 WARN DAGScheduler: Broadcasting large task binary with size 3.8 MiB\n",
      "23/09/13 09:42:27 WARN DAGScheduler: Broadcasting large task binary with size 3.8 MiB\n",
      "23/09/13 09:42:27 WARN DAGScheduler: Broadcasting large task binary with size 3.8 MiB\n",
      "23/09/13 09:42:28 WARN DAGScheduler: Broadcasting large task binary with size 3.8 MiB\n",
      "23/09/13 09:42:28 WARN DAGScheduler: Broadcasting large task binary with size 3.8 MiB\n",
      "23/09/13 09:42:28 WARN DAGScheduler: Broadcasting large task binary with size 3.8 MiB\n",
      "23/09/13 09:42:28 WARN DAGScheduler: Broadcasting large task binary with size 3.9 MiB\n",
      "23/09/13 09:42:28 WARN DAGScheduler: Broadcasting large task binary with size 3.9 MiB\n",
      "23/09/13 09:42:29 WARN DAGScheduler: Broadcasting large task binary with size 4.0 MiB\n",
      "23/09/13 09:42:29 WARN DAGScheduler: Broadcasting large task binary with size 4.1 MiB\n",
      "23/09/13 09:42:29 WARN DAGScheduler: Broadcasting large task binary with size 4.2 MiB\n",
      "23/09/13 09:42:29 WARN DAGScheduler: Broadcasting large task binary with size 4.3 MiB\n",
      "23/09/13 09:42:30 WARN DAGScheduler: Broadcasting large task binary with size 4.4 MiB\n",
      "23/09/13 09:42:30 WARN DAGScheduler: Broadcasting large task binary with size 4.5 MiB\n",
      "23/09/13 09:42:30 WARN DAGScheduler: Broadcasting large task binary with size 4.7 MiB\n",
      "23/09/13 09:42:30 WARN DAGScheduler: Broadcasting large task binary with size 4.8 MiB\n",
      "23/09/13 09:42:31 WARN DAGScheduler: Broadcasting large task binary with size 4.9 MiB\n",
      "23/09/13 09:42:31 WARN DAGScheduler: Broadcasting large task binary with size 4.5 MiB\n",
      "23/09/13 09:42:31 WARN DAGScheduler: Broadcasting large task binary with size 4.5 MiB\n",
      "23/09/13 09:42:31 WARN DAGScheduler: Broadcasting large task binary with size 4.5 MiB\n",
      "23/09/13 09:42:32 WARN DAGScheduler: Broadcasting large task binary with size 4.5 MiB\n",
      "23/09/13 09:42:32 WARN DAGScheduler: Broadcasting large task binary with size 4.5 MiB\n",
      "23/09/13 09:42:32 WARN DAGScheduler: Broadcasting large task binary with size 4.5 MiB\n",
      "23/09/13 09:42:32 WARN DAGScheduler: Broadcasting large task binary with size 4.5 MiB\n",
      "23/09/13 09:42:32 WARN DAGScheduler: Broadcasting large task binary with size 4.6 MiB\n",
      "23/09/13 09:42:33 WARN DAGScheduler: Broadcasting large task binary with size 4.6 MiB\n",
      "23/09/13 09:42:33 WARN DAGScheduler: Broadcasting large task binary with size 4.6 MiB\n",
      "23/09/13 09:42:33 WARN DAGScheduler: Broadcasting large task binary with size 4.7 MiB\n",
      "23/09/13 09:42:34 WARN DAGScheduler: Broadcasting large task binary with size 4.8 MiB\n",
      "23/09/13 09:42:34 WARN DAGScheduler: Broadcasting large task binary with size 4.9 MiB\n",
      "23/09/13 09:42:34 WARN DAGScheduler: Broadcasting large task binary with size 5.0 MiB\n",
      "23/09/13 09:42:34 WARN DAGScheduler: Broadcasting large task binary with size 5.1 MiB\n",
      "23/09/13 09:42:35 WARN DAGScheduler: Broadcasting large task binary with size 5.2 MiB\n",
      "23/09/13 09:42:35 WARN DAGScheduler: Broadcasting large task binary with size 5.3 MiB\n",
      "23/09/13 09:42:35 WARN DAGScheduler: Broadcasting large task binary with size 5.5 MiB\n",
      "23/09/13 09:42:36 WARN DAGScheduler: Broadcasting large task binary with size 5.6 MiB\n",
      "23/09/13 09:42:36 WARN DAGScheduler: Broadcasting large task binary with size 5.7 MiB\n",
      "23/09/13 09:42:36 WARN DAGScheduler: Broadcasting large task binary with size 5.3 MiB\n",
      "23/09/13 09:42:37 WARN DAGScheduler: Broadcasting large task binary with size 5.3 MiB\n",
      "23/09/13 09:42:37 WARN DAGScheduler: Broadcasting large task binary with size 5.3 MiB\n",
      "23/09/13 09:42:37 WARN DAGScheduler: Broadcasting large task binary with size 5.3 MiB\n",
      "23/09/13 09:42:37 WARN DAGScheduler: Broadcasting large task binary with size 5.3 MiB\n",
      "23/09/13 09:42:37 WARN DAGScheduler: Broadcasting large task binary with size 5.3 MiB\n",
      "23/09/13 09:42:38 WARN DAGScheduler: Broadcasting large task binary with size 5.3 MiB\n",
      "23/09/13 09:42:38 WARN DAGScheduler: Broadcasting large task binary with size 5.3 MiB\n",
      "23/09/13 09:42:38 WARN DAGScheduler: Broadcasting large task binary with size 5.4 MiB\n",
      "23/09/13 09:42:38 WARN DAGScheduler: Broadcasting large task binary with size 5.4 MiB\n",
      "23/09/13 09:42:38 WARN DAGScheduler: Broadcasting large task binary with size 5.5 MiB\n",
      "23/09/13 09:42:39 WARN DAGScheduler: Broadcasting large task binary with size 5.6 MiB\n",
      "23/09/13 09:42:39 WARN DAGScheduler: Broadcasting large task binary with size 5.6 MiB\n",
      "23/09/13 09:42:39 WARN DAGScheduler: Broadcasting large task binary with size 5.7 MiB\n",
      "23/09/13 09:42:39 WARN DAGScheduler: Broadcasting large task binary with size 5.9 MiB\n",
      "23/09/13 09:42:40 WARN DAGScheduler: Broadcasting large task binary with size 6.0 MiB\n",
      "23/09/13 09:42:40 WARN DAGScheduler: Broadcasting large task binary with size 6.1 MiB\n",
      "23/09/13 09:42:40 WARN DAGScheduler: Broadcasting large task binary with size 6.2 MiB\n",
      "23/09/13 09:42:41 WARN DAGScheduler: Broadcasting large task binary with size 6.4 MiB\n",
      "23/09/13 09:42:41 WARN DAGScheduler: Broadcasting large task binary with size 6.5 MiB\n",
      "23/09/13 09:42:42 WARN DAGScheduler: Broadcasting large task binary with size 6.1 MiB\n",
      "23/09/13 09:42:42 WARN DAGScheduler: Broadcasting large task binary with size 6.1 MiB\n",
      "23/09/13 09:42:42 WARN DAGScheduler: Broadcasting large task binary with size 6.1 MiB\n",
      "23/09/13 09:42:42 WARN DAGScheduler: Broadcasting large task binary with size 6.1 MiB\n",
      "23/09/13 09:42:42 WARN DAGScheduler: Broadcasting large task binary with size 6.1 MiB\n",
      "23/09/13 09:42:43 WARN DAGScheduler: Broadcasting large task binary with size 6.1 MiB\n",
      "23/09/13 09:42:43 WARN DAGScheduler: Broadcasting large task binary with size 6.1 MiB\n",
      "23/09/13 09:42:43 WARN DAGScheduler: Broadcasting large task binary with size 6.1 MiB\n",
      "23/09/13 09:42:43 WARN DAGScheduler: Broadcasting large task binary with size 6.2 MiB\n",
      "23/09/13 09:42:44 WARN DAGScheduler: Broadcasting large task binary with size 6.2 MiB\n",
      "23/09/13 09:42:44 WARN DAGScheduler: Broadcasting large task binary with size 6.3 MiB\n",
      "23/09/13 09:42:44 WARN DAGScheduler: Broadcasting large task binary with size 6.3 MiB\n",
      "23/09/13 09:42:44 WARN DAGScheduler: Broadcasting large task binary with size 6.4 MiB\n",
      "23/09/13 09:42:45 WARN DAGScheduler: Broadcasting large task binary with size 6.5 MiB\n",
      "23/09/13 09:42:45 WARN DAGScheduler: Broadcasting large task binary with size 6.6 MiB\n",
      "23/09/13 09:42:45 WARN DAGScheduler: Broadcasting large task binary with size 6.8 MiB\n",
      "23/09/13 09:42:46 WARN DAGScheduler: Broadcasting large task binary with size 6.9 MiB\n",
      "23/09/13 09:42:46 WARN DAGScheduler: Broadcasting large task binary with size 7.1 MiB\n",
      "23/09/13 09:42:47 WARN DAGScheduler: Broadcasting large task binary with size 7.2 MiB\n",
      "23/09/13 09:42:47 WARN DAGScheduler: Broadcasting large task binary with size 7.4 MiB\n",
      "23/09/13 09:42:47 WARN DAGScheduler: Broadcasting large task binary with size 6.9 MiB\n",
      "23/09/13 09:42:48 WARN DAGScheduler: Broadcasting large task binary with size 6.9 MiB\n",
      "23/09/13 09:42:48 WARN DAGScheduler: Broadcasting large task binary with size 6.9 MiB\n",
      "23/09/13 09:42:48 WARN DAGScheduler: Broadcasting large task binary with size 6.9 MiB\n",
      "23/09/13 09:42:48 WARN DAGScheduler: Broadcasting large task binary with size 6.9 MiB\n",
      "23/09/13 09:42:49 WARN DAGScheduler: Broadcasting large task binary with size 6.9 MiB\n",
      "23/09/13 09:42:49 WARN DAGScheduler: Broadcasting large task binary with size 7.0 MiB\n",
      "23/09/13 09:42:49 WARN DAGScheduler: Broadcasting large task binary with size 7.0 MiB\n",
      "23/09/13 09:42:49 WARN DAGScheduler: Broadcasting large task binary with size 7.0 MiB\n",
      "23/09/13 09:42:50 WARN DAGScheduler: Broadcasting large task binary with size 7.0 MiB\n",
      "23/09/13 09:42:50 WARN DAGScheduler: Broadcasting large task binary with size 7.1 MiB\n",
      "23/09/13 09:42:50 WARN DAGScheduler: Broadcasting large task binary with size 7.2 MiB\n",
      "23/09/13 09:42:51 WARN DAGScheduler: Broadcasting large task binary with size 7.3 MiB\n",
      "23/09/13 09:42:51 WARN DAGScheduler: Broadcasting large task binary with size 7.4 MiB\n",
      "23/09/13 09:42:51 WARN DAGScheduler: Broadcasting large task binary with size 7.5 MiB\n",
      "23/09/13 09:42:52 WARN DAGScheduler: Broadcasting large task binary with size 7.6 MiB\n",
      "23/09/13 09:42:52 WARN DAGScheduler: Broadcasting large task binary with size 7.7 MiB\n",
      "23/09/13 09:42:52 WARN DAGScheduler: Broadcasting large task binary with size 7.9 MiB\n",
      "23/09/13 09:42:53 WARN DAGScheduler: Broadcasting large task binary with size 8.0 MiB\n",
      "23/09/13 09:42:53 WARN DAGScheduler: Broadcasting large task binary with size 8.2 MiB\n",
      "23/09/13 09:42:54 WARN DAGScheduler: Broadcasting large task binary with size 7.8 MiB\n",
      "23/09/13 09:42:54 WARN DAGScheduler: Broadcasting large task binary with size 7.8 MiB\n",
      "23/09/13 09:42:54 WARN DAGScheduler: Broadcasting large task binary with size 7.8 MiB\n",
      "23/09/13 09:42:55 WARN DAGScheduler: Broadcasting large task binary with size 7.8 MiB\n",
      "23/09/13 09:42:55 WARN DAGScheduler: Broadcasting large task binary with size 7.8 MiB\n",
      "23/09/13 09:42:56 WARN DAGScheduler: Broadcasting large task binary with size 7.8 MiB\n",
      "23/09/13 09:42:56 WARN DAGScheduler: Broadcasting large task binary with size 7.8 MiB\n",
      "23/09/13 09:42:56 WARN DAGScheduler: Broadcasting large task binary with size 7.8 MiB\n",
      "23/09/13 09:42:56 WARN DAGScheduler: Broadcasting large task binary with size 7.8 MiB\n",
      "23/09/13 09:42:57 WARN DAGScheduler: Broadcasting large task binary with size 7.9 MiB\n",
      "23/09/13 09:42:57 WARN DAGScheduler: Broadcasting large task binary with size 7.9 MiB\n",
      "23/09/13 09:42:57 WARN DAGScheduler: Broadcasting large task binary with size 8.0 MiB\n",
      "23/09/13 09:42:58 WARN DAGScheduler: Broadcasting large task binary with size 8.1 MiB\n",
      "23/09/13 09:42:58 WARN DAGScheduler: Broadcasting large task binary with size 8.2 MiB\n",
      "23/09/13 09:42:59 WARN DAGScheduler: Broadcasting large task binary with size 8.3 MiB\n",
      "23/09/13 09:42:59 WARN DAGScheduler: Broadcasting large task binary with size 8.5 MiB\n",
      "23/09/13 09:42:59 WARN DAGScheduler: Broadcasting large task binary with size 8.6 MiB\n",
      "23/09/13 09:43:00 WARN DAGScheduler: Broadcasting large task binary with size 8.8 MiB\n",
      "23/09/13 09:43:00 WARN DAGScheduler: Broadcasting large task binary with size 8.9 MiB\n",
      "23/09/13 09:43:01 WARN DAGScheduler: Broadcasting large task binary with size 9.1 MiB\n",
      "23/09/13 09:43:01 WARN DAGScheduler: Broadcasting large task binary with size 8.7 MiB\n",
      "23/09/13 09:43:01 WARN DAGScheduler: Broadcasting large task binary with size 8.7 MiB\n",
      "23/09/13 09:43:02 WARN DAGScheduler: Broadcasting large task binary with size 8.7 MiB\n",
      "23/09/13 09:43:02 WARN DAGScheduler: Broadcasting large task binary with size 8.7 MiB\n",
      "23/09/13 09:43:02 WARN DAGScheduler: Broadcasting large task binary with size 8.7 MiB\n",
      "23/09/13 09:43:03 WARN DAGScheduler: Broadcasting large task binary with size 8.7 MiB\n",
      "23/09/13 09:43:03 WARN DAGScheduler: Broadcasting large task binary with size 8.7 MiB\n",
      "23/09/13 09:43:03 WARN DAGScheduler: Broadcasting large task binary with size 8.7 MiB\n",
      "23/09/13 09:43:04 WARN DAGScheduler: Broadcasting large task binary with size 8.7 MiB\n",
      "23/09/13 09:43:04 WARN DAGScheduler: Broadcasting large task binary with size 8.8 MiB\n",
      "23/09/13 09:43:04 WARN DAGScheduler: Broadcasting large task binary with size 8.8 MiB\n",
      "23/09/13 09:43:05 WARN DAGScheduler: Broadcasting large task binary with size 8.9 MiB\n",
      "23/09/13 09:43:05 WARN DAGScheduler: Broadcasting large task binary with size 9.0 MiB\n",
      "23/09/13 09:43:05 WARN DAGScheduler: Broadcasting large task binary with size 9.1 MiB\n",
      "23/09/13 09:43:06 WARN DAGScheduler: Broadcasting large task binary with size 9.2 MiB\n",
      "23/09/13 09:43:06 WARN DAGScheduler: Broadcasting large task binary with size 9.3 MiB\n",
      "23/09/13 09:43:07 WARN DAGScheduler: Broadcasting large task binary with size 9.5 MiB\n",
      "23/09/13 09:43:07 WARN DAGScheduler: Broadcasting large task binary with size 9.6 MiB\n",
      "23/09/13 09:43:08 WARN DAGScheduler: Broadcasting large task binary with size 9.8 MiB\n",
      "23/09/13 09:43:08 WARN DAGScheduler: Broadcasting large task binary with size 10.0 MiB\n",
      "23/09/13 09:43:09 WARN DAGScheduler: Broadcasting large task binary with size 9.5 MiB\n",
      "23/09/13 09:43:09 WARN DAGScheduler: Broadcasting large task binary with size 9.5 MiB\n",
      "23/09/13 09:43:09 WARN DAGScheduler: Broadcasting large task binary with size 9.5 MiB\n",
      "23/09/13 09:43:10 WARN DAGScheduler: Broadcasting large task binary with size 9.5 MiB\n",
      "23/09/13 09:43:11 WARN DAGScheduler: Broadcasting large task binary with size 9.6 MiB\n",
      "23/09/13 09:43:11 WARN DAGScheduler: Broadcasting large task binary with size 9.6 MiB\n",
      "23/09/13 09:43:11 WARN DAGScheduler: Broadcasting large task binary with size 9.6 MiB\n",
      "23/09/13 09:43:11 WARN DAGScheduler: Broadcasting large task binary with size 9.6 MiB\n",
      "23/09/13 09:43:12 WARN DAGScheduler: Broadcasting large task binary with size 9.6 MiB\n",
      "23/09/13 09:43:12 WARN DAGScheduler: Broadcasting large task binary with size 9.6 MiB\n",
      "23/09/13 09:43:13 WARN DAGScheduler: Broadcasting large task binary with size 9.7 MiB\n",
      "23/09/13 09:43:13 WARN DAGScheduler: Broadcasting large task binary with size 9.8 MiB\n",
      "23/09/13 09:43:13 WARN DAGScheduler: Broadcasting large task binary with size 9.9 MiB\n",
      "23/09/13 09:43:14 WARN DAGScheduler: Broadcasting large task binary with size 10.0 MiB\n",
      "23/09/13 09:43:14 WARN DAGScheduler: Broadcasting large task binary with size 10.1 MiB\n",
      "23/09/13 09:43:15 WARN DAGScheduler: Broadcasting large task binary with size 10.2 MiB\n",
      "23/09/13 09:43:15 WARN DAGScheduler: Broadcasting large task binary with size 10.4 MiB\n",
      "23/09/13 09:43:16 WARN DAGScheduler: Broadcasting large task binary with size 10.5 MiB\n",
      "23/09/13 09:43:16 WARN DAGScheduler: Broadcasting large task binary with size 10.7 MiB\n",
      "23/09/13 09:43:17 WARN DAGScheduler: Broadcasting large task binary with size 10.8 MiB\n",
      "23/09/13 09:43:17 WARN DAGScheduler: Broadcasting large task binary with size 10.4 MiB\n",
      "23/09/13 09:43:18 WARN DAGScheduler: Broadcasting large task binary with size 10.4 MiB\n",
      "23/09/13 09:43:18 WARN DAGScheduler: Broadcasting large task binary with size 10.4 MiB\n",
      "23/09/13 09:43:18 WARN DAGScheduler: Broadcasting large task binary with size 10.4 MiB\n",
      "23/09/13 09:43:19 WARN DAGScheduler: Broadcasting large task binary with size 10.4 MiB\n",
      "23/09/13 09:43:19 WARN DAGScheduler: Broadcasting large task binary with size 10.4 MiB\n",
      "23/09/13 09:43:19 WARN DAGScheduler: Broadcasting large task binary with size 10.4 MiB\n",
      "23/09/13 09:43:20 WARN DAGScheduler: Broadcasting large task binary with size 10.4 MiB\n",
      "23/09/13 09:43:20 WARN DAGScheduler: Broadcasting large task binary with size 10.5 MiB\n",
      "23/09/13 09:43:20 WARN DAGScheduler: Broadcasting large task binary with size 10.5 MiB\n",
      "23/09/13 09:43:21 WARN DAGScheduler: Broadcasting large task binary with size 10.6 MiB\n",
      "23/09/13 09:43:22 WARN DAGScheduler: Broadcasting large task binary with size 10.6 MiB\n",
      "23/09/13 09:43:22 WARN DAGScheduler: Broadcasting large task binary with size 10.7 MiB\n",
      "23/09/13 09:43:23 WARN DAGScheduler: Broadcasting large task binary with size 10.8 MiB\n",
      "23/09/13 09:43:23 WARN DAGScheduler: Broadcasting large task binary with size 11.0 MiB\n",
      "23/09/13 09:43:24 WARN DAGScheduler: Broadcasting large task binary with size 11.1 MiB\n",
      "23/09/13 09:43:24 WARN DAGScheduler: Broadcasting large task binary with size 11.2 MiB\n",
      "23/09/13 09:43:25 WARN DAGScheduler: Broadcasting large task binary with size 11.4 MiB\n",
      "23/09/13 09:43:25 WARN DAGScheduler: Broadcasting large task binary with size 11.5 MiB\n",
      "23/09/13 09:43:26 WARN DAGScheduler: Broadcasting large task binary with size 11.7 MiB\n",
      "23/09/13 09:43:26 WARN DAGScheduler: Broadcasting large task binary with size 11.3 MiB\n",
      "23/09/13 09:43:27 WARN DAGScheduler: Broadcasting large task binary with size 11.3 MiB\n",
      "23/09/13 09:43:27 WARN DAGScheduler: Broadcasting large task binary with size 11.3 MiB\n",
      "23/09/13 09:43:27 WARN DAGScheduler: Broadcasting large task binary with size 11.3 MiB\n",
      "23/09/13 09:43:28 WARN DAGScheduler: Broadcasting large task binary with size 11.3 MiB\n",
      "23/09/13 09:43:28 WARN DAGScheduler: Broadcasting large task binary with size 11.3 MiB\n",
      "23/09/13 09:43:29 WARN DAGScheduler: Broadcasting large task binary with size 11.3 MiB\n",
      "23/09/13 09:43:29 WARN DAGScheduler: Broadcasting large task binary with size 11.3 MiB\n",
      "23/09/13 09:43:29 WARN DAGScheduler: Broadcasting large task binary with size 11.4 MiB\n",
      "23/09/13 09:43:30 WARN DAGScheduler: Broadcasting large task binary with size 11.4 MiB\n",
      "23/09/13 09:43:30 WARN DAGScheduler: Broadcasting large task binary with size 11.5 MiB\n",
      "23/09/13 09:43:31 WARN DAGScheduler: Broadcasting large task binary with size 11.5 MiB\n",
      "23/09/13 09:43:31 WARN DAGScheduler: Broadcasting large task binary with size 11.6 MiB\n",
      "23/09/13 09:43:32 WARN DAGScheduler: Broadcasting large task binary with size 11.8 MiB\n",
      "23/09/13 09:43:32 WARN DAGScheduler: Broadcasting large task binary with size 11.9 MiB\n",
      "23/09/13 09:43:33 WARN DAGScheduler: Broadcasting large task binary with size 12.0 MiB\n",
      "23/09/13 09:43:34 WARN DAGScheduler: Broadcasting large task binary with size 12.2 MiB\n",
      "23/09/13 09:43:34 WARN DAGScheduler: Broadcasting large task binary with size 12.3 MiB\n",
      "23/09/13 09:43:35 WARN DAGScheduler: Broadcasting large task binary with size 12.5 MiB\n",
      "23/09/13 09:43:35 WARN DAGScheduler: Broadcasting large task binary with size 12.6 MiB\n",
      "23/09/13 09:43:36 WARN DAGScheduler: Broadcasting large task binary with size 12.2 MiB\n",
      "23/09/13 09:43:36 WARN DAGScheduler: Broadcasting large task binary with size 12.2 MiB\n",
      "23/09/13 09:43:37 WARN DAGScheduler: Broadcasting large task binary with size 12.2 MiB\n",
      "23/09/13 09:43:37 WARN DAGScheduler: Broadcasting large task binary with size 12.2 MiB\n",
      "23/09/13 09:43:38 WARN DAGScheduler: Broadcasting large task binary with size 12.2 MiB\n",
      "23/09/13 09:43:38 WARN DAGScheduler: Broadcasting large task binary with size 12.2 MiB\n",
      "23/09/13 09:43:38 WARN DAGScheduler: Broadcasting large task binary with size 12.2 MiB\n",
      "23/09/13 09:43:39 WARN DAGScheduler: Broadcasting large task binary with size 12.2 MiB\n",
      "23/09/13 09:43:39 WARN DAGScheduler: Broadcasting large task binary with size 12.2 MiB\n",
      "23/09/13 09:43:40 WARN DAGScheduler: Broadcasting large task binary with size 12.3 MiB\n",
      "23/09/13 09:43:40 WARN DAGScheduler: Broadcasting large task binary with size 12.3 MiB\n",
      "23/09/13 09:43:41 WARN DAGScheduler: Broadcasting large task binary with size 12.4 MiB\n",
      "23/09/13 09:43:41 WARN DAGScheduler: Broadcasting large task binary with size 12.6 MiB\n",
      "23/09/13 09:43:42 WARN DAGScheduler: Broadcasting large task binary with size 12.7 MiB\n",
      "23/09/13 09:43:42 WARN DAGScheduler: Broadcasting large task binary with size 12.9 MiB\n",
      "23/09/13 09:43:43 WARN DAGScheduler: Broadcasting large task binary with size 13.1 MiB\n",
      "23/09/13 09:43:44 WARN DAGScheduler: Broadcasting large task binary with size 13.3 MiB\n",
      "23/09/13 09:43:45 WARN DAGScheduler: Broadcasting large task binary with size 13.4 MiB\n",
      "23/09/13 09:43:45 WARN DAGScheduler: Broadcasting large task binary with size 13.6 MiB\n",
      "23/09/13 09:43:46 WARN DAGScheduler: Broadcasting large task binary with size 13.8 MiB\n",
      "23/09/13 09:43:47 WARN DAGScheduler: Broadcasting large task binary with size 13.2 MiB\n",
      "23/09/13 09:43:47 WARN DAGScheduler: Broadcasting large task binary with size 13.2 MiB\n",
      "23/09/13 09:43:48 WARN DAGScheduler: Broadcasting large task binary with size 13.2 MiB\n",
      "23/09/13 09:43:48 WARN DAGScheduler: Broadcasting large task binary with size 13.2 MiB\n",
      "23/09/13 09:43:48 WARN DAGScheduler: Broadcasting large task binary with size 13.3 MiB\n",
      "23/09/13 09:43:49 WARN DAGScheduler: Broadcasting large task binary with size 13.3 MiB\n",
      "23/09/13 09:43:49 WARN DAGScheduler: Broadcasting large task binary with size 13.3 MiB\n",
      "23/09/13 09:43:50 WARN DAGScheduler: Broadcasting large task binary with size 13.3 MiB\n",
      "23/09/13 09:43:50 WARN DAGScheduler: Broadcasting large task binary with size 13.3 MiB\n",
      "23/09/13 09:43:51 WARN DAGScheduler: Broadcasting large task binary with size 13.3 MiB\n",
      "23/09/13 09:43:51 WARN DAGScheduler: Broadcasting large task binary with size 13.4 MiB\n",
      "23/09/13 09:43:52 WARN DAGScheduler: Broadcasting large task binary with size 13.5 MiB\n",
      "23/09/13 09:43:52 WARN DAGScheduler: Broadcasting large task binary with size 13.6 MiB\n",
      "23/09/13 09:43:53 WARN DAGScheduler: Broadcasting large task binary with size 13.7 MiB\n",
      "23/09/13 09:43:53 WARN DAGScheduler: Broadcasting large task binary with size 13.8 MiB\n",
      "23/09/13 09:43:54 WARN DAGScheduler: Broadcasting large task binary with size 14.0 MiB\n",
      "23/09/13 09:43:54 WARN DAGScheduler: Broadcasting large task binary with size 14.1 MiB\n",
      "23/09/13 09:43:55 WARN DAGScheduler: Broadcasting large task binary with size 14.3 MiB\n",
      "23/09/13 09:43:56 WARN DAGScheduler: Broadcasting large task binary with size 14.5 MiB\n",
      "23/09/13 09:43:57 WARN DAGScheduler: Broadcasting large task binary with size 14.7 MiB\n",
      "23/09/13 09:43:58 WARN DAGScheduler: Broadcasting large task binary with size 14.2 MiB\n",
      "23/09/13 09:43:58 WARN DAGScheduler: Broadcasting large task binary with size 14.2 MiB\n",
      "23/09/13 09:43:59 WARN DAGScheduler: Broadcasting large task binary with size 14.2 MiB\n",
      "23/09/13 09:43:59 WARN DAGScheduler: Broadcasting large task binary with size 14.2 MiB\n",
      "23/09/13 09:44:00 WARN DAGScheduler: Broadcasting large task binary with size 14.2 MiB\n",
      "23/09/13 09:44:00 WARN DAGScheduler: Broadcasting large task binary with size 14.2 MiB\n",
      "23/09/13 09:44:00 WARN DAGScheduler: Broadcasting large task binary with size 14.2 MiB\n",
      "23/09/13 09:44:01 WARN DAGScheduler: Broadcasting large task binary with size 14.2 MiB\n",
      "23/09/13 09:44:01 WARN DAGScheduler: Broadcasting large task binary with size 14.3 MiB\n",
      "23/09/13 09:44:02 WARN DAGScheduler: Broadcasting large task binary with size 14.3 MiB\n",
      "23/09/13 09:44:03 WARN DAGScheduler: Broadcasting large task binary with size 14.4 MiB\n",
      "23/09/13 09:44:03 WARN DAGScheduler: Broadcasting large task binary with size 14.5 MiB\n",
      "23/09/13 09:44:04 WARN DAGScheduler: Broadcasting large task binary with size 14.5 MiB\n",
      "23/09/13 09:44:04 WARN DAGScheduler: Broadcasting large task binary with size 14.7 MiB\n",
      "23/09/13 09:44:05 WARN DAGScheduler: Broadcasting large task binary with size 14.8 MiB\n",
      "23/09/13 09:44:06 WARN DAGScheduler: Broadcasting large task binary with size 14.9 MiB\n",
      "23/09/13 09:44:06 WARN DAGScheduler: Broadcasting large task binary with size 15.1 MiB\n",
      "23/09/13 09:44:07 WARN DAGScheduler: Broadcasting large task binary with size 15.2 MiB\n",
      "23/09/13 09:44:08 WARN DAGScheduler: Broadcasting large task binary with size 15.4 MiB\n",
      "23/09/13 09:44:08 WARN DAGScheduler: Broadcasting large task binary with size 15.5 MiB\n",
      "23/09/13 09:44:09 WARN DAGScheduler: Broadcasting large task binary with size 15.1 MiB\n",
      "23/09/13 09:44:10 WARN DAGScheduler: Broadcasting large task binary with size 15.1 MiB\n",
      "23/09/13 09:44:10 WARN DAGScheduler: Broadcasting large task binary with size 15.1 MiB\n",
      "23/09/13 09:44:11 WARN DAGScheduler: Broadcasting large task binary with size 15.1 MiB\n",
      "23/09/13 09:44:12 WARN DAGScheduler: Broadcasting large task binary with size 15.1 MiB\n",
      "23/09/13 09:44:12 WARN DAGScheduler: Broadcasting large task binary with size 15.1 MiB\n",
      "23/09/13 09:44:13 WARN DAGScheduler: Broadcasting large task binary with size 15.1 MiB\n",
      "23/09/13 09:44:13 WARN DAGScheduler: Broadcasting large task binary with size 15.1 MiB\n",
      "23/09/13 09:44:14 WARN DAGScheduler: Broadcasting large task binary with size 15.2 MiB\n",
      "23/09/13 09:44:14 WARN DAGScheduler: Broadcasting large task binary with size 15.2 MiB\n",
      "23/09/13 09:44:15 WARN DAGScheduler: Broadcasting large task binary with size 15.3 MiB\n",
      "23/09/13 09:44:15 WARN DAGScheduler: Broadcasting large task binary with size 15.4 MiB\n",
      "23/09/13 09:44:16 WARN DAGScheduler: Broadcasting large task binary with size 15.5 MiB\n",
      "23/09/13 09:44:17 WARN DAGScheduler: Broadcasting large task binary with size 15.6 MiB\n",
      "23/09/13 09:44:17 WARN DAGScheduler: Broadcasting large task binary with size 15.7 MiB\n",
      "23/09/13 09:44:18 WARN DAGScheduler: Broadcasting large task binary with size 15.8 MiB\n",
      "23/09/13 09:44:19 WARN DAGScheduler: Broadcasting large task binary with size 16.0 MiB\n",
      "23/09/13 09:44:20 WARN DAGScheduler: Broadcasting large task binary with size 16.1 MiB\n",
      "23/09/13 09:44:20 WARN DAGScheduler: Broadcasting large task binary with size 16.3 MiB\n",
      "23/09/13 09:44:21 WARN DAGScheduler: Broadcasting large task binary with size 16.5 MiB\n",
      "23/09/13 09:44:22 WARN DAGScheduler: Broadcasting large task binary with size 16.0 MiB\n",
      "23/09/13 09:44:22 WARN DAGScheduler: Broadcasting large task binary with size 16.0 MiB\n",
      "23/09/13 09:44:23 WARN DAGScheduler: Broadcasting large task binary with size 16.0 MiB\n",
      "23/09/13 09:44:23 WARN DAGScheduler: Broadcasting large task binary with size 16.0 MiB\n",
      "23/09/13 09:44:24 WARN DAGScheduler: Broadcasting large task binary with size 16.0 MiB\n",
      "23/09/13 09:44:24 WARN DAGScheduler: Broadcasting large task binary with size 16.0 MiB\n",
      "23/09/13 09:44:25 WARN DAGScheduler: Broadcasting large task binary with size 16.0 MiB\n",
      "23/09/13 09:44:25 WARN DAGScheduler: Broadcasting large task binary with size 16.1 MiB\n",
      "23/09/13 09:44:26 WARN DAGScheduler: Broadcasting large task binary with size 16.1 MiB\n",
      "23/09/13 09:44:27 WARN DAGScheduler: Broadcasting large task binary with size 16.1 MiB\n",
      "23/09/13 09:44:28 WARN DAGScheduler: Broadcasting large task binary with size 16.2 MiB\n",
      "23/09/13 09:44:28 WARN DAGScheduler: Broadcasting large task binary with size 16.3 MiB\n",
      "23/09/13 09:44:29 WARN DAGScheduler: Broadcasting large task binary with size 16.4 MiB\n",
      "23/09/13 09:44:29 WARN DAGScheduler: Broadcasting large task binary with size 16.5 MiB\n",
      "23/09/13 09:44:30 WARN DAGScheduler: Broadcasting large task binary with size 16.6 MiB\n",
      "23/09/13 09:44:31 WARN DAGScheduler: Broadcasting large task binary with size 16.8 MiB\n",
      "23/09/13 09:44:32 WARN DAGScheduler: Broadcasting large task binary with size 16.9 MiB\n",
      "23/09/13 09:44:32 WARN DAGScheduler: Broadcasting large task binary with size 17.1 MiB\n",
      "23/09/13 09:44:33 WARN DAGScheduler: Broadcasting large task binary with size 17.2 MiB\n",
      "23/09/13 09:44:34 WARN DAGScheduler: Broadcasting large task binary with size 17.4 MiB\n",
      "23/09/13 09:44:35 WARN DAGScheduler: Broadcasting large task binary with size 16.9 MiB\n",
      "23/09/13 09:44:35 WARN DAGScheduler: Broadcasting large task binary with size 16.9 MiB\n",
      "23/09/13 09:44:36 WARN DAGScheduler: Broadcasting large task binary with size 16.9 MiB\n",
      "23/09/13 09:44:36 WARN DAGScheduler: Broadcasting large task binary with size 16.9 MiB\n",
      "23/09/13 09:44:37 WARN DAGScheduler: Broadcasting large task binary with size 16.9 MiB\n",
      "23/09/13 09:44:38 WARN DAGScheduler: Broadcasting large task binary with size 16.9 MiB\n",
      "23/09/13 09:44:39 WARN DAGScheduler: Broadcasting large task binary with size 16.9 MiB\n",
      "23/09/13 09:44:39 WARN DAGScheduler: Broadcasting large task binary with size 17.0 MiB\n",
      "23/09/13 09:44:40 WARN DAGScheduler: Broadcasting large task binary with size 17.0 MiB\n",
      "23/09/13 09:44:40 WARN DAGScheduler: Broadcasting large task binary with size 17.0 MiB\n",
      "23/09/13 09:44:41 WARN DAGScheduler: Broadcasting large task binary with size 17.1 MiB\n",
      "23/09/13 09:44:41 WARN DAGScheduler: Broadcasting large task binary with size 17.2 MiB\n",
      "23/09/13 09:44:42 WARN DAGScheduler: Broadcasting large task binary with size 17.3 MiB\n",
      "23/09/13 09:44:43 WARN DAGScheduler: Broadcasting large task binary with size 17.4 MiB\n",
      "23/09/13 09:44:43 WARN DAGScheduler: Broadcasting large task binary with size 17.5 MiB\n",
      "23/09/13 09:44:44 WARN DAGScheduler: Broadcasting large task binary with size 17.7 MiB\n",
      "23/09/13 09:44:45 WARN DAGScheduler: Broadcasting large task binary with size 17.8 MiB\n",
      "23/09/13 09:44:46 WARN DAGScheduler: Broadcasting large task binary with size 17.9 MiB\n",
      "23/09/13 09:44:46 WARN DAGScheduler: Broadcasting large task binary with size 18.1 MiB\n",
      "23/09/13 09:44:47 WARN DAGScheduler: Broadcasting large task binary with size 18.3 MiB\n",
      "23/09/13 09:44:48 WARN DAGScheduler: Broadcasting large task binary with size 17.8 MiB\n",
      "23/09/13 09:44:49 WARN DAGScheduler: Broadcasting large task binary with size 17.8 MiB\n",
      "23/09/13 09:44:50 WARN DAGScheduler: Broadcasting large task binary with size 17.8 MiB\n",
      "23/09/13 09:44:50 WARN DAGScheduler: Broadcasting large task binary with size 17.8 MiB\n",
      "23/09/13 09:44:51 WARN DAGScheduler: Broadcasting large task binary with size 17.8 MiB\n",
      "23/09/13 09:44:51 WARN DAGScheduler: Broadcasting large task binary with size 17.8 MiB\n",
      "23/09/13 09:44:52 WARN DAGScheduler: Broadcasting large task binary with size 17.8 MiB\n",
      "23/09/13 09:44:53 WARN DAGScheduler: Broadcasting large task binary with size 17.9 MiB\n",
      "23/09/13 09:44:53 WARN DAGScheduler: Broadcasting large task binary with size 17.9 MiB\n",
      "23/09/13 09:44:54 WARN DAGScheduler: Broadcasting large task binary with size 17.9 MiB\n",
      "23/09/13 09:44:54 WARN DAGScheduler: Broadcasting large task binary with size 18.0 MiB\n",
      "23/09/13 09:44:55 WARN DAGScheduler: Broadcasting large task binary with size 18.1 MiB\n",
      "23/09/13 09:44:56 WARN DAGScheduler: Broadcasting large task binary with size 18.2 MiB\n",
      "23/09/13 09:44:56 WARN DAGScheduler: Broadcasting large task binary with size 18.3 MiB\n",
      "23/09/13 09:44:57 WARN DAGScheduler: Broadcasting large task binary with size 18.4 MiB\n",
      "23/09/13 09:44:59 WARN DAGScheduler: Broadcasting large task binary with size 18.6 MiB\n",
      "23/09/13 09:44:59 WARN DAGScheduler: Broadcasting large task binary with size 18.7 MiB\n",
      "23/09/13 09:45:00 WARN DAGScheduler: Broadcasting large task binary with size 18.9 MiB\n",
      "23/09/13 09:45:01 WARN DAGScheduler: Broadcasting large task binary with size 19.0 MiB\n",
      "23/09/13 09:45:02 WARN DAGScheduler: Broadcasting large task binary with size 19.2 MiB\n",
      "23/09/13 09:45:03 WARN DAGScheduler: Broadcasting large task binary with size 18.8 MiB\n",
      "23/09/13 09:45:03 WARN DAGScheduler: Broadcasting large task binary with size 18.8 MiB\n",
      "23/09/13 09:45:04 WARN DAGScheduler: Broadcasting large task binary with size 18.8 MiB\n",
      "23/09/13 09:45:05 WARN DAGScheduler: Broadcasting large task binary with size 18.8 MiB\n",
      "23/09/13 09:45:05 WARN DAGScheduler: Broadcasting large task binary with size 18.8 MiB\n",
      "23/09/13 09:45:07 WARN DAGScheduler: Broadcasting large task binary with size 18.8 MiB\n",
      "23/09/13 09:45:07 WARN DAGScheduler: Broadcasting large task binary with size 18.8 MiB\n",
      "23/09/13 09:45:08 WARN DAGScheduler: Broadcasting large task binary with size 18.8 MiB\n",
      "23/09/13 09:45:08 WARN DAGScheduler: Broadcasting large task binary with size 18.8 MiB\n",
      "23/09/13 09:45:09 WARN DAGScheduler: Broadcasting large task binary with size 18.9 MiB\n",
      "23/09/13 09:45:10 WARN DAGScheduler: Broadcasting large task binary with size 18.9 MiB\n",
      "23/09/13 09:45:11 WARN DAGScheduler: Broadcasting large task binary with size 19.0 MiB\n",
      "23/09/13 09:45:11 WARN DAGScheduler: Broadcasting large task binary with size 19.1 MiB\n",
      "23/09/13 09:45:12 WARN DAGScheduler: Broadcasting large task binary with size 19.2 MiB\n",
      "23/09/13 09:45:13 WARN DAGScheduler: Broadcasting large task binary with size 19.4 MiB\n",
      "23/09/13 09:45:14 WARN DAGScheduler: Broadcasting large task binary with size 19.5 MiB\n",
      "23/09/13 09:45:15 WARN DAGScheduler: Broadcasting large task binary with size 19.7 MiB\n",
      "23/09/13 09:45:16 WARN DAGScheduler: Broadcasting large task binary with size 19.9 MiB\n",
      "23/09/13 09:45:17 WARN DAGScheduler: Broadcasting large task binary with size 20.0 MiB\n",
      "23/09/13 09:45:18 WARN DAGScheduler: Broadcasting large task binary with size 20.2 MiB\n",
      "23/09/13 09:45:18 WARN DAGScheduler: Broadcasting large task binary with size 19.7 MiB\n",
      "23/09/13 09:45:19 WARN DAGScheduler: Broadcasting large task binary with size 19.7 MiB\n",
      "23/09/13 09:45:20 WARN DAGScheduler: Broadcasting large task binary with size 19.7 MiB\n",
      "23/09/13 09:45:21 WARN DAGScheduler: Broadcasting large task binary with size 19.7 MiB\n",
      "23/09/13 09:45:22 WARN DAGScheduler: Broadcasting large task binary with size 19.7 MiB\n",
      "23/09/13 09:45:22 WARN DAGScheduler: Broadcasting large task binary with size 19.7 MiB\n",
      "23/09/13 09:45:23 WARN DAGScheduler: Broadcasting large task binary with size 19.7 MiB\n",
      "23/09/13 09:45:23 WARN DAGScheduler: Broadcasting large task binary with size 19.7 MiB\n",
      "23/09/13 09:45:24 WARN DAGScheduler: Broadcasting large task binary with size 19.8 MiB\n",
      "23/09/13 09:45:25 WARN DAGScheduler: Broadcasting large task binary with size 19.8 MiB\n",
      "23/09/13 09:45:26 WARN DAGScheduler: Broadcasting large task binary with size 19.9 MiB\n",
      "23/09/13 09:45:26 WARN DAGScheduler: Broadcasting large task binary with size 19.9 MiB\n",
      "23/09/13 09:45:27 WARN DAGScheduler: Broadcasting large task binary with size 20.0 MiB\n",
      "23/09/13 09:45:28 WARN DAGScheduler: Broadcasting large task binary with size 20.2 MiB\n",
      "23/09/13 09:45:29 WARN DAGScheduler: Broadcasting large task binary with size 20.3 MiB\n",
      "23/09/13 09:45:30 WARN DAGScheduler: Broadcasting large task binary with size 20.5 MiB\n",
      "23/09/13 09:45:31 WARN DAGScheduler: Broadcasting large task binary with size 20.6 MiB\n",
      "23/09/13 09:45:32 WARN DAGScheduler: Broadcasting large task binary with size 20.8 MiB\n",
      "23/09/13 09:45:32 WARN DAGScheduler: Broadcasting large task binary with size 21.0 MiB\n",
      "23/09/13 09:45:33 WARN DAGScheduler: Broadcasting large task binary with size 21.2 MiB\n",
      "23/09/13 09:45:35 WARN DAGScheduler: Broadcasting large task binary with size 20.7 MiB\n",
      "23/09/13 09:45:35 WARN DAGScheduler: Broadcasting large task binary with size 20.7 MiB\n",
      "23/09/13 09:45:36 WARN DAGScheduler: Broadcasting large task binary with size 20.7 MiB\n",
      "23/09/13 09:45:37 WARN DAGScheduler: Broadcasting large task binary with size 20.7 MiB\n",
      "23/09/13 09:45:37 WARN DAGScheduler: Broadcasting large task binary with size 20.7 MiB\n",
      "23/09/13 09:45:38 WARN DAGScheduler: Broadcasting large task binary with size 20.7 MiB\n",
      "23/09/13 09:45:39 WARN DAGScheduler: Broadcasting large task binary with size 20.7 MiB\n",
      "23/09/13 09:45:40 WARN DAGScheduler: Broadcasting large task binary with size 20.7 MiB\n",
      "23/09/13 09:45:40 WARN DAGScheduler: Broadcasting large task binary with size 20.7 MiB\n",
      "23/09/13 09:45:41 WARN DAGScheduler: Broadcasting large task binary with size 20.8 MiB\n",
      "23/09/13 09:45:42 WARN DAGScheduler: Broadcasting large task binary with size 20.8 MiB\n",
      "23/09/13 09:45:43 WARN DAGScheduler: Broadcasting large task binary with size 20.9 MiB\n",
      "23/09/13 09:45:44 WARN DAGScheduler: Broadcasting large task binary with size 21.0 MiB\n",
      "23/09/13 09:45:45 WARN DAGScheduler: Broadcasting large task binary with size 21.2 MiB\n",
      "23/09/13 09:45:45 WARN DAGScheduler: Broadcasting large task binary with size 21.3 MiB\n",
      "23/09/13 09:45:46 WARN DAGScheduler: Broadcasting large task binary with size 21.5 MiB\n",
      "23/09/13 09:45:47 WARN DAGScheduler: Broadcasting large task binary with size 21.6 MiB\n",
      "23/09/13 09:45:49 WARN DAGScheduler: Broadcasting large task binary with size 21.8 MiB\n",
      "23/09/13 09:45:50 WARN DAGScheduler: Broadcasting large task binary with size 22.0 MiB\n",
      "23/09/13 09:45:51 WARN DAGScheduler: Broadcasting large task binary with size 22.2 MiB\n",
      "23/09/13 09:45:51 WARN DAGScheduler: Broadcasting large task binary with size 21.7 MiB\n",
      "23/09/13 09:45:52 WARN DAGScheduler: Broadcasting large task binary with size 21.7 MiB\n",
      "23/09/13 09:45:53 WARN DAGScheduler: Broadcasting large task binary with size 21.7 MiB\n",
      "23/09/13 09:45:54 WARN DAGScheduler: Broadcasting large task binary with size 21.7 MiB\n",
      "23/09/13 09:45:54 WARN DAGScheduler: Broadcasting large task binary with size 21.7 MiB\n",
      "23/09/13 09:45:55 WARN DAGScheduler: Broadcasting large task binary with size 21.7 MiB\n",
      "23/09/13 09:45:56 WARN DAGScheduler: Broadcasting large task binary with size 21.7 MiB\n",
      "23/09/13 09:45:57 WARN DAGScheduler: Broadcasting large task binary with size 21.7 MiB\n",
      "23/09/13 09:45:58 WARN DAGScheduler: Broadcasting large task binary with size 21.7 MiB\n",
      "23/09/13 09:45:58 WARN DAGScheduler: Broadcasting large task binary with size 21.8 MiB\n",
      "23/09/13 09:45:59 WARN DAGScheduler: Broadcasting large task binary with size 21.8 MiB\n",
      "23/09/13 09:46:00 WARN DAGScheduler: Broadcasting large task binary with size 21.9 MiB\n",
      "23/09/13 09:46:01 WARN DAGScheduler: Broadcasting large task binary with size 22.0 MiB\n",
      "23/09/13 09:46:02 WARN DAGScheduler: Broadcasting large task binary with size 22.1 MiB\n",
      "23/09/13 09:46:03 WARN DAGScheduler: Broadcasting large task binary with size 22.3 MiB\n",
      "23/09/13 09:46:04 WARN DAGScheduler: Broadcasting large task binary with size 22.5 MiB\n",
      "23/09/13 09:46:05 WARN DAGScheduler: Broadcasting large task binary with size 22.6 MiB\n",
      "23/09/13 09:46:06 WARN DAGScheduler: Broadcasting large task binary with size 22.8 MiB\n",
      "23/09/13 09:46:07 WARN DAGScheduler: Broadcasting large task binary with size 23.0 MiB\n",
      "23/09/13 09:46:08 WARN DAGScheduler: Broadcasting large task binary with size 23.2 MiB\n",
      "23/09/13 09:46:09 WARN DAGScheduler: Broadcasting large task binary with size 22.7 MiB\n",
      "23/09/13 09:46:10 WARN DAGScheduler: Broadcasting large task binary with size 22.7 MiB\n",
      "23/09/13 09:46:11 WARN DAGScheduler: Broadcasting large task binary with size 22.7 MiB\n",
      "23/09/13 09:46:12 WARN DAGScheduler: Broadcasting large task binary with size 22.7 MiB\n",
      "23/09/13 09:46:12 WARN DAGScheduler: Broadcasting large task binary with size 22.7 MiB\n",
      "23/09/13 09:46:13 WARN DAGScheduler: Broadcasting large task binary with size 22.7 MiB\n",
      "23/09/13 09:46:15 WARN DAGScheduler: Broadcasting large task binary with size 22.7 MiB\n",
      "23/09/13 09:46:15 WARN DAGScheduler: Broadcasting large task binary with size 22.7 MiB\n",
      "23/09/13 09:46:16 WARN DAGScheduler: Broadcasting large task binary with size 22.7 MiB\n",
      "23/09/13 09:46:17 WARN DAGScheduler: Broadcasting large task binary with size 22.8 MiB\n",
      "23/09/13 09:46:18 WARN DAGScheduler: Broadcasting large task binary with size 22.8 MiB\n",
      "23/09/13 09:46:19 WARN DAGScheduler: Broadcasting large task binary with size 22.9 MiB\n",
      "23/09/13 09:46:20 WARN DAGScheduler: Broadcasting large task binary with size 23.0 MiB\n",
      "23/09/13 09:46:20 WARN DAGScheduler: Broadcasting large task binary with size 23.2 MiB\n",
      "23/09/13 09:46:21 WARN DAGScheduler: Broadcasting large task binary with size 23.3 MiB\n",
      "23/09/13 09:46:23 WARN DAGScheduler: Broadcasting large task binary with size 23.5 MiB\n",
      "23/09/13 09:46:24 WARN DAGScheduler: Broadcasting large task binary with size 23.6 MiB\n",
      "23/09/13 09:46:25 WARN DAGScheduler: Broadcasting large task binary with size 23.8 MiB\n",
      "23/09/13 09:46:26 WARN DAGScheduler: Broadcasting large task binary with size 24.0 MiB\n",
      "23/09/13 09:46:27 WARN DAGScheduler: Broadcasting large task binary with size 24.2 MiB\n",
      "23/09/13 09:46:28 WARN DAGScheduler: Broadcasting large task binary with size 23.7 MiB\n",
      "23/09/13 09:46:29 WARN DAGScheduler: Broadcasting large task binary with size 23.7 MiB\n",
      "23/09/13 09:46:30 WARN DAGScheduler: Broadcasting large task binary with size 23.7 MiB\n",
      "23/09/13 09:46:31 WARN DAGScheduler: Broadcasting large task binary with size 23.7 MiB\n",
      "23/09/13 09:46:31 WARN DAGScheduler: Broadcasting large task binary with size 23.7 MiB\n",
      "23/09/13 09:46:32 WARN DAGScheduler: Broadcasting large task binary with size 23.7 MiB\n",
      "23/09/13 09:46:33 WARN DAGScheduler: Broadcasting large task binary with size 23.7 MiB\n",
      "23/09/13 09:46:34 WARN DAGScheduler: Broadcasting large task binary with size 23.8 MiB\n",
      "23/09/13 09:46:35 WARN DAGScheduler: Broadcasting large task binary with size 23.8 MiB\n",
      "23/09/13 09:46:36 WARN DAGScheduler: Broadcasting large task binary with size 23.8 MiB\n",
      "23/09/13 09:46:37 WARN DAGScheduler: Broadcasting large task binary with size 23.9 MiB\n",
      "23/09/13 09:46:38 WARN DAGScheduler: Broadcasting large task binary with size 24.0 MiB\n",
      "23/09/13 09:46:39 WARN DAGScheduler: Broadcasting large task binary with size 24.1 MiB\n",
      "23/09/13 09:46:40 WARN DAGScheduler: Broadcasting large task binary with size 24.2 MiB\n",
      "23/09/13 09:46:41 WARN DAGScheduler: Broadcasting large task binary with size 24.4 MiB\n",
      "23/09/13 09:46:42 WARN DAGScheduler: Broadcasting large task binary with size 24.5 MiB\n",
      "23/09/13 09:46:43 WARN DAGScheduler: Broadcasting large task binary with size 24.7 MiB\n",
      "23/09/13 09:46:44 WARN DAGScheduler: Broadcasting large task binary with size 24.8 MiB\n",
      "23/09/13 09:46:45 WARN DAGScheduler: Broadcasting large task binary with size 24.9 MiB\n",
      "23/09/13 09:46:46 WARN DAGScheduler: Broadcasting large task binary with size 25.1 MiB\n",
      "23/09/13 09:46:47 WARN DAGScheduler: Broadcasting large task binary with size 24.6 MiB\n",
      "23/09/13 09:46:48 WARN DAGScheduler: Broadcasting large task binary with size 24.6 MiB\n",
      "23/09/13 09:46:49 WARN DAGScheduler: Broadcasting large task binary with size 24.6 MiB\n",
      "23/09/13 09:46:50 WARN DAGScheduler: Broadcasting large task binary with size 24.6 MiB\n",
      "23/09/13 09:46:51 WARN DAGScheduler: Broadcasting large task binary with size 24.6 MiB\n",
      "23/09/13 09:46:52 WARN DAGScheduler: Broadcasting large task binary with size 24.6 MiB\n",
      "23/09/13 09:46:53 WARN DAGScheduler: Broadcasting large task binary with size 24.6 MiB\n",
      "23/09/13 09:46:54 WARN DAGScheduler: Broadcasting large task binary with size 24.6 MiB\n",
      "23/09/13 09:46:54 WARN DAGScheduler: Broadcasting large task binary with size 24.7 MiB\n",
      "23/09/13 09:46:55 WARN DAGScheduler: Broadcasting large task binary with size 24.7 MiB\n",
      "23/09/13 09:46:56 WARN DAGScheduler: Broadcasting large task binary with size 24.8 MiB\n",
      "23/09/13 09:46:57 WARN DAGScheduler: Broadcasting large task binary with size 24.9 MiB\n",
      "23/09/13 09:46:58 WARN DAGScheduler: Broadcasting large task binary with size 25.0 MiB\n",
      "23/09/13 09:47:00 WARN DAGScheduler: Broadcasting large task binary with size 25.1 MiB\n",
      "23/09/13 09:47:01 WARN DAGScheduler: Broadcasting large task binary with size 25.3 MiB\n",
      "23/09/13 09:47:02 WARN DAGScheduler: Broadcasting large task binary with size 25.4 MiB\n",
      "23/09/13 09:47:03 WARN DAGScheduler: Broadcasting large task binary with size 25.6 MiB\n",
      "23/09/13 09:47:04 WARN DAGScheduler: Broadcasting large task binary with size 25.8 MiB\n",
      "23/09/13 09:47:05 WARN DAGScheduler: Broadcasting large task binary with size 26.0 MiB\n",
      "23/09/13 09:47:07 WARN DAGScheduler: Broadcasting large task binary with size 26.2 MiB\n",
      "23/09/13 09:47:08 WARN DAGScheduler: Broadcasting large task binary with size 25.7 MiB\n",
      "23/09/13 09:47:09 WARN DAGScheduler: Broadcasting large task binary with size 25.7 MiB\n",
      "23/09/13 09:47:10 WARN DAGScheduler: Broadcasting large task binary with size 25.7 MiB\n",
      "23/09/13 09:47:11 WARN DAGScheduler: Broadcasting large task binary with size 25.7 MiB\n",
      "23/09/13 09:47:12 WARN DAGScheduler: Broadcasting large task binary with size 25.7 MiB\n",
      "23/09/13 09:47:13 WARN DAGScheduler: Broadcasting large task binary with size 25.7 MiB\n",
      "23/09/13 09:47:14 WARN DAGScheduler: Broadcasting large task binary with size 25.7 MiB\n",
      "23/09/13 09:47:15 WARN DAGScheduler: Broadcasting large task binary with size 25.7 MiB\n",
      "23/09/13 09:47:16 WARN DAGScheduler: Broadcasting large task binary with size 25.7 MiB\n",
      "23/09/13 09:47:17 WARN DAGScheduler: Broadcasting large task binary with size 25.8 MiB\n",
      "23/09/13 09:47:18 WARN DAGScheduler: Broadcasting large task binary with size 25.8 MiB\n",
      "23/09/13 09:47:19 WARN DAGScheduler: Broadcasting large task binary with size 25.9 MiB\n",
      "23/09/13 09:47:20 WARN DAGScheduler: Broadcasting large task binary with size 26.0 MiB\n",
      "23/09/13 09:47:21 WARN DAGScheduler: Broadcasting large task binary with size 26.1 MiB\n",
      "23/09/13 09:47:23 WARN DAGScheduler: Broadcasting large task binary with size 26.3 MiB\n",
      "23/09/13 09:47:24 WARN DAGScheduler: Broadcasting large task binary with size 26.4 MiB\n",
      "23/09/13 09:47:25 WARN DAGScheduler: Broadcasting large task binary with size 26.6 MiB\n",
      "23/09/13 09:47:26 WARN DAGScheduler: Broadcasting large task binary with size 26.8 MiB\n",
      "23/09/13 09:47:27 WARN DAGScheduler: Broadcasting large task binary with size 26.9 MiB\n",
      "23/09/13 09:47:28 WARN DAGScheduler: Broadcasting large task binary with size 27.1 MiB\n",
      "23/09/13 09:47:30 WARN DAGScheduler: Broadcasting large task binary with size 26.6 MiB\n",
      "23/09/13 09:47:31 WARN DAGScheduler: Broadcasting large task binary with size 26.6 MiB\n",
      "23/09/13 09:47:31 WARN DAGScheduler: Broadcasting large task binary with size 26.6 MiB\n",
      "23/09/13 09:47:32 WARN DAGScheduler: Broadcasting large task binary with size 26.6 MiB\n",
      "23/09/13 09:47:33 WARN DAGScheduler: Broadcasting large task binary with size 26.6 MiB\n",
      "23/09/13 09:47:34 WARN DAGScheduler: Broadcasting large task binary with size 26.6 MiB\n",
      "23/09/13 09:47:36 WARN DAGScheduler: Broadcasting large task binary with size 26.6 MiB\n",
      "23/09/13 09:47:37 WARN DAGScheduler: Broadcasting large task binary with size 26.6 MiB\n",
      "23/09/13 09:47:37 WARN DAGScheduler: Broadcasting large task binary with size 26.7 MiB\n",
      "23/09/13 09:47:38 WARN DAGScheduler: Broadcasting large task binary with size 26.7 MiB\n",
      "23/09/13 09:47:40 WARN DAGScheduler: Broadcasting large task binary with size 26.8 MiB\n",
      "23/09/13 09:47:41 WARN DAGScheduler: Broadcasting large task binary with size 26.9 MiB\n",
      "23/09/13 09:47:42 WARN DAGScheduler: Broadcasting large task binary with size 27.0 MiB\n",
      "23/09/13 09:47:43 WARN DAGScheduler: Broadcasting large task binary with size 27.1 MiB\n",
      "23/09/13 09:47:44 WARN DAGScheduler: Broadcasting large task binary with size 27.2 MiB\n",
      "23/09/13 09:47:46 WARN DAGScheduler: Broadcasting large task binary with size 27.4 MiB\n",
      "23/09/13 09:47:47 WARN DAGScheduler: Broadcasting large task binary with size 27.5 MiB\n",
      "23/09/13 09:47:48 WARN DAGScheduler: Broadcasting large task binary with size 27.6 MiB\n",
      "23/09/13 09:47:49 WARN DAGScheduler: Broadcasting large task binary with size 27.8 MiB\n",
      "23/09/13 09:47:50 WARN DAGScheduler: Broadcasting large task binary with size 27.9 MiB\n",
      "23/09/13 09:48:01 WARN DAGScheduler: Broadcasting large task binary with size 1038.0 KiB\n",
      "23/09/13 09:48:01 WARN DAGScheduler: Broadcasting large task binary with size 1037.6 KiB\n",
      "23/09/13 09:48:01 WARN DAGScheduler: Broadcasting large task binary with size 1038.1 KiB\n",
      "23/09/13 09:48:01 WARN DAGScheduler: Broadcasting large task binary with size 1038.6 KiB\n",
      "23/09/13 09:48:01 WARN DAGScheduler: Broadcasting large task binary with size 1039.8 KiB\n",
      "23/09/13 09:48:01 WARN DAGScheduler: Broadcasting large task binary with size 1042.1 KiB\n",
      "23/09/13 09:48:01 WARN DAGScheduler: Broadcasting large task binary with size 1046.6 KiB\n",
      "23/09/13 09:48:01 WARN DAGScheduler: Broadcasting large task binary with size 1055.8 KiB\n",
      "23/09/13 09:48:01 WARN DAGScheduler: Broadcasting large task binary with size 1072.5 KiB\n",
      "23/09/13 09:48:01 WARN DAGScheduler: Broadcasting large task binary with size 1101.8 KiB\n",
      "23/09/13 09:48:02 WARN DAGScheduler: Broadcasting large task binary with size 1146.8 KiB\n",
      "23/09/13 09:48:02 WARN DAGScheduler: Broadcasting large task binary with size 1137.8 KiB\n",
      "23/09/13 09:48:02 WARN DAGScheduler: Broadcasting large task binary with size 1138.3 KiB\n",
      "23/09/13 09:48:02 WARN DAGScheduler: Broadcasting large task binary with size 1138.9 KiB\n",
      "23/09/13 09:48:02 WARN DAGScheduler: Broadcasting large task binary with size 1140.0 KiB\n",
      "23/09/13 09:48:02 WARN DAGScheduler: Broadcasting large task binary with size 1142.3 KiB\n",
      "23/09/13 09:48:02 WARN DAGScheduler: Broadcasting large task binary with size 1146.5 KiB\n",
      "23/09/13 09:48:02 WARN DAGScheduler: Broadcasting large task binary with size 1154.9 KiB\n",
      "23/09/13 09:48:02 WARN DAGScheduler: Broadcasting large task binary with size 1170.2 KiB\n",
      "23/09/13 09:48:02 WARN DAGScheduler: Broadcasting large task binary with size 1198.6 KiB\n",
      "23/09/13 09:48:02 WARN DAGScheduler: Broadcasting large task binary with size 1247.8 KiB\n",
      "23/09/13 09:48:03 WARN DAGScheduler: Broadcasting large task binary with size 1249.4 KiB\n",
      "23/09/13 09:48:03 WARN DAGScheduler: Broadcasting large task binary with size 1249.9 KiB\n",
      "23/09/13 09:48:03 WARN DAGScheduler: Broadcasting large task binary with size 1250.4 KiB\n",
      "23/09/13 09:48:03 WARN DAGScheduler: Broadcasting large task binary with size 1251.6 KiB\n",
      "23/09/13 09:48:03 WARN DAGScheduler: Broadcasting large task binary with size 1253.9 KiB\n",
      "23/09/13 09:48:03 WARN DAGScheduler: Broadcasting large task binary with size 1258.5 KiB\n",
      "23/09/13 09:48:03 WARN DAGScheduler: Broadcasting large task binary with size 1267.7 KiB\n",
      "23/09/13 09:48:03 WARN DAGScheduler: Broadcasting large task binary with size 1285.0 KiB\n",
      "23/09/13 09:48:03 WARN DAGScheduler: Broadcasting large task binary with size 1313.9 KiB\n",
      "23/09/13 09:48:03 WARN DAGScheduler: Broadcasting large task binary with size 1361.5 KiB\n",
      "23/09/13 09:48:03 WARN DAGScheduler: Broadcasting large task binary with size 1354.6 KiB\n",
      "23/09/13 09:48:03 WARN DAGScheduler: Broadcasting large task binary with size 1355.1 KiB\n",
      "23/09/13 09:48:04 WARN DAGScheduler: Broadcasting large task binary with size 1355.7 KiB\n",
      "23/09/13 09:48:04 WARN DAGScheduler: Broadcasting large task binary with size 1356.8 KiB\n",
      "23/09/13 09:48:04 WARN DAGScheduler: Broadcasting large task binary with size 1359.0 KiB\n",
      "23/09/13 09:48:04 WARN DAGScheduler: Broadcasting large task binary with size 1363.0 KiB\n",
      "23/09/13 09:48:04 WARN DAGScheduler: Broadcasting large task binary with size 1370.8 KiB\n",
      "23/09/13 09:48:04 WARN DAGScheduler: Broadcasting large task binary with size 1384.9 KiB\n",
      "23/09/13 09:48:04 WARN DAGScheduler: Broadcasting large task binary with size 1410.0 KiB\n",
      "23/09/13 09:48:04 WARN DAGScheduler: Broadcasting large task binary with size 1451.8 KiB\n",
      "23/09/13 09:48:04 WARN DAGScheduler: Broadcasting large task binary with size 1449.5 KiB\n",
      "23/09/13 09:48:04 WARN DAGScheduler: Broadcasting large task binary with size 1450.0 KiB\n",
      "23/09/13 09:48:04 WARN DAGScheduler: Broadcasting large task binary with size 1450.6 KiB\n",
      "23/09/13 09:48:05 WARN DAGScheduler: Broadcasting large task binary with size 1451.7 KiB\n",
      "23/09/13 09:48:05 WARN DAGScheduler: Broadcasting large task binary with size 1454.0 KiB\n",
      "23/09/13 09:48:05 WARN DAGScheduler: Broadcasting large task binary with size 1458.6 KiB\n",
      "23/09/13 09:48:05 WARN DAGScheduler: Broadcasting large task binary with size 1467.7 KiB\n",
      "23/09/13 09:48:05 WARN DAGScheduler: Broadcasting large task binary with size 1484.4 KiB\n",
      "23/09/13 09:48:05 WARN DAGScheduler: Broadcasting large task binary with size 1512.8 KiB\n",
      "23/09/13 09:48:05 WARN DAGScheduler: Broadcasting large task binary with size 1561.2 KiB\n",
      "23/09/13 09:48:05 WARN DAGScheduler: Broadcasting large task binary with size 1557.8 KiB\n",
      "23/09/13 09:48:05 WARN DAGScheduler: Broadcasting large task binary with size 1558.3 KiB\n",
      "23/09/13 09:48:05 WARN DAGScheduler: Broadcasting large task binary with size 1558.8 KiB\n",
      "23/09/13 09:48:05 WARN DAGScheduler: Broadcasting large task binary with size 1560.0 KiB\n",
      "23/09/13 09:48:06 WARN DAGScheduler: Broadcasting large task binary with size 1562.3 KiB\n",
      "23/09/13 09:48:06 WARN DAGScheduler: Broadcasting large task binary with size 1566.8 KiB\n",
      "23/09/13 09:48:06 WARN DAGScheduler: Broadcasting large task binary with size 1575.2 KiB\n",
      "23/09/13 09:48:06 WARN DAGScheduler: Broadcasting large task binary with size 1591.1 KiB\n",
      "23/09/13 09:48:06 WARN DAGScheduler: Broadcasting large task binary with size 1620.6 KiB\n",
      "23/09/13 09:48:06 WARN DAGScheduler: Broadcasting large task binary with size 1672.1 KiB\n",
      "23/09/13 09:48:06 WARN DAGScheduler: Broadcasting large task binary with size 1671.3 KiB\n",
      "23/09/13 09:48:06 WARN DAGScheduler: Broadcasting large task binary with size 1671.8 KiB\n",
      "23/09/13 09:48:06 WARN DAGScheduler: Broadcasting large task binary with size 1672.4 KiB\n",
      "23/09/13 09:48:07 WARN DAGScheduler: Broadcasting large task binary with size 1673.5 KiB\n",
      "23/09/13 09:48:07 WARN DAGScheduler: Broadcasting large task binary with size 1675.8 KiB\n",
      "23/09/13 09:48:07 WARN DAGScheduler: Broadcasting large task binary with size 1680.4 KiB\n",
      "23/09/13 09:48:07 WARN DAGScheduler: Broadcasting large task binary with size 1689.3 KiB\n",
      "23/09/13 09:48:07 WARN DAGScheduler: Broadcasting large task binary with size 1705.9 KiB\n",
      "23/09/13 09:48:07 WARN DAGScheduler: Broadcasting large task binary with size 1733.6 KiB\n",
      "23/09/13 09:48:07 WARN DAGScheduler: Broadcasting large task binary with size 1776.5 KiB\n",
      "23/09/13 09:48:07 WARN DAGScheduler: Broadcasting large task binary with size 1770.1 KiB\n",
      "23/09/13 09:48:07 WARN DAGScheduler: Broadcasting large task binary with size 1770.6 KiB\n",
      "23/09/13 09:48:08 WARN DAGScheduler: Broadcasting large task binary with size 1771.2 KiB\n",
      "23/09/13 09:48:08 WARN DAGScheduler: Broadcasting large task binary with size 1772.4 KiB\n",
      "23/09/13 09:48:08 WARN DAGScheduler: Broadcasting large task binary with size 1774.7 KiB\n",
      "23/09/13 09:48:08 WARN DAGScheduler: Broadcasting large task binary with size 1779.2 KiB\n",
      "23/09/13 09:48:08 WARN DAGScheduler: Broadcasting large task binary with size 1788.4 KiB\n",
      "23/09/13 09:48:08 WARN DAGScheduler: Broadcasting large task binary with size 1805.0 KiB\n",
      "23/09/13 09:48:08 WARN DAGScheduler: Broadcasting large task binary with size 1832.5 KiB\n",
      "23/09/13 09:48:08 WARN DAGScheduler: Broadcasting large task binary with size 1877.6 KiB\n",
      "23/09/13 09:48:08 WARN DAGScheduler: Broadcasting large task binary with size 1873.4 KiB\n",
      "23/09/13 09:48:09 WARN DAGScheduler: Broadcasting large task binary with size 1873.9 KiB\n",
      "23/09/13 09:48:09 WARN DAGScheduler: Broadcasting large task binary with size 1874.4 KiB\n",
      "23/09/13 09:48:09 WARN DAGScheduler: Broadcasting large task binary with size 1875.6 KiB\n",
      "23/09/13 09:48:09 WARN DAGScheduler: Broadcasting large task binary with size 1877.9 KiB\n",
      "23/09/13 09:48:09 WARN DAGScheduler: Broadcasting large task binary with size 1882.5 KiB\n",
      "23/09/13 09:48:09 WARN DAGScheduler: Broadcasting large task binary with size 1891.6 KiB\n",
      "23/09/13 09:48:09 WARN DAGScheduler: Broadcasting large task binary with size 1908.1 KiB\n",
      "23/09/13 09:48:09 WARN DAGScheduler: Broadcasting large task binary with size 1933.8 KiB\n",
      "23/09/13 09:48:09 WARN DAGScheduler: Broadcasting large task binary with size 1973.1 KiB\n",
      "23/09/13 09:48:09 WARN DAGScheduler: Broadcasting large task binary with size 1966.7 KiB\n",
      "23/09/13 09:48:10 WARN DAGScheduler: Broadcasting large task binary with size 1967.2 KiB\n",
      "23/09/13 09:48:10 WARN DAGScheduler: Broadcasting large task binary with size 1967.8 KiB\n",
      "23/09/13 09:48:10 WARN DAGScheduler: Broadcasting large task binary with size 1968.9 KiB\n",
      "23/09/13 09:48:10 WARN DAGScheduler: Broadcasting large task binary with size 1971.2 KiB\n",
      "23/09/13 09:48:10 WARN DAGScheduler: Broadcasting large task binary with size 1975.7 KiB\n",
      "23/09/13 09:48:10 WARN DAGScheduler: Broadcasting large task binary with size 1984.8 KiB\n",
      "23/09/13 09:48:10 WARN DAGScheduler: Broadcasting large task binary with size 2000.5 KiB\n",
      "23/09/13 09:48:10 WARN DAGScheduler: Broadcasting large task binary with size 2029.3 KiB\n",
      "23/09/13 09:48:11 WARN DAGScheduler: Broadcasting large task binary with size 2.0 MiB\n",
      "23/09/13 09:48:11 WARN DAGScheduler: Broadcasting large task binary with size 2.0 MiB\n",
      "23/09/13 09:48:11 WARN DAGScheduler: Broadcasting large task binary with size 2.0 MiB\n",
      "23/09/13 09:48:11 WARN DAGScheduler: Broadcasting large task binary with size 2.0 MiB\n",
      "23/09/13 09:48:11 WARN DAGScheduler: Broadcasting large task binary with size 2.0 MiB\n",
      "23/09/13 09:48:11 WARN DAGScheduler: Broadcasting large task binary with size 2.0 MiB\n",
      "23/09/13 09:48:11 WARN DAGScheduler: Broadcasting large task binary with size 2.0 MiB\n",
      "23/09/13 09:48:11 WARN DAGScheduler: Broadcasting large task binary with size 2.0 MiB\n",
      "23/09/13 09:48:11 WARN DAGScheduler: Broadcasting large task binary with size 2.1 MiB\n",
      "23/09/13 09:48:11 WARN DAGScheduler: Broadcasting large task binary with size 2.1 MiB\n",
      "23/09/13 09:48:12 WARN DAGScheduler: Broadcasting large task binary with size 2.1 MiB\n",
      "23/09/13 09:48:12 WARN DAGScheduler: Broadcasting large task binary with size 2.1 MiB\n",
      "23/09/13 09:48:12 WARN DAGScheduler: Broadcasting large task binary with size 2.1 MiB\n",
      "23/09/13 09:48:12 WARN DAGScheduler: Broadcasting large task binary with size 2.1 MiB\n",
      "23/09/13 09:48:13 WARN DAGScheduler: Broadcasting large task binary with size 2.1 MiB\n",
      "23/09/13 09:48:13 WARN DAGScheduler: Broadcasting large task binary with size 2.1 MiB\n",
      "23/09/13 09:48:13 WARN DAGScheduler: Broadcasting large task binary with size 2.1 MiB\n",
      "23/09/13 09:48:13 WARN DAGScheduler: Broadcasting large task binary with size 2.1 MiB\n",
      "23/09/13 09:48:13 WARN DAGScheduler: Broadcasting large task binary with size 2.1 MiB\n",
      "23/09/13 09:48:13 WARN DAGScheduler: Broadcasting large task binary with size 2.2 MiB\n",
      "23/09/13 09:48:13 WARN DAGScheduler: Broadcasting large task binary with size 2.2 MiB\n",
      "23/09/13 09:48:13 WARN DAGScheduler: Broadcasting large task binary with size 2.2 MiB\n",
      "23/09/13 09:48:14 WARN DAGScheduler: Broadcasting large task binary with size 2.2 MiB\n",
      "23/09/13 09:48:14 WARN DAGScheduler: Broadcasting large task binary with size 2.2 MiB\n",
      "23/09/13 09:48:14 WARN DAGScheduler: Broadcasting large task binary with size 2.2 MiB\n",
      "23/09/13 09:48:14 WARN DAGScheduler: Broadcasting large task binary with size 2.2 MiB\n",
      "23/09/13 09:48:14 WARN DAGScheduler: Broadcasting large task binary with size 2.2 MiB\n",
      "23/09/13 09:48:14 WARN DAGScheduler: Broadcasting large task binary with size 2.2 MiB\n",
      "23/09/13 09:48:14 WARN DAGScheduler: Broadcasting large task binary with size 2.2 MiB\n",
      "23/09/13 09:48:14 WARN DAGScheduler: Broadcasting large task binary with size 2.3 MiB\n",
      "23/09/13 09:48:14 WARN DAGScheduler: Broadcasting large task binary with size 2.3 MiB\n",
      "23/09/13 09:48:14 WARN DAGScheduler: Broadcasting large task binary with size 2.3 MiB\n",
      "23/09/13 09:48:15 WARN DAGScheduler: Broadcasting large task binary with size 2.3 MiB\n",
      "23/09/13 09:48:15 WARN DAGScheduler: Broadcasting large task binary with size 2.3 MiB\n",
      "23/09/13 09:48:15 WARN DAGScheduler: Broadcasting large task binary with size 2.3 MiB\n",
      "23/09/13 09:48:15 WARN DAGScheduler: Broadcasting large task binary with size 2.3 MiB\n",
      "23/09/13 09:48:15 WARN DAGScheduler: Broadcasting large task binary with size 2.3 MiB\n",
      "23/09/13 09:48:15 WARN DAGScheduler: Broadcasting large task binary with size 2.3 MiB\n",
      "23/09/13 09:48:15 WARN DAGScheduler: Broadcasting large task binary with size 2.3 MiB\n",
      "23/09/13 09:48:15 WARN DAGScheduler: Broadcasting large task binary with size 2.4 MiB\n",
      "23/09/13 09:48:15 WARN DAGScheduler: Broadcasting large task binary with size 2.4 MiB\n",
      "23/09/13 09:48:16 WARN DAGScheduler: Broadcasting large task binary with size 2.4 MiB\n",
      "23/09/13 09:48:16 WARN DAGScheduler: Broadcasting large task binary with size 2.4 MiB\n",
      "23/09/13 09:48:16 WARN DAGScheduler: Broadcasting large task binary with size 2.4 MiB\n",
      "23/09/13 09:48:16 WARN DAGScheduler: Broadcasting large task binary with size 2.4 MiB\n",
      "23/09/13 09:48:16 WARN DAGScheduler: Broadcasting large task binary with size 2.4 MiB\n",
      "23/09/13 09:48:16 WARN DAGScheduler: Broadcasting large task binary with size 2.4 MiB\n",
      "23/09/13 09:48:16 WARN DAGScheduler: Broadcasting large task binary with size 2.4 MiB\n",
      "23/09/13 09:48:16 WARN DAGScheduler: Broadcasting large task binary with size 2.4 MiB\n",
      "23/09/13 09:48:17 WARN DAGScheduler: Broadcasting large task binary with size 2.4 MiB\n",
      "23/09/13 09:48:17 WARN DAGScheduler: Broadcasting large task binary with size 2.5 MiB\n",
      "23/09/13 09:48:17 WARN DAGScheduler: Broadcasting large task binary with size 2.5 MiB\n",
      "23/09/13 09:48:17 WARN DAGScheduler: Broadcasting large task binary with size 2.5 MiB\n",
      "23/09/13 09:48:17 WARN DAGScheduler: Broadcasting large task binary with size 2.5 MiB\n",
      "23/09/13 09:48:17 WARN DAGScheduler: Broadcasting large task binary with size 2.5 MiB\n",
      "23/09/13 09:48:17 WARN DAGScheduler: Broadcasting large task binary with size 2.5 MiB\n",
      "23/09/13 09:48:17 WARN DAGScheduler: Broadcasting large task binary with size 2.5 MiB\n",
      "23/09/13 09:48:18 WARN DAGScheduler: Broadcasting large task binary with size 2.5 MiB\n",
      "23/09/13 09:48:18 WARN DAGScheduler: Broadcasting large task binary with size 2.5 MiB\n",
      "23/09/13 09:48:18 WARN DAGScheduler: Broadcasting large task binary with size 2.5 MiB\n",
      "23/09/13 09:48:18 WARN DAGScheduler: Broadcasting large task binary with size 2.6 MiB\n",
      "23/09/13 09:48:18 WARN DAGScheduler: Broadcasting large task binary with size 2.6 MiB\n",
      "23/09/13 09:48:18 WARN DAGScheduler: Broadcasting large task binary with size 2.6 MiB\n",
      "23/09/13 09:48:18 WARN DAGScheduler: Broadcasting large task binary with size 2.6 MiB\n",
      "23/09/13 09:48:18 WARN DAGScheduler: Broadcasting large task binary with size 2.6 MiB\n",
      "23/09/13 09:48:19 WARN DAGScheduler: Broadcasting large task binary with size 2.6 MiB\n",
      "23/09/13 09:48:19 WARN DAGScheduler: Broadcasting large task binary with size 2.6 MiB\n",
      "23/09/13 09:48:19 WARN DAGScheduler: Broadcasting large task binary with size 2.6 MiB\n",
      "23/09/13 09:48:19 WARN DAGScheduler: Broadcasting large task binary with size 2.6 MiB\n",
      "23/09/13 09:48:19 WARN DAGScheduler: Broadcasting large task binary with size 2.6 MiB\n",
      "23/09/13 09:48:20 WARN DAGScheduler: Broadcasting large task binary with size 2.7 MiB\n",
      "23/09/13 09:48:20 WARN DAGScheduler: Broadcasting large task binary with size 2.7 MiB\n",
      "23/09/13 09:48:20 WARN DAGScheduler: Broadcasting large task binary with size 2.7 MiB\n",
      "23/09/13 09:48:20 WARN DAGScheduler: Broadcasting large task binary with size 2.7 MiB\n",
      "23/09/13 09:48:20 WARN DAGScheduler: Broadcasting large task binary with size 2.7 MiB\n",
      "23/09/13 09:48:20 WARN DAGScheduler: Broadcasting large task binary with size 2.7 MiB\n",
      "23/09/13 09:48:20 WARN DAGScheduler: Broadcasting large task binary with size 2.7 MiB\n",
      "23/09/13 09:48:21 WARN DAGScheduler: Broadcasting large task binary with size 2.7 MiB\n",
      "23/09/13 09:48:21 WARN DAGScheduler: Broadcasting large task binary with size 2.7 MiB\n",
      "23/09/13 09:48:21 WARN DAGScheduler: Broadcasting large task binary with size 2.7 MiB\n",
      "23/09/13 09:48:21 WARN DAGScheduler: Broadcasting large task binary with size 2.8 MiB\n",
      "23/09/13 09:48:21 WARN DAGScheduler: Broadcasting large task binary with size 2.8 MiB\n",
      "23/09/13 09:48:21 WARN DAGScheduler: Broadcasting large task binary with size 2.8 MiB\n",
      "23/09/13 09:48:21 WARN DAGScheduler: Broadcasting large task binary with size 2.8 MiB\n",
      "23/09/13 09:48:21 WARN DAGScheduler: Broadcasting large task binary with size 2.8 MiB\n",
      "23/09/13 09:48:22 WARN DAGScheduler: Broadcasting large task binary with size 2.8 MiB\n",
      "23/09/13 09:48:22 WARN DAGScheduler: Broadcasting large task binary with size 2.8 MiB\n",
      "23/09/13 09:48:22 WARN DAGScheduler: Broadcasting large task binary with size 2.8 MiB\n",
      "23/09/13 09:48:22 WARN DAGScheduler: Broadcasting large task binary with size 2.8 MiB\n",
      "23/09/13 09:48:22 WARN DAGScheduler: Broadcasting large task binary with size 2.8 MiB\n",
      "23/09/13 09:48:22 WARN DAGScheduler: Broadcasting large task binary with size 2.9 MiB\n",
      "23/09/13 09:48:22 WARN DAGScheduler: Broadcasting large task binary with size 2.9 MiB\n",
      "23/09/13 09:48:23 WARN DAGScheduler: Broadcasting large task binary with size 2.9 MiB\n",
      "23/09/13 09:48:23 WARN DAGScheduler: Broadcasting large task binary with size 2.9 MiB\n",
      "23/09/13 09:48:23 WARN DAGScheduler: Broadcasting large task binary with size 2.9 MiB\n",
      "23/09/13 09:48:23 WARN DAGScheduler: Broadcasting large task binary with size 2.9 MiB\n",
      "23/09/13 09:48:23 WARN DAGScheduler: Broadcasting large task binary with size 2.9 MiB\n",
      "23/09/13 09:48:23 WARN DAGScheduler: Broadcasting large task binary with size 2.9 MiB\n",
      "23/09/13 09:48:23 WARN DAGScheduler: Broadcasting large task binary with size 2.9 MiB\n",
      "23/09/13 09:48:23 WARN DAGScheduler: Broadcasting large task binary with size 2.9 MiB\n",
      "23/09/13 09:48:24 WARN DAGScheduler: Broadcasting large task binary with size 3.0 MiB\n",
      "23/09/13 09:48:24 WARN DAGScheduler: Broadcasting large task binary with size 3.0 MiB\n",
      "23/09/13 09:48:24 WARN DAGScheduler: Broadcasting large task binary with size 3.0 MiB\n",
      "23/09/13 09:48:24 WARN DAGScheduler: Broadcasting large task binary with size 3.0 MiB\n",
      "23/09/13 09:48:24 WARN DAGScheduler: Broadcasting large task binary with size 3.0 MiB\n",
      "23/09/13 09:48:24 WARN DAGScheduler: Broadcasting large task binary with size 3.0 MiB\n",
      "23/09/13 09:48:24 WARN DAGScheduler: Broadcasting large task binary with size 3.0 MiB\n",
      "23/09/13 09:48:24 WARN DAGScheduler: Broadcasting large task binary with size 3.0 MiB\n",
      "23/09/13 09:48:25 WARN DAGScheduler: Broadcasting large task binary with size 3.0 MiB\n",
      "23/09/13 09:48:25 WARN DAGScheduler: Broadcasting large task binary with size 3.0 MiB\n",
      "23/09/13 09:48:25 WARN DAGScheduler: Broadcasting large task binary with size 3.1 MiB\n",
      "23/09/13 09:48:25 WARN DAGScheduler: Broadcasting large task binary with size 3.1 MiB\n",
      "23/09/13 09:48:25 WARN DAGScheduler: Broadcasting large task binary with size 3.1 MiB\n",
      "23/09/13 09:48:25 WARN DAGScheduler: Broadcasting large task binary with size 3.1 MiB\n",
      "23/09/13 09:48:25 WARN DAGScheduler: Broadcasting large task binary with size 3.1 MiB\n",
      "23/09/13 09:48:26 WARN DAGScheduler: Broadcasting large task binary with size 3.1 MiB\n",
      "23/09/13 09:48:26 WARN DAGScheduler: Broadcasting large task binary with size 3.1 MiB\n",
      "23/09/13 09:48:26 WARN DAGScheduler: Broadcasting large task binary with size 3.1 MiB\n",
      "23/09/13 09:48:26 WARN DAGScheduler: Broadcasting large task binary with size 3.1 MiB\n",
      "23/09/13 09:48:26 WARN DAGScheduler: Broadcasting large task binary with size 3.1 MiB\n",
      "23/09/13 09:48:26 WARN DAGScheduler: Broadcasting large task binary with size 3.1 MiB\n",
      "23/09/13 09:48:27 WARN DAGScheduler: Broadcasting large task binary with size 3.1 MiB\n",
      "23/09/13 09:48:27 WARN DAGScheduler: Broadcasting large task binary with size 3.1 MiB\n",
      "23/09/13 09:48:27 WARN DAGScheduler: Broadcasting large task binary with size 3.1 MiB\n",
      "23/09/13 09:48:27 WARN DAGScheduler: Broadcasting large task binary with size 3.1 MiB\n",
      "23/09/13 09:48:27 WARN DAGScheduler: Broadcasting large task binary with size 3.1 MiB\n",
      "23/09/13 09:48:27 WARN DAGScheduler: Broadcasting large task binary with size 3.1 MiB\n",
      "23/09/13 09:48:27 WARN DAGScheduler: Broadcasting large task binary with size 3.1 MiB\n",
      "23/09/13 09:48:27 WARN DAGScheduler: Broadcasting large task binary with size 3.2 MiB\n",
      "23/09/13 09:48:28 WARN DAGScheduler: Broadcasting large task binary with size 3.2 MiB\n",
      "23/09/13 09:48:28 WARN DAGScheduler: Broadcasting large task binary with size 3.2 MiB\n",
      "23/09/13 09:48:28 WARN DAGScheduler: Broadcasting large task binary with size 3.2 MiB\n",
      "23/09/13 09:48:28 WARN DAGScheduler: Broadcasting large task binary with size 3.2 MiB\n",
      "23/09/13 09:48:28 WARN DAGScheduler: Broadcasting large task binary with size 3.2 MiB\n",
      "23/09/13 09:48:28 WARN DAGScheduler: Broadcasting large task binary with size 3.2 MiB\n",
      "23/09/13 09:48:28 WARN DAGScheduler: Broadcasting large task binary with size 3.2 MiB\n",
      "23/09/13 09:48:29 WARN DAGScheduler: Broadcasting large task binary with size 3.2 MiB\n",
      "23/09/13 09:48:29 WARN DAGScheduler: Broadcasting large task binary with size 3.2 MiB\n",
      "23/09/13 09:48:29 WARN DAGScheduler: Broadcasting large task binary with size 3.2 MiB\n",
      "23/09/13 09:48:29 WARN DAGScheduler: Broadcasting large task binary with size 3.3 MiB\n",
      "23/09/13 09:48:29 WARN DAGScheduler: Broadcasting large task binary with size 3.3 MiB\n",
      "23/09/13 09:48:30 WARN DAGScheduler: Broadcasting large task binary with size 3.3 MiB\n",
      "23/09/13 09:48:30 WARN DAGScheduler: Broadcasting large task binary with size 3.3 MiB\n",
      "23/09/13 09:48:30 WARN DAGScheduler: Broadcasting large task binary with size 3.3 MiB\n",
      "23/09/13 09:48:30 WARN DAGScheduler: Broadcasting large task binary with size 3.3 MiB\n",
      "23/09/13 09:48:30 WARN DAGScheduler: Broadcasting large task binary with size 3.3 MiB\n",
      "23/09/13 09:48:31 WARN DAGScheduler: Broadcasting large task binary with size 3.3 MiB\n",
      "23/09/13 09:48:31 WARN DAGScheduler: Broadcasting large task binary with size 3.3 MiB\n",
      "23/09/13 09:48:31 WARN DAGScheduler: Broadcasting large task binary with size 3.3 MiB\n",
      "23/09/13 09:48:31 WARN DAGScheduler: Broadcasting large task binary with size 3.4 MiB\n",
      "23/09/13 09:48:31 WARN DAGScheduler: Broadcasting large task binary with size 3.4 MiB\n",
      "23/09/13 09:48:31 WARN DAGScheduler: Broadcasting large task binary with size 3.4 MiB\n",
      "23/09/13 09:48:31 WARN DAGScheduler: Broadcasting large task binary with size 3.4 MiB\n",
      "23/09/13 09:48:32 WARN DAGScheduler: Broadcasting large task binary with size 3.4 MiB\n",
      "23/09/13 09:48:32 WARN DAGScheduler: Broadcasting large task binary with size 3.4 MiB\n",
      "23/09/13 09:48:32 WARN DAGScheduler: Broadcasting large task binary with size 3.4 MiB\n",
      "23/09/13 09:48:32 WARN DAGScheduler: Broadcasting large task binary with size 3.4 MiB\n",
      "23/09/13 09:48:32 WARN DAGScheduler: Broadcasting large task binary with size 3.4 MiB\n",
      "23/09/13 09:48:32 WARN DAGScheduler: Broadcasting large task binary with size 3.4 MiB\n",
      "23/09/13 09:48:33 WARN DAGScheduler: Broadcasting large task binary with size 3.4 MiB\n",
      "23/09/13 09:48:33 WARN DAGScheduler: Broadcasting large task binary with size 3.5 MiB\n",
      "23/09/13 09:48:33 WARN DAGScheduler: Broadcasting large task binary with size 3.5 MiB\n",
      "23/09/13 09:48:33 WARN DAGScheduler: Broadcasting large task binary with size 3.5 MiB\n",
      "23/09/13 09:48:33 WARN DAGScheduler: Broadcasting large task binary with size 3.5 MiB\n",
      "23/09/13 09:48:33 WARN DAGScheduler: Broadcasting large task binary with size 3.5 MiB\n",
      "23/09/13 09:48:33 WARN DAGScheduler: Broadcasting large task binary with size 3.5 MiB\n",
      "23/09/13 09:48:34 WARN DAGScheduler: Broadcasting large task binary with size 3.5 MiB\n",
      "23/09/13 09:48:34 WARN DAGScheduler: Broadcasting large task binary with size 3.5 MiB\n",
      "23/09/13 09:48:34 WARN DAGScheduler: Broadcasting large task binary with size 3.5 MiB\n",
      "23/09/13 09:48:34 WARN DAGScheduler: Broadcasting large task binary with size 3.5 MiB\n",
      "23/09/13 09:48:34 WARN DAGScheduler: Broadcasting large task binary with size 3.6 MiB\n",
      "23/09/13 09:48:34 WARN DAGScheduler: Broadcasting large task binary with size 3.6 MiB\n",
      "23/09/13 09:48:35 WARN DAGScheduler: Broadcasting large task binary with size 3.6 MiB\n",
      "23/09/13 09:48:35 WARN DAGScheduler: Broadcasting large task binary with size 3.6 MiB\n",
      "23/09/13 09:48:35 WARN DAGScheduler: Broadcasting large task binary with size 3.6 MiB\n",
      "23/09/13 09:48:35 WARN DAGScheduler: Broadcasting large task binary with size 3.6 MiB\n",
      "23/09/13 09:48:35 WARN DAGScheduler: Broadcasting large task binary with size 3.6 MiB\n",
      "23/09/13 09:48:35 WARN DAGScheduler: Broadcasting large task binary with size 3.6 MiB\n",
      "23/09/13 09:48:35 WARN DAGScheduler: Broadcasting large task binary with size 3.6 MiB\n",
      "23/09/13 09:48:36 WARN DAGScheduler: Broadcasting large task binary with size 3.6 MiB\n",
      "23/09/13 09:48:36 WARN DAGScheduler: Broadcasting large task binary with size 3.7 MiB\n",
      "23/09/13 09:48:36 WARN DAGScheduler: Broadcasting large task binary with size 3.7 MiB\n",
      "23/09/13 09:48:36 WARN DAGScheduler: Broadcasting large task binary with size 3.7 MiB\n",
      "23/09/13 09:48:36 WARN DAGScheduler: Broadcasting large task binary with size 3.7 MiB\n",
      "23/09/13 09:48:36 WARN DAGScheduler: Broadcasting large task binary with size 3.7 MiB\n",
      "23/09/13 09:48:37 WARN DAGScheduler: Broadcasting large task binary with size 3.7 MiB\n",
      "23/09/13 09:48:37 WARN DAGScheduler: Broadcasting large task binary with size 3.7 MiB\n",
      "23/09/13 09:48:37 WARN DAGScheduler: Broadcasting large task binary with size 3.7 MiB\n",
      "23/09/13 09:48:37 WARN DAGScheduler: Broadcasting large task binary with size 3.7 MiB\n",
      "23/09/13 09:48:37 WARN DAGScheduler: Broadcasting large task binary with size 3.7 MiB\n",
      "23/09/13 09:48:37 WARN DAGScheduler: Broadcasting large task binary with size 3.7 MiB\n",
      "23/09/13 09:48:38 WARN DAGScheduler: Broadcasting large task binary with size 3.7 MiB\n",
      "23/09/13 09:48:38 WARN DAGScheduler: Broadcasting large task binary with size 3.7 MiB\n",
      "23/09/13 09:48:38 WARN DAGScheduler: Broadcasting large task binary with size 3.7 MiB\n",
      "23/09/13 09:48:38 WARN DAGScheduler: Broadcasting large task binary with size 3.7 MiB\n",
      "23/09/13 09:48:38 WARN DAGScheduler: Broadcasting large task binary with size 3.7 MiB\n",
      "23/09/13 09:48:38 WARN DAGScheduler: Broadcasting large task binary with size 3.7 MiB\n",
      "23/09/13 09:48:39 WARN DAGScheduler: Broadcasting large task binary with size 3.8 MiB\n",
      "23/09/13 09:48:39 WARN DAGScheduler: Broadcasting large task binary with size 3.8 MiB\n",
      "23/09/13 09:48:39 WARN DAGScheduler: Broadcasting large task binary with size 3.8 MiB\n",
      "23/09/13 09:48:39 WARN DAGScheduler: Broadcasting large task binary with size 3.8 MiB\n",
      "23/09/13 09:48:39 WARN DAGScheduler: Broadcasting large task binary with size 3.8 MiB\n",
      "23/09/13 09:48:39 WARN DAGScheduler: Broadcasting large task binary with size 3.8 MiB\n",
      "23/09/13 09:48:40 WARN DAGScheduler: Broadcasting large task binary with size 3.8 MiB\n",
      "23/09/13 09:48:40 WARN DAGScheduler: Broadcasting large task binary with size 3.8 MiB\n",
      "23/09/13 09:48:40 WARN DAGScheduler: Broadcasting large task binary with size 3.8 MiB\n",
      "23/09/13 09:48:40 WARN DAGScheduler: Broadcasting large task binary with size 3.8 MiB\n",
      "23/09/13 09:48:40 WARN DAGScheduler: Broadcasting large task binary with size 3.8 MiB\n",
      "23/09/13 09:48:40 WARN DAGScheduler: Broadcasting large task binary with size 3.9 MiB\n",
      "23/09/13 09:48:40 WARN DAGScheduler: Broadcasting large task binary with size 3.9 MiB\n",
      "23/09/13 09:48:41 WARN DAGScheduler: Broadcasting large task binary with size 3.9 MiB\n",
      "23/09/13 09:48:41 WARN DAGScheduler: Broadcasting large task binary with size 3.9 MiB\n",
      "23/09/13 09:48:41 WARN DAGScheduler: Broadcasting large task binary with size 3.9 MiB\n",
      "23/09/13 09:48:41 WARN DAGScheduler: Broadcasting large task binary with size 3.9 MiB\n",
      "23/09/13 09:48:41 WARN DAGScheduler: Broadcasting large task binary with size 3.9 MiB\n",
      "23/09/13 09:48:42 WARN DAGScheduler: Broadcasting large task binary with size 3.9 MiB\n",
      "23/09/13 09:48:42 WARN DAGScheduler: Broadcasting large task binary with size 3.9 MiB\n",
      "23/09/13 09:48:42 WARN DAGScheduler: Broadcasting large task binary with size 3.9 MiB\n",
      "23/09/13 09:48:42 WARN DAGScheduler: Broadcasting large task binary with size 4.0 MiB\n",
      "23/09/13 09:48:42 WARN DAGScheduler: Broadcasting large task binary with size 4.0 MiB\n",
      "23/09/13 09:48:42 WARN DAGScheduler: Broadcasting large task binary with size 4.0 MiB\n",
      "23/09/13 09:48:44 WARN DAGScheduler: Broadcasting large task binary with size 1138.3 KiB\n",
      "23/09/13 09:48:45 WARN DAGScheduler: Broadcasting large task binary with size 1423.1 KiB\n",
      "23/09/13 09:48:45 WARN DAGScheduler: Broadcasting large task binary with size 1723.6 KiB\n",
      "23/09/13 09:48:45 WARN DAGScheduler: Broadcasting large task binary with size 2024.4 KiB\n",
      "23/09/13 09:48:46 WARN DAGScheduler: Broadcasting large task binary with size 2.3 MiB\n",
      "23/09/13 09:48:46 WARN DAGScheduler: Broadcasting large task binary with size 2.5 MiB\n",
      "23/09/13 09:48:46 WARN DAGScheduler: Broadcasting large task binary with size 1732.6 KiB\n",
      "23/09/13 09:48:46 WARN DAGScheduler: Broadcasting large task binary with size 1733.0 KiB\n",
      "23/09/13 09:48:46 WARN DAGScheduler: Broadcasting large task binary with size 1733.6 KiB\n",
      "23/09/13 09:48:47 WARN DAGScheduler: Broadcasting large task binary with size 1734.8 KiB\n",
      "23/09/13 09:48:47 WARN DAGScheduler: Broadcasting large task binary with size 1737.1 KiB\n",
      "23/09/13 09:48:47 WARN DAGScheduler: Broadcasting large task binary with size 1741.6 KiB\n",
      "23/09/13 09:48:47 WARN DAGScheduler: Broadcasting large task binary with size 1750.2 KiB\n",
      "23/09/13 09:48:47 WARN DAGScheduler: Broadcasting large task binary with size 1766.7 KiB\n",
      "23/09/13 09:48:47 WARN DAGScheduler: Broadcasting large task binary with size 1794.8 KiB\n",
      "23/09/13 09:48:47 WARN DAGScheduler: Broadcasting large task binary with size 1838.6 KiB\n",
      "23/09/13 09:48:47 WARN DAGScheduler: Broadcasting large task binary with size 1905.6 KiB\n",
      "23/09/13 09:48:47 WARN DAGScheduler: Broadcasting large task binary with size 1994.9 KiB\n",
      "23/09/13 09:48:48 WARN DAGScheduler: Broadcasting large task binary with size 2.0 MiB\n",
      "23/09/13 09:48:48 WARN DAGScheduler: Broadcasting large task binary with size 2.1 MiB\n",
      "23/09/13 09:48:48 WARN DAGScheduler: Broadcasting large task binary with size 2.3 MiB\n",
      "23/09/13 09:48:48 WARN DAGScheduler: Broadcasting large task binary with size 2.4 MiB\n",
      "23/09/13 09:48:48 WARN DAGScheduler: Broadcasting large task binary with size 2.5 MiB\n",
      "23/09/13 09:48:49 WARN DAGScheduler: Broadcasting large task binary with size 2.6 MiB\n",
      "23/09/13 09:48:49 WARN DAGScheduler: Broadcasting large task binary with size 2.7 MiB\n",
      "23/09/13 09:48:49 WARN DAGScheduler: Broadcasting large task binary with size 2.7 MiB\n",
      "23/09/13 09:48:49 WARN DAGScheduler: Broadcasting large task binary with size 2.4 MiB\n",
      "23/09/13 09:48:49 WARN DAGScheduler: Broadcasting large task binary with size 2.4 MiB\n",
      "23/09/13 09:48:49 WARN DAGScheduler: Broadcasting large task binary with size 2.4 MiB\n",
      "23/09/13 09:48:49 WARN DAGScheduler: Broadcasting large task binary with size 2.4 MiB\n",
      "23/09/13 09:48:50 WARN DAGScheduler: Broadcasting large task binary with size 2.4 MiB\n",
      "23/09/13 09:48:50 WARN DAGScheduler: Broadcasting large task binary with size 2.4 MiB\n",
      "23/09/13 09:48:50 WARN DAGScheduler: Broadcasting large task binary with size 2.4 MiB\n",
      "23/09/13 09:48:50 WARN DAGScheduler: Broadcasting large task binary with size 2.4 MiB\n",
      "23/09/13 09:48:50 WARN DAGScheduler: Broadcasting large task binary with size 2.4 MiB\n",
      "23/09/13 09:48:50 WARN DAGScheduler: Broadcasting large task binary with size 2.5 MiB\n",
      "23/09/13 09:48:50 WARN DAGScheduler: Broadcasting large task binary with size 2.5 MiB\n",
      "23/09/13 09:48:50 WARN DAGScheduler: Broadcasting large task binary with size 2.6 MiB\n",
      "23/09/13 09:48:51 WARN DAGScheduler: Broadcasting large task binary with size 2.7 MiB\n",
      "23/09/13 09:48:51 WARN DAGScheduler: Broadcasting large task binary with size 2.8 MiB\n",
      "23/09/13 09:48:51 WARN DAGScheduler: Broadcasting large task binary with size 2.9 MiB\n",
      "23/09/13 09:48:51 WARN DAGScheduler: Broadcasting large task binary with size 3.1 MiB\n",
      "23/09/13 09:48:51 WARN DAGScheduler: Broadcasting large task binary with size 3.2 MiB\n",
      "23/09/13 09:48:52 WARN DAGScheduler: Broadcasting large task binary with size 3.3 MiB\n",
      "23/09/13 09:48:52 WARN DAGScheduler: Broadcasting large task binary with size 3.4 MiB\n",
      "23/09/13 09:48:52 WARN DAGScheduler: Broadcasting large task binary with size 3.4 MiB\n",
      "23/09/13 09:48:52 WARN DAGScheduler: Broadcasting large task binary with size 3.1 MiB\n",
      "23/09/13 09:48:52 WARN DAGScheduler: Broadcasting large task binary with size 3.1 MiB\n",
      "23/09/13 09:48:53 WARN DAGScheduler: Broadcasting large task binary with size 3.1 MiB\n",
      "23/09/13 09:48:53 WARN DAGScheduler: Broadcasting large task binary with size 3.1 MiB\n",
      "23/09/13 09:48:53 WARN DAGScheduler: Broadcasting large task binary with size 3.1 MiB\n",
      "23/09/13 09:48:53 WARN DAGScheduler: Broadcasting large task binary with size 3.1 MiB\n",
      "23/09/13 09:48:53 WARN DAGScheduler: Broadcasting large task binary with size 3.1 MiB\n",
      "23/09/13 09:48:53 WARN DAGScheduler: Broadcasting large task binary with size 3.1 MiB\n",
      "23/09/13 09:48:53 WARN DAGScheduler: Broadcasting large task binary with size 3.1 MiB\n",
      "23/09/13 09:48:53 WARN DAGScheduler: Broadcasting large task binary with size 3.2 MiB\n",
      "23/09/13 09:48:54 WARN DAGScheduler: Broadcasting large task binary with size 3.2 MiB\n",
      "23/09/13 09:48:54 WARN DAGScheduler: Broadcasting large task binary with size 3.3 MiB\n",
      "23/09/13 09:48:54 WARN DAGScheduler: Broadcasting large task binary with size 3.4 MiB\n",
      "23/09/13 09:48:54 WARN DAGScheduler: Broadcasting large task binary with size 3.5 MiB\n",
      "23/09/13 09:48:54 WARN DAGScheduler: Broadcasting large task binary with size 3.6 MiB\n",
      "23/09/13 09:48:55 WARN DAGScheduler: Broadcasting large task binary with size 3.7 MiB\n",
      "23/09/13 09:48:55 WARN DAGScheduler: Broadcasting large task binary with size 3.9 MiB\n",
      "23/09/13 09:48:55 WARN DAGScheduler: Broadcasting large task binary with size 4.0 MiB\n",
      "23/09/13 09:48:55 WARN DAGScheduler: Broadcasting large task binary with size 4.1 MiB\n",
      "23/09/13 09:48:56 WARN DAGScheduler: Broadcasting large task binary with size 4.1 MiB\n",
      "23/09/13 09:48:56 WARN DAGScheduler: Broadcasting large task binary with size 3.8 MiB\n",
      "23/09/13 09:48:56 WARN DAGScheduler: Broadcasting large task binary with size 3.8 MiB\n",
      "23/09/13 09:48:56 WARN DAGScheduler: Broadcasting large task binary with size 3.8 MiB\n",
      "23/09/13 09:48:56 WARN DAGScheduler: Broadcasting large task binary with size 3.8 MiB\n",
      "23/09/13 09:48:57 WARN DAGScheduler: Broadcasting large task binary with size 3.8 MiB\n",
      "23/09/13 09:48:57 WARN DAGScheduler: Broadcasting large task binary with size 3.8 MiB\n",
      "23/09/13 09:48:57 WARN DAGScheduler: Broadcasting large task binary with size 3.8 MiB\n",
      "23/09/13 09:48:57 WARN DAGScheduler: Broadcasting large task binary with size 3.8 MiB\n",
      "23/09/13 09:48:57 WARN DAGScheduler: Broadcasting large task binary with size 3.8 MiB\n",
      "23/09/13 09:48:57 WARN DAGScheduler: Broadcasting large task binary with size 3.9 MiB\n",
      "23/09/13 09:48:58 WARN DAGScheduler: Broadcasting large task binary with size 3.9 MiB\n",
      "23/09/13 09:48:58 WARN DAGScheduler: Broadcasting large task binary with size 4.0 MiB\n",
      "23/09/13 09:48:58 WARN DAGScheduler: Broadcasting large task binary with size 4.1 MiB\n",
      "23/09/13 09:48:58 WARN DAGScheduler: Broadcasting large task binary with size 4.2 MiB\n",
      "23/09/13 09:48:58 WARN DAGScheduler: Broadcasting large task binary with size 4.3 MiB\n",
      "23/09/13 09:48:59 WARN DAGScheduler: Broadcasting large task binary with size 4.4 MiB\n",
      "23/09/13 09:48:59 WARN DAGScheduler: Broadcasting large task binary with size 4.5 MiB\n",
      "23/09/13 09:48:59 WARN DAGScheduler: Broadcasting large task binary with size 4.7 MiB\n",
      "23/09/13 09:49:00 WARN DAGScheduler: Broadcasting large task binary with size 4.8 MiB\n",
      "23/09/13 09:49:00 WARN DAGScheduler: Broadcasting large task binary with size 4.9 MiB\n",
      "23/09/13 09:49:00 WARN DAGScheduler: Broadcasting large task binary with size 4.5 MiB\n",
      "23/09/13 09:49:00 WARN DAGScheduler: Broadcasting large task binary with size 4.5 MiB\n",
      "23/09/13 09:49:01 WARN DAGScheduler: Broadcasting large task binary with size 4.5 MiB\n",
      "23/09/13 09:49:01 WARN DAGScheduler: Broadcasting large task binary with size 4.5 MiB\n",
      "23/09/13 09:49:01 WARN DAGScheduler: Broadcasting large task binary with size 4.5 MiB\n",
      "23/09/13 09:49:01 WARN DAGScheduler: Broadcasting large task binary with size 4.5 MiB\n",
      "23/09/13 09:49:01 WARN DAGScheduler: Broadcasting large task binary with size 4.5 MiB\n",
      "23/09/13 09:49:01 WARN DAGScheduler: Broadcasting large task binary with size 4.6 MiB\n",
      "23/09/13 09:49:02 WARN DAGScheduler: Broadcasting large task binary with size 4.6 MiB\n",
      "23/09/13 09:49:02 WARN DAGScheduler: Broadcasting large task binary with size 4.6 MiB\n",
      "23/09/13 09:49:02 WARN DAGScheduler: Broadcasting large task binary with size 4.7 MiB\n",
      "23/09/13 09:49:02 WARN DAGScheduler: Broadcasting large task binary with size 4.8 MiB\n",
      "23/09/13 09:49:03 WARN DAGScheduler: Broadcasting large task binary with size 4.9 MiB\n",
      "23/09/13 09:49:03 WARN DAGScheduler: Broadcasting large task binary with size 5.0 MiB\n",
      "23/09/13 09:49:04 WARN DAGScheduler: Broadcasting large task binary with size 5.1 MiB\n",
      "23/09/13 09:49:04 WARN DAGScheduler: Broadcasting large task binary with size 5.2 MiB\n",
      "23/09/13 09:49:04 WARN DAGScheduler: Broadcasting large task binary with size 5.3 MiB\n",
      "23/09/13 09:49:04 WARN DAGScheduler: Broadcasting large task binary with size 5.5 MiB\n",
      "23/09/13 09:49:05 WARN DAGScheduler: Broadcasting large task binary with size 5.6 MiB\n",
      "23/09/13 09:49:05 WARN DAGScheduler: Broadcasting large task binary with size 5.7 MiB\n",
      "23/09/13 09:49:05 WARN DAGScheduler: Broadcasting large task binary with size 5.3 MiB\n",
      "23/09/13 09:49:06 WARN DAGScheduler: Broadcasting large task binary with size 5.3 MiB\n",
      "23/09/13 09:49:06 WARN DAGScheduler: Broadcasting large task binary with size 5.3 MiB\n",
      "23/09/13 09:49:06 WARN DAGScheduler: Broadcasting large task binary with size 5.3 MiB\n",
      "23/09/13 09:49:06 WARN DAGScheduler: Broadcasting large task binary with size 5.3 MiB\n",
      "23/09/13 09:49:06 WARN DAGScheduler: Broadcasting large task binary with size 5.3 MiB\n",
      "23/09/13 09:49:07 WARN DAGScheduler: Broadcasting large task binary with size 5.3 MiB\n",
      "23/09/13 09:49:07 WARN DAGScheduler: Broadcasting large task binary with size 5.3 MiB\n",
      "23/09/13 09:49:07 WARN DAGScheduler: Broadcasting large task binary with size 5.4 MiB\n",
      "23/09/13 09:49:07 WARN DAGScheduler: Broadcasting large task binary with size 5.4 MiB\n",
      "23/09/13 09:49:08 WARN DAGScheduler: Broadcasting large task binary with size 5.5 MiB\n",
      "23/09/13 09:49:08 WARN DAGScheduler: Broadcasting large task binary with size 5.6 MiB\n",
      "23/09/13 09:49:08 WARN DAGScheduler: Broadcasting large task binary with size 5.6 MiB\n",
      "23/09/13 09:49:09 WARN DAGScheduler: Broadcasting large task binary with size 5.7 MiB\n",
      "23/09/13 09:49:09 WARN DAGScheduler: Broadcasting large task binary with size 5.9 MiB\n",
      "23/09/13 09:49:09 WARN DAGScheduler: Broadcasting large task binary with size 6.0 MiB\n",
      "23/09/13 09:49:10 WARN DAGScheduler: Broadcasting large task binary with size 6.1 MiB\n",
      "23/09/13 09:49:10 WARN DAGScheduler: Broadcasting large task binary with size 6.2 MiB\n",
      "23/09/13 09:49:10 WARN DAGScheduler: Broadcasting large task binary with size 6.4 MiB\n",
      "23/09/13 09:49:11 WARN DAGScheduler: Broadcasting large task binary with size 6.5 MiB\n",
      "23/09/13 09:49:11 WARN DAGScheduler: Broadcasting large task binary with size 6.1 MiB\n",
      "23/09/13 09:49:11 WARN DAGScheduler: Broadcasting large task binary with size 6.1 MiB\n",
      "23/09/13 09:49:11 WARN DAGScheduler: Broadcasting large task binary with size 6.1 MiB\n",
      "23/09/13 09:49:12 WARN DAGScheduler: Broadcasting large task binary with size 6.1 MiB\n",
      "23/09/13 09:49:12 WARN DAGScheduler: Broadcasting large task binary with size 6.1 MiB\n",
      "23/09/13 09:49:12 WARN DAGScheduler: Broadcasting large task binary with size 6.1 MiB\n",
      "23/09/13 09:49:12 WARN DAGScheduler: Broadcasting large task binary with size 6.1 MiB\n",
      "23/09/13 09:49:12 WARN DAGScheduler: Broadcasting large task binary with size 6.1 MiB\n",
      "23/09/13 09:49:13 WARN DAGScheduler: Broadcasting large task binary with size 6.2 MiB\n",
      "23/09/13 09:49:13 WARN DAGScheduler: Broadcasting large task binary with size 6.2 MiB\n",
      "23/09/13 09:49:13 WARN DAGScheduler: Broadcasting large task binary with size 6.3 MiB\n",
      "23/09/13 09:49:14 WARN DAGScheduler: Broadcasting large task binary with size 6.3 MiB\n",
      "23/09/13 09:49:14 WARN DAGScheduler: Broadcasting large task binary with size 6.4 MiB\n",
      "23/09/13 09:49:14 WARN DAGScheduler: Broadcasting large task binary with size 6.5 MiB\n",
      "23/09/13 09:49:14 WARN DAGScheduler: Broadcasting large task binary with size 6.6 MiB\n",
      "23/09/13 09:49:15 WARN DAGScheduler: Broadcasting large task binary with size 6.8 MiB\n",
      "23/09/13 09:49:15 WARN DAGScheduler: Broadcasting large task binary with size 6.9 MiB\n",
      "23/09/13 09:49:16 WARN DAGScheduler: Broadcasting large task binary with size 7.1 MiB\n",
      "23/09/13 09:49:16 WARN DAGScheduler: Broadcasting large task binary with size 7.2 MiB\n",
      "23/09/13 09:49:16 WARN DAGScheduler: Broadcasting large task binary with size 7.4 MiB\n",
      "23/09/13 09:49:17 WARN DAGScheduler: Broadcasting large task binary with size 6.9 MiB\n",
      "23/09/13 09:49:17 WARN DAGScheduler: Broadcasting large task binary with size 6.9 MiB\n",
      "23/09/13 09:49:17 WARN DAGScheduler: Broadcasting large task binary with size 6.9 MiB\n",
      "23/09/13 09:49:18 WARN DAGScheduler: Broadcasting large task binary with size 6.9 MiB\n",
      "23/09/13 09:49:18 WARN DAGScheduler: Broadcasting large task binary with size 6.9 MiB\n",
      "23/09/13 09:49:18 WARN DAGScheduler: Broadcasting large task binary with size 6.9 MiB\n",
      "23/09/13 09:49:18 WARN DAGScheduler: Broadcasting large task binary with size 7.0 MiB\n",
      "23/09/13 09:49:19 WARN DAGScheduler: Broadcasting large task binary with size 7.0 MiB\n",
      "23/09/13 09:49:19 WARN DAGScheduler: Broadcasting large task binary with size 7.0 MiB\n",
      "23/09/13 09:49:19 WARN DAGScheduler: Broadcasting large task binary with size 7.0 MiB\n",
      "23/09/13 09:49:19 WARN DAGScheduler: Broadcasting large task binary with size 7.1 MiB\n",
      "23/09/13 09:49:20 WARN DAGScheduler: Broadcasting large task binary with size 7.2 MiB\n",
      "23/09/13 09:49:20 WARN DAGScheduler: Broadcasting large task binary with size 7.3 MiB\n",
      "23/09/13 09:49:20 WARN DAGScheduler: Broadcasting large task binary with size 7.4 MiB\n",
      "23/09/13 09:49:21 WARN DAGScheduler: Broadcasting large task binary with size 7.5 MiB\n",
      "23/09/13 09:49:21 WARN DAGScheduler: Broadcasting large task binary with size 7.6 MiB\n",
      "23/09/13 09:49:21 WARN DAGScheduler: Broadcasting large task binary with size 7.7 MiB\n",
      "23/09/13 09:49:22 WARN DAGScheduler: Broadcasting large task binary with size 7.9 MiB\n",
      "23/09/13 09:49:22 WARN DAGScheduler: Broadcasting large task binary with size 8.0 MiB\n",
      "23/09/13 09:49:23 WARN DAGScheduler: Broadcasting large task binary with size 8.2 MiB\n",
      "23/09/13 09:49:23 WARN DAGScheduler: Broadcasting large task binary with size 7.8 MiB\n",
      "23/09/13 09:49:23 WARN DAGScheduler: Broadcasting large task binary with size 7.8 MiB\n",
      "23/09/13 09:49:24 WARN DAGScheduler: Broadcasting large task binary with size 7.8 MiB\n",
      "23/09/13 09:49:24 WARN DAGScheduler: Broadcasting large task binary with size 7.8 MiB\n",
      "23/09/13 09:49:24 WARN DAGScheduler: Broadcasting large task binary with size 7.8 MiB\n",
      "23/09/13 09:49:24 WARN DAGScheduler: Broadcasting large task binary with size 7.8 MiB\n",
      "23/09/13 09:49:25 WARN DAGScheduler: Broadcasting large task binary with size 7.8 MiB\n",
      "23/09/13 09:49:25 WARN DAGScheduler: Broadcasting large task binary with size 7.8 MiB\n",
      "23/09/13 09:49:26 WARN DAGScheduler: Broadcasting large task binary with size 7.8 MiB\n",
      "23/09/13 09:49:26 WARN DAGScheduler: Broadcasting large task binary with size 7.9 MiB\n",
      "23/09/13 09:49:26 WARN DAGScheduler: Broadcasting large task binary with size 7.9 MiB\n",
      "23/09/13 09:49:27 WARN DAGScheduler: Broadcasting large task binary with size 8.0 MiB\n",
      "23/09/13 09:49:27 WARN DAGScheduler: Broadcasting large task binary with size 8.1 MiB\n",
      "23/09/13 09:49:27 WARN DAGScheduler: Broadcasting large task binary with size 8.2 MiB\n",
      "23/09/13 09:49:28 WARN DAGScheduler: Broadcasting large task binary with size 8.3 MiB\n",
      "23/09/13 09:49:28 WARN DAGScheduler: Broadcasting large task binary with size 8.5 MiB\n",
      "23/09/13 09:49:29 WARN DAGScheduler: Broadcasting large task binary with size 8.6 MiB\n",
      "23/09/13 09:49:29 WARN DAGScheduler: Broadcasting large task binary with size 8.8 MiB\n",
      "23/09/13 09:49:29 WARN DAGScheduler: Broadcasting large task binary with size 8.9 MiB\n",
      "23/09/13 09:49:30 WARN DAGScheduler: Broadcasting large task binary with size 9.1 MiB\n",
      "23/09/13 09:49:30 WARN DAGScheduler: Broadcasting large task binary with size 8.7 MiB\n",
      "23/09/13 09:49:31 WARN DAGScheduler: Broadcasting large task binary with size 8.7 MiB\n",
      "23/09/13 09:49:31 WARN DAGScheduler: Broadcasting large task binary with size 8.7 MiB\n",
      "23/09/13 09:49:31 WARN DAGScheduler: Broadcasting large task binary with size 8.7 MiB\n",
      "23/09/13 09:49:32 WARN DAGScheduler: Broadcasting large task binary with size 8.7 MiB\n",
      "23/09/13 09:49:32 WARN DAGScheduler: Broadcasting large task binary with size 8.7 MiB\n",
      "23/09/13 09:49:32 WARN DAGScheduler: Broadcasting large task binary with size 8.7 MiB\n",
      "23/09/13 09:49:32 WARN DAGScheduler: Broadcasting large task binary with size 8.7 MiB\n",
      "23/09/13 09:49:33 WARN DAGScheduler: Broadcasting large task binary with size 8.7 MiB\n",
      "23/09/13 09:49:33 WARN DAGScheduler: Broadcasting large task binary with size 8.8 MiB\n",
      "23/09/13 09:49:33 WARN DAGScheduler: Broadcasting large task binary with size 8.8 MiB\n",
      "23/09/13 09:49:34 WARN DAGScheduler: Broadcasting large task binary with size 8.9 MiB\n",
      "23/09/13 09:49:34 WARN DAGScheduler: Broadcasting large task binary with size 9.0 MiB\n",
      "23/09/13 09:49:34 WARN DAGScheduler: Broadcasting large task binary with size 9.1 MiB\n",
      "23/09/13 09:49:35 WARN DAGScheduler: Broadcasting large task binary with size 9.2 MiB\n",
      "23/09/13 09:49:35 WARN DAGScheduler: Broadcasting large task binary with size 9.3 MiB\n",
      "23/09/13 09:49:36 WARN DAGScheduler: Broadcasting large task binary with size 9.5 MiB\n",
      "23/09/13 09:49:36 WARN DAGScheduler: Broadcasting large task binary with size 9.6 MiB\n",
      "23/09/13 09:49:37 WARN DAGScheduler: Broadcasting large task binary with size 9.8 MiB\n",
      "23/09/13 09:49:37 WARN DAGScheduler: Broadcasting large task binary with size 10.0 MiB\n",
      "23/09/13 09:49:38 WARN DAGScheduler: Broadcasting large task binary with size 9.5 MiB\n",
      "23/09/13 09:49:38 WARN DAGScheduler: Broadcasting large task binary with size 9.5 MiB\n",
      "23/09/13 09:49:38 WARN DAGScheduler: Broadcasting large task binary with size 9.5 MiB\n",
      "23/09/13 09:49:39 WARN DAGScheduler: Broadcasting large task binary with size 9.5 MiB\n",
      "23/09/13 09:49:39 WARN DAGScheduler: Broadcasting large task binary with size 9.6 MiB\n",
      "23/09/13 09:49:39 WARN DAGScheduler: Broadcasting large task binary with size 9.6 MiB\n",
      "23/09/13 09:49:40 WARN DAGScheduler: Broadcasting large task binary with size 9.6 MiB\n",
      "23/09/13 09:49:40 WARN DAGScheduler: Broadcasting large task binary with size 9.6 MiB\n",
      "23/09/13 09:49:41 WARN DAGScheduler: Broadcasting large task binary with size 9.6 MiB\n",
      "23/09/13 09:49:41 WARN DAGScheduler: Broadcasting large task binary with size 9.6 MiB\n",
      "23/09/13 09:49:41 WARN DAGScheduler: Broadcasting large task binary with size 9.7 MiB\n",
      "23/09/13 09:49:42 WARN DAGScheduler: Broadcasting large task binary with size 9.8 MiB\n",
      "23/09/13 09:49:42 WARN DAGScheduler: Broadcasting large task binary with size 9.9 MiB\n",
      "23/09/13 09:49:43 WARN DAGScheduler: Broadcasting large task binary with size 10.0 MiB\n",
      "23/09/13 09:49:43 WARN DAGScheduler: Broadcasting large task binary with size 10.1 MiB\n",
      "23/09/13 09:49:43 WARN DAGScheduler: Broadcasting large task binary with size 10.2 MiB\n",
      "23/09/13 09:49:44 WARN DAGScheduler: Broadcasting large task binary with size 10.4 MiB\n",
      "23/09/13 09:49:44 WARN DAGScheduler: Broadcasting large task binary with size 10.5 MiB\n",
      "23/09/13 09:49:45 WARN DAGScheduler: Broadcasting large task binary with size 10.7 MiB\n",
      "23/09/13 09:49:45 WARN DAGScheduler: Broadcasting large task binary with size 10.8 MiB\n",
      "23/09/13 09:49:46 WARN DAGScheduler: Broadcasting large task binary with size 10.4 MiB\n",
      "23/09/13 09:49:46 WARN DAGScheduler: Broadcasting large task binary with size 10.4 MiB\n",
      "23/09/13 09:49:47 WARN DAGScheduler: Broadcasting large task binary with size 10.4 MiB\n",
      "23/09/13 09:49:47 WARN DAGScheduler: Broadcasting large task binary with size 10.4 MiB\n",
      "23/09/13 09:49:47 WARN DAGScheduler: Broadcasting large task binary with size 10.4 MiB\n",
      "23/09/13 09:49:48 WARN DAGScheduler: Broadcasting large task binary with size 10.4 MiB\n",
      "23/09/13 09:49:48 WARN DAGScheduler: Broadcasting large task binary with size 10.4 MiB\n",
      "23/09/13 09:49:48 WARN DAGScheduler: Broadcasting large task binary with size 10.4 MiB\n",
      "23/09/13 09:49:49 WARN DAGScheduler: Broadcasting large task binary with size 10.5 MiB\n",
      "23/09/13 09:49:49 WARN DAGScheduler: Broadcasting large task binary with size 10.5 MiB\n",
      "23/09/13 09:49:50 WARN DAGScheduler: Broadcasting large task binary with size 10.6 MiB\n",
      "23/09/13 09:49:50 WARN DAGScheduler: Broadcasting large task binary with size 10.6 MiB\n",
      "23/09/13 09:49:50 WARN DAGScheduler: Broadcasting large task binary with size 10.7 MiB\n",
      "23/09/13 09:49:51 WARN DAGScheduler: Broadcasting large task binary with size 10.8 MiB\n",
      "23/09/13 09:49:51 WARN DAGScheduler: Broadcasting large task binary with size 11.0 MiB\n",
      "23/09/13 09:49:52 WARN DAGScheduler: Broadcasting large task binary with size 11.1 MiB\n",
      "23/09/13 09:49:52 WARN DAGScheduler: Broadcasting large task binary with size 11.2 MiB\n",
      "23/09/13 09:49:53 WARN DAGScheduler: Broadcasting large task binary with size 11.4 MiB\n",
      "23/09/13 09:49:53 WARN DAGScheduler: Broadcasting large task binary with size 11.5 MiB\n",
      "23/09/13 09:49:54 WARN DAGScheduler: Broadcasting large task binary with size 11.7 MiB\n",
      "23/09/13 09:49:54 WARN DAGScheduler: Broadcasting large task binary with size 11.3 MiB\n",
      "23/09/13 09:49:55 WARN DAGScheduler: Broadcasting large task binary with size 11.3 MiB\n",
      "23/09/13 09:49:55 WARN DAGScheduler: Broadcasting large task binary with size 11.3 MiB\n",
      "23/09/13 09:49:56 WARN DAGScheduler: Broadcasting large task binary with size 11.3 MiB\n",
      "23/09/13 09:49:56 WARN DAGScheduler: Broadcasting large task binary with size 11.3 MiB\n",
      "23/09/13 09:49:57 WARN DAGScheduler: Broadcasting large task binary with size 11.3 MiB\n",
      "23/09/13 09:49:57 WARN DAGScheduler: Broadcasting large task binary with size 11.3 MiB\n",
      "23/09/13 09:49:58 WARN DAGScheduler: Broadcasting large task binary with size 11.3 MiB\n",
      "23/09/13 09:49:58 WARN DAGScheduler: Broadcasting large task binary with size 11.4 MiB\n",
      "23/09/13 09:49:58 WARN DAGScheduler: Broadcasting large task binary with size 11.4 MiB\n",
      "23/09/13 09:49:59 WARN DAGScheduler: Broadcasting large task binary with size 11.5 MiB\n",
      "23/09/13 09:49:59 WARN DAGScheduler: Broadcasting large task binary with size 11.5 MiB\n",
      "23/09/13 09:50:00 WARN DAGScheduler: Broadcasting large task binary with size 11.6 MiB\n",
      "23/09/13 09:50:00 WARN DAGScheduler: Broadcasting large task binary with size 11.8 MiB\n",
      "23/09/13 09:50:01 WARN DAGScheduler: Broadcasting large task binary with size 11.9 MiB\n",
      "23/09/13 09:50:01 WARN DAGScheduler: Broadcasting large task binary with size 12.0 MiB\n",
      "23/09/13 09:50:02 WARN DAGScheduler: Broadcasting large task binary with size 12.2 MiB\n",
      "23/09/13 09:50:02 WARN DAGScheduler: Broadcasting large task binary with size 12.3 MiB\n",
      "23/09/13 09:50:03 WARN DAGScheduler: Broadcasting large task binary with size 12.5 MiB\n",
      "23/09/13 09:50:03 WARN DAGScheduler: Broadcasting large task binary with size 12.6 MiB\n",
      "23/09/13 09:50:04 WARN DAGScheduler: Broadcasting large task binary with size 12.2 MiB\n",
      "23/09/13 09:50:04 WARN DAGScheduler: Broadcasting large task binary with size 12.2 MiB\n",
      "23/09/13 09:50:05 WARN DAGScheduler: Broadcasting large task binary with size 12.2 MiB\n",
      "23/09/13 09:50:05 WARN DAGScheduler: Broadcasting large task binary with size 12.2 MiB\n",
      "23/09/13 09:50:06 WARN DAGScheduler: Broadcasting large task binary with size 12.2 MiB\n",
      "23/09/13 09:50:06 WARN DAGScheduler: Broadcasting large task binary with size 12.2 MiB\n",
      "23/09/13 09:50:06 WARN DAGScheduler: Broadcasting large task binary with size 12.2 MiB\n",
      "23/09/13 09:50:07 WARN DAGScheduler: Broadcasting large task binary with size 12.2 MiB\n",
      "23/09/13 09:50:08 WARN DAGScheduler: Broadcasting large task binary with size 12.2 MiB\n",
      "23/09/13 09:50:08 WARN DAGScheduler: Broadcasting large task binary with size 12.3 MiB\n",
      "23/09/13 09:50:09 WARN DAGScheduler: Broadcasting large task binary with size 12.3 MiB\n",
      "23/09/13 09:50:09 WARN DAGScheduler: Broadcasting large task binary with size 12.4 MiB\n",
      "23/09/13 09:50:10 WARN DAGScheduler: Broadcasting large task binary with size 12.6 MiB\n",
      "23/09/13 09:50:10 WARN DAGScheduler: Broadcasting large task binary with size 12.7 MiB\n",
      "23/09/13 09:50:11 WARN DAGScheduler: Broadcasting large task binary with size 12.9 MiB\n",
      "23/09/13 09:50:11 WARN DAGScheduler: Broadcasting large task binary with size 13.1 MiB\n",
      "23/09/13 09:50:12 WARN DAGScheduler: Broadcasting large task binary with size 13.3 MiB\n",
      "23/09/13 09:50:13 WARN DAGScheduler: Broadcasting large task binary with size 13.4 MiB\n",
      "23/09/13 09:50:13 WARN DAGScheduler: Broadcasting large task binary with size 13.6 MiB\n",
      "23/09/13 09:50:14 WARN DAGScheduler: Broadcasting large task binary with size 13.8 MiB\n",
      "23/09/13 09:50:15 WARN DAGScheduler: Broadcasting large task binary with size 13.2 MiB\n",
      "23/09/13 09:50:15 WARN DAGScheduler: Broadcasting large task binary with size 13.2 MiB\n",
      "23/09/13 09:50:16 WARN DAGScheduler: Broadcasting large task binary with size 13.2 MiB\n",
      "23/09/13 09:50:16 WARN DAGScheduler: Broadcasting large task binary with size 13.2 MiB\n",
      "23/09/13 09:50:17 WARN DAGScheduler: Broadcasting large task binary with size 13.3 MiB\n",
      "23/09/13 09:50:17 WARN DAGScheduler: Broadcasting large task binary with size 13.3 MiB\n",
      "23/09/13 09:50:17 WARN DAGScheduler: Broadcasting large task binary with size 13.3 MiB\n",
      "23/09/13 09:50:18 WARN DAGScheduler: Broadcasting large task binary with size 13.3 MiB\n",
      "23/09/13 09:50:18 WARN DAGScheduler: Broadcasting large task binary with size 13.3 MiB\n",
      "23/09/13 09:50:19 WARN DAGScheduler: Broadcasting large task binary with size 13.3 MiB\n",
      "23/09/13 09:50:19 WARN DAGScheduler: Broadcasting large task binary with size 13.4 MiB\n",
      "23/09/13 09:50:20 WARN DAGScheduler: Broadcasting large task binary with size 13.5 MiB\n",
      "23/09/13 09:50:21 WARN DAGScheduler: Broadcasting large task binary with size 13.6 MiB\n",
      "23/09/13 09:50:21 WARN DAGScheduler: Broadcasting large task binary with size 13.7 MiB\n",
      "23/09/13 09:50:22 WARN DAGScheduler: Broadcasting large task binary with size 13.8 MiB\n",
      "23/09/13 09:50:22 WARN DAGScheduler: Broadcasting large task binary with size 14.0 MiB\n",
      "23/09/13 09:50:23 WARN DAGScheduler: Broadcasting large task binary with size 14.1 MiB\n",
      "23/09/13 09:50:24 WARN DAGScheduler: Broadcasting large task binary with size 14.3 MiB\n",
      "23/09/13 09:50:24 WARN DAGScheduler: Broadcasting large task binary with size 14.5 MiB\n",
      "23/09/13 09:50:25 WARN DAGScheduler: Broadcasting large task binary with size 14.7 MiB\n",
      "23/09/13 09:50:26 WARN DAGScheduler: Broadcasting large task binary with size 14.2 MiB\n",
      "23/09/13 09:50:26 WARN DAGScheduler: Broadcasting large task binary with size 14.2 MiB\n",
      "23/09/13 09:50:27 WARN DAGScheduler: Broadcasting large task binary with size 14.2 MiB\n",
      "23/09/13 09:50:27 WARN DAGScheduler: Broadcasting large task binary with size 14.2 MiB\n",
      "23/09/13 09:50:28 WARN DAGScheduler: Broadcasting large task binary with size 14.2 MiB\n",
      "23/09/13 09:50:28 WARN DAGScheduler: Broadcasting large task binary with size 14.2 MiB\n",
      "23/09/13 09:50:28 WARN DAGScheduler: Broadcasting large task binary with size 14.2 MiB\n",
      "23/09/13 09:50:29 WARN DAGScheduler: Broadcasting large task binary with size 14.2 MiB\n",
      "23/09/13 09:50:29 WARN DAGScheduler: Broadcasting large task binary with size 14.3 MiB\n",
      "23/09/13 09:50:30 WARN DAGScheduler: Broadcasting large task binary with size 14.3 MiB\n",
      "23/09/13 09:50:31 WARN DAGScheduler: Broadcasting large task binary with size 14.4 MiB\n",
      "23/09/13 09:50:31 WARN DAGScheduler: Broadcasting large task binary with size 14.5 MiB\n",
      "23/09/13 09:50:32 WARN DAGScheduler: Broadcasting large task binary with size 14.5 MiB\n",
      "23/09/13 09:50:33 WARN DAGScheduler: Broadcasting large task binary with size 14.7 MiB\n",
      "23/09/13 09:50:33 WARN DAGScheduler: Broadcasting large task binary with size 14.8 MiB\n",
      "23/09/13 09:50:34 WARN DAGScheduler: Broadcasting large task binary with size 14.9 MiB\n",
      "23/09/13 09:50:34 WARN DAGScheduler: Broadcasting large task binary with size 15.1 MiB\n",
      "23/09/13 09:50:35 WARN DAGScheduler: Broadcasting large task binary with size 15.2 MiB\n",
      "23/09/13 09:50:36 WARN DAGScheduler: Broadcasting large task binary with size 15.4 MiB\n",
      "23/09/13 09:50:36 WARN DAGScheduler: Broadcasting large task binary with size 15.5 MiB\n",
      "23/09/13 09:50:37 WARN DAGScheduler: Broadcasting large task binary with size 15.1 MiB\n",
      "23/09/13 09:50:38 WARN DAGScheduler: Broadcasting large task binary with size 15.1 MiB\n",
      "23/09/13 09:50:38 WARN DAGScheduler: Broadcasting large task binary with size 15.1 MiB\n",
      "23/09/13 09:50:39 WARN DAGScheduler: Broadcasting large task binary with size 15.1 MiB\n",
      "23/09/13 09:50:39 WARN DAGScheduler: Broadcasting large task binary with size 15.1 MiB\n",
      "23/09/13 09:50:40 WARN DAGScheduler: Broadcasting large task binary with size 15.1 MiB\n",
      "23/09/13 09:50:40 WARN DAGScheduler: Broadcasting large task binary with size 15.1 MiB\n",
      "23/09/13 09:50:41 WARN DAGScheduler: Broadcasting large task binary with size 15.1 MiB\n",
      "23/09/13 09:50:41 WARN DAGScheduler: Broadcasting large task binary with size 15.2 MiB\n",
      "23/09/13 09:50:42 WARN DAGScheduler: Broadcasting large task binary with size 15.2 MiB\n",
      "23/09/13 09:50:43 WARN DAGScheduler: Broadcasting large task binary with size 15.3 MiB\n",
      "23/09/13 09:50:43 WARN DAGScheduler: Broadcasting large task binary with size 15.4 MiB\n",
      "23/09/13 09:50:44 WARN DAGScheduler: Broadcasting large task binary with size 15.5 MiB\n",
      "23/09/13 09:50:44 WARN DAGScheduler: Broadcasting large task binary with size 15.6 MiB\n",
      "23/09/13 09:50:45 WARN DAGScheduler: Broadcasting large task binary with size 15.7 MiB\n",
      "23/09/13 09:50:46 WARN DAGScheduler: Broadcasting large task binary with size 15.8 MiB\n",
      "23/09/13 09:50:47 WARN DAGScheduler: Broadcasting large task binary with size 16.0 MiB\n",
      "23/09/13 09:50:48 WARN DAGScheduler: Broadcasting large task binary with size 16.1 MiB\n",
      "23/09/13 09:50:49 WARN DAGScheduler: Broadcasting large task binary with size 16.3 MiB\n",
      "23/09/13 09:50:49 WARN DAGScheduler: Broadcasting large task binary with size 16.5 MiB\n",
      "23/09/13 09:50:50 WARN DAGScheduler: Broadcasting large task binary with size 16.0 MiB\n",
      "23/09/13 09:50:51 WARN DAGScheduler: Broadcasting large task binary with size 16.0 MiB\n",
      "23/09/13 09:50:51 WARN DAGScheduler: Broadcasting large task binary with size 16.0 MiB\n",
      "23/09/13 09:50:52 WARN DAGScheduler: Broadcasting large task binary with size 16.0 MiB\n",
      "23/09/13 09:50:52 WARN DAGScheduler: Broadcasting large task binary with size 16.0 MiB\n",
      "23/09/13 09:50:53 WARN DAGScheduler: Broadcasting large task binary with size 16.0 MiB\n",
      "23/09/13 09:50:54 WARN DAGScheduler: Broadcasting large task binary with size 16.0 MiB\n",
      "23/09/13 09:50:54 WARN DAGScheduler: Broadcasting large task binary with size 16.1 MiB\n",
      "23/09/13 09:50:55 WARN DAGScheduler: Broadcasting large task binary with size 16.1 MiB\n",
      "23/09/13 09:50:55 WARN DAGScheduler: Broadcasting large task binary with size 16.1 MiB\n",
      "23/09/13 09:50:56 WARN DAGScheduler: Broadcasting large task binary with size 16.2 MiB\n",
      "23/09/13 09:50:57 WARN DAGScheduler: Broadcasting large task binary with size 16.3 MiB\n",
      "23/09/13 09:50:57 WARN DAGScheduler: Broadcasting large task binary with size 16.4 MiB\n",
      "23/09/13 09:50:58 WARN DAGScheduler: Broadcasting large task binary with size 16.5 MiB\n",
      "23/09/13 09:50:58 WARN DAGScheduler: Broadcasting large task binary with size 16.6 MiB\n",
      "23/09/13 09:51:00 WARN DAGScheduler: Broadcasting large task binary with size 16.8 MiB\n",
      "23/09/13 09:51:00 WARN DAGScheduler: Broadcasting large task binary with size 16.9 MiB\n",
      "23/09/13 09:51:01 WARN DAGScheduler: Broadcasting large task binary with size 17.1 MiB\n",
      "23/09/13 09:51:02 WARN DAGScheduler: Broadcasting large task binary with size 17.2 MiB\n",
      "23/09/13 09:51:03 WARN DAGScheduler: Broadcasting large task binary with size 17.4 MiB\n",
      "23/09/13 09:51:03 WARN DAGScheduler: Broadcasting large task binary with size 16.9 MiB\n",
      "23/09/13 09:51:04 WARN DAGScheduler: Broadcasting large task binary with size 16.9 MiB\n",
      "23/09/13 09:51:04 WARN DAGScheduler: Broadcasting large task binary with size 16.9 MiB\n",
      "23/09/13 09:51:05 WARN DAGScheduler: Broadcasting large task binary with size 16.9 MiB\n",
      "23/09/13 09:51:06 WARN DAGScheduler: Broadcasting large task binary with size 16.9 MiB\n",
      "23/09/13 09:51:06 WARN DAGScheduler: Broadcasting large task binary with size 16.9 MiB\n",
      "23/09/13 09:51:07 WARN DAGScheduler: Broadcasting large task binary with size 16.9 MiB\n",
      "23/09/13 09:51:08 WARN DAGScheduler: Broadcasting large task binary with size 17.0 MiB\n",
      "23/09/13 09:51:08 WARN DAGScheduler: Broadcasting large task binary with size 17.0 MiB\n",
      "23/09/13 09:51:09 WARN DAGScheduler: Broadcasting large task binary with size 17.0 MiB\n",
      "23/09/13 09:51:10 WARN DAGScheduler: Broadcasting large task binary with size 17.1 MiB\n",
      "23/09/13 09:51:10 WARN DAGScheduler: Broadcasting large task binary with size 17.2 MiB\n",
      "23/09/13 09:51:11 WARN DAGScheduler: Broadcasting large task binary with size 17.3 MiB\n",
      "23/09/13 09:51:12 WARN DAGScheduler: Broadcasting large task binary with size 17.4 MiB\n",
      "23/09/13 09:51:12 WARN DAGScheduler: Broadcasting large task binary with size 17.5 MiB\n",
      "23/09/13 09:51:13 WARN DAGScheduler: Broadcasting large task binary with size 17.7 MiB\n",
      "23/09/13 09:51:14 WARN DAGScheduler: Broadcasting large task binary with size 17.8 MiB\n",
      "23/09/13 09:51:15 WARN DAGScheduler: Broadcasting large task binary with size 17.9 MiB\n",
      "23/09/13 09:51:16 WARN DAGScheduler: Broadcasting large task binary with size 18.1 MiB\n",
      "23/09/13 09:51:17 WARN DAGScheduler: Broadcasting large task binary with size 18.3 MiB\n",
      "23/09/13 09:51:17 WARN DAGScheduler: Broadcasting large task binary with size 17.8 MiB\n",
      "23/09/13 09:51:18 WARN DAGScheduler: Broadcasting large task binary with size 17.8 MiB\n",
      "23/09/13 09:51:19 WARN DAGScheduler: Broadcasting large task binary with size 17.8 MiB\n",
      "23/09/13 09:51:19 WARN DAGScheduler: Broadcasting large task binary with size 17.8 MiB\n",
      "23/09/13 09:51:20 WARN DAGScheduler: Broadcasting large task binary with size 17.8 MiB\n",
      "23/09/13 09:51:20 WARN DAGScheduler: Broadcasting large task binary with size 17.8 MiB\n",
      "23/09/13 09:51:21 WARN DAGScheduler: Broadcasting large task binary with size 17.8 MiB\n",
      "23/09/13 09:51:22 WARN DAGScheduler: Broadcasting large task binary with size 17.9 MiB\n",
      "23/09/13 09:51:22 WARN DAGScheduler: Broadcasting large task binary with size 17.9 MiB\n",
      "23/09/13 09:51:23 WARN DAGScheduler: Broadcasting large task binary with size 17.9 MiB\n",
      "23/09/13 09:51:23 WARN DAGScheduler: Broadcasting large task binary with size 18.0 MiB\n",
      "23/09/13 09:51:24 WARN DAGScheduler: Broadcasting large task binary with size 18.1 MiB\n",
      "23/09/13 09:51:25 WARN DAGScheduler: Broadcasting large task binary with size 18.2 MiB\n",
      "23/09/13 09:51:26 WARN DAGScheduler: Broadcasting large task binary with size 18.3 MiB\n",
      "23/09/13 09:51:27 WARN DAGScheduler: Broadcasting large task binary with size 18.4 MiB\n",
      "23/09/13 09:51:28 WARN DAGScheduler: Broadcasting large task binary with size 18.6 MiB\n",
      "23/09/13 09:51:28 WARN DAGScheduler: Broadcasting large task binary with size 18.7 MiB\n",
      "23/09/13 09:51:29 WARN DAGScheduler: Broadcasting large task binary with size 18.9 MiB\n",
      "23/09/13 09:51:30 WARN DAGScheduler: Broadcasting large task binary with size 19.0 MiB\n",
      "23/09/13 09:51:32 WARN DAGScheduler: Broadcasting large task binary with size 19.2 MiB\n",
      "23/09/13 09:51:33 WARN DAGScheduler: Broadcasting large task binary with size 18.8 MiB\n",
      "23/09/13 09:51:33 WARN DAGScheduler: Broadcasting large task binary with size 18.8 MiB\n",
      "23/09/13 09:51:34 WARN DAGScheduler: Broadcasting large task binary with size 18.8 MiB\n",
      "23/09/13 09:51:35 WARN DAGScheduler: Broadcasting large task binary with size 18.8 MiB\n",
      "23/09/13 09:51:35 WARN DAGScheduler: Broadcasting large task binary with size 18.8 MiB\n",
      "23/09/13 09:51:36 WARN DAGScheduler: Broadcasting large task binary with size 18.8 MiB\n",
      "23/09/13 09:51:37 WARN DAGScheduler: Broadcasting large task binary with size 18.8 MiB\n",
      "23/09/13 09:51:37 WARN DAGScheduler: Broadcasting large task binary with size 18.8 MiB\n",
      "23/09/13 09:51:38 WARN DAGScheduler: Broadcasting large task binary with size 18.8 MiB\n",
      "23/09/13 09:51:39 WARN DAGScheduler: Broadcasting large task binary with size 18.9 MiB\n",
      "23/09/13 09:51:40 WARN DAGScheduler: Broadcasting large task binary with size 18.9 MiB\n",
      "23/09/13 09:51:41 WARN DAGScheduler: Broadcasting large task binary with size 19.0 MiB\n",
      "23/09/13 09:51:41 WARN DAGScheduler: Broadcasting large task binary with size 19.1 MiB\n",
      "23/09/13 09:51:42 WARN DAGScheduler: Broadcasting large task binary with size 19.2 MiB\n",
      "23/09/13 09:51:43 WARN DAGScheduler: Broadcasting large task binary with size 19.4 MiB\n",
      "23/09/13 09:51:44 WARN DAGScheduler: Broadcasting large task binary with size 19.5 MiB\n",
      "23/09/13 09:51:45 WARN DAGScheduler: Broadcasting large task binary with size 19.7 MiB\n",
      "23/09/13 09:51:46 WARN DAGScheduler: Broadcasting large task binary with size 19.9 MiB\n",
      "23/09/13 09:51:46 WARN DAGScheduler: Broadcasting large task binary with size 20.0 MiB\n",
      "23/09/13 09:51:48 WARN DAGScheduler: Broadcasting large task binary with size 20.2 MiB\n",
      "23/09/13 09:51:49 WARN DAGScheduler: Broadcasting large task binary with size 19.7 MiB\n",
      "23/09/13 09:51:50 WARN DAGScheduler: Broadcasting large task binary with size 19.7 MiB\n",
      "23/09/13 09:51:50 WARN DAGScheduler: Broadcasting large task binary with size 19.7 MiB\n",
      "23/09/13 09:51:51 WARN DAGScheduler: Broadcasting large task binary with size 19.7 MiB\n",
      "23/09/13 09:51:51 WARN DAGScheduler: Broadcasting large task binary with size 19.7 MiB\n",
      "23/09/13 09:51:52 WARN DAGScheduler: Broadcasting large task binary with size 19.7 MiB\n",
      "23/09/13 09:51:53 WARN DAGScheduler: Broadcasting large task binary with size 19.7 MiB\n",
      "23/09/13 09:51:54 WARN DAGScheduler: Broadcasting large task binary with size 19.7 MiB\n",
      "23/09/13 09:51:55 WARN DAGScheduler: Broadcasting large task binary with size 19.8 MiB\n",
      "23/09/13 09:51:56 WARN DAGScheduler: Broadcasting large task binary with size 19.8 MiB\n",
      "23/09/13 09:51:56 WARN DAGScheduler: Broadcasting large task binary with size 19.9 MiB\n",
      "23/09/13 09:51:57 WARN DAGScheduler: Broadcasting large task binary with size 19.9 MiB\n",
      "23/09/13 09:51:58 WARN DAGScheduler: Broadcasting large task binary with size 20.0 MiB\n",
      "23/09/13 09:51:59 WARN DAGScheduler: Broadcasting large task binary with size 20.2 MiB\n",
      "23/09/13 09:51:59 WARN DAGScheduler: Broadcasting large task binary with size 20.3 MiB\n",
      "23/09/13 09:52:01 WARN DAGScheduler: Broadcasting large task binary with size 20.5 MiB\n",
      "23/09/13 09:52:02 WARN DAGScheduler: Broadcasting large task binary with size 20.6 MiB\n",
      "23/09/13 09:52:03 WARN DAGScheduler: Broadcasting large task binary with size 20.8 MiB\n",
      "23/09/13 09:52:03 WARN DAGScheduler: Broadcasting large task binary with size 21.0 MiB\n",
      "23/09/13 09:52:04 WARN DAGScheduler: Broadcasting large task binary with size 21.2 MiB\n",
      "23/09/13 09:52:05 WARN DAGScheduler: Broadcasting large task binary with size 20.7 MiB\n",
      "23/09/13 09:52:06 WARN DAGScheduler: Broadcasting large task binary with size 20.7 MiB\n",
      "23/09/13 09:52:07 WARN DAGScheduler: Broadcasting large task binary with size 20.7 MiB\n",
      "23/09/13 09:52:07 WARN DAGScheduler: Broadcasting large task binary with size 20.7 MiB\n",
      "23/09/13 09:52:08 WARN DAGScheduler: Broadcasting large task binary with size 20.7 MiB\n",
      "23/09/13 09:52:09 WARN DAGScheduler: Broadcasting large task binary with size 20.7 MiB\n",
      "23/09/13 09:52:10 WARN DAGScheduler: Broadcasting large task binary with size 20.7 MiB\n",
      "23/09/13 09:52:11 WARN DAGScheduler: Broadcasting large task binary with size 20.7 MiB\n",
      "23/09/13 09:52:12 WARN DAGScheduler: Broadcasting large task binary with size 20.7 MiB\n",
      "23/09/13 09:52:12 WARN DAGScheduler: Broadcasting large task binary with size 20.8 MiB\n",
      "23/09/13 09:52:13 WARN DAGScheduler: Broadcasting large task binary with size 20.8 MiB\n",
      "23/09/13 09:52:15 WARN DAGScheduler: Broadcasting large task binary with size 20.9 MiB\n",
      "23/09/13 09:52:15 WARN DAGScheduler: Broadcasting large task binary with size 21.0 MiB\n",
      "23/09/13 09:52:16 WARN DAGScheduler: Broadcasting large task binary with size 21.2 MiB\n",
      "23/09/13 09:52:17 WARN DAGScheduler: Broadcasting large task binary with size 21.3 MiB\n",
      "23/09/13 09:52:19 WARN DAGScheduler: Broadcasting large task binary with size 21.5 MiB\n",
      "23/09/13 09:52:20 WARN DAGScheduler: Broadcasting large task binary with size 21.6 MiB\n",
      "23/09/13 09:52:21 WARN DAGScheduler: Broadcasting large task binary with size 21.8 MiB\n",
      "23/09/13 09:52:21 WARN DAGScheduler: Broadcasting large task binary with size 22.0 MiB\n",
      "23/09/13 09:52:22 WARN DAGScheduler: Broadcasting large task binary with size 22.2 MiB\n",
      "23/09/13 09:52:23 WARN DAGScheduler: Broadcasting large task binary with size 21.7 MiB\n",
      "23/09/13 09:52:24 WARN DAGScheduler: Broadcasting large task binary with size 21.7 MiB\n",
      "23/09/13 09:52:25 WARN DAGScheduler: Broadcasting large task binary with size 21.7 MiB\n",
      "23/09/13 09:52:26 WARN DAGScheduler: Broadcasting large task binary with size 21.7 MiB\n",
      "23/09/13 09:52:27 WARN DAGScheduler: Broadcasting large task binary with size 21.7 MiB\n",
      "23/09/13 09:52:28 WARN DAGScheduler: Broadcasting large task binary with size 21.7 MiB\n",
      "23/09/13 09:52:28 WARN DAGScheduler: Broadcasting large task binary with size 21.7 MiB\n",
      "23/09/13 09:52:29 WARN DAGScheduler: Broadcasting large task binary with size 21.7 MiB\n",
      "23/09/13 09:52:30 WARN DAGScheduler: Broadcasting large task binary with size 21.7 MiB\n",
      "23/09/13 09:52:31 WARN DAGScheduler: Broadcasting large task binary with size 21.8 MiB\n",
      "23/09/13 09:52:32 WARN DAGScheduler: Broadcasting large task binary with size 21.8 MiB\n",
      "23/09/13 09:52:33 WARN DAGScheduler: Broadcasting large task binary with size 21.9 MiB\n",
      "23/09/13 09:52:34 WARN DAGScheduler: Broadcasting large task binary with size 22.0 MiB\n",
      "23/09/13 09:52:35 WARN DAGScheduler: Broadcasting large task binary with size 22.1 MiB\n",
      "23/09/13 09:52:36 WARN DAGScheduler: Broadcasting large task binary with size 22.3 MiB\n",
      "23/09/13 09:52:37 WARN DAGScheduler: Broadcasting large task binary with size 22.5 MiB\n",
      "23/09/13 09:52:37 WARN DAGScheduler: Broadcasting large task binary with size 22.6 MiB\n",
      "23/09/13 09:52:39 WARN DAGScheduler: Broadcasting large task binary with size 22.8 MiB\n",
      "23/09/13 09:52:40 WARN DAGScheduler: Broadcasting large task binary with size 23.0 MiB\n",
      "23/09/13 09:52:41 WARN DAGScheduler: Broadcasting large task binary with size 23.2 MiB\n",
      "23/09/13 09:52:42 WARN DAGScheduler: Broadcasting large task binary with size 22.7 MiB\n",
      "23/09/13 09:52:43 WARN DAGScheduler: Broadcasting large task binary with size 22.7 MiB\n",
      "23/09/13 09:52:43 WARN DAGScheduler: Broadcasting large task binary with size 22.7 MiB\n",
      "23/09/13 09:52:45 WARN DAGScheduler: Broadcasting large task binary with size 22.7 MiB\n",
      "23/09/13 09:52:46 WARN DAGScheduler: Broadcasting large task binary with size 22.7 MiB\n",
      "23/09/13 09:52:46 WARN DAGScheduler: Broadcasting large task binary with size 22.7 MiB\n",
      "23/09/13 09:52:47 WARN DAGScheduler: Broadcasting large task binary with size 22.7 MiB\n",
      "23/09/13 09:52:48 WARN DAGScheduler: Broadcasting large task binary with size 22.7 MiB\n",
      "23/09/13 09:52:49 WARN DAGScheduler: Broadcasting large task binary with size 22.7 MiB\n",
      "23/09/13 09:52:50 WARN DAGScheduler: Broadcasting large task binary with size 22.8 MiB\n",
      "23/09/13 09:52:51 WARN DAGScheduler: Broadcasting large task binary with size 22.8 MiB\n",
      "23/09/13 09:52:52 WARN DAGScheduler: Broadcasting large task binary with size 22.9 MiB\n",
      "23/09/13 09:52:53 WARN DAGScheduler: Broadcasting large task binary with size 23.0 MiB\n",
      "23/09/13 09:52:53 WARN DAGScheduler: Broadcasting large task binary with size 23.2 MiB\n",
      "23/09/13 09:52:54 WARN DAGScheduler: Broadcasting large task binary with size 23.3 MiB\n",
      "23/09/13 09:52:55 WARN DAGScheduler: Broadcasting large task binary with size 23.5 MiB\n",
      "23/09/13 09:52:56 WARN DAGScheduler: Broadcasting large task binary with size 23.6 MiB\n",
      "23/09/13 09:52:57 WARN DAGScheduler: Broadcasting large task binary with size 23.8 MiB\n",
      "23/09/13 09:52:59 WARN DAGScheduler: Broadcasting large task binary with size 24.0 MiB\n",
      "23/09/13 09:53:00 WARN DAGScheduler: Broadcasting large task binary with size 24.2 MiB\n",
      "23/09/13 09:53:01 WARN DAGScheduler: Broadcasting large task binary with size 23.7 MiB\n",
      "23/09/13 09:53:02 WARN DAGScheduler: Broadcasting large task binary with size 23.7 MiB\n",
      "23/09/13 09:53:03 WARN DAGScheduler: Broadcasting large task binary with size 23.7 MiB\n",
      "23/09/13 09:53:04 WARN DAGScheduler: Broadcasting large task binary with size 23.7 MiB\n",
      "23/09/13 09:53:05 WARN DAGScheduler: Broadcasting large task binary with size 23.7 MiB\n",
      "23/09/13 09:53:06 WARN DAGScheduler: Broadcasting large task binary with size 23.7 MiB\n",
      "23/09/13 09:53:07 WARN DAGScheduler: Broadcasting large task binary with size 23.7 MiB\n",
      "23/09/13 09:53:07 WARN DAGScheduler: Broadcasting large task binary with size 23.8 MiB\n",
      "23/09/13 09:53:08 WARN DAGScheduler: Broadcasting large task binary with size 23.8 MiB\n",
      "23/09/13 09:53:09 WARN DAGScheduler: Broadcasting large task binary with size 23.8 MiB\n",
      "23/09/13 09:53:10 WARN DAGScheduler: Broadcasting large task binary with size 23.9 MiB\n",
      "23/09/13 09:53:11 WARN DAGScheduler: Broadcasting large task binary with size 24.0 MiB\n",
      "23/09/13 09:53:12 WARN DAGScheduler: Broadcasting large task binary with size 24.1 MiB\n",
      "23/09/13 09:53:13 WARN DAGScheduler: Broadcasting large task binary with size 24.2 MiB\n",
      "23/09/13 09:53:14 WARN DAGScheduler: Broadcasting large task binary with size 24.4 MiB\n",
      "23/09/13 09:53:15 WARN DAGScheduler: Broadcasting large task binary with size 24.5 MiB\n",
      "23/09/13 09:53:17 WARN DAGScheduler: Broadcasting large task binary with size 24.7 MiB\n",
      "23/09/13 09:53:18 WARN DAGScheduler: Broadcasting large task binary with size 24.8 MiB\n",
      "23/09/13 09:53:19 WARN DAGScheduler: Broadcasting large task binary with size 24.9 MiB\n",
      "23/09/13 09:53:20 WARN DAGScheduler: Broadcasting large task binary with size 25.1 MiB\n",
      "23/09/13 09:53:21 WARN DAGScheduler: Broadcasting large task binary with size 24.6 MiB\n",
      "23/09/13 09:53:22 WARN DAGScheduler: Broadcasting large task binary with size 24.6 MiB\n",
      "23/09/13 09:53:23 WARN DAGScheduler: Broadcasting large task binary with size 24.6 MiB\n",
      "23/09/13 09:53:24 WARN DAGScheduler: Broadcasting large task binary with size 24.6 MiB\n",
      "23/09/13 09:53:25 WARN DAGScheduler: Broadcasting large task binary with size 24.6 MiB\n",
      "23/09/13 09:53:26 WARN DAGScheduler: Broadcasting large task binary with size 24.6 MiB\n",
      "23/09/13 09:53:27 WARN DAGScheduler: Broadcasting large task binary with size 24.6 MiB\n",
      "23/09/13 09:53:28 WARN DAGScheduler: Broadcasting large task binary with size 24.6 MiB\n",
      "23/09/13 09:53:29 WARN DAGScheduler: Broadcasting large task binary with size 24.7 MiB\n",
      "23/09/13 09:53:30 WARN DAGScheduler: Broadcasting large task binary with size 24.7 MiB\n",
      "23/09/13 09:53:31 WARN DAGScheduler: Broadcasting large task binary with size 24.8 MiB\n",
      "23/09/13 09:53:32 WARN DAGScheduler: Broadcasting large task binary with size 24.9 MiB\n",
      "23/09/13 09:53:33 WARN DAGScheduler: Broadcasting large task binary with size 25.0 MiB\n",
      "23/09/13 09:53:34 WARN DAGScheduler: Broadcasting large task binary with size 25.1 MiB\n",
      "23/09/13 09:53:35 WARN DAGScheduler: Broadcasting large task binary with size 25.3 MiB\n",
      "23/09/13 09:53:37 WARN DAGScheduler: Broadcasting large task binary with size 25.4 MiB\n",
      "23/09/13 09:53:38 WARN DAGScheduler: Broadcasting large task binary with size 25.6 MiB\n",
      "23/09/13 09:53:39 WARN DAGScheduler: Broadcasting large task binary with size 25.8 MiB\n",
      "23/09/13 09:53:40 WARN DAGScheduler: Broadcasting large task binary with size 26.0 MiB\n",
      "23/09/13 09:53:42 WARN DAGScheduler: Broadcasting large task binary with size 26.2 MiB\n",
      "23/09/13 09:53:43 WARN DAGScheduler: Broadcasting large task binary with size 25.7 MiB\n",
      "23/09/13 09:53:44 WARN DAGScheduler: Broadcasting large task binary with size 25.7 MiB\n",
      "23/09/13 09:53:45 WARN DAGScheduler: Broadcasting large task binary with size 25.7 MiB\n",
      "23/09/13 09:53:46 WARN DAGScheduler: Broadcasting large task binary with size 25.7 MiB\n",
      "23/09/13 09:53:47 WARN DAGScheduler: Broadcasting large task binary with size 25.7 MiB\n",
      "23/09/13 09:53:48 WARN DAGScheduler: Broadcasting large task binary with size 25.7 MiB\n",
      "23/09/13 09:53:50 WARN DAGScheduler: Broadcasting large task binary with size 25.7 MiB\n",
      "23/09/13 09:53:51 WARN DAGScheduler: Broadcasting large task binary with size 25.7 MiB\n",
      "23/09/13 09:53:52 WARN DAGScheduler: Broadcasting large task binary with size 25.7 MiB\n",
      "23/09/13 09:53:53 WARN DAGScheduler: Broadcasting large task binary with size 25.8 MiB\n",
      "23/09/13 09:53:54 WARN DAGScheduler: Broadcasting large task binary with size 25.8 MiB\n",
      "23/09/13 09:53:55 WARN DAGScheduler: Broadcasting large task binary with size 25.9 MiB\n",
      "23/09/13 09:53:56 WARN DAGScheduler: Broadcasting large task binary with size 26.0 MiB\n",
      "23/09/13 09:53:57 WARN DAGScheduler: Broadcasting large task binary with size 26.1 MiB\n",
      "23/09/13 09:53:58 WARN DAGScheduler: Broadcasting large task binary with size 26.3 MiB\n",
      "23/09/13 09:54:00 WARN DAGScheduler: Broadcasting large task binary with size 26.4 MiB\n",
      "23/09/13 09:54:01 WARN DAGScheduler: Broadcasting large task binary with size 26.6 MiB\n",
      "23/09/13 09:54:02 WARN DAGScheduler: Broadcasting large task binary with size 26.8 MiB\n",
      "23/09/13 09:54:04 WARN DAGScheduler: Broadcasting large task binary with size 26.9 MiB\n",
      "23/09/13 09:54:05 WARN DAGScheduler: Broadcasting large task binary with size 27.1 MiB\n",
      "23/09/13 09:54:07 WARN DAGScheduler: Broadcasting large task binary with size 26.6 MiB\n",
      "23/09/13 09:54:08 WARN DAGScheduler: Broadcasting large task binary with size 26.6 MiB\n",
      "23/09/13 09:54:08 WARN DAGScheduler: Broadcasting large task binary with size 26.6 MiB\n",
      "23/09/13 09:54:10 WARN DAGScheduler: Broadcasting large task binary with size 26.6 MiB\n",
      "23/09/13 09:54:11 WARN DAGScheduler: Broadcasting large task binary with size 26.6 MiB\n",
      "23/09/13 09:54:11 WARN DAGScheduler: Broadcasting large task binary with size 26.6 MiB\n",
      "23/09/13 09:54:13 WARN DAGScheduler: Broadcasting large task binary with size 26.6 MiB\n",
      "23/09/13 09:54:14 WARN DAGScheduler: Broadcasting large task binary with size 26.6 MiB\n",
      "23/09/13 09:54:15 WARN DAGScheduler: Broadcasting large task binary with size 26.7 MiB\n",
      "23/09/13 09:54:16 WARN DAGScheduler: Broadcasting large task binary with size 26.7 MiB\n",
      "23/09/13 09:54:17 WARN DAGScheduler: Broadcasting large task binary with size 26.8 MiB\n",
      "23/09/13 09:54:19 WARN DAGScheduler: Broadcasting large task binary with size 26.9 MiB\n",
      "23/09/13 09:54:20 WARN DAGScheduler: Broadcasting large task binary with size 27.0 MiB\n",
      "23/09/13 09:54:21 WARN DAGScheduler: Broadcasting large task binary with size 27.1 MiB\n",
      "23/09/13 09:54:22 WARN DAGScheduler: Broadcasting large task binary with size 27.2 MiB\n",
      "23/09/13 09:54:23 WARN DAGScheduler: Broadcasting large task binary with size 27.4 MiB\n",
      "23/09/13 09:54:25 WARN DAGScheduler: Broadcasting large task binary with size 27.5 MiB\n",
      "23/09/13 09:54:26 WARN DAGScheduler: Broadcasting large task binary with size 27.6 MiB\n",
      "23/09/13 09:54:27 WARN DAGScheduler: Broadcasting large task binary with size 27.8 MiB\n",
      "23/09/13 09:54:28 WARN DAGScheduler: Broadcasting large task binary with size 27.9 MiB\n",
      "23/09/13 09:54:30 WARN DAGScheduler: Broadcasting large task binary with size 27.4 MiB\n",
      "23/09/13 09:54:31 WARN DAGScheduler: Broadcasting large task binary with size 27.4 MiB\n",
      "23/09/13 09:54:32 WARN DAGScheduler: Broadcasting large task binary with size 27.4 MiB\n",
      "23/09/13 09:54:33 WARN DAGScheduler: Broadcasting large task binary with size 27.4 MiB\n",
      "23/09/13 09:54:34 WARN DAGScheduler: Broadcasting large task binary with size 27.4 MiB\n",
      "23/09/13 09:54:35 WARN DAGScheduler: Broadcasting large task binary with size 27.5 MiB\n",
      "23/09/13 09:54:36 WARN DAGScheduler: Broadcasting large task binary with size 27.5 MiB\n",
      "23/09/13 09:54:37 WARN DAGScheduler: Broadcasting large task binary with size 27.5 MiB\n",
      "23/09/13 09:54:38 WARN DAGScheduler: Broadcasting large task binary with size 27.5 MiB\n",
      "23/09/13 09:54:39 WARN DAGScheduler: Broadcasting large task binary with size 27.5 MiB\n",
      "23/09/13 09:54:40 WARN DAGScheduler: Broadcasting large task binary with size 27.6 MiB\n",
      "23/09/13 09:54:42 WARN DAGScheduler: Broadcasting large task binary with size 27.7 MiB\n",
      "23/09/13 09:54:43 WARN DAGScheduler: Broadcasting large task binary with size 27.8 MiB\n",
      "23/09/13 09:54:44 WARN DAGScheduler: Broadcasting large task binary with size 28.0 MiB\n",
      "23/09/13 09:54:45 WARN DAGScheduler: Broadcasting large task binary with size 28.1 MiB\n",
      "23/09/13 09:54:46 WARN DAGScheduler: Broadcasting large task binary with size 28.3 MiB\n",
      "23/09/13 09:54:48 WARN DAGScheduler: Broadcasting large task binary with size 28.4 MiB\n",
      "23/09/13 09:54:49 WARN DAGScheduler: Broadcasting large task binary with size 28.6 MiB\n",
      "23/09/13 09:54:50 WARN DAGScheduler: Broadcasting large task binary with size 28.7 MiB\n",
      "23/09/13 09:54:52 WARN DAGScheduler: Broadcasting large task binary with size 28.9 MiB\n",
      "23/09/13 09:54:53 WARN DAGScheduler: Broadcasting large task binary with size 28.4 MiB\n",
      "23/09/13 09:54:54 WARN DAGScheduler: Broadcasting large task binary with size 28.4 MiB\n",
      "23/09/13 09:54:55 WARN DAGScheduler: Broadcasting large task binary with size 28.4 MiB\n",
      "23/09/13 09:54:56 WARN DAGScheduler: Broadcasting large task binary with size 28.4 MiB\n",
      "23/09/13 09:54:57 WARN DAGScheduler: Broadcasting large task binary with size 28.4 MiB\n",
      "23/09/13 09:54:59 WARN DAGScheduler: Broadcasting large task binary with size 28.4 MiB\n",
      "23/09/13 09:55:00 WARN DAGScheduler: Broadcasting large task binary with size 28.4 MiB\n",
      "23/09/13 09:55:01 WARN DAGScheduler: Broadcasting large task binary with size 28.4 MiB\n",
      "23/09/13 09:55:02 WARN DAGScheduler: Broadcasting large task binary with size 28.4 MiB\n",
      "23/09/13 09:55:03 WARN DAGScheduler: Broadcasting large task binary with size 28.5 MiB\n",
      "23/09/13 09:55:05 WARN DAGScheduler: Broadcasting large task binary with size 28.6 MiB\n",
      "23/09/13 09:55:06 WARN DAGScheduler: Broadcasting large task binary with size 28.7 MiB\n",
      "23/09/13 09:55:07 WARN DAGScheduler: Broadcasting large task binary with size 28.8 MiB\n",
      "23/09/13 09:55:08 WARN DAGScheduler: Broadcasting large task binary with size 28.9 MiB\n",
      "23/09/13 09:55:09 WARN DAGScheduler: Broadcasting large task binary with size 29.1 MiB\n",
      "23/09/13 09:55:11 WARN DAGScheduler: Broadcasting large task binary with size 29.2 MiB\n",
      "23/09/13 09:55:12 WARN DAGScheduler: Broadcasting large task binary with size 29.4 MiB\n",
      "23/09/13 09:55:14 WARN DAGScheduler: Broadcasting large task binary with size 29.6 MiB\n",
      "23/09/13 09:55:15 WARN DAGScheduler: Broadcasting large task binary with size 29.8 MiB\n",
      "23/09/13 09:55:16 WARN DAGScheduler: Broadcasting large task binary with size 29.9 MiB\n",
      "23/09/13 09:55:18 WARN DAGScheduler: Broadcasting large task binary with size 29.4 MiB\n",
      "23/09/13 09:55:19 WARN DAGScheduler: Broadcasting large task binary with size 29.4 MiB\n",
      "23/09/13 09:55:20 WARN DAGScheduler: Broadcasting large task binary with size 29.4 MiB\n",
      "23/09/13 09:55:22 WARN DAGScheduler: Broadcasting large task binary with size 29.4 MiB\n",
      "23/09/13 09:55:23 WARN DAGScheduler: Broadcasting large task binary with size 29.4 MiB\n",
      "23/09/13 09:55:24 WARN DAGScheduler: Broadcasting large task binary with size 29.4 MiB\n",
      "23/09/13 09:55:25 WARN DAGScheduler: Broadcasting large task binary with size 29.4 MiB\n",
      "23/09/13 09:55:26 WARN DAGScheduler: Broadcasting large task binary with size 29.4 MiB\n",
      "23/09/13 09:55:28 WARN DAGScheduler: Broadcasting large task binary with size 29.5 MiB\n",
      "23/09/13 09:55:29 WARN DAGScheduler: Broadcasting large task binary with size 29.5 MiB\n",
      "23/09/13 09:55:30 WARN DAGScheduler: Broadcasting large task binary with size 29.6 MiB\n",
      "23/09/13 09:55:31 WARN DAGScheduler: Broadcasting large task binary with size 29.7 MiB\n",
      "23/09/13 09:55:33 WARN DAGScheduler: Broadcasting large task binary with size 29.8 MiB\n",
      "23/09/13 09:55:34 WARN DAGScheduler: Broadcasting large task binary with size 29.9 MiB\n",
      "23/09/13 09:55:35 WARN DAGScheduler: Broadcasting large task binary with size 30.1 MiB\n",
      "23/09/13 09:55:37 WARN DAGScheduler: Broadcasting large task binary with size 30.2 MiB\n",
      "23/09/13 09:55:38 WARN DAGScheduler: Broadcasting large task binary with size 30.4 MiB\n",
      "23/09/13 09:55:39 WARN DAGScheduler: Broadcasting large task binary with size 30.6 MiB\n",
      "23/09/13 09:55:40 WARN DAGScheduler: Broadcasting large task binary with size 30.8 MiB\n",
      "23/09/13 09:55:42 WARN DAGScheduler: Broadcasting large task binary with size 31.0 MiB\n",
      "23/09/13 09:55:43 WARN DAGScheduler: Broadcasting large task binary with size 30.5 MiB\n",
      "23/09/13 09:55:44 WARN DAGScheduler: Broadcasting large task binary with size 30.5 MiB\n",
      "23/09/13 09:55:46 WARN DAGScheduler: Broadcasting large task binary with size 30.5 MiB\n",
      "23/09/13 09:55:47 WARN DAGScheduler: Broadcasting large task binary with size 30.5 MiB\n",
      "23/09/13 09:55:48 WARN DAGScheduler: Broadcasting large task binary with size 30.5 MiB\n",
      "23/09/13 09:55:49 WARN DAGScheduler: Broadcasting large task binary with size 30.5 MiB\n",
      "23/09/13 09:55:50 WARN DAGScheduler: Broadcasting large task binary with size 30.5 MiB\n",
      "23/09/13 09:55:51 WARN DAGScheduler: Broadcasting large task binary with size 30.5 MiB\n",
      "23/09/13 09:55:53 WARN DAGScheduler: Broadcasting large task binary with size 30.5 MiB\n",
      "23/09/13 09:55:54 WARN DAGScheduler: Broadcasting large task binary with size 30.6 MiB\n",
      "23/09/13 09:55:56 WARN DAGScheduler: Broadcasting large task binary with size 30.6 MiB\n",
      "23/09/13 09:55:57 WARN DAGScheduler: Broadcasting large task binary with size 30.7 MiB\n",
      "23/09/13 09:55:58 WARN DAGScheduler: Broadcasting large task binary with size 30.8 MiB\n",
      "23/09/13 09:55:59 WARN DAGScheduler: Broadcasting large task binary with size 31.0 MiB\n",
      "23/09/13 09:56:01 WARN DAGScheduler: Broadcasting large task binary with size 31.1 MiB\n",
      "23/09/13 09:56:02 WARN DAGScheduler: Broadcasting large task binary with size 31.3 MiB\n",
      "23/09/13 09:56:04 WARN DAGScheduler: Broadcasting large task binary with size 31.4 MiB\n",
      "23/09/13 09:56:05 WARN DAGScheduler: Broadcasting large task binary with size 31.6 MiB\n",
      "23/09/13 09:56:06 WARN DAGScheduler: Broadcasting large task binary with size 31.7 MiB\n",
      "23/09/13 09:56:08 WARN DAGScheduler: Broadcasting large task binary with size 31.8 MiB\n",
      "23/09/13 09:56:09 WARN DAGScheduler: Broadcasting large task binary with size 31.3 MiB\n",
      "23/09/13 09:56:11 WARN DAGScheduler: Broadcasting large task binary with size 31.3 MiB\n",
      "23/09/13 09:56:12 WARN DAGScheduler: Broadcasting large task binary with size 31.3 MiB\n",
      "23/09/13 09:56:13 WARN DAGScheduler: Broadcasting large task binary with size 31.3 MiB\n",
      "23/09/13 09:56:15 WARN DAGScheduler: Broadcasting large task binary with size 31.3 MiB\n",
      "23/09/13 09:56:16 WARN DAGScheduler: Broadcasting large task binary with size 31.4 MiB\n",
      "23/09/13 09:56:18 WARN DAGScheduler: Broadcasting large task binary with size 31.4 MiB\n",
      "23/09/13 09:56:19 WARN DAGScheduler: Broadcasting large task binary with size 31.4 MiB\n",
      "23/09/13 09:56:20 WARN DAGScheduler: Broadcasting large task binary with size 31.4 MiB\n",
      "23/09/13 09:56:21 WARN DAGScheduler: Broadcasting large task binary with size 31.5 MiB\n",
      "23/09/13 09:56:23 WARN DAGScheduler: Broadcasting large task binary with size 31.5 MiB\n",
      "23/09/13 09:56:24 WARN DAGScheduler: Broadcasting large task binary with size 31.6 MiB\n",
      "23/09/13 09:56:26 WARN DAGScheduler: Broadcasting large task binary with size 31.7 MiB\n",
      "23/09/13 09:56:27 WARN DAGScheduler: Broadcasting large task binary with size 31.9 MiB\n",
      "23/09/13 09:56:29 WARN DAGScheduler: Broadcasting large task binary with size 32.0 MiB\n",
      "23/09/13 09:56:30 WARN DAGScheduler: Broadcasting large task binary with size 32.2 MiB\n",
      "23/09/13 09:56:31 WARN DAGScheduler: Broadcasting large task binary with size 32.3 MiB\n",
      "23/09/13 09:56:33 WARN DAGScheduler: Broadcasting large task binary with size 32.5 MiB\n",
      "23/09/13 09:56:35 WARN DAGScheduler: Broadcasting large task binary with size 32.7 MiB\n",
      "23/09/13 09:56:37 WARN DAGScheduler: Broadcasting large task binary with size 32.8 MiB\n",
      "23/09/13 09:56:38 WARN DAGScheduler: Broadcasting large task binary with size 32.3 MiB\n",
      "23/09/13 09:56:39 WARN DAGScheduler: Broadcasting large task binary with size 32.3 MiB\n",
      "23/09/13 09:56:41 WARN DAGScheduler: Broadcasting large task binary with size 32.3 MiB\n",
      "23/09/13 09:56:42 WARN DAGScheduler: Broadcasting large task binary with size 32.3 MiB\n",
      "23/09/13 09:56:43 WARN DAGScheduler: Broadcasting large task binary with size 32.3 MiB\n",
      "23/09/13 09:56:45 WARN DAGScheduler: Broadcasting large task binary with size 32.3 MiB\n",
      "23/09/13 09:56:46 WARN DAGScheduler: Broadcasting large task binary with size 32.3 MiB\n",
      "23/09/13 09:56:48 WARN DAGScheduler: Broadcasting large task binary with size 32.3 MiB\n",
      "23/09/13 09:56:49 WARN DAGScheduler: Broadcasting large task binary with size 32.4 MiB\n",
      "23/09/13 09:56:50 WARN DAGScheduler: Broadcasting large task binary with size 32.4 MiB\n",
      "23/09/13 09:56:52 WARN DAGScheduler: Broadcasting large task binary with size 32.5 MiB\n",
      "23/09/13 09:56:54 WARN DAGScheduler: Broadcasting large task binary with size 32.6 MiB\n",
      "23/09/13 09:56:55 WARN DAGScheduler: Broadcasting large task binary with size 32.7 MiB\n",
      "23/09/13 09:56:56 WARN DAGScheduler: Broadcasting large task binary with size 32.8 MiB\n",
      "23/09/13 09:56:58 WARN DAGScheduler: Broadcasting large task binary with size 32.9 MiB\n",
      "23/09/13 09:56:59 WARN DAGScheduler: Broadcasting large task binary with size 33.1 MiB\n",
      "23/09/13 09:57:01 WARN DAGScheduler: Broadcasting large task binary with size 33.2 MiB\n",
      "23/09/13 09:57:03 WARN DAGScheduler: Broadcasting large task binary with size 33.4 MiB\n",
      "23/09/13 09:57:05 WARN DAGScheduler: Broadcasting large task binary with size 33.6 MiB\n",
      "23/09/13 09:57:06 WARN DAGScheduler: Broadcasting large task binary with size 33.8 MiB\n",
      "23/09/13 09:57:08 WARN DAGScheduler: Broadcasting large task binary with size 33.3 MiB\n",
      "23/09/13 09:57:10 WARN DAGScheduler: Broadcasting large task binary with size 33.3 MiB\n",
      "23/09/13 09:57:11 WARN DAGScheduler: Broadcasting large task binary with size 33.3 MiB\n",
      "23/09/13 09:57:13 WARN DAGScheduler: Broadcasting large task binary with size 33.3 MiB\n",
      "23/09/13 09:57:15 WARN DAGScheduler: Broadcasting large task binary with size 33.3 MiB\n",
      "23/09/13 09:57:16 WARN DAGScheduler: Broadcasting large task binary with size 33.3 MiB\n",
      "23/09/13 09:57:17 WARN DAGScheduler: Broadcasting large task binary with size 33.3 MiB\n",
      "23/09/13 09:57:18 WARN DAGScheduler: Broadcasting large task binary with size 33.3 MiB\n",
      "23/09/13 09:57:20 WARN DAGScheduler: Broadcasting large task binary with size 33.3 MiB\n",
      "23/09/13 09:57:22 WARN DAGScheduler: Broadcasting large task binary with size 33.4 MiB\n",
      "23/09/13 09:57:23 WARN DAGScheduler: Broadcasting large task binary with size 33.4 MiB\n",
      "23/09/13 09:57:25 WARN DAGScheduler: Broadcasting large task binary with size 33.5 MiB\n",
      "23/09/13 09:57:26 WARN DAGScheduler: Broadcasting large task binary with size 33.6 MiB\n",
      "23/09/13 09:57:28 WARN DAGScheduler: Broadcasting large task binary with size 33.7 MiB\n",
      "23/09/13 09:57:29 WARN DAGScheduler: Broadcasting large task binary with size 33.8 MiB\n",
      "23/09/13 09:57:31 WARN DAGScheduler: Broadcasting large task binary with size 34.0 MiB\n",
      "23/09/13 09:57:32 WARN DAGScheduler: Broadcasting large task binary with size 34.1 MiB\n",
      "23/09/13 09:57:33 WARN DAGScheduler: Broadcasting large task binary with size 34.2 MiB\n",
      "23/09/13 09:57:35 WARN DAGScheduler: Broadcasting large task binary with size 34.4 MiB\n",
      "23/09/13 09:57:37 WARN DAGScheduler: Broadcasting large task binary with size 34.5 MiB\n",
      "23/09/13 09:57:38 WARN DAGScheduler: Broadcasting large task binary with size 34.1 MiB\n",
      "23/09/13 09:57:39 WARN DAGScheduler: Broadcasting large task binary with size 34.1 MiB\n",
      "23/09/13 09:57:41 WARN DAGScheduler: Broadcasting large task binary with size 34.1 MiB\n",
      "23/09/13 09:57:43 WARN DAGScheduler: Broadcasting large task binary with size 34.1 MiB\n",
      "23/09/13 09:57:45 WARN DAGScheduler: Broadcasting large task binary with size 34.1 MiB\n",
      "23/09/13 09:57:46 WARN DAGScheduler: Broadcasting large task binary with size 34.1 MiB\n",
      "23/09/13 09:57:47 WARN DAGScheduler: Broadcasting large task binary with size 34.1 MiB\n",
      "23/09/13 09:57:49 WARN DAGScheduler: Broadcasting large task binary with size 34.1 MiB\n",
      "23/09/13 09:57:51 WARN DAGScheduler: Broadcasting large task binary with size 34.1 MiB\n",
      "23/09/13 09:57:52 WARN DAGScheduler: Broadcasting large task binary with size 34.2 MiB\n",
      "23/09/13 09:57:54 WARN DAGScheduler: Broadcasting large task binary with size 34.2 MiB\n",
      "23/09/13 09:57:55 WARN DAGScheduler: Broadcasting large task binary with size 34.3 MiB\n",
      "23/09/13 09:57:57 WARN DAGScheduler: Broadcasting large task binary with size 34.4 MiB\n",
      "23/09/13 09:57:59 WARN DAGScheduler: Broadcasting large task binary with size 34.5 MiB\n",
      "23/09/13 09:58:01 WARN DAGScheduler: Broadcasting large task binary with size 34.7 MiB\n",
      "23/09/13 09:58:03 WARN DAGScheduler: Broadcasting large task binary with size 34.9 MiB\n",
      "23/09/13 09:58:05 WARN DAGScheduler: Broadcasting large task binary with size 35.1 MiB\n",
      "23/09/13 09:58:07 WARN DAGScheduler: Broadcasting large task binary with size 35.3 MiB\n",
      "23/09/13 09:58:08 WARN DAGScheduler: Broadcasting large task binary with size 35.6 MiB\n",
      "23/09/13 09:58:10 WARN DAGScheduler: Broadcasting large task binary with size 35.8 MiB\n",
      "23/09/13 09:58:12 WARN DAGScheduler: Broadcasting large task binary with size 35.2 MiB\n",
      "23/09/13 09:58:14 WARN DAGScheduler: Broadcasting large task binary with size 35.2 MiB\n",
      "23/09/13 09:58:15 WARN DAGScheduler: Broadcasting large task binary with size 35.2 MiB\n",
      "23/09/13 09:58:17 WARN DAGScheduler: Broadcasting large task binary with size 35.2 MiB\n",
      "23/09/13 09:58:18 WARN DAGScheduler: Broadcasting large task binary with size 35.2 MiB\n",
      "23/09/13 09:58:20 WARN DAGScheduler: Broadcasting large task binary with size 35.2 MiB\n",
      "23/09/13 09:58:22 WARN DAGScheduler: Broadcasting large task binary with size 35.2 MiB\n",
      "23/09/13 09:58:23 WARN DAGScheduler: Broadcasting large task binary with size 35.2 MiB\n",
      "23/09/13 09:58:25 WARN DAGScheduler: Broadcasting large task binary with size 35.3 MiB\n",
      "23/09/13 09:58:27 WARN DAGScheduler: Broadcasting large task binary with size 35.3 MiB\n",
      "23/09/13 09:58:29 WARN DAGScheduler: Broadcasting large task binary with size 35.4 MiB\n",
      "23/09/13 09:58:30 WARN DAGScheduler: Broadcasting large task binary with size 35.5 MiB\n",
      "23/09/13 09:58:32 WARN DAGScheduler: Broadcasting large task binary with size 35.6 MiB\n",
      "23/09/13 09:58:34 WARN DAGScheduler: Broadcasting large task binary with size 35.7 MiB\n",
      "23/09/13 09:58:35 WARN DAGScheduler: Broadcasting large task binary with size 35.8 MiB\n",
      "23/09/13 09:58:37 WARN DAGScheduler: Broadcasting large task binary with size 36.0 MiB\n",
      "23/09/13 09:58:39 WARN DAGScheduler: Broadcasting large task binary with size 36.2 MiB\n",
      "23/09/13 09:58:41 WARN DAGScheduler: Broadcasting large task binary with size 36.4 MiB\n",
      "23/09/13 09:58:42 WARN DAGScheduler: Broadcasting large task binary with size 36.6 MiB\n",
      "23/09/13 09:58:45 WARN DAGScheduler: Broadcasting large task binary with size 36.8 MiB\n",
      "23/09/13 09:58:46 WARN DAGScheduler: Broadcasting large task binary with size 36.3 MiB\n",
      "23/09/13 09:58:48 WARN DAGScheduler: Broadcasting large task binary with size 36.3 MiB\n",
      "23/09/13 09:58:49 WARN DAGScheduler: Broadcasting large task binary with size 36.3 MiB\n",
      "23/09/13 09:58:51 WARN DAGScheduler: Broadcasting large task binary with size 36.3 MiB\n",
      "23/09/13 09:58:52 WARN DAGScheduler: Broadcasting large task binary with size 36.3 MiB\n",
      "23/09/13 09:58:54 WARN DAGScheduler: Broadcasting large task binary with size 36.3 MiB\n",
      "23/09/13 09:58:56 WARN DAGScheduler: Broadcasting large task binary with size 36.3 MiB\n",
      "23/09/13 09:58:57 WARN DAGScheduler: Broadcasting large task binary with size 36.3 MiB\n",
      "23/09/13 09:58:59 WARN DAGScheduler: Broadcasting large task binary with size 36.4 MiB\n",
      "23/09/13 09:59:01 WARN DAGScheduler: Broadcasting large task binary with size 36.4 MiB\n",
      "23/09/13 09:59:02 WARN DAGScheduler: Broadcasting large task binary with size 36.5 MiB\n",
      "23/09/13 09:59:04 WARN DAGScheduler: Broadcasting large task binary with size 36.5 MiB\n",
      "23/09/13 09:59:06 WARN DAGScheduler: Broadcasting large task binary with size 36.6 MiB\n",
      "23/09/13 09:59:08 WARN DAGScheduler: Broadcasting large task binary with size 36.8 MiB\n",
      "23/09/13 09:59:10 WARN DAGScheduler: Broadcasting large task binary with size 36.9 MiB\n",
      "23/09/13 09:59:12 WARN DAGScheduler: Broadcasting large task binary with size 37.1 MiB\n",
      "23/09/13 09:59:14 WARN DAGScheduler: Broadcasting large task binary with size 37.3 MiB\n",
      "23/09/13 09:59:16 WARN DAGScheduler: Broadcasting large task binary with size 37.6 MiB\n",
      "23/09/13 09:59:19 WARN DAGScheduler: Broadcasting large task binary with size 37.8 MiB\n",
      "23/09/13 09:59:21 WARN DAGScheduler: Broadcasting large task binary with size 38.0 MiB\n",
      "23/09/13 09:59:31 WARN DAGScheduler: Broadcasting large task binary with size 1000.5 KiB\n",
      "23/09/13 09:59:31 WARN DAGScheduler: Broadcasting large task binary with size 1001.6 KiB\n",
      "23/09/13 09:59:31 WARN DAGScheduler: Broadcasting large task binary with size 1006.2 KiB\n",
      "23/09/13 09:59:31 WARN DAGScheduler: Broadcasting large task binary with size 1015.4 KiB\n",
      "23/09/13 09:59:32 WARN DAGScheduler: Broadcasting large task binary with size 1031.6 KiB\n",
      "23/09/13 09:59:32 WARN DAGScheduler: Broadcasting large task binary with size 1058.8 KiB\n",
      "23/09/13 09:59:32 WARN DAGScheduler: Broadcasting large task binary with size 1104.4 KiB\n",
      "23/09/13 09:59:32 WARN DAGScheduler: Broadcasting large task binary with size 1101.5 KiB\n",
      "23/09/13 09:59:32 WARN DAGScheduler: Broadcasting large task binary with size 1102.0 KiB\n",
      "23/09/13 09:59:32 WARN DAGScheduler: Broadcasting large task binary with size 1102.6 KiB\n",
      "23/09/13 09:59:32 WARN DAGScheduler: Broadcasting large task binary with size 1103.7 KiB\n",
      "23/09/13 09:59:32 WARN DAGScheduler: Broadcasting large task binary with size 1106.0 KiB\n",
      "23/09/13 09:59:33 WARN DAGScheduler: Broadcasting large task binary with size 1110.6 KiB\n",
      "23/09/13 09:59:33 WARN DAGScheduler: Broadcasting large task binary with size 1119.2 KiB\n",
      "23/09/13 09:59:33 WARN DAGScheduler: Broadcasting large task binary with size 1135.6 KiB\n",
      "23/09/13 09:59:33 WARN DAGScheduler: Broadcasting large task binary with size 1162.9 KiB\n",
      "23/09/13 09:59:33 WARN DAGScheduler: Broadcasting large task binary with size 1206.7 KiB\n",
      "23/09/13 09:59:33 WARN DAGScheduler: Broadcasting large task binary with size 1203.1 KiB\n",
      "23/09/13 09:59:33 WARN DAGScheduler: Broadcasting large task binary with size 1203.6 KiB\n",
      "23/09/13 09:59:33 WARN DAGScheduler: Broadcasting large task binary with size 1204.2 KiB\n",
      "23/09/13 09:59:33 WARN DAGScheduler: Broadcasting large task binary with size 1205.4 KiB\n",
      "23/09/13 09:59:33 WARN DAGScheduler: Broadcasting large task binary with size 1207.7 KiB\n",
      "23/09/13 09:59:33 WARN DAGScheduler: Broadcasting large task binary with size 1212.4 KiB\n",
      "23/09/13 09:59:33 WARN DAGScheduler: Broadcasting large task binary with size 1221.6 KiB\n",
      "23/09/13 09:59:34 WARN DAGScheduler: Broadcasting large task binary with size 1238.3 KiB\n",
      "23/09/13 09:59:34 WARN DAGScheduler: Broadcasting large task binary with size 1267.6 KiB\n",
      "23/09/13 09:59:34 WARN DAGScheduler: Broadcasting large task binary with size 1316.8 KiB\n",
      "23/09/13 09:59:34 WARN DAGScheduler: Broadcasting large task binary with size 1312.7 KiB\n",
      "23/09/13 09:59:34 WARN DAGScheduler: Broadcasting large task binary with size 1313.1 KiB\n",
      "23/09/13 09:59:34 WARN DAGScheduler: Broadcasting large task binary with size 1313.7 KiB\n",
      "23/09/13 09:59:34 WARN DAGScheduler: Broadcasting large task binary with size 1314.9 KiB\n",
      "23/09/13 09:59:34 WARN DAGScheduler: Broadcasting large task binary with size 1317.2 KiB\n",
      "23/09/13 09:59:34 WARN DAGScheduler: Broadcasting large task binary with size 1321.9 KiB\n",
      "23/09/13 09:59:34 WARN DAGScheduler: Broadcasting large task binary with size 1330.9 KiB\n",
      "23/09/13 09:59:34 WARN DAGScheduler: Broadcasting large task binary with size 1346.9 KiB\n",
      "23/09/13 09:59:35 WARN DAGScheduler: Broadcasting large task binary with size 1376.9 KiB\n",
      "23/09/13 09:59:35 WARN DAGScheduler: Broadcasting large task binary with size 1421.6 KiB\n",
      "23/09/13 09:59:35 WARN DAGScheduler: Broadcasting large task binary with size 1418.1 KiB\n",
      "23/09/13 09:59:35 WARN DAGScheduler: Broadcasting large task binary with size 1418.6 KiB\n",
      "23/09/13 09:59:35 WARN DAGScheduler: Broadcasting large task binary with size 1419.2 KiB\n",
      "23/09/13 09:59:35 WARN DAGScheduler: Broadcasting large task binary with size 1420.4 KiB\n",
      "23/09/13 09:59:35 WARN DAGScheduler: Broadcasting large task binary with size 1422.7 KiB\n",
      "23/09/13 09:59:35 WARN DAGScheduler: Broadcasting large task binary with size 1427.4 KiB\n",
      "23/09/13 09:59:35 WARN DAGScheduler: Broadcasting large task binary with size 1436.5 KiB\n",
      "23/09/13 09:59:35 WARN DAGScheduler: Broadcasting large task binary with size 1452.9 KiB\n",
      "23/09/13 09:59:36 WARN DAGScheduler: Broadcasting large task binary with size 1482.2 KiB\n",
      "23/09/13 09:59:36 WARN DAGScheduler: Broadcasting large task binary with size 1530.7 KiB\n",
      "23/09/13 09:59:36 WARN DAGScheduler: Broadcasting large task binary with size 1525.2 KiB\n",
      "23/09/13 09:59:36 WARN DAGScheduler: Broadcasting large task binary with size 1525.7 KiB\n",
      "23/09/13 09:59:36 WARN DAGScheduler: Broadcasting large task binary with size 1526.2 KiB\n",
      "23/09/13 09:59:36 WARN DAGScheduler: Broadcasting large task binary with size 1527.4 KiB\n",
      "23/09/13 09:59:36 WARN DAGScheduler: Broadcasting large task binary with size 1529.7 KiB\n",
      "23/09/13 09:59:36 WARN DAGScheduler: Broadcasting large task binary with size 1534.3 KiB\n",
      "23/09/13 09:59:36 WARN DAGScheduler: Broadcasting large task binary with size 1543.1 KiB\n",
      "23/09/13 09:59:37 WARN DAGScheduler: Broadcasting large task binary with size 1559.7 KiB\n",
      "23/09/13 09:59:37 WARN DAGScheduler: Broadcasting large task binary with size 1589.9 KiB\n",
      "23/09/13 09:59:37 WARN DAGScheduler: Broadcasting large task binary with size 1634.4 KiB\n",
      "23/09/13 09:59:37 WARN DAGScheduler: Broadcasting large task binary with size 1628.9 KiB\n",
      "23/09/13 09:59:37 WARN DAGScheduler: Broadcasting large task binary with size 1629.4 KiB\n",
      "23/09/13 09:59:37 WARN DAGScheduler: Broadcasting large task binary with size 1630.0 KiB\n",
      "23/09/13 09:59:37 WARN DAGScheduler: Broadcasting large task binary with size 1631.2 KiB\n",
      "23/09/13 09:59:37 WARN DAGScheduler: Broadcasting large task binary with size 1633.5 KiB\n",
      "23/09/13 09:59:37 WARN DAGScheduler: Broadcasting large task binary with size 1638.2 KiB\n",
      "23/09/13 09:59:37 WARN DAGScheduler: Broadcasting large task binary with size 1647.3 KiB\n",
      "23/09/13 09:59:38 WARN DAGScheduler: Broadcasting large task binary with size 1663.9 KiB\n",
      "23/09/13 09:59:38 WARN DAGScheduler: Broadcasting large task binary with size 1692.4 KiB\n",
      "23/09/13 09:59:38 WARN DAGScheduler: Broadcasting large task binary with size 1740.5 KiB\n",
      "23/09/13 09:59:38 WARN DAGScheduler: Broadcasting large task binary with size 1738.4 KiB\n",
      "23/09/13 09:59:38 WARN DAGScheduler: Broadcasting large task binary with size 1738.8 KiB\n",
      "23/09/13 09:59:38 WARN DAGScheduler: Broadcasting large task binary with size 1739.4 KiB\n",
      "23/09/13 09:59:38 WARN DAGScheduler: Broadcasting large task binary with size 1740.6 KiB\n",
      "23/09/13 09:59:38 WARN DAGScheduler: Broadcasting large task binary with size 1742.9 KiB\n",
      "23/09/13 09:59:38 WARN DAGScheduler: Broadcasting large task binary with size 1747.6 KiB\n",
      "23/09/13 09:59:38 WARN DAGScheduler: Broadcasting large task binary with size 1756.7 KiB\n",
      "23/09/13 09:59:39 WARN DAGScheduler: Broadcasting large task binary with size 1772.0 KiB\n",
      "23/09/13 09:59:39 WARN DAGScheduler: Broadcasting large task binary with size 1796.8 KiB\n",
      "23/09/13 09:59:39 WARN DAGScheduler: Broadcasting large task binary with size 1837.1 KiB\n",
      "23/09/13 09:59:39 WARN DAGScheduler: Broadcasting large task binary with size 1831.0 KiB\n",
      "23/09/13 09:59:39 WARN DAGScheduler: Broadcasting large task binary with size 1831.5 KiB\n",
      "23/09/13 09:59:39 WARN DAGScheduler: Broadcasting large task binary with size 1832.1 KiB\n",
      "23/09/13 09:59:39 WARN DAGScheduler: Broadcasting large task binary with size 1833.2 KiB\n",
      "23/09/13 09:59:39 WARN DAGScheduler: Broadcasting large task binary with size 1835.6 KiB\n",
      "23/09/13 09:59:40 WARN DAGScheduler: Broadcasting large task binary with size 1840.1 KiB\n",
      "23/09/13 09:59:40 WARN DAGScheduler: Broadcasting large task binary with size 1847.8 KiB\n",
      "23/09/13 09:59:40 WARN DAGScheduler: Broadcasting large task binary with size 1861.0 KiB\n",
      "23/09/13 09:59:40 WARN DAGScheduler: Broadcasting large task binary with size 1884.7 KiB\n",
      "23/09/13 09:59:40 WARN DAGScheduler: Broadcasting large task binary with size 1922.7 KiB\n",
      "23/09/13 09:59:40 WARN DAGScheduler: Broadcasting large task binary with size 1920.5 KiB\n",
      "23/09/13 09:59:41 WARN DAGScheduler: Broadcasting large task binary with size 1921.0 KiB\n",
      "23/09/13 09:59:41 WARN DAGScheduler: Broadcasting large task binary with size 1921.5 KiB\n",
      "23/09/13 09:59:41 WARN DAGScheduler: Broadcasting large task binary with size 1922.7 KiB\n",
      "23/09/13 09:59:41 WARN DAGScheduler: Broadcasting large task binary with size 1925.0 KiB\n",
      "23/09/13 09:59:41 WARN DAGScheduler: Broadcasting large task binary with size 1929.7 KiB\n",
      "23/09/13 09:59:41 WARN DAGScheduler: Broadcasting large task binary with size 1938.5 KiB\n",
      "23/09/13 09:59:41 WARN DAGScheduler: Broadcasting large task binary with size 1954.4 KiB\n",
      "23/09/13 09:59:41 WARN DAGScheduler: Broadcasting large task binary with size 1984.2 KiB\n",
      "23/09/13 09:59:42 WARN DAGScheduler: Broadcasting large task binary with size 2033.5 KiB\n",
      "23/09/13 09:59:42 WARN DAGScheduler: Broadcasting large task binary with size 2032.1 KiB\n",
      "23/09/13 09:59:42 WARN DAGScheduler: Broadcasting large task binary with size 2032.6 KiB\n",
      "23/09/13 09:59:42 WARN DAGScheduler: Broadcasting large task binary with size 2033.2 KiB\n",
      "23/09/13 09:59:42 WARN DAGScheduler: Broadcasting large task binary with size 2034.3 KiB\n",
      "23/09/13 09:59:42 WARN DAGScheduler: Broadcasting large task binary with size 2036.6 KiB\n",
      "23/09/13 09:59:42 WARN DAGScheduler: Broadcasting large task binary with size 2040.7 KiB\n",
      "23/09/13 09:59:42 WARN DAGScheduler: Broadcasting large task binary with size 2.0 MiB\n",
      "23/09/13 09:59:43 WARN DAGScheduler: Broadcasting large task binary with size 2.0 MiB\n",
      "23/09/13 09:59:43 WARN DAGScheduler: Broadcasting large task binary with size 2.0 MiB\n",
      "23/09/13 09:59:43 WARN DAGScheduler: Broadcasting large task binary with size 2.1 MiB\n",
      "23/09/13 09:59:43 WARN DAGScheduler: Broadcasting large task binary with size 2.1 MiB\n",
      "23/09/13 09:59:43 WARN DAGScheduler: Broadcasting large task binary with size 2.1 MiB\n",
      "23/09/13 09:59:43 WARN DAGScheduler: Broadcasting large task binary with size 2.1 MiB\n",
      "23/09/13 09:59:43 WARN DAGScheduler: Broadcasting large task binary with size 2.1 MiB\n",
      "23/09/13 09:59:43 WARN DAGScheduler: Broadcasting large task binary with size 2.1 MiB\n",
      "23/09/13 09:59:43 WARN DAGScheduler: Broadcasting large task binary with size 2.1 MiB\n",
      "23/09/13 09:59:44 WARN DAGScheduler: Broadcasting large task binary with size 2.1 MiB\n",
      "23/09/13 09:59:44 WARN DAGScheduler: Broadcasting large task binary with size 2.1 MiB\n",
      "23/09/13 09:59:44 WARN DAGScheduler: Broadcasting large task binary with size 2.1 MiB\n",
      "23/09/13 09:59:44 WARN DAGScheduler: Broadcasting large task binary with size 2.2 MiB\n",
      "23/09/13 09:59:44 WARN DAGScheduler: Broadcasting large task binary with size 2.2 MiB\n",
      "23/09/13 09:59:44 WARN DAGScheduler: Broadcasting large task binary with size 2.2 MiB\n",
      "23/09/13 09:59:44 WARN DAGScheduler: Broadcasting large task binary with size 2.2 MiB\n",
      "23/09/13 09:59:45 WARN DAGScheduler: Broadcasting large task binary with size 2.2 MiB\n",
      "23/09/13 09:59:45 WARN DAGScheduler: Broadcasting large task binary with size 2.2 MiB\n",
      "23/09/13 09:59:45 WARN DAGScheduler: Broadcasting large task binary with size 2.2 MiB\n",
      "23/09/13 09:59:45 WARN DAGScheduler: Broadcasting large task binary with size 2.2 MiB\n",
      "23/09/13 09:59:45 WARN DAGScheduler: Broadcasting large task binary with size 2.2 MiB\n",
      "23/09/13 09:59:45 WARN DAGScheduler: Broadcasting large task binary with size 2.2 MiB\n",
      "23/09/13 09:59:46 WARN DAGScheduler: Broadcasting large task binary with size 2.3 MiB\n",
      "23/09/13 09:59:46 WARN DAGScheduler: Broadcasting large task binary with size 2.3 MiB\n",
      "23/09/13 09:59:46 WARN DAGScheduler: Broadcasting large task binary with size 2.3 MiB\n",
      "23/09/13 09:59:46 WARN DAGScheduler: Broadcasting large task binary with size 2.3 MiB\n",
      "23/09/13 09:59:46 WARN DAGScheduler: Broadcasting large task binary with size 2.3 MiB\n",
      "23/09/13 09:59:46 WARN DAGScheduler: Broadcasting large task binary with size 2.3 MiB\n",
      "23/09/13 09:59:46 WARN DAGScheduler: Broadcasting large task binary with size 2.3 MiB\n",
      "23/09/13 09:59:47 WARN DAGScheduler: Broadcasting large task binary with size 2.3 MiB\n",
      "23/09/13 09:59:47 WARN DAGScheduler: Broadcasting large task binary with size 2.3 MiB\n",
      "23/09/13 09:59:47 WARN DAGScheduler: Broadcasting large task binary with size 2.3 MiB\n",
      "23/09/13 09:59:47 WARN DAGScheduler: Broadcasting large task binary with size 2.3 MiB\n",
      "23/09/13 09:59:47 WARN DAGScheduler: Broadcasting large task binary with size 2.3 MiB\n",
      "23/09/13 09:59:47 WARN DAGScheduler: Broadcasting large task binary with size 2.3 MiB\n",
      "23/09/13 09:59:47 WARN DAGScheduler: Broadcasting large task binary with size 2.3 MiB\n",
      "23/09/13 09:59:47 WARN DAGScheduler: Broadcasting large task binary with size 2.3 MiB\n",
      "23/09/13 09:59:48 WARN DAGScheduler: Broadcasting large task binary with size 2.3 MiB\n",
      "23/09/13 09:59:48 WARN DAGScheduler: Broadcasting large task binary with size 2.4 MiB\n",
      "23/09/13 09:59:48 WARN DAGScheduler: Broadcasting large task binary with size 2.4 MiB\n",
      "23/09/13 09:59:48 WARN DAGScheduler: Broadcasting large task binary with size 2.4 MiB\n",
      "23/09/13 09:59:48 WARN DAGScheduler: Broadcasting large task binary with size 2.4 MiB\n",
      "23/09/13 09:59:48 WARN DAGScheduler: Broadcasting large task binary with size 2.5 MiB\n",
      "23/09/13 09:59:48 WARN DAGScheduler: Broadcasting large task binary with size 2.5 MiB\n",
      "23/09/13 09:59:48 WARN DAGScheduler: Broadcasting large task binary with size 2.5 MiB\n",
      "23/09/13 09:59:49 WARN DAGScheduler: Broadcasting large task binary with size 2.5 MiB\n",
      "23/09/13 09:59:49 WARN DAGScheduler: Broadcasting large task binary with size 2.5 MiB\n",
      "23/09/13 09:59:49 WARN DAGScheduler: Broadcasting large task binary with size 2.5 MiB\n",
      "23/09/13 09:59:49 WARN DAGScheduler: Broadcasting large task binary with size 2.5 MiB\n",
      "23/09/13 09:59:49 WARN DAGScheduler: Broadcasting large task binary with size 2.5 MiB\n",
      "23/09/13 09:59:49 WARN DAGScheduler: Broadcasting large task binary with size 2.5 MiB\n",
      "23/09/13 09:59:49 WARN DAGScheduler: Broadcasting large task binary with size 2.5 MiB\n",
      "23/09/13 09:59:49 WARN DAGScheduler: Broadcasting large task binary with size 2.6 MiB\n",
      "23/09/13 09:59:50 WARN DAGScheduler: Broadcasting large task binary with size 2.6 MiB\n",
      "23/09/13 09:59:50 WARN DAGScheduler: Broadcasting large task binary with size 2.6 MiB\n",
      "23/09/13 09:59:50 WARN DAGScheduler: Broadcasting large task binary with size 2.6 MiB\n",
      "23/09/13 09:59:50 WARN DAGScheduler: Broadcasting large task binary with size 2.6 MiB\n",
      "23/09/13 09:59:50 WARN DAGScheduler: Broadcasting large task binary with size 2.6 MiB\n",
      "23/09/13 09:59:50 WARN DAGScheduler: Broadcasting large task binary with size 2.6 MiB\n",
      "23/09/13 09:59:50 WARN DAGScheduler: Broadcasting large task binary with size 2.6 MiB\n",
      "23/09/13 09:59:50 WARN DAGScheduler: Broadcasting large task binary with size 2.6 MiB\n",
      "23/09/13 09:59:51 WARN DAGScheduler: Broadcasting large task binary with size 2.6 MiB\n",
      "23/09/13 09:59:51 WARN DAGScheduler: Broadcasting large task binary with size 2.7 MiB\n",
      "23/09/13 09:59:51 WARN DAGScheduler: Broadcasting large task binary with size 2.6 MiB\n",
      "23/09/13 09:59:51 WARN DAGScheduler: Broadcasting large task binary with size 2.6 MiB\n",
      "23/09/13 09:59:51 WARN DAGScheduler: Broadcasting large task binary with size 2.6 MiB\n",
      "23/09/13 09:59:51 WARN DAGScheduler: Broadcasting large task binary with size 2.6 MiB\n",
      "23/09/13 09:59:51 WARN DAGScheduler: Broadcasting large task binary with size 2.7 MiB\n",
      "23/09/13 09:59:51 WARN DAGScheduler: Broadcasting large task binary with size 2.7 MiB\n",
      "23/09/13 09:59:52 WARN DAGScheduler: Broadcasting large task binary with size 2.7 MiB\n",
      "23/09/13 09:59:52 WARN DAGScheduler: Broadcasting large task binary with size 2.7 MiB\n",
      "23/09/13 09:59:52 WARN DAGScheduler: Broadcasting large task binary with size 2.7 MiB\n",
      "23/09/13 09:59:52 WARN DAGScheduler: Broadcasting large task binary with size 2.7 MiB\n",
      "23/09/13 09:59:52 WARN DAGScheduler: Broadcasting large task binary with size 2.7 MiB\n",
      "23/09/13 09:59:52 WARN DAGScheduler: Broadcasting large task binary with size 2.7 MiB\n",
      "23/09/13 09:59:52 WARN DAGScheduler: Broadcasting large task binary with size 2.7 MiB\n",
      "23/09/13 09:59:53 WARN DAGScheduler: Broadcasting large task binary with size 2.7 MiB\n",
      "23/09/13 09:59:53 WARN DAGScheduler: Broadcasting large task binary with size 2.7 MiB\n",
      "23/09/13 09:59:53 WARN DAGScheduler: Broadcasting large task binary with size 2.8 MiB\n",
      "23/09/13 09:59:53 WARN DAGScheduler: Broadcasting large task binary with size 2.8 MiB\n",
      "23/09/13 09:59:54 WARN DAGScheduler: Broadcasting large task binary with size 2.8 MiB\n",
      "23/09/13 09:59:54 WARN DAGScheduler: Broadcasting large task binary with size 2.8 MiB\n",
      "23/09/13 09:59:54 WARN DAGScheduler: Broadcasting large task binary with size 2.9 MiB\n",
      "23/09/13 09:59:54 WARN DAGScheduler: Broadcasting large task binary with size 2.9 MiB\n",
      "23/09/13 09:59:54 WARN DAGScheduler: Broadcasting large task binary with size 2.9 MiB\n",
      "23/09/13 09:59:54 WARN DAGScheduler: Broadcasting large task binary with size 2.9 MiB\n",
      "23/09/13 09:59:54 WARN DAGScheduler: Broadcasting large task binary with size 2.9 MiB\n",
      "23/09/13 09:59:55 WARN DAGScheduler: Broadcasting large task binary with size 2.9 MiB\n",
      "23/09/13 09:59:55 WARN DAGScheduler: Broadcasting large task binary with size 2.9 MiB\n",
      "23/09/13 09:59:55 WARN DAGScheduler: Broadcasting large task binary with size 2.9 MiB\n",
      "23/09/13 09:59:55 WARN DAGScheduler: Broadcasting large task binary with size 2.9 MiB\n",
      "23/09/13 09:59:55 WARN DAGScheduler: Broadcasting large task binary with size 2.9 MiB\n",
      "23/09/13 09:59:55 WARN DAGScheduler: Broadcasting large task binary with size 2.9 MiB\n",
      "23/09/13 09:59:55 WARN DAGScheduler: Broadcasting large task binary with size 2.9 MiB\n",
      "23/09/13 09:59:56 WARN DAGScheduler: Broadcasting large task binary with size 2.9 MiB\n",
      "23/09/13 09:59:56 WARN DAGScheduler: Broadcasting large task binary with size 2.9 MiB\n",
      "23/09/13 09:59:56 WARN DAGScheduler: Broadcasting large task binary with size 2.9 MiB\n",
      "23/09/13 09:59:56 WARN DAGScheduler: Broadcasting large task binary with size 2.9 MiB\n",
      "23/09/13 09:59:56 WARN DAGScheduler: Broadcasting large task binary with size 2.9 MiB\n",
      "23/09/13 09:59:56 WARN DAGScheduler: Broadcasting large task binary with size 2.9 MiB\n",
      "23/09/13 09:59:56 WARN DAGScheduler: Broadcasting large task binary with size 3.0 MiB\n",
      "23/09/13 09:59:56 WARN DAGScheduler: Broadcasting large task binary with size 3.0 MiB\n",
      "23/09/13 09:59:57 WARN DAGScheduler: Broadcasting large task binary with size 3.0 MiB\n",
      "23/09/13 09:59:57 WARN DAGScheduler: Broadcasting large task binary with size 3.0 MiB\n",
      "23/09/13 09:59:57 WARN DAGScheduler: Broadcasting large task binary with size 3.0 MiB\n",
      "23/09/13 09:59:57 WARN DAGScheduler: Broadcasting large task binary with size 3.0 MiB\n",
      "23/09/13 09:59:57 WARN DAGScheduler: Broadcasting large task binary with size 3.0 MiB\n",
      "23/09/13 09:59:57 WARN DAGScheduler: Broadcasting large task binary with size 3.0 MiB\n",
      "23/09/13 09:59:57 WARN DAGScheduler: Broadcasting large task binary with size 3.0 MiB\n",
      "23/09/13 09:59:58 WARN DAGScheduler: Broadcasting large task binary with size 3.0 MiB\n",
      "23/09/13 09:59:58 WARN DAGScheduler: Broadcasting large task binary with size 3.0 MiB\n",
      "23/09/13 09:59:58 WARN DAGScheduler: Broadcasting large task binary with size 3.1 MiB\n",
      "23/09/13 09:59:58 WARN DAGScheduler: Broadcasting large task binary with size 3.1 MiB\n",
      "23/09/13 09:59:58 WARN DAGScheduler: Broadcasting large task binary with size 3.1 MiB\n",
      "23/09/13 09:59:58 WARN DAGScheduler: Broadcasting large task binary with size 3.1 MiB\n",
      "23/09/13 09:59:58 WARN DAGScheduler: Broadcasting large task binary with size 3.1 MiB\n",
      "23/09/13 09:59:59 WARN DAGScheduler: Broadcasting large task binary with size 3.1 MiB\n",
      "23/09/13 09:59:59 WARN DAGScheduler: Broadcasting large task binary with size 3.1 MiB\n",
      "23/09/13 09:59:59 WARN DAGScheduler: Broadcasting large task binary with size 3.1 MiB\n",
      "23/09/13 09:59:59 WARN DAGScheduler: Broadcasting large task binary with size 3.1 MiB\n",
      "23/09/13 09:59:59 WARN DAGScheduler: Broadcasting large task binary with size 3.1 MiB\n",
      "23/09/13 09:59:59 WARN DAGScheduler: Broadcasting large task binary with size 3.1 MiB\n",
      "23/09/13 09:59:59 WARN DAGScheduler: Broadcasting large task binary with size 3.2 MiB\n",
      "23/09/13 10:00:00 WARN DAGScheduler: Broadcasting large task binary with size 3.2 MiB\n",
      "23/09/13 10:00:00 WARN DAGScheduler: Broadcasting large task binary with size 3.2 MiB\n",
      "23/09/13 10:00:00 WARN DAGScheduler: Broadcasting large task binary with size 3.2 MiB\n",
      "23/09/13 10:00:00 WARN DAGScheduler: Broadcasting large task binary with size 3.2 MiB\n",
      "23/09/13 10:00:00 WARN DAGScheduler: Broadcasting large task binary with size 3.2 MiB\n",
      "23/09/13 10:00:00 WARN DAGScheduler: Broadcasting large task binary with size 3.2 MiB\n",
      "23/09/13 10:00:00 WARN DAGScheduler: Broadcasting large task binary with size 3.2 MiB\n",
      "23/09/13 10:00:01 WARN DAGScheduler: Broadcasting large task binary with size 3.2 MiB\n",
      "23/09/13 10:00:01 WARN DAGScheduler: Broadcasting large task binary with size 3.2 MiB\n",
      "23/09/13 10:00:01 WARN DAGScheduler: Broadcasting large task binary with size 3.3 MiB\n",
      "23/09/13 10:00:01 WARN DAGScheduler: Broadcasting large task binary with size 3.3 MiB\n",
      "23/09/13 10:00:01 WARN DAGScheduler: Broadcasting large task binary with size 3.3 MiB\n",
      "23/09/13 10:00:01 WARN DAGScheduler: Broadcasting large task binary with size 3.3 MiB\n",
      "23/09/13 10:00:02 WARN DAGScheduler: Broadcasting large task binary with size 3.3 MiB\n",
      "23/09/13 10:00:02 WARN DAGScheduler: Broadcasting large task binary with size 3.3 MiB\n",
      "23/09/13 10:00:02 WARN DAGScheduler: Broadcasting large task binary with size 3.3 MiB\n",
      "23/09/13 10:00:02 WARN DAGScheduler: Broadcasting large task binary with size 3.3 MiB\n",
      "23/09/13 10:00:02 WARN DAGScheduler: Broadcasting large task binary with size 3.3 MiB\n",
      "23/09/13 10:00:02 WARN DAGScheduler: Broadcasting large task binary with size 3.3 MiB\n",
      "23/09/13 10:00:02 WARN DAGScheduler: Broadcasting large task binary with size 3.3 MiB\n",
      "23/09/13 10:00:03 WARN DAGScheduler: Broadcasting large task binary with size 3.3 MiB\n",
      "23/09/13 10:00:03 WARN DAGScheduler: Broadcasting large task binary with size 3.3 MiB\n",
      "23/09/13 10:00:03 WARN DAGScheduler: Broadcasting large task binary with size 3.3 MiB\n",
      "23/09/13 10:00:03 WARN DAGScheduler: Broadcasting large task binary with size 3.3 MiB\n",
      "23/09/13 10:00:03 WARN DAGScheduler: Broadcasting large task binary with size 3.3 MiB\n",
      "23/09/13 10:00:03 WARN DAGScheduler: Broadcasting large task binary with size 3.3 MiB\n",
      "23/09/13 10:00:04 WARN DAGScheduler: Broadcasting large task binary with size 3.4 MiB\n",
      "23/09/13 10:00:04 WARN DAGScheduler: Broadcasting large task binary with size 3.4 MiB\n",
      "23/09/13 10:00:04 WARN DAGScheduler: Broadcasting large task binary with size 3.4 MiB\n",
      "23/09/13 10:00:04 WARN DAGScheduler: Broadcasting large task binary with size 3.4 MiB\n",
      "23/09/13 10:00:04 WARN DAGScheduler: Broadcasting large task binary with size 3.4 MiB\n",
      "23/09/13 10:00:05 WARN DAGScheduler: Broadcasting large task binary with size 3.4 MiB\n",
      "23/09/13 10:00:05 WARN DAGScheduler: Broadcasting large task binary with size 3.4 MiB\n",
      "23/09/13 10:00:05 WARN DAGScheduler: Broadcasting large task binary with size 3.4 MiB\n",
      "23/09/13 10:00:05 WARN DAGScheduler: Broadcasting large task binary with size 3.4 MiB\n",
      "23/09/13 10:00:05 WARN DAGScheduler: Broadcasting large task binary with size 3.4 MiB\n",
      "23/09/13 10:00:05 WARN DAGScheduler: Broadcasting large task binary with size 3.5 MiB\n",
      "23/09/13 10:00:05 WARN DAGScheduler: Broadcasting large task binary with size 3.5 MiB\n",
      "23/09/13 10:00:06 WARN DAGScheduler: Broadcasting large task binary with size 3.5 MiB\n",
      "23/09/13 10:00:06 WARN DAGScheduler: Broadcasting large task binary with size 3.5 MiB\n",
      "23/09/13 10:00:06 WARN DAGScheduler: Broadcasting large task binary with size 3.5 MiB\n",
      "23/09/13 10:00:06 WARN DAGScheduler: Broadcasting large task binary with size 3.5 MiB\n",
      "23/09/13 10:00:06 WARN DAGScheduler: Broadcasting large task binary with size 3.5 MiB\n",
      "23/09/13 10:00:07 WARN DAGScheduler: Broadcasting large task binary with size 3.5 MiB\n",
      "23/09/13 10:00:07 WARN DAGScheduler: Broadcasting large task binary with size 3.5 MiB\n",
      "23/09/13 10:00:07 WARN DAGScheduler: Broadcasting large task binary with size 3.5 MiB\n",
      "23/09/13 10:00:07 WARN DAGScheduler: Broadcasting large task binary with size 3.5 MiB\n",
      "23/09/13 10:00:07 WARN DAGScheduler: Broadcasting large task binary with size 3.6 MiB\n",
      "23/09/13 10:00:07 WARN DAGScheduler: Broadcasting large task binary with size 3.6 MiB\n",
      "23/09/13 10:00:08 WARN DAGScheduler: Broadcasting large task binary with size 3.6 MiB\n",
      "23/09/13 10:00:08 WARN DAGScheduler: Broadcasting large task binary with size 3.6 MiB\n",
      "23/09/13 10:00:08 WARN DAGScheduler: Broadcasting large task binary with size 3.6 MiB\n",
      "23/09/13 10:00:08 WARN DAGScheduler: Broadcasting large task binary with size 3.6 MiB\n",
      "23/09/13 10:00:08 WARN DAGScheduler: Broadcasting large task binary with size 3.6 MiB\n",
      "23/09/13 10:00:08 WARN DAGScheduler: Broadcasting large task binary with size 3.6 MiB\n",
      "23/09/13 10:00:09 WARN DAGScheduler: Broadcasting large task binary with size 3.6 MiB\n",
      "23/09/13 10:00:09 WARN DAGScheduler: Broadcasting large task binary with size 3.7 MiB\n",
      "23/09/13 10:00:09 WARN DAGScheduler: Broadcasting large task binary with size 3.7 MiB\n",
      "23/09/13 10:00:09 WARN DAGScheduler: Broadcasting large task binary with size 3.7 MiB\n",
      "23/09/13 10:00:09 WARN DAGScheduler: Broadcasting large task binary with size 3.7 MiB\n",
      "23/09/13 10:00:10 WARN DAGScheduler: Broadcasting large task binary with size 3.7 MiB\n",
      "23/09/13 10:00:10 WARN DAGScheduler: Broadcasting large task binary with size 3.7 MiB\n",
      "23/09/13 10:00:10 WARN DAGScheduler: Broadcasting large task binary with size 3.7 MiB\n",
      "23/09/13 10:00:10 WARN DAGScheduler: Broadcasting large task binary with size 3.7 MiB\n",
      "23/09/13 10:00:10 WARN DAGScheduler: Broadcasting large task binary with size 3.7 MiB\n",
      "23/09/13 10:00:10 WARN DAGScheduler: Broadcasting large task binary with size 3.7 MiB\n",
      "23/09/13 10:00:11 WARN DAGScheduler: Broadcasting large task binary with size 3.8 MiB\n",
      "23/09/13 10:00:11 WARN DAGScheduler: Broadcasting large task binary with size 3.8 MiB\n",
      "23/09/13 10:00:11 WARN DAGScheduler: Broadcasting large task binary with size 3.8 MiB\n",
      "23/09/13 10:00:11 WARN DAGScheduler: Broadcasting large task binary with size 3.9 MiB\n",
      "23/09/13 10:00:11 WARN DAGScheduler: Broadcasting large task binary with size 3.8 MiB\n",
      "23/09/13 10:00:12 WARN DAGScheduler: Broadcasting large task binary with size 3.8 MiB\n",
      "23/09/13 10:00:12 WARN DAGScheduler: Broadcasting large task binary with size 3.8 MiB\n",
      "23/09/13 10:00:12 WARN DAGScheduler: Broadcasting large task binary with size 3.8 MiB\n",
      "23/09/13 10:00:12 WARN DAGScheduler: Broadcasting large task binary with size 3.8 MiB\n",
      "23/09/13 10:00:12 WARN DAGScheduler: Broadcasting large task binary with size 3.9 MiB\n",
      "23/09/13 10:00:12 WARN DAGScheduler: Broadcasting large task binary with size 3.9 MiB\n",
      "23/09/13 10:00:13 WARN DAGScheduler: Broadcasting large task binary with size 3.9 MiB\n",
      "23/09/13 10:00:13 WARN DAGScheduler: Broadcasting large task binary with size 3.9 MiB\n",
      "23/09/13 10:00:13 WARN DAGScheduler: Broadcasting large task binary with size 4.0 MiB\n",
      "23/09/13 10:00:14 WARN DAGScheduler: Broadcasting large task binary with size 4.0 MiB\n",
      "23/09/13 10:00:14 WARN DAGScheduler: Broadcasting large task binary with size 4.0 MiB\n",
      "23/09/13 10:00:14 WARN DAGScheduler: Broadcasting large task binary with size 4.0 MiB\n",
      "23/09/13 10:00:14 WARN DAGScheduler: Broadcasting large task binary with size 4.0 MiB\n",
      "23/09/13 10:00:15 WARN DAGScheduler: Broadcasting large task binary with size 4.0 MiB\n",
      "23/09/13 10:00:15 WARN DAGScheduler: Broadcasting large task binary with size 4.0 MiB\n",
      "23/09/13 10:00:15 WARN DAGScheduler: Broadcasting large task binary with size 4.0 MiB\n",
      "23/09/13 10:00:15 WARN DAGScheduler: Broadcasting large task binary with size 4.0 MiB\n",
      "23/09/13 10:00:15 WARN DAGScheduler: Broadcasting large task binary with size 4.0 MiB\n",
      "23/09/13 10:00:15 WARN DAGScheduler: Broadcasting large task binary with size 4.0 MiB\n"
     ]
    },
    {
     "name": "stdout",
     "output_type": "stream",
     "text": [
      "CPU times: user 4.24 s, sys: 1.21 s, total: 5.45 s\n",
      "Wall time: 22min 34s\n"
     ]
    }
   ],
   "source": [
    "%%time\n",
    "\n",
    "# Градиентный бустинг\n",
    "\n",
    "gbt = GBTRegressor(labelCol=target, featuresCol=\"features\", seed = 12345)\n",
    "\n",
    "paramGrid = ParamGridBuilder() \\\n",
    "    .addGrid(gbt.maxIter, range(10,50,10)) \\\n",
    "    .addGrid(gbt.maxDepth, range(0, 30, 10)) \\\n",
    "    .build()\n",
    "\n",
    "tvs = TrainValidationSplit(estimator=gbt,\n",
    "                           estimatorParamMaps=paramGrid,\n",
    "                           evaluator=RegressionEvaluator(labelCol=target),\n",
    "                           trainRatio=0.8)\n",
    "\n",
    "model = tvs.fit(train_data)\n",
    "\n",
    "predictions_gbt = model.transform(test_data)"
   ]
  },
  {
   "cell_type": "markdown",
   "id": "5c6f916b",
   "metadata": {},
   "source": [
    "**Вывод:** Были проведены исследования 5 различных моделей регрессии при помощи подбора параметров и кроссвалидации. Результаты предсказаний исследуются в следюуещй главе."
   ]
  },
  {
   "cell_type": "markdown",
   "id": "757fd103",
   "metadata": {
    "id": "757fd103"
   },
   "source": [
    "# Анализ результатов"
   ]
  },
  {
   "cell_type": "code",
   "execution_count": 45,
   "id": "2d85949a",
   "metadata": {},
   "outputs": [],
   "source": [
    "def metrix(predict):\n",
    "    '''Функция выводит оценку результатов предзказания'''\n",
    "    \n",
    "    RMSE = RegressionEvaluator(labelCol=target,\n",
    "            metricName='rmse').evaluate(predict)\n",
    "    \n",
    "    MAE  = RegressionEvaluator(labelCol=target,\n",
    "                metricName='mae').evaluate(predict)\n",
    "    \n",
    "    R2 =  RegressionEvaluator(labelCol=target,\n",
    "                metricName='r2').evaluate(predict)\n",
    "    \n",
    "    print('RMSE: ', RMSE)\n",
    "    print('MAE: ', MAE)\n",
    "    print('R2: ', R2)"
   ]
  },
  {
   "cell_type": "code",
   "execution_count": 46,
   "id": "0ed284af",
   "metadata": {
    "scrolled": true
   },
   "outputs": [
    {
     "name": "stdout",
     "output_type": "stream",
     "text": [
      "LinearRegression\n",
      "RMSE:  67811.62033441877\n",
      "MAE:  49060.03567203643\n",
      "R2:  0.657814789474914\n"
     ]
    }
   ],
   "source": [
    "print('LinearRegression')\n",
    "metrix(predictions_lr)"
   ]
  },
  {
   "cell_type": "code",
   "execution_count": 47,
   "id": "8fbbb043",
   "metadata": {
    "scrolled": true
   },
   "outputs": [
    {
     "name": "stdout",
     "output_type": "stream",
     "text": [
      "DecisionTreeRegressor\n",
      "RMSE:  64222.09193261303\n",
      "MAE:  42186.164437839674\n",
      "R2:  0.6930823336975\n"
     ]
    }
   ],
   "source": [
    "print('DecisionTreeRegressor')\n",
    "metrix(predictions_dt)"
   ]
  },
  {
   "cell_type": "code",
   "execution_count": 48,
   "id": "3e9c03ce",
   "metadata": {
    "scrolled": true
   },
   "outputs": [
    {
     "name": "stdout",
     "output_type": "stream",
     "text": [
      "RandomForestRegressor\n",
      "RMSE:  51418.58764373223\n",
      "MAE:  34357.19612151204\n",
      "R2:  0.8032597231498182\n"
     ]
    }
   ],
   "source": [
    "print('RandomForestRegressor')\n",
    "metrix(predictions_rf)"
   ]
  },
  {
   "cell_type": "code",
   "execution_count": 58,
   "id": "63ad27f1",
   "metadata": {},
   "outputs": [
    {
     "name": "stdout",
     "output_type": "stream",
     "text": [
      "RandomForestRegressor\n",
      "RMSE:  58231.547684955476\n",
      "MAE:  37485.618909083685\n",
      "R2:  0.7476695527520807\n"
     ]
    }
   ],
   "source": [
    "print('GBTRegressor')\n",
    "metrix(predictions_gbt)"
   ]
  },
  {
   "cell_type": "markdown",
   "id": "f5e2d1a8",
   "metadata": {},
   "source": [
    "# Итог:\n",
    "> В ходе работы были выполнены следующие операции:\n",
    ">>- Изучена информация о датасете\n",
    ">>- Подготовлены данные к обучению моделей\n",
    ">>- Обучение различных моделей \n",
    ">>- Выбор наилучшей модели \n",
    "\n",
    "В ходе исследования было решено, что лучший способ оценки модели регресси в данном случая является метрика R2, т.к. MAE и RMSE не информативны. При опоре на данную метрику было выявлено, что наилучшей моделью будет \"Случайный лес\".\n"
   ]
  }
 ],
 "metadata": {
  "ExecuteTimeLog": [
   {
    "duration": 252,
    "start_time": "2023-09-08T20:13:10.313Z"
   },
   {
    "duration": 16068,
    "start_time": "2023-09-08T20:17:17.845Z"
   },
   {
    "duration": 5,
    "start_time": "2023-09-08T20:18:29.873Z"
   },
   {
    "duration": 3,
    "start_time": "2023-09-08T20:19:00.427Z"
   },
   {
    "duration": 9479,
    "start_time": "2023-09-08T20:20:09.064Z"
   },
   {
    "duration": 63,
    "start_time": "2023-09-08T20:20:20.785Z"
   },
   {
    "duration": 682,
    "start_time": "2023-09-08T20:20:30.358Z"
   },
   {
    "duration": 187,
    "start_time": "2023-09-08T20:24:12.719Z"
   },
   {
    "duration": 4830,
    "start_time": "2023-09-08T20:24:42.273Z"
   },
   {
    "duration": 7,
    "start_time": "2023-09-08T20:26:07.646Z"
   },
   {
    "duration": 266,
    "start_time": "2023-09-08T20:26:10.892Z"
   },
   {
    "duration": 2110,
    "start_time": "2023-09-08T20:26:17.194Z"
   },
   {
    "duration": 1530,
    "start_time": "2023-09-08T20:27:07.298Z"
   },
   {
    "duration": 1442,
    "start_time": "2023-09-08T20:27:26.482Z"
   },
   {
    "duration": 949,
    "start_time": "2023-09-08T20:27:45.960Z"
   },
   {
    "duration": 314,
    "start_time": "2023-09-08T20:30:37.001Z"
   },
   {
    "duration": 3,
    "start_time": "2023-09-08T20:32:39.787Z"
   },
   {
    "duration": 17,
    "start_time": "2023-09-08T20:35:08.518Z"
   },
   {
    "duration": 4,
    "start_time": "2023-09-08T20:35:14.270Z"
   },
   {
    "duration": 9,
    "start_time": "2023-09-08T20:38:33.473Z"
   },
   {
    "duration": 3,
    "start_time": "2023-09-08T20:38:37.511Z"
   },
   {
    "duration": 165,
    "start_time": "2023-09-08T20:38:39.348Z"
   },
   {
    "duration": 3,
    "start_time": "2023-09-08T20:39:58.442Z"
   },
   {
    "duration": 3,
    "start_time": "2023-09-08T20:40:30.915Z"
   },
   {
    "duration": 355,
    "start_time": "2023-09-08T20:40:36.179Z"
   },
   {
    "duration": 369,
    "start_time": "2023-09-08T20:41:10.676Z"
   },
   {
    "duration": 1847,
    "start_time": "2023-09-08T20:42:56.573Z"
   },
   {
    "duration": 168,
    "start_time": "2023-09-08T20:43:07.090Z"
   },
   {
    "duration": 624,
    "start_time": "2023-09-08T20:43:17.892Z"
   },
   {
    "duration": 41,
    "start_time": "2023-09-08T20:43:57.912Z"
   },
   {
    "duration": 424,
    "start_time": "2023-09-08T20:44:04.289Z"
   },
   {
    "duration": 28,
    "start_time": "2023-09-08T20:44:53.711Z"
   },
   {
    "duration": 742,
    "start_time": "2023-09-08T20:45:04.429Z"
   },
   {
    "duration": 66,
    "start_time": "2023-09-08T20:51:17.450Z"
   },
   {
    "duration": 7,
    "start_time": "2023-09-08T20:52:54.811Z"
   },
   {
    "duration": 15,
    "start_time": "2023-09-08T20:58:58.439Z"
   },
   {
    "duration": 581,
    "start_time": "2023-09-08T20:59:20.926Z"
   },
   {
    "duration": 391,
    "start_time": "2023-09-08T20:59:25.117Z"
   },
   {
    "duration": 437,
    "start_time": "2023-09-08T21:02:16.165Z"
   },
   {
    "duration": 16531,
    "start_time": "2023-09-08T21:02:16.612Z"
   },
   {
    "duration": 10067,
    "start_time": "2023-09-08T21:02:33.145Z"
   },
   {
    "duration": 817,
    "start_time": "2023-09-08T21:02:43.214Z"
   },
   {
    "duration": 3285,
    "start_time": "2023-09-08T21:02:44.034Z"
   },
   {
    "duration": 4247,
    "start_time": "2023-09-08T21:02:47.321Z"
   },
   {
    "duration": 4,
    "start_time": "2023-09-08T21:02:51.570Z"
   },
   {
    "duration": 39,
    "start_time": "2023-09-08T21:02:51.576Z"
   },
   {
    "duration": 234,
    "start_time": "2023-09-08T21:02:51.616Z"
   },
   {
    "duration": 2469,
    "start_time": "2023-09-08T21:02:51.852Z"
   },
   {
    "duration": 883,
    "start_time": "2023-09-08T21:02:54.325Z"
   },
   {
    "duration": 120,
    "start_time": "2023-09-08T21:02:55.209Z"
   },
   {
    "duration": 574,
    "start_time": "2023-09-08T21:02:55.331Z"
   },
   {
    "duration": 43,
    "start_time": "2023-09-08T21:03:44.186Z"
   },
   {
    "duration": 405,
    "start_time": "2023-09-08T21:03:47.626Z"
   },
   {
    "duration": 460,
    "start_time": "2023-09-08T21:09:20.528Z"
   },
   {
    "duration": 16321,
    "start_time": "2023-09-08T21:09:20.990Z"
   },
   {
    "duration": 9999,
    "start_time": "2023-09-08T21:09:37.313Z"
   },
   {
    "duration": 814,
    "start_time": "2023-09-08T21:09:47.313Z"
   },
   {
    "duration": 3407,
    "start_time": "2023-09-08T21:09:48.131Z"
   },
   {
    "duration": 4145,
    "start_time": "2023-09-08T21:09:51.604Z"
   },
   {
    "duration": 4,
    "start_time": "2023-09-08T21:09:55.806Z"
   },
   {
    "duration": 19,
    "start_time": "2023-09-08T21:09:55.812Z"
   },
   {
    "duration": 325,
    "start_time": "2023-09-08T21:09:55.833Z"
   },
   {
    "duration": 2059,
    "start_time": "2023-09-08T21:09:56.160Z"
   },
   {
    "duration": 709,
    "start_time": "2023-09-08T21:09:58.221Z"
   },
   {
    "duration": 102,
    "start_time": "2023-09-08T21:09:58.931Z"
   },
   {
    "duration": 531,
    "start_time": "2023-09-08T21:09:59.035Z"
   },
   {
    "duration": 86,
    "start_time": "2023-09-08T21:10:38.511Z"
   },
   {
    "duration": 21,
    "start_time": "2023-09-08T21:11:03.219Z"
   },
   {
    "duration": 9,
    "start_time": "2023-09-08T21:11:38.182Z"
   },
   {
    "duration": 48,
    "start_time": "2023-09-08T21:11:49.598Z"
   },
   {
    "duration": 959,
    "start_time": "2023-09-08T21:11:50.311Z"
   },
   {
    "duration": 9,
    "start_time": "2023-09-08T21:11:56.368Z"
   },
   {
    "duration": 164,
    "start_time": "2023-09-08T21:11:59.931Z"
   },
   {
    "duration": 466,
    "start_time": "2023-09-08T21:12:00.658Z"
   },
   {
    "duration": 148,
    "start_time": "2023-09-08T21:12:08.538Z"
   },
   {
    "duration": 50,
    "start_time": "2023-09-08T21:15:37.330Z"
   },
   {
    "duration": 439,
    "start_time": "2023-09-08T21:15:42.211Z"
   },
   {
    "duration": 15808,
    "start_time": "2023-09-08T21:15:42.652Z"
   },
   {
    "duration": 9484,
    "start_time": "2023-09-08T21:15:58.462Z"
   },
   {
    "duration": 867,
    "start_time": "2023-09-08T21:16:07.948Z"
   },
   {
    "duration": 2897,
    "start_time": "2023-09-08T21:16:08.819Z"
   },
   {
    "duration": 4427,
    "start_time": "2023-09-08T21:16:11.718Z"
   },
   {
    "duration": 7,
    "start_time": "2023-09-08T21:16:16.207Z"
   },
   {
    "duration": 6,
    "start_time": "2023-09-08T21:16:16.215Z"
   },
   {
    "duration": 232,
    "start_time": "2023-09-08T21:16:16.223Z"
   },
   {
    "duration": 1981,
    "start_time": "2023-09-08T21:16:16.456Z"
   },
   {
    "duration": 994,
    "start_time": "2023-09-08T21:16:18.439Z"
   },
   {
    "duration": 102,
    "start_time": "2023-09-08T21:16:19.434Z"
   },
   {
    "duration": 571,
    "start_time": "2023-09-08T21:16:19.537Z"
   },
   {
    "duration": 28,
    "start_time": "2023-09-08T21:18:03.940Z"
   },
   {
    "duration": 485,
    "start_time": "2023-09-08T21:18:04.740Z"
   },
   {
    "duration": 989,
    "start_time": "2023-09-08T21:18:54.973Z"
   },
   {
    "duration": 0,
    "start_time": "2023-09-08T21:18:55.965Z"
   },
   {
    "duration": 621,
    "start_time": "2023-09-08T21:19:14.741Z"
   },
   {
    "duration": 73,
    "start_time": "2023-09-08T21:22:57.193Z"
   },
   {
    "duration": 548,
    "start_time": "2023-09-08T21:23:04.380Z"
   },
   {
    "duration": 16902,
    "start_time": "2023-09-08T21:23:04.931Z"
   },
   {
    "duration": 10700,
    "start_time": "2023-09-08T21:23:21.837Z"
   },
   {
    "duration": 986,
    "start_time": "2023-09-08T21:23:32.540Z"
   },
   {
    "duration": 3996,
    "start_time": "2023-09-08T21:23:33.529Z"
   },
   {
    "duration": 4876,
    "start_time": "2023-09-08T21:23:37.529Z"
   },
   {
    "duration": 6,
    "start_time": "2023-09-08T21:23:42.408Z"
   },
   {
    "duration": 10,
    "start_time": "2023-09-08T21:23:42.416Z"
   },
   {
    "duration": 329,
    "start_time": "2023-09-08T21:23:42.428Z"
   },
   {
    "duration": 2677,
    "start_time": "2023-09-08T21:23:42.759Z"
   },
   {
    "duration": 985,
    "start_time": "2023-09-08T21:23:45.438Z"
   },
   {
    "duration": 196,
    "start_time": "2023-09-08T21:23:46.424Z"
   },
   {
    "duration": 619,
    "start_time": "2023-09-08T21:23:46.622Z"
   },
   {
    "duration": 52,
    "start_time": "2023-09-08T21:24:59.896Z"
   },
   {
    "duration": 4,
    "start_time": "2023-09-08T21:25:24.012Z"
   },
   {
    "duration": 39,
    "start_time": "2023-09-08T21:25:42.269Z"
   },
   {
    "duration": 439,
    "start_time": "2023-09-08T21:27:41.224Z"
   },
   {
    "duration": 17287,
    "start_time": "2023-09-08T21:27:41.665Z"
   },
   {
    "duration": 11200,
    "start_time": "2023-09-08T21:27:59.014Z"
   },
   {
    "duration": 909,
    "start_time": "2023-09-08T21:28:10.216Z"
   },
   {
    "duration": 3779,
    "start_time": "2023-09-08T21:28:11.127Z"
   },
   {
    "duration": 4938,
    "start_time": "2023-09-08T21:28:14.908Z"
   },
   {
    "duration": 3,
    "start_time": "2023-09-08T21:28:19.847Z"
   },
   {
    "duration": 18,
    "start_time": "2023-09-08T21:28:19.852Z"
   },
   {
    "duration": 294,
    "start_time": "2023-09-08T21:28:19.872Z"
   },
   {
    "duration": 2475,
    "start_time": "2023-09-08T21:28:20.169Z"
   },
   {
    "duration": 1111,
    "start_time": "2023-09-08T21:28:22.702Z"
   },
   {
    "duration": 109,
    "start_time": "2023-09-08T21:28:23.818Z"
   },
   {
    "duration": 684,
    "start_time": "2023-09-08T21:28:23.929Z"
   },
   {
    "duration": 3,
    "start_time": "2023-09-08T21:30:38.237Z"
   },
   {
    "duration": 106,
    "start_time": "2023-09-08T21:30:43.319Z"
   },
   {
    "duration": 9,
    "start_time": "2023-09-08T21:30:45.590Z"
   },
   {
    "duration": 2,
    "start_time": "2023-09-08T21:30:48.435Z"
   },
   {
    "duration": 80,
    "start_time": "2023-09-08T21:31:55.025Z"
   },
   {
    "duration": 98,
    "start_time": "2023-09-08T21:31:59.735Z"
   },
   {
    "duration": 4,
    "start_time": "2023-09-08T21:32:10.443Z"
   },
   {
    "duration": 32,
    "start_time": "2023-09-08T21:33:39.566Z"
   },
   {
    "duration": 605,
    "start_time": "2023-09-08T21:33:40.831Z"
   },
   {
    "duration": 762,
    "start_time": "2023-09-08T21:33:46.300Z"
   },
   {
    "duration": 117,
    "start_time": "2023-09-08T21:34:24.155Z"
   },
   {
    "duration": 35,
    "start_time": "2023-09-08T21:34:43.791Z"
   },
   {
    "duration": 543,
    "start_time": "2023-09-08T21:34:44.715Z"
   },
   {
    "duration": 3,
    "start_time": "2023-09-08T21:35:28.556Z"
   },
   {
    "duration": 451,
    "start_time": "2023-09-08T21:35:40.068Z"
   },
   {
    "duration": 16510,
    "start_time": "2023-09-08T21:35:40.521Z"
   },
   {
    "duration": 9997,
    "start_time": "2023-09-08T21:35:57.033Z"
   },
   {
    "duration": 997,
    "start_time": "2023-09-08T21:36:07.032Z"
   },
   {
    "duration": 3271,
    "start_time": "2023-09-08T21:36:08.032Z"
   },
   {
    "duration": 4410,
    "start_time": "2023-09-08T21:36:11.305Z"
   },
   {
    "duration": 4,
    "start_time": "2023-09-08T21:36:15.717Z"
   },
   {
    "duration": 30,
    "start_time": "2023-09-08T21:36:15.722Z"
   },
   {
    "duration": 291,
    "start_time": "2023-09-08T21:36:15.754Z"
   },
   {
    "duration": 2184,
    "start_time": "2023-09-08T21:36:16.047Z"
   },
   {
    "duration": 790,
    "start_time": "2023-09-08T21:36:18.233Z"
   },
   {
    "duration": 105,
    "start_time": "2023-09-08T21:36:19.025Z"
   },
   {
    "duration": 598,
    "start_time": "2023-09-08T21:36:19.131Z"
   },
   {
    "duration": 74,
    "start_time": "2023-09-08T21:36:19.732Z"
   },
   {
    "duration": 91,
    "start_time": "2023-09-08T21:36:19.811Z"
   },
   {
    "duration": 1007,
    "start_time": "2023-09-08T21:36:19.907Z"
   },
   {
    "duration": 23539,
    "start_time": "2023-09-09T10:06:18.021Z"
   },
   {
    "duration": 23463,
    "start_time": "2023-09-09T10:07:00.700Z"
   },
   {
    "duration": 689,
    "start_time": "2023-09-09T10:07:31.265Z"
   },
   {
    "duration": 2781,
    "start_time": "2023-09-09T10:07:39.965Z"
   },
   {
    "duration": 3432,
    "start_time": "2023-09-09T10:07:47.127Z"
   },
   {
    "duration": 4,
    "start_time": "2023-09-09T10:07:55.031Z"
   },
   {
    "duration": 3,
    "start_time": "2023-09-09T10:07:56.370Z"
   },
   {
    "duration": 4,
    "start_time": "2023-09-09T10:07:58.441Z"
   },
   {
    "duration": 1958,
    "start_time": "2023-09-09T10:08:09.897Z"
   },
   {
    "duration": 817,
    "start_time": "2023-09-09T10:08:11.858Z"
   },
   {
    "duration": 104,
    "start_time": "2023-09-09T10:08:12.677Z"
   },
   {
    "duration": 441,
    "start_time": "2023-09-09T10:08:16.004Z"
   },
   {
    "duration": 2,
    "start_time": "2023-09-09T10:08:19.154Z"
   },
   {
    "duration": 26,
    "start_time": "2023-09-09T10:08:19.892Z"
   },
   {
    "duration": 853,
    "start_time": "2023-09-09T10:08:20.262Z"
   },
   {
    "duration": 421,
    "start_time": "2023-09-09T10:11:12.248Z"
   },
   {
    "duration": 23494,
    "start_time": "2023-09-09T10:11:12.671Z"
   },
   {
    "duration": 3,
    "start_time": "2023-09-09T10:11:36.167Z"
   },
   {
    "duration": 1081,
    "start_time": "2023-09-09T10:11:36.172Z"
   },
   {
    "duration": 688,
    "start_time": "2023-09-09T10:11:37.256Z"
   },
   {
    "duration": 2503,
    "start_time": "2023-09-09T10:11:37.946Z"
   },
   {
    "duration": 3336,
    "start_time": "2023-09-09T10:11:40.451Z"
   },
   {
    "duration": 7,
    "start_time": "2023-09-09T10:11:43.789Z"
   },
   {
    "duration": 9,
    "start_time": "2023-09-09T10:11:43.797Z"
   },
   {
    "duration": 1916,
    "start_time": "2023-09-09T10:11:43.843Z"
   },
   {
    "duration": 690,
    "start_time": "2023-09-09T10:11:45.761Z"
   },
   {
    "duration": 100,
    "start_time": "2023-09-09T10:11:46.453Z"
   },
   {
    "duration": 415,
    "start_time": "2023-09-09T10:11:46.555Z"
   },
   {
    "duration": 3,
    "start_time": "2023-09-09T10:11:46.972Z"
   },
   {
    "duration": 2498,
    "start_time": "2023-09-09T10:11:46.976Z"
   },
   {
    "duration": 75,
    "start_time": "2023-09-09T10:11:49.475Z"
   },
   {
    "duration": 997,
    "start_time": "2023-09-09T10:11:49.552Z"
   },
   {
    "duration": 125,
    "start_time": "2023-09-09T10:11:50.551Z"
   },
   {
    "duration": 394,
    "start_time": "2023-09-09T10:13:35.160Z"
   },
   {
    "duration": 23267,
    "start_time": "2023-09-09T10:14:14.282Z"
   },
   {
    "duration": 646,
    "start_time": "2023-09-09T10:14:38.604Z"
   },
   {
    "duration": 2716,
    "start_time": "2023-09-09T10:14:39.253Z"
   },
   {
    "duration": 724,
    "start_time": "2023-09-09T10:15:15.130Z"
   },
   {
    "duration": 175,
    "start_time": "2023-09-09T10:15:17.183Z"
   },
   {
    "duration": 1363,
    "start_time": "2023-09-09T10:15:21.505Z"
   },
   {
    "duration": 80,
    "start_time": "2023-09-09T10:16:10.840Z"
   },
   {
    "duration": 1225,
    "start_time": "2023-09-09T10:16:25.620Z"
   },
   {
    "duration": 17,
    "start_time": "2023-09-09T10:17:07.609Z"
   },
   {
    "duration": 247,
    "start_time": "2023-09-09T10:20:36.828Z"
   },
   {
    "duration": 301,
    "start_time": "2023-09-09T10:24:49.551Z"
   },
   {
    "duration": 217,
    "start_time": "2023-09-09T10:28:35.739Z"
   },
   {
    "duration": 256,
    "start_time": "2023-09-09T10:30:18.771Z"
   },
   {
    "duration": 140,
    "start_time": "2023-09-09T10:30:23.232Z"
   },
   {
    "duration": 1059,
    "start_time": "2023-09-09T10:30:28.800Z"
   },
   {
    "duration": 86,
    "start_time": "2023-09-09T10:30:41.058Z"
   },
   {
    "duration": 1084,
    "start_time": "2023-09-09T10:30:43.960Z"
   },
   {
    "duration": 967,
    "start_time": "2023-09-09T10:30:47.683Z"
   },
   {
    "duration": 449,
    "start_time": "2023-09-09T10:31:39.295Z"
   },
   {
    "duration": 135,
    "start_time": "2023-09-09T10:31:52.326Z"
   },
   {
    "duration": 4,
    "start_time": "2023-09-09T10:32:13.292Z"
   },
   {
    "duration": 13,
    "start_time": "2023-09-09T10:32:13.298Z"
   },
   {
    "duration": 21,
    "start_time": "2023-09-09T10:32:13.313Z"
   },
   {
    "duration": 508,
    "start_time": "2023-09-09T10:32:13.336Z"
   },
   {
    "duration": 211,
    "start_time": "2023-09-09T10:32:13.846Z"
   },
   {
    "duration": 209,
    "start_time": "2023-09-09T10:32:14.058Z"
   },
   {
    "duration": 1000,
    "start_time": "2023-09-09T10:32:14.268Z"
   },
   {
    "duration": 280,
    "start_time": "2023-09-09T10:32:15.270Z"
   },
   {
    "duration": 2993,
    "start_time": "2023-09-09T10:32:15.551Z"
   },
   {
    "duration": 3,
    "start_time": "2023-09-09T10:32:18.546Z"
   },
   {
    "duration": 12,
    "start_time": "2023-09-09T10:32:18.551Z"
   },
   {
    "duration": 1814,
    "start_time": "2023-09-09T10:32:18.564Z"
   },
   {
    "duration": 507,
    "start_time": "2023-09-09T10:32:20.380Z"
   },
   {
    "duration": 78,
    "start_time": "2023-09-09T10:32:20.889Z"
   },
   {
    "duration": 403,
    "start_time": "2023-09-09T10:32:20.969Z"
   },
   {
    "duration": 9,
    "start_time": "2023-09-09T10:32:21.374Z"
   },
   {
    "duration": 620,
    "start_time": "2023-09-09T10:32:25.729Z"
   },
   {
    "duration": 287,
    "start_time": "2023-09-09T10:32:58.872Z"
   },
   {
    "duration": 14,
    "start_time": "2023-09-09T10:33:12.822Z"
   },
   {
    "duration": 12,
    "start_time": "2023-09-09T10:33:19.334Z"
   },
   {
    "duration": 45,
    "start_time": "2023-09-09T10:35:25.892Z"
   },
   {
    "duration": 379,
    "start_time": "2023-09-09T10:35:32.896Z"
   },
   {
    "duration": 15287,
    "start_time": "2023-09-09T10:35:33.277Z"
   },
   {
    "duration": 8180,
    "start_time": "2023-09-09T10:35:48.566Z"
   },
   {
    "duration": 609,
    "start_time": "2023-09-09T10:35:56.747Z"
   },
   {
    "duration": 939,
    "start_time": "2023-09-09T10:35:57.358Z"
   },
   {
    "duration": 2263,
    "start_time": "2023-09-09T10:35:58.299Z"
   },
   {
    "duration": 186,
    "start_time": "2023-09-09T10:36:00.564Z"
   },
   {
    "duration": 11,
    "start_time": "2023-09-09T10:39:14.509Z"
   },
   {
    "duration": 7,
    "start_time": "2023-09-09T10:39:41.636Z"
   },
   {
    "duration": 3,
    "start_time": "2023-09-09T10:40:49.761Z"
   },
   {
    "duration": 515,
    "start_time": "2023-09-09T10:41:11.435Z"
   },
   {
    "duration": 587,
    "start_time": "2023-09-09T10:41:24.471Z"
   },
   {
    "duration": 266,
    "start_time": "2023-09-09T10:44:20.393Z"
   },
   {
    "duration": 692,
    "start_time": "2023-09-09T10:44:32.554Z"
   },
   {
    "duration": 421,
    "start_time": "2023-09-09T10:45:01.348Z"
   },
   {
    "duration": 510,
    "start_time": "2023-09-09T10:45:14.270Z"
   },
   {
    "duration": 142,
    "start_time": "2023-09-09T10:45:28.455Z"
   },
   {
    "duration": 135,
    "start_time": "2023-09-09T10:45:32.185Z"
   },
   {
    "duration": 504,
    "start_time": "2023-09-09T10:45:35.243Z"
   },
   {
    "duration": 528,
    "start_time": "2023-09-09T10:45:50.275Z"
   },
   {
    "duration": 44,
    "start_time": "2023-09-09T10:53:14.359Z"
   },
   {
    "duration": 527,
    "start_time": "2023-09-09T10:53:17.918Z"
   },
   {
    "duration": 18,
    "start_time": "2023-09-09T10:53:22.090Z"
   },
   {
    "duration": 1104,
    "start_time": "2023-09-09T10:53:24.649Z"
   },
   {
    "duration": 453,
    "start_time": "2023-09-09T10:54:54.649Z"
   },
   {
    "duration": 411,
    "start_time": "2023-09-09T10:55:43.057Z"
   },
   {
    "duration": 14923,
    "start_time": "2023-09-09T10:55:43.469Z"
   },
   {
    "duration": 8899,
    "start_time": "2023-09-09T10:55:58.445Z"
   },
   {
    "duration": 713,
    "start_time": "2023-09-09T10:56:07.346Z"
   },
   {
    "duration": 1011,
    "start_time": "2023-09-09T10:56:08.062Z"
   },
   {
    "duration": 2297,
    "start_time": "2023-09-09T10:56:09.075Z"
   },
   {
    "duration": 68,
    "start_time": "2023-09-09T10:56:11.377Z"
   },
   {
    "duration": 1098,
    "start_time": "2023-09-09T10:56:11.447Z"
   },
   {
    "duration": 521,
    "start_time": "2023-09-09T10:56:12.548Z"
   },
   {
    "duration": 98,
    "start_time": "2023-09-09T10:59:25.805Z"
   },
   {
    "duration": 4,
    "start_time": "2023-09-09T10:59:49.067Z"
   },
   {
    "duration": 18,
    "start_time": "2023-09-09T10:59:49.969Z"
   },
   {
    "duration": 132,
    "start_time": "2023-09-09T11:00:11.266Z"
   },
   {
    "duration": 14,
    "start_time": "2023-09-09T11:00:27.800Z"
   },
   {
    "duration": 338,
    "start_time": "2023-09-09T11:00:31.612Z"
   },
   {
    "duration": 14,
    "start_time": "2023-09-09T11:00:58.675Z"
   },
   {
    "duration": 32,
    "start_time": "2023-09-09T11:01:05.259Z"
   },
   {
    "duration": 1591,
    "start_time": "2023-09-09T11:01:24.472Z"
   },
   {
    "duration": 37,
    "start_time": "2023-09-09T11:10:54.471Z"
   },
   {
    "duration": 18,
    "start_time": "2023-09-09T11:11:11.145Z"
   },
   {
    "duration": 8695,
    "start_time": "2023-09-09T11:11:21.744Z"
   },
   {
    "duration": 545,
    "start_time": "2023-09-09T11:13:18.756Z"
   },
   {
    "duration": 4,
    "start_time": "2023-09-09T11:13:37.569Z"
   },
   {
    "duration": 200,
    "start_time": "2023-09-09T11:14:04.363Z"
   },
   {
    "duration": 47,
    "start_time": "2023-09-09T11:16:15.813Z"
   },
   {
    "duration": 28,
    "start_time": "2023-09-09T11:16:21.554Z"
   },
   {
    "duration": 24,
    "start_time": "2023-09-09T11:16:24.260Z"
   },
   {
    "duration": 12,
    "start_time": "2023-09-09T11:16:31.393Z"
   },
   {
    "duration": 733,
    "start_time": "2023-09-09T11:19:26.367Z"
   },
   {
    "duration": 18,
    "start_time": "2023-09-09T11:19:30.928Z"
   },
   {
    "duration": 491,
    "start_time": "2023-09-09T11:20:55.965Z"
   },
   {
    "duration": 5,
    "start_time": "2023-09-09T11:21:41.150Z"
   },
   {
    "duration": 19,
    "start_time": "2023-09-09T11:22:05.123Z"
   },
   {
    "duration": 9,
    "start_time": "2023-09-09T11:22:45.745Z"
   },
   {
    "duration": 10,
    "start_time": "2023-09-09T11:22:48.160Z"
   },
   {
    "duration": 12,
    "start_time": "2023-09-09T11:22:51.238Z"
   },
   {
    "duration": 11,
    "start_time": "2023-09-09T11:22:52.921Z"
   },
   {
    "duration": 8,
    "start_time": "2023-09-09T11:23:04.978Z"
   },
   {
    "duration": 4,
    "start_time": "2023-09-09T11:23:32.509Z"
   },
   {
    "duration": 2419,
    "start_time": "2023-09-09T11:23:46.981Z"
   },
   {
    "duration": 2336,
    "start_time": "2023-09-09T11:24:08.863Z"
   },
   {
    "duration": 82,
    "start_time": "2023-09-09T11:24:17.522Z"
   },
   {
    "duration": 5,
    "start_time": "2023-09-09T11:24:20.111Z"
   },
   {
    "duration": 8,
    "start_time": "2023-09-09T11:24:27.695Z"
   },
   {
    "duration": 16,
    "start_time": "2023-09-09T11:26:55.466Z"
   },
   {
    "duration": 5,
    "start_time": "2023-09-09T11:27:50.186Z"
   },
   {
    "duration": 6,
    "start_time": "2023-09-09T11:28:22.634Z"
   },
   {
    "duration": 6,
    "start_time": "2023-09-09T11:28:38.290Z"
   },
   {
    "duration": 10,
    "start_time": "2023-09-09T11:28:51.023Z"
   },
   {
    "duration": 16,
    "start_time": "2023-09-09T11:29:25.346Z"
   },
   {
    "duration": 11,
    "start_time": "2023-09-09T11:30:03.115Z"
   },
   {
    "duration": 10,
    "start_time": "2023-09-09T11:30:06.781Z"
   },
   {
    "duration": 6,
    "start_time": "2023-09-09T11:30:26.698Z"
   },
   {
    "duration": 3,
    "start_time": "2023-09-09T11:30:41.112Z"
   },
   {
    "duration": 12,
    "start_time": "2023-09-09T11:30:44.358Z"
   },
   {
    "duration": 6,
    "start_time": "2023-09-09T11:30:49.774Z"
   },
   {
    "duration": 22,
    "start_time": "2023-09-09T11:31:11.747Z"
   },
   {
    "duration": 5,
    "start_time": "2023-09-09T11:32:15.539Z"
   },
   {
    "duration": 104,
    "start_time": "2023-09-09T11:32:42.759Z"
   },
   {
    "duration": 153,
    "start_time": "2023-09-09T11:33:34.427Z"
   },
   {
    "duration": 11,
    "start_time": "2023-09-09T11:34:11.267Z"
   },
   {
    "duration": 3,
    "start_time": "2023-09-09T11:34:40.842Z"
   },
   {
    "duration": 11,
    "start_time": "2023-09-09T11:34:49.769Z"
   },
   {
    "duration": 14,
    "start_time": "2023-09-09T11:35:28.624Z"
   },
   {
    "duration": 12,
    "start_time": "2023-09-09T11:35:32.044Z"
   },
   {
    "duration": 265,
    "start_time": "2023-09-09T11:37:21.287Z"
   },
   {
    "duration": 104,
    "start_time": "2023-09-09T11:37:29.207Z"
   },
   {
    "duration": 16,
    "start_time": "2023-09-09T11:39:58.516Z"
   },
   {
    "duration": 222,
    "start_time": "2023-09-09T11:41:45.133Z"
   },
   {
    "duration": 9,
    "start_time": "2023-09-09T11:42:28.691Z"
   },
   {
    "duration": 983,
    "start_time": "2023-09-09T11:44:43.597Z"
   },
   {
    "duration": 1524,
    "start_time": "2023-09-09T11:44:57.937Z"
   },
   {
    "duration": 9,
    "start_time": "2023-09-09T11:48:31.144Z"
   },
   {
    "duration": 8,
    "start_time": "2023-09-09T11:48:42.101Z"
   },
   {
    "duration": 422,
    "start_time": "2023-09-09T11:51:19.536Z"
   },
   {
    "duration": 15024,
    "start_time": "2023-09-09T11:51:19.960Z"
   },
   {
    "duration": 8078,
    "start_time": "2023-09-09T11:51:34.987Z"
   },
   {
    "duration": 792,
    "start_time": "2023-09-09T11:51:43.068Z"
   },
   {
    "duration": 1018,
    "start_time": "2023-09-09T11:51:43.862Z"
   },
   {
    "duration": 1263,
    "start_time": "2023-09-09T11:51:44.882Z"
   },
   {
    "duration": 4,
    "start_time": "2023-09-09T11:51:46.149Z"
   },
   {
    "duration": 96,
    "start_time": "2023-09-09T11:51:46.155Z"
   },
   {
    "duration": 2091,
    "start_time": "2023-09-09T11:51:46.253Z"
   },
   {
    "duration": 834,
    "start_time": "2023-09-09T11:51:48.348Z"
   },
   {
    "duration": 3,
    "start_time": "2023-09-09T11:51:49.184Z"
   },
   {
    "duration": 0,
    "start_time": "2023-09-09T11:51:49.189Z"
   },
   {
    "duration": 0,
    "start_time": "2023-09-09T11:51:49.244Z"
   },
   {
    "duration": 0,
    "start_time": "2023-09-09T11:51:49.245Z"
   },
   {
    "duration": 283,
    "start_time": "2023-09-09T11:51:58.458Z"
   },
   {
    "duration": 4,
    "start_time": "2023-09-09T11:52:02.478Z"
   },
   {
    "duration": 179,
    "start_time": "2023-09-09T11:52:03.068Z"
   },
   {
    "duration": 113,
    "start_time": "2023-09-09T11:52:10.076Z"
   },
   {
    "duration": 41,
    "start_time": "2023-09-09T11:52:11.592Z"
   },
   {
    "duration": 245,
    "start_time": "2023-09-09T11:53:10.822Z"
   },
   {
    "duration": 37,
    "start_time": "2023-09-09T11:54:17.728Z"
   },
   {
    "duration": 82,
    "start_time": "2023-09-09T11:54:42.829Z"
   },
   {
    "duration": 3,
    "start_time": "2023-09-09T11:54:45.044Z"
   },
   {
    "duration": 3,
    "start_time": "2023-09-09T11:54:50.821Z"
   },
   {
    "duration": 3,
    "start_time": "2023-09-09T11:54:58.461Z"
   },
   {
    "duration": 414,
    "start_time": "2023-09-09T11:55:15.862Z"
   },
   {
    "duration": 14900,
    "start_time": "2023-09-09T11:55:16.278Z"
   },
   {
    "duration": 7802,
    "start_time": "2023-09-09T11:55:31.179Z"
   },
   {
    "duration": 694,
    "start_time": "2023-09-09T11:55:38.983Z"
   },
   {
    "duration": 931,
    "start_time": "2023-09-09T11:55:39.745Z"
   },
   {
    "duration": 1198,
    "start_time": "2023-09-09T11:55:40.678Z"
   },
   {
    "duration": 68,
    "start_time": "2023-09-09T11:55:41.877Z"
   },
   {
    "duration": 40,
    "start_time": "2023-09-09T11:55:41.947Z"
   },
   {
    "duration": 1864,
    "start_time": "2023-09-09T11:55:41.989Z"
   },
   {
    "duration": 912,
    "start_time": "2023-09-09T11:55:43.857Z"
   },
   {
    "duration": 481,
    "start_time": "2023-09-09T11:55:44.771Z"
   },
   {
    "duration": 3,
    "start_time": "2023-09-09T11:55:45.254Z"
   },
   {
    "duration": 274,
    "start_time": "2023-09-09T11:55:45.258Z"
   },
   {
    "duration": 38,
    "start_time": "2023-09-09T11:55:45.544Z"
   },
   {
    "duration": 40,
    "start_time": "2023-09-09T11:58:52.207Z"
   },
   {
    "duration": 898,
    "start_time": "2023-09-09T11:59:03.485Z"
   },
   {
    "duration": 1730,
    "start_time": "2023-09-09T11:59:04.830Z"
   },
   {
    "duration": 2419,
    "start_time": "2023-09-09T11:59:14.926Z"
   },
   {
    "duration": 1516,
    "start_time": "2023-09-09T11:59:34.756Z"
   },
   {
    "duration": 596,
    "start_time": "2023-09-09T11:59:36.274Z"
   },
   {
    "duration": 175,
    "start_time": "2023-09-09T11:59:36.871Z"
   },
   {
    "duration": 306,
    "start_time": "2023-09-09T11:59:41.851Z"
   },
   {
    "duration": 25,
    "start_time": "2023-09-09T11:59:49.323Z"
   },
   {
    "duration": 965,
    "start_time": "2023-09-09T11:59:49.581Z"
   },
   {
    "duration": 209,
    "start_time": "2023-09-09T12:00:34.892Z"
   },
   {
    "duration": 242,
    "start_time": "2023-09-09T12:00:45.603Z"
   },
   {
    "duration": 408,
    "start_time": "2023-09-10T21:28:08.876Z"
   },
   {
    "duration": 14998,
    "start_time": "2023-09-10T21:28:09.286Z"
   },
   {
    "duration": 7967,
    "start_time": "2023-09-10T21:28:24.286Z"
   },
   {
    "duration": 721,
    "start_time": "2023-09-10T21:28:32.255Z"
   },
   {
    "duration": 1008,
    "start_time": "2023-09-10T21:28:33.044Z"
   },
   {
    "duration": 1400,
    "start_time": "2023-09-10T21:28:34.054Z"
   },
   {
    "duration": 3,
    "start_time": "2023-09-10T21:28:35.456Z"
   },
   {
    "duration": 96,
    "start_time": "2023-09-10T21:28:35.460Z"
   },
   {
    "duration": 2089,
    "start_time": "2023-09-10T21:28:35.558Z"
   },
   {
    "duration": 738,
    "start_time": "2023-09-10T21:28:37.744Z"
   },
   {
    "duration": 503,
    "start_time": "2023-09-10T21:28:38.484Z"
   },
   {
    "duration": 3,
    "start_time": "2023-09-10T21:28:38.988Z"
   },
   {
    "duration": 252,
    "start_time": "2023-09-10T21:28:38.993Z"
   },
   {
    "duration": 35,
    "start_time": "2023-09-10T21:28:39.247Z"
   },
   {
    "duration": 882,
    "start_time": "2023-09-10T21:28:39.283Z"
   },
   {
    "duration": 1606,
    "start_time": "2023-09-10T21:28:40.167Z"
   },
   {
    "duration": 2398,
    "start_time": "2023-09-10T21:28:41.774Z"
   },
   {
    "duration": 1686,
    "start_time": "2023-09-10T21:28:44.174Z"
   },
   {
    "duration": 785,
    "start_time": "2023-09-10T21:28:45.862Z"
   },
   {
    "duration": 103,
    "start_time": "2023-09-10T21:28:46.649Z"
   },
   {
    "duration": 392,
    "start_time": "2023-09-10T21:28:46.754Z"
   },
   {
    "duration": 3,
    "start_time": "2023-09-10T21:28:47.148Z"
   },
   {
    "duration": 31,
    "start_time": "2023-09-10T21:28:47.152Z"
   },
   {
    "duration": 1031,
    "start_time": "2023-09-10T21:28:47.245Z"
   },
   {
    "duration": 378,
    "start_time": "2023-09-10T21:28:48.277Z"
   },
   {
    "duration": 3404,
    "start_time": "2023-09-10T21:31:48.142Z"
   },
   {
    "duration": 368494,
    "start_time": "2023-09-10T21:32:21.073Z"
   },
   {
    "duration": 426,
    "start_time": "2023-09-10T21:46:00.607Z"
   },
   {
    "duration": 15345,
    "start_time": "2023-09-10T21:46:01.035Z"
   },
   {
    "duration": 9099,
    "start_time": "2023-09-10T21:46:16.382Z"
   },
   {
    "duration": 863,
    "start_time": "2023-09-10T21:46:25.484Z"
   },
   {
    "duration": 1113,
    "start_time": "2023-09-10T21:46:26.351Z"
   },
   {
    "duration": 1483,
    "start_time": "2023-09-10T21:46:27.465Z"
   },
   {
    "duration": 8,
    "start_time": "2023-09-10T21:46:28.950Z"
   },
   {
    "duration": 17,
    "start_time": "2023-09-10T21:46:28.960Z"
   },
   {
    "duration": 2080,
    "start_time": "2023-09-10T21:46:28.979Z"
   },
   {
    "duration": 831,
    "start_time": "2023-09-10T21:46:31.063Z"
   },
   {
    "duration": 340,
    "start_time": "2023-09-10T21:46:31.895Z"
   },
   {
    "duration": 3,
    "start_time": "2023-09-10T21:46:32.237Z"
   },
   {
    "duration": 280,
    "start_time": "2023-09-10T21:46:32.244Z"
   },
   {
    "duration": 51,
    "start_time": "2023-09-10T21:46:32.526Z"
   },
   {
    "duration": 904,
    "start_time": "2023-09-10T21:46:32.579Z"
   },
   {
    "duration": 1892,
    "start_time": "2023-09-10T21:46:33.484Z"
   },
   {
    "duration": 2794,
    "start_time": "2023-09-10T21:46:35.378Z"
   },
   {
    "duration": 1882,
    "start_time": "2023-09-10T21:46:38.174Z"
   },
   {
    "duration": 802,
    "start_time": "2023-09-10T21:46:40.058Z"
   },
   {
    "duration": 100,
    "start_time": "2023-09-10T21:46:40.861Z"
   },
   {
    "duration": 386,
    "start_time": "2023-09-10T21:46:40.963Z"
   },
   {
    "duration": 5,
    "start_time": "2023-09-10T21:46:41.350Z"
   },
   {
    "duration": 110,
    "start_time": "2023-09-10T21:46:41.356Z"
   },
   {
    "duration": 1291,
    "start_time": "2023-09-10T21:46:41.468Z"
   },
   {
    "duration": 395,
    "start_time": "2023-09-10T21:46:42.761Z"
   },
   {
    "duration": 2902,
    "start_time": "2023-09-10T21:46:43.158Z"
   },
   {
    "duration": 2596,
    "start_time": "2023-09-10T21:46:46.062Z"
   },
   {
    "duration": 263,
    "start_time": "2023-09-10T21:48:34.202Z"
   },
   {
    "duration": 107,
    "start_time": "2023-09-10T21:49:27.969Z"
   },
   {
    "duration": 18,
    "start_time": "2023-09-10T21:50:29.596Z"
   },
   {
    "duration": 167,
    "start_time": "2023-09-10T21:50:50.778Z"
   },
   {
    "duration": 199,
    "start_time": "2023-09-10T21:51:35.250Z"
   },
   {
    "duration": 155,
    "start_time": "2023-09-10T21:51:48.920Z"
   },
   {
    "duration": 447,
    "start_time": "2023-09-10T21:53:36.607Z"
   },
   {
    "duration": 14633,
    "start_time": "2023-09-10T21:53:37.056Z"
   },
   {
    "duration": 7818,
    "start_time": "2023-09-10T21:53:51.745Z"
   },
   {
    "duration": 794,
    "start_time": "2023-09-10T21:53:59.566Z"
   },
   {
    "duration": 922,
    "start_time": "2023-09-10T21:54:00.363Z"
   },
   {
    "duration": 1285,
    "start_time": "2023-09-10T21:54:01.287Z"
   },
   {
    "duration": 3,
    "start_time": "2023-09-10T21:54:02.574Z"
   },
   {
    "duration": 16,
    "start_time": "2023-09-10T21:54:02.645Z"
   },
   {
    "duration": 2097,
    "start_time": "2023-09-10T21:54:02.663Z"
   },
   {
    "duration": 795,
    "start_time": "2023-09-10T21:54:04.761Z"
   },
   {
    "duration": 612,
    "start_time": "2023-09-10T21:54:05.558Z"
   },
   {
    "duration": 4,
    "start_time": "2023-09-10T21:54:06.172Z"
   },
   {
    "duration": 281,
    "start_time": "2023-09-10T21:54:06.177Z"
   },
   {
    "duration": 35,
    "start_time": "2023-09-10T21:54:06.462Z"
   },
   {
    "duration": 890,
    "start_time": "2023-09-10T21:54:06.499Z"
   },
   {
    "duration": 1928,
    "start_time": "2023-09-10T21:54:07.445Z"
   },
   {
    "duration": 2377,
    "start_time": "2023-09-10T21:54:09.374Z"
   },
   {
    "duration": 1499,
    "start_time": "2023-09-10T21:54:11.752Z"
   },
   {
    "duration": 612,
    "start_time": "2023-09-10T21:54:13.252Z"
   },
   {
    "duration": 105,
    "start_time": "2023-09-10T21:54:13.865Z"
   },
   {
    "duration": 398,
    "start_time": "2023-09-10T21:54:13.971Z"
   },
   {
    "duration": 2,
    "start_time": "2023-09-10T21:54:14.370Z"
   },
   {
    "duration": 96,
    "start_time": "2023-09-10T21:54:14.374Z"
   },
   {
    "duration": 1104,
    "start_time": "2023-09-10T21:54:14.471Z"
   },
   {
    "duration": 319,
    "start_time": "2023-09-10T21:54:22.642Z"
   },
   {
    "duration": 201,
    "start_time": "2023-09-10T21:54:44.269Z"
   },
   {
    "duration": 2802,
    "start_time": "2023-09-10T21:55:21.144Z"
   },
   {
    "duration": 3,
    "start_time": "2023-09-10T21:56:28.183Z"
   },
   {
    "duration": 180,
    "start_time": "2023-09-10T21:57:11.512Z"
   },
   {
    "duration": 3,
    "start_time": "2023-09-10T21:57:36.178Z"
   },
   {
    "duration": 3645,
    "start_time": "2023-09-10T21:57:42.416Z"
   },
   {
    "duration": 35,
    "start_time": "2023-09-10T21:58:47.621Z"
   },
   {
    "duration": 696,
    "start_time": "2023-09-10T21:58:56.249Z"
   },
   {
    "duration": 10,
    "start_time": "2023-09-10T22:02:33.276Z"
   },
   {
    "duration": 3,
    "start_time": "2023-09-10T22:02:37.226Z"
   },
   {
    "duration": 1730,
    "start_time": "2023-09-10T22:02:38.032Z"
   },
   {
    "duration": 11,
    "start_time": "2023-09-10T22:07:50.408Z"
   },
   {
    "duration": 1388,
    "start_time": "2023-09-10T22:07:52.486Z"
   },
   {
    "duration": 479,
    "start_time": "2023-09-10T22:08:03.405Z"
   },
   {
    "duration": 402,
    "start_time": "2023-09-10T22:08:34.566Z"
   },
   {
    "duration": 647,
    "start_time": "2023-09-10T22:08:38.998Z"
   },
   {
    "duration": 314,
    "start_time": "2023-09-10T22:08:44.730Z"
   },
   {
    "duration": 329,
    "start_time": "2023-09-10T22:08:51.648Z"
   },
   {
    "duration": 2,
    "start_time": "2023-09-10T22:09:06.179Z"
   },
   {
    "duration": 3,
    "start_time": "2023-09-10T22:09:06.886Z"
   },
   {
    "duration": 1607,
    "start_time": "2023-09-10T22:09:08.740Z"
   },
   {
    "duration": 574,
    "start_time": "2023-09-10T22:09:50.802Z"
   },
   {
    "duration": 8,
    "start_time": "2023-09-10T22:10:36.384Z"
   },
   {
    "duration": 10,
    "start_time": "2023-09-10T22:10:44.867Z"
   },
   {
    "duration": 8,
    "start_time": "2023-09-10T22:10:53.714Z"
   },
   {
    "duration": 939,
    "start_time": "2023-09-10T22:11:49.306Z"
   },
   {
    "duration": 3,
    "start_time": "2023-09-10T22:11:55.115Z"
   },
   {
    "duration": 1482,
    "start_time": "2023-09-10T22:11:57.924Z"
   },
   {
    "duration": 3,
    "start_time": "2023-09-10T22:12:02.066Z"
   },
   {
    "duration": 2,
    "start_time": "2023-09-10T22:13:09.718Z"
   },
   {
    "duration": 9,
    "start_time": "2023-09-10T22:14:42.634Z"
   },
   {
    "duration": 3,
    "start_time": "2023-09-10T22:14:50.989Z"
   },
   {
    "duration": 8,
    "start_time": "2023-09-10T22:15:29.924Z"
   },
   {
    "duration": 2094,
    "start_time": "2023-09-10T22:16:00.075Z"
   },
   {
    "duration": 9,
    "start_time": "2023-09-10T22:16:44.856Z"
   },
   {
    "duration": 150,
    "start_time": "2023-09-10T22:16:48.236Z"
   },
   {
    "duration": 385,
    "start_time": "2023-09-10T22:18:10.691Z"
   },
   {
    "duration": 15267,
    "start_time": "2023-09-10T22:18:11.078Z"
   },
   {
    "duration": 8396,
    "start_time": "2023-09-10T22:18:26.348Z"
   },
   {
    "duration": 609,
    "start_time": "2023-09-10T22:18:34.746Z"
   },
   {
    "duration": 1018,
    "start_time": "2023-09-10T22:18:35.357Z"
   },
   {
    "duration": 1272,
    "start_time": "2023-09-10T22:18:36.377Z"
   },
   {
    "duration": 4,
    "start_time": "2023-09-10T22:18:37.650Z"
   },
   {
    "duration": 18,
    "start_time": "2023-09-10T22:18:37.656Z"
   },
   {
    "duration": 1975,
    "start_time": "2023-09-10T22:18:37.675Z"
   },
   {
    "duration": 822,
    "start_time": "2023-09-10T22:18:39.656Z"
   },
   {
    "duration": 326,
    "start_time": "2023-09-10T22:18:40.480Z"
   },
   {
    "duration": 3,
    "start_time": "2023-09-10T22:18:40.808Z"
   },
   {
    "duration": 240,
    "start_time": "2023-09-10T22:18:40.812Z"
   },
   {
    "duration": 35,
    "start_time": "2023-09-10T22:18:41.054Z"
   },
   {
    "duration": 861,
    "start_time": "2023-09-10T22:18:41.091Z"
   },
   {
    "duration": 1706,
    "start_time": "2023-09-10T22:18:41.954Z"
   },
   {
    "duration": 2482,
    "start_time": "2023-09-10T22:18:43.662Z"
   },
   {
    "duration": 1805,
    "start_time": "2023-09-10T22:18:46.147Z"
   },
   {
    "duration": 791,
    "start_time": "2023-09-10T22:18:47.954Z"
   },
   {
    "duration": 117,
    "start_time": "2023-09-10T22:18:48.747Z"
   },
   {
    "duration": 480,
    "start_time": "2023-09-10T22:18:48.865Z"
   },
   {
    "duration": 3,
    "start_time": "2023-09-10T22:18:49.347Z"
   },
   {
    "duration": 94,
    "start_time": "2023-09-10T22:18:49.351Z"
   },
   {
    "duration": 1115,
    "start_time": "2023-09-10T22:18:49.446Z"
   },
   {
    "duration": 393,
    "start_time": "2023-09-10T22:18:50.563Z"
   },
   {
    "duration": 300,
    "start_time": "2023-09-10T22:18:50.958Z"
   },
   {
    "duration": 89,
    "start_time": "2023-09-10T22:18:51.259Z"
   },
   {
    "duration": 2411,
    "start_time": "2023-09-10T22:18:51.351Z"
   },
   {
    "duration": 1001,
    "start_time": "2023-09-10T22:18:53.764Z"
   },
   {
    "duration": 3,
    "start_time": "2023-09-10T22:18:54.767Z"
   },
   {
    "duration": 10,
    "start_time": "2023-09-10T22:18:54.772Z"
   },
   {
    "duration": 94,
    "start_time": "2023-09-10T22:18:54.784Z"
   },
   {
    "duration": 4,
    "start_time": "2023-09-10T22:18:54.880Z"
   },
   {
    "duration": 319,
    "start_time": "2023-09-10T22:18:54.886Z"
   },
   {
    "duration": 88,
    "start_time": "2023-09-10T22:18:55.206Z"
   },
   {
    "duration": 3,
    "start_time": "2023-09-10T22:19:19.276Z"
   },
   {
    "duration": 7,
    "start_time": "2023-09-10T22:19:20.293Z"
   },
   {
    "duration": 3,
    "start_time": "2023-09-10T22:19:20.561Z"
   },
   {
    "duration": 16,
    "start_time": "2023-09-10T22:19:21.695Z"
   },
   {
    "duration": 2686,
    "start_time": "2023-09-10T22:19:23.181Z"
   },
   {
    "duration": 9,
    "start_time": "2023-09-10T22:20:02.351Z"
   },
   {
    "duration": 435,
    "start_time": "2023-09-10T22:21:31.405Z"
   },
   {
    "duration": 14441,
    "start_time": "2023-09-10T22:21:31.844Z"
   },
   {
    "duration": 8314,
    "start_time": "2023-09-10T22:21:46.343Z"
   },
   {
    "duration": 689,
    "start_time": "2023-09-10T22:21:54.659Z"
   },
   {
    "duration": 905,
    "start_time": "2023-09-10T22:21:55.350Z"
   },
   {
    "duration": 1208,
    "start_time": "2023-09-10T22:21:56.257Z"
   },
   {
    "duration": 3,
    "start_time": "2023-09-10T22:21:57.466Z"
   },
   {
    "duration": 90,
    "start_time": "2023-09-10T22:21:57.470Z"
   },
   {
    "duration": 1984,
    "start_time": "2023-09-10T22:21:57.561Z"
   },
   {
    "duration": 730,
    "start_time": "2023-09-10T22:21:59.552Z"
   },
   {
    "duration": 349,
    "start_time": "2023-09-10T22:22:00.283Z"
   },
   {
    "duration": 9,
    "start_time": "2023-09-10T22:22:00.634Z"
   },
   {
    "duration": 262,
    "start_time": "2023-09-10T22:22:00.645Z"
   },
   {
    "duration": 54,
    "start_time": "2023-09-10T22:22:00.909Z"
   },
   {
    "duration": 883,
    "start_time": "2023-09-10T22:22:00.965Z"
   },
   {
    "duration": 1620,
    "start_time": "2023-09-10T22:22:01.850Z"
   },
   {
    "duration": 2312,
    "start_time": "2023-09-10T22:22:03.472Z"
   },
   {
    "duration": 1424,
    "start_time": "2023-09-10T22:22:05.845Z"
   },
   {
    "duration": 586,
    "start_time": "2023-09-10T22:22:07.270Z"
   },
   {
    "duration": 102,
    "start_time": "2023-09-10T22:22:07.858Z"
   },
   {
    "duration": 398,
    "start_time": "2023-09-10T22:22:07.962Z"
   },
   {
    "duration": 3,
    "start_time": "2023-09-10T22:22:08.361Z"
   },
   {
    "duration": 100,
    "start_time": "2023-09-10T22:22:08.365Z"
   },
   {
    "duration": 991,
    "start_time": "2023-09-10T22:22:08.467Z"
   },
   {
    "duration": 310,
    "start_time": "2023-09-10T22:22:09.460Z"
   },
   {
    "duration": 295,
    "start_time": "2023-09-10T22:22:09.771Z"
   },
   {
    "duration": 2587,
    "start_time": "2023-09-10T22:22:10.068Z"
   },
   {
    "duration": 6,
    "start_time": "2023-09-10T22:22:12.656Z"
   },
   {
    "duration": 99,
    "start_time": "2023-09-10T22:22:12.664Z"
   },
   {
    "duration": 3,
    "start_time": "2023-09-10T22:22:12.765Z"
   },
   {
    "duration": 12,
    "start_time": "2023-09-10T22:22:12.769Z"
   },
   {
    "duration": 1165,
    "start_time": "2023-09-10T22:22:12.783Z"
   },
   {
    "duration": 10,
    "start_time": "2023-09-10T22:22:13.950Z"
   },
   {
    "duration": 428,
    "start_time": "2023-09-10T22:22:57.727Z"
   },
   {
    "duration": 14405,
    "start_time": "2023-09-10T22:22:58.157Z"
   },
   {
    "duration": 7798,
    "start_time": "2023-09-10T22:23:12.564Z"
   },
   {
    "duration": 688,
    "start_time": "2023-09-10T22:23:20.364Z"
   },
   {
    "duration": 1007,
    "start_time": "2023-09-10T22:23:21.055Z"
   },
   {
    "duration": 1296,
    "start_time": "2023-09-10T22:23:22.064Z"
   },
   {
    "duration": 3,
    "start_time": "2023-09-10T22:23:23.362Z"
   },
   {
    "duration": 89,
    "start_time": "2023-09-10T22:23:23.367Z"
   },
   {
    "duration": 2499,
    "start_time": "2023-09-10T22:23:23.459Z"
   },
   {
    "duration": 995,
    "start_time": "2023-09-10T22:23:25.960Z"
   },
   {
    "duration": 507,
    "start_time": "2023-09-10T22:23:26.957Z"
   },
   {
    "duration": 3,
    "start_time": "2023-09-10T22:23:27.466Z"
   },
   {
    "duration": 230,
    "start_time": "2023-09-10T22:23:27.470Z"
   },
   {
    "duration": 61,
    "start_time": "2023-09-10T22:23:27.702Z"
   },
   {
    "duration": 987,
    "start_time": "2023-09-10T22:23:27.765Z"
   },
   {
    "duration": 1615,
    "start_time": "2023-09-10T22:23:28.753Z"
   },
   {
    "duration": 2700,
    "start_time": "2023-09-10T22:23:30.370Z"
   },
   {
    "duration": 1677,
    "start_time": "2023-09-10T22:23:33.072Z"
   },
   {
    "duration": 507,
    "start_time": "2023-09-10T22:23:34.751Z"
   },
   {
    "duration": 121,
    "start_time": "2023-09-10T22:23:35.260Z"
   },
   {
    "duration": 366,
    "start_time": "2023-09-10T22:23:35.382Z"
   },
   {
    "duration": 2,
    "start_time": "2023-09-10T22:23:35.750Z"
   },
   {
    "duration": 90,
    "start_time": "2023-09-10T22:23:35.754Z"
   },
   {
    "duration": 1101,
    "start_time": "2023-09-10T22:23:35.846Z"
   },
   {
    "duration": 304,
    "start_time": "2023-09-10T22:23:36.949Z"
   },
   {
    "duration": 212,
    "start_time": "2023-09-10T22:23:37.255Z"
   },
   {
    "duration": 2885,
    "start_time": "2023-09-10T22:23:37.469Z"
   },
   {
    "duration": 96,
    "start_time": "2023-09-10T22:23:43.564Z"
   },
   {
    "duration": 78,
    "start_time": "2023-09-10T22:24:05.177Z"
   },
   {
    "duration": 10,
    "start_time": "2023-09-10T22:24:08.756Z"
   },
   {
    "duration": 9,
    "start_time": "2023-09-10T22:24:21.155Z"
   },
   {
    "duration": 3,
    "start_time": "2023-09-10T22:24:30.339Z"
   },
   {
    "duration": 35,
    "start_time": "2023-09-10T22:25:55.507Z"
   },
   {
    "duration": 13,
    "start_time": "2023-09-10T22:27:15.256Z"
   },
   {
    "duration": 131,
    "start_time": "2023-09-10T22:28:11.539Z"
   },
   {
    "duration": 411,
    "start_time": "2023-09-10T22:29:30.236Z"
   },
   {
    "duration": 14540,
    "start_time": "2023-09-10T22:29:30.649Z"
   },
   {
    "duration": 8384,
    "start_time": "2023-09-10T22:29:45.191Z"
   },
   {
    "duration": 767,
    "start_time": "2023-09-10T22:29:53.577Z"
   },
   {
    "duration": 1003,
    "start_time": "2023-09-10T22:29:54.347Z"
   },
   {
    "duration": 1210,
    "start_time": "2023-09-10T22:29:55.352Z"
   },
   {
    "duration": 3,
    "start_time": "2023-09-10T22:29:56.564Z"
   },
   {
    "duration": 79,
    "start_time": "2023-09-10T22:29:56.568Z"
   },
   {
    "duration": 1994,
    "start_time": "2023-09-10T22:29:56.649Z"
   },
   {
    "duration": 813,
    "start_time": "2023-09-10T22:29:58.647Z"
   },
   {
    "duration": 385,
    "start_time": "2023-09-10T22:29:59.461Z"
   },
   {
    "duration": 4,
    "start_time": "2023-09-10T22:29:59.849Z"
   },
   {
    "duration": 250,
    "start_time": "2023-09-10T22:29:59.855Z"
   },
   {
    "duration": 58,
    "start_time": "2023-09-10T22:30:00.107Z"
   },
   {
    "duration": 889,
    "start_time": "2023-09-10T22:30:00.167Z"
   },
   {
    "duration": 1892,
    "start_time": "2023-09-10T22:30:01.057Z"
   },
   {
    "duration": 2320,
    "start_time": "2023-09-10T22:30:02.951Z"
   },
   {
    "duration": 1580,
    "start_time": "2023-09-10T22:30:05.272Z"
   },
   {
    "duration": 615,
    "start_time": "2023-09-10T22:30:06.854Z"
   },
   {
    "duration": 106,
    "start_time": "2023-09-10T22:30:07.471Z"
   },
   {
    "duration": 381,
    "start_time": "2023-09-10T22:30:07.578Z"
   },
   {
    "duration": 2,
    "start_time": "2023-09-10T22:30:07.960Z"
   },
   {
    "duration": 106,
    "start_time": "2023-09-10T22:30:07.963Z"
   },
   {
    "duration": 992,
    "start_time": "2023-09-10T22:30:08.070Z"
   },
   {
    "duration": 299,
    "start_time": "2023-09-10T22:30:09.064Z"
   },
   {
    "duration": 494,
    "start_time": "2023-09-10T22:30:09.365Z"
   },
   {
    "duration": 11,
    "start_time": "2023-09-10T22:30:09.860Z"
   },
   {
    "duration": 2188,
    "start_time": "2023-09-10T22:30:09.872Z"
   },
   {
    "duration": 3,
    "start_time": "2023-09-10T22:30:12.061Z"
   },
   {
    "duration": 491,
    "start_time": "2023-09-10T22:30:12.065Z"
   },
   {
    "duration": 206,
    "start_time": "2023-09-10T22:30:29.719Z"
   },
   {
    "duration": 255,
    "start_time": "2023-09-10T22:30:37.834Z"
   },
   {
    "duration": 5232,
    "start_time": "2023-09-10T22:31:14.849Z"
   },
   {
    "duration": 2831,
    "start_time": "2023-09-10T22:31:21.645Z"
   },
   {
    "duration": 7,
    "start_time": "2023-09-10T22:32:14.319Z"
   },
   {
    "duration": 2057,
    "start_time": "2023-09-10T22:32:24.996Z"
   },
   {
    "duration": 3,
    "start_time": "2023-09-10T22:34:00.873Z"
   },
   {
    "duration": 3900,
    "start_time": "2023-09-10T22:34:19.748Z"
   },
   {
    "duration": 1796,
    "start_time": "2023-09-10T22:34:23.650Z"
   },
   {
    "duration": 2,
    "start_time": "2023-09-10T22:36:28.036Z"
   },
   {
    "duration": 12,
    "start_time": "2023-09-10T22:37:00.450Z"
   },
   {
    "duration": 11,
    "start_time": "2023-09-10T22:37:32.841Z"
   },
   {
    "duration": 11,
    "start_time": "2023-09-10T22:37:38.889Z"
   },
   {
    "duration": 10,
    "start_time": "2023-09-10T22:37:43.808Z"
   },
   {
    "duration": 2,
    "start_time": "2023-09-10T22:38:09.536Z"
   },
   {
    "duration": 49,
    "start_time": "2023-09-10T22:38:14.056Z"
   },
   {
    "duration": 2148,
    "start_time": "2023-09-10T22:38:24.804Z"
   },
   {
    "duration": 691,
    "start_time": "2023-09-10T22:38:49.377Z"
   },
   {
    "duration": 690,
    "start_time": "2023-09-10T22:39:19.994Z"
   },
   {
    "duration": 1102,
    "start_time": "2023-09-10T22:39:32.946Z"
   },
   {
    "duration": 567,
    "start_time": "2023-09-10T22:40:56.492Z"
   },
   {
    "duration": 15,
    "start_time": "2023-09-10T22:42:24.647Z"
   },
   {
    "duration": 446,
    "start_time": "2023-09-10T22:42:44.921Z"
   },
   {
    "duration": 2536,
    "start_time": "2023-09-10T22:43:16.145Z"
   },
   {
    "duration": 564,
    "start_time": "2023-09-10T22:44:10.296Z"
   },
   {
    "duration": 488,
    "start_time": "2023-09-10T22:45:02.174Z"
   },
   {
    "duration": 243,
    "start_time": "2023-09-10T22:45:54.448Z"
   },
   {
    "duration": 179,
    "start_time": "2023-09-10T22:45:58.518Z"
   },
   {
    "duration": 193,
    "start_time": "2023-09-10T22:46:17.890Z"
   },
   {
    "duration": 137,
    "start_time": "2023-09-10T22:46:30.535Z"
   },
   {
    "duration": 50,
    "start_time": "2023-09-10T22:46:37.445Z"
   },
   {
    "duration": 426,
    "start_time": "2023-09-11T06:10:44.370Z"
   },
   {
    "duration": 16094,
    "start_time": "2023-09-11T06:10:44.798Z"
   },
   {
    "duration": 8537,
    "start_time": "2023-09-11T06:11:00.948Z"
   },
   {
    "duration": 714,
    "start_time": "2023-09-11T06:11:09.547Z"
   },
   {
    "duration": 1191,
    "start_time": "2023-09-11T06:11:10.263Z"
   },
   {
    "duration": 1413,
    "start_time": "2023-09-11T06:11:11.456Z"
   },
   {
    "duration": 4,
    "start_time": "2023-09-11T06:11:12.871Z"
   },
   {
    "duration": 29,
    "start_time": "2023-09-11T06:11:12.946Z"
   },
   {
    "duration": 2297,
    "start_time": "2023-09-11T06:11:12.977Z"
   },
   {
    "duration": 830,
    "start_time": "2023-09-11T06:11:15.355Z"
   },
   {
    "duration": 669,
    "start_time": "2023-09-11T06:11:16.187Z"
   },
   {
    "duration": 4,
    "start_time": "2023-09-11T06:11:16.858Z"
   },
   {
    "duration": 354,
    "start_time": "2023-09-11T06:11:16.863Z"
   },
   {
    "duration": 55,
    "start_time": "2023-09-11T06:11:17.219Z"
   },
   {
    "duration": 1010,
    "start_time": "2023-09-11T06:11:17.276Z"
   },
   {
    "duration": 1878,
    "start_time": "2023-09-11T06:11:18.288Z"
   },
   {
    "duration": 2900,
    "start_time": "2023-09-11T06:11:20.168Z"
   },
   {
    "duration": 1592,
    "start_time": "2023-09-11T06:11:23.070Z"
   },
   {
    "duration": 795,
    "start_time": "2023-09-11T06:11:24.664Z"
   },
   {
    "duration": 110,
    "start_time": "2023-09-11T06:11:25.461Z"
   },
   {
    "duration": 488,
    "start_time": "2023-09-11T06:11:25.573Z"
   },
   {
    "duration": 3,
    "start_time": "2023-09-11T06:11:26.063Z"
   },
   {
    "duration": 92,
    "start_time": "2023-09-11T06:11:26.068Z"
   },
   {
    "duration": 1415,
    "start_time": "2023-09-11T06:11:26.162Z"
   },
   {
    "duration": 394,
    "start_time": "2023-09-11T06:11:27.579Z"
   },
   {
    "duration": 298,
    "start_time": "2023-09-11T06:11:28.048Z"
   },
   {
    "duration": 14,
    "start_time": "2023-09-11T06:11:28.349Z"
   },
   {
    "duration": 2506,
    "start_time": "2023-09-11T06:13:08.942Z"
   },
   {
    "duration": 5,
    "start_time": "2023-09-11T06:13:22.152Z"
   },
   {
    "duration": 3,
    "start_time": "2023-09-11T06:13:39.592Z"
   },
   {
    "duration": 7246,
    "start_time": "2023-09-11T06:16:30.411Z"
   },
   {
    "duration": 2674,
    "start_time": "2023-09-11T06:17:26.098Z"
   },
   {
    "duration": 1175,
    "start_time": "2023-09-11T06:17:40.800Z"
   },
   {
    "duration": 2220,
    "start_time": "2023-09-11T06:17:57.631Z"
   },
   {
    "duration": 4199,
    "start_time": "2023-09-11T06:18:23.361Z"
   },
   {
    "duration": 713,
    "start_time": "2023-09-11T06:18:29.944Z"
   },
   {
    "duration": 2020,
    "start_time": "2023-09-11T06:18:33.542Z"
   },
   {
    "duration": 1369,
    "start_time": "2023-09-11T06:18:41.272Z"
   },
   {
    "duration": 15221,
    "start_time": "2023-09-11T06:18:56.734Z"
   },
   {
    "duration": 809,
    "start_time": "2023-09-11T06:19:15.106Z"
   },
   {
    "duration": 1836,
    "start_time": "2023-09-11T06:19:21.834Z"
   },
   {
    "duration": 1764,
    "start_time": "2023-09-11T06:27:35.811Z"
   },
   {
    "duration": 318,
    "start_time": "2023-09-11T06:27:40.079Z"
   },
   {
    "duration": 605,
    "start_time": "2023-09-11T06:27:54.043Z"
   },
   {
    "duration": 1072,
    "start_time": "2023-09-11T06:27:57.432Z"
   },
   {
    "duration": 621,
    "start_time": "2023-09-11T06:28:30.456Z"
   },
   {
    "duration": 17,
    "start_time": "2023-09-11T06:28:55.299Z"
   },
   {
    "duration": 1930,
    "start_time": "2023-09-11T06:29:06.635Z"
   },
   {
    "duration": 19,
    "start_time": "2023-09-11T06:30:37.364Z"
   },
   {
    "duration": 9161,
    "start_time": "2023-09-11T06:30:46.034Z"
   },
   {
    "duration": 9613,
    "start_time": "2023-09-11T06:32:09.041Z"
   },
   {
    "duration": 17,
    "start_time": "2023-09-11T06:38:58.309Z"
   },
   {
    "duration": 334,
    "start_time": "2023-09-11T06:39:09.649Z"
   },
   {
    "duration": 8374,
    "start_time": "2023-09-11T06:39:20.402Z"
   },
   {
    "duration": 16,
    "start_time": "2023-09-11T08:32:50.832Z"
   },
   {
    "duration": 404,
    "start_time": "2023-09-11T08:35:09.944Z"
   },
   {
    "duration": 3257,
    "start_time": "2023-09-11T08:35:26.596Z"
   },
   {
    "duration": 1323,
    "start_time": "2023-09-11T08:37:06.457Z"
   },
   {
    "duration": 111278,
    "start_time": "2023-09-11T08:37:17.549Z"
   },
   {
    "duration": 23,
    "start_time": "2023-09-11T08:40:27.712Z"
   },
   {
    "duration": 22,
    "start_time": "2023-09-11T08:40:45.711Z"
   },
   {
    "duration": 172781,
    "start_time": "2023-09-11T08:43:09.928Z"
   },
   {
    "duration": 3,
    "start_time": "2023-09-11T08:46:02.712Z"
   },
   {
    "duration": 59,
    "start_time": "2023-09-11T08:52:01.566Z"
   },
   {
    "duration": 18,
    "start_time": "2023-09-11T08:53:03.217Z"
   },
   {
    "duration": 85,
    "start_time": "2023-09-11T08:53:58.934Z"
   },
   {
    "duration": 188,
    "start_time": "2023-09-11T08:54:01.871Z"
   },
   {
    "duration": 108,
    "start_time": "2023-09-11T08:54:12.119Z"
   },
   {
    "duration": 205,
    "start_time": "2023-09-11T08:54:24.631Z"
   },
   {
    "duration": 6451,
    "start_time": "2023-09-11T08:54:30.352Z"
   },
   {
    "duration": 165,
    "start_time": "2023-09-11T08:55:04.782Z"
   },
   {
    "duration": 16,
    "start_time": "2023-09-11T08:55:24.856Z"
   },
   {
    "duration": 16,
    "start_time": "2023-09-11T08:55:39.279Z"
   },
   {
    "duration": 105,
    "start_time": "2023-09-11T08:56:41.316Z"
   },
   {
    "duration": 101,
    "start_time": "2023-09-11T08:56:50.342Z"
   },
   {
    "duration": 18,
    "start_time": "2023-09-11T08:57:00.646Z"
   },
   {
    "duration": 16,
    "start_time": "2023-09-11T08:57:42.760Z"
   },
   {
    "duration": 19,
    "start_time": "2023-09-11T08:57:56.810Z"
   },
   {
    "duration": 24,
    "start_time": "2023-09-11T08:58:07.181Z"
   },
   {
    "duration": 6217,
    "start_time": "2023-09-11T09:05:19.067Z"
   },
   {
    "duration": 241,
    "start_time": "2023-09-11T09:21:29.897Z"
   },
   {
    "duration": 305261,
    "start_time": "2023-09-11T09:21:36.120Z"
   },
   {
    "duration": 583,
    "start_time": "2023-09-11T09:28:19.375Z"
   },
   {
    "duration": 511,
    "start_time": "2023-09-11T09:29:05.346Z"
   },
   {
    "duration": 718292,
    "start_time": "2023-09-11T09:29:16.256Z"
   },
   {
    "duration": 13,
    "start_time": "2023-09-11T09:41:14.551Z"
   },
   {
    "duration": 0,
    "start_time": "2023-09-11T09:41:14.566Z"
   },
   {
    "duration": 4,
    "start_time": "2023-09-11T09:49:15.557Z"
   },
   {
    "duration": 3090,
    "start_time": "2023-09-11T09:49:15.566Z"
   },
   {
    "duration": 3301,
    "start_time": "2023-09-11T09:49:18.659Z"
   },
   {
    "duration": 5563337,
    "start_time": "2023-09-11T09:49:23.522Z"
   },
   {
    "duration": 4,
    "start_time": "2023-09-11T11:22:06.863Z"
   },
   {
    "duration": 11196,
    "start_time": "2023-09-11T11:22:06.869Z"
   },
   {
    "duration": 1314,
    "start_time": "2023-09-11T11:36:15.668Z"
   },
   {
    "duration": 193,
    "start_time": "2023-09-11T11:36:16.986Z"
   },
   {
    "duration": 4,
    "start_time": "2023-09-11T11:36:17.184Z"
   },
   {
    "duration": 385,
    "start_time": "2023-09-11T11:36:17.196Z"
   },
   {
    "duration": 471,
    "start_time": "2023-09-11T12:15:24.495Z"
   },
   {
    "duration": 17907,
    "start_time": "2023-09-11T12:15:24.968Z"
   },
   {
    "duration": 11316,
    "start_time": "2023-09-11T12:15:42.878Z"
   },
   {
    "duration": 1060,
    "start_time": "2023-09-11T12:15:54.196Z"
   },
   {
    "duration": 1314,
    "start_time": "2023-09-11T12:15:55.259Z"
   },
   {
    "duration": 1805,
    "start_time": "2023-09-11T12:15:56.580Z"
   },
   {
    "duration": 4,
    "start_time": "2023-09-11T12:15:58.386Z"
   },
   {
    "duration": 82,
    "start_time": "2023-09-11T12:15:58.391Z"
   },
   {
    "duration": 2976,
    "start_time": "2023-09-11T12:15:58.480Z"
   },
   {
    "duration": 1577,
    "start_time": "2023-09-11T12:16:01.470Z"
   },
   {
    "duration": 456,
    "start_time": "2023-09-11T12:16:03.050Z"
   },
   {
    "duration": 3,
    "start_time": "2023-09-11T12:16:03.508Z"
   },
   {
    "duration": 324,
    "start_time": "2023-09-11T12:16:03.512Z"
   },
   {
    "duration": 53,
    "start_time": "2023-09-11T12:16:03.846Z"
   },
   {
    "duration": 1248,
    "start_time": "2023-09-11T12:16:03.901Z"
   },
   {
    "duration": 2496,
    "start_time": "2023-09-11T12:16:05.152Z"
   },
   {
    "duration": 3645,
    "start_time": "2023-09-11T12:16:07.649Z"
   },
   {
    "duration": 2392,
    "start_time": "2023-09-11T12:16:11.296Z"
   },
   {
    "duration": 906,
    "start_time": "2023-09-11T12:16:13.689Z"
   },
   {
    "duration": 122,
    "start_time": "2023-09-11T12:16:14.654Z"
   },
   {
    "duration": 606,
    "start_time": "2023-09-11T12:16:14.778Z"
   },
   {
    "duration": 4,
    "start_time": "2023-09-11T12:16:15.386Z"
   },
   {
    "duration": 162,
    "start_time": "2023-09-11T12:16:15.392Z"
   },
   {
    "duration": 1420,
    "start_time": "2023-09-11T12:16:15.556Z"
   },
   {
    "duration": 474,
    "start_time": "2023-09-11T12:16:16.979Z"
   },
   {
    "duration": 329,
    "start_time": "2023-09-11T12:16:17.454Z"
   },
   {
    "duration": 262,
    "start_time": "2023-09-11T12:16:17.786Z"
   },
   {
    "duration": 3128,
    "start_time": "2023-09-11T12:16:18.051Z"
   },
   {
    "duration": 5,
    "start_time": "2023-09-11T12:16:21.180Z"
   },
   {
    "duration": 7606,
    "start_time": "2023-09-11T12:16:21.187Z"
   },
   {
    "duration": 940,
    "start_time": "2023-09-11T12:16:28.849Z"
   },
   {
    "duration": 2983,
    "start_time": "2023-09-11T12:16:29.791Z"
   },
   {
    "duration": 5,
    "start_time": "2023-09-11T12:16:32.776Z"
   },
   {
    "duration": 452,
    "start_time": "2023-09-11T12:16:32.783Z"
   },
   {
    "duration": 181733,
    "start_time": "2023-09-11T12:16:33.238Z"
   },
   {
    "duration": 3,
    "start_time": "2023-09-11T12:26:18.890Z"
   },
   {
    "duration": 21674,
    "start_time": "2023-09-11T12:26:19.242Z"
   },
   {
    "duration": 149,
    "start_time": "2023-09-11T12:39:21.013Z"
   },
   {
    "duration": 845,
    "start_time": "2023-09-11T12:40:54.907Z"
   },
   {
    "duration": 7,
    "start_time": "2023-09-11T12:40:59.517Z"
   },
   {
    "duration": 612,
    "start_time": "2023-09-11T12:41:05.271Z"
   },
   {
    "duration": 298568,
    "start_time": "2023-09-11T12:41:17.415Z"
   },
   {
    "duration": 10,
    "start_time": "2023-09-11T13:59:54.842Z"
   },
   {
    "duration": 11,
    "start_time": "2023-09-11T14:00:14.298Z"
   },
   {
    "duration": 1179,
    "start_time": "2023-09-11T21:01:22.091Z"
   },
   {
    "duration": 14883,
    "start_time": "2023-09-11T21:01:23.272Z"
   },
   {
    "duration": 8207,
    "start_time": "2023-09-11T21:01:38.157Z"
   },
   {
    "duration": 1788,
    "start_time": "2023-09-11T21:01:46.366Z"
   },
   {
    "duration": 1388,
    "start_time": "2023-09-11T21:01:48.157Z"
   },
   {
    "duration": 4,
    "start_time": "2023-09-11T21:01:49.547Z"
   },
   {
    "duration": 10,
    "start_time": "2023-09-11T21:01:49.553Z"
   },
   {
    "duration": 80,
    "start_time": "2023-09-11T21:01:49.564Z"
   },
   {
    "duration": 1599,
    "start_time": "2023-09-11T21:01:49.646Z"
   },
   {
    "duration": 840,
    "start_time": "2023-09-11T21:01:51.247Z"
   },
   {
    "duration": 508,
    "start_time": "2023-09-11T21:01:52.089Z"
   },
   {
    "duration": 4,
    "start_time": "2023-09-11T21:01:52.599Z"
   },
   {
    "duration": 8,
    "start_time": "2023-09-11T21:01:52.604Z"
   },
   {
    "duration": 0,
    "start_time": "2023-09-11T21:01:52.614Z"
   },
   {
    "duration": 0,
    "start_time": "2023-09-11T21:01:52.615Z"
   },
   {
    "duration": 0,
    "start_time": "2023-09-11T21:01:52.617Z"
   },
   {
    "duration": 0,
    "start_time": "2023-09-11T21:01:52.618Z"
   },
   {
    "duration": 0,
    "start_time": "2023-09-11T21:01:52.620Z"
   },
   {
    "duration": 0,
    "start_time": "2023-09-11T21:01:52.621Z"
   },
   {
    "duration": 0,
    "start_time": "2023-09-11T21:01:52.622Z"
   },
   {
    "duration": 0,
    "start_time": "2023-09-11T21:01:52.644Z"
   },
   {
    "duration": 0,
    "start_time": "2023-09-11T21:01:52.646Z"
   },
   {
    "duration": 0,
    "start_time": "2023-09-11T21:01:52.647Z"
   },
   {
    "duration": 0,
    "start_time": "2023-09-11T21:01:52.649Z"
   },
   {
    "duration": 0,
    "start_time": "2023-09-11T21:01:52.650Z"
   },
   {
    "duration": 227,
    "start_time": "2023-09-11T21:15:41.700Z"
   },
   {
    "duration": 36,
    "start_time": "2023-09-11T21:15:48.739Z"
   },
   {
    "duration": 901,
    "start_time": "2023-09-11T21:15:48.887Z"
   },
   {
    "duration": 1670,
    "start_time": "2023-09-11T21:15:49.790Z"
   },
   {
    "duration": 2391,
    "start_time": "2023-09-11T21:15:51.461Z"
   },
   {
    "duration": 1690,
    "start_time": "2023-09-11T21:15:53.855Z"
   },
   {
    "duration": 535,
    "start_time": "2023-09-11T21:15:55.547Z"
   },
   {
    "duration": 102,
    "start_time": "2023-09-11T21:15:56.145Z"
   },
   {
    "duration": 320,
    "start_time": "2023-09-11T21:15:56.249Z"
   },
   {
    "duration": 99,
    "start_time": "2023-09-11T21:15:56.572Z"
   },
   {
    "duration": 1108,
    "start_time": "2023-09-11T21:15:56.672Z"
   },
   {
    "duration": 370,
    "start_time": "2023-09-11T21:15:57.781Z"
   },
   {
    "duration": 291,
    "start_time": "2023-09-11T21:15:58.153Z"
   },
   {
    "duration": 133,
    "start_time": "2023-09-11T21:16:04.946Z"
   },
   {
    "duration": 221,
    "start_time": "2023-09-11T21:16:32.407Z"
   },
   {
    "duration": 100,
    "start_time": "2023-09-11T21:16:42.914Z"
   },
   {
    "duration": 297209,
    "start_time": "2023-09-11T21:16:54.147Z"
   },
   {
    "duration": 9,
    "start_time": "2023-09-11T21:22:16.054Z"
   },
   {
    "duration": 4,
    "start_time": "2023-09-11T21:22:19.622Z"
   },
   {
    "duration": 1009,
    "start_time": "2023-09-11T21:22:22.739Z"
   },
   {
    "duration": 8,
    "start_time": "2023-09-11T21:22:52.616Z"
   },
   {
    "duration": 8,
    "start_time": "2023-09-11T21:23:31.272Z"
   },
   {
    "duration": 8,
    "start_time": "2023-09-11T21:24:17.565Z"
   },
   {
    "duration": 12,
    "start_time": "2023-09-11T21:24:40.027Z"
   },
   {
    "duration": 74,
    "start_time": "2023-09-11T21:25:08.361Z"
   },
   {
    "duration": 13,
    "start_time": "2023-09-11T21:25:22.262Z"
   },
   {
    "duration": 11,
    "start_time": "2023-09-11T21:25:39.856Z"
   },
   {
    "duration": 17,
    "start_time": "2023-09-11T21:25:48.259Z"
   },
   {
    "duration": 11,
    "start_time": "2023-09-11T21:25:58.163Z"
   },
   {
    "duration": 11,
    "start_time": "2023-09-11T21:26:12.499Z"
   },
   {
    "duration": 4,
    "start_time": "2023-09-11T21:26:21.313Z"
   },
   {
    "duration": 9,
    "start_time": "2023-09-11T21:26:30.678Z"
   },
   {
    "duration": 11,
    "start_time": "2023-09-11T21:26:37.092Z"
   },
   {
    "duration": 3,
    "start_time": "2023-09-11T21:27:10.223Z"
   },
   {
    "duration": 5,
    "start_time": "2023-09-11T21:27:49.100Z"
   },
   {
    "duration": 33,
    "start_time": "2023-09-11T21:27:49.996Z"
   },
   {
    "duration": 129,
    "start_time": "2023-09-11T21:28:00.126Z"
   },
   {
    "duration": 925,
    "start_time": "2023-09-11T21:28:14.526Z"
   },
   {
    "duration": 135,
    "start_time": "2023-09-11T21:30:30.578Z"
   },
   {
    "duration": 155,
    "start_time": "2023-09-11T21:30:30.906Z"
   },
   {
    "duration": 162,
    "start_time": "2023-09-11T21:30:53.228Z"
   },
   {
    "duration": 14422,
    "start_time": "2023-09-11T21:32:14.424Z"
   },
   {
    "duration": 133180,
    "start_time": "2023-09-11T21:32:28.848Z"
   },
   {
    "duration": 4,
    "start_time": "2023-09-11T21:34:42.029Z"
   },
   {
    "duration": 1979430,
    "start_time": "2023-09-11T21:36:07.880Z"
   },
   {
    "duration": 74052,
    "start_time": "2023-09-11T22:09:07.312Z"
   },
   {
    "duration": 82,
    "start_time": "2023-09-11T22:10:21.365Z"
   },
   {
    "duration": 0,
    "start_time": "2023-09-11T22:10:21.449Z"
   },
   {
    "duration": 0,
    "start_time": "2023-09-11T22:10:21.451Z"
   },
   {
    "duration": 0,
    "start_time": "2023-09-11T22:10:21.454Z"
   },
   {
    "duration": 0,
    "start_time": "2023-09-11T22:10:21.455Z"
   },
   {
    "duration": 0,
    "start_time": "2023-09-11T22:10:21.457Z"
   },
   {
    "duration": 0,
    "start_time": "2023-09-11T22:10:21.458Z"
   },
   {
    "duration": 0,
    "start_time": "2023-09-11T22:10:21.459Z"
   },
   {
    "duration": 0,
    "start_time": "2023-09-11T22:10:21.460Z"
   },
   {
    "duration": 0,
    "start_time": "2023-09-11T22:10:21.461Z"
   },
   {
    "duration": 1224402,
    "start_time": "2023-09-11T22:12:16.449Z"
   },
   {
    "duration": 96,
    "start_time": "2023-09-11T22:32:40.856Z"
   },
   {
    "duration": 98,
    "start_time": "2023-09-11T22:32:40.955Z"
   },
   {
    "duration": 0,
    "start_time": "2023-09-11T22:32:41.056Z"
   },
   {
    "duration": 0,
    "start_time": "2023-09-11T22:32:41.060Z"
   },
   {
    "duration": 0,
    "start_time": "2023-09-11T22:32:41.061Z"
   },
   {
    "duration": 0,
    "start_time": "2023-09-11T22:32:41.062Z"
   },
   {
    "duration": 0,
    "start_time": "2023-09-11T22:32:41.063Z"
   },
   {
    "duration": 110,
    "start_time": "2023-09-11T22:33:45.902Z"
   },
   {
    "duration": 5,
    "start_time": "2023-09-11T22:33:54.101Z"
   },
   {
    "duration": 153,
    "start_time": "2023-09-11T22:34:00.898Z"
   },
   {
    "duration": 59,
    "start_time": "2023-09-11T22:34:11.126Z"
   },
   {
    "duration": 1074,
    "start_time": "2023-09-11T22:35:11.837Z"
   },
   {
    "duration": 14374,
    "start_time": "2023-09-11T22:35:12.914Z"
   },
   {
    "duration": 7484,
    "start_time": "2023-09-11T22:35:27.291Z"
   },
   {
    "duration": 1515,
    "start_time": "2023-09-11T22:35:34.777Z"
   },
   {
    "duration": 1227,
    "start_time": "2023-09-11T22:35:36.344Z"
   },
   {
    "duration": 4,
    "start_time": "2023-09-11T22:35:37.573Z"
   },
   {
    "duration": 3,
    "start_time": "2023-09-11T22:35:37.645Z"
   },
   {
    "duration": 24,
    "start_time": "2023-09-11T22:35:37.649Z"
   },
   {
    "duration": 1573,
    "start_time": "2023-09-11T22:35:37.675Z"
   },
   {
    "duration": 826,
    "start_time": "2023-09-11T22:35:39.253Z"
   },
   {
    "duration": 340,
    "start_time": "2023-09-11T22:35:40.081Z"
   },
   {
    "duration": 4,
    "start_time": "2023-09-11T22:35:40.422Z"
   },
   {
    "duration": 254,
    "start_time": "2023-09-11T22:35:40.427Z"
   },
   {
    "duration": 72,
    "start_time": "2023-09-11T22:35:40.685Z"
   },
   {
    "duration": 899,
    "start_time": "2023-09-11T22:35:40.758Z"
   },
   {
    "duration": 1619,
    "start_time": "2023-09-11T22:35:41.659Z"
   },
   {
    "duration": 2326,
    "start_time": "2023-09-11T22:35:43.344Z"
   },
   {
    "duration": 1580,
    "start_time": "2023-09-11T22:35:45.671Z"
   },
   {
    "duration": 592,
    "start_time": "2023-09-11T22:35:47.253Z"
   },
   {
    "duration": 37,
    "start_time": "2023-09-11T22:35:47.846Z"
   },
   {
    "duration": 321,
    "start_time": "2023-09-11T22:35:47.944Z"
   },
   {
    "duration": 101,
    "start_time": "2023-09-11T22:35:48.266Z"
   },
   {
    "duration": 897,
    "start_time": "2023-09-11T22:35:48.369Z"
   },
   {
    "duration": 301,
    "start_time": "2023-09-11T22:35:49.267Z"
   },
   {
    "duration": 286,
    "start_time": "2023-09-11T22:35:49.570Z"
   },
   {
    "duration": 201,
    "start_time": "2023-09-11T22:35:49.858Z"
   },
   {
    "duration": 296384,
    "start_time": "2023-09-11T22:35:50.061Z"
   },
   {
    "duration": 2,
    "start_time": "2023-09-11T22:40:46.446Z"
   },
   {
    "duration": 25294,
    "start_time": "2023-09-11T22:40:46.450Z"
   },
   {
    "duration": 557458,
    "start_time": "2023-09-11T22:41:11.746Z"
   },
   {
    "duration": 3059,
    "start_time": "2023-09-11T22:50:29.206Z"
   },
   {
    "duration": 179,
    "start_time": "2023-09-11T22:50:32.267Z"
   },
   {
    "duration": 0,
    "start_time": "2023-09-11T22:50:32.448Z"
   },
   {
    "duration": 0,
    "start_time": "2023-09-11T22:50:32.449Z"
   },
   {
    "duration": 0,
    "start_time": "2023-09-11T22:50:32.451Z"
   },
   {
    "duration": 0,
    "start_time": "2023-09-11T22:50:32.452Z"
   },
   {
    "duration": 0,
    "start_time": "2023-09-11T22:50:32.454Z"
   },
   {
    "duration": 0,
    "start_time": "2023-09-11T22:50:32.455Z"
   },
   {
    "duration": 756555,
    "start_time": "2023-09-11T22:51:14.998Z"
   },
   {
    "duration": 14990,
    "start_time": "2023-09-11T23:03:51.555Z"
   },
   {
    "duration": 4,
    "start_time": "2023-09-11T23:04:06.546Z"
   },
   {
    "duration": 1661,
    "start_time": "2023-09-11T23:04:06.553Z"
   },
   {
    "duration": 1659,
    "start_time": "2023-09-11T23:04:08.245Z"
   },
   {
    "duration": 2240,
    "start_time": "2023-09-11T23:04:09.906Z"
   },
   {
    "duration": 9,
    "start_time": "2023-09-11T23:04:12.148Z"
   },
   {
    "duration": 0,
    "start_time": "2023-09-11T23:04:12.159Z"
   },
   {
    "duration": 54,
    "start_time": "2023-09-11T23:06:46.405Z"
   },
   {
    "duration": 9,
    "start_time": "2023-09-11T23:07:20.644Z"
   },
   {
    "duration": 8,
    "start_time": "2023-09-11T23:08:43.746Z"
   },
   {
    "duration": 1538,
    "start_time": "2023-09-11T23:09:15.344Z"
   },
   {
    "duration": 1445,
    "start_time": "2023-09-12T06:04:54.021Z"
   },
   {
    "duration": 16465,
    "start_time": "2023-09-12T06:04:55.468Z"
   },
   {
    "duration": 10401,
    "start_time": "2023-09-12T06:05:11.935Z"
   },
   {
    "duration": 2295,
    "start_time": "2023-09-12T06:05:22.340Z"
   },
   {
    "duration": 1886,
    "start_time": "2023-09-12T06:05:24.641Z"
   },
   {
    "duration": 4,
    "start_time": "2023-09-12T06:05:26.529Z"
   },
   {
    "duration": 8,
    "start_time": "2023-09-12T06:05:26.544Z"
   },
   {
    "duration": 19,
    "start_time": "2023-09-12T06:05:26.554Z"
   },
   {
    "duration": 2256,
    "start_time": "2023-09-12T06:05:26.575Z"
   },
   {
    "duration": 1005,
    "start_time": "2023-09-12T06:05:28.839Z"
   },
   {
    "duration": 739,
    "start_time": "2023-09-12T06:05:29.846Z"
   },
   {
    "duration": 4,
    "start_time": "2023-09-12T06:05:30.587Z"
   },
   {
    "duration": 421,
    "start_time": "2023-09-12T06:05:30.594Z"
   },
   {
    "duration": 47,
    "start_time": "2023-09-12T06:05:31.017Z"
   },
   {
    "duration": 1296,
    "start_time": "2023-09-12T06:05:31.065Z"
   },
   {
    "duration": 2607,
    "start_time": "2023-09-12T06:05:32.363Z"
   },
   {
    "duration": 3765,
    "start_time": "2023-09-12T06:05:34.971Z"
   },
   {
    "duration": 2322,
    "start_time": "2023-09-12T06:05:38.741Z"
   },
   {
    "duration": 683,
    "start_time": "2023-09-12T06:05:41.066Z"
   },
   {
    "duration": 178,
    "start_time": "2023-09-12T06:05:41.752Z"
   },
   {
    "duration": 796,
    "start_time": "2023-09-12T06:05:41.932Z"
   },
   {
    "duration": 135,
    "start_time": "2023-09-12T06:05:42.730Z"
   },
   {
    "duration": 1466,
    "start_time": "2023-09-12T06:05:42.866Z"
   },
   {
    "duration": 414,
    "start_time": "2023-09-12T06:05:44.333Z"
   },
   {
    "duration": 498,
    "start_time": "2023-09-12T06:05:44.750Z"
   },
   {
    "duration": 18,
    "start_time": "2023-09-12T06:05:45.250Z"
   },
   {
    "duration": 36,
    "start_time": "2023-09-12T06:05:45.330Z"
   },
   {
    "duration": 364188,
    "start_time": "2023-09-12T06:05:45.370Z"
   },
   {
    "duration": 3,
    "start_time": "2023-09-12T06:11:49.560Z"
   },
   {
    "duration": 36218,
    "start_time": "2023-09-12T06:11:49.565Z"
   },
   {
    "duration": 685654,
    "start_time": "2023-09-12T06:12:25.785Z"
   },
   {
    "duration": 3427681,
    "start_time": "2023-09-12T06:23:51.445Z"
   },
   {
    "duration": 1339028,
    "start_time": "2023-09-12T07:20:59.136Z"
   },
   {
    "duration": 4,
    "start_time": "2023-09-12T07:43:18.166Z"
   },
   {
    "duration": 10642,
    "start_time": "2023-09-12T07:43:18.172Z"
   },
   {
    "duration": 10708,
    "start_time": "2023-09-12T07:43:28.834Z"
   },
   {
    "duration": 10256,
    "start_time": "2023-09-12T07:43:39.544Z"
   },
   {
    "duration": 42,
    "start_time": "2023-09-12T07:43:49.802Z"
   },
   {
    "duration": 0,
    "start_time": "2023-09-12T07:43:49.848Z"
   },
   {
    "duration": 2057512,
    "start_time": "2023-09-12T07:43:58.824Z"
   },
   {
    "duration": 7,
    "start_time": "2023-09-13T06:41:52.245Z"
   },
   {
    "duration": 74,
    "start_time": "2023-09-13T06:42:00.270Z"
   },
   {
    "duration": 46,
    "start_time": "2023-09-13T06:42:13.700Z"
   },
   {
    "duration": 42,
    "start_time": "2023-09-13T06:42:18.675Z"
   },
   {
    "duration": 158,
    "start_time": "2023-09-13T06:43:42.365Z"
   },
   {
    "duration": 80,
    "start_time": "2023-09-13T06:43:48.580Z"
   },
   {
    "duration": 1117,
    "start_time": "2023-09-13T07:03:10.905Z"
   },
   {
    "duration": 138,
    "start_time": "2023-09-13T07:03:12.024Z"
   },
   {
    "duration": 14932,
    "start_time": "2023-09-13T07:03:12.164Z"
   },
   {
    "duration": 7715,
    "start_time": "2023-09-13T07:03:27.151Z"
   },
   {
    "duration": 1713,
    "start_time": "2023-09-13T07:03:34.869Z"
   },
   {
    "duration": 1197,
    "start_time": "2023-09-13T07:03:36.584Z"
   },
   {
    "duration": 69,
    "start_time": "2023-09-13T07:03:37.783Z"
   },
   {
    "duration": 18,
    "start_time": "2023-09-13T07:03:37.854Z"
   },
   {
    "duration": 5,
    "start_time": "2023-09-13T07:06:37.133Z"
   },
   {
    "duration": 94,
    "start_time": "2023-09-13T07:14:47.846Z"
   },
   {
    "duration": 29,
    "start_time": "2023-09-13T07:14:54.518Z"
   },
   {
    "duration": 9,
    "start_time": "2023-09-13T07:18:06.423Z"
   },
   {
    "duration": 18,
    "start_time": "2023-09-13T07:18:22.746Z"
   },
   {
    "duration": 4,
    "start_time": "2023-09-13T07:18:42.174Z"
   },
   {
    "duration": 5,
    "start_time": "2023-09-13T07:18:49.112Z"
   },
   {
    "duration": 1182,
    "start_time": "2023-09-13T07:29:43.388Z"
   },
   {
    "duration": 269,
    "start_time": "2023-09-13T07:32:11.981Z"
   },
   {
    "duration": 11,
    "start_time": "2023-09-13T07:33:00.284Z"
   },
   {
    "duration": 647,
    "start_time": "2023-09-13T07:33:40.821Z"
   },
   {
    "duration": 8,
    "start_time": "2023-09-13T07:33:46.908Z"
   },
   {
    "duration": 97,
    "start_time": "2023-09-13T07:33:56.156Z"
   },
   {
    "duration": 188,
    "start_time": "2023-09-13T07:34:58.664Z"
   },
   {
    "duration": 679,
    "start_time": "2023-09-13T07:35:22.088Z"
   },
   {
    "duration": 439,
    "start_time": "2023-09-13T07:40:47.245Z"
   },
   {
    "duration": 97,
    "start_time": "2023-09-13T07:40:57.763Z"
   },
   {
    "duration": 276,
    "start_time": "2023-09-13T07:41:04.174Z"
   },
   {
    "duration": 13,
    "start_time": "2023-09-13T07:42:04.204Z"
   },
   {
    "duration": 882,
    "start_time": "2023-09-13T07:42:12.675Z"
   },
   {
    "duration": 634,
    "start_time": "2023-09-13T07:50:38.756Z"
   },
   {
    "duration": 49,
    "start_time": "2023-09-13T07:50:39.392Z"
   },
   {
    "duration": 14011,
    "start_time": "2023-09-13T07:50:39.443Z"
   },
   {
    "duration": 8226,
    "start_time": "2023-09-13T07:50:53.455Z"
   },
   {
    "duration": 1601,
    "start_time": "2023-09-13T07:51:01.683Z"
   },
   {
    "duration": 1282,
    "start_time": "2023-09-13T07:51:03.286Z"
   },
   {
    "duration": 3,
    "start_time": "2023-09-13T07:51:04.570Z"
   },
   {
    "duration": 11,
    "start_time": "2023-09-13T07:51:04.574Z"
   },
   {
    "duration": 88,
    "start_time": "2023-09-13T07:51:04.586Z"
   },
   {
    "duration": 305,
    "start_time": "2023-09-13T07:51:04.676Z"
   },
   {
    "duration": 0,
    "start_time": "2023-09-13T07:51:04.983Z"
   },
   {
    "duration": 0,
    "start_time": "2023-09-13T07:51:04.985Z"
   },
   {
    "duration": 0,
    "start_time": "2023-09-13T07:51:04.986Z"
   },
   {
    "duration": 0,
    "start_time": "2023-09-13T07:51:04.988Z"
   },
   {
    "duration": 0,
    "start_time": "2023-09-13T07:51:04.989Z"
   },
   {
    "duration": 0,
    "start_time": "2023-09-13T07:51:04.990Z"
   },
   {
    "duration": 0,
    "start_time": "2023-09-13T07:51:04.991Z"
   },
   {
    "duration": 0,
    "start_time": "2023-09-13T07:51:04.993Z"
   },
   {
    "duration": 0,
    "start_time": "2023-09-13T07:51:04.994Z"
   },
   {
    "duration": 0,
    "start_time": "2023-09-13T07:51:05.050Z"
   },
   {
    "duration": 0,
    "start_time": "2023-09-13T07:51:05.051Z"
   },
   {
    "duration": 0,
    "start_time": "2023-09-13T07:51:05.052Z"
   },
   {
    "duration": 676,
    "start_time": "2023-09-13T07:55:48.821Z"
   },
   {
    "duration": 55,
    "start_time": "2023-09-13T07:55:49.499Z"
   },
   {
    "duration": 14713,
    "start_time": "2023-09-13T07:55:49.556Z"
   },
   {
    "duration": 8494,
    "start_time": "2023-09-13T07:56:04.271Z"
   },
   {
    "duration": 1921,
    "start_time": "2023-09-13T07:56:12.768Z"
   },
   {
    "duration": 1473,
    "start_time": "2023-09-13T07:56:14.691Z"
   },
   {
    "duration": 3,
    "start_time": "2023-09-13T07:56:16.167Z"
   },
   {
    "duration": 17,
    "start_time": "2023-09-13T07:56:16.172Z"
   },
   {
    "duration": 78,
    "start_time": "2023-09-13T07:56:16.191Z"
   },
   {
    "duration": 1202,
    "start_time": "2023-09-13T07:56:16.272Z"
   },
   {
    "duration": 379,
    "start_time": "2023-09-13T07:56:17.476Z"
   },
   {
    "duration": 293,
    "start_time": "2023-09-13T07:56:17.857Z"
   },
   {
    "duration": 16,
    "start_time": "2023-09-13T07:56:18.151Z"
   },
   {
    "duration": 12,
    "start_time": "2023-09-13T07:56:18.169Z"
   },
   {
    "duration": 7,
    "start_time": "2023-09-13T07:56:18.183Z"
   },
   {
    "duration": 3,
    "start_time": "2023-09-13T07:56:18.249Z"
   },
   {
    "duration": 9,
    "start_time": "2023-09-13T07:56:18.254Z"
   },
   {
    "duration": 7,
    "start_time": "2023-09-13T07:56:18.264Z"
   },
   {
    "duration": 5,
    "start_time": "2023-09-13T07:56:18.273Z"
   },
   {
    "duration": 8,
    "start_time": "2023-09-13T07:56:18.279Z"
   },
   {
    "duration": 14,
    "start_time": "2023-09-13T07:56:18.289Z"
   },
   {
    "duration": 710,
    "start_time": "2023-09-13T07:56:18.349Z"
   },
   {
    "duration": 1222,
    "start_time": "2023-09-13T07:56:30.729Z"
   },
   {
    "duration": 2743,
    "start_time": "2023-09-13T07:56:37.508Z"
   },
   {
    "duration": 4,
    "start_time": "2023-09-13T08:00:48.010Z"
   },
   {
    "duration": 3,
    "start_time": "2023-09-13T08:02:17.322Z"
   },
   {
    "duration": 5,
    "start_time": "2023-09-13T08:02:23.114Z"
   },
   {
    "duration": 3,
    "start_time": "2023-09-13T08:02:34.362Z"
   },
   {
    "duration": 3,
    "start_time": "2023-09-13T08:02:34.970Z"
   },
   {
    "duration": 4,
    "start_time": "2023-09-13T08:02:44.100Z"
   },
   {
    "duration": 4,
    "start_time": "2023-09-13T08:02:49.466Z"
   },
   {
    "duration": 3,
    "start_time": "2023-09-13T08:03:02.794Z"
   },
   {
    "duration": 4,
    "start_time": "2023-09-13T08:03:05.739Z"
   },
   {
    "duration": 4,
    "start_time": "2023-09-13T08:03:07.883Z"
   },
   {
    "duration": 4,
    "start_time": "2023-09-13T08:03:08.844Z"
   },
   {
    "duration": 4,
    "start_time": "2023-09-13T08:03:10.166Z"
   },
   {
    "duration": 6,
    "start_time": "2023-09-13T08:05:10.346Z"
   },
   {
    "duration": 3,
    "start_time": "2023-09-13T08:15:08.149Z"
   },
   {
    "duration": 48,
    "start_time": "2023-09-13T08:15:11.102Z"
   },
   {
    "duration": 3184,
    "start_time": "2023-09-13T08:15:24.671Z"
   },
   {
    "duration": 108,
    "start_time": "2023-09-13T08:15:32.373Z"
   },
   {
    "duration": 1192,
    "start_time": "2023-09-13T08:20:28.065Z"
   },
   {
    "duration": 1089,
    "start_time": "2023-09-13T08:20:35.567Z"
   },
   {
    "duration": 1399,
    "start_time": "2023-09-13T08:20:46.365Z"
   },
   {
    "duration": 477,
    "start_time": "2023-09-13T08:20:50.004Z"
   },
   {
    "duration": 321,
    "start_time": "2023-09-13T08:21:55.133Z"
   },
   {
    "duration": 1384,
    "start_time": "2023-09-13T08:22:32.890Z"
   },
   {
    "duration": 32,
    "start_time": "2023-09-13T08:23:54.916Z"
   },
   {
    "duration": 7,
    "start_time": "2023-09-13T08:25:04.493Z"
   },
   {
    "duration": 9,
    "start_time": "2023-09-13T08:25:09.956Z"
   },
   {
    "duration": 8,
    "start_time": "2023-09-13T08:25:24.764Z"
   },
   {
    "duration": 1303,
    "start_time": "2023-09-13T08:26:57.468Z"
   },
   {
    "duration": 1270,
    "start_time": "2023-09-13T08:27:08.307Z"
   },
   {
    "duration": 2469,
    "start_time": "2023-09-13T08:27:17.180Z"
   },
   {
    "duration": 4,
    "start_time": "2023-09-13T08:30:50.501Z"
   },
   {
    "duration": 1310,
    "start_time": "2023-09-13T08:31:30.740Z"
   },
   {
    "duration": 1385,
    "start_time": "2023-09-13T08:31:34.195Z"
   },
   {
    "duration": 1699,
    "start_time": "2023-09-13T08:31:39.556Z"
   },
   {
    "duration": 130,
    "start_time": "2023-09-13T08:34:57.989Z"
   },
   {
    "duration": 694,
    "start_time": "2023-09-13T08:35:47.102Z"
   },
   {
    "duration": 48,
    "start_time": "2023-09-13T08:35:47.798Z"
   },
   {
    "duration": 14723,
    "start_time": "2023-09-13T08:35:47.848Z"
   },
   {
    "duration": 7808,
    "start_time": "2023-09-13T08:36:02.573Z"
   },
   {
    "duration": 1568,
    "start_time": "2023-09-13T08:36:10.383Z"
   },
   {
    "duration": 1320,
    "start_time": "2023-09-13T08:36:11.953Z"
   },
   {
    "duration": 3,
    "start_time": "2023-09-13T08:36:13.275Z"
   },
   {
    "duration": 69,
    "start_time": "2023-09-13T08:36:13.280Z"
   },
   {
    "duration": 25,
    "start_time": "2023-09-13T08:36:13.351Z"
   },
   {
    "duration": 1295,
    "start_time": "2023-09-13T08:36:13.378Z"
   },
   {
    "duration": 291,
    "start_time": "2023-09-13T08:36:14.675Z"
   },
   {
    "duration": 282,
    "start_time": "2023-09-13T08:36:14.968Z"
   },
   {
    "duration": 15,
    "start_time": "2023-09-13T08:36:15.251Z"
   },
   {
    "duration": 3,
    "start_time": "2023-09-13T08:36:15.268Z"
   },
   {
    "duration": 13,
    "start_time": "2023-09-13T08:36:15.273Z"
   },
   {
    "duration": 6,
    "start_time": "2023-09-13T08:36:15.349Z"
   },
   {
    "duration": 7,
    "start_time": "2023-09-13T08:36:15.356Z"
   },
   {
    "duration": 17,
    "start_time": "2023-09-13T08:36:15.364Z"
   },
   {
    "duration": 5,
    "start_time": "2023-09-13T08:36:15.382Z"
   },
   {
    "duration": 9,
    "start_time": "2023-09-13T08:36:15.388Z"
   },
   {
    "duration": 8,
    "start_time": "2023-09-13T08:36:15.398Z"
   },
   {
    "duration": 558,
    "start_time": "2023-09-13T08:36:15.407Z"
   },
   {
    "duration": 3119,
    "start_time": "2023-09-13T08:36:15.966Z"
   },
   {
    "duration": 5,
    "start_time": "2023-09-13T08:36:19.149Z"
   },
   {
    "duration": 13,
    "start_time": "2023-09-13T08:36:19.155Z"
   },
   {
    "duration": 104,
    "start_time": "2023-09-13T08:36:19.170Z"
   },
   {
    "duration": 1494,
    "start_time": "2023-09-13T08:36:19.275Z"
   },
   {
    "duration": 2906,
    "start_time": "2023-09-13T08:36:20.771Z"
   },
   {
    "duration": 221,
    "start_time": "2023-09-13T08:36:39.030Z"
   },
   {
    "duration": 180,
    "start_time": "2023-09-13T08:36:40.082Z"
   },
   {
    "duration": 679,
    "start_time": "2023-09-13T08:39:13.201Z"
   },
   {
    "duration": 75,
    "start_time": "2023-09-13T08:39:13.882Z"
   },
   {
    "duration": 14518,
    "start_time": "2023-09-13T08:39:13.959Z"
   },
   {
    "duration": 7979,
    "start_time": "2023-09-13T08:39:28.479Z"
   },
   {
    "duration": 1527,
    "start_time": "2023-09-13T08:39:36.460Z"
   },
   {
    "duration": 1280,
    "start_time": "2023-09-13T08:39:37.989Z"
   },
   {
    "duration": 3,
    "start_time": "2023-09-13T08:39:39.270Z"
   },
   {
    "duration": 20,
    "start_time": "2023-09-13T08:39:39.274Z"
   },
   {
    "duration": 22,
    "start_time": "2023-09-13T08:39:39.351Z"
   },
   {
    "duration": 1379,
    "start_time": "2023-09-13T08:39:39.375Z"
   },
   {
    "duration": 317,
    "start_time": "2023-09-13T08:39:40.756Z"
   },
   {
    "duration": 274,
    "start_time": "2023-09-13T08:39:41.076Z"
   },
   {
    "duration": 16,
    "start_time": "2023-09-13T08:39:41.352Z"
   },
   {
    "duration": 12,
    "start_time": "2023-09-13T08:39:41.373Z"
   },
   {
    "duration": 63,
    "start_time": "2023-09-13T08:39:41.387Z"
   },
   {
    "duration": 26,
    "start_time": "2023-09-13T08:39:41.452Z"
   },
   {
    "duration": 28,
    "start_time": "2023-09-13T08:39:41.479Z"
   },
   {
    "duration": 14,
    "start_time": "2023-09-13T08:39:41.509Z"
   },
   {
    "duration": 23,
    "start_time": "2023-09-13T08:39:41.524Z"
   },
   {
    "duration": 17,
    "start_time": "2023-09-13T08:39:41.549Z"
   },
   {
    "duration": 39,
    "start_time": "2023-09-13T08:39:41.568Z"
   },
   {
    "duration": 652,
    "start_time": "2023-09-13T08:39:41.609Z"
   },
   {
    "duration": 2700,
    "start_time": "2023-09-13T08:39:42.262Z"
   },
   {
    "duration": 4,
    "start_time": "2023-09-13T08:39:44.964Z"
   },
   {
    "duration": 38,
    "start_time": "2023-09-13T08:39:44.970Z"
   },
   {
    "duration": 98,
    "start_time": "2023-09-13T08:39:45.010Z"
   },
   {
    "duration": 1766,
    "start_time": "2023-09-13T08:39:45.110Z"
   },
   {
    "duration": 2902,
    "start_time": "2023-09-13T08:39:46.878Z"
   },
   {
    "duration": 269,
    "start_time": "2023-09-13T08:39:49.782Z"
   },
   {
    "duration": 203,
    "start_time": "2023-09-13T08:39:50.053Z"
   },
   {
    "duration": 2,
    "start_time": "2023-09-13T08:39:50.258Z"
   },
   {
    "duration": 54,
    "start_time": "2023-09-13T08:39:50.262Z"
   },
   {
    "duration": 57,
    "start_time": "2023-09-13T08:39:50.318Z"
   },
   {
    "duration": 38,
    "start_time": "2023-09-13T08:39:50.376Z"
   },
   {
    "duration": 42,
    "start_time": "2023-09-13T08:39:50.416Z"
   },
   {
    "duration": 40,
    "start_time": "2023-09-13T08:39:50.460Z"
   },
   {
    "duration": 25,
    "start_time": "2023-09-13T08:39:50.502Z"
   },
   {
    "duration": 64,
    "start_time": "2023-09-13T08:39:50.528Z"
   },
   {
    "duration": 167,
    "start_time": "2023-09-13T08:47:37.218Z"
   },
   {
    "duration": 144,
    "start_time": "2023-09-13T08:47:43.636Z"
   },
   {
    "duration": 30673,
    "start_time": "2023-09-13T08:49:01.995Z"
   },
   {
    "duration": 360417,
    "start_time": "2023-09-13T08:49:36.656Z"
   },
   {
    "duration": 9,
    "start_time": "2023-09-13T08:57:08.650Z"
   },
   {
    "duration": 192,
    "start_time": "2023-09-13T08:57:33.848Z"
   },
   {
    "duration": 52,
    "start_time": "2023-09-13T08:57:34.126Z"
   },
   {
    "duration": 656,
    "start_time": "2023-09-13T08:58:09.446Z"
   },
   {
    "duration": 80,
    "start_time": "2023-09-13T08:58:10.105Z"
   },
   {
    "duration": 14394,
    "start_time": "2023-09-13T08:58:10.186Z"
   },
   {
    "duration": 7271,
    "start_time": "2023-09-13T08:58:24.582Z"
   },
   {
    "duration": 1629,
    "start_time": "2023-09-13T08:58:31.855Z"
   },
   {
    "duration": 1400,
    "start_time": "2023-09-13T08:58:33.486Z"
   },
   {
    "duration": 3,
    "start_time": "2023-09-13T08:58:34.951Z"
   },
   {
    "duration": 20,
    "start_time": "2023-09-13T08:58:34.955Z"
   },
   {
    "duration": 81,
    "start_time": "2023-09-13T08:58:34.977Z"
   },
   {
    "duration": 1290,
    "start_time": "2023-09-13T08:58:35.059Z"
   },
   {
    "duration": 304,
    "start_time": "2023-09-13T08:58:36.352Z"
   },
   {
    "duration": 221,
    "start_time": "2023-09-13T08:58:36.657Z"
   },
   {
    "duration": 78,
    "start_time": "2023-09-13T08:58:36.880Z"
   },
   {
    "duration": 2,
    "start_time": "2023-09-13T08:58:36.961Z"
   },
   {
    "duration": 14,
    "start_time": "2023-09-13T08:58:36.965Z"
   },
   {
    "duration": 7,
    "start_time": "2023-09-13T08:58:36.980Z"
   },
   {
    "duration": 61,
    "start_time": "2023-09-13T08:58:36.988Z"
   },
   {
    "duration": 4,
    "start_time": "2023-09-13T08:58:37.051Z"
   },
   {
    "duration": 12,
    "start_time": "2023-09-13T08:58:37.057Z"
   },
   {
    "duration": 14,
    "start_time": "2023-09-13T08:58:37.070Z"
   },
   {
    "duration": 10,
    "start_time": "2023-09-13T08:58:37.086Z"
   },
   {
    "duration": 584,
    "start_time": "2023-09-13T08:58:37.097Z"
   },
   {
    "duration": 2610,
    "start_time": "2023-09-13T08:58:37.682Z"
   },
   {
    "duration": 58,
    "start_time": "2023-09-13T08:58:40.294Z"
   },
   {
    "duration": 11,
    "start_time": "2023-09-13T08:58:40.354Z"
   },
   {
    "duration": 39,
    "start_time": "2023-09-13T08:58:40.367Z"
   },
   {
    "duration": 1570,
    "start_time": "2023-09-13T08:58:40.408Z"
   },
   {
    "duration": 2799,
    "start_time": "2023-09-13T08:58:41.981Z"
   },
   {
    "duration": 294,
    "start_time": "2023-09-13T08:58:44.782Z"
   },
   {
    "duration": 280,
    "start_time": "2023-09-13T08:58:45.078Z"
   },
   {
    "duration": 3,
    "start_time": "2023-09-13T08:58:45.360Z"
   },
   {
    "duration": 43,
    "start_time": "2023-09-13T08:58:45.365Z"
   },
   {
    "duration": 7,
    "start_time": "2023-09-13T08:58:45.409Z"
   },
   {
    "duration": 30,
    "start_time": "2023-09-13T08:58:45.417Z"
   },
   {
    "duration": 10,
    "start_time": "2023-09-13T08:58:45.449Z"
   },
   {
    "duration": 14,
    "start_time": "2023-09-13T08:58:45.461Z"
   },
   {
    "duration": 28,
    "start_time": "2023-09-13T08:58:45.477Z"
   },
   {
    "duration": 26,
    "start_time": "2023-09-13T08:58:45.506Z"
   },
   {
    "duration": 34,
    "start_time": "2023-09-13T08:58:45.533Z"
   },
   {
    "duration": 36,
    "start_time": "2023-09-13T08:58:45.568Z"
   },
   {
    "duration": 241270,
    "start_time": "2023-09-13T08:58:45.608Z"
   },
   {
    "duration": 4,
    "start_time": "2023-09-13T09:04:47.533Z"
   },
   {
    "duration": 1295,
    "start_time": "2023-09-13T09:04:47.878Z"
   },
   {
    "duration": 706,
    "start_time": "2023-09-13T09:05:25.798Z"
   },
   {
    "duration": 53,
    "start_time": "2023-09-13T09:05:26.506Z"
   },
   {
    "duration": 8192,
    "start_time": "2023-09-13T09:05:26.561Z"
   },
   {
    "duration": 0,
    "start_time": "2023-09-13T09:05:34.757Z"
   },
   {
    "duration": 0,
    "start_time": "2023-09-13T09:05:34.759Z"
   },
   {
    "duration": 0,
    "start_time": "2023-09-13T09:05:34.761Z"
   },
   {
    "duration": 0,
    "start_time": "2023-09-13T09:05:34.762Z"
   },
   {
    "duration": 0,
    "start_time": "2023-09-13T09:05:34.764Z"
   },
   {
    "duration": 0,
    "start_time": "2023-09-13T09:05:34.765Z"
   },
   {
    "duration": 1,
    "start_time": "2023-09-13T09:05:34.766Z"
   },
   {
    "duration": 0,
    "start_time": "2023-09-13T09:05:34.769Z"
   },
   {
    "duration": 0,
    "start_time": "2023-09-13T09:05:34.770Z"
   },
   {
    "duration": 0,
    "start_time": "2023-09-13T09:05:34.771Z"
   },
   {
    "duration": 0,
    "start_time": "2023-09-13T09:05:34.772Z"
   },
   {
    "duration": 0,
    "start_time": "2023-09-13T09:05:34.774Z"
   },
   {
    "duration": 0,
    "start_time": "2023-09-13T09:05:34.850Z"
   },
   {
    "duration": 0,
    "start_time": "2023-09-13T09:05:34.852Z"
   },
   {
    "duration": 0,
    "start_time": "2023-09-13T09:05:34.853Z"
   },
   {
    "duration": 0,
    "start_time": "2023-09-13T09:05:34.855Z"
   },
   {
    "duration": 0,
    "start_time": "2023-09-13T09:05:34.857Z"
   },
   {
    "duration": 0,
    "start_time": "2023-09-13T09:05:34.858Z"
   },
   {
    "duration": 0,
    "start_time": "2023-09-13T09:05:34.859Z"
   },
   {
    "duration": 0,
    "start_time": "2023-09-13T09:05:34.860Z"
   },
   {
    "duration": 0,
    "start_time": "2023-09-13T09:05:34.861Z"
   },
   {
    "duration": 0,
    "start_time": "2023-09-13T09:05:34.862Z"
   },
   {
    "duration": 0,
    "start_time": "2023-09-13T09:05:34.863Z"
   },
   {
    "duration": 0,
    "start_time": "2023-09-13T09:05:34.865Z"
   },
   {
    "duration": 0,
    "start_time": "2023-09-13T09:05:34.866Z"
   },
   {
    "duration": 0,
    "start_time": "2023-09-13T09:05:34.867Z"
   },
   {
    "duration": 0,
    "start_time": "2023-09-13T09:05:34.868Z"
   },
   {
    "duration": 0,
    "start_time": "2023-09-13T09:05:34.869Z"
   },
   {
    "duration": 0,
    "start_time": "2023-09-13T09:05:34.870Z"
   },
   {
    "duration": 0,
    "start_time": "2023-09-13T09:05:34.871Z"
   },
   {
    "duration": 0,
    "start_time": "2023-09-13T09:05:34.872Z"
   },
   {
    "duration": 0,
    "start_time": "2023-09-13T09:05:34.873Z"
   },
   {
    "duration": 0,
    "start_time": "2023-09-13T09:05:34.874Z"
   },
   {
    "duration": 0,
    "start_time": "2023-09-13T09:05:34.875Z"
   },
   {
    "duration": 0,
    "start_time": "2023-09-13T09:05:34.950Z"
   },
   {
    "duration": 0,
    "start_time": "2023-09-13T09:05:34.951Z"
   },
   {
    "duration": 0,
    "start_time": "2023-09-13T09:05:34.952Z"
   },
   {
    "duration": 0,
    "start_time": "2023-09-13T09:05:34.953Z"
   },
   {
    "duration": 0,
    "start_time": "2023-09-13T09:05:34.954Z"
   },
   {
    "duration": 0,
    "start_time": "2023-09-13T09:05:34.955Z"
   },
   {
    "duration": 0,
    "start_time": "2023-09-13T09:05:34.957Z"
   },
   {
    "duration": 0,
    "start_time": "2023-09-13T09:05:34.958Z"
   },
   {
    "duration": 0,
    "start_time": "2023-09-13T09:05:34.959Z"
   },
   {
    "duration": 0,
    "start_time": "2023-09-13T09:05:34.960Z"
   },
   {
    "duration": 0,
    "start_time": "2023-09-13T09:05:34.961Z"
   },
   {
    "duration": 677,
    "start_time": "2023-09-13T09:06:07.398Z"
   },
   {
    "duration": 58,
    "start_time": "2023-09-13T09:06:08.077Z"
   },
   {
    "duration": 15144,
    "start_time": "2023-09-13T09:06:08.136Z"
   },
   {
    "duration": 8271,
    "start_time": "2023-09-13T09:06:23.283Z"
   },
   {
    "duration": 1896,
    "start_time": "2023-09-13T09:06:31.556Z"
   },
   {
    "duration": 1199,
    "start_time": "2023-09-13T09:06:33.454Z"
   },
   {
    "duration": 3,
    "start_time": "2023-09-13T09:06:34.655Z"
   },
   {
    "duration": 15,
    "start_time": "2023-09-13T09:06:34.659Z"
   },
   {
    "duration": 29,
    "start_time": "2023-09-13T09:06:34.675Z"
   },
   {
    "duration": 1359,
    "start_time": "2023-09-13T09:06:34.706Z"
   },
   {
    "duration": 305,
    "start_time": "2023-09-13T09:06:36.067Z"
   },
   {
    "duration": 214,
    "start_time": "2023-09-13T09:06:36.374Z"
   },
   {
    "duration": 14,
    "start_time": "2023-09-13T09:06:36.650Z"
   },
   {
    "duration": 3,
    "start_time": "2023-09-13T09:06:36.665Z"
   },
   {
    "duration": 81,
    "start_time": "2023-09-13T09:06:36.669Z"
   },
   {
    "duration": 4,
    "start_time": "2023-09-13T09:06:36.752Z"
   },
   {
    "duration": 27,
    "start_time": "2023-09-13T09:06:36.757Z"
   },
   {
    "duration": 23,
    "start_time": "2023-09-13T09:06:36.785Z"
   },
   {
    "duration": 5,
    "start_time": "2023-09-13T09:06:36.809Z"
   },
   {
    "duration": 11,
    "start_time": "2023-09-13T09:06:36.816Z"
   },
   {
    "duration": 20,
    "start_time": "2023-09-13T09:06:36.828Z"
   },
   {
    "duration": 606,
    "start_time": "2023-09-13T09:06:36.850Z"
   },
   {
    "duration": 2727,
    "start_time": "2023-09-13T09:06:37.458Z"
   },
   {
    "duration": 5,
    "start_time": "2023-09-13T09:06:40.186Z"
   },
   {
    "duration": 4,
    "start_time": "2023-09-13T09:06:40.250Z"
   },
   {
    "duration": 107,
    "start_time": "2023-09-13T09:06:40.255Z"
   },
   {
    "duration": 1692,
    "start_time": "2023-09-13T09:06:40.364Z"
   },
   {
    "duration": 3014,
    "start_time": "2023-09-13T09:06:42.059Z"
   },
   {
    "duration": 374,
    "start_time": "2023-09-13T09:06:45.076Z"
   },
   {
    "duration": 216,
    "start_time": "2023-09-13T09:06:45.452Z"
   },
   {
    "duration": 3,
    "start_time": "2023-09-13T09:06:45.669Z"
   },
   {
    "duration": 29,
    "start_time": "2023-09-13T09:06:45.673Z"
   },
   {
    "duration": 46,
    "start_time": "2023-09-13T09:06:45.704Z"
   },
   {
    "duration": 32,
    "start_time": "2023-09-13T09:06:45.751Z"
   },
   {
    "duration": 31,
    "start_time": "2023-09-13T09:06:45.784Z"
   },
   {
    "duration": 26,
    "start_time": "2023-09-13T09:06:45.817Z"
   },
   {
    "duration": 39,
    "start_time": "2023-09-13T09:06:45.845Z"
   },
   {
    "duration": 16,
    "start_time": "2023-09-13T09:06:45.885Z"
   },
   {
    "duration": 6,
    "start_time": "2023-09-13T09:06:45.902Z"
   },
   {
    "duration": 14,
    "start_time": "2023-09-13T09:06:45.909Z"
   },
   {
    "duration": 234975,
    "start_time": "2023-09-13T09:06:45.924Z"
   },
   {
    "duration": 50,
    "start_time": "2023-09-13T09:10:40.901Z"
   },
   {
    "duration": 24014,
    "start_time": "2023-09-13T09:10:40.953Z"
   },
   {
    "duration": 480341,
    "start_time": "2023-09-13T09:11:04.969Z"
   },
   {
    "duration": 3,
    "start_time": "2023-09-13T09:19:05.312Z"
   },
   {
    "duration": 1095,
    "start_time": "2023-09-13T09:19:05.317Z"
   },
   {
    "duration": 782,
    "start_time": "2023-09-13T09:19:06.414Z"
   },
   {
    "duration": 753,
    "start_time": "2023-09-13T09:19:07.198Z"
   },
   {
    "duration": 4,
    "start_time": "2023-09-13T09:28:58.900Z"
   },
   {
    "duration": 76,
    "start_time": "2023-09-13T09:30:05.436Z"
   },
   {
    "duration": 203,
    "start_time": "2023-09-13T09:30:10.938Z"
   },
   {
    "duration": 4157,
    "start_time": "2023-09-13T09:30:22.338Z"
   },
   {
    "duration": 599,
    "start_time": "2023-09-13T09:30:34.405Z"
   },
   {
    "duration": 108,
    "start_time": "2023-09-13T09:36:44.812Z"
   },
   {
    "duration": 127,
    "start_time": "2023-09-13T09:36:51.722Z"
   },
   {
    "duration": 93,
    "start_time": "2023-09-13T09:37:23.435Z"
   },
   {
    "duration": 1354447,
    "start_time": "2023-09-13T09:37:41.957Z"
   },
   {
    "duration": 848,
    "start_time": "2023-09-13T10:00:16.407Z"
   }
  ],
  "colab": {
   "name": "PySparkSprint.ipynb",
   "provenance": []
  },
  "kernelspec": {
   "display_name": "Python 3 (ipykernel)",
   "language": "python",
   "name": "python3"
  },
  "language_info": {
   "codemirror_mode": {
    "name": "ipython",
    "version": 3
   },
   "file_extension": ".py",
   "mimetype": "text/x-python",
   "name": "python",
   "nbconvert_exporter": "python",
   "pygments_lexer": "ipython3",
   "version": "3.9.5"
  },
  "toc": {
   "base_numbering": 1,
   "nav_menu": {},
   "number_sections": true,
   "sideBar": true,
   "skip_h1_title": true,
   "title_cell": "Table of Contents",
   "title_sidebar": "Contents",
   "toc_cell": false,
   "toc_position": {},
   "toc_section_display": true,
   "toc_window_display": false
  }
 },
 "nbformat": 4,
 "nbformat_minor": 5
}
