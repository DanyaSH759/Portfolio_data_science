{
 "cells": [
  {
   "cell_type": "markdown",
   "metadata": {},
   "source": [
    "# Выбор локации для скважины"
   ]
  },
  {
   "cell_type": "markdown",
   "metadata": {},
   "source": [
    "Допустим, вы работаете в добывающей компании «ГлавРосГосНефть». Нужно решить, где бурить новую скважину.\n",
    "\n",
    "Вам предоставлены пробы нефти в трёх регионах: в каждом 10 000 месторождений, где измерили качество нефти и объём её запасов. Постройте модель машинного обучения, которая поможет определить регион, где добыча принесёт наибольшую прибыль. Проанализируйте возможную прибыль и риски техникой *Bootstrap.*\n",
    "\n",
    "Шаги для выбора локации:\n",
    "\n",
    "- В избранном регионе ищут месторождения, для каждого определяют значения признаков;\n",
    "- Строят модель и оценивают объём запасов;\n",
    "- Выбирают месторождения с самым высокими оценками значений. Количество месторождений зависит от бюджета компании и стоимости разработки одной скважины;\n",
    "- Прибыль равна суммарной прибыли отобранных месторождений."
   ]
  },
  {
   "cell_type": "markdown",
   "metadata": {},
   "source": [
    "## Загрузка и подготовка данных"
   ]
  },
  {
   "cell_type": "code",
   "execution_count": 1,
   "metadata": {},
   "outputs": [],
   "source": [
    "#Загрузка основных библиотек\n",
    "import pandas as pd\n",
    "import numpy as np\n",
    "\n",
    "\n",
    "from sklearn.linear_model import LinearRegression\n",
    "from sklearn.model_selection import train_test_split, cross_val_score\n",
    "from sklearn.metrics import mean_squared_error"
   ]
  },
  {
   "cell_type": "code",
   "execution_count": 2,
   "metadata": {},
   "outputs": [],
   "source": [
    "# загрузка дадасетов\n",
    "try:\n",
    "    geo_0 = pd.read_csv(\"/datasets/geo_data_0.csv\")\n",
    "    geo_1 = pd.read_csv(\"/datasets/geo_data_1.csv\")\n",
    "    geo_2 = pd.read_csv(\"/datasets/geo_data_2.csv\")\n",
    "except:\n",
    "    geo_0 = pd.read_csv(\"geo_data_0.csv\")\n",
    "    geo_1 = pd.read_csv(\"geo_data_1.csv\")\n",
    "    geo_2 = pd.read_csv(\"geo_data_2.csv\")"
   ]
  },
  {
   "cell_type": "code",
   "execution_count": 3,
   "metadata": {},
   "outputs": [],
   "source": [
    "def base_analizez(data):\n",
    "    ''' функция для изучения датасета'''\n",
    "    \n",
    "    print('Просмотр датасета:')\n",
    "    display(data.head())\n",
    "    \n",
    "    print('\\n')\n",
    "    print('Общая информация об датасете:')\n",
    "    print(data.info())\n",
    "    \n",
    "    print('\\n')\n",
    "    print('Проверка на наличие значений nan в датасете:')\n",
    "    display(pd.DataFrame(round(\n",
    "        data.isna().mean()*100,)).style.background_gradient('coolwarm'))\n",
    "    \n",
    "    print('\\n')\n",
    "    print('Изучение корреляции между данными')\n",
    "    print(data.corr())"
   ]
  },
  {
   "cell_type": "code",
   "execution_count": 4,
   "metadata": {},
   "outputs": [
    {
     "name": "stdout",
     "output_type": "stream",
     "text": [
      "Просмотр датасета:\n"
     ]
    },
    {
     "data": {
      "text/html": [
       "<div>\n",
       "<style scoped>\n",
       "    .dataframe tbody tr th:only-of-type {\n",
       "        vertical-align: middle;\n",
       "    }\n",
       "\n",
       "    .dataframe tbody tr th {\n",
       "        vertical-align: top;\n",
       "    }\n",
       "\n",
       "    .dataframe thead th {\n",
       "        text-align: right;\n",
       "    }\n",
       "</style>\n",
       "<table border=\"1\" class=\"dataframe\">\n",
       "  <thead>\n",
       "    <tr style=\"text-align: right;\">\n",
       "      <th></th>\n",
       "      <th>id</th>\n",
       "      <th>f0</th>\n",
       "      <th>f1</th>\n",
       "      <th>f2</th>\n",
       "      <th>product</th>\n",
       "    </tr>\n",
       "  </thead>\n",
       "  <tbody>\n",
       "    <tr>\n",
       "      <th>0</th>\n",
       "      <td>txEyH</td>\n",
       "      <td>0.705745</td>\n",
       "      <td>-0.497823</td>\n",
       "      <td>1.221170</td>\n",
       "      <td>105.280062</td>\n",
       "    </tr>\n",
       "    <tr>\n",
       "      <th>1</th>\n",
       "      <td>2acmU</td>\n",
       "      <td>1.334711</td>\n",
       "      <td>-0.340164</td>\n",
       "      <td>4.365080</td>\n",
       "      <td>73.037750</td>\n",
       "    </tr>\n",
       "    <tr>\n",
       "      <th>2</th>\n",
       "      <td>409Wp</td>\n",
       "      <td>1.022732</td>\n",
       "      <td>0.151990</td>\n",
       "      <td>1.419926</td>\n",
       "      <td>85.265647</td>\n",
       "    </tr>\n",
       "    <tr>\n",
       "      <th>3</th>\n",
       "      <td>iJLyR</td>\n",
       "      <td>-0.032172</td>\n",
       "      <td>0.139033</td>\n",
       "      <td>2.978566</td>\n",
       "      <td>168.620776</td>\n",
       "    </tr>\n",
       "    <tr>\n",
       "      <th>4</th>\n",
       "      <td>Xdl7t</td>\n",
       "      <td>1.988431</td>\n",
       "      <td>0.155413</td>\n",
       "      <td>4.751769</td>\n",
       "      <td>154.036647</td>\n",
       "    </tr>\n",
       "  </tbody>\n",
       "</table>\n",
       "</div>"
      ],
      "text/plain": [
       "      id        f0        f1        f2     product\n",
       "0  txEyH  0.705745 -0.497823  1.221170  105.280062\n",
       "1  2acmU  1.334711 -0.340164  4.365080   73.037750\n",
       "2  409Wp  1.022732  0.151990  1.419926   85.265647\n",
       "3  iJLyR -0.032172  0.139033  2.978566  168.620776\n",
       "4  Xdl7t  1.988431  0.155413  4.751769  154.036647"
      ]
     },
     "metadata": {},
     "output_type": "display_data"
    },
    {
     "name": "stdout",
     "output_type": "stream",
     "text": [
      "\n",
      "\n",
      "Общая информация об датасете:\n",
      "<class 'pandas.core.frame.DataFrame'>\n",
      "RangeIndex: 100000 entries, 0 to 99999\n",
      "Data columns (total 5 columns):\n",
      " #   Column   Non-Null Count   Dtype  \n",
      "---  ------   --------------   -----  \n",
      " 0   id       100000 non-null  object \n",
      " 1   f0       100000 non-null  float64\n",
      " 2   f1       100000 non-null  float64\n",
      " 3   f2       100000 non-null  float64\n",
      " 4   product  100000 non-null  float64\n",
      "dtypes: float64(4), object(1)\n",
      "memory usage: 3.8+ MB\n",
      "None\n",
      "\n",
      "\n",
      "Проверка на наличие значений nan в датасете:\n"
     ]
    },
    {
     "data": {
      "text/html": [
       "<style  type=\"text/css\" >\n",
       "#T_c39ea_row0_col0,#T_c39ea_row1_col0,#T_c39ea_row2_col0,#T_c39ea_row3_col0,#T_c39ea_row4_col0{\n",
       "            background-color:  #3b4cc0;\n",
       "            color:  #f1f1f1;\n",
       "        }</style><table id=\"T_c39ea_\" ><thead>    <tr>        <th class=\"blank level0\" ></th>        <th class=\"col_heading level0 col0\" >0</th>    </tr></thead><tbody>\n",
       "                <tr>\n",
       "                        <th id=\"T_c39ea_level0_row0\" class=\"row_heading level0 row0\" >id</th>\n",
       "                        <td id=\"T_c39ea_row0_col0\" class=\"data row0 col0\" >0.000000</td>\n",
       "            </tr>\n",
       "            <tr>\n",
       "                        <th id=\"T_c39ea_level0_row1\" class=\"row_heading level0 row1\" >f0</th>\n",
       "                        <td id=\"T_c39ea_row1_col0\" class=\"data row1 col0\" >0.000000</td>\n",
       "            </tr>\n",
       "            <tr>\n",
       "                        <th id=\"T_c39ea_level0_row2\" class=\"row_heading level0 row2\" >f1</th>\n",
       "                        <td id=\"T_c39ea_row2_col0\" class=\"data row2 col0\" >0.000000</td>\n",
       "            </tr>\n",
       "            <tr>\n",
       "                        <th id=\"T_c39ea_level0_row3\" class=\"row_heading level0 row3\" >f2</th>\n",
       "                        <td id=\"T_c39ea_row3_col0\" class=\"data row3 col0\" >0.000000</td>\n",
       "            </tr>\n",
       "            <tr>\n",
       "                        <th id=\"T_c39ea_level0_row4\" class=\"row_heading level0 row4\" >product</th>\n",
       "                        <td id=\"T_c39ea_row4_col0\" class=\"data row4 col0\" >0.000000</td>\n",
       "            </tr>\n",
       "    </tbody></table>"
      ],
      "text/plain": [
       "<pandas.io.formats.style.Styler at 0x7fbaafba6580>"
      ]
     },
     "metadata": {},
     "output_type": "display_data"
    },
    {
     "name": "stdout",
     "output_type": "stream",
     "text": [
      "\n",
      "\n",
      "Изучение корреляции между данными\n",
      "               f0        f1        f2   product\n",
      "f0       1.000000 -0.440723 -0.003153  0.143536\n",
      "f1      -0.440723  1.000000  0.001724 -0.192356\n",
      "f2      -0.003153  0.001724  1.000000  0.483663\n",
      "product  0.143536 -0.192356  0.483663  1.000000\n"
     ]
    }
   ],
   "source": [
    "# просмотр значений датасета\n",
    "base_analizez(geo_0)"
   ]
  },
  {
   "cell_type": "code",
   "execution_count": 5,
   "metadata": {},
   "outputs": [
    {
     "name": "stdout",
     "output_type": "stream",
     "text": [
      "Просмотр датасета:\n"
     ]
    },
    {
     "data": {
      "text/html": [
       "<div>\n",
       "<style scoped>\n",
       "    .dataframe tbody tr th:only-of-type {\n",
       "        vertical-align: middle;\n",
       "    }\n",
       "\n",
       "    .dataframe tbody tr th {\n",
       "        vertical-align: top;\n",
       "    }\n",
       "\n",
       "    .dataframe thead th {\n",
       "        text-align: right;\n",
       "    }\n",
       "</style>\n",
       "<table border=\"1\" class=\"dataframe\">\n",
       "  <thead>\n",
       "    <tr style=\"text-align: right;\">\n",
       "      <th></th>\n",
       "      <th>id</th>\n",
       "      <th>f0</th>\n",
       "      <th>f1</th>\n",
       "      <th>f2</th>\n",
       "      <th>product</th>\n",
       "    </tr>\n",
       "  </thead>\n",
       "  <tbody>\n",
       "    <tr>\n",
       "      <th>0</th>\n",
       "      <td>kBEdx</td>\n",
       "      <td>-15.001348</td>\n",
       "      <td>-8.276000</td>\n",
       "      <td>-0.005876</td>\n",
       "      <td>3.179103</td>\n",
       "    </tr>\n",
       "    <tr>\n",
       "      <th>1</th>\n",
       "      <td>62mP7</td>\n",
       "      <td>14.272088</td>\n",
       "      <td>-3.475083</td>\n",
       "      <td>0.999183</td>\n",
       "      <td>26.953261</td>\n",
       "    </tr>\n",
       "    <tr>\n",
       "      <th>2</th>\n",
       "      <td>vyE1P</td>\n",
       "      <td>6.263187</td>\n",
       "      <td>-5.948386</td>\n",
       "      <td>5.001160</td>\n",
       "      <td>134.766305</td>\n",
       "    </tr>\n",
       "    <tr>\n",
       "      <th>3</th>\n",
       "      <td>KcrkZ</td>\n",
       "      <td>-13.081196</td>\n",
       "      <td>-11.506057</td>\n",
       "      <td>4.999415</td>\n",
       "      <td>137.945408</td>\n",
       "    </tr>\n",
       "    <tr>\n",
       "      <th>4</th>\n",
       "      <td>AHL4O</td>\n",
       "      <td>12.702195</td>\n",
       "      <td>-8.147433</td>\n",
       "      <td>5.004363</td>\n",
       "      <td>134.766305</td>\n",
       "    </tr>\n",
       "  </tbody>\n",
       "</table>\n",
       "</div>"
      ],
      "text/plain": [
       "      id         f0         f1        f2     product\n",
       "0  kBEdx -15.001348  -8.276000 -0.005876    3.179103\n",
       "1  62mP7  14.272088  -3.475083  0.999183   26.953261\n",
       "2  vyE1P   6.263187  -5.948386  5.001160  134.766305\n",
       "3  KcrkZ -13.081196 -11.506057  4.999415  137.945408\n",
       "4  AHL4O  12.702195  -8.147433  5.004363  134.766305"
      ]
     },
     "metadata": {},
     "output_type": "display_data"
    },
    {
     "name": "stdout",
     "output_type": "stream",
     "text": [
      "\n",
      "\n",
      "Общая информация об датасете:\n",
      "<class 'pandas.core.frame.DataFrame'>\n",
      "RangeIndex: 100000 entries, 0 to 99999\n",
      "Data columns (total 5 columns):\n",
      " #   Column   Non-Null Count   Dtype  \n",
      "---  ------   --------------   -----  \n",
      " 0   id       100000 non-null  object \n",
      " 1   f0       100000 non-null  float64\n",
      " 2   f1       100000 non-null  float64\n",
      " 3   f2       100000 non-null  float64\n",
      " 4   product  100000 non-null  float64\n",
      "dtypes: float64(4), object(1)\n",
      "memory usage: 3.8+ MB\n",
      "None\n",
      "\n",
      "\n",
      "Проверка на наличие значений nan в датасете:\n"
     ]
    },
    {
     "data": {
      "text/html": [
       "<style  type=\"text/css\" >\n",
       "#T_f7402_row0_col0,#T_f7402_row1_col0,#T_f7402_row2_col0,#T_f7402_row3_col0,#T_f7402_row4_col0{\n",
       "            background-color:  #3b4cc0;\n",
       "            color:  #f1f1f1;\n",
       "        }</style><table id=\"T_f7402_\" ><thead>    <tr>        <th class=\"blank level0\" ></th>        <th class=\"col_heading level0 col0\" >0</th>    </tr></thead><tbody>\n",
       "                <tr>\n",
       "                        <th id=\"T_f7402_level0_row0\" class=\"row_heading level0 row0\" >id</th>\n",
       "                        <td id=\"T_f7402_row0_col0\" class=\"data row0 col0\" >0.000000</td>\n",
       "            </tr>\n",
       "            <tr>\n",
       "                        <th id=\"T_f7402_level0_row1\" class=\"row_heading level0 row1\" >f0</th>\n",
       "                        <td id=\"T_f7402_row1_col0\" class=\"data row1 col0\" >0.000000</td>\n",
       "            </tr>\n",
       "            <tr>\n",
       "                        <th id=\"T_f7402_level0_row2\" class=\"row_heading level0 row2\" >f1</th>\n",
       "                        <td id=\"T_f7402_row2_col0\" class=\"data row2 col0\" >0.000000</td>\n",
       "            </tr>\n",
       "            <tr>\n",
       "                        <th id=\"T_f7402_level0_row3\" class=\"row_heading level0 row3\" >f2</th>\n",
       "                        <td id=\"T_f7402_row3_col0\" class=\"data row3 col0\" >0.000000</td>\n",
       "            </tr>\n",
       "            <tr>\n",
       "                        <th id=\"T_f7402_level0_row4\" class=\"row_heading level0 row4\" >product</th>\n",
       "                        <td id=\"T_f7402_row4_col0\" class=\"data row4 col0\" >0.000000</td>\n",
       "            </tr>\n",
       "    </tbody></table>"
      ],
      "text/plain": [
       "<pandas.io.formats.style.Styler at 0x7fbaada32610>"
      ]
     },
     "metadata": {},
     "output_type": "display_data"
    },
    {
     "name": "stdout",
     "output_type": "stream",
     "text": [
      "\n",
      "\n",
      "Изучение корреляции между данными\n",
      "               f0        f1        f2   product\n",
      "f0       1.000000  0.182287 -0.001777 -0.030491\n",
      "f1       0.182287  1.000000 -0.002595 -0.010155\n",
      "f2      -0.001777 -0.002595  1.000000  0.999397\n",
      "product -0.030491 -0.010155  0.999397  1.000000\n"
     ]
    }
   ],
   "source": [
    "# просмотр значений датасета\n",
    "base_analizez(geo_1)"
   ]
  },
  {
   "cell_type": "code",
   "execution_count": 6,
   "metadata": {
    "scrolled": false
   },
   "outputs": [
    {
     "name": "stdout",
     "output_type": "stream",
     "text": [
      "Просмотр датасета:\n"
     ]
    },
    {
     "data": {
      "text/html": [
       "<div>\n",
       "<style scoped>\n",
       "    .dataframe tbody tr th:only-of-type {\n",
       "        vertical-align: middle;\n",
       "    }\n",
       "\n",
       "    .dataframe tbody tr th {\n",
       "        vertical-align: top;\n",
       "    }\n",
       "\n",
       "    .dataframe thead th {\n",
       "        text-align: right;\n",
       "    }\n",
       "</style>\n",
       "<table border=\"1\" class=\"dataframe\">\n",
       "  <thead>\n",
       "    <tr style=\"text-align: right;\">\n",
       "      <th></th>\n",
       "      <th>id</th>\n",
       "      <th>f0</th>\n",
       "      <th>f1</th>\n",
       "      <th>f2</th>\n",
       "      <th>product</th>\n",
       "    </tr>\n",
       "  </thead>\n",
       "  <tbody>\n",
       "    <tr>\n",
       "      <th>0</th>\n",
       "      <td>fwXo0</td>\n",
       "      <td>-1.146987</td>\n",
       "      <td>0.963328</td>\n",
       "      <td>-0.828965</td>\n",
       "      <td>27.758673</td>\n",
       "    </tr>\n",
       "    <tr>\n",
       "      <th>1</th>\n",
       "      <td>WJtFt</td>\n",
       "      <td>0.262778</td>\n",
       "      <td>0.269839</td>\n",
       "      <td>-2.530187</td>\n",
       "      <td>56.069697</td>\n",
       "    </tr>\n",
       "    <tr>\n",
       "      <th>2</th>\n",
       "      <td>ovLUW</td>\n",
       "      <td>0.194587</td>\n",
       "      <td>0.289035</td>\n",
       "      <td>-5.586433</td>\n",
       "      <td>62.871910</td>\n",
       "    </tr>\n",
       "    <tr>\n",
       "      <th>3</th>\n",
       "      <td>q6cA6</td>\n",
       "      <td>2.236060</td>\n",
       "      <td>-0.553760</td>\n",
       "      <td>0.930038</td>\n",
       "      <td>114.572842</td>\n",
       "    </tr>\n",
       "    <tr>\n",
       "      <th>4</th>\n",
       "      <td>WPMUX</td>\n",
       "      <td>-0.515993</td>\n",
       "      <td>1.716266</td>\n",
       "      <td>5.899011</td>\n",
       "      <td>149.600746</td>\n",
       "    </tr>\n",
       "  </tbody>\n",
       "</table>\n",
       "</div>"
      ],
      "text/plain": [
       "      id        f0        f1        f2     product\n",
       "0  fwXo0 -1.146987  0.963328 -0.828965   27.758673\n",
       "1  WJtFt  0.262778  0.269839 -2.530187   56.069697\n",
       "2  ovLUW  0.194587  0.289035 -5.586433   62.871910\n",
       "3  q6cA6  2.236060 -0.553760  0.930038  114.572842\n",
       "4  WPMUX -0.515993  1.716266  5.899011  149.600746"
      ]
     },
     "metadata": {},
     "output_type": "display_data"
    },
    {
     "name": "stdout",
     "output_type": "stream",
     "text": [
      "\n",
      "\n",
      "Общая информация об датасете:\n",
      "<class 'pandas.core.frame.DataFrame'>\n",
      "RangeIndex: 100000 entries, 0 to 99999\n",
      "Data columns (total 5 columns):\n",
      " #   Column   Non-Null Count   Dtype  \n",
      "---  ------   --------------   -----  \n",
      " 0   id       100000 non-null  object \n",
      " 1   f0       100000 non-null  float64\n",
      " 2   f1       100000 non-null  float64\n",
      " 3   f2       100000 non-null  float64\n",
      " 4   product  100000 non-null  float64\n",
      "dtypes: float64(4), object(1)\n",
      "memory usage: 3.8+ MB\n",
      "None\n",
      "\n",
      "\n",
      "Проверка на наличие значений nan в датасете:\n"
     ]
    },
    {
     "data": {
      "text/html": [
       "<style  type=\"text/css\" >\n",
       "#T_6cc06_row0_col0,#T_6cc06_row1_col0,#T_6cc06_row2_col0,#T_6cc06_row3_col0,#T_6cc06_row4_col0{\n",
       "            background-color:  #3b4cc0;\n",
       "            color:  #f1f1f1;\n",
       "        }</style><table id=\"T_6cc06_\" ><thead>    <tr>        <th class=\"blank level0\" ></th>        <th class=\"col_heading level0 col0\" >0</th>    </tr></thead><tbody>\n",
       "                <tr>\n",
       "                        <th id=\"T_6cc06_level0_row0\" class=\"row_heading level0 row0\" >id</th>\n",
       "                        <td id=\"T_6cc06_row0_col0\" class=\"data row0 col0\" >0.000000</td>\n",
       "            </tr>\n",
       "            <tr>\n",
       "                        <th id=\"T_6cc06_level0_row1\" class=\"row_heading level0 row1\" >f0</th>\n",
       "                        <td id=\"T_6cc06_row1_col0\" class=\"data row1 col0\" >0.000000</td>\n",
       "            </tr>\n",
       "            <tr>\n",
       "                        <th id=\"T_6cc06_level0_row2\" class=\"row_heading level0 row2\" >f1</th>\n",
       "                        <td id=\"T_6cc06_row2_col0\" class=\"data row2 col0\" >0.000000</td>\n",
       "            </tr>\n",
       "            <tr>\n",
       "                        <th id=\"T_6cc06_level0_row3\" class=\"row_heading level0 row3\" >f2</th>\n",
       "                        <td id=\"T_6cc06_row3_col0\" class=\"data row3 col0\" >0.000000</td>\n",
       "            </tr>\n",
       "            <tr>\n",
       "                        <th id=\"T_6cc06_level0_row4\" class=\"row_heading level0 row4\" >product</th>\n",
       "                        <td id=\"T_6cc06_row4_col0\" class=\"data row4 col0\" >0.000000</td>\n",
       "            </tr>\n",
       "    </tbody></table>"
      ],
      "text/plain": [
       "<pandas.io.formats.style.Styler at 0x7fbaada32700>"
      ]
     },
     "metadata": {},
     "output_type": "display_data"
    },
    {
     "name": "stdout",
     "output_type": "stream",
     "text": [
      "\n",
      "\n",
      "Изучение корреляции между данными\n",
      "               f0        f1        f2   product\n",
      "f0       1.000000  0.000528 -0.000448 -0.001987\n",
      "f1       0.000528  1.000000  0.000779 -0.001012\n",
      "f2      -0.000448  0.000779  1.000000  0.445871\n",
      "product -0.001987 -0.001012  0.445871  1.000000\n"
     ]
    }
   ],
   "source": [
    "# просмотр значений датасета\n",
    "base_analizez(geo_2)"
   ]
  },
  {
   "cell_type": "markdown",
   "metadata": {},
   "source": [
    "**Вывод:** Во всех датасетах 100 тыс. строчек. Пропуски отсутствуют. В датасете geo_1 наблюдается полная корреляция между колонками f2 и product. "
   ]
  },
  {
   "cell_type": "markdown",
   "metadata": {},
   "source": [
    "## Обучение и проверка модели"
   ]
  },
  {
   "cell_type": "code",
   "execution_count": 7,
   "metadata": {},
   "outputs": [],
   "source": [
    "def split_data(data):\n",
    "    \"\"\" деление датасета на тестовую и\n",
    "    валидационную выборки\"\"\"\n",
    "    features = data.drop(['id', 'product'], axis = 1) \n",
    "    target =  data['product']\n",
    "    \n",
    "    features_train, features_valid, target_train, target_valid = train_test_split(\n",
    "    features, target, test_size=0.25,  random_state=12345)\n",
    "    \n",
    "    return features, target, features_train, \\\n",
    "        features_valid, target_train, target_valid\n",
    "    "
   ]
  },
  {
   "cell_type": "code",
   "execution_count": 8,
   "metadata": {},
   "outputs": [],
   "source": [
    "def create_model_LinearRegression(features, target,\n",
    "                                  features_train, features_valid,\n",
    "                                 target_train, target_valid):\n",
    "    \"\"\" Функция создает модель линейной регресии из входных данных\n",
    "    (датасет признаков и целевого признака, тренировочных и валидационных\n",
    "    выборок)\"\"\"\n",
    "    \n",
    "    # обучение модели\n",
    "    model = LinearRegression()\n",
    "    model.fit(features_train, target_train)\n",
    "\n",
    "    # расчёт метрик по валидационной выборке\n",
    "    predicted = model.predict(features_valid)\n",
    "    rmse = (mean_squared_error(target_valid, predicted)) ** 0.5\n",
    "\n",
    "    print('Cреднее предсказанное значение по валидационной выборке=', predicted.mean())\n",
    "    print('RMSE =', rmse)\n",
    "    \n",
    "    # оценка модели  через кросс-валидацию\n",
    "    scores = cross_val_score(model, features, target, cv= 5)\n",
    "    final_score = scores.mean()\n",
    "    print()\n",
    "    print('Средняя оценка качества модели :', final_score)\n",
    "    \n",
    "    \n",
    "    return predicted\n",
    "    \n",
    "    "
   ]
  },
  {
   "cell_type": "code",
   "execution_count": 9,
   "metadata": {},
   "outputs": [
    {
     "name": "stdout",
     "output_type": "stream",
     "text": [
      "Cреднее предсказанное значение по валидационной выборке= 92.59256778438035\n",
      "RMSE = 37.5794217150813\n",
      "\n",
      "Средняя оценка качества модели : 0.27549130726904475\n"
     ]
    }
   ],
   "source": [
    "# модель регрессии для датасета geo_0\n",
    "\n",
    "# переменные для модели 0\n",
    "features_geo_0, target_geo_0, features_train, features_valid_geo_0, \\\n",
    "target_train, target_valid_geo_0 = split_data(geo_0)\n",
    "\n",
    "# сохранение предсказазаний модели\n",
    "predicted_geo_0 = create_model_LinearRegression(features_geo_0, target_geo_0,\n",
    "                                                features_train, features_valid_geo_0,\n",
    "                                                target_train, target_valid_geo_0)"
   ]
  },
  {
   "cell_type": "code",
   "execution_count": 10,
   "metadata": {},
   "outputs": [
    {
     "name": "stdout",
     "output_type": "stream",
     "text": [
      "Cреднее предсказанное значение по валидационной выборке= 68.728546895446\n",
      "RMSE = 0.893099286775617\n",
      "\n",
      "Средняя оценка качества модели : 0.9996243728923553\n"
     ]
    }
   ],
   "source": [
    "# модель регрессии для датасета geo_1\n",
    "\n",
    "# переменные для модели 1\n",
    "features_geo_1, target_geo_1, features_train, features_valid_geo_1,\\\n",
    "target_train, target_valid_geo_1 = split_data(geo_1)\n",
    "\n",
    "# сохранение предсказазаний модели\n",
    "predicted_geo_1 = create_model_LinearRegression(features_geo_1, target_geo_1,\n",
    "                                                features_train, features_valid_geo_1,\n",
    "                                                target_train, target_valid_geo_1)\n"
   ]
  },
  {
   "cell_type": "code",
   "execution_count": 11,
   "metadata": {},
   "outputs": [
    {
     "name": "stdout",
     "output_type": "stream",
     "text": [
      "Cреднее предсказанное значение по валидационной выборке= 94.96504596800489\n",
      "RMSE = 40.02970873393434\n",
      "\n",
      "Средняя оценка качества модели : 0.1987156246205129\n"
     ]
    }
   ],
   "source": [
    "# модель регрессии для датасета geo_2\n",
    "\n",
    "# переменные для модели 2\n",
    "features_geo_2, target_geo_2, features_train, features_valid_geo_2,\\\n",
    "target_train, target_valid_geo_2 = split_data(geo_2)\n",
    "\n",
    "# сохранение предсказазаний модели\n",
    "predicted_geo_2 = create_model_LinearRegression(features_geo_2, target_geo_2,\n",
    "                                                features_train, features_valid_geo_2,\n",
    "                                                target_train, target_valid_geo_2)\n"
   ]
  },
  {
   "cell_type": "markdown",
   "metadata": {},
   "source": [
    "**Вывод:** Для каждого датасета была создана отдельная модель. Самая точна модель у датасета geo_0. Самая большая ошибка по RMSE -  у модели geo_2. У данной модели также наблюдается низкое качество при кросс-валидации. В модели model_geo_1 присутствует 100% коррелирующая переменная из-за чего точность модели практически 100%."
   ]
  },
  {
   "cell_type": "markdown",
   "metadata": {},
   "source": [
    "## Подготовка к расчёту прибыли"
   ]
  },
  {
   "cell_type": "code",
   "execution_count": 12,
   "metadata": {},
   "outputs": [],
   "source": [
    "# константы\n",
    "COAST_START = 10_000_000_000 # бюджет на разработку\n",
    "PRICE_ONE_UNIT = 450_000 # стоимость 1 тыс. барелей запасов"
   ]
  },
  {
   "cell_type": "code",
   "execution_count": 13,
   "metadata": {},
   "outputs": [
    {
     "name": "stdout",
     "output_type": "stream",
     "text": [
      "Минимально необходимо разработать 22,222.22 тыс. баррелей\n"
     ]
    }
   ],
   "source": [
    "#Минимальное необходимое тыс. баррелей нефти для выходжа в 0 по проекту\n",
    "min_unit_needed = round(COAST_START / PRICE_ONE_UNIT, 2) \n",
    "print(f\"Минимально необходимо разработать {min_unit_needed:,} тыс. баррелей\")"
   ]
  },
  {
   "cell_type": "markdown",
   "metadata": {},
   "source": [
    "По условию задачи для разработки выбираются 200 точек"
   ]
  },
  {
   "cell_type": "code",
   "execution_count": 14,
   "metadata": {},
   "outputs": [
    {
     "data": {
      "text/plain": [
       "111.11"
      ]
     },
     "execution_count": 14,
     "metadata": {},
     "output_type": "execute_result"
    }
   ],
   "source": [
    "# среднее необходимое кол-во запасов в каждой точке \n",
    "mean_unit_needed = round(min_unit_needed / 200, 2)\n",
    "mean_unit_needed"
   ]
  },
  {
   "cell_type": "code",
   "execution_count": 15,
   "metadata": {},
   "outputs": [],
   "source": [
    "def average(text:str, predicted):\n",
    "    text = f\"Разница между средним предсказанным значением и \\\n",
    "необходимым средним у модели {text} =\"\n",
    "    print(text, round(predicted.mean() - mean_unit_needed, 2))"
   ]
  },
  {
   "cell_type": "code",
   "execution_count": 16,
   "metadata": {},
   "outputs": [
    {
     "name": "stdout",
     "output_type": "stream",
     "text": [
      "Разница между средним предсказанным значением и необходимым средним у модели geo_0 = -18.52\n",
      "Разница между средним предсказанным значением и необходимым средним у модели geo_1 = -42.38\n",
      "Разница между средним предсказанным значением и необходимым средним у модели geo_2 = -16.14\n"
     ]
    }
   ],
   "source": [
    "average('geo_0', predicted_geo_0)\n",
    "average('geo_1', predicted_geo_1)\n",
    "average('geo_2', predicted_geo_2)"
   ]
  },
  {
   "cell_type": "code",
   "execution_count": 17,
   "metadata": {},
   "outputs": [],
   "source": [
    "def profit(target, predict, count):\n",
    "    \"\"\"Функция получает на вход target, предсказанный объем запасов,\n",
    "    и размер диапазона для суммирования. Из суммы вычитается константа\n",
    "    расходов на установку скважин\"\"\"\n",
    "    target = target.reset_index(drop = True)\n",
    "    \n",
    "    probs_sorted = pd.Series(predict).sort_values(ascending=False)\n",
    "    selected = target[probs_sorted.index][:count]\n",
    "    return PRICE_ONE_UNIT * selected.sum() "
   ]
  },
  {
   "cell_type": "code",
   "execution_count": 18,
   "metadata": {},
   "outputs": [
    {
     "name": "stdout",
     "output_type": "stream",
     "text": [
      "Суммарная стоимость 200 лучших точек для geo_0: 13,320,826,043.13985\n",
      "Суммарная стоимость 200 лучших точек для geo_1: 12,415,086,696.68151\n",
      "Суммарная стоимость 200 лучших точек для geo_2: 12,710,349,963.599833\n"
     ]
    }
   ],
   "source": [
    "total_price_geo_0 = profit(target_valid_geo_0, predicted_geo_0, 200)\n",
    "total_price_geo_1 = profit(target_valid_geo_1, predicted_geo_1, 200)\n",
    "total_price_geo_2 = profit(target_valid_geo_2, predicted_geo_2, 200)\n",
    "\n",
    "print(f\"Суммарная стоимость 200 лучших точек для geo_0: {total_price_geo_0:,}\")\n",
    "print(f'Суммарная стоимость 200 лучших точек для geo_1: {total_price_geo_1:,}')\n",
    "print(f'Суммарная стоимость 200 лучших точек для geo_2: {total_price_geo_2:,}')"
   ]
  },
  {
   "cell_type": "markdown",
   "metadata": {},
   "source": [
    "**Вывод:** У 200 самых крупных точек в каждом датасете значение запасов переходит минимальный оцененный порог необхожимый для окупаемости проекта. Но среднее значение запасов из датасетов ниже порогового."
   ]
  },
  {
   "cell_type": "markdown",
   "metadata": {},
   "source": [
    "## Расчёт прибыли и рисков "
   ]
  },
  {
   "cell_type": "code",
   "execution_count": 19,
   "metadata": {},
   "outputs": [],
   "source": [
    "def bootstrap(target, predict, n, top_n):\n",
    "    '''функция для проведения проверки bootstrap 1000 раз'''\n",
    "    \n",
    "    state = np.random.RandomState(12345)\n",
    "    \n",
    "    # сброс индексов\n",
    "    target = target.reset_index(drop = True)\n",
    "    values = []\n",
    "    \n",
    "    #создание выборки   \n",
    "    for i in range(1000):\n",
    "        target_sub = target.sample(n = n, replace = True, random_state = state)\n",
    "        predicted = predict[target_sub.index]\n",
    "        values.append(profit(target_sub, predicted, top_n) - COAST_START)\n",
    "\n",
    "    values = pd.Series(values)\n",
    "    \n",
    "    #границы доверительного интервала\n",
    "    lower = values.quantile(0.025)\n",
    "    upper = values.quantile(0.975)\n",
    "    \n",
    "    #параметры получившейся выборки  \n",
    "    mean = values.mean()\n",
    "    \n",
    "    count = sum([1 for x in values if x<=0]) #кол-во отрицательных значений\n",
    "    risk = count / len(values) \n",
    "    \n",
    "    \n",
    "    print(f\"Средняя выручка: {mean:,.2f}\")\n",
    "    print(f\"97,5%-квантиль: {upper:,.2f}\")\n",
    "    print(f\"2.5%-квантиль: {lower:,.2f}\")\n",
    "    print(f\"Риск убытков: {risk:,.2%}\")\n"
   ]
  },
  {
   "cell_type": "markdown",
   "metadata": {},
   "source": [
    "При разведке региона исследуют 500 точек, из которых с помощью машинного обучения выбирают 200 лучших для разработки. Поэтому будут случайным образом выбираться 500 точек, из них сохраняться 200 с лучшим результатом."
   ]
  },
  {
   "cell_type": "code",
   "execution_count": 20,
   "metadata": {},
   "outputs": [
    {
     "name": "stdout",
     "output_type": "stream",
     "text": [
      "Средняя выручка: 396,164,984.80\n",
      "97,5%-квантиль: 909,766,941.55\n",
      "2.5%-квантиль: -111,215,545.89\n",
      "Риск убытков: 6.90%\n"
     ]
    }
   ],
   "source": [
    "# bootstrap для модели geo_0\n",
    "bootstrap(target_valid_geo_0, predicted_geo_0, 500, 200)"
   ]
  },
  {
   "cell_type": "code",
   "execution_count": 21,
   "metadata": {},
   "outputs": [
    {
     "name": "stdout",
     "output_type": "stream",
     "text": [
      "Средняя выручка: 456,045,105.79\n",
      "97,5%-квантиль: 852,289,453.87\n",
      "2.5%-квантиль: 33,820,509.40\n",
      "Риск убытков: 1.50%\n"
     ]
    }
   ],
   "source": [
    "# bootstrap для модели geo_1\n",
    "bootstrap(target_valid_geo_1, predicted_geo_1, 500, 200)"
   ]
  },
  {
   "cell_type": "code",
   "execution_count": 22,
   "metadata": {},
   "outputs": [
    {
     "name": "stdout",
     "output_type": "stream",
     "text": [
      "Средняя выручка: 404,403,866.57\n",
      "97,5%-квантиль: 950,359,574.92\n",
      "2.5%-квантиль: -163,350,413.40\n",
      "Риск убытков: 7.60%\n"
     ]
    }
   ],
   "source": [
    "# bootstrap для модели geo_2\n",
    "bootstrap(target_valid_geo_2, predicted_geo_2, 500, 200)"
   ]
  },
  {
   "cell_type": "markdown",
   "metadata": {},
   "source": [
    "**Вывод:** Среднее распределение значений показало, что у всех точек присутствует большой риск получения убытков, но средняя выручка во всех датасетах имеет положительное значение. Наилучший результат показала модель geo_1."
   ]
  },
  {
   "cell_type": "markdown",
   "metadata": {},
   "source": [
    "<div style=\"border:solid steelgreen 4px; padding: 20px; border-radius: 15px\">\n",
    "<h1>Итог:</h1>\n",
    "\n",
    ">В ходе работы были выполнены следующие операции:\n",
    ">>- Изучена общая информация о представленном датасетах\n",
    ">>- Исследованы результаты работы модели линейной регресии\n",
    ">>- Оценка моделей через кросс-валидационные выборки   \n",
    ">>- Исследована предсказанное значение объема месторождений\n",
    ">>- Техникой Boostsrap оценены риски разработки месторождений \n",
    "   \n",
    "\n",
    "> В ходе исследования были изучены разные датасеты для нескольких регионах. При помощи линейной регрессии и техники Bootstrap было выявлен регион с наилучшими показателями – geo-1.   Доверительный интервал у данной модели находится в пределах от 33 млн. до 852 млн., а средняя выручка составляет 456 млн. Так же у данной модели наименьший риск убытков - 1,5%. "
   ]
  }
 ],
 "metadata": {
  "ExecuteTimeLog": [
   {
    "duration": 401,
    "start_time": "2023-06-01T23:01:51.646Z"
   },
   {
    "duration": 65,
    "start_time": "2023-06-01T23:02:19.010Z"
   },
   {
    "duration": 8,
    "start_time": "2023-06-01T23:02:46.240Z"
   },
   {
    "duration": 2,
    "start_time": "2023-06-01T23:02:50.655Z"
   },
   {
    "duration": 11,
    "start_time": "2023-06-01T23:04:22.950Z"
   },
   {
    "duration": 3,
    "start_time": "2023-06-01T23:04:31.773Z"
   },
   {
    "duration": 773,
    "start_time": "2023-06-01T23:04:32.241Z"
   },
   {
    "duration": 16,
    "start_time": "2023-06-01T23:06:34.202Z"
   },
   {
    "duration": 16,
    "start_time": "2023-06-01T23:06:44.582Z"
   },
   {
    "duration": 4,
    "start_time": "2023-06-01T23:09:04.525Z"
   },
   {
    "duration": 4,
    "start_time": "2023-06-01T23:09:24.861Z"
   },
   {
    "duration": 49,
    "start_time": "2023-06-01T23:09:37.868Z"
   },
   {
    "duration": 4,
    "start_time": "2023-06-01T23:11:09.695Z"
   },
   {
    "duration": 528,
    "start_time": "2023-06-01T23:11:10.994Z"
   },
   {
    "duration": 4,
    "start_time": "2023-06-01T23:11:21.776Z"
   },
   {
    "duration": 31,
    "start_time": "2023-06-01T23:11:22.339Z"
   },
   {
    "duration": 4,
    "start_time": "2023-06-01T23:11:33.718Z"
   },
   {
    "duration": 36,
    "start_time": "2023-06-01T23:11:35.186Z"
   },
   {
    "duration": 3,
    "start_time": "2023-06-01T23:11:48.075Z"
   },
   {
    "duration": 37,
    "start_time": "2023-06-01T23:11:49.175Z"
   },
   {
    "duration": 4,
    "start_time": "2023-06-01T23:12:10.982Z"
   },
   {
    "duration": 31,
    "start_time": "2023-06-01T23:12:11.405Z"
   },
   {
    "duration": 4,
    "start_time": "2023-06-01T23:12:17.218Z"
   },
   {
    "duration": 34,
    "start_time": "2023-06-01T23:12:25.403Z"
   },
   {
    "duration": 33,
    "start_time": "2023-06-01T23:12:32.660Z"
   },
   {
    "duration": 4,
    "start_time": "2023-06-01T23:25:17.959Z"
   },
   {
    "duration": 48,
    "start_time": "2023-06-01T23:25:18.435Z"
   },
   {
    "duration": 4,
    "start_time": "2023-06-01T23:28:24.174Z"
   },
   {
    "duration": 416,
    "start_time": "2023-06-01T23:28:35.551Z"
   },
   {
    "duration": 380,
    "start_time": "2023-06-01T23:28:36.933Z"
   },
   {
    "duration": 6,
    "start_time": "2023-06-01T23:28:38.836Z"
   },
   {
    "duration": 374,
    "start_time": "2023-06-01T23:28:41.962Z"
   },
   {
    "duration": 5,
    "start_time": "2023-06-01T23:28:52.461Z"
   },
   {
    "duration": 44,
    "start_time": "2023-06-01T23:28:54.456Z"
   },
   {
    "duration": 49,
    "start_time": "2023-06-01T23:29:00.434Z"
   },
   {
    "duration": 4,
    "start_time": "2023-06-01T23:29:07.610Z"
   },
   {
    "duration": 42,
    "start_time": "2023-06-01T23:29:11.125Z"
   },
   {
    "duration": 44,
    "start_time": "2023-06-01T23:29:11.274Z"
   },
   {
    "duration": 42,
    "start_time": "2023-06-01T23:29:11.397Z"
   },
   {
    "duration": 807,
    "start_time": "2023-06-01T23:32:59.733Z"
   },
   {
    "duration": 6,
    "start_time": "2023-06-01T23:47:15.684Z"
   },
   {
    "duration": 24,
    "start_time": "2023-06-01T23:47:35.888Z"
   },
   {
    "duration": 5,
    "start_time": "2023-06-01T23:52:18.395Z"
   },
   {
    "duration": 111,
    "start_time": "2023-06-01T23:52:52.327Z"
   },
   {
    "duration": 3,
    "start_time": "2023-06-01T23:53:12.064Z"
   },
   {
    "duration": 4,
    "start_time": "2023-06-01T23:53:12.635Z"
   },
   {
    "duration": 17,
    "start_time": "2023-06-01T23:53:13.028Z"
   },
   {
    "duration": 13,
    "start_time": "2023-06-01T23:53:13.396Z"
   },
   {
    "duration": 15,
    "start_time": "2023-06-01T23:53:50.040Z"
   },
   {
    "duration": 11,
    "start_time": "2023-06-01T23:53:50.425Z"
   },
   {
    "duration": 4,
    "start_time": "2023-06-01T23:54:01.265Z"
   },
   {
    "duration": 27,
    "start_time": "2023-06-01T23:54:01.717Z"
   },
   {
    "duration": 13,
    "start_time": "2023-06-01T23:54:04.901Z"
   },
   {
    "duration": 4,
    "start_time": "2023-06-01T23:54:14.798Z"
   },
   {
    "duration": 17,
    "start_time": "2023-06-01T23:54:14.993Z"
   },
   {
    "duration": 11,
    "start_time": "2023-06-01T23:54:15.640Z"
   },
   {
    "duration": 10,
    "start_time": "2023-06-01T23:54:39.454Z"
   },
   {
    "duration": 25,
    "start_time": "2023-06-01T23:54:51.350Z"
   },
   {
    "duration": 20,
    "start_time": "2023-06-01T23:56:24.650Z"
   },
   {
    "duration": 4,
    "start_time": "2023-06-01T23:56:27.454Z"
   },
   {
    "duration": 21,
    "start_time": "2023-06-01T23:56:27.914Z"
   },
   {
    "duration": 12,
    "start_time": "2023-06-01T23:56:31.627Z"
   },
   {
    "duration": 4,
    "start_time": "2023-06-01T23:56:35.466Z"
   },
   {
    "duration": 27,
    "start_time": "2023-06-01T23:56:36.095Z"
   },
   {
    "duration": 5,
    "start_time": "2023-06-01T23:56:40.444Z"
   },
   {
    "duration": 36,
    "start_time": "2023-06-01T23:56:40.847Z"
   },
   {
    "duration": 4,
    "start_time": "2023-06-01T23:56:51.773Z"
   },
   {
    "duration": 21,
    "start_time": "2023-06-01T23:56:52.539Z"
   },
   {
    "duration": 25,
    "start_time": "2023-06-01T23:56:57.040Z"
   },
   {
    "duration": 20,
    "start_time": "2023-06-02T00:00:19.403Z"
   },
   {
    "duration": 74,
    "start_time": "2023-06-02T00:00:25.369Z"
   },
   {
    "duration": 5,
    "start_time": "2023-06-02T00:01:38.152Z"
   },
   {
    "duration": 18,
    "start_time": "2023-06-02T00:03:34.277Z"
   },
   {
    "duration": 132,
    "start_time": "2023-06-02T00:11:14.307Z"
   },
   {
    "duration": 12,
    "start_time": "2023-06-02T00:27:17.080Z"
   },
   {
    "duration": 2,
    "start_time": "2023-06-02T00:27:30.173Z"
   },
   {
    "duration": 4,
    "start_time": "2023-06-02T00:27:30.632Z"
   },
   {
    "duration": 3,
    "start_time": "2023-06-02T00:27:32.372Z"
   },
   {
    "duration": 3,
    "start_time": "2023-06-02T00:28:35.304Z"
   },
   {
    "duration": 38,
    "start_time": "2023-06-02T00:28:49.922Z"
   },
   {
    "duration": 11,
    "start_time": "2023-06-02T00:35:56.615Z"
   },
   {
    "duration": 67,
    "start_time": "2023-06-02T00:36:19.691Z"
   },
   {
    "duration": 16,
    "start_time": "2023-06-02T00:36:42.186Z"
   },
   {
    "duration": 22,
    "start_time": "2023-06-02T00:36:42.663Z"
   },
   {
    "duration": 19,
    "start_time": "2023-06-02T00:36:56.376Z"
   },
   {
    "duration": 21,
    "start_time": "2023-06-02T00:36:56.595Z"
   },
   {
    "duration": 13,
    "start_time": "2023-06-02T00:37:03.499Z"
   },
   {
    "duration": 28,
    "start_time": "2023-06-02T00:37:04.140Z"
   },
   {
    "duration": 18,
    "start_time": "2023-06-02T00:41:46.095Z"
   },
   {
    "duration": 14,
    "start_time": "2023-06-02T00:41:59.016Z"
   },
   {
    "duration": 15,
    "start_time": "2023-06-02T00:42:00.172Z"
   },
   {
    "duration": 27,
    "start_time": "2023-06-02T00:42:00.538Z"
   },
   {
    "duration": 19,
    "start_time": "2023-06-02T00:42:21.405Z"
   },
   {
    "duration": 19,
    "start_time": "2023-06-02T00:42:25.189Z"
   },
   {
    "duration": 14,
    "start_time": "2023-06-02T00:43:07.516Z"
   },
   {
    "duration": 17,
    "start_time": "2023-06-02T00:43:51.365Z"
   },
   {
    "duration": 100,
    "start_time": "2023-06-02T00:43:51.759Z"
   },
   {
    "duration": 14,
    "start_time": "2023-06-02T00:43:58.901Z"
   },
   {
    "duration": 195,
    "start_time": "2023-06-02T00:44:34.656Z"
   },
   {
    "duration": 18,
    "start_time": "2023-06-02T00:44:36.564Z"
   },
   {
    "duration": 26,
    "start_time": "2023-06-02T00:44:37.261Z"
   },
   {
    "duration": 15,
    "start_time": "2023-06-02T00:45:07.875Z"
   },
   {
    "duration": 47,
    "start_time": "2023-06-02T00:45:08.409Z"
   },
   {
    "duration": 14,
    "start_time": "2023-06-02T00:45:43.295Z"
   },
   {
    "duration": 63,
    "start_time": "2023-06-02T00:45:43.783Z"
   },
   {
    "duration": 16,
    "start_time": "2023-06-02T00:46:16.999Z"
   },
   {
    "duration": 15,
    "start_time": "2023-06-02T00:46:19.907Z"
   },
   {
    "duration": 85,
    "start_time": "2023-06-02T00:46:20.363Z"
   },
   {
    "duration": 18,
    "start_time": "2023-06-02T00:46:20.967Z"
   },
   {
    "duration": 16,
    "start_time": "2023-06-02T00:46:21.280Z"
   },
   {
    "duration": 15,
    "start_time": "2023-06-02T00:46:22.283Z"
   },
   {
    "duration": 23,
    "start_time": "2023-06-02T00:46:22.876Z"
   },
   {
    "duration": 17,
    "start_time": "2023-06-02T00:46:25.112Z"
   },
   {
    "duration": 17,
    "start_time": "2023-06-02T00:46:28.879Z"
   },
   {
    "duration": 17,
    "start_time": "2023-06-02T00:46:29.222Z"
   },
   {
    "duration": 19,
    "start_time": "2023-06-02T00:46:31.803Z"
   },
   {
    "duration": 39,
    "start_time": "2023-06-02T00:46:32.646Z"
   },
   {
    "duration": 19,
    "start_time": "2023-06-02T00:46:34.264Z"
   },
   {
    "duration": 19,
    "start_time": "2023-06-02T00:46:35.167Z"
   },
   {
    "duration": 13,
    "start_time": "2023-06-02T00:46:37.379Z"
   },
   {
    "duration": 108,
    "start_time": "2023-06-02T00:46:37.775Z"
   },
   {
    "duration": 17,
    "start_time": "2023-06-02T00:46:39.179Z"
   },
   {
    "duration": 78,
    "start_time": "2023-06-02T00:46:39.580Z"
   },
   {
    "duration": 16,
    "start_time": "2023-06-02T00:47:03.165Z"
   },
   {
    "duration": 21,
    "start_time": "2023-06-02T00:47:03.294Z"
   },
   {
    "duration": 17,
    "start_time": "2023-06-02T00:47:33.380Z"
   },
   {
    "duration": 22,
    "start_time": "2023-06-02T00:47:33.700Z"
   },
   {
    "duration": 18,
    "start_time": "2023-06-02T00:48:06.673Z"
   },
   {
    "duration": 20,
    "start_time": "2023-06-02T00:48:07.170Z"
   },
   {
    "duration": 18,
    "start_time": "2023-06-02T00:48:18.293Z"
   },
   {
    "duration": 17,
    "start_time": "2023-06-02T00:48:18.521Z"
   },
   {
    "duration": 24,
    "start_time": "2023-06-02T00:48:55.366Z"
   },
   {
    "duration": 17,
    "start_time": "2023-06-02T00:48:56.765Z"
   },
   {
    "duration": 43,
    "start_time": "2023-06-02T00:48:57.205Z"
   },
   {
    "duration": 17,
    "start_time": "2023-06-02T00:48:58.480Z"
   },
   {
    "duration": 16,
    "start_time": "2023-06-02T00:48:58.691Z"
   },
   {
    "duration": 18,
    "start_time": "2023-06-02T00:49:04.561Z"
   },
   {
    "duration": 78,
    "start_time": "2023-06-02T00:49:04.787Z"
   },
   {
    "duration": 18,
    "start_time": "2023-06-02T00:49:05.474Z"
   },
   {
    "duration": 86,
    "start_time": "2023-06-02T00:49:05.768Z"
   },
   {
    "duration": 18,
    "start_time": "2023-06-02T00:49:10.294Z"
   },
   {
    "duration": 84,
    "start_time": "2023-06-02T00:49:10.465Z"
   },
   {
    "duration": 69,
    "start_time": "2023-06-02T00:49:21.876Z"
   },
   {
    "duration": 21,
    "start_time": "2023-06-02T00:49:28.373Z"
   },
   {
    "duration": 16,
    "start_time": "2023-06-02T00:49:31.023Z"
   },
   {
    "duration": 38,
    "start_time": "2023-06-02T00:49:31.406Z"
   },
   {
    "duration": 15,
    "start_time": "2023-06-02T00:49:32.872Z"
   },
   {
    "duration": 47,
    "start_time": "2023-06-02T00:49:33.122Z"
   },
   {
    "duration": 14,
    "start_time": "2023-06-02T00:50:03.222Z"
   },
   {
    "duration": 44,
    "start_time": "2023-06-02T00:50:03.711Z"
   },
   {
    "duration": 21,
    "start_time": "2023-06-02T00:50:05.427Z"
   },
   {
    "duration": 91,
    "start_time": "2023-06-02T00:50:05.666Z"
   },
   {
    "duration": 17,
    "start_time": "2023-06-02T00:50:17.563Z"
   },
   {
    "duration": 30,
    "start_time": "2023-06-02T00:50:17.827Z"
   },
   {
    "duration": 15,
    "start_time": "2023-06-02T00:50:25.498Z"
   },
   {
    "duration": 14,
    "start_time": "2023-06-02T00:53:05.324Z"
   },
   {
    "duration": 15,
    "start_time": "2023-06-02T00:53:05.580Z"
   },
   {
    "duration": 19,
    "start_time": "2023-06-02T00:53:27.649Z"
   },
   {
    "duration": 6,
    "start_time": "2023-06-02T00:53:34.916Z"
   },
   {
    "duration": 5,
    "start_time": "2023-06-02T00:53:52.197Z"
   },
   {
    "duration": 8,
    "start_time": "2023-06-02T22:24:53.868Z"
   },
   {
    "duration": 3,
    "start_time": "2023-06-02T22:25:01.760Z"
   },
   {
    "duration": 8,
    "start_time": "2023-06-02T22:25:03.761Z"
   },
   {
    "duration": 2,
    "start_time": "2023-06-02T22:25:22.799Z"
   },
   {
    "duration": 56,
    "start_time": "2023-06-02T22:29:27.811Z"
   },
   {
    "duration": 3,
    "start_time": "2023-06-02T22:29:29.067Z"
   },
   {
    "duration": 3,
    "start_time": "2023-06-02T22:29:29.272Z"
   },
   {
    "duration": 3,
    "start_time": "2023-06-02T22:29:29.669Z"
   },
   {
    "duration": 3,
    "start_time": "2023-06-02T22:29:34.051Z"
   },
   {
    "duration": 3,
    "start_time": "2023-06-02T22:29:44.568Z"
   },
   {
    "duration": 3,
    "start_time": "2023-06-02T22:29:45.497Z"
   },
   {
    "duration": 4,
    "start_time": "2023-06-02T22:31:09.748Z"
   },
   {
    "duration": 3,
    "start_time": "2023-06-02T22:31:14.055Z"
   },
   {
    "duration": 3,
    "start_time": "2023-06-02T22:31:18.630Z"
   },
   {
    "duration": 3,
    "start_time": "2023-06-02T22:33:48.588Z"
   },
   {
    "duration": 6,
    "start_time": "2023-06-02T22:34:27.251Z"
   },
   {
    "duration": 394,
    "start_time": "2023-06-02T22:34:31.470Z"
   },
   {
    "duration": 782,
    "start_time": "2023-06-02T22:34:31.866Z"
   },
   {
    "duration": 5,
    "start_time": "2023-06-02T22:34:32.649Z"
   },
   {
    "duration": 522,
    "start_time": "2023-06-02T22:34:32.656Z"
   },
   {
    "duration": 66,
    "start_time": "2023-06-02T22:34:33.181Z"
   },
   {
    "duration": 46,
    "start_time": "2023-06-02T22:34:33.249Z"
   },
   {
    "duration": 781,
    "start_time": "2023-06-02T22:34:33.297Z"
   },
   {
    "duration": 20,
    "start_time": "2023-06-02T22:34:34.079Z"
   },
   {
    "duration": 143,
    "start_time": "2023-06-02T22:34:34.102Z"
   },
   {
    "duration": 104,
    "start_time": "2023-06-02T22:34:34.248Z"
   },
   {
    "duration": 16,
    "start_time": "2023-06-02T22:34:34.354Z"
   },
   {
    "duration": 182,
    "start_time": "2023-06-02T22:34:34.372Z"
   },
   {
    "duration": 22,
    "start_time": "2023-06-02T22:34:34.556Z"
   },
   {
    "duration": 60,
    "start_time": "2023-06-02T22:34:34.582Z"
   },
   {
    "duration": 120,
    "start_time": "2023-06-02T22:34:34.644Z"
   },
   {
    "duration": 14,
    "start_time": "2023-06-02T22:34:34.766Z"
   },
   {
    "duration": 7,
    "start_time": "2023-06-02T22:34:34.782Z"
   },
   {
    "duration": 24,
    "start_time": "2023-06-02T22:34:34.791Z"
   },
   {
    "duration": 4,
    "start_time": "2023-06-02T22:35:29.609Z"
   },
   {
    "duration": 5,
    "start_time": "2023-06-02T22:35:30.609Z"
   },
   {
    "duration": 3,
    "start_time": "2023-06-02T22:36:36.614Z"
   },
   {
    "duration": 4,
    "start_time": "2023-06-02T22:36:42.351Z"
   },
   {
    "duration": 3,
    "start_time": "2023-06-02T22:37:33.059Z"
   },
   {
    "duration": 3,
    "start_time": "2023-06-02T22:38:34.572Z"
   },
   {
    "duration": 5,
    "start_time": "2023-06-02T22:38:45.568Z"
   },
   {
    "duration": 5,
    "start_time": "2023-06-02T22:38:55.705Z"
   },
   {
    "duration": 4,
    "start_time": "2023-06-02T22:41:12.287Z"
   },
   {
    "duration": 5,
    "start_time": "2023-06-02T22:41:17.474Z"
   },
   {
    "duration": 55,
    "start_time": "2023-06-02T22:41:22.587Z"
   },
   {
    "duration": 67,
    "start_time": "2023-06-02T22:41:28.956Z"
   },
   {
    "duration": 47,
    "start_time": "2023-06-02T22:41:37.159Z"
   },
   {
    "duration": 52,
    "start_time": "2023-06-02T22:41:42.956Z"
   },
   {
    "duration": 10,
    "start_time": "2023-06-02T22:41:49.371Z"
   },
   {
    "duration": 13,
    "start_time": "2023-06-02T22:42:06.352Z"
   },
   {
    "duration": 4,
    "start_time": "2023-06-02T22:43:41.140Z"
   },
   {
    "duration": 6,
    "start_time": "2023-06-02T22:43:59.940Z"
   },
   {
    "duration": 18,
    "start_time": "2023-06-02T22:44:04.236Z"
   },
   {
    "duration": 7,
    "start_time": "2023-06-02T22:44:07.697Z"
   },
   {
    "duration": 5,
    "start_time": "2023-06-02T22:44:12.577Z"
   },
   {
    "duration": 13,
    "start_time": "2023-06-02T22:44:15.645Z"
   },
   {
    "duration": 13,
    "start_time": "2023-06-02T22:44:19.453Z"
   },
   {
    "duration": 11,
    "start_time": "2023-06-02T22:44:22.236Z"
   },
   {
    "duration": 6,
    "start_time": "2023-06-02T22:44:25.030Z"
   },
   {
    "duration": 5,
    "start_time": "2023-06-02T22:44:28.262Z"
   },
   {
    "duration": 5,
    "start_time": "2023-06-02T22:44:33.317Z"
   },
   {
    "duration": 5,
    "start_time": "2023-06-02T22:44:37.028Z"
   },
   {
    "duration": 6,
    "start_time": "2023-06-02T22:44:41.673Z"
   },
   {
    "duration": 5,
    "start_time": "2023-06-02T22:44:45.505Z"
   },
   {
    "duration": 4,
    "start_time": "2023-06-02T22:45:03.163Z"
   },
   {
    "duration": 12,
    "start_time": "2023-06-02T22:46:29.374Z"
   },
   {
    "duration": 3,
    "start_time": "2023-06-02T22:46:31.721Z"
   },
   {
    "duration": 5,
    "start_time": "2023-06-02T22:46:32.019Z"
   },
   {
    "duration": 5,
    "start_time": "2023-06-02T22:47:05.329Z"
   },
   {
    "duration": 5,
    "start_time": "2023-06-02T22:47:20.143Z"
   },
   {
    "duration": 6,
    "start_time": "2023-06-02T22:47:39.500Z"
   },
   {
    "duration": 16,
    "start_time": "2023-06-02T23:10:16.033Z"
   },
   {
    "duration": 108,
    "start_time": "2023-06-02T23:10:20.434Z"
   },
   {
    "duration": 17,
    "start_time": "2023-06-02T23:10:25.340Z"
   },
   {
    "duration": 27,
    "start_time": "2023-06-02T23:10:29.184Z"
   },
   {
    "duration": 15,
    "start_time": "2023-06-02T23:10:35.191Z"
   },
   {
    "duration": 15,
    "start_time": "2023-06-02T23:10:47.552Z"
   },
   {
    "duration": 20,
    "start_time": "2023-06-02T23:10:52.558Z"
   },
   {
    "duration": 12,
    "start_time": "2023-06-02T23:11:15.260Z"
   },
   {
    "duration": 15,
    "start_time": "2023-06-02T23:11:18.561Z"
   },
   {
    "duration": 15,
    "start_time": "2023-06-02T23:11:21.621Z"
   },
   {
    "duration": 17,
    "start_time": "2023-06-02T23:11:24.069Z"
   },
   {
    "duration": 22,
    "start_time": "2023-06-02T23:11:29.016Z"
   },
   {
    "duration": 4,
    "start_time": "2023-06-02T23:12:23.240Z"
   },
   {
    "duration": 54,
    "start_time": "2023-06-02T23:14:19.567Z"
   },
   {
    "duration": 4,
    "start_time": "2023-06-02T23:14:24.192Z"
   },
   {
    "duration": 4,
    "start_time": "2023-06-02T23:14:39.262Z"
   },
   {
    "duration": 4,
    "start_time": "2023-06-02T23:14:56.918Z"
   },
   {
    "duration": 15,
    "start_time": "2023-06-02T23:15:51.079Z"
   },
   {
    "duration": 10,
    "start_time": "2023-06-02T23:15:58.860Z"
   },
   {
    "duration": 11,
    "start_time": "2023-06-02T23:16:31.760Z"
   },
   {
    "duration": 4,
    "start_time": "2023-06-02T23:16:38.481Z"
   },
   {
    "duration": 11,
    "start_time": "2023-06-02T23:17:01.826Z"
   },
   {
    "duration": 6,
    "start_time": "2023-06-02T23:17:12.154Z"
   },
   {
    "duration": 75,
    "start_time": "2023-06-02T23:18:06.002Z"
   },
   {
    "duration": 185,
    "start_time": "2023-06-02T23:18:44.586Z"
   },
   {
    "duration": 6,
    "start_time": "2023-06-02T23:18:49.047Z"
   },
   {
    "duration": 6,
    "start_time": "2023-06-02T23:19:05.138Z"
   },
   {
    "duration": 9,
    "start_time": "2023-06-02T23:19:18.311Z"
   },
   {
    "duration": 10,
    "start_time": "2023-06-02T23:19:41.356Z"
   },
   {
    "duration": 5,
    "start_time": "2023-06-02T23:19:44.487Z"
   },
   {
    "duration": 3,
    "start_time": "2023-06-02T23:19:59.016Z"
   },
   {
    "duration": 53,
    "start_time": "2023-06-02T23:20:28.692Z"
   },
   {
    "duration": 13,
    "start_time": "2023-06-02T23:20:32.536Z"
   },
   {
    "duration": 4,
    "start_time": "2023-06-02T23:21:27.489Z"
   },
   {
    "duration": 58,
    "start_time": "2023-06-02T23:21:31.085Z"
   },
   {
    "duration": 5,
    "start_time": "2023-06-02T23:21:33.444Z"
   },
   {
    "duration": 11,
    "start_time": "2023-06-02T23:21:47.254Z"
   },
   {
    "duration": 10,
    "start_time": "2023-06-02T23:22:02.719Z"
   },
   {
    "duration": 14,
    "start_time": "2023-06-02T23:22:22.058Z"
   },
   {
    "duration": 13,
    "start_time": "2023-06-02T23:22:54.578Z"
   },
   {
    "duration": 19,
    "start_time": "2023-06-02T23:23:00.926Z"
   },
   {
    "duration": 9,
    "start_time": "2023-06-02T23:23:08.637Z"
   },
   {
    "duration": 11,
    "start_time": "2023-06-02T23:23:36.054Z"
   },
   {
    "duration": 10,
    "start_time": "2023-06-02T23:23:45.490Z"
   },
   {
    "duration": 5,
    "start_time": "2023-06-02T23:23:54.215Z"
   },
   {
    "duration": 5,
    "start_time": "2023-06-02T23:24:00.303Z"
   },
   {
    "duration": 7,
    "start_time": "2023-06-02T23:24:16.879Z"
   },
   {
    "duration": 11,
    "start_time": "2023-06-02T23:24:51.004Z"
   },
   {
    "duration": 17,
    "start_time": "2023-06-02T23:25:07.568Z"
   },
   {
    "duration": 17,
    "start_time": "2023-06-02T23:25:24.504Z"
   },
   {
    "duration": 4,
    "start_time": "2023-06-02T23:26:05.697Z"
   },
   {
    "duration": 92,
    "start_time": "2023-06-02T23:26:57.853Z"
   },
   {
    "duration": 14,
    "start_time": "2023-06-02T23:27:03.571Z"
   },
   {
    "duration": 13,
    "start_time": "2023-06-02T23:27:34.842Z"
   },
   {
    "duration": 6,
    "start_time": "2023-06-02T23:33:30.807Z"
   },
   {
    "duration": 7,
    "start_time": "2023-06-02T23:34:08.368Z"
   },
   {
    "duration": 6,
    "start_time": "2023-06-02T23:34:19.997Z"
   },
   {
    "duration": 15,
    "start_time": "2023-06-02T23:35:07.205Z"
   },
   {
    "duration": 18,
    "start_time": "2023-06-02T23:36:22.343Z"
   },
   {
    "duration": 139,
    "start_time": "2023-06-03T14:34:13.680Z"
   },
   {
    "duration": 73,
    "start_time": "2023-06-03T14:34:18.398Z"
   },
   {
    "duration": 475,
    "start_time": "2023-06-03T14:34:33.652Z"
   },
   {
    "duration": 2441,
    "start_time": "2023-06-03T14:34:34.129Z"
   },
   {
    "duration": 11,
    "start_time": "2023-06-03T14:34:36.571Z"
   },
   {
    "duration": 597,
    "start_time": "2023-06-03T14:34:36.584Z"
   },
   {
    "duration": 53,
    "start_time": "2023-06-03T14:34:37.187Z"
   },
   {
    "duration": 78,
    "start_time": "2023-06-03T14:34:37.241Z"
   },
   {
    "duration": 4,
    "start_time": "2023-06-03T14:35:52.195Z"
   },
   {
    "duration": 471,
    "start_time": "2023-06-03T14:35:52.373Z"
   },
   {
    "duration": 81,
    "start_time": "2023-06-03T14:35:56.115Z"
   },
   {
    "duration": 8,
    "start_time": "2023-06-03T14:35:59.948Z"
   },
   {
    "duration": 5,
    "start_time": "2023-06-03T14:36:06.012Z"
   },
   {
    "duration": 64,
    "start_time": "2023-06-03T14:36:06.355Z"
   },
   {
    "duration": 47,
    "start_time": "2023-06-03T14:36:10.394Z"
   },
   {
    "duration": 62,
    "start_time": "2023-06-03T14:36:13.390Z"
   },
   {
    "duration": 790,
    "start_time": "2023-06-03T14:37:18.515Z"
   },
   {
    "duration": 5,
    "start_time": "2023-06-03T14:42:16.106Z"
   },
   {
    "duration": 7,
    "start_time": "2023-06-03T14:53:04.299Z"
   },
   {
    "duration": 23,
    "start_time": "2023-06-03T14:53:29.466Z"
   },
   {
    "duration": 75,
    "start_time": "2023-06-03T14:53:34.328Z"
   },
   {
    "duration": 18,
    "start_time": "2023-06-03T14:53:47.508Z"
   },
   {
    "duration": 22,
    "start_time": "2023-06-03T14:54:39.206Z"
   },
   {
    "duration": 21,
    "start_time": "2023-06-03T14:54:41.997Z"
   },
   {
    "duration": 20,
    "start_time": "2023-06-03T14:54:42.897Z"
   },
   {
    "duration": 22,
    "start_time": "2023-06-03T14:54:43.525Z"
   },
   {
    "duration": 19,
    "start_time": "2023-06-03T14:54:44.136Z"
   },
   {
    "duration": 9,
    "start_time": "2023-06-03T14:54:55.470Z"
   },
   {
    "duration": 17,
    "start_time": "2023-06-03T14:54:56.614Z"
   },
   {
    "duration": 25,
    "start_time": "2023-06-03T14:54:57.137Z"
   },
   {
    "duration": 8,
    "start_time": "2023-06-03T14:55:03.197Z"
   },
   {
    "duration": 16,
    "start_time": "2023-06-03T14:55:05.352Z"
   },
   {
    "duration": 20,
    "start_time": "2023-06-03T14:55:06.225Z"
   },
   {
    "duration": 16,
    "start_time": "2023-06-03T14:55:06.910Z"
   },
   {
    "duration": 15,
    "start_time": "2023-06-03T14:55:07.530Z"
   },
   {
    "duration": 16,
    "start_time": "2023-06-03T14:55:08.124Z"
   },
   {
    "duration": 19,
    "start_time": "2023-06-03T14:55:08.704Z"
   },
   {
    "duration": 16,
    "start_time": "2023-06-03T14:55:09.329Z"
   },
   {
    "duration": 25,
    "start_time": "2023-06-03T14:55:09.997Z"
   },
   {
    "duration": 29,
    "start_time": "2023-06-03T14:55:10.568Z"
   },
   {
    "duration": 25,
    "start_time": "2023-06-03T14:55:11.171Z"
   },
   {
    "duration": 23,
    "start_time": "2023-06-03T14:55:11.771Z"
   },
   {
    "duration": 17,
    "start_time": "2023-06-03T14:55:12.353Z"
   },
   {
    "duration": 21,
    "start_time": "2023-06-03T14:55:12.928Z"
   },
   {
    "duration": 20,
    "start_time": "2023-06-03T14:55:45.844Z"
   },
   {
    "duration": 17,
    "start_time": "2023-06-03T14:55:53.031Z"
   },
   {
    "duration": 19,
    "start_time": "2023-06-03T14:56:02.312Z"
   },
   {
    "duration": 27,
    "start_time": "2023-06-03T14:56:16.028Z"
   },
   {
    "duration": 16,
    "start_time": "2023-06-03T14:56:23.341Z"
   },
   {
    "duration": 20,
    "start_time": "2023-06-03T14:57:16.218Z"
   },
   {
    "duration": 17,
    "start_time": "2023-06-03T14:57:16.842Z"
   },
   {
    "duration": 3,
    "start_time": "2023-06-03T14:58:16.117Z"
   },
   {
    "duration": 3,
    "start_time": "2023-06-03T14:58:16.524Z"
   },
   {
    "duration": 9,
    "start_time": "2023-06-03T14:59:04.894Z"
   },
   {
    "duration": 4,
    "start_time": "2023-06-03T14:59:10.651Z"
   },
   {
    "duration": 5,
    "start_time": "2023-06-03T14:59:43.650Z"
   },
   {
    "duration": 4,
    "start_time": "2023-06-03T15:00:29.528Z"
   },
   {
    "duration": 7,
    "start_time": "2023-06-03T15:00:33.950Z"
   },
   {
    "duration": 10,
    "start_time": "2023-06-03T15:01:10.088Z"
   },
   {
    "duration": 11,
    "start_time": "2023-06-03T15:01:39.099Z"
   },
   {
    "duration": 8,
    "start_time": "2023-06-03T15:02:18.005Z"
   },
   {
    "duration": 5,
    "start_time": "2023-06-03T15:03:59.311Z"
   },
   {
    "duration": 62,
    "start_time": "2023-06-03T15:03:59.660Z"
   },
   {
    "duration": 43,
    "start_time": "2023-06-03T15:04:00.234Z"
   },
   {
    "duration": 51,
    "start_time": "2023-06-03T15:04:01.296Z"
   },
   {
    "duration": 37,
    "start_time": "2023-06-03T15:07:40.796Z"
   },
   {
    "duration": 18,
    "start_time": "2023-06-03T15:07:47.353Z"
   },
   {
    "duration": 18,
    "start_time": "2023-06-03T15:08:09.026Z"
   },
   {
    "duration": 20,
    "start_time": "2023-06-03T15:08:43.727Z"
   },
   {
    "duration": 21,
    "start_time": "2023-06-03T15:08:47.353Z"
   },
   {
    "duration": 16,
    "start_time": "2023-06-03T15:11:10.492Z"
   },
   {
    "duration": 6,
    "start_time": "2023-06-03T15:11:15.605Z"
   },
   {
    "duration": 19,
    "start_time": "2023-06-03T15:11:15.968Z"
   },
   {
    "duration": 24,
    "start_time": "2023-06-03T15:12:02.674Z"
   },
   {
    "duration": 164,
    "start_time": "2023-06-03T15:12:28.656Z"
   },
   {
    "duration": 15,
    "start_time": "2023-06-03T15:12:32.056Z"
   },
   {
    "duration": 8,
    "start_time": "2023-06-03T15:12:42.900Z"
   },
   {
    "duration": 19,
    "start_time": "2023-06-03T15:13:10.470Z"
   },
   {
    "duration": 7,
    "start_time": "2023-06-03T15:14:33.111Z"
   },
   {
    "duration": 3,
    "start_time": "2023-06-03T15:26:13.155Z"
   },
   {
    "duration": 53,
    "start_time": "2023-06-03T15:30:24.854Z"
   },
   {
    "duration": 87,
    "start_time": "2023-06-03T15:30:25.347Z"
   },
   {
    "duration": 178,
    "start_time": "2023-06-03T15:30:26.328Z"
   },
   {
    "duration": 32,
    "start_time": "2023-06-03T15:30:39.205Z"
   },
   {
    "duration": 3,
    "start_time": "2023-06-03T15:30:53.570Z"
   },
   {
    "duration": 33,
    "start_time": "2023-06-03T15:30:59.196Z"
   },
   {
    "duration": 229,
    "start_time": "2023-06-03T15:31:37.647Z"
   },
   {
    "duration": 175,
    "start_time": "2023-06-03T15:32:06.914Z"
   },
   {
    "duration": 211,
    "start_time": "2023-06-03T15:32:07.654Z"
   },
   {
    "duration": 181,
    "start_time": "2023-06-03T15:32:08.503Z"
   },
   {
    "duration": 351,
    "start_time": "2023-06-03T15:34:30.872Z"
   },
   {
    "duration": 153,
    "start_time": "2023-06-03T15:34:35.725Z"
   },
   {
    "duration": 292,
    "start_time": "2023-06-03T15:34:39.623Z"
   },
   {
    "duration": 383,
    "start_time": "2023-06-03T15:40:30.402Z"
   },
   {
    "duration": 394,
    "start_time": "2023-06-03T15:40:31.478Z"
   },
   {
    "duration": 567,
    "start_time": "2023-06-03T15:40:31.879Z"
   },
   {
    "duration": 52,
    "start_time": "2023-06-03T15:41:50.839Z"
   },
   {
    "duration": 48,
    "start_time": "2023-06-03T15:47:10.583Z"
   },
   {
    "duration": 101,
    "start_time": "2023-06-03T15:47:33.328Z"
   },
   {
    "duration": 83,
    "start_time": "2023-06-03T15:47:36.582Z"
   },
   {
    "duration": 196,
    "start_time": "2023-06-03T15:47:50.106Z"
   },
   {
    "duration": 138,
    "start_time": "2023-06-03T15:48:15.913Z"
   },
   {
    "duration": 155,
    "start_time": "2023-06-03T15:50:31.947Z"
   },
   {
    "duration": 865,
    "start_time": "2023-06-03T15:50:35.075Z"
   },
   {
    "duration": 527,
    "start_time": "2023-06-03T15:50:40.858Z"
   },
   {
    "duration": 24,
    "start_time": "2023-06-03T16:07:05.555Z"
   },
   {
    "duration": 29,
    "start_time": "2023-06-03T16:07:52.624Z"
   },
   {
    "duration": 53,
    "start_time": "2023-06-03T16:08:16.993Z"
   },
   {
    "duration": 4,
    "start_time": "2023-06-03T16:09:44.900Z"
   },
   {
    "duration": 4,
    "start_time": "2023-06-03T16:09:52.563Z"
   },
   {
    "duration": 32,
    "start_time": "2023-06-03T16:09:54.983Z"
   },
   {
    "duration": 2765,
    "start_time": "2023-06-03T16:13:00.988Z"
   },
   {
    "duration": 30,
    "start_time": "2023-06-03T16:13:13.420Z"
   },
   {
    "duration": 32,
    "start_time": "2023-06-03T16:13:24.826Z"
   },
   {
    "duration": 18,
    "start_time": "2023-06-03T16:13:30.461Z"
   },
   {
    "duration": 45,
    "start_time": "2023-06-03T16:13:36.476Z"
   },
   {
    "duration": 52,
    "start_time": "2023-06-03T16:13:41.723Z"
   },
   {
    "duration": 38,
    "start_time": "2023-06-03T16:14:11.528Z"
   },
   {
    "duration": 28,
    "start_time": "2023-06-03T16:14:35.943Z"
   },
   {
    "duration": 45,
    "start_time": "2023-06-03T16:15:01.009Z"
   },
   {
    "duration": 47,
    "start_time": "2023-06-03T16:17:18.862Z"
   },
   {
    "duration": 35,
    "start_time": "2023-06-03T16:17:53.178Z"
   },
   {
    "duration": 6,
    "start_time": "2023-06-03T16:18:12.735Z"
   },
   {
    "duration": 36,
    "start_time": "2023-06-03T16:18:23.505Z"
   },
   {
    "duration": 9,
    "start_time": "2023-06-03T16:18:35.928Z"
   },
   {
    "duration": 8,
    "start_time": "2023-06-03T16:19:16.493Z"
   },
   {
    "duration": 5,
    "start_time": "2023-06-03T16:19:20.317Z"
   },
   {
    "duration": 8,
    "start_time": "2023-06-03T16:20:17.876Z"
   },
   {
    "duration": 5,
    "start_time": "2023-06-03T16:20:22.869Z"
   },
   {
    "duration": 5,
    "start_time": "2023-06-03T16:20:34.001Z"
   },
   {
    "duration": 22,
    "start_time": "2023-06-03T16:20:35.402Z"
   },
   {
    "duration": 1516,
    "start_time": "2023-06-03T16:20:37.940Z"
   },
   {
    "duration": 1783,
    "start_time": "2023-06-03T16:20:49.143Z"
   },
   {
    "duration": 1553,
    "start_time": "2023-06-03T16:20:55.136Z"
   },
   {
    "duration": 81,
    "start_time": "2023-06-03T18:53:54.752Z"
   },
   {
    "duration": 44,
    "start_time": "2023-06-03T18:54:09.862Z"
   },
   {
    "duration": 1115,
    "start_time": "2023-06-03T18:54:14.483Z"
   },
   {
    "duration": 1589,
    "start_time": "2023-06-03T18:54:15.599Z"
   },
   {
    "duration": 6,
    "start_time": "2023-06-03T18:54:17.189Z"
   },
   {
    "duration": 607,
    "start_time": "2023-06-03T18:54:17.197Z"
   },
   {
    "duration": 44,
    "start_time": "2023-06-03T18:54:17.806Z"
   },
   {
    "duration": 66,
    "start_time": "2023-06-03T18:54:17.851Z"
   },
   {
    "duration": 20,
    "start_time": "2023-06-03T18:54:17.918Z"
   },
   {
    "duration": 141,
    "start_time": "2023-06-03T18:54:17.940Z"
   },
   {
    "duration": 116,
    "start_time": "2023-06-03T18:54:18.082Z"
   },
   {
    "duration": 116,
    "start_time": "2023-06-03T18:54:18.280Z"
   },
   {
    "duration": 381,
    "start_time": "2023-06-03T18:54:18.398Z"
   },
   {
    "duration": 304,
    "start_time": "2023-06-03T18:54:18.781Z"
   },
   {
    "duration": 394,
    "start_time": "2023-06-03T18:54:19.087Z"
   },
   {
    "duration": 3,
    "start_time": "2023-06-03T18:54:19.484Z"
   },
   {
    "duration": 13,
    "start_time": "2023-06-03T18:54:19.578Z"
   },
   {
    "duration": 29,
    "start_time": "2023-06-03T18:54:19.592Z"
   },
   {
    "duration": 3,
    "start_time": "2023-06-03T18:54:19.623Z"
   },
   {
    "duration": 8,
    "start_time": "2023-06-03T18:54:19.679Z"
   },
   {
    "duration": 22,
    "start_time": "2023-06-03T18:54:19.688Z"
   },
   {
    "duration": 7,
    "start_time": "2023-06-03T18:54:19.712Z"
   },
   {
    "duration": 6,
    "start_time": "2023-06-03T18:54:19.721Z"
   },
   {
    "duration": 6,
    "start_time": "2023-06-03T18:54:19.728Z"
   },
   {
    "duration": 5,
    "start_time": "2023-06-03T18:54:19.735Z"
   },
   {
    "duration": 73,
    "start_time": "2023-06-03T18:54:19.741Z"
   },
   {
    "duration": 0,
    "start_time": "2023-06-03T18:54:19.815Z"
   },
   {
    "duration": 12,
    "start_time": "2023-06-03T18:54:28.579Z"
   },
   {
    "duration": 15,
    "start_time": "2023-06-03T18:54:46.650Z"
   },
   {
    "duration": 8,
    "start_time": "2023-06-03T18:54:59.032Z"
   },
   {
    "duration": 11,
    "start_time": "2023-06-03T18:55:12.044Z"
   },
   {
    "duration": 791,
    "start_time": "2023-06-03T18:55:36.712Z"
   },
   {
    "duration": 728,
    "start_time": "2023-06-03T18:55:44.237Z"
   },
   {
    "duration": 759,
    "start_time": "2023-06-03T18:55:53.979Z"
   },
   {
    "duration": 767,
    "start_time": "2023-06-03T18:56:03.413Z"
   },
   {
    "duration": 798,
    "start_time": "2023-06-03T18:56:06.542Z"
   },
   {
    "duration": 784,
    "start_time": "2023-06-03T18:56:09.766Z"
   },
   {
    "duration": 774,
    "start_time": "2023-06-03T18:57:08.749Z"
   },
   {
    "duration": 730,
    "start_time": "2023-06-03T18:57:16.306Z"
   },
   {
    "duration": 724,
    "start_time": "2023-06-03T18:57:21.474Z"
   },
   {
    "duration": 841,
    "start_time": "2023-06-03T18:57:41.249Z"
   },
   {
    "duration": 712,
    "start_time": "2023-06-03T18:58:31.639Z"
   },
   {
    "duration": 744,
    "start_time": "2023-06-03T18:58:35.969Z"
   },
   {
    "duration": 764,
    "start_time": "2023-06-03T18:58:45.648Z"
   },
   {
    "duration": 693,
    "start_time": "2023-06-03T18:58:53.709Z"
   },
   {
    "duration": 760,
    "start_time": "2023-06-03T18:58:59.740Z"
   },
   {
    "duration": 782,
    "start_time": "2023-06-03T19:00:40.241Z"
   },
   {
    "duration": 742,
    "start_time": "2023-06-03T19:02:37.511Z"
   },
   {
    "duration": 3,
    "start_time": "2023-06-03T19:10:47.102Z"
   },
   {
    "duration": 751,
    "start_time": "2023-06-03T19:17:18.827Z"
   },
   {
    "duration": 13,
    "start_time": "2023-06-03T19:18:43.841Z"
   },
   {
    "duration": 78,
    "start_time": "2023-06-03T19:21:24.415Z"
   },
   {
    "duration": 20,
    "start_time": "2023-06-03T19:21:28.744Z"
   },
   {
    "duration": 4,
    "start_time": "2023-06-03T19:21:39.474Z"
   },
   {
    "duration": 23,
    "start_time": "2023-06-03T19:21:40.198Z"
   },
   {
    "duration": 28,
    "start_time": "2023-06-03T19:21:57.647Z"
   },
   {
    "duration": 22,
    "start_time": "2023-06-03T19:22:15.098Z"
   },
   {
    "duration": 4,
    "start_time": "2023-06-03T19:25:52.384Z"
   },
   {
    "duration": 4,
    "start_time": "2023-06-03T19:26:17.053Z"
   },
   {
    "duration": 14,
    "start_time": "2023-06-03T19:26:17.951Z"
   },
   {
    "duration": 11,
    "start_time": "2023-06-03T19:27:07.734Z"
   },
   {
    "duration": 4,
    "start_time": "2023-06-03T19:27:44.574Z"
   },
   {
    "duration": 763,
    "start_time": "2023-06-03T19:27:46.191Z"
   },
   {
    "duration": 13,
    "start_time": "2023-06-03T19:28:11.346Z"
   },
   {
    "duration": 4,
    "start_time": "2023-06-03T19:28:19.527Z"
   },
   {
    "duration": 706,
    "start_time": "2023-06-03T19:28:20.175Z"
   },
   {
    "duration": 3,
    "start_time": "2023-06-03T19:28:30.742Z"
   },
   {
    "duration": 752,
    "start_time": "2023-06-03T19:28:45.117Z"
   },
   {
    "duration": 5,
    "start_time": "2023-06-03T19:28:57.392Z"
   },
   {
    "duration": 4,
    "start_time": "2023-06-03T19:28:57.720Z"
   },
   {
    "duration": 738,
    "start_time": "2023-06-03T19:28:58.313Z"
   },
   {
    "duration": 2,
    "start_time": "2023-06-03T19:28:59.053Z"
   },
   {
    "duration": 757,
    "start_time": "2023-06-03T19:28:59.057Z"
   },
   {
    "duration": 3,
    "start_time": "2023-06-03T19:28:59.816Z"
   },
   {
    "duration": 740,
    "start_time": "2023-06-03T19:28:59.821Z"
   },
   {
    "duration": 3,
    "start_time": "2023-06-03T19:29:21.643Z"
   },
   {
    "duration": 3,
    "start_time": "2023-06-03T19:29:21.849Z"
   },
   {
    "duration": 720,
    "start_time": "2023-06-03T19:29:22.339Z"
   },
   {
    "duration": 3,
    "start_time": "2023-06-03T19:29:24.901Z"
   },
   {
    "duration": 756,
    "start_time": "2023-06-03T19:29:25.582Z"
   },
   {
    "duration": 3,
    "start_time": "2023-06-03T19:29:26.340Z"
   },
   {
    "duration": 749,
    "start_time": "2023-06-03T19:29:26.344Z"
   },
   {
    "duration": 4,
    "start_time": "2023-06-03T19:52:26.421Z"
   },
   {
    "duration": 28,
    "start_time": "2023-06-03T19:52:26.837Z"
   },
   {
    "duration": 25,
    "start_time": "2023-06-03T19:52:33.736Z"
   },
   {
    "duration": 30,
    "start_time": "2023-06-03T19:52:55.884Z"
   },
   {
    "duration": 1145,
    "start_time": "2023-06-03T19:58:48.441Z"
   },
   {
    "duration": 347,
    "start_time": "2023-06-03T19:58:49.589Z"
   },
   {
    "duration": 6,
    "start_time": "2023-06-03T19:58:49.938Z"
   },
   {
    "duration": 332,
    "start_time": "2023-06-03T19:58:49.948Z"
   },
   {
    "duration": 38,
    "start_time": "2023-06-03T19:58:50.282Z"
   },
   {
    "duration": 61,
    "start_time": "2023-06-03T19:58:50.322Z"
   },
   {
    "duration": 4,
    "start_time": "2023-06-03T20:01:14.339Z"
   },
   {
    "duration": 26,
    "start_time": "2023-06-03T20:01:17.259Z"
   },
   {
    "duration": 24,
    "start_time": "2023-06-03T20:01:52.790Z"
   },
   {
    "duration": 24,
    "start_time": "2023-06-03T20:02:06.805Z"
   },
   {
    "duration": 100,
    "start_time": "2023-06-03T20:02:30.491Z"
   },
   {
    "duration": 124,
    "start_time": "2023-06-03T20:02:42.527Z"
   },
   {
    "duration": 26,
    "start_time": "2023-06-03T20:02:52.277Z"
   },
   {
    "duration": 11,
    "start_time": "2023-06-03T20:03:46.522Z"
   },
   {
    "duration": 33,
    "start_time": "2023-06-03T20:04:00.854Z"
   },
   {
    "duration": 24,
    "start_time": "2023-06-03T20:04:33.670Z"
   },
   {
    "duration": 41,
    "start_time": "2023-06-03T20:06:30.044Z"
   },
   {
    "duration": 30,
    "start_time": "2023-06-03T20:07:58.475Z"
   },
   {
    "duration": 83,
    "start_time": "2023-06-03T20:08:04.298Z"
   },
   {
    "duration": 149,
    "start_time": "2023-06-03T20:08:05.239Z"
   },
   {
    "duration": 241,
    "start_time": "2023-06-03T20:08:08.348Z"
   },
   {
    "duration": 166,
    "start_time": "2023-06-03T20:08:10.115Z"
   },
   {
    "duration": 58,
    "start_time": "2023-06-03T20:10:04.263Z"
   },
   {
    "duration": 492,
    "start_time": "2023-06-03T20:10:10.394Z"
   },
   {
    "duration": 3,
    "start_time": "2023-06-03T20:10:31.963Z"
   },
   {
    "duration": 3,
    "start_time": "2023-06-03T20:10:32.553Z"
   },
   {
    "duration": 13,
    "start_time": "2023-06-03T20:10:33.606Z"
   },
   {
    "duration": 3,
    "start_time": "2023-06-03T20:10:38.050Z"
   },
   {
    "duration": 6,
    "start_time": "2023-06-03T20:10:38.801Z"
   },
   {
    "duration": 4,
    "start_time": "2023-06-03T20:10:48.794Z"
   },
   {
    "duration": 4,
    "start_time": "2023-06-03T20:10:49.450Z"
   },
   {
    "duration": 12,
    "start_time": "2023-06-03T20:10:50.553Z"
   },
   {
    "duration": 759,
    "start_time": "2023-06-03T20:11:23.385Z"
   },
   {
    "duration": 3,
    "start_time": "2023-06-03T20:11:26.378Z"
   },
   {
    "duration": 10,
    "start_time": "2023-06-03T20:11:27.667Z"
   },
   {
    "duration": 762,
    "start_time": "2023-06-03T20:11:39.184Z"
   },
   {
    "duration": 4,
    "start_time": "2023-06-03T20:11:42.411Z"
   },
   {
    "duration": 729,
    "start_time": "2023-06-03T20:11:47.795Z"
   },
   {
    "duration": 4,
    "start_time": "2023-06-03T20:12:04.691Z"
   },
   {
    "duration": 4,
    "start_time": "2023-06-03T20:12:05.875Z"
   },
   {
    "duration": 711,
    "start_time": "2023-06-03T20:12:06.162Z"
   },
   {
    "duration": 3,
    "start_time": "2023-06-03T20:12:06.879Z"
   },
   {
    "duration": 821,
    "start_time": "2023-06-03T20:12:06.884Z"
   },
   {
    "duration": 3,
    "start_time": "2023-06-03T20:12:07.706Z"
   },
   {
    "duration": 695,
    "start_time": "2023-06-03T20:12:07.710Z"
   },
   {
    "duration": 4,
    "start_time": "2023-06-03T20:12:29.280Z"
   },
   {
    "duration": 3,
    "start_time": "2023-06-03T20:12:30.048Z"
   },
   {
    "duration": 688,
    "start_time": "2023-06-03T20:12:35.965Z"
   },
   {
    "duration": 3,
    "start_time": "2023-06-03T20:12:42.051Z"
   },
   {
    "duration": 772,
    "start_time": "2023-06-03T20:12:42.381Z"
   },
   {
    "duration": 3,
    "start_time": "2023-06-03T20:12:45.208Z"
   },
   {
    "duration": 779,
    "start_time": "2023-06-03T20:12:45.346Z"
   },
   {
    "duration": 3,
    "start_time": "2023-06-03T20:12:52.791Z"
   },
   {
    "duration": 3,
    "start_time": "2023-06-03T20:12:53.397Z"
   },
   {
    "duration": 762,
    "start_time": "2023-06-03T20:12:53.693Z"
   },
   {
    "duration": 3,
    "start_time": "2023-06-03T20:12:54.456Z"
   },
   {
    "duration": 739,
    "start_time": "2023-06-03T20:16:12.054Z"
   },
   {
    "duration": 97,
    "start_time": "2023-06-03T20:16:25.433Z"
   },
   {
    "duration": 98,
    "start_time": "2023-06-03T20:16:28.691Z"
   },
   {
    "duration": 724,
    "start_time": "2023-06-03T20:16:36.319Z"
   },
   {
    "duration": 863,
    "start_time": "2023-06-03T20:17:10.415Z"
   },
   {
    "duration": 899,
    "start_time": "2023-06-03T20:17:15.372Z"
   },
   {
    "duration": 707,
    "start_time": "2023-06-03T20:17:23.327Z"
   },
   {
    "duration": 749,
    "start_time": "2023-06-03T20:17:27.392Z"
   },
   {
    "duration": 24,
    "start_time": "2023-06-03T20:19:13.055Z"
   },
   {
    "duration": 16,
    "start_time": "2023-06-03T20:19:21.176Z"
   },
   {
    "duration": 36,
    "start_time": "2023-06-03T20:19:46.123Z"
   },
   {
    "duration": 122,
    "start_time": "2023-06-03T20:19:46.757Z"
   },
   {
    "duration": 40,
    "start_time": "2023-06-03T20:19:47.141Z"
   },
   {
    "duration": 21,
    "start_time": "2023-06-03T20:19:49.266Z"
   },
   {
    "duration": 4,
    "start_time": "2023-06-03T20:19:58.786Z"
   },
   {
    "duration": 28,
    "start_time": "2023-06-03T20:19:58.966Z"
   },
   {
    "duration": 22,
    "start_time": "2023-06-03T20:19:59.178Z"
   },
   {
    "duration": 20,
    "start_time": "2023-06-03T20:19:59.611Z"
   },
   {
    "duration": 27,
    "start_time": "2023-06-03T20:19:59.957Z"
   },
   {
    "duration": 100,
    "start_time": "2023-06-03T20:20:00.678Z"
   },
   {
    "duration": 11,
    "start_time": "2023-06-03T20:20:48.720Z"
   },
   {
    "duration": 13,
    "start_time": "2023-06-03T20:25:36.709Z"
   },
   {
    "duration": 15,
    "start_time": "2023-06-03T20:25:42.895Z"
   },
   {
    "duration": 21,
    "start_time": "2023-06-03T20:26:25.248Z"
   },
   {
    "duration": 103,
    "start_time": "2023-06-03T20:26:50.127Z"
   },
   {
    "duration": 117,
    "start_time": "2023-06-03T20:28:28.865Z"
   },
   {
    "duration": 55,
    "start_time": "2023-06-03T20:30:21.749Z"
   },
   {
    "duration": 50,
    "start_time": "2023-06-03T20:30:55.175Z"
   },
   {
    "duration": 10,
    "start_time": "2023-06-03T20:32:03.366Z"
   },
   {
    "duration": 395,
    "start_time": "2023-06-03T20:34:15.686Z"
   },
   {
    "duration": 3,
    "start_time": "2023-06-03T20:35:52.195Z"
   },
   {
    "duration": 4,
    "start_time": "2023-06-03T20:35:52.359Z"
   },
   {
    "duration": 13,
    "start_time": "2023-06-03T20:35:52.919Z"
   },
   {
    "duration": 3,
    "start_time": "2023-06-03T20:35:53.319Z"
   },
   {
    "duration": 4,
    "start_time": "2023-06-03T20:35:53.475Z"
   },
   {
    "duration": 4,
    "start_time": "2023-06-03T20:35:55.213Z"
   },
   {
    "duration": 3,
    "start_time": "2023-06-03T20:35:55.421Z"
   },
   {
    "duration": 796,
    "start_time": "2023-06-03T20:35:56.230Z"
   },
   {
    "duration": 3,
    "start_time": "2023-06-03T20:35:57.028Z"
   },
   {
    "duration": 816,
    "start_time": "2023-06-03T20:35:57.197Z"
   },
   {
    "duration": 3,
    "start_time": "2023-06-03T20:35:58.015Z"
   },
   {
    "duration": 735,
    "start_time": "2023-06-03T20:35:58.019Z"
   },
   {
    "duration": 125,
    "start_time": "2023-06-03T20:40:29.758Z"
   },
   {
    "duration": 48,
    "start_time": "2023-06-03T20:41:00.126Z"
   },
   {
    "duration": 274,
    "start_time": "2023-06-03T20:41:02.019Z"
   },
   {
    "duration": 18,
    "start_time": "2023-06-03T20:41:25.787Z"
   },
   {
    "duration": 25,
    "start_time": "2023-06-03T20:42:18.496Z"
   },
   {
    "duration": 11,
    "start_time": "2023-06-03T20:42:27.456Z"
   },
   {
    "duration": 267,
    "start_time": "2023-06-03T20:44:40.535Z"
   },
   {
    "duration": 8,
    "start_time": "2023-06-03T20:46:28.284Z"
   },
   {
    "duration": 411,
    "start_time": "2023-06-03T20:46:40.279Z"
   },
   {
    "duration": 380,
    "start_time": "2023-06-03T20:47:57.601Z"
   },
   {
    "duration": 3,
    "start_time": "2023-06-03T20:53:49.618Z"
   },
   {
    "duration": 3,
    "start_time": "2023-06-03T20:54:08.516Z"
   },
   {
    "duration": 4,
    "start_time": "2023-06-03T20:54:42.918Z"
   },
   {
    "duration": 742,
    "start_time": "2023-06-03T20:55:23.606Z"
   },
   {
    "duration": 721,
    "start_time": "2023-06-03T20:55:44.646Z"
   },
   {
    "duration": 798,
    "start_time": "2023-06-03T20:56:34.496Z"
   },
   {
    "duration": 744,
    "start_time": "2023-06-03T20:56:46.436Z"
   },
   {
    "duration": 962,
    "start_time": "2023-06-03T20:57:26.758Z"
   },
   {
    "duration": 995,
    "start_time": "2023-06-03T20:57:33.647Z"
   },
   {
    "duration": 687,
    "start_time": "2023-06-03T20:57:38.693Z"
   },
   {
    "duration": 2175,
    "start_time": "2023-06-03T20:57:46.936Z"
   },
   {
    "duration": 727,
    "start_time": "2023-06-03T20:58:02.700Z"
   },
   {
    "duration": 719,
    "start_time": "2023-06-03T20:58:13.831Z"
   },
   {
    "duration": 1635,
    "start_time": "2023-06-03T20:59:08.182Z"
   },
   {
    "duration": 780,
    "start_time": "2023-06-03T20:59:14.123Z"
   },
   {
    "duration": 107,
    "start_time": "2023-06-03T21:01:55.284Z"
   },
   {
    "duration": 4,
    "start_time": "2023-06-03T21:02:31.441Z"
   },
   {
    "duration": 699,
    "start_time": "2023-06-03T21:02:53.720Z"
   },
   {
    "duration": 788,
    "start_time": "2023-06-03T21:03:16.822Z"
   },
   {
    "duration": 700,
    "start_time": "2023-06-03T21:03:17.612Z"
   },
   {
    "duration": 752,
    "start_time": "2023-06-03T21:03:18.314Z"
   },
   {
    "duration": 776,
    "start_time": "2023-06-03T21:06:08.218Z"
   },
   {
    "duration": 824,
    "start_time": "2023-06-03T21:06:19.440Z"
   },
   {
    "duration": 2085,
    "start_time": "2023-06-03T21:06:29.119Z"
   },
   {
    "duration": 51,
    "start_time": "2023-06-03T21:06:37.476Z"
   },
   {
    "duration": 4493,
    "start_time": "2023-06-03T21:06:45.217Z"
   },
   {
    "duration": 11,
    "start_time": "2023-06-03T21:11:34.885Z"
   },
   {
    "duration": 72,
    "start_time": "2023-06-03T21:11:48.321Z"
   },
   {
    "duration": 24,
    "start_time": "2023-06-03T21:12:05.253Z"
   },
   {
    "duration": 3,
    "start_time": "2023-06-03T21:12:55.037Z"
   },
   {
    "duration": 28,
    "start_time": "2023-06-03T21:12:55.565Z"
   },
   {
    "duration": 4,
    "start_time": "2023-06-03T21:13:25.835Z"
   },
   {
    "duration": 21,
    "start_time": "2023-06-03T21:13:27.912Z"
   },
   {
    "duration": 4,
    "start_time": "2023-06-03T21:13:40.930Z"
   },
   {
    "duration": 9,
    "start_time": "2023-06-03T21:14:18.518Z"
   },
   {
    "duration": 8,
    "start_time": "2023-06-03T21:14:23.147Z"
   },
   {
    "duration": 4,
    "start_time": "2023-06-03T21:14:33.552Z"
   },
   {
    "duration": 14,
    "start_time": "2023-06-03T21:14:55.295Z"
   },
   {
    "duration": 13,
    "start_time": "2023-06-03T21:15:01.180Z"
   },
   {
    "duration": 6,
    "start_time": "2023-06-03T21:15:05.979Z"
   },
   {
    "duration": 15,
    "start_time": "2023-06-03T21:15:35.032Z"
   },
   {
    "duration": 14,
    "start_time": "2023-06-03T21:15:53.104Z"
   },
   {
    "duration": 3,
    "start_time": "2023-06-03T21:16:22.584Z"
   },
   {
    "duration": 5,
    "start_time": "2023-06-03T21:16:23.206Z"
   },
   {
    "duration": 11,
    "start_time": "2023-06-03T21:16:59.857Z"
   },
   {
    "duration": 724,
    "start_time": "2023-06-03T21:17:44.138Z"
   },
   {
    "duration": 739,
    "start_time": "2023-06-03T21:24:34.429Z"
   },
   {
    "duration": 777,
    "start_time": "2023-06-03T21:24:45.447Z"
   },
   {
    "duration": 775,
    "start_time": "2023-06-03T21:25:01.860Z"
   },
   {
    "duration": 713,
    "start_time": "2023-06-03T21:25:33.072Z"
   },
   {
    "duration": 724,
    "start_time": "2023-06-03T21:25:33.787Z"
   },
   {
    "duration": 755,
    "start_time": "2023-06-03T21:25:34.512Z"
   },
   {
    "duration": 6,
    "start_time": "2023-06-03T21:26:12.737Z"
   },
   {
    "duration": 3,
    "start_time": "2023-06-03T21:27:01.471Z"
   },
   {
    "duration": 711,
    "start_time": "2023-06-03T21:27:02.377Z"
   },
   {
    "duration": 4,
    "start_time": "2023-06-03T21:28:26.823Z"
   },
   {
    "duration": 711,
    "start_time": "2023-06-03T21:28:27.929Z"
   },
   {
    "duration": 4,
    "start_time": "2023-06-03T21:30:14.016Z"
   },
   {
    "duration": 7,
    "start_time": "2023-06-03T21:30:19.712Z"
   },
   {
    "duration": 88,
    "start_time": "2023-06-03T21:31:56.506Z"
   },
   {
    "duration": 22,
    "start_time": "2023-06-03T21:32:02.621Z"
   },
   {
    "duration": 8,
    "start_time": "2023-06-03T21:32:12.102Z"
   },
   {
    "duration": 324,
    "start_time": "2023-06-03T21:32:52.058Z"
   },
   {
    "duration": 3,
    "start_time": "2023-06-03T21:35:25.749Z"
   },
   {
    "duration": 27,
    "start_time": "2023-06-03T21:35:26.149Z"
   },
   {
    "duration": 26,
    "start_time": "2023-06-03T21:35:31.421Z"
   },
   {
    "duration": 124,
    "start_time": "2023-06-03T21:35:49.458Z"
   },
   {
    "duration": 51,
    "start_time": "2023-06-03T21:37:00.629Z"
   },
   {
    "duration": 5,
    "start_time": "2023-06-03T21:37:14.179Z"
   },
   {
    "duration": 9,
    "start_time": "2023-06-03T21:37:20.943Z"
   },
   {
    "duration": 5,
    "start_time": "2023-06-03T21:37:30.459Z"
   },
   {
    "duration": 108,
    "start_time": "2023-06-03T21:39:18.971Z"
   },
   {
    "duration": 102,
    "start_time": "2023-06-03T21:40:14.377Z"
   },
   {
    "duration": 85,
    "start_time": "2023-06-03T21:40:52.404Z"
   },
   {
    "duration": 39,
    "start_time": "2023-06-03T21:41:56.162Z"
   },
   {
    "duration": 10,
    "start_time": "2023-06-03T21:42:26.043Z"
   },
   {
    "duration": 17,
    "start_time": "2023-06-03T21:42:36.315Z"
   },
   {
    "duration": 94,
    "start_time": "2023-06-03T21:42:49.190Z"
   },
   {
    "duration": 23,
    "start_time": "2023-06-03T21:42:58.659Z"
   },
   {
    "duration": 26,
    "start_time": "2023-06-03T21:43:36.487Z"
   },
   {
    "duration": 23,
    "start_time": "2023-06-03T21:43:47.096Z"
   },
   {
    "duration": 27,
    "start_time": "2023-06-03T21:44:01.811Z"
   },
   {
    "duration": 165,
    "start_time": "2023-06-03T21:44:15.216Z"
   },
   {
    "duration": 215,
    "start_time": "2023-06-03T21:44:16.264Z"
   },
   {
    "duration": 148,
    "start_time": "2023-06-03T21:44:17.232Z"
   },
   {
    "duration": 81,
    "start_time": "2023-06-03T21:44:33.685Z"
   },
   {
    "duration": 274,
    "start_time": "2023-06-03T21:44:37.007Z"
   },
   {
    "duration": 124,
    "start_time": "2023-06-03T21:44:52.916Z"
   },
   {
    "duration": 324,
    "start_time": "2023-06-03T21:44:57.757Z"
   },
   {
    "duration": 347,
    "start_time": "2023-06-03T21:45:12.037Z"
   },
   {
    "duration": 5,
    "start_time": "2023-06-03T21:45:33.157Z"
   },
   {
    "duration": 5,
    "start_time": "2023-06-03T21:46:44.251Z"
   },
   {
    "duration": 16,
    "start_time": "2023-06-03T21:46:46.520Z"
   },
   {
    "duration": 5,
    "start_time": "2023-06-03T21:46:56.143Z"
   },
   {
    "duration": 16,
    "start_time": "2023-06-03T21:46:56.851Z"
   },
   {
    "duration": 450,
    "start_time": "2023-06-03T21:50:05.832Z"
   },
   {
    "duration": 356,
    "start_time": "2023-06-03T21:50:20.025Z"
   },
   {
    "duration": 16,
    "start_time": "2023-06-03T21:50:41.421Z"
   },
   {
    "duration": 5,
    "start_time": "2023-06-03T21:50:53.817Z"
   },
   {
    "duration": 712,
    "start_time": "2023-06-03T21:50:54.445Z"
   },
   {
    "duration": 788,
    "start_time": "2023-06-03T21:51:31.790Z"
   },
   {
    "duration": 802,
    "start_time": "2023-06-03T21:51:32.580Z"
   },
   {
    "duration": 5,
    "start_time": "2023-06-03T21:52:09.590Z"
   },
   {
    "duration": 11,
    "start_time": "2023-06-03T21:52:10.455Z"
   },
   {
    "duration": 5,
    "start_time": "2023-06-03T21:52:32.603Z"
   },
   {
    "duration": 10,
    "start_time": "2023-06-03T21:52:33.237Z"
   },
   {
    "duration": 6,
    "start_time": "2023-06-03T21:53:49.352Z"
   },
   {
    "duration": 12,
    "start_time": "2023-06-03T21:53:50.364Z"
   },
   {
    "duration": 8,
    "start_time": "2023-06-03T21:56:57.478Z"
   },
   {
    "duration": 12,
    "start_time": "2023-06-03T21:56:57.939Z"
   },
   {
    "duration": 6,
    "start_time": "2023-06-03T21:57:18.007Z"
   },
   {
    "duration": 20,
    "start_time": "2023-06-03T21:57:18.174Z"
   },
   {
    "duration": 7,
    "start_time": "2023-06-03T22:00:07.346Z"
   },
   {
    "duration": 18,
    "start_time": "2023-06-03T22:00:07.789Z"
   },
   {
    "duration": 6,
    "start_time": "2023-06-03T22:00:15.569Z"
   },
   {
    "duration": 12,
    "start_time": "2023-06-03T22:00:16.237Z"
   },
   {
    "duration": 6,
    "start_time": "2023-06-03T22:00:40.402Z"
   },
   {
    "duration": 9,
    "start_time": "2023-06-03T22:00:43.722Z"
   },
   {
    "duration": 19,
    "start_time": "2023-06-03T22:00:43.924Z"
   },
   {
    "duration": 5,
    "start_time": "2023-06-03T22:00:50.655Z"
   },
   {
    "duration": 12,
    "start_time": "2023-06-03T22:00:51.165Z"
   },
   {
    "duration": 6,
    "start_time": "2023-06-03T22:01:33.647Z"
   },
   {
    "duration": 5,
    "start_time": "2023-06-03T22:01:39.125Z"
   },
   {
    "duration": 6,
    "start_time": "2023-06-03T22:02:39.447Z"
   },
   {
    "duration": 5,
    "start_time": "2023-06-03T22:02:40.186Z"
   },
   {
    "duration": 10,
    "start_time": "2023-06-03T22:02:42.351Z"
   },
   {
    "duration": 8,
    "start_time": "2023-06-03T22:02:57.548Z"
   },
   {
    "duration": 5,
    "start_time": "2023-06-03T22:02:57.980Z"
   },
   {
    "duration": 12,
    "start_time": "2023-06-03T22:02:59.500Z"
   },
   {
    "duration": 9,
    "start_time": "2023-06-03T22:03:19.016Z"
   },
   {
    "duration": 1293,
    "start_time": "2023-06-03T22:03:19.563Z"
   },
   {
    "duration": 6,
    "start_time": "2023-06-03T22:03:41.211Z"
   },
   {
    "duration": 17,
    "start_time": "2023-06-03T22:03:41.361Z"
   },
   {
    "duration": 8,
    "start_time": "2023-06-03T22:03:52.201Z"
   },
   {
    "duration": 11,
    "start_time": "2023-06-03T22:03:52.647Z"
   },
   {
    "duration": 5,
    "start_time": "2023-06-03T22:04:03.369Z"
   },
   {
    "duration": 9,
    "start_time": "2023-06-03T22:04:03.792Z"
   },
   {
    "duration": 5,
    "start_time": "2023-06-03T22:04:11.164Z"
   },
   {
    "duration": 11,
    "start_time": "2023-06-03T22:04:11.508Z"
   },
   {
    "duration": 6,
    "start_time": "2023-06-03T22:04:35.797Z"
   },
   {
    "duration": 8,
    "start_time": "2023-06-03T22:04:36.193Z"
   },
   {
    "duration": 6,
    "start_time": "2023-06-03T22:04:54.105Z"
   },
   {
    "duration": 8,
    "start_time": "2023-06-03T22:04:54.525Z"
   },
   {
    "duration": 7,
    "start_time": "2023-06-03T22:05:05.846Z"
   },
   {
    "duration": 8,
    "start_time": "2023-06-03T22:05:06.173Z"
   },
   {
    "duration": 7,
    "start_time": "2023-06-03T22:05:08.822Z"
   },
   {
    "duration": 7,
    "start_time": "2023-06-03T22:05:08.985Z"
   },
   {
    "duration": 6,
    "start_time": "2023-06-03T22:05:18.398Z"
   },
   {
    "duration": 7,
    "start_time": "2023-06-03T22:05:23.073Z"
   },
   {
    "duration": 9,
    "start_time": "2023-06-03T22:05:26.603Z"
   },
   {
    "duration": 6,
    "start_time": "2023-06-03T22:05:29.970Z"
   },
   {
    "duration": 10,
    "start_time": "2023-06-03T22:05:33.458Z"
   },
   {
    "duration": 9,
    "start_time": "2023-06-03T22:05:37.738Z"
   },
   {
    "duration": 9,
    "start_time": "2023-06-03T22:05:41.248Z"
   },
   {
    "duration": 10,
    "start_time": "2023-06-03T22:05:52.476Z"
   },
   {
    "duration": 12,
    "start_time": "2023-06-03T22:05:56.997Z"
   },
   {
    "duration": 10,
    "start_time": "2023-06-03T22:06:04.589Z"
   },
   {
    "duration": 7,
    "start_time": "2023-06-03T22:06:07.981Z"
   },
   {
    "duration": 7,
    "start_time": "2023-06-03T22:06:18.346Z"
   },
   {
    "duration": 10,
    "start_time": "2023-06-03T22:07:07.362Z"
   },
   {
    "duration": 8,
    "start_time": "2023-06-03T22:07:12.779Z"
   },
   {
    "duration": 9,
    "start_time": "2023-06-03T22:07:20.069Z"
   },
   {
    "duration": 10,
    "start_time": "2023-06-03T22:07:24.475Z"
   },
   {
    "duration": 7,
    "start_time": "2023-06-03T22:07:40.654Z"
   },
   {
    "duration": 7,
    "start_time": "2023-06-03T22:07:46.526Z"
   },
   {
    "duration": 8,
    "start_time": "2023-06-03T22:08:13.732Z"
   },
   {
    "duration": 9,
    "start_time": "2023-06-03T22:08:49.504Z"
   },
   {
    "duration": 5,
    "start_time": "2023-06-03T22:09:18.673Z"
   },
   {
    "duration": 825,
    "start_time": "2023-06-03T22:09:19.014Z"
   },
   {
    "duration": 881,
    "start_time": "2023-06-03T22:09:26.814Z"
   },
   {
    "duration": 802,
    "start_time": "2023-06-03T22:09:32.980Z"
   },
   {
    "duration": 734,
    "start_time": "2023-06-03T22:09:38.105Z"
   },
   {
    "duration": 796,
    "start_time": "2023-06-03T22:09:42.266Z"
   },
   {
    "duration": 751,
    "start_time": "2023-06-03T22:09:48.066Z"
   },
   {
    "duration": 814,
    "start_time": "2023-06-03T22:10:05.489Z"
   },
   {
    "duration": 785,
    "start_time": "2023-06-03T22:10:06.306Z"
   },
   {
    "duration": 799,
    "start_time": "2023-06-03T22:10:36.114Z"
   },
   {
    "duration": 785,
    "start_time": "2023-06-03T22:10:38.666Z"
   },
   {
    "duration": 864,
    "start_time": "2023-06-03T22:10:39.453Z"
   },
   {
    "duration": 5,
    "start_time": "2023-06-03T22:10:52.549Z"
   },
   {
    "duration": 8112,
    "start_time": "2023-06-03T22:10:53.174Z"
   },
   {
    "duration": 7692,
    "start_time": "2023-06-03T22:11:11.194Z"
   },
   {
    "duration": 1066,
    "start_time": "2023-06-03T22:17:47.984Z"
   },
   {
    "duration": 392,
    "start_time": "2023-06-03T22:17:49.053Z"
   },
   {
    "duration": 5,
    "start_time": "2023-06-03T22:17:49.584Z"
   },
   {
    "duration": 358,
    "start_time": "2023-06-03T22:17:52.044Z"
   },
   {
    "duration": 42,
    "start_time": "2023-06-03T22:17:52.404Z"
   },
   {
    "duration": 63,
    "start_time": "2023-06-03T22:17:52.447Z"
   },
   {
    "duration": 6,
    "start_time": "2023-06-03T22:17:58.508Z"
   },
   {
    "duration": 55,
    "start_time": "2023-06-03T22:18:00.723Z"
   },
   {
    "duration": 117,
    "start_time": "2023-06-03T22:18:07.460Z"
   },
   {
    "duration": 11,
    "start_time": "2023-06-03T22:24:46.317Z"
   },
   {
    "duration": 14,
    "start_time": "2023-06-03T22:24:58.435Z"
   },
   {
    "duration": 32,
    "start_time": "2023-06-03T22:25:31.971Z"
   },
   {
    "duration": 11,
    "start_time": "2023-06-03T22:26:02.751Z"
   },
   {
    "duration": 13,
    "start_time": "2023-06-03T22:26:03.128Z"
   },
   {
    "duration": 11,
    "start_time": "2023-06-03T22:26:14.051Z"
   },
   {
    "duration": 15,
    "start_time": "2023-06-03T22:26:14.339Z"
   },
   {
    "duration": 110,
    "start_time": "2023-06-03T22:27:21.909Z"
   },
   {
    "duration": 10,
    "start_time": "2023-06-03T22:27:23.583Z"
   },
   {
    "duration": 14,
    "start_time": "2023-06-03T22:27:24.679Z"
   },
   {
    "duration": 11,
    "start_time": "2023-06-03T22:27:52.391Z"
   },
   {
    "duration": 19,
    "start_time": "2023-06-03T22:27:52.768Z"
   },
   {
    "duration": 79,
    "start_time": "2023-06-03T22:30:11.298Z"
   },
   {
    "duration": 27,
    "start_time": "2023-06-03T22:30:20.631Z"
   },
   {
    "duration": 26,
    "start_time": "2023-06-03T22:30:48.247Z"
   },
   {
    "duration": 439,
    "start_time": "2023-06-03T22:31:17.047Z"
   },
   {
    "duration": 695,
    "start_time": "2023-06-03T22:31:17.489Z"
   },
   {
    "duration": 697,
    "start_time": "2023-06-03T22:31:18.187Z"
   },
   {
    "duration": 3,
    "start_time": "2023-06-03T22:32:19.841Z"
   },
   {
    "duration": 3,
    "start_time": "2023-06-03T22:32:20.344Z"
   },
   {
    "duration": 41,
    "start_time": "2023-06-03T22:32:34.101Z"
   },
   {
    "duration": 3,
    "start_time": "2023-06-03T22:32:49.937Z"
   },
   {
    "duration": 5,
    "start_time": "2023-06-03T22:32:50.629Z"
   },
   {
    "duration": 2,
    "start_time": "2023-06-03T22:33:31.405Z"
   },
   {
    "duration": 6,
    "start_time": "2023-06-03T22:33:31.805Z"
   },
   {
    "duration": 4,
    "start_time": "2023-06-03T22:34:19.433Z"
   },
   {
    "duration": 5,
    "start_time": "2023-06-03T22:34:19.757Z"
   },
   {
    "duration": 3,
    "start_time": "2023-06-03T22:35:16.339Z"
   },
   {
    "duration": 4,
    "start_time": "2023-06-03T22:36:52.160Z"
   },
   {
    "duration": 775,
    "start_time": "2023-06-03T22:37:00.648Z"
   },
   {
    "duration": 751,
    "start_time": "2023-06-03T22:37:09.561Z"
   },
   {
    "duration": 706,
    "start_time": "2023-06-03T22:39:03.285Z"
   },
   {
    "duration": 739,
    "start_time": "2023-06-03T22:39:03.993Z"
   },
   {
    "duration": 760,
    "start_time": "2023-06-03T22:39:04.734Z"
   },
   {
    "duration": 817,
    "start_time": "2023-06-03T22:41:11.143Z"
   },
   {
    "duration": 799,
    "start_time": "2023-06-03T22:41:11.962Z"
   },
   {
    "duration": 808,
    "start_time": "2023-06-03T22:41:12.763Z"
   },
   {
    "duration": 866,
    "start_time": "2023-06-03T22:42:36.257Z"
   },
   {
    "duration": 1091,
    "start_time": "2023-06-03T23:19:26.512Z"
   },
   {
    "duration": 371,
    "start_time": "2023-06-03T23:19:28.129Z"
   },
   {
    "duration": 4,
    "start_time": "2023-06-03T23:19:29.024Z"
   },
   {
    "duration": 349,
    "start_time": "2023-06-03T23:19:29.868Z"
   },
   {
    "duration": 59,
    "start_time": "2023-06-03T23:19:30.219Z"
   },
   {
    "duration": 57,
    "start_time": "2023-06-03T23:19:30.775Z"
   },
   {
    "duration": 4,
    "start_time": "2023-06-03T23:19:57.444Z"
   },
   {
    "duration": 185,
    "start_time": "2023-06-03T23:20:00.293Z"
   },
   {
    "duration": 304,
    "start_time": "2023-06-03T23:20:03.940Z"
   },
   {
    "duration": 38,
    "start_time": "2023-06-03T23:20:11.745Z"
   },
   {
    "duration": 78,
    "start_time": "2023-06-03T23:20:20.405Z"
   },
   {
    "duration": 531,
    "start_time": "2023-06-03T23:20:21.657Z"
   },
   {
    "duration": 796,
    "start_time": "2023-06-03T23:20:22.192Z"
   },
   {
    "duration": 798,
    "start_time": "2023-06-03T23:20:23.083Z"
   },
   {
    "duration": 3,
    "start_time": "2023-06-03T23:21:10.502Z"
   },
   {
    "duration": 4,
    "start_time": "2023-06-03T23:21:10.917Z"
   },
   {
    "duration": 42,
    "start_time": "2023-06-03T23:21:17.784Z"
   },
   {
    "duration": 100,
    "start_time": "2023-06-03T23:21:45.646Z"
   },
   {
    "duration": 44,
    "start_time": "2023-06-03T23:21:51.918Z"
   },
   {
    "duration": 40,
    "start_time": "2023-06-03T23:22:07.239Z"
   },
   {
    "duration": 3,
    "start_time": "2023-06-03T23:22:11.866Z"
   },
   {
    "duration": 5,
    "start_time": "2023-06-03T23:22:12.370Z"
   },
   {
    "duration": 3,
    "start_time": "2023-06-03T23:24:24.732Z"
   },
   {
    "duration": 5,
    "start_time": "2023-06-03T23:24:27.163Z"
   },
   {
    "duration": 749,
    "start_time": "2023-06-03T23:24:38.596Z"
   },
   {
    "duration": 788,
    "start_time": "2023-06-03T23:24:39.817Z"
   },
   {
    "duration": 806,
    "start_time": "2023-06-03T23:24:40.919Z"
   },
   {
    "duration": 796,
    "start_time": "2023-06-03T23:24:50.777Z"
   },
   {
    "duration": 799,
    "start_time": "2023-06-03T23:27:36.313Z"
   },
   {
    "duration": 786,
    "start_time": "2023-06-03T23:27:38.055Z"
   },
   {
    "duration": 858,
    "start_time": "2023-06-03T23:27:39.623Z"
   },
   {
    "duration": 815,
    "start_time": "2023-06-03T23:30:42.848Z"
   },
   {
    "duration": 779,
    "start_time": "2023-06-03T23:30:43.666Z"
   },
   {
    "duration": 783,
    "start_time": "2023-06-03T23:30:44.446Z"
   },
   {
    "duration": 1067,
    "start_time": "2023-06-03T23:32:27.066Z"
   },
   {
    "duration": 343,
    "start_time": "2023-06-03T23:32:28.135Z"
   },
   {
    "duration": 4,
    "start_time": "2023-06-03T23:32:28.480Z"
   },
   {
    "duration": 324,
    "start_time": "2023-06-03T23:32:28.486Z"
   },
   {
    "duration": 44,
    "start_time": "2023-06-03T23:32:28.812Z"
   },
   {
    "duration": 40,
    "start_time": "2023-06-03T23:32:28.879Z"
   },
   {
    "duration": 4,
    "start_time": "2023-06-03T23:32:28.921Z"
   },
   {
    "duration": 69,
    "start_time": "2023-06-03T23:32:28.927Z"
   },
   {
    "duration": 783,
    "start_time": "2023-06-03T23:32:28.997Z"
   },
   {
    "duration": 195,
    "start_time": "2023-06-03T23:32:29.785Z"
   },
   {
    "duration": 697,
    "start_time": "2023-06-03T23:32:29.986Z"
   },
   {
    "duration": 207,
    "start_time": "2023-06-03T23:32:30.684Z"
   },
   {
    "duration": 785,
    "start_time": "2023-06-03T23:32:30.893Z"
   },
   {
    "duration": 5,
    "start_time": "2023-06-03T23:32:31.682Z"
   },
   {
    "duration": 3,
    "start_time": "2023-06-03T23:32:31.779Z"
   },
   {
    "duration": 60,
    "start_time": "2023-06-03T23:32:31.784Z"
   },
   {
    "duration": 3,
    "start_time": "2023-06-03T23:32:31.846Z"
   },
   {
    "duration": 8,
    "start_time": "2023-06-03T23:32:31.851Z"
   },
   {
    "duration": 9,
    "start_time": "2023-06-03T23:32:31.861Z"
   },
   {
    "duration": 7,
    "start_time": "2023-06-03T23:32:31.872Z"
   },
   {
    "duration": 761,
    "start_time": "2023-06-03T23:32:31.880Z"
   },
   {
    "duration": 722,
    "start_time": "2023-06-03T23:32:32.643Z"
   },
   {
    "duration": 711,
    "start_time": "2023-06-03T23:32:33.367Z"
   },
   {
    "duration": 784,
    "start_time": "2023-06-03T23:32:34.079Z"
   },
   {
    "duration": 825,
    "start_time": "2023-06-03T23:32:34.864Z"
   },
   {
    "duration": 791,
    "start_time": "2023-06-03T23:32:35.691Z"
   },
   {
    "duration": 4,
    "start_time": "2023-06-03T23:33:08.198Z"
   },
   {
    "duration": 45,
    "start_time": "2023-06-03T23:33:08.449Z"
   },
   {
    "duration": 1044,
    "start_time": "2023-06-03T23:33:19.220Z"
   },
   {
    "duration": 356,
    "start_time": "2023-06-03T23:33:20.267Z"
   },
   {
    "duration": 5,
    "start_time": "2023-06-03T23:33:20.624Z"
   },
   {
    "duration": 338,
    "start_time": "2023-06-03T23:33:20.631Z"
   },
   {
    "duration": 41,
    "start_time": "2023-06-03T23:33:20.979Z"
   },
   {
    "duration": 62,
    "start_time": "2023-06-03T23:33:21.022Z"
   },
   {
    "duration": 3,
    "start_time": "2023-06-03T23:33:21.086Z"
   },
   {
    "duration": 38,
    "start_time": "2023-06-03T23:33:21.091Z"
   },
   {
    "duration": 704,
    "start_time": "2023-06-03T23:33:21.178Z"
   },
   {
    "duration": 213,
    "start_time": "2023-06-03T23:33:21.884Z"
   },
   {
    "duration": 785,
    "start_time": "2023-06-03T23:33:22.098Z"
   },
   {
    "duration": 204,
    "start_time": "2023-06-03T23:33:22.885Z"
   },
   {
    "duration": 791,
    "start_time": "2023-06-03T23:33:23.091Z"
   },
   {
    "duration": 92,
    "start_time": "2023-06-03T23:33:23.886Z"
   },
   {
    "duration": 5,
    "start_time": "2023-06-03T23:33:23.981Z"
   },
   {
    "duration": 127,
    "start_time": "2023-06-03T23:33:23.988Z"
   },
   {
    "duration": 3,
    "start_time": "2023-06-03T23:33:24.117Z"
   },
   {
    "duration": 16,
    "start_time": "2023-06-03T23:33:24.121Z"
   },
   {
    "duration": 15,
    "start_time": "2023-06-03T23:33:24.138Z"
   },
   {
    "duration": 7,
    "start_time": "2023-06-03T23:33:24.155Z"
   },
   {
    "duration": 760,
    "start_time": "2023-06-03T23:33:24.164Z"
   },
   {
    "duration": 767,
    "start_time": "2023-06-03T23:33:24.925Z"
   },
   {
    "duration": 784,
    "start_time": "2023-06-03T23:33:25.693Z"
   },
   {
    "duration": 860,
    "start_time": "2023-06-03T23:33:26.478Z"
   },
   {
    "duration": 808,
    "start_time": "2023-06-03T23:33:27.340Z"
   },
   {
    "duration": 763,
    "start_time": "2023-06-03T23:33:28.150Z"
   },
   {
    "duration": 5,
    "start_time": "2023-06-03T23:35:33.175Z"
   },
   {
    "duration": 801,
    "start_time": "2023-06-03T23:35:34.337Z"
   },
   {
    "duration": 824,
    "start_time": "2023-06-03T23:35:35.140Z"
   },
   {
    "duration": 748,
    "start_time": "2023-06-03T23:35:35.966Z"
   },
   {
    "duration": 867,
    "start_time": "2023-06-03T23:35:40.790Z"
   },
   {
    "duration": 834,
    "start_time": "2023-06-03T23:35:41.659Z"
   },
   {
    "duration": 916,
    "start_time": "2023-06-03T23:35:42.495Z"
   },
   {
    "duration": 5,
    "start_time": "2023-06-03T23:36:11.402Z"
   },
   {
    "duration": 745,
    "start_time": "2023-06-03T23:36:11.722Z"
   },
   {
    "duration": 755,
    "start_time": "2023-06-03T23:36:12.469Z"
   },
   {
    "duration": 755,
    "start_time": "2023-06-03T23:36:13.226Z"
   },
   {
    "duration": 777,
    "start_time": "2023-06-03T23:36:13.983Z"
   },
   {
    "duration": 819,
    "start_time": "2023-06-03T23:36:14.762Z"
   },
   {
    "duration": 896,
    "start_time": "2023-06-03T23:36:15.583Z"
   },
   {
    "duration": 1100,
    "start_time": "2023-06-03T23:39:59.587Z"
   },
   {
    "duration": 359,
    "start_time": "2023-06-03T23:40:00.689Z"
   },
   {
    "duration": 4,
    "start_time": "2023-06-03T23:40:01.050Z"
   },
   {
    "duration": 362,
    "start_time": "2023-06-03T23:40:01.055Z"
   },
   {
    "duration": 59,
    "start_time": "2023-06-03T23:40:01.419Z"
   },
   {
    "duration": 40,
    "start_time": "2023-06-03T23:40:01.480Z"
   },
   {
    "duration": 3,
    "start_time": "2023-06-03T23:40:01.522Z"
   },
   {
    "duration": 58,
    "start_time": "2023-06-03T23:40:01.527Z"
   },
   {
    "duration": 700,
    "start_time": "2023-06-03T23:40:01.587Z"
   },
   {
    "duration": 204,
    "start_time": "2023-06-03T23:40:02.289Z"
   },
   {
    "duration": 785,
    "start_time": "2023-06-03T23:40:02.494Z"
   },
   {
    "duration": 196,
    "start_time": "2023-06-03T23:40:03.283Z"
   },
   {
    "duration": 700,
    "start_time": "2023-06-03T23:40:03.484Z"
   },
   {
    "duration": 90,
    "start_time": "2023-06-03T23:40:04.189Z"
   },
   {
    "duration": 10,
    "start_time": "2023-06-03T23:40:04.281Z"
   },
   {
    "duration": 126,
    "start_time": "2023-06-03T23:40:04.293Z"
   },
   {
    "duration": 3,
    "start_time": "2023-06-03T23:40:04.421Z"
   },
   {
    "duration": 16,
    "start_time": "2023-06-03T23:40:04.425Z"
   },
   {
    "duration": 11,
    "start_time": "2023-06-03T23:40:04.442Z"
   },
   {
    "duration": 12,
    "start_time": "2023-06-03T23:40:04.455Z"
   },
   {
    "duration": 115,
    "start_time": "2023-06-03T23:40:04.469Z"
   },
   {
    "duration": 0,
    "start_time": "2023-06-03T23:40:04.585Z"
   },
   {
    "duration": 0,
    "start_time": "2023-06-03T23:40:04.587Z"
   },
   {
    "duration": 0,
    "start_time": "2023-06-03T23:40:04.587Z"
   },
   {
    "duration": 0,
    "start_time": "2023-06-03T23:40:04.589Z"
   },
   {
    "duration": 0,
    "start_time": "2023-06-03T23:40:04.590Z"
   },
   {
    "duration": 0,
    "start_time": "2023-06-03T23:40:04.591Z"
   },
   {
    "duration": 730,
    "start_time": "2023-06-03T23:40:12.880Z"
   },
   {
    "duration": 704,
    "start_time": "2023-06-03T23:40:13.612Z"
   },
   {
    "duration": 723,
    "start_time": "2023-06-03T23:40:14.318Z"
   },
   {
    "duration": 830,
    "start_time": "2023-06-03T23:40:15.043Z"
   },
   {
    "duration": 843,
    "start_time": "2023-06-03T23:40:15.878Z"
   },
   {
    "duration": 828,
    "start_time": "2023-06-03T23:40:16.723Z"
   },
   {
    "duration": 836,
    "start_time": "2023-06-04T08:29:33.414Z"
   },
   {
    "duration": 690,
    "start_time": "2023-06-04T08:29:34.252Z"
   },
   {
    "duration": 4,
    "start_time": "2023-06-04T08:29:34.943Z"
   },
   {
    "duration": 335,
    "start_time": "2023-06-04T08:29:34.949Z"
   },
   {
    "duration": 37,
    "start_time": "2023-06-04T08:29:35.286Z"
   },
   {
    "duration": 66,
    "start_time": "2023-06-04T08:29:35.324Z"
   },
   {
    "duration": 5,
    "start_time": "2023-06-04T08:29:35.392Z"
   },
   {
    "duration": 88,
    "start_time": "2023-06-04T08:29:35.399Z"
   },
   {
    "duration": 904,
    "start_time": "2023-06-04T08:29:35.489Z"
   },
   {
    "duration": 202,
    "start_time": "2023-06-04T08:29:36.395Z"
   },
   {
    "duration": 790,
    "start_time": "2023-06-04T08:29:36.599Z"
   },
   {
    "duration": 293,
    "start_time": "2023-06-04T08:29:37.391Z"
   },
   {
    "duration": 902,
    "start_time": "2023-06-04T08:29:37.685Z"
   },
   {
    "duration": 2,
    "start_time": "2023-06-04T08:29:38.591Z"
   },
   {
    "duration": 99,
    "start_time": "2023-06-04T08:29:38.595Z"
   },
   {
    "duration": 43,
    "start_time": "2023-06-04T08:29:38.695Z"
   },
   {
    "duration": 3,
    "start_time": "2023-06-04T08:29:38.740Z"
   },
   {
    "duration": 13,
    "start_time": "2023-06-04T08:29:38.744Z"
   },
   {
    "duration": 5,
    "start_time": "2023-06-04T08:29:38.758Z"
   },
   {
    "duration": 20,
    "start_time": "2023-06-04T08:29:38.764Z"
   },
   {
    "duration": 3,
    "start_time": "2023-06-04T08:30:20.413Z"
   },
   {
    "duration": 605,
    "start_time": "2023-06-04T08:30:23.436Z"
   },
   {
    "duration": 6,
    "start_time": "2023-06-04T08:30:27.852Z"
   },
   {
    "duration": 6,
    "start_time": "2023-06-04T08:31:00.869Z"
   },
   {
    "duration": 3,
    "start_time": "2023-06-04T08:31:12.913Z"
   },
   {
    "duration": 7,
    "start_time": "2023-06-04T08:32:14.001Z"
   },
   {
    "duration": 16,
    "start_time": "2023-06-04T08:32:16.405Z"
   },
   {
    "duration": 114,
    "start_time": "2023-06-04T08:32:30.709Z"
   },
   {
    "duration": 125,
    "start_time": "2023-06-04T08:32:34.257Z"
   },
   {
    "duration": 13,
    "start_time": "2023-06-04T08:32:39.246Z"
   },
   {
    "duration": 5,
    "start_time": "2023-06-04T08:32:45.266Z"
   },
   {
    "duration": 6,
    "start_time": "2023-06-04T08:32:47.429Z"
   },
   {
    "duration": 10,
    "start_time": "2023-06-04T21:55:59.369Z"
   },
   {
    "duration": 1129,
    "start_time": "2023-06-04T21:56:15.052Z"
   },
   {
    "duration": 1552,
    "start_time": "2023-06-04T21:56:16.183Z"
   },
   {
    "duration": 5,
    "start_time": "2023-06-04T21:56:17.737Z"
   },
   {
    "duration": 554,
    "start_time": "2023-06-04T21:56:17.744Z"
   },
   {
    "duration": 51,
    "start_time": "2023-06-04T21:56:18.309Z"
   },
   {
    "duration": 84,
    "start_time": "2023-06-04T21:56:18.362Z"
   },
   {
    "duration": 4,
    "start_time": "2023-06-04T21:56:18.455Z"
   },
   {
    "duration": 9,
    "start_time": "2023-06-04T21:56:18.462Z"
   },
   {
    "duration": 523,
    "start_time": "2023-06-04T21:57:14.619Z"
   },
   {
    "duration": 558,
    "start_time": "2023-06-04T21:58:16.857Z"
   },
   {
    "duration": 639,
    "start_time": "2023-06-04T22:02:47.367Z"
   },
   {
    "duration": 519,
    "start_time": "2023-06-04T22:03:20.423Z"
   },
   {
    "duration": 9,
    "start_time": "2023-06-04T22:28:55.327Z"
   },
   {
    "duration": 637,
    "start_time": "2023-06-04T22:28:58.073Z"
   },
   {
    "duration": 369,
    "start_time": "2023-06-04T22:29:08.141Z"
   },
   {
    "duration": 382,
    "start_time": "2023-06-04T22:29:08.661Z"
   },
   {
    "duration": 25,
    "start_time": "2023-06-04T22:35:43.812Z"
   },
   {
    "duration": 43,
    "start_time": "2023-06-04T22:35:57.278Z"
   },
   {
    "duration": 27,
    "start_time": "2023-06-04T22:36:01.005Z"
   },
   {
    "duration": 33,
    "start_time": "2023-06-04T22:37:13.315Z"
   },
   {
    "duration": 30,
    "start_time": "2023-06-04T22:37:28.343Z"
   },
   {
    "duration": 7,
    "start_time": "2023-06-04T22:40:27.271Z"
   },
   {
    "duration": 22,
    "start_time": "2023-06-04T22:40:36.380Z"
   },
   {
    "duration": 21,
    "start_time": "2023-06-04T22:40:41.905Z"
   },
   {
    "duration": 8,
    "start_time": "2023-06-04T22:40:44.240Z"
   },
   {
    "duration": 16,
    "start_time": "2023-06-04T22:41:00.417Z"
   },
   {
    "duration": 6,
    "start_time": "2023-06-04T22:41:41.560Z"
   },
   {
    "duration": 12,
    "start_time": "2023-06-04T22:41:49.660Z"
   },
   {
    "duration": 12,
    "start_time": "2023-06-04T22:41:51.480Z"
   },
   {
    "duration": 7,
    "start_time": "2023-06-04T22:41:52.260Z"
   },
   {
    "duration": 6,
    "start_time": "2023-06-04T22:41:56.771Z"
   },
   {
    "duration": 12,
    "start_time": "2023-06-04T22:42:08.330Z"
   },
   {
    "duration": 6,
    "start_time": "2023-06-04T22:42:12.765Z"
   },
   {
    "duration": 26,
    "start_time": "2023-06-04T22:42:16.723Z"
   },
   {
    "duration": 13,
    "start_time": "2023-06-04T22:42:46.375Z"
   },
   {
    "duration": 5,
    "start_time": "2023-06-04T22:42:57.972Z"
   },
   {
    "duration": 7,
    "start_time": "2023-06-04T22:44:51.373Z"
   },
   {
    "duration": 140,
    "start_time": "2023-06-04T22:45:47.420Z"
   },
   {
    "duration": 14,
    "start_time": "2023-06-04T22:45:50.035Z"
   },
   {
    "duration": 8,
    "start_time": "2023-06-04T22:45:52.865Z"
   },
   {
    "duration": 2,
    "start_time": "2023-06-04T22:45:58.270Z"
   },
   {
    "duration": 3,
    "start_time": "2023-06-04T22:46:08.839Z"
   },
   {
    "duration": 5,
    "start_time": "2023-06-04T22:46:10.672Z"
   },
   {
    "duration": 7,
    "start_time": "2023-06-04T22:46:11.427Z"
   },
   {
    "duration": 7,
    "start_time": "2023-06-04T22:49:37.538Z"
   },
   {
    "duration": 11,
    "start_time": "2023-06-04T22:49:42.484Z"
   },
   {
    "duration": 4,
    "start_time": "2023-06-04T22:52:33.066Z"
   },
   {
    "duration": 5,
    "start_time": "2023-06-04T22:53:03.068Z"
   },
   {
    "duration": 4,
    "start_time": "2023-06-04T22:53:19.468Z"
   },
   {
    "duration": 20,
    "start_time": "2023-06-04T22:53:37.031Z"
   },
   {
    "duration": 18,
    "start_time": "2023-06-04T22:53:49.180Z"
   },
   {
    "duration": 4,
    "start_time": "2023-06-04T22:54:52.756Z"
   },
   {
    "duration": 5,
    "start_time": "2023-06-04T22:55:36.668Z"
   },
   {
    "duration": 7,
    "start_time": "2023-06-04T22:55:37.862Z"
   },
   {
    "duration": 15,
    "start_time": "2023-06-04T22:55:44.143Z"
   },
   {
    "duration": 5,
    "start_time": "2023-06-04T22:55:44.871Z"
   },
   {
    "duration": 5,
    "start_time": "2023-06-04T22:55:45.707Z"
   },
   {
    "duration": 6,
    "start_time": "2023-06-04T22:55:46.457Z"
   },
   {
    "duration": 14,
    "start_time": "2023-06-04T22:55:47.235Z"
   },
   {
    "duration": 10,
    "start_time": "2023-06-04T22:55:47.884Z"
   },
   {
    "duration": 69,
    "start_time": "2023-06-04T22:55:53.108Z"
   },
   {
    "duration": 5,
    "start_time": "2023-06-04T22:55:57.674Z"
   },
   {
    "duration": 5,
    "start_time": "2023-06-04T22:56:56.063Z"
   },
   {
    "duration": 5,
    "start_time": "2023-06-04T22:57:03.363Z"
   },
   {
    "duration": 5,
    "start_time": "2023-06-04T22:57:07.567Z"
   },
   {
    "duration": 6,
    "start_time": "2023-06-04T22:57:17.975Z"
   },
   {
    "duration": 6,
    "start_time": "2023-06-04T22:57:22.980Z"
   },
   {
    "duration": 7,
    "start_time": "2023-06-04T22:57:24.145Z"
   },
   {
    "duration": 5,
    "start_time": "2023-06-04T22:57:24.937Z"
   },
   {
    "duration": 6,
    "start_time": "2023-06-04T22:57:26.954Z"
   },
   {
    "duration": 11,
    "start_time": "2023-06-04T22:57:36.299Z"
   },
   {
    "duration": 4,
    "start_time": "2023-06-04T22:58:47.745Z"
   },
   {
    "duration": 15,
    "start_time": "2023-06-04T22:58:52.722Z"
   },
   {
    "duration": 10,
    "start_time": "2023-06-04T22:59:07.224Z"
   },
   {
    "duration": 14,
    "start_time": "2023-06-04T22:59:11.311Z"
   },
   {
    "duration": 3,
    "start_time": "2023-06-04T23:01:30.462Z"
   },
   {
    "duration": 13,
    "start_time": "2023-06-04T23:01:42.558Z"
   },
   {
    "duration": 12,
    "start_time": "2023-06-04T23:01:50.909Z"
   },
   {
    "duration": 6,
    "start_time": "2023-06-04T23:01:51.412Z"
   },
   {
    "duration": 9,
    "start_time": "2023-06-04T23:06:17.755Z"
   },
   {
    "duration": 8,
    "start_time": "2023-06-04T23:06:25.782Z"
   },
   {
    "duration": 4,
    "start_time": "2023-06-04T23:06:28.433Z"
   },
   {
    "duration": 7,
    "start_time": "2023-06-04T23:06:48.049Z"
   },
   {
    "duration": 7,
    "start_time": "2023-06-04T23:07:35.643Z"
   },
   {
    "duration": 9,
    "start_time": "2023-06-04T23:07:46.251Z"
   },
   {
    "duration": 3,
    "start_time": "2023-06-04T23:07:51.839Z"
   },
   {
    "duration": 4,
    "start_time": "2023-06-04T23:07:56.143Z"
   },
   {
    "duration": 4,
    "start_time": "2023-06-04T23:08:04.179Z"
   },
   {
    "duration": 3,
    "start_time": "2023-06-04T23:08:08.656Z"
   },
   {
    "duration": 9,
    "start_time": "2023-06-04T23:10:10.834Z"
   },
   {
    "duration": 4,
    "start_time": "2023-06-04T23:10:21.041Z"
   },
   {
    "duration": 14,
    "start_time": "2023-06-04T23:10:51.631Z"
   },
   {
    "duration": 4,
    "start_time": "2023-06-04T23:11:04.352Z"
   },
   {
    "duration": 9,
    "start_time": "2023-06-04T23:11:04.933Z"
   },
   {
    "duration": 3,
    "start_time": "2023-06-04T23:11:13.867Z"
   },
   {
    "duration": 14,
    "start_time": "2023-06-04T23:11:14.912Z"
   },
   {
    "duration": 3,
    "start_time": "2023-06-04T23:11:26.958Z"
   },
   {
    "duration": 3,
    "start_time": "2023-06-04T23:16:33.252Z"
   },
   {
    "duration": 11,
    "start_time": "2023-06-04T23:16:46.427Z"
   },
   {
    "duration": 18,
    "start_time": "2023-06-04T23:17:11.315Z"
   },
   {
    "duration": 10,
    "start_time": "2023-06-04T23:24:24.748Z"
   },
   {
    "duration": 5,
    "start_time": "2023-06-04T23:24:27.217Z"
   },
   {
    "duration": 24,
    "start_time": "2023-06-04T23:24:27.616Z"
   },
   {
    "duration": 3,
    "start_time": "2023-06-04T23:24:45.049Z"
   },
   {
    "duration": 15,
    "start_time": "2023-06-04T23:24:45.949Z"
   },
   {
    "duration": 4,
    "start_time": "2023-06-04T23:25:06.819Z"
   },
   {
    "duration": 15,
    "start_time": "2023-06-04T23:25:07.241Z"
   },
   {
    "duration": 6,
    "start_time": "2023-06-04T23:25:18.107Z"
   },
   {
    "duration": 19,
    "start_time": "2023-06-04T23:25:18.909Z"
   },
   {
    "duration": 15,
    "start_time": "2023-06-04T23:26:16.458Z"
   },
   {
    "duration": 6,
    "start_time": "2023-06-04T23:36:33.523Z"
   },
   {
    "duration": 29,
    "start_time": "2023-06-04T23:36:35.885Z"
   },
   {
    "duration": 6,
    "start_time": "2023-06-04T23:36:47.617Z"
   },
   {
    "duration": 37,
    "start_time": "2023-06-04T23:36:49.076Z"
   },
   {
    "duration": 5,
    "start_time": "2023-06-04T23:37:08.609Z"
   },
   {
    "duration": 37,
    "start_time": "2023-06-04T23:37:08.790Z"
   },
   {
    "duration": 4,
    "start_time": "2023-06-04T23:37:10.438Z"
   },
   {
    "duration": 11,
    "start_time": "2023-06-04T23:37:12.159Z"
   },
   {
    "duration": 3,
    "start_time": "2023-06-04T23:37:17.163Z"
   },
   {
    "duration": 15,
    "start_time": "2023-06-04T23:37:17.444Z"
   },
   {
    "duration": 5,
    "start_time": "2023-06-04T23:37:18.521Z"
   },
   {
    "duration": 22,
    "start_time": "2023-06-04T23:37:20.192Z"
   },
   {
    "duration": 989,
    "start_time": "2023-06-04T23:37:41.243Z"
   },
   {
    "duration": 393,
    "start_time": "2023-06-04T23:37:42.234Z"
   },
   {
    "duration": 4,
    "start_time": "2023-06-04T23:37:42.629Z"
   },
   {
    "duration": 342,
    "start_time": "2023-06-04T23:37:42.634Z"
   },
   {
    "duration": 70,
    "start_time": "2023-06-04T23:37:42.978Z"
   },
   {
    "duration": 49,
    "start_time": "2023-06-04T23:37:43.049Z"
   },
   {
    "duration": 4,
    "start_time": "2023-06-04T23:37:43.119Z"
   },
   {
    "duration": 7,
    "start_time": "2023-06-04T23:37:43.125Z"
   },
   {
    "duration": 495,
    "start_time": "2023-06-04T23:37:43.133Z"
   },
   {
    "duration": 810,
    "start_time": "2023-06-04T23:37:43.688Z"
   },
   {
    "duration": 627,
    "start_time": "2023-06-04T23:37:44.499Z"
   },
   {
    "duration": 4,
    "start_time": "2023-06-04T23:37:45.127Z"
   },
   {
    "duration": 62,
    "start_time": "2023-06-04T23:37:45.132Z"
   },
   {
    "duration": 102,
    "start_time": "2023-06-04T23:37:45.196Z"
   },
   {
    "duration": 12,
    "start_time": "2023-06-04T23:37:45.306Z"
   },
   {
    "duration": 9,
    "start_time": "2023-06-04T23:37:45.320Z"
   },
   {
    "duration": 21,
    "start_time": "2023-06-04T23:37:45.330Z"
   },
   {
    "duration": 40,
    "start_time": "2023-06-04T23:37:45.353Z"
   },
   {
    "duration": 5,
    "start_time": "2023-06-04T23:39:18.570Z"
   },
   {
    "duration": 114,
    "start_time": "2023-06-04T23:39:22.142Z"
   },
   {
    "duration": 12,
    "start_time": "2023-06-04T23:39:37.208Z"
   },
   {
    "duration": 4,
    "start_time": "2023-06-04T23:39:51.142Z"
   },
   {
    "duration": 700,
    "start_time": "2023-06-04T23:39:52.712Z"
   },
   {
    "duration": 4,
    "start_time": "2023-06-04T23:40:14.976Z"
   },
   {
    "duration": 677,
    "start_time": "2023-06-04T23:40:16.750Z"
   },
   {
    "duration": 4,
    "start_time": "2023-06-04T23:46:55.320Z"
   },
   {
    "duration": 6,
    "start_time": "2023-06-04T23:47:02.516Z"
   },
   {
    "duration": 707,
    "start_time": "2023-06-04T23:47:05.319Z"
   },
   {
    "duration": 5,
    "start_time": "2023-06-04T23:47:18.331Z"
   },
   {
    "duration": 730,
    "start_time": "2023-06-04T23:47:20.135Z"
   },
   {
    "duration": 6,
    "start_time": "2023-06-04T23:48:29.219Z"
   },
   {
    "duration": 722,
    "start_time": "2023-06-04T23:48:31.419Z"
   },
   {
    "duration": 5,
    "start_time": "2023-06-04T23:51:23.047Z"
   },
   {
    "duration": 772,
    "start_time": "2023-06-04T23:51:26.359Z"
   },
   {
    "duration": 5,
    "start_time": "2023-06-04T23:51:32.028Z"
   },
   {
    "duration": 695,
    "start_time": "2023-06-04T23:51:34.728Z"
   },
   {
    "duration": 8,
    "start_time": "2023-06-04T23:52:38.615Z"
   },
   {
    "duration": 695,
    "start_time": "2023-06-04T23:52:40.728Z"
   },
   {
    "duration": 81,
    "start_time": "2023-06-04T23:53:08.653Z"
   },
   {
    "duration": 12,
    "start_time": "2023-06-04T23:53:15.914Z"
   },
   {
    "duration": 686,
    "start_time": "2023-06-04T23:53:18.325Z"
   },
   {
    "duration": 4,
    "start_time": "2023-06-04T23:54:28.842Z"
   },
   {
    "duration": 686,
    "start_time": "2023-06-04T23:55:02.284Z"
   },
   {
    "duration": 685,
    "start_time": "2023-06-04T23:55:02.972Z"
   },
   {
    "duration": 679,
    "start_time": "2023-06-04T23:55:29.083Z"
   },
   {
    "duration": 5,
    "start_time": "2023-06-04T23:55:51.273Z"
   },
   {
    "duration": 687,
    "start_time": "2023-06-04T23:55:53.523Z"
   },
   {
    "duration": 707,
    "start_time": "2023-06-04T23:55:58.932Z"
   },
   {
    "duration": 684,
    "start_time": "2023-06-04T23:55:59.641Z"
   },
   {
    "duration": 5,
    "start_time": "2023-06-04T23:56:04.524Z"
   },
   {
    "duration": 685,
    "start_time": "2023-06-04T23:56:06.656Z"
   },
   {
    "duration": 7,
    "start_time": "2023-06-04T23:56:12.014Z"
   },
   {
    "duration": 691,
    "start_time": "2023-06-04T23:56:14.368Z"
   },
   {
    "duration": 693,
    "start_time": "2023-06-04T23:56:17.857Z"
   },
   {
    "duration": 751,
    "start_time": "2023-06-04T23:56:20.327Z"
   },
   {
    "duration": 100,
    "start_time": "2023-06-05T00:00:13.356Z"
   },
   {
    "duration": 1012,
    "start_time": "2023-06-05T00:01:10.023Z"
   },
   {
    "duration": 381,
    "start_time": "2023-06-05T00:01:11.037Z"
   },
   {
    "duration": 3,
    "start_time": "2023-06-05T00:01:11.420Z"
   },
   {
    "duration": 386,
    "start_time": "2023-06-05T00:01:11.425Z"
   },
   {
    "duration": 40,
    "start_time": "2023-06-05T00:01:11.814Z"
   },
   {
    "duration": 73,
    "start_time": "2023-06-05T00:01:11.855Z"
   },
   {
    "duration": 5,
    "start_time": "2023-06-05T00:01:11.930Z"
   },
   {
    "duration": 14,
    "start_time": "2023-06-05T00:01:11.937Z"
   },
   {
    "duration": 465,
    "start_time": "2023-06-05T00:01:11.953Z"
   },
   {
    "duration": 533,
    "start_time": "2023-06-05T00:01:12.493Z"
   },
   {
    "duration": 809,
    "start_time": "2023-06-05T00:01:13.089Z"
   },
   {
    "duration": 9,
    "start_time": "2023-06-05T00:01:13.900Z"
   },
   {
    "duration": 106,
    "start_time": "2023-06-05T00:01:13.911Z"
   },
   {
    "duration": 32,
    "start_time": "2023-06-05T00:01:14.019Z"
   },
   {
    "duration": 18,
    "start_time": "2023-06-05T00:01:14.053Z"
   },
   {
    "duration": 55,
    "start_time": "2023-06-05T00:01:14.072Z"
   },
   {
    "duration": 22,
    "start_time": "2023-06-05T00:01:14.129Z"
   },
   {
    "duration": 41,
    "start_time": "2023-06-05T00:01:14.152Z"
   },
   {
    "duration": 26,
    "start_time": "2023-06-05T00:01:14.195Z"
   },
   {
    "duration": 776,
    "start_time": "2023-06-05T00:01:14.222Z"
   },
   {
    "duration": 686,
    "start_time": "2023-06-05T00:01:15.010Z"
   },
   {
    "duration": 765,
    "start_time": "2023-06-05T00:01:15.711Z"
   },
   {
    "duration": 5,
    "start_time": "2023-06-05T00:18:13.048Z"
   },
   {
    "duration": 844,
    "start_time": "2023-06-05T00:18:15.830Z"
   },
   {
    "duration": 6,
    "start_time": "2023-06-05T00:18:42.555Z"
   },
   {
    "duration": 704,
    "start_time": "2023-06-05T00:18:45.110Z"
   },
   {
    "duration": 5,
    "start_time": "2023-06-05T00:19:05.762Z"
   },
   {
    "duration": 700,
    "start_time": "2023-06-05T00:19:07.924Z"
   },
   {
    "duration": 6,
    "start_time": "2023-06-05T00:19:36.035Z"
   },
   {
    "duration": 694,
    "start_time": "2023-06-05T00:19:38.233Z"
   },
   {
    "duration": 979,
    "start_time": "2023-06-05T00:27:13.469Z"
   },
   {
    "duration": 376,
    "start_time": "2023-06-05T00:27:14.450Z"
   },
   {
    "duration": 3,
    "start_time": "2023-06-05T00:27:14.828Z"
   },
   {
    "duration": 323,
    "start_time": "2023-06-05T00:27:14.832Z"
   },
   {
    "duration": 65,
    "start_time": "2023-06-05T00:27:15.157Z"
   },
   {
    "duration": 34,
    "start_time": "2023-06-05T00:27:15.224Z"
   },
   {
    "duration": 3,
    "start_time": "2023-06-05T00:27:15.260Z"
   },
   {
    "duration": 5,
    "start_time": "2023-06-05T00:27:15.265Z"
   },
   {
    "duration": 759,
    "start_time": "2023-06-05T00:27:15.271Z"
   },
   {
    "duration": 684,
    "start_time": "2023-06-05T00:27:16.032Z"
   },
   {
    "duration": 785,
    "start_time": "2023-06-05T00:27:16.718Z"
   },
   {
    "duration": 4,
    "start_time": "2023-06-05T00:27:17.518Z"
   },
   {
    "duration": 101,
    "start_time": "2023-06-05T00:27:17.530Z"
   },
   {
    "duration": 9,
    "start_time": "2023-06-05T00:27:17.633Z"
   },
   {
    "duration": 7,
    "start_time": "2023-06-05T00:27:17.644Z"
   },
   {
    "duration": 9,
    "start_time": "2023-06-05T00:27:17.652Z"
   },
   {
    "duration": 5,
    "start_time": "2023-06-05T00:27:17.663Z"
   },
   {
    "duration": 44,
    "start_time": "2023-06-05T00:27:17.670Z"
   },
   {
    "duration": 16,
    "start_time": "2023-06-05T00:27:17.715Z"
   },
   {
    "duration": 716,
    "start_time": "2023-06-05T00:27:17.733Z"
   },
   {
    "duration": 677,
    "start_time": "2023-06-05T00:27:18.451Z"
   },
   {
    "duration": 704,
    "start_time": "2023-06-05T00:27:19.129Z"
   },
   {
    "duration": 1114,
    "start_time": "2023-06-05T21:12:50.369Z"
   },
   {
    "duration": 1610,
    "start_time": "2023-06-05T21:12:51.486Z"
   },
   {
    "duration": 4,
    "start_time": "2023-06-05T21:12:53.098Z"
   },
   {
    "duration": 537,
    "start_time": "2023-06-05T21:12:53.104Z"
   },
   {
    "duration": 48,
    "start_time": "2023-06-05T21:12:53.656Z"
   },
   {
    "duration": 67,
    "start_time": "2023-06-05T21:12:53.706Z"
   },
   {
    "duration": 4,
    "start_time": "2023-06-05T21:12:53.775Z"
   },
   {
    "duration": 15,
    "start_time": "2023-06-05T21:12:53.780Z"
   },
   {
    "duration": 771,
    "start_time": "2023-06-05T21:12:53.797Z"
   },
   {
    "duration": 808,
    "start_time": "2023-06-05T21:12:54.657Z"
   },
   {
    "duration": 903,
    "start_time": "2023-06-05T21:12:55.556Z"
   },
   {
    "duration": 3,
    "start_time": "2023-06-05T21:12:56.461Z"
   },
   {
    "duration": 91,
    "start_time": "2023-06-05T21:12:56.466Z"
   },
   {
    "duration": 4,
    "start_time": "2023-06-05T21:12:56.560Z"
   },
   {
    "duration": 5,
    "start_time": "2023-06-05T21:12:56.565Z"
   },
   {
    "duration": 4,
    "start_time": "2023-06-05T21:12:56.572Z"
   },
   {
    "duration": 5,
    "start_time": "2023-06-05T21:12:56.578Z"
   },
   {
    "duration": 20,
    "start_time": "2023-06-05T21:12:56.584Z"
   },
   {
    "duration": 6,
    "start_time": "2023-06-05T21:12:56.606Z"
   },
   {
    "duration": 954,
    "start_time": "2023-06-05T21:12:56.614Z"
   },
   {
    "duration": 894,
    "start_time": "2023-06-05T21:12:57.570Z"
   },
   {
    "duration": 936,
    "start_time": "2023-06-05T21:12:58.466Z"
   },
   {
    "duration": 1336,
    "start_time": "2023-06-05T21:15:41.045Z"
   },
   {
    "duration": 434,
    "start_time": "2023-06-05T21:15:42.383Z"
   },
   {
    "duration": 5,
    "start_time": "2023-06-05T21:15:42.819Z"
   },
   {
    "duration": 373,
    "start_time": "2023-06-05T21:15:42.825Z"
   },
   {
    "duration": 68,
    "start_time": "2023-06-05T21:15:43.201Z"
   },
   {
    "duration": 50,
    "start_time": "2023-06-05T21:15:43.271Z"
   },
   {
    "duration": 4,
    "start_time": "2023-06-05T21:15:43.322Z"
   },
   {
    "duration": 7,
    "start_time": "2023-06-05T21:15:43.328Z"
   },
   {
    "duration": 615,
    "start_time": "2023-06-05T21:15:43.357Z"
   },
   {
    "duration": 890,
    "start_time": "2023-06-05T21:15:43.974Z"
   },
   {
    "duration": 794,
    "start_time": "2023-06-05T21:15:44.866Z"
   },
   {
    "duration": 2,
    "start_time": "2023-06-05T21:15:45.662Z"
   },
   {
    "duration": 93,
    "start_time": "2023-06-05T21:15:45.666Z"
   },
   {
    "duration": 102,
    "start_time": "2023-06-05T21:15:45.762Z"
   },
   {
    "duration": 6,
    "start_time": "2023-06-05T21:15:45.865Z"
   },
   {
    "duration": 8,
    "start_time": "2023-06-05T21:15:45.873Z"
   },
   {
    "duration": 5,
    "start_time": "2023-06-05T21:15:45.883Z"
   },
   {
    "duration": 20,
    "start_time": "2023-06-05T21:15:45.889Z"
   },
   {
    "duration": 6,
    "start_time": "2023-06-05T21:15:45.910Z"
   },
   {
    "duration": 896,
    "start_time": "2023-06-05T21:15:45.918Z"
   },
   {
    "duration": 890,
    "start_time": "2023-06-05T21:15:46.817Z"
   },
   {
    "duration": 840,
    "start_time": "2023-06-05T21:15:47.709Z"
   },
   {
    "duration": 1070,
    "start_time": "2023-06-05T21:16:29.320Z"
   },
   {
    "duration": 411,
    "start_time": "2023-06-05T21:16:30.393Z"
   },
   {
    "duration": 4,
    "start_time": "2023-06-05T21:16:30.806Z"
   },
   {
    "duration": 406,
    "start_time": "2023-06-05T21:16:30.812Z"
   },
   {
    "duration": 67,
    "start_time": "2023-06-05T21:16:31.221Z"
   },
   {
    "duration": 75,
    "start_time": "2023-06-05T21:16:31.290Z"
   },
   {
    "duration": 4,
    "start_time": "2023-06-05T21:16:31.367Z"
   },
   {
    "duration": 56,
    "start_time": "2023-06-05T21:16:31.373Z"
   },
   {
    "duration": 731,
    "start_time": "2023-06-05T21:16:31.431Z"
   },
   {
    "duration": 994,
    "start_time": "2023-06-05T21:16:32.163Z"
   },
   {
    "duration": 1005,
    "start_time": "2023-06-05T21:16:33.159Z"
   },
   {
    "duration": 93,
    "start_time": "2023-06-05T21:16:34.166Z"
   },
   {
    "duration": 95,
    "start_time": "2023-06-05T21:16:34.262Z"
   },
   {
    "duration": 4,
    "start_time": "2023-06-05T21:16:34.360Z"
   },
   {
    "duration": 4,
    "start_time": "2023-06-05T21:16:34.366Z"
   },
   {
    "duration": 6,
    "start_time": "2023-06-05T21:16:34.372Z"
   },
   {
    "duration": 5,
    "start_time": "2023-06-05T21:16:34.380Z"
   },
   {
    "duration": 30,
    "start_time": "2023-06-05T21:16:34.387Z"
   },
   {
    "duration": 6,
    "start_time": "2023-06-05T21:16:34.419Z"
   },
   {
    "duration": 921,
    "start_time": "2023-06-05T21:16:34.426Z"
   },
   {
    "duration": 856,
    "start_time": "2023-06-05T21:16:35.349Z"
   },
   {
    "duration": 836,
    "start_time": "2023-06-05T21:16:36.207Z"
   }
  ],
  "kernelspec": {
   "display_name": "Python 3 (ipykernel)",
   "language": "python",
   "name": "python3"
  },
  "language_info": {
   "codemirror_mode": {
    "name": "ipython",
    "version": 3
   },
   "file_extension": ".py",
   "mimetype": "text/x-python",
   "name": "python",
   "nbconvert_exporter": "python",
   "pygments_lexer": "ipython3",
   "version": "3.9.5"
  },
  "toc": {
   "base_numbering": 1,
   "nav_menu": {},
   "number_sections": true,
   "sideBar": true,
   "skip_h1_title": true,
   "title_cell": "Table of Contents",
   "title_sidebar": "Contents",
   "toc_cell": false,
   "toc_position": {},
   "toc_section_display": true,
   "toc_window_display": false
  }
 },
 "nbformat": 4,
 "nbformat_minor": 2
}
