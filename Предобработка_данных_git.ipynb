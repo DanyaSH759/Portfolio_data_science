{
 "cells": [
  {
   "cell_type": "markdown",
   "id": "c32aecf9",
   "metadata": {
    "deletable": false,
    "editable": false,
    "id": "c81daeeb"
   },
   "source": [
    "# Исследование надежности заемщиков\n"
   ]
  },
  {
   "cell_type": "markdown",
   "id": "ba0ad7c3",
   "metadata": {},
   "source": [
    "\n",
    "<h2>Цель исследования:</h2>\n",
    "\n",
    ">Выявить, влияет ли количество детей у клиента, семейное положение, распологаемый доход и цели взятия кредита на факт погашения кредита в срок\n",
    "\n",
    "<h2>Описание данных:</h2>\n",
    "\n",
    "Представленный датасет платёжеспособности клиентов банка включает следующие колонки:\n",
    "\n",
    " - children — количество детей в семье \n",
    " - days_employed — общий трудовой стаж в днях\n",
    " - dob_years — возраст клиента в годах\n",
    " - education — уровень образования клиента\n",
    " - education_id — идентификатор уровня образования\n",
    " - family_status — семейное положение\n",
    " - family_status_id — идентификатор семейного положения\n",
    " - gender — пол клиента\n",
    " - income_type — тип занятости\n",
    " - debt — имел ли задолженность по возврату кредитов\n",
    " - total_income — ежемесячный доход\n",
    " - purpose — цель получения кредита\n",
    " \n",
    "<h2>План работ:</h2>\n",
    "\n",
    "- Изучение предоставленного датасета \n",
    "- Предобработка данных из датасета \n",
    "- Исследование данных\n",
    "\n"
   ]
  },
  {
   "cell_type": "markdown",
   "id": "fe0a1ddc",
   "metadata": {},
   "source": [
    "## Изучение общей информацию о данных"
   ]
  },
  {
   "cell_type": "code",
   "execution_count": 40,
   "id": "28fcdad2",
   "metadata": {
    "deletable": false,
    "id": "7bcf75c9"
   },
   "outputs": [],
   "source": [
    "import pandas as pd\n",
    "\n",
    "try:\n",
    "    data = pd.read_csv('data.csv')\n",
    "except:\n",
    "    data = pd.read_csv('https://code.s3.yandex.net/datasets/data.csv')\n",
    "    \n"
   ]
  },
  {
   "cell_type": "code",
   "execution_count": 41,
   "id": "42647378",
   "metadata": {
    "deletable": false,
    "id": "2a7cab99",
    "outputId": "1a8f3ef2-d323-4ec2-ddf7-89670b5944c4"
   },
   "outputs": [
    {
     "data": {
      "text/html": [
       "<div>\n",
       "<style scoped>\n",
       "    .dataframe tbody tr th:only-of-type {\n",
       "        vertical-align: middle;\n",
       "    }\n",
       "\n",
       "    .dataframe tbody tr th {\n",
       "        vertical-align: top;\n",
       "    }\n",
       "\n",
       "    .dataframe thead th {\n",
       "        text-align: right;\n",
       "    }\n",
       "</style>\n",
       "<table border=\"1\" class=\"dataframe\">\n",
       "  <thead>\n",
       "    <tr style=\"text-align: right;\">\n",
       "      <th></th>\n",
       "      <th>children</th>\n",
       "      <th>days_employed</th>\n",
       "      <th>dob_years</th>\n",
       "      <th>education</th>\n",
       "      <th>education_id</th>\n",
       "      <th>family_status</th>\n",
       "      <th>family_status_id</th>\n",
       "      <th>gender</th>\n",
       "      <th>income_type</th>\n",
       "      <th>debt</th>\n",
       "      <th>total_income</th>\n",
       "      <th>purpose</th>\n",
       "    </tr>\n",
       "  </thead>\n",
       "  <tbody>\n",
       "    <tr>\n",
       "      <th>0</th>\n",
       "      <td>1</td>\n",
       "      <td>-8437.673028</td>\n",
       "      <td>42</td>\n",
       "      <td>высшее</td>\n",
       "      <td>0</td>\n",
       "      <td>женат / замужем</td>\n",
       "      <td>0</td>\n",
       "      <td>F</td>\n",
       "      <td>сотрудник</td>\n",
       "      <td>0</td>\n",
       "      <td>253875.639453</td>\n",
       "      <td>покупка жилья</td>\n",
       "    </tr>\n",
       "    <tr>\n",
       "      <th>1</th>\n",
       "      <td>1</td>\n",
       "      <td>-4024.803754</td>\n",
       "      <td>36</td>\n",
       "      <td>среднее</td>\n",
       "      <td>1</td>\n",
       "      <td>женат / замужем</td>\n",
       "      <td>0</td>\n",
       "      <td>F</td>\n",
       "      <td>сотрудник</td>\n",
       "      <td>0</td>\n",
       "      <td>112080.014102</td>\n",
       "      <td>приобретение автомобиля</td>\n",
       "    </tr>\n",
       "    <tr>\n",
       "      <th>2</th>\n",
       "      <td>0</td>\n",
       "      <td>-5623.422610</td>\n",
       "      <td>33</td>\n",
       "      <td>Среднее</td>\n",
       "      <td>1</td>\n",
       "      <td>женат / замужем</td>\n",
       "      <td>0</td>\n",
       "      <td>M</td>\n",
       "      <td>сотрудник</td>\n",
       "      <td>0</td>\n",
       "      <td>145885.952297</td>\n",
       "      <td>покупка жилья</td>\n",
       "    </tr>\n",
       "    <tr>\n",
       "      <th>3</th>\n",
       "      <td>3</td>\n",
       "      <td>-4124.747207</td>\n",
       "      <td>32</td>\n",
       "      <td>среднее</td>\n",
       "      <td>1</td>\n",
       "      <td>женат / замужем</td>\n",
       "      <td>0</td>\n",
       "      <td>M</td>\n",
       "      <td>сотрудник</td>\n",
       "      <td>0</td>\n",
       "      <td>267628.550329</td>\n",
       "      <td>дополнительное образование</td>\n",
       "    </tr>\n",
       "    <tr>\n",
       "      <th>4</th>\n",
       "      <td>0</td>\n",
       "      <td>340266.072047</td>\n",
       "      <td>53</td>\n",
       "      <td>среднее</td>\n",
       "      <td>1</td>\n",
       "      <td>гражданский брак</td>\n",
       "      <td>1</td>\n",
       "      <td>F</td>\n",
       "      <td>пенсионер</td>\n",
       "      <td>0</td>\n",
       "      <td>158616.077870</td>\n",
       "      <td>сыграть свадьбу</td>\n",
       "    </tr>\n",
       "    <tr>\n",
       "      <th>5</th>\n",
       "      <td>0</td>\n",
       "      <td>-926.185831</td>\n",
       "      <td>27</td>\n",
       "      <td>высшее</td>\n",
       "      <td>0</td>\n",
       "      <td>гражданский брак</td>\n",
       "      <td>1</td>\n",
       "      <td>M</td>\n",
       "      <td>компаньон</td>\n",
       "      <td>0</td>\n",
       "      <td>255763.565419</td>\n",
       "      <td>покупка жилья</td>\n",
       "    </tr>\n",
       "    <tr>\n",
       "      <th>6</th>\n",
       "      <td>0</td>\n",
       "      <td>-2879.202052</td>\n",
       "      <td>43</td>\n",
       "      <td>высшее</td>\n",
       "      <td>0</td>\n",
       "      <td>женат / замужем</td>\n",
       "      <td>0</td>\n",
       "      <td>F</td>\n",
       "      <td>компаньон</td>\n",
       "      <td>0</td>\n",
       "      <td>240525.971920</td>\n",
       "      <td>операции с жильем</td>\n",
       "    </tr>\n",
       "    <tr>\n",
       "      <th>7</th>\n",
       "      <td>0</td>\n",
       "      <td>-152.779569</td>\n",
       "      <td>50</td>\n",
       "      <td>СРЕДНЕЕ</td>\n",
       "      <td>1</td>\n",
       "      <td>женат / замужем</td>\n",
       "      <td>0</td>\n",
       "      <td>M</td>\n",
       "      <td>сотрудник</td>\n",
       "      <td>0</td>\n",
       "      <td>135823.934197</td>\n",
       "      <td>образование</td>\n",
       "    </tr>\n",
       "    <tr>\n",
       "      <th>8</th>\n",
       "      <td>2</td>\n",
       "      <td>-6929.865299</td>\n",
       "      <td>35</td>\n",
       "      <td>ВЫСШЕЕ</td>\n",
       "      <td>0</td>\n",
       "      <td>гражданский брак</td>\n",
       "      <td>1</td>\n",
       "      <td>F</td>\n",
       "      <td>сотрудник</td>\n",
       "      <td>0</td>\n",
       "      <td>95856.832424</td>\n",
       "      <td>на проведение свадьбы</td>\n",
       "    </tr>\n",
       "    <tr>\n",
       "      <th>9</th>\n",
       "      <td>0</td>\n",
       "      <td>-2188.756445</td>\n",
       "      <td>41</td>\n",
       "      <td>среднее</td>\n",
       "      <td>1</td>\n",
       "      <td>женат / замужем</td>\n",
       "      <td>0</td>\n",
       "      <td>M</td>\n",
       "      <td>сотрудник</td>\n",
       "      <td>0</td>\n",
       "      <td>144425.938277</td>\n",
       "      <td>покупка жилья для семьи</td>\n",
       "    </tr>\n",
       "    <tr>\n",
       "      <th>10</th>\n",
       "      <td>2</td>\n",
       "      <td>-4171.483647</td>\n",
       "      <td>36</td>\n",
       "      <td>высшее</td>\n",
       "      <td>0</td>\n",
       "      <td>женат / замужем</td>\n",
       "      <td>0</td>\n",
       "      <td>M</td>\n",
       "      <td>компаньон</td>\n",
       "      <td>0</td>\n",
       "      <td>113943.491460</td>\n",
       "      <td>покупка недвижимости</td>\n",
       "    </tr>\n",
       "    <tr>\n",
       "      <th>11</th>\n",
       "      <td>0</td>\n",
       "      <td>-792.701887</td>\n",
       "      <td>40</td>\n",
       "      <td>среднее</td>\n",
       "      <td>1</td>\n",
       "      <td>женат / замужем</td>\n",
       "      <td>0</td>\n",
       "      <td>F</td>\n",
       "      <td>сотрудник</td>\n",
       "      <td>0</td>\n",
       "      <td>77069.234271</td>\n",
       "      <td>покупка коммерческой недвижимости</td>\n",
       "    </tr>\n",
       "    <tr>\n",
       "      <th>12</th>\n",
       "      <td>0</td>\n",
       "      <td>NaN</td>\n",
       "      <td>65</td>\n",
       "      <td>среднее</td>\n",
       "      <td>1</td>\n",
       "      <td>гражданский брак</td>\n",
       "      <td>1</td>\n",
       "      <td>M</td>\n",
       "      <td>пенсионер</td>\n",
       "      <td>0</td>\n",
       "      <td>NaN</td>\n",
       "      <td>сыграть свадьбу</td>\n",
       "    </tr>\n",
       "    <tr>\n",
       "      <th>13</th>\n",
       "      <td>0</td>\n",
       "      <td>-1846.641941</td>\n",
       "      <td>54</td>\n",
       "      <td>неоконченное высшее</td>\n",
       "      <td>2</td>\n",
       "      <td>женат / замужем</td>\n",
       "      <td>0</td>\n",
       "      <td>F</td>\n",
       "      <td>сотрудник</td>\n",
       "      <td>0</td>\n",
       "      <td>130458.228857</td>\n",
       "      <td>приобретение автомобиля</td>\n",
       "    </tr>\n",
       "    <tr>\n",
       "      <th>14</th>\n",
       "      <td>0</td>\n",
       "      <td>-1844.956182</td>\n",
       "      <td>56</td>\n",
       "      <td>высшее</td>\n",
       "      <td>0</td>\n",
       "      <td>гражданский брак</td>\n",
       "      <td>1</td>\n",
       "      <td>F</td>\n",
       "      <td>компаньон</td>\n",
       "      <td>1</td>\n",
       "      <td>165127.911772</td>\n",
       "      <td>покупка жилой недвижимости</td>\n",
       "    </tr>\n",
       "    <tr>\n",
       "      <th>15</th>\n",
       "      <td>1</td>\n",
       "      <td>-972.364419</td>\n",
       "      <td>26</td>\n",
       "      <td>среднее</td>\n",
       "      <td>1</td>\n",
       "      <td>женат / замужем</td>\n",
       "      <td>0</td>\n",
       "      <td>F</td>\n",
       "      <td>сотрудник</td>\n",
       "      <td>0</td>\n",
       "      <td>116820.904450</td>\n",
       "      <td>строительство собственной недвижимости</td>\n",
       "    </tr>\n",
       "    <tr>\n",
       "      <th>16</th>\n",
       "      <td>0</td>\n",
       "      <td>-1719.934226</td>\n",
       "      <td>35</td>\n",
       "      <td>среднее</td>\n",
       "      <td>1</td>\n",
       "      <td>женат / замужем</td>\n",
       "      <td>0</td>\n",
       "      <td>F</td>\n",
       "      <td>сотрудник</td>\n",
       "      <td>0</td>\n",
       "      <td>289202.704229</td>\n",
       "      <td>недвижимость</td>\n",
       "    </tr>\n",
       "    <tr>\n",
       "      <th>17</th>\n",
       "      <td>0</td>\n",
       "      <td>-2369.999720</td>\n",
       "      <td>33</td>\n",
       "      <td>высшее</td>\n",
       "      <td>0</td>\n",
       "      <td>гражданский брак</td>\n",
       "      <td>1</td>\n",
       "      <td>M</td>\n",
       "      <td>сотрудник</td>\n",
       "      <td>0</td>\n",
       "      <td>90410.586745</td>\n",
       "      <td>строительство недвижимости</td>\n",
       "    </tr>\n",
       "    <tr>\n",
       "      <th>18</th>\n",
       "      <td>0</td>\n",
       "      <td>400281.136913</td>\n",
       "      <td>53</td>\n",
       "      <td>среднее</td>\n",
       "      <td>1</td>\n",
       "      <td>вдовец / вдова</td>\n",
       "      <td>2</td>\n",
       "      <td>F</td>\n",
       "      <td>пенсионер</td>\n",
       "      <td>0</td>\n",
       "      <td>56823.777243</td>\n",
       "      <td>на покупку подержанного автомобиля</td>\n",
       "    </tr>\n",
       "    <tr>\n",
       "      <th>19</th>\n",
       "      <td>0</td>\n",
       "      <td>-10038.818549</td>\n",
       "      <td>48</td>\n",
       "      <td>СРЕДНЕЕ</td>\n",
       "      <td>1</td>\n",
       "      <td>в разводе</td>\n",
       "      <td>3</td>\n",
       "      <td>F</td>\n",
       "      <td>сотрудник</td>\n",
       "      <td>0</td>\n",
       "      <td>242831.107982</td>\n",
       "      <td>на покупку своего автомобиля</td>\n",
       "    </tr>\n",
       "  </tbody>\n",
       "</table>\n",
       "</div>"
      ],
      "text/plain": [
       "    children  days_employed  dob_years            education  education_id  \\\n",
       "0          1   -8437.673028         42               высшее             0   \n",
       "1          1   -4024.803754         36              среднее             1   \n",
       "2          0   -5623.422610         33              Среднее             1   \n",
       "3          3   -4124.747207         32              среднее             1   \n",
       "4          0  340266.072047         53              среднее             1   \n",
       "5          0    -926.185831         27               высшее             0   \n",
       "6          0   -2879.202052         43               высшее             0   \n",
       "7          0    -152.779569         50              СРЕДНЕЕ             1   \n",
       "8          2   -6929.865299         35               ВЫСШЕЕ             0   \n",
       "9          0   -2188.756445         41              среднее             1   \n",
       "10         2   -4171.483647         36               высшее             0   \n",
       "11         0    -792.701887         40              среднее             1   \n",
       "12         0            NaN         65              среднее             1   \n",
       "13         0   -1846.641941         54  неоконченное высшее             2   \n",
       "14         0   -1844.956182         56               высшее             0   \n",
       "15         1    -972.364419         26              среднее             1   \n",
       "16         0   -1719.934226         35              среднее             1   \n",
       "17         0   -2369.999720         33               высшее             0   \n",
       "18         0  400281.136913         53              среднее             1   \n",
       "19         0  -10038.818549         48              СРЕДНЕЕ             1   \n",
       "\n",
       "       family_status  family_status_id gender income_type  debt  \\\n",
       "0    женат / замужем                 0      F   сотрудник     0   \n",
       "1    женат / замужем                 0      F   сотрудник     0   \n",
       "2    женат / замужем                 0      M   сотрудник     0   \n",
       "3    женат / замужем                 0      M   сотрудник     0   \n",
       "4   гражданский брак                 1      F   пенсионер     0   \n",
       "5   гражданский брак                 1      M   компаньон     0   \n",
       "6    женат / замужем                 0      F   компаньон     0   \n",
       "7    женат / замужем                 0      M   сотрудник     0   \n",
       "8   гражданский брак                 1      F   сотрудник     0   \n",
       "9    женат / замужем                 0      M   сотрудник     0   \n",
       "10   женат / замужем                 0      M   компаньон     0   \n",
       "11   женат / замужем                 0      F   сотрудник     0   \n",
       "12  гражданский брак                 1      M   пенсионер     0   \n",
       "13   женат / замужем                 0      F   сотрудник     0   \n",
       "14  гражданский брак                 1      F   компаньон     1   \n",
       "15   женат / замужем                 0      F   сотрудник     0   \n",
       "16   женат / замужем                 0      F   сотрудник     0   \n",
       "17  гражданский брак                 1      M   сотрудник     0   \n",
       "18    вдовец / вдова                 2      F   пенсионер     0   \n",
       "19         в разводе                 3      F   сотрудник     0   \n",
       "\n",
       "     total_income                                 purpose  \n",
       "0   253875.639453                           покупка жилья  \n",
       "1   112080.014102                 приобретение автомобиля  \n",
       "2   145885.952297                           покупка жилья  \n",
       "3   267628.550329              дополнительное образование  \n",
       "4   158616.077870                         сыграть свадьбу  \n",
       "5   255763.565419                           покупка жилья  \n",
       "6   240525.971920                       операции с жильем  \n",
       "7   135823.934197                             образование  \n",
       "8    95856.832424                   на проведение свадьбы  \n",
       "9   144425.938277                 покупка жилья для семьи  \n",
       "10  113943.491460                    покупка недвижимости  \n",
       "11   77069.234271       покупка коммерческой недвижимости  \n",
       "12            NaN                         сыграть свадьбу  \n",
       "13  130458.228857                 приобретение автомобиля  \n",
       "14  165127.911772              покупка жилой недвижимости  \n",
       "15  116820.904450  строительство собственной недвижимости  \n",
       "16  289202.704229                            недвижимость  \n",
       "17   90410.586745              строительство недвижимости  \n",
       "18   56823.777243      на покупку подержанного автомобиля  \n",
       "19  242831.107982            на покупку своего автомобиля  "
      ]
     },
     "execution_count": 41,
     "metadata": {},
     "output_type": "execute_result"
    }
   ],
   "source": [
    "data.head(20)"
   ]
  },
  {
   "cell_type": "code",
   "execution_count": 42,
   "id": "af3ce5fc",
   "metadata": {
    "deletable": false,
    "id": "2b757bca",
    "outputId": "15376089-8dad-46c9-b520-c05248d43158"
   },
   "outputs": [
    {
     "name": "stdout",
     "output_type": "stream",
     "text": [
      "<class 'pandas.core.frame.DataFrame'>\n",
      "RangeIndex: 21525 entries, 0 to 21524\n",
      "Data columns (total 12 columns):\n",
      " #   Column            Non-Null Count  Dtype  \n",
      "---  ------            --------------  -----  \n",
      " 0   children          21525 non-null  int64  \n",
      " 1   days_employed     19351 non-null  float64\n",
      " 2   dob_years         21525 non-null  int64  \n",
      " 3   education         21525 non-null  object \n",
      " 4   education_id      21525 non-null  int64  \n",
      " 5   family_status     21525 non-null  object \n",
      " 6   family_status_id  21525 non-null  int64  \n",
      " 7   gender            21525 non-null  object \n",
      " 8   income_type       21525 non-null  object \n",
      " 9   debt              21525 non-null  int64  \n",
      " 10  total_income      19351 non-null  float64\n",
      " 11  purpose           21525 non-null  object \n",
      "dtypes: float64(2), int64(5), object(5)\n",
      "memory usage: 2.0+ MB\n"
     ]
    }
   ],
   "source": [
    "data.info()"
   ]
  },
  {
   "cell_type": "markdown",
   "id": "c5382ade",
   "metadata": {},
   "source": [
    "**Вывод:** По результатом первичного просмотра данных известно, что в датасете 21525 строчка. Обнаружены пропуски в данных для колонки  days_employed и total_income. Так же необходимо перевести тип данных в колонке total_income на 'int' в целях удобного использования и просмотра данных.\n"
   ]
  },
  {
   "cell_type": "markdown",
   "id": "1e371709",
   "metadata": {},
   "source": [
    "## Предобработка данных"
   ]
  },
  {
   "cell_type": "markdown",
   "id": "215a1dc4",
   "metadata": {
    "deletable": false,
    "editable": false,
    "id": "02d92d53"
   },
   "source": [
    "### Удаление пропусков"
   ]
  },
  {
   "cell_type": "code",
   "execution_count": 43,
   "id": "a7001b42",
   "metadata": {
    "deletable": false,
    "id": "7f9b2309",
    "outputId": "81f4d817-781c-465c-ed15-91ce4446810d"
   },
   "outputs": [
    {
     "data": {
      "text/plain": [
       "children               0\n",
       "days_employed       2174\n",
       "dob_years              0\n",
       "education              0\n",
       "education_id           0\n",
       "family_status          0\n",
       "family_status_id       0\n",
       "gender                 0\n",
       "income_type            0\n",
       "debt                   0\n",
       "total_income        2174\n",
       "purpose                0\n",
       "dtype: int64"
      ]
     },
     "execution_count": 43,
     "metadata": {},
     "output_type": "execute_result"
    }
   ],
   "source": [
    "data.isna().sum()"
   ]
  },
  {
   "cell_type": "code",
   "execution_count": 44,
   "id": "fcf36c86",
   "metadata": {
    "deletable": false,
    "id": "42006a93"
   },
   "outputs": [],
   "source": [
    "for t in data['income_type'].unique():\n",
    "    data.loc[(data['income_type'] == t) & (data['total_income'].isna()), 'total_income'] = \\\n",
    "    data.loc[(data['income_type'] == t), 'total_income'].median()"
   ]
  },
  {
   "cell_type": "markdown",
   "id": "d1402a69",
   "metadata": {
    "deletable": false,
    "editable": false,
    "id": "89da5ece"
   },
   "source": [
    "### Обработка аномальных значений"
   ]
  },
  {
   "cell_type": "code",
   "execution_count": 45,
   "id": "5430390d",
   "metadata": {
    "deletable": false,
    "id": "f6f055bf"
   },
   "outputs": [],
   "source": [
    "data['days_employed'] = data['days_employed'].abs()"
   ]
  },
  {
   "cell_type": "code",
   "execution_count": 46,
   "id": "4d2e5d18",
   "metadata": {
    "deletable": false,
    "id": "85a5faf6",
    "outputId": "801ef80e-522b-4668-f34e-565af7432bcf"
   },
   "outputs": [
    {
     "data": {
      "text/plain": [
       "income_type\n",
       "безработный        366413.652744\n",
       "в декрете            3296.759962\n",
       "госслужащий          2689.368353\n",
       "компаньон            1547.382223\n",
       "пенсионер          365213.306266\n",
       "предприниматель       520.848083\n",
       "сотрудник            1574.202821\n",
       "студент               578.751554\n",
       "Name: days_employed, dtype: float64"
      ]
     },
     "execution_count": 46,
     "metadata": {},
     "output_type": "execute_result"
    }
   ],
   "source": [
    "data.groupby('income_type')['days_employed'].agg('median')"
   ]
  },
  {
   "cell_type": "markdown",
   "id": "7e232b7a",
   "metadata": {
    "deletable": false,
    "editable": false,
    "id": "38d1a030"
   },
   "source": [
    "У двух типов (безработные и пенсионеры) получатся аномально большие значения. Исправить такие значения сложно, поэтому оставьте их как есть. Тем более этот столбец не понадобится вам для исследования."
   ]
  },
  {
   "cell_type": "code",
   "execution_count": 47,
   "id": "0089c131",
   "metadata": {
    "deletable": false,
    "id": "ef5056eb",
    "outputId": "6975b15c-7f95-4697-d16d-a0c79b657b03"
   },
   "outputs": [
    {
     "data": {
      "text/plain": [
       "array([ 1,  0,  3,  2, -1,  4, 20,  5], dtype=int64)"
      ]
     },
     "execution_count": 47,
     "metadata": {},
     "output_type": "execute_result"
    }
   ],
   "source": [
    "data['children'].unique()"
   ]
  },
  {
   "cell_type": "code",
   "execution_count": 48,
   "id": "1e62d509",
   "metadata": {
    "deletable": false,
    "id": "3ff9801d"
   },
   "outputs": [],
   "source": [
    "data = data[(data['children'] != -1) & (data['children'] != 20)]"
   ]
  },
  {
   "cell_type": "code",
   "execution_count": 49,
   "id": "2a233e3c",
   "metadata": {
    "deletable": false,
    "id": "ad4fa8b7",
    "outputId": "b2097101-d49d-44d9-901b-32a65c9463d1"
   },
   "outputs": [
    {
     "data": {
      "text/plain": [
       "array([1, 0, 3, 2, 4, 5], dtype=int64)"
      ]
     },
     "execution_count": 49,
     "metadata": {},
     "output_type": "execute_result"
    }
   ],
   "source": [
    "data['children'].unique()"
   ]
  },
  {
   "cell_type": "markdown",
   "id": "2ce8bee7",
   "metadata": {},
   "source": [
    "### Удаление пропусков (продолжение)"
   ]
  },
  {
   "cell_type": "code",
   "execution_count": 50,
   "id": "13d491b4",
   "metadata": {
    "deletable": false,
    "id": "af6b1a7e"
   },
   "outputs": [],
   "source": [
    "for t in data['income_type'].unique():\n",
    "    data.loc[(data['income_type'] == t) & (data['days_employed'].isna()), 'days_employed'] = \\\n",
    "    data.loc[(data['income_type'] == t), 'days_employed'].median()"
   ]
  },
  {
   "cell_type": "code",
   "execution_count": 51,
   "id": "76c442a8",
   "metadata": {
    "deletable": false,
    "id": "55f78bc2",
    "outputId": "8da1e4e1-358e-4e87-98c9-f261bce0a7b2"
   },
   "outputs": [
    {
     "data": {
      "text/plain": [
       "children            0\n",
       "days_employed       0\n",
       "dob_years           0\n",
       "education           0\n",
       "education_id        0\n",
       "family_status       0\n",
       "family_status_id    0\n",
       "gender              0\n",
       "income_type         0\n",
       "debt                0\n",
       "total_income        0\n",
       "purpose             0\n",
       "dtype: int64"
      ]
     },
     "execution_count": 51,
     "metadata": {},
     "output_type": "execute_result"
    }
   ],
   "source": [
    "data.isna().sum()"
   ]
  },
  {
   "cell_type": "markdown",
   "id": "393908f4",
   "metadata": {},
   "source": [
    "### Изменение типов данных"
   ]
  },
  {
   "cell_type": "code",
   "execution_count": 52,
   "id": "9ad9b6fd",
   "metadata": {
    "deletable": false,
    "id": "920b65ad"
   },
   "outputs": [],
   "source": [
    "data['total_income'] = data['total_income'].astype(int)"
   ]
  },
  {
   "cell_type": "markdown",
   "id": "d24fb72b",
   "metadata": {},
   "source": [
    "### Обработка дубликатов"
   ]
  },
  {
   "cell_type": "code",
   "execution_count": 53,
   "id": "6fd06607",
   "metadata": {
    "deletable": false
   },
   "outputs": [],
   "source": [
    "data['education'] = data['education'].str.lower()"
   ]
  },
  {
   "cell_type": "code",
   "execution_count": 54,
   "id": "11067513",
   "metadata": {
    "deletable": false,
    "id": "3ee445e4",
    "outputId": "9684deba-1934-42d1-99e1-cda61740f822"
   },
   "outputs": [
    {
     "data": {
      "text/plain": [
       "71"
      ]
     },
     "execution_count": 54,
     "metadata": {},
     "output_type": "execute_result"
    }
   ],
   "source": [
    "data.duplicated().sum()"
   ]
  },
  {
   "cell_type": "code",
   "execution_count": 55,
   "id": "f417da16",
   "metadata": {
    "deletable": false,
    "id": "8575fe05"
   },
   "outputs": [],
   "source": [
    "data = data.drop_duplicates()"
   ]
  },
  {
   "cell_type": "markdown",
   "id": "b5415fa9",
   "metadata": {},
   "source": [
    "### Категоризация данных"
   ]
  },
  {
   "cell_type": "markdown",
   "id": "02f1a727",
   "metadata": {},
   "source": [
    "На основании диапазонов, указанных ниже, создадим столбец `total_income_category` с категориями:**\n",
    "\n",
    "- 0–30000 — `'E'`;\n",
    "- 30001–50000 — `'D'`;\n",
    "- 50001–200000 — `'C'`;\n",
    "- 200001–1000000 — `'B'`;\n",
    "- 1000001 и выше — `'A'`."
   ]
  },
  {
   "cell_type": "code",
   "execution_count": 56,
   "id": "fd4ae80c",
   "metadata": {
    "deletable": false,
    "id": "e1771346"
   },
   "outputs": [],
   "source": [
    "def categorize_income(income):\n",
    "    try:\n",
    "        if 0 <= income <= 30000:\n",
    "            return 'E'\n",
    "        elif 30001 <= income <= 50000:\n",
    "            return 'D'\n",
    "        elif 50001 <= income <= 200000:\n",
    "            return 'C'\n",
    "        elif 200001 <= income <= 1000000:\n",
    "            return 'B'\n",
    "        elif income >= 1000001:\n",
    "            return 'A'\n",
    "    except:\n",
    "        pass"
   ]
  },
  {
   "cell_type": "code",
   "execution_count": 57,
   "id": "8ea0186c",
   "metadata": {
    "deletable": false,
    "id": "d5f3586d"
   },
   "outputs": [],
   "source": [
    "data['total_income_category'] = data['total_income'].apply(categorize_income)"
   ]
  },
  {
   "cell_type": "code",
   "execution_count": 58,
   "id": "dd3dec1c",
   "metadata": {
    "deletable": false,
    "id": "f67ce9b3",
    "outputId": "673c12d9-7d7e-4ae0-9812-c622c89dd244"
   },
   "outputs": [
    {
     "data": {
      "text/plain": [
       "array(['покупка жилья', 'приобретение автомобиля',\n",
       "       'дополнительное образование', 'сыграть свадьбу',\n",
       "       'операции с жильем', 'образование', 'на проведение свадьбы',\n",
       "       'покупка жилья для семьи', 'покупка недвижимости',\n",
       "       'покупка коммерческой недвижимости', 'покупка жилой недвижимости',\n",
       "       'строительство собственной недвижимости', 'недвижимость',\n",
       "       'строительство недвижимости', 'на покупку подержанного автомобиля',\n",
       "       'на покупку своего автомобиля',\n",
       "       'операции с коммерческой недвижимостью',\n",
       "       'строительство жилой недвижимости', 'жилье',\n",
       "       'операции со своей недвижимостью', 'автомобили',\n",
       "       'заняться образованием', 'сделка с подержанным автомобилем',\n",
       "       'получение образования', 'автомобиль', 'свадьба',\n",
       "       'получение дополнительного образования', 'покупка своего жилья',\n",
       "       'операции с недвижимостью', 'получение высшего образования',\n",
       "       'свой автомобиль', 'сделка с автомобилем',\n",
       "       'профильное образование', 'высшее образование',\n",
       "       'покупка жилья для сдачи', 'на покупку автомобиля', 'ремонт жилью',\n",
       "       'заняться высшим образованием'], dtype=object)"
      ]
     },
     "execution_count": 58,
     "metadata": {},
     "output_type": "execute_result"
    }
   ],
   "source": [
    "data['purpose'].unique()"
   ]
  },
  {
   "cell_type": "markdown",
   "id": "bb019137",
   "metadata": {},
   "source": [
    "Создадим функцию, которая на основании данных из столбца `purpose` сформирует новый столбец `purpose_category`, в который войдут следующие категории:**\n",
    "\n",
    "- `'операции с автомобилем'`,\n",
    "- `'операции с недвижимостью'`,\n",
    "- `'проведение свадьбы'`,\n",
    "- `'получение образования'`."
   ]
  },
  {
   "cell_type": "code",
   "execution_count": 59,
   "id": "76342bea",
   "metadata": {
    "deletable": false,
    "id": "e149fab4"
   },
   "outputs": [],
   "source": [
    "def categorize_purpose(row):\n",
    "    try:\n",
    "        if 'автом' in row:\n",
    "            return 'операции с автомобилем'\n",
    "        elif 'жил' in row or 'недвиж' in row:\n",
    "            return 'операции с недвижимостью'\n",
    "        elif 'свад' in row:\n",
    "            return 'проведение свадьбы'\n",
    "        elif 'образов' in row:\n",
    "            return 'получение образования'\n",
    "    except:\n",
    "        return 'нет категории'"
   ]
  },
  {
   "cell_type": "code",
   "execution_count": 60,
   "id": "c388c27a",
   "metadata": {
    "deletable": false,
    "id": "bf36e69b"
   },
   "outputs": [],
   "source": [
    "data['purpose_category'] = data['purpose'].apply(categorize_purpose)"
   ]
  },
  {
   "cell_type": "markdown",
   "id": "47fb15c4",
   "metadata": {},
   "source": [
    "\n",
    "**Вывод:** Было обнаружено 2174 пропущенных значений в столбце 'total_income' и 'days_employed'. Пропущенные значения были заменены медианными значениями. Были удалены аномалии в столбце 'children', где присутстовавали значения -1 и 20.\n",
    "Удален 71 дубликат строчек в датасете и созданы отдельные новые колонки с 'total_income_category' с присвоеными значениями дохода в зависимости от столбца total_income и столбец 'purpose_category' с категориями целей взятия кредита.\n"
   ]
  },
  {
   "cell_type": "markdown",
   "id": "ea570e82",
   "metadata": {},
   "source": [
    "### Исследование данных"
   ]
  },
  {
   "cell_type": "markdown",
   "id": "0152913a",
   "metadata": {},
   "source": [
    "#### Есть ли зависимость между количеством детей и возвратом кредита в срок?"
   ]
  },
  {
   "cell_type": "code",
   "execution_count": 61,
   "id": "2c7c2f89",
   "metadata": {
    "deletable": false,
    "id": "2cacfc4a"
   },
   "outputs": [
    {
     "data": {
      "text/html": [
       "<div>\n",
       "<style scoped>\n",
       "    .dataframe tbody tr th:only-of-type {\n",
       "        vertical-align: middle;\n",
       "    }\n",
       "\n",
       "    .dataframe tbody tr th {\n",
       "        vertical-align: top;\n",
       "    }\n",
       "\n",
       "    .dataframe thead tr th {\n",
       "        text-align: left;\n",
       "    }\n",
       "\n",
       "    .dataframe thead tr:last-of-type th {\n",
       "        text-align: right;\n",
       "    }\n",
       "</style>\n",
       "<table border=\"1\" class=\"dataframe\">\n",
       "  <thead>\n",
       "    <tr>\n",
       "      <th></th>\n",
       "      <th>count</th>\n",
       "      <th>sum</th>\n",
       "      <th>mean</th>\n",
       "    </tr>\n",
       "    <tr>\n",
       "      <th></th>\n",
       "      <th>debt</th>\n",
       "      <th>debt</th>\n",
       "      <th>debt</th>\n",
       "    </tr>\n",
       "    <tr>\n",
       "      <th>children</th>\n",
       "      <th></th>\n",
       "      <th></th>\n",
       "      <th></th>\n",
       "    </tr>\n",
       "  </thead>\n",
       "  <tbody>\n",
       "    <tr>\n",
       "      <th>0</th>\n",
       "      <td>14091</td>\n",
       "      <td>1063</td>\n",
       "      <td>7.54</td>\n",
       "    </tr>\n",
       "    <tr>\n",
       "      <th>1</th>\n",
       "      <td>4808</td>\n",
       "      <td>444</td>\n",
       "      <td>9.23</td>\n",
       "    </tr>\n",
       "    <tr>\n",
       "      <th>2</th>\n",
       "      <td>2052</td>\n",
       "      <td>194</td>\n",
       "      <td>9.45</td>\n",
       "    </tr>\n",
       "    <tr>\n",
       "      <th>3</th>\n",
       "      <td>330</td>\n",
       "      <td>27</td>\n",
       "      <td>8.18</td>\n",
       "    </tr>\n",
       "    <tr>\n",
       "      <th>4</th>\n",
       "      <td>41</td>\n",
       "      <td>4</td>\n",
       "      <td>9.76</td>\n",
       "    </tr>\n",
       "    <tr>\n",
       "      <th>5</th>\n",
       "      <td>9</td>\n",
       "      <td>0</td>\n",
       "      <td>0.00</td>\n",
       "    </tr>\n",
       "  </tbody>\n",
       "</table>\n",
       "</div>"
      ],
      "text/plain": [
       "          count   sum  mean\n",
       "           debt  debt  debt\n",
       "children                   \n",
       "0         14091  1063  7.54\n",
       "1          4808   444  9.23\n",
       "2          2052   194  9.45\n",
       "3           330    27  8.18\n",
       "4            41     4  9.76\n",
       "5             9     0  0.00"
      ]
     },
     "metadata": {},
     "output_type": "display_data"
    }
   ],
   "source": [
    "from matplotlib import pyplot as plt\n",
    "\n",
    "#создание сводной таблицы с подсчетом количества клиентов всего, клиентов с задолженностью в каждой группе\n",
    "# и средним значением задолженности по каждой группе \n",
    "debt_children = data.pivot_table(index = 'children', values = 'debt', aggfunc = ['count', 'sum', 'mean']) \n",
    "\n",
    "#перевод значений из колонки 'mean' в процентное отображение\n",
    "debt_children['mean'] = round(debt_children['mean'] * 100, 2)\n",
    "\n",
    "display(debt_children)\n"
   ]
  },
  {
   "cell_type": "code",
   "execution_count": 62,
   "id": "14a7f663",
   "metadata": {},
   "outputs": [
    {
     "data": {
      "image/png": "[encoded data removed]",
      "text/plain": [
       "<Figure size 640x480 with 1 Axes>"
      ]
     },
     "metadata": {},
     "output_type": "display_data"
    }
   ],
   "source": [
    "#для наглядной визуализации построим график\n",
    "x_cord = [x for x in debt_children.index]\n",
    "y_cord = [y for y in debt_children['mean']['debt']]\n",
    "\n",
    "plt.title('График возникновения задолжности в зависимости от количества детей')\n",
    "plt.xlabel('Кол-во детей')\n",
    "plt.ylabel('Кол-во людей с задолженностью')\n",
    "\n",
    "plt.grid()\n",
    "plt.plot(x_cord, y_cord)\n",
    "plt.show()"
   ]
  },
  {
   "cell_type": "markdown",
   "id": "4bb83b8b",
   "metadata": {
    "deletable": false,
    "id": "3a6b99ec"
   },
   "source": [
    "\n",
    "**Вывод:** \n",
    "Выоская доля возникновения задолженностей наблюдается у группы людей с 1, 2 и 4-мя детьми. Данные группы клиентов с большей вероятностью задержат оплату по кредиту. Аномальное значение у категории людей с 3-мя детьми, 8,18%. Данные расходятся по причине несбалансированной выборки, т.к. клиентов с 3-мя детьми всего 330 человек, в то время как клиентов у которых отсутствуют дети, есть 1 или 2 ребенка состовляет 14091, 4808 и 2052 соответственно. Для данной группы клиентов (0, 1, 2) наблюдается постепенный рост риска задолженности. Т.е количество детей влияет на риск появления задолжностей."
   ]
  },
  {
   "cell_type": "markdown",
   "id": "38cae467",
   "metadata": {},
   "source": [
    "#### Есть ли зависимость между семейным положением и возвратом кредита в срок?"
   ]
  },
  {
   "cell_type": "code",
   "execution_count": 63,
   "id": "44b0fba4",
   "metadata": {
    "deletable": false,
    "id": "dc3f7ee8"
   },
   "outputs": [
    {
     "data": {
      "text/html": [
       "<div>\n",
       "<style scoped>\n",
       "    .dataframe tbody tr th:only-of-type {\n",
       "        vertical-align: middle;\n",
       "    }\n",
       "\n",
       "    .dataframe tbody tr th {\n",
       "        vertical-align: top;\n",
       "    }\n",
       "\n",
       "    .dataframe thead tr th {\n",
       "        text-align: left;\n",
       "    }\n",
       "\n",
       "    .dataframe thead tr:last-of-type th {\n",
       "        text-align: right;\n",
       "    }\n",
       "</style>\n",
       "<table border=\"1\" class=\"dataframe\">\n",
       "  <thead>\n",
       "    <tr>\n",
       "      <th></th>\n",
       "      <th>count</th>\n",
       "      <th>sum</th>\n",
       "      <th>mean</th>\n",
       "    </tr>\n",
       "    <tr>\n",
       "      <th></th>\n",
       "      <th>debt</th>\n",
       "      <th>debt</th>\n",
       "      <th>debt</th>\n",
       "    </tr>\n",
       "    <tr>\n",
       "      <th>family_status</th>\n",
       "      <th></th>\n",
       "      <th></th>\n",
       "      <th></th>\n",
       "    </tr>\n",
       "  </thead>\n",
       "  <tbody>\n",
       "    <tr>\n",
       "      <th>Не женат / не замужем</th>\n",
       "      <td>2796</td>\n",
       "      <td>273</td>\n",
       "      <td>9.76</td>\n",
       "    </tr>\n",
       "    <tr>\n",
       "      <th>в разводе</th>\n",
       "      <td>1189</td>\n",
       "      <td>84</td>\n",
       "      <td>7.06</td>\n",
       "    </tr>\n",
       "    <tr>\n",
       "      <th>вдовец / вдова</th>\n",
       "      <td>951</td>\n",
       "      <td>63</td>\n",
       "      <td>6.62</td>\n",
       "    </tr>\n",
       "    <tr>\n",
       "      <th>гражданский брак</th>\n",
       "      <td>4134</td>\n",
       "      <td>385</td>\n",
       "      <td>9.31</td>\n",
       "    </tr>\n",
       "    <tr>\n",
       "      <th>женат / замужем</th>\n",
       "      <td>12261</td>\n",
       "      <td>927</td>\n",
       "      <td>7.56</td>\n",
       "    </tr>\n",
       "  </tbody>\n",
       "</table>\n",
       "</div>"
      ],
      "text/plain": [
       "                       count  sum  mean\n",
       "                        debt debt  debt\n",
       "family_status                          \n",
       "Не женат / не замужем   2796  273  9.76\n",
       "в разводе               1189   84  7.06\n",
       "вдовец / вдова           951   63  6.62\n",
       "гражданский брак        4134  385  9.31\n",
       "женат / замужем        12261  927  7.56"
      ]
     },
     "metadata": {},
     "output_type": "display_data"
    }
   ],
   "source": [
    "#создание сводной таблицы с подсчетом количества клиентов всего, клиентов с задолженностью в каждой группе\n",
    "# и средним значением задолженности по каждой группе \n",
    "debt_family = data.pivot_table(index = 'family_status', values = 'debt', aggfunc = ['count', 'sum', 'mean']) \n",
    "\n",
    "#перевод значений из колонки 'mean' в процентное отображение\n",
    "debt_family['mean'] = round(debt_family['mean'] * 100, 2)\n",
    "\n",
    "display(debt_family)\n",
    "\n"
   ]
  },
  {
   "cell_type": "code",
   "execution_count": 64,
   "id": "bc093892",
   "metadata": {},
   "outputs": [
    {
     "data": {
      "image/png": "[encoded data removed]",
      "text/plain": [
       "<Figure size 640x480 with 1 Axes>"
      ]
     },
     "metadata": {},
     "output_type": "display_data"
    }
   ],
   "source": [
    "#для наглядной визуализации построим график\n",
    "debt_family_sort = debt_family['mean'].sort_values(by = 'debt')\n",
    "\n",
    "x_cord = [x for x in debt_family_sort.index]\n",
    "y_cord = [y for y in debt_family_sort['debt']]\n",
    "\n",
    "plt.title('Гистограмма возникновения задолжности в зависимости от семейного статуса')\n",
    "plt.xlabel('Процент задолженности по группам семейного статуса')\n",
    "plt.ylabel('Семейный статус')\n",
    "\n",
    "plt.barh(x_cord, y_cord, color = 'blue')\n",
    "plt.show()"
   ]
  },
  {
   "cell_type": "markdown",
   "id": "58fe784b",
   "metadata": {
    "deletable": false,
    "id": "1cef7837"
   },
   "source": [
    "**Вывод:** Чаще всего имеют задолженности перед банком люди состоящие в гражданском браке или не женатые/не замужем. Так же можно утверждать у что людей с семейными статусами \"в разводе\" и \"вдовец / вдова\" с меньшей вероятностью возникнет задолжность перед банком. Исходя из этого, можно утверждать что, зависимость между семейным положением и возвратом кредита в срок есть. Данная зависимость озвучивается как: люди с семейными статусами в разводе, вдовец/вдова с большей вероятностью вернут в срок кедит, чем одинокие и семейные пары."
   ]
  },
  {
   "cell_type": "markdown",
   "id": "d54244eb",
   "metadata": {},
   "source": [
    "#### Есть ли зависимость между уровнем дохода и возвратом кредита в срок?"
   ]
  },
  {
   "cell_type": "code",
   "execution_count": 65,
   "id": "aa70dbd2",
   "metadata": {
    "deletable": false,
    "id": "cd7e3720"
   },
   "outputs": [
    {
     "data": {
      "text/html": [
       "<div>\n",
       "<style scoped>\n",
       "    .dataframe tbody tr th:only-of-type {\n",
       "        vertical-align: middle;\n",
       "    }\n",
       "\n",
       "    .dataframe tbody tr th {\n",
       "        vertical-align: top;\n",
       "    }\n",
       "\n",
       "    .dataframe thead tr th {\n",
       "        text-align: left;\n",
       "    }\n",
       "\n",
       "    .dataframe thead tr:last-of-type th {\n",
       "        text-align: right;\n",
       "    }\n",
       "</style>\n",
       "<table border=\"1\" class=\"dataframe\">\n",
       "  <thead>\n",
       "    <tr>\n",
       "      <th></th>\n",
       "      <th>count</th>\n",
       "      <th>sum</th>\n",
       "      <th>mean</th>\n",
       "    </tr>\n",
       "    <tr>\n",
       "      <th></th>\n",
       "      <th>debt</th>\n",
       "      <th>debt</th>\n",
       "      <th>debt</th>\n",
       "    </tr>\n",
       "    <tr>\n",
       "      <th>total_income_category</th>\n",
       "      <th></th>\n",
       "      <th></th>\n",
       "      <th></th>\n",
       "    </tr>\n",
       "  </thead>\n",
       "  <tbody>\n",
       "    <tr>\n",
       "      <th>A</th>\n",
       "      <td>25</td>\n",
       "      <td>2</td>\n",
       "      <td>8.00</td>\n",
       "    </tr>\n",
       "    <tr>\n",
       "      <th>B</th>\n",
       "      <td>5014</td>\n",
       "      <td>354</td>\n",
       "      <td>7.06</td>\n",
       "    </tr>\n",
       "    <tr>\n",
       "      <th>C</th>\n",
       "      <td>15921</td>\n",
       "      <td>1353</td>\n",
       "      <td>8.50</td>\n",
       "    </tr>\n",
       "    <tr>\n",
       "      <th>D</th>\n",
       "      <td>349</td>\n",
       "      <td>21</td>\n",
       "      <td>6.02</td>\n",
       "    </tr>\n",
       "    <tr>\n",
       "      <th>E</th>\n",
       "      <td>22</td>\n",
       "      <td>2</td>\n",
       "      <td>9.09</td>\n",
       "    </tr>\n",
       "  </tbody>\n",
       "</table>\n",
       "</div>"
      ],
      "text/plain": [
       "                       count   sum  mean\n",
       "                        debt  debt  debt\n",
       "total_income_category                   \n",
       "A                         25     2  8.00\n",
       "B                       5014   354  7.06\n",
       "C                      15921  1353  8.50\n",
       "D                        349    21  6.02\n",
       "E                         22     2  9.09"
      ]
     },
     "metadata": {},
     "output_type": "display_data"
    }
   ],
   "source": [
    "# 0–30000 — 'E';\n",
    "# 30001–50000 — 'D';\n",
    "# 50001–200000 — 'C';\n",
    "# 200001–1000000 — 'B';\n",
    "# 1000001 и выше — 'A'\n",
    "\n",
    "#создание сводной таблицы с подсчетом количества клиентов всего, клиентов с задолженностью в каждой группе\n",
    "# и средним значением задолженности по каждой группе \n",
    "debt_income = data.pivot_table(index = 'total_income_category', values = 'debt', aggfunc = ['count', 'sum', 'mean']) \n",
    "\n",
    "#перевод значений из колонки 'mean' в процентное отображение\n",
    "debt_income['mean'] = round(debt_income['mean'] * 100, 2)\n",
    "\n",
    "display(debt_income)\n",
    "\n"
   ]
  },
  {
   "cell_type": "code",
   "execution_count": 66,
   "id": "2d4fad65",
   "metadata": {},
   "outputs": [
    {
     "data": {
      "image/png": "[encoded data removed]",
      "text/plain": [
       "<Figure size 640x480 with 1 Axes>"
      ]
     },
     "metadata": {},
     "output_type": "display_data"
    }
   ],
   "source": [
    "x_cord = [x for x in debt_income.index]\n",
    "y_cord = [y for y in debt_income['mean']['debt']]\n",
    "\n",
    "plt.title('Гистограмма возникновения задолжности в зависимости от группы дохода')\n",
    "plt.xlabel('Группы дохода')\n",
    "plt.ylabel('Процент людей с задолженностью')\n",
    "\n",
    "plt.bar(x_cord, y_cord)\n",
    "plt.show()\n"
   ]
  },
  {
   "cell_type": "markdown",
   "id": "1a8b03cc",
   "metadata": {
    "deletable": false,
    "id": "e8593def"
   },
   "source": [
    "\n",
    "**Вывод:** По результатам исследования можно сдлеать вывод, что в данном случае выборки сильно несбалансированны, т.к. соновными клиентами банка(по даннаму датафрейму) являются людис со среднеми и выше среднего доходами. Данных в выборке недостаточно для полного подтверждения гипотезы, но их достаточно для утверждения того что у людей с группой дохода B меньше риск возникновения задолжности чем у людей с группой дохода С. "
   ]
  },
  {
   "cell_type": "markdown",
   "id": "64f12c88",
   "metadata": {},
   "source": [
    "####  Как разные цели кредита влияют на его возврат в срок?"
   ]
  },
  {
   "cell_type": "code",
   "execution_count": 67,
   "id": "c35361ea",
   "metadata": {
    "deletable": false,
    "id": "2b687290"
   },
   "outputs": [
    {
     "data": {
      "text/html": [
       "<div>\n",
       "<style scoped>\n",
       "    .dataframe tbody tr th:only-of-type {\n",
       "        vertical-align: middle;\n",
       "    }\n",
       "\n",
       "    .dataframe tbody tr th {\n",
       "        vertical-align: top;\n",
       "    }\n",
       "\n",
       "    .dataframe thead tr th {\n",
       "        text-align: left;\n",
       "    }\n",
       "\n",
       "    .dataframe thead tr:last-of-type th {\n",
       "        text-align: right;\n",
       "    }\n",
       "</style>\n",
       "<table border=\"1\" class=\"dataframe\">\n",
       "  <thead>\n",
       "    <tr>\n",
       "      <th></th>\n",
       "      <th>count</th>\n",
       "      <th>sum</th>\n",
       "      <th>mean</th>\n",
       "    </tr>\n",
       "    <tr>\n",
       "      <th></th>\n",
       "      <th>debt</th>\n",
       "      <th>debt</th>\n",
       "      <th>debt</th>\n",
       "    </tr>\n",
       "    <tr>\n",
       "      <th>purpose_category</th>\n",
       "      <th></th>\n",
       "      <th></th>\n",
       "      <th></th>\n",
       "    </tr>\n",
       "  </thead>\n",
       "  <tbody>\n",
       "    <tr>\n",
       "      <th>операции с автомобилем</th>\n",
       "      <td>4279</td>\n",
       "      <td>400</td>\n",
       "      <td>9.35</td>\n",
       "    </tr>\n",
       "    <tr>\n",
       "      <th>операции с недвижимостью</th>\n",
       "      <td>10751</td>\n",
       "      <td>780</td>\n",
       "      <td>7.26</td>\n",
       "    </tr>\n",
       "    <tr>\n",
       "      <th>получение образования</th>\n",
       "      <td>3988</td>\n",
       "      <td>369</td>\n",
       "      <td>9.25</td>\n",
       "    </tr>\n",
       "    <tr>\n",
       "      <th>проведение свадьбы</th>\n",
       "      <td>2313</td>\n",
       "      <td>183</td>\n",
       "      <td>7.91</td>\n",
       "    </tr>\n",
       "  </tbody>\n",
       "</table>\n",
       "</div>"
      ],
      "text/plain": [
       "                          count  sum  mean\n",
       "                           debt debt  debt\n",
       "purpose_category                          \n",
       "операции с автомобилем     4279  400  9.35\n",
       "операции с недвижимостью  10751  780  7.26\n",
       "получение образования      3988  369  9.25\n",
       "проведение свадьбы         2313  183  7.91"
      ]
     },
     "metadata": {},
     "output_type": "display_data"
    }
   ],
   "source": [
    "\n",
    "#создание сводной таблицы с подсчетом количества клиентов всего, клиентов с задолженностью в каждой группе\n",
    "# и средним значением задолженности по каждой группе \n",
    "debt_purpose = data.pivot_table(index = 'purpose_category', values = 'debt', aggfunc = ['count', 'sum', 'mean']) \n",
    "\n",
    "#перевод значений из колонки 'mean' в процентное отображение\n",
    "debt_purpose['mean'] = round(debt_purpose['mean'] * 100, 2)\n",
    "\n",
    "display(debt_purpose)\n",
    "\n",
    "\n"
   ]
  },
  {
   "cell_type": "code",
   "execution_count": 68,
   "id": "99591b07",
   "metadata": {},
   "outputs": [
    {
     "data": {
      "image/png": "[encoded data removed]",
      "text/plain": [
       "<Figure size 640x480 with 1 Axes>"
      ]
     },
     "metadata": {},
     "output_type": "display_data"
    }
   ],
   "source": [
    "#для наглядной визуализации построим график\n",
    "debt_purpose_sort = debt_purpose['mean'].sort_values(by = 'debt')\n",
    "\n",
    "x_cord = [x for x in debt_purpose_sort.index]\n",
    "y_cord = [y for y in debt_purpose_sort['debt']]\n",
    "\n",
    "plt.title('Гистограмма возникновения задолжности в зависимости от целей кредита')\n",
    "plt.xlabel('Процент задолженности по группам целей')\n",
    "plt.ylabel('Группа целей')\n",
    "\n",
    "plt.barh(x_cord, y_cord, color = 'blue')\n",
    "plt.xlim(0,10)\n",
    "plt.show()"
   ]
  },
  {
   "cell_type": "markdown",
   "id": "4bd3274c",
   "metadata": {
    "deletable": false,
    "id": "b4bb2ce6"
   },
   "source": [
    "**Вывод:** Чаще всего кредит не возвращаю по целям \"операции с автомобилем\" и \"получение образования\", что может говорить о существованию зависимости межу данными целями кредита и его своевременном возврате."
   ]
  },
  {
   "cell_type": "markdown",
   "id": "11294b67",
   "metadata": {},
   "source": [
    "#### Ввозможные причины появления пропусков в исходных данных."
   ]
  },
  {
   "cell_type": "markdown",
   "id": "e515ade9",
   "metadata": {
    "deletable": false,
    "id": "9da2ceda"
   },
   "source": [
    "Ошибка при вводе данных, сокрытие информации, техническая ошибка при передаче данных."
   ]
  },
  {
   "cell_type": "markdown",
   "id": "fd612d9e",
   "metadata": {},
   "source": [
    "#### Почему заполнить пропуски медианным значением — лучшее решение для количественных переменных."
   ]
  },
  {
   "cell_type": "markdown",
   "id": "a5136245",
   "metadata": {
    "deletable": false,
    "id": "7ecf2b8e"
   },
   "source": [
    "Т.к. медиана распологается ровно в середие всего диапазона данных (ровно половина элементов диапазона больше медианы, и ровно половина элементов диапазона меньше медианы)."
   ]
  },
  {
   "cell_type": "markdown",
   "id": "16f4b66f",
   "metadata": {},
   "source": [
    "### Общий вывод."
   ]
  },
  {
   "cell_type": "markdown",
   "id": "5c9b974c",
   "metadata": {
    "deletable": false,
    "id": "bad65432"
   },
   "source": [
    "\n",
    "<div style=\"border:solid steelgreen 4px; padding: 20px; border-radius: 15px\">\n",
    "<h1>Итог:</h1>\n",
    "    \n",
    ">Про результатом первичного просмотра данных были обнаружены пропуски в колонках days_employed и total_income. Так же обнаружен неудобный формат float для расчета числовых значений дохода клиентов банка в колонке total_income.\n",
    "\n",
    "> Было обнаружено 2174 пропущенных значений в столбце 'total_income' и 'days_employed'. Пропущенные значения были заменены медианными значениями. Были удалены аномалии в столбце 'children', где присутстовавали значения -1 и 20.\n",
    "Удален 71 дубликат строчек в датасете и созданы отдельные новые колонки с 'total_income_category'с присвоеными значениями дохода в зависимости от столбца total_income и столбец 'purpose_category' с категориями целей взятия кредита. Были выявлены все неявные дубликаты в срочке 'education', где встречались одлниковые значения но с различными вариантами записи.\n",
    "\n",
    "> В ходе изучения данных были выявлены следующие зависимости: \n",
    ">>- При исследовании группы клиентов без детей, с 1 или 2-мя детьми наблюдается постепенный рост общего процента задолженности в группе. **Т.е количество детей влияет на риск появления задолжностей.**\n",
    ">>- **Клиенты, с семейными статусами в разводе, вдовец/вдова с большей вероятностью вернут в срок кедит**, чем одинокие и семейные пары.\n",
    ">>- **У клиентов с группой дохода B меньше риск возникновения задолжности чем у людей с группой дохода С**.\n",
    ">>- **Задолженность реже всего возникает при взятии кредита на цели \"операции с автомобилем\" и \"получение образования\"**.\n",
    "\n",
    "    \n",
    ">Обобщая ход исследования, необходимо отметить, что все полученные результаты исследований, в большенстве своём, получены в несбалансированных выборках. Т.е. в клиентской базе банка преобладают клиенты определенного потребительского/покупательского/кредитного сегмента (близкими к друг к другу видами занятости, семейным положением, количеством детей и получаемым доходам и т.д.). При необходимости, для более глубокого анализа кредитной платёжеспособности клиентов необходимо расширить выборку данных и включить в неё больше информации о клиентах, не относящихся к основному сегменту данных услуг банка.\n",
    "\n",
    ">Рекомендации по ведению базы данных о статистике палтёжеспособности клинтов:\n",
    ">>Для более подробного ведения базы данных и её последующего анализа рекомендуем создать систему классификации клиентов по доходу (присвоение определенной группы A,B,C и т.д.) и создать короткий перечень обобщенных целей для сокращения объема записи данных.\n",
    "</div>"
   ]
  }
 ],
 "metadata": {
  "ExecuteTimeLog": [
   {
    "duration": 50,
    "start_time": "2023-01-29T21:25:21.942Z"
   },
   {
    "duration": 587,
    "start_time": "2023-01-29T21:25:27.003Z"
   },
   {
    "duration": 29,
    "start_time": "2023-01-29T21:25:27.592Z"
   },
   {
    "duration": 16,
    "start_time": "2023-01-29T21:25:27.623Z"
   },
   {
    "duration": 10,
    "start_time": "2023-01-29T21:25:27.640Z"
   },
   {
    "duration": 33,
    "start_time": "2023-01-29T21:25:27.653Z"
   },
   {
    "duration": 3,
    "start_time": "2023-01-29T21:25:27.688Z"
   },
   {
    "duration": 23,
    "start_time": "2023-01-29T21:25:27.710Z"
   },
   {
    "duration": 3,
    "start_time": "2023-01-29T21:25:27.735Z"
   },
   {
    "duration": 8,
    "start_time": "2023-01-29T21:25:27.740Z"
   },
   {
    "duration": 4,
    "start_time": "2023-01-29T21:25:27.750Z"
   },
   {
    "duration": 32,
    "start_time": "2023-01-29T21:25:27.755Z"
   },
   {
    "duration": 33,
    "start_time": "2023-01-29T21:25:27.789Z"
   },
   {
    "duration": 5,
    "start_time": "2023-01-29T21:25:27.824Z"
   },
   {
    "duration": 12,
    "start_time": "2023-01-29T21:25:27.831Z"
   },
   {
    "duration": 21,
    "start_time": "2023-01-29T21:25:27.844Z"
   },
   {
    "duration": 15,
    "start_time": "2023-01-29T21:25:27.867Z"
   },
   {
    "duration": 3,
    "start_time": "2023-01-29T21:25:27.884Z"
   },
   {
    "duration": 34,
    "start_time": "2023-01-29T21:25:27.889Z"
   },
   {
    "duration": 5,
    "start_time": "2023-01-29T21:25:27.925Z"
   },
   {
    "duration": 4,
    "start_time": "2023-01-29T21:25:27.932Z"
   },
   {
    "duration": 18,
    "start_time": "2023-01-29T21:25:27.937Z"
   },
   {
    "duration": 18,
    "start_time": "2023-01-29T21:25:27.956Z"
   },
   {
    "duration": 3,
    "start_time": "2023-01-29T21:25:27.975Z"
   },
   {
    "duration": 4,
    "start_time": "2023-01-29T21:25:27.980Z"
   },
   {
    "duration": 4,
    "start_time": "2023-01-29T21:25:27.985Z"
   },
   {
    "duration": 5,
    "start_time": "2023-01-29T21:28:02.930Z"
   },
   {
    "duration": 36,
    "start_time": "2023-01-29T21:33:23.525Z"
   },
   {
    "duration": 27,
    "start_time": "2023-01-29T21:33:39.595Z"
   },
   {
    "duration": 26,
    "start_time": "2023-01-29T21:33:46.915Z"
   },
   {
    "duration": 43,
    "start_time": "2023-01-29T21:34:16.728Z"
   },
   {
    "duration": 36,
    "start_time": "2023-01-29T21:34:35.254Z"
   },
   {
    "duration": 25,
    "start_time": "2023-01-29T21:34:54.037Z"
   },
   {
    "duration": 40,
    "start_time": "2023-01-29T21:35:08.228Z"
   },
   {
    "duration": 6,
    "start_time": "2023-01-29T21:36:13.778Z"
   },
   {
    "duration": 12,
    "start_time": "2023-01-29T21:36:53.360Z"
   },
   {
    "duration": 12,
    "start_time": "2023-01-29T21:38:15.362Z"
   },
   {
    "duration": 11,
    "start_time": "2023-01-29T21:38:49.336Z"
   },
   {
    "duration": 12,
    "start_time": "2023-01-29T21:39:04.761Z"
   },
   {
    "duration": 9,
    "start_time": "2023-01-29T21:39:20.041Z"
   },
   {
    "duration": 11,
    "start_time": "2023-01-29T21:39:57.432Z"
   },
   {
    "duration": 22,
    "start_time": "2023-01-29T21:40:06.949Z"
   },
   {
    "duration": 9,
    "start_time": "2023-01-29T21:41:45.185Z"
   },
   {
    "duration": 10,
    "start_time": "2023-01-29T21:42:08.837Z"
   },
   {
    "duration": 4,
    "start_time": "2023-01-29T21:42:18.535Z"
   },
   {
    "duration": 5,
    "start_time": "2023-01-29T21:42:23.582Z"
   },
   {
    "duration": 450,
    "start_time": "2023-01-29T21:44:52.721Z"
   },
   {
    "duration": 112,
    "start_time": "2023-01-29T21:47:00.461Z"
   },
   {
    "duration": 32,
    "start_time": "2023-01-29T21:48:51.809Z"
   },
   {
    "duration": 182,
    "start_time": "2023-01-29T21:49:25.925Z"
   },
   {
    "duration": 841,
    "start_time": "2023-01-29T21:49:53.370Z"
   },
   {
    "duration": 184,
    "start_time": "2023-01-29T21:50:42.436Z"
   },
   {
    "duration": 5,
    "start_time": "2023-01-29T21:50:51.789Z"
   },
   {
    "duration": 7,
    "start_time": "2023-01-29T21:51:37.147Z"
   },
   {
    "duration": 7,
    "start_time": "2023-01-29T21:54:25.825Z"
   },
   {
    "duration": 11,
    "start_time": "2023-01-29T21:55:30.928Z"
   },
   {
    "duration": 63,
    "start_time": "2023-01-29T21:55:36.508Z"
   },
   {
    "duration": 17,
    "start_time": "2023-01-29T21:55:44.240Z"
   },
   {
    "duration": 10,
    "start_time": "2023-01-29T21:56:06.841Z"
   },
   {
    "duration": 121,
    "start_time": "2023-01-29T21:56:45.032Z"
   },
   {
    "duration": 80,
    "start_time": "2023-01-29T21:57:24.590Z"
   },
   {
    "duration": 18,
    "start_time": "2023-01-29T21:59:46.244Z"
   },
   {
    "duration": 15,
    "start_time": "2023-01-29T22:00:01.291Z"
   },
   {
    "duration": 6,
    "start_time": "2023-01-29T22:00:35.723Z"
   },
   {
    "duration": 17,
    "start_time": "2023-01-29T22:00:43.756Z"
   },
   {
    "duration": 44,
    "start_time": "2023-01-29T22:02:31.906Z"
   },
   {
    "duration": 34,
    "start_time": "2023-01-29T22:03:32.789Z"
   },
   {
    "duration": 6,
    "start_time": "2023-01-29T22:03:44.426Z"
   },
   {
    "duration": 10,
    "start_time": "2023-01-29T22:05:30.322Z"
   },
   {
    "duration": 9,
    "start_time": "2023-01-29T22:05:53.343Z"
   },
   {
    "duration": 5,
    "start_time": "2023-01-29T22:06:04.480Z"
   },
   {
    "duration": 6,
    "start_time": "2023-01-29T22:06:15.950Z"
   },
   {
    "duration": 5,
    "start_time": "2023-01-29T22:06:25.828Z"
   },
   {
    "duration": 11,
    "start_time": "2023-01-29T22:07:13.945Z"
   },
   {
    "duration": 5,
    "start_time": "2023-01-29T22:07:29.198Z"
   },
   {
    "duration": 54,
    "start_time": "2023-01-29T22:08:29.523Z"
   },
   {
    "duration": 11,
    "start_time": "2023-01-29T22:10:13.774Z"
   },
   {
    "duration": 6,
    "start_time": "2023-01-29T22:10:18.748Z"
   },
   {
    "duration": 7,
    "start_time": "2023-01-29T22:10:50.269Z"
   },
   {
    "duration": 120,
    "start_time": "2023-01-29T22:12:10.923Z"
   },
   {
    "duration": 143,
    "start_time": "2023-01-29T22:12:32.944Z"
   },
   {
    "duration": 115,
    "start_time": "2023-01-29T22:15:04.331Z"
   },
   {
    "duration": 116,
    "start_time": "2023-01-29T22:15:25.026Z"
   },
   {
    "duration": 133,
    "start_time": "2023-01-29T22:15:32.394Z"
   },
   {
    "duration": 121,
    "start_time": "2023-01-29T22:15:49.420Z"
   },
   {
    "duration": 153,
    "start_time": "2023-01-29T22:16:00.229Z"
   },
   {
    "duration": 112,
    "start_time": "2023-01-29T22:17:10.236Z"
   },
   {
    "duration": 112,
    "start_time": "2023-01-29T22:17:20.685Z"
   },
   {
    "duration": 109,
    "start_time": "2023-01-29T22:17:45.683Z"
   },
   {
    "duration": 114,
    "start_time": "2023-01-29T22:18:10.250Z"
   },
   {
    "duration": 11,
    "start_time": "2023-01-29T22:23:09.619Z"
   },
   {
    "duration": 11,
    "start_time": "2023-01-29T22:23:13.586Z"
   },
   {
    "duration": 186,
    "start_time": "2023-01-29T22:23:20.384Z"
   },
   {
    "duration": 126,
    "start_time": "2023-01-29T22:23:33.454Z"
   },
   {
    "duration": 68,
    "start_time": "2023-01-29T22:23:52.553Z"
   },
   {
    "duration": 118,
    "start_time": "2023-01-29T22:24:09.885Z"
   },
   {
    "duration": 118,
    "start_time": "2023-01-29T22:24:21.539Z"
   },
   {
    "duration": 114,
    "start_time": "2023-01-29T22:24:26.325Z"
   },
   {
    "duration": 122,
    "start_time": "2023-01-29T22:24:30.310Z"
   },
   {
    "duration": 123,
    "start_time": "2023-01-29T22:24:33.711Z"
   },
   {
    "duration": 119,
    "start_time": "2023-01-29T22:24:36.897Z"
   },
   {
    "duration": 126,
    "start_time": "2023-01-29T22:24:40.591Z"
   },
   {
    "duration": 119,
    "start_time": "2023-01-29T22:24:44.174Z"
   },
   {
    "duration": 122,
    "start_time": "2023-01-29T22:24:47.026Z"
   },
   {
    "duration": 179,
    "start_time": "2023-01-29T22:24:50.216Z"
   },
   {
    "duration": 133,
    "start_time": "2023-01-29T22:26:45.191Z"
   },
   {
    "duration": 119,
    "start_time": "2023-01-29T22:29:55.097Z"
   },
   {
    "duration": 128,
    "start_time": "2023-01-29T22:30:33.941Z"
   },
   {
    "duration": 133,
    "start_time": "2023-01-29T22:30:37.566Z"
   },
   {
    "duration": 13,
    "start_time": "2023-01-29T22:32:32.297Z"
   },
   {
    "duration": 11,
    "start_time": "2023-01-29T22:32:36.776Z"
   },
   {
    "duration": 6,
    "start_time": "2023-01-29T22:32:43.763Z"
   },
   {
    "duration": 10,
    "start_time": "2023-01-29T22:33:00.682Z"
   },
   {
    "duration": 15,
    "start_time": "2023-01-29T22:33:39.273Z"
   },
   {
    "duration": 8,
    "start_time": "2023-01-29T22:33:49.813Z"
   },
   {
    "duration": 12,
    "start_time": "2023-01-29T22:35:00.410Z"
   },
   {
    "duration": 21,
    "start_time": "2023-01-29T22:36:02.785Z"
   },
   {
    "duration": 20,
    "start_time": "2023-01-29T22:36:38.924Z"
   },
   {
    "duration": 17,
    "start_time": "2023-01-29T22:36:45.733Z"
   },
   {
    "duration": 9,
    "start_time": "2023-01-29T22:37:23.145Z"
   },
   {
    "duration": 11,
    "start_time": "2023-01-29T22:37:26.189Z"
   },
   {
    "duration": 11,
    "start_time": "2023-01-29T22:37:46.400Z"
   },
   {
    "duration": 7,
    "start_time": "2023-01-29T22:38:27.561Z"
   },
   {
    "duration": 12,
    "start_time": "2023-01-29T22:39:07.989Z"
   },
   {
    "duration": 6,
    "start_time": "2023-01-29T22:39:20.212Z"
   },
   {
    "duration": 55,
    "start_time": "2023-01-30T07:50:04.321Z"
   },
   {
    "duration": 685,
    "start_time": "2023-01-30T07:50:09.714Z"
   },
   {
    "duration": 32,
    "start_time": "2023-01-30T07:50:10.401Z"
   },
   {
    "duration": 22,
    "start_time": "2023-01-30T07:50:10.435Z"
   },
   {
    "duration": 15,
    "start_time": "2023-01-30T07:50:10.460Z"
   },
   {
    "duration": 52,
    "start_time": "2023-01-30T07:50:10.482Z"
   },
   {
    "duration": 7,
    "start_time": "2023-01-30T07:50:10.536Z"
   },
   {
    "duration": 35,
    "start_time": "2023-01-30T07:50:10.545Z"
   },
   {
    "duration": 19,
    "start_time": "2023-01-30T07:50:10.582Z"
   },
   {
    "duration": 30,
    "start_time": "2023-01-30T07:50:10.602Z"
   },
   {
    "duration": 24,
    "start_time": "2023-01-30T07:50:10.636Z"
   },
   {
    "duration": 44,
    "start_time": "2023-01-30T07:50:10.662Z"
   },
   {
    "duration": 30,
    "start_time": "2023-01-30T07:50:10.708Z"
   },
   {
    "duration": 40,
    "start_time": "2023-01-30T07:50:10.739Z"
   },
   {
    "duration": 44,
    "start_time": "2023-01-30T07:50:10.781Z"
   },
   {
    "duration": 26,
    "start_time": "2023-01-30T07:50:10.826Z"
   },
   {
    "duration": 37,
    "start_time": "2023-01-30T07:50:10.854Z"
   },
   {
    "duration": 30,
    "start_time": "2023-01-30T07:50:10.892Z"
   },
   {
    "duration": 25,
    "start_time": "2023-01-30T07:50:10.923Z"
   },
   {
    "duration": 25,
    "start_time": "2023-01-30T07:50:10.950Z"
   },
   {
    "duration": 36,
    "start_time": "2023-01-30T07:50:10.977Z"
   },
   {
    "duration": 34,
    "start_time": "2023-01-30T07:50:11.015Z"
   },
   {
    "duration": 54,
    "start_time": "2023-01-30T07:50:11.051Z"
   },
   {
    "duration": 0,
    "start_time": "2023-01-30T07:50:11.107Z"
   },
   {
    "duration": 0,
    "start_time": "2023-01-30T07:50:11.108Z"
   },
   {
    "duration": 0,
    "start_time": "2023-01-30T07:50:11.109Z"
   },
   {
    "duration": 13,
    "start_time": "2023-01-30T07:50:13.566Z"
   },
   {
    "duration": 9,
    "start_time": "2023-01-30T07:50:22.311Z"
   },
   {
    "duration": 21,
    "start_time": "2023-01-30T07:50:32.710Z"
   },
   {
    "duration": 14,
    "start_time": "2023-01-30T07:53:11.857Z"
   },
   {
    "duration": 21,
    "start_time": "2023-01-30T07:53:23.814Z"
   },
   {
    "duration": 7,
    "start_time": "2023-01-30T07:56:10.607Z"
   },
   {
    "duration": 9,
    "start_time": "2023-01-30T07:56:45.686Z"
   },
   {
    "duration": 9,
    "start_time": "2023-01-30T07:57:44.318Z"
   },
   {
    "duration": 12,
    "start_time": "2023-01-30T07:57:49.555Z"
   },
   {
    "duration": 20,
    "start_time": "2023-01-30T07:58:26.158Z"
   },
   {
    "duration": 12,
    "start_time": "2023-01-30T07:58:32.814Z"
   },
   {
    "duration": 9,
    "start_time": "2023-01-30T07:58:49.678Z"
   },
   {
    "duration": 628,
    "start_time": "2023-01-30T07:59:36.006Z"
   },
   {
    "duration": 123,
    "start_time": "2023-01-30T07:59:45.071Z"
   },
   {
    "duration": 117,
    "start_time": "2023-01-30T08:02:32.254Z"
   },
   {
    "duration": 175,
    "start_time": "2023-01-30T08:02:40.823Z"
   },
   {
    "duration": 257,
    "start_time": "2023-01-30T08:02:57.478Z"
   },
   {
    "duration": 142,
    "start_time": "2023-01-30T08:03:08.793Z"
   },
   {
    "duration": 147,
    "start_time": "2023-01-30T08:03:42.543Z"
   },
   {
    "duration": 120,
    "start_time": "2023-01-30T08:04:28.367Z"
   },
   {
    "duration": 10,
    "start_time": "2023-01-30T08:05:57.447Z"
   },
   {
    "duration": 120,
    "start_time": "2023-01-30T08:06:19.928Z"
   },
   {
    "duration": 117,
    "start_time": "2023-01-30T08:06:44.871Z"
   },
   {
    "duration": 120,
    "start_time": "2023-01-30T08:07:13.745Z"
   },
   {
    "duration": 129,
    "start_time": "2023-01-30T08:07:52.382Z"
   },
   {
    "duration": 52,
    "start_time": "2023-01-30T08:08:02.278Z"
   },
   {
    "duration": 133,
    "start_time": "2023-01-30T08:08:04.895Z"
   },
   {
    "duration": 130,
    "start_time": "2023-01-30T08:11:41.258Z"
   },
   {
    "duration": 117,
    "start_time": "2023-01-30T08:11:57.375Z"
   },
   {
    "duration": 184,
    "start_time": "2023-01-30T08:12:02.391Z"
   },
   {
    "duration": 106,
    "start_time": "2023-01-30T08:12:07.823Z"
   },
   {
    "duration": 114,
    "start_time": "2023-01-30T08:12:18.823Z"
   },
   {
    "duration": 121,
    "start_time": "2023-01-30T08:14:31.760Z"
   },
   {
    "duration": 131,
    "start_time": "2023-01-30T08:15:54.858Z"
   },
   {
    "duration": 205,
    "start_time": "2023-01-30T08:16:06.409Z"
   },
   {
    "duration": 402,
    "start_time": "2023-01-30T08:17:27.864Z"
   },
   {
    "duration": 26,
    "start_time": "2023-01-30T08:18:29.328Z"
   },
   {
    "duration": 131,
    "start_time": "2023-01-30T08:18:55.279Z"
   },
   {
    "duration": 143,
    "start_time": "2023-01-30T08:19:10.747Z"
   },
   {
    "duration": 196,
    "start_time": "2023-01-30T08:19:16.687Z"
   },
   {
    "duration": 112,
    "start_time": "2023-01-30T08:19:35.391Z"
   },
   {
    "duration": 128,
    "start_time": "2023-01-30T08:19:57.823Z"
   },
   {
    "duration": 310,
    "start_time": "2023-01-30T08:20:14.766Z"
   },
   {
    "duration": 126,
    "start_time": "2023-01-30T08:20:24.680Z"
   },
   {
    "duration": 166,
    "start_time": "2023-01-30T08:20:33.396Z"
   },
   {
    "duration": 189,
    "start_time": "2023-01-30T08:20:39.742Z"
   },
   {
    "duration": 201,
    "start_time": "2023-01-30T08:20:46.495Z"
   },
   {
    "duration": 172,
    "start_time": "2023-01-30T08:20:56.023Z"
   },
   {
    "duration": 177,
    "start_time": "2023-01-30T08:21:00.943Z"
   },
   {
    "duration": 372,
    "start_time": "2023-01-30T08:21:04.975Z"
   },
   {
    "duration": 339,
    "start_time": "2023-01-30T08:22:47.278Z"
   },
   {
    "duration": 293,
    "start_time": "2023-01-30T08:22:52.193Z"
   },
   {
    "duration": 328,
    "start_time": "2023-01-30T08:22:59.366Z"
   },
   {
    "duration": 304,
    "start_time": "2023-01-30T08:23:11.806Z"
   },
   {
    "duration": 363,
    "start_time": "2023-01-30T08:23:21.398Z"
   },
   {
    "duration": 339,
    "start_time": "2023-01-30T08:24:19.527Z"
   },
   {
    "duration": 332,
    "start_time": "2023-01-30T08:24:27.270Z"
   },
   {
    "duration": 305,
    "start_time": "2023-01-30T08:24:44.702Z"
   },
   {
    "duration": 308,
    "start_time": "2023-01-30T08:25:02.406Z"
   },
   {
    "duration": 313,
    "start_time": "2023-01-30T08:25:58.646Z"
   },
   {
    "duration": 434,
    "start_time": "2023-01-30T08:26:11.831Z"
   },
   {
    "duration": 348,
    "start_time": "2023-01-30T08:26:26.813Z"
   },
   {
    "duration": 341,
    "start_time": "2023-01-30T08:26:39.870Z"
   },
   {
    "duration": 294,
    "start_time": "2023-01-30T08:26:46.998Z"
   },
   {
    "duration": 310,
    "start_time": "2023-01-30T08:26:52.541Z"
   },
   {
    "duration": 428,
    "start_time": "2023-01-30T08:27:02.366Z"
   },
   {
    "duration": 330,
    "start_time": "2023-01-30T08:27:08.678Z"
   },
   {
    "duration": 355,
    "start_time": "2023-01-30T08:27:24.494Z"
   },
   {
    "duration": 122,
    "start_time": "2023-01-30T08:27:42.630Z"
   },
   {
    "duration": 183,
    "start_time": "2023-01-30T08:27:46.893Z"
   },
   {
    "duration": 224,
    "start_time": "2023-01-30T08:27:56.495Z"
   },
   {
    "duration": 35,
    "start_time": "2023-01-30T08:28:10.815Z"
   },
   {
    "duration": 182,
    "start_time": "2023-01-30T08:28:16.973Z"
   },
   {
    "duration": 99,
    "start_time": "2023-01-30T08:30:10.423Z"
   },
   {
    "duration": 202,
    "start_time": "2023-01-30T08:30:30.095Z"
   },
   {
    "duration": 157,
    "start_time": "2023-01-30T08:30:41.911Z"
   },
   {
    "duration": 122,
    "start_time": "2023-01-30T08:31:05.654Z"
   },
   {
    "duration": 149,
    "start_time": "2023-01-30T08:31:19.398Z"
   },
   {
    "duration": 146,
    "start_time": "2023-01-30T08:31:35.025Z"
   },
   {
    "duration": 23,
    "start_time": "2023-01-30T08:31:40.854Z"
   },
   {
    "duration": 132,
    "start_time": "2023-01-30T08:31:50.463Z"
   },
   {
    "duration": 22,
    "start_time": "2023-01-30T08:31:54.142Z"
   },
   {
    "duration": 122,
    "start_time": "2023-01-30T08:32:02.534Z"
   },
   {
    "duration": 119,
    "start_time": "2023-01-30T08:32:07.593Z"
   },
   {
    "duration": 119,
    "start_time": "2023-01-30T08:32:32.350Z"
   },
   {
    "duration": 216,
    "start_time": "2023-01-30T08:32:42.238Z"
   },
   {
    "duration": 68,
    "start_time": "2023-01-30T08:32:48.862Z"
   },
   {
    "duration": 142,
    "start_time": "2023-01-30T08:32:57.582Z"
   },
   {
    "duration": 124,
    "start_time": "2023-01-30T08:33:09.926Z"
   },
   {
    "duration": 117,
    "start_time": "2023-01-30T08:33:22.407Z"
   },
   {
    "duration": 151,
    "start_time": "2023-01-30T08:33:31.775Z"
   },
   {
    "duration": 205,
    "start_time": "2023-01-30T08:33:58.710Z"
   },
   {
    "duration": 122,
    "start_time": "2023-01-30T08:34:06.615Z"
   },
   {
    "duration": 204,
    "start_time": "2023-01-30T08:34:18.216Z"
   },
   {
    "duration": 214,
    "start_time": "2023-01-30T08:34:28.726Z"
   },
   {
    "duration": 227,
    "start_time": "2023-01-30T08:34:37.094Z"
   },
   {
    "duration": 191,
    "start_time": "2023-01-30T08:34:45.406Z"
   },
   {
    "duration": 314,
    "start_time": "2023-01-30T08:34:52.110Z"
   },
   {
    "duration": 215,
    "start_time": "2023-01-30T08:35:03.934Z"
   },
   {
    "duration": 245,
    "start_time": "2023-01-30T08:35:22.854Z"
   },
   {
    "duration": 182,
    "start_time": "2023-01-30T08:35:28.854Z"
   },
   {
    "duration": 111,
    "start_time": "2023-01-30T08:35:37.286Z"
   },
   {
    "duration": 187,
    "start_time": "2023-01-30T08:35:45.366Z"
   },
   {
    "duration": 176,
    "start_time": "2023-01-30T08:35:52.454Z"
   },
   {
    "duration": 237,
    "start_time": "2023-01-30T08:36:06.615Z"
   },
   {
    "duration": 146,
    "start_time": "2023-01-30T08:36:15.702Z"
   },
   {
    "duration": 171,
    "start_time": "2023-01-30T08:36:24.510Z"
   },
   {
    "duration": 24,
    "start_time": "2023-01-30T08:36:33.526Z"
   },
   {
    "duration": 226,
    "start_time": "2023-01-30T08:36:45.022Z"
   },
   {
    "duration": 139,
    "start_time": "2023-01-30T08:36:52.183Z"
   },
   {
    "duration": 142,
    "start_time": "2023-01-30T08:36:57.743Z"
   },
   {
    "duration": 142,
    "start_time": "2023-01-30T08:37:00.393Z"
   },
   {
    "duration": 202,
    "start_time": "2023-01-30T08:37:07.046Z"
   },
   {
    "duration": 167,
    "start_time": "2023-01-30T08:37:13.935Z"
   },
   {
    "duration": 149,
    "start_time": "2023-01-30T08:37:22.110Z"
   },
   {
    "duration": 180,
    "start_time": "2023-01-30T08:37:31.566Z"
   },
   {
    "duration": 13,
    "start_time": "2023-01-30T10:03:31.303Z"
   },
   {
    "duration": 59,
    "start_time": "2023-01-30T10:05:14.878Z"
   },
   {
    "duration": 13,
    "start_time": "2023-01-30T10:05:21.709Z"
   },
   {
    "duration": 12,
    "start_time": "2023-01-30T10:05:38.117Z"
   },
   {
    "duration": 11,
    "start_time": "2023-01-30T10:06:00.165Z"
   },
   {
    "duration": 14,
    "start_time": "2023-01-30T10:06:03.795Z"
   },
   {
    "duration": 13,
    "start_time": "2023-01-30T10:12:01.829Z"
   },
   {
    "duration": 13,
    "start_time": "2023-01-30T10:14:57.830Z"
   },
   {
    "duration": 10,
    "start_time": "2023-01-30T10:17:40.733Z"
   },
   {
    "duration": 15,
    "start_time": "2023-01-30T10:17:50.734Z"
   },
   {
    "duration": 27,
    "start_time": "2023-01-30T10:17:59.462Z"
   },
   {
    "duration": 10,
    "start_time": "2023-01-30T10:18:28.111Z"
   },
   {
    "duration": 12,
    "start_time": "2023-01-30T10:18:41.526Z"
   },
   {
    "duration": 62,
    "start_time": "2023-01-30T10:22:00.734Z"
   },
   {
    "duration": 39,
    "start_time": "2023-01-30T10:22:07.470Z"
   },
   {
    "duration": 41,
    "start_time": "2023-01-30T10:22:58.366Z"
   },
   {
    "duration": 23,
    "start_time": "2023-01-30T10:23:17.302Z"
   },
   {
    "duration": 13,
    "start_time": "2023-01-30T10:23:31.838Z"
   },
   {
    "duration": 11,
    "start_time": "2023-01-30T10:24:13.014Z"
   },
   {
    "duration": 23,
    "start_time": "2023-01-30T10:24:35.270Z"
   },
   {
    "duration": 18,
    "start_time": "2023-01-30T10:26:38.135Z"
   },
   {
    "duration": 9,
    "start_time": "2023-01-30T10:27:18.495Z"
   },
   {
    "duration": 178,
    "start_time": "2023-01-30T10:27:42.150Z"
   },
   {
    "duration": 186,
    "start_time": "2023-01-30T10:27:56.775Z"
   },
   {
    "duration": 184,
    "start_time": "2023-01-30T10:28:21.919Z"
   },
   {
    "duration": 304,
    "start_time": "2023-01-30T10:28:31.942Z"
   },
   {
    "duration": 52,
    "start_time": "2023-01-30T10:31:46.063Z"
   },
   {
    "duration": 187,
    "start_time": "2023-01-30T10:31:58.631Z"
   },
   {
    "duration": 210,
    "start_time": "2023-01-30T10:32:57.674Z"
   },
   {
    "duration": 185,
    "start_time": "2023-01-30T10:33:09.463Z"
   },
   {
    "duration": 199,
    "start_time": "2023-01-30T10:33:23.487Z"
   },
   {
    "duration": 204,
    "start_time": "2023-01-30T10:33:29.639Z"
   },
   {
    "duration": 197,
    "start_time": "2023-01-30T10:34:09.278Z"
   },
   {
    "duration": 205,
    "start_time": "2023-01-30T10:34:20.982Z"
   },
   {
    "duration": 225,
    "start_time": "2023-01-30T10:35:32.375Z"
   },
   {
    "duration": 223,
    "start_time": "2023-01-30T10:36:03.174Z"
   },
   {
    "duration": 190,
    "start_time": "2023-01-30T10:36:07.022Z"
   },
   {
    "duration": 288,
    "start_time": "2023-01-30T10:36:19.238Z"
   },
   {
    "duration": 195,
    "start_time": "2023-01-30T10:36:42.909Z"
   },
   {
    "duration": 205,
    "start_time": "2023-01-30T10:36:58.341Z"
   },
   {
    "duration": 205,
    "start_time": "2023-01-30T10:37:45.302Z"
   },
   {
    "duration": 407,
    "start_time": "2023-01-30T10:38:50.238Z"
   },
   {
    "duration": 214,
    "start_time": "2023-01-30T10:38:54.925Z"
   },
   {
    "duration": 333,
    "start_time": "2023-01-30T10:39:07.966Z"
   },
   {
    "duration": 367,
    "start_time": "2023-01-30T10:39:32.205Z"
   },
   {
    "duration": 385,
    "start_time": "2023-01-30T10:39:35.941Z"
   },
   {
    "duration": 343,
    "start_time": "2023-01-30T10:39:45.469Z"
   },
   {
    "duration": 330,
    "start_time": "2023-01-30T10:39:50.981Z"
   },
   {
    "duration": 471,
    "start_time": "2023-01-30T10:40:02.710Z"
   },
   {
    "duration": 362,
    "start_time": "2023-01-30T10:41:17.486Z"
   },
   {
    "duration": 302,
    "start_time": "2023-01-30T10:41:21.614Z"
   },
   {
    "duration": 225,
    "start_time": "2023-01-30T10:41:32.615Z"
   },
   {
    "duration": 226,
    "start_time": "2023-01-30T10:41:38.613Z"
   },
   {
    "duration": 227,
    "start_time": "2023-01-30T10:41:45.966Z"
   },
   {
    "duration": 370,
    "start_time": "2023-01-30T10:42:02.325Z"
   },
   {
    "duration": 380,
    "start_time": "2023-01-30T10:43:53.717Z"
   },
   {
    "duration": 214,
    "start_time": "2023-01-30T10:44:27.196Z"
   },
   {
    "duration": 352,
    "start_time": "2023-01-30T10:44:41.445Z"
   },
   {
    "duration": 348,
    "start_time": "2023-01-30T10:45:58.455Z"
   },
   {
    "duration": 329,
    "start_time": "2023-01-30T10:46:21.388Z"
   },
   {
    "duration": 346,
    "start_time": "2023-01-30T10:47:15.885Z"
   },
   {
    "duration": 345,
    "start_time": "2023-01-30T10:47:21.165Z"
   },
   {
    "duration": 412,
    "start_time": "2023-01-30T10:47:31.700Z"
   },
   {
    "duration": 390,
    "start_time": "2023-01-30T10:48:32.655Z"
   },
   {
    "duration": 384,
    "start_time": "2023-01-30T10:48:41.468Z"
   },
   {
    "duration": 387,
    "start_time": "2023-01-30T10:48:47.820Z"
   },
   {
    "duration": 391,
    "start_time": "2023-01-30T10:48:53.544Z"
   },
   {
    "duration": 405,
    "start_time": "2023-01-30T10:48:59.125Z"
   },
   {
    "duration": 420,
    "start_time": "2023-01-30T10:49:07.500Z"
   },
   {
    "duration": 394,
    "start_time": "2023-01-30T10:49:22.854Z"
   },
   {
    "duration": 418,
    "start_time": "2023-01-30T10:50:13.044Z"
   },
   {
    "duration": 536,
    "start_time": "2023-01-30T10:50:37.805Z"
   },
   {
    "duration": 435,
    "start_time": "2023-01-30T10:50:44.324Z"
   },
   {
    "duration": 406,
    "start_time": "2023-01-30T10:51:11.325Z"
   },
   {
    "duration": 430,
    "start_time": "2023-01-30T10:51:24.225Z"
   },
   {
    "duration": 411,
    "start_time": "2023-01-30T10:53:00.701Z"
   },
   {
    "duration": 50,
    "start_time": "2023-01-30T10:54:51.380Z"
   },
   {
    "duration": 399,
    "start_time": "2023-01-30T10:54:55.420Z"
   },
   {
    "duration": 443,
    "start_time": "2023-01-30T10:55:06.291Z"
   },
   {
    "duration": 50,
    "start_time": "2023-01-30T10:55:16.567Z"
   },
   {
    "duration": 413,
    "start_time": "2023-01-30T10:55:20.261Z"
   },
   {
    "duration": 408,
    "start_time": "2023-01-30T10:55:31.332Z"
   },
   {
    "duration": 399,
    "start_time": "2023-01-30T10:55:38.172Z"
   },
   {
    "duration": 401,
    "start_time": "2023-01-30T10:55:46.467Z"
   },
   {
    "duration": 456,
    "start_time": "2023-01-30T10:55:54.716Z"
   },
   {
    "duration": 429,
    "start_time": "2023-01-30T10:55:59.723Z"
   },
   {
    "duration": 401,
    "start_time": "2023-01-30T10:57:32.780Z"
   },
   {
    "duration": 561,
    "start_time": "2023-01-30T10:57:44.220Z"
   },
   {
    "duration": 401,
    "start_time": "2023-01-30T10:58:13.621Z"
   },
   {
    "duration": 412,
    "start_time": "2023-01-30T10:58:24.412Z"
   },
   {
    "duration": 401,
    "start_time": "2023-01-30T10:58:32.380Z"
   },
   {
    "duration": 402,
    "start_time": "2023-01-30T10:58:45.068Z"
   },
   {
    "duration": 215,
    "start_time": "2023-01-30T10:59:13.836Z"
   },
   {
    "duration": 439,
    "start_time": "2023-01-30T10:59:25.244Z"
   },
   {
    "duration": 422,
    "start_time": "2023-01-30T10:59:35.867Z"
   },
   {
    "duration": 405,
    "start_time": "2023-01-30T11:01:51.669Z"
   },
   {
    "duration": 119,
    "start_time": "2023-01-30T12:48:20.641Z"
   },
   {
    "duration": 127,
    "start_time": "2023-01-30T12:51:23.393Z"
   },
   {
    "duration": 138,
    "start_time": "2023-01-30T12:54:42.469Z"
   },
   {
    "duration": 148,
    "start_time": "2023-01-30T12:55:32.645Z"
   },
   {
    "duration": 153,
    "start_time": "2023-01-30T12:55:43.269Z"
   },
   {
    "duration": 144,
    "start_time": "2023-01-30T12:55:49.092Z"
   },
   {
    "duration": 154,
    "start_time": "2023-01-30T12:56:20.013Z"
   },
   {
    "duration": 16,
    "start_time": "2023-01-30T13:10:46.208Z"
   },
   {
    "duration": 15,
    "start_time": "2023-01-30T13:12:01.070Z"
   },
   {
    "duration": 265,
    "start_time": "2023-01-30T13:12:59.552Z"
   },
   {
    "duration": 147,
    "start_time": "2023-01-30T13:13:44.647Z"
   },
   {
    "duration": 136,
    "start_time": "2023-01-30T13:14:23.191Z"
   },
   {
    "duration": 165,
    "start_time": "2023-01-30T13:15:10.567Z"
   },
   {
    "duration": 161,
    "start_time": "2023-01-30T13:16:04.887Z"
   },
   {
    "duration": 54,
    "start_time": "2023-01-30T13:16:17.689Z"
   },
   {
    "duration": 48,
    "start_time": "2023-01-30T13:16:24.640Z"
   },
   {
    "duration": 138,
    "start_time": "2023-01-30T13:16:33.718Z"
   },
   {
    "duration": 354,
    "start_time": "2023-01-30T13:17:04.199Z"
   },
   {
    "duration": 160,
    "start_time": "2023-01-30T13:18:10.647Z"
   },
   {
    "duration": 156,
    "start_time": "2023-01-30T13:19:08.376Z"
   },
   {
    "duration": 571,
    "start_time": "2023-01-30T16:59:24.113Z"
   },
   {
    "duration": 21,
    "start_time": "2023-01-30T16:59:24.685Z"
   },
   {
    "duration": 42,
    "start_time": "2023-01-30T16:59:24.707Z"
   },
   {
    "duration": 42,
    "start_time": "2023-01-30T16:59:24.750Z"
   },
   {
    "duration": 80,
    "start_time": "2023-01-30T16:59:24.794Z"
   },
   {
    "duration": 4,
    "start_time": "2023-01-30T16:59:24.875Z"
   },
   {
    "duration": 55,
    "start_time": "2023-01-30T16:59:24.881Z"
   },
   {
    "duration": 55,
    "start_time": "2023-01-30T16:59:24.938Z"
   },
   {
    "duration": 76,
    "start_time": "2023-01-30T16:59:24.995Z"
   },
   {
    "duration": 52,
    "start_time": "2023-01-30T16:59:25.073Z"
   },
   {
    "duration": 91,
    "start_time": "2023-01-30T16:59:25.127Z"
   },
   {
    "duration": 54,
    "start_time": "2023-01-30T16:59:25.221Z"
   },
   {
    "duration": 42,
    "start_time": "2023-01-30T16:59:25.276Z"
   },
   {
    "duration": 40,
    "start_time": "2023-01-30T16:59:25.321Z"
   },
   {
    "duration": 81,
    "start_time": "2023-01-30T16:59:25.363Z"
   },
   {
    "duration": 52,
    "start_time": "2023-01-30T16:59:25.447Z"
   },
   {
    "duration": 23,
    "start_time": "2023-01-30T16:59:25.501Z"
   },
   {
    "duration": 69,
    "start_time": "2023-01-30T16:59:25.526Z"
   },
   {
    "duration": 52,
    "start_time": "2023-01-30T16:59:25.597Z"
   },
   {
    "duration": 24,
    "start_time": "2023-01-30T16:59:25.651Z"
   },
   {
    "duration": 59,
    "start_time": "2023-01-30T16:59:25.677Z"
   },
   {
    "duration": 655,
    "start_time": "2023-01-30T16:59:25.738Z"
   },
   {
    "duration": 133,
    "start_time": "2023-01-30T16:59:26.399Z"
   },
   {
    "duration": 4,
    "start_time": "2023-01-30T16:59:26.534Z"
   },
   {
    "duration": 37,
    "start_time": "2023-01-30T16:59:26.539Z"
   },
   {
    "duration": 29,
    "start_time": "2023-01-30T16:59:26.578Z"
   },
   {
    "duration": 6,
    "start_time": "2023-01-30T17:20:26.880Z"
   },
   {
    "duration": 6,
    "start_time": "2023-01-30T17:21:25.757Z"
   },
   {
    "duration": 7,
    "start_time": "2023-01-30T17:21:44.016Z"
   },
   {
    "duration": 6,
    "start_time": "2023-01-30T17:21:49.760Z"
   },
   {
    "duration": 9,
    "start_time": "2023-01-30T17:24:57.839Z"
   },
   {
    "duration": 9,
    "start_time": "2023-01-30T18:08:52.031Z"
   },
   {
    "duration": 11,
    "start_time": "2023-01-30T18:09:07.230Z"
   },
   {
    "duration": 10,
    "start_time": "2023-01-30T18:09:19.665Z"
   },
   {
    "duration": 10,
    "start_time": "2023-01-30T18:09:47.730Z"
   },
   {
    "duration": 131,
    "start_time": "2023-01-30T18:17:48.813Z"
   },
   {
    "duration": 94,
    "start_time": "2023-01-30T18:18:50.876Z"
   },
   {
    "duration": 80,
    "start_time": "2023-01-30T18:18:54.688Z"
   },
   {
    "duration": 135,
    "start_time": "2023-01-30T18:18:56.481Z"
   },
   {
    "duration": 206,
    "start_time": "2023-01-30T18:19:42.554Z"
   },
   {
    "duration": 141,
    "start_time": "2023-01-30T18:20:36.360Z"
   },
   {
    "duration": 147,
    "start_time": "2023-01-30T18:22:33.584Z"
   },
   {
    "duration": 88,
    "start_time": "2023-01-30T18:22:38.182Z"
   },
   {
    "duration": 136,
    "start_time": "2023-01-30T18:22:39.922Z"
   },
   {
    "duration": 155,
    "start_time": "2023-01-30T18:23:06.786Z"
   },
   {
    "duration": 156,
    "start_time": "2023-01-30T18:23:16.260Z"
   },
   {
    "duration": 125,
    "start_time": "2023-01-30T18:30:56.712Z"
   },
   {
    "duration": 154,
    "start_time": "2023-01-30T18:31:03.705Z"
   },
   {
    "duration": 158,
    "start_time": "2023-01-30T18:31:07.165Z"
   },
   {
    "duration": 128,
    "start_time": "2023-01-30T18:31:10.705Z"
   },
   {
    "duration": 123,
    "start_time": "2023-01-30T18:31:15.225Z"
   },
   {
    "duration": 186,
    "start_time": "2023-01-30T18:33:11.572Z"
   },
   {
    "duration": 130,
    "start_time": "2023-01-30T18:33:20.348Z"
   },
   {
    "duration": 138,
    "start_time": "2023-01-30T18:33:25.826Z"
   },
   {
    "duration": 153,
    "start_time": "2023-01-30T18:35:04.027Z"
   },
   {
    "duration": 151,
    "start_time": "2023-01-30T18:42:03.546Z"
   },
   {
    "duration": 162,
    "start_time": "2023-01-30T18:42:35.573Z"
   },
   {
    "duration": 151,
    "start_time": "2023-01-30T18:42:45.324Z"
   },
   {
    "duration": 117,
    "start_time": "2023-01-30T18:42:58.688Z"
   },
   {
    "duration": 116,
    "start_time": "2023-01-30T18:43:23.249Z"
   },
   {
    "duration": 117,
    "start_time": "2023-01-30T18:43:40.665Z"
   },
   {
    "duration": 162,
    "start_time": "2023-01-30T18:46:40.432Z"
   },
   {
    "duration": 156,
    "start_time": "2023-01-30T18:46:52.183Z"
   },
   {
    "duration": 165,
    "start_time": "2023-01-30T18:46:56.894Z"
   },
   {
    "duration": 202,
    "start_time": "2023-01-30T18:46:59.840Z"
   },
   {
    "duration": 145,
    "start_time": "2023-01-30T18:47:05.269Z"
   },
   {
    "duration": 230,
    "start_time": "2023-01-30T18:47:17.721Z"
   },
   {
    "duration": 126,
    "start_time": "2023-01-30T18:47:24.517Z"
   },
   {
    "duration": 126,
    "start_time": "2023-01-30T18:47:27.982Z"
   },
   {
    "duration": 113,
    "start_time": "2023-01-30T18:47:38.563Z"
   },
   {
    "duration": 152,
    "start_time": "2023-01-30T18:47:48.242Z"
   },
   {
    "duration": 126,
    "start_time": "2023-01-30T18:47:59.750Z"
   },
   {
    "duration": 125,
    "start_time": "2023-01-30T18:51:56.455Z"
   },
   {
    "duration": 137,
    "start_time": "2023-01-30T18:52:02.304Z"
   },
   {
    "duration": 133,
    "start_time": "2023-01-30T18:52:14.298Z"
   },
   {
    "duration": 258,
    "start_time": "2023-01-30T18:53:04.914Z"
   },
   {
    "duration": 122,
    "start_time": "2023-01-30T18:53:13.779Z"
   },
   {
    "duration": 127,
    "start_time": "2023-01-30T18:53:18.346Z"
   },
   {
    "duration": 143,
    "start_time": "2023-01-30T18:53:24.956Z"
   },
   {
    "duration": 158,
    "start_time": "2023-01-30T18:53:33.144Z"
   },
   {
    "duration": 16,
    "start_time": "2023-01-30T18:57:03.419Z"
   },
   {
    "duration": 23,
    "start_time": "2023-01-30T18:58:30.507Z"
   },
   {
    "duration": 26,
    "start_time": "2023-01-30T18:58:40.139Z"
   },
   {
    "duration": 16,
    "start_time": "2023-01-30T18:58:53.406Z"
   },
   {
    "duration": 6,
    "start_time": "2023-01-30T18:59:59.625Z"
   },
   {
    "duration": 10,
    "start_time": "2023-01-30T19:03:58.852Z"
   },
   {
    "duration": 65,
    "start_time": "2023-01-30T19:04:20.495Z"
   },
   {
    "duration": 9,
    "start_time": "2023-01-30T19:04:31.272Z"
   },
   {
    "duration": 8,
    "start_time": "2023-01-30T19:04:36.366Z"
   },
   {
    "duration": 10,
    "start_time": "2023-01-30T19:05:33.728Z"
   },
   {
    "duration": 137,
    "start_time": "2023-01-30T19:09:57.403Z"
   },
   {
    "duration": 109,
    "start_time": "2023-01-30T19:10:01.853Z"
   },
   {
    "duration": 142,
    "start_time": "2023-01-30T19:10:09.531Z"
   },
   {
    "duration": 107,
    "start_time": "2023-01-30T19:11:47.379Z"
   },
   {
    "duration": 212,
    "start_time": "2023-01-30T19:12:15.765Z"
   },
   {
    "duration": 224,
    "start_time": "2023-01-30T19:12:27.060Z"
   },
   {
    "duration": 307,
    "start_time": "2023-01-30T19:14:55.498Z"
   },
   {
    "duration": 206,
    "start_time": "2023-01-30T19:15:18.075Z"
   },
   {
    "duration": 173,
    "start_time": "2023-01-30T19:15:26.105Z"
   },
   {
    "duration": 202,
    "start_time": "2023-01-30T19:16:01.788Z"
   },
   {
    "duration": 200,
    "start_time": "2023-01-30T19:16:28.185Z"
   },
   {
    "duration": 183,
    "start_time": "2023-01-30T19:16:51.010Z"
   },
   {
    "duration": 159,
    "start_time": "2023-01-30T19:17:05.153Z"
   },
   {
    "duration": 160,
    "start_time": "2023-01-30T19:30:15.756Z"
   },
   {
    "duration": 167,
    "start_time": "2023-01-30T19:30:22.052Z"
   },
   {
    "duration": 170,
    "start_time": "2023-01-30T19:30:28.121Z"
   },
   {
    "duration": 185,
    "start_time": "2023-01-30T19:30:31.031Z"
   },
   {
    "duration": 158,
    "start_time": "2023-01-30T19:30:40.736Z"
   },
   {
    "duration": 184,
    "start_time": "2023-01-30T19:31:51.480Z"
   },
   {
    "duration": 255,
    "start_time": "2023-01-30T19:31:55.314Z"
   },
   {
    "duration": 196,
    "start_time": "2023-01-30T19:32:44.047Z"
   },
   {
    "duration": 169,
    "start_time": "2023-01-30T19:33:54.983Z"
   },
   {
    "duration": 123,
    "start_time": "2023-01-30T19:37:08.584Z"
   },
   {
    "duration": 117,
    "start_time": "2023-01-30T19:42:20.368Z"
   },
   {
    "duration": 71,
    "start_time": "2023-01-30T19:45:49.914Z"
   },
   {
    "duration": 109,
    "start_time": "2023-01-30T19:45:57.336Z"
   },
   {
    "duration": 106,
    "start_time": "2023-01-30T19:46:03.117Z"
   },
   {
    "duration": 149,
    "start_time": "2023-01-30T19:47:29.040Z"
   },
   {
    "duration": 136,
    "start_time": "2023-01-30T19:48:36.135Z"
   },
   {
    "duration": 162,
    "start_time": "2023-01-30T19:50:06.422Z"
   },
   {
    "duration": 116,
    "start_time": "2023-01-30T19:50:46.151Z"
   },
   {
    "duration": 168,
    "start_time": "2023-01-30T19:51:41.278Z"
   },
   {
    "duration": 246,
    "start_time": "2023-01-30T19:52:01.138Z"
   },
   {
    "duration": 171,
    "start_time": "2023-01-30T19:52:51.246Z"
   },
   {
    "duration": 660,
    "start_time": "2023-01-31T10:28:50.047Z"
   },
   {
    "duration": 498,
    "start_time": "2023-01-31T10:28:57.548Z"
   },
   {
    "duration": 20,
    "start_time": "2023-01-31T10:28:58.048Z"
   },
   {
    "duration": 17,
    "start_time": "2023-01-31T10:28:58.070Z"
   },
   {
    "duration": 10,
    "start_time": "2023-01-31T10:28:58.090Z"
   },
   {
    "duration": 39,
    "start_time": "2023-01-31T10:28:58.101Z"
   },
   {
    "duration": 4,
    "start_time": "2023-01-31T10:28:58.141Z"
   },
   {
    "duration": 14,
    "start_time": "2023-01-31T10:28:58.147Z"
   },
   {
    "duration": 18,
    "start_time": "2023-01-31T10:28:58.163Z"
   },
   {
    "duration": 6,
    "start_time": "2023-01-31T10:28:58.182Z"
   },
   {
    "duration": 4,
    "start_time": "2023-01-31T10:28:58.190Z"
   },
   {
    "duration": 36,
    "start_time": "2023-01-31T10:28:58.196Z"
   },
   {
    "duration": 9,
    "start_time": "2023-01-31T10:28:58.234Z"
   },
   {
    "duration": 7,
    "start_time": "2023-01-31T10:28:58.244Z"
   },
   {
    "duration": 35,
    "start_time": "2023-01-31T10:28:58.253Z"
   },
   {
    "duration": 20,
    "start_time": "2023-01-31T10:28:58.290Z"
   },
   {
    "duration": 19,
    "start_time": "2023-01-31T10:28:58.312Z"
   },
   {
    "duration": 4,
    "start_time": "2023-01-31T10:28:58.333Z"
   },
   {
    "duration": 19,
    "start_time": "2023-01-31T10:28:58.338Z"
   },
   {
    "duration": 23,
    "start_time": "2023-01-31T10:28:58.359Z"
   },
   {
    "duration": 3,
    "start_time": "2023-01-31T10:28:58.384Z"
   },
   {
    "duration": 17,
    "start_time": "2023-01-31T10:28:58.389Z"
   },
   {
    "duration": 151,
    "start_time": "2023-01-31T10:28:58.407Z"
   },
   {
    "duration": 136,
    "start_time": "2023-01-31T10:28:58.560Z"
   },
   {
    "duration": 29,
    "start_time": "2023-01-31T10:28:58.698Z"
   },
   {
    "duration": 0,
    "start_time": "2023-01-31T10:28:58.728Z"
   },
   {
    "duration": 0,
    "start_time": "2023-01-31T10:28:58.729Z"
   },
   {
    "duration": 113,
    "start_time": "2023-01-31T10:29:18.025Z"
   },
   {
    "duration": 12,
    "start_time": "2023-01-31T10:54:54.625Z"
   },
   {
    "duration": 73,
    "start_time": "2023-01-31T10:55:03.549Z"
   },
   {
    "duration": 15,
    "start_time": "2023-01-31T10:55:03.624Z"
   },
   {
    "duration": 30,
    "start_time": "2023-01-31T10:55:03.641Z"
   },
   {
    "duration": 15,
    "start_time": "2023-01-31T10:55:03.674Z"
   },
   {
    "duration": 39,
    "start_time": "2023-01-31T10:55:03.691Z"
   },
   {
    "duration": 4,
    "start_time": "2023-01-31T10:55:03.732Z"
   },
   {
    "duration": 14,
    "start_time": "2023-01-31T10:55:03.737Z"
   },
   {
    "duration": 38,
    "start_time": "2023-01-31T10:55:03.753Z"
   },
   {
    "duration": 6,
    "start_time": "2023-01-31T10:55:03.793Z"
   },
   {
    "duration": 7,
    "start_time": "2023-01-31T10:55:03.801Z"
   },
   {
    "duration": 35,
    "start_time": "2023-01-31T10:55:03.810Z"
   },
   {
    "duration": 10,
    "start_time": "2023-01-31T10:55:03.846Z"
   },
   {
    "duration": 4,
    "start_time": "2023-01-31T10:55:03.857Z"
   },
   {
    "duration": 26,
    "start_time": "2023-01-31T10:55:03.862Z"
   },
   {
    "duration": 19,
    "start_time": "2023-01-31T10:55:03.890Z"
   },
   {
    "duration": 19,
    "start_time": "2023-01-31T10:55:03.910Z"
   },
   {
    "duration": 4,
    "start_time": "2023-01-31T10:55:03.930Z"
   },
   {
    "duration": 12,
    "start_time": "2023-01-31T10:55:03.936Z"
   },
   {
    "duration": 32,
    "start_time": "2023-01-31T10:55:03.950Z"
   },
   {
    "duration": 7,
    "start_time": "2023-01-31T10:55:03.984Z"
   },
   {
    "duration": 12,
    "start_time": "2023-01-31T10:55:03.992Z"
   },
   {
    "duration": 126,
    "start_time": "2023-01-31T10:55:04.005Z"
   },
   {
    "duration": 124,
    "start_time": "2023-01-31T10:55:04.133Z"
   },
   {
    "duration": 24,
    "start_time": "2023-01-31T10:55:04.258Z"
   },
   {
    "duration": 0,
    "start_time": "2023-01-31T10:55:04.284Z"
   },
   {
    "duration": 0,
    "start_time": "2023-01-31T10:55:04.285Z"
   },
   {
    "duration": 13,
    "start_time": "2023-01-31T10:55:07.745Z"
   },
   {
    "duration": 19,
    "start_time": "2023-01-31T10:55:30.546Z"
   },
   {
    "duration": 254,
    "start_time": "2023-01-31T10:55:50.639Z"
   },
   {
    "duration": 42,
    "start_time": "2023-01-31T10:56:25.650Z"
   },
   {
    "duration": 64,
    "start_time": "2023-01-31T10:56:29.514Z"
   },
   {
    "duration": 48,
    "start_time": "2023-01-31T10:56:34.787Z"
   },
   {
    "duration": 48,
    "start_time": "2023-01-31T10:56:48.018Z"
   },
   {
    "duration": 50,
    "start_time": "2023-01-31T10:56:53.587Z"
   },
   {
    "duration": 126,
    "start_time": "2023-01-31T10:57:16.163Z"
   },
   {
    "duration": 120,
    "start_time": "2023-01-31T10:57:38.970Z"
   },
   {
    "duration": 131,
    "start_time": "2023-01-31T10:58:00.451Z"
   },
   {
    "duration": 136,
    "start_time": "2023-01-31T11:00:07.085Z"
   },
   {
    "duration": 109,
    "start_time": "2023-01-31T11:06:15.844Z"
   },
   {
    "duration": 134,
    "start_time": "2023-01-31T11:22:30.508Z"
   },
   {
    "duration": 123,
    "start_time": "2023-01-31T11:23:30.420Z"
   },
   {
    "duration": 135,
    "start_time": "2023-01-31T11:23:40.443Z"
   },
   {
    "duration": 150,
    "start_time": "2023-01-31T11:23:49.860Z"
   },
   {
    "duration": 156,
    "start_time": "2023-01-31T11:25:26.947Z"
   },
   {
    "duration": 215,
    "start_time": "2023-01-31T11:25:50.074Z"
   },
   {
    "duration": 123,
    "start_time": "2023-01-31T11:26:58.794Z"
   },
   {
    "duration": 137,
    "start_time": "2023-01-31T11:27:55.045Z"
   },
   {
    "duration": 154,
    "start_time": "2023-01-31T11:28:03.955Z"
   },
   {
    "duration": 119,
    "start_time": "2023-01-31T11:28:23.098Z"
   },
   {
    "duration": 170,
    "start_time": "2023-01-31T11:34:26.361Z"
   },
   {
    "duration": 117,
    "start_time": "2023-01-31T11:34:49.090Z"
   },
   {
    "duration": 143,
    "start_time": "2023-01-31T11:35:30.641Z"
   },
   {
    "duration": 962,
    "start_time": "2023-01-31T11:36:20.259Z"
   },
   {
    "duration": 45,
    "start_time": "2023-01-31T11:37:10.201Z"
   },
   {
    "duration": 928,
    "start_time": "2023-01-31T11:37:15.232Z"
   },
   {
    "duration": 136,
    "start_time": "2023-01-31T11:37:49.258Z"
   },
   {
    "duration": 181,
    "start_time": "2023-01-31T11:38:11.905Z"
   },
   {
    "duration": 142,
    "start_time": "2023-01-31T11:39:23.547Z"
   },
   {
    "duration": 139,
    "start_time": "2023-01-31T11:39:31.096Z"
   },
   {
    "duration": 144,
    "start_time": "2023-01-31T11:39:44.769Z"
   },
   {
    "duration": 139,
    "start_time": "2023-01-31T11:40:06.081Z"
   },
   {
    "duration": 129,
    "start_time": "2023-01-31T11:40:10.784Z"
   },
   {
    "duration": 134,
    "start_time": "2023-01-31T11:40:28.608Z"
   },
   {
    "duration": 137,
    "start_time": "2023-01-31T11:40:41.761Z"
   },
   {
    "duration": 132,
    "start_time": "2023-01-31T11:41:30.857Z"
   },
   {
    "duration": 130,
    "start_time": "2023-01-31T11:41:46.585Z"
   },
   {
    "duration": 134,
    "start_time": "2023-01-31T11:41:57.328Z"
   },
   {
    "duration": 178,
    "start_time": "2023-01-31T11:42:10.448Z"
   },
   {
    "duration": 134,
    "start_time": "2023-01-31T11:42:16.736Z"
   },
   {
    "duration": 196,
    "start_time": "2023-01-31T11:42:26.289Z"
   },
   {
    "duration": 157,
    "start_time": "2023-01-31T11:42:51.880Z"
   },
   {
    "duration": 130,
    "start_time": "2023-01-31T11:43:01.889Z"
   },
   {
    "duration": 142,
    "start_time": "2023-01-31T11:43:08.520Z"
   },
   {
    "duration": 122,
    "start_time": "2023-01-31T11:44:32.688Z"
   },
   {
    "duration": 131,
    "start_time": "2023-01-31T11:44:42.358Z"
   },
   {
    "duration": 148,
    "start_time": "2023-01-31T11:45:05.452Z"
   },
   {
    "duration": 163,
    "start_time": "2023-01-31T11:46:16.248Z"
   },
   {
    "duration": 1386,
    "start_time": "2023-01-31T11:47:47.459Z"
   },
   {
    "duration": 236,
    "start_time": "2023-01-31T11:48:19.057Z"
   },
   {
    "duration": 127,
    "start_time": "2023-01-31T11:48:25.368Z"
   },
   {
    "duration": 662,
    "start_time": "2023-01-31T14:15:19.906Z"
   },
   {
    "duration": 21,
    "start_time": "2023-01-31T14:15:20.570Z"
   },
   {
    "duration": 14,
    "start_time": "2023-01-31T14:15:20.593Z"
   },
   {
    "duration": 9,
    "start_time": "2023-01-31T14:15:20.609Z"
   },
   {
    "duration": 48,
    "start_time": "2023-01-31T14:15:20.620Z"
   },
   {
    "duration": 3,
    "start_time": "2023-01-31T14:15:20.670Z"
   },
   {
    "duration": 24,
    "start_time": "2023-01-31T14:15:20.675Z"
   },
   {
    "duration": 22,
    "start_time": "2023-01-31T14:15:20.701Z"
   },
   {
    "duration": 19,
    "start_time": "2023-01-31T14:15:20.724Z"
   },
   {
    "duration": 4,
    "start_time": "2023-01-31T14:15:20.745Z"
   },
   {
    "duration": 33,
    "start_time": "2023-01-31T14:15:20.750Z"
   },
   {
    "duration": 9,
    "start_time": "2023-01-31T14:15:20.785Z"
   },
   {
    "duration": 4,
    "start_time": "2023-01-31T14:15:20.795Z"
   },
   {
    "duration": 17,
    "start_time": "2023-01-31T14:15:20.801Z"
   },
   {
    "duration": 38,
    "start_time": "2023-01-31T14:15:20.820Z"
   },
   {
    "duration": 15,
    "start_time": "2023-01-31T14:15:20.860Z"
   },
   {
    "duration": 3,
    "start_time": "2023-01-31T14:15:20.877Z"
   },
   {
    "duration": 20,
    "start_time": "2023-01-31T14:15:20.881Z"
   },
   {
    "duration": 12,
    "start_time": "2023-01-31T14:15:20.903Z"
   },
   {
    "duration": 17,
    "start_time": "2023-01-31T14:15:20.917Z"
   },
   {
    "duration": 38,
    "start_time": "2023-01-31T14:15:20.936Z"
   },
   {
    "duration": 482,
    "start_time": "2023-01-31T14:15:20.976Z"
   },
   {
    "duration": 0,
    "start_time": "2023-01-31T14:15:21.467Z"
   },
   {
    "duration": 0,
    "start_time": "2023-01-31T14:15:21.468Z"
   },
   {
    "duration": 0,
    "start_time": "2023-01-31T14:15:21.469Z"
   },
   {
    "duration": 0,
    "start_time": "2023-01-31T14:15:21.471Z"
   },
   {
    "duration": 18,
    "start_time": "2023-01-31T14:17:23.272Z"
   },
   {
    "duration": 21,
    "start_time": "2023-01-31T14:17:30.914Z"
   },
   {
    "duration": 974,
    "start_time": "2023-01-31T14:19:41.418Z"
   },
   {
    "duration": 5,
    "start_time": "2023-01-31T14:20:02.762Z"
   },
   {
    "duration": 735,
    "start_time": "2023-01-31T14:20:23.910Z"
   },
   {
    "duration": 22,
    "start_time": "2023-01-31T14:20:53.707Z"
   },
   {
    "duration": 15,
    "start_time": "2023-01-31T14:20:58.674Z"
   },
   {
    "duration": 22,
    "start_time": "2023-01-31T14:23:28.699Z"
   },
   {
    "duration": 19,
    "start_time": "2023-01-31T14:23:42.371Z"
   },
   {
    "duration": 17,
    "start_time": "2023-01-31T14:24:54.163Z"
   },
   {
    "duration": 15,
    "start_time": "2023-01-31T14:25:26.515Z"
   },
   {
    "duration": 21,
    "start_time": "2023-01-31T14:26:14.251Z"
   },
   {
    "duration": 131,
    "start_time": "2023-01-31T14:26:33.684Z"
   },
   {
    "duration": 562,
    "start_time": "2023-01-31T17:51:06.225Z"
   },
   {
    "duration": 21,
    "start_time": "2023-01-31T17:51:06.788Z"
   },
   {
    "duration": 21,
    "start_time": "2023-01-31T17:51:06.811Z"
   },
   {
    "duration": 43,
    "start_time": "2023-01-31T17:51:06.834Z"
   },
   {
    "duration": 60,
    "start_time": "2023-01-31T17:51:06.879Z"
   },
   {
    "duration": 7,
    "start_time": "2023-01-31T17:51:06.941Z"
   },
   {
    "duration": 44,
    "start_time": "2023-01-31T17:51:06.950Z"
   },
   {
    "duration": 14,
    "start_time": "2023-01-31T17:51:06.995Z"
   },
   {
    "duration": 32,
    "start_time": "2023-01-31T17:51:07.011Z"
   },
   {
    "duration": 31,
    "start_time": "2023-01-31T17:51:07.045Z"
   },
   {
    "duration": 58,
    "start_time": "2023-01-31T17:51:07.077Z"
   },
   {
    "duration": 8,
    "start_time": "2023-01-31T17:51:07.137Z"
   },
   {
    "duration": 40,
    "start_time": "2023-01-31T17:51:07.146Z"
   },
   {
    "duration": 41,
    "start_time": "2023-01-31T17:51:07.188Z"
   },
   {
    "duration": 47,
    "start_time": "2023-01-31T17:51:07.230Z"
   },
   {
    "duration": 48,
    "start_time": "2023-01-31T17:51:07.278Z"
   },
   {
    "duration": 27,
    "start_time": "2023-01-31T17:51:07.328Z"
   },
   {
    "duration": 45,
    "start_time": "2023-01-31T17:51:07.357Z"
   },
   {
    "duration": 37,
    "start_time": "2023-01-31T17:51:07.403Z"
   },
   {
    "duration": 42,
    "start_time": "2023-01-31T17:51:07.441Z"
   },
   {
    "duration": 51,
    "start_time": "2023-01-31T17:51:07.486Z"
   },
   {
    "duration": 588,
    "start_time": "2023-01-31T17:51:07.539Z"
   },
   {
    "duration": 81,
    "start_time": "2023-01-31T17:51:08.128Z"
   },
   {
    "duration": 0,
    "start_time": "2023-01-31T17:51:08.210Z"
   },
   {
    "duration": 0,
    "start_time": "2023-01-31T17:51:08.212Z"
   },
   {
    "duration": 0,
    "start_time": "2023-01-31T17:51:08.212Z"
   },
   {
    "duration": 176,
    "start_time": "2023-01-31T17:51:25.538Z"
   },
   {
    "duration": 140,
    "start_time": "2023-01-31T17:51:55.009Z"
   },
   {
    "duration": 132,
    "start_time": "2023-01-31T17:54:10.318Z"
   },
   {
    "duration": 189,
    "start_time": "2023-01-31T17:55:10.071Z"
   },
   {
    "duration": 151,
    "start_time": "2023-01-31T17:55:21.763Z"
   },
   {
    "duration": 1106,
    "start_time": "2023-01-31T18:02:49.134Z"
   },
   {
    "duration": 1128,
    "start_time": "2023-01-31T18:03:19.924Z"
   },
   {
    "duration": 1131,
    "start_time": "2023-01-31T18:03:34.919Z"
   },
   {
    "duration": 1149,
    "start_time": "2023-01-31T18:03:42.735Z"
   },
   {
    "duration": 1150,
    "start_time": "2023-01-31T18:04:52.945Z"
   },
   {
    "duration": 1137,
    "start_time": "2023-01-31T18:05:10.100Z"
   },
   {
    "duration": 144,
    "start_time": "2023-01-31T18:05:21.975Z"
   },
   {
    "duration": 18,
    "start_time": "2023-01-31T18:05:31.233Z"
   },
   {
    "duration": 17,
    "start_time": "2023-01-31T18:05:42.115Z"
   },
   {
    "duration": 1175,
    "start_time": "2023-01-31T18:06:10.764Z"
   },
   {
    "duration": 17,
    "start_time": "2023-01-31T18:06:33.350Z"
   },
   {
    "duration": 1148,
    "start_time": "2023-01-31T18:07:11.586Z"
   },
   {
    "duration": 1167,
    "start_time": "2023-01-31T18:07:27.747Z"
   },
   {
    "duration": 16,
    "start_time": "2023-01-31T18:07:37.758Z"
   },
   {
    "duration": 15,
    "start_time": "2023-01-31T18:07:59.977Z"
   },
   {
    "duration": 16,
    "start_time": "2023-01-31T18:08:05.732Z"
   },
   {
    "duration": 14,
    "start_time": "2023-01-31T18:08:14.125Z"
   },
   {
    "duration": 24,
    "start_time": "2023-01-31T18:08:35.001Z"
   },
   {
    "duration": 122,
    "start_time": "2023-01-31T18:09:30.785Z"
   },
   {
    "duration": 122,
    "start_time": "2023-01-31T18:14:25.209Z"
   },
   {
    "duration": 144,
    "start_time": "2023-01-31T18:15:35.631Z"
   },
   {
    "duration": 102,
    "start_time": "2023-01-31T18:28:54.282Z"
   },
   {
    "duration": 83,
    "start_time": "2023-01-31T18:30:05.949Z"
   },
   {
    "duration": 17,
    "start_time": "2023-01-31T18:30:28.323Z"
   },
   {
    "duration": 17,
    "start_time": "2023-01-31T18:31:02.248Z"
   },
   {
    "duration": 15,
    "start_time": "2023-01-31T18:31:19.966Z"
   },
   {
    "duration": 20,
    "start_time": "2023-01-31T18:32:01.119Z"
   },
   {
    "duration": 15,
    "start_time": "2023-01-31T18:32:35.387Z"
   },
   {
    "duration": 22,
    "start_time": "2023-01-31T18:32:44.830Z"
   },
   {
    "duration": 130,
    "start_time": "2023-01-31T18:33:20.826Z"
   },
   {
    "duration": 127,
    "start_time": "2023-01-31T18:40:25.903Z"
   },
   {
    "duration": 72,
    "start_time": "2023-01-31T18:40:43.823Z"
   },
   {
    "duration": 73,
    "start_time": "2023-01-31T18:40:49.297Z"
   },
   {
    "duration": 125,
    "start_time": "2023-01-31T18:40:52.504Z"
   },
   {
    "duration": 136,
    "start_time": "2023-01-31T18:40:59.936Z"
   },
   {
    "duration": 199,
    "start_time": "2023-01-31T18:41:25.619Z"
   },
   {
    "duration": 137,
    "start_time": "2023-01-31T18:48:00.201Z"
   },
   {
    "duration": 16,
    "start_time": "2023-01-31T18:52:45.147Z"
   },
   {
    "duration": 16,
    "start_time": "2023-01-31T18:53:07.299Z"
   },
   {
    "duration": 16,
    "start_time": "2023-01-31T18:53:17.390Z"
   },
   {
    "duration": 16,
    "start_time": "2023-01-31T18:53:34.157Z"
   },
   {
    "duration": 18,
    "start_time": "2023-01-31T18:53:45.155Z"
   },
   {
    "duration": 133,
    "start_time": "2023-01-31T18:57:02.569Z"
   },
   {
    "duration": 139,
    "start_time": "2023-01-31T18:59:44.730Z"
   },
   {
    "duration": 142,
    "start_time": "2023-01-31T19:27:02.135Z"
   },
   {
    "duration": 521,
    "start_time": "2023-02-01T07:09:25.109Z"
   },
   {
    "duration": 24,
    "start_time": "2023-02-01T07:09:25.632Z"
   },
   {
    "duration": 23,
    "start_time": "2023-02-01T07:09:25.658Z"
   },
   {
    "duration": 23,
    "start_time": "2023-02-01T07:09:25.683Z"
   },
   {
    "duration": 54,
    "start_time": "2023-02-01T07:09:25.708Z"
   },
   {
    "duration": 5,
    "start_time": "2023-02-01T07:09:25.763Z"
   },
   {
    "duration": 24,
    "start_time": "2023-02-01T07:09:25.770Z"
   },
   {
    "duration": 32,
    "start_time": "2023-02-01T07:09:25.796Z"
   },
   {
    "duration": 15,
    "start_time": "2023-02-01T07:09:25.829Z"
   },
   {
    "duration": 25,
    "start_time": "2023-02-01T07:09:25.847Z"
   },
   {
    "duration": 44,
    "start_time": "2023-02-01T07:09:25.874Z"
   },
   {
    "duration": 11,
    "start_time": "2023-02-01T07:09:25.920Z"
   },
   {
    "duration": 22,
    "start_time": "2023-02-01T07:09:25.933Z"
   },
   {
    "duration": 41,
    "start_time": "2023-02-01T07:09:25.957Z"
   },
   {
    "duration": 46,
    "start_time": "2023-02-01T07:09:26.000Z"
   },
   {
    "duration": 26,
    "start_time": "2023-02-01T07:09:26.049Z"
   },
   {
    "duration": 10,
    "start_time": "2023-02-01T07:09:26.077Z"
   },
   {
    "duration": 35,
    "start_time": "2023-02-01T07:09:26.089Z"
   },
   {
    "duration": 30,
    "start_time": "2023-02-01T07:09:26.126Z"
   },
   {
    "duration": 13,
    "start_time": "2023-02-01T07:09:26.158Z"
   },
   {
    "duration": 45,
    "start_time": "2023-02-01T07:09:26.172Z"
   },
   {
    "duration": 567,
    "start_time": "2023-02-01T07:09:26.218Z"
   },
   {
    "duration": 166,
    "start_time": "2023-02-01T07:09:26.787Z"
   },
   {
    "duration": 135,
    "start_time": "2023-02-01T07:09:26.955Z"
   },
   {
    "duration": 161,
    "start_time": "2023-02-01T07:09:27.091Z"
   },
   {
    "duration": 34,
    "start_time": "2023-02-01T07:12:27.655Z"
   },
   {
    "duration": 87,
    "start_time": "2023-02-01T08:52:35.514Z"
   },
   {
    "duration": 71,
    "start_time": "2023-02-01T08:53:12.813Z"
   },
   {
    "duration": 728,
    "start_time": "2023-02-01T18:23:49.514Z"
   },
   {
    "duration": 21,
    "start_time": "2023-02-01T18:23:50.244Z"
   },
   {
    "duration": 31,
    "start_time": "2023-02-01T18:23:50.266Z"
   },
   {
    "duration": 10,
    "start_time": "2023-02-01T18:23:50.299Z"
   },
   {
    "duration": 35,
    "start_time": "2023-02-01T18:23:50.310Z"
   },
   {
    "duration": 3,
    "start_time": "2023-02-01T18:23:50.347Z"
   },
   {
    "duration": 12,
    "start_time": "2023-02-01T18:23:50.351Z"
   },
   {
    "duration": 8,
    "start_time": "2023-02-01T18:23:50.370Z"
   },
   {
    "duration": 12,
    "start_time": "2023-02-01T18:23:50.379Z"
   },
   {
    "duration": 4,
    "start_time": "2023-02-01T18:23:50.394Z"
   },
   {
    "duration": 37,
    "start_time": "2023-02-01T18:23:50.400Z"
   },
   {
    "duration": 11,
    "start_time": "2023-02-01T18:23:50.438Z"
   },
   {
    "duration": 31,
    "start_time": "2023-02-01T18:23:50.451Z"
   },
   {
    "duration": 15,
    "start_time": "2023-02-01T18:23:50.485Z"
   },
   {
    "duration": 28,
    "start_time": "2023-02-01T18:23:50.501Z"
   },
   {
    "duration": 16,
    "start_time": "2023-02-01T18:23:50.531Z"
   },
   {
    "duration": 33,
    "start_time": "2023-02-01T18:23:50.548Z"
   },
   {
    "duration": 12,
    "start_time": "2023-02-01T18:23:50.584Z"
   },
   {
    "duration": 6,
    "start_time": "2023-02-01T18:23:50.598Z"
   },
   {
    "duration": 7,
    "start_time": "2023-02-01T18:23:50.605Z"
   },
   {
    "duration": 12,
    "start_time": "2023-02-01T18:23:50.614Z"
   },
   {
    "duration": 565,
    "start_time": "2023-02-01T18:23:50.628Z"
   },
   {
    "duration": 24,
    "start_time": "2023-02-01T18:23:51.195Z"
   },
   {
    "duration": 170,
    "start_time": "2023-02-01T18:23:51.220Z"
   },
   {
    "duration": 139,
    "start_time": "2023-02-01T18:23:51.392Z"
   },
   {
    "duration": 156,
    "start_time": "2023-02-01T18:23:51.532Z"
   },
   {
    "duration": 30,
    "start_time": "2023-02-01T18:24:13.967Z"
   },
   {
    "duration": 94,
    "start_time": "2023-02-01T18:30:48.764Z"
   },
   {
    "duration": 14,
    "start_time": "2023-02-01T18:30:52.084Z"
   },
   {
    "duration": 31,
    "start_time": "2023-02-01T18:30:54.948Z"
   },
   {
    "duration": 9,
    "start_time": "2023-02-01T18:37:24.706Z"
   },
   {
    "duration": 13,
    "start_time": "2023-02-01T18:37:49.511Z"
   },
   {
    "duration": 46,
    "start_time": "2023-02-01T18:37:51.951Z"
   },
   {
    "duration": 4,
    "start_time": "2023-02-01T18:37:52.881Z"
   },
   {
    "duration": 9,
    "start_time": "2023-02-01T18:37:53.656Z"
   },
   {
    "duration": 5,
    "start_time": "2023-02-01T18:37:55.091Z"
   },
   {
    "duration": 9,
    "start_time": "2023-02-01T18:37:55.981Z"
   },
   {
    "duration": 4,
    "start_time": "2023-02-01T18:37:56.649Z"
   },
   {
    "duration": 35,
    "start_time": "2023-02-01T18:37:59.221Z"
   },
   {
    "duration": 11,
    "start_time": "2023-02-01T18:37:59.849Z"
   },
   {
    "duration": 4,
    "start_time": "2023-02-01T18:38:02.641Z"
   },
   {
    "duration": 12,
    "start_time": "2023-02-01T18:38:03.395Z"
   },
   {
    "duration": 23,
    "start_time": "2023-02-01T18:38:04.015Z"
   },
   {
    "duration": 87,
    "start_time": "2023-02-01T18:38:05.249Z"
   },
   {
    "duration": 4,
    "start_time": "2023-02-01T18:38:07.443Z"
   },
   {
    "duration": 11,
    "start_time": "2023-02-01T18:38:07.975Z"
   },
   {
    "duration": 6,
    "start_time": "2023-02-01T18:38:09.255Z"
   },
   {
    "duration": 4,
    "start_time": "2023-02-01T18:38:11.051Z"
   },
   {
    "duration": 9,
    "start_time": "2023-02-01T18:38:11.593Z"
   },
   {
    "duration": 56,
    "start_time": "2023-02-01T19:06:16.365Z"
   },
   {
    "duration": 53,
    "start_time": "2023-02-01T21:21:14.164Z"
   },
   {
    "duration": 771,
    "start_time": "2023-02-01T21:21:19.311Z"
   },
   {
    "duration": 23,
    "start_time": "2023-02-01T21:21:20.085Z"
   },
   {
    "duration": 19,
    "start_time": "2023-02-01T21:21:20.110Z"
   },
   {
    "duration": 12,
    "start_time": "2023-02-01T21:21:20.132Z"
   },
   {
    "duration": 38,
    "start_time": "2023-02-01T21:21:20.147Z"
   },
   {
    "duration": 4,
    "start_time": "2023-02-01T21:21:20.187Z"
   },
   {
    "duration": 10,
    "start_time": "2023-02-01T21:21:20.221Z"
   },
   {
    "duration": 6,
    "start_time": "2023-02-01T21:21:20.233Z"
   },
   {
    "duration": 9,
    "start_time": "2023-02-01T21:21:20.241Z"
   },
   {
    "duration": 6,
    "start_time": "2023-02-01T21:21:20.252Z"
   },
   {
    "duration": 84,
    "start_time": "2023-02-01T21:21:20.260Z"
   },
   {
    "duration": 12,
    "start_time": "2023-02-01T21:21:20.346Z"
   },
   {
    "duration": 5,
    "start_time": "2023-02-01T21:21:20.360Z"
   },
   {
    "duration": 20,
    "start_time": "2023-02-01T21:21:20.368Z"
   },
   {
    "duration": 40,
    "start_time": "2023-02-01T21:21:20.390Z"
   },
   {
    "duration": 18,
    "start_time": "2023-02-01T21:21:20.432Z"
   },
   {
    "duration": 4,
    "start_time": "2023-02-01T21:21:20.451Z"
   },
   {
    "duration": 16,
    "start_time": "2023-02-01T21:21:20.457Z"
   },
   {
    "duration": 19,
    "start_time": "2023-02-01T21:21:20.474Z"
   },
   {
    "duration": 6,
    "start_time": "2023-02-01T21:21:20.494Z"
   },
   {
    "duration": 26,
    "start_time": "2023-02-01T21:21:20.502Z"
   },
   {
    "duration": 608,
    "start_time": "2023-02-01T21:21:20.529Z"
   },
   {
    "duration": 27,
    "start_time": "2023-02-01T21:21:21.139Z"
   },
   {
    "duration": 196,
    "start_time": "2023-02-01T21:21:21.168Z"
   },
   {
    "duration": 175,
    "start_time": "2023-02-01T21:21:21.366Z"
   },
   {
    "duration": 186,
    "start_time": "2023-02-01T21:21:21.543Z"
   },
   {
    "duration": 224,
    "start_time": "2023-02-01T21:21:22.828Z"
   },
   {
    "duration": 166,
    "start_time": "2023-02-01T21:21:35.283Z"
   },
   {
    "duration": 158,
    "start_time": "2023-02-01T21:21:38.881Z"
   },
   {
    "duration": 160,
    "start_time": "2023-02-01T21:26:08.353Z"
   },
   {
    "duration": 50,
    "start_time": "2023-02-01T21:27:08.586Z"
   },
   {
    "duration": 173,
    "start_time": "2023-02-01T21:27:28.523Z"
   },
   {
    "duration": 163,
    "start_time": "2023-02-01T21:59:55.519Z"
   },
   {
    "duration": 474,
    "start_time": "2023-02-02T07:11:50.947Z"
   },
   {
    "duration": 23,
    "start_time": "2023-02-02T07:11:51.423Z"
   },
   {
    "duration": 28,
    "start_time": "2023-02-02T07:11:51.448Z"
   },
   {
    "duration": 10,
    "start_time": "2023-02-02T07:11:51.486Z"
   },
   {
    "duration": 44,
    "start_time": "2023-02-02T07:11:51.498Z"
   },
   {
    "duration": 4,
    "start_time": "2023-02-02T07:11:51.544Z"
   },
   {
    "duration": 14,
    "start_time": "2023-02-02T07:11:51.550Z"
   },
   {
    "duration": 22,
    "start_time": "2023-02-02T07:11:51.566Z"
   },
   {
    "duration": 14,
    "start_time": "2023-02-02T07:11:51.590Z"
   },
   {
    "duration": 21,
    "start_time": "2023-02-02T07:11:51.608Z"
   },
   {
    "duration": 51,
    "start_time": "2023-02-02T07:11:51.631Z"
   },
   {
    "duration": 15,
    "start_time": "2023-02-02T07:11:51.684Z"
   },
   {
    "duration": 16,
    "start_time": "2023-02-02T07:11:51.701Z"
   },
   {
    "duration": 30,
    "start_time": "2023-02-02T07:11:51.719Z"
   },
   {
    "duration": 32,
    "start_time": "2023-02-02T07:11:51.751Z"
   },
   {
    "duration": 24,
    "start_time": "2023-02-02T07:11:51.785Z"
   },
   {
    "duration": 4,
    "start_time": "2023-02-02T07:11:51.811Z"
   },
   {
    "duration": 25,
    "start_time": "2023-02-02T07:11:51.817Z"
   },
   {
    "duration": 8,
    "start_time": "2023-02-02T07:11:51.844Z"
   },
   {
    "duration": 18,
    "start_time": "2023-02-02T07:11:51.854Z"
   },
   {
    "duration": 15,
    "start_time": "2023-02-02T07:11:51.874Z"
   },
   {
    "duration": 666,
    "start_time": "2023-02-02T07:11:51.890Z"
   },
   {
    "duration": 42,
    "start_time": "2023-02-02T07:11:52.558Z"
   },
   {
    "duration": 198,
    "start_time": "2023-02-02T07:11:52.602Z"
   },
   {
    "duration": 186,
    "start_time": "2023-02-02T07:11:52.802Z"
   },
   {
    "duration": 187,
    "start_time": "2023-02-02T07:11:52.990Z"
   }
  ],
  "colab": {
   "name": "dpp_template_part2.ipynb",
   "provenance": []
  },
  "kernelspec": {
   "display_name": "Python 3 (ipykernel)",
   "language": "python",
   "name": "python3"
  },
  "language_info": {
   "codemirror_mode": {
    "name": "ipython",
    "version": 3
   },
   "file_extension": ".py",
   "mimetype": "text/x-python",
   "name": "python",
   "nbconvert_exporter": "python",
   "pygments_lexer": "ipython3",
   "version": "3.9.15"
  },
  "toc": {
   "base_numbering": 1,
   "nav_menu": {},
   "number_sections": true,
   "sideBar": true,
   "skip_h1_title": true,
   "title_cell": "Table of Contents",
   "title_sidebar": "Contents",
   "toc_cell": false,
   "toc_position": {},
   "toc_section_display": true,
   "toc_window_display": false
  }
 },
 "nbformat": 4,
 "nbformat_minor": 5
}
