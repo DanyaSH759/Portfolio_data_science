{
 "cells": [
  {
   "cell_type": "markdown",
   "metadata": {
    "id": "sRW85nPMDWKb"
   },
   "source": [
    "В этой части проекта вам нужно написать несколько SQL-запросов в Jupyter Notebook.\n",
    "\n",
    "Необходимые данные находятся в таблицах схемы `stackoverflow`. Не забудьте подключиться к базе с помощью SQLAlchemy. \n"
   ]
  },
  {
   "cell_type": "code",
   "execution_count": 1,
   "metadata": {
    "id": "nlZBlglMDWKe"
   },
   "outputs": [],
   "source": [
    "import pandas as pd\n",
    "import matplotlib.pyplot as plt\n",
    "from sqlalchemy import create_engine "
   ]
  },
  {
   "cell_type": "markdown",
   "metadata": {
    "id": "XnOE3n28DWKg"
   },
   "source": [
    "### Конфигурация для подключения к базе данных `data-analyst-advanced-sql`\n",
    "Эта база данных содержит схему `stackoverflow`, с которой вы будете работать в проекте"
   ]
  },
  {
   "cell_type": "code",
   "execution_count": 2,
   "metadata": {
    "id": "6p-yGp7qDWKg"
   },
   "outputs": [],
   "source": [
    "db_config = {\n",
    "    'user': 'praktikum_student', # имя пользователя\n",
    "    'pwd': 'Sdf4$2;d-d30pp', # пароль\n",
    "    'host': 'rc1b-wcoijxj3yxfsf3fs.mdb.yandexcloud.net',\n",
    "    'port': 6432, # порт подключения\n",
    "    'db': 'data-analyst-advanced-sql' # название базы данных\n",
    "}  \n",
    "\n",
    "connection_string = 'postgresql://{}:{}@{}:{}/{}'.format(\n",
    "    db_config['user'],\n",
    "    db_config['pwd'],\n",
    "    db_config['host'],\n",
    "    db_config['port'],\n",
    "    db_config['db'],\n",
    ")"
   ]
  },
  {
   "cell_type": "markdown",
   "metadata": {
    "id": "2Rg8ZpS0DWKh"
   },
   "source": [
    "Создание подключения"
   ]
  },
  {
   "cell_type": "code",
   "execution_count": 3,
   "metadata": {
    "id": "DamCUTR6DWKi"
   },
   "outputs": [],
   "source": [
    "engine = create_engine(connection_string) "
   ]
  },
  {
   "cell_type": "markdown",
   "metadata": {
    "id": "bel8XeSlDWKj"
   },
   "source": [
    "Пример запроса к базе данных\n",
    "\n",
    "`sample_df` является pandas-датафреймом."
   ]
  },
  {
   "cell_type": "code",
   "execution_count": 4,
   "metadata": {
    "id": "6Z_fw0yLDWKk"
   },
   "outputs": [],
   "source": [
    "query = '''\n",
    "SELECT *\n",
    "FROM stackoverflow.users\n",
    "LIMIT 10;\n",
    "'''\n",
    "\n",
    "sample_df = pd.read_sql_query(query, con=engine) "
   ]
  },
  {
   "cell_type": "code",
   "execution_count": 5,
   "metadata": {
    "id": "ZpuZ290oDWKk",
    "outputId": "22785a0a-e2bc-4559-ec3c-4879c4b377eb",
    "scrolled": true
   },
   "outputs": [
    {
     "data": {
      "text/html": [
       "<div>\n",
       "<style scoped>\n",
       "    .dataframe tbody tr th:only-of-type {\n",
       "        vertical-align: middle;\n",
       "    }\n",
       "\n",
       "    .dataframe tbody tr th {\n",
       "        vertical-align: top;\n",
       "    }\n",
       "\n",
       "    .dataframe thead th {\n",
       "        text-align: right;\n",
       "    }\n",
       "</style>\n",
       "<table border=\"1\" class=\"dataframe\">\n",
       "  <thead>\n",
       "    <tr style=\"text-align: right;\">\n",
       "      <th></th>\n",
       "      <th>id</th>\n",
       "      <th>creation_date</th>\n",
       "      <th>display_name</th>\n",
       "      <th>last_access_date</th>\n",
       "      <th>location</th>\n",
       "      <th>reputation</th>\n",
       "      <th>views</th>\n",
       "    </tr>\n",
       "  </thead>\n",
       "  <tbody>\n",
       "    <tr>\n",
       "      <th>0</th>\n",
       "      <td>1</td>\n",
       "      <td>2008-07-31 14:22:31</td>\n",
       "      <td>Jeff Atwood</td>\n",
       "      <td>2018-08-29 02:34:23</td>\n",
       "      <td>El Cerrito, CA</td>\n",
       "      <td>44300</td>\n",
       "      <td>408587</td>\n",
       "    </tr>\n",
       "    <tr>\n",
       "      <th>1</th>\n",
       "      <td>2</td>\n",
       "      <td>2008-07-31 14:22:31</td>\n",
       "      <td>Geoff Dalgas</td>\n",
       "      <td>2018-08-23 17:31:56</td>\n",
       "      <td>Corvallis, OR</td>\n",
       "      <td>3491</td>\n",
       "      <td>23966</td>\n",
       "    </tr>\n",
       "    <tr>\n",
       "      <th>2</th>\n",
       "      <td>3</td>\n",
       "      <td>2008-07-31 14:22:31</td>\n",
       "      <td>Jarrod Dixon</td>\n",
       "      <td>2018-08-30 20:56:24</td>\n",
       "      <td>Raleigh, NC, United States</td>\n",
       "      <td>13418</td>\n",
       "      <td>24396</td>\n",
       "    </tr>\n",
       "    <tr>\n",
       "      <th>3</th>\n",
       "      <td>4</td>\n",
       "      <td>2008-07-31 14:22:31</td>\n",
       "      <td>Joel Spolsky</td>\n",
       "      <td>2018-08-14 22:18:15</td>\n",
       "      <td>New York, NY</td>\n",
       "      <td>28768</td>\n",
       "      <td>73755</td>\n",
       "    </tr>\n",
       "    <tr>\n",
       "      <th>4</th>\n",
       "      <td>5</td>\n",
       "      <td>2008-07-31 14:22:31</td>\n",
       "      <td>Jon Galloway</td>\n",
       "      <td>2018-08-29 16:48:36</td>\n",
       "      <td>San Diego, CA</td>\n",
       "      <td>39172</td>\n",
       "      <td>11700</td>\n",
       "    </tr>\n",
       "    <tr>\n",
       "      <th>5</th>\n",
       "      <td>8</td>\n",
       "      <td>2008-07-31 21:33:24</td>\n",
       "      <td>Eggs McLaren</td>\n",
       "      <td>2018-04-09 02:04:56</td>\n",
       "      <td>None</td>\n",
       "      <td>942</td>\n",
       "      <td>6372</td>\n",
       "    </tr>\n",
       "    <tr>\n",
       "      <th>6</th>\n",
       "      <td>9</td>\n",
       "      <td>2008-07-31 21:35:27</td>\n",
       "      <td>Kevin Dente</td>\n",
       "      <td>2018-08-30 18:18:03</td>\n",
       "      <td>Oakland, CA</td>\n",
       "      <td>14337</td>\n",
       "      <td>4949</td>\n",
       "    </tr>\n",
       "    <tr>\n",
       "      <th>7</th>\n",
       "      <td>11</td>\n",
       "      <td>2008-08-01 00:59:11</td>\n",
       "      <td>Anonymous User</td>\n",
       "      <td>2008-08-01 00:59:11</td>\n",
       "      <td>None</td>\n",
       "      <td>1890</td>\n",
       "      <td>2123</td>\n",
       "    </tr>\n",
       "    <tr>\n",
       "      <th>8</th>\n",
       "      <td>13</td>\n",
       "      <td>2008-08-01 04:18:05</td>\n",
       "      <td>Chris Jester-Young</td>\n",
       "      <td>2018-08-30 02:47:23</td>\n",
       "      <td>Raleigh, NC, United States</td>\n",
       "      <td>177138</td>\n",
       "      <td>35414</td>\n",
       "    </tr>\n",
       "    <tr>\n",
       "      <th>9</th>\n",
       "      <td>17</td>\n",
       "      <td>2008-08-01 12:02:22</td>\n",
       "      <td>Nick Berardi</td>\n",
       "      <td>2018-01-22 01:35:38</td>\n",
       "      <td>Issaquah, WA</td>\n",
       "      <td>44443</td>\n",
       "      <td>4786</td>\n",
       "    </tr>\n",
       "  </tbody>\n",
       "</table>\n",
       "</div>"
      ],
      "text/plain": [
       "   id       creation_date        display_name    last_access_date  \\\n",
       "0   1 2008-07-31 14:22:31         Jeff Atwood 2018-08-29 02:34:23   \n",
       "1   2 2008-07-31 14:22:31        Geoff Dalgas 2018-08-23 17:31:56   \n",
       "2   3 2008-07-31 14:22:31        Jarrod Dixon 2018-08-30 20:56:24   \n",
       "3   4 2008-07-31 14:22:31        Joel Spolsky 2018-08-14 22:18:15   \n",
       "4   5 2008-07-31 14:22:31        Jon Galloway 2018-08-29 16:48:36   \n",
       "5   8 2008-07-31 21:33:24        Eggs McLaren 2018-04-09 02:04:56   \n",
       "6   9 2008-07-31 21:35:27         Kevin Dente 2018-08-30 18:18:03   \n",
       "7  11 2008-08-01 00:59:11      Anonymous User 2008-08-01 00:59:11   \n",
       "8  13 2008-08-01 04:18:05  Chris Jester-Young 2018-08-30 02:47:23   \n",
       "9  17 2008-08-01 12:02:22        Nick Berardi 2018-01-22 01:35:38   \n",
       "\n",
       "                     location  reputation   views  \n",
       "0              El Cerrito, CA       44300  408587  \n",
       "1               Corvallis, OR        3491   23966  \n",
       "2  Raleigh, NC, United States       13418   24396  \n",
       "3                New York, NY       28768   73755  \n",
       "4               San Diego, CA       39172   11700  \n",
       "5                        None         942    6372  \n",
       "6                 Oakland, CA       14337    4949  \n",
       "7                        None        1890    2123  \n",
       "8  Raleigh, NC, United States      177138   35414  \n",
       "9                Issaquah, WA       44443    4786  "
      ]
     },
     "execution_count": 5,
     "metadata": {},
     "output_type": "execute_result"
    }
   ],
   "source": [
    "sample_df"
   ]
  },
  {
   "cell_type": "markdown",
   "metadata": {
    "id": "gnBMXkDBDWKm"
   },
   "source": [
    "# Задание 1"
   ]
  },
  {
   "cell_type": "markdown",
   "metadata": {
    "id": "vHsfOrrNDWKn"
   },
   "source": [
    "Выведите общую сумму просмотров постов за каждый месяц 2008 года. Если данных за какой-либо месяц в базе нет, такой месяц можно пропустить. Результат отсортируйте по убыванию общего количества просмотров."
   ]
  },
  {
   "cell_type": "markdown",
   "metadata": {
    "id": "N5rTgGNmDWKn"
   },
   "source": [
    "| month_date  | total_views |\n",
    "| ------------- | ------------- |\n",
    "| 2008-09-01  | 452928568  |\n",
    "| 2008-10-01  | 365400138  |\n",
    "| ...         | ... |"
   ]
  },
  {
   "cell_type": "code",
   "execution_count": 6,
   "metadata": {
    "id": "eWvykcXTDWKo",
    "scrolled": true
   },
   "outputs": [
    {
     "data": {
      "text/html": [
       "<div>\n",
       "<style scoped>\n",
       "    .dataframe tbody tr th:only-of-type {\n",
       "        vertical-align: middle;\n",
       "    }\n",
       "\n",
       "    .dataframe tbody tr th {\n",
       "        vertical-align: top;\n",
       "    }\n",
       "\n",
       "    .dataframe thead th {\n",
       "        text-align: right;\n",
       "    }\n",
       "</style>\n",
       "<table border=\"1\" class=\"dataframe\">\n",
       "  <thead>\n",
       "    <tr style=\"text-align: right;\">\n",
       "      <th></th>\n",
       "      <th>date_trunc</th>\n",
       "      <th>sum</th>\n",
       "    </tr>\n",
       "  </thead>\n",
       "  <tbody>\n",
       "    <tr>\n",
       "      <th>0</th>\n",
       "      <td>2008-09-01</td>\n",
       "      <td>452928568</td>\n",
       "    </tr>\n",
       "    <tr>\n",
       "      <th>1</th>\n",
       "      <td>2008-10-01</td>\n",
       "      <td>365400138</td>\n",
       "    </tr>\n",
       "    <tr>\n",
       "      <th>2</th>\n",
       "      <td>2008-11-01</td>\n",
       "      <td>221759651</td>\n",
       "    </tr>\n",
       "    <tr>\n",
       "      <th>3</th>\n",
       "      <td>2008-12-01</td>\n",
       "      <td>197792841</td>\n",
       "    </tr>\n",
       "    <tr>\n",
       "      <th>4</th>\n",
       "      <td>2008-08-01</td>\n",
       "      <td>131367083</td>\n",
       "    </tr>\n",
       "    <tr>\n",
       "      <th>5</th>\n",
       "      <td>2008-07-01</td>\n",
       "      <td>669895</td>\n",
       "    </tr>\n",
       "  </tbody>\n",
       "</table>\n",
       "</div>"
      ],
      "text/plain": [
       "   date_trunc        sum\n",
       "0  2008-09-01  452928568\n",
       "1  2008-10-01  365400138\n",
       "2  2008-11-01  221759651\n",
       "3  2008-12-01  197792841\n",
       "4  2008-08-01  131367083\n",
       "5  2008-07-01     669895"
      ]
     },
     "execution_count": 6,
     "metadata": {},
     "output_type": "execute_result"
    }
   ],
   "source": [
    "# напишите запрос\n",
    "query = '''\n",
    "SELECT \n",
    "  DATE_TRUNC('month', creation_date):: date, \n",
    "  SUM(views_count) \n",
    "FROM \n",
    "  stackoverflow.posts \n",
    "WHERE \n",
    "  DATE_TRUNC('Year', creation_date) = '2008-01-01' \n",
    "GROUP BY \n",
    "  DATE_TRUNC('month', creation_date) \n",
    "ORDER BY \n",
    "  SUM(views_count) DESC\n",
    "'''\n",
    "\n",
    "# выполните запрос\n",
    "sample_df = pd.read_sql_query(query, con=engine)\n",
    "sample_df"
   ]
  },
  {
   "cell_type": "markdown",
   "metadata": {
    "id": "I_ZvhOxkDWKp"
   },
   "source": [
    "Проанализируйте итоговую таблицу. Отличаются ли данные за разные месяцы? С чем могут быть связаны отличия?"
   ]
  },
  {
   "cell_type": "markdown",
   "metadata": {},
   "source": [
    "**Ответ:** Резкий рост просмотров опубликованны постав на сайте связан с тем, что платформа Stack Overflow только начала функционировать в 2008 году, соответственно рост просмотра постов связан с тем что проект начинал привликать свою целевую аудитори и внимание пользователей."
   ]
  },
  {
   "cell_type": "markdown",
   "metadata": {
    "id": "FziIXkn5DWKr"
   },
   "source": [
    "# Задание 2"
   ]
  },
  {
   "cell_type": "markdown",
   "metadata": {
    "id": "fTGESZvYDWKr"
   },
   "source": [
    "Выведите имена самых активных пользователей, которые в первый месяц после регистрации (включая день регистрации) дали больше 100 ответов. Вопросы, которые задавали пользователи, не учитывайте. Для каждого имени пользователя выведите количество уникальных значений `user_id`. Отсортируйте результат по полю с именами в лексикографическом порядке."
   ]
  },
  {
   "cell_type": "markdown",
   "metadata": {
    "id": "W5-tv6Y3DWKs"
   },
   "source": [
    "| display_name | count |\n",
    "| ------------ | ----- |\n",
    "| 1800 INFORMATION | 1 |\n",
    "| Adam Bellaire | 1 |\n",
    "| Adam Davis | 1 |\n",
    "| ... | ... |"
   ]
  },
  {
   "cell_type": "code",
   "execution_count": 8,
   "metadata": {
    "id": "fIO-y-YjDWKt",
    "scrolled": true
   },
   "outputs": [
    {
     "data": {
      "text/html": [
       "<div>\n",
       "<style scoped>\n",
       "    .dataframe tbody tr th:only-of-type {\n",
       "        vertical-align: middle;\n",
       "    }\n",
       "\n",
       "    .dataframe tbody tr th {\n",
       "        vertical-align: top;\n",
       "    }\n",
       "\n",
       "    .dataframe thead th {\n",
       "        text-align: right;\n",
       "    }\n",
       "</style>\n",
       "<table border=\"1\" class=\"dataframe\">\n",
       "  <thead>\n",
       "    <tr style=\"text-align: right;\">\n",
       "      <th></th>\n",
       "      <th>display_name</th>\n",
       "      <th>count</th>\n",
       "    </tr>\n",
       "  </thead>\n",
       "  <tbody>\n",
       "    <tr>\n",
       "      <th>0</th>\n",
       "      <td>1800 INFORMATION</td>\n",
       "      <td>1</td>\n",
       "    </tr>\n",
       "    <tr>\n",
       "      <th>1</th>\n",
       "      <td>Adam Bellaire</td>\n",
       "      <td>1</td>\n",
       "    </tr>\n",
       "    <tr>\n",
       "      <th>2</th>\n",
       "      <td>Adam Davis</td>\n",
       "      <td>1</td>\n",
       "    </tr>\n",
       "    <tr>\n",
       "      <th>3</th>\n",
       "      <td>Adam Liss</td>\n",
       "      <td>1</td>\n",
       "    </tr>\n",
       "    <tr>\n",
       "      <th>4</th>\n",
       "      <td>Alan</td>\n",
       "      <td>8</td>\n",
       "    </tr>\n",
       "    <tr>\n",
       "      <th>5</th>\n",
       "      <td>Amy B</td>\n",
       "      <td>1</td>\n",
       "    </tr>\n",
       "    <tr>\n",
       "      <th>6</th>\n",
       "      <td>Ben Hoffstein</td>\n",
       "      <td>1</td>\n",
       "    </tr>\n",
       "    <tr>\n",
       "      <th>7</th>\n",
       "      <td>Brian</td>\n",
       "      <td>15</td>\n",
       "    </tr>\n",
       "    <tr>\n",
       "      <th>8</th>\n",
       "      <td>Cade Roux</td>\n",
       "      <td>1</td>\n",
       "    </tr>\n",
       "    <tr>\n",
       "      <th>9</th>\n",
       "      <td>CesarB</td>\n",
       "      <td>1</td>\n",
       "    </tr>\n",
       "    <tr>\n",
       "      <th>10</th>\n",
       "      <td>Chris</td>\n",
       "      <td>29</td>\n",
       "    </tr>\n",
       "    <tr>\n",
       "      <th>11</th>\n",
       "      <td>ConcernedOfTunbridgeWells</td>\n",
       "      <td>1</td>\n",
       "    </tr>\n",
       "    <tr>\n",
       "      <th>12</th>\n",
       "      <td>Craig</td>\n",
       "      <td>10</td>\n",
       "    </tr>\n",
       "    <tr>\n",
       "      <th>13</th>\n",
       "      <td>Dale Ragan</td>\n",
       "      <td>1</td>\n",
       "    </tr>\n",
       "    <tr>\n",
       "      <th>14</th>\n",
       "      <td>Dan</td>\n",
       "      <td>21</td>\n",
       "    </tr>\n",
       "  </tbody>\n",
       "</table>\n",
       "</div>"
      ],
      "text/plain": [
       "                 display_name  count\n",
       "0            1800 INFORMATION      1\n",
       "1               Adam Bellaire      1\n",
       "2                  Adam Davis      1\n",
       "3                   Adam Liss      1\n",
       "4                        Alan      8\n",
       "5                       Amy B      1\n",
       "6               Ben Hoffstein      1\n",
       "7                       Brian     15\n",
       "8                   Cade Roux      1\n",
       "9                      CesarB      1\n",
       "10                      Chris     29\n",
       "11  ConcernedOfTunbridgeWells      1\n",
       "12                      Craig     10\n",
       "13                 Dale Ragan      1\n",
       "14                        Dan     21"
      ]
     },
     "execution_count": 8,
     "metadata": {},
     "output_type": "execute_result"
    }
   ],
   "source": [
    "# напишите запрос\n",
    "query = '''\n",
    "SELECT \n",
    "  us.display_name, \n",
    "  COUNT(DISTINCT pst.user_id) \n",
    "FROM \n",
    "  stackoverflow.users AS us \n",
    "  JOIN stackoverflow.posts AS pst ON pst.user_id = us.id \n",
    "  JOIN stackoverflow.post_types AS pt ON pst.post_type_id = pt.id \n",
    "WHERE \n",
    "  pst.creation_date :: date BETWEEN us.creation_date :: date \n",
    "  AND (\n",
    "    us.creation_date :: date + INTERVAL '1 month'\n",
    "  ) \n",
    "  AND pt.type LIKE 'Answer' \n",
    "GROUP BY \n",
    "  us.display_name \n",
    "HAVING \n",
    "  COUNT(pst.id) > 100 \n",
    "ORDER BY \n",
    "  us.display_name\n",
    "'''\n",
    "\n",
    "# выполните запрос\n",
    "sample_df = pd.read_sql_query(query, con=engine)\n",
    "sample_df.head(15)"
   ]
  },
  {
   "cell_type": "code",
   "execution_count": 9,
   "metadata": {},
   "outputs": [
    {
     "data": {
      "text/plain": [
       "array(['1800 INFORMATION', 'Adam Bellaire', 'Adam Davis', 'Adam Liss',\n",
       "       'Alan', 'Amy B', 'Ben Hoffstein', 'Brian', 'Cade Roux', 'CesarB',\n",
       "       'Chris', 'ConcernedOfTunbridgeWells', 'Craig', 'Dale Ragan', 'Dan',\n",
       "       'Eric Z Beard', 'Espo', 'FlySwat', 'Franci Penov', 'GEOCHET',\n",
       "       'GateKiller', 'Greg', 'Gulzar Nazim', 'Ilya Kochetov',\n",
       "       'James Curran', 'Jim', 'Joe', 'Joel Coehoorn',\n",
       "       'Johannes Schaub - litb', 'John Millikin', 'Jon Limjap',\n",
       "       'Jon Skeet', 'Jorge Ferreira', 'Josh', 'Keith', 'Kevin', 'Kibbee',\n",
       "       'Konrad Rudolph', 'Lasse Vågsæther Karlsen', 'Lou Franco',\n",
       "       'Marc Gravell', 'Mark', 'Mark Cidade', 'Mark Harrison',\n",
       "       'Martin v. Löwis', 'Matt', 'Matt Hamilton', 'Michael Burr',\n",
       "       'Michael Stum', 'Mitchel Sellers', 'Nick', 'Norman Ramsey', 'Oli',\n",
       "       'Orion Edwards', 'Paul Nathan', 'PhiLho', 'Rob', 'Rob Cooper',\n",
       "       'Rob Walker', 'Ryan', 'S.Lott', 'Sklivvz', 'Steven A. Lowe',\n",
       "       'TheSmurf', 'Tom', 'Vilx-', 'Vinko Vrsalovic', 'aku', 'anjanb',\n",
       "       'dkretz', 'frankodwyer', 'gbjbaanb', 'jfs', 'leppie', 'lomaxx',\n",
       "       'mattlant', 'paxdiablo', 'tvanfosson', 'tzot'], dtype=object)"
      ]
     },
     "execution_count": 9,
     "metadata": {},
     "output_type": "execute_result"
    }
   ],
   "source": [
    "sample_df['display_name'].unique()"
   ]
  },
  {
   "cell_type": "markdown",
   "metadata": {
    "id": "I3Wr82TplKpI"
   },
   "source": [
    "Какие аномалии наблюдаются в данных? О чём они говорят?"
   ]
  },
  {
   "cell_type": "markdown",
   "metadata": {},
   "source": [
    "**Ответ:** Существуют неформатные данные со спец символами 'Lasse Vågsæther Karlsen', а также неизвестный ник '1800 INFORMATION'. Это говорит нам о том что для имени польователя не была выстроена система проверки на корректность"
   ]
  },
  {
   "cell_type": "markdown",
   "metadata": {
    "id": "JhM2xXj5DWKu"
   },
   "source": [
    "# Задание 3"
   ]
  },
  {
   "cell_type": "markdown",
   "metadata": {
    "id": "IS6xPqyyDWKu"
   },
   "source": [
    "Выведите количество постов за 2008 год по месяцам. Отберите посты от пользователей, которые зарегистрировались в сентябре 2008 года и сделали хотя бы один пост в декабре того же года. Отсортируйте таблицу по значению месяца по убыванию."
   ]
  },
  {
   "cell_type": "markdown",
   "metadata": {
    "id": "WmjhjV2xDWKv"
   },
   "source": [
    "| month | count |\n",
    "| ------|------ |\n",
    "| 2008-12-01 | 17641 |\n",
    "| 2008-11-01 | 18294 |\n",
    "| ... | ... |"
   ]
  },
  {
   "cell_type": "code",
   "execution_count": 11,
   "metadata": {
    "id": "kVu0FB8WDWKv"
   },
   "outputs": [
    {
     "data": {
      "text/html": [
       "<div>\n",
       "<style scoped>\n",
       "    .dataframe tbody tr th:only-of-type {\n",
       "        vertical-align: middle;\n",
       "    }\n",
       "\n",
       "    .dataframe tbody tr th {\n",
       "        vertical-align: top;\n",
       "    }\n",
       "\n",
       "    .dataframe thead th {\n",
       "        text-align: right;\n",
       "    }\n",
       "</style>\n",
       "<table border=\"1\" class=\"dataframe\">\n",
       "  <thead>\n",
       "    <tr style=\"text-align: right;\">\n",
       "      <th></th>\n",
       "      <th>date_trunc</th>\n",
       "      <th>count</th>\n",
       "    </tr>\n",
       "  </thead>\n",
       "  <tbody>\n",
       "    <tr>\n",
       "      <th>0</th>\n",
       "      <td>2008-12-01</td>\n",
       "      <td>17641</td>\n",
       "    </tr>\n",
       "    <tr>\n",
       "      <th>1</th>\n",
       "      <td>2008-11-01</td>\n",
       "      <td>18294</td>\n",
       "    </tr>\n",
       "    <tr>\n",
       "      <th>2</th>\n",
       "      <td>2008-10-01</td>\n",
       "      <td>27171</td>\n",
       "    </tr>\n",
       "    <tr>\n",
       "      <th>3</th>\n",
       "      <td>2008-09-01</td>\n",
       "      <td>24870</td>\n",
       "    </tr>\n",
       "    <tr>\n",
       "      <th>4</th>\n",
       "      <td>2008-08-01</td>\n",
       "      <td>32</td>\n",
       "    </tr>\n",
       "  </tbody>\n",
       "</table>\n",
       "</div>"
      ],
      "text/plain": [
       "   date_trunc  count\n",
       "0  2008-12-01  17641\n",
       "1  2008-11-01  18294\n",
       "2  2008-10-01  27171\n",
       "3  2008-09-01  24870\n",
       "4  2008-08-01     32"
      ]
     },
     "execution_count": 11,
     "metadata": {},
     "output_type": "execute_result"
    }
   ],
   "source": [
    "# напишите запрос\n",
    "query = '''\n",
    "WITH users_1 AS (\n",
    "  SELECT \n",
    "    us.id \n",
    "  FROM \n",
    "    stackoverflow.users AS us \n",
    "    JOIN stackoverflow.posts AS pst ON us.id = pst.user_id \n",
    "  WHERE \n",
    "    (\n",
    "      us.creation_date :: date BETWEEN '2008-09-01' \n",
    "      AND '2008-09-30'\n",
    "    ) \n",
    "    AND (\n",
    "      pst.creation_date :: date BETWEEN '2008-12-01' \n",
    "      AND '2008-12-31'\n",
    "    ) \n",
    "  GROUP BY \n",
    "    us.id\n",
    ") \n",
    "SELECT \n",
    "  DATE_TRUNC('month', pst.creation_date):: date, \n",
    "  COUNT(pst.id) \n",
    "FROM \n",
    "  stackoverflow.posts AS pst \n",
    "WHERE \n",
    "  pst.user_id IN (\n",
    "    SELECT \n",
    "      * \n",
    "    FROM \n",
    "      users_1\n",
    "  ) \n",
    "GROUP BY \n",
    "  DATE_TRUNC('month', pst.creation_date):: date \n",
    "ORDER BY \n",
    "  DATE_TRUNC('month', pst.creation_date):: date DESC\n",
    "'''\n",
    "\n",
    "# выполните запрос\n",
    "sample_df = pd.read_sql_query(query, con=engine)\n",
    "sample_df.head(15)"
   ]
  },
  {
   "cell_type": "markdown",
   "metadata": {
    "id": "Vnxn9DVHDWKx"
   },
   "source": [
    "Изучите данные: есть ли в них аномалии? Предположите, почему могли появиться аномальные значения."
   ]
  },
  {
   "cell_type": "markdown",
   "metadata": {},
   "source": [
    "**Ответ:** присутствует аномалия в сентябре в виде 32 постов. Вероятно, большинство пользователей зарегестрированных в сентябре не делали посты в декабре."
   ]
  },
  {
   "cell_type": "markdown",
   "metadata": {
    "id": "5Pcizm0DDWKz"
   },
   "source": [
    "# Задание 4"
   ]
  },
  {
   "cell_type": "markdown",
   "metadata": {
    "id": "KUZPF6vHDWKz"
   },
   "source": [
    "Используя данные о постах, выведите несколько полей:\n",
    "\n",
    "- идентификатор пользователя, который написал пост;\n",
    "- дата создания поста;\n",
    "- количество просмотров у текущего поста;\n",
    "- сумму просмотров постов автора с накоплением.\n",
    "\n",
    "Данные в таблице должны быть отсортированы по возрастанию идентификаторов пользователей, а данные об одном и том же пользователе — по возрастанию даты создания поста."
   ]
  },
  {
   "cell_type": "markdown",
   "metadata": {
    "id": "ZpsTUVDYDWK0"
   },
   "source": [
    "| user_id | creation_date | views_count | cumulative_count |\n",
    "| ------ | -------------- | ----------- | ---------------- |\n",
    "| 1 | 2008-07-31 23:41:00  | 480476   | 480476  |\n",
    "| 1 | 2008-07-31 23:55:38  | 136033 | 616509  | \n",
    "| 1 | 2008-07-31 23:56:41  | 0 |  616509  |\n",
    "| ... | ... | ... | ... |\n",
    "| 2 | 2008-07-31 23:56:41 | 79087  | 79087 |\n",
    "| 2 | 2008-08-01 05:09:56 | 65443 | 144530 |\n",
    "| ... | ...  | ...  | ...  |"
   ]
  },
  {
   "cell_type": "code",
   "execution_count": 13,
   "metadata": {
    "id": "hDoJhMzfDWK0",
    "scrolled": true
   },
   "outputs": [
    {
     "data": {
      "text/html": [
       "<div>\n",
       "<style scoped>\n",
       "    .dataframe tbody tr th:only-of-type {\n",
       "        vertical-align: middle;\n",
       "    }\n",
       "\n",
       "    .dataframe tbody tr th {\n",
       "        vertical-align: top;\n",
       "    }\n",
       "\n",
       "    .dataframe thead th {\n",
       "        text-align: right;\n",
       "    }\n",
       "</style>\n",
       "<table border=\"1\" class=\"dataframe\">\n",
       "  <thead>\n",
       "    <tr style=\"text-align: right;\">\n",
       "      <th></th>\n",
       "      <th>user_id</th>\n",
       "      <th>creation_date</th>\n",
       "      <th>views_count</th>\n",
       "      <th>sum</th>\n",
       "    </tr>\n",
       "  </thead>\n",
       "  <tbody>\n",
       "    <tr>\n",
       "      <th>0</th>\n",
       "      <td>1</td>\n",
       "      <td>2008-07-31 23:41:00</td>\n",
       "      <td>480476</td>\n",
       "      <td>480476</td>\n",
       "    </tr>\n",
       "    <tr>\n",
       "      <th>1</th>\n",
       "      <td>1</td>\n",
       "      <td>2008-07-31 23:55:38</td>\n",
       "      <td>136033</td>\n",
       "      <td>616509</td>\n",
       "    </tr>\n",
       "    <tr>\n",
       "      <th>2</th>\n",
       "      <td>1</td>\n",
       "      <td>2008-07-31 23:56:41</td>\n",
       "      <td>0</td>\n",
       "      <td>616509</td>\n",
       "    </tr>\n",
       "    <tr>\n",
       "      <th>3</th>\n",
       "      <td>1</td>\n",
       "      <td>2008-08-04 02:45:08</td>\n",
       "      <td>0</td>\n",
       "      <td>616509</td>\n",
       "    </tr>\n",
       "    <tr>\n",
       "      <th>4</th>\n",
       "      <td>1</td>\n",
       "      <td>2008-08-04 04:31:03</td>\n",
       "      <td>0</td>\n",
       "      <td>616509</td>\n",
       "    </tr>\n",
       "    <tr>\n",
       "      <th>...</th>\n",
       "      <td>...</td>\n",
       "      <td>...</td>\n",
       "      <td>...</td>\n",
       "      <td>...</td>\n",
       "    </tr>\n",
       "    <tr>\n",
       "      <th>243791</th>\n",
       "      <td>5696608</td>\n",
       "      <td>2008-12-23 16:00:37</td>\n",
       "      <td>0</td>\n",
       "      <td>2804</td>\n",
       "    </tr>\n",
       "    <tr>\n",
       "      <th>243792</th>\n",
       "      <td>5696608</td>\n",
       "      <td>2008-12-23 17:35:09</td>\n",
       "      <td>0</td>\n",
       "      <td>2804</td>\n",
       "    </tr>\n",
       "    <tr>\n",
       "      <th>243793</th>\n",
       "      <td>5696608</td>\n",
       "      <td>2008-12-24 01:02:48</td>\n",
       "      <td>0</td>\n",
       "      <td>2804</td>\n",
       "    </tr>\n",
       "    <tr>\n",
       "      <th>243794</th>\n",
       "      <td>5696608</td>\n",
       "      <td>2008-12-30 14:34:45</td>\n",
       "      <td>0</td>\n",
       "      <td>2804</td>\n",
       "    </tr>\n",
       "    <tr>\n",
       "      <th>243795</th>\n",
       "      <td>5696608</td>\n",
       "      <td>2008-12-30 16:32:12</td>\n",
       "      <td>0</td>\n",
       "      <td>2804</td>\n",
       "    </tr>\n",
       "  </tbody>\n",
       "</table>\n",
       "<p>243796 rows × 4 columns</p>\n",
       "</div>"
      ],
      "text/plain": [
       "        user_id       creation_date  views_count     sum\n",
       "0             1 2008-07-31 23:41:00       480476  480476\n",
       "1             1 2008-07-31 23:55:38       136033  616509\n",
       "2             1 2008-07-31 23:56:41            0  616509\n",
       "3             1 2008-08-04 02:45:08            0  616509\n",
       "4             1 2008-08-04 04:31:03            0  616509\n",
       "...         ...                 ...          ...     ...\n",
       "243791  5696608 2008-12-23 16:00:37            0    2804\n",
       "243792  5696608 2008-12-23 17:35:09            0    2804\n",
       "243793  5696608 2008-12-24 01:02:48            0    2804\n",
       "243794  5696608 2008-12-30 14:34:45            0    2804\n",
       "243795  5696608 2008-12-30 16:32:12            0    2804\n",
       "\n",
       "[243796 rows x 4 columns]"
      ]
     },
     "execution_count": 13,
     "metadata": {},
     "output_type": "execute_result"
    }
   ],
   "source": [
    "# напишите запрос\n",
    "query = '''\n",
    "SELECT \n",
    "  user_id, \n",
    "  creation_date, \n",
    "  views_count, \n",
    "  SUM (views_count) OVER (\n",
    "    PARTITION BY user_id \n",
    "    ORDER BY \n",
    "      creation_date\n",
    "  ) \n",
    "FROM \n",
    "  stackoverflow.posts \n",
    "ORDER BY \n",
    "  user_id, \n",
    "  creation_date\n",
    "'''\n",
    "\n",
    "# выполните запрос\n",
    "sample_df = pd.read_sql_query(query, con=engine)\n",
    "sample_df"
   ]
  },
  {
   "cell_type": "markdown",
   "metadata": {
    "id": "N0kHRHvIDWK2"
   },
   "source": [
    "# Задание 5"
   ]
  },
  {
   "cell_type": "markdown",
   "metadata": {
    "id": "gBgvmPtODWK2"
   },
   "source": [
    "Найдите среднее количество постов пользователей в день за август 2008 года. Отберите данные о пользователях, которые опубликовали больше 120 постов за август. Дни без публикаций не учитывайте. \n",
    "\n",
    "Отсортируйте результат по возрастанию среднего количества постов. Значения можно не округлять."
   ]
  },
  {
   "cell_type": "markdown",
   "metadata": {
    "id": "nfzR08BODWK3"
   },
   "source": [
    "| user_id | avg_daily |\n",
    "| ------- | --------- |\n",
    "| 116     | 4.777778  |\n",
    "| 234     | 5.208333  |\n",
    "| ...     | ... |"
   ]
  },
  {
   "cell_type": "code",
   "execution_count": 14,
   "metadata": {
    "id": "YFyPNz5GDWK3",
    "scrolled": true
   },
   "outputs": [
    {
     "data": {
      "text/html": [
       "<div>\n",
       "<style scoped>\n",
       "    .dataframe tbody tr th:only-of-type {\n",
       "        vertical-align: middle;\n",
       "    }\n",
       "\n",
       "    .dataframe tbody tr th {\n",
       "        vertical-align: top;\n",
       "    }\n",
       "\n",
       "    .dataframe thead th {\n",
       "        text-align: right;\n",
       "    }\n",
       "</style>\n",
       "<table border=\"1\" class=\"dataframe\">\n",
       "  <thead>\n",
       "    <tr style=\"text-align: right;\">\n",
       "      <th></th>\n",
       "      <th>user_id</th>\n",
       "      <th>avg</th>\n",
       "    </tr>\n",
       "  </thead>\n",
       "  <tbody>\n",
       "    <tr>\n",
       "      <th>0</th>\n",
       "      <td>116</td>\n",
       "      <td>4.777778</td>\n",
       "    </tr>\n",
       "    <tr>\n",
       "      <th>1</th>\n",
       "      <td>234</td>\n",
       "      <td>5.208333</td>\n",
       "    </tr>\n",
       "    <tr>\n",
       "      <th>2</th>\n",
       "      <td>91</td>\n",
       "      <td>5.681818</td>\n",
       "    </tr>\n",
       "    <tr>\n",
       "      <th>3</th>\n",
       "      <td>905</td>\n",
       "      <td>7.000000</td>\n",
       "    </tr>\n",
       "    <tr>\n",
       "      <th>4</th>\n",
       "      <td>383</td>\n",
       "      <td>7.277778</td>\n",
       "    </tr>\n",
       "  </tbody>\n",
       "</table>\n",
       "</div>"
      ],
      "text/plain": [
       "   user_id       avg\n",
       "0      116  4.777778\n",
       "1      234  5.208333\n",
       "2       91  5.681818\n",
       "3      905  7.000000\n",
       "4      383  7.277778"
      ]
     },
     "execution_count": 14,
     "metadata": {},
     "output_type": "execute_result"
    }
   ],
   "source": [
    "# напишите запрос\n",
    "query = '''\n",
    "WITH users_find AS (\n",
    "  SELECT \n",
    "    user_id, \n",
    "    DATE_TRUNC('day', creation_date), \n",
    "    COUNT(id) AS posts_number \n",
    "  FROM \n",
    "    stackoverflow.posts \n",
    "  WHERE \n",
    "    user_id IN (\n",
    "      SELECT \n",
    "        user_id \n",
    "      FROM \n",
    "        stackoverflow.posts \n",
    "      WHERE \n",
    "        creation_date BETWEEN '2008-08-01' \n",
    "        AND '2008-08-31' \n",
    "      GROUP BY \n",
    "        user_id \n",
    "      HAVING \n",
    "        COUNT(id) > 120\n",
    "    ) \n",
    "  GROUP BY \n",
    "    user_id, \n",
    "    DATE_TRUNC('day', creation_date)\n",
    ") \n",
    "SELECT \n",
    "  user_id, \n",
    "  AVG(posts_number) \n",
    "FROM \n",
    "  users_find \n",
    "WHERE \n",
    "  DATE_TRUNC('month', date_trunc) = '2008-08-01' \n",
    "GROUP BY \n",
    "  user_id \n",
    "ORDER BY \n",
    "  AVG(posts_number)\n",
    "\n",
    "'''\n",
    "\n",
    "# выполните запрос\n",
    "sample_df = pd.read_sql_query(query, con=engine)\n",
    "sample_df"
   ]
  },
  {
   "cell_type": "markdown",
   "metadata": {
    "id": "EQ0dcFH4DWK5"
   },
   "source": [
    "# Задание 6"
   ]
  },
  {
   "cell_type": "markdown",
   "metadata": {
    "id": "c7flfg_hDWK5"
   },
   "source": [
    "Сколько в среднем дней в период с 1 по 7 декабря 2008 года пользователи взаимодействовали с платформой? Для каждого пользователя отберите дни, в которые он или она опубликовали хотя бы один пост. Нужно получить одно целое число — не забудьте округлить результат. "
   ]
  },
  {
   "cell_type": "markdown",
   "metadata": {
    "id": "RC1Ibzm9DWK6"
   },
   "source": [
    "| result |\n",
    "| -----  |\n",
    "| <целое число> |"
   ]
  },
  {
   "cell_type": "code",
   "execution_count": 15,
   "metadata": {
    "id": "kZ7LXTr6DWK6"
   },
   "outputs": [
    {
     "data": {
      "text/html": [
       "<div>\n",
       "<style scoped>\n",
       "    .dataframe tbody tr th:only-of-type {\n",
       "        vertical-align: middle;\n",
       "    }\n",
       "\n",
       "    .dataframe tbody tr th {\n",
       "        vertical-align: top;\n",
       "    }\n",
       "\n",
       "    .dataframe thead th {\n",
       "        text-align: right;\n",
       "    }\n",
       "</style>\n",
       "<table border=\"1\" class=\"dataframe\">\n",
       "  <thead>\n",
       "    <tr style=\"text-align: right;\">\n",
       "      <th></th>\n",
       "      <th>round</th>\n",
       "    </tr>\n",
       "  </thead>\n",
       "  <tbody>\n",
       "    <tr>\n",
       "      <th>0</th>\n",
       "      <td>2.0</td>\n",
       "    </tr>\n",
       "  </tbody>\n",
       "</table>\n",
       "</div>"
      ],
      "text/plain": [
       "   round\n",
       "0    2.0"
      ]
     },
     "execution_count": 15,
     "metadata": {},
     "output_type": "execute_result"
    }
   ],
   "source": [
    "# напишите запрос\n",
    "query = '''\n",
    "WITH test AS (\n",
    "  SELECT \n",
    "    user_id, \n",
    "    COUNT(\n",
    "      DISTINCT DATE_TRUNC('day', creation_date)\n",
    "    ) \n",
    "  FROM \n",
    "    stackoverflow.posts \n",
    "  WHERE \n",
    "    creation_date BETWEEN '2008-12-01' \n",
    "    AND '2008-12-07' \n",
    "  GROUP BY \n",
    "    user_id\n",
    ") \n",
    "SELECT \n",
    "  ROUND(\n",
    "    AVG(count)\n",
    "  ) \n",
    "FROM \n",
    "  test\n",
    "'''\n",
    "\n",
    "# выполните запрос\n",
    "sample_df = pd.read_sql_query(query, con=engine)\n",
    "sample_df"
   ]
  },
  {
   "cell_type": "markdown",
   "metadata": {
    "id": "UJFtNNggDWK7"
   },
   "source": [
    "Проанализируйте итоговую таблицу — какие выводы можно сделать?"
   ]
  },
  {
   "cell_type": "markdown",
   "metadata": {},
   "source": [
    "**Ответ:** В среднем 2 поста было опубликовано каждым пользователем за первые 7 дней декабря."
   ]
  },
  {
   "cell_type": "markdown",
   "metadata": {
    "id": "wfOmqmfLDWK8"
   },
   "source": [
    "# Задание 7"
   ]
  },
  {
   "cell_type": "markdown",
   "metadata": {
    "id": "X4ARQimADWK9"
   },
   "source": [
    "Выведите историю активности каждого пользователя в таком виде: идентификатор пользователя, дата публикации поста. Отсортируйте вывод по возрастанию идентификаторов пользователей, а для каждого пользователя — по возрастанию даты публикации.\n",
    "\n",
    "Добавьте в таблицу новое поле: для каждого поста в нём будет указано название месяца предпоследней публикации пользователя относительно текущей. Если такой публикации нет, укажите `NULL`.  Python автоматически поменяет `NULL` на `None`, но дополнительно преобразовывать значения `None` вам не нужно.\n",
    "\n",
    "Посмотрите внимательно на образец таблицы: для первых двух постов предпоследней публикации нет, но, начиная с третьего поста, в новое поле входит нужный месяц. Для следующего пользователя в первые две записи поля `second_last_month` тоже войдёт `NULL`."
   ]
  },
  {
   "cell_type": "markdown",
   "metadata": {
    "id": "IGPjRP01DWK9"
   },
   "source": [
    "| user_id | creation_date | second_last_month |\n",
    "| ------- | ------------- | ----------------- |\n",
    "| 1       | 2008-07-31 23:41:00 | None |\n",
    "| 1       | 2008-07-31 23:55:38 | None |\n",
    "| 1       | 2008-07-31 23:56:41 | July |\n",
    "| 1       | 2008-08-04 02:45:08 | July |\n",
    "| 1       | 2008-08-04 04:31:03 | July |\n",
    "| 1       | 2008-08-04 08:04:42 | August |\n",
    "| ... | ... | ... |"
   ]
  },
  {
   "cell_type": "code",
   "execution_count": 17,
   "metadata": {
    "id": "HzI1vhaMDWK-",
    "scrolled": true
   },
   "outputs": [
    {
     "data": {
      "text/html": [
       "<div>\n",
       "<style scoped>\n",
       "    .dataframe tbody tr th:only-of-type {\n",
       "        vertical-align: middle;\n",
       "    }\n",
       "\n",
       "    .dataframe tbody tr th {\n",
       "        vertical-align: top;\n",
       "    }\n",
       "\n",
       "    .dataframe thead th {\n",
       "        text-align: right;\n",
       "    }\n",
       "</style>\n",
       "<table border=\"1\" class=\"dataframe\">\n",
       "  <thead>\n",
       "    <tr style=\"text-align: right;\">\n",
       "      <th></th>\n",
       "      <th>user_id</th>\n",
       "      <th>creation_date</th>\n",
       "      <th>case</th>\n",
       "    </tr>\n",
       "  </thead>\n",
       "  <tbody>\n",
       "    <tr>\n",
       "      <th>0</th>\n",
       "      <td>1</td>\n",
       "      <td>2008-07-31 23:41:00</td>\n",
       "      <td>None</td>\n",
       "    </tr>\n",
       "    <tr>\n",
       "      <th>1</th>\n",
       "      <td>1</td>\n",
       "      <td>2008-07-31 23:55:38</td>\n",
       "      <td>None</td>\n",
       "    </tr>\n",
       "    <tr>\n",
       "      <th>2</th>\n",
       "      <td>1</td>\n",
       "      <td>2008-07-31 23:56:41</td>\n",
       "      <td>July</td>\n",
       "    </tr>\n",
       "    <tr>\n",
       "      <th>3</th>\n",
       "      <td>1</td>\n",
       "      <td>2008-08-04 02:45:08</td>\n",
       "      <td>July</td>\n",
       "    </tr>\n",
       "    <tr>\n",
       "      <th>4</th>\n",
       "      <td>1</td>\n",
       "      <td>2008-08-04 04:31:03</td>\n",
       "      <td>July</td>\n",
       "    </tr>\n",
       "    <tr>\n",
       "      <th>...</th>\n",
       "      <td>...</td>\n",
       "      <td>...</td>\n",
       "      <td>...</td>\n",
       "    </tr>\n",
       "    <tr>\n",
       "      <th>243791</th>\n",
       "      <td>5696608</td>\n",
       "      <td>2008-12-23 16:00:37</td>\n",
       "      <td>December</td>\n",
       "    </tr>\n",
       "    <tr>\n",
       "      <th>243792</th>\n",
       "      <td>5696608</td>\n",
       "      <td>2008-12-23 17:35:09</td>\n",
       "      <td>December</td>\n",
       "    </tr>\n",
       "    <tr>\n",
       "      <th>243793</th>\n",
       "      <td>5696608</td>\n",
       "      <td>2008-12-24 01:02:48</td>\n",
       "      <td>December</td>\n",
       "    </tr>\n",
       "    <tr>\n",
       "      <th>243794</th>\n",
       "      <td>5696608</td>\n",
       "      <td>2008-12-30 14:34:45</td>\n",
       "      <td>December</td>\n",
       "    </tr>\n",
       "    <tr>\n",
       "      <th>243795</th>\n",
       "      <td>5696608</td>\n",
       "      <td>2008-12-30 16:32:12</td>\n",
       "      <td>December</td>\n",
       "    </tr>\n",
       "  </tbody>\n",
       "</table>\n",
       "<p>243796 rows × 3 columns</p>\n",
       "</div>"
      ],
      "text/plain": [
       "        user_id       creation_date      case\n",
       "0             1 2008-07-31 23:41:00      None\n",
       "1             1 2008-07-31 23:55:38      None\n",
       "2             1 2008-07-31 23:56:41      July\n",
       "3             1 2008-08-04 02:45:08      July\n",
       "4             1 2008-08-04 04:31:03      July\n",
       "...         ...                 ...       ...\n",
       "243791  5696608 2008-12-23 16:00:37  December\n",
       "243792  5696608 2008-12-23 17:35:09  December\n",
       "243793  5696608 2008-12-24 01:02:48  December\n",
       "243794  5696608 2008-12-30 14:34:45  December\n",
       "243795  5696608 2008-12-30 16:32:12  December\n",
       "\n",
       "[243796 rows x 3 columns]"
      ]
     },
     "execution_count": 17,
     "metadata": {},
     "output_type": "execute_result"
    }
   ],
   "source": [
    "# напишите запрос\n",
    "query = '''\n",
    "WITH test AS (\n",
    "  SELECT \n",
    "    user_id, \n",
    "    creation_date, \n",
    "    LAG(creation_date, 2) OVER (\n",
    "      PARTITION BY user_id \n",
    "      ORDER BY \n",
    "        creation_date\n",
    "    ) AS month_lag \n",
    "  FROM \n",
    "    stackoverflow.posts \n",
    "  ORDER BY \n",
    "    user_id\n",
    ") \n",
    "SELECT \n",
    "  user_id, \n",
    "  creation_date,\n",
    "       CASE\n",
    "           WHEN DATE_TRUNC('month', month_lag) = '2008-07-01' THEN 'July'\n",
    "           WHEN DATE_TRUNC('month', month_lag) = '2008-08-01' THEN 'August'\n",
    "           WHEN DATE_TRUNC('month', month_lag) = '2008-09-01' THEN 'September'\n",
    "           WHEN DATE_TRUNC('month', month_lag) = '2008-10-01' THEN 'October'\n",
    "           WHEN DATE_TRUNC('month', month_lag) = '2008-11-01' THEN 'November'\n",
    "           WHEN DATE_TRUNC('month', month_lag) = '2008-12-01' THEN 'December'\n",
    "       END\n",
    "FROM \n",
    "    test\n",
    "'''\n",
    "\n",
    "# выполните запрос\n",
    "sample_df = pd.read_sql_query(query, con=engine)\n",
    "sample_df"
   ]
  },
  {
   "cell_type": "markdown",
   "metadata": {
    "id": "tf9qq2yzDWK_"
   },
   "source": [
    "# Задание 8"
   ]
  },
  {
   "cell_type": "markdown",
   "metadata": {
    "id": "gfwLVXBYDWLA"
   },
   "source": [
    "Рассчитайте аналог Retention Rate по месяцам для пользователей StackOverflow. Объедините пользователей в когорты по месяцу их первого поста. Возвращение определяйте по наличию поста в текущем месяце. "
   ]
  },
  {
   "cell_type": "markdown",
   "metadata": {
    "id": "kN2ic39WlKpl"
   },
   "source": [
    "| cohort_dt | session_date | users_cnt | cohort_users_cnt | retention_rate |\n",
    "| --- | --- | --- | --- | --- |\n",
    "| 2008-07-01 00:00:00 | 2008-07-01 00:00:00 | 3 | 3 | 100 |\n",
    "| 2008-07-01 00:00:00 | 2008-08-01 00:00:00 | 2 | 3 | 66,67 |\n",
    "| 2008-07-01 00:00:00 | 2008-09-01 00:00:00 | 1 | 3 | 33,33 |\n",
    "| 2008-07-01 00:00:00 | 2008-10-01 00:00:00 | 2 | 3 | 66,67 |\n",
    "| 2008-07-01 00:00:00 | 2008-11-01 00:00:00 | 1 | 3 | 33,33 |\n",
    "| 2008-07-01 00:00:00 | 2008-12-01 00:00:00 | 2 | 3 | 66,67 |\n",
    "| 2008-08-01 00:00:00 | 2008-08-01 00:00:00 | 2151 | 2151 | 100 |\n",
    "| ... | ... | ... | ... | ... |"
   ]
  },
  {
   "cell_type": "code",
   "execution_count": 18,
   "metadata": {
    "id": "LUgFmwmTDWLB",
    "scrolled": true
   },
   "outputs": [
    {
     "data": {
      "text/html": [
       "<div>\n",
       "<style scoped>\n",
       "    .dataframe tbody tr th:only-of-type {\n",
       "        vertical-align: middle;\n",
       "    }\n",
       "\n",
       "    .dataframe tbody tr th {\n",
       "        vertical-align: top;\n",
       "    }\n",
       "\n",
       "    .dataframe thead th {\n",
       "        text-align: right;\n",
       "    }\n",
       "</style>\n",
       "<table border=\"1\" class=\"dataframe\">\n",
       "  <thead>\n",
       "    <tr style=\"text-align: right;\">\n",
       "      <th></th>\n",
       "      <th>cohort_dt</th>\n",
       "      <th>session_date</th>\n",
       "      <th>users_cnt</th>\n",
       "      <th>cohort_users_cnt</th>\n",
       "      <th>retention_rate</th>\n",
       "    </tr>\n",
       "  </thead>\n",
       "  <tbody>\n",
       "    <tr>\n",
       "      <th>0</th>\n",
       "      <td>2008-07-01</td>\n",
       "      <td>2008-07-01</td>\n",
       "      <td>3</td>\n",
       "      <td>3</td>\n",
       "      <td>100.00</td>\n",
       "    </tr>\n",
       "    <tr>\n",
       "      <th>1</th>\n",
       "      <td>2008-07-01</td>\n",
       "      <td>2008-08-01</td>\n",
       "      <td>2</td>\n",
       "      <td>3</td>\n",
       "      <td>66.67</td>\n",
       "    </tr>\n",
       "    <tr>\n",
       "      <th>2</th>\n",
       "      <td>2008-07-01</td>\n",
       "      <td>2008-09-01</td>\n",
       "      <td>1</td>\n",
       "      <td>3</td>\n",
       "      <td>33.33</td>\n",
       "    </tr>\n",
       "    <tr>\n",
       "      <th>3</th>\n",
       "      <td>2008-07-01</td>\n",
       "      <td>2008-10-01</td>\n",
       "      <td>2</td>\n",
       "      <td>3</td>\n",
       "      <td>66.67</td>\n",
       "    </tr>\n",
       "    <tr>\n",
       "      <th>4</th>\n",
       "      <td>2008-07-01</td>\n",
       "      <td>2008-11-01</td>\n",
       "      <td>1</td>\n",
       "      <td>3</td>\n",
       "      <td>33.33</td>\n",
       "    </tr>\n",
       "    <tr>\n",
       "      <th>5</th>\n",
       "      <td>2008-07-01</td>\n",
       "      <td>2008-12-01</td>\n",
       "      <td>2</td>\n",
       "      <td>3</td>\n",
       "      <td>66.67</td>\n",
       "    </tr>\n",
       "    <tr>\n",
       "      <th>6</th>\n",
       "      <td>2008-08-01</td>\n",
       "      <td>2008-08-01</td>\n",
       "      <td>2151</td>\n",
       "      <td>2151</td>\n",
       "      <td>100.00</td>\n",
       "    </tr>\n",
       "    <tr>\n",
       "      <th>7</th>\n",
       "      <td>2008-08-01</td>\n",
       "      <td>2008-09-01</td>\n",
       "      <td>1571</td>\n",
       "      <td>2151</td>\n",
       "      <td>73.04</td>\n",
       "    </tr>\n",
       "    <tr>\n",
       "      <th>8</th>\n",
       "      <td>2008-08-01</td>\n",
       "      <td>2008-10-01</td>\n",
       "      <td>1275</td>\n",
       "      <td>2151</td>\n",
       "      <td>59.27</td>\n",
       "    </tr>\n",
       "    <tr>\n",
       "      <th>9</th>\n",
       "      <td>2008-08-01</td>\n",
       "      <td>2008-11-01</td>\n",
       "      <td>1050</td>\n",
       "      <td>2151</td>\n",
       "      <td>48.81</td>\n",
       "    </tr>\n",
       "    <tr>\n",
       "      <th>10</th>\n",
       "      <td>2008-08-01</td>\n",
       "      <td>2008-12-01</td>\n",
       "      <td>894</td>\n",
       "      <td>2151</td>\n",
       "      <td>41.56</td>\n",
       "    </tr>\n",
       "    <tr>\n",
       "      <th>11</th>\n",
       "      <td>2008-09-01</td>\n",
       "      <td>2008-09-01</td>\n",
       "      <td>7678</td>\n",
       "      <td>7678</td>\n",
       "      <td>100.00</td>\n",
       "    </tr>\n",
       "    <tr>\n",
       "      <th>12</th>\n",
       "      <td>2008-09-01</td>\n",
       "      <td>2008-10-01</td>\n",
       "      <td>4132</td>\n",
       "      <td>7678</td>\n",
       "      <td>53.82</td>\n",
       "    </tr>\n",
       "    <tr>\n",
       "      <th>13</th>\n",
       "      <td>2008-09-01</td>\n",
       "      <td>2008-11-01</td>\n",
       "      <td>2966</td>\n",
       "      <td>7678</td>\n",
       "      <td>38.63</td>\n",
       "    </tr>\n",
       "    <tr>\n",
       "      <th>14</th>\n",
       "      <td>2008-09-01</td>\n",
       "      <td>2008-12-01</td>\n",
       "      <td>2500</td>\n",
       "      <td>7678</td>\n",
       "      <td>32.56</td>\n",
       "    </tr>\n",
       "    <tr>\n",
       "      <th>15</th>\n",
       "      <td>2008-10-01</td>\n",
       "      <td>2008-10-01</td>\n",
       "      <td>3629</td>\n",
       "      <td>3629</td>\n",
       "      <td>100.00</td>\n",
       "    </tr>\n",
       "    <tr>\n",
       "      <th>16</th>\n",
       "      <td>2008-10-01</td>\n",
       "      <td>2008-11-01</td>\n",
       "      <td>1640</td>\n",
       "      <td>3629</td>\n",
       "      <td>45.19</td>\n",
       "    </tr>\n",
       "    <tr>\n",
       "      <th>17</th>\n",
       "      <td>2008-10-01</td>\n",
       "      <td>2008-12-01</td>\n",
       "      <td>1221</td>\n",
       "      <td>3629</td>\n",
       "      <td>33.65</td>\n",
       "    </tr>\n",
       "    <tr>\n",
       "      <th>18</th>\n",
       "      <td>2008-11-01</td>\n",
       "      <td>2008-11-01</td>\n",
       "      <td>2852</td>\n",
       "      <td>2852</td>\n",
       "      <td>100.00</td>\n",
       "    </tr>\n",
       "    <tr>\n",
       "      <th>19</th>\n",
       "      <td>2008-11-01</td>\n",
       "      <td>2008-12-01</td>\n",
       "      <td>1151</td>\n",
       "      <td>2852</td>\n",
       "      <td>40.36</td>\n",
       "    </tr>\n",
       "    <tr>\n",
       "      <th>20</th>\n",
       "      <td>2008-12-01</td>\n",
       "      <td>2008-12-01</td>\n",
       "      <td>2536</td>\n",
       "      <td>2536</td>\n",
       "      <td>100.00</td>\n",
       "    </tr>\n",
       "  </tbody>\n",
       "</table>\n",
       "</div>"
      ],
      "text/plain": [
       "    cohort_dt session_date  users_cnt  cohort_users_cnt  retention_rate\n",
       "0  2008-07-01   2008-07-01          3                 3          100.00\n",
       "1  2008-07-01   2008-08-01          2                 3           66.67\n",
       "2  2008-07-01   2008-09-01          1                 3           33.33\n",
       "3  2008-07-01   2008-10-01          2                 3           66.67\n",
       "4  2008-07-01   2008-11-01          1                 3           33.33\n",
       "5  2008-07-01   2008-12-01          2                 3           66.67\n",
       "6  2008-08-01   2008-08-01       2151              2151          100.00\n",
       "7  2008-08-01   2008-09-01       1571              2151           73.04\n",
       "8  2008-08-01   2008-10-01       1275              2151           59.27\n",
       "9  2008-08-01   2008-11-01       1050              2151           48.81\n",
       "10 2008-08-01   2008-12-01        894              2151           41.56\n",
       "11 2008-09-01   2008-09-01       7678              7678          100.00\n",
       "12 2008-09-01   2008-10-01       4132              7678           53.82\n",
       "13 2008-09-01   2008-11-01       2966              7678           38.63\n",
       "14 2008-09-01   2008-12-01       2500              7678           32.56\n",
       "15 2008-10-01   2008-10-01       3629              3629          100.00\n",
       "16 2008-10-01   2008-11-01       1640              3629           45.19\n",
       "17 2008-10-01   2008-12-01       1221              3629           33.65\n",
       "18 2008-11-01   2008-11-01       2852              2852          100.00\n",
       "19 2008-11-01   2008-12-01       1151              2852           40.36\n",
       "20 2008-12-01   2008-12-01       2536              2536          100.00"
      ]
     },
     "execution_count": 18,
     "metadata": {},
     "output_type": "execute_result"
    }
   ],
   "source": [
    "# напишите запрос\n",
    "query = '''\n",
    "WITH profile AS (\n",
    "  WITH test_1 AS (\n",
    "    SELECT \n",
    "      DISTINCT user_id, \n",
    "      MIN(\n",
    "        DATE_TRUNC('month', creation_date)\n",
    "      ) OVER (\n",
    "        PARTITION BY user_id \n",
    "        ORDER BY \n",
    "          DATE_TRUNC('month', creation_date)\n",
    "      ) AS cohort_dt \n",
    "    FROM \n",
    "      stackoverflow.posts\n",
    "  ) \n",
    "  SELECT \n",
    "    *, \n",
    "    COUNT(user_id) OVER (PARTITION BY cohort_dt) AS cohort_users_cnt \n",
    "  FROM \n",
    "    test_1\n",
    "), \n",
    "session AS (\n",
    "  SELECT \n",
    "    user_id, \n",
    "    DATE_TRUNC('month', creation_date) AS session_date \n",
    "  FROM \n",
    "    stackoverflow.posts \n",
    "  GROUP BY \n",
    "    user_id, \n",
    "    session_date\n",
    ") \n",
    "SELECT \n",
    "  table1.cohort_dt, \n",
    "  table2.session_date, \n",
    "  COUNT(table1.user_id) AS users_cnt, \n",
    "  table1.cohort_users_cnt, \n",
    "  ROUND(\n",
    "    COUNT(table1.user_id) * 100.0 / cohort_users_cnt, \n",
    "    2\n",
    "  ) AS retention_rate\n",
    "FROM \n",
    "  profile AS table1 \n",
    "  JOIN session AS table2 ON table1.user_id = table2.user_id \n",
    "GROUP BY \n",
    "  1, \n",
    "  2, \n",
    "  4\n",
    "ORDER BY cohort_dt, session_date\n",
    "'''\n",
    "\n",
    "\n",
    "# выполните запрос\n",
    "sample_df = pd.read_sql_query(query, con=engine)\n",
    "sample_df"
   ]
  },
  {
   "cell_type": "markdown",
   "metadata": {
    "id": "_msBtnb2DWLC"
   },
   "source": [
    "Постройте тепловую карту Retention Rate. Какие аномалии или другие необычные явления удалось выявить? Сформулируйте гипотезы о возможных причинах."
   ]
  },
  {
   "cell_type": "code",
   "execution_count": 19,
   "metadata": {
    "id": "qAEJc8H1DWLC"
   },
   "outputs": [
    {
     "data": {
      "image/png": "[encoded data removed]",
      "text/plain": [
       "<Figure size 720x720 with 2 Axes>"
      ]
     },
     "metadata": {
      "needs_background": "light"
     },
     "output_type": "display_data"
    }
   ],
   "source": [
    "# постройте тепловую карту Retention Rate\n",
    "import seaborn as sns\n",
    "\n",
    "\n",
    "map_heat = sample_df.pivot('cohort_dt', 'session_date', 'retention_rate')\n",
    "map_heat.index = [str(x)[0:10] for x in map_heat.index]\n",
    "map_heat.columns = [str(x)[0:10] for x in map_heat.columns]\n",
    "plt.figure(figsize=(10, 10)) \n",
    "sns.heatmap(map_heat, \n",
    "            annot=True)\n",
    "plt.title('Тепловая карта удержания пользователей по месяцам') \n",
    "plt.show()"
   ]
  },
  {
   "cell_type": "markdown",
   "metadata": {},
   "source": [
    "**Ответ:** Замечены аномалии для пользователей зарегестрированных в июле, значения повторяются, возможно ошибка в данных. Далее видно что с каждой новой кагортой удержание пользователей становится всё меньше."
   ]
  },
  {
   "cell_type": "markdown",
   "metadata": {
    "id": "1k7oPWt5DWLK"
   },
   "source": [
    "# Задание 9\n"
   ]
  },
  {
   "cell_type": "markdown",
   "metadata": {
    "id": "ALsYVSyRDWLM"
   },
   "source": [
    "На сколько процентов менялось количество постов ежемесячно с 1 сентября по 31 декабря 2008 года? Отобразите таблицу со следующими полями:\n",
    "\n",
    "- номер месяца;\n",
    "- количество постов за месяц;\n",
    "- процент, который показывает, насколько изменилось количество постов в текущем месяце по сравнению с предыдущим.\n",
    "\n",
    "Если постов стало меньше, значение процента должно быть отрицательным, если больше — положительным. Округлите значение процента до двух знаков после запятой.\n",
    "\n",
    "Напомним, что при делении одного целого числа на другое в PostgreSQL в результате получится целое число, округлённое до ближайшего целого вниз. Чтобы этого избежать, переведите делимое в тип `numeric`."
   ]
  },
  {
   "cell_type": "markdown",
   "metadata": {
    "id": "u4E2zF8DDWLM"
   },
   "source": [
    "| creation_month | posts_count | percentage |\n",
    "| -------------- | ----------- | ---------- |\n",
    "| 9 | 70731 | Nan |\n",
    "| 10 | 63102 | -10.33 |\n",
    "| ... | ... | ... |"
   ]
  },
  {
   "cell_type": "code",
   "execution_count": 21,
   "metadata": {
    "id": "Mb5pShStDWLN"
   },
   "outputs": [
    {
     "data": {
      "text/html": [
       "<div>\n",
       "<style scoped>\n",
       "    .dataframe tbody tr th:only-of-type {\n",
       "        vertical-align: middle;\n",
       "    }\n",
       "\n",
       "    .dataframe tbody tr th {\n",
       "        vertical-align: top;\n",
       "    }\n",
       "\n",
       "    .dataframe thead th {\n",
       "        text-align: right;\n",
       "    }\n",
       "</style>\n",
       "<table border=\"1\" class=\"dataframe\">\n",
       "  <thead>\n",
       "    <tr style=\"text-align: right;\">\n",
       "      <th></th>\n",
       "      <th>creation_month</th>\n",
       "      <th>post_cnt</th>\n",
       "      <th>round</th>\n",
       "    </tr>\n",
       "  </thead>\n",
       "  <tbody>\n",
       "    <tr>\n",
       "      <th>0</th>\n",
       "      <td>2008-09-01</td>\n",
       "      <td>70371</td>\n",
       "      <td>NaN</td>\n",
       "    </tr>\n",
       "    <tr>\n",
       "      <th>1</th>\n",
       "      <td>2008-10-01</td>\n",
       "      <td>63102</td>\n",
       "      <td>-10.33</td>\n",
       "    </tr>\n",
       "    <tr>\n",
       "      <th>2</th>\n",
       "      <td>2008-11-01</td>\n",
       "      <td>46975</td>\n",
       "      <td>-25.56</td>\n",
       "    </tr>\n",
       "    <tr>\n",
       "      <th>3</th>\n",
       "      <td>2008-12-01</td>\n",
       "      <td>44592</td>\n",
       "      <td>-5.07</td>\n",
       "    </tr>\n",
       "  </tbody>\n",
       "</table>\n",
       "</div>"
      ],
      "text/plain": [
       "  creation_month  post_cnt  round\n",
       "0     2008-09-01     70371    NaN\n",
       "1     2008-10-01     63102 -10.33\n",
       "2     2008-11-01     46975 -25.56\n",
       "3     2008-12-01     44592  -5.07"
      ]
     },
     "execution_count": 21,
     "metadata": {},
     "output_type": "execute_result"
    }
   ],
   "source": [
    "# напишите запрос\n",
    "query = '''\n",
    "WITH test AS (\n",
    "  SELECT \n",
    "    DATE_TRUNC('month', creation_date) AS creation_month, \n",
    "    COUNT(id) AS post_cnt \n",
    "  FROM \n",
    "    stackoverflow.posts \n",
    "  WHERE \n",
    "    DATE_TRUNC(\n",
    "      'month', \n",
    "      DATE_TRUNC('month', creation_date)\n",
    "    ) BETWEEN '2008-09-01' \n",
    "    AND '2008-12-01' \n",
    "  GROUP BY \n",
    "    creation_month\n",
    ") \n",
    "SELECT \n",
    "  *, \n",
    "  ROUND(\n",
    "    (\n",
    "      post_cnt :: numeric / LAG(post_cnt) OVER()-1\n",
    "    )* 100, \n",
    "    2\n",
    "  ) \n",
    "FROM \n",
    "  test\n",
    "'''\n",
    "\n",
    "# выполните запрос\n",
    "sample_df = pd.read_sql_query(query, con=engine)\n",
    "sample_df"
   ]
  },
  {
   "cell_type": "markdown",
   "metadata": {
    "id": "9NQE2y_MDWLP"
   },
   "source": [
    "Постройте круговую диаграмму с количеством постов по месяцам."
   ]
  },
  {
   "cell_type": "code",
   "execution_count": 22,
   "metadata": {},
   "outputs": [],
   "source": [
    "import matplotlib.pyplot as plt"
   ]
  },
  {
   "cell_type": "code",
   "execution_count": 23,
   "metadata": {},
   "outputs": [],
   "source": [
    "sample_df['creation_month'] = sample_df['creation_month'].astype('str')\n",
    "\n",
    "sample_df.loc[sample_df['creation_month'] == '2008-09-01', 'creation_month'] = \"September\"\n",
    "sample_df.loc[sample_df['creation_month'] == '2008-10-01', 'creation_month'] = 'October'\n",
    "sample_df.loc[sample_df['creation_month'] == '2008-11-01', 'creation_month'] = 'November'\n",
    "sample_df.loc[sample_df['creation_month'] == '2008-12-01', 'creation_month'] = 'December'\n",
    "\n",
    "        "
   ]
  },
  {
   "cell_type": "code",
   "execution_count": 24,
   "metadata": {},
   "outputs": [
    {
     "data": {
      "text/plain": [
       "<bound method DataFrame.info of   creation_month  post_cnt  round\n",
       "0      September     70371    NaN\n",
       "1        October     63102 -10.33\n",
       "2       November     46975 -25.56\n",
       "3       December     44592  -5.07>"
      ]
     },
     "execution_count": 24,
     "metadata": {},
     "output_type": "execute_result"
    }
   ],
   "source": [
    "sample_df.info"
   ]
  },
  {
   "cell_type": "code",
   "execution_count": 25,
   "metadata": {
    "id": "377ABjiVDWLP"
   },
   "outputs": [
    {
     "data": {
      "image/png": "[encoded data removed]",
      "text/plain": [
       "<Figure size 1080x720 with 1 Axes>"
      ]
     },
     "metadata": {},
     "output_type": "display_data"
    }
   ],
   "source": [
    "# постройте круговую диаграмму с количеством постов по месяцам\n",
    "\n",
    "plt.figure(figsize=(15, 10))\n",
    "plt.pie(sample_df['post_cnt'], labels = sample_df['creation_month'],\n",
    "        autopct='%1.1f%%')\n",
    "plt.legend()\n",
    "\n",
    "plt.title('Круговое распределение постов по месяцам')\n",
    "plt.show()\n"
   ]
  },
  {
   "cell_type": "markdown",
   "metadata": {
    "id": "uw7qMtafDWLP"
   },
   "source": [
    "# Задание 10"
   ]
  },
  {
   "cell_type": "markdown",
   "metadata": {
    "id": "oRBpWKx3DWLQ"
   },
   "source": [
    "Выгрузите данные активности пользователя, который опубликовал больше всего постов за всё время. Выведите данные за октябрь 2008 года в таком виде:\n",
    "\n",
    "- номер недели;\n",
    "- дата и время последнего поста, опубликованного на этой неделе."
   ]
  },
  {
   "cell_type": "markdown",
   "metadata": {
    "id": "XjAWSn_3DWLQ"
   },
   "source": [
    "| week_creation | creation_date |\n",
    "| ------------- | ------------- |\n",
    "| 40 | 2008-10-05 09:00:58 |\n",
    "| 41 | 2008-10-12 21:22:23 |\n",
    "| ... | ... |"
   ]
  },
  {
   "cell_type": "code",
   "execution_count": 26,
   "metadata": {
    "id": "r5F5fSkwDWLQ",
    "scrolled": true
   },
   "outputs": [
    {
     "data": {
      "text/html": [
       "<div>\n",
       "<style scoped>\n",
       "    .dataframe tbody tr th:only-of-type {\n",
       "        vertical-align: middle;\n",
       "    }\n",
       "\n",
       "    .dataframe tbody tr th {\n",
       "        vertical-align: top;\n",
       "    }\n",
       "\n",
       "    .dataframe thead th {\n",
       "        text-align: right;\n",
       "    }\n",
       "</style>\n",
       "<table border=\"1\" class=\"dataframe\">\n",
       "  <thead>\n",
       "    <tr style=\"text-align: right;\">\n",
       "      <th></th>\n",
       "      <th>week_creation</th>\n",
       "      <th>creation_date</th>\n",
       "    </tr>\n",
       "  </thead>\n",
       "  <tbody>\n",
       "    <tr>\n",
       "      <th>0</th>\n",
       "      <td>2008-09-29</td>\n",
       "      <td>2008-10-05 09:00:58</td>\n",
       "    </tr>\n",
       "    <tr>\n",
       "      <th>1</th>\n",
       "      <td>2008-10-06</td>\n",
       "      <td>2008-10-12 21:22:23</td>\n",
       "    </tr>\n",
       "    <tr>\n",
       "      <th>2</th>\n",
       "      <td>2008-10-13</td>\n",
       "      <td>2008-10-19 06:49:30</td>\n",
       "    </tr>\n",
       "    <tr>\n",
       "      <th>3</th>\n",
       "      <td>2008-10-20</td>\n",
       "      <td>2008-10-26 21:44:36</td>\n",
       "    </tr>\n",
       "    <tr>\n",
       "      <th>4</th>\n",
       "      <td>2008-10-27</td>\n",
       "      <td>2008-10-31 22:16:01</td>\n",
       "    </tr>\n",
       "  </tbody>\n",
       "</table>\n",
       "</div>"
      ],
      "text/plain": [
       "  week_creation       creation_date\n",
       "0    2008-09-29 2008-10-05 09:00:58\n",
       "1    2008-10-06 2008-10-12 21:22:23\n",
       "2    2008-10-13 2008-10-19 06:49:30\n",
       "3    2008-10-20 2008-10-26 21:44:36\n",
       "4    2008-10-27 2008-10-31 22:16:01"
      ]
     },
     "execution_count": 26,
     "metadata": {},
     "output_type": "execute_result"
    }
   ],
   "source": [
    "# напишите запрос\n",
    "query = '''\n",
    "WITH top_user AS (\n",
    "  SELECT \n",
    "    user_id, \n",
    "    COUNT(id) \n",
    "  FROM \n",
    "    stackoverflow.posts \n",
    "  GROUP BY \n",
    "    user_id \n",
    "  ORDER BY \n",
    "    COUNT(id) DESC \n",
    "  LIMIT \n",
    "    1\n",
    ") \n",
    "SELECT \n",
    "  DATE_TRUNC('week', pst.creation_date) AS week_creation, \n",
    "  MAX(pst.creation_date) AS creation_date \n",
    "FROM \n",
    "  top_user AS topu \n",
    "  JOIN stackoverflow.posts AS pst ON topu.user_id = pst.user_id \n",
    "WHERE \n",
    "  DATE_TRUNC('month', pst.creation_date) = '2008-10-01' \n",
    "GROUP BY \n",
    "  week_creation \n",
    "'''\n",
    "\n",
    "# выполните запрос\n",
    "sample_df = pd.read_sql_query(query, con=engine)\n",
    "sample_df"
   ]
  }
 ],
 "metadata": {
  "ExecuteTimeLog": [
   {
    "duration": 886,
    "start_time": "2023-11-23T14:34:58.884Z"
   },
   {
    "duration": 4,
    "start_time": "2023-11-23T14:34:59.772Z"
   },
   {
    "duration": 6843,
    "start_time": "2023-11-23T14:35:03.676Z"
   },
   {
    "duration": 46,
    "start_time": "2023-11-23T14:35:10.521Z"
   },
   {
    "duration": 16,
    "start_time": "2023-11-23T14:35:10.569Z"
   },
   {
    "duration": 174,
    "start_time": "2023-11-23T14:36:33.348Z"
   },
   {
    "duration": 94,
    "start_time": "2023-11-23T14:37:01.163Z"
   },
   {
    "duration": 80,
    "start_time": "2023-11-23T14:37:08.854Z"
   },
   {
    "duration": 111,
    "start_time": "2023-11-23T14:37:56.277Z"
   },
   {
    "duration": 35,
    "start_time": "2023-11-23T14:38:01.445Z"
   },
   {
    "duration": 120,
    "start_time": "2023-11-23T14:38:06.467Z"
   },
   {
    "duration": 122,
    "start_time": "2023-11-23T14:38:22.942Z"
   },
   {
    "duration": 137,
    "start_time": "2023-11-23T14:38:26.749Z"
   },
   {
    "duration": 75,
    "start_time": "2023-11-23T14:38:42.347Z"
   },
   {
    "duration": 73,
    "start_time": "2023-11-23T14:38:59.443Z"
   },
   {
    "duration": 3,
    "start_time": "2023-11-23T14:48:37.608Z"
   },
   {
    "duration": 144,
    "start_time": "2023-11-23T14:48:45.120Z"
   },
   {
    "duration": 118,
    "start_time": "2023-11-23T14:48:57.824Z"
   },
   {
    "duration": 120,
    "start_time": "2023-11-23T14:49:31.648Z"
   },
   {
    "duration": 119,
    "start_time": "2023-11-23T14:49:35.632Z"
   },
   {
    "duration": 11,
    "start_time": "2023-11-23T14:49:45.495Z"
   },
   {
    "duration": 5,
    "start_time": "2023-11-23T14:49:56.879Z"
   },
   {
    "duration": 141,
    "start_time": "2023-11-23T14:51:09.641Z"
   },
   {
    "duration": 949,
    "start_time": "2023-11-23T20:53:09.968Z"
   },
   {
    "duration": 4,
    "start_time": "2023-11-23T20:53:10.920Z"
   },
   {
    "duration": 9324,
    "start_time": "2023-11-23T20:53:10.926Z"
   },
   {
    "duration": 237,
    "start_time": "2023-11-23T20:53:20.252Z"
   },
   {
    "duration": 21,
    "start_time": "2023-11-23T20:53:20.491Z"
   },
   {
    "duration": 146,
    "start_time": "2023-11-23T20:53:20.514Z"
   },
   {
    "duration": 2,
    "start_time": "2023-11-23T20:53:20.664Z"
   },
   {
    "duration": 192,
    "start_time": "2023-11-23T20:53:20.668Z"
   },
   {
    "duration": 5,
    "start_time": "2023-11-23T20:53:20.862Z"
   },
   {
    "duration": 20,
    "start_time": "2023-11-23T20:53:20.870Z"
   },
   {
    "duration": 265,
    "start_time": "2023-11-23T21:06:40.731Z"
   },
   {
    "duration": 165,
    "start_time": "2023-11-23T21:06:51.081Z"
   },
   {
    "duration": 154,
    "start_time": "2023-11-23T21:07:29.572Z"
   },
   {
    "duration": 174,
    "start_time": "2023-11-23T21:08:46.781Z"
   },
   {
    "duration": 150,
    "start_time": "2023-11-23T21:09:07.712Z"
   },
   {
    "duration": 1293,
    "start_time": "2023-11-23T21:21:37.419Z"
   },
   {
    "duration": 1278,
    "start_time": "2023-11-23T21:21:54.491Z"
   },
   {
    "duration": 1293,
    "start_time": "2023-11-23T21:22:14.866Z"
   },
   {
    "duration": 1200,
    "start_time": "2023-11-23T21:22:20.047Z"
   },
   {
    "duration": 1366,
    "start_time": "2023-11-23T21:23:47.489Z"
   },
   {
    "duration": 1336,
    "start_time": "2023-11-23T21:24:01.805Z"
   },
   {
    "duration": 1172,
    "start_time": "2023-11-23T21:24:22.480Z"
   },
   {
    "duration": 1210,
    "start_time": "2023-11-23T21:24:41.221Z"
   },
   {
    "duration": 3,
    "start_time": "2023-11-23T21:33:41.802Z"
   },
   {
    "duration": 145,
    "start_time": "2023-11-23T21:33:48.655Z"
   },
   {
    "duration": 143,
    "start_time": "2023-11-23T21:34:35.525Z"
   },
   {
    "duration": 187,
    "start_time": "2023-11-23T21:35:05.068Z"
   },
   {
    "duration": 139,
    "start_time": "2023-11-23T21:35:44.307Z"
   },
   {
    "duration": 137,
    "start_time": "2023-11-23T21:38:19.792Z"
   },
   {
    "duration": 161,
    "start_time": "2023-11-23T21:39:01.532Z"
   },
   {
    "duration": 173,
    "start_time": "2023-11-23T21:39:04.681Z"
   },
   {
    "duration": 122,
    "start_time": "2023-11-23T21:39:13.471Z"
   },
   {
    "duration": 122,
    "start_time": "2023-11-23T21:39:18.164Z"
   },
   {
    "duration": 119,
    "start_time": "2023-11-23T21:39:23.759Z"
   },
   {
    "duration": 167,
    "start_time": "2023-11-23T21:40:05.341Z"
   },
   {
    "duration": 137,
    "start_time": "2023-11-23T21:40:11.604Z"
   },
   {
    "duration": 137,
    "start_time": "2023-11-23T21:40:17.968Z"
   },
   {
    "duration": 169,
    "start_time": "2023-11-23T21:40:46.564Z"
   },
   {
    "duration": 130,
    "start_time": "2023-11-23T21:41:09.383Z"
   },
   {
    "duration": 151,
    "start_time": "2023-11-23T21:42:02.304Z"
   },
   {
    "duration": 140,
    "start_time": "2023-11-23T21:42:25.714Z"
   },
   {
    "duration": 133,
    "start_time": "2023-11-23T21:42:48.731Z"
   },
   {
    "duration": 141,
    "start_time": "2023-11-23T21:43:14.981Z"
   },
   {
    "duration": 123,
    "start_time": "2023-11-23T21:43:55.377Z"
   },
   {
    "duration": 122,
    "start_time": "2023-11-23T21:49:53.231Z"
   },
   {
    "duration": 129,
    "start_time": "2023-11-23T21:50:10.629Z"
   },
   {
    "duration": 150,
    "start_time": "2023-11-23T21:50:23.858Z"
   },
   {
    "duration": 121,
    "start_time": "2023-11-23T21:50:32.858Z"
   },
   {
    "duration": 115,
    "start_time": "2023-11-23T21:50:57.600Z"
   },
   {
    "duration": 124,
    "start_time": "2023-11-23T21:51:01.933Z"
   },
   {
    "duration": 117,
    "start_time": "2023-11-23T21:51:05.867Z"
   },
   {
    "duration": 105,
    "start_time": "2023-11-23T21:51:09.957Z"
   },
   {
    "duration": 64,
    "start_time": "2023-11-23T21:57:42.186Z"
   },
   {
    "duration": 59,
    "start_time": "2023-11-23T21:57:53.230Z"
   },
   {
    "duration": 60,
    "start_time": "2023-11-23T21:58:17.063Z"
   },
   {
    "duration": 3,
    "start_time": "2023-11-23T22:04:59.285Z"
   },
   {
    "duration": 274,
    "start_time": "2023-11-23T22:05:05.825Z"
   },
   {
    "duration": 1270,
    "start_time": "2023-11-23T22:05:14.168Z"
   },
   {
    "duration": 1204,
    "start_time": "2023-11-23T22:05:24.903Z"
   },
   {
    "duration": 133,
    "start_time": "2023-11-23T22:06:26.401Z"
   },
   {
    "duration": 1327,
    "start_time": "2023-11-23T22:06:32.166Z"
   },
   {
    "duration": 138,
    "start_time": "2023-11-23T22:06:56.192Z"
   },
   {
    "duration": 130,
    "start_time": "2023-11-23T22:07:06.209Z"
   },
   {
    "duration": 1181,
    "start_time": "2023-11-23T22:07:10.092Z"
   },
   {
    "duration": 178,
    "start_time": "2023-11-23T22:08:26.973Z"
   },
   {
    "duration": 155,
    "start_time": "2023-11-23T22:08:48.498Z"
   },
   {
    "duration": 172,
    "start_time": "2023-11-23T22:09:04.939Z"
   },
   {
    "duration": 1126,
    "start_time": "2023-11-23T22:09:11.039Z"
   },
   {
    "duration": 1101,
    "start_time": "2023-11-23T22:10:34.343Z"
   },
   {
    "duration": 117,
    "start_time": "2023-11-23T22:19:45.729Z"
   },
   {
    "duration": 739,
    "start_time": "2023-11-23T22:19:57.876Z"
   },
   {
    "duration": 190,
    "start_time": "2023-11-23T22:20:55.723Z"
   },
   {
    "duration": 492,
    "start_time": "2023-11-23T22:21:02.216Z"
   },
   {
    "duration": 135,
    "start_time": "2023-11-23T22:21:35.476Z"
   },
   {
    "duration": 144,
    "start_time": "2023-11-23T22:21:42.468Z"
   },
   {
    "duration": 142,
    "start_time": "2023-11-23T22:21:49.518Z"
   },
   {
    "duration": 138,
    "start_time": "2023-11-23T22:21:54.202Z"
   },
   {
    "duration": 129,
    "start_time": "2023-11-23T22:21:57.212Z"
   },
   {
    "duration": 119,
    "start_time": "2023-11-23T22:21:59.094Z"
   },
   {
    "duration": 170,
    "start_time": "2023-11-23T22:22:02.533Z"
   },
   {
    "duration": 483,
    "start_time": "2023-11-23T22:22:10.571Z"
   },
   {
    "duration": 152,
    "start_time": "2023-11-23T22:22:14.219Z"
   },
   {
    "duration": 483,
    "start_time": "2023-11-23T22:22:17.505Z"
   },
   {
    "duration": 143,
    "start_time": "2023-11-23T22:28:48.717Z"
   },
   {
    "duration": 483,
    "start_time": "2023-11-23T22:28:56.279Z"
   },
   {
    "duration": 580,
    "start_time": "2023-11-23T22:29:01.743Z"
   },
   {
    "duration": 201,
    "start_time": "2023-11-23T22:29:28.930Z"
   },
   {
    "duration": 133,
    "start_time": "2023-11-23T22:29:36.790Z"
   },
   {
    "duration": 505,
    "start_time": "2023-11-23T22:29:45.096Z"
   },
   {
    "duration": 139,
    "start_time": "2023-11-23T22:31:05.094Z"
   },
   {
    "duration": 138,
    "start_time": "2023-11-23T22:31:10.488Z"
   },
   {
    "duration": 141,
    "start_time": "2023-11-23T22:33:49.710Z"
   },
   {
    "duration": 509,
    "start_time": "2023-11-23T22:34:04.828Z"
   },
   {
    "duration": 135,
    "start_time": "2023-11-23T22:34:28.006Z"
   },
   {
    "duration": 493,
    "start_time": "2023-11-23T22:34:40.255Z"
   },
   {
    "duration": 486,
    "start_time": "2023-11-23T22:35:26.022Z"
   },
   {
    "duration": 496,
    "start_time": "2023-11-23T22:35:31.044Z"
   },
   {
    "duration": 490,
    "start_time": "2023-11-23T22:42:14.030Z"
   },
   {
    "duration": 13,
    "start_time": "2023-11-23T22:43:07.812Z"
   },
   {
    "duration": 568,
    "start_time": "2023-11-23T22:43:18.549Z"
   },
   {
    "duration": 10,
    "start_time": "2023-11-23T22:44:45.469Z"
   },
   {
    "duration": 18,
    "start_time": "2023-11-23T22:44:54.548Z"
   },
   {
    "duration": 818,
    "start_time": "2023-11-23T22:45:01.202Z"
   },
   {
    "duration": 715,
    "start_time": "2023-11-23T22:45:40.138Z"
   },
   {
    "duration": 729,
    "start_time": "2023-11-23T22:45:52.943Z"
   },
   {
    "duration": 749,
    "start_time": "2023-11-23T22:46:49.110Z"
   },
   {
    "duration": 4,
    "start_time": "2023-11-23T22:47:39.985Z"
   },
   {
    "duration": 20,
    "start_time": "2023-11-23T22:47:47.861Z"
   },
   {
    "duration": 19,
    "start_time": "2023-11-23T22:48:05.648Z"
   },
   {
    "duration": 11,
    "start_time": "2023-11-23T22:48:17.843Z"
   },
   {
    "duration": 1566,
    "start_time": "2023-11-23T22:48:31.425Z"
   },
   {
    "duration": 501,
    "start_time": "2023-11-23T22:49:03.694Z"
   },
   {
    "duration": 509,
    "start_time": "2023-11-23T22:49:10.084Z"
   },
   {
    "duration": 493,
    "start_time": "2023-11-23T22:49:24.882Z"
   },
   {
    "duration": 17,
    "start_time": "2023-11-23T22:49:40.661Z"
   },
   {
    "duration": 450,
    "start_time": "2023-11-23T22:50:07.342Z"
   },
   {
    "duration": 408,
    "start_time": "2023-11-23T22:50:42.672Z"
   },
   {
    "duration": 487,
    "start_time": "2023-11-23T22:50:46.941Z"
   },
   {
    "duration": 116,
    "start_time": "2023-11-23T22:51:31.834Z"
   },
   {
    "duration": 10,
    "start_time": "2023-11-23T22:52:13.706Z"
   },
   {
    "duration": 3,
    "start_time": "2023-11-23T22:52:19.690Z"
   },
   {
    "duration": 10,
    "start_time": "2023-11-23T22:52:33.818Z"
   },
   {
    "duration": 116,
    "start_time": "2023-11-23T22:53:04.626Z"
   },
   {
    "duration": 113,
    "start_time": "2023-11-23T22:53:10.199Z"
   },
   {
    "duration": 68,
    "start_time": "2023-11-23T22:53:44.333Z"
   },
   {
    "duration": 69,
    "start_time": "2023-11-23T22:53:49.632Z"
   },
   {
    "duration": 135,
    "start_time": "2023-11-23T22:54:19.602Z"
   },
   {
    "duration": 131,
    "start_time": "2023-11-23T22:59:50.943Z"
   },
   {
    "duration": 125,
    "start_time": "2023-11-23T22:59:56.127Z"
   },
   {
    "duration": 146,
    "start_time": "2023-11-23T22:59:59.539Z"
   },
   {
    "duration": 140,
    "start_time": "2023-11-23T23:00:09.779Z"
   },
   {
    "duration": 145,
    "start_time": "2023-11-23T23:00:32.436Z"
   },
   {
    "duration": 137,
    "start_time": "2023-11-23T23:00:40.811Z"
   },
   {
    "duration": 143,
    "start_time": "2023-11-23T23:01:35.389Z"
   },
   {
    "duration": 146,
    "start_time": "2023-11-23T23:01:39.031Z"
   },
   {
    "duration": 145,
    "start_time": "2023-11-23T23:02:08.838Z"
   },
   {
    "duration": 103,
    "start_time": "2023-11-23T23:02:18.954Z"
   },
   {
    "duration": 99,
    "start_time": "2023-11-23T23:02:29.465Z"
   },
   {
    "duration": 1572,
    "start_time": "2023-11-23T23:03:35.510Z"
   },
   {
    "duration": 485,
    "start_time": "2023-11-23T23:03:43.973Z"
   },
   {
    "duration": 493,
    "start_time": "2023-11-23T23:03:50.685Z"
   },
   {
    "duration": 472,
    "start_time": "2023-11-23T23:03:54.197Z"
   },
   {
    "duration": 182,
    "start_time": "2023-11-23T23:08:51.215Z"
   },
   {
    "duration": 498,
    "start_time": "2023-11-23T23:10:11.324Z"
   },
   {
    "duration": 591,
    "start_time": "2023-11-23T23:10:20.537Z"
   },
   {
    "duration": 99,
    "start_time": "2023-11-23T23:10:31.740Z"
   },
   {
    "duration": 176,
    "start_time": "2023-11-23T23:10:39.520Z"
   },
   {
    "duration": 152,
    "start_time": "2023-11-23T23:11:06.757Z"
   },
   {
    "duration": 193,
    "start_time": "2023-11-23T23:11:09.865Z"
   },
   {
    "duration": 98,
    "start_time": "2023-11-23T23:11:18.901Z"
   },
   {
    "duration": 101,
    "start_time": "2023-11-23T23:11:26.271Z"
   },
   {
    "duration": 100,
    "start_time": "2023-11-23T23:11:37.373Z"
   },
   {
    "duration": 99,
    "start_time": "2023-11-23T23:11:42.750Z"
   },
   {
    "duration": 335,
    "start_time": "2023-11-23T23:11:48.324Z"
   },
   {
    "duration": 99,
    "start_time": "2023-11-23T23:11:51.084Z"
   },
   {
    "duration": 99,
    "start_time": "2023-11-23T23:11:54.604Z"
   },
   {
    "duration": 100,
    "start_time": "2023-11-23T23:11:58.158Z"
   },
   {
    "duration": 100,
    "start_time": "2023-11-23T23:12:03.932Z"
   },
   {
    "duration": 100,
    "start_time": "2023-11-23T23:12:09.234Z"
   },
   {
    "duration": 178,
    "start_time": "2023-11-23T23:12:13.243Z"
   },
   {
    "duration": 101,
    "start_time": "2023-11-23T23:12:17.319Z"
   },
   {
    "duration": 130,
    "start_time": "2023-11-23T23:12:48.247Z"
   },
   {
    "duration": 169,
    "start_time": "2023-11-23T23:12:52.602Z"
   },
   {
    "duration": 185,
    "start_time": "2023-11-23T23:13:49.259Z"
   },
   {
    "duration": 95,
    "start_time": "2023-11-23T23:13:52.665Z"
   },
   {
    "duration": 170,
    "start_time": "2023-11-23T23:13:55.125Z"
   },
   {
    "duration": 165,
    "start_time": "2023-11-23T23:13:59.207Z"
   },
   {
    "duration": 195,
    "start_time": "2023-11-23T23:14:03.004Z"
   },
   {
    "duration": 13,
    "start_time": "2023-11-23T23:14:20.264Z"
   },
   {
    "duration": 284,
    "start_time": "2023-11-23T23:14:29.674Z"
   },
   {
    "duration": 256,
    "start_time": "2023-11-23T23:15:10.427Z"
   },
   {
    "duration": 194,
    "start_time": "2023-11-23T23:16:28.225Z"
   },
   {
    "duration": 197,
    "start_time": "2023-11-23T23:17:56.874Z"
   },
   {
    "duration": 214,
    "start_time": "2023-11-23T23:18:12.498Z"
   },
   {
    "duration": 177,
    "start_time": "2023-11-23T23:18:19.286Z"
   },
   {
    "duration": 215,
    "start_time": "2023-11-23T23:18:49.627Z"
   },
   {
    "duration": 139,
    "start_time": "2023-11-23T23:19:12.402Z"
   },
   {
    "duration": 133,
    "start_time": "2023-11-23T23:19:37.400Z"
   },
   {
    "duration": 100,
    "start_time": "2023-11-23T23:20:06.399Z"
   },
   {
    "duration": 132,
    "start_time": "2023-11-23T23:21:20.193Z"
   },
   {
    "duration": 174,
    "start_time": "2023-11-23T23:21:29.982Z"
   },
   {
    "duration": 134,
    "start_time": "2023-11-23T23:21:58.042Z"
   },
   {
    "duration": 135,
    "start_time": "2023-11-23T23:22:01.472Z"
   },
   {
    "duration": 137,
    "start_time": "2023-11-23T23:22:49.342Z"
   },
   {
    "duration": 716,
    "start_time": "2023-11-23T23:23:05.853Z"
   },
   {
    "duration": 4,
    "start_time": "2023-11-23T23:23:06.571Z"
   },
   {
    "duration": 9340,
    "start_time": "2023-11-23T23:23:06.577Z"
   },
   {
    "duration": 227,
    "start_time": "2023-11-23T23:23:15.919Z"
   },
   {
    "duration": 15,
    "start_time": "2023-11-23T23:23:16.148Z"
   },
   {
    "duration": 113,
    "start_time": "2023-11-23T23:23:16.164Z"
   },
   {
    "duration": 2,
    "start_time": "2023-11-23T23:23:16.279Z"
   },
   {
    "duration": 174,
    "start_time": "2023-11-23T23:23:16.283Z"
   },
   {
    "duration": 5,
    "start_time": "2023-11-23T23:23:16.459Z"
   },
   {
    "duration": 28,
    "start_time": "2023-11-23T23:23:16.465Z"
   },
   {
    "duration": 159,
    "start_time": "2023-11-23T23:23:16.495Z"
   },
   {
    "duration": 2,
    "start_time": "2023-11-23T23:23:16.656Z"
   },
   {
    "duration": 1257,
    "start_time": "2023-11-23T23:23:16.660Z"
   },
   {
    "duration": 104,
    "start_time": "2023-11-23T23:23:17.920Z"
   },
   {
    "duration": 60,
    "start_time": "2023-11-23T23:23:18.026Z"
   },
   {
    "duration": 2,
    "start_time": "2023-11-23T23:23:18.088Z"
   },
   {
    "duration": 1174,
    "start_time": "2023-11-23T23:23:18.092Z"
   },
   {
    "duration": 494,
    "start_time": "2023-11-23T23:23:19.268Z"
   },
   {
    "duration": 1006,
    "start_time": "2023-11-23T23:23:19.764Z"
   },
   {
    "duration": 3,
    "start_time": "2023-11-23T23:23:20.772Z"
   },
   {
    "duration": 231,
    "start_time": "2023-11-23T23:23:26.377Z"
   },
   {
    "duration": 136,
    "start_time": "2023-11-23T23:23:52.353Z"
   },
   {
    "duration": 113,
    "start_time": "2023-11-23T23:24:02.505Z"
   },
   {
    "duration": 155,
    "start_time": "2023-11-23T23:24:19.140Z"
   },
   {
    "duration": 134,
    "start_time": "2023-11-23T23:24:54.858Z"
   },
   {
    "duration": 111,
    "start_time": "2023-11-23T23:25:24.808Z"
   },
   {
    "duration": 141,
    "start_time": "2023-11-23T23:25:35.298Z"
   },
   {
    "duration": 111,
    "start_time": "2023-11-23T23:25:38.060Z"
   },
   {
    "duration": 757,
    "start_time": "2023-11-23T23:25:46.604Z"
   },
   {
    "duration": 3,
    "start_time": "2023-11-23T23:25:47.363Z"
   },
   {
    "duration": 10446,
    "start_time": "2023-11-23T23:25:47.368Z"
   },
   {
    "duration": 216,
    "start_time": "2023-11-23T23:25:57.816Z"
   },
   {
    "duration": 14,
    "start_time": "2023-11-23T23:25:58.034Z"
   },
   {
    "duration": 104,
    "start_time": "2023-11-23T23:25:58.050Z"
   },
   {
    "duration": 3,
    "start_time": "2023-11-23T23:25:58.156Z"
   },
   {
    "duration": 186,
    "start_time": "2023-11-23T23:25:58.160Z"
   },
   {
    "duration": 5,
    "start_time": "2023-11-23T23:25:58.348Z"
   },
   {
    "duration": 18,
    "start_time": "2023-11-23T23:25:58.354Z"
   },
   {
    "duration": 164,
    "start_time": "2023-11-23T23:25:58.374Z"
   },
   {
    "duration": 2,
    "start_time": "2023-11-23T23:25:58.539Z"
   },
   {
    "duration": 1253,
    "start_time": "2023-11-23T23:25:58.543Z"
   },
   {
    "duration": 100,
    "start_time": "2023-11-23T23:25:59.799Z"
   },
   {
    "duration": 60,
    "start_time": "2023-11-23T23:25:59.901Z"
   },
   {
    "duration": 3,
    "start_time": "2023-11-23T23:25:59.962Z"
   },
   {
    "duration": 1215,
    "start_time": "2023-11-23T23:25:59.966Z"
   },
   {
    "duration": 543,
    "start_time": "2023-11-23T23:26:01.182Z"
   },
   {
    "duration": 967,
    "start_time": "2023-11-23T23:26:01.726Z"
   },
   {
    "duration": 3,
    "start_time": "2023-11-23T23:26:02.695Z"
   },
   {
    "duration": 120,
    "start_time": "2023-11-23T23:26:02.700Z"
   },
   {
    "duration": 2,
    "start_time": "2023-11-23T23:26:02.822Z"
   },
   {
    "duration": 1782,
    "start_time": "2023-11-23T23:26:02.826Z"
   },
   {
    "duration": 0,
    "start_time": "2023-11-23T23:26:04.610Z"
   },
   {
    "duration": 1357,
    "start_time": "2023-11-23T23:26:24.609Z"
   },
   {
    "duration": 223,
    "start_time": "2023-11-23T23:26:30.707Z"
   },
   {
    "duration": 775,
    "start_time": "2023-11-23T23:26:39.672Z"
   },
   {
    "duration": 3,
    "start_time": "2023-11-23T23:26:40.449Z"
   },
   {
    "duration": 9068,
    "start_time": "2023-11-23T23:26:40.454Z"
   },
   {
    "duration": 215,
    "start_time": "2023-11-23T23:26:49.524Z"
   },
   {
    "duration": 14,
    "start_time": "2023-11-23T23:26:49.742Z"
   },
   {
    "duration": 221,
    "start_time": "2023-11-23T23:26:49.758Z"
   },
   {
    "duration": 2,
    "start_time": "2023-11-23T23:26:49.981Z"
   },
   {
    "duration": 203,
    "start_time": "2023-11-23T23:26:49.985Z"
   },
   {
    "duration": 5,
    "start_time": "2023-11-23T23:26:50.190Z"
   },
   {
    "duration": 4,
    "start_time": "2023-11-23T23:26:50.196Z"
   },
   {
    "duration": 150,
    "start_time": "2023-11-23T23:26:50.202Z"
   },
   {
    "duration": 3,
    "start_time": "2023-11-23T23:26:50.353Z"
   },
   {
    "duration": 1285,
    "start_time": "2023-11-23T23:26:50.357Z"
   },
   {
    "duration": 103,
    "start_time": "2023-11-23T23:26:51.644Z"
   },
   {
    "duration": 59,
    "start_time": "2023-11-23T23:26:51.749Z"
   },
   {
    "duration": 2,
    "start_time": "2023-11-23T23:26:51.810Z"
   },
   {
    "duration": 1201,
    "start_time": "2023-11-23T23:26:51.814Z"
   },
   {
    "duration": 487,
    "start_time": "2023-11-23T23:26:53.017Z"
   },
   {
    "duration": 1003,
    "start_time": "2023-11-23T23:26:53.506Z"
   },
   {
    "duration": 3,
    "start_time": "2023-11-23T23:26:54.510Z"
   },
   {
    "duration": 130,
    "start_time": "2023-11-23T23:26:54.514Z"
   },
   {
    "duration": 4,
    "start_time": "2023-11-23T23:26:54.645Z"
   },
   {
    "duration": 219,
    "start_time": "2023-11-23T23:26:54.651Z"
   },
   {
    "duration": 132,
    "start_time": "2023-11-23T23:26:54.872Z"
   },
   {
    "duration": 926,
    "start_time": "2023-11-24T09:18:10.841Z"
   },
   {
    "duration": 4,
    "start_time": "2023-11-24T09:18:11.769Z"
   },
   {
    "duration": 10669,
    "start_time": "2023-11-24T09:18:11.775Z"
   },
   {
    "duration": 49,
    "start_time": "2023-11-24T09:18:22.446Z"
   },
   {
    "duration": 13,
    "start_time": "2023-11-24T09:18:22.496Z"
   },
   {
    "duration": 95,
    "start_time": "2023-11-24T09:18:22.511Z"
   },
   {
    "duration": 2,
    "start_time": "2023-11-24T09:18:22.607Z"
   },
   {
    "duration": 179,
    "start_time": "2023-11-24T09:18:22.611Z"
   },
   {
    "duration": 4,
    "start_time": "2023-11-24T09:18:22.791Z"
   },
   {
    "duration": 20,
    "start_time": "2023-11-24T09:18:22.797Z"
   },
   {
    "duration": 130,
    "start_time": "2023-11-24T09:18:22.819Z"
   },
   {
    "duration": 1,
    "start_time": "2023-11-24T09:18:22.951Z"
   },
   {
    "duration": 1230,
    "start_time": "2023-11-24T09:18:22.954Z"
   },
   {
    "duration": 68,
    "start_time": "2023-11-24T09:18:24.186Z"
   },
   {
    "duration": 26,
    "start_time": "2023-11-24T09:18:24.255Z"
   },
   {
    "duration": 25,
    "start_time": "2023-11-24T09:18:24.282Z"
   },
   {
    "duration": 1102,
    "start_time": "2023-11-24T09:18:24.309Z"
   },
   {
    "duration": 439,
    "start_time": "2023-11-24T09:18:25.412Z"
   },
   {
    "duration": 973,
    "start_time": "2023-11-24T09:18:25.853Z"
   },
   {
    "duration": 3,
    "start_time": "2023-11-24T09:18:26.827Z"
   },
   {
    "duration": 90,
    "start_time": "2023-11-24T09:18:26.831Z"
   },
   {
    "duration": 3,
    "start_time": "2023-11-24T09:18:26.923Z"
   },
   {
    "duration": 201,
    "start_time": "2023-11-24T09:18:26.928Z"
   },
   {
    "duration": 98,
    "start_time": "2023-11-24T09:18:27.130Z"
   },
   {
    "duration": 195,
    "start_time": "2023-11-24T09:43:37.802Z"
   },
   {
    "duration": 106,
    "start_time": "2023-11-24T09:43:48.017Z"
   },
   {
    "duration": 120,
    "start_time": "2023-11-24T09:44:11.923Z"
   },
   {
    "duration": 111,
    "start_time": "2023-11-24T09:49:13.538Z"
   },
   {
    "duration": 31,
    "start_time": "2023-11-24T09:49:24.996Z"
   },
   {
    "duration": 30,
    "start_time": "2023-11-24T09:49:34.292Z"
   },
   {
    "duration": 28,
    "start_time": "2023-11-24T09:49:43.107Z"
   },
   {
    "duration": 35,
    "start_time": "2023-11-24T09:50:01.508Z"
   },
   {
    "duration": 450,
    "start_time": "2023-11-24T09:53:17.310Z"
   },
   {
    "duration": 101,
    "start_time": "2023-11-24T09:57:30.062Z"
   },
   {
    "duration": 104,
    "start_time": "2023-11-24T09:57:30.996Z"
   },
   {
    "duration": 98,
    "start_time": "2023-11-24T09:57:31.629Z"
   },
   {
    "duration": 101,
    "start_time": "2023-11-24T09:57:32.339Z"
   },
   {
    "duration": 102,
    "start_time": "2023-11-24T09:57:32.901Z"
   },
   {
    "duration": 761,
    "start_time": "2023-11-24T09:58:20.027Z"
   },
   {
    "duration": 3,
    "start_time": "2023-11-24T09:58:20.790Z"
   },
   {
    "duration": 9976,
    "start_time": "2023-11-24T09:58:20.794Z"
   },
   {
    "duration": 34,
    "start_time": "2023-11-24T09:58:30.772Z"
   },
   {
    "duration": 53,
    "start_time": "2023-11-24T09:58:30.808Z"
   },
   {
    "duration": 122,
    "start_time": "2023-11-24T09:58:30.863Z"
   },
   {
    "duration": 3,
    "start_time": "2023-11-24T09:58:30.987Z"
   },
   {
    "duration": 158,
    "start_time": "2023-11-24T09:58:30.991Z"
   },
   {
    "duration": 5,
    "start_time": "2023-11-24T09:58:31.150Z"
   },
   {
    "duration": 48,
    "start_time": "2023-11-24T09:58:31.157Z"
   },
   {
    "duration": 135,
    "start_time": "2023-11-24T09:58:31.206Z"
   },
   {
    "duration": 2,
    "start_time": "2023-11-24T09:58:31.343Z"
   },
   {
    "duration": 1213,
    "start_time": "2023-11-24T09:58:31.348Z"
   },
   {
    "duration": 69,
    "start_time": "2023-11-24T09:58:32.563Z"
   },
   {
    "duration": 27,
    "start_time": "2023-11-24T09:58:32.634Z"
   },
   {
    "duration": 3,
    "start_time": "2023-11-24T09:58:32.662Z"
   },
   {
    "duration": 1076,
    "start_time": "2023-11-24T09:58:32.666Z"
   },
   {
    "duration": 459,
    "start_time": "2023-11-24T09:58:33.744Z"
   },
   {
    "duration": 910,
    "start_time": "2023-11-24T09:58:34.204Z"
   },
   {
    "duration": 3,
    "start_time": "2023-11-24T09:58:35.116Z"
   },
   {
    "duration": 83,
    "start_time": "2023-11-24T09:58:35.121Z"
   },
   {
    "duration": 4,
    "start_time": "2023-11-24T09:58:35.206Z"
   },
   {
    "duration": 221,
    "start_time": "2023-11-24T09:58:35.212Z"
   },
   {
    "duration": 105,
    "start_time": "2023-11-24T09:58:35.435Z"
   },
   {
    "duration": 44,
    "start_time": "2023-11-24T17:25:18.335Z"
   },
   {
    "duration": 875,
    "start_time": "2023-11-24T17:25:25.737Z"
   },
   {
    "duration": 4,
    "start_time": "2023-11-24T17:25:26.614Z"
   },
   {
    "duration": 10124,
    "start_time": "2023-11-24T17:25:26.620Z"
   },
   {
    "duration": 209,
    "start_time": "2023-11-24T17:25:36.746Z"
   },
   {
    "duration": 13,
    "start_time": "2023-11-24T17:25:36.957Z"
   },
   {
    "duration": 108,
    "start_time": "2023-11-24T17:25:36.972Z"
   },
   {
    "duration": 2,
    "start_time": "2023-11-24T17:25:37.082Z"
   },
   {
    "duration": 173,
    "start_time": "2023-11-24T17:25:37.085Z"
   },
   {
    "duration": 134,
    "start_time": "2023-11-24T17:25:49.996Z"
   },
   {
    "duration": 146,
    "start_time": "2023-11-24T17:26:04.692Z"
   },
   {
    "duration": 139,
    "start_time": "2023-11-24T17:26:10.580Z"
   },
   {
    "duration": 140,
    "start_time": "2023-11-24T17:29:41.850Z"
   },
   {
    "duration": 101,
    "start_time": "2023-11-24T17:30:23.313Z"
   },
   {
    "duration": 265,
    "start_time": "2023-11-24T17:31:28.884Z"
   },
   {
    "duration": 137,
    "start_time": "2023-11-24T17:31:47.549Z"
   },
   {
    "duration": 59,
    "start_time": "2023-11-24T17:32:05.391Z"
   },
   {
    "duration": 1139,
    "start_time": "2023-11-24T17:33:19.478Z"
   },
   {
    "duration": 171,
    "start_time": "2023-11-24T17:35:09.151Z"
   },
   {
    "duration": 185,
    "start_time": "2023-11-24T17:35:39.101Z"
   },
   {
    "duration": 168,
    "start_time": "2023-11-24T17:35:42.045Z"
   },
   {
    "duration": 146,
    "start_time": "2023-11-24T17:35:46.362Z"
   },
   {
    "duration": 137,
    "start_time": "2023-11-24T17:35:49.086Z"
   },
   {
    "duration": 220,
    "start_time": "2023-11-24T17:35:53.458Z"
   },
   {
    "duration": 139,
    "start_time": "2023-11-24T17:35:58.038Z"
   },
   {
    "duration": 1111,
    "start_time": "2023-11-24T17:36:44.279Z"
   },
   {
    "duration": 144,
    "start_time": "2023-11-24T17:37:35.427Z"
   },
   {
    "duration": 153,
    "start_time": "2023-11-24T17:37:41.745Z"
   },
   {
    "duration": 268,
    "start_time": "2023-11-24T17:38:05.823Z"
   },
   {
    "duration": 1163,
    "start_time": "2023-11-24T17:38:11.377Z"
   },
   {
    "duration": 1079,
    "start_time": "2023-11-24T17:38:52.347Z"
   },
   {
    "duration": 803,
    "start_time": "2023-11-24T17:39:12.425Z"
   },
   {
    "duration": 473,
    "start_time": "2023-11-24T17:40:20.698Z"
   },
   {
    "duration": 484,
    "start_time": "2023-11-24T17:42:11.070Z"
   },
   {
    "duration": 479,
    "start_time": "2023-11-24T17:42:34.338Z"
   },
   {
    "duration": 469,
    "start_time": "2023-11-24T17:42:54.919Z"
   },
   {
    "duration": 504,
    "start_time": "2023-11-24T17:50:03.435Z"
   },
   {
    "duration": 1744,
    "start_time": "2023-11-24T17:51:28.187Z"
   },
   {
    "duration": 519,
    "start_time": "2023-11-24T17:51:46.580Z"
   },
   {
    "duration": 9,
    "start_time": "2023-11-24T17:52:10.213Z"
   },
   {
    "duration": 10,
    "start_time": "2023-11-24T17:52:30.769Z"
   },
   {
    "duration": 3,
    "start_time": "2023-11-24T17:53:00.398Z"
   },
   {
    "duration": 453,
    "start_time": "2023-11-24T17:53:03.886Z"
   },
   {
    "duration": 10,
    "start_time": "2023-11-24T17:53:11.278Z"
   },
   {
    "duration": 10,
    "start_time": "2023-11-24T17:53:14.464Z"
   },
   {
    "duration": 484,
    "start_time": "2023-11-24T17:53:24.578Z"
   },
   {
    "duration": 9,
    "start_time": "2023-11-24T17:53:27.879Z"
   },
   {
    "duration": 4,
    "start_time": "2023-11-24T17:53:31.015Z"
   },
   {
    "duration": 478,
    "start_time": "2023-11-24T17:53:32.237Z"
   },
   {
    "duration": 10,
    "start_time": "2023-11-24T17:53:37.543Z"
   },
   {
    "duration": 480,
    "start_time": "2023-11-24T17:53:39.526Z"
   },
   {
    "duration": 11,
    "start_time": "2023-11-24T17:53:59.590Z"
   },
   {
    "duration": 10,
    "start_time": "2023-11-24T17:56:25.107Z"
   },
   {
    "duration": 4,
    "start_time": "2023-11-24T17:56:33.228Z"
   },
   {
    "duration": 384,
    "start_time": "2023-11-24T17:56:36.422Z"
   },
   {
    "duration": 13,
    "start_time": "2023-11-24T17:56:48.364Z"
   },
   {
    "duration": 361,
    "start_time": "2023-11-24T17:56:56.422Z"
   },
   {
    "duration": 137,
    "start_time": "2023-11-24T18:05:23.710Z"
   },
   {
    "duration": 106,
    "start_time": "2023-11-24T18:05:39.714Z"
   },
   {
    "duration": 1257,
    "start_time": "2023-11-24T18:06:14.786Z"
   },
   {
    "duration": 1359,
    "start_time": "2023-11-24T18:06:33.870Z"
   },
   {
    "duration": 141,
    "start_time": "2023-11-24T18:06:53.539Z"
   },
   {
    "duration": 101,
    "start_time": "2023-11-24T18:07:03.894Z"
   },
   {
    "duration": 1579,
    "start_time": "2023-11-24T18:11:16.608Z"
   },
   {
    "duration": 105,
    "start_time": "2023-11-24T18:11:26.280Z"
   },
   {
    "duration": 2,
    "start_time": "2023-11-24T18:11:27.459Z"
   },
   {
    "duration": 190,
    "start_time": "2023-11-24T18:11:27.901Z"
   },
   {
    "duration": 202,
    "start_time": "2023-11-24T18:11:38.582Z"
   },
   {
    "duration": 9,
    "start_time": "2023-11-24T18:12:03.242Z"
   },
   {
    "duration": 108,
    "start_time": "2023-11-24T18:12:07.571Z"
   },
   {
    "duration": 2,
    "start_time": "2023-11-24T18:12:08.832Z"
   },
   {
    "duration": 8,
    "start_time": "2023-11-24T18:12:09.096Z"
   },
   {
    "duration": 3,
    "start_time": "2023-11-24T18:12:17.659Z"
   },
   {
    "duration": 4,
    "start_time": "2023-11-24T18:12:22.644Z"
   },
   {
    "duration": 8,
    "start_time": "2023-11-24T18:12:29.806Z"
   },
   {
    "duration": 4,
    "start_time": "2023-11-24T18:12:33.519Z"
   },
   {
    "duration": 182,
    "start_time": "2023-11-24T18:17:09.560Z"
   },
   {
    "duration": 4,
    "start_time": "2023-11-24T18:17:13.080Z"
   },
   {
    "duration": 11,
    "start_time": "2023-11-24T18:17:22.196Z"
   },
   {
    "duration": 4,
    "start_time": "2023-11-24T18:17:34.524Z"
   },
   {
    "duration": 10,
    "start_time": "2023-11-24T18:17:48.838Z"
   },
   {
    "duration": 9,
    "start_time": "2023-11-24T18:17:55.439Z"
   },
   {
    "duration": 12,
    "start_time": "2023-11-24T18:18:10.629Z"
   },
   {
    "duration": 4,
    "start_time": "2023-11-24T18:18:20.846Z"
   },
   {
    "duration": 4,
    "start_time": "2023-11-24T18:18:25.800Z"
   },
   {
    "duration": 181,
    "start_time": "2023-11-24T18:18:26.200Z"
   },
   {
    "duration": 7,
    "start_time": "2023-11-24T18:21:59.148Z"
   },
   {
    "duration": 7,
    "start_time": "2023-11-24T18:23:53.029Z"
   },
   {
    "duration": 163,
    "start_time": "2023-11-24T18:23:54.728Z"
   },
   {
    "duration": 1063,
    "start_time": "2023-11-24T18:24:35.890Z"
   },
   {
    "duration": 3,
    "start_time": "2023-11-24T18:24:37.906Z"
   },
   {
    "duration": 10812,
    "start_time": "2023-11-24T18:24:38.606Z"
   },
   {
    "duration": 206,
    "start_time": "2023-11-24T18:24:49.420Z"
   },
   {
    "duration": 12,
    "start_time": "2023-11-24T18:24:49.627Z"
   },
   {
    "duration": 109,
    "start_time": "2023-11-24T18:24:49.641Z"
   },
   {
    "duration": 2,
    "start_time": "2023-11-24T18:24:49.751Z"
   },
   {
    "duration": 149,
    "start_time": "2023-11-24T18:24:49.755Z"
   },
   {
    "duration": 4,
    "start_time": "2023-11-24T18:24:49.905Z"
   },
   {
    "duration": 4,
    "start_time": "2023-11-24T18:24:57.234Z"
   },
   {
    "duration": 2,
    "start_time": "2023-11-24T18:24:58.203Z"
   },
   {
    "duration": 140,
    "start_time": "2023-11-24T18:25:01.193Z"
   },
   {
    "duration": 2,
    "start_time": "2023-11-24T18:25:04.111Z"
   },
   {
    "duration": 1120,
    "start_time": "2023-11-24T18:25:05.831Z"
   },
   {
    "duration": 99,
    "start_time": "2023-11-24T18:25:07.819Z"
   },
   {
    "duration": 58,
    "start_time": "2023-11-24T18:25:10.235Z"
   },
   {
    "duration": 3,
    "start_time": "2023-11-24T18:25:15.173Z"
   },
   {
    "duration": 1185,
    "start_time": "2023-11-24T18:25:17.428Z"
   },
   {
    "duration": 478,
    "start_time": "2023-11-24T18:25:20.630Z"
   },
   {
    "duration": 768,
    "start_time": "2023-11-24T18:25:21.829Z"
   },
   {
    "duration": 2,
    "start_time": "2023-11-24T18:25:22.599Z"
   },
   {
    "duration": 105,
    "start_time": "2023-11-24T18:25:23.719Z"
   },
   {
    "duration": 3,
    "start_time": "2023-11-24T18:25:24.515Z"
   },
   {
    "duration": 7,
    "start_time": "2023-11-24T18:25:24.697Z"
   },
   {
    "duration": 201,
    "start_time": "2023-11-24T18:25:24.888Z"
   },
   {
    "duration": 134,
    "start_time": "2023-11-24T18:25:26.064Z"
   },
   {
    "duration": 1304,
    "start_time": "2023-11-24T18:26:12.079Z"
   },
   {
    "duration": 106,
    "start_time": "2023-11-24T18:26:18.364Z"
   },
   {
    "duration": 3,
    "start_time": "2023-11-24T18:26:19.434Z"
   },
   {
    "duration": 8,
    "start_time": "2023-11-24T18:26:19.752Z"
   },
   {
    "duration": 122,
    "start_time": "2023-11-24T18:26:20.262Z"
   },
   {
    "duration": 116,
    "start_time": "2023-11-24T18:26:21.383Z"
   },
   {
    "duration": 10,
    "start_time": "2023-11-24T18:26:47.231Z"
   },
   {
    "duration": 104,
    "start_time": "2023-11-24T18:26:55.987Z"
   },
   {
    "duration": 9,
    "start_time": "2023-11-24T18:26:57.992Z"
   },
   {
    "duration": 7,
    "start_time": "2023-11-24T18:27:07.020Z"
   },
   {
    "duration": 3,
    "start_time": "2023-11-24T18:27:22.570Z"
   },
   {
    "duration": 13,
    "start_time": "2023-11-24T18:27:23.023Z"
   },
   {
    "duration": 7,
    "start_time": "2023-11-24T18:27:56.585Z"
   },
   {
    "duration": 9,
    "start_time": "2023-11-24T18:27:57.199Z"
   },
   {
    "duration": 110,
    "start_time": "2023-11-24T18:28:00.573Z"
   },
   {
    "duration": 3,
    "start_time": "2023-11-24T18:28:02.993Z"
   },
   {
    "duration": 8,
    "start_time": "2023-11-24T18:28:03.311Z"
   },
   {
    "duration": 10,
    "start_time": "2023-11-24T18:28:04.669Z"
   },
   {
    "duration": 4,
    "start_time": "2023-11-24T18:28:26.120Z"
   },
   {
    "duration": 104,
    "start_time": "2023-11-24T18:28:27.804Z"
   },
   {
    "duration": 2,
    "start_time": "2023-11-24T18:28:28.906Z"
   },
   {
    "duration": 4,
    "start_time": "2023-11-24T18:28:29.911Z"
   },
   {
    "duration": 13,
    "start_time": "2023-11-24T18:28:31.597Z"
   },
   {
    "duration": 6,
    "start_time": "2023-11-24T18:28:54.649Z"
   },
   {
    "duration": 9,
    "start_time": "2023-11-24T18:28:55.839Z"
   },
   {
    "duration": 178,
    "start_time": "2023-11-24T18:29:47.552Z"
   },
   {
    "duration": 700,
    "start_time": "2023-11-24T18:30:01.031Z"
   },
   {
    "duration": 4,
    "start_time": "2023-11-24T18:30:01.733Z"
   },
   {
    "duration": 12031,
    "start_time": "2023-11-24T18:30:01.738Z"
   },
   {
    "duration": 201,
    "start_time": "2023-11-24T18:30:13.771Z"
   },
   {
    "duration": 14,
    "start_time": "2023-11-24T18:30:13.974Z"
   },
   {
    "duration": 100,
    "start_time": "2023-11-24T18:30:13.990Z"
   },
   {
    "duration": 2,
    "start_time": "2023-11-24T18:30:14.092Z"
   },
   {
    "duration": 145,
    "start_time": "2023-11-24T18:30:14.095Z"
   },
   {
    "duration": 5,
    "start_time": "2023-11-24T18:30:14.241Z"
   },
   {
    "duration": 2,
    "start_time": "2023-11-24T18:30:14.248Z"
   },
   {
    "duration": 141,
    "start_time": "2023-11-24T18:30:14.252Z"
   },
   {
    "duration": 2,
    "start_time": "2023-11-24T18:30:14.394Z"
   },
   {
    "duration": 1162,
    "start_time": "2023-11-24T18:30:14.398Z"
   },
   {
    "duration": 97,
    "start_time": "2023-11-24T18:30:15.563Z"
   },
   {
    "duration": 57,
    "start_time": "2023-11-24T18:30:15.662Z"
   },
   {
    "duration": 2,
    "start_time": "2023-11-24T18:30:15.720Z"
   },
   {
    "duration": 1226,
    "start_time": "2023-11-24T18:30:15.724Z"
   },
   {
    "duration": 486,
    "start_time": "2023-11-24T18:30:16.952Z"
   },
   {
    "duration": 760,
    "start_time": "2023-11-24T18:30:17.440Z"
   },
   {
    "duration": 9,
    "start_time": "2023-11-24T18:30:18.202Z"
   },
   {
    "duration": 106,
    "start_time": "2023-11-24T18:30:18.212Z"
   },
   {
    "duration": 2,
    "start_time": "2023-11-24T18:30:18.320Z"
   },
   {
    "duration": 9,
    "start_time": "2023-11-24T18:30:18.323Z"
   },
   {
    "duration": 8,
    "start_time": "2023-11-24T18:30:18.334Z"
   },
   {
    "duration": 218,
    "start_time": "2023-11-24T18:30:18.344Z"
   },
   {
    "duration": 126,
    "start_time": "2023-11-24T18:30:18.565Z"
   },
   {
    "duration": 782,
    "start_time": "2023-11-24T19:34:42.150Z"
   },
   {
    "duration": 4,
    "start_time": "2023-11-24T19:34:42.934Z"
   },
   {
    "duration": 10084,
    "start_time": "2023-11-24T19:34:42.939Z"
   },
   {
    "duration": 47,
    "start_time": "2023-11-24T19:34:53.025Z"
   },
   {
    "duration": 14,
    "start_time": "2023-11-24T19:34:53.074Z"
   },
   {
    "duration": 84,
    "start_time": "2023-11-24T19:34:53.089Z"
   },
   {
    "duration": 3,
    "start_time": "2023-11-24T19:34:53.174Z"
   },
   {
    "duration": 121,
    "start_time": "2023-11-24T19:34:53.178Z"
   },
   {
    "duration": 4,
    "start_time": "2023-11-24T19:34:53.301Z"
   },
   {
    "duration": 9,
    "start_time": "2023-11-24T19:34:53.308Z"
   },
   {
    "duration": 121,
    "start_time": "2023-11-24T19:34:53.319Z"
   },
   {
    "duration": 2,
    "start_time": "2023-11-24T19:34:53.442Z"
   },
   {
    "duration": 1247,
    "start_time": "2023-11-24T19:34:53.446Z"
   },
   {
    "duration": 70,
    "start_time": "2023-11-24T19:34:54.695Z"
   },
   {
    "duration": 29,
    "start_time": "2023-11-24T19:34:54.767Z"
   },
   {
    "duration": 20,
    "start_time": "2023-11-24T19:34:54.797Z"
   },
   {
    "duration": 1195,
    "start_time": "2023-11-24T19:34:54.818Z"
   },
   {
    "duration": 446,
    "start_time": "2023-11-24T19:34:56.015Z"
   },
   {
    "duration": 889,
    "start_time": "2023-11-24T19:34:56.463Z"
   },
   {
    "duration": 2,
    "start_time": "2023-11-24T19:34:57.354Z"
   },
   {
    "duration": 114,
    "start_time": "2023-11-24T19:34:57.358Z"
   },
   {
    "duration": 2,
    "start_time": "2023-11-24T19:34:57.474Z"
   },
   {
    "duration": 18,
    "start_time": "2023-11-24T19:34:57.478Z"
   },
   {
    "duration": 7,
    "start_time": "2023-11-24T19:34:57.498Z"
   },
   {
    "duration": 215,
    "start_time": "2023-11-24T19:34:57.506Z"
   },
   {
    "duration": 101,
    "start_time": "2023-11-24T19:34:57.723Z"
   },
   {
    "duration": 30,
    "start_time": "2023-11-24T19:35:19.013Z"
   },
   {
    "duration": 787,
    "start_time": "2023-11-24T19:38:15.854Z"
   },
   {
    "duration": 3,
    "start_time": "2023-11-24T19:38:16.643Z"
   },
   {
    "duration": 9810,
    "start_time": "2023-11-24T19:38:16.648Z"
   },
   {
    "duration": 33,
    "start_time": "2023-11-24T19:38:26.460Z"
   },
   {
    "duration": 14,
    "start_time": "2023-11-24T19:38:26.495Z"
   },
   {
    "duration": 75,
    "start_time": "2023-11-24T19:38:26.511Z"
   },
   {
    "duration": 2,
    "start_time": "2023-11-24T19:38:26.588Z"
   },
   {
    "duration": 140,
    "start_time": "2023-11-24T19:38:26.591Z"
   },
   {
    "duration": 4,
    "start_time": "2023-11-24T19:38:26.733Z"
   },
   {
    "duration": 19,
    "start_time": "2023-11-24T19:38:26.739Z"
   },
   {
    "duration": 132,
    "start_time": "2023-11-24T19:38:26.760Z"
   },
   {
    "duration": 2,
    "start_time": "2023-11-24T19:38:26.893Z"
   },
   {
    "duration": 1268,
    "start_time": "2023-11-24T19:38:26.897Z"
   },
   {
    "duration": 73,
    "start_time": "2023-11-24T19:38:28.167Z"
   },
   {
    "duration": 28,
    "start_time": "2023-11-24T19:38:28.243Z"
   },
   {
    "duration": 2,
    "start_time": "2023-11-24T19:38:28.273Z"
   },
   {
    "duration": 1181,
    "start_time": "2023-11-24T19:38:28.276Z"
   },
   {
    "duration": 447,
    "start_time": "2023-11-24T19:38:29.459Z"
   },
   {
    "duration": 856,
    "start_time": "2023-11-24T19:38:29.907Z"
   },
   {
    "duration": 3,
    "start_time": "2023-11-24T19:38:30.764Z"
   },
   {
    "duration": 124,
    "start_time": "2023-11-24T19:38:30.773Z"
   },
   {
    "duration": 3,
    "start_time": "2023-11-24T19:38:30.898Z"
   },
   {
    "duration": 56,
    "start_time": "2023-11-24T19:38:30.902Z"
   },
   {
    "duration": 50,
    "start_time": "2023-11-24T19:38:30.960Z"
   },
   {
    "duration": 243,
    "start_time": "2023-11-24T19:38:31.012Z"
   },
   {
    "duration": 104,
    "start_time": "2023-11-24T19:38:31.257Z"
   }
  ],
  "colab": {
   "provenance": []
  },
  "kernelspec": {
   "display_name": "Python 3 (ipykernel)",
   "language": "python",
   "name": "python3"
  },
  "language_info": {
   "codemirror_mode": {
    "name": "ipython",
    "version": 3
   },
   "file_extension": ".py",
   "mimetype": "text/x-python",
   "name": "python",
   "nbconvert_exporter": "python",
   "pygments_lexer": "ipython3",
   "version": "3.9.5"
  },
  "toc": {
   "base_numbering": 1,
   "nav_menu": {},
   "number_sections": true,
   "sideBar": true,
   "skip_h1_title": true,
   "title_cell": "Table of Contents",
   "title_sidebar": "Contents",
   "toc_cell": false,
   "toc_position": {},
   "toc_section_display": true,
   "toc_window_display": false
  }
 },
 "nbformat": 4,
 "nbformat_minor": 1
}
