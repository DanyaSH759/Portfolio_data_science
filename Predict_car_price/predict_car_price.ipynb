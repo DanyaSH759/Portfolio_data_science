{
 "cells": [
  {
   "cell_type": "markdown",
   "metadata": {
    "id": "CuWwZ_8uJQEj"
   },
   "source": [
    "# Определение стоимости автомобилей"
   ]
  },
  {
   "cell_type": "markdown",
   "metadata": {
    "id": "oh4vQMFyJQEm"
   },
   "source": [
    "Сервис по продаже автомобилей с пробегом «Не бит, не крашен» разрабатывает приложение для привлечения новых клиентов. В нём можно быстро узнать рыночную стоимость своего автомобиля. В вашем распоряжении исторические данные: технические характеристики, комплектации и цены автомобилей. Вам нужно построить модель для определения стоимости.\n",
    "\n",
    "Заказчику важны:\n",
    "\n",
    "- качество предсказания;\n",
    "- скорость предсказания;\n",
    "- время обучения."
   ]
  },
  {
   "cell_type": "markdown",
   "metadata": {},
   "source": [
    "Представелнный датасет сожержит колонки:\n",
    "\n",
    "- DateCrawled  дата скачивания анкеты из базы\n",
    "- VehicleType тип автомобильного кузов\n",
    "- RegistrationYear год регистрации автомобя\n",
    "- \n",
    "Gear  тип коробки ередач\n",
    "- Power мощность (л.с.)\n",
    "- Model модель авто\n",
    "- Kilometer пробег (км)\n",
    "- RegistrationMonth месяц регистрации автомобиля\n",
    "- FuelType тип топлива\n",
    "- Brand марка автомобиля\n",
    "- Repaired была машина в ремонте или нет\n",
    "- DateCreated дата создания анкеты\n",
    "- NumberOfPictures количество фотографий автомобиля\n",
    "- LastSeen дата последней активности пользователя\n",
    "- Price - цена (евро)\n",
    "\n",
    "**План работ:**\n",
    "- Изучений файа с даннымии\n",
    "- Предобработка и исследовательский анализ данники\n",
    "- Разработка модел\n",
    "- Выбор наилучшей модели по критериям заказчикаента"
   ]
  },
  {
   "cell_type": "markdown",
   "metadata": {
    "id": "pxNoRdX1JQEn"
   },
   "source": [
    "## Подготовка данных"
   ]
  },
  {
   "cell_type": "code",
   "execution_count": 1,
   "metadata": {},
   "outputs": [],
   "source": [
    "!pip install lightgbm"
   ]
  },
  {
   "cell_type": "code",
   "execution_count": 2,
   "metadata": {},
   "outputs": [],
   "source": [
    "# импортируем основные библиотеки\n",
    "import time\n",
    "import pandas as pd\n",
    "import numpy as np\n",
    "import seaborn as sns\n",
    "import matplotlib.pyplot as plt\n",
    "import warnings\n",
    "warnings.filterwarnings(\"ignore\")\n",
    "\n",
    "\n",
    "from sklearn.linear_model import LinearRegression\n",
    "from sklearn.ensemble import (\n",
    "    RandomForestRegressor,\n",
    "    GradientBoostingRegressor\n",
    ")\n",
    "from lightgbm import LGBMRegressor\n",
    "from catboost import CatBoostRegressor\n",
    "\n",
    "from sklearn.metrics import mean_squared_error\n",
    "\n",
    "from sklearn.preprocessing import (\n",
    "    OneHotEncoder,\n",
    "    StandardScaler\n",
    ")\n",
    "\n",
    "from sklearn.model_selection import (\n",
    "    RandomizedSearchCV,\n",
    "    train_test_split\n",
    ")"
   ]
  },
  {
   "cell_type": "code",
   "execution_count": 3,
   "metadata": {
    "id": "q8T1ZtoaJQEp"
   },
   "outputs": [],
   "source": [
    "# загрузим данные \n",
    "try:\n",
    "    data = pd.read_csv('/datasets/autos.csv')\n",
    "except:\n",
    "    data = pd.read_csv('autos.csv')"
   ]
  },
  {
   "cell_type": "code",
   "execution_count": 4,
   "metadata": {
    "id": "L9bSi7iLJQEp",
    "outputId": "e498753b-9616-468a-b947-ea2322419219"
   },
   "outputs": [
    {
     "data": {
      "text/html": [
       "<div>\n",
       "<style scoped>\n",
       "    .dataframe tbody tr th:only-of-type {\n",
       "        vertical-align: middle;\n",
       "    }\n",
       "\n",
       "    .dataframe tbody tr th {\n",
       "        vertical-align: top;\n",
       "    }\n",
       "\n",
       "    .dataframe thead th {\n",
       "        text-align: right;\n",
       "    }\n",
       "</style>\n",
       "<table border=\"1\" class=\"dataframe\">\n",
       "  <thead>\n",
       "    <tr style=\"text-align: right;\">\n",
       "      <th></th>\n",
       "      <th>DateCrawled</th>\n",
       "      <th>Price</th>\n",
       "      <th>VehicleType</th>\n",
       "      <th>RegistrationYear</th>\n",
       "      <th>Gearbox</th>\n",
       "      <th>Power</th>\n",
       "      <th>Model</th>\n",
       "      <th>Kilometer</th>\n",
       "      <th>RegistrationMonth</th>\n",
       "      <th>FuelType</th>\n",
       "      <th>Brand</th>\n",
       "      <th>Repaired</th>\n",
       "      <th>DateCreated</th>\n",
       "      <th>NumberOfPictures</th>\n",
       "      <th>PostalCode</th>\n",
       "      <th>LastSeen</th>\n",
       "    </tr>\n",
       "  </thead>\n",
       "  <tbody>\n",
       "    <tr>\n",
       "      <th>0</th>\n",
       "      <td>2016-03-24 11:52:17</td>\n",
       "      <td>480</td>\n",
       "      <td>NaN</td>\n",
       "      <td>1993</td>\n",
       "      <td>manual</td>\n",
       "      <td>0</td>\n",
       "      <td>golf</td>\n",
       "      <td>150000</td>\n",
       "      <td>0</td>\n",
       "      <td>petrol</td>\n",
       "      <td>volkswagen</td>\n",
       "      <td>NaN</td>\n",
       "      <td>2016-03-24 00:00:00</td>\n",
       "      <td>0</td>\n",
       "      <td>70435</td>\n",
       "      <td>2016-04-07 03:16:57</td>\n",
       "    </tr>\n",
       "    <tr>\n",
       "      <th>1</th>\n",
       "      <td>2016-03-24 10:58:45</td>\n",
       "      <td>18300</td>\n",
       "      <td>coupe</td>\n",
       "      <td>2011</td>\n",
       "      <td>manual</td>\n",
       "      <td>190</td>\n",
       "      <td>NaN</td>\n",
       "      <td>125000</td>\n",
       "      <td>5</td>\n",
       "      <td>gasoline</td>\n",
       "      <td>audi</td>\n",
       "      <td>yes</td>\n",
       "      <td>2016-03-24 00:00:00</td>\n",
       "      <td>0</td>\n",
       "      <td>66954</td>\n",
       "      <td>2016-04-07 01:46:50</td>\n",
       "    </tr>\n",
       "    <tr>\n",
       "      <th>2</th>\n",
       "      <td>2016-03-14 12:52:21</td>\n",
       "      <td>9800</td>\n",
       "      <td>suv</td>\n",
       "      <td>2004</td>\n",
       "      <td>auto</td>\n",
       "      <td>163</td>\n",
       "      <td>grand</td>\n",
       "      <td>125000</td>\n",
       "      <td>8</td>\n",
       "      <td>gasoline</td>\n",
       "      <td>jeep</td>\n",
       "      <td>NaN</td>\n",
       "      <td>2016-03-14 00:00:00</td>\n",
       "      <td>0</td>\n",
       "      <td>90480</td>\n",
       "      <td>2016-04-05 12:47:46</td>\n",
       "    </tr>\n",
       "    <tr>\n",
       "      <th>3</th>\n",
       "      <td>2016-03-17 16:54:04</td>\n",
       "      <td>1500</td>\n",
       "      <td>small</td>\n",
       "      <td>2001</td>\n",
       "      <td>manual</td>\n",
       "      <td>75</td>\n",
       "      <td>golf</td>\n",
       "      <td>150000</td>\n",
       "      <td>6</td>\n",
       "      <td>petrol</td>\n",
       "      <td>volkswagen</td>\n",
       "      <td>no</td>\n",
       "      <td>2016-03-17 00:00:00</td>\n",
       "      <td>0</td>\n",
       "      <td>91074</td>\n",
       "      <td>2016-03-17 17:40:17</td>\n",
       "    </tr>\n",
       "    <tr>\n",
       "      <th>4</th>\n",
       "      <td>2016-03-31 17:25:20</td>\n",
       "      <td>3600</td>\n",
       "      <td>small</td>\n",
       "      <td>2008</td>\n",
       "      <td>manual</td>\n",
       "      <td>69</td>\n",
       "      <td>fabia</td>\n",
       "      <td>90000</td>\n",
       "      <td>7</td>\n",
       "      <td>gasoline</td>\n",
       "      <td>skoda</td>\n",
       "      <td>no</td>\n",
       "      <td>2016-03-31 00:00:00</td>\n",
       "      <td>0</td>\n",
       "      <td>60437</td>\n",
       "      <td>2016-04-06 10:17:21</td>\n",
       "    </tr>\n",
       "    <tr>\n",
       "      <th>...</th>\n",
       "      <td>...</td>\n",
       "      <td>...</td>\n",
       "      <td>...</td>\n",
       "      <td>...</td>\n",
       "      <td>...</td>\n",
       "      <td>...</td>\n",
       "      <td>...</td>\n",
       "      <td>...</td>\n",
       "      <td>...</td>\n",
       "      <td>...</td>\n",
       "      <td>...</td>\n",
       "      <td>...</td>\n",
       "      <td>...</td>\n",
       "      <td>...</td>\n",
       "      <td>...</td>\n",
       "      <td>...</td>\n",
       "    </tr>\n",
       "    <tr>\n",
       "      <th>354364</th>\n",
       "      <td>2016-03-21 09:50:58</td>\n",
       "      <td>0</td>\n",
       "      <td>NaN</td>\n",
       "      <td>2005</td>\n",
       "      <td>manual</td>\n",
       "      <td>0</td>\n",
       "      <td>colt</td>\n",
       "      <td>150000</td>\n",
       "      <td>7</td>\n",
       "      <td>petrol</td>\n",
       "      <td>mitsubishi</td>\n",
       "      <td>yes</td>\n",
       "      <td>2016-03-21 00:00:00</td>\n",
       "      <td>0</td>\n",
       "      <td>2694</td>\n",
       "      <td>2016-03-21 10:42:49</td>\n",
       "    </tr>\n",
       "    <tr>\n",
       "      <th>354365</th>\n",
       "      <td>2016-03-14 17:48:27</td>\n",
       "      <td>2200</td>\n",
       "      <td>NaN</td>\n",
       "      <td>2005</td>\n",
       "      <td>NaN</td>\n",
       "      <td>0</td>\n",
       "      <td>NaN</td>\n",
       "      <td>20000</td>\n",
       "      <td>1</td>\n",
       "      <td>NaN</td>\n",
       "      <td>sonstige_autos</td>\n",
       "      <td>NaN</td>\n",
       "      <td>2016-03-14 00:00:00</td>\n",
       "      <td>0</td>\n",
       "      <td>39576</td>\n",
       "      <td>2016-04-06 00:46:52</td>\n",
       "    </tr>\n",
       "    <tr>\n",
       "      <th>354366</th>\n",
       "      <td>2016-03-05 19:56:21</td>\n",
       "      <td>1199</td>\n",
       "      <td>convertible</td>\n",
       "      <td>2000</td>\n",
       "      <td>auto</td>\n",
       "      <td>101</td>\n",
       "      <td>fortwo</td>\n",
       "      <td>125000</td>\n",
       "      <td>3</td>\n",
       "      <td>petrol</td>\n",
       "      <td>smart</td>\n",
       "      <td>no</td>\n",
       "      <td>2016-03-05 00:00:00</td>\n",
       "      <td>0</td>\n",
       "      <td>26135</td>\n",
       "      <td>2016-03-11 18:17:12</td>\n",
       "    </tr>\n",
       "    <tr>\n",
       "      <th>354367</th>\n",
       "      <td>2016-03-19 18:57:12</td>\n",
       "      <td>9200</td>\n",
       "      <td>bus</td>\n",
       "      <td>1996</td>\n",
       "      <td>manual</td>\n",
       "      <td>102</td>\n",
       "      <td>transporter</td>\n",
       "      <td>150000</td>\n",
       "      <td>3</td>\n",
       "      <td>gasoline</td>\n",
       "      <td>volkswagen</td>\n",
       "      <td>no</td>\n",
       "      <td>2016-03-19 00:00:00</td>\n",
       "      <td>0</td>\n",
       "      <td>87439</td>\n",
       "      <td>2016-04-07 07:15:26</td>\n",
       "    </tr>\n",
       "    <tr>\n",
       "      <th>354368</th>\n",
       "      <td>2016-03-20 19:41:08</td>\n",
       "      <td>3400</td>\n",
       "      <td>wagon</td>\n",
       "      <td>2002</td>\n",
       "      <td>manual</td>\n",
       "      <td>100</td>\n",
       "      <td>golf</td>\n",
       "      <td>150000</td>\n",
       "      <td>6</td>\n",
       "      <td>gasoline</td>\n",
       "      <td>volkswagen</td>\n",
       "      <td>NaN</td>\n",
       "      <td>2016-03-20 00:00:00</td>\n",
       "      <td>0</td>\n",
       "      <td>40764</td>\n",
       "      <td>2016-03-24 12:45:21</td>\n",
       "    </tr>\n",
       "  </tbody>\n",
       "</table>\n",
       "<p>354369 rows × 16 columns</p>\n",
       "</div>"
      ],
      "text/plain": [
       "                DateCrawled  Price  VehicleType  RegistrationYear Gearbox  \\\n",
       "0       2016-03-24 11:52:17    480          NaN              1993  manual   \n",
       "1       2016-03-24 10:58:45  18300        coupe              2011  manual   \n",
       "2       2016-03-14 12:52:21   9800          suv              2004    auto   \n",
       "3       2016-03-17 16:54:04   1500        small              2001  manual   \n",
       "4       2016-03-31 17:25:20   3600        small              2008  manual   \n",
       "...                     ...    ...          ...               ...     ...   \n",
       "354364  2016-03-21 09:50:58      0          NaN              2005  manual   \n",
       "354365  2016-03-14 17:48:27   2200          NaN              2005     NaN   \n",
       "354366  2016-03-05 19:56:21   1199  convertible              2000    auto   \n",
       "354367  2016-03-19 18:57:12   9200          bus              1996  manual   \n",
       "354368  2016-03-20 19:41:08   3400        wagon              2002  manual   \n",
       "\n",
       "        Power        Model  Kilometer  RegistrationMonth  FuelType  \\\n",
       "0           0         golf     150000                  0    petrol   \n",
       "1         190          NaN     125000                  5  gasoline   \n",
       "2         163        grand     125000                  8  gasoline   \n",
       "3          75         golf     150000                  6    petrol   \n",
       "4          69        fabia      90000                  7  gasoline   \n",
       "...       ...          ...        ...                ...       ...   \n",
       "354364      0         colt     150000                  7    petrol   \n",
       "354365      0          NaN      20000                  1       NaN   \n",
       "354366    101       fortwo     125000                  3    petrol   \n",
       "354367    102  transporter     150000                  3  gasoline   \n",
       "354368    100         golf     150000                  6  gasoline   \n",
       "\n",
       "                 Brand Repaired          DateCreated  NumberOfPictures  \\\n",
       "0           volkswagen      NaN  2016-03-24 00:00:00                 0   \n",
       "1                 audi      yes  2016-03-24 00:00:00                 0   \n",
       "2                 jeep      NaN  2016-03-14 00:00:00                 0   \n",
       "3           volkswagen       no  2016-03-17 00:00:00                 0   \n",
       "4                skoda       no  2016-03-31 00:00:00                 0   \n",
       "...                ...      ...                  ...               ...   \n",
       "354364      mitsubishi      yes  2016-03-21 00:00:00                 0   \n",
       "354365  sonstige_autos      NaN  2016-03-14 00:00:00                 0   \n",
       "354366           smart       no  2016-03-05 00:00:00                 0   \n",
       "354367      volkswagen       no  2016-03-19 00:00:00                 0   \n",
       "354368      volkswagen      NaN  2016-03-20 00:00:00                 0   \n",
       "\n",
       "        PostalCode             LastSeen  \n",
       "0            70435  2016-04-07 03:16:57  \n",
       "1            66954  2016-04-07 01:46:50  \n",
       "2            90480  2016-04-05 12:47:46  \n",
       "3            91074  2016-03-17 17:40:17  \n",
       "4            60437  2016-04-06 10:17:21  \n",
       "...            ...                  ...  \n",
       "354364        2694  2016-03-21 10:42:49  \n",
       "354365       39576  2016-04-06 00:46:52  \n",
       "354366       26135  2016-03-11 18:17:12  \n",
       "354367       87439  2016-04-07 07:15:26  \n",
       "354368       40764  2016-03-24 12:45:21  \n",
       "\n",
       "[354369 rows x 16 columns]"
      ]
     },
     "metadata": {},
     "output_type": "display_data"
    }
   ],
   "source": [
    "display(data)"
   ]
  },
  {
   "cell_type": "code",
   "execution_count": 5,
   "metadata": {
    "id": "E8C-jpkFJQEq"
   },
   "outputs": [],
   "source": [
    "def base_analizez(data):\n",
    "    '''функция для изучения датасета'''\n",
    "\n",
    "    print('Просмотр датасета:')\n",
    "    display(data.head())\n",
    "\n",
    "    print('\\n')\n",
    "    print('Общая информация об датасете:')\n",
    "    print(data.info())\n",
    "\n",
    "    print('\\n')\n",
    "    print('Проверка на наличие значений nan в датасете:')\n",
    "    display(pd.DataFrame(round(\n",
    "        data.isna().mean()*100,)).style.background_gradient('coolwarm'))\n"
   ]
  },
  {
   "cell_type": "code",
   "execution_count": 6,
   "metadata": {
    "id": "yeEjCBzyJQEq",
    "outputId": "278ac37d-c8e6-4887-af34-40021abbaf14"
   },
   "outputs": [
    {
     "name": "stdout",
     "output_type": "stream",
     "text": [
      "Просмотр датасета:\n"
     ]
    },
    {
     "data": {
      "text/html": [
       "<div>\n",
       "<style scoped>\n",
       "    .dataframe tbody tr th:only-of-type {\n",
       "        vertical-align: middle;\n",
       "    }\n",
       "\n",
       "    .dataframe tbody tr th {\n",
       "        vertical-align: top;\n",
       "    }\n",
       "\n",
       "    .dataframe thead th {\n",
       "        text-align: right;\n",
       "    }\n",
       "</style>\n",
       "<table border=\"1\" class=\"dataframe\">\n",
       "  <thead>\n",
       "    <tr style=\"text-align: right;\">\n",
       "      <th></th>\n",
       "      <th>DateCrawled</th>\n",
       "      <th>Price</th>\n",
       "      <th>VehicleType</th>\n",
       "      <th>RegistrationYear</th>\n",
       "      <th>Gearbox</th>\n",
       "      <th>Power</th>\n",
       "      <th>Model</th>\n",
       "      <th>Kilometer</th>\n",
       "      <th>RegistrationMonth</th>\n",
       "      <th>FuelType</th>\n",
       "      <th>Brand</th>\n",
       "      <th>Repaired</th>\n",
       "      <th>DateCreated</th>\n",
       "      <th>NumberOfPictures</th>\n",
       "      <th>PostalCode</th>\n",
       "      <th>LastSeen</th>\n",
       "    </tr>\n",
       "  </thead>\n",
       "  <tbody>\n",
       "    <tr>\n",
       "      <th>0</th>\n",
       "      <td>2016-03-24 11:52:17</td>\n",
       "      <td>480</td>\n",
       "      <td>NaN</td>\n",
       "      <td>1993</td>\n",
       "      <td>manual</td>\n",
       "      <td>0</td>\n",
       "      <td>golf</td>\n",
       "      <td>150000</td>\n",
       "      <td>0</td>\n",
       "      <td>petrol</td>\n",
       "      <td>volkswagen</td>\n",
       "      <td>NaN</td>\n",
       "      <td>2016-03-24 00:00:00</td>\n",
       "      <td>0</td>\n",
       "      <td>70435</td>\n",
       "      <td>2016-04-07 03:16:57</td>\n",
       "    </tr>\n",
       "    <tr>\n",
       "      <th>1</th>\n",
       "      <td>2016-03-24 10:58:45</td>\n",
       "      <td>18300</td>\n",
       "      <td>coupe</td>\n",
       "      <td>2011</td>\n",
       "      <td>manual</td>\n",
       "      <td>190</td>\n",
       "      <td>NaN</td>\n",
       "      <td>125000</td>\n",
       "      <td>5</td>\n",
       "      <td>gasoline</td>\n",
       "      <td>audi</td>\n",
       "      <td>yes</td>\n",
       "      <td>2016-03-24 00:00:00</td>\n",
       "      <td>0</td>\n",
       "      <td>66954</td>\n",
       "      <td>2016-04-07 01:46:50</td>\n",
       "    </tr>\n",
       "    <tr>\n",
       "      <th>2</th>\n",
       "      <td>2016-03-14 12:52:21</td>\n",
       "      <td>9800</td>\n",
       "      <td>suv</td>\n",
       "      <td>2004</td>\n",
       "      <td>auto</td>\n",
       "      <td>163</td>\n",
       "      <td>grand</td>\n",
       "      <td>125000</td>\n",
       "      <td>8</td>\n",
       "      <td>gasoline</td>\n",
       "      <td>jeep</td>\n",
       "      <td>NaN</td>\n",
       "      <td>2016-03-14 00:00:00</td>\n",
       "      <td>0</td>\n",
       "      <td>90480</td>\n",
       "      <td>2016-04-05 12:47:46</td>\n",
       "    </tr>\n",
       "    <tr>\n",
       "      <th>3</th>\n",
       "      <td>2016-03-17 16:54:04</td>\n",
       "      <td>1500</td>\n",
       "      <td>small</td>\n",
       "      <td>2001</td>\n",
       "      <td>manual</td>\n",
       "      <td>75</td>\n",
       "      <td>golf</td>\n",
       "      <td>150000</td>\n",
       "      <td>6</td>\n",
       "      <td>petrol</td>\n",
       "      <td>volkswagen</td>\n",
       "      <td>no</td>\n",
       "      <td>2016-03-17 00:00:00</td>\n",
       "      <td>0</td>\n",
       "      <td>91074</td>\n",
       "      <td>2016-03-17 17:40:17</td>\n",
       "    </tr>\n",
       "    <tr>\n",
       "      <th>4</th>\n",
       "      <td>2016-03-31 17:25:20</td>\n",
       "      <td>3600</td>\n",
       "      <td>small</td>\n",
       "      <td>2008</td>\n",
       "      <td>manual</td>\n",
       "      <td>69</td>\n",
       "      <td>fabia</td>\n",
       "      <td>90000</td>\n",
       "      <td>7</td>\n",
       "      <td>gasoline</td>\n",
       "      <td>skoda</td>\n",
       "      <td>no</td>\n",
       "      <td>2016-03-31 00:00:00</td>\n",
       "      <td>0</td>\n",
       "      <td>60437</td>\n",
       "      <td>2016-04-06 10:17:21</td>\n",
       "    </tr>\n",
       "  </tbody>\n",
       "</table>\n",
       "</div>"
      ],
      "text/plain": [
       "           DateCrawled  Price VehicleType  RegistrationYear Gearbox  Power  \\\n",
       "0  2016-03-24 11:52:17    480         NaN              1993  manual      0   \n",
       "1  2016-03-24 10:58:45  18300       coupe              2011  manual    190   \n",
       "2  2016-03-14 12:52:21   9800         suv              2004    auto    163   \n",
       "3  2016-03-17 16:54:04   1500       small              2001  manual     75   \n",
       "4  2016-03-31 17:25:20   3600       small              2008  manual     69   \n",
       "\n",
       "   Model  Kilometer  RegistrationMonth  FuelType       Brand Repaired  \\\n",
       "0   golf     150000                  0    petrol  volkswagen      NaN   \n",
       "1    NaN     125000                  5  gasoline        audi      yes   \n",
       "2  grand     125000                  8  gasoline        jeep      NaN   \n",
       "3   golf     150000                  6    petrol  volkswagen       no   \n",
       "4  fabia      90000                  7  gasoline       skoda       no   \n",
       "\n",
       "           DateCreated  NumberOfPictures  PostalCode             LastSeen  \n",
       "0  2016-03-24 00:00:00                 0       70435  2016-04-07 03:16:57  \n",
       "1  2016-03-24 00:00:00                 0       66954  2016-04-07 01:46:50  \n",
       "2  2016-03-14 00:00:00                 0       90480  2016-04-05 12:47:46  \n",
       "3  2016-03-17 00:00:00                 0       91074  2016-03-17 17:40:17  \n",
       "4  2016-03-31 00:00:00                 0       60437  2016-04-06 10:17:21  "
      ]
     },
     "metadata": {},
     "output_type": "display_data"
    },
    {
     "name": "stdout",
     "output_type": "stream",
     "text": [
      "\n",
      "\n",
      "Общая информация об датасете:\n",
      "<class 'pandas.core.frame.DataFrame'>\n",
      "RangeIndex: 354369 entries, 0 to 354368\n",
      "Data columns (total 16 columns):\n",
      " #   Column             Non-Null Count   Dtype \n",
      "---  ------             --------------   ----- \n",
      " 0   DateCrawled        354369 non-null  object\n",
      " 1   Price              354369 non-null  int64 \n",
      " 2   VehicleType        316879 non-null  object\n",
      " 3   RegistrationYear   354369 non-null  int64 \n",
      " 4   Gearbox            334536 non-null  object\n",
      " 5   Power              354369 non-null  int64 \n",
      " 6   Model              334664 non-null  object\n",
      " 7   Kilometer          354369 non-null  int64 \n",
      " 8   RegistrationMonth  354369 non-null  int64 \n",
      " 9   FuelType           321474 non-null  object\n",
      " 10  Brand              354369 non-null  object\n",
      " 11  Repaired           283215 non-null  object\n",
      " 12  DateCreated        354369 non-null  object\n",
      " 13  NumberOfPictures   354369 non-null  int64 \n",
      " 14  PostalCode         354369 non-null  int64 \n",
      " 15  LastSeen           354369 non-null  object\n",
      "dtypes: int64(7), object(9)\n",
      "memory usage: 43.3+ MB\n",
      "None\n",
      "\n",
      "\n",
      "Проверка на наличие значений nan в датасете:\n"
     ]
    },
    {
     "data": {
      "text/html": [
       "<style  type=\"text/css\" >\n",
       "#T_26634_row0_col0,#T_26634_row1_col0,#T_26634_row3_col0,#T_26634_row5_col0,#T_26634_row7_col0,#T_26634_row8_col0,#T_26634_row10_col0,#T_26634_row12_col0,#T_26634_row13_col0,#T_26634_row14_col0,#T_26634_row15_col0{\n",
       "            background-color:  #3b4cc0;\n",
       "            color:  #f1f1f1;\n",
       "        }#T_26634_row2_col0{\n",
       "            background-color:  #e9d5cb;\n",
       "            color:  #000000;\n",
       "        }#T_26634_row4_col0,#T_26634_row6_col0{\n",
       "            background-color:  #9ebeff;\n",
       "            color:  #000000;\n",
       "        }#T_26634_row9_col0{\n",
       "            background-color:  #cfdaea;\n",
       "            color:  #000000;\n",
       "        }#T_26634_row11_col0{\n",
       "            background-color:  #b40426;\n",
       "            color:  #f1f1f1;\n",
       "        }</style><table id=\"T_26634_\" ><thead>    <tr>        <th class=\"blank level0\" ></th>        <th class=\"col_heading level0 col0\" >0</th>    </tr></thead><tbody>\n",
       "                <tr>\n",
       "                        <th id=\"T_26634_level0_row0\" class=\"row_heading level0 row0\" >DateCrawled</th>\n",
       "                        <td id=\"T_26634_row0_col0\" class=\"data row0 col0\" >0.000000</td>\n",
       "            </tr>\n",
       "            <tr>\n",
       "                        <th id=\"T_26634_level0_row1\" class=\"row_heading level0 row1\" >Price</th>\n",
       "                        <td id=\"T_26634_row1_col0\" class=\"data row1 col0\" >0.000000</td>\n",
       "            </tr>\n",
       "            <tr>\n",
       "                        <th id=\"T_26634_level0_row2\" class=\"row_heading level0 row2\" >VehicleType</th>\n",
       "                        <td id=\"T_26634_row2_col0\" class=\"data row2 col0\" >11.000000</td>\n",
       "            </tr>\n",
       "            <tr>\n",
       "                        <th id=\"T_26634_level0_row3\" class=\"row_heading level0 row3\" >RegistrationYear</th>\n",
       "                        <td id=\"T_26634_row3_col0\" class=\"data row3 col0\" >0.000000</td>\n",
       "            </tr>\n",
       "            <tr>\n",
       "                        <th id=\"T_26634_level0_row4\" class=\"row_heading level0 row4\" >Gearbox</th>\n",
       "                        <td id=\"T_26634_row4_col0\" class=\"data row4 col0\" >6.000000</td>\n",
       "            </tr>\n",
       "            <tr>\n",
       "                        <th id=\"T_26634_level0_row5\" class=\"row_heading level0 row5\" >Power</th>\n",
       "                        <td id=\"T_26634_row5_col0\" class=\"data row5 col0\" >0.000000</td>\n",
       "            </tr>\n",
       "            <tr>\n",
       "                        <th id=\"T_26634_level0_row6\" class=\"row_heading level0 row6\" >Model</th>\n",
       "                        <td id=\"T_26634_row6_col0\" class=\"data row6 col0\" >6.000000</td>\n",
       "            </tr>\n",
       "            <tr>\n",
       "                        <th id=\"T_26634_level0_row7\" class=\"row_heading level0 row7\" >Kilometer</th>\n",
       "                        <td id=\"T_26634_row7_col0\" class=\"data row7 col0\" >0.000000</td>\n",
       "            </tr>\n",
       "            <tr>\n",
       "                        <th id=\"T_26634_level0_row8\" class=\"row_heading level0 row8\" >RegistrationMonth</th>\n",
       "                        <td id=\"T_26634_row8_col0\" class=\"data row8 col0\" >0.000000</td>\n",
       "            </tr>\n",
       "            <tr>\n",
       "                        <th id=\"T_26634_level0_row9\" class=\"row_heading level0 row9\" >FuelType</th>\n",
       "                        <td id=\"T_26634_row9_col0\" class=\"data row9 col0\" >9.000000</td>\n",
       "            </tr>\n",
       "            <tr>\n",
       "                        <th id=\"T_26634_level0_row10\" class=\"row_heading level0 row10\" >Brand</th>\n",
       "                        <td id=\"T_26634_row10_col0\" class=\"data row10 col0\" >0.000000</td>\n",
       "            </tr>\n",
       "            <tr>\n",
       "                        <th id=\"T_26634_level0_row11\" class=\"row_heading level0 row11\" >Repaired</th>\n",
       "                        <td id=\"T_26634_row11_col0\" class=\"data row11 col0\" >20.000000</td>\n",
       "            </tr>\n",
       "            <tr>\n",
       "                        <th id=\"T_26634_level0_row12\" class=\"row_heading level0 row12\" >DateCreated</th>\n",
       "                        <td id=\"T_26634_row12_col0\" class=\"data row12 col0\" >0.000000</td>\n",
       "            </tr>\n",
       "            <tr>\n",
       "                        <th id=\"T_26634_level0_row13\" class=\"row_heading level0 row13\" >NumberOfPictures</th>\n",
       "                        <td id=\"T_26634_row13_col0\" class=\"data row13 col0\" >0.000000</td>\n",
       "            </tr>\n",
       "            <tr>\n",
       "                        <th id=\"T_26634_level0_row14\" class=\"row_heading level0 row14\" >PostalCode</th>\n",
       "                        <td id=\"T_26634_row14_col0\" class=\"data row14 col0\" >0.000000</td>\n",
       "            </tr>\n",
       "            <tr>\n",
       "                        <th id=\"T_26634_level0_row15\" class=\"row_heading level0 row15\" >LastSeen</th>\n",
       "                        <td id=\"T_26634_row15_col0\" class=\"data row15 col0\" >0.000000</td>\n",
       "            </tr>\n",
       "    </tbody></table>"
      ],
      "text/plain": [
       "<pandas.io.formats.style.Styler at 0x231b736e8b0>"
      ]
     },
     "metadata": {},
     "output_type": "display_data"
    }
   ],
   "source": [
    "base_analizez(data)"
   ]
  },
  {
   "cell_type": "markdown",
   "metadata": {},
   "source": [
    "**Вывод:** В датасете 354368 строчки. Присутствует большое количество пропусков в данных."
   ]
  },
  {
   "cell_type": "markdown",
   "metadata": {},
   "source": [
    "<a id='change_1'></a>"
   ]
  },
  {
   "cell_type": "code",
   "execution_count": 7,
   "metadata": {
    "id": "QhFTyeZ1JQEq"
   },
   "outputs": [],
   "source": [
    "# удалим значения с 6% пропусками\n",
    "data = data.dropna(subset=['Model', 'Gearbox'])\n",
    "data.loc[data['Repaired'].isna()] = data.loc[data['Repaired'].isna()].fillna('unknown')\n"
   ]
  },
  {
   "cell_type": "code",
   "execution_count": 8,
   "metadata": {
    "id": "JpnF4ubTJQEr"
   },
   "outputs": [],
   "source": [
    "# т.к. оставшиеся колонки типа object приведем их к единому виду\n",
    "data['VehicleType'] = data['VehicleType'].str.lower()\n",
    "data['FuelType'] = data['FuelType'].str.lower()\n",
    "data['Repaired'] = data['Repaired'].str.lower()"
   ]
  },
  {
   "cell_type": "code",
   "execution_count": 9,
   "metadata": {
    "id": "2swPPizOJQEr"
   },
   "outputs": [],
   "source": [
    "def unique_for(data, columns: [int, str]):\n",
    "    '''Просмотр всех уникальных значений в колонке'''\n",
    "    print('Уникальные значения', columns)\n",
    "    uniq = []\n",
    "    for i in data[columns].unique():\n",
    "        uniq.append(i)\n",
    "    try:\n",
    "        print(sorted(uniq))\n",
    "    except:\n",
    "        print(uniq)\n",
    "    print()\n"
   ]
  },
  {
   "cell_type": "code",
   "execution_count": 10,
   "metadata": {
    "id": "CwPThtWXJQEr",
    "outputId": "ec1fa272-ebd9-4ac4-9860-2285029a06e7"
   },
   "outputs": [
    {
     "name": "stdout",
     "output_type": "stream",
     "text": [
      "Уникальные значения VehicleType\n",
      "['unknown', 'suv', 'small', 'sedan', 'convertible', 'bus', 'wagon', 'coupe', nan, 'other']\n",
      "\n",
      "Уникальные значения FuelType\n",
      "['petrol', 'gasoline', 'unknown', nan, 'lpg', 'other', 'hybrid', 'cng', 'electric']\n",
      "\n",
      "Уникальные значения Repaired\n",
      "['no', 'unknown', 'yes']\n",
      "\n"
     ]
    }
   ],
   "source": [
    "unique_for(data, 'VehicleType')\n",
    "unique_for(data, 'FuelType')\n",
    "unique_for(data, 'Repaired')"
   ]
  },
  {
   "cell_type": "code",
   "execution_count": 11,
   "metadata": {
    "id": "Yc1GQ058JQEr",
    "outputId": "52795278-2446-4099-f7f0-4ed0608415cb"
   },
   "outputs": [
    {
     "name": "stdout",
     "output_type": "stream",
     "text": [
      "<class 'pandas.core.frame.DataFrame'>\n",
      "Int64Index: 318962 entries, 0 to 354368\n",
      "Data columns (total 16 columns):\n",
      " #   Column             Non-Null Count   Dtype \n",
      "---  ------             --------------   ----- \n",
      " 0   DateCrawled        318962 non-null  object\n",
      " 1   Price              318962 non-null  int64 \n",
      " 2   VehicleType        305641 non-null  object\n",
      " 3   RegistrationYear   318962 non-null  int64 \n",
      " 4   Gearbox            318962 non-null  object\n",
      " 5   Power              318962 non-null  int64 \n",
      " 6   Model              318962 non-null  object\n",
      " 7   Kilometer          318962 non-null  int64 \n",
      " 8   RegistrationMonth  318962 non-null  int64 \n",
      " 9   FuelType           306629 non-null  object\n",
      " 10  Brand              318962 non-null  object\n",
      " 11  Repaired           318962 non-null  object\n",
      " 12  DateCreated        318962 non-null  object\n",
      " 13  NumberOfPictures   318962 non-null  int64 \n",
      " 14  PostalCode         318962 non-null  int64 \n",
      " 15  LastSeen           318962 non-null  object\n",
      "dtypes: int64(7), object(9)\n",
      "memory usage: 41.4+ MB\n"
     ]
    }
   ],
   "source": [
    "data.info()"
   ]
  },
  {
   "cell_type": "code",
   "execution_count": 12,
   "metadata": {
    "id": "VvezaJZlJQEr"
   },
   "outputs": [],
   "source": [
    "# заменим пустые значения на основании первого уникального значения\n",
    "# для данной модели авто\n",
    "to_change_columns = ['VehicleType', 'FuelType']\n",
    "\n",
    "for i in data['Model'].unique():\n",
    "    for x in to_change_columns:\n",
    "        data.loc[(data['Model'] == i) & (data[x].isna()), x] = \\\n",
    "        data.loc[(data['Model'] == i), x].unique()[0]"
   ]
  },
  {
   "cell_type": "code",
   "execution_count": 13,
   "metadata": {
    "id": "4-0wkf0OJQEs",
    "outputId": "0c7763fa-999a-4793-b3bb-4bd55fa97cb8"
   },
   "outputs": [
    {
     "name": "stdout",
     "output_type": "stream",
     "text": [
      "Просмотр датасета:\n"
     ]
    },
    {
     "data": {
      "text/html": [
       "<div>\n",
       "<style scoped>\n",
       "    .dataframe tbody tr th:only-of-type {\n",
       "        vertical-align: middle;\n",
       "    }\n",
       "\n",
       "    .dataframe tbody tr th {\n",
       "        vertical-align: top;\n",
       "    }\n",
       "\n",
       "    .dataframe thead th {\n",
       "        text-align: right;\n",
       "    }\n",
       "</style>\n",
       "<table border=\"1\" class=\"dataframe\">\n",
       "  <thead>\n",
       "    <tr style=\"text-align: right;\">\n",
       "      <th></th>\n",
       "      <th>DateCrawled</th>\n",
       "      <th>Price</th>\n",
       "      <th>VehicleType</th>\n",
       "      <th>RegistrationYear</th>\n",
       "      <th>Gearbox</th>\n",
       "      <th>Power</th>\n",
       "      <th>Model</th>\n",
       "      <th>Kilometer</th>\n",
       "      <th>RegistrationMonth</th>\n",
       "      <th>FuelType</th>\n",
       "      <th>Brand</th>\n",
       "      <th>Repaired</th>\n",
       "      <th>DateCreated</th>\n",
       "      <th>NumberOfPictures</th>\n",
       "      <th>PostalCode</th>\n",
       "      <th>LastSeen</th>\n",
       "    </tr>\n",
       "  </thead>\n",
       "  <tbody>\n",
       "    <tr>\n",
       "      <th>0</th>\n",
       "      <td>2016-03-24 11:52:17</td>\n",
       "      <td>480</td>\n",
       "      <td>unknown</td>\n",
       "      <td>1993</td>\n",
       "      <td>manual</td>\n",
       "      <td>0</td>\n",
       "      <td>golf</td>\n",
       "      <td>150000</td>\n",
       "      <td>0</td>\n",
       "      <td>petrol</td>\n",
       "      <td>volkswagen</td>\n",
       "      <td>unknown</td>\n",
       "      <td>2016-03-24 00:00:00</td>\n",
       "      <td>0</td>\n",
       "      <td>70435</td>\n",
       "      <td>2016-04-07 03:16:57</td>\n",
       "    </tr>\n",
       "    <tr>\n",
       "      <th>2</th>\n",
       "      <td>2016-03-14 12:52:21</td>\n",
       "      <td>9800</td>\n",
       "      <td>suv</td>\n",
       "      <td>2004</td>\n",
       "      <td>auto</td>\n",
       "      <td>163</td>\n",
       "      <td>grand</td>\n",
       "      <td>125000</td>\n",
       "      <td>8</td>\n",
       "      <td>gasoline</td>\n",
       "      <td>jeep</td>\n",
       "      <td>unknown</td>\n",
       "      <td>2016-03-14 00:00:00</td>\n",
       "      <td>0</td>\n",
       "      <td>90480</td>\n",
       "      <td>2016-04-05 12:47:46</td>\n",
       "    </tr>\n",
       "    <tr>\n",
       "      <th>3</th>\n",
       "      <td>2016-03-17 16:54:04</td>\n",
       "      <td>1500</td>\n",
       "      <td>small</td>\n",
       "      <td>2001</td>\n",
       "      <td>manual</td>\n",
       "      <td>75</td>\n",
       "      <td>golf</td>\n",
       "      <td>150000</td>\n",
       "      <td>6</td>\n",
       "      <td>petrol</td>\n",
       "      <td>volkswagen</td>\n",
       "      <td>no</td>\n",
       "      <td>2016-03-17 00:00:00</td>\n",
       "      <td>0</td>\n",
       "      <td>91074</td>\n",
       "      <td>2016-03-17 17:40:17</td>\n",
       "    </tr>\n",
       "    <tr>\n",
       "      <th>4</th>\n",
       "      <td>2016-03-31 17:25:20</td>\n",
       "      <td>3600</td>\n",
       "      <td>small</td>\n",
       "      <td>2008</td>\n",
       "      <td>manual</td>\n",
       "      <td>69</td>\n",
       "      <td>fabia</td>\n",
       "      <td>90000</td>\n",
       "      <td>7</td>\n",
       "      <td>gasoline</td>\n",
       "      <td>skoda</td>\n",
       "      <td>no</td>\n",
       "      <td>2016-03-31 00:00:00</td>\n",
       "      <td>0</td>\n",
       "      <td>60437</td>\n",
       "      <td>2016-04-06 10:17:21</td>\n",
       "    </tr>\n",
       "    <tr>\n",
       "      <th>5</th>\n",
       "      <td>2016-04-04 17:36:23</td>\n",
       "      <td>650</td>\n",
       "      <td>sedan</td>\n",
       "      <td>1995</td>\n",
       "      <td>manual</td>\n",
       "      <td>102</td>\n",
       "      <td>3er</td>\n",
       "      <td>150000</td>\n",
       "      <td>10</td>\n",
       "      <td>petrol</td>\n",
       "      <td>bmw</td>\n",
       "      <td>yes</td>\n",
       "      <td>2016-04-04 00:00:00</td>\n",
       "      <td>0</td>\n",
       "      <td>33775</td>\n",
       "      <td>2016-04-06 19:17:07</td>\n",
       "    </tr>\n",
       "  </tbody>\n",
       "</table>\n",
       "</div>"
      ],
      "text/plain": [
       "           DateCrawled  Price VehicleType  RegistrationYear Gearbox  Power  \\\n",
       "0  2016-03-24 11:52:17    480     unknown              1993  manual      0   \n",
       "2  2016-03-14 12:52:21   9800         suv              2004    auto    163   \n",
       "3  2016-03-17 16:54:04   1500       small              2001  manual     75   \n",
       "4  2016-03-31 17:25:20   3600       small              2008  manual     69   \n",
       "5  2016-04-04 17:36:23    650       sedan              1995  manual    102   \n",
       "\n",
       "   Model  Kilometer  RegistrationMonth  FuelType       Brand Repaired  \\\n",
       "0   golf     150000                  0    petrol  volkswagen  unknown   \n",
       "2  grand     125000                  8  gasoline        jeep  unknown   \n",
       "3   golf     150000                  6    petrol  volkswagen       no   \n",
       "4  fabia      90000                  7  gasoline       skoda       no   \n",
       "5    3er     150000                 10    petrol         bmw      yes   \n",
       "\n",
       "           DateCreated  NumberOfPictures  PostalCode             LastSeen  \n",
       "0  2016-03-24 00:00:00                 0       70435  2016-04-07 03:16:57  \n",
       "2  2016-03-14 00:00:00                 0       90480  2016-04-05 12:47:46  \n",
       "3  2016-03-17 00:00:00                 0       91074  2016-03-17 17:40:17  \n",
       "4  2016-03-31 00:00:00                 0       60437  2016-04-06 10:17:21  \n",
       "5  2016-04-04 00:00:00                 0       33775  2016-04-06 19:17:07  "
      ]
     },
     "metadata": {},
     "output_type": "display_data"
    },
    {
     "name": "stdout",
     "output_type": "stream",
     "text": [
      "\n",
      "\n",
      "Общая информация об датасете:\n",
      "<class 'pandas.core.frame.DataFrame'>\n",
      "Int64Index: 318962 entries, 0 to 354368\n",
      "Data columns (total 16 columns):\n",
      " #   Column             Non-Null Count   Dtype \n",
      "---  ------             --------------   ----- \n",
      " 0   DateCrawled        318962 non-null  object\n",
      " 1   Price              318962 non-null  int64 \n",
      " 2   VehicleType        318782 non-null  object\n",
      " 3   RegistrationYear   318962 non-null  int64 \n",
      " 4   Gearbox            318962 non-null  object\n",
      " 5   Power              318962 non-null  int64 \n",
      " 6   Model              318962 non-null  object\n",
      " 7   Kilometer          318962 non-null  int64 \n",
      " 8   RegistrationMonth  318962 non-null  int64 \n",
      " 9   FuelType           318674 non-null  object\n",
      " 10  Brand              318962 non-null  object\n",
      " 11  Repaired           318962 non-null  object\n",
      " 12  DateCreated        318962 non-null  object\n",
      " 13  NumberOfPictures   318962 non-null  int64 \n",
      " 14  PostalCode         318962 non-null  int64 \n",
      " 15  LastSeen           318962 non-null  object\n",
      "dtypes: int64(7), object(9)\n",
      "memory usage: 41.4+ MB\n",
      "None\n",
      "\n",
      "\n",
      "Проверка на наличие значений nan в датасете:\n"
     ]
    },
    {
     "data": {
      "text/html": [
       "<style  type=\"text/css\" >\n",
       "#T_1bcb4_row0_col0,#T_1bcb4_row1_col0,#T_1bcb4_row2_col0,#T_1bcb4_row3_col0,#T_1bcb4_row4_col0,#T_1bcb4_row5_col0,#T_1bcb4_row6_col0,#T_1bcb4_row7_col0,#T_1bcb4_row8_col0,#T_1bcb4_row9_col0,#T_1bcb4_row10_col0,#T_1bcb4_row11_col0,#T_1bcb4_row12_col0,#T_1bcb4_row13_col0,#T_1bcb4_row14_col0,#T_1bcb4_row15_col0{\n",
       "            background-color:  #3b4cc0;\n",
       "            color:  #f1f1f1;\n",
       "        }</style><table id=\"T_1bcb4_\" ><thead>    <tr>        <th class=\"blank level0\" ></th>        <th class=\"col_heading level0 col0\" >0</th>    </tr></thead><tbody>\n",
       "                <tr>\n",
       "                        <th id=\"T_1bcb4_level0_row0\" class=\"row_heading level0 row0\" >DateCrawled</th>\n",
       "                        <td id=\"T_1bcb4_row0_col0\" class=\"data row0 col0\" >0.000000</td>\n",
       "            </tr>\n",
       "            <tr>\n",
       "                        <th id=\"T_1bcb4_level0_row1\" class=\"row_heading level0 row1\" >Price</th>\n",
       "                        <td id=\"T_1bcb4_row1_col0\" class=\"data row1 col0\" >0.000000</td>\n",
       "            </tr>\n",
       "            <tr>\n",
       "                        <th id=\"T_1bcb4_level0_row2\" class=\"row_heading level0 row2\" >VehicleType</th>\n",
       "                        <td id=\"T_1bcb4_row2_col0\" class=\"data row2 col0\" >0.000000</td>\n",
       "            </tr>\n",
       "            <tr>\n",
       "                        <th id=\"T_1bcb4_level0_row3\" class=\"row_heading level0 row3\" >RegistrationYear</th>\n",
       "                        <td id=\"T_1bcb4_row3_col0\" class=\"data row3 col0\" >0.000000</td>\n",
       "            </tr>\n",
       "            <tr>\n",
       "                        <th id=\"T_1bcb4_level0_row4\" class=\"row_heading level0 row4\" >Gearbox</th>\n",
       "                        <td id=\"T_1bcb4_row4_col0\" class=\"data row4 col0\" >0.000000</td>\n",
       "            </tr>\n",
       "            <tr>\n",
       "                        <th id=\"T_1bcb4_level0_row5\" class=\"row_heading level0 row5\" >Power</th>\n",
       "                        <td id=\"T_1bcb4_row5_col0\" class=\"data row5 col0\" >0.000000</td>\n",
       "            </tr>\n",
       "            <tr>\n",
       "                        <th id=\"T_1bcb4_level0_row6\" class=\"row_heading level0 row6\" >Model</th>\n",
       "                        <td id=\"T_1bcb4_row6_col0\" class=\"data row6 col0\" >0.000000</td>\n",
       "            </tr>\n",
       "            <tr>\n",
       "                        <th id=\"T_1bcb4_level0_row7\" class=\"row_heading level0 row7\" >Kilometer</th>\n",
       "                        <td id=\"T_1bcb4_row7_col0\" class=\"data row7 col0\" >0.000000</td>\n",
       "            </tr>\n",
       "            <tr>\n",
       "                        <th id=\"T_1bcb4_level0_row8\" class=\"row_heading level0 row8\" >RegistrationMonth</th>\n",
       "                        <td id=\"T_1bcb4_row8_col0\" class=\"data row8 col0\" >0.000000</td>\n",
       "            </tr>\n",
       "            <tr>\n",
       "                        <th id=\"T_1bcb4_level0_row9\" class=\"row_heading level0 row9\" >FuelType</th>\n",
       "                        <td id=\"T_1bcb4_row9_col0\" class=\"data row9 col0\" >0.000000</td>\n",
       "            </tr>\n",
       "            <tr>\n",
       "                        <th id=\"T_1bcb4_level0_row10\" class=\"row_heading level0 row10\" >Brand</th>\n",
       "                        <td id=\"T_1bcb4_row10_col0\" class=\"data row10 col0\" >0.000000</td>\n",
       "            </tr>\n",
       "            <tr>\n",
       "                        <th id=\"T_1bcb4_level0_row11\" class=\"row_heading level0 row11\" >Repaired</th>\n",
       "                        <td id=\"T_1bcb4_row11_col0\" class=\"data row11 col0\" >0.000000</td>\n",
       "            </tr>\n",
       "            <tr>\n",
       "                        <th id=\"T_1bcb4_level0_row12\" class=\"row_heading level0 row12\" >DateCreated</th>\n",
       "                        <td id=\"T_1bcb4_row12_col0\" class=\"data row12 col0\" >0.000000</td>\n",
       "            </tr>\n",
       "            <tr>\n",
       "                        <th id=\"T_1bcb4_level0_row13\" class=\"row_heading level0 row13\" >NumberOfPictures</th>\n",
       "                        <td id=\"T_1bcb4_row13_col0\" class=\"data row13 col0\" >0.000000</td>\n",
       "            </tr>\n",
       "            <tr>\n",
       "                        <th id=\"T_1bcb4_level0_row14\" class=\"row_heading level0 row14\" >PostalCode</th>\n",
       "                        <td id=\"T_1bcb4_row14_col0\" class=\"data row14 col0\" >0.000000</td>\n",
       "            </tr>\n",
       "            <tr>\n",
       "                        <th id=\"T_1bcb4_level0_row15\" class=\"row_heading level0 row15\" >LastSeen</th>\n",
       "                        <td id=\"T_1bcb4_row15_col0\" class=\"data row15 col0\" >0.000000</td>\n",
       "            </tr>\n",
       "    </tbody></table>"
      ],
      "text/plain": [
       "<pandas.io.formats.style.Styler at 0x231b7377a60>"
      ]
     },
     "metadata": {},
     "output_type": "display_data"
    }
   ],
   "source": [
    "base_analizez(data)"
   ]
  },
  {
   "cell_type": "code",
   "execution_count": 14,
   "metadata": {
    "id": "jYbHg0s4JQEs"
   },
   "outputs": [],
   "source": [
    "# появился 1% пустых значений и ментше. Удалим их\n",
    "data = data.dropna(subset=['VehicleType'])\n",
    "data = data.dropna(subset=['FuelType'])"
   ]
  },
  {
   "cell_type": "code",
   "execution_count": 15,
   "metadata": {
    "id": "Aruwo6D1JQEs",
    "outputId": "e6d62481-4392-4c67-cfe1-c71f71294244"
   },
   "outputs": [
    {
     "data": {
      "image/png": "[encoded data removed]",
      "text/plain": [
       "<Figure size 1700x1500 with 9 Axes>"
      ]
     },
     "metadata": {},
     "output_type": "display_data"
    }
   ],
   "source": [
    "# просмотрим основное распределение значений\n",
    "data.hist(figsize = (17,15))\n",
    "plt.show()"
   ]
  },
  {
   "cell_type": "code",
   "execution_count": 16,
   "metadata": {
    "id": "5EBaC7fSJQEs"
   },
   "outputs": [],
   "source": [
    "# изменим формат времени в ячейках даты\n",
    "data['DateCreated'] = pd.to_datetime(data['DateCreated'],\n",
    "                                             format='%Y-%m-%dT').dt.date\n",
    "\n",
    "data['LastSeen'] = pd.to_datetime(data['LastSeen'],\n",
    "                                             format='%Y-%m-%dT').dt.date\n",
    "\n",
    "data['DateCrawled'] = pd.to_datetime(data['DateCrawled'],\n",
    "                                             format='%Y-%m-%dT').dt.date\n",
    "\n",
    "# изменим формат времени в ячейках даты на object\n",
    "data['DateCreated'] = data['DateCreated'].astype('object')\n",
    "\n",
    "data['LastSeen'] = data['LastSeen'].astype('object')\n",
    "\n",
    "data['DateCrawled'] = data['DateCrawled'].astype('object')"
   ]
  },
  {
   "cell_type": "code",
   "execution_count": 17,
   "metadata": {
    "id": "a42nNwVnJQEs",
    "outputId": "57723cac-fa7a-430f-ae96-1a40bb76f300"
   },
   "outputs": [
    {
     "data": {
      "text/html": [
       "<div>\n",
       "<style scoped>\n",
       "    .dataframe tbody tr th:only-of-type {\n",
       "        vertical-align: middle;\n",
       "    }\n",
       "\n",
       "    .dataframe tbody tr th {\n",
       "        vertical-align: top;\n",
       "    }\n",
       "\n",
       "    .dataframe thead th {\n",
       "        text-align: right;\n",
       "    }\n",
       "</style>\n",
       "<table border=\"1\" class=\"dataframe\">\n",
       "  <thead>\n",
       "    <tr style=\"text-align: right;\">\n",
       "      <th></th>\n",
       "      <th>DateCrawled</th>\n",
       "      <th>Price</th>\n",
       "      <th>VehicleType</th>\n",
       "      <th>RegistrationYear</th>\n",
       "      <th>Gearbox</th>\n",
       "      <th>Power</th>\n",
       "      <th>Model</th>\n",
       "      <th>Kilometer</th>\n",
       "      <th>RegistrationMonth</th>\n",
       "      <th>FuelType</th>\n",
       "      <th>Brand</th>\n",
       "      <th>Repaired</th>\n",
       "      <th>DateCreated</th>\n",
       "      <th>NumberOfPictures</th>\n",
       "      <th>PostalCode</th>\n",
       "      <th>LastSeen</th>\n",
       "    </tr>\n",
       "  </thead>\n",
       "  <tbody>\n",
       "    <tr>\n",
       "      <th>0</th>\n",
       "      <td>2016-03-24</td>\n",
       "      <td>480</td>\n",
       "      <td>unknown</td>\n",
       "      <td>1993</td>\n",
       "      <td>manual</td>\n",
       "      <td>0</td>\n",
       "      <td>golf</td>\n",
       "      <td>150000</td>\n",
       "      <td>0</td>\n",
       "      <td>petrol</td>\n",
       "      <td>volkswagen</td>\n",
       "      <td>unknown</td>\n",
       "      <td>2016-03-24</td>\n",
       "      <td>0</td>\n",
       "      <td>70435</td>\n",
       "      <td>2016-04-07</td>\n",
       "    </tr>\n",
       "    <tr>\n",
       "      <th>2</th>\n",
       "      <td>2016-03-14</td>\n",
       "      <td>9800</td>\n",
       "      <td>suv</td>\n",
       "      <td>2004</td>\n",
       "      <td>auto</td>\n",
       "      <td>163</td>\n",
       "      <td>grand</td>\n",
       "      <td>125000</td>\n",
       "      <td>8</td>\n",
       "      <td>gasoline</td>\n",
       "      <td>jeep</td>\n",
       "      <td>unknown</td>\n",
       "      <td>2016-03-14</td>\n",
       "      <td>0</td>\n",
       "      <td>90480</td>\n",
       "      <td>2016-04-05</td>\n",
       "    </tr>\n",
       "    <tr>\n",
       "      <th>3</th>\n",
       "      <td>2016-03-17</td>\n",
       "      <td>1500</td>\n",
       "      <td>small</td>\n",
       "      <td>2001</td>\n",
       "      <td>manual</td>\n",
       "      <td>75</td>\n",
       "      <td>golf</td>\n",
       "      <td>150000</td>\n",
       "      <td>6</td>\n",
       "      <td>petrol</td>\n",
       "      <td>volkswagen</td>\n",
       "      <td>no</td>\n",
       "      <td>2016-03-17</td>\n",
       "      <td>0</td>\n",
       "      <td>91074</td>\n",
       "      <td>2016-03-17</td>\n",
       "    </tr>\n",
       "    <tr>\n",
       "      <th>4</th>\n",
       "      <td>2016-03-31</td>\n",
       "      <td>3600</td>\n",
       "      <td>small</td>\n",
       "      <td>2008</td>\n",
       "      <td>manual</td>\n",
       "      <td>69</td>\n",
       "      <td>fabia</td>\n",
       "      <td>90000</td>\n",
       "      <td>7</td>\n",
       "      <td>gasoline</td>\n",
       "      <td>skoda</td>\n",
       "      <td>no</td>\n",
       "      <td>2016-03-31</td>\n",
       "      <td>0</td>\n",
       "      <td>60437</td>\n",
       "      <td>2016-04-06</td>\n",
       "    </tr>\n",
       "    <tr>\n",
       "      <th>5</th>\n",
       "      <td>2016-04-04</td>\n",
       "      <td>650</td>\n",
       "      <td>sedan</td>\n",
       "      <td>1995</td>\n",
       "      <td>manual</td>\n",
       "      <td>102</td>\n",
       "      <td>3er</td>\n",
       "      <td>150000</td>\n",
       "      <td>10</td>\n",
       "      <td>petrol</td>\n",
       "      <td>bmw</td>\n",
       "      <td>yes</td>\n",
       "      <td>2016-04-04</td>\n",
       "      <td>0</td>\n",
       "      <td>33775</td>\n",
       "      <td>2016-04-06</td>\n",
       "    </tr>\n",
       "  </tbody>\n",
       "</table>\n",
       "</div>"
      ],
      "text/plain": [
       "  DateCrawled  Price VehicleType  RegistrationYear Gearbox  Power  Model  \\\n",
       "0  2016-03-24    480     unknown              1993  manual      0   golf   \n",
       "2  2016-03-14   9800         suv              2004    auto    163  grand   \n",
       "3  2016-03-17   1500       small              2001  manual     75   golf   \n",
       "4  2016-03-31   3600       small              2008  manual     69  fabia   \n",
       "5  2016-04-04    650       sedan              1995  manual    102    3er   \n",
       "\n",
       "   Kilometer  RegistrationMonth  FuelType       Brand Repaired DateCreated  \\\n",
       "0     150000                  0    petrol  volkswagen  unknown  2016-03-24   \n",
       "2     125000                  8  gasoline        jeep  unknown  2016-03-14   \n",
       "3     150000                  6    petrol  volkswagen       no  2016-03-17   \n",
       "4      90000                  7  gasoline       skoda       no  2016-03-31   \n",
       "5     150000                 10    petrol         bmw      yes  2016-04-04   \n",
       "\n",
       "   NumberOfPictures  PostalCode    LastSeen  \n",
       "0                 0       70435  2016-04-07  \n",
       "2                 0       90480  2016-04-05  \n",
       "3                 0       91074  2016-03-17  \n",
       "4                 0       60437  2016-04-06  \n",
       "5                 0       33775  2016-04-06  "
      ]
     },
     "execution_count": 17,
     "metadata": {},
     "output_type": "execute_result"
    }
   ],
   "source": [
    "data.head(5)"
   ]
  },
  {
   "cell_type": "code",
   "execution_count": 18,
   "metadata": {
    "id": "OH27QZDuJQEt",
    "outputId": "84705e0c-2787-4e22-d78b-2f363cafc105"
   },
   "outputs": [
    {
     "name": "stdout",
     "output_type": "stream",
     "text": [
      "<class 'pandas.core.frame.DataFrame'>\n",
      "Int64Index: 318511 entries, 0 to 354368\n",
      "Data columns (total 16 columns):\n",
      " #   Column             Non-Null Count   Dtype \n",
      "---  ------             --------------   ----- \n",
      " 0   DateCrawled        318511 non-null  object\n",
      " 1   Price              318511 non-null  int64 \n",
      " 2   VehicleType        318511 non-null  object\n",
      " 3   RegistrationYear   318511 non-null  int64 \n",
      " 4   Gearbox            318511 non-null  object\n",
      " 5   Power              318511 non-null  int64 \n",
      " 6   Model              318511 non-null  object\n",
      " 7   Kilometer          318511 non-null  int64 \n",
      " 8   RegistrationMonth  318511 non-null  int64 \n",
      " 9   FuelType           318511 non-null  object\n",
      " 10  Brand              318511 non-null  object\n",
      " 11  Repaired           318511 non-null  object\n",
      " 12  DateCreated        318511 non-null  object\n",
      " 13  NumberOfPictures   318511 non-null  int64 \n",
      " 14  PostalCode         318511 non-null  int64 \n",
      " 15  LastSeen           318511 non-null  object\n",
      "dtypes: int64(7), object(9)\n",
      "memory usage: 41.3+ MB\n"
     ]
    }
   ],
   "source": [
    "data.info()"
   ]
  },
  {
   "cell_type": "code",
   "execution_count": 19,
   "metadata": {
    "id": "qqWqFNDBJQEt",
    "outputId": "6e0c91bd-8b8a-4948-8875-9a9034698b0f"
   },
   "outputs": [
    {
     "data": {
      "text/plain": [
       "['Price',\n",
       " 'RegistrationYear',\n",
       " 'Power',\n",
       " 'Kilometer',\n",
       " 'RegistrationMonth',\n",
       " 'NumberOfPictures',\n",
       " 'PostalCode']"
      ]
     },
     "execution_count": 19,
     "metadata": {},
     "output_type": "execute_result"
    }
   ],
   "source": [
    "# выберем все числовые колонки\n",
    "num_columns = data.select_dtypes(exclude= object).columns.to_list()\n",
    "num_columns"
   ]
  },
  {
   "cell_type": "code",
   "execution_count": 20,
   "metadata": {},
   "outputs": [
    {
     "data": {
      "text/plain": [
       "['DateCrawled',\n",
       " 'VehicleType',\n",
       " 'Gearbox',\n",
       " 'Model',\n",
       " 'FuelType',\n",
       " 'Brand',\n",
       " 'Repaired',\n",
       " 'DateCreated',\n",
       " 'LastSeen']"
      ]
     },
     "execution_count": 20,
     "metadata": {},
     "output_type": "execute_result"
    }
   ],
   "source": [
    "# выберем все числовые колонки\n",
    "object_columns = data.select_dtypes(include = object).columns.to_list()\n",
    "object_columns"
   ]
  },
  {
   "cell_type": "code",
   "execution_count": 21,
   "metadata": {
    "id": "UinKapRsJQEt",
    "outputId": "f4fb2a28-cedb-47a8-9dbc-895c8e81cbba"
   },
   "outputs": [
    {
     "name": "stdout",
     "output_type": "stream",
     "text": [
      "Распределение Price\n"
     ]
    },
    {
     "data": {
      "image/png": "[encoded data removed]",
      "text/plain": [
       "<Figure size 640x480 with 1 Axes>"
      ]
     },
     "metadata": {},
     "output_type": "display_data"
    },
    {
     "name": "stdout",
     "output_type": "stream",
     "text": [
      "Распределение RegistrationYear\n"
     ]
    },
    {
     "data": {
      "image/png": "[encoded data removed]",
      "text/plain": [
       "<Figure size 640x480 with 1 Axes>"
      ]
     },
     "metadata": {},
     "output_type": "display_data"
    },
    {
     "name": "stdout",
     "output_type": "stream",
     "text": [
      "Распределение Power\n"
     ]
    },
    {
     "data": {
      "image/png": "[encoded data removed]",
      "text/plain": [
       "<Figure size 640x480 with 1 Axes>"
      ]
     },
     "metadata": {},
     "output_type": "display_data"
    },
    {
     "name": "stdout",
     "output_type": "stream",
     "text": [
      "Распределение Kilometer\n"
     ]
    },
    {
     "data": {
      "image/png": "[encoded data removed]",
      "text/plain": [
       "<Figure size 640x480 with 1 Axes>"
      ]
     },
     "metadata": {},
     "output_type": "display_data"
    },
    {
     "name": "stdout",
     "output_type": "stream",
     "text": [
      "Распределение RegistrationMonth\n"
     ]
    },
    {
     "data": {
      "image/png": "[encoded data removed]",
      "text/plain": [
       "<Figure size 640x480 with 1 Axes>"
      ]
     },
     "metadata": {},
     "output_type": "display_data"
    },
    {
     "name": "stdout",
     "output_type": "stream",
     "text": [
      "Распределение NumberOfPictures\n"
     ]
    },
    {
     "data": {
      "image/png": "[encoded data removed]",
      "text/plain": [
       "<Figure size 640x480 with 1 Axes>"
      ]
     },
     "metadata": {},
     "output_type": "display_data"
    },
    {
     "name": "stdout",
     "output_type": "stream",
     "text": [
      "Распределение PostalCode\n"
     ]
    },
    {
     "data": {
      "image/png": "[encoded data removed]",
      "text/plain": [
       "<Figure size 640x480 with 1 Axes>"
      ]
     },
     "metadata": {},
     "output_type": "display_data"
    }
   ],
   "source": [
    "# построим распределение значений\n",
    "for i in num_columns:\n",
    "    print('Распределение', i)\n",
    "    data.boxplot(i)\n",
    "    plt.show()"
   ]
  },
  {
   "cell_type": "code",
   "execution_count": 22,
   "metadata": {
    "scrolled": true
   },
   "outputs": [
    {
     "name": "stdout",
     "output_type": "stream",
     "text": [
      "Уникальные значения Price\n",
      "[0, 1, 2, 3, 5, 7, 9, 10, 11, 13, 15, 16, 17, 20, 24, 25, 26, 29, 30, 33, 35, 39, 40, 45, 47, 49, 50, 55, 59, 60, 65, 66, 69, 70, 74, 75, 77, 79, 80, 85, 89, 90, 95, 98, 99, 100, 101, 105, 108, 110, 111, 112, 115, 117, 119, 120, 122, 123, 125, 126, 127, 128, 129, 130, 132, 133, 135, 139, 140, 142, 145, 149, 150, 155, 156, 157, 159, 160, 162, 165, 166, 169, 170, 173, 175, 179, 180, 181, 185, 188, 189, 190, 192, 193, 195, 196, 198, 199, 200, 202, 205, 209, 210, 211, 215, 217, 219, 220, 222, 224, 225, 229, 230, 235, 236, 238, 240, 243, 245, 248, 249, 250, 251, 252, 253, 255, 259, 260, 261, 263, 265, 266, 269, 270, 272, 273, 274, 275, 277, 278, 279, 280, 281, 284, 285, 288, 289, 290, 293, 295, 298, 299, 300, 301, 305, 308, 309, 310, 315, 316, 319, 320, 321, 323, 325, 329, 330, 331, 332, 333, 335, 338, 339, 340, 341, 344, 345, 348, 349, 350, 355, 356, 359, 360, 365, 366, 368, 369, 370, 373, 375, 377, 378, 379, 380, 384, 385, 388, 389, 390, 393, 395, 397, 398, 399, 400, 408, 410, 414, 415, 418, 419, 420, 422, 424, 425, 429, 430, 433, 435, 439, 440, 444, 445, 449, 450, 455, 458, 459, 460, 465, 466, 467, 469, 470, 475, 479, 480, 485, 487, 489, 490, 495, 498, 499, 500, 501, 505, 510, 514, 515, 517, 519, 520, 522, 523, 525, 530, 531, 533, 535, 536, 540, 543, 544, 545, 548, 549, 550, 555, 559, 560, 565, 566, 569, 570, 574, 575, 576, 577, 578, 579, 580, 585, 586, 588, 589, 590, 593, 595, 597, 598, 599, 600, 601, 605, 606, 610, 615, 619, 620, 622, 623, 624, 625, 628, 629, 630, 632, 633, 634, 635, 639, 640, 644, 645, 647, 648, 649, 650, 655, 656, 658, 659, 660, 665, 666, 667, 669, 670, 675, 679, 680, 685, 686, 688, 689, 690, 691, 695, 696, 698, 699, 700, 701, 706, 709, 710, 715, 717, 719, 720, 722, 725, 728, 729, 730, 735, 739, 740, 744, 745, 747, 749, 750, 755, 759, 760, 765, 768, 769, 770, 775, 776, 777, 780, 785, 788, 789, 790, 793, 795, 797, 798, 799, 800, 804, 810, 816, 820, 822, 823, 825, 828, 829, 830, 833, 834, 835, 836, 837, 840, 844, 845, 846, 849, 850, 855, 859, 860, 865, 868, 869, 870, 875, 879, 880, 885, 888, 889, 890, 895, 897, 898, 899, 900, 901, 909, 910, 915, 919, 920, 923, 925, 929, 930, 934, 935, 940, 944, 945, 948, 949, 950, 951, 955, 958, 959, 960, 965, 966, 968, 969, 970, 975, 976, 979, 980, 982, 985, 987, 988, 989, 990, 991, 993, 995, 996, 997, 998, 999, 1000, 1001, 1010, 1020, 1025, 1026, 1030, 1031, 1033, 1035, 1039, 1040, 1042, 1045, 1047, 1049, 1050, 1055, 1059, 1060, 1070, 1075, 1080, 1085, 1089, 1090, 1095, 1098, 1099, 1100, 1101, 1110, 1111, 1112, 1113, 1119, 1120, 1125, 1129, 1130, 1135, 1140, 1144, 1145, 1149, 1150, 1155, 1159, 1160, 1165, 1169, 1170, 1175, 1179, 1180, 1185, 1187, 1189, 1190, 1192, 1193, 1195, 1198, 1199, 1200, 1201, 1208, 1209, 1210, 1211, 1212, 1220, 1221, 1222, 1224, 1225, 1230, 1231, 1233, 1234, 1240, 1247, 1249, 1250, 1252, 1253, 1255, 1259, 1260, 1265, 1269, 1270, 1275, 1277, 1280, 1285, 1289, 1290, 1294, 1295, 1296, 1297, 1298, 1299, 1300, 1310, 1311, 1320, 1321, 1325, 1329, 1330, 1333, 1335, 1340, 1344, 1345, 1347, 1348, 1349, 1350, 1355, 1357, 1358, 1360, 1361, 1365, 1366, 1368, 1370, 1375, 1378, 1379, 1380, 1385, 1388, 1389, 1390, 1395, 1396, 1397, 1398, 1399, 1400, 1401, 1402, 1410, 1411, 1414, 1416, 1420, 1425, 1429, 1430, 1432, 1440, 1444, 1445, 1448, 1449, 1450, 1453, 1455, 1459, 1460, 1465, 1466, 1469, 1470, 1475, 1479, 1480, 1483, 1485, 1488, 1489, 1490, 1494, 1495, 1496, 1497, 1498, 1499, 1500, 1506, 1510, 1515, 1517, 1520, 1525, 1529, 1530, 1540, 1544, 1545, 1549, 1550, 1551, 1555, 1558, 1559, 1560, 1565, 1566, 1570, 1575, 1577, 1579, 1580, 1585, 1587, 1588, 1589, 1590, 1595, 1596, 1598, 1599, 1600, 1605, 1620, 1625, 1629, 1630, 1631, 1633, 1635, 1640, 1642, 1645, 1648, 1649, 1650, 1652, 1654, 1655, 1659, 1660, 1666, 1669, 1670, 1675, 1679, 1680, 1685, 1687, 1688, 1689, 1690, 1693, 1695, 1697, 1698, 1699, 1700, 1710, 1720, 1722, 1725, 1730, 1733, 1735, 1740, 1745, 1749, 1750, 1755, 1759, 1760, 1765, 1770, 1775, 1777, 1779, 1780, 1789, 1790, 1795, 1797, 1798, 1799, 1800, 1801, 1802, 1810, 1811, 1820, 1823, 1829, 1830, 1840, 1845, 1849, 1850, 1855, 1856, 1857, 1858, 1860, 1870, 1875, 1877, 1878, 1879, 1880, 1881, 1885, 1887, 1888, 1890, 1894, 1895, 1897, 1898, 1899, 1900, 1904, 1906, 1910, 1920, 1925, 1929, 1930, 1933, 1935, 1940, 1945, 1947, 1948, 1949, 1950, 1954, 1955, 1956, 1958, 1959, 1960, 1970, 1975, 1980, 1981, 1982, 1984, 1985, 1986, 1987, 1989, 1990, 1991, 1994, 1995, 1996, 1997, 1998, 1999, 2000, 2001, 2002, 2004, 2005, 2010, 2025, 2035, 2036, 2049, 2050, 2055, 2070, 2075, 2080, 2085, 2090, 2091, 2095, 2098, 2099, 2100, 2101, 2105, 2111, 2120, 2125, 2128, 2130, 2140, 2148, 2149, 2150, 2151, 2155, 2165, 2170, 2175, 2179, 2180, 2189, 2190, 2194, 2195, 2198, 2199, 2200, 2201, 2210, 2211, 2215, 2220, 2221, 2222, 2224, 2225, 2229, 2230, 2233, 2235, 2238, 2240, 2241, 2243, 2245, 2249, 2250, 2260, 2262, 2265, 2270, 2275, 2276, 2278, 2280, 2285, 2288, 2289, 2290, 2295, 2298, 2299, 2300, 2301, 2305, 2314, 2320, 2321, 2322, 2323, 2329, 2330, 2333, 2335, 2340, 2344, 2345, 2349, 2350, 2351, 2355, 2359, 2360, 2365, 2366, 2370, 2375, 2377, 2379, 2380, 2384, 2385, 2388, 2389, 2390, 2395, 2398, 2399, 2400, 2405, 2410, 2420, 2421, 2424, 2425, 2430, 2432, 2440, 2444, 2448, 2449, 2450, 2455, 2459, 2460, 2465, 2470, 2475, 2479, 2480, 2489, 2490, 2495, 2496, 2498, 2499, 2500, 2501, 2510, 2511, 2512, 2520, 2525, 2530, 2540, 2544, 2549, 2550, 2555, 2560, 2565, 2569, 2570, 2575, 2579, 2580, 2589, 2590, 2595, 2598, 2599, 2600, 2601, 2610, 2620, 2625, 2629, 2630, 2633, 2640, 2645, 2649, 2650, 2651, 2655, 2657, 2660, 2666, 2670, 2671, 2675, 2677, 2679, 2680, 2683, 2689, 2690, 2691, 2695, 2698, 2699, 2700, 2701, 2717, 2720, 2725, 2727, 2740, 2744, 2745, 2749, 2750, 2754, 2759, 2760, 2765, 2766, 2770, 2775, 2777, 2780, 2785, 2788, 2789, 2790, 2792, 2795, 2796, 2798, 2799, 2800, 2810, 2820, 2825, 2828, 2840, 2845, 2846, 2849, 2850, 2855, 2860, 2869, 2870, 2874, 2875, 2877, 2879, 2880, 2885, 2888, 2889, 2890, 2895, 2897, 2898, 2899, 2900, 2901, 2910, 2911, 2920, 2925, 2930, 2940, 2944, 2945, 2946, 2947, 2949, 2950, 2955, 2960, 2962, 2965, 2968, 2970, 2975, 2980, 2982, 2985, 2986, 2988, 2989, 2990, 2993, 2995, 2996, 2997, 2998, 2999, 3000, 3001, 3009, 3010, 3012, 3015, 3020, 3021, 3030, 3038, 3040, 3049, 3050, 3051, 3055, 3060, 3070, 3075, 3080, 3087, 3089, 3090, 3099, 3100, 3111, 3112, 3119, 3120, 3122, 3125, 3129, 3130, 3131, 3140, 3149, 3150, 3151, 3160, 3165, 3178, 3180, 3190, 3195, 3198, 3199, 3200, 3210, 3211, 3219, 3220, 3222, 3225, 3230, 3240, 3245, 3249, 3250, 3255, 3256, 3259, 3260, 3266, 3270, 3275, 3279, 3280, 3285, 3290, 3295, 3298, 3299, 3300, 3310, 3318, 3320, 3321, 3325, 3330, 3333, 3339, 3340, 3349, 3350, 3360, 3370, 3378, 3380, 3385, 3390, 3393, 3395, 3398, 3399, 3400, 3410, 3420, 3425, 3431, 3440, 3444, 3445, 3448, 3449, 3450, 3452, 3455, 3456, 3460, 3470, 3475, 3480, 3485, 3488, 3489, 3490, 3494, 3495, 3496, 3498, 3499, 3500, 3501, 3509, 3510, 3512, 3520, 3522, 3525, 3529, 3530, 3535, 3540, 3544, 3545, 3549, 3550, 3555, 3560, 3561, 3566, 3570, 3575, 3579, 3580, 3585, 3589, 3590, 3591, 3595, 3598, 3599, 3600, 3620, 3622, 3630, 3633, 3640, 3649, 3650, 3651, 3655, 3660, 3666, 3670, 3673, 3675, 3680, 3690, 3695, 3699, 3700, 3710, 3715, 3720, 3725, 3730, 3740, 3745, 3749, 3750, 3755, 3757, 3759, 3760, 3765, 3768, 3770, 3774, 3775, 3777, 3779, 3780, 3785, 3787, 3789, 3790, 3795, 3798, 3799, 3800, 3801, 3805, 3810, 3830, 3838, 3840, 3845, 3849, 3850, 3855, 3860, 3867, 3869, 3870, 3875, 3876, 3879, 3880, 3884, 3885, 3888, 3889, 3890, 3895, 3896, 3898, 3899, 3900, 3901, 3902, 3905, 3910, 3920, 3925, 3933, 3940, 3941, 3944, 3945, 3948, 3949, 3950, 3952, 3955, 3957, 3960, 3965, 3969, 3970, 3975, 3977, 3980, 3985, 3987, 3988, 3989, 3990, 3991, 3993, 3995, 3996, 3997, 3998, 3999, 4000, 4001, 4002, 4004, 4005, 4012, 4030, 4033, 4040, 4044, 4049, 4050, 4088, 4090, 4095, 4099, 4100, 4101, 4110, 4111, 4123, 4124, 4125, 4130, 4140, 4145, 4149, 4150, 4155, 4158, 4159, 4160, 4165, 4170, 4175, 4179, 4180, 4190, 4195, 4198, 4199, 4200, 4201, 4205, 4210, 4220, 4222, 4225, 4230, 4240, 4242, 4249, 4250, 4255, 4260, 4270, 4275, 4278, 4279, 4280, 4285, 4286, 4290, 4295, 4298, 4299, 4300, 4301, 4317, 4320, 4321, 4330, 4333, 4335, 4339, 4340, 4349, 4350, 4355, 4359, 4360, 4370, 4375, 4378, 4380, 4390, 4395, 4398, 4399, 4400, 4411, 4415, 4420, 4430, 4440, 4444, 4445, 4449, 4450, 4455, 4460, 4470, 4475, 4477, 4480, 4484, 4485, 4487, 4488, 4489, 4490, 4495, 4497, 4498, 4499, 4500, 4510, 4516, 4525, 4529, 4530, 4532, 4538, 4545, 4548, 4549, 4550, 4555, 4559, 4560, 4565, 4567, 4570, 4580, 4590, 4595, 4598, 4599, 4600, 4620, 4622, 4630, 4635, 4640, 4645, 4646, 4649, 4650, 4652, 4655, 4660, 4666, 4670, 4675, 4680, 4684, 4688, 4689, 4690, 4698, 4699, 4700, 4710, 4720, 4725, 4730, 4737, 4740, 4747, 4749, 4750, 4751, 4755, 4758, 4759, 4760, 4766, 4770, 4775, 4777, 4780, 4782, 4785, 4786, 4790, 4792, 4795, 4797, 4798, 4799, 4800, 4816, 4820, 4824, 4825, 4829, 4830, 4835, 4840, 4849, 4850, 4855, 4860, 4870, 4880, 4885, 4888, 4889, 4890, 4895, 4898, 4899, 4900, 4901, 4909, 4911, 4919, 4920, 4925, 4930, 4938, 4940, 4949, 4950, 4955, 4960, 4970, 4975, 4977, 4980, 4985, 4988, 4989, 4990, 4994, 4995, 4997, 4998, 4999, 5000, 5001, 5002, 5003, 5005, 5006, 5007, 5008, 5012, 5015, 5020, 5022, 5030, 5049, 5050, 5090, 5099, 5100, 5111, 5120, 5125, 5129, 5130, 5140, 5145, 5149, 5150, 5151, 5160, 5175, 5180, 5185, 5189, 5190, 5195, 5198, 5199, 5200, 5210, 5211, 5220, 5222, 5225, 5234, 5235, 5240, 5246, 5247, 5248, 5249, 5250, 5255, 5275, 5277, 5280, 5285, 5289, 5290, 5298, 5299, 5300, 5318, 5320, 5333, 5340, 5349, 5350, 5359, 5370, 5372, 5375, 5377, 5380, 5385, 5390, 5395, 5398, 5399, 5400, 5401, 5409, 5411, 5425, 5430, 5432, 5440, 5444, 5445, 5449, 5450, 5454, 5455, 5459, 5470, 5475, 5480, 5485, 5488, 5489, 5490, 5495, 5497, 5498, 5499, 5500, 5520, 5530, 5540, 5542, 5544, 5549, 5550, 5554, 5555, 5558, 5560, 5569, 5570, 5575, 5580, 5581, 5585, 5590, 5595, 5599, 5600, 5606, 5620, 5625, 5630, 5634, 5648, 5649, 5650, 5660, 5666, 5680, 5685, 5686, 5689, 5690, 5695, 5699, 5700, 5708, 5723, 5740, 5748, 5749, 5750, 5755, 5760, 5765, 5770, 5775, 5777, 5780, 5790, 5795, 5799, 5800, 5803, 5827, 5830, 5840, 5844, 5849, 5850, 5855, 5860, 5865, 5870, 5875, 5876, 5879, 5880, 5885, 5888, 5889, 5890, 5896, 5898, 5899, 5900, 5920, 5924, 5925, 5940, 5949, 5950, 5955, 5959, 5960, 5970, 5975, 5980, 5988, 5990, 5994, 5995, 5996, 5997, 5998, 5999, 6000, 6001, 6010, 6039, 6050, 6066, 6089, 6090, 6099, 6100, 6101, 6106, 6111, 6120, 6124, 6125, 6130, 6140, 6144, 6149, 6150, 6155, 6165, 6170, 6180, 6190, 6192, 6195, 6198, 6199, 6200, 6202, 6208, 6220, 6222, 6225, 6229, 6230, 6235, 6240, 6249, 6250, 6252, 6255, 6275, 6279, 6280, 6289, 6290, 6295, 6298, 6299, 6300, 6303, 6310, 6322, 6330, 6333, 6340, 6344, 6349, 6350, 6365, 6370, 6375, 6380, 6385, 6389, 6390, 6395, 6398, 6399, 6400, 6410, 6434, 6435, 6440, 6444, 6447, 6449, 6450, 6453, 6455, 6460, 6470, 6475, 6479, 6480, 6489, 6490, 6495, 6498, 6499, 6500, 6501, 6510, 6523, 6530, 6537, 6540, 6543, 6545, 6550, 6555, 6560, 6570, 6575, 6578, 6580, 6583, 6588, 6589, 6590, 6595, 6598, 6599, 6600, 6609, 6620, 6639, 6640, 6649, 6650, 6657, 6660, 6665, 6666, 6667, 6680, 6687, 6690, 6695, 6699, 6700, 6720, 6725, 6730, 6740, 6745, 6749, 6750, 6755, 6759, 6770, 6777, 6780, 6783, 6785, 6788, 6789, 6790, 6792, 6795, 6798, 6799, 6800, 6801, 6820, 6830, 6840, 6845, 6849, 6850, 6855, 6860, 6866, 6868, 6870, 6872, 6875, 6879, 6880, 6888, 6889, 6890, 6895, 6897, 6899, 6900, 6911, 6913, 6916, 6920, 6930, 6940, 6944, 6949, 6950, 6951, 6959, 6960, 6966, 6969, 6970, 6973, 6975, 6977, 6979, 6980, 6985, 6988, 6989, 6990, 6995, 6996, 6998, 6999, 7000, 7001, 7007, 7016, 7040, 7049, 7050, 7052, 7070, 7085, 7090, 7099, 7100, 7111, 7115, 7118, 7130, 7139, 7140, 7149, 7150, 7170, 7180, 7185, 7188, 7190, 7198, 7199, 7200, 7217, 7220, 7222, 7230, 7234, 7240, 7249, 7250, 7255, 7260, 7270, 7280, 7285, 7290, 7291, 7295, 7298, 7299, 7300, 7328, 7330, 7333, 7340, 7349, 7350, 7359, 7360, 7370, 7373, 7379, 7380, 7385, 7390, 7395, 7396, 7399, 7400, 7420, 7428, 7430, 7435, 7440, 7444, 7446, 7449, 7450, 7455, 7460, 7470, 7480, 7485, 7489, 7490, 7491, 7495, 7497, 7498, 7499, 7500, 7522, 7530, 7539, 7540, 7545, 7549, 7550, 7555, 7560, 7563, 7570, 7588, 7590, 7591, 7595, 7596, 7598, 7599, 7600, 7603, 7640, 7645, 7649, 7650, 7654, 7655, 7657, 7660, 7666, 7675, 7680, 7685, 7688, 7689, 7690, 7695, 7699, 7700, 7740, 7745, 7749, 7750, 7760, 7770, 7775, 7777, 7780, 7787, 7789, 7790, 7795, 7799, 7800, 7820, 7825, 7830, 7839, 7840, 7844, 7845, 7849, 7850, 7855, 7856, 7859, 7860, 7869, 7875, 7877, 7880, 7885, 7888, 7890, 7893, 7895, 7898, 7899, 7900, 7924, 7930, 7940, 7949, 7950, 7960, 7970, 7980, 7985, 7988, 7989, 7990, 7994, 7995, 7996, 7997, 7998, 7999, 8000, 8008, 8035, 8050, 8069, 8080, 8090, 8098, 8099, 8100, 8111, 8115, 8125, 8129, 8146, 8150, 8155, 8159, 8180, 8188, 8189, 8190, 8198, 8199, 8200, 8211, 8219, 8222, 8225, 8230, 8240, 8245, 8248, 8249, 8250, 8255, 8258, 8265, 8270, 8275, 8280, 8282, 8285, 8290, 8295, 8299, 8300, 8320, 8321, 8330, 8333, 8335, 8340, 8345, 8349, 8350, 8360, 8370, 8380, 8390, 8395, 8399, 8400, 8419, 8420, 8425, 8444, 8446, 8447, 8449, 8450, 8460, 8469, 8470, 8480, 8484, 8485, 8488, 8490, 8494, 8495, 8498, 8499, 8500, 8520, 8549, 8550, 8555, 8560, 8570, 8579, 8580, 8590, 8595, 8599, 8600, 8620, 8630, 8640, 8645, 8650, 8655, 8663, 8665, 8666, 8670, 8675, 8680, 8690, 8695, 8698, 8699, 8700, 8720, 8730, 8749, 8750, 8751, 8755, 8760, 8764, 8765, 8770, 8777, 8780, 8785, 8788, 8790, 8795, 8798, 8799, 8800, 8801, 8833, 8840, 8849, 8850, 8854, 8870, 8875, 8880, 8885, 8886, 8887, 8888, 8889, 8890, 8891, 8895, 8898, 8899, 8900, 8904, 8911, 8925, 8930, 8940, 8944, 8945, 8949, 8950, 8955, 8960, 8970, 8974, 8975, 8979, 8980, 8987, 8989, 8990, 8995, 8998, 8999, 9000, 9001, 9049, 9050, 9090, 9099, 9100, 9110, 9111, 9120, 9125, 9130, 9149, 9150, 9170, 9190, 9195, 9198, 9199, 9200, 9203, 9221, 9222, 9240, 9245, 9249, 9250, 9270, 9275, 9280, 9289, 9290, 9298, 9299, 9300, 9307, 9320, 9325, 9333, 9349, 9350, 9370, 9375, 9379, 9380, 9385, 9390, 9395, 9398, 9399, 9400, 9410, 9420, 9428, 9440, 9444, 9445, 9449, 9450, 9455, 9460, 9469, 9470, 9475, 9480, 9488, 9490, 9495, 9498, 9499, 9500, 9520, 9525, 9529, 9530, 9540, 9549, 9550, 9555, 9560, 9570, 9577, 9580, 9590, 9599, 9600, 9649, 9650, 9655, 9660, 9666, 9667, 9675, 9680, 9681, 9690, 9695, 9699, 9700, 9720, 9725, 9734, 9740, 9745, 9749, 9750, 9760, 9769, 9773, 9777, 9780, 9788, 9789, 9790, 9793, 9799, 9800, 9840, 9845, 9849, 9850, 9860, 9870, 9875, 9876, 9877, 9880, 9885, 9888, 9890, 9895, 9899, 9900, 9911, 9920, 9925, 9939, 9945, 9948, 9949, 9950, 9951, 9959, 9964, 9968, 9970, 9975, 9980, 9985, 9987, 9988, 9989, 9990, 9991, 9993, 9994, 9995, 9996, 9997, 9998, 9999, 10000, 10001, 10009, 10050, 10080, 10089, 10090, 10099, 10100, 10111, 10150, 10175, 10180, 10190, 10198, 10199, 10200, 10220, 10222, 10230, 10240, 10249, 10250, 10260, 10280, 10288, 10290, 10295, 10299, 10300, 10310, 10317, 10328, 10333, 10340, 10344, 10349, 10350, 10370, 10375, 10379, 10380, 10389, 10390, 10398, 10399, 10400, 10422, 10430, 10444, 10449, 10450, 10466, 10470, 10472, 10475, 10480, 10488, 10490, 10495, 10498, 10499, 10500, 10529, 10540, 10550, 10555, 10556, 10560, 10590, 10599, 10600, 10625, 10650, 10655, 10666, 10670, 10680, 10690, 10695, 10699, 10700, 10725, 10730, 10749, 10750, 10755, 10760, 10777, 10780, 10789, 10790, 10791, 10795, 10799, 10800, 10830, 10849, 10850, 10860, 10870, 10875, 10879, 10880, 10888, 10890, 10891, 10895, 10898, 10899, 10900, 10910, 10920, 10930, 10939, 10940, 10945, 10949, 10950, 10960, 10970, 10975, 10980, 10985, 10986, 10987, 10988, 10989, 10990, 10995, 10997, 10998, 10999, 11000, 11050, 11080, 11090, 11099, 11100, 11111, 11140, 11148, 11149, 11150, 11180, 11190, 11195, 11199, 11200, 11205, 11220, 11222, 11230, 11235, 11240, 11247, 11250, 11270, 11290, 11295, 11299, 11300, 11320, 11325, 11330, 11333, 11349, 11350, 11360, 11379, 11380, 11389, 11390, 11399, 11400, 11410, 11430, 11432, 11444, 11448, 11449, 11450, 11454, 11470, 11475, 11479, 11480, 11488, 11489, 11490, 11495, 11498, 11499, 11500, 11533, 11540, 11549, 11550, 11552, 11555, 11580, 11590, 11599, 11600, 11625, 11649, 11650, 11654, 11660, 11666, 11670, 11680, 11685, 11687, 11690, 11693, 11697, 11699, 11700, 11720, 11722, 11725, 11733, 11738, 11749, 11750, 11756, 11760, 11770, 11777, 11780, 11784, 11790, 11798, 11799, 11800, 11820, 11825, 11840, 11845, 11849, 11850, 11878, 11880, 11888, 11890, 11897, 11899, 11900, 11909, 11919, 11920, 11923, 11928, 11930, 11935, 11940, 11950, 11955, 11960, 11968, 11970, 11975, 11979, 11980, 11981, 11982, 11985, 11988, 11989, 11990, 11995, 11998, 11999, 12000, 12050, 12059, 12090, 12099, 12100, 12120, 12125, 12145, 12150, 12180, 12190, 12195, 12199, 12200, 12220, 12222, 12225, 12249, 12250, 12255, 12270, 12280, 12290, 12295, 12298, 12299, 12300, 12320, 12330, 12333, 12340, 12345, 12349, 12350, 12355, 12368, 12370, 12380, 12390, 12395, 12399, 12400, 12430, 12440, 12444, 12449, 12450, 12465, 12469, 12470, 12475, 12480, 12488, 12489, 12490, 12495, 12498, 12499, 12500, 12501, 12523, 12525, 12540, 12549, 12550, 12555, 12560, 12567, 12580, 12590, 12599, 12600, 12647, 12650, 12660, 12667, 12680, 12685, 12690, 12696, 12699, 12700, 12735, 12740, 12749, 12750, 12770, 12777, 12780, 12789, 12790, 12799, 12800, 12808, 12821, 12830, 12850, 12860, 12870, 12877, 12880, 12887, 12888, 12889, 12890, 12898, 12899, 12900, 12920, 12932, 12949, 12950, 12955, 12968, 12970, 12973, 12978, 12980, 12985, 12986, 12988, 12989, 12990, 12991, 12995, 12997, 12998, 12999, 13000, 13049, 13050, 13090, 13099, 13100, 13131, 13150, 13180, 13190, 13199, 13200, 13220, 13222, 13225, 13230, 13240, 13249, 13250, 13275, 13280, 13290, 13298, 13299, 13300, 13321, 13330, 13333, 13349, 13350, 13362, 13380, 13383, 13384, 13387, 13390, 13399, 13400, 13423, 13440, 13444, 13449, 13450, 13456, 13470, 13475, 13480, 13485, 13488, 13489, 13490, 13493, 13495, 13498, 13499, 13500, 13520, 13530, 13548, 13550, 13555, 13560, 13590, 13599, 13600, 13620, 13650, 13666, 13680, 13690, 13699, 13700, 13730, 13749, 13750, 13755, 13777, 13780, 13790, 13798, 13799, 13800, 13830, 13849, 13850, 13870, 13875, 13879, 13880, 13885, 13888, 13890, 13899, 13900, 13911, 13930, 13940, 13949, 13950, 13960, 13970, 13975, 13978, 13980, 13985, 13986, 13988, 13989, 13990, 13995, 13998, 13999, 14000, 14001, 14010, 14050, 14099, 14100, 14111, 14114, 14140, 14150, 14180, 14190, 14199, 14200, 14220, 14222, 14227, 14230, 14240, 14249, 14250, 14260, 14270, 14275, 14280, 14290, 14295, 14299, 14300, 14320, 14321, 14333, 14337, 14341, 14349, 14350, 14386, 14390, 14398, 14399, 14400, 14430, 14440, 14444, 14449, 14450, 14475, 14480, 14489, 14490, 14495, 14498, 14499, 14500, 14525, 14530, 14540, 14550, 14555, 14560, 14580, 14590, 14599, 14600, 14640, 14650, 14666, 14690, 14699, 14700, 14730, 14749, 14750, 14777, 14780, 14790, 14799, 14800, 14810, 14830, 14850, 14860, 14863, 14870, 14879, 14880, 14888, 14890, 14898, 14899, 14900, 14911, 14920, 14940, 14949, 14950, 14960, 14970, 14975, 14979, 14980, 14986, 14989, 14990, 14995, 14998, 14999, 15000, 15001, 15050, 15099, 15100, 15120, 15150, 15151, 15165, 15186, 15190, 15199, 15200, 15210, 15219, 15230, 15232, 15249, 15250, 15260, 15272, 15280, 15290, 15298, 15299, 15300, 15333, 15349, 15350, 15370, 15390, 15395, 15399, 15400, 15413, 15423, 15425, 15445, 15449, 15450, 15451, 15460, 15470, 15480, 15490, 15492, 15495, 15498, 15499, 15500, 15550, 15555, 15580, 15590, 15595, 15599, 15600, 15650, 15666, 15670, 15680, 15683, 15690, 15699, 15700, 15708, 15749, 15750, 15755, 15777, 15780, 15790, 15799, 15800, 15823, 15849, 15850, 15860, 15870, 15876, 15880, 15888, 15890, 15898, 15899, 15900, 15911, 15920, 15921, 15944, 15945, 15946, 15950, 15960, 15965, 15970, 15975, 15980, 15981, 15986, 15990, 15995, 15998, 15999, 16000, 16050, 16065, 16099, 16100, 16123, 16150, 16190, 16199, 16200, 16215, 16222, 16250, 16270, 16280, 16285, 16290, 16299, 16300, 16320, 16329, 16333, 16340, 16345, 16350, 16375, 16390, 16399, 16400, 16430, 16444, 16445, 16449, 16450, 16475, 16480, 16485, 16490, 16495, 16499, 16500, 16541, 16549, 16550, 16555, 16579, 16580, 16590, 16599, 16600, 16620, 16648, 16649, 16650, 16660, 16666, 16669, 16680, 16689, 16690, 16699, 16700, 16749, 16750, 16777, 16780, 16786, 16788, 16790, 16799, 16800, 16830, 16840, 16845, 16849, 16850, 16856, 16866, 16870, 16880, 16885, 16888, 16890, 16899, 16900, 16911, 16920, 16940, 16950, 16955, 16960, 16966, 16970, 16975, 16980, 16988, 16989, 16990, 16995, 16998, 16999, 17000, 17047, 17064, 17099, 17100, 17111, 17135, 17148, 17149, 17150, 17159, 17189, 17190, 17199, 17200, 17249, 17250, 17255, 17260, 17280, 17290, 17299, 17300, 17307, 17350, 17370, 17390, 17399, 17400, 17419, 17444, 17449, 17450, 17480, 17485, 17490, 17495, 17498, 17499, 17500, 17501, 17520, 17530, 17550, 17555, 17580, 17590, 17599, 17600, 17650, 17666, 17680, 17690, 17695, 17699, 17700, 17740, 17749, 17750, 17770, 17775, 17777, 17780, 17790, 17799, 17800, 17830, 17850, 17875, 17880, 17888, 17889, 17890, 17898, 17899, 17900, 17920, 17944, 17949, 17950, 17970, 17979, 17980, 17989, 17990, 17995, 17996, 17998, 17999, 18000, 18090, 18099, 18100, 18111, 18149, 18150, 18181, 18190, 18199, 18200, 18230, 18247, 18249, 18250, 18270, 18276, 18290, 18299, 18300, 18310, 18350, 18380, 18390, 18399, 18400, 18420, 18429, 18430, 18440, 18444, 18449, 18450, 18455, 18460, 18470, 18480, 18490, 18496, 18498, 18499, 18500, 18550, 18555, 18580, 18590, 18599, 18600, 18650, 18690, 18699, 18700, 18740, 18750, 18777, 18789, 18790, 18798, 18799, 18800, 18850, 18870, 18880, 18886, 18888, 18889, 18890, 18899, 18900, 18914, 18930, 18940, 18950, 18977, 18980, 18989, 18990, 18995, 18999, 19000, 19099, 19100, 19117, 19121, 19149, 19150, 19190, 19199, 19200, 19230, 19250, 19269, 19280, 19290, 19295, 19299, 19300, 19340, 19350, 19380, 19390, 19399, 19400, 19444, 19450, 19480, 19489, 19490, 19495, 19498, 19499, 19500, 19550, 19580, 19590, 19599, 19600, 19649, 19650, 19666, 19690, 19699, 19700, 19750, 19770, 19777, 19780, 19790, 19798, 19799, 19800, 19830, 19850, 19870, 19875, 19880, 19888, 19890, 19899, 19900, 19911, 19935, 19945, 19949, 19950, 19960, 19968, 19970, 19975, 19980, 19985, 19986, 19987, 19990, 19995, 19997, 19998, 19999, 20000]\n",
      "\n",
      "Уникальные значения RegistrationYear\n",
      "[1000, 1200, 1400, 1500, 1600, 1602, 1910, 1919, 1923, 1927, 1928, 1929, 1930, 1931, 1932, 1933, 1934, 1935, 1936, 1937, 1938, 1942, 1943, 1945, 1947, 1950, 1951, 1952, 1953, 1954, 1955, 1956, 1957, 1958, 1959, 1960, 1961, 1962, 1963, 1964, 1965, 1966, 1967, 1968, 1969, 1970, 1971, 1972, 1973, 1974, 1975, 1976, 1977, 1978, 1979, 1980, 1981, 1982, 1983, 1984, 1985, 1986, 1987, 1988, 1989, 1990, 1991, 1992, 1993, 1994, 1995, 1996, 1997, 1998, 1999, 2000, 2001, 2002, 2003, 2004, 2005, 2006, 2007, 2008, 2009, 2010, 2011, 2012, 2013, 2014, 2015, 2016, 2017, 2018, 2019, 2900, 3000, 3700, 4000, 4500, 5000, 5911, 6000, 6500, 7100, 7500, 8200, 9000]\n",
      "\n",
      "Уникальные значения Power\n",
      "[0, 1, 2, 3, 4, 5, 6, 7, 8, 9, 10, 11, 12, 13, 14, 15, 16, 17, 18, 19, 20, 21, 22, 23, 24, 25, 26, 27, 28, 29, 30, 31, 32, 33, 34, 35, 36, 37, 38, 39, 40, 41, 42, 43, 44, 45, 46, 47, 48, 49, 50, 51, 52, 53, 54, 55, 56, 57, 58, 59, 60, 61, 62, 63, 64, 65, 66, 67, 68, 69, 70, 71, 72, 73, 74, 75, 76, 77, 78, 79, 80, 81, 82, 83, 84, 85, 86, 87, 88, 89, 90, 91, 92, 93, 94, 95, 96, 97, 98, 99, 100, 101, 102, 103, 104, 105, 106, 107, 108, 109, 110, 111, 112, 113, 114, 115, 116, 117, 118, 119, 120, 121, 122, 123, 124, 125, 126, 127, 128, 129, 130, 131, 132, 133, 134, 135, 136, 137, 138, 139, 140, 141, 142, 143, 144, 145, 146, 147, 148, 149, 150, 151, 152, 153, 154, 155, 156, 157, 158, 159, 160, 161, 162, 163, 164, 165, 166, 167, 168, 169, 170, 171, 172, 173, 174, 175, 176, 177, 178, 179, 180, 181, 182, 183, 184, 185, 186, 187, 188, 189, 190, 191, 192, 193, 194, 195, 196, 197, 198, 199, 200, 201, 202, 203, 204, 205, 206, 207, 208, 209, 210, 211, 212, 213, 214, 215, 216, 217, 218, 219, 220, 221, 222, 223, 224, 225, 226, 227, 228, 229, 230, 231, 232, 233, 234, 235, 236, 237, 238, 239, 240, 241, 242, 243, 244, 245, 246, 247, 248, 249, 250, 251, 252, 253, 254, 255, 256, 257, 258, 259, 260, 261, 262, 264, 265, 266, 267, 268, 269, 270, 271, 272, 273, 274, 275, 276, 277, 278, 279, 280, 281, 282, 283, 284, 285, 286, 287, 288, 289, 290, 292, 293, 294, 295, 296, 298, 299, 300, 301, 303, 304, 305, 306, 307, 308, 309, 310, 311, 313, 314, 315, 316, 317, 318, 320, 321, 322, 323, 324, 325, 326, 327, 328, 329, 330, 331, 332, 333, 334, 335, 336, 337, 338, 339, 340, 341, 343, 344, 345, 346, 347, 348, 349, 350, 351, 352, 353, 354, 355, 356, 357, 358, 360, 361, 362, 363, 364, 365, 367, 368, 370, 371, 374, 375, 376, 377, 379, 380, 381, 382, 385, 386, 387, 388, 390, 392, 394, 396, 398, 399, 400, 401, 405, 408, 409, 411, 416, 420, 421, 425, 426, 428, 430, 431, 435, 440, 445, 449, 450, 454, 457, 459, 460, 475, 476, 485, 487, 489, 490, 500, 504, 505, 507, 508, 510, 514, 515, 517, 519, 520, 521, 525, 530, 540, 541, 544, 550, 551, 560, 572, 579, 580, 584, 585, 599, 600, 601, 603, 604, 606, 610, 612, 620, 640, 645, 650, 651, 671, 678, 685, 696, 700, 702, 703, 743, 750, 754, 771, 776, 800, 808, 850, 871, 900, 901, 902, 903, 907, 909, 923, 950, 952, 953, 960, 998, 999, 1000, 1001, 1003, 1004, 1005, 1011, 1012, 1016, 1017, 1021, 1024, 1054, 1055, 1056, 1062, 1079, 1090, 1100, 1105, 1111, 1115, 1149, 1151, 1158, 1160, 1162, 1164, 1199, 1200, 1202, 1221, 1223, 1230, 1239, 1240, 1241, 1250, 1252, 1275, 1288, 1299, 1300, 1312, 1339, 1360, 1362, 1363, 1367, 1390, 1398, 1399, 1400, 1401, 1403, 1405, 1416, 1432, 1433, 1436, 1500, 1501, 1502, 1503, 1506, 1521, 1548, 1595, 1597, 1598, 1600, 1625, 1631, 1653, 1659, 1689, 1700, 1701, 1703, 1704, 1707, 1753, 1771, 1779, 1780, 1781, 1783, 1793, 1796, 1799, 1800, 1870, 1895, 1896, 1900, 1910, 1920, 1933, 1937, 1968, 1986, 1992, 1993, 1995, 1998, 1999, 2000, 2005, 2007, 2009, 2016, 2017, 2018, 2172, 2200, 2201, 2331, 2402, 2461, 2598, 2729, 2789, 2792, 2799, 3199, 3454, 3500, 3750, 4400, 4507, 4700, 5411, 5420, 5575, 5809, 5815, 5867, 6006, 6010, 6011, 6012, 6018, 6045, 6062, 6226, 6512, 6920, 7508, 7511, 7512, 7515, 7518, 7529, 7544, 8011, 8259, 8404, 8500, 9000, 9007, 9011, 9012, 9013, 9710, 10110, 10218, 10311, 10317, 10520, 10522, 10710, 11011, 11025, 11509, 11530, 11635, 12012, 12510, 12512, 13616, 13636, 15001, 15016, 15017, 15020, 15033, 16011, 16311, 16312, 17011, 17019, 17410, 17700, 17932, 19208, 19211, 19312, 20000]\n",
      "\n",
      "Уникальные значения Kilometer\n",
      "[5000, 10000, 20000, 30000, 40000, 50000, 60000, 70000, 80000, 90000, 100000, 125000, 150000]\n",
      "\n",
      "Уникальные значения RegistrationMonth\n",
      "[0, 1, 2, 3, 4, 5, 6, 7, 8, 9, 10, 11, 12]\n",
      "\n",
      "Уникальные значения NumberOfPictures\n",
      "[0]\n",
      "\n",
      "Уникальные значения PostalCode\n",
      "[1067, 1068, 1069, 1097, 1099, 1108, 1109, 1127, 1129, 1139, 1156, 1157, 1159, 1169, 1187, 1189, 1217, 1219, 1237, 1239, 1257, 1259, 1277, 1279, 1307, 1309, 1324, 1326, 1328, 1445, 1454, 1458, 1465, 1468, 1471, 1477, 1558, 1561, 1587, 1589, 1591, 1594, 1609, 1612, 1616, 1619, 1623, 1640, 1662, 1665, 1683, 1689, 1705, 1723, 1728, 1731, 1734, 1737, 1744, 1762, 1768, 1773, 1774, 1796, 1809, 1814, 1816, 1819, 1824, 1825, 1829, 1833, 1844, 1847, 1848, 1855, 1877, 1896, 1900, 1904, 1906, 1909, 1917, 1920, 1936, 1945, 1968, 1979, 1983, 1987, 1990, 1993, 1994, 1996, 1998, 2625, 2627, 2633, 2681, 2689, 2692, 2694, 2699, 2708, 2727, 2730, 2733, 2736, 2739, 2742, 2747, 2748, 2763, 2779, 2782, 2785, 2788, 2791, 2794, 2796, 2797, 2799, 2826, 2827, 2828, 2829, 2894, 2899, 2906, 2923, 2929, 2943, 2953, 2956, 2957, 2959, 2977, 2979, 2991, 2994, 2997, 2999, 3042, 3044, 3046, 3048, 3050, 3051, 3053, 3054, 3055, 3058, 3096, 3099, 3103, 3116, 3119, 3130, 3149, 3159, 3172, 3185, 3197, 3205, 3222, 3226, 3229, 3238, 3246, 3249, 3253, 4103, 4105, 4107, 4109, 4129, 4155, 4157, 4158, 4159, 4177, 4178, 4179, 4205, 4207, 4209, 4229, 4249, 4275, 4277, 4279, 4288, 4289, 4299, 4315, 4316, 4317, 4318, 4319, 4328, 4329, 4347, 4349, 4356, 4357, 4416, 4420, 4425, 4435, 4442, 4451, 4463, 4509, 4519, 4523, 4539, 4552, 4564, 4565, 4567, 4571, 4574, 4575, 4579, 4600, 4603, 4610, 4613, 4617, 4618, 4626, 4639, 4643, 4651, 4654, 4655, 4657, 4668, 4680, 4683, 4685, 4687, 4688, 4703, 4720, 4736, 4741, 4746, 4749, 4758, 4769, 4774, 4779, 4808, 4821, 4824, 4827, 4828, 4838, 4849, 4860, 4862, 4874, 4880, 4886, 4889, 4895, 4910, 4916, 4924, 4928, 4931, 4932, 4934, 4936, 4938, 6108, 6110, 6112, 6114, 6116, 6118, 6120, 6122, 6124, 6126, 6128, 6130, 6132, 6179, 6184, 6188, 6193, 6198, 6217, 6231, 6237, 6242, 6246, 6249, 6254, 6258, 6259, 6268, 6279, 6295, 6308, 6311, 6313, 6317, 6318, 6333, 6343, 6347, 6366, 6369, 6385, 6386, 6388, 6406, 6408, 6420, 6425, 6429, 6449, 6456, 6458, 6463, 6464, 6466, 6467, 6469, 6484, 6485, 6493, 6502, 6507, 6526, 6528, 6536, 6537, 6542, 6543, 6556, 6567, 6571, 6577, 6578, 6618, 6628, 6632, 6636, 6642, 6647, 6648, 6667, 6679, 6682, 6686, 6688, 6712, 6721, 6722, 6725, 6727, 6729, 6749, 6766, 6772, 6773, 6774, 6779, 6780, 6785, 6786, 6792, 6794, 6796, 6800, 6803, 6808, 6809, 6842, 6844, 6846, 6847, 6849, 6862, 6868, 6869, 6886, 6888, 6895, 6901, 6905, 6909, 6917, 6922, 6925, 7318, 7330, 7333, 7334, 7338, 7343, 7349, 7356, 7366, 7368, 7381, 7387, 7389, 7407, 7422, 7426, 7545, 7546, 7548, 7549, 7551, 7552, 7554, 7557, 7558, 7570, 7580, 7586, 7589, 7607, 7613, 7616, 7619, 7629, 7639, 7646, 7743, 7745, 7747, 7749, 7751, 7768, 7774, 7778, 7806, 7819, 7907, 7919, 7922, 7924, 7926, 7927, 7929, 7937, 7950, 7952, 7955, 7957, 7958, 7973, 7980, 7985, 7987, 7989, 8056, 8058, 8060, 8062, 8064, 8066, 8107, 8112, 8115, 8118, 8129, 8132, 8134, 8141, 8144, 8147, 8209, 8223, 8228, 8233, 8236, 8237, 8239, 8248, 8258, 8261, 8262, 8265, 8267, 8280, 8289, 8294, 8297, 8301, 8304, 8309, 8312, 8315, 8321, 8324, 8328, 8340, 8344, 8349, 8352, 8359, 8371, 8373, 8393, 8396, 8412, 8427, 8428, 8451, 8459, 8468, 8485, 8491, 8496, 8499, 8523, 8525, 8527, 8529, 8538, 8539, 8541, 8543, 8547, 8548, 8606, 8626, 8645, 8648, 9111, 9112, 9113, 9114, 9116, 9117, 9119, 9120, 9122, 9123, 9125, 9126, 9127, 9128, 9130, 9131, 9212, 9217, 9221, 9224, 9228, 9232, 9235, 9236, 9241, 9243, 9244, 9247, 9249, 9306, 9322, 9326, 9328, 9337, 9350, 9353, 9355, 9356, 9366, 9376, 9380, 9385, 9387, 9390, 9392, 9394, 9399, 9405, 9419, 9423, 9427, 9429, 9430, 9432, 9434, 9437, 9439, 9456, 9465, 9468, 9471, 9474, 9477, 9481, 9484, 9487, 9488, 9496, 9509, 9514, 9518, 9526, 9544, 9548, 9557, 9569, 9573, 9575, 9577, 9579, 9599, 9600, 9603, 9618, 9619, 9623, 9627, 9629, 9633, 9638, 9648, 9661, 9669, 10115, 10117, 10119, 10178, 10179, 10243, 10245, 10247, 10249, 10315, 10317, 10318, 10319, 10365, 10367, 10369, 10405, 10407, 10409, 10435, 10437, 10439, 10551, 10553, 10555, 10557, 10559, 10585, 10587, 10589, 10623, 10625, 10627, 10629, 10707, 10709, 10711, 10713, 10715, 10717, 10719, 10777, 10779, 10781, 10783, 10785, 10787, 10789, 10823, 10825, 10827, 10829, 10961, 10963, 10965, 10967, 10969, 10997, 10999, 12043, 12045, 12047, 12049, 12051, 12053, 12055, 12057, 12058, 12059, 12099, 12101, 12103, 12105, 12107, 12109, 12157, 12159, 12161, 12163, 12165, 12167, 12169, 12203, 12205, 12207, 12209, 12247, 12249, 12277, 12279, 12305, 12307, 12309, 12347, 12349, 12351, 12353, 12355, 12357, 12359, 12435, 12437, 12439, 12459, 12487, 12489, 12524, 12526, 12527, 12529, 12555, 12557, 12559, 12587, 12589, 12619, 12621, 12623, 12625, 12627, 12629, 12679, 12681, 12683, 12685, 12687, 12689, 13051, 13053, 13055, 13057, 13059, 13086, 13088, 13089, 13125, 13127, 13129, 13156, 13158, 13159, 13187, 13189, 13347, 13349, 13351, 13353, 13355, 13357, 13359, 13403, 13405, 13407, 13409, 13435, 13437, 13439, 13465, 13467, 13469, 13503, 13505, 13507, 13509, 13581, 13583, 13585, 13587, 13589, 13591, 13593, 13595, 13597, 13599, 13627, 13629, 14050, 14052, 14053, 14055, 14057, 14059, 14089, 14109, 14129, 14163, 14165, 14167, 14169, 14193, 14195, 14197, 14199, 14467, 14469, 14471, 14473, 14476, 14478, 14480, 14482, 14513, 14532, 14542, 14547, 14548, 14550, 14552, 14554, 14558, 14612, 14621, 14624, 14641, 14656, 14662, 14669, 14712, 14715, 14727, 14728, 14770, 14772, 14774, 14776, 14778, 14789, 14793, 14797, 14798, 14806, 14822, 14823, 14827, 14828, 14913, 14929, 14943, 14947, 14959, 14974, 14979, 15230, 15232, 15234, 15236, 15295, 15299, 15306, 15320, 15324, 15326, 15328, 15344, 15345, 15366, 15370, 15374, 15377, 15378, 15517, 15518, 15526, 15528, 15537, 15562, 15566, 15569, 15711, 15712, 15713, 15732, 15738, 15741, 15745, 15746, 15748, 15749, 15754, 15755, 15757, 15806, 15827, 15831, 15834, 15837, 15838, 15848, 15859, 15864, 15868, 15890, 15898, 15907, 15910, 15913, 15926, 15936, 15938, 16225, 16227, 16230, 16244, 16247, 16248, 16259, 16269, 16278, 16303, 16306, 16307, 16321, 16341, 16348, 16356, 16359, 16515, 16540, 16547, 16548, 16552, 16556, 16559, 16562, 16567, 16727, 16761, 16766, 16767, 16775, 16792, 16798, 16816, 16818, 16827, 16831, 16833, 16835, 16837, 16845, 16866, 16868, 16909, 16918, 16928, 16945, 16949, 17033, 17034, 17036, 17039, 17087, 17089, 17091, 17094, 17098, 17099, 17109, 17111, 17121, 17126, 17129, 17139, 17153, 17159, 17166, 17168, 17179, 17192, 17194, 17207, 17209, 17213, 17214, 17217, 17219, 17235, 17237, 17252, 17255, 17258, 17268, 17279, 17291, 17309, 17321, 17322, 17326, 17328, 17329, 17335, 17337, 17348, 17349, 17358, 17367, 17373, 17375, 17379, 17389, 17390, 17391, 17392, 17398, 17406, 17419, 17424, 17429, 17438, 17440, 17449, 17454, 17459, 17489, 17491, 17493, 17495, 17498, 17506, 17509, 18055, 18057, 18059, 18069, 18106, 18107, 18109, 18119, 18146, 18147, 18181, 18182, 18184, 18190, 18195, 18196, 18198, 18209, 18211, 18225, 18230, 18233, 18236, 18239, 18246, 18249, 18258, 18273, 18276, 18279, 18292, 18299, 18311, 18314, 18317, 18320, 18334, 18337, 18347, 18356, 18374, 18375, 18435, 18437, 18439, 18442, 18445, 18461, 18465, 18469, 18507, 18510, 18513, 18516, 18519, 18528, 18546, 18551, 18556, 18569, 18573, 18574, 18581, 18586, 18609, 19053, 19055, 19057, 19059, 19061, 19063, 19065, 19067, 19069, 19071, 19073, 19075, 19077, 19079, 19086, 19089, 19205, 19209, 19217, 19230, 19243, 19246, 19249, 19258, 19260, 19273, 19288, 19294, 19300, 19303, 19306, 19309, 19322, 19336, 19339, 19348, 19357, 19370, 19372, 19374, 19376, 19386, 19395, 19399, 19406, 19412, 19417, 20095, 20097, 20099, 20144, 20146, 20148, 20149, 20249, 20251, 20253, 20255, 20257, 20259, 20354, 20355, 20357, 20359, 20457, 20459, 20535, 20537, 20539, 21029, 21031, 21033, 21035, 21037, 21039, 21073, 21075, 21077, 21079, 21107, 21109, 21129, 21131, 21147, 21149, 21217, 21218, 21220, 21224, 21227, 21228, 21244, 21255, 21256, 21258, 21259, 21261, 21266, 21271, 21272, 21274, 21279, 21335, 21337, 21339, 21354, 21357, 21358, 21360, 21365, 21368, 21369, 21371, 21376, 21379, 21380, 21382, 21385, 21386, 21388, 21391, 21394, 21395, 21397, 21398, 21400, 21401, 21403, 21406, 21407, 21409, 21423, 21435, 21436, 21438, 21439, 21441, 21442, 21444, 21445, 21447, 21449, 21465, 21481, 21483, 21493, 21502, 21509, 21514, 21516, 21521, 21522, 21524, 21529, 21614, 21629, 21635, 21640, 21641, 21643, 21644, 21646, 21647, 21649, 21680, 21682, 21683, 21684, 21698, 21702, 21706, 21709, 21710, 21712, 21714, 21717, 21720, 21723, 21726, 21727, 21729, 21730, 21737, 21739, 21745, 21755, 21756, 21762, 21763, 21765, 21769, 21770, 21772, 21775, 21776, 21781, 21782, 21784, 21785, 21787, 21789, 22041, 22043, 22045, 22047, 22049, 22081, 22083, 22085, 22087, 22089, 22111, 22113, 22115, 22117, 22119, 22143, 22145, 22147, 22149, 22159, 22175, 22177, 22179, 22297, 22299, 22301, 22303, 22305, 22307, 22309, 22335, 22337, 22339, 22359, 22391, 22393, 22395, 22397, 22399, 22415, 22417, 22419, 22453, 22455, 22457, 22459, 22523, 22525, 22527, 22529, 22547, 22549, 22559, 22587, 22589, 22605, 22607, 22609, 22761, 22763, 22765, 22767, 22769, 22844, 22846, 22848, 22850, 22851, 22869, 22880, 22885, 22889, 22926, 22927, 22929, 22941, 22946, 22949, 22952, 22955, 22956, 22958, 22959, 22962, 22964, 22965, 22967, 22969, 23552, 23554, 23556, 23558, 23560, 23562, 23564, 23566, 23568, 23569, 23570, 23611, 23617, 23619, 23623, 23626, 23627, 23628, 23629, 23669, 23683, 23684, 23689, 23701, 23714, 23715, 23717, 23719, 23730, 23738, 23743, 23744, 23746, 23749, 23758, 23769, 23774, 23775, 23777, 23795, 23812, 23813, 23815, 23816, 23818, 23820, 23821, 23823, 23824, 23826, 23827, 23829, 23843, 23845, 23847, 23858, 23860, 23863, 23866, 23867, 23869, 23879, 23881, 23883, 23896, 23898, 23899, 23909, 23911, 23919, 23923, 23936, 23942, 23946, 23948, 23966, 23968, 23970, 23972, 23974, 23992, 23996, 23999, 24103, 24105, 24106, 24107, 24109, 24111, 24113, 24114, 24116, 24118, 24119, 24143, 24145, 24146, 24147, 24148, 24149, 24159, 24161, 24211, 24214, 24217, 24220, 24222, 24223, 24226, 24229, 24232, 24235, 24238, 24239, 24241, 24242, 24244, 24245, 24247, 24248, 24250, 24251, 24253, 24254, 24256, 24257, 24259, 24306, 24321, 24326, 24327, 24329, 24340, 24351, 24354, 24357, 24358, 24360, 24361, 24363, 24364, 24366, 24367, 24369, 24376, 24392, 24395, 24398, 24401, 24402, 24404, 24405, 24407, 24409, 24534, 24536, 24537, 24539, 24558, 24568, 24576, 24582, 24589, 24594, 24598, 24601, 24610, 24613, 24616, 24619, 24620, 24622, 24623, 24626, 24628, 24629, 24631, 24632, 24634, 24635, 24637, 24640, 24641, 24643, 24644, 24646, 24647, 24649, 24768, 24782, 24783, 24784, 24787, 24790, 24791, 24793, 24794, 24796, 24797, 24799, 24800, 24802, 24803, 24805, 24806, 24808, 24809, 24811, 24813, 24814, 24816, 24817, 24819, 24837, 24848, 24850, 24852, 24855, 24857, 24860, 24861, 24863, 24864, 24866, 24867, 24869, 24870, 24872, 24873, 24876, 24878, 24879, 24881, 24882, 24884, 24885, 24887, 24888, 24890, 24891, 24893, 24894, 24896, 24897, 24899, 24937, 24939, 24941, 24943, 24944, 24955, 24960, 24963, 24966, 24969, 24972, 24975, 24976, 24977, 24980, 24983, 24986, 24988, 24989, 24991, 24992, 24994, 24996, 24997, 24999, 25335, 25336, 25337, 25348, 25355, 25358, 25361, 25364, 25365, 25368, 25373, 25376, 25377, 25379, 25421, 25436, 25451, 25462, 25469, 25474, 25479, 25482, 25485, 25486, 25488, 25489, 25491, 25492, 25494, 25495, 25497, 25499, 25524, 25541, 25548, 25551, 25554, 25557, 25560, 25563, 25566, 25569, 25572, 25573, 25575, 25576, 25578, 25579, 25581, 25582, 25585, 25587, 25588, 25590, 25591, 25593, 25594, 25596, 25597, 25599, 25693, 25704, 25709, 25712, 25715, 25718, 25719, 25721, 25724, 25725, 25727, 25746, 25761, 25764, 25767, 25770, 25774, 25776, 25779, 25782, 25785, 25786, 25788, 25791, 25792, 25794, 25795, 25797, 25799, 25813, 25821, 25826, 25832, 25836, 25840, 25842, 25845, 25850, 25852, 25853, 25855, 25856, 25860, 25862, 25864, 25866, 25868, 25870, 25872, 25873, 25876, 25878, 25879, 25881, 25884, 25885, 25887, 25889, 25899, 25917, 25920, 25923, 25924, 25926, 25927, 25938, 25980, 25992, 26121, 26122, 26123, 26125, 26127, 26129, 26131, 26133, 26135, 26160, 26169, 26180, 26188, 26197, 26203, 26209, 26215, 26219, 26316, 26340, 26345, 26349, 26382, 26384, 26386, 26388, 26389, 26409, 26419, 26427, 26434, 26441, 26446, 26452, 26487, 26489, 26506, 26524, 26529, 26532, 26548, 26553, 26556, 26603, 26605, 26607, 26624, 26629, 26632, 26639, 26655, 26670, 26676, 26683, 26689, 26721, 26723, 26725, 26736, 26757, 26759, 26789, 26802, 26810, 26817, 26826, 26831, 26835, 26842, 26844, 26845, 26847, 26849, 26871, 26892, 26897, 26899, 26901, 26903, 26904, 26906, 26907, 26909, 26919, 26931, 26935, 26936, 26937, 26939, 26954, 26969, 27211, 27232, 27239, 27243, 27245, 27246, 27248, 27249, 27251, 27252, 27254, 27257, 27259, 27283, 27299, 27305, 27308, 27313, 27318, 27321, 27324, 27327, 27330, 27333, 27336, 27337, 27339, 27356, 27367, 27374, 27383, 27386, 27389, 27404, 27412, 27419, 27432, 27442, 27446, 27449, 27472, 27474, 27476, 27478, 27568, 27570, 27572, 27574, 27576, 27578, 27580, 27607, 27612, 27616, 27619, 27624, 27628, 27632, 27637, 27638, 27711, 27721, 27726, 27729, 27749, 27751, 27753, 27755, 27777, 27793, 27798, 27801, 27804, 27809, 28195, 28197, 28199, 28201, 28203, 28205, 28207, 28209, 28211, 28213, 28215, 28217, 28219, 28237, 28239, 28259, 28277, 28279, 28307, 28309, 28325, 28327, 28329, 28355, 28357, 28359, 28717, 28719, 28755, 28757, 28759, 28777, 28779, 28790, 28816, 28832, 28844, 28857, 28865, 28870, 28876, 28879, 29221, 29223, 29225, 29227, 29229, 29303, 29308, 29313, 29320, 29323, 29328, 29331, 29336, 29339, 29342, 29345, 29348, 29351, 29352, 29353, 29355, 29356, 29358, 29359, 29361, 29362, 29364, 29365, 29367, 29369, 29378, 29379, 29386, 29389, 29392, 29393, 29394, 29396, 29399, 29410, 29413, 29416, 29439, 29451, 29456, 29459, 29462, 29465, 29468, 29471, 29473, 29475, 29476, 29479, 29481, 29482, 29485, 29487, 29488, 29490, 29491, 29494, 29496, 29497, 29499, 29525, 29549, 29553, 29556, 29559, 29562, 29565, 29571, 29574, 29575, 29576, 29578, 29579, 29582, 29584, 29585, 29587, 29588, 29590, 29591, 29593, 29594, 29597, 29599, 29614, 29633, 29640, 29643, 29646, 29649, 29664, 29683, 29690, 29693, 29699, 30159, 30161, 30163, 30165, 30167, 30169, 30171, 30173, 30175, 30176, 30177, 30179, 30419, 30449, 30451, 30453, 30455, 30457, 30459, 30519, 30539, 30559, 30625, 30627, 30629, 30655, 30657, 30659, 30823, 30826, 30827, 30851, 30853, 30855, 30880, 30890, 30900, 30916, 30926, 30938, 30952, 30966, 30974, 30982, 30989, 31008, 31020, 31028, 31029, 31032, 31033, 31035, 31036, 31039, 31061, 31073, 31079, 31084, 31087, 31088, 31089, 31091, 31093, 31094, 31096, 31097, 31099, 31134, 31135, 31137, 31139, 31141, 31157, 31162, 31167, 31171, 31174, 31177, 31180, 31185, 31188, 31191, 31195, 31196, 31199, 31224, 31226, 31228, 31234, 31241, 31246, 31249, 31275, 31303, 31311, 31319, 31515, 31535, 31542, 31547, 31552, 31553, 31555, 31556, 31558, 31559, 31582, 31592, 31595, 31600, 31603, 31604, 31606, 31608, 31609, 31613, 31618, 31619, 31621, 31622, 31623, 31626, 31627, 31628, 31629, 31632, 31633, 31634, 31636, 31637, 31638, 31655, 31675, 31683, 31688, 31691, 31693, 31698, 31699, 31700, 31702, 31707, 31710, 31711, 31712, 31714, 31715, 31717, 31718, 31719, 31737, 31749, 31785, 31787, 31789, 31812, 31832, 31840, 31848, 31855, 31860, 31863, 31867, 31868, 32049, 32051, 32052, 32105, 32107, 32108, 32120, 32130, 32139, 32257, 32278, 32289, 32312, 32339, 32351, 32361, 32369, 32423, 32425, 32427, 32429, 32457, 32469, 32479, 32545, 32547, 32549, 32584, 32602, 32609, 32657, 32676, 32683, 32689, 32694, 32699, 32756, 32758, 32760, 32791, 32805, 32816, 32825, 32832, 32839, 33014, 33034, 33039, 33098, 33100, 33102, 33104, 33106, 33129, 33142, 33154, 33161, 33165, 33175, 33178, 33181, 33184, 33189, 33330, 33332, 33334, 33335, 33378, 33397, 33415, 33428, 33442, 33449, 33602, 33604, 33605, 33607, 33609, 33611, 33613, 33615, 33617, 33619, 33647, 33649, 33659, 33689, 33699, 33719, 33729, 33739, 33758, 33775, 33790, 33803, 33813, 33818, 33824, 33829, 34117, 34119, 34121, 34123, 34125, 34127, 34128, 34130, 34131, 34132, 34134, 34212, 34225, 34233, 34246, 34253, 34260, 34266, 34270, 34277, 34281, 34286, 34289, 34292, 34295, 34298, 34302, 34305, 34308, 34311, 34314, 34317, 34320, 34323, 34326, 34327, 34329, 34346, 34355, 34359, 34369, 34376, 34379, 34385, 34388, 34393, 34396, 34399, 34414, 34431, 34434, 34439, 34454, 34466, 34471, 34474, 34477, 34479, 34497, 34508, 34513, 34516, 34519, 34537, 34549, 34560, 34576, 34582, 34587, 34590, 34593, 34596, 34599, 34613, 34621, 34626, 34628, 34630, 34632, 34633, 34637, 34639, 35037, 35039, 35041, 35043, 35066, 35075, 35080, 35083, 35085, 35088, 35091, 35094, 35096, 35099, 35102, 35104, 35108, 35110, 35112, 35114, 35116, 35117, 35119, 35216, 35232, 35236, 35239, 35260, 35274, 35279, 35282, 35285, 35287, 35288, 35305, 35315, 35321, 35325, 35327, 35329, 35390, 35392, 35394, 35396, 35398, 35410, 35415, 35418, 35423, 35428, 35435, 35440, 35444, 35447, 35452, 35457, 35460, 35463, 35466, 35469, 35510, 35516, 35519, 35576, 35578, 35579, 35580, 35581, 35582, 35583, 35584, 35585, 35586, 35606, 35614, 35619, 35625, 35630, 35633, 35638, 35641, 35644, 35647, 35649, 35683, 35684, 35685, 35686, 35687, 35688, 35689, 35690, 35708, 35713, 35716, 35719, 35745, 35753, 35756, 35759, 35764, 35767, 35768, 35781, 35789, 35792, 35794, 35796, 35799, 36037, 36039, 36041, 36043, 36088, 36093, 36100, 36103, 36110, 36115, 36119, 36124, 36129, 36132, 36137, 36142, 36145, 36148, 36151, 36154, 36157, 36160, 36163, 36166, 36167, 36169, 36179, 36199, 36205, 36208, 36211, 36214, 36217, 36219, 36251, 36266, 36269, 36272, 36275, 36277, 36280, 36282, 36284, 36286, 36287, 36289, 36304, 36318, 36320, 36323, 36325, 36326, 36329, 36341, 36355, 36358, 36364, 36367, 36369, 36381, 36391, 36396, 36399, 36404, 36414, 36419, 36433, 36448, 36452, 36456, 36457, 36460, 36466, 36469, 37073, 37075, 37077, 37079, 37081, 37083, 37085, 37115, 37120, 37124, 37127, 37130, 37133, 37136, 37139, 37154, 37170, 37176, 37181, 37186, 37191, 37194, 37197, 37199, 37213, 37214, 37215, 37216, 37217, 37218, 37235, 37242, 37247, 37249, 37269, 37276, 37281, 37284, 37287, 37290, 37293, 37296, 37297, 37299, 37308, 37318, 37327, 37339, 37345, 37351, 37355, 37359, 37412, 37431, 37434, 37441, 37444, 37445, 37447, 37449, 37520, 37534, 37539, 37547, 37574, 37581, 37586, 37589, 37603, 37619, 37620, 37627, 37632, 37633, 37639, 37640, 37642, 37643, 37647, 37649, 37671, 37688, 37691, 37696, 37697, 37699, 38100, 38102, 38104, 38106, 38108, 38110, 38112, 38114, 38116, 38118, 38120, 38122, 38124, 38126, 38154, 38159, 38162, 38165, 38170, 38173, 38176, 38179, 38226, 38228, 38229, 38239, 38259, 38268, 38271, 38272, 38274, 38275, 38277, 38279, 38300, 38302, 38304, 38312, 38315, 38319, 38321, 38324, 38325, 38329, 38350, 38364, 38368, 38372, 38373, 38376, 38378, 38379, 38381, 38384, 38385, 38387, 38388, 38440, 38442, 38444, 38446, 38448, 38458, 38459, 38461, 38462, 38464, 38465, 38467, 38468, 38470, 38471, 38473, 38474, 38476, 38477, 38479, 38486, 38489, 38518, 38524, 38527, 38528, 38530, 38531, 38533, 38536, 38539, 38542, 38543, 38547, 38550, 38551, 38553, 38554, 38556, 38557, 38559, 38640, 38642, 38644, 38667, 38678, 38685, 38690, 38700, 38704, 38707, 38709, 38723, 38729, 38820, 38822, 38828, 38829, 38835, 38836, 38838, 38855, 38871, 38875, 38877, 38879, 38889, 38895, 38899, 39104, 39106, 39108, 39110, 39112, 39114, 39116, 39118, 39120, 39122, 39124, 39126, 39128, 39130, 39164, 39167, 39171, 39175, 39179, 39217, 39218, 39221, 39240, 39245, 39249, 39261, 39264, 39279, 39288, 39291, 39307, 39317, 39319, 39326, 39340, 39343, 39345, 39356, 39359, 39365, 39387, 39393, 39397, 39398, 39418, 39435, 39439, 39443, 39444, 39446, 39448, 39517, 39524, 39539, 39576, 39579, 39590, 39596, 39606, 39615, 39619, 39624, 39629, 39638, 39646, 39649, 40210, 40211, 40212, 40213, 40215, 40217, 40219, 40221, 40223, 40225, 40227, 40229, 40231, 40233, 40235, 40237, 40239, 40468, 40470, 40472, 40474, 40476, 40477, 40479, 40489, 40545, 40547, 40549, 40589, 40591, 40593, 40595, 40597, 40599, 40625, 40627, 40629, 40667, 40668, 40670, 40699, 40721, 40723, 40724, 40764, 40789, 40822, 40878, 40880, 40882, 40883, 40885, 41061, 41063, 41065, 41066, 41068, 41069, 41169, 41179, 41189, 41199, 41236, 41238, 41239, 41334, 41352, 41363, 41366, 41372, 41379, 41460, 41462, 41464, 41466, 41468, 41469, 41470, 41472, 41515, 41516, 41517, 41539, 41540, 41541, 41542, 41564, 41569, 41747, 41748, 41749, 41751, 41812, 41836, 41844, 41849, 42103, 42105, 42107, 42109, 42111, 42113, 42115, 42117, 42119, 42275, 42277, 42279, 42281, 42283, 42285, 42287, 42289, 42327, 42329, 42349, 42369, 42389, 42399, 42477, 42489, 42499, 42549, 42551, 42553, 42555, 42579, 42651, 42653, 42655, 42657, 42659, 42697, 42699, 42719, 42781, 42799, 42853, 42855, 42857, 42859, 42897, 42899, 42929, 44135, 44137, 44139, 44141, 44143, 44145, 44147, 44149, 44225, 44227, 44229, 44239, 44263, 44265, 44267, 44269, 44287, 44289, 44309, 44319, 44328, 44329, 44339, 44357, 44359, 44369, 44379, 44388, 44532, 44534, 44536, 44575, 44577, 44579, 44581, 44623, 44625, 44627, 44628, 44629, 44649, 44651, 44652, 44653, 44787, 44789, 44791, 44793, 44795, 44797, 44799, 44801, 44803, 44805, 44807, 44809, 44866, 44867, 44869, 44879, 44892, 44894, 45127, 45128, 45130, 45131, 45133, 45134, 45136, 45138, 45139, 45141, 45143, 45144, 45145, 45147, 45149, 45219, 45239, 45257, 45259, 45276, 45277, 45279, 45289, 45307, 45309, 45326, 45327, 45329, 45355, 45356, 45357, 45359, 45468, 45470, 45472, 45473, 45475, 45476, 45478, 45479, 45481, 45525, 45527, 45529, 45549, 45657, 45659, 45661, 45663, 45665, 45699, 45701, 45711, 45721, 45731, 45739, 45768, 45770, 45772, 45879, 45881, 45883, 45884, 45886, 45888, 45889, 45891, 45892, 45894, 45896, 45897, 45899, 45964, 45966, 45968, 46045, 46047, 46049, 46117, 46119, 46145, 46147, 46149, 46236, 46238, 46240, 46242, 46244, 46282, 46284, 46286, 46325, 46342, 46348, 46354, 46359, 46395, 46397, 46399, 46414, 46419, 46446, 46459, 46483, 46485, 46487, 46499, 46509, 46514, 46519, 46535, 46537, 46539, 46562, 46569, 47051, 47053, 47055, 47057, 47058, 47059, 47119, 47137, 47138, 47139, 47166, 47167, 47169, 47178, 47179, 47198, 47199, 47226, 47228, 47229, 47239, 47249, 47259, 47269, 47279, 47441, 47443, 47445, 47447, 47475, 47495, 47506, 47509, 47533, 47546, 47551, 47559, 47574, 47589, 47608, 47623, 47624, 47625, 47626, 47627, 47638, 47647, 47652, 47661, 47665, 47669, 47798, 47799, 47800, 47802, 47803, 47804, 47805, 47807, 47809, 47829, 47839, 47877, 47906, 47918, 47929, 48143, 48145, 48147, 48149, 48151, 48153, 48155, 48157, 48159, 48161, 48163, 48165, 48167, 48231, 48249, 48268, 48282, 48291, 48301, 48308, 48317, 48324, 48329, 48336, 48341, 48346, 48351, 48356, 48361, 48366, 48369, 48429, 48431, 48432, 48455, 48465, 48477, 48480, 48485, 48488, 48493, 48496, 48499, 48527, 48529, 48531, 48565, 48599, 48607, 48612, 48619, 48624, 48629, 48653, 48683, 48691, 48703, 48712, 48720, 48727, 48734, 48739, 49074, 49076, 49078, 49080, 49082, 49084, 49086, 49088, 49090, 49124, 49134, 49143, 49152, 49163, 49170, 49176, 49179, 49186, 49191, 49196, 49201, 49205, 49214, 49219, 49324, 49326, 49328, 49356, 49377, 49393, 49401, 49406, 49413, 49419, 49424, 49429, 49434, 49439, 49448, 49451, 49453, 49456, 49457, 49459, 49477, 49479, 49492, 49497, 49504, 49509, 49525, 49536, 49545, 49549, 49565, 49577, 49584, 49586, 49593, 49594, 49596, 49597, 49599, 49610, 49624, 49626, 49632, 49635, 49637, 49638, 49661, 49681, 49685, 49688, 49692, 49696, 49699, 49716, 49733, 49740, 49744, 49751, 49757, 49762, 49767, 49770, 49774, 49777, 49779, 49808, 49809, 49811, 49824, 49828, 49832, 49835, 49838, 49843, 49844, 49846, 49847, 49849, 50126, 50127, 50129, 50169, 50170, 50171, 50181, 50189, 50226, 50259, 50321, 50354, 50374, 50389, 50667, 50668, 50670, 50672, 50674, 50676, 50677, 50678, 50679, 50733, 50735, 50737, 50739, 50765, 50767, 50769, 50823, 50825, 50827, 50829, 50858, 50859, 50931, 50933, 50935, 50937, 50939, 50968, 50969, 50996, 50997, 50999, 51061, 51063, 51065, 51067, 51069, 51103, 51105, 51107, 51109, 51143, 51145, 51147, 51149, 51371, 51373, 51375, 51377, 51379, 51381, 51399, 51427, 51429, 51465, 51467, 51469, 51491, 51503, 51515, 51519, 51545, 51570, 51580, 51588, 51597, 51598, 51643, 51645, 51647, 51674, 51688, 51702, 51709, 51766, 51789, 52062, 52064, 52066, 52068, 52070, 52072, 52074, 52076, 52078, 52080, 52134, 52146, 52152, 52156, 52159, 52222, 52223, 52224, 52249, 52349, 52351, 52353, 52355, 52372, 52379, 52382, 52385, 52388, 52391, 52393, 52396, 52399, 52428, 52441, 52445, 52457, 52459, 52477, 52499, 52511, 52525, 52531, 52538, 53111, 53113, 53115, 53117, 53119, 53121, 53123, 53125, 53127, 53129, 53173, 53175, 53177, 53179, 53225, 53227, 53229, 53332, 53340, 53343, 53347, 53359, 53424, 53426, 53474, 53489, 53498, 53501, 53505, 53506, 53507, 53508, 53518, 53520, 53533, 53534, 53539, 53545, 53547, 53557, 53560, 53562, 53567, 53572, 53577, 53578, 53579, 53604, 53619, 53639, 53721, 53757, 53773, 53783, 53797, 53804, 53809, 53819, 53840, 53842, 53844, 53859, 53879, 53881, 53894, 53902, 53909, 53913, 53919, 53925, 53937, 53940, 53945, 53947, 53949, 54290, 54292, 54293, 54294, 54295, 54296, 54298, 54306, 54308, 54309, 54310, 54311, 54313, 54314, 54316, 54317, 54318, 54320, 54329, 54331, 54332, 54338, 54340, 54341, 54343, 54344, 54346, 54347, 54349, 54411, 54413, 54421, 54422, 54424, 54426, 54427, 54429, 54439, 54441, 54450, 54451, 54453, 54455, 54456, 54457, 54459, 54470, 54472, 54483, 54484, 54486, 54487, 54492, 54497, 54498, 54516, 54518, 54523, 54524, 54526, 54528, 54531, 54533, 54534, 54536, 54538, 54539, 54550, 54552, 54558, 54568, 54570, 54574, 54576, 54578, 54579, 54584, 54585, 54587, 54589, 54595, 54597, 54608, 54610, 54611, 54612, 54614, 54616, 54619, 54634, 54636, 54646, 54647, 54649, 54655, 54657, 54662, 54664, 54666, 54668, 54669, 54673, 54675, 54687, 54689, 55116, 55118, 55120, 55122, 55124, 55126, 55127, 55128, 55129, 55130, 55131, 55218, 55232, 55234, 55237, 55239, 55246, 55252, 55257, 55262, 55263, 55268, 55270, 55271, 55276, 55278, 55283, 55286, 55288, 55291, 55294, 55296, 55299, 55411, 55413, 55422, 55424, 55425, 55430, 55432, 55435, 55437, 55442, 55444, 55450, 55452, 55457, 55459, 55469, 55471, 55481, 55483, 55487, 55490, 55491, 55494, 55496, 55497, 55499, 55543, 55545, 55546, 55559, 55566, 55568, 55569, 55571, 55576, 55578, 55583, 55585, 55590, 55592, 55593, 55595, 55596, 55597, 55599, 55606, 55608, 55618, 55619, 55621, 55624, 55626, 55627, 55629, 55743, 55756, 55758, 55765, 55767, 55768, 55774, 55776, 55777, 55779, 56068, 56070, 56072, 56073, 56075, 56076, 56077, 56112, 56130, 56132, 56133, 56154, 56170, 56179, 56182, 56191, 56203, 56204, 56206, 56218, 56220, 56235, 56237, 56242, 56244, 56249, 56253, 56254, 56269, 56271, 56276, 56281, 56283, 56288, 56290, 56291, 56294, 56295, 56299, 56305, 56307, 56316, 56317, 56321, 56322, 56323, 56329, 56330, 56332, 56333, 56335, 56337, 56338, 56340, 56341, 56346, 56348, 56349, 56355, 56357, 56368, 56370, 56377, 56379, 56410, 56412, 56414, 56422, 56424, 56427, 56428, 56457, 56459, 56462, 56470, 56472, 56477, 56479, 56564, 56566, 56567, 56575, 56579, 56581, 56584, 56587, 56588, 56589, 56593, 56594, 56598, 56599, 56626, 56630, 56637, 56642, 56645, 56648, 56651, 56653, 56656, 56659, 56727, 56729, 56736, 56743, 56745, 56746, 56751, 56753, 56754, 56759, 56761, 56766, 56767, 56769, 56812, 56814, 56818, 56820, 56821, 56823, 56825, 56826, 56828, 56829, 56841, 56843, 56850, 56856, 56858, 56859, 56861, 56862, 56864, 56865, 56867, 56869, 57072, 57074, 57076, 57078, 57080, 57223, 57234, 57250, 57258, 57271, 57290, 57299, 57319, 57334, 57339, 57368, 57392, 57399, 57413, 57439, 57462, 57482, 57489, 57518, 57520, 57537, 57539, 57548, 57555, 57562, 57567, 57572, 57577, 57578, 57580, 57581, 57583, 57584, 57586, 57587, 57589, 57610, 57612, 57614, 57627, 57629, 57632, 57635, 57636, 57638, 57639, 57641, 57642, 57644, 57645, 57647, 57648, 58089, 58091, 58093, 58095, 58097, 58099, 58119, 58135, 58239, 58256, 58285, 58300, 58313, 58332, 58339, 58452, 58453, 58454, 58455, 58456, 58507, 58509, 58511, 58513, 58515, 58540, 58553, 58566, 58579, 58636, 58638, 58640, 58642, 58644, 58675, 58706, 58708, 58710, 58730, 58739, 58762, 58769, 58791, 58802, 58809, 58840, 58849, 59063, 59065, 59067, 59069, 59071, 59073, 59075, 59077, 59174, 59192, 59199, 59227, 59229, 59269, 59302, 59320, 59329, 59348, 59368, 59379, 59387, 59394, 59399, 59423, 59425, 59427, 59439, 59457, 59469, 59494, 59505, 59510, 59514, 59519, 59555, 59556, 59557, 59558, 59581, 59590, 59597, 59602, 59609, 59755, 59757, 59759, 59821, 59823, 59846, 59872, 59889, 59909, 59929, 59939, 59955, 59964, 59969, 60308, 60311, 60313, 60314, 60316, 60318, 60320, 60322, 60323, 60325, 60326, 60327, 60329, 60385, 60386, 60388, 60389, 60431, 60433, 60435, 60437, 60438, 60439, 60486, 60487, 60488, 60489, 60528, 60529, 60549, 60594, 60596, 60598, 60599, 61118, 61130, 61137, 61138, 61169, 61184, 61191, 61194, 61197, 61200, 61203, 61206, 61209, 61231, 61239, 61250, 61267, 61273, 61276, 61279, 61348, 61350, 61352, 61381, 61389, 61440, 61449, 61462, 61476, 61479, 63065, 63067, 63069, 63071, 63073, 63075, 63110, 63128, 63150, 63165, 63179, 63225, 63263, 63303, 63322, 63329, 63450, 63452, 63454, 63456, 63457, 63477, 63486, 63500, 63505, 63512, 63517, 63526, 63533, 63538, 63543, 63546, 63549, 63571, 63579, 63584, 63589, 63594, 63599, 63607, 63619, 63628, 63633, 63636, 63637, 63639, 63654, 63667, 63674, 63679, 63683, 63688, 63691, 63694, 63695, 63697, 63699, 63739, 63741, 63743, 63755, 63762, 63768, 63773, 63776, 63785, 63791, 63796, 63801, 63808, 63811, 63814, 63820, 63825, 63826, 63828, 63829, 63831, 63834, 63839, 63840, 63843, 63846, 63849, 63853, 63856, 63857, 63860, 63863, 63864, 63867, 63868, 63869, 63872, 63874, 63875, 63877, 63879, 63897, 63906, 63911, 63916, 63920, 63924, 63925, 63927, 63928, 63930, 63931, 63933, 63934, 63936, 63937, 63939, 64283, 64285, 64287, 64289, 64291, 64293, 64295, 64297, 64319, 64331, 64342, 64347, 64354, 64367, 64372, 64380, 64385, 64390, 64395, 64397, 64401, 64404, 64405, 64407, 64409, 64521, 64546, 64560, 64569, 64572, 64579, 64584, 64589, 64625, 64646, 64653, 64658, 64665, 64668, 64673, 64678, 64683, 64686, 64689, 64711, 64720, 64732, 64739, 64743, 64747, 64750, 64753, 64756, 64757, 64807, 64823, 64832, 64839, 64846, 64850, 64853, 64859, 65183, 65185, 65187, 65189, 65191, 65193, 65195, 65197, 65199, 65201, 65203, 65205, 65207, 65232, 65239, 65307, 65321, 65326, 65329, 65343, 65344, 65345, 65346, 65347, 65366, 65375, 65385, 65388, 65391, 65396, 65399, 65428, 65439, 65451, 65462, 65468, 65474, 65479, 65510, 65520, 65527, 65529, 65549, 65550, 65551, 65552, 65553, 65554, 65555, 65556, 65558, 65582, 65589, 65594, 65597, 65599, 65604, 65606, 65611, 65614, 65618, 65620, 65623, 65624, 65626, 65627, 65629, 65719, 65760, 65779, 65795, 65812, 65817, 65824, 65830, 65835, 65843, 65929, 65931, 65933, 65934, 65936, 66111, 66113, 66115, 66117, 66119, 66121, 66123, 66125, 66126, 66127, 66128, 66129, 66130, 66131, 66132, 66133, 66265, 66271, 66280, 66287, 66292, 66299, 66333, 66346, 66352, 66359, 66386, 66399, 66424, 66440, 66450, 66453, 66459, 66482, 66484, 66497, 66500, 66501, 66503, 66504, 66506, 66507, 66509, 66538, 66539, 66540, 66557, 66564, 66571, 66578, 66583, 66589, 66606, 66620, 66625, 66629, 66636, 66640, 66646, 66649, 66663, 66679, 66687, 66693, 66701, 66706, 66709, 66740, 66763, 66773, 66780, 66787, 66793, 66798, 66802, 66806, 66809, 66822, 66839, 66849, 66851, 66862, 66869, 66871, 66877, 66879, 66882, 66885, 66887, 66892, 66894, 66901, 66903, 66904, 66907, 66909, 66914, 66916, 66917, 66919, 66953, 66954, 66955, 66957, 66969, 66976, 66978, 66981, 66987, 66989, 66994, 66996, 66999, 67059, 67061, 67063, 67065, 67067, 67069, 67071, 67098, 67105, 67112, 67117, 67122, 67125, 67126, 67127, 67133, 67134, 67136, 67141, 67146, 67147, 67149, 67150, 67157, 67158, 67159, 67161, 67165, 67166, 67167, 67169, 67227, 67229, 67240, 67245, 67246, 67251, 67256, 67258, 67259, 67269, 67271, 67273, 67278, 67280, 67281, 67283, 67292, 67294, 67295, 67297, 67304, 67305, 67307, 67308, 67310, 67311, 67316, 67317, 67319, 67346, 67354, 67360, 67361, 67363, 67365, 67366, 67368, 67373, 67374, 67376, 67377, 67378, 67433, 67434, 67435, 67454, 67459, 67466, 67468, 67471, 67472, 67473, 67475, 67480, 67482, 67483, 67487, 67489, 67547, 67549, 67550, 67551, 67574, 67575, 67577, 67578, 67580, 67582, 67583, 67585, 67586, 67587, 67590, 67591, 67592, 67593, 67595, 67596, 67598, 67599, 67655, 67657, 67659, 67661, 67663, 67677, 67678, 67680, 67681, 67685, 67686, 67688, 67691, 67693, 67697, 67699, 67700, 67701, 67705, 67707, 67714, 67715, 67716, 67718, 67722, 67724, 67725, 67727, 67728, 67729, 67731, 67732, 67734, 67735, 67737, 67742, 67744, 67745, 67748, 67749, 67752, 67753, 67754, 67756, 67757, 67759, 67806, 67808, 67813, 67814, 67816, 67817, 67819, 67821, 67822, 67823, 67824, 67826, 67827, 67829, 68159, 68161, 68163, 68165, 68167, 68169, 68199, 68219, 68229, 68239, 68259, 68305, 68307, 68309, 68519, 68526, 68535, 68542, 68549, 68623, 68642, 68647, 68649, 68723, 68753, 68766, 68775, 68782, 68789, 68794, 68799, 68804, 68809, 69115, 69117, 69118, 69120, 69121, 69123, 69124, 69126, 69151, 69168, 69181, 69190, 69198, 69207, 69214, 69221, 69226, 69231, 69234, 69239, 69242, 69245, 69250, 69251, 69253, 69254, 69256, 69257, 69259, 69412, 69427, 69429, 69434, 69436, 69437, 69439, 69469, 69483, 69488, 69493, 69502, 69509, 69514, 69517, 69518, 70173, 70174, 70176, 70178, 70180, 70182, 70184, 70186, 70188, 70190, 70191, 70192, 70193, 70195, 70197, 70199, 70327, 70329, 70372, 70374, 70376, 70378, 70435, 70437, 70439, 70469, 70499, 70563, 70565, 70567, 70569, 70597, 70599, 70619, 70629, 70734, 70736, 70771, 70794, 70806, 70825, 70839, 71032, 71034, 71063, 71065, 71067, 71069, 71083, 71088, 71093, 71101, 71106, 71111, 71116, 71120, 71126, 71131, 71134, 71139, 71144, 71149, 71154, 71155, 71157, 71159, 71229, 71254, 71263, 71272, 71277, 71282, 71287, 71292, 71296, 71297, 71299, 71332, 71334, 71336, 71364, 71384, 71394, 71397, 71404, 71409, 71522, 71540, 71543, 71546, 71549, 71554, 71560, 71563, 71566, 71570, 71573, 71576, 71577, 71579, 71634, 71636, 71638, 71640, 71642, 71665, 71672, 71679, 71686, 71691, 71696, 71701, 71706, 71711, 71717, 71720, 71723, 71726, 71729, 71732, 71735, 71737, 71739, 72070, 72072, 72074, 72076, 72108, 72116, 72119, 72124, 72127, 72131, 72135, 72138, 72141, 72144, 72145, 72147, 72149, 72160, 72172, 72175, 72178, 72181, 72184, 72186, 72189, 72202, 72213, 72218, 72221, 72224, 72226, 72227, 72229, 72250, 72270, 72275, 72280, 72285, 72290, 72293, 72294, 72296, 72297, 72336, 72348, 72351, 72355, 72358, 72359, 72361, 72362, 72364, 72365, 72369, 72379, 72393, 72401, 72406, 72411, 72414, 72415, 72417, 72419, 72458, 72459, 72461, 72469, 72474, 72475, 72477, 72479, 72488, 72501, 72505, 72510, 72511, 72514, 72516, 72517, 72519, 72525, 72531, 72532, 72534, 72535, 72537, 72539, 72555, 72574, 72581, 72582, 72584, 72585, 72587, 72589, 72622, 72631, 72636, 72639, 72644, 72649, 72654, 72655, 72657, 72658, 72660, 72661, 72663, 72664, 72666, 72667, 72669, 72760, 72762, 72764, 72766, 72768, 72770, 72793, 72800, 72805, 72810, 72813, 72818, 72820, 72827, 72829, 73033, 73035, 73037, 73054, 73061, 73066, 73072, 73079, 73084, 73087, 73092, 73095, 73098, 73099, 73101, 73102, 73104, 73105, 73107, 73108, 73110, 73111, 73113, 73114, 73116, 73117, 73119, 73207, 73230, 73235, 73240, 73249, 73252, 73257, 73262, 73265, 73266, 73268, 73269, 73271, 73272, 73274, 73275, 73277, 73278, 73312, 73326, 73329, 73333, 73337, 73340, 73342, 73344, 73345, 73347, 73349, 73430, 73431, 73432, 73433, 73434, 73441, 73447, 73450, 73453, 73457, 73460, 73463, 73466, 73467, 73469, 73479, 73485, 73486, 73488, 73489, 73491, 73492, 73494, 73495, 73497, 73499, 73525, 73527, 73529, 73540, 73547, 73550, 73553, 73557, 73560, 73563, 73565, 73566, 73568, 73569, 73571, 73572, 73574, 73575, 73577, 73579, 73614, 73630, 73635, 73642, 73650, 73655, 73660, 73663, 73666, 73667, 73669, 73728, 73730, 73732, 73733, 73734, 73760, 73765, 73770, 73773, 73776, 73779, 74072, 74074, 74076, 74078, 74080, 74081, 74172, 74177, 74182, 74189, 74193, 74196, 74199, 74206, 74211, 74214, 74219, 74223, 74226, 74229, 74232, 74235, 74238, 74239, 74243, 74245, 74246, 74248, 74249, 74251, 74252, 74254, 74255, 74257, 74259, 74321, 74336, 74343, 74348, 74354, 74357, 74360, 74363, 74366, 74369, 74372, 74374, 74376, 74379, 74382, 74385, 74388, 74389, 74391, 74392, 74394, 74395, 74397, 74399, 74405, 74417, 74420, 74423, 74424, 74426, 74427, 74429, 74523, 74532, 74535, 74538, 74541, 74542, 74544, 74545, 74547, 74549, 74564, 74572, 74575, 74579, 74582, 74585, 74586, 74589, 74592, 74594, 74595, 74597, 74599, 74613, 74626, 74629, 74632, 74635, 74638, 74639, 74653, 74670, 74673, 74676, 74677, 74679, 74706, 74722, 74731, 74736, 74740, 74743, 74744, 74746, 74747, 74749, 74821, 74831, 74834, 74838, 74842, 74847, 74850, 74855, 74858, 74861, 74862, 74864, 74865, 74867, 74869, 74889, 74906, 74909, 74912, 74915, 74918, 74921, 74924, 74925, 74927, 74928, 74930, 74931, 74933, 74934, 74936, 74937, 74939, 75015, 75031, 75038, 75045, 75050, 75053, 75056, 75057, 75059, 75172, 75173, 75175, 75177, 75179, 75180, 75181, 75196, 75203, 75210, 75217, 75223, 75228, 75233, 75236, 75239, 75242, 75245, 75248, 75249, 75305, 75323, 75328, 75331, 75334, 75335, 75337, 75339, 75365, 75378, 75382, 75385, 75387, 75389, 75391, 75392, 75394, 75395, 75397, 75399, 75417, 75428, 75433, 75438, 75443, 75446, 75447, 75449, 76131, 76133, 76135, 76137, 76139, 76149, 76185, 76187, 76189, 76199, 76227, 76228, 76229, 76275, 76287, 76297, 76307, 76316, 76327, 76332, 76337, 76344, 76351, 76356, 76359, 76437, 76448, 76456, 76461, 76467, 76470, 76473, 76474, 76476, 76477, 76479, 76530, 76532, 76534, 76547, 76549, 76571, 76593, 76596, 76597, 76599, 76646, 76661, 76669, 76676, 76684, 76689, 76694, 76698, 76703, 76706, 76707, 76709, 76726, 76744, 76751, 76756, 76761, 76764, 76767, 76768, 76770, 76771, 76773, 76774, 76776, 76777, 76779, 76829, 76831, 76833, 76835, 76846, 76848, 76855, 76857, 76863, 76865, 76870, 76872, 76877, 76879, 76887, 76889, 76891, 77652, 77654, 77656, 77694, 77704, 77709, 77716, 77723, 77728, 77731, 77736, 77740, 77743, 77746, 77749, 77756, 77761, 77767, 77770, 77773, 77781, 77784, 77787, 77790, 77791, 77793, 77794, 77796, 77797, 77799, 77815, 77830, 77833, 77836, 77839, 77855, 77866, 77871, 77876, 77880, 77883, 77886, 77887, 77933, 77948, 77955, 77960, 77963, 77966, 77971, 77972, 77974, 77975, 77977, 77978, 78048, 78050, 78052, 78054, 78056, 78073, 78078, 78083, 78086, 78087, 78089, 78098, 78112, 78120, 78126, 78132, 78136, 78141, 78144, 78147, 78148, 78166, 78176, 78183, 78187, 78194, 78199, 78224, 78234, 78239, 78244, 78247, 78250, 78253, 78256, 78259, 78262, 78266, 78267, 78269, 78315, 78333, 78337, 78343, 78351, 78354, 78355, 78357, 78359, 78462, 78464, 78465, 78467, 78476, 78479, 78532, 78549, 78554, 78559, 78564, 78567, 78570, 78573, 78576, 78579, 78582, 78583, 78585, 78586, 78588, 78589, 78591, 78594, 78595, 78598, 78600, 78601, 78604, 78606, 78607, 78609, 78628, 78647, 78652, 78655, 78658, 78661, 78662, 78664, 78665, 78667, 78669, 78713, 78727, 78730, 78733, 78736, 78737, 78739, 79098, 79100, 79102, 79104, 79106, 79108, 79110, 79111, 79112, 79114, 79115, 79117, 79183, 79189, 79194, 79199, 79206, 79211, 79215, 79219, 79224, 79227, 79232, 79235, 79238, 79241, 79244, 79249, 79252, 79254, 79256, 79258, 79261, 79263, 79268, 79271, 79274, 79276, 79279, 79280, 79282, 79283, 79285, 79286, 79288, 79289, 79291, 79292, 79295, 79297, 79299, 79312, 79331, 79336, 79341, 79346, 79348, 79350, 79353, 79356, 79359, 79361, 79362, 79364, 79365, 79367, 79369, 79379, 79395, 79400, 79410, 79415, 79418, 79423, 79424, 79426, 79427, 79429, 79539, 79540, 79541, 79576, 79585, 79588, 79589, 79591, 79594, 79595, 79597, 79599, 79618, 79639, 79650, 79664, 79669, 79674, 79677, 79682, 79685, 79686, 79688, 79689, 79692, 79694, 79697, 79699, 79713, 79725, 79730, 79733, 79736, 79737, 79739, 79761, 79771, 79774, 79777, 79780, 79787, 79790, 79793, 79798, 79801, 79802, 79804, 79805, 79807, 79809, 79822, 79837, 79843, 79848, 79853, 79856, 79859, 79862, 79865, 79868, 79871, 79872, 79874, 79875, 79877, 79879, 80331, 80333, 80335, 80336, 80337, 80339, 80469, 80538, 80539, 80634, 80636, 80637, 80638, 80639, 80686, 80687, 80689, 80796, 80797, 80798, 80799, 80801, 80802, 80803, 80804, 80805, 80807, 80809, 80933, 80935, 80937, 80939, 80992, 80993, 80995, 80997, 80999, 81241, 81243, 81245, 81247, 81249, 81369, 81371, 81373, 81375, 81377, 81379, 81475, 81476, 81477, 81479, 81539, 81541, 81543, 81545, 81547, 81549, 81667, 81669, 81671, 81673, 81675, 81677, 81679, 81735, 81737, 81739, 81825, 81827, 81829, 81925, 81927, 81929, 82008, 82024, 82031, 82041, 82049, 82054, 82057, 82061, 82064, 82065, 82067, 82069, 82110, 82131, 82140, 82152, 82166, 82178, 82194, 82205, 82211, 82216, 82223, 82229, 82234, 82237, 82239, 82256, 82266, 82269, 82272, 82275, 82276, 82278, 82279, 82281, 82284, 82285, 82287, 82288, 82290, 82291, 82293, 82294, 82296, 82297, 82299, 82319, 82327, 82335, 82340, 82343, 82346, 82347, 82349, 82362, 82377, 82380, 82383, 82386, 82387, 82389, 82390, 82392, 82393, 82395, 82396, 82398, 82399, 82401, 82402, 82404, 82405, 82407, 82409, 82418, 82431, 82432, 82433, 82435, 82436, 82438, 82439, 82441, 82442, 82444, 82445, 82447, 82449, 82467, 82481, 82487, 82488, 82490, 82491, 82493, 82494, 82496, 82497, 82499, 82515, 82538, 82541, 82544, 82547, 82549, 83022, 83024, 83026, 83043, 83052, 83059, 83064, 83071, 83075, 83080, 83083, 83088, 83093, 83098, 83101, 83104, 83109, 83112, 83115, 83119, 83122, 83123, 83125, 83126, 83128, 83129, 83131, 83132, 83134, 83135, 83137, 83139, 83209, 83224, 83229, 83233, 83236, 83242, 83246, 83250, 83253, 83254, 83256, 83257, 83259, 83278, 83301, 83308, 83313, 83317, 83324, 83329, 83334, 83339, 83342, 83346, 83349, 83352, 83355, 83358, 83361, 83362, 83364, 83365, 83367, 83368, 83370, 83371, 83373, 83374, 83376, 83377, 83379, 83395, 83404, 83410, 83413, 83416, 83417, 83435, 83451, 83454, 83457, 83458, 83471, 83483, 83486, 83487, 83512, 83527, 83530, 83533, 83536, 83539, 83543, 83544, 83546, 83547, 83549, 83550, 83553, 83555, 83556, 83558, 83561, 83562, 83564, 83565, 83567, 83569, 83607, 83620, 83623, 83624, 83626, 83627, 83629, 83646, 83661, 83666, 83670, 83671, 83673, 83674, 83676, 83677, 83679, 83684, 83700, 83703, 83707, 83708, 83714, 83727, 83730, 83734, 83735, 83737, 84028, 84030, 84032, 84034, 84036, 84048, 84051, 84056, 84061, 84066, 84069, 84072, 84076, 84079, 84082, 84085, 84088, 84089, 84091, 84092, 84094, 84095, 84097, 84098, 84100, 84101, 84103, 84104, 84106, 84107, 84109, 84130, 84137, 84140, 84144, 84149, 84152, 84155, 84160, 84163, 84164, 84166, 84168, 84169, 84172, 84174, 84175, 84177, 84178, 84180, 84181, 84183, 84184, 84186, 84187, 84189, 84307, 84323, 84326, 84329, 84332, 84333, 84335, 84337, 84339, 84347, 84359, 84364, 84367, 84371, 84375, 84378, 84381, 84384, 84385, 84387, 84389, 84405, 84416, 84419, 84424, 84427, 84428, 84431, 84432, 84434, 84435, 84437, 84439, 84453, 84478, 84489, 84494, 84503, 84508, 84513, 84518, 84524, 84529, 84533, 84539, 84543, 84544, 84546, 84547, 84549, 84550, 84552, 84553, 84555, 84556, 84558, 84559, 84561, 84562, 84564, 84565, 84567, 84568, 84570, 84571, 84573, 84574, 84576, 84577, 84579, 85045, 85049, 85051, 85053, 85055, 85057, 85071, 85072, 85077, 85080, 85084, 85088, 85092, 85095, 85098, 85101, 85104, 85107, 85110, 85111, 85113, 85114, 85117, 85119, 85120, 85122, 85123, 85125, 85126, 85128, 85129, 85131, 85132, 85134, 85135, 85137, 85139, 85221, 85229, 85232, 85235, 85238, 85241, 85244, 85247, 85250, 85253, 85254, 85256, 85258, 85259, 85276, 85283, 85290, 85293, 85296, 85298, 85301, 85302, 85304, 85305, 85307, 85309, 85354, 85356, 85368, 85375, 85376, 85386, 85391, 85395, 85399, 85402, 85405, 85406, 85408, 85410, 85411, 85413, 85414, 85416, 85417, 85419, 85435, 85445, 85447, 85452, 85456, 85457, 85459, 85461, 85462, 85464, 85465, 85467, 85469, 85521, 85540, 85551, 85560, 85567, 85570, 85579, 85586, 85591, 85598, 85599, 85604, 85609, 85614, 85617, 85622, 85625, 85630, 85635, 85640, 85643, 85646, 85649, 85652, 85653, 85656, 85658, 85659, 85661, 85662, 85664, 85665, 85667, 85669, 85716, 85737, 85748, 85757, 85764, 85774, 85777, 85778, 86150, 86152, 86153, 86154, 86156, 86157, 86159, 86161, 86163, 86165, 86167, 86169, 86179, 86199, 86316, 86343, 86356, 86368, 86381, 86391, 86399, 86405, 86415, 86420, 86424, 86438, 86441, 86444, 86447, 86450, 86453, 86456, 86459, 86462, 86465, 86470, 86473, 86476, 86477, 86479, 86480, 86482, 86483, 86485, 86486, 86488, 86489, 86491, 86492, 86494, 86495, 86497, 86498, 86500, 86502, 86504, 86505, 86507, 86508, 86510, 86511, 86513, 86514, 86517, 86519, 86529, 86551, 86554, 86556, 86558, 86559, 86561, 86562, 86564, 86565, 86567, 86568, 86570, 86571, 86573, 86574, 86576, 86577, 86579, 86609, 86633, 86637, 86641, 86643, 86647, 86650, 86653, 86655, 86657, 86660, 86663, 86666, 86668, 86669, 86672, 86673, 86674, 86675, 86676, 86678, 86679, 86681, 86682, 86684, 86685, 86687, 86688, 86690, 86692, 86694, 86695, 86697, 86698, 86700, 86701, 86703, 86704, 86706, 86707, 86720, 86732, 86733, 86735, 86736, 86738, 86739, 86742, 86744, 86748, 86750, 86751, 86753, 86754, 86756, 86757, 86759, 86807, 86825, 86830, 86833, 86836, 86842, 86845, 86850, 86853, 86854, 86856, 86857, 86859, 86860, 86862, 86863, 86865, 86866, 86868, 86869, 86871, 86872, 86874, 86875, 86877, 86879, 86899, 86911, 86916, 86919, 86920, 86922, 86923, 86925, 86926, 86928, 86929, 86931, 86932, 86934, 86935, 86937, 86938, 86940, 86943, 86944, 86946, 86947, 86949, 86956, 86971, 86972, 86974, 86975, 86977, 86978, 86980, 86981, 86983, 86984, 86986, 86987, 86989, 87435, 87437, 87439, 87448, 87452, 87459, 87463, 87466, 87471, 87474, 87477, 87480, 87484, 87487, 87488, 87490, 87493, 87494, 87496, 87497, 87499, 87509, 87527, 87534, 87538, 87541, 87544, 87545, 87547, 87549, 87561, 87567, 87569, 87600, 87616, 87629, 87634, 87637, 87640, 87642, 87645, 87647, 87648, 87650, 87651, 87653, 87654, 87656, 87657, 87659, 87660, 87662, 87663, 87665, 87666, 87668, 87669, 87671, 87672, 87674, 87675, 87677, 87679, 87700, 87719, 87724, 87727, 87730, 87733, 87734, 87736, 87737, 87739, 87740, 87742, 87743, 87745, 87746, 87748, 87749, 87751, 87752, 87754, 87755, 87757, 87758, 87760, 87761, 87763, 87764, 87766, 87767, 87769, 87770, 87772, 87773, 87775, 87776, 87778, 87779, 87781, 87782, 87784, 87785, 87787, 87789, 88045, 88046, 88048, 88069, 88074, 88079, 88085, 88090, 88094, 88097, 88099, 88131, 88138, 88142, 88145, 88147, 88149, 88161, 88167, 88171, 88175, 88178, 88179, 88212, 88213, 88214, 88239, 88250, 88255, 88260, 88263, 88267, 88271, 88273, 88276, 88279, 88281, 88284, 88285, 88287, 88289, 88299, 88316, 88317, 88319, 88326, 88339, 88348, 88353, 88356, 88361, 88364, 88367, 88368, 88370, 88371, 88373, 88374, 88377, 88379, 88400, 88410, 88416, 88422, 88427, 88430, 88433, 88436, 88437, 88441, 88444, 88447, 88448, 88450, 88451, 88453, 88454, 88456, 88457, 88459, 88471, 88477, 88480, 88481, 88483, 88484, 88486, 88487, 88489, 88499, 88512, 88515, 88518, 88521, 88524, 88525, 88527, 88529, 88605, 88630, 88631, 88633, 88634, 88636, 88637, 88639, 88662, 88677, 88682, 88690, 88693, 88696, 88697, 88699, 88709, 88718, 88719, 89073, 89075, 89077, 89079, 89081, 89129, 89134, 89143, 89150, 89155, 89160, 89165, 89168, 89171, 89173, 89174, 89176, 89179, 89180, 89182, 89183, 89185, 89186, 89188, 89191, 89192, 89194, 89195, 89197, 89198, 89231, 89233, 89250, 89257, 89264, 89269, 89275, 89278, 89281, 89284, 89287, 89290, 89291, 89293, 89294, 89296, 89297, 89299, 89312, 89331, 89335, 89340, 89343, 89344, 89346, 89347, 89349, 89350, 89352, 89353, 89355, 89356, 89358, 89359, 89361, 89362, 89364, 89365, 89367, 89407, 89415, 89420, 89423, 89426, 89428, 89429, 89431, 89434, 89435, 89437, 89438, 89440, 89441, 89443, 89446, 89447, 89518, 89520, 89522, 89537, 89542, 89547, 89551, 89555, 89558, 89561, 89564, 89567, 89568, 89584, 89597, 89601, 89604, 89605, 89607, 89608, 89610, 89611, 89613, 89614, 89616, 89619, 90402, 90403, 90408, 90409, 90411, 90419, 90425, 90427, 90429, 90431, 90439, 90441, 90443, 90449, 90451, 90453, 90455, 90459, 90461, 90469, 90471, 90473, 90475, 90478, 90480, 90482, 90489, 90491, 90513, 90518, 90522, 90530, 90537, 90542, 90547, 90552, 90556, 90559, 90562, 90571, 90574, 90579, 90584, 90587, 90592, 90596, 90599, 90602, 90607, 90610, 90613, 90614, 90616, 90617, 90619, 90762, 90763, 90765, 90766, 90768, 91052, 91054, 91056, 91058, 91074, 91077, 91080, 91083, 91085, 91086, 91088, 91090, 91091, 91093, 91094, 91096, 91097, 91099, 91126, 91154, 91161, 91166, 91171, 91174, 91177, 91180, 91183, 91186, 91187, 91189, 91207, 91217, 91220, 91224, 91227, 91230, 91233, 91235, 91236, 91238, 91239, 91241, 91242, 91244, 91245, 91247, 91257, 91275, 91278, 91281, 91282, 91284, 91286, 91287, 91289, 91301, 91315, 91320, 91322, 91325, 91327, 91330, 91332, 91334, 91336, 91338, 91341, 91344, 91346, 91347, 91349, 91350, 91352, 91353, 91355, 91356, 91358, 91359, 91361, 91362, 91364, 91365, 91367, 91369, 91413, 91438, 91443, 91448, 91452, 91456, 91459, 91460, 91462, 91463, 91465, 91466, 91468, 91472, 91474, 91475, 91477, 91478, 91480, 91481, 91484, 91486, 91487, 91489, 91522, 91541, 91550, 91555, 91560, 91564, 91567, 91572, 91575, 91578, 91580, 91583, 91586, 91587, 91589, 91590, 91592, 91593, 91595, 91596, 91598, 91599, 91601, 91602, 91604, 91605, 91607, 91608, 91610, 91611, 91613, 91614, 91616, 91617, 91619, 91622, 91623, 91625, 91626, 91628, 91629, 91631, 91632, 91634, 91635, 91637, 91639, 91710, 91717, 91719, 91720, 91722, 91723, 91725, 91726, 91728, 91729, 91731, 91732, 91734, 91735, 91737, 91738, 91740, 91741, 91743, 91744, 91746, 91747, 91749, 91757, 91781, 91785, 91788, 91790, 91792, 91793, 91795, 91798, 91799, 91802, 91804, 91805, 91807, 91809, 92224, 92237, 92242, 92245, 92249, 92253, 92256, 92259, 92260, 92262, 92263, 92265, 92266, 92268, 92269, 92271, 92272, 92274, 92275, 92277, 92278, 92280, 92281, 92283, 92284, 92286, 92287, 92289, 92318, 92331, 92334, 92339, 92342, 92345, 92348, 92353, 92355, 92358, 92360, 92361, 92363, 92364, 92366, 92367, 92369, 92421, 92431, 92436, 92439, 92442, 92444, 92445, 92447, 92449, 92507, 92521, 92526, 92533, 92536, 92539, 92542, 92543, 92545, 92546, 92548, 92549, 92551, 92552, 92554, 92555, 92557, 92559, 92637, 92648, 92655, 92660, 92665, 92670, 92676, 92681, 92685, 92690, 92693, 92694, 92696, 92697, 92699, 92700, 92702, 92703, 92705, 92706, 92708, 92709, 92711, 92712, 92714, 92715, 92717, 92718, 92720, 92721, 92723, 92726, 92727, 92729, 93047, 93049, 93051, 93053, 93055, 93057, 93059, 93073, 93077, 93080, 93083, 93086, 93087, 93089, 93090, 93092, 93093, 93095, 93096, 93098, 93099, 93101, 93102, 93104, 93105, 93107, 93109, 93128, 93133, 93138, 93142, 93149, 93152, 93155, 93158, 93161, 93164, 93167, 93170, 93173, 93176, 93177, 93179, 93180, 93182, 93183, 93185, 93186, 93188, 93189, 93191, 93192, 93194, 93195, 93197, 93199, 93309, 93326, 93333, 93336, 93339, 93342, 93343, 93345, 93346, 93348, 93349, 93351, 93352, 93354, 93356, 93358, 93359, 93413, 93426, 93437, 93444, 93449, 93453, 93455, 93458, 93462, 93464, 93466, 93468, 93470, 93471, 93473, 93474, 93476, 93477, 93479, 93480, 93482, 93483, 93485, 93486, 93488, 93489, 93491, 93492, 93494, 93495, 93497, 93499, 94032, 94034, 94036, 94051, 94060, 94065, 94072, 94078, 94081, 94086, 94089, 94094, 94099, 94104, 94107, 94110, 94113, 94116, 94118, 94121, 94124, 94127, 94130, 94133, 94136, 94137, 94139, 94140, 94143, 94145, 94146, 94148, 94149, 94151, 94152, 94154, 94157, 94158, 94160, 94161, 94163, 94164, 94166, 94167, 94169, 94209, 94227, 94234, 94239, 94244, 94249, 94250, 94252, 94253, 94255, 94256, 94258, 94259, 94261, 94262, 94264, 94265, 94267, 94269, 94315, 94327, 94330, 94333, 94336, 94339, 94342, 94344, 94345, 94347, 94348, 94350, 94351, 94353, 94354, 94356, 94357, 94359, 94360, 94362, 94363, 94365, 94366, 94368, 94369, 94371, 94372, 94374, 94375, 94377, 94379, 94405, 94419, 94424, 94428, 94431, 94436, 94437, 94439, 94447, 94469, 94474, 94481, 94486, 94491, 94496, 94501, 94505, 94508, 94513, 94518, 94522, 94526, 94527, 94529, 94530, 94532, 94533, 94535, 94536, 94538, 94539, 94541, 94542, 94544, 94545, 94547, 94548, 94550, 94551, 94553, 94554, 94556, 94557, 94559, 94560, 94562, 94563, 94566, 94568, 94569, 94571, 94572, 94574, 94575, 94577, 94579, 95028, 95030, 95032, 95100, 95111, 95119, 95126, 95131, 95138, 95145, 95152, 95158, 95163, 95168, 95173, 95176, 95179, 95180, 95182, 95183, 95185, 95186, 95188, 95189, 95191, 95192, 95194, 95195, 95197, 95199, 95213, 95233, 95234, 95236, 95237, 95239, 95326, 95336, 95339, 95346, 95349, 95352, 95355, 95356, 95358, 95359, 95361, 95362, 95364, 95365, 95367, 95369, 95444, 95445, 95447, 95448, 95460, 95463, 95466, 95469, 95473, 95478, 95482, 95485, 95488, 95490, 95491, 95493, 95494, 95496, 95497, 95499, 95500, 95502, 95503, 95505, 95506, 95508, 95509, 95511, 95512, 95514, 95515, 95517, 95519, 95615, 95632, 95643, 95652, 95659, 95666, 95671, 95676, 95679, 95682, 95683, 95685, 95686, 95688, 95689, 95691, 95692, 95694, 95695, 95697, 95698, 95700, 95701, 95703, 95704, 95706, 95707, 95709, 96047, 96049, 96050, 96052, 96103, 96106, 96110, 96114, 96117, 96120, 96123, 96126, 96129, 96132, 96135, 96138, 96142, 96145, 96146, 96148, 96149, 96151, 96152, 96154, 96155, 96157, 96158, 96160, 96161, 96163, 96164, 96166, 96167, 96169, 96170, 96172, 96173, 96175, 96176, 96178, 96179, 96181, 96182, 96184, 96185, 96187, 96188, 96190, 96191, 96193, 96194, 96196, 96197, 96199, 96215, 96224, 96231, 96237, 96242, 96247, 96250, 96253, 96257, 96260, 96264, 96268, 96269, 96271, 96272, 96274, 96275, 96277, 96279, 96317, 96328, 96332, 96337, 96342, 96346, 96349, 96352, 96355, 96358, 96361, 96364, 96365, 96369, 96450, 96465, 96472, 96476, 96479, 96482, 96484, 96486, 96487, 96489, 96515, 96523, 96524, 96528, 96529, 97070, 97072, 97074, 97076, 97078, 97080, 97082, 97084, 97199, 97204, 97209, 97215, 97218, 97222, 97225, 97228, 97230, 97232, 97234, 97236, 97237, 97241, 97243, 97244, 97246, 97247, 97249, 97250, 97252, 97253, 97255, 97256, 97258, 97259, 97261, 97262, 97264, 97265, 97267, 97268, 97270, 97271, 97273, 97274, 97276, 97277, 97279, 97280, 97282, 97283, 97285, 97286, 97288, 97289, 97291, 97292, 97294, 97295, 97297, 97299, 97318, 97320, 97332, 97334, 97337, 97340, 97342, 97346, 97348, 97350, 97353, 97355, 97357, 97359, 97421, 97422, 97424, 97437, 97440, 97447, 97450, 97453, 97456, 97461, 97464, 97469, 97475, 97478, 97483, 97486, 97488, 97490, 97491, 97493, 97494, 97496, 97497, 97499, 97500, 97502, 97503, 97505, 97506, 97508, 97509, 97511, 97514, 97516, 97517, 97519, 97520, 97522, 97523, 97525, 97526, 97528, 97529, 97531, 97532, 97534, 97535, 97537, 97539, 97616, 97618, 97631, 97633, 97638, 97640, 97645, 97647, 97650, 97653, 97654, 97656, 97657, 97659, 97688, 97702, 97705, 97708, 97711, 97714, 97717, 97720, 97723, 97724, 97725, 97727, 97729, 97737, 97753, 97762, 97769, 97772, 97773, 97775, 97776, 97778, 97779, 97780, 97782, 97783, 97785, 97786, 97788, 97789, 97791, 97792, 97794, 97795, 97797, 97799, 97816, 97828, 97833, 97834, 97836, 97837, 97839, 97840, 97842, 97843, 97845, 97846, 97848, 97851, 97854, 97855, 97857, 97877, 97892, 97896, 97900, 97901, 97903, 97904, 97906, 97907, 97909, 97922, 97941, 97944, 97947, 97950, 97953, 97956, 97957, 97959, 97980, 97990, 97993, 97996, 97999, 98527, 98528, 98529, 98530, 98544, 98547, 98553, 98554, 98559, 98574, 98587, 98590, 98593, 98596, 98597, 98599, 98617, 98630, 98631, 98634, 98639, 98646, 98660, 98663, 98666, 98667, 98669, 98673, 98678, 98693, 98701, 98704, 98708, 98711, 98716, 98724, 98739, 98743, 98744, 98746, 98749, 99084, 99085, 99086, 99087, 99089, 99090, 99091, 99092, 99094, 99095, 99096, 99097, 99098, 99099, 99100, 99102, 99189, 99192, 99195, 99198, 99310, 99326, 99330, 99334, 99338, 99423, 99425, 99427, 99428, 99438, 99439, 99441, 99444, 99448, 99510, 99518, 99610, 99625, 99628, 99631, 99634, 99636, 99638, 99706, 99713, 99718, 99734, 99735, 99752, 99755, 99759, 99762, 99765, 99768, 99817, 99819, 99820, 99826, 99830, 99831, 99834, 99837, 99842, 99846, 99848, 99867, 99869, 99880, 99885, 99887, 99891, 99894, 99897, 99898, 99947, 99955, 99958, 99974, 99976, 99986, 99988, 99991, 99994, 99996, 99998]\n",
      "\n"
     ]
    }
   ],
   "source": [
    "# просмотр уникальных значений\n",
    "for i in num_columns:\n",
    "    unique_for(data, i)"
   ]
  },
  {
   "cell_type": "code",
   "execution_count": 23,
   "metadata": {},
   "outputs": [
    {
     "name": "stdout",
     "output_type": "stream",
     "text": [
      "Уникальные значения VehicleType\n",
      "['bus', 'convertible', 'coupe', 'other', 'sedan', 'small', 'suv', 'unknown', 'wagon']\n",
      "\n"
     ]
    }
   ],
   "source": [
    "unique_for(data, 'VehicleType')"
   ]
  },
  {
   "cell_type": "code",
   "execution_count": 24,
   "metadata": {
    "scrolled": true
   },
   "outputs": [
    {
     "name": "stdout",
     "output_type": "stream",
     "text": [
      "Уникальные значения DateCrawled\n",
      "[datetime.date(2016, 3, 5), datetime.date(2016, 3, 6), datetime.date(2016, 3, 7), datetime.date(2016, 3, 8), datetime.date(2016, 3, 9), datetime.date(2016, 3, 10), datetime.date(2016, 3, 11), datetime.date(2016, 3, 12), datetime.date(2016, 3, 13), datetime.date(2016, 3, 14), datetime.date(2016, 3, 15), datetime.date(2016, 3, 16), datetime.date(2016, 3, 17), datetime.date(2016, 3, 18), datetime.date(2016, 3, 19), datetime.date(2016, 3, 20), datetime.date(2016, 3, 21), datetime.date(2016, 3, 22), datetime.date(2016, 3, 23), datetime.date(2016, 3, 24), datetime.date(2016, 3, 25), datetime.date(2016, 3, 26), datetime.date(2016, 3, 27), datetime.date(2016, 3, 28), datetime.date(2016, 3, 29), datetime.date(2016, 3, 30), datetime.date(2016, 3, 31), datetime.date(2016, 4, 1), datetime.date(2016, 4, 2), datetime.date(2016, 4, 3), datetime.date(2016, 4, 4), datetime.date(2016, 4, 5), datetime.date(2016, 4, 6), datetime.date(2016, 4, 7)]\n",
      "\n",
      "Уникальные значения VehicleType\n",
      "['bus', 'convertible', 'coupe', 'other', 'sedan', 'small', 'suv', 'unknown', 'wagon']\n",
      "\n",
      "Уникальные значения Gearbox\n",
      "['auto', 'manual']\n",
      "\n",
      "Уникальные значения Model\n",
      "['100', '145', '147', '156', '159', '1_reihe', '1er', '200', '2_reihe', '300c', '3_reihe', '3er', '4_reihe', '500', '5_reihe', '5er', '601', '6_reihe', '6er', '7er', '80', '850', '90', '900', '9000', '911', 'a1', 'a2', 'a3', 'a4', 'a5', 'a6', 'a8', 'a_klasse', 'accord', 'agila', 'alhambra', 'almera', 'altea', 'amarok', 'antara', 'arosa', 'astra', 'auris', 'avensis', 'aveo', 'aygo', 'b_klasse', 'b_max', 'beetle', 'berlingo', 'bora', 'boxster', 'bravo', 'c1', 'c2', 'c3', 'c4', 'c5', 'c_klasse', 'c_max', 'c_reihe', 'caddy', 'calibra', 'captiva', 'carisma', 'carnival', 'cayenne', 'cc', 'ceed', 'charade', 'cherokee', 'citigo', 'civic', 'cl', 'clio', 'clk', 'clubman', 'colt', 'combo', 'cooper', 'cordoba', 'corolla', 'corsa', 'cr_reihe', 'croma', 'crossfire', 'cuore', 'cx_reihe', 'defender', 'delta', 'discovery', 'doblo', 'ducato', 'duster', 'e_klasse', 'elefantino', 'eos', 'escort', 'espace', 'exeo', 'fabia', 'fiesta', 'focus', 'forester', 'forfour', 'fortwo', 'fox', 'freelander', 'fusion', 'g_klasse', 'galant', 'galaxy', 'getz', 'gl', 'glk', 'golf', 'grand', 'i3', 'i_reihe', 'ibiza', 'impreza', 'insignia', 'jazz', 'jetta', 'jimny', 'juke', 'justy', 'ka', 'kadett', 'kaefer', 'kalina', 'kalos', 'kangoo', 'kappa', 'kuga', 'laguna', 'lancer', 'lanos', 'legacy', 'leon', 'lodgy', 'logan', 'lupo', 'lybra', 'm_klasse', 'm_reihe', 'materia', 'matiz', 'megane', 'meriva', 'micra', 'mii', 'modus', 'mondeo', 'move', 'musa', 'mustang', 'mx_reihe', 'navara', 'niva', 'note', 'nubira', 'octavia', 'omega', 'one', 'other', 'outlander', 'pajero', 'panda', 'passat', 'phaeton', 'picanto', 'polo', 'primera', 'ptcruiser', 'punto', 'q3', 'q5', 'q7', 'qashqai', 'r19', 'range_rover', 'range_rover_evoque', 'range_rover_sport', 'rangerover', 'rav', 'rio', 'roadster', 'roomster', 'rx_reihe', 's60', 's_klasse', 's_max', 's_type', 'samara', 'sandero', 'santa', 'scenic', 'scirocco', 'seicento', 'serie_1', 'serie_2', 'serie_3', 'sharan', 'signum', 'sirion', 'sl', 'slk', 'sorento', 'spark', 'spider', 'sportage', 'sprinter', 'stilo', 'superb', 'swift', 'terios', 'tigra', 'tiguan', 'toledo', 'touareg', 'touran', 'transit', 'transporter', 'tt', 'tucson', 'twingo', 'up', 'v40', 'v50', 'v60', 'v70', 'v_klasse', 'vectra', 'verso', 'viano', 'vito', 'vivaro', 'voyager', 'wrangler', 'x_reihe', 'x_trail', 'x_type', 'xc_reihe', 'yaris', 'yeti', 'ypsilon', 'z_reihe', 'zafira']\n",
      "\n",
      "Уникальные значения FuelType\n",
      "['cng', 'electric', 'gasoline', 'hybrid', 'lpg', 'other', 'petrol', 'unknown']\n",
      "\n",
      "Уникальные значения Brand\n",
      "['alfa_romeo', 'audi', 'bmw', 'chevrolet', 'chrysler', 'citroen', 'dacia', 'daewoo', 'daihatsu', 'fiat', 'ford', 'honda', 'hyundai', 'jaguar', 'jeep', 'kia', 'lada', 'lancia', 'land_rover', 'mazda', 'mercedes_benz', 'mini', 'mitsubishi', 'nissan', 'opel', 'peugeot', 'porsche', 'renault', 'rover', 'saab', 'seat', 'skoda', 'smart', 'subaru', 'suzuki', 'toyota', 'trabant', 'volkswagen', 'volvo']\n",
      "\n",
      "Уникальные значения Repaired\n",
      "['no', 'unknown', 'yes']\n",
      "\n",
      "Уникальные значения DateCreated\n",
      "[datetime.date(2015, 3, 20), datetime.date(2015, 8, 7), datetime.date(2015, 8, 10), datetime.date(2015, 9, 4), datetime.date(2015, 9, 9), datetime.date(2015, 11, 2), datetime.date(2015, 11, 8), datetime.date(2015, 11, 10), datetime.date(2015, 11, 12), datetime.date(2015, 11, 17), datetime.date(2015, 11, 23), datetime.date(2015, 11, 24), datetime.date(2015, 12, 5), datetime.date(2015, 12, 6), datetime.date(2015, 12, 17), datetime.date(2015, 12, 27), datetime.date(2015, 12, 30), datetime.date(2016, 1, 2), datetime.date(2016, 1, 6), datetime.date(2016, 1, 7), datetime.date(2016, 1, 8), datetime.date(2016, 1, 10), datetime.date(2016, 1, 13), datetime.date(2016, 1, 15), datetime.date(2016, 1, 16), datetime.date(2016, 1, 17), datetime.date(2016, 1, 18), datetime.date(2016, 1, 19), datetime.date(2016, 1, 20), datetime.date(2016, 1, 22), datetime.date(2016, 1, 23), datetime.date(2016, 1, 24), datetime.date(2016, 1, 25), datetime.date(2016, 1, 26), datetime.date(2016, 1, 27), datetime.date(2016, 1, 28), datetime.date(2016, 1, 29), datetime.date(2016, 1, 30), datetime.date(2016, 1, 31), datetime.date(2016, 2, 1), datetime.date(2016, 2, 2), datetime.date(2016, 2, 3), datetime.date(2016, 2, 4), datetime.date(2016, 2, 5), datetime.date(2016, 2, 6), datetime.date(2016, 2, 7), datetime.date(2016, 2, 8), datetime.date(2016, 2, 9), datetime.date(2016, 2, 10), datetime.date(2016, 2, 11), datetime.date(2016, 2, 12), datetime.date(2016, 2, 13), datetime.date(2016, 2, 14), datetime.date(2016, 2, 15), datetime.date(2016, 2, 16), datetime.date(2016, 2, 17), datetime.date(2016, 2, 18), datetime.date(2016, 2, 19), datetime.date(2016, 2, 20), datetime.date(2016, 2, 21), datetime.date(2016, 2, 22), datetime.date(2016, 2, 23), datetime.date(2016, 2, 24), datetime.date(2016, 2, 25), datetime.date(2016, 2, 26), datetime.date(2016, 2, 27), datetime.date(2016, 2, 28), datetime.date(2016, 2, 29), datetime.date(2016, 3, 1), datetime.date(2016, 3, 2), datetime.date(2016, 3, 3), datetime.date(2016, 3, 4), datetime.date(2016, 3, 5), datetime.date(2016, 3, 6), datetime.date(2016, 3, 7), datetime.date(2016, 3, 8), datetime.date(2016, 3, 9), datetime.date(2016, 3, 10), datetime.date(2016, 3, 11), datetime.date(2016, 3, 12), datetime.date(2016, 3, 13), datetime.date(2016, 3, 14), datetime.date(2016, 3, 15), datetime.date(2016, 3, 16), datetime.date(2016, 3, 17), datetime.date(2016, 3, 18), datetime.date(2016, 3, 19), datetime.date(2016, 3, 20), datetime.date(2016, 3, 21), datetime.date(2016, 3, 22), datetime.date(2016, 3, 23), datetime.date(2016, 3, 24), datetime.date(2016, 3, 25), datetime.date(2016, 3, 26), datetime.date(2016, 3, 27), datetime.date(2016, 3, 28), datetime.date(2016, 3, 29), datetime.date(2016, 3, 30), datetime.date(2016, 3, 31), datetime.date(2016, 4, 1), datetime.date(2016, 4, 2), datetime.date(2016, 4, 3), datetime.date(2016, 4, 4), datetime.date(2016, 4, 5), datetime.date(2016, 4, 6), datetime.date(2016, 4, 7)]\n",
      "\n",
      "Уникальные значения LastSeen\n",
      "[datetime.date(2016, 3, 5), datetime.date(2016, 3, 6), datetime.date(2016, 3, 7), datetime.date(2016, 3, 8), datetime.date(2016, 3, 9), datetime.date(2016, 3, 10), datetime.date(2016, 3, 11), datetime.date(2016, 3, 12), datetime.date(2016, 3, 13), datetime.date(2016, 3, 14), datetime.date(2016, 3, 15), datetime.date(2016, 3, 16), datetime.date(2016, 3, 17), datetime.date(2016, 3, 18), datetime.date(2016, 3, 19), datetime.date(2016, 3, 20), datetime.date(2016, 3, 21), datetime.date(2016, 3, 22), datetime.date(2016, 3, 23), datetime.date(2016, 3, 24), datetime.date(2016, 3, 25), datetime.date(2016, 3, 26), datetime.date(2016, 3, 27), datetime.date(2016, 3, 28), datetime.date(2016, 3, 29), datetime.date(2016, 3, 30), datetime.date(2016, 3, 31), datetime.date(2016, 4, 1), datetime.date(2016, 4, 2), datetime.date(2016, 4, 3), datetime.date(2016, 4, 4), datetime.date(2016, 4, 5), datetime.date(2016, 4, 6), datetime.date(2016, 4, 7)]\n",
      "\n"
     ]
    }
   ],
   "source": [
    "# просмотр уникальных object\n",
    "for i in object_columns:\n",
    "    unique_for(data, i)"
   ]
  },
  {
   "cell_type": "code",
   "execution_count": null,
   "metadata": {},
   "outputs": [],
   "source": []
  },
  {
   "cell_type": "code",
   "execution_count": 25,
   "metadata": {
    "id": "VlToc-66JQEu"
   },
   "outputs": [],
   "source": [
    "# удалим аномальные значения\n",
    "data = data.loc[(data['Power']<= 1000) & (data['Power'] >= 1)]\n",
    "data = data.loc[(data['RegistrationYear'] >= 1900) & (data['RegistrationYear'] <= 2016)]\n",
    "data = data.loc[(data['Price'] >= 100)]\n",
    "data = data.loc[(data['RegistrationMonth'] >= 1)]\n"
   ]
  },
  {
   "cell_type": "code",
   "execution_count": 26,
   "metadata": {
    "id": "zira5D88JQEu"
   },
   "outputs": [],
   "source": [
    "def matrix_cor(data):\n",
    "    '''функция создания матрицы корреляции'''\n",
    "    plt.figure(figsize = (15,15))\n",
    "    sns.set(font_scale = 1.4)\n",
    "    cor_matrix = round(data.corr(),2)\n",
    "    sns.heatmap(cor_matrix, annot = True, linewidths = .5, cmap = 'coolwarm')\n",
    "\n",
    "    plt.title(\"Матрица корреляции числовых признаков\")\n",
    "    plt.show()"
   ]
  },
  {
   "cell_type": "code",
   "execution_count": 27,
   "metadata": {
    "id": "I_72oob3JQEu",
    "outputId": "44c0adf6-6a05-4b9c-e5cb-009f59542a12"
   },
   "outputs": [
    {
     "data": {
      "image/png": "[encoded data removed]",
      "text/plain": [
       "<Figure size 1500x1500 with 2 Axes>"
      ]
     },
     "metadata": {},
     "output_type": "display_data"
    }
   ],
   "source": [
    "# матрица корреляции\n",
    "matrix_cor(data)"
   ]
  },
  {
   "cell_type": "code",
   "execution_count": 28,
   "metadata": {
    "id": "q5pY_zjgJQEv"
   },
   "outputs": [],
   "source": [
    "# удалим излишние данные для модели\n",
    "data = data.drop(['DateCrawled',  'DateCreated', 'PostalCode', 'LastSeen', 'NumberOfPictures'], axis = 1)\n"
   ]
  },
  {
   "cell_type": "code",
   "execution_count": 29,
   "metadata": {},
   "outputs": [
    {
     "name": "stdout",
     "output_type": "stream",
     "text": [
      "<class 'pandas.core.frame.DataFrame'>\n",
      "Int64Index: 265203 entries, 2 to 354368\n",
      "Data columns (total 11 columns):\n",
      " #   Column             Non-Null Count   Dtype \n",
      "---  ------             --------------   ----- \n",
      " 0   Price              265203 non-null  int64 \n",
      " 1   VehicleType        265203 non-null  object\n",
      " 2   RegistrationYear   265203 non-null  int64 \n",
      " 3   Gearbox            265203 non-null  object\n",
      " 4   Power              265203 non-null  int64 \n",
      " 5   Model              265203 non-null  object\n",
      " 6   Kilometer          265203 non-null  int64 \n",
      " 7   RegistrationMonth  265203 non-null  int64 \n",
      " 8   FuelType           265203 non-null  object\n",
      " 9   Brand              265203 non-null  object\n",
      " 10  Repaired           265203 non-null  object\n",
      "dtypes: int64(5), object(6)\n",
      "memory usage: 24.3+ MB\n"
     ]
    }
   ],
   "source": [
    "data.info()"
   ]
  },
  {
   "cell_type": "code",
   "execution_count": 30,
   "metadata": {},
   "outputs": [
    {
     "data": {
      "text/plain": [
       "0"
      ]
     },
     "execution_count": 30,
     "metadata": {},
     "output_type": "execute_result"
    }
   ],
   "source": [
    "# КОД РЕВЬЮЕРА\n",
    "data.Repaired.isna().sum()"
   ]
  },
  {
   "cell_type": "code",
   "execution_count": 31,
   "metadata": {},
   "outputs": [
    {
     "data": {
      "text/html": [
       "<div>\n",
       "<style scoped>\n",
       "    .dataframe tbody tr th:only-of-type {\n",
       "        vertical-align: middle;\n",
       "    }\n",
       "\n",
       "    .dataframe tbody tr th {\n",
       "        vertical-align: top;\n",
       "    }\n",
       "\n",
       "    .dataframe thead th {\n",
       "        text-align: right;\n",
       "    }\n",
       "</style>\n",
       "<table border=\"1\" class=\"dataframe\">\n",
       "  <thead>\n",
       "    <tr style=\"text-align: right;\">\n",
       "      <th></th>\n",
       "      <th>Price</th>\n",
       "      <th>RegistrationYear</th>\n",
       "      <th>Power</th>\n",
       "      <th>Kilometer</th>\n",
       "      <th>RegistrationMonth</th>\n",
       "    </tr>\n",
       "  </thead>\n",
       "  <tbody>\n",
       "    <tr>\n",
       "      <th>count</th>\n",
       "      <td>265203.000000</td>\n",
       "      <td>265203.000000</td>\n",
       "      <td>265203.000000</td>\n",
       "      <td>265203.000000</td>\n",
       "      <td>265203.000000</td>\n",
       "    </tr>\n",
       "    <tr>\n",
       "      <th>mean</th>\n",
       "      <td>5081.906200</td>\n",
       "      <td>2003.089984</td>\n",
       "      <td>121.742088</td>\n",
       "      <td>127873.817415</td>\n",
       "      <td>6.383506</td>\n",
       "    </tr>\n",
       "    <tr>\n",
       "      <th>std</th>\n",
       "      <td>4663.494163</td>\n",
       "      <td>6.254440</td>\n",
       "      <td>54.183576</td>\n",
       "      <td>36678.152023</td>\n",
       "      <td>3.349092</td>\n",
       "    </tr>\n",
       "    <tr>\n",
       "      <th>min</th>\n",
       "      <td>100.000000</td>\n",
       "      <td>1910.000000</td>\n",
       "      <td>1.000000</td>\n",
       "      <td>5000.000000</td>\n",
       "      <td>1.000000</td>\n",
       "    </tr>\n",
       "    <tr>\n",
       "      <th>25%</th>\n",
       "      <td>1499.000000</td>\n",
       "      <td>1999.000000</td>\n",
       "      <td>80.000000</td>\n",
       "      <td>125000.000000</td>\n",
       "      <td>3.000000</td>\n",
       "    </tr>\n",
       "    <tr>\n",
       "      <th>50%</th>\n",
       "      <td>3499.000000</td>\n",
       "      <td>2003.000000</td>\n",
       "      <td>115.000000</td>\n",
       "      <td>150000.000000</td>\n",
       "      <td>6.000000</td>\n",
       "    </tr>\n",
       "    <tr>\n",
       "      <th>75%</th>\n",
       "      <td>7400.000000</td>\n",
       "      <td>2007.000000</td>\n",
       "      <td>150.000000</td>\n",
       "      <td>150000.000000</td>\n",
       "      <td>9.000000</td>\n",
       "    </tr>\n",
       "    <tr>\n",
       "      <th>max</th>\n",
       "      <td>20000.000000</td>\n",
       "      <td>2016.000000</td>\n",
       "      <td>1000.000000</td>\n",
       "      <td>150000.000000</td>\n",
       "      <td>12.000000</td>\n",
       "    </tr>\n",
       "  </tbody>\n",
       "</table>\n",
       "</div>"
      ],
      "text/plain": [
       "               Price  RegistrationYear          Power      Kilometer  \\\n",
       "count  265203.000000     265203.000000  265203.000000  265203.000000   \n",
       "mean     5081.906200       2003.089984     121.742088  127873.817415   \n",
       "std      4663.494163          6.254440      54.183576   36678.152023   \n",
       "min       100.000000       1910.000000       1.000000    5000.000000   \n",
       "25%      1499.000000       1999.000000      80.000000  125000.000000   \n",
       "50%      3499.000000       2003.000000     115.000000  150000.000000   \n",
       "75%      7400.000000       2007.000000     150.000000  150000.000000   \n",
       "max     20000.000000       2016.000000    1000.000000  150000.000000   \n",
       "\n",
       "       RegistrationMonth  \n",
       "count      265203.000000  \n",
       "mean            6.383506  \n",
       "std             3.349092  \n",
       "min             1.000000  \n",
       "25%             3.000000  \n",
       "50%             6.000000  \n",
       "75%             9.000000  \n",
       "max            12.000000  "
      ]
     },
     "execution_count": 31,
     "metadata": {},
     "output_type": "execute_result"
    }
   ],
   "source": [
    "# КОД РЕВЬЮЕРА\n",
    "data.describe()"
   ]
  },
  {
   "cell_type": "code",
   "execution_count": 32,
   "metadata": {},
   "outputs": [
    {
     "data": {
      "text/plain": [
       "22375"
      ]
     },
     "execution_count": 32,
     "metadata": {},
     "output_type": "execute_result"
    }
   ],
   "source": [
    "# КОД РЕВЬЮЕРА\n",
    "data.duplicated().sum()"
   ]
  },
  {
   "cell_type": "code",
   "execution_count": 33,
   "metadata": {},
   "outputs": [
    {
     "data": {
      "text/plain": [
       "265203"
      ]
     },
     "execution_count": 33,
     "metadata": {},
     "output_type": "execute_result"
    }
   ],
   "source": [
    "data.shape[0]"
   ]
  },
  {
   "cell_type": "code",
   "execution_count": 34,
   "metadata": {},
   "outputs": [],
   "source": [
    "data = data.drop_duplicates()"
   ]
  },
  {
   "cell_type": "code",
   "execution_count": 35,
   "metadata": {},
   "outputs": [
    {
     "data": {
      "text/plain": [
       "242828"
      ]
     },
     "execution_count": 35,
     "metadata": {},
     "output_type": "execute_result"
    }
   ],
   "source": [
    "data.shape[0]"
   ]
  },
  {
   "cell_type": "markdown",
   "metadata": {},
   "source": [
    "**Вывод:** Были удалены пропуски в датасете и излишние колонки, которые в дальнейшем могли перегрузить модель признаками. После всех манипуляция датасет составляет 242828 строчку. Целенаправлено не были заполнены пустые значения в Repaired т.к. это значмый фактор для образования цены. Так же не были удалены автомобили с датой регистрации 1900 и более годов, и автомобили с экстримально минимальной ценой. Удалены дубликаты из датсета"
   ]
  },
  {
   "cell_type": "markdown",
   "metadata": {
    "id": "liXq_HsiJQEv"
   },
   "source": [
    "## Обучение моделей"
   ]
  },
  {
   "cell_type": "code",
   "execution_count": 36,
   "metadata": {},
   "outputs": [],
   "source": [
    "# глобальная переменныя\n",
    "RANDOM = 12345"
   ]
  },
  {
   "cell_type": "code",
   "execution_count": 37,
   "metadata": {
    "id": "E55EclirJQEw"
   },
   "outputs": [],
   "source": [
    "# делим датасет на признаки и таргет\n",
    "features = data.drop('Price', axis = 1)\n",
    "target = data['Price']\n"
   ]
  },
  {
   "cell_type": "code",
   "execution_count": 38,
   "metadata": {},
   "outputs": [],
   "source": [
    "# деление на обучающую выборку\n",
    "features_train, features_valid, target_train, target_valid = train_test_split(\n",
    "features, target, test_size=0.40, random_state = RANDOM, shuffle = False)"
   ]
  },
  {
   "cell_type": "code",
   "execution_count": 39,
   "metadata": {},
   "outputs": [],
   "source": [
    "# деление на валидационную и тестовую выборку\n",
    "features_valid, features_test, target_valid, target_test = train_test_split(\n",
    "features_valid, target_valid, test_size=0.30, random_state = RANDOM)"
   ]
  },
  {
   "cell_type": "code",
   "execution_count": 40,
   "metadata": {},
   "outputs": [
    {
     "name": "stdout",
     "output_type": "stream",
     "text": [
      "145696 67992 29140\n"
     ]
    }
   ],
   "source": [
    "print(features_train.shape[0], features_valid.shape[0], features_test.shape[0])"
   ]
  },
  {
   "cell_type": "code",
   "execution_count": 41,
   "metadata": {
    "id": "Q5vtOJCeJQEw",
    "outputId": "7baac3cb-1c28-4bb2-8851-c8bb112c7163"
   },
   "outputs": [
    {
     "data": {
      "text/plain": [
       "['RegistrationYear', 'Power', 'Kilometer', 'RegistrationMonth']"
      ]
     },
     "execution_count": 41,
     "metadata": {},
     "output_type": "execute_result"
    }
   ],
   "source": [
    "# целочисленные признаки\n",
    "num_features = features_train.select_dtypes(exclude=object).columns.to_list()\n",
    "num_features"
   ]
  },
  {
   "cell_type": "code",
   "execution_count": 42,
   "metadata": {
    "id": "GzNQyH-5JQEw",
    "outputId": "e17d8451-e737-4e32-9c3c-0e452a4ff12f"
   },
   "outputs": [
    {
     "data": {
      "text/plain": [
       "['VehicleType', 'Gearbox', 'Model', 'FuelType', 'Brand', 'Repaired']"
      ]
     },
     "execution_count": 42,
     "metadata": {},
     "output_type": "execute_result"
    }
   ],
   "source": [
    "# вещественные признаки\n",
    "ohe_features = features_train.select_dtypes(include=object).columns.to_list()\n",
    "ohe_features"
   ]
  },
  {
   "cell_type": "code",
   "execution_count": 43,
   "metadata": {
    "id": "9D68miBfJQEx",
    "outputId": "6ff5a9d7-6a92-4eb1-bf91-37615d649cc0"
   },
   "outputs": [
    {
     "name": "stdout",
     "output_type": "stream",
     "text": [
      "CPU times: total: 6.62 s\n",
      "Wall time: 6.87 s\n"
     ]
    }
   ],
   "source": [
    "%%time\n",
    "# get_feature_names_out\n",
    "# кодирование данных техникой OHE\n",
    "encoder_ohe = OneHotEncoder(drop='first', handle_unknown='error',sparse=False )\n",
    "\n",
    "# обучаем энкодер\n",
    "encoder_ohe.fit(features_train[ohe_features])\n",
    "\n",
    "# добавляем закодированные признаки датасет\n",
    "features_train[\n",
    "        encoder_ohe.get_feature_names()\n",
    "    ] = encoder_ohe.transform(features_train[ohe_features])\n",
    "\n",
    "# удаляем незакодированные категориальные признаки\n",
    "features_train = features_train.drop(ohe_features, axis=1)\n",
    "\n",
    "#скелер\n",
    "scaler = StandardScaler()\n",
    "\n",
    "# обучаем его\n",
    "features_train[num_features] = scaler.fit_transform(features_train[num_features])\n"
   ]
  },
  {
   "cell_type": "code",
   "execution_count": 44,
   "metadata": {},
   "outputs": [],
   "source": [
    "# энкодером, который обучен на тренировочной выборке, кодируем валидационную\n",
    "features_valid[\n",
    "        encoder_ohe.get_feature_names()\n",
    "    ] = encoder_ohe.transform(features_valid[ohe_features])\n",
    "\n",
    "features_valid = features_valid.drop(ohe_features, axis=1)\n",
    "\n",
    "# скелером масштабируем тестовую\n",
    "features_valid[num_features] = scaler.transform(\n",
    "        features_valid[num_features])\n"
   ]
  },
  {
   "cell_type": "code",
   "execution_count": 45,
   "metadata": {},
   "outputs": [],
   "source": [
    "# энкодером, который обучен на тренировочной выборке, кодируем тестовую\n",
    "features_test[\n",
    "        encoder_ohe.get_feature_names()\n",
    "    ] = encoder_ohe.transform(features_test[ohe_features])\n",
    "\n",
    "features_test = features_test.drop(ohe_features, axis=1)\n",
    "\n",
    "features_test[num_features] = scaler.transform(\n",
    "        features_test[num_features])"
   ]
  },
  {
   "cell_type": "code",
   "execution_count": 46,
   "metadata": {
    "id": "DFdkzlpCJQEx",
    "outputId": "479d5557-fb8c-46bb-dbe2-7a9d66da967f"
   },
   "outputs": [
    {
     "name": "stdout",
     "output_type": "stream",
     "text": [
      "fbest_params: {'n_jobs': -1, 'fit_intercept': True, 'copy_X': False}\n",
      "CPU times: total: 4.94 s\n",
      "Wall time: 1min 10s\n"
     ]
    }
   ],
   "source": [
    "%%time\n",
    "'''линейная регрессия обучение'''\n",
    "\n",
    "# модель\n",
    "model_lr = LinearRegression()\n",
    "\n",
    "# комбинаций гиперпараметров\n",
    "param_grid = {\n",
    "    'fit_intercept': [False, True],\n",
    "    'copy_X': [False, True],\n",
    "    'n_jobs': [-1, 0, 1],\n",
    "    }\n",
    "\n",
    "# подбор гиперпараметров\n",
    "rs_lr = RandomizedSearchCV(\n",
    "    model_lr,\n",
    "    param_distributions=param_grid,\n",
    "    scoring=\"neg_root_mean_squared_error\",\n",
    "    n_jobs=-1,\n",
    "    random_state=RANDOM\n",
    "    )\n",
    "\n",
    "# фит модели\n",
    "rs_lr.fit(features_train, target_train)\n",
    "\n",
    "# лучшие параметры\n",
    "try:\n",
    "    print('fbest_params:', {rs_lr.best_params_})\n",
    "except:\n",
    "    print('fbest_params:', dict(rs_lr.best_params_))\n"
   ]
  },
  {
   "cell_type": "code",
   "execution_count": 47,
   "metadata": {
    "id": "NsE_AcUmJQEy"
   },
   "outputs": [],
   "source": [
    "'''линейная регрессия предсказание'''\n",
    "\n",
    "prediction_lr = rs_lr.predict(features_valid)\n",
    "\n",
    "# RMSE\n",
    "RMSE_lr = mean_squared_error(target_valid, prediction_lr, squared=False)\n",
    "\n",
    "# словарь с временем модели \n",
    "time_lr = []\n",
    "\n",
    "# среднее время обучения\n",
    "time_lr.append(rs_lr.cv_results_['mean_fit_time'].mean())\n",
    "\n",
    "# среднее время опредсказания\n",
    "time_lr.append(rs_lr.cv_results_['mean_score_time'].mean())\n"
   ]
  },
  {
   "cell_type": "code",
   "execution_count": 48,
   "metadata": {
    "id": "PqPW_GE-Ll11"
   },
   "outputs": [
    {
     "name": "stdout",
     "output_type": "stream",
     "text": [
      "fbest_params: {'n_estimators': 100, 'max_depth': None}\n",
      "CPU times: total: 3min 10s\n",
      "Wall time: 8min 15s\n"
     ]
    }
   ],
   "source": [
    "%%time\n",
    "'''Случайный лес обучение'''\n",
    "# модель\n",
    "model_RF = RandomForestRegressor(random_state = RANDOM)\n",
    "\n",
    "# комбинаций гиперпараметров\n",
    "param_grid = {\n",
    "    'n_estimators': [50, 100],\n",
    "    'max_depth': [None, 5],\n",
    "    }\n",
    "\n",
    "# подбор гиперпараметров\n",
    "rs_rf = RandomizedSearchCV(\n",
    "    model_RF,\n",
    "    param_distributions=param_grid,\n",
    "    scoring=\"neg_root_mean_squared_error\",\n",
    "    n_jobs=-1,\n",
    "    random_state=RANDOM\n",
    "    )\n",
    "\n",
    "# фит модели\n",
    "rs_rf.fit(features_train, target_train)\n",
    "\n",
    "# лучшие параметры\n",
    "try:\n",
    "    print('fbest_params:', {rs_rf.best_params_})\n",
    "except:\n",
    "    print('fbest_params:', dict(rs_rf.best_params_))\n"
   ]
  },
  {
   "cell_type": "code",
   "execution_count": 49,
   "metadata": {
    "id": "gVAKHc0dL1L9"
   },
   "outputs": [],
   "source": [
    "'''Случайный лес предсказание'''\n",
    "\n",
    "prediction_rf = rs_rf.predict(features_valid)\n",
    "\n",
    "# RMSE\n",
    "RMSE_rf = mean_squared_error(target_valid, prediction_rf, squared=False)\n",
    "\n",
    "# словарь с временем модели \n",
    "time_rf = []\n",
    "\n",
    "# среднее время обучения\n",
    "time_rf.append(rs_rf.cv_results_['mean_fit_time'].mean())\n",
    "\n",
    "# среднее время опредсказания\n",
    "time_rf.append(rs_rf.cv_results_['mean_score_time'].mean())\n"
   ]
  },
  {
   "cell_type": "code",
   "execution_count": 50,
   "metadata": {
    "id": "5hcUP9X6NALJ"
   },
   "outputs": [
    {
     "name": "stdout",
     "output_type": "stream",
     "text": [
      "fbest_params: {'n_estimators': 200, 'max_depth': 3, 'learning_rate': 0.7000000000000001, 'criterion': 'friedman_mse'}\n",
      "CPU times: total: 1min 45s\n",
      "Wall time: 5min 46s\n"
     ]
    }
   ],
   "source": [
    "%%time\n",
    "'''GradientBoosting обучение'''\n",
    "\n",
    "# модель\n",
    "model_GB = GradientBoostingRegressor(random_state = RANDOM)\n",
    "\n",
    " # комбинаций гиперпараметров\n",
    "param_grid = {\n",
    "        'n_estimators': [100, 200],\n",
    "        'criterion': ['friedman_mse', 'squared_error'],\n",
    "        'learning_rate': np.arange(0.1, 1, 0.2),\n",
    "        'max_depth': [x for x in range(1,6)]\n",
    "    }\n",
    "\n",
    "# подбор гиперпараметров\n",
    "rs_GB = RandomizedSearchCV(\n",
    "        model_GB,\n",
    "        param_distributions=param_grid,\n",
    "        scoring=\"neg_root_mean_squared_error\",\n",
    "        n_jobs=-1,\n",
    "        random_state=RANDOM)\n",
    "\n",
    "# фит модели\n",
    "rs_GB.fit(features_train, target_train)\n",
    "\n",
    "# лучшие параметры\n",
    "try:\n",
    "    print('fbest_params:', {rs_GB.best_params_})\n",
    "except:\n",
    "    print('fbest_params:', dict(rs_GB.best_params_))"
   ]
  },
  {
   "cell_type": "code",
   "execution_count": 51,
   "metadata": {
    "id": "5VmNParuOfFN"
   },
   "outputs": [],
   "source": [
    "'''GradientBoosting предсказание'''\n",
    "\n",
    "prediction_gb = rs_GB.predict(features_valid)\n",
    "\n",
    "# RMSE\n",
    "RMSE_gb = mean_squared_error(target_valid, prediction_gb, squared=False)\n",
    "\n",
    "# словарь с временем модели \n",
    "time_gb = []\n",
    "\n",
    "# среднее время обучения\n",
    "time_gb.append(rs_GB.cv_results_['mean_fit_time'].mean())\n",
    "\n",
    "# среднее время опредсказания\n",
    "time_gb.append(rs_GB.cv_results_['mean_score_time'].mean())\n"
   ]
  },
  {
   "cell_type": "code",
   "execution_count": 52,
   "metadata": {
    "id": "nJ9c8f28JQE0",
    "scrolled": true
   },
   "outputs": [
    {
     "name": "stdout",
     "output_type": "stream",
     "text": [
      "Learning rate set to 0.0512\n",
      "0:\tlearn: 2.2402392\ttotal: 162ms\tremaining: 5m 24s\n",
      "1:\tlearn: 2.1618543\ttotal: 170ms\tremaining: 2m 50s\n",
      "2:\tlearn: 2.0902180\ttotal: 178ms\tremaining: 1m 58s\n",
      "3:\tlearn: 2.0216645\ttotal: 185ms\tremaining: 1m 32s\n",
      "4:\tlearn: 1.9526060\ttotal: 193ms\tremaining: 1m 16s\n",
      "5:\tlearn: 1.8916287\ttotal: 201ms\tremaining: 1m 6s\n",
      "6:\tlearn: 1.8326149\ttotal: 210ms\tremaining: 59.7s\n",
      "7:\tlearn: 1.7746475\ttotal: 217ms\tremaining: 54.1s\n",
      "8:\tlearn: 1.7179372\ttotal: 225ms\tremaining: 49.8s\n",
      "9:\tlearn: 1.6652527\ttotal: 232ms\tremaining: 46.2s\n",
      "10:\tlearn: 1.6180198\ttotal: 239ms\tremaining: 43.3s\n",
      "11:\tlearn: 1.5709076\ttotal: 247ms\tremaining: 40.8s\n",
      "12:\tlearn: 1.5252914\ttotal: 254ms\tremaining: 38.8s\n",
      "13:\tlearn: 1.4813384\ttotal: 262ms\tremaining: 37.1s\n",
      "14:\tlearn: 1.4390357\ttotal: 270ms\tremaining: 35.7s\n",
      "15:\tlearn: 1.4010477\ttotal: 277ms\tremaining: 34.4s\n",
      "16:\tlearn: 1.3606037\ttotal: 285ms\tremaining: 33.3s\n",
      "17:\tlearn: 1.3249849\ttotal: 294ms\tremaining: 32.4s\n",
      "18:\tlearn: 1.2893569\ttotal: 302ms\tremaining: 31.5s\n",
      "19:\tlearn: 1.2566266\ttotal: 310ms\tremaining: 30.7s\n",
      "20:\tlearn: 1.2251231\ttotal: 318ms\tremaining: 29.9s\n",
      "21:\tlearn: 1.1967312\ttotal: 325ms\tremaining: 29.3s\n",
      "22:\tlearn: 1.1669713\ttotal: 333ms\tremaining: 28.7s\n",
      "23:\tlearn: 1.1392277\ttotal: 342ms\tremaining: 28.1s\n",
      "24:\tlearn: 1.1118556\ttotal: 349ms\tremaining: 27.6s\n",
      "25:\tlearn: 1.0862798\ttotal: 357ms\tremaining: 27.1s\n",
      "26:\tlearn: 1.0630502\ttotal: 364ms\tremaining: 26.6s\n",
      "27:\tlearn: 1.0410235\ttotal: 371ms\tremaining: 26.2s\n",
      "28:\tlearn: 1.0202362\ttotal: 379ms\tremaining: 25.8s\n",
      "29:\tlearn: 0.9981290\ttotal: 387ms\tremaining: 25.4s\n",
      "30:\tlearn: 0.9787297\ttotal: 395ms\tremaining: 25.1s\n",
      "31:\tlearn: 0.9595520\ttotal: 403ms\tremaining: 24.8s\n",
      "32:\tlearn: 0.9418048\ttotal: 410ms\tremaining: 24.4s\n",
      "33:\tlearn: 0.9273562\ttotal: 418ms\tremaining: 24.2s\n",
      "34:\tlearn: 0.9128990\ttotal: 425ms\tremaining: 23.9s\n",
      "35:\tlearn: 0.8960624\ttotal: 433ms\tremaining: 23.6s\n",
      "36:\tlearn: 0.8796446\ttotal: 440ms\tremaining: 23.4s\n",
      "37:\tlearn: 0.8665463\ttotal: 448ms\tremaining: 23.1s\n",
      "38:\tlearn: 0.8532393\ttotal: 455ms\tremaining: 22.9s\n",
      "39:\tlearn: 0.8397435\ttotal: 463ms\tremaining: 22.7s\n",
      "40:\tlearn: 0.8287516\ttotal: 470ms\tremaining: 22.5s\n",
      "41:\tlearn: 0.8168399\ttotal: 478ms\tremaining: 22.3s\n",
      "42:\tlearn: 0.8061121\ttotal: 485ms\tremaining: 22.1s\n",
      "43:\tlearn: 0.7944086\ttotal: 494ms\tremaining: 21.9s\n",
      "44:\tlearn: 0.7816861\ttotal: 503ms\tremaining: 21.9s\n",
      "45:\tlearn: 0.7731099\ttotal: 512ms\tremaining: 21.7s\n",
      "46:\tlearn: 0.7624030\ttotal: 519ms\tremaining: 21.6s\n",
      "47:\tlearn: 0.7516625\ttotal: 527ms\tremaining: 21.4s\n",
      "48:\tlearn: 0.7431851\ttotal: 534ms\tremaining: 21.3s\n",
      "49:\tlearn: 0.7362418\ttotal: 542ms\tremaining: 21.2s\n",
      "50:\tlearn: 0.7290060\ttotal: 550ms\tremaining: 21s\n",
      "51:\tlearn: 0.7185594\ttotal: 557ms\tremaining: 20.9s\n",
      "52:\tlearn: 0.7118037\ttotal: 566ms\tremaining: 20.8s\n",
      "53:\tlearn: 0.7026876\ttotal: 574ms\tremaining: 20.7s\n",
      "54:\tlearn: 0.6952855\ttotal: 581ms\tremaining: 20.6s\n",
      "55:\tlearn: 0.6871721\ttotal: 590ms\tremaining: 20.5s\n",
      "56:\tlearn: 0.6814344\ttotal: 598ms\tremaining: 20.4s\n",
      "57:\tlearn: 0.6728723\ttotal: 606ms\tremaining: 20.3s\n",
      "58:\tlearn: 0.6671575\ttotal: 615ms\tremaining: 20.2s\n",
      "59:\tlearn: 0.6598845\ttotal: 623ms\tremaining: 20.2s\n",
      "60:\tlearn: 0.6533940\ttotal: 631ms\tremaining: 20.1s\n",
      "61:\tlearn: 0.6489696\ttotal: 639ms\tremaining: 20s\n",
      "62:\tlearn: 0.6428670\ttotal: 647ms\tremaining: 19.9s\n",
      "63:\tlearn: 0.6375700\ttotal: 655ms\tremaining: 19.8s\n",
      "64:\tlearn: 0.6332147\ttotal: 663ms\tremaining: 19.7s\n",
      "65:\tlearn: 0.6271543\ttotal: 672ms\tremaining: 19.7s\n",
      "66:\tlearn: 0.6223086\ttotal: 679ms\tremaining: 19.6s\n",
      "67:\tlearn: 0.6166289\ttotal: 687ms\tremaining: 19.5s\n",
      "68:\tlearn: 0.6128541\ttotal: 695ms\tremaining: 19.4s\n",
      "69:\tlearn: 0.6091514\ttotal: 703ms\tremaining: 19.4s\n",
      "70:\tlearn: 0.6033146\ttotal: 711ms\tremaining: 19.3s\n",
      "71:\tlearn: 0.5991708\ttotal: 720ms\tremaining: 19.3s\n",
      "72:\tlearn: 0.5955307\ttotal: 727ms\tremaining: 19.2s\n",
      "73:\tlearn: 0.5912233\ttotal: 736ms\tremaining: 19.1s\n",
      "74:\tlearn: 0.5883467\ttotal: 743ms\tremaining: 19.1s\n",
      "75:\tlearn: 0.5852558\ttotal: 751ms\tremaining: 19s\n",
      "76:\tlearn: 0.5822000\ttotal: 760ms\tremaining: 19s\n",
      "77:\tlearn: 0.5795138\ttotal: 768ms\tremaining: 18.9s\n",
      "78:\tlearn: 0.5765899\ttotal: 776ms\tremaining: 18.9s\n",
      "79:\tlearn: 0.5729126\ttotal: 784ms\tremaining: 18.8s\n",
      "80:\tlearn: 0.5687916\ttotal: 792ms\tremaining: 18.8s\n",
      "81:\tlearn: 0.5655398\ttotal: 800ms\tremaining: 18.7s\n",
      "82:\tlearn: 0.5628703\ttotal: 807ms\tremaining: 18.6s\n",
      "83:\tlearn: 0.5595889\ttotal: 816ms\tremaining: 18.6s\n",
      "84:\tlearn: 0.5580835\ttotal: 825ms\tremaining: 18.6s\n",
      "85:\tlearn: 0.5567044\ttotal: 832ms\tremaining: 18.5s\n",
      "86:\tlearn: 0.5545466\ttotal: 840ms\tremaining: 18.5s\n",
      "87:\tlearn: 0.5519455\ttotal: 848ms\tremaining: 18.4s\n",
      "88:\tlearn: 0.5499078\ttotal: 856ms\tremaining: 18.4s\n",
      "89:\tlearn: 0.5480491\ttotal: 863ms\tremaining: 18.3s\n",
      "90:\tlearn: 0.5454361\ttotal: 871ms\tremaining: 18.3s\n",
      "91:\tlearn: 0.5434801\ttotal: 879ms\tremaining: 18.2s\n",
      "92:\tlearn: 0.5422457\ttotal: 887ms\tremaining: 18.2s\n",
      "93:\tlearn: 0.5395603\ttotal: 895ms\tremaining: 18.1s\n",
      "94:\tlearn: 0.5363998\ttotal: 903ms\tremaining: 18.1s\n",
      "95:\tlearn: 0.5353291\ttotal: 911ms\tremaining: 18.1s\n",
      "96:\tlearn: 0.5339093\ttotal: 919ms\tremaining: 18s\n",
      "97:\tlearn: 0.5329649\ttotal: 927ms\tremaining: 18s\n",
      "98:\tlearn: 0.5320450\ttotal: 934ms\tremaining: 17.9s\n",
      "99:\tlearn: 0.5302390\ttotal: 941ms\tremaining: 17.9s\n",
      "100:\tlearn: 0.5278717\ttotal: 948ms\tremaining: 17.8s\n",
      "101:\tlearn: 0.5265415\ttotal: 956ms\tremaining: 17.8s\n",
      "102:\tlearn: 0.5254302\ttotal: 964ms\tremaining: 17.8s\n",
      "103:\tlearn: 0.5235553\ttotal: 973ms\tremaining: 17.7s\n",
      "104:\tlearn: 0.5218107\ttotal: 980ms\tremaining: 17.7s\n",
      "105:\tlearn: 0.5209776\ttotal: 988ms\tremaining: 17.7s\n",
      "106:\tlearn: 0.5202862\ttotal: 995ms\tremaining: 17.6s\n",
      "107:\tlearn: 0.5190992\ttotal: 1s\tremaining: 17.6s\n",
      "108:\tlearn: 0.5183334\ttotal: 1.01s\tremaining: 17.5s\n",
      "109:\tlearn: 0.5171905\ttotal: 1.02s\tremaining: 17.5s\n",
      "110:\tlearn: 0.5166533\ttotal: 1.03s\tremaining: 17.5s\n",
      "111:\tlearn: 0.5162054\ttotal: 1.03s\tremaining: 17.5s\n",
      "112:\tlearn: 0.5153092\ttotal: 1.04s\tremaining: 17.4s\n",
      "113:\tlearn: 0.5144559\ttotal: 1.05s\tremaining: 17.4s\n",
      "114:\tlearn: 0.5135631\ttotal: 1.06s\tremaining: 17.4s\n",
      "115:\tlearn: 0.5125275\ttotal: 1.07s\tremaining: 17.3s\n",
      "116:\tlearn: 0.5119256\ttotal: 1.07s\tremaining: 17.3s\n",
      "117:\tlearn: 0.5115191\ttotal: 1.08s\tremaining: 17.3s\n",
      "118:\tlearn: 0.5108869\ttotal: 1.09s\tremaining: 17.2s\n",
      "119:\tlearn: 0.5101244\ttotal: 1.1s\tremaining: 17.2s\n",
      "120:\tlearn: 0.5094434\ttotal: 1.11s\tremaining: 17.2s\n",
      "121:\tlearn: 0.5089767\ttotal: 1.11s\tremaining: 17.2s\n",
      "122:\tlearn: 0.5077653\ttotal: 1.12s\tremaining: 17.1s\n",
      "123:\tlearn: 0.5073661\ttotal: 1.13s\tremaining: 17.1s\n",
      "124:\tlearn: 0.5055072\ttotal: 1.14s\tremaining: 17.1s\n",
      "125:\tlearn: 0.5048008\ttotal: 1.14s\tremaining: 17s\n",
      "126:\tlearn: 0.5040691\ttotal: 1.15s\tremaining: 17s\n",
      "127:\tlearn: 0.5036636\ttotal: 1.16s\tremaining: 17s\n",
      "128:\tlearn: 0.5027905\ttotal: 1.17s\tremaining: 16.9s\n",
      "129:\tlearn: 0.5013690\ttotal: 1.17s\tremaining: 16.9s\n",
      "130:\tlearn: 0.5011206\ttotal: 1.18s\tremaining: 16.9s\n",
      "131:\tlearn: 0.5002038\ttotal: 1.19s\tremaining: 16.8s\n",
      "132:\tlearn: 0.4994138\ttotal: 1.2s\tremaining: 16.8s\n",
      "133:\tlearn: 0.4986900\ttotal: 1.21s\tremaining: 16.8s\n",
      "134:\tlearn: 0.4984924\ttotal: 1.21s\tremaining: 16.8s\n",
      "135:\tlearn: 0.4980759\ttotal: 1.22s\tremaining: 16.8s\n",
      "136:\tlearn: 0.4966785\ttotal: 1.23s\tremaining: 16.7s\n",
      "137:\tlearn: 0.4953609\ttotal: 1.24s\tremaining: 16.7s\n",
      "138:\tlearn: 0.4939599\ttotal: 1.25s\tremaining: 16.7s\n",
      "139:\tlearn: 0.4938500\ttotal: 1.25s\tremaining: 16.7s\n",
      "140:\tlearn: 0.4936372\ttotal: 1.26s\tremaining: 16.7s\n",
      "141:\tlearn: 0.4932330\ttotal: 1.27s\tremaining: 16.6s\n",
      "142:\tlearn: 0.4929314\ttotal: 1.28s\tremaining: 16.6s\n",
      "143:\tlearn: 0.4923213\ttotal: 1.29s\tremaining: 16.6s\n",
      "144:\tlearn: 0.4921606\ttotal: 1.3s\tremaining: 16.6s\n",
      "145:\tlearn: 0.4919196\ttotal: 1.3s\tremaining: 16.6s\n",
      "146:\tlearn: 0.4916590\ttotal: 1.31s\tremaining: 16.5s\n",
      "147:\tlearn: 0.4910324\ttotal: 1.32s\tremaining: 16.5s\n",
      "148:\tlearn: 0.4908317\ttotal: 1.32s\tremaining: 16.5s\n",
      "149:\tlearn: 0.4899769\ttotal: 1.33s\tremaining: 16.4s\n",
      "150:\tlearn: 0.4897220\ttotal: 1.34s\tremaining: 16.4s\n",
      "151:\tlearn: 0.4889308\ttotal: 1.35s\tremaining: 16.4s\n",
      "152:\tlearn: 0.4881957\ttotal: 1.35s\tremaining: 16.3s\n",
      "153:\tlearn: 0.4870895\ttotal: 1.36s\tremaining: 16.3s\n",
      "154:\tlearn: 0.4867954\ttotal: 1.37s\tremaining: 16.3s\n",
      "155:\tlearn: 0.4863682\ttotal: 1.38s\tremaining: 16.3s\n",
      "156:\tlearn: 0.4859075\ttotal: 1.39s\tremaining: 16.3s\n",
      "157:\tlearn: 0.4857737\ttotal: 1.4s\tremaining: 16.3s\n",
      "158:\tlearn: 0.4853929\ttotal: 1.4s\tremaining: 16.2s\n",
      "159:\tlearn: 0.4852751\ttotal: 1.41s\tremaining: 16.2s\n",
      "160:\tlearn: 0.4847796\ttotal: 1.42s\tremaining: 16.2s\n",
      "161:\tlearn: 0.4840632\ttotal: 1.43s\tremaining: 16.2s\n",
      "162:\tlearn: 0.4839750\ttotal: 1.44s\tremaining: 16.2s\n",
      "163:\tlearn: 0.4836726\ttotal: 1.45s\tremaining: 16.2s\n",
      "164:\tlearn: 0.4835039\ttotal: 1.46s\tremaining: 16.2s\n",
      "165:\tlearn: 0.4833920\ttotal: 1.47s\tremaining: 16.2s\n",
      "166:\tlearn: 0.4833648\ttotal: 1.47s\tremaining: 16.2s\n",
      "167:\tlearn: 0.4830606\ttotal: 1.48s\tremaining: 16.1s\n",
      "168:\tlearn: 0.4826221\ttotal: 1.49s\tremaining: 16.1s\n",
      "169:\tlearn: 0.4823329\ttotal: 1.5s\tremaining: 16.1s\n",
      "170:\tlearn: 0.4820891\ttotal: 1.5s\tremaining: 16.1s\n",
      "171:\tlearn: 0.4818290\ttotal: 1.51s\tremaining: 16.1s\n",
      "172:\tlearn: 0.4814200\ttotal: 1.52s\tremaining: 16.1s\n",
      "173:\tlearn: 0.4812491\ttotal: 1.53s\tremaining: 16.1s\n",
      "174:\tlearn: 0.4807954\ttotal: 1.54s\tremaining: 16s\n",
      "175:\tlearn: 0.4803389\ttotal: 1.55s\tremaining: 16s\n",
      "176:\tlearn: 0.4795204\ttotal: 1.55s\tremaining: 16s\n",
      "177:\tlearn: 0.4794506\ttotal: 1.56s\tremaining: 16s\n",
      "178:\tlearn: 0.4793180\ttotal: 1.57s\tremaining: 16s\n",
      "179:\tlearn: 0.4784348\ttotal: 1.58s\tremaining: 16s\n",
      "180:\tlearn: 0.4781676\ttotal: 1.59s\tremaining: 15.9s\n",
      "181:\tlearn: 0.4779371\ttotal: 1.59s\tremaining: 15.9s\n",
      "182:\tlearn: 0.4777003\ttotal: 1.6s\tremaining: 15.9s\n",
      "183:\tlearn: 0.4776044\ttotal: 1.61s\tremaining: 15.9s\n",
      "184:\tlearn: 0.4773819\ttotal: 1.62s\tremaining: 15.9s\n",
      "185:\tlearn: 0.4770429\ttotal: 1.63s\tremaining: 15.9s\n",
      "186:\tlearn: 0.4770974\ttotal: 1.63s\tremaining: 15.8s\n",
      "187:\tlearn: 0.4767946\ttotal: 1.64s\tremaining: 15.8s\n",
      "188:\tlearn: 0.4756953\ttotal: 1.65s\tremaining: 15.8s\n",
      "189:\tlearn: 0.4758002\ttotal: 1.66s\tremaining: 15.8s\n",
      "190:\tlearn: 0.4754868\ttotal: 1.67s\tremaining: 15.8s\n",
      "191:\tlearn: 0.4751842\ttotal: 1.68s\tremaining: 15.8s\n",
      "192:\tlearn: 0.4749261\ttotal: 1.68s\tremaining: 15.8s\n",
      "193:\tlearn: 0.4748857\ttotal: 1.69s\tremaining: 15.8s\n",
      "194:\tlearn: 0.4746852\ttotal: 1.7s\tremaining: 15.7s\n",
      "195:\tlearn: 0.4745326\ttotal: 1.71s\tremaining: 15.7s\n",
      "196:\tlearn: 0.4743866\ttotal: 1.72s\tremaining: 15.7s\n",
      "197:\tlearn: 0.4742125\ttotal: 1.72s\tremaining: 15.7s\n",
      "198:\tlearn: 0.4735441\ttotal: 1.73s\tremaining: 15.7s\n",
      "199:\tlearn: 0.4733228\ttotal: 1.74s\tremaining: 15.7s\n",
      "200:\tlearn: 0.4732458\ttotal: 1.75s\tremaining: 15.6s\n",
      "201:\tlearn: 0.4732205\ttotal: 1.75s\tremaining: 15.6s\n",
      "202:\tlearn: 0.4730834\ttotal: 1.76s\tremaining: 15.6s\n",
      "203:\tlearn: 0.4726670\ttotal: 1.77s\tremaining: 15.6s\n",
      "204:\tlearn: 0.4719006\ttotal: 1.78s\tremaining: 15.6s\n",
      "205:\tlearn: 0.4708215\ttotal: 1.79s\tremaining: 15.6s\n",
      "206:\tlearn: 0.4706392\ttotal: 1.79s\tremaining: 15.5s\n",
      "207:\tlearn: 0.4703381\ttotal: 1.8s\tremaining: 15.5s\n",
      "208:\tlearn: 0.4702217\ttotal: 1.81s\tremaining: 15.5s\n",
      "209:\tlearn: 0.4700035\ttotal: 1.82s\tremaining: 15.5s\n",
      "210:\tlearn: 0.4692099\ttotal: 1.82s\tremaining: 15.5s\n",
      "211:\tlearn: 0.4686478\ttotal: 1.83s\tremaining: 15.5s\n",
      "212:\tlearn: 0.4686528\ttotal: 1.84s\tremaining: 15.5s\n",
      "213:\tlearn: 0.4684886\ttotal: 1.85s\tremaining: 15.4s\n",
      "214:\tlearn: 0.4678283\ttotal: 1.86s\tremaining: 15.4s\n",
      "215:\tlearn: 0.4675457\ttotal: 1.87s\tremaining: 15.4s\n",
      "216:\tlearn: 0.4671726\ttotal: 1.87s\tremaining: 15.4s\n",
      "217:\tlearn: 0.4670528\ttotal: 1.88s\tremaining: 15.4s\n",
      "218:\tlearn: 0.4668057\ttotal: 1.89s\tremaining: 15.4s\n",
      "219:\tlearn: 0.4666278\ttotal: 1.9s\tremaining: 15.4s\n",
      "220:\tlearn: 0.4660037\ttotal: 1.91s\tremaining: 15.3s\n",
      "221:\tlearn: 0.4654613\ttotal: 1.91s\tremaining: 15.3s\n",
      "222:\tlearn: 0.4647844\ttotal: 1.92s\tremaining: 15.3s\n",
      "223:\tlearn: 0.4644300\ttotal: 1.93s\tremaining: 15.3s\n",
      "224:\tlearn: 0.4642067\ttotal: 1.94s\tremaining: 15.3s\n",
      "225:\tlearn: 0.4640180\ttotal: 1.94s\tremaining: 15.3s\n",
      "226:\tlearn: 0.4641120\ttotal: 1.95s\tremaining: 15.2s\n",
      "227:\tlearn: 0.4639642\ttotal: 1.96s\tremaining: 15.2s\n",
      "228:\tlearn: 0.4637520\ttotal: 1.97s\tremaining: 15.2s\n",
      "229:\tlearn: 0.4629103\ttotal: 1.98s\tremaining: 15.2s\n",
      "230:\tlearn: 0.4628279\ttotal: 1.98s\tremaining: 15.2s\n",
      "231:\tlearn: 0.4627661\ttotal: 1.99s\tremaining: 15.2s\n",
      "232:\tlearn: 0.4625281\ttotal: 2s\tremaining: 15.2s\n",
      "233:\tlearn: 0.4617862\ttotal: 2.01s\tremaining: 15.2s\n",
      "234:\tlearn: 0.4618438\ttotal: 2.02s\tremaining: 15.1s\n",
      "235:\tlearn: 0.4617006\ttotal: 2.02s\tremaining: 15.1s\n",
      "236:\tlearn: 0.4615508\ttotal: 2.03s\tremaining: 15.1s\n",
      "237:\tlearn: 0.4614633\ttotal: 2.04s\tremaining: 15.1s\n",
      "238:\tlearn: 0.4614571\ttotal: 2.05s\tremaining: 15.1s\n",
      "239:\tlearn: 0.4612268\ttotal: 2.06s\tremaining: 15.1s\n",
      "240:\tlearn: 0.4610294\ttotal: 2.06s\tremaining: 15.1s\n",
      "241:\tlearn: 0.4610059\ttotal: 2.07s\tremaining: 15.1s\n",
      "242:\tlearn: 0.4610745\ttotal: 2.08s\tremaining: 15s\n",
      "243:\tlearn: 0.4606346\ttotal: 2.09s\tremaining: 15s\n",
      "244:\tlearn: 0.4603345\ttotal: 2.09s\tremaining: 15s\n",
      "245:\tlearn: 0.4601325\ttotal: 2.1s\tremaining: 15s\n",
      "246:\tlearn: 0.4596888\ttotal: 2.11s\tremaining: 15s\n",
      "247:\tlearn: 0.4590508\ttotal: 2.12s\tremaining: 15s\n",
      "248:\tlearn: 0.4589583\ttotal: 2.13s\tremaining: 14.9s\n",
      "249:\tlearn: 0.4583754\ttotal: 2.13s\tremaining: 14.9s\n",
      "250:\tlearn: 0.4582961\ttotal: 2.14s\tremaining: 14.9s\n",
      "251:\tlearn: 0.4582526\ttotal: 2.15s\tremaining: 14.9s\n",
      "252:\tlearn: 0.4579498\ttotal: 2.16s\tremaining: 14.9s\n",
      "253:\tlearn: 0.4577169\ttotal: 2.17s\tremaining: 14.9s\n",
      "254:\tlearn: 0.4572122\ttotal: 2.17s\tremaining: 14.9s\n",
      "255:\tlearn: 0.4573673\ttotal: 2.18s\tremaining: 14.8s\n",
      "256:\tlearn: 0.4568233\ttotal: 2.19s\tremaining: 14.8s\n",
      "257:\tlearn: 0.4563156\ttotal: 2.19s\tremaining: 14.8s\n",
      "258:\tlearn: 0.4563007\ttotal: 2.2s\tremaining: 14.8s\n",
      "259:\tlearn: 0.4562152\ttotal: 2.21s\tremaining: 14.8s\n",
      "260:\tlearn: 0.4560156\ttotal: 2.22s\tremaining: 14.8s\n",
      "261:\tlearn: 0.4557545\ttotal: 2.23s\tremaining: 14.8s\n",
      "262:\tlearn: 0.4550633\ttotal: 2.23s\tremaining: 14.8s\n",
      "263:\tlearn: 0.4549397\ttotal: 2.24s\tremaining: 14.7s\n",
      "264:\tlearn: 0.4544301\ttotal: 2.25s\tremaining: 14.7s\n",
      "265:\tlearn: 0.4536804\ttotal: 2.26s\tremaining: 14.7s\n",
      "266:\tlearn: 0.4538130\ttotal: 2.27s\tremaining: 14.7s\n",
      "267:\tlearn: 0.4539159\ttotal: 2.28s\tremaining: 14.7s\n",
      "268:\tlearn: 0.4539095\ttotal: 2.28s\tremaining: 14.7s\n",
      "269:\tlearn: 0.4537851\ttotal: 2.29s\tremaining: 14.7s\n",
      "270:\tlearn: 0.4536734\ttotal: 2.3s\tremaining: 14.7s\n",
      "271:\tlearn: 0.4535889\ttotal: 2.31s\tremaining: 14.7s\n",
      "272:\tlearn: 0.4532675\ttotal: 2.32s\tremaining: 14.7s\n",
      "273:\tlearn: 0.4530684\ttotal: 2.32s\tremaining: 14.6s\n",
      "274:\tlearn: 0.4524283\ttotal: 2.33s\tremaining: 14.6s\n",
      "275:\tlearn: 0.4523371\ttotal: 2.34s\tremaining: 14.6s\n",
      "276:\tlearn: 0.4518157\ttotal: 2.35s\tremaining: 14.6s\n",
      "277:\tlearn: 0.4518075\ttotal: 2.36s\tremaining: 14.6s\n",
      "278:\tlearn: 0.4514367\ttotal: 2.36s\tremaining: 14.6s\n",
      "279:\tlearn: 0.4514697\ttotal: 2.37s\tremaining: 14.6s\n",
      "280:\tlearn: 0.4516861\ttotal: 2.38s\tremaining: 14.6s\n",
      "281:\tlearn: 0.4516354\ttotal: 2.39s\tremaining: 14.5s\n",
      "282:\tlearn: 0.4514933\ttotal: 2.4s\tremaining: 14.5s\n",
      "283:\tlearn: 0.4514412\ttotal: 2.4s\tremaining: 14.5s\n",
      "284:\tlearn: 0.4509808\ttotal: 2.41s\tremaining: 14.5s\n",
      "285:\tlearn: 0.4508148\ttotal: 2.42s\tremaining: 14.5s\n",
      "286:\tlearn: 0.4507046\ttotal: 2.42s\tremaining: 14.5s\n",
      "287:\tlearn: 0.4501248\ttotal: 2.43s\tremaining: 14.5s\n",
      "288:\tlearn: 0.4497879\ttotal: 2.44s\tremaining: 14.5s\n",
      "289:\tlearn: 0.4494622\ttotal: 2.45s\tremaining: 14.4s\n",
      "290:\tlearn: 0.4495383\ttotal: 2.46s\tremaining: 14.4s\n",
      "291:\tlearn: 0.4490119\ttotal: 2.46s\tremaining: 14.4s\n",
      "292:\tlearn: 0.4488665\ttotal: 2.47s\tremaining: 14.4s\n",
      "293:\tlearn: 0.4489433\ttotal: 2.48s\tremaining: 14.4s\n",
      "294:\tlearn: 0.4483362\ttotal: 2.49s\tremaining: 14.4s\n",
      "295:\tlearn: 0.4481670\ttotal: 2.5s\tremaining: 14.4s\n",
      "296:\tlearn: 0.4479553\ttotal: 2.5s\tremaining: 14.4s\n",
      "297:\tlearn: 0.4478059\ttotal: 2.51s\tremaining: 14.4s\n",
      "298:\tlearn: 0.4477554\ttotal: 2.52s\tremaining: 14.3s\n",
      "299:\tlearn: 0.4479127\ttotal: 2.53s\tremaining: 14.3s\n",
      "300:\tlearn: 0.4477643\ttotal: 2.54s\tremaining: 14.3s\n",
      "301:\tlearn: 0.4472222\ttotal: 2.55s\tremaining: 14.3s\n",
      "302:\tlearn: 0.4472433\ttotal: 2.55s\tremaining: 14.3s\n",
      "303:\tlearn: 0.4466677\ttotal: 2.56s\tremaining: 14.3s\n",
      "304:\tlearn: 0.4465311\ttotal: 2.57s\tremaining: 14.3s\n",
      "305:\tlearn: 0.4466493\ttotal: 2.58s\tremaining: 14.3s\n",
      "306:\tlearn: 0.4464797\ttotal: 2.59s\tremaining: 14.3s\n",
      "307:\tlearn: 0.4463562\ttotal: 2.6s\tremaining: 14.3s\n",
      "308:\tlearn: 0.4461964\ttotal: 2.6s\tremaining: 14.2s\n",
      "309:\tlearn: 0.4459683\ttotal: 2.61s\tremaining: 14.2s\n",
      "310:\tlearn: 0.4459046\ttotal: 2.62s\tremaining: 14.2s\n",
      "311:\tlearn: 0.4457826\ttotal: 2.63s\tremaining: 14.2s\n",
      "312:\tlearn: 0.4456646\ttotal: 2.63s\tremaining: 14.2s\n",
      "313:\tlearn: 0.4455112\ttotal: 2.64s\tremaining: 14.2s\n",
      "314:\tlearn: 0.4454210\ttotal: 2.65s\tremaining: 14.2s\n",
      "315:\tlearn: 0.4452950\ttotal: 2.66s\tremaining: 14.2s\n",
      "316:\tlearn: 0.4455203\ttotal: 2.67s\tremaining: 14.2s\n",
      "317:\tlearn: 0.4455781\ttotal: 2.67s\tremaining: 14.1s\n",
      "318:\tlearn: 0.4455675\ttotal: 2.68s\tremaining: 14.1s\n",
      "319:\tlearn: 0.4453235\ttotal: 2.69s\tremaining: 14.1s\n",
      "320:\tlearn: 0.4450586\ttotal: 2.7s\tremaining: 14.1s\n",
      "321:\tlearn: 0.4449761\ttotal: 2.71s\tremaining: 14.1s\n",
      "322:\tlearn: 0.4444192\ttotal: 2.71s\tremaining: 14.1s\n",
      "323:\tlearn: 0.4442585\ttotal: 2.72s\tremaining: 14.1s\n",
      "324:\tlearn: 0.4441741\ttotal: 2.73s\tremaining: 14.1s\n",
      "325:\tlearn: 0.4436314\ttotal: 2.74s\tremaining: 14.1s\n",
      "326:\tlearn: 0.4434680\ttotal: 2.75s\tremaining: 14.1s\n",
      "327:\tlearn: 0.4433203\ttotal: 2.75s\tremaining: 14s\n",
      "328:\tlearn: 0.4432704\ttotal: 2.76s\tremaining: 14s\n",
      "329:\tlearn: 0.4432081\ttotal: 2.77s\tremaining: 14s\n",
      "330:\tlearn: 0.4432956\ttotal: 2.78s\tremaining: 14s\n",
      "331:\tlearn: 0.4433017\ttotal: 2.79s\tremaining: 14s\n",
      "332:\tlearn: 0.4433168\ttotal: 2.79s\tremaining: 14s\n",
      "333:\tlearn: 0.4432018\ttotal: 2.8s\tremaining: 14s\n",
      "334:\tlearn: 0.4430443\ttotal: 2.81s\tremaining: 14s\n",
      "335:\tlearn: 0.4428379\ttotal: 2.82s\tremaining: 14s\n",
      "336:\tlearn: 0.4428745\ttotal: 2.82s\tremaining: 13.9s\n",
      "337:\tlearn: 0.4427914\ttotal: 2.83s\tremaining: 13.9s\n",
      "338:\tlearn: 0.4426646\ttotal: 2.84s\tremaining: 13.9s\n",
      "339:\tlearn: 0.4423684\ttotal: 2.85s\tremaining: 13.9s\n",
      "340:\tlearn: 0.4424485\ttotal: 2.86s\tremaining: 13.9s\n",
      "341:\tlearn: 0.4423551\ttotal: 2.86s\tremaining: 13.9s\n",
      "342:\tlearn: 0.4421225\ttotal: 2.87s\tremaining: 13.9s\n",
      "343:\tlearn: 0.4418952\ttotal: 2.88s\tremaining: 13.9s\n",
      "344:\tlearn: 0.4416814\ttotal: 2.89s\tremaining: 13.9s\n",
      "345:\tlearn: 0.4416124\ttotal: 2.9s\tremaining: 13.8s\n",
      "346:\tlearn: 0.4415074\ttotal: 2.9s\tremaining: 13.8s\n",
      "347:\tlearn: 0.4412940\ttotal: 2.91s\tremaining: 13.8s\n",
      "348:\tlearn: 0.4413041\ttotal: 2.92s\tremaining: 13.8s\n",
      "349:\tlearn: 0.4411779\ttotal: 2.93s\tremaining: 13.8s\n",
      "350:\tlearn: 0.4407228\ttotal: 2.94s\tremaining: 13.8s\n",
      "351:\tlearn: 0.4405613\ttotal: 2.94s\tremaining: 13.8s\n",
      "352:\tlearn: 0.4403079\ttotal: 2.95s\tremaining: 13.8s\n",
      "353:\tlearn: 0.4402765\ttotal: 2.96s\tremaining: 13.8s\n",
      "354:\tlearn: 0.4400331\ttotal: 2.97s\tremaining: 13.7s\n",
      "355:\tlearn: 0.4399981\ttotal: 2.97s\tremaining: 13.7s\n",
      "356:\tlearn: 0.4398689\ttotal: 2.98s\tremaining: 13.7s\n",
      "357:\tlearn: 0.4397259\ttotal: 2.99s\tremaining: 13.7s\n",
      "358:\tlearn: 0.4395882\ttotal: 3s\tremaining: 13.7s\n",
      "359:\tlearn: 0.4394330\ttotal: 3.01s\tremaining: 13.7s\n",
      "360:\tlearn: 0.4392721\ttotal: 3.01s\tremaining: 13.7s\n",
      "361:\tlearn: 0.4391754\ttotal: 3.02s\tremaining: 13.7s\n",
      "362:\tlearn: 0.4391148\ttotal: 3.03s\tremaining: 13.7s\n",
      "363:\tlearn: 0.4391254\ttotal: 3.04s\tremaining: 13.7s\n",
      "364:\tlearn: 0.4387382\ttotal: 3.05s\tremaining: 13.6s\n",
      "365:\tlearn: 0.4386491\ttotal: 3.05s\tremaining: 13.6s\n",
      "366:\tlearn: 0.4384956\ttotal: 3.06s\tremaining: 13.6s\n",
      "367:\tlearn: 0.4383442\ttotal: 3.07s\tremaining: 13.6s\n",
      "368:\tlearn: 0.4381198\ttotal: 3.08s\tremaining: 13.6s\n",
      "369:\tlearn: 0.4376146\ttotal: 3.08s\tremaining: 13.6s\n",
      "370:\tlearn: 0.4375158\ttotal: 3.09s\tremaining: 13.6s\n",
      "371:\tlearn: 0.4374574\ttotal: 3.1s\tremaining: 13.6s\n",
      "372:\tlearn: 0.4374939\ttotal: 3.11s\tremaining: 13.6s\n",
      "373:\tlearn: 0.4374733\ttotal: 3.12s\tremaining: 13.5s\n",
      "374:\tlearn: 0.4370617\ttotal: 3.12s\tremaining: 13.5s\n",
      "375:\tlearn: 0.4369716\ttotal: 3.13s\tremaining: 13.5s\n",
      "376:\tlearn: 0.4370259\ttotal: 3.14s\tremaining: 13.5s\n",
      "377:\tlearn: 0.4368932\ttotal: 3.15s\tremaining: 13.5s\n",
      "378:\tlearn: 0.4365029\ttotal: 3.16s\tremaining: 13.5s\n",
      "379:\tlearn: 0.4360844\ttotal: 3.16s\tremaining: 13.5s\n",
      "380:\tlearn: 0.4358952\ttotal: 3.17s\tremaining: 13.5s\n",
      "381:\tlearn: 0.4358043\ttotal: 3.18s\tremaining: 13.5s\n",
      "382:\tlearn: 0.4358322\ttotal: 3.19s\tremaining: 13.5s\n",
      "383:\tlearn: 0.4357946\ttotal: 3.19s\tremaining: 13.4s\n",
      "384:\tlearn: 0.4356830\ttotal: 3.2s\tremaining: 13.4s\n",
      "385:\tlearn: 0.4356619\ttotal: 3.21s\tremaining: 13.4s\n",
      "386:\tlearn: 0.4354047\ttotal: 3.22s\tremaining: 13.4s\n",
      "387:\tlearn: 0.4354130\ttotal: 3.23s\tremaining: 13.4s\n",
      "388:\tlearn: 0.4352118\ttotal: 3.23s\tremaining: 13.4s\n",
      "389:\tlearn: 0.4351034\ttotal: 3.24s\tremaining: 13.4s\n",
      "390:\tlearn: 0.4348342\ttotal: 3.25s\tremaining: 13.4s\n",
      "391:\tlearn: 0.4347461\ttotal: 3.26s\tremaining: 13.4s\n",
      "392:\tlearn: 0.4347977\ttotal: 3.27s\tremaining: 13.4s\n",
      "393:\tlearn: 0.4344123\ttotal: 3.28s\tremaining: 13.4s\n",
      "394:\tlearn: 0.4345675\ttotal: 3.28s\tremaining: 13.3s\n",
      "395:\tlearn: 0.4343988\ttotal: 3.29s\tremaining: 13.3s\n",
      "396:\tlearn: 0.4344866\ttotal: 3.3s\tremaining: 13.3s\n",
      "397:\tlearn: 0.4343930\ttotal: 3.31s\tremaining: 13.3s\n",
      "398:\tlearn: 0.4340609\ttotal: 3.31s\tremaining: 13.3s\n",
      "399:\tlearn: 0.4339798\ttotal: 3.32s\tremaining: 13.3s\n",
      "400:\tlearn: 0.4340792\ttotal: 3.33s\tremaining: 13.3s\n",
      "401:\tlearn: 0.4340471\ttotal: 3.34s\tremaining: 13.3s\n",
      "402:\tlearn: 0.4336536\ttotal: 3.35s\tremaining: 13.3s\n",
      "403:\tlearn: 0.4335688\ttotal: 3.35s\tremaining: 13.3s\n",
      "404:\tlearn: 0.4334335\ttotal: 3.36s\tremaining: 13.2s\n",
      "405:\tlearn: 0.4334979\ttotal: 3.37s\tremaining: 13.2s\n",
      "406:\tlearn: 0.4334148\ttotal: 3.38s\tremaining: 13.2s\n",
      "407:\tlearn: 0.4333329\ttotal: 3.38s\tremaining: 13.2s\n",
      "408:\tlearn: 0.4331684\ttotal: 3.39s\tremaining: 13.2s\n",
      "409:\tlearn: 0.4330287\ttotal: 3.4s\tremaining: 13.2s\n",
      "410:\tlearn: 0.4329713\ttotal: 3.41s\tremaining: 13.2s\n",
      "411:\tlearn: 0.4327794\ttotal: 3.42s\tremaining: 13.2s\n",
      "412:\tlearn: 0.4326541\ttotal: 3.42s\tremaining: 13.2s\n",
      "413:\tlearn: 0.4326359\ttotal: 3.43s\tremaining: 13.1s\n",
      "414:\tlearn: 0.4324102\ttotal: 3.44s\tremaining: 13.1s\n",
      "415:\tlearn: 0.4323749\ttotal: 3.45s\tremaining: 13.1s\n",
      "416:\tlearn: 0.4323004\ttotal: 3.46s\tremaining: 13.1s\n",
      "417:\tlearn: 0.4323291\ttotal: 3.46s\tremaining: 13.1s\n",
      "418:\tlearn: 0.4322402\ttotal: 3.47s\tremaining: 13.1s\n",
      "419:\tlearn: 0.4318320\ttotal: 3.48s\tremaining: 13.1s\n",
      "420:\tlearn: 0.4316278\ttotal: 3.49s\tremaining: 13.1s\n",
      "421:\tlearn: 0.4315114\ttotal: 3.5s\tremaining: 13.1s\n",
      "422:\tlearn: 0.4315017\ttotal: 3.5s\tremaining: 13.1s\n",
      "423:\tlearn: 0.4314524\ttotal: 3.51s\tremaining: 13.1s\n",
      "424:\tlearn: 0.4314980\ttotal: 3.52s\tremaining: 13s\n",
      "425:\tlearn: 0.4314496\ttotal: 3.53s\tremaining: 13s\n",
      "426:\tlearn: 0.4315473\ttotal: 3.54s\tremaining: 13s\n",
      "427:\tlearn: 0.4313299\ttotal: 3.54s\tremaining: 13s\n",
      "428:\tlearn: 0.4310405\ttotal: 3.55s\tremaining: 13s\n",
      "429:\tlearn: 0.4309438\ttotal: 3.56s\tremaining: 13s\n",
      "430:\tlearn: 0.4308254\ttotal: 3.57s\tremaining: 13s\n",
      "431:\tlearn: 0.4307658\ttotal: 3.58s\tremaining: 13s\n",
      "432:\tlearn: 0.4307517\ttotal: 3.58s\tremaining: 13s\n",
      "433:\tlearn: 0.4306277\ttotal: 3.59s\tremaining: 13s\n",
      "434:\tlearn: 0.4305569\ttotal: 3.6s\tremaining: 13s\n",
      "435:\tlearn: 0.4302076\ttotal: 3.61s\tremaining: 12.9s\n",
      "436:\tlearn: 0.4301529\ttotal: 3.62s\tremaining: 12.9s\n",
      "437:\tlearn: 0.4301572\ttotal: 3.62s\tremaining: 12.9s\n",
      "438:\tlearn: 0.4301034\ttotal: 3.63s\tremaining: 12.9s\n",
      "439:\tlearn: 0.4298581\ttotal: 3.64s\tremaining: 12.9s\n",
      "440:\tlearn: 0.4296605\ttotal: 3.65s\tremaining: 12.9s\n",
      "441:\tlearn: 0.4295734\ttotal: 3.65s\tremaining: 12.9s\n",
      "442:\tlearn: 0.4296269\ttotal: 3.66s\tremaining: 12.9s\n",
      "443:\tlearn: 0.4296614\ttotal: 3.67s\tremaining: 12.9s\n",
      "444:\tlearn: 0.4295804\ttotal: 3.68s\tremaining: 12.9s\n",
      "445:\tlearn: 0.4296539\ttotal: 3.69s\tremaining: 12.8s\n",
      "446:\tlearn: 0.4296597\ttotal: 3.69s\tremaining: 12.8s\n",
      "447:\tlearn: 0.4293706\ttotal: 3.7s\tremaining: 12.8s\n",
      "448:\tlearn: 0.4294373\ttotal: 3.71s\tremaining: 12.8s\n",
      "449:\tlearn: 0.4293302\ttotal: 3.72s\tremaining: 12.8s\n",
      "450:\tlearn: 0.4290452\ttotal: 3.73s\tremaining: 12.8s\n",
      "451:\tlearn: 0.4290692\ttotal: 3.74s\tremaining: 12.8s\n",
      "452:\tlearn: 0.4288696\ttotal: 3.74s\tremaining: 12.8s\n",
      "453:\tlearn: 0.4287847\ttotal: 3.75s\tremaining: 12.8s\n",
      "454:\tlearn: 0.4287817\ttotal: 3.76s\tremaining: 12.8s\n",
      "455:\tlearn: 0.4287118\ttotal: 3.77s\tremaining: 12.8s\n",
      "456:\tlearn: 0.4286330\ttotal: 3.77s\tremaining: 12.7s\n",
      "457:\tlearn: 0.4286510\ttotal: 3.78s\tremaining: 12.7s\n",
      "458:\tlearn: 0.4284718\ttotal: 3.79s\tremaining: 12.7s\n",
      "459:\tlearn: 0.4283515\ttotal: 3.8s\tremaining: 12.7s\n",
      "460:\tlearn: 0.4282885\ttotal: 3.81s\tremaining: 12.7s\n",
      "461:\tlearn: 0.4279637\ttotal: 3.81s\tremaining: 12.7s\n",
      "462:\tlearn: 0.4279691\ttotal: 3.82s\tremaining: 12.7s\n",
      "463:\tlearn: 0.4279479\ttotal: 3.83s\tremaining: 12.7s\n",
      "464:\tlearn: 0.4278476\ttotal: 3.83s\tremaining: 12.7s\n",
      "465:\tlearn: 0.4277190\ttotal: 3.84s\tremaining: 12.7s\n",
      "466:\tlearn: 0.4276494\ttotal: 3.85s\tremaining: 12.6s\n",
      "467:\tlearn: 0.4275527\ttotal: 3.86s\tremaining: 12.6s\n",
      "468:\tlearn: 0.4275744\ttotal: 3.87s\tremaining: 12.6s\n",
      "469:\tlearn: 0.4276250\ttotal: 3.87s\tremaining: 12.6s\n",
      "470:\tlearn: 0.4275787\ttotal: 3.88s\tremaining: 12.6s\n",
      "471:\tlearn: 0.4276918\ttotal: 3.89s\tremaining: 12.6s\n",
      "472:\tlearn: 0.4273936\ttotal: 3.9s\tremaining: 12.6s\n",
      "473:\tlearn: 0.4273111\ttotal: 3.9s\tremaining: 12.6s\n",
      "474:\tlearn: 0.4272561\ttotal: 3.91s\tremaining: 12.6s\n",
      "475:\tlearn: 0.4272368\ttotal: 3.92s\tremaining: 12.6s\n",
      "476:\tlearn: 0.4270219\ttotal: 3.93s\tremaining: 12.5s\n",
      "477:\tlearn: 0.4268849\ttotal: 3.94s\tremaining: 12.5s\n",
      "478:\tlearn: 0.4267377\ttotal: 3.94s\tremaining: 12.5s\n",
      "479:\tlearn: 0.4267978\ttotal: 3.95s\tremaining: 12.5s\n",
      "480:\tlearn: 0.4267728\ttotal: 3.96s\tremaining: 12.5s\n",
      "481:\tlearn: 0.4267705\ttotal: 3.97s\tremaining: 12.5s\n",
      "482:\tlearn: 0.4266097\ttotal: 3.98s\tremaining: 12.5s\n",
      "483:\tlearn: 0.4264766\ttotal: 3.98s\tremaining: 12.5s\n",
      "484:\tlearn: 0.4265271\ttotal: 3.99s\tremaining: 12.5s\n",
      "485:\tlearn: 0.4263782\ttotal: 4s\tremaining: 12.5s\n",
      "486:\tlearn: 0.4260837\ttotal: 4.01s\tremaining: 12.5s\n",
      "487:\tlearn: 0.4260180\ttotal: 4.02s\tremaining: 12.4s\n",
      "488:\tlearn: 0.4258177\ttotal: 4.03s\tremaining: 12.4s\n",
      "489:\tlearn: 0.4258637\ttotal: 4.03s\tremaining: 12.4s\n",
      "490:\tlearn: 0.4258027\ttotal: 4.04s\tremaining: 12.4s\n",
      "491:\tlearn: 0.4255399\ttotal: 4.05s\tremaining: 12.4s\n",
      "492:\tlearn: 0.4254939\ttotal: 4.06s\tremaining: 12.4s\n",
      "493:\tlearn: 0.4253582\ttotal: 4.06s\tremaining: 12.4s\n",
      "494:\tlearn: 0.4251209\ttotal: 4.07s\tremaining: 12.4s\n",
      "495:\tlearn: 0.4250232\ttotal: 4.08s\tremaining: 12.4s\n",
      "496:\tlearn: 0.4249595\ttotal: 4.09s\tremaining: 12.4s\n",
      "497:\tlearn: 0.4248835\ttotal: 4.1s\tremaining: 12.4s\n",
      "498:\tlearn: 0.4247653\ttotal: 4.1s\tremaining: 12.3s\n",
      "499:\tlearn: 0.4247952\ttotal: 4.11s\tremaining: 12.3s\n",
      "500:\tlearn: 0.4246906\ttotal: 4.12s\tremaining: 12.3s\n",
      "501:\tlearn: 0.4246571\ttotal: 4.13s\tremaining: 12.3s\n",
      "502:\tlearn: 0.4246865\ttotal: 4.13s\tremaining: 12.3s\n",
      "503:\tlearn: 0.4246472\ttotal: 4.14s\tremaining: 12.3s\n",
      "504:\tlearn: 0.4243804\ttotal: 4.15s\tremaining: 12.3s\n",
      "505:\tlearn: 0.4242578\ttotal: 4.16s\tremaining: 12.3s\n",
      "506:\tlearn: 0.4239958\ttotal: 4.17s\tremaining: 12.3s\n",
      "507:\tlearn: 0.4239873\ttotal: 4.17s\tremaining: 12.3s\n",
      "508:\tlearn: 0.4239083\ttotal: 4.18s\tremaining: 12.3s\n",
      "509:\tlearn: 0.4239300\ttotal: 4.19s\tremaining: 12.2s\n",
      "510:\tlearn: 0.4239829\ttotal: 4.2s\tremaining: 12.2s\n",
      "511:\tlearn: 0.4239480\ttotal: 4.21s\tremaining: 12.2s\n",
      "512:\tlearn: 0.4239754\ttotal: 4.21s\tremaining: 12.2s\n",
      "513:\tlearn: 0.4239225\ttotal: 4.22s\tremaining: 12.2s\n",
      "514:\tlearn: 0.4238668\ttotal: 4.23s\tremaining: 12.2s\n",
      "515:\tlearn: 0.4238099\ttotal: 4.24s\tremaining: 12.2s\n",
      "516:\tlearn: 0.4237347\ttotal: 4.25s\tremaining: 12.2s\n",
      "517:\tlearn: 0.4236316\ttotal: 4.25s\tremaining: 12.2s\n",
      "518:\tlearn: 0.4237050\ttotal: 4.26s\tremaining: 12.2s\n",
      "519:\tlearn: 0.4236308\ttotal: 4.27s\tremaining: 12.2s\n",
      "520:\tlearn: 0.4234620\ttotal: 4.28s\tremaining: 12.1s\n",
      "521:\tlearn: 0.4233203\ttotal: 4.29s\tremaining: 12.1s\n",
      "522:\tlearn: 0.4232732\ttotal: 4.29s\tremaining: 12.1s\n",
      "523:\tlearn: 0.4231569\ttotal: 4.3s\tremaining: 12.1s\n",
      "524:\tlearn: 0.4228862\ttotal: 4.31s\tremaining: 12.1s\n",
      "525:\tlearn: 0.4227951\ttotal: 4.32s\tremaining: 12.1s\n",
      "526:\tlearn: 0.4227808\ttotal: 4.32s\tremaining: 12.1s\n",
      "527:\tlearn: 0.4226715\ttotal: 4.33s\tremaining: 12.1s\n",
      "528:\tlearn: 0.4226286\ttotal: 4.34s\tremaining: 12.1s\n",
      "529:\tlearn: 0.4225299\ttotal: 4.35s\tremaining: 12.1s\n",
      "530:\tlearn: 0.4224784\ttotal: 4.36s\tremaining: 12s\n",
      "531:\tlearn: 0.4224696\ttotal: 4.36s\tremaining: 12s\n",
      "532:\tlearn: 0.4225402\ttotal: 4.37s\tremaining: 12s\n",
      "533:\tlearn: 0.4224304\ttotal: 4.38s\tremaining: 12s\n",
      "534:\tlearn: 0.4225422\ttotal: 4.39s\tremaining: 12s\n",
      "535:\tlearn: 0.4225250\ttotal: 4.39s\tremaining: 12s\n",
      "536:\tlearn: 0.4224651\ttotal: 4.4s\tremaining: 12s\n",
      "537:\tlearn: 0.4222967\ttotal: 4.41s\tremaining: 12s\n",
      "538:\tlearn: 0.4223094\ttotal: 4.42s\tremaining: 12s\n",
      "539:\tlearn: 0.4220192\ttotal: 4.43s\tremaining: 12s\n",
      "540:\tlearn: 0.4219707\ttotal: 4.43s\tremaining: 12s\n",
      "541:\tlearn: 0.4219439\ttotal: 4.44s\tremaining: 11.9s\n",
      "542:\tlearn: 0.4218567\ttotal: 4.45s\tremaining: 11.9s\n",
      "543:\tlearn: 0.4216886\ttotal: 4.46s\tremaining: 11.9s\n",
      "544:\tlearn: 0.4216385\ttotal: 4.47s\tremaining: 11.9s\n",
      "545:\tlearn: 0.4215522\ttotal: 4.47s\tremaining: 11.9s\n",
      "546:\tlearn: 0.4215132\ttotal: 4.48s\tremaining: 11.9s\n",
      "547:\tlearn: 0.4213012\ttotal: 4.49s\tremaining: 11.9s\n",
      "548:\tlearn: 0.4212478\ttotal: 4.5s\tremaining: 11.9s\n",
      "549:\tlearn: 0.4211916\ttotal: 4.51s\tremaining: 11.9s\n",
      "550:\tlearn: 0.4209744\ttotal: 4.51s\tremaining: 11.9s\n",
      "551:\tlearn: 0.4209266\ttotal: 4.52s\tremaining: 11.9s\n",
      "552:\tlearn: 0.4208088\ttotal: 4.53s\tremaining: 11.9s\n",
      "553:\tlearn: 0.4207816\ttotal: 4.54s\tremaining: 11.8s\n",
      "554:\tlearn: 0.4207853\ttotal: 4.55s\tremaining: 11.8s\n",
      "555:\tlearn: 0.4207119\ttotal: 4.56s\tremaining: 11.8s\n",
      "556:\tlearn: 0.4206396\ttotal: 4.56s\tremaining: 11.8s\n",
      "557:\tlearn: 0.4206457\ttotal: 4.57s\tremaining: 11.8s\n",
      "558:\tlearn: 0.4206055\ttotal: 4.58s\tremaining: 11.8s\n",
      "559:\tlearn: 0.4206262\ttotal: 4.59s\tremaining: 11.8s\n",
      "560:\tlearn: 0.4204884\ttotal: 4.6s\tremaining: 11.8s\n",
      "561:\tlearn: 0.4204852\ttotal: 4.61s\tremaining: 11.8s\n",
      "562:\tlearn: 0.4201742\ttotal: 4.61s\tremaining: 11.8s\n",
      "563:\tlearn: 0.4202594\ttotal: 4.62s\tremaining: 11.8s\n",
      "564:\tlearn: 0.4202853\ttotal: 4.63s\tremaining: 11.8s\n",
      "565:\tlearn: 0.4201905\ttotal: 4.63s\tremaining: 11.7s\n",
      "566:\tlearn: 0.4200500\ttotal: 4.64s\tremaining: 11.7s\n",
      "567:\tlearn: 0.4200252\ttotal: 4.65s\tremaining: 11.7s\n",
      "568:\tlearn: 0.4201175\ttotal: 4.66s\tremaining: 11.7s\n",
      "569:\tlearn: 0.4198954\ttotal: 4.67s\tremaining: 11.7s\n",
      "570:\tlearn: 0.4199259\ttotal: 4.67s\tremaining: 11.7s\n",
      "571:\tlearn: 0.4198285\ttotal: 4.68s\tremaining: 11.7s\n",
      "572:\tlearn: 0.4197708\ttotal: 4.69s\tremaining: 11.7s\n",
      "573:\tlearn: 0.4196035\ttotal: 4.7s\tremaining: 11.7s\n",
      "574:\tlearn: 0.4194089\ttotal: 4.71s\tremaining: 11.7s\n",
      "575:\tlearn: 0.4193857\ttotal: 4.71s\tremaining: 11.7s\n",
      "576:\tlearn: 0.4193281\ttotal: 4.72s\tremaining: 11.6s\n",
      "577:\tlearn: 0.4192991\ttotal: 4.73s\tremaining: 11.6s\n",
      "578:\tlearn: 0.4193312\ttotal: 4.74s\tremaining: 11.6s\n",
      "579:\tlearn: 0.4192275\ttotal: 4.75s\tremaining: 11.6s\n",
      "580:\tlearn: 0.4191076\ttotal: 4.75s\tremaining: 11.6s\n",
      "581:\tlearn: 0.4190441\ttotal: 4.76s\tremaining: 11.6s\n",
      "582:\tlearn: 0.4189824\ttotal: 4.77s\tremaining: 11.6s\n",
      "583:\tlearn: 0.4188685\ttotal: 4.78s\tremaining: 11.6s\n",
      "584:\tlearn: 0.4188534\ttotal: 4.79s\tremaining: 11.6s\n",
      "585:\tlearn: 0.4187737\ttotal: 4.79s\tremaining: 11.6s\n",
      "586:\tlearn: 0.4186752\ttotal: 4.8s\tremaining: 11.6s\n",
      "587:\tlearn: 0.4186491\ttotal: 4.81s\tremaining: 11.5s\n",
      "588:\tlearn: 0.4185538\ttotal: 4.82s\tremaining: 11.5s\n",
      "589:\tlearn: 0.4185523\ttotal: 4.82s\tremaining: 11.5s\n",
      "590:\tlearn: 0.4185397\ttotal: 4.83s\tremaining: 11.5s\n",
      "591:\tlearn: 0.4185179\ttotal: 4.84s\tremaining: 11.5s\n",
      "592:\tlearn: 0.4185145\ttotal: 4.85s\tremaining: 11.5s\n",
      "593:\tlearn: 0.4184827\ttotal: 4.85s\tremaining: 11.5s\n",
      "594:\tlearn: 0.4184473\ttotal: 4.86s\tremaining: 11.5s\n",
      "595:\tlearn: 0.4184433\ttotal: 4.87s\tremaining: 11.5s\n",
      "596:\tlearn: 0.4183990\ttotal: 4.88s\tremaining: 11.5s\n",
      "597:\tlearn: 0.4182682\ttotal: 4.89s\tremaining: 11.5s\n",
      "598:\tlearn: 0.4183309\ttotal: 4.89s\tremaining: 11.4s\n",
      "599:\tlearn: 0.4182684\ttotal: 4.9s\tremaining: 11.4s\n",
      "600:\tlearn: 0.4182641\ttotal: 4.91s\tremaining: 11.4s\n",
      "601:\tlearn: 0.4181059\ttotal: 4.92s\tremaining: 11.4s\n",
      "602:\tlearn: 0.4180549\ttotal: 4.93s\tremaining: 11.4s\n",
      "603:\tlearn: 0.4178252\ttotal: 4.93s\tremaining: 11.4s\n",
      "604:\tlearn: 0.4176233\ttotal: 4.94s\tremaining: 11.4s\n",
      "605:\tlearn: 0.4176302\ttotal: 4.95s\tremaining: 11.4s\n",
      "606:\tlearn: 0.4175842\ttotal: 4.96s\tremaining: 11.4s\n",
      "607:\tlearn: 0.4175433\ttotal: 4.97s\tremaining: 11.4s\n",
      "608:\tlearn: 0.4174927\ttotal: 4.97s\tremaining: 11.4s\n",
      "609:\tlearn: 0.4174783\ttotal: 4.98s\tremaining: 11.4s\n",
      "610:\tlearn: 0.4174242\ttotal: 4.99s\tremaining: 11.3s\n",
      "611:\tlearn: 0.4172582\ttotal: 5s\tremaining: 11.3s\n",
      "612:\tlearn: 0.4172470\ttotal: 5.01s\tremaining: 11.3s\n",
      "613:\tlearn: 0.4172815\ttotal: 5.01s\tremaining: 11.3s\n",
      "614:\tlearn: 0.4172861\ttotal: 5.02s\tremaining: 11.3s\n",
      "615:\tlearn: 0.4172263\ttotal: 5.03s\tremaining: 11.3s\n",
      "616:\tlearn: 0.4171990\ttotal: 5.04s\tremaining: 11.3s\n",
      "617:\tlearn: 0.4171193\ttotal: 5.04s\tremaining: 11.3s\n",
      "618:\tlearn: 0.4170523\ttotal: 5.05s\tremaining: 11.3s\n",
      "619:\tlearn: 0.4169917\ttotal: 5.06s\tremaining: 11.3s\n",
      "620:\tlearn: 0.4169068\ttotal: 5.07s\tremaining: 11.3s\n",
      "621:\tlearn: 0.4168152\ttotal: 5.08s\tremaining: 11.2s\n",
      "622:\tlearn: 0.4167913\ttotal: 5.08s\tremaining: 11.2s\n",
      "623:\tlearn: 0.4168801\ttotal: 5.09s\tremaining: 11.2s\n",
      "624:\tlearn: 0.4168840\ttotal: 5.1s\tremaining: 11.2s\n",
      "625:\tlearn: 0.4168271\ttotal: 5.11s\tremaining: 11.2s\n",
      "626:\tlearn: 0.4168035\ttotal: 5.11s\tremaining: 11.2s\n",
      "627:\tlearn: 0.4167290\ttotal: 5.12s\tremaining: 11.2s\n",
      "628:\tlearn: 0.4165618\ttotal: 5.13s\tremaining: 11.2s\n",
      "629:\tlearn: 0.4164475\ttotal: 5.14s\tremaining: 11.2s\n",
      "630:\tlearn: 0.4164809\ttotal: 5.14s\tremaining: 11.2s\n",
      "631:\tlearn: 0.4164359\ttotal: 5.15s\tremaining: 11.2s\n",
      "632:\tlearn: 0.4162629\ttotal: 5.16s\tremaining: 11.1s\n",
      "633:\tlearn: 0.4162219\ttotal: 5.17s\tremaining: 11.1s\n",
      "634:\tlearn: 0.4161573\ttotal: 5.18s\tremaining: 11.1s\n",
      "635:\tlearn: 0.4161676\ttotal: 5.18s\tremaining: 11.1s\n",
      "636:\tlearn: 0.4161918\ttotal: 5.19s\tremaining: 11.1s\n",
      "637:\tlearn: 0.4161839\ttotal: 5.2s\tremaining: 11.1s\n",
      "638:\tlearn: 0.4161545\ttotal: 5.21s\tremaining: 11.1s\n",
      "639:\tlearn: 0.4161756\ttotal: 5.22s\tremaining: 11.1s\n",
      "640:\tlearn: 0.4162329\ttotal: 5.22s\tremaining: 11.1s\n",
      "641:\tlearn: 0.4162269\ttotal: 5.23s\tremaining: 11.1s\n",
      "642:\tlearn: 0.4162032\ttotal: 5.24s\tremaining: 11.1s\n",
      "643:\tlearn: 0.4161371\ttotal: 5.25s\tremaining: 11.1s\n",
      "644:\tlearn: 0.4161274\ttotal: 5.26s\tremaining: 11s\n",
      "645:\tlearn: 0.4160434\ttotal: 5.27s\tremaining: 11s\n",
      "646:\tlearn: 0.4161067\ttotal: 5.27s\tremaining: 11s\n",
      "647:\tlearn: 0.4160365\ttotal: 5.28s\tremaining: 11s\n",
      "648:\tlearn: 0.4158822\ttotal: 5.29s\tremaining: 11s\n",
      "649:\tlearn: 0.4159311\ttotal: 5.3s\tremaining: 11s\n",
      "650:\tlearn: 0.4158918\ttotal: 5.3s\tremaining: 11s\n",
      "651:\tlearn: 0.4158271\ttotal: 5.31s\tremaining: 11s\n",
      "652:\tlearn: 0.4158204\ttotal: 5.32s\tremaining: 11s\n",
      "653:\tlearn: 0.4158508\ttotal: 5.33s\tremaining: 11s\n",
      "654:\tlearn: 0.4157267\ttotal: 5.34s\tremaining: 11s\n",
      "655:\tlearn: 0.4155944\ttotal: 5.34s\tremaining: 11s\n",
      "656:\tlearn: 0.4154891\ttotal: 5.35s\tremaining: 10.9s\n",
      "657:\tlearn: 0.4152086\ttotal: 5.36s\tremaining: 10.9s\n",
      "658:\tlearn: 0.4151420\ttotal: 5.37s\tremaining: 10.9s\n",
      "659:\tlearn: 0.4149387\ttotal: 5.38s\tremaining: 10.9s\n",
      "660:\tlearn: 0.4148383\ttotal: 5.38s\tremaining: 10.9s\n",
      "661:\tlearn: 0.4146705\ttotal: 5.39s\tremaining: 10.9s\n",
      "662:\tlearn: 0.4146653\ttotal: 5.4s\tremaining: 10.9s\n",
      "663:\tlearn: 0.4146619\ttotal: 5.41s\tremaining: 10.9s\n",
      "664:\tlearn: 0.4146980\ttotal: 5.42s\tremaining: 10.9s\n",
      "665:\tlearn: 0.4146635\ttotal: 5.43s\tremaining: 10.9s\n",
      "666:\tlearn: 0.4146789\ttotal: 5.44s\tremaining: 10.9s\n",
      "667:\tlearn: 0.4146416\ttotal: 5.45s\tremaining: 10.9s\n",
      "668:\tlearn: 0.4145761\ttotal: 5.46s\tremaining: 10.9s\n",
      "669:\tlearn: 0.4145651\ttotal: 5.46s\tremaining: 10.8s\n",
      "670:\tlearn: 0.4145956\ttotal: 5.47s\tremaining: 10.8s\n",
      "671:\tlearn: 0.4146026\ttotal: 5.48s\tremaining: 10.8s\n",
      "672:\tlearn: 0.4145140\ttotal: 5.49s\tremaining: 10.8s\n",
      "673:\tlearn: 0.4145070\ttotal: 5.49s\tremaining: 10.8s\n",
      "674:\tlearn: 0.4144658\ttotal: 5.5s\tremaining: 10.8s\n",
      "675:\tlearn: 0.4143881\ttotal: 5.51s\tremaining: 10.8s\n",
      "676:\tlearn: 0.4143847\ttotal: 5.52s\tremaining: 10.8s\n",
      "677:\tlearn: 0.4143600\ttotal: 5.53s\tremaining: 10.8s\n",
      "678:\tlearn: 0.4143626\ttotal: 5.54s\tremaining: 10.8s\n",
      "679:\tlearn: 0.4142592\ttotal: 5.54s\tremaining: 10.8s\n",
      "680:\tlearn: 0.4142066\ttotal: 5.55s\tremaining: 10.8s\n",
      "681:\tlearn: 0.4141788\ttotal: 5.56s\tremaining: 10.7s\n",
      "682:\tlearn: 0.4141807\ttotal: 5.57s\tremaining: 10.7s\n",
      "683:\tlearn: 0.4141136\ttotal: 5.58s\tremaining: 10.7s\n",
      "684:\tlearn: 0.4141271\ttotal: 5.58s\tremaining: 10.7s\n",
      "685:\tlearn: 0.4141614\ttotal: 5.59s\tremaining: 10.7s\n",
      "686:\tlearn: 0.4140671\ttotal: 5.6s\tremaining: 10.7s\n",
      "687:\tlearn: 0.4140924\ttotal: 5.61s\tremaining: 10.7s\n",
      "688:\tlearn: 0.4140484\ttotal: 5.62s\tremaining: 10.7s\n",
      "689:\tlearn: 0.4138653\ttotal: 5.62s\tremaining: 10.7s\n",
      "690:\tlearn: 0.4138292\ttotal: 5.63s\tremaining: 10.7s\n",
      "691:\tlearn: 0.4136777\ttotal: 5.64s\tremaining: 10.7s\n",
      "692:\tlearn: 0.4136376\ttotal: 5.65s\tremaining: 10.7s\n",
      "693:\tlearn: 0.4135471\ttotal: 5.66s\tremaining: 10.6s\n",
      "694:\tlearn: 0.4134126\ttotal: 5.66s\tremaining: 10.6s\n",
      "695:\tlearn: 0.4134366\ttotal: 5.67s\tremaining: 10.6s\n",
      "696:\tlearn: 0.4133752\ttotal: 5.68s\tremaining: 10.6s\n",
      "697:\tlearn: 0.4133160\ttotal: 5.69s\tremaining: 10.6s\n",
      "698:\tlearn: 0.4132843\ttotal: 5.7s\tremaining: 10.6s\n",
      "699:\tlearn: 0.4131040\ttotal: 5.7s\tremaining: 10.6s\n",
      "700:\tlearn: 0.4130394\ttotal: 5.71s\tremaining: 10.6s\n",
      "701:\tlearn: 0.4129788\ttotal: 5.72s\tremaining: 10.6s\n",
      "702:\tlearn: 0.4129466\ttotal: 5.73s\tremaining: 10.6s\n",
      "703:\tlearn: 0.4128947\ttotal: 5.73s\tremaining: 10.6s\n",
      "704:\tlearn: 0.4129256\ttotal: 5.74s\tremaining: 10.5s\n",
      "705:\tlearn: 0.4129044\ttotal: 5.75s\tremaining: 10.5s\n",
      "706:\tlearn: 0.4127907\ttotal: 5.76s\tremaining: 10.5s\n",
      "707:\tlearn: 0.4127603\ttotal: 5.77s\tremaining: 10.5s\n",
      "708:\tlearn: 0.4127048\ttotal: 5.77s\tremaining: 10.5s\n",
      "709:\tlearn: 0.4126705\ttotal: 5.78s\tremaining: 10.5s\n",
      "710:\tlearn: 0.4125888\ttotal: 5.79s\tremaining: 10.5s\n",
      "711:\tlearn: 0.4125503\ttotal: 5.8s\tremaining: 10.5s\n",
      "712:\tlearn: 0.4124780\ttotal: 5.8s\tremaining: 10.5s\n",
      "713:\tlearn: 0.4125548\ttotal: 5.81s\tremaining: 10.5s\n",
      "714:\tlearn: 0.4125700\ttotal: 5.82s\tremaining: 10.5s\n",
      "715:\tlearn: 0.4123669\ttotal: 5.83s\tremaining: 10.5s\n",
      "716:\tlearn: 0.4123154\ttotal: 5.84s\tremaining: 10.4s\n",
      "717:\tlearn: 0.4122340\ttotal: 5.84s\tremaining: 10.4s\n",
      "718:\tlearn: 0.4122445\ttotal: 5.85s\tremaining: 10.4s\n",
      "719:\tlearn: 0.4122268\ttotal: 5.86s\tremaining: 10.4s\n",
      "720:\tlearn: 0.4121721\ttotal: 5.87s\tremaining: 10.4s\n",
      "721:\tlearn: 0.4121900\ttotal: 5.88s\tremaining: 10.4s\n",
      "722:\tlearn: 0.4120898\ttotal: 5.88s\tremaining: 10.4s\n",
      "723:\tlearn: 0.4121040\ttotal: 5.89s\tremaining: 10.4s\n",
      "724:\tlearn: 0.4120883\ttotal: 5.9s\tremaining: 10.4s\n",
      "725:\tlearn: 0.4119018\ttotal: 5.91s\tremaining: 10.4s\n",
      "726:\tlearn: 0.4118340\ttotal: 5.92s\tremaining: 10.4s\n",
      "727:\tlearn: 0.4118555\ttotal: 5.92s\tremaining: 10.4s\n",
      "728:\tlearn: 0.4118571\ttotal: 5.93s\tremaining: 10.3s\n",
      "729:\tlearn: 0.4116736\ttotal: 5.94s\tremaining: 10.3s\n",
      "730:\tlearn: 0.4114916\ttotal: 5.95s\tremaining: 10.3s\n",
      "731:\tlearn: 0.4114770\ttotal: 5.96s\tremaining: 10.3s\n",
      "732:\tlearn: 0.4114448\ttotal: 5.96s\tremaining: 10.3s\n",
      "733:\tlearn: 0.4114028\ttotal: 5.97s\tremaining: 10.3s\n",
      "734:\tlearn: 0.4114341\ttotal: 5.98s\tremaining: 10.3s\n",
      "735:\tlearn: 0.4113503\ttotal: 5.99s\tremaining: 10.3s\n",
      "736:\tlearn: 0.4113434\ttotal: 6s\tremaining: 10.3s\n",
      "737:\tlearn: 0.4113207\ttotal: 6s\tremaining: 10.3s\n",
      "738:\tlearn: 0.4112738\ttotal: 6.01s\tremaining: 10.3s\n",
      "739:\tlearn: 0.4113399\ttotal: 6.02s\tremaining: 10.2s\n",
      "740:\tlearn: 0.4113109\ttotal: 6.03s\tremaining: 10.2s\n",
      "741:\tlearn: 0.4113187\ttotal: 6.04s\tremaining: 10.2s\n",
      "742:\tlearn: 0.4112816\ttotal: 6.04s\tremaining: 10.2s\n",
      "743:\tlearn: 0.4112629\ttotal: 6.05s\tremaining: 10.2s\n",
      "744:\tlearn: 0.4112443\ttotal: 6.06s\tremaining: 10.2s\n",
      "745:\tlearn: 0.4112086\ttotal: 6.07s\tremaining: 10.2s\n",
      "746:\tlearn: 0.4112106\ttotal: 6.08s\tremaining: 10.2s\n",
      "747:\tlearn: 0.4111909\ttotal: 6.08s\tremaining: 10.2s\n",
      "748:\tlearn: 0.4111516\ttotal: 6.09s\tremaining: 10.2s\n",
      "749:\tlearn: 0.4110438\ttotal: 6.1s\tremaining: 10.2s\n",
      "750:\tlearn: 0.4110641\ttotal: 6.11s\tremaining: 10.2s\n",
      "751:\tlearn: 0.4110395\ttotal: 6.11s\tremaining: 10.1s\n",
      "752:\tlearn: 0.4109884\ttotal: 6.12s\tremaining: 10.1s\n",
      "753:\tlearn: 0.4110255\ttotal: 6.13s\tremaining: 10.1s\n",
      "754:\tlearn: 0.4108590\ttotal: 6.14s\tremaining: 10.1s\n",
      "755:\tlearn: 0.4108076\ttotal: 6.15s\tremaining: 10.1s\n",
      "756:\tlearn: 0.4107176\ttotal: 6.15s\tremaining: 10.1s\n",
      "757:\tlearn: 0.4106569\ttotal: 6.16s\tremaining: 10.1s\n",
      "758:\tlearn: 0.4105994\ttotal: 6.17s\tremaining: 10.1s\n",
      "759:\tlearn: 0.4105503\ttotal: 6.18s\tremaining: 10.1s\n",
      "760:\tlearn: 0.4105769\ttotal: 6.18s\tremaining: 10.1s\n",
      "761:\tlearn: 0.4105344\ttotal: 6.19s\tremaining: 10.1s\n",
      "762:\tlearn: 0.4105383\ttotal: 6.2s\tremaining: 10.1s\n",
      "763:\tlearn: 0.4105293\ttotal: 6.21s\tremaining: 10s\n",
      "764:\tlearn: 0.4104863\ttotal: 6.21s\tremaining: 10s\n",
      "765:\tlearn: 0.4104503\ttotal: 6.22s\tremaining: 10s\n",
      "766:\tlearn: 0.4104322\ttotal: 6.23s\tremaining: 10s\n",
      "767:\tlearn: 0.4104626\ttotal: 6.24s\tremaining: 10s\n",
      "768:\tlearn: 0.4105476\ttotal: 6.25s\tremaining: 10s\n",
      "769:\tlearn: 0.4105164\ttotal: 6.26s\tremaining: 10s\n",
      "770:\tlearn: 0.4104743\ttotal: 6.27s\tremaining: 9.99s\n",
      "771:\tlearn: 0.4104395\ttotal: 6.27s\tremaining: 9.98s\n",
      "772:\tlearn: 0.4104095\ttotal: 6.28s\tremaining: 9.97s\n",
      "773:\tlearn: 0.4103794\ttotal: 6.29s\tremaining: 9.96s\n",
      "774:\tlearn: 0.4103565\ttotal: 6.3s\tremaining: 9.95s\n",
      "775:\tlearn: 0.4102795\ttotal: 6.3s\tremaining: 9.94s\n",
      "776:\tlearn: 0.4100838\ttotal: 6.31s\tremaining: 9.94s\n",
      "777:\tlearn: 0.4099322\ttotal: 6.32s\tremaining: 9.93s\n",
      "778:\tlearn: 0.4099478\ttotal: 6.33s\tremaining: 9.92s\n",
      "779:\tlearn: 0.4099755\ttotal: 6.33s\tremaining: 9.91s\n",
      "780:\tlearn: 0.4098534\ttotal: 6.34s\tremaining: 9.9s\n",
      "781:\tlearn: 0.4098641\ttotal: 6.35s\tremaining: 9.89s\n",
      "782:\tlearn: 0.4098384\ttotal: 6.36s\tremaining: 9.88s\n",
      "783:\tlearn: 0.4097619\ttotal: 6.37s\tremaining: 9.87s\n",
      "784:\tlearn: 0.4097452\ttotal: 6.37s\tremaining: 9.87s\n",
      "785:\tlearn: 0.4096877\ttotal: 6.38s\tremaining: 9.86s\n",
      "786:\tlearn: 0.4097078\ttotal: 6.39s\tremaining: 9.85s\n",
      "787:\tlearn: 0.4097302\ttotal: 6.4s\tremaining: 9.84s\n",
      "788:\tlearn: 0.4097529\ttotal: 6.4s\tremaining: 9.83s\n",
      "789:\tlearn: 0.4095998\ttotal: 6.41s\tremaining: 9.82s\n",
      "790:\tlearn: 0.4095019\ttotal: 6.42s\tremaining: 9.81s\n",
      "791:\tlearn: 0.4095030\ttotal: 6.43s\tremaining: 9.8s\n",
      "792:\tlearn: 0.4094416\ttotal: 6.44s\tremaining: 9.8s\n",
      "793:\tlearn: 0.4093754\ttotal: 6.45s\tremaining: 9.79s\n",
      "794:\tlearn: 0.4093015\ttotal: 6.45s\tremaining: 9.78s\n",
      "795:\tlearn: 0.4093126\ttotal: 6.46s\tremaining: 9.77s\n",
      "796:\tlearn: 0.4091439\ttotal: 6.47s\tremaining: 9.77s\n",
      "797:\tlearn: 0.4091509\ttotal: 6.48s\tremaining: 9.76s\n",
      "798:\tlearn: 0.4089716\ttotal: 6.48s\tremaining: 9.75s\n",
      "799:\tlearn: 0.4089635\ttotal: 6.49s\tremaining: 9.74s\n",
      "800:\tlearn: 0.4090294\ttotal: 6.5s\tremaining: 9.73s\n",
      "801:\tlearn: 0.4087352\ttotal: 6.51s\tremaining: 9.72s\n",
      "802:\tlearn: 0.4087102\ttotal: 6.52s\tremaining: 9.71s\n",
      "803:\tlearn: 0.4086346\ttotal: 6.53s\tremaining: 9.71s\n",
      "804:\tlearn: 0.4086121\ttotal: 6.53s\tremaining: 9.7s\n",
      "805:\tlearn: 0.4085636\ttotal: 6.54s\tremaining: 9.69s\n",
      "806:\tlearn: 0.4085924\ttotal: 6.55s\tremaining: 9.68s\n",
      "807:\tlearn: 0.4085617\ttotal: 6.56s\tremaining: 9.67s\n",
      "808:\tlearn: 0.4085372\ttotal: 6.57s\tremaining: 9.67s\n",
      "809:\tlearn: 0.4084280\ttotal: 6.57s\tremaining: 9.66s\n",
      "810:\tlearn: 0.4083718\ttotal: 6.58s\tremaining: 9.65s\n",
      "811:\tlearn: 0.4083455\ttotal: 6.59s\tremaining: 9.64s\n",
      "812:\tlearn: 0.4083412\ttotal: 6.6s\tremaining: 9.63s\n",
      "813:\tlearn: 0.4083532\ttotal: 6.61s\tremaining: 9.63s\n",
      "814:\tlearn: 0.4083686\ttotal: 6.61s\tremaining: 9.62s\n",
      "815:\tlearn: 0.4083447\ttotal: 6.62s\tremaining: 9.61s\n",
      "816:\tlearn: 0.4082021\ttotal: 6.63s\tremaining: 9.6s\n",
      "817:\tlearn: 0.4081737\ttotal: 6.64s\tremaining: 9.59s\n",
      "818:\tlearn: 0.4080590\ttotal: 6.65s\tremaining: 9.58s\n",
      "819:\tlearn: 0.4080715\ttotal: 6.65s\tremaining: 9.58s\n",
      "820:\tlearn: 0.4080748\ttotal: 6.66s\tremaining: 9.57s\n",
      "821:\tlearn: 0.4080007\ttotal: 6.67s\tremaining: 9.56s\n",
      "822:\tlearn: 0.4079906\ttotal: 6.68s\tremaining: 9.55s\n",
      "823:\tlearn: 0.4079305\ttotal: 6.69s\tremaining: 9.54s\n",
      "824:\tlearn: 0.4078954\ttotal: 6.69s\tremaining: 9.53s\n",
      "825:\tlearn: 0.4078237\ttotal: 6.7s\tremaining: 9.53s\n",
      "826:\tlearn: 0.4077537\ttotal: 6.71s\tremaining: 9.52s\n",
      "827:\tlearn: 0.4077648\ttotal: 6.72s\tremaining: 9.51s\n",
      "828:\tlearn: 0.4077232\ttotal: 6.72s\tremaining: 9.5s\n",
      "829:\tlearn: 0.4077142\ttotal: 6.73s\tremaining: 9.49s\n",
      "830:\tlearn: 0.4077291\ttotal: 6.74s\tremaining: 9.48s\n",
      "831:\tlearn: 0.4077276\ttotal: 6.75s\tremaining: 9.47s\n",
      "832:\tlearn: 0.4077022\ttotal: 6.76s\tremaining: 9.47s\n",
      "833:\tlearn: 0.4076603\ttotal: 6.76s\tremaining: 9.46s\n",
      "834:\tlearn: 0.4076291\ttotal: 6.77s\tremaining: 9.45s\n",
      "835:\tlearn: 0.4075116\ttotal: 6.78s\tremaining: 9.44s\n",
      "836:\tlearn: 0.4074421\ttotal: 6.79s\tremaining: 9.43s\n",
      "837:\tlearn: 0.4074266\ttotal: 6.8s\tremaining: 9.42s\n",
      "838:\tlearn: 0.4074495\ttotal: 6.8s\tremaining: 9.41s\n",
      "839:\tlearn: 0.4074163\ttotal: 6.81s\tremaining: 9.41s\n",
      "840:\tlearn: 0.4074161\ttotal: 6.82s\tremaining: 9.4s\n",
      "841:\tlearn: 0.4072319\ttotal: 6.83s\tremaining: 9.39s\n",
      "842:\tlearn: 0.4071857\ttotal: 6.83s\tremaining: 9.38s\n",
      "843:\tlearn: 0.4071023\ttotal: 6.84s\tremaining: 9.37s\n",
      "844:\tlearn: 0.4070886\ttotal: 6.85s\tremaining: 9.37s\n",
      "845:\tlearn: 0.4070429\ttotal: 6.86s\tremaining: 9.36s\n",
      "846:\tlearn: 0.4070332\ttotal: 6.87s\tremaining: 9.35s\n",
      "847:\tlearn: 0.4069698\ttotal: 6.88s\tremaining: 9.34s\n",
      "848:\tlearn: 0.4067900\ttotal: 6.88s\tremaining: 9.33s\n",
      "849:\tlearn: 0.4066839\ttotal: 6.89s\tremaining: 9.32s\n",
      "850:\tlearn: 0.4066700\ttotal: 6.9s\tremaining: 9.31s\n",
      "851:\tlearn: 0.4065406\ttotal: 6.91s\tremaining: 9.31s\n",
      "852:\tlearn: 0.4065256\ttotal: 6.92s\tremaining: 9.3s\n",
      "853:\tlearn: 0.4064777\ttotal: 6.92s\tremaining: 9.29s\n",
      "854:\tlearn: 0.4063208\ttotal: 6.93s\tremaining: 9.28s\n",
      "855:\tlearn: 0.4062484\ttotal: 6.94s\tremaining: 9.27s\n",
      "856:\tlearn: 0.4062716\ttotal: 6.95s\tremaining: 9.26s\n",
      "857:\tlearn: 0.4062275\ttotal: 6.95s\tremaining: 9.26s\n",
      "858:\tlearn: 0.4060333\ttotal: 6.96s\tremaining: 9.25s\n",
      "859:\tlearn: 0.4060296\ttotal: 6.97s\tremaining: 9.24s\n",
      "860:\tlearn: 0.4059830\ttotal: 6.98s\tremaining: 9.23s\n",
      "861:\tlearn: 0.4059737\ttotal: 6.99s\tremaining: 9.22s\n",
      "862:\tlearn: 0.4060159\ttotal: 6.99s\tremaining: 9.21s\n",
      "863:\tlearn: 0.4060144\ttotal: 7s\tremaining: 9.21s\n",
      "864:\tlearn: 0.4059666\ttotal: 7.01s\tremaining: 9.2s\n",
      "865:\tlearn: 0.4059686\ttotal: 7.02s\tremaining: 9.19s\n",
      "866:\tlearn: 0.4059291\ttotal: 7.03s\tremaining: 9.18s\n",
      "867:\tlearn: 0.4058969\ttotal: 7.03s\tremaining: 9.17s\n",
      "868:\tlearn: 0.4059267\ttotal: 7.04s\tremaining: 9.16s\n",
      "869:\tlearn: 0.4059146\ttotal: 7.05s\tremaining: 9.15s\n",
      "870:\tlearn: 0.4058947\ttotal: 7.06s\tremaining: 9.15s\n",
      "871:\tlearn: 0.4057141\ttotal: 7.06s\tremaining: 9.14s\n",
      "872:\tlearn: 0.4057281\ttotal: 7.07s\tremaining: 9.13s\n",
      "873:\tlearn: 0.4057139\ttotal: 7.08s\tremaining: 9.12s\n",
      "874:\tlearn: 0.4056238\ttotal: 7.09s\tremaining: 9.11s\n",
      "875:\tlearn: 0.4055832\ttotal: 7.09s\tremaining: 9.1s\n",
      "876:\tlearn: 0.4055722\ttotal: 7.1s\tremaining: 9.1s\n",
      "877:\tlearn: 0.4054966\ttotal: 7.11s\tremaining: 9.09s\n",
      "878:\tlearn: 0.4055002\ttotal: 7.12s\tremaining: 9.08s\n",
      "879:\tlearn: 0.4055016\ttotal: 7.13s\tremaining: 9.07s\n",
      "880:\tlearn: 0.4054910\ttotal: 7.13s\tremaining: 9.06s\n",
      "881:\tlearn: 0.4054655\ttotal: 7.14s\tremaining: 9.05s\n",
      "882:\tlearn: 0.4054505\ttotal: 7.15s\tremaining: 9.04s\n",
      "883:\tlearn: 0.4054236\ttotal: 7.16s\tremaining: 9.04s\n",
      "884:\tlearn: 0.4054156\ttotal: 7.16s\tremaining: 9.03s\n",
      "885:\tlearn: 0.4053816\ttotal: 7.17s\tremaining: 9.02s\n",
      "886:\tlearn: 0.4053379\ttotal: 7.18s\tremaining: 9.01s\n",
      "887:\tlearn: 0.4052244\ttotal: 7.19s\tremaining: 9s\n",
      "888:\tlearn: 0.4052088\ttotal: 7.2s\tremaining: 8.99s\n",
      "889:\tlearn: 0.4052028\ttotal: 7.21s\tremaining: 8.99s\n",
      "890:\tlearn: 0.4051473\ttotal: 7.21s\tremaining: 8.98s\n",
      "891:\tlearn: 0.4051126\ttotal: 7.22s\tremaining: 8.97s\n",
      "892:\tlearn: 0.4051501\ttotal: 7.23s\tremaining: 8.96s\n",
      "893:\tlearn: 0.4050869\ttotal: 7.24s\tremaining: 8.95s\n",
      "894:\tlearn: 0.4051329\ttotal: 7.25s\tremaining: 8.95s\n",
      "895:\tlearn: 0.4050942\ttotal: 7.25s\tremaining: 8.94s\n",
      "896:\tlearn: 0.4051075\ttotal: 7.26s\tremaining: 8.93s\n",
      "897:\tlearn: 0.4050847\ttotal: 7.27s\tremaining: 8.92s\n",
      "898:\tlearn: 0.4050588\ttotal: 7.28s\tremaining: 8.91s\n",
      "899:\tlearn: 0.4050572\ttotal: 7.29s\tremaining: 8.9s\n",
      "900:\tlearn: 0.4050251\ttotal: 7.29s\tremaining: 8.9s\n",
      "901:\tlearn: 0.4050605\ttotal: 7.3s\tremaining: 8.89s\n",
      "902:\tlearn: 0.4050512\ttotal: 7.31s\tremaining: 8.88s\n",
      "903:\tlearn: 0.4050401\ttotal: 7.32s\tremaining: 8.87s\n",
      "904:\tlearn: 0.4050281\ttotal: 7.33s\tremaining: 8.86s\n",
      "905:\tlearn: 0.4049859\ttotal: 7.33s\tremaining: 8.86s\n",
      "906:\tlearn: 0.4050018\ttotal: 7.34s\tremaining: 8.85s\n",
      "907:\tlearn: 0.4049589\ttotal: 7.35s\tremaining: 8.84s\n",
      "908:\tlearn: 0.4048024\ttotal: 7.36s\tremaining: 8.83s\n",
      "909:\tlearn: 0.4047837\ttotal: 7.37s\tremaining: 8.82s\n",
      "910:\tlearn: 0.4048450\ttotal: 7.37s\tremaining: 8.81s\n",
      "911:\tlearn: 0.4047855\ttotal: 7.38s\tremaining: 8.8s\n",
      "912:\tlearn: 0.4047152\ttotal: 7.39s\tremaining: 8.8s\n",
      "913:\tlearn: 0.4046441\ttotal: 7.4s\tremaining: 8.79s\n",
      "914:\tlearn: 0.4046338\ttotal: 7.4s\tremaining: 8.78s\n",
      "915:\tlearn: 0.4046028\ttotal: 7.41s\tremaining: 8.77s\n",
      "916:\tlearn: 0.4046064\ttotal: 7.42s\tremaining: 8.76s\n",
      "917:\tlearn: 0.4043997\ttotal: 7.43s\tremaining: 8.75s\n",
      "918:\tlearn: 0.4044103\ttotal: 7.43s\tremaining: 8.75s\n",
      "919:\tlearn: 0.4043608\ttotal: 7.44s\tremaining: 8.74s\n",
      "920:\tlearn: 0.4041686\ttotal: 7.45s\tremaining: 8.73s\n",
      "921:\tlearn: 0.4041595\ttotal: 7.46s\tremaining: 8.72s\n",
      "922:\tlearn: 0.4040649\ttotal: 7.47s\tremaining: 8.71s\n",
      "923:\tlearn: 0.4040359\ttotal: 7.48s\tremaining: 8.71s\n",
      "924:\tlearn: 0.4040049\ttotal: 7.49s\tremaining: 8.7s\n",
      "925:\tlearn: 0.4039884\ttotal: 7.49s\tremaining: 8.69s\n",
      "926:\tlearn: 0.4039594\ttotal: 7.5s\tremaining: 8.68s\n",
      "927:\tlearn: 0.4039628\ttotal: 7.51s\tremaining: 8.68s\n",
      "928:\tlearn: 0.4038869\ttotal: 7.52s\tremaining: 8.67s\n",
      "929:\tlearn: 0.4038877\ttotal: 7.53s\tremaining: 8.66s\n",
      "930:\tlearn: 0.4037315\ttotal: 7.53s\tremaining: 8.65s\n",
      "931:\tlearn: 0.4036666\ttotal: 7.54s\tremaining: 8.64s\n",
      "932:\tlearn: 0.4035923\ttotal: 7.55s\tremaining: 8.63s\n",
      "933:\tlearn: 0.4035556\ttotal: 7.56s\tremaining: 8.62s\n",
      "934:\tlearn: 0.4035374\ttotal: 7.56s\tremaining: 8.62s\n",
      "935:\tlearn: 0.4035566\ttotal: 7.57s\tremaining: 8.61s\n",
      "936:\tlearn: 0.4035370\ttotal: 7.58s\tremaining: 8.6s\n",
      "937:\tlearn: 0.4034804\ttotal: 7.59s\tremaining: 8.59s\n",
      "938:\tlearn: 0.4034992\ttotal: 7.59s\tremaining: 8.58s\n",
      "939:\tlearn: 0.4034595\ttotal: 7.6s\tremaining: 8.57s\n",
      "940:\tlearn: 0.4034330\ttotal: 7.61s\tremaining: 8.56s\n",
      "941:\tlearn: 0.4033059\ttotal: 7.62s\tremaining: 8.56s\n",
      "942:\tlearn: 0.4033185\ttotal: 7.63s\tremaining: 8.55s\n",
      "943:\tlearn: 0.4033402\ttotal: 7.63s\tremaining: 8.54s\n",
      "944:\tlearn: 0.4032862\ttotal: 7.64s\tremaining: 8.53s\n",
      "945:\tlearn: 0.4032672\ttotal: 7.65s\tremaining: 8.52s\n",
      "946:\tlearn: 0.4032118\ttotal: 7.66s\tremaining: 8.52s\n",
      "947:\tlearn: 0.4031455\ttotal: 7.67s\tremaining: 8.51s\n",
      "948:\tlearn: 0.4031591\ttotal: 7.67s\tremaining: 8.5s\n",
      "949:\tlearn: 0.4030552\ttotal: 7.68s\tremaining: 8.49s\n",
      "950:\tlearn: 0.4030160\ttotal: 7.69s\tremaining: 8.48s\n",
      "951:\tlearn: 0.4027559\ttotal: 7.7s\tremaining: 8.47s\n",
      "952:\tlearn: 0.4026285\ttotal: 7.71s\tremaining: 8.47s\n",
      "953:\tlearn: 0.4026784\ttotal: 7.71s\tremaining: 8.46s\n",
      "954:\tlearn: 0.4026754\ttotal: 7.72s\tremaining: 8.45s\n",
      "955:\tlearn: 0.4026546\ttotal: 7.73s\tremaining: 8.44s\n",
      "956:\tlearn: 0.4026566\ttotal: 7.74s\tremaining: 8.43s\n",
      "957:\tlearn: 0.4026331\ttotal: 7.75s\tremaining: 8.43s\n",
      "958:\tlearn: 0.4025921\ttotal: 7.75s\tremaining: 8.42s\n",
      "959:\tlearn: 0.4025701\ttotal: 7.76s\tremaining: 8.41s\n",
      "960:\tlearn: 0.4025684\ttotal: 7.77s\tremaining: 8.4s\n",
      "961:\tlearn: 0.4024878\ttotal: 7.78s\tremaining: 8.39s\n",
      "962:\tlearn: 0.4025133\ttotal: 7.79s\tremaining: 8.38s\n",
      "963:\tlearn: 0.4024612\ttotal: 7.79s\tremaining: 8.37s\n",
      "964:\tlearn: 0.4024590\ttotal: 7.8s\tremaining: 8.37s\n",
      "965:\tlearn: 0.4024108\ttotal: 7.81s\tremaining: 8.36s\n",
      "966:\tlearn: 0.4024096\ttotal: 7.82s\tremaining: 8.35s\n",
      "967:\tlearn: 0.4024160\ttotal: 7.82s\tremaining: 8.34s\n",
      "968:\tlearn: 0.4024867\ttotal: 7.83s\tremaining: 8.33s\n",
      "969:\tlearn: 0.4024535\ttotal: 7.84s\tremaining: 8.32s\n",
      "970:\tlearn: 0.4023386\ttotal: 7.85s\tremaining: 8.31s\n",
      "971:\tlearn: 0.4023817\ttotal: 7.86s\tremaining: 8.31s\n",
      "972:\tlearn: 0.4023469\ttotal: 7.86s\tremaining: 8.3s\n",
      "973:\tlearn: 0.4023107\ttotal: 7.87s\tremaining: 8.29s\n",
      "974:\tlearn: 0.4022796\ttotal: 7.88s\tremaining: 8.28s\n",
      "975:\tlearn: 0.4020931\ttotal: 7.89s\tremaining: 8.28s\n",
      "976:\tlearn: 0.4020540\ttotal: 7.9s\tremaining: 8.27s\n",
      "977:\tlearn: 0.4019628\ttotal: 7.9s\tremaining: 8.26s\n",
      "978:\tlearn: 0.4019562\ttotal: 7.91s\tremaining: 8.25s\n",
      "979:\tlearn: 0.4019725\ttotal: 7.92s\tremaining: 8.24s\n",
      "980:\tlearn: 0.4019798\ttotal: 7.93s\tremaining: 8.23s\n",
      "981:\tlearn: 0.4019852\ttotal: 7.93s\tremaining: 8.23s\n",
      "982:\tlearn: 0.4018422\ttotal: 7.94s\tremaining: 8.22s\n",
      "983:\tlearn: 0.4016861\ttotal: 7.95s\tremaining: 8.21s\n",
      "984:\tlearn: 0.4016413\ttotal: 7.96s\tremaining: 8.2s\n",
      "985:\tlearn: 0.4015353\ttotal: 7.97s\tremaining: 8.19s\n",
      "986:\tlearn: 0.4015335\ttotal: 7.97s\tremaining: 8.19s\n",
      "987:\tlearn: 0.4015062\ttotal: 7.98s\tremaining: 8.18s\n",
      "988:\tlearn: 0.4014262\ttotal: 7.99s\tremaining: 8.17s\n",
      "989:\tlearn: 0.4014351\ttotal: 8s\tremaining: 8.16s\n",
      "990:\tlearn: 0.4014263\ttotal: 8.01s\tremaining: 8.15s\n",
      "991:\tlearn: 0.4014046\ttotal: 8.01s\tremaining: 8.14s\n",
      "992:\tlearn: 0.4013829\ttotal: 8.02s\tremaining: 8.13s\n",
      "993:\tlearn: 0.4013267\ttotal: 8.03s\tremaining: 8.13s\n",
      "994:\tlearn: 0.4012929\ttotal: 8.04s\tremaining: 8.12s\n",
      "995:\tlearn: 0.4012531\ttotal: 8.04s\tremaining: 8.11s\n",
      "996:\tlearn: 0.4012302\ttotal: 8.05s\tremaining: 8.1s\n",
      "997:\tlearn: 0.4009977\ttotal: 8.06s\tremaining: 8.09s\n",
      "998:\tlearn: 0.4009750\ttotal: 8.07s\tremaining: 8.09s\n",
      "999:\tlearn: 0.4009503\ttotal: 8.08s\tremaining: 8.08s\n",
      "1000:\tlearn: 0.4009479\ttotal: 8.09s\tremaining: 8.07s\n",
      "1001:\tlearn: 0.4009286\ttotal: 8.09s\tremaining: 8.06s\n",
      "1002:\tlearn: 0.4008685\ttotal: 8.1s\tremaining: 8.05s\n",
      "1003:\tlearn: 0.4008291\ttotal: 8.11s\tremaining: 8.04s\n",
      "1004:\tlearn: 0.4007589\ttotal: 8.12s\tremaining: 8.04s\n",
      "1005:\tlearn: 0.4007875\ttotal: 8.12s\tremaining: 8.03s\n",
      "1006:\tlearn: 0.4006509\ttotal: 8.13s\tremaining: 8.02s\n",
      "1007:\tlearn: 0.4006849\ttotal: 8.14s\tremaining: 8.01s\n",
      "1008:\tlearn: 0.4007176\ttotal: 8.15s\tremaining: 8s\n",
      "1009:\tlearn: 0.4007019\ttotal: 8.15s\tremaining: 7.99s\n",
      "1010:\tlearn: 0.4006803\ttotal: 8.16s\tremaining: 7.98s\n",
      "1011:\tlearn: 0.4006752\ttotal: 8.17s\tremaining: 7.98s\n",
      "1012:\tlearn: 0.4006725\ttotal: 8.18s\tremaining: 7.97s\n",
      "1013:\tlearn: 0.4006319\ttotal: 8.19s\tremaining: 7.96s\n",
      "1014:\tlearn: 0.4006055\ttotal: 8.19s\tremaining: 7.95s\n",
      "1015:\tlearn: 0.4005917\ttotal: 8.2s\tremaining: 7.94s\n",
      "1016:\tlearn: 0.4005877\ttotal: 8.21s\tremaining: 7.94s\n",
      "1017:\tlearn: 0.4005704\ttotal: 8.22s\tremaining: 7.93s\n",
      "1018:\tlearn: 0.4005082\ttotal: 8.23s\tremaining: 7.92s\n",
      "1019:\tlearn: 0.4004474\ttotal: 8.24s\tremaining: 7.91s\n",
      "1020:\tlearn: 0.4003912\ttotal: 8.24s\tremaining: 7.9s\n",
      "1021:\tlearn: 0.4004061\ttotal: 8.25s\tremaining: 7.9s\n",
      "1022:\tlearn: 0.4003697\ttotal: 8.26s\tremaining: 7.89s\n",
      "1023:\tlearn: 0.4004020\ttotal: 8.27s\tremaining: 7.88s\n",
      "1024:\tlearn: 0.4003639\ttotal: 8.28s\tremaining: 7.87s\n",
      "1025:\tlearn: 0.4001632\ttotal: 8.28s\tremaining: 7.86s\n",
      "1026:\tlearn: 0.4001620\ttotal: 8.29s\tremaining: 7.86s\n",
      "1027:\tlearn: 0.4001217\ttotal: 8.3s\tremaining: 7.85s\n",
      "1028:\tlearn: 0.4001044\ttotal: 8.31s\tremaining: 7.84s\n",
      "1029:\tlearn: 0.4000915\ttotal: 8.32s\tremaining: 7.83s\n",
      "1030:\tlearn: 0.4000450\ttotal: 8.32s\tremaining: 7.82s\n",
      "1031:\tlearn: 0.4000468\ttotal: 8.33s\tremaining: 7.82s\n",
      "1032:\tlearn: 0.4000149\ttotal: 8.34s\tremaining: 7.81s\n",
      "1033:\tlearn: 0.4000199\ttotal: 8.35s\tremaining: 7.8s\n",
      "1034:\tlearn: 0.4000309\ttotal: 8.35s\tremaining: 7.79s\n",
      "1035:\tlearn: 0.3999225\ttotal: 8.36s\tremaining: 7.78s\n",
      "1036:\tlearn: 0.3999408\ttotal: 8.37s\tremaining: 7.77s\n",
      "1037:\tlearn: 0.3998304\ttotal: 8.38s\tremaining: 7.76s\n",
      "1038:\tlearn: 0.3997587\ttotal: 8.38s\tremaining: 7.76s\n",
      "1039:\tlearn: 0.3997212\ttotal: 8.39s\tremaining: 7.75s\n",
      "1040:\tlearn: 0.3996649\ttotal: 8.4s\tremaining: 7.74s\n",
      "1041:\tlearn: 0.3996509\ttotal: 8.41s\tremaining: 7.73s\n",
      "1042:\tlearn: 0.3997210\ttotal: 8.42s\tremaining: 7.72s\n",
      "1043:\tlearn: 0.3996940\ttotal: 8.43s\tremaining: 7.71s\n",
      "1044:\tlearn: 0.3996864\ttotal: 8.43s\tremaining: 7.71s\n",
      "1045:\tlearn: 0.3996833\ttotal: 8.44s\tremaining: 7.7s\n",
      "1046:\tlearn: 0.3996334\ttotal: 8.45s\tremaining: 7.69s\n",
      "1047:\tlearn: 0.3995201\ttotal: 8.46s\tremaining: 7.68s\n",
      "1048:\tlearn: 0.3994539\ttotal: 8.46s\tremaining: 7.67s\n",
      "1049:\tlearn: 0.3994459\ttotal: 8.47s\tremaining: 7.67s\n",
      "1050:\tlearn: 0.3994512\ttotal: 8.48s\tremaining: 7.66s\n",
      "1051:\tlearn: 0.3994156\ttotal: 8.49s\tremaining: 7.65s\n",
      "1052:\tlearn: 0.3994286\ttotal: 8.5s\tremaining: 7.64s\n",
      "1053:\tlearn: 0.3994034\ttotal: 8.51s\tremaining: 7.64s\n",
      "1054:\tlearn: 0.3993882\ttotal: 8.52s\tremaining: 7.63s\n",
      "1055:\tlearn: 0.3993399\ttotal: 8.52s\tremaining: 7.62s\n",
      "1056:\tlearn: 0.3993129\ttotal: 8.53s\tremaining: 7.61s\n",
      "1057:\tlearn: 0.3992806\ttotal: 8.54s\tremaining: 7.6s\n",
      "1058:\tlearn: 0.3992424\ttotal: 8.55s\tremaining: 7.59s\n",
      "1059:\tlearn: 0.3992169\ttotal: 8.55s\tremaining: 7.59s\n",
      "1060:\tlearn: 0.3991992\ttotal: 8.56s\tremaining: 7.58s\n",
      "1061:\tlearn: 0.3991753\ttotal: 8.57s\tremaining: 7.57s\n",
      "1062:\tlearn: 0.3990666\ttotal: 8.58s\tremaining: 7.56s\n",
      "1063:\tlearn: 0.3990437\ttotal: 8.59s\tremaining: 7.55s\n",
      "1064:\tlearn: 0.3990410\ttotal: 8.59s\tremaining: 7.54s\n",
      "1065:\tlearn: 0.3989768\ttotal: 8.6s\tremaining: 7.54s\n",
      "1066:\tlearn: 0.3989563\ttotal: 8.61s\tremaining: 7.53s\n",
      "1067:\tlearn: 0.3989090\ttotal: 8.62s\tremaining: 7.52s\n",
      "1068:\tlearn: 0.3988858\ttotal: 8.62s\tremaining: 7.51s\n",
      "1069:\tlearn: 0.3988789\ttotal: 8.63s\tremaining: 7.5s\n",
      "1070:\tlearn: 0.3988855\ttotal: 8.64s\tremaining: 7.49s\n",
      "1071:\tlearn: 0.3988488\ttotal: 8.65s\tremaining: 7.49s\n",
      "1072:\tlearn: 0.3988405\ttotal: 8.65s\tremaining: 7.48s\n",
      "1073:\tlearn: 0.3988170\ttotal: 8.66s\tremaining: 7.47s\n",
      "1074:\tlearn: 0.3987528\ttotal: 8.67s\tremaining: 7.46s\n",
      "1075:\tlearn: 0.3987377\ttotal: 8.68s\tremaining: 7.45s\n",
      "1076:\tlearn: 0.3987348\ttotal: 8.69s\tremaining: 7.44s\n",
      "1077:\tlearn: 0.3986177\ttotal: 8.69s\tremaining: 7.44s\n",
      "1078:\tlearn: 0.3985827\ttotal: 8.7s\tremaining: 7.43s\n",
      "1079:\tlearn: 0.3985417\ttotal: 8.71s\tremaining: 7.42s\n",
      "1080:\tlearn: 0.3985283\ttotal: 8.72s\tremaining: 7.41s\n",
      "1081:\tlearn: 0.3985355\ttotal: 8.73s\tremaining: 7.4s\n",
      "1082:\tlearn: 0.3984723\ttotal: 8.73s\tremaining: 7.39s\n",
      "1083:\tlearn: 0.3984033\ttotal: 8.74s\tremaining: 7.39s\n",
      "1084:\tlearn: 0.3984003\ttotal: 8.75s\tremaining: 7.38s\n",
      "1085:\tlearn: 0.3983564\ttotal: 8.76s\tremaining: 7.37s\n",
      "1086:\tlearn: 0.3982960\ttotal: 8.77s\tremaining: 7.36s\n",
      "1087:\tlearn: 0.3982854\ttotal: 8.77s\tremaining: 7.36s\n",
      "1088:\tlearn: 0.3982730\ttotal: 8.78s\tremaining: 7.35s\n",
      "1089:\tlearn: 0.3982589\ttotal: 8.79s\tremaining: 7.34s\n",
      "1090:\tlearn: 0.3981962\ttotal: 8.8s\tremaining: 7.33s\n",
      "1091:\tlearn: 0.3981682\ttotal: 8.8s\tremaining: 7.32s\n",
      "1092:\tlearn: 0.3981083\ttotal: 8.81s\tremaining: 7.31s\n",
      "1093:\tlearn: 0.3980428\ttotal: 8.82s\tremaining: 7.3s\n",
      "1094:\tlearn: 0.3980609\ttotal: 8.83s\tremaining: 7.3s\n",
      "1095:\tlearn: 0.3980578\ttotal: 8.84s\tremaining: 7.29s\n",
      "1096:\tlearn: 0.3980334\ttotal: 8.85s\tremaining: 7.28s\n",
      "1097:\tlearn: 0.3980158\ttotal: 8.85s\tremaining: 7.27s\n",
      "1098:\tlearn: 0.3979705\ttotal: 8.86s\tremaining: 7.26s\n",
      "1099:\tlearn: 0.3978811\ttotal: 8.87s\tremaining: 7.25s\n",
      "1100:\tlearn: 0.3977793\ttotal: 8.88s\tremaining: 7.25s\n",
      "1101:\tlearn: 0.3977486\ttotal: 8.88s\tremaining: 7.24s\n",
      "1102:\tlearn: 0.3976115\ttotal: 8.89s\tremaining: 7.23s\n",
      "1103:\tlearn: 0.3975996\ttotal: 8.9s\tremaining: 7.22s\n",
      "1104:\tlearn: 0.3976062\ttotal: 8.91s\tremaining: 7.21s\n",
      "1105:\tlearn: 0.3975830\ttotal: 8.92s\tremaining: 7.21s\n",
      "1106:\tlearn: 0.3975511\ttotal: 8.92s\tremaining: 7.2s\n",
      "1107:\tlearn: 0.3975347\ttotal: 8.93s\tremaining: 7.19s\n",
      "1108:\tlearn: 0.3975478\ttotal: 8.94s\tremaining: 7.18s\n",
      "1109:\tlearn: 0.3975497\ttotal: 8.95s\tremaining: 7.17s\n",
      "1110:\tlearn: 0.3975719\ttotal: 8.96s\tremaining: 7.17s\n",
      "1111:\tlearn: 0.3975336\ttotal: 8.96s\tremaining: 7.16s\n",
      "1112:\tlearn: 0.3975225\ttotal: 8.97s\tremaining: 7.15s\n",
      "1113:\tlearn: 0.3974589\ttotal: 8.98s\tremaining: 7.14s\n",
      "1114:\tlearn: 0.3974083\ttotal: 8.99s\tremaining: 7.13s\n",
      "1115:\tlearn: 0.3973893\ttotal: 8.99s\tremaining: 7.12s\n",
      "1116:\tlearn: 0.3974108\ttotal: 9s\tremaining: 7.12s\n",
      "1117:\tlearn: 0.3974126\ttotal: 9.01s\tremaining: 7.11s\n",
      "1118:\tlearn: 0.3973171\ttotal: 9.02s\tremaining: 7.1s\n",
      "1119:\tlearn: 0.3972722\ttotal: 9.02s\tremaining: 7.09s\n",
      "1120:\tlearn: 0.3972904\ttotal: 9.03s\tremaining: 7.08s\n",
      "1121:\tlearn: 0.3973084\ttotal: 9.04s\tremaining: 7.07s\n",
      "1122:\tlearn: 0.3972916\ttotal: 9.05s\tremaining: 7.07s\n",
      "1123:\tlearn: 0.3972517\ttotal: 9.05s\tremaining: 7.06s\n",
      "1124:\tlearn: 0.3972812\ttotal: 9.06s\tremaining: 7.05s\n",
      "1125:\tlearn: 0.3971915\ttotal: 9.07s\tremaining: 7.04s\n",
      "1126:\tlearn: 0.3972026\ttotal: 9.08s\tremaining: 7.03s\n",
      "1127:\tlearn: 0.3972130\ttotal: 9.09s\tremaining: 7.02s\n",
      "1128:\tlearn: 0.3971912\ttotal: 9.09s\tremaining: 7.02s\n",
      "1129:\tlearn: 0.3971389\ttotal: 9.1s\tremaining: 7.01s\n",
      "1130:\tlearn: 0.3971096\ttotal: 9.11s\tremaining: 7s\n",
      "1131:\tlearn: 0.3970752\ttotal: 9.12s\tremaining: 6.99s\n",
      "1132:\tlearn: 0.3970421\ttotal: 9.13s\tremaining: 6.98s\n",
      "1133:\tlearn: 0.3969565\ttotal: 9.13s\tremaining: 6.97s\n",
      "1134:\tlearn: 0.3969321\ttotal: 9.14s\tremaining: 6.97s\n",
      "1135:\tlearn: 0.3969104\ttotal: 9.15s\tremaining: 6.96s\n",
      "1136:\tlearn: 0.3967829\ttotal: 9.16s\tremaining: 6.95s\n",
      "1137:\tlearn: 0.3967621\ttotal: 9.16s\tremaining: 6.94s\n",
      "1138:\tlearn: 0.3967868\ttotal: 9.17s\tremaining: 6.93s\n",
      "1139:\tlearn: 0.3967491\ttotal: 9.18s\tremaining: 6.93s\n",
      "1140:\tlearn: 0.3967043\ttotal: 9.19s\tremaining: 6.92s\n",
      "1141:\tlearn: 0.3966867\ttotal: 9.2s\tremaining: 6.91s\n",
      "1142:\tlearn: 0.3967004\ttotal: 9.21s\tremaining: 6.9s\n",
      "1143:\tlearn: 0.3966408\ttotal: 9.21s\tremaining: 6.89s\n",
      "1144:\tlearn: 0.3965879\ttotal: 9.22s\tremaining: 6.89s\n",
      "1145:\tlearn: 0.3965665\ttotal: 9.23s\tremaining: 6.88s\n",
      "1146:\tlearn: 0.3965558\ttotal: 9.24s\tremaining: 6.87s\n",
      "1147:\tlearn: 0.3965167\ttotal: 9.24s\tremaining: 6.86s\n",
      "1148:\tlearn: 0.3964981\ttotal: 9.25s\tremaining: 6.85s\n",
      "1149:\tlearn: 0.3964107\ttotal: 9.26s\tremaining: 6.84s\n",
      "1150:\tlearn: 0.3963609\ttotal: 9.27s\tremaining: 6.84s\n",
      "1151:\tlearn: 0.3963516\ttotal: 9.28s\tremaining: 6.83s\n",
      "1152:\tlearn: 0.3963134\ttotal: 9.28s\tremaining: 6.82s\n",
      "1153:\tlearn: 0.3962975\ttotal: 9.29s\tremaining: 6.81s\n",
      "1154:\tlearn: 0.3962658\ttotal: 9.3s\tremaining: 6.8s\n",
      "1155:\tlearn: 0.3962217\ttotal: 9.31s\tremaining: 6.8s\n",
      "1156:\tlearn: 0.3962652\ttotal: 9.32s\tremaining: 6.79s\n",
      "1157:\tlearn: 0.3962729\ttotal: 9.32s\tremaining: 6.78s\n",
      "1158:\tlearn: 0.3962438\ttotal: 9.33s\tremaining: 6.77s\n",
      "1159:\tlearn: 0.3962201\ttotal: 9.34s\tremaining: 6.76s\n",
      "1160:\tlearn: 0.3961568\ttotal: 9.35s\tremaining: 6.76s\n",
      "1161:\tlearn: 0.3961336\ttotal: 9.36s\tremaining: 6.75s\n",
      "1162:\tlearn: 0.3961287\ttotal: 9.37s\tremaining: 6.74s\n",
      "1163:\tlearn: 0.3961099\ttotal: 9.37s\tremaining: 6.73s\n",
      "1164:\tlearn: 0.3961090\ttotal: 9.38s\tremaining: 6.72s\n",
      "1165:\tlearn: 0.3960784\ttotal: 9.39s\tremaining: 6.72s\n",
      "1166:\tlearn: 0.3960730\ttotal: 9.4s\tremaining: 6.71s\n",
      "1167:\tlearn: 0.3960042\ttotal: 9.41s\tremaining: 6.7s\n",
      "1168:\tlearn: 0.3960074\ttotal: 9.41s\tremaining: 6.69s\n",
      "1169:\tlearn: 0.3960007\ttotal: 9.42s\tremaining: 6.68s\n",
      "1170:\tlearn: 0.3960180\ttotal: 9.43s\tremaining: 6.68s\n",
      "1171:\tlearn: 0.3960017\ttotal: 9.44s\tremaining: 6.67s\n",
      "1172:\tlearn: 0.3959773\ttotal: 9.45s\tremaining: 6.66s\n",
      "1173:\tlearn: 0.3959224\ttotal: 9.45s\tremaining: 6.65s\n",
      "1174:\tlearn: 0.3958951\ttotal: 9.46s\tremaining: 6.64s\n",
      "1175:\tlearn: 0.3958609\ttotal: 9.47s\tremaining: 6.63s\n",
      "1176:\tlearn: 0.3958422\ttotal: 9.48s\tremaining: 6.63s\n",
      "1177:\tlearn: 0.3958031\ttotal: 9.49s\tremaining: 6.62s\n",
      "1178:\tlearn: 0.3957893\ttotal: 9.49s\tremaining: 6.61s\n",
      "1179:\tlearn: 0.3957752\ttotal: 9.5s\tremaining: 6.6s\n",
      "1180:\tlearn: 0.3957599\ttotal: 9.51s\tremaining: 6.59s\n",
      "1181:\tlearn: 0.3957446\ttotal: 9.52s\tremaining: 6.59s\n",
      "1182:\tlearn: 0.3957711\ttotal: 9.53s\tremaining: 6.58s\n",
      "1183:\tlearn: 0.3957167\ttotal: 9.54s\tremaining: 6.57s\n",
      "1184:\tlearn: 0.3957143\ttotal: 9.54s\tremaining: 6.56s\n",
      "1185:\tlearn: 0.3957357\ttotal: 9.56s\tremaining: 6.56s\n",
      "1186:\tlearn: 0.3957447\ttotal: 9.57s\tremaining: 6.55s\n",
      "1187:\tlearn: 0.3957366\ttotal: 9.57s\tremaining: 6.54s\n",
      "1188:\tlearn: 0.3957020\ttotal: 9.58s\tremaining: 6.54s\n",
      "1189:\tlearn: 0.3956648\ttotal: 9.59s\tremaining: 6.53s\n",
      "1190:\tlearn: 0.3955706\ttotal: 9.6s\tremaining: 6.52s\n",
      "1191:\tlearn: 0.3955352\ttotal: 9.61s\tremaining: 6.51s\n",
      "1192:\tlearn: 0.3955512\ttotal: 9.61s\tremaining: 6.5s\n",
      "1193:\tlearn: 0.3955210\ttotal: 9.62s\tremaining: 6.49s\n",
      "1194:\tlearn: 0.3954410\ttotal: 9.63s\tremaining: 6.49s\n",
      "1195:\tlearn: 0.3953363\ttotal: 9.64s\tremaining: 6.48s\n",
      "1196:\tlearn: 0.3953536\ttotal: 9.64s\tremaining: 6.47s\n",
      "1197:\tlearn: 0.3952982\ttotal: 9.65s\tremaining: 6.46s\n",
      "1198:\tlearn: 0.3952943\ttotal: 9.66s\tremaining: 6.45s\n",
      "1199:\tlearn: 0.3953117\ttotal: 9.67s\tremaining: 6.45s\n",
      "1200:\tlearn: 0.3952883\ttotal: 9.68s\tremaining: 6.44s\n",
      "1201:\tlearn: 0.3952616\ttotal: 9.68s\tremaining: 6.43s\n",
      "1202:\tlearn: 0.3952737\ttotal: 9.69s\tremaining: 6.42s\n",
      "1203:\tlearn: 0.3952460\ttotal: 9.7s\tremaining: 6.41s\n",
      "1204:\tlearn: 0.3952081\ttotal: 9.71s\tremaining: 6.4s\n",
      "1205:\tlearn: 0.3951858\ttotal: 9.71s\tremaining: 6.39s\n",
      "1206:\tlearn: 0.3951738\ttotal: 9.72s\tremaining: 6.39s\n",
      "1207:\tlearn: 0.3951954\ttotal: 9.73s\tremaining: 6.38s\n",
      "1208:\tlearn: 0.3951474\ttotal: 9.74s\tremaining: 6.37s\n",
      "1209:\tlearn: 0.3950747\ttotal: 9.75s\tremaining: 6.36s\n",
      "1210:\tlearn: 0.3950845\ttotal: 9.75s\tremaining: 6.36s\n",
      "1211:\tlearn: 0.3950798\ttotal: 9.76s\tremaining: 6.35s\n",
      "1212:\tlearn: 0.3950913\ttotal: 9.77s\tremaining: 6.34s\n",
      "1213:\tlearn: 0.3950919\ttotal: 9.78s\tremaining: 6.33s\n",
      "1214:\tlearn: 0.3950475\ttotal: 9.79s\tremaining: 6.32s\n",
      "1215:\tlearn: 0.3949590\ttotal: 9.79s\tremaining: 6.31s\n",
      "1216:\tlearn: 0.3949755\ttotal: 9.8s\tremaining: 6.31s\n",
      "1217:\tlearn: 0.3949930\ttotal: 9.81s\tremaining: 6.3s\n",
      "1218:\tlearn: 0.3949373\ttotal: 9.82s\tremaining: 6.29s\n",
      "1219:\tlearn: 0.3949254\ttotal: 9.82s\tremaining: 6.28s\n",
      "1220:\tlearn: 0.3949053\ttotal: 9.83s\tremaining: 6.27s\n",
      "1221:\tlearn: 0.3948823\ttotal: 9.84s\tremaining: 6.26s\n",
      "1222:\tlearn: 0.3948727\ttotal: 9.85s\tremaining: 6.26s\n",
      "1223:\tlearn: 0.3948936\ttotal: 9.86s\tremaining: 6.25s\n",
      "1224:\tlearn: 0.3948938\ttotal: 9.86s\tremaining: 6.24s\n",
      "1225:\tlearn: 0.3948394\ttotal: 9.87s\tremaining: 6.23s\n",
      "1226:\tlearn: 0.3948227\ttotal: 9.88s\tremaining: 6.22s\n",
      "1227:\tlearn: 0.3948031\ttotal: 9.89s\tremaining: 6.21s\n",
      "1228:\tlearn: 0.3948100\ttotal: 9.89s\tremaining: 6.21s\n",
      "1229:\tlearn: 0.3947922\ttotal: 9.9s\tremaining: 6.2s\n",
      "1230:\tlearn: 0.3947889\ttotal: 9.91s\tremaining: 6.19s\n",
      "1231:\tlearn: 0.3947508\ttotal: 9.92s\tremaining: 6.18s\n",
      "1232:\tlearn: 0.3946531\ttotal: 9.93s\tremaining: 6.17s\n",
      "1233:\tlearn: 0.3946375\ttotal: 9.93s\tremaining: 6.17s\n",
      "1234:\tlearn: 0.3945861\ttotal: 9.94s\tremaining: 6.16s\n",
      "1235:\tlearn: 0.3945599\ttotal: 9.95s\tremaining: 6.15s\n",
      "1236:\tlearn: 0.3946081\ttotal: 9.96s\tremaining: 6.14s\n",
      "1237:\tlearn: 0.3946273\ttotal: 9.97s\tremaining: 6.13s\n",
      "1238:\tlearn: 0.3946400\ttotal: 9.97s\tremaining: 6.13s\n",
      "1239:\tlearn: 0.3946066\ttotal: 9.98s\tremaining: 6.12s\n",
      "1240:\tlearn: 0.3945827\ttotal: 9.99s\tremaining: 6.11s\n",
      "1241:\tlearn: 0.3945452\ttotal: 10s\tremaining: 6.1s\n",
      "1242:\tlearn: 0.3945828\ttotal: 10s\tremaining: 6.09s\n",
      "1243:\tlearn: 0.3945207\ttotal: 10s\tremaining: 6.09s\n",
      "1244:\tlearn: 0.3945110\ttotal: 10s\tremaining: 6.08s\n",
      "1245:\tlearn: 0.3944838\ttotal: 10s\tremaining: 6.07s\n",
      "1246:\tlearn: 0.3944486\ttotal: 10s\tremaining: 6.06s\n",
      "1247:\tlearn: 0.3944301\ttotal: 10s\tremaining: 6.05s\n",
      "1248:\tlearn: 0.3944210\ttotal: 10.1s\tremaining: 6.04s\n",
      "1249:\tlearn: 0.3943700\ttotal: 10.1s\tremaining: 6.04s\n",
      "1250:\tlearn: 0.3943431\ttotal: 10.1s\tremaining: 6.03s\n",
      "1251:\tlearn: 0.3943346\ttotal: 10.1s\tremaining: 6.02s\n",
      "1252:\tlearn: 0.3943501\ttotal: 10.1s\tremaining: 6.01s\n",
      "1253:\tlearn: 0.3943208\ttotal: 10.1s\tremaining: 6s\n",
      "1254:\tlearn: 0.3942849\ttotal: 10.1s\tremaining: 6s\n",
      "1255:\tlearn: 0.3942981\ttotal: 10.1s\tremaining: 5.99s\n",
      "1256:\tlearn: 0.3942878\ttotal: 10.1s\tremaining: 5.98s\n",
      "1257:\tlearn: 0.3942522\ttotal: 10.1s\tremaining: 5.97s\n",
      "1258:\tlearn: 0.3942465\ttotal: 10.1s\tremaining: 5.96s\n",
      "1259:\tlearn: 0.3942337\ttotal: 10.1s\tremaining: 5.95s\n",
      "1260:\tlearn: 0.3942220\ttotal: 10.1s\tremaining: 5.95s\n",
      "1261:\tlearn: 0.3941441\ttotal: 10.2s\tremaining: 5.94s\n",
      "1262:\tlearn: 0.3941119\ttotal: 10.2s\tremaining: 5.93s\n",
      "1263:\tlearn: 0.3940932\ttotal: 10.2s\tremaining: 5.92s\n",
      "1264:\tlearn: 0.3940799\ttotal: 10.2s\tremaining: 5.92s\n",
      "1265:\tlearn: 0.3940866\ttotal: 10.2s\tremaining: 5.91s\n",
      "1266:\tlearn: 0.3939902\ttotal: 10.2s\tremaining: 5.9s\n",
      "1267:\tlearn: 0.3939810\ttotal: 10.2s\tremaining: 5.89s\n",
      "1268:\tlearn: 0.3939424\ttotal: 10.2s\tremaining: 5.88s\n",
      "1269:\tlearn: 0.3939245\ttotal: 10.2s\tremaining: 5.87s\n",
      "1270:\tlearn: 0.3939546\ttotal: 10.2s\tremaining: 5.87s\n",
      "1271:\tlearn: 0.3939243\ttotal: 10.2s\tremaining: 5.86s\n",
      "1272:\tlearn: 0.3939120\ttotal: 10.2s\tremaining: 5.85s\n",
      "1273:\tlearn: 0.3939001\ttotal: 10.2s\tremaining: 5.84s\n",
      "1274:\tlearn: 0.3938986\ttotal: 10.3s\tremaining: 5.83s\n",
      "1275:\tlearn: 0.3938686\ttotal: 10.3s\tremaining: 5.82s\n",
      "1276:\tlearn: 0.3938503\ttotal: 10.3s\tremaining: 5.82s\n",
      "1277:\tlearn: 0.3938549\ttotal: 10.3s\tremaining: 5.81s\n",
      "1278:\tlearn: 0.3938193\ttotal: 10.3s\tremaining: 5.8s\n",
      "1279:\tlearn: 0.3938108\ttotal: 10.3s\tremaining: 5.79s\n",
      "1280:\tlearn: 0.3937911\ttotal: 10.3s\tremaining: 5.78s\n",
      "1281:\tlearn: 0.3938064\ttotal: 10.3s\tremaining: 5.77s\n",
      "1282:\tlearn: 0.3938085\ttotal: 10.3s\tremaining: 5.77s\n",
      "1283:\tlearn: 0.3937837\ttotal: 10.3s\tremaining: 5.76s\n",
      "1284:\tlearn: 0.3937600\ttotal: 10.3s\tremaining: 5.75s\n",
      "1285:\tlearn: 0.3937331\ttotal: 10.3s\tremaining: 5.74s\n",
      "1286:\tlearn: 0.3937285\ttotal: 10.3s\tremaining: 5.73s\n",
      "1287:\tlearn: 0.3937161\ttotal: 10.4s\tremaining: 5.72s\n",
      "1288:\tlearn: 0.3937276\ttotal: 10.4s\tremaining: 5.72s\n",
      "1289:\tlearn: 0.3936972\ttotal: 10.4s\tremaining: 5.71s\n",
      "1290:\tlearn: 0.3937111\ttotal: 10.4s\tremaining: 5.7s\n",
      "1291:\tlearn: 0.3936931\ttotal: 10.4s\tremaining: 5.69s\n",
      "1292:\tlearn: 0.3936635\ttotal: 10.4s\tremaining: 5.69s\n",
      "1293:\tlearn: 0.3936236\ttotal: 10.4s\tremaining: 5.68s\n",
      "1294:\tlearn: 0.3936072\ttotal: 10.4s\tremaining: 5.67s\n",
      "1295:\tlearn: 0.3936062\ttotal: 10.4s\tremaining: 5.66s\n",
      "1296:\tlearn: 0.3935445\ttotal: 10.4s\tremaining: 5.65s\n",
      "1297:\tlearn: 0.3934589\ttotal: 10.4s\tremaining: 5.65s\n",
      "1298:\tlearn: 0.3934512\ttotal: 10.4s\tremaining: 5.64s\n",
      "1299:\tlearn: 0.3934663\ttotal: 10.5s\tremaining: 5.63s\n",
      "1300:\tlearn: 0.3933890\ttotal: 10.5s\tremaining: 5.62s\n",
      "1301:\tlearn: 0.3932888\ttotal: 10.5s\tremaining: 5.61s\n",
      "1302:\tlearn: 0.3932730\ttotal: 10.5s\tremaining: 5.61s\n",
      "1303:\tlearn: 0.3932981\ttotal: 10.5s\tremaining: 5.6s\n",
      "1304:\tlearn: 0.3932730\ttotal: 10.5s\tremaining: 5.59s\n",
      "1305:\tlearn: 0.3932949\ttotal: 10.5s\tremaining: 5.58s\n",
      "1306:\tlearn: 0.3932429\ttotal: 10.5s\tremaining: 5.57s\n",
      "1307:\tlearn: 0.3932421\ttotal: 10.5s\tremaining: 5.57s\n",
      "1308:\tlearn: 0.3932271\ttotal: 10.5s\tremaining: 5.56s\n",
      "1309:\tlearn: 0.3932082\ttotal: 10.5s\tremaining: 5.55s\n",
      "1310:\tlearn: 0.3931194\ttotal: 10.5s\tremaining: 5.54s\n",
      "1311:\tlearn: 0.3931105\ttotal: 10.6s\tremaining: 5.53s\n",
      "1312:\tlearn: 0.3930731\ttotal: 10.6s\tremaining: 5.53s\n",
      "1313:\tlearn: 0.3929977\ttotal: 10.6s\tremaining: 5.52s\n",
      "1314:\tlearn: 0.3929665\ttotal: 10.6s\tremaining: 5.51s\n",
      "1315:\tlearn: 0.3929631\ttotal: 10.6s\tremaining: 5.5s\n",
      "1316:\tlearn: 0.3929315\ttotal: 10.6s\tremaining: 5.49s\n",
      "1317:\tlearn: 0.3929577\ttotal: 10.6s\tremaining: 5.49s\n",
      "1318:\tlearn: 0.3929590\ttotal: 10.6s\tremaining: 5.48s\n",
      "1319:\tlearn: 0.3929366\ttotal: 10.6s\tremaining: 5.47s\n",
      "1320:\tlearn: 0.3929502\ttotal: 10.6s\tremaining: 5.46s\n",
      "1321:\tlearn: 0.3929542\ttotal: 10.6s\tremaining: 5.45s\n",
      "1322:\tlearn: 0.3929504\ttotal: 10.6s\tremaining: 5.44s\n",
      "1323:\tlearn: 0.3929668\ttotal: 10.6s\tremaining: 5.44s\n",
      "1324:\tlearn: 0.3929533\ttotal: 10.7s\tremaining: 5.43s\n",
      "1325:\tlearn: 0.3929293\ttotal: 10.7s\tremaining: 5.42s\n",
      "1326:\tlearn: 0.3929118\ttotal: 10.7s\tremaining: 5.41s\n",
      "1327:\tlearn: 0.3928957\ttotal: 10.7s\tremaining: 5.4s\n",
      "1328:\tlearn: 0.3928594\ttotal: 10.7s\tremaining: 5.4s\n",
      "1329:\tlearn: 0.3928119\ttotal: 10.7s\tremaining: 5.39s\n",
      "1330:\tlearn: 0.3927481\ttotal: 10.7s\tremaining: 5.38s\n",
      "1331:\tlearn: 0.3926465\ttotal: 10.7s\tremaining: 5.37s\n",
      "1332:\tlearn: 0.3926283\ttotal: 10.7s\tremaining: 5.36s\n",
      "1333:\tlearn: 0.3925800\ttotal: 10.7s\tremaining: 5.35s\n",
      "1334:\tlearn: 0.3925842\ttotal: 10.7s\tremaining: 5.35s\n",
      "1335:\tlearn: 0.3925672\ttotal: 10.7s\tremaining: 5.34s\n",
      "1336:\tlearn: 0.3924907\ttotal: 10.7s\tremaining: 5.33s\n",
      "1337:\tlearn: 0.3924366\ttotal: 10.8s\tremaining: 5.32s\n",
      "1338:\tlearn: 0.3923839\ttotal: 10.8s\tremaining: 5.31s\n",
      "1339:\tlearn: 0.3923650\ttotal: 10.8s\tremaining: 5.31s\n",
      "1340:\tlearn: 0.3923086\ttotal: 10.8s\tremaining: 5.3s\n",
      "1341:\tlearn: 0.3922935\ttotal: 10.8s\tremaining: 5.29s\n",
      "1342:\tlearn: 0.3922913\ttotal: 10.8s\tremaining: 5.28s\n",
      "1343:\tlearn: 0.3923119\ttotal: 10.8s\tremaining: 5.27s\n",
      "1344:\tlearn: 0.3922863\ttotal: 10.8s\tremaining: 5.27s\n",
      "1345:\tlearn: 0.3922559\ttotal: 10.8s\tremaining: 5.26s\n",
      "1346:\tlearn: 0.3921946\ttotal: 10.8s\tremaining: 5.25s\n",
      "1347:\tlearn: 0.3921249\ttotal: 10.8s\tremaining: 5.24s\n",
      "1348:\tlearn: 0.3921343\ttotal: 10.8s\tremaining: 5.23s\n",
      "1349:\tlearn: 0.3921743\ttotal: 10.9s\tremaining: 5.23s\n",
      "1350:\tlearn: 0.3921630\ttotal: 10.9s\tremaining: 5.22s\n",
      "1351:\tlearn: 0.3921687\ttotal: 10.9s\tremaining: 5.21s\n",
      "1352:\tlearn: 0.3921733\ttotal: 10.9s\tremaining: 5.2s\n",
      "1353:\tlearn: 0.3921591\ttotal: 10.9s\tremaining: 5.19s\n",
      "1354:\tlearn: 0.3921354\ttotal: 10.9s\tremaining: 5.19s\n",
      "1355:\tlearn: 0.3919624\ttotal: 10.9s\tremaining: 5.18s\n",
      "1356:\tlearn: 0.3919236\ttotal: 10.9s\tremaining: 5.17s\n",
      "1357:\tlearn: 0.3919524\ttotal: 10.9s\tremaining: 5.16s\n",
      "1358:\tlearn: 0.3919148\ttotal: 10.9s\tremaining: 5.15s\n",
      "1359:\tlearn: 0.3919101\ttotal: 10.9s\tremaining: 5.14s\n",
      "1360:\tlearn: 0.3919451\ttotal: 10.9s\tremaining: 5.14s\n",
      "1361:\tlearn: 0.3919123\ttotal: 10.9s\tremaining: 5.13s\n",
      "1362:\tlearn: 0.3918992\ttotal: 11s\tremaining: 5.12s\n",
      "1363:\tlearn: 0.3918733\ttotal: 11s\tremaining: 5.11s\n",
      "1364:\tlearn: 0.3918730\ttotal: 11s\tremaining: 5.11s\n",
      "1365:\tlearn: 0.3918700\ttotal: 11s\tremaining: 5.1s\n",
      "1366:\tlearn: 0.3918894\ttotal: 11s\tremaining: 5.09s\n",
      "1367:\tlearn: 0.3918472\ttotal: 11s\tremaining: 5.08s\n",
      "1368:\tlearn: 0.3918066\ttotal: 11s\tremaining: 5.07s\n",
      "1369:\tlearn: 0.3917829\ttotal: 11s\tremaining: 5.07s\n",
      "1370:\tlearn: 0.3917736\ttotal: 11s\tremaining: 5.06s\n",
      "1371:\tlearn: 0.3917775\ttotal: 11s\tremaining: 5.05s\n",
      "1372:\tlearn: 0.3917596\ttotal: 11s\tremaining: 5.04s\n",
      "1373:\tlearn: 0.3916907\ttotal: 11s\tremaining: 5.03s\n",
      "1374:\tlearn: 0.3916619\ttotal: 11.1s\tremaining: 5.02s\n",
      "1375:\tlearn: 0.3916624\ttotal: 11.1s\tremaining: 5.02s\n",
      "1376:\tlearn: 0.3915817\ttotal: 11.1s\tremaining: 5.01s\n",
      "1377:\tlearn: 0.3916008\ttotal: 11.1s\tremaining: 5s\n",
      "1378:\tlearn: 0.3915803\ttotal: 11.1s\tremaining: 4.99s\n",
      "1379:\tlearn: 0.3915774\ttotal: 11.1s\tremaining: 4.98s\n",
      "1380:\tlearn: 0.3915486\ttotal: 11.1s\tremaining: 4.98s\n",
      "1381:\tlearn: 0.3914448\ttotal: 11.1s\tremaining: 4.97s\n",
      "1382:\tlearn: 0.3914019\ttotal: 11.1s\tremaining: 4.96s\n",
      "1383:\tlearn: 0.3913915\ttotal: 11.1s\tremaining: 4.95s\n",
      "1384:\tlearn: 0.3914227\ttotal: 11.1s\tremaining: 4.94s\n",
      "1385:\tlearn: 0.3913912\ttotal: 11.1s\tremaining: 4.93s\n",
      "1386:\tlearn: 0.3913968\ttotal: 11.1s\tremaining: 4.93s\n",
      "1387:\tlearn: 0.3914193\ttotal: 11.2s\tremaining: 4.92s\n",
      "1388:\tlearn: 0.3914192\ttotal: 11.2s\tremaining: 4.91s\n",
      "1389:\tlearn: 0.3913920\ttotal: 11.2s\tremaining: 4.9s\n",
      "1390:\tlearn: 0.3913948\ttotal: 11.2s\tremaining: 4.89s\n",
      "1391:\tlearn: 0.3913739\ttotal: 11.2s\tremaining: 4.89s\n",
      "1392:\tlearn: 0.3913614\ttotal: 11.2s\tremaining: 4.88s\n",
      "1393:\tlearn: 0.3913608\ttotal: 11.2s\tremaining: 4.87s\n",
      "1394:\tlearn: 0.3913515\ttotal: 11.2s\tremaining: 4.86s\n",
      "1395:\tlearn: 0.3913424\ttotal: 11.2s\tremaining: 4.85s\n",
      "1396:\tlearn: 0.3913784\ttotal: 11.2s\tremaining: 4.85s\n",
      "1397:\tlearn: 0.3913374\ttotal: 11.2s\tremaining: 4.84s\n",
      "1398:\tlearn: 0.3913116\ttotal: 11.2s\tremaining: 4.83s\n",
      "1399:\tlearn: 0.3912551\ttotal: 11.3s\tremaining: 4.82s\n",
      "1400:\tlearn: 0.3912244\ttotal: 11.3s\tremaining: 4.81s\n",
      "1401:\tlearn: 0.3911783\ttotal: 11.3s\tremaining: 4.81s\n",
      "1402:\tlearn: 0.3911639\ttotal: 11.3s\tremaining: 4.8s\n",
      "1403:\tlearn: 0.3911247\ttotal: 11.3s\tremaining: 4.79s\n",
      "1404:\tlearn: 0.3910957\ttotal: 11.3s\tremaining: 4.78s\n",
      "1405:\tlearn: 0.3911098\ttotal: 11.3s\tremaining: 4.77s\n",
      "1406:\tlearn: 0.3910795\ttotal: 11.3s\tremaining: 4.76s\n",
      "1407:\tlearn: 0.3910572\ttotal: 11.3s\tremaining: 4.76s\n",
      "1408:\tlearn: 0.3910507\ttotal: 11.3s\tremaining: 4.75s\n",
      "1409:\tlearn: 0.3909973\ttotal: 11.3s\tremaining: 4.74s\n",
      "1410:\tlearn: 0.3909975\ttotal: 11.3s\tremaining: 4.73s\n",
      "1411:\tlearn: 0.3909296\ttotal: 11.3s\tremaining: 4.72s\n",
      "1412:\tlearn: 0.3909726\ttotal: 11.4s\tremaining: 4.72s\n",
      "1413:\tlearn: 0.3909548\ttotal: 11.4s\tremaining: 4.71s\n",
      "1414:\tlearn: 0.3909363\ttotal: 11.4s\tremaining: 4.7s\n",
      "1415:\tlearn: 0.3909896\ttotal: 11.4s\tremaining: 4.69s\n",
      "1416:\tlearn: 0.3909804\ttotal: 11.4s\tremaining: 4.68s\n",
      "1417:\tlearn: 0.3909531\ttotal: 11.4s\tremaining: 4.68s\n",
      "1418:\tlearn: 0.3909512\ttotal: 11.4s\tremaining: 4.67s\n",
      "1419:\tlearn: 0.3908526\ttotal: 11.4s\tremaining: 4.66s\n",
      "1420:\tlearn: 0.3908511\ttotal: 11.4s\tremaining: 4.65s\n",
      "1421:\tlearn: 0.3908418\ttotal: 11.4s\tremaining: 4.64s\n",
      "1422:\tlearn: 0.3908113\ttotal: 11.4s\tremaining: 4.64s\n",
      "1423:\tlearn: 0.3908247\ttotal: 11.4s\tremaining: 4.63s\n",
      "1424:\tlearn: 0.3907909\ttotal: 11.5s\tremaining: 4.62s\n",
      "1425:\tlearn: 0.3908029\ttotal: 11.5s\tremaining: 4.61s\n",
      "1426:\tlearn: 0.3907395\ttotal: 11.5s\tremaining: 4.61s\n",
      "1427:\tlearn: 0.3907262\ttotal: 11.5s\tremaining: 4.6s\n",
      "1428:\tlearn: 0.3907123\ttotal: 11.5s\tremaining: 4.59s\n",
      "1429:\tlearn: 0.3907458\ttotal: 11.5s\tremaining: 4.58s\n",
      "1430:\tlearn: 0.3907420\ttotal: 11.5s\tremaining: 4.57s\n",
      "1431:\tlearn: 0.3907286\ttotal: 11.5s\tremaining: 4.57s\n",
      "1432:\tlearn: 0.3907137\ttotal: 11.5s\tremaining: 4.56s\n",
      "1433:\tlearn: 0.3906976\ttotal: 11.5s\tremaining: 4.55s\n",
      "1434:\tlearn: 0.3907089\ttotal: 11.5s\tremaining: 4.54s\n",
      "1435:\tlearn: 0.3907127\ttotal: 11.5s\tremaining: 4.53s\n",
      "1436:\tlearn: 0.3907136\ttotal: 11.5s\tremaining: 4.52s\n",
      "1437:\tlearn: 0.3907028\ttotal: 11.6s\tremaining: 4.52s\n",
      "1438:\tlearn: 0.3906892\ttotal: 11.6s\tremaining: 4.51s\n",
      "1439:\tlearn: 0.3906496\ttotal: 11.6s\tremaining: 4.5s\n",
      "1440:\tlearn: 0.3906371\ttotal: 11.6s\tremaining: 4.49s\n",
      "1441:\tlearn: 0.3906330\ttotal: 11.6s\tremaining: 4.48s\n",
      "1442:\tlearn: 0.3905421\ttotal: 11.6s\tremaining: 4.47s\n",
      "1443:\tlearn: 0.3904748\ttotal: 11.6s\tremaining: 4.47s\n",
      "1444:\tlearn: 0.3904003\ttotal: 11.6s\tremaining: 4.46s\n",
      "1445:\tlearn: 0.3904089\ttotal: 11.6s\tremaining: 4.45s\n",
      "1446:\tlearn: 0.3903324\ttotal: 11.6s\tremaining: 4.44s\n",
      "1447:\tlearn: 0.3903365\ttotal: 11.6s\tremaining: 4.43s\n",
      "1448:\tlearn: 0.3902612\ttotal: 11.6s\tremaining: 4.43s\n",
      "1449:\tlearn: 0.3901991\ttotal: 11.7s\tremaining: 4.42s\n",
      "1450:\tlearn: 0.3902029\ttotal: 11.7s\tremaining: 4.41s\n",
      "1451:\tlearn: 0.3902057\ttotal: 11.7s\tremaining: 4.4s\n",
      "1452:\tlearn: 0.3901987\ttotal: 11.7s\tremaining: 4.39s\n",
      "1453:\tlearn: 0.3901928\ttotal: 11.7s\tremaining: 4.39s\n",
      "1454:\tlearn: 0.3901652\ttotal: 11.7s\tremaining: 4.38s\n",
      "1455:\tlearn: 0.3901795\ttotal: 11.7s\tremaining: 4.37s\n",
      "1456:\tlearn: 0.3901614\ttotal: 11.7s\tremaining: 4.36s\n",
      "1457:\tlearn: 0.3901611\ttotal: 11.7s\tremaining: 4.35s\n",
      "1458:\tlearn: 0.3901285\ttotal: 11.7s\tremaining: 4.35s\n",
      "1459:\tlearn: 0.3900363\ttotal: 11.7s\tremaining: 4.34s\n",
      "1460:\tlearn: 0.3900367\ttotal: 11.7s\tremaining: 4.33s\n",
      "1461:\tlearn: 0.3900100\ttotal: 11.7s\tremaining: 4.32s\n",
      "1462:\tlearn: 0.3899705\ttotal: 11.8s\tremaining: 4.31s\n",
      "1463:\tlearn: 0.3899619\ttotal: 11.8s\tremaining: 4.31s\n",
      "1464:\tlearn: 0.3899627\ttotal: 11.8s\tremaining: 4.3s\n",
      "1465:\tlearn: 0.3899213\ttotal: 11.8s\tremaining: 4.29s\n",
      "1466:\tlearn: 0.3899086\ttotal: 11.8s\tremaining: 4.28s\n",
      "1467:\tlearn: 0.3899263\ttotal: 11.8s\tremaining: 4.27s\n",
      "1468:\tlearn: 0.3898836\ttotal: 11.8s\tremaining: 4.26s\n",
      "1469:\tlearn: 0.3898573\ttotal: 11.8s\tremaining: 4.26s\n",
      "1470:\tlearn: 0.3898416\ttotal: 11.8s\tremaining: 4.25s\n",
      "1471:\tlearn: 0.3898382\ttotal: 11.8s\tremaining: 4.24s\n",
      "1472:\tlearn: 0.3898295\ttotal: 11.8s\tremaining: 4.23s\n",
      "1473:\tlearn: 0.3897611\ttotal: 11.8s\tremaining: 4.22s\n",
      "1474:\tlearn: 0.3897276\ttotal: 11.8s\tremaining: 4.22s\n",
      "1475:\tlearn: 0.3896979\ttotal: 11.9s\tremaining: 4.21s\n",
      "1476:\tlearn: 0.3896595\ttotal: 11.9s\tremaining: 4.2s\n",
      "1477:\tlearn: 0.3896568\ttotal: 11.9s\tremaining: 4.19s\n",
      "1478:\tlearn: 0.3896491\ttotal: 11.9s\tremaining: 4.18s\n",
      "1479:\tlearn: 0.3896181\ttotal: 11.9s\tremaining: 4.18s\n",
      "1480:\tlearn: 0.3895904\ttotal: 11.9s\tremaining: 4.17s\n",
      "1481:\tlearn: 0.3895835\ttotal: 11.9s\tremaining: 4.16s\n",
      "1482:\tlearn: 0.3895540\ttotal: 11.9s\tremaining: 4.15s\n",
      "1483:\tlearn: 0.3895406\ttotal: 11.9s\tremaining: 4.14s\n",
      "1484:\tlearn: 0.3895138\ttotal: 11.9s\tremaining: 4.13s\n",
      "1485:\tlearn: 0.3894855\ttotal: 11.9s\tremaining: 4.13s\n",
      "1486:\tlearn: 0.3894726\ttotal: 11.9s\tremaining: 4.12s\n",
      "1487:\tlearn: 0.3894087\ttotal: 11.9s\tremaining: 4.11s\n",
      "1488:\tlearn: 0.3894115\ttotal: 12s\tremaining: 4.1s\n",
      "1489:\tlearn: 0.3894052\ttotal: 12s\tremaining: 4.09s\n",
      "1490:\tlearn: 0.3893801\ttotal: 12s\tremaining: 4.09s\n",
      "1491:\tlearn: 0.3893680\ttotal: 12s\tremaining: 4.08s\n",
      "1492:\tlearn: 0.3893606\ttotal: 12s\tremaining: 4.07s\n",
      "1493:\tlearn: 0.3893754\ttotal: 12s\tremaining: 4.06s\n",
      "1494:\tlearn: 0.3893713\ttotal: 12s\tremaining: 4.05s\n",
      "1495:\tlearn: 0.3893886\ttotal: 12s\tremaining: 4.05s\n",
      "1496:\tlearn: 0.3893927\ttotal: 12s\tremaining: 4.04s\n",
      "1497:\tlearn: 0.3894056\ttotal: 12s\tremaining: 4.03s\n",
      "1498:\tlearn: 0.3893645\ttotal: 12s\tremaining: 4.02s\n",
      "1499:\tlearn: 0.3893452\ttotal: 12s\tremaining: 4.01s\n",
      "1500:\tlearn: 0.3893097\ttotal: 12.1s\tremaining: 4.01s\n",
      "1501:\tlearn: 0.3892704\ttotal: 12.1s\tremaining: 4s\n",
      "1502:\tlearn: 0.3892624\ttotal: 12.1s\tremaining: 3.99s\n",
      "1503:\tlearn: 0.3892135\ttotal: 12.1s\tremaining: 3.98s\n",
      "1504:\tlearn: 0.3891991\ttotal: 12.1s\tremaining: 3.97s\n",
      "1505:\tlearn: 0.3891685\ttotal: 12.1s\tremaining: 3.96s\n",
      "1506:\tlearn: 0.3891517\ttotal: 12.1s\tremaining: 3.96s\n",
      "1507:\tlearn: 0.3891048\ttotal: 12.1s\tremaining: 3.95s\n",
      "1508:\tlearn: 0.3890702\ttotal: 12.1s\tremaining: 3.94s\n",
      "1509:\tlearn: 0.3890425\ttotal: 12.1s\tremaining: 3.93s\n",
      "1510:\tlearn: 0.3890583\ttotal: 12.1s\tremaining: 3.92s\n",
      "1511:\tlearn: 0.3889953\ttotal: 12.1s\tremaining: 3.92s\n",
      "1512:\tlearn: 0.3889218\ttotal: 12.1s\tremaining: 3.91s\n",
      "1513:\tlearn: 0.3889119\ttotal: 12.2s\tremaining: 3.9s\n",
      "1514:\tlearn: 0.3889106\ttotal: 12.2s\tremaining: 3.89s\n",
      "1515:\tlearn: 0.3889033\ttotal: 12.2s\tremaining: 3.88s\n",
      "1516:\tlearn: 0.3888934\ttotal: 12.2s\tremaining: 3.88s\n",
      "1517:\tlearn: 0.3889003\ttotal: 12.2s\tremaining: 3.87s\n",
      "1518:\tlearn: 0.3888875\ttotal: 12.2s\tremaining: 3.86s\n",
      "1519:\tlearn: 0.3888834\ttotal: 12.2s\tremaining: 3.85s\n",
      "1520:\tlearn: 0.3889008\ttotal: 12.2s\tremaining: 3.85s\n",
      "1521:\tlearn: 0.3888804\ttotal: 12.2s\tremaining: 3.84s\n",
      "1522:\tlearn: 0.3888653\ttotal: 12.2s\tremaining: 3.83s\n",
      "1523:\tlearn: 0.3888653\ttotal: 12.2s\tremaining: 3.82s\n",
      "1524:\tlearn: 0.3888007\ttotal: 12.2s\tremaining: 3.81s\n",
      "1525:\tlearn: 0.3887665\ttotal: 12.3s\tremaining: 3.81s\n",
      "1526:\tlearn: 0.3887024\ttotal: 12.3s\tremaining: 3.8s\n",
      "1527:\tlearn: 0.3886943\ttotal: 12.3s\tremaining: 3.79s\n",
      "1528:\tlearn: 0.3886716\ttotal: 12.3s\tremaining: 3.78s\n",
      "1529:\tlearn: 0.3886529\ttotal: 12.3s\tremaining: 3.77s\n",
      "1530:\tlearn: 0.3886260\ttotal: 12.3s\tremaining: 3.77s\n",
      "1531:\tlearn: 0.3886232\ttotal: 12.3s\tremaining: 3.76s\n",
      "1532:\tlearn: 0.3886239\ttotal: 12.3s\tremaining: 3.75s\n",
      "1533:\tlearn: 0.3886387\ttotal: 12.3s\tremaining: 3.74s\n",
      "1534:\tlearn: 0.3886235\ttotal: 12.3s\tremaining: 3.73s\n",
      "1535:\tlearn: 0.3886050\ttotal: 12.3s\tremaining: 3.72s\n",
      "1536:\tlearn: 0.3886076\ttotal: 12.3s\tremaining: 3.72s\n",
      "1537:\tlearn: 0.3886153\ttotal: 12.3s\tremaining: 3.71s\n",
      "1538:\tlearn: 0.3885526\ttotal: 12.4s\tremaining: 3.7s\n",
      "1539:\tlearn: 0.3885311\ttotal: 12.4s\tremaining: 3.69s\n",
      "1540:\tlearn: 0.3884366\ttotal: 12.4s\tremaining: 3.68s\n",
      "1541:\tlearn: 0.3884125\ttotal: 12.4s\tremaining: 3.67s\n",
      "1542:\tlearn: 0.3884180\ttotal: 12.4s\tremaining: 3.67s\n",
      "1543:\tlearn: 0.3884056\ttotal: 12.4s\tremaining: 3.66s\n",
      "1544:\tlearn: 0.3883655\ttotal: 12.4s\tremaining: 3.65s\n",
      "1545:\tlearn: 0.3883558\ttotal: 12.4s\tremaining: 3.64s\n",
      "1546:\tlearn: 0.3883325\ttotal: 12.4s\tremaining: 3.63s\n",
      "1547:\tlearn: 0.3882955\ttotal: 12.4s\tremaining: 3.63s\n",
      "1548:\tlearn: 0.3882730\ttotal: 12.4s\tremaining: 3.62s\n",
      "1549:\tlearn: 0.3881787\ttotal: 12.4s\tremaining: 3.61s\n",
      "1550:\tlearn: 0.3881886\ttotal: 12.4s\tremaining: 3.6s\n",
      "1551:\tlearn: 0.3881797\ttotal: 12.5s\tremaining: 3.6s\n",
      "1552:\tlearn: 0.3881835\ttotal: 12.5s\tremaining: 3.59s\n",
      "1553:\tlearn: 0.3881788\ttotal: 12.5s\tremaining: 3.58s\n",
      "1554:\tlearn: 0.3881906\ttotal: 12.5s\tremaining: 3.57s\n",
      "1555:\tlearn: 0.3881265\ttotal: 12.5s\tremaining: 3.56s\n",
      "1556:\tlearn: 0.3881179\ttotal: 12.5s\tremaining: 3.56s\n",
      "1557:\tlearn: 0.3880747\ttotal: 12.5s\tremaining: 3.55s\n",
      "1558:\tlearn: 0.3880304\ttotal: 12.5s\tremaining: 3.54s\n",
      "1559:\tlearn: 0.3880064\ttotal: 12.5s\tremaining: 3.53s\n",
      "1560:\tlearn: 0.3880055\ttotal: 12.5s\tremaining: 3.52s\n",
      "1561:\tlearn: 0.3880040\ttotal: 12.5s\tremaining: 3.52s\n",
      "1562:\tlearn: 0.3879894\ttotal: 12.5s\tremaining: 3.51s\n",
      "1563:\tlearn: 0.3879859\ttotal: 12.6s\tremaining: 3.5s\n",
      "1564:\tlearn: 0.3879547\ttotal: 12.6s\tremaining: 3.49s\n",
      "1565:\tlearn: 0.3879420\ttotal: 12.6s\tremaining: 3.48s\n",
      "1566:\tlearn: 0.3879683\ttotal: 12.6s\tremaining: 3.47s\n",
      "1567:\tlearn: 0.3879584\ttotal: 12.6s\tremaining: 3.47s\n",
      "1568:\tlearn: 0.3879385\ttotal: 12.6s\tremaining: 3.46s\n",
      "1569:\tlearn: 0.3879432\ttotal: 12.6s\tremaining: 3.45s\n",
      "1570:\tlearn: 0.3879673\ttotal: 12.6s\tremaining: 3.44s\n",
      "1571:\tlearn: 0.3879747\ttotal: 12.6s\tremaining: 3.43s\n",
      "1572:\tlearn: 0.3879789\ttotal: 12.6s\tremaining: 3.43s\n",
      "1573:\tlearn: 0.3879797\ttotal: 12.6s\tremaining: 3.42s\n",
      "1574:\tlearn: 0.3879640\ttotal: 12.6s\tremaining: 3.41s\n",
      "1575:\tlearn: 0.3879308\ttotal: 12.6s\tremaining: 3.4s\n",
      "1576:\tlearn: 0.3879150\ttotal: 12.7s\tremaining: 3.39s\n",
      "1577:\tlearn: 0.3878919\ttotal: 12.7s\tremaining: 3.39s\n",
      "1578:\tlearn: 0.3878508\ttotal: 12.7s\tremaining: 3.38s\n",
      "1579:\tlearn: 0.3878456\ttotal: 12.7s\tremaining: 3.37s\n",
      "1580:\tlearn: 0.3877953\ttotal: 12.7s\tremaining: 3.36s\n",
      "1581:\tlearn: 0.3877674\ttotal: 12.7s\tremaining: 3.35s\n",
      "1582:\tlearn: 0.3877936\ttotal: 12.7s\tremaining: 3.35s\n",
      "1583:\tlearn: 0.3877924\ttotal: 12.7s\tremaining: 3.34s\n",
      "1584:\tlearn: 0.3877839\ttotal: 12.7s\tremaining: 3.33s\n",
      "1585:\tlearn: 0.3877665\ttotal: 12.7s\tremaining: 3.32s\n",
      "1586:\tlearn: 0.3877538\ttotal: 12.7s\tremaining: 3.31s\n",
      "1587:\tlearn: 0.3877524\ttotal: 12.7s\tremaining: 3.31s\n",
      "1588:\tlearn: 0.3877185\ttotal: 12.7s\tremaining: 3.3s\n",
      "1589:\tlearn: 0.3876468\ttotal: 12.8s\tremaining: 3.29s\n",
      "1590:\tlearn: 0.3876590\ttotal: 12.8s\tremaining: 3.28s\n",
      "1591:\tlearn: 0.3876463\ttotal: 12.8s\tremaining: 3.27s\n",
      "1592:\tlearn: 0.3876407\ttotal: 12.8s\tremaining: 3.27s\n",
      "1593:\tlearn: 0.3875945\ttotal: 12.8s\tremaining: 3.26s\n",
      "1594:\tlearn: 0.3876005\ttotal: 12.8s\tremaining: 3.25s\n",
      "1595:\tlearn: 0.3875489\ttotal: 12.8s\tremaining: 3.24s\n",
      "1596:\tlearn: 0.3875477\ttotal: 12.8s\tremaining: 3.23s\n",
      "1597:\tlearn: 0.3875247\ttotal: 12.8s\tremaining: 3.22s\n",
      "1598:\tlearn: 0.3874967\ttotal: 12.8s\tremaining: 3.22s\n",
      "1599:\tlearn: 0.3874983\ttotal: 12.8s\tremaining: 3.21s\n",
      "1600:\tlearn: 0.3874800\ttotal: 12.8s\tremaining: 3.2s\n",
      "1601:\tlearn: 0.3874026\ttotal: 12.9s\tremaining: 3.19s\n",
      "1602:\tlearn: 0.3873991\ttotal: 12.9s\tremaining: 3.18s\n",
      "1603:\tlearn: 0.3874247\ttotal: 12.9s\tremaining: 3.18s\n",
      "1604:\tlearn: 0.3873933\ttotal: 12.9s\tremaining: 3.17s\n",
      "1605:\tlearn: 0.3873896\ttotal: 12.9s\tremaining: 3.16s\n",
      "1606:\tlearn: 0.3873758\ttotal: 12.9s\tremaining: 3.15s\n",
      "1607:\tlearn: 0.3873925\ttotal: 12.9s\tremaining: 3.15s\n",
      "1608:\tlearn: 0.3873913\ttotal: 12.9s\tremaining: 3.14s\n",
      "1609:\tlearn: 0.3873778\ttotal: 12.9s\tremaining: 3.13s\n",
      "1610:\tlearn: 0.3873791\ttotal: 12.9s\tremaining: 3.12s\n",
      "1611:\tlearn: 0.3873399\ttotal: 12.9s\tremaining: 3.11s\n",
      "1612:\tlearn: 0.3873670\ttotal: 12.9s\tremaining: 3.1s\n",
      "1613:\tlearn: 0.3873559\ttotal: 12.9s\tremaining: 3.1s\n",
      "1614:\tlearn: 0.3872871\ttotal: 13s\tremaining: 3.09s\n",
      "1615:\tlearn: 0.3872805\ttotal: 13s\tremaining: 3.08s\n",
      "1616:\tlearn: 0.3872743\ttotal: 13s\tremaining: 3.07s\n",
      "1617:\tlearn: 0.3872614\ttotal: 13s\tremaining: 3.06s\n",
      "1618:\tlearn: 0.3872029\ttotal: 13s\tremaining: 3.06s\n",
      "1619:\tlearn: 0.3871539\ttotal: 13s\tremaining: 3.05s\n",
      "1620:\tlearn: 0.3871484\ttotal: 13s\tremaining: 3.04s\n",
      "1621:\tlearn: 0.3871156\ttotal: 13s\tremaining: 3.03s\n",
      "1622:\tlearn: 0.3870816\ttotal: 13s\tremaining: 3.02s\n",
      "1623:\tlearn: 0.3870933\ttotal: 13s\tremaining: 3.02s\n",
      "1624:\tlearn: 0.3870191\ttotal: 13s\tremaining: 3.01s\n",
      "1625:\tlearn: 0.3869708\ttotal: 13s\tremaining: 3s\n",
      "1626:\tlearn: 0.3868841\ttotal: 13s\tremaining: 2.99s\n",
      "1627:\tlearn: 0.3868589\ttotal: 13.1s\tremaining: 2.98s\n",
      "1628:\tlearn: 0.3868484\ttotal: 13.1s\tremaining: 2.98s\n",
      "1629:\tlearn: 0.3868554\ttotal: 13.1s\tremaining: 2.97s\n",
      "1630:\tlearn: 0.3868655\ttotal: 13.1s\tremaining: 2.96s\n",
      "1631:\tlearn: 0.3868608\ttotal: 13.1s\tremaining: 2.95s\n",
      "1632:\tlearn: 0.3868444\ttotal: 13.1s\tremaining: 2.94s\n",
      "1633:\tlearn: 0.3868275\ttotal: 13.1s\tremaining: 2.94s\n",
      "1634:\tlearn: 0.3868384\ttotal: 13.1s\tremaining: 2.93s\n",
      "1635:\tlearn: 0.3868224\ttotal: 13.1s\tremaining: 2.92s\n",
      "1636:\tlearn: 0.3868302\ttotal: 13.1s\tremaining: 2.91s\n",
      "1637:\tlearn: 0.3868385\ttotal: 13.1s\tremaining: 2.9s\n",
      "1638:\tlearn: 0.3867727\ttotal: 13.2s\tremaining: 2.9s\n",
      "1639:\tlearn: 0.3867892\ttotal: 13.2s\tremaining: 2.89s\n",
      "1640:\tlearn: 0.3867986\ttotal: 13.2s\tremaining: 2.88s\n",
      "1641:\tlearn: 0.3867896\ttotal: 13.2s\tremaining: 2.87s\n",
      "1642:\tlearn: 0.3867816\ttotal: 13.2s\tremaining: 2.86s\n",
      "1643:\tlearn: 0.3866690\ttotal: 13.2s\tremaining: 2.86s\n",
      "1644:\tlearn: 0.3866838\ttotal: 13.2s\tremaining: 2.85s\n",
      "1645:\tlearn: 0.3866399\ttotal: 13.2s\tremaining: 2.84s\n",
      "1646:\tlearn: 0.3866336\ttotal: 13.2s\tremaining: 2.83s\n",
      "1647:\tlearn: 0.3866287\ttotal: 13.2s\tremaining: 2.82s\n",
      "1648:\tlearn: 0.3866118\ttotal: 13.2s\tremaining: 2.82s\n",
      "1649:\tlearn: 0.3866047\ttotal: 13.2s\tremaining: 2.81s\n",
      "1650:\tlearn: 0.3866002\ttotal: 13.2s\tremaining: 2.8s\n",
      "1651:\tlearn: 0.3865978\ttotal: 13.3s\tremaining: 2.79s\n",
      "1652:\tlearn: 0.3865822\ttotal: 13.3s\tremaining: 2.78s\n",
      "1653:\tlearn: 0.3865883\ttotal: 13.3s\tremaining: 2.78s\n",
      "1654:\tlearn: 0.3865241\ttotal: 13.3s\tremaining: 2.77s\n",
      "1655:\tlearn: 0.3865075\ttotal: 13.3s\tremaining: 2.76s\n",
      "1656:\tlearn: 0.3865515\ttotal: 13.3s\tremaining: 2.75s\n",
      "1657:\tlearn: 0.3865749\ttotal: 13.3s\tremaining: 2.74s\n",
      "1658:\tlearn: 0.3865243\ttotal: 13.3s\tremaining: 2.74s\n",
      "1659:\tlearn: 0.3865008\ttotal: 13.3s\tremaining: 2.73s\n",
      "1660:\tlearn: 0.3864449\ttotal: 13.3s\tremaining: 2.72s\n",
      "1661:\tlearn: 0.3864342\ttotal: 13.3s\tremaining: 2.71s\n",
      "1662:\tlearn: 0.3864051\ttotal: 13.3s\tremaining: 2.7s\n",
      "1663:\tlearn: 0.3864103\ttotal: 13.4s\tremaining: 2.7s\n",
      "1664:\tlearn: 0.3864120\ttotal: 13.4s\tremaining: 2.69s\n",
      "1665:\tlearn: 0.3864087\ttotal: 13.4s\tremaining: 2.68s\n",
      "1666:\tlearn: 0.3864005\ttotal: 13.4s\tremaining: 2.67s\n",
      "1667:\tlearn: 0.3864274\ttotal: 13.4s\tremaining: 2.66s\n",
      "1668:\tlearn: 0.3864244\ttotal: 13.4s\tremaining: 2.65s\n",
      "1669:\tlearn: 0.3863598\ttotal: 13.4s\tremaining: 2.65s\n",
      "1670:\tlearn: 0.3863578\ttotal: 13.4s\tremaining: 2.64s\n",
      "1671:\tlearn: 0.3863476\ttotal: 13.4s\tremaining: 2.63s\n",
      "1672:\tlearn: 0.3863466\ttotal: 13.4s\tremaining: 2.62s\n",
      "1673:\tlearn: 0.3863190\ttotal: 13.4s\tremaining: 2.62s\n",
      "1674:\tlearn: 0.3863148\ttotal: 13.4s\tremaining: 2.61s\n",
      "1675:\tlearn: 0.3862859\ttotal: 13.4s\tremaining: 2.6s\n",
      "1676:\tlearn: 0.3862457\ttotal: 13.5s\tremaining: 2.59s\n",
      "1677:\tlearn: 0.3862337\ttotal: 13.5s\tremaining: 2.58s\n",
      "1678:\tlearn: 0.3862366\ttotal: 13.5s\tremaining: 2.58s\n",
      "1679:\tlearn: 0.3862270\ttotal: 13.5s\tremaining: 2.57s\n",
      "1680:\tlearn: 0.3862154\ttotal: 13.5s\tremaining: 2.56s\n",
      "1681:\tlearn: 0.3861808\ttotal: 13.5s\tremaining: 2.55s\n",
      "1682:\tlearn: 0.3861827\ttotal: 13.5s\tremaining: 2.54s\n",
      "1683:\tlearn: 0.3861630\ttotal: 13.5s\tremaining: 2.54s\n",
      "1684:\tlearn: 0.3861836\ttotal: 13.5s\tremaining: 2.53s\n",
      "1685:\tlearn: 0.3861588\ttotal: 13.5s\tremaining: 2.52s\n",
      "1686:\tlearn: 0.3861827\ttotal: 13.5s\tremaining: 2.51s\n",
      "1687:\tlearn: 0.3861254\ttotal: 13.5s\tremaining: 2.5s\n",
      "1688:\tlearn: 0.3861244\ttotal: 13.6s\tremaining: 2.5s\n",
      "1689:\tlearn: 0.3861056\ttotal: 13.6s\tremaining: 2.49s\n",
      "1690:\tlearn: 0.3860499\ttotal: 13.6s\tremaining: 2.48s\n",
      "1691:\tlearn: 0.3860480\ttotal: 13.6s\tremaining: 2.47s\n",
      "1692:\tlearn: 0.3860382\ttotal: 13.6s\tremaining: 2.46s\n",
      "1693:\tlearn: 0.3859784\ttotal: 13.6s\tremaining: 2.46s\n",
      "1694:\tlearn: 0.3858978\ttotal: 13.6s\tremaining: 2.45s\n",
      "1695:\tlearn: 0.3858906\ttotal: 13.6s\tremaining: 2.44s\n",
      "1696:\tlearn: 0.3858712\ttotal: 13.6s\tremaining: 2.43s\n",
      "1697:\tlearn: 0.3858376\ttotal: 13.6s\tremaining: 2.42s\n",
      "1698:\tlearn: 0.3858253\ttotal: 13.6s\tremaining: 2.41s\n",
      "1699:\tlearn: 0.3857681\ttotal: 13.6s\tremaining: 2.41s\n",
      "1700:\tlearn: 0.3857330\ttotal: 13.6s\tremaining: 2.4s\n",
      "1701:\tlearn: 0.3857189\ttotal: 13.7s\tremaining: 2.39s\n",
      "1702:\tlearn: 0.3857078\ttotal: 13.7s\tremaining: 2.38s\n",
      "1703:\tlearn: 0.3856382\ttotal: 13.7s\tremaining: 2.37s\n",
      "1704:\tlearn: 0.3856599\ttotal: 13.7s\tremaining: 2.37s\n",
      "1705:\tlearn: 0.3856419\ttotal: 13.7s\tremaining: 2.36s\n",
      "1706:\tlearn: 0.3856278\ttotal: 13.7s\tremaining: 2.35s\n",
      "1707:\tlearn: 0.3855961\ttotal: 13.7s\tremaining: 2.34s\n",
      "1708:\tlearn: 0.3855940\ttotal: 13.7s\tremaining: 2.33s\n",
      "1709:\tlearn: 0.3855923\ttotal: 13.7s\tremaining: 2.33s\n",
      "1710:\tlearn: 0.3855610\ttotal: 13.7s\tremaining: 2.32s\n",
      "1711:\tlearn: 0.3855881\ttotal: 13.7s\tremaining: 2.31s\n",
      "1712:\tlearn: 0.3855982\ttotal: 13.7s\tremaining: 2.3s\n",
      "1713:\tlearn: 0.3855816\ttotal: 13.8s\tremaining: 2.29s\n",
      "1714:\tlearn: 0.3855535\ttotal: 13.8s\tremaining: 2.29s\n",
      "1715:\tlearn: 0.3855887\ttotal: 13.8s\tremaining: 2.28s\n",
      "1716:\tlearn: 0.3855402\ttotal: 13.8s\tremaining: 2.27s\n",
      "1717:\tlearn: 0.3855514\ttotal: 13.8s\tremaining: 2.26s\n",
      "1718:\tlearn: 0.3855657\ttotal: 13.8s\tremaining: 2.25s\n",
      "1719:\tlearn: 0.3855572\ttotal: 13.8s\tremaining: 2.25s\n",
      "1720:\tlearn: 0.3855435\ttotal: 13.8s\tremaining: 2.24s\n",
      "1721:\tlearn: 0.3854463\ttotal: 13.8s\tremaining: 2.23s\n",
      "1722:\tlearn: 0.3853861\ttotal: 13.8s\tremaining: 2.22s\n",
      "1723:\tlearn: 0.3853718\ttotal: 13.8s\tremaining: 2.21s\n",
      "1724:\tlearn: 0.3853535\ttotal: 13.8s\tremaining: 2.21s\n",
      "1725:\tlearn: 0.3853371\ttotal: 13.8s\tremaining: 2.2s\n",
      "1726:\tlearn: 0.3853031\ttotal: 13.9s\tremaining: 2.19s\n",
      "1727:\tlearn: 0.3852950\ttotal: 13.9s\tremaining: 2.18s\n",
      "1728:\tlearn: 0.3852462\ttotal: 13.9s\tremaining: 2.17s\n",
      "1729:\tlearn: 0.3852422\ttotal: 13.9s\tremaining: 2.17s\n",
      "1730:\tlearn: 0.3852285\ttotal: 13.9s\tremaining: 2.16s\n",
      "1731:\tlearn: 0.3852180\ttotal: 13.9s\tremaining: 2.15s\n",
      "1732:\tlearn: 0.3852072\ttotal: 13.9s\tremaining: 2.14s\n",
      "1733:\tlearn: 0.3851276\ttotal: 13.9s\tremaining: 2.13s\n",
      "1734:\tlearn: 0.3851421\ttotal: 13.9s\tremaining: 2.13s\n",
      "1735:\tlearn: 0.3851339\ttotal: 13.9s\tremaining: 2.12s\n",
      "1736:\tlearn: 0.3851407\ttotal: 13.9s\tremaining: 2.11s\n",
      "1737:\tlearn: 0.3851379\ttotal: 13.9s\tremaining: 2.1s\n",
      "1738:\tlearn: 0.3851259\ttotal: 14s\tremaining: 2.09s\n",
      "1739:\tlearn: 0.3851158\ttotal: 14s\tremaining: 2.09s\n",
      "1740:\tlearn: 0.3851175\ttotal: 14s\tremaining: 2.08s\n",
      "1741:\tlearn: 0.3850965\ttotal: 14s\tremaining: 2.07s\n",
      "1742:\tlearn: 0.3850289\ttotal: 14s\tremaining: 2.06s\n",
      "1743:\tlearn: 0.3850317\ttotal: 14s\tremaining: 2.05s\n",
      "1744:\tlearn: 0.3850243\ttotal: 14s\tremaining: 2.05s\n",
      "1745:\tlearn: 0.3849790\ttotal: 14s\tremaining: 2.04s\n",
      "1746:\tlearn: 0.3849724\ttotal: 14s\tremaining: 2.03s\n",
      "1747:\tlearn: 0.3849751\ttotal: 14s\tremaining: 2.02s\n",
      "1748:\tlearn: 0.3849684\ttotal: 14s\tremaining: 2.01s\n",
      "1749:\tlearn: 0.3849790\ttotal: 14s\tremaining: 2.01s\n",
      "1750:\tlearn: 0.3849664\ttotal: 14.1s\tremaining: 2s\n",
      "1751:\tlearn: 0.3849768\ttotal: 14.1s\tremaining: 1.99s\n",
      "1752:\tlearn: 0.3849552\ttotal: 14.1s\tremaining: 1.98s\n",
      "1753:\tlearn: 0.3849006\ttotal: 14.1s\tremaining: 1.97s\n",
      "1754:\tlearn: 0.3848891\ttotal: 14.1s\tremaining: 1.97s\n",
      "1755:\tlearn: 0.3849140\ttotal: 14.1s\tremaining: 1.96s\n",
      "1756:\tlearn: 0.3849280\ttotal: 14.1s\tremaining: 1.95s\n",
      "1757:\tlearn: 0.3849206\ttotal: 14.1s\tremaining: 1.94s\n",
      "1758:\tlearn: 0.3848670\ttotal: 14.1s\tremaining: 1.94s\n",
      "1759:\tlearn: 0.3848743\ttotal: 14.1s\tremaining: 1.93s\n",
      "1760:\tlearn: 0.3848492\ttotal: 14.1s\tremaining: 1.92s\n",
      "1761:\tlearn: 0.3848055\ttotal: 14.1s\tremaining: 1.91s\n",
      "1762:\tlearn: 0.3847609\ttotal: 14.2s\tremaining: 1.9s\n",
      "1763:\tlearn: 0.3847420\ttotal: 14.2s\tremaining: 1.9s\n",
      "1764:\tlearn: 0.3847177\ttotal: 14.2s\tremaining: 1.89s\n",
      "1765:\tlearn: 0.3847115\ttotal: 14.2s\tremaining: 1.88s\n",
      "1766:\tlearn: 0.3847241\ttotal: 14.2s\tremaining: 1.87s\n",
      "1767:\tlearn: 0.3847630\ttotal: 14.2s\tremaining: 1.86s\n",
      "1768:\tlearn: 0.3846698\ttotal: 14.2s\tremaining: 1.85s\n",
      "1769:\tlearn: 0.3845824\ttotal: 14.2s\tremaining: 1.85s\n",
      "1770:\tlearn: 0.3845973\ttotal: 14.2s\tremaining: 1.84s\n",
      "1771:\tlearn: 0.3845673\ttotal: 14.2s\tremaining: 1.83s\n",
      "1772:\tlearn: 0.3845481\ttotal: 14.2s\tremaining: 1.82s\n",
      "1773:\tlearn: 0.3845256\ttotal: 14.2s\tremaining: 1.81s\n",
      "1774:\tlearn: 0.3845196\ttotal: 14.3s\tremaining: 1.81s\n",
      "1775:\tlearn: 0.3845334\ttotal: 14.3s\tremaining: 1.8s\n",
      "1776:\tlearn: 0.3845247\ttotal: 14.3s\tremaining: 1.79s\n",
      "1777:\tlearn: 0.3845058\ttotal: 14.3s\tremaining: 1.78s\n",
      "1778:\tlearn: 0.3845238\ttotal: 14.3s\tremaining: 1.77s\n",
      "1779:\tlearn: 0.3845005\ttotal: 14.3s\tremaining: 1.77s\n",
      "1780:\tlearn: 0.3844322\ttotal: 14.3s\tremaining: 1.76s\n",
      "1781:\tlearn: 0.3844122\ttotal: 14.3s\tremaining: 1.75s\n",
      "1782:\tlearn: 0.3843812\ttotal: 14.3s\tremaining: 1.74s\n",
      "1783:\tlearn: 0.3843969\ttotal: 14.3s\tremaining: 1.73s\n",
      "1784:\tlearn: 0.3843944\ttotal: 14.3s\tremaining: 1.73s\n",
      "1785:\tlearn: 0.3843634\ttotal: 14.3s\tremaining: 1.72s\n",
      "1786:\tlearn: 0.3843414\ttotal: 14.4s\tremaining: 1.71s\n",
      "1787:\tlearn: 0.3842917\ttotal: 14.4s\tremaining: 1.7s\n",
      "1788:\tlearn: 0.3842895\ttotal: 14.4s\tremaining: 1.7s\n",
      "1789:\tlearn: 0.3842423\ttotal: 14.4s\tremaining: 1.69s\n",
      "1790:\tlearn: 0.3842486\ttotal: 14.4s\tremaining: 1.68s\n",
      "1791:\tlearn: 0.3842716\ttotal: 14.4s\tremaining: 1.67s\n",
      "1792:\tlearn: 0.3842540\ttotal: 14.4s\tremaining: 1.66s\n",
      "1793:\tlearn: 0.3842455\ttotal: 14.4s\tremaining: 1.66s\n",
      "1794:\tlearn: 0.3842333\ttotal: 14.4s\tremaining: 1.65s\n",
      "1795:\tlearn: 0.3841953\ttotal: 14.4s\tremaining: 1.64s\n",
      "1796:\tlearn: 0.3841910\ttotal: 14.4s\tremaining: 1.63s\n",
      "1797:\tlearn: 0.3841398\ttotal: 14.4s\tremaining: 1.62s\n",
      "1798:\tlearn: 0.3841440\ttotal: 14.5s\tremaining: 1.61s\n",
      "1799:\tlearn: 0.3841358\ttotal: 14.5s\tremaining: 1.61s\n",
      "1800:\tlearn: 0.3841247\ttotal: 14.5s\tremaining: 1.6s\n",
      "1801:\tlearn: 0.3841322\ttotal: 14.5s\tremaining: 1.59s\n",
      "1802:\tlearn: 0.3840805\ttotal: 14.5s\tremaining: 1.58s\n",
      "1803:\tlearn: 0.3840555\ttotal: 14.5s\tremaining: 1.57s\n",
      "1804:\tlearn: 0.3840358\ttotal: 14.5s\tremaining: 1.57s\n",
      "1805:\tlearn: 0.3840184\ttotal: 14.5s\tremaining: 1.56s\n",
      "1806:\tlearn: 0.3840180\ttotal: 14.5s\tremaining: 1.55s\n",
      "1807:\tlearn: 0.3840250\ttotal: 14.5s\tremaining: 1.54s\n",
      "1808:\tlearn: 0.3840464\ttotal: 14.5s\tremaining: 1.53s\n",
      "1809:\tlearn: 0.3840276\ttotal: 14.5s\tremaining: 1.53s\n",
      "1810:\tlearn: 0.3840498\ttotal: 14.6s\tremaining: 1.52s\n",
      "1811:\tlearn: 0.3840645\ttotal: 14.6s\tremaining: 1.51s\n",
      "1812:\tlearn: 0.3840495\ttotal: 14.6s\tremaining: 1.5s\n",
      "1813:\tlearn: 0.3840106\ttotal: 14.6s\tremaining: 1.5s\n",
      "1814:\tlearn: 0.3839784\ttotal: 14.6s\tremaining: 1.49s\n",
      "1815:\tlearn: 0.3839615\ttotal: 14.6s\tremaining: 1.48s\n",
      "1816:\tlearn: 0.3839901\ttotal: 14.6s\tremaining: 1.47s\n",
      "1817:\tlearn: 0.3839931\ttotal: 14.6s\tremaining: 1.46s\n",
      "1818:\tlearn: 0.3839726\ttotal: 14.6s\tremaining: 1.45s\n",
      "1819:\tlearn: 0.3839633\ttotal: 14.6s\tremaining: 1.45s\n",
      "1820:\tlearn: 0.3839269\ttotal: 14.6s\tremaining: 1.44s\n",
      "1821:\tlearn: 0.3839241\ttotal: 14.6s\tremaining: 1.43s\n",
      "1822:\tlearn: 0.3838815\ttotal: 14.7s\tremaining: 1.42s\n",
      "1823:\tlearn: 0.3838798\ttotal: 14.7s\tremaining: 1.41s\n",
      "1824:\tlearn: 0.3838891\ttotal: 14.7s\tremaining: 1.41s\n",
      "1825:\tlearn: 0.3838769\ttotal: 14.7s\tremaining: 1.4s\n",
      "1826:\tlearn: 0.3838593\ttotal: 14.7s\tremaining: 1.39s\n",
      "1827:\tlearn: 0.3838671\ttotal: 14.7s\tremaining: 1.38s\n",
      "1828:\tlearn: 0.3838626\ttotal: 14.7s\tremaining: 1.37s\n",
      "1829:\tlearn: 0.3838825\ttotal: 14.7s\tremaining: 1.37s\n",
      "1830:\tlearn: 0.3838534\ttotal: 14.7s\tremaining: 1.36s\n",
      "1831:\tlearn: 0.3838347\ttotal: 14.7s\tremaining: 1.35s\n",
      "1832:\tlearn: 0.3838282\ttotal: 14.7s\tremaining: 1.34s\n",
      "1833:\tlearn: 0.3838204\ttotal: 14.7s\tremaining: 1.33s\n",
      "1834:\tlearn: 0.3837916\ttotal: 14.8s\tremaining: 1.33s\n",
      "1835:\tlearn: 0.3837567\ttotal: 14.8s\tremaining: 1.32s\n",
      "1836:\tlearn: 0.3837528\ttotal: 14.8s\tremaining: 1.31s\n",
      "1837:\tlearn: 0.3837394\ttotal: 14.8s\tremaining: 1.3s\n",
      "1838:\tlearn: 0.3837166\ttotal: 14.8s\tremaining: 1.29s\n",
      "1839:\tlearn: 0.3837140\ttotal: 14.8s\tremaining: 1.29s\n",
      "1840:\tlearn: 0.3837116\ttotal: 14.8s\tremaining: 1.28s\n",
      "1841:\tlearn: 0.3837205\ttotal: 14.8s\tremaining: 1.27s\n",
      "1842:\tlearn: 0.3837318\ttotal: 14.8s\tremaining: 1.26s\n",
      "1843:\tlearn: 0.3837084\ttotal: 14.8s\tremaining: 1.25s\n",
      "1844:\tlearn: 0.3836340\ttotal: 14.8s\tremaining: 1.25s\n",
      "1845:\tlearn: 0.3836091\ttotal: 14.8s\tremaining: 1.24s\n",
      "1846:\tlearn: 0.3835958\ttotal: 14.9s\tremaining: 1.23s\n",
      "1847:\tlearn: 0.3835812\ttotal: 14.9s\tremaining: 1.22s\n",
      "1848:\tlearn: 0.3835765\ttotal: 14.9s\tremaining: 1.21s\n",
      "1849:\tlearn: 0.3835808\ttotal: 14.9s\tremaining: 1.21s\n",
      "1850:\tlearn: 0.3835688\ttotal: 14.9s\tremaining: 1.2s\n",
      "1851:\tlearn: 0.3835544\ttotal: 14.9s\tremaining: 1.19s\n",
      "1852:\tlearn: 0.3835077\ttotal: 14.9s\tremaining: 1.18s\n",
      "1853:\tlearn: 0.3835107\ttotal: 14.9s\tremaining: 1.17s\n",
      "1854:\tlearn: 0.3834950\ttotal: 14.9s\tremaining: 1.17s\n",
      "1855:\tlearn: 0.3834481\ttotal: 14.9s\tremaining: 1.16s\n",
      "1856:\tlearn: 0.3834172\ttotal: 14.9s\tremaining: 1.15s\n",
      "1857:\tlearn: 0.3834238\ttotal: 14.9s\tremaining: 1.14s\n",
      "1858:\tlearn: 0.3834171\ttotal: 15s\tremaining: 1.13s\n",
      "1859:\tlearn: 0.3834218\ttotal: 15s\tremaining: 1.13s\n",
      "1860:\tlearn: 0.3834287\ttotal: 15s\tremaining: 1.12s\n",
      "1861:\tlearn: 0.3834623\ttotal: 15s\tremaining: 1.11s\n",
      "1862:\tlearn: 0.3834463\ttotal: 15s\tremaining: 1.1s\n",
      "1863:\tlearn: 0.3834457\ttotal: 15s\tremaining: 1.09s\n",
      "1864:\tlearn: 0.3833897\ttotal: 15s\tremaining: 1.08s\n",
      "1865:\tlearn: 0.3833767\ttotal: 15s\tremaining: 1.08s\n",
      "1866:\tlearn: 0.3833399\ttotal: 15s\tremaining: 1.07s\n",
      "1867:\tlearn: 0.3833355\ttotal: 15s\tremaining: 1.06s\n",
      "1868:\tlearn: 0.3833242\ttotal: 15s\tremaining: 1.05s\n",
      "1869:\tlearn: 0.3833270\ttotal: 15s\tremaining: 1.04s\n",
      "1870:\tlearn: 0.3832878\ttotal: 15s\tremaining: 1.04s\n",
      "1871:\tlearn: 0.3832567\ttotal: 15.1s\tremaining: 1.03s\n",
      "1872:\tlearn: 0.3832804\ttotal: 15.1s\tremaining: 1.02s\n",
      "1873:\tlearn: 0.3832569\ttotal: 15.1s\tremaining: 1.01s\n",
      "1874:\tlearn: 0.3832748\ttotal: 15.1s\tremaining: 1s\n",
      "1875:\tlearn: 0.3832541\ttotal: 15.1s\tremaining: 997ms\n",
      "1876:\tlearn: 0.3832524\ttotal: 15.1s\tremaining: 989ms\n",
      "1877:\tlearn: 0.3832302\ttotal: 15.1s\tremaining: 981ms\n",
      "1878:\tlearn: 0.3832302\ttotal: 15.1s\tremaining: 973ms\n",
      "1879:\tlearn: 0.3831911\ttotal: 15.1s\tremaining: 965ms\n",
      "1880:\tlearn: 0.3831424\ttotal: 15.1s\tremaining: 957ms\n",
      "1881:\tlearn: 0.3830820\ttotal: 15.1s\tremaining: 949ms\n",
      "1882:\tlearn: 0.3830509\ttotal: 15.1s\tremaining: 941ms\n",
      "1883:\tlearn: 0.3830290\ttotal: 15.2s\tremaining: 933ms\n",
      "1884:\tlearn: 0.3829650\ttotal: 15.2s\tremaining: 925ms\n",
      "1885:\tlearn: 0.3829266\ttotal: 15.2s\tremaining: 917ms\n",
      "1886:\tlearn: 0.3829242\ttotal: 15.2s\tremaining: 909ms\n",
      "1887:\tlearn: 0.3828811\ttotal: 15.2s\tremaining: 901ms\n",
      "1888:\tlearn: 0.3828827\ttotal: 15.2s\tremaining: 893ms\n",
      "1889:\tlearn: 0.3828832\ttotal: 15.2s\tremaining: 885ms\n",
      "1890:\tlearn: 0.3828865\ttotal: 15.2s\tremaining: 877ms\n",
      "1891:\tlearn: 0.3828918\ttotal: 15.2s\tremaining: 869ms\n",
      "1892:\tlearn: 0.3828861\ttotal: 15.2s\tremaining: 861ms\n",
      "1893:\tlearn: 0.3828806\ttotal: 15.2s\tremaining: 852ms\n",
      "1894:\tlearn: 0.3829146\ttotal: 15.2s\tremaining: 844ms\n",
      "1895:\tlearn: 0.3828963\ttotal: 15.2s\tremaining: 836ms\n",
      "1896:\tlearn: 0.3828739\ttotal: 15.3s\tremaining: 828ms\n",
      "1897:\tlearn: 0.3828546\ttotal: 15.3s\tremaining: 820ms\n",
      "1898:\tlearn: 0.3828425\ttotal: 15.3s\tremaining: 812ms\n",
      "1899:\tlearn: 0.3828407\ttotal: 15.3s\tremaining: 804ms\n",
      "1900:\tlearn: 0.3828506\ttotal: 15.3s\tremaining: 796ms\n",
      "1901:\tlearn: 0.3828388\ttotal: 15.3s\tremaining: 788ms\n",
      "1902:\tlearn: 0.3828293\ttotal: 15.3s\tremaining: 780ms\n",
      "1903:\tlearn: 0.3828208\ttotal: 15.3s\tremaining: 772ms\n",
      "1904:\tlearn: 0.3828042\ttotal: 15.3s\tremaining: 764ms\n",
      "1905:\tlearn: 0.3828261\ttotal: 15.3s\tremaining: 756ms\n",
      "1906:\tlearn: 0.3828255\ttotal: 15.3s\tremaining: 748ms\n",
      "1907:\tlearn: 0.3828244\ttotal: 15.3s\tremaining: 740ms\n",
      "1908:\tlearn: 0.3828167\ttotal: 15.3s\tremaining: 732ms\n",
      "1909:\tlearn: 0.3827770\ttotal: 15.4s\tremaining: 724ms\n",
      "1910:\tlearn: 0.3827661\ttotal: 15.4s\tremaining: 716ms\n",
      "1911:\tlearn: 0.3827461\ttotal: 15.4s\tremaining: 708ms\n",
      "1912:\tlearn: 0.3827655\ttotal: 15.4s\tremaining: 700ms\n",
      "1913:\tlearn: 0.3827379\ttotal: 15.4s\tremaining: 692ms\n",
      "1914:\tlearn: 0.3827277\ttotal: 15.4s\tremaining: 684ms\n",
      "1915:\tlearn: 0.3826790\ttotal: 15.4s\tremaining: 675ms\n",
      "1916:\tlearn: 0.3826715\ttotal: 15.4s\tremaining: 667ms\n",
      "1917:\tlearn: 0.3826758\ttotal: 15.4s\tremaining: 659ms\n",
      "1918:\tlearn: 0.3826593\ttotal: 15.4s\tremaining: 651ms\n",
      "1919:\tlearn: 0.3826379\ttotal: 15.4s\tremaining: 643ms\n",
      "1920:\tlearn: 0.3826208\ttotal: 15.4s\tremaining: 635ms\n",
      "1921:\tlearn: 0.3826036\ttotal: 15.5s\tremaining: 627ms\n",
      "1922:\tlearn: 0.3825681\ttotal: 15.5s\tremaining: 619ms\n",
      "1923:\tlearn: 0.3825633\ttotal: 15.5s\tremaining: 611ms\n",
      "1924:\tlearn: 0.3825340\ttotal: 15.5s\tremaining: 603ms\n",
      "1925:\tlearn: 0.3825549\ttotal: 15.5s\tremaining: 595ms\n",
      "1926:\tlearn: 0.3825127\ttotal: 15.5s\tremaining: 587ms\n",
      "1927:\tlearn: 0.3825417\ttotal: 15.5s\tremaining: 579ms\n",
      "1928:\tlearn: 0.3825168\ttotal: 15.5s\tremaining: 571ms\n",
      "1929:\tlearn: 0.3825030\ttotal: 15.5s\tremaining: 563ms\n",
      "1930:\tlearn: 0.3824482\ttotal: 15.5s\tremaining: 555ms\n",
      "1931:\tlearn: 0.3824235\ttotal: 15.5s\tremaining: 547ms\n",
      "1932:\tlearn: 0.3823957\ttotal: 15.5s\tremaining: 539ms\n",
      "1933:\tlearn: 0.3823587\ttotal: 15.6s\tremaining: 531ms\n",
      "1934:\tlearn: 0.3823500\ttotal: 15.6s\tremaining: 523ms\n",
      "1935:\tlearn: 0.3822999\ttotal: 15.6s\tremaining: 515ms\n",
      "1936:\tlearn: 0.3822432\ttotal: 15.6s\tremaining: 507ms\n",
      "1937:\tlearn: 0.3822320\ttotal: 15.6s\tremaining: 499ms\n",
      "1938:\tlearn: 0.3822101\ttotal: 15.6s\tremaining: 491ms\n",
      "1939:\tlearn: 0.3821990\ttotal: 15.6s\tremaining: 482ms\n",
      "1940:\tlearn: 0.3821886\ttotal: 15.6s\tremaining: 474ms\n",
      "1941:\tlearn: 0.3821752\ttotal: 15.6s\tremaining: 466ms\n",
      "1942:\tlearn: 0.3821632\ttotal: 15.6s\tremaining: 458ms\n",
      "1943:\tlearn: 0.3821597\ttotal: 15.6s\tremaining: 450ms\n",
      "1944:\tlearn: 0.3821533\ttotal: 15.6s\tremaining: 442ms\n",
      "1945:\tlearn: 0.3821368\ttotal: 15.6s\tremaining: 434ms\n",
      "1946:\tlearn: 0.3821118\ttotal: 15.7s\tremaining: 426ms\n",
      "1947:\tlearn: 0.3821253\ttotal: 15.7s\tremaining: 418ms\n",
      "1948:\tlearn: 0.3821142\ttotal: 15.7s\tremaining: 410ms\n",
      "1949:\tlearn: 0.3820868\ttotal: 15.7s\tremaining: 402ms\n",
      "1950:\tlearn: 0.3820405\ttotal: 15.7s\tremaining: 394ms\n",
      "1951:\tlearn: 0.3820238\ttotal: 15.7s\tremaining: 386ms\n",
      "1952:\tlearn: 0.3820234\ttotal: 15.7s\tremaining: 378ms\n",
      "1953:\tlearn: 0.3820203\ttotal: 15.7s\tremaining: 370ms\n",
      "1954:\tlearn: 0.3820048\ttotal: 15.7s\tremaining: 362ms\n",
      "1955:\tlearn: 0.3819866\ttotal: 15.7s\tremaining: 354ms\n",
      "1956:\tlearn: 0.3819775\ttotal: 15.7s\tremaining: 346ms\n",
      "1957:\tlearn: 0.3819800\ttotal: 15.7s\tremaining: 338ms\n",
      "1958:\tlearn: 0.3819906\ttotal: 15.8s\tremaining: 330ms\n",
      "1959:\tlearn: 0.3819878\ttotal: 15.8s\tremaining: 322ms\n",
      "1960:\tlearn: 0.3820113\ttotal: 15.8s\tremaining: 314ms\n",
      "1961:\tlearn: 0.3820367\ttotal: 15.8s\tremaining: 306ms\n",
      "1962:\tlearn: 0.3819636\ttotal: 15.8s\tremaining: 298ms\n",
      "1963:\tlearn: 0.3819040\ttotal: 15.8s\tremaining: 289ms\n",
      "1964:\tlearn: 0.3818663\ttotal: 15.8s\tremaining: 281ms\n",
      "1965:\tlearn: 0.3818690\ttotal: 15.8s\tremaining: 273ms\n",
      "1966:\tlearn: 0.3818271\ttotal: 15.8s\tremaining: 265ms\n",
      "1967:\tlearn: 0.3818299\ttotal: 15.8s\tremaining: 257ms\n",
      "1968:\tlearn: 0.3818382\ttotal: 15.8s\tremaining: 249ms\n",
      "1969:\tlearn: 0.3817992\ttotal: 15.8s\tremaining: 241ms\n",
      "1970:\tlearn: 0.3818092\ttotal: 15.8s\tremaining: 233ms\n",
      "1971:\tlearn: 0.3818075\ttotal: 15.9s\tremaining: 225ms\n",
      "1972:\tlearn: 0.3818044\ttotal: 15.9s\tremaining: 217ms\n",
      "1973:\tlearn: 0.3817783\ttotal: 15.9s\tremaining: 209ms\n",
      "1974:\tlearn: 0.3817729\ttotal: 15.9s\tremaining: 201ms\n",
      "1975:\tlearn: 0.3817653\ttotal: 15.9s\tremaining: 193ms\n",
      "1976:\tlearn: 0.3817595\ttotal: 15.9s\tremaining: 185ms\n",
      "1977:\tlearn: 0.3817840\ttotal: 15.9s\tremaining: 177ms\n",
      "1978:\tlearn: 0.3817281\ttotal: 15.9s\tremaining: 169ms\n",
      "1979:\tlearn: 0.3817464\ttotal: 15.9s\tremaining: 161ms\n",
      "1980:\tlearn: 0.3817312\ttotal: 15.9s\tremaining: 153ms\n",
      "1981:\tlearn: 0.3817338\ttotal: 15.9s\tremaining: 145ms\n",
      "1982:\tlearn: 0.3817294\ttotal: 15.9s\tremaining: 137ms\n",
      "1983:\tlearn: 0.3817142\ttotal: 15.9s\tremaining: 129ms\n",
      "1984:\tlearn: 0.3817167\ttotal: 16s\tremaining: 121ms\n",
      "1985:\tlearn: 0.3816985\ttotal: 16s\tremaining: 113ms\n",
      "1986:\tlearn: 0.3816802\ttotal: 16s\tremaining: 104ms\n",
      "1987:\tlearn: 0.3816733\ttotal: 16s\tremaining: 96.5ms\n",
      "1988:\tlearn: 0.3816721\ttotal: 16s\tremaining: 88.4ms\n",
      "1989:\tlearn: 0.3816895\ttotal: 16s\tremaining: 80.4ms\n",
      "1990:\tlearn: 0.3816768\ttotal: 16s\tremaining: 72.4ms\n",
      "1991:\tlearn: 0.3816860\ttotal: 16s\tremaining: 64.3ms\n",
      "1992:\tlearn: 0.3816776\ttotal: 16s\tremaining: 56.3ms\n",
      "1993:\tlearn: 0.3816962\ttotal: 16s\tremaining: 48.2ms\n",
      "1994:\tlearn: 0.3816444\ttotal: 16s\tremaining: 40.2ms\n",
      "1995:\tlearn: 0.3816522\ttotal: 16.1s\tremaining: 32.2ms\n",
      "1996:\tlearn: 0.3816477\ttotal: 16.1s\tremaining: 24.1ms\n",
      "1997:\tlearn: 0.3816319\ttotal: 16.1s\tremaining: 16.1ms\n",
      "1998:\tlearn: 0.3816352\ttotal: 16.1s\tremaining: 8.04ms\n",
      "1999:\tlearn: 0.3816269\ttotal: 16.1s\tremaining: 0us\n",
      "fbest_params: {'iterations': 2000, 'eval_metric': 'MAPE'}\n",
      "CPU times: total: 14.7 s\n",
      "Wall time: 2min 4s\n"
     ]
    }
   ],
   "source": [
    "%%time\n",
    "'''CatBoostRegressor обучение'''\n",
    "\n",
    "model_CB = CatBoostRegressor()\n",
    "\n",
    "# комбинаций гиперпараметров\n",
    "param_grid = {\n",
    "      'eval_metric': ['MAPE', 'RMSE' ],\n",
    "      'iterations':[1000, 2000],\n",
    "    }\n",
    "\n",
    "# подбор гиперпараметров\n",
    "rs_CB = RandomizedSearchCV(\n",
    "        model_CB,\n",
    "        param_distributions=param_grid,\n",
    "        scoring=\"neg_root_mean_squared_error\",\n",
    "        n_jobs=-1,\n",
    "        random_state=RANDOM,\n",
    "        pre_dispatch = 4\n",
    "    )\n",
    "# фит модели\n",
    "rs_CB.fit(features_train, target_train)\n",
    "\n",
    "# лучшие параметры\n",
    "try:\n",
    "    print('fbest_params:', {rs_CB.best_params_})\n",
    "except:\n",
    "  print('fbest_params:', dict(rs_CB.best_params_))\n"
   ]
  },
  {
   "cell_type": "code",
   "execution_count": 53,
   "metadata": {
    "id": "4KOeoIGFQItl"
   },
   "outputs": [],
   "source": [
    "'''CatBoostRegressor предсказание'''\n",
    "\n",
    "prediction_cb = rs_CB.predict(features_valid)\n",
    "\n",
    "# RMSE\n",
    "RMSE_cb = mean_squared_error(target_valid, prediction_cb, squared=False)\n",
    "\n",
    "# словарь с временем модели \n",
    "time_сb = []\n",
    "\n",
    "# среднее время обучения\n",
    "time_сb.append(rs_CB.cv_results_['mean_fit_time'].mean())\n",
    "\n",
    "# среднее время опредсказания\n",
    "time_сb.append(rs_CB.cv_results_['mean_score_time'].mean())\n"
   ]
  },
  {
   "cell_type": "code",
   "execution_count": 54,
   "metadata": {
    "id": "tol7R34uRMrJ"
   },
   "outputs": [
    {
     "name": "stdout",
     "output_type": "stream",
     "text": [
      "[LightGBM] [Info] Auto-choosing row-wise multi-threading, the overhead of testing was 0.028250 seconds.\n",
      "You can set `force_row_wise=true` to remove the overhead.\n",
      "And if memory is not enough, you can set `force_col_wise=true`.\n",
      "[LightGBM] [Info] Total Bins 1189\n",
      "[LightGBM] [Info] Number of data points in the train set: 145696, number of used features: 284\n",
      "[LightGBM] [Info] Start training from score 5083.556288\n",
      "fbest_params: {'num_leaves': 70, 'n_estimators': 1000, 'learning_rate': 0.1}\n",
      "CPU times: total: 15.3 s\n",
      "Wall time: 53.4 s\n"
     ]
    }
   ],
   "source": [
    "%%time\n",
    "'''LGBMRegressor обучение'''\n",
    "\n",
    "model_lgb = LGBMRegressor(random_state = RANDOM)\n",
    "\n",
    "# комбинаций гиперпараметров\n",
    "param_grid = {\n",
    "        'num_leaves': [10, 20, 31, 70],\n",
    "        'learning_rate': [0.05, 0.1, 0.5],\n",
    "        'n_estimators': [20, 100, 500, 1000],\n",
    "    }\n",
    "\n",
    "# подбор гиперпараметров\n",
    "rs_lgb = RandomizedSearchCV(\n",
    "        model_lgb,\n",
    "        param_distributions=param_grid,\n",
    "        scoring=\"neg_root_mean_squared_error\",\n",
    "        n_jobs=-1,\n",
    "        random_state=RANDOM\n",
    "    )\n",
    "\n",
    "# фит модели\n",
    "rs_lgb .fit(features_train, target_train)\n",
    "\n",
    "# лучшие параметры\n",
    "try:\n",
    "  print('fbest_params:', {rs_lgb.best_params_})\n",
    "except:\n",
    "  print('fbest_params:', dict(rs_lgb.best_params_))\n",
    "\n"
   ]
  },
  {
   "cell_type": "code",
   "execution_count": 55,
   "metadata": {
    "id": "Bh7Q2003RMof"
   },
   "outputs": [],
   "source": [
    "'''LGBMRegressor предсказание'''\n",
    "\n",
    "prediction_lgb = rs_lgb.predict(features_valid)\n",
    "\n",
    "# RMSE\n",
    "RMSE_lgb = mean_squared_error(target_valid, prediction_lgb, squared=False)\n",
    "\n",
    "# словарь с временем модели \n",
    "time_lgb = []\n",
    "\n",
    "# среднее время обучения\n",
    "time_lgb.append(rs_lgb.cv_results_['mean_fit_time'].mean())\n",
    "\n",
    "# среднее время опредсказания\n",
    "time_lgb.append(rs_lgb.cv_results_['mean_score_time'].mean())\n"
   ]
  },
  {
   "cell_type": "code",
   "execution_count": 56,
   "metadata": {},
   "outputs": [
    {
     "name": "stdout",
     "output_type": "stream",
     "text": [
      "Результат LinearRegression\n",
      "Время обучения: 20.03179223537445 \n",
      "Время предсказания: 0.1285187578201294\n",
      "RMSE =  2570.529812641383\n"
     ]
    }
   ],
   "source": [
    "print(\"Результат LinearRegression\")\n",
    "print(f'Время обучения: {time_lr[0]} \\nВремя предсказания: {time_lr[1]}')\n",
    "print('RMSE = ', RMSE_lr)"
   ]
  },
  {
   "cell_type": "code",
   "execution_count": 57,
   "metadata": {},
   "outputs": [
    {
     "name": "stdout",
     "output_type": "stream",
     "text": [
      "Результат Случайный лес\n",
      "Время обучения: 179.33650196790694 \n",
      "Время предсказания: 0.48484977483749386\n",
      "RMSE =  1656.6823076800597\n"
     ]
    }
   ],
   "source": [
    "print(\"Результат Случайный лес\")\n",
    "print(f'Время обучения: {time_rf[0]} \\nВремя предсказания: {time_rf[1]}')\n",
    "print('RMSE = ', RMSE_rf)"
   ]
  },
  {
   "cell_type": "code",
   "execution_count": 58,
   "metadata": {},
   "outputs": [
    {
     "name": "stdout",
     "output_type": "stream",
     "text": [
      "Результат GradientBoosting\n",
      "Время обучения: 58.763921999931334 \n",
      "Время предсказания: 0.09031982421875\n",
      "RMSE =  1662.4273696621258\n"
     ]
    }
   ],
   "source": [
    "print(\"Результат GradientBoosting\")\n",
    "print(f'Время обучения: {time_gb[0]} \\nВремя предсказания: {time_gb[1]}')\n",
    "print('RMSE = ', RMSE_gb)"
   ]
  },
  {
   "cell_type": "code",
   "execution_count": 59,
   "metadata": {},
   "outputs": [
    {
     "name": "stdout",
     "output_type": "stream",
     "text": [
      "Результат CatBoostRegressor\n",
      "Время обучения: 19.095645654201505 \n",
      "Время предсказания: 0.0849005103111267\n",
      "RMSE =  1566.6275430482558\n"
     ]
    }
   ],
   "source": [
    "print(\"Результат CatBoostRegressor\")\n",
    "print(f'Время обучения: {time_сb[0]} \\nВремя предсказания: {time_сb[1]}')\n",
    "print('RMSE = ', RMSE_cb)"
   ]
  },
  {
   "cell_type": "code",
   "execution_count": 60,
   "metadata": {
    "id": "TLezUp_rRpv5"
   },
   "outputs": [
    {
     "name": "stdout",
     "output_type": "stream",
     "text": [
      "Результат LGBMRegressor\n",
      "Время обучения: 13.540819077491761 \n",
      "Время предсказания: 0.18773991107940674\n",
      "RMSE =  1527.7553300256338\n"
     ]
    }
   ],
   "source": [
    "print(\"Результат LGBMRegressor\")\n",
    "print(f'Время обучения: {time_lgb[0]} \\nВремя предсказания: {time_lgb[1]}')\n",
    "print('RMSE = ', RMSE_lgb)"
   ]
  },
  {
   "cell_type": "markdown",
   "metadata": {},
   "source": [
    "**Вывод:** Были обучены модели LinearRegression, RandomForest, GradientBoosting, CatBoostRegressor, LGBMRegressor. Самая долгая по вермени обучения модель была Случайный лес. Самая точная модель - LGBMRegressor. Из-за большого потребления ресурсов моделью CatBoostRegressor пришлось ограничить многопоточность, поэтому время обучения данной модели не совсем корректно."
   ]
  },
  {
   "cell_type": "markdown",
   "metadata": {
    "id": "y4wW8sdNJQE4"
   },
   "source": [
    "## Анализ моделей"
   ]
  },
  {
   "cell_type": "code",
   "execution_count": 61,
   "metadata": {
    "id": "QW2tIQwPJQE4"
   },
   "outputs": [],
   "source": [
    "# создадим общий датасет с информацией о всех моделях\n",
    "model_lst = ['LinearRegression', 'RandomForest','GradientBoosting', 'CatBoostRegressor', 'LGBMRegressor']\n",
    "\n",
    "# время обучения\n",
    "time_fit = [time_lr[0], time_rf[0], time_gb[0], time_сb[0], time_lgb[0]]\n",
    "\n",
    "# время предсказания \n",
    "time_predict = [time_lr[1], time_rf[1], time_gb[1], time_сb[1], time_lgb[1]]\n",
    "\n",
    "# RMSE\n",
    "RMSE_lst = [RMSE_lr, RMSE_rf, RMSE_gb, RMSE_cb, RMSE_lgb] \n",
    "\n",
    "# создание датафрейма\n",
    "data = {'name_model': model_lst, 'time_learn': time_fit,\n",
    "    'time_predict': time_predict, 'RMSE': RMSE_lst}\n",
    "data_total = pd.DataFrame(data = data)\n"
   ]
  },
  {
   "cell_type": "code",
   "execution_count": 62,
   "metadata": {},
   "outputs": [
    {
     "data": {
      "text/html": [
       "<div>\n",
       "<style scoped>\n",
       "    .dataframe tbody tr th:only-of-type {\n",
       "        vertical-align: middle;\n",
       "    }\n",
       "\n",
       "    .dataframe tbody tr th {\n",
       "        vertical-align: top;\n",
       "    }\n",
       "\n",
       "    .dataframe thead th {\n",
       "        text-align: right;\n",
       "    }\n",
       "</style>\n",
       "<table border=\"1\" class=\"dataframe\">\n",
       "  <thead>\n",
       "    <tr style=\"text-align: right;\">\n",
       "      <th></th>\n",
       "      <th>name_model</th>\n",
       "      <th>time_learn</th>\n",
       "      <th>time_predict</th>\n",
       "      <th>RMSE</th>\n",
       "    </tr>\n",
       "  </thead>\n",
       "  <tbody>\n",
       "    <tr>\n",
       "      <th>0</th>\n",
       "      <td>LinearRegression</td>\n",
       "      <td>20.031792</td>\n",
       "      <td>0.128519</td>\n",
       "      <td>2570.529813</td>\n",
       "    </tr>\n",
       "    <tr>\n",
       "      <th>1</th>\n",
       "      <td>RandomForest</td>\n",
       "      <td>179.336502</td>\n",
       "      <td>0.484850</td>\n",
       "      <td>1656.682308</td>\n",
       "    </tr>\n",
       "    <tr>\n",
       "      <th>2</th>\n",
       "      <td>GradientBoosting</td>\n",
       "      <td>58.763922</td>\n",
       "      <td>0.090320</td>\n",
       "      <td>1662.427370</td>\n",
       "    </tr>\n",
       "    <tr>\n",
       "      <th>3</th>\n",
       "      <td>CatBoostRegressor</td>\n",
       "      <td>19.095646</td>\n",
       "      <td>0.084901</td>\n",
       "      <td>1566.627543</td>\n",
       "    </tr>\n",
       "    <tr>\n",
       "      <th>4</th>\n",
       "      <td>LGBMRegressor</td>\n",
       "      <td>13.540819</td>\n",
       "      <td>0.187740</td>\n",
       "      <td>1527.755330</td>\n",
       "    </tr>\n",
       "  </tbody>\n",
       "</table>\n",
       "</div>"
      ],
      "text/plain": [
       "          name_model  time_learn  time_predict         RMSE\n",
       "0   LinearRegression   20.031792      0.128519  2570.529813\n",
       "1       RandomForest  179.336502      0.484850  1656.682308\n",
       "2   GradientBoosting   58.763922      0.090320  1662.427370\n",
       "3  CatBoostRegressor   19.095646      0.084901  1566.627543\n",
       "4      LGBMRegressor   13.540819      0.187740  1527.755330"
      ]
     },
     "metadata": {},
     "output_type": "display_data"
    }
   ],
   "source": [
    "display(data_total)"
   ]
  },
  {
   "cell_type": "code",
   "execution_count": 63,
   "metadata": {},
   "outputs": [],
   "source": [
    "def show_db(column: str):\n",
    "    '''Построение гистограмм'''\n",
    "    data_total.plot('name_model', column, kind = 'bar', figsize = (10,5),\n",
    "                     grid = True, rot = 15)\n",
    "    plt.show()"
   ]
  },
  {
   "cell_type": "code",
   "execution_count": 64,
   "metadata": {},
   "outputs": [
    {
     "data": {
      "image/png": "[encoded data removed]",
      "text/plain": [
       "<Figure size 1000x500 with 1 Axes>"
      ]
     },
     "metadata": {},
     "output_type": "display_data"
    },
    {
     "data": {
      "image/png": "[encoded data removed]",
      "text/plain": [
       "<Figure size 1000x500 with 1 Axes>"
      ]
     },
     "metadata": {},
     "output_type": "display_data"
    },
    {
     "data": {
      "image/png": "[encoded data removed]",
      "text/plain": [
       "<Figure size 1000x500 with 1 Axes>"
      ]
     },
     "metadata": {},
     "output_type": "display_data"
    }
   ],
   "source": [
    "show_db('time_learn')\n",
    "show_db('time_predict')\n",
    "show_db('RMSE')\n"
   ]
  },
  {
   "cell_type": "code",
   "execution_count": 66,
   "metadata": {},
   "outputs": [
    {
     "name": "stdout",
     "output_type": "stream",
     "text": [
      "Результат лучшей модели: 1530.6705315635236\n"
     ]
    }
   ],
   "source": [
    "# тестирование лучшей модели на тестовой выборке\n",
    "test_predict = rs_lgb.predict(features_test)\n",
    "RMSE_test = mean_squared_error(target_test, test_predict, squared=False)\n",
    "print('Результат лучшей модели:', RMSE_test)"
   ]
  },
  {
   "cell_type": "markdown",
   "metadata": {},
   "source": [
    "**Вывод:** Тестирование лучшей модели показало что результат на валидационной выборке и тестовой практически идентичны. Модель не подвержена переобучению (или недообучению)."
   ]
  },
  {
   "cell_type": "markdown",
   "metadata": {},
   "source": [
    "<div style=\"border:solid steelgreen 4px; padding: 20px; border-radius: 15px\">\n",
    "<h1>Итог:</h1>\n",
    "\n",
    ">В ходе работы были выполнены следующие операции:\n",
    ">>- Изучена общая информация о представленном датасете\n",
    ">>- Изучены данные в предоставленных датасетах\n",
    ">>- Подготовка датасета для обучения моделей МО\n",
    ">>- Исслерезультаты работы различных моделей МО\n",
    ">>- Выбрана лучшая модель под критерии заказчика\n",
    "\n",
    "\n",
    ">В ходе исследования была выявлена самая лучшая модель для решения задачи предсказания стоимости автомобиля - LGBMRegressor. По критериям заказчика эта модель лучше всех подходит для поставленной задачи. Время обучения модели 51.8 секунд, 1 сек. пердсказание, RMSE = 1612.10"
   ]
  }
 ],
 "metadata": {
  "ExecuteTimeLog": [
   {
    "duration": 394,
    "start_time": "2023-10-10T20:39:39.746Z"
   },
   {
    "duration": 1201,
    "start_time": "2023-10-10T20:39:52.743Z"
   },
   {
    "duration": 1055,
    "start_time": "2023-10-10T20:41:26.084Z"
   },
   {
    "duration": 24,
    "start_time": "2023-10-10T20:41:42.785Z"
   },
   {
    "duration": 5,
    "start_time": "2023-10-10T20:42:08.821Z"
   },
   {
    "duration": 70,
    "start_time": "2023-10-10T20:42:26.701Z"
   },
   {
    "duration": 2954,
    "start_time": "2023-10-10T20:42:40.653Z"
   },
   {
    "duration": 531,
    "start_time": "2023-10-10T20:42:48.582Z"
   },
   {
    "duration": 5,
    "start_time": "2023-10-10T20:42:50.996Z"
   },
   {
    "duration": 380,
    "start_time": "2023-10-10T20:51:28.217Z"
   },
   {
    "duration": 1236,
    "start_time": "2023-10-10T20:51:28.599Z"
   },
   {
    "duration": 34,
    "start_time": "2023-10-10T20:51:29.837Z"
   },
   {
    "duration": 4,
    "start_time": "2023-10-10T20:51:29.873Z"
   },
   {
    "duration": 625,
    "start_time": "2023-10-10T20:51:30.108Z"
   },
   {
    "duration": 43,
    "start_time": "2023-10-10T20:51:47.478Z"
   },
   {
    "duration": 1307,
    "start_time": "2023-10-10T20:51:59.840Z"
   },
   {
    "duration": 1105,
    "start_time": "2023-10-10T20:52:11.748Z"
   },
   {
    "duration": 394,
    "start_time": "2023-10-10T20:53:02.529Z"
   },
   {
    "duration": 902,
    "start_time": "2023-10-10T20:53:02.925Z"
   },
   {
    "duration": 34,
    "start_time": "2023-10-10T20:53:03.829Z"
   },
   {
    "duration": 5,
    "start_time": "2023-10-10T20:53:03.866Z"
   },
   {
    "duration": 604,
    "start_time": "2023-10-10T20:53:03.872Z"
   },
   {
    "duration": 48,
    "start_time": "2023-10-10T20:53:04.477Z"
   },
   {
    "duration": 43,
    "start_time": "2023-10-10T20:53:07.374Z"
   },
   {
    "duration": 5,
    "start_time": "2023-10-10T20:53:10.037Z"
   },
   {
    "duration": 3,
    "start_time": "2023-10-10T20:53:27.467Z"
   },
   {
    "duration": 15,
    "start_time": "2023-10-10T20:53:27.472Z"
   },
   {
    "duration": 364,
    "start_time": "2023-10-10T20:53:27.489Z"
   },
   {
    "duration": 880,
    "start_time": "2023-10-10T20:53:27.856Z"
   },
   {
    "duration": 33,
    "start_time": "2023-10-10T20:53:28.738Z"
   },
   {
    "duration": 3,
    "start_time": "2023-10-10T20:53:28.774Z"
   },
   {
    "duration": 691,
    "start_time": "2023-10-10T20:53:28.779Z"
   },
   {
    "duration": 38,
    "start_time": "2023-10-10T20:53:29.472Z"
   },
   {
    "duration": 48,
    "start_time": "2023-10-10T20:53:29.511Z"
   },
   {
    "duration": 308,
    "start_time": "2023-10-10T20:53:39.695Z"
   },
   {
    "duration": 99,
    "start_time": "2023-10-10T20:54:41.432Z"
   },
   {
    "duration": 287,
    "start_time": "2023-10-10T20:54:43.904Z"
   },
   {
    "duration": 112,
    "start_time": "2023-10-10T20:56:02.330Z"
   },
   {
    "duration": 33,
    "start_time": "2023-10-10T20:56:16.477Z"
   },
   {
    "duration": 2,
    "start_time": "2023-10-10T20:57:57.029Z"
   },
   {
    "duration": 76,
    "start_time": "2023-10-10T20:58:36.648Z"
   },
   {
    "duration": 9,
    "start_time": "2023-10-10T20:58:53.185Z"
   },
   {
    "duration": 3,
    "start_time": "2023-10-10T20:58:57.439Z"
   },
   {
    "duration": 21,
    "start_time": "2023-10-10T20:58:58.320Z"
   },
   {
    "duration": 3,
    "start_time": "2023-10-10T20:59:25.934Z"
   },
   {
    "duration": 22,
    "start_time": "2023-10-10T20:59:26.623Z"
   },
   {
    "duration": 101,
    "start_time": "2023-10-10T20:59:46.361Z"
   },
   {
    "duration": 191,
    "start_time": "2023-10-10T21:15:15.526Z"
   },
   {
    "duration": 30505,
    "start_time": "2023-10-10T21:15:27.596Z"
   },
   {
    "duration": 50,
    "start_time": "2023-10-10T21:16:10.701Z"
   },
   {
    "duration": 304,
    "start_time": "2023-10-10T21:16:17.811Z"
   },
   {
    "duration": 7,
    "start_time": "2023-10-10T21:17:41.037Z"
   },
   {
    "duration": 5,
    "start_time": "2023-10-10T21:19:13.796Z"
   },
   {
    "duration": 4,
    "start_time": "2023-10-10T21:23:11.505Z"
   },
   {
    "duration": 4,
    "start_time": "2023-10-10T21:23:11.510Z"
   },
   {
    "duration": 391,
    "start_time": "2023-10-10T21:23:11.516Z"
   },
   {
    "duration": 914,
    "start_time": "2023-10-10T21:23:11.908Z"
   },
   {
    "duration": 36,
    "start_time": "2023-10-10T21:23:12.824Z"
   },
   {
    "duration": 18,
    "start_time": "2023-10-10T21:23:12.862Z"
   },
   {
    "duration": 615,
    "start_time": "2023-10-10T21:23:12.881Z"
   },
   {
    "duration": 2,
    "start_time": "2023-10-10T21:23:13.498Z"
   },
   {
    "duration": 333,
    "start_time": "2023-10-10T21:23:13.501Z"
   },
   {
    "duration": 3,
    "start_time": "2023-10-10T21:23:13.836Z"
   },
   {
    "duration": 94,
    "start_time": "2023-10-10T21:23:13.840Z"
   },
   {
    "duration": 18,
    "start_time": "2023-10-10T21:23:13.935Z"
   },
   {
    "duration": 2,
    "start_time": "2023-10-10T21:23:15.929Z"
   },
   {
    "duration": 4,
    "start_time": "2023-10-10T21:24:31.210Z"
   },
   {
    "duration": 22293,
    "start_time": "2023-10-10T21:24:51.832Z"
   },
   {
    "duration": 4,
    "start_time": "2023-10-10T21:25:20.393Z"
   },
   {
    "duration": 3,
    "start_time": "2023-10-10T21:27:12.289Z"
   },
   {
    "duration": 16,
    "start_time": "2023-10-10T21:27:12.293Z"
   },
   {
    "duration": 405,
    "start_time": "2023-10-10T21:27:12.311Z"
   },
   {
    "duration": 883,
    "start_time": "2023-10-10T21:27:12.717Z"
   },
   {
    "duration": 25,
    "start_time": "2023-10-10T21:27:13.602Z"
   },
   {
    "duration": 10,
    "start_time": "2023-10-10T21:27:13.628Z"
   },
   {
    "duration": 582,
    "start_time": "2023-10-10T21:27:13.639Z"
   },
   {
    "duration": 82,
    "start_time": "2023-10-10T21:27:14.223Z"
   },
   {
    "duration": 305,
    "start_time": "2023-10-10T21:27:14.307Z"
   },
   {
    "duration": 3,
    "start_time": "2023-10-10T21:27:14.614Z"
   },
   {
    "duration": 92,
    "start_time": "2023-10-10T21:27:14.619Z"
   },
   {
    "duration": 4,
    "start_time": "2023-10-10T21:27:14.713Z"
   },
   {
    "duration": 9,
    "start_time": "2023-10-10T21:30:44.528Z"
   },
   {
    "duration": 51,
    "start_time": "2023-10-10T21:30:44.830Z"
   },
   {
    "duration": 3,
    "start_time": "2023-10-10T21:30:49.129Z"
   },
   {
    "duration": 23,
    "start_time": "2023-10-10T21:30:49.134Z"
   },
   {
    "duration": 457,
    "start_time": "2023-10-10T21:30:49.159Z"
   },
   {
    "duration": 951,
    "start_time": "2023-10-10T21:30:49.617Z"
   },
   {
    "duration": 26,
    "start_time": "2023-10-10T21:30:50.570Z"
   },
   {
    "duration": 13,
    "start_time": "2023-10-10T21:30:50.597Z"
   },
   {
    "duration": 617,
    "start_time": "2023-10-10T21:30:50.611Z"
   },
   {
    "duration": 92,
    "start_time": "2023-10-10T21:30:51.230Z"
   },
   {
    "duration": 308,
    "start_time": "2023-10-10T21:30:51.324Z"
   },
   {
    "duration": 3,
    "start_time": "2023-10-10T21:30:51.634Z"
   },
   {
    "duration": 93,
    "start_time": "2023-10-10T21:30:51.639Z"
   },
   {
    "duration": 4,
    "start_time": "2023-10-10T21:30:51.734Z"
   },
   {
    "duration": 3,
    "start_time": "2023-10-10T21:33:11.146Z"
   },
   {
    "duration": 10,
    "start_time": "2023-10-10T21:33:11.152Z"
   },
   {
    "duration": 445,
    "start_time": "2023-10-10T21:33:11.164Z"
   },
   {
    "duration": 952,
    "start_time": "2023-10-10T21:33:11.611Z"
   },
   {
    "duration": 34,
    "start_time": "2023-10-10T21:33:12.567Z"
   },
   {
    "duration": 5,
    "start_time": "2023-10-10T21:33:12.603Z"
   },
   {
    "duration": 675,
    "start_time": "2023-10-10T21:33:12.610Z"
   },
   {
    "duration": 124,
    "start_time": "2023-10-10T21:33:13.287Z"
   },
   {
    "duration": 312,
    "start_time": "2023-10-10T21:33:13.413Z"
   },
   {
    "duration": 3,
    "start_time": "2023-10-10T21:33:13.727Z"
   },
   {
    "duration": 102,
    "start_time": "2023-10-10T21:33:13.732Z"
   },
   {
    "duration": 2,
    "start_time": "2023-10-10T21:33:22.994Z"
   },
   {
    "duration": 12,
    "start_time": "2023-10-10T21:33:22.998Z"
   },
   {
    "duration": 7,
    "start_time": "2023-10-10T21:33:23.011Z"
   },
   {
    "duration": 899,
    "start_time": "2023-10-10T21:33:23.020Z"
   },
   {
    "duration": 20,
    "start_time": "2023-10-10T21:33:23.921Z"
   },
   {
    "duration": 44,
    "start_time": "2023-10-10T21:33:23.949Z"
   },
   {
    "duration": 329,
    "start_time": "2023-10-10T21:33:23.994Z"
   },
   {
    "duration": 94,
    "start_time": "2023-10-10T21:33:24.325Z"
   },
   {
    "duration": 306,
    "start_time": "2023-10-10T21:33:24.421Z"
   },
   {
    "duration": 4,
    "start_time": "2023-10-10T21:33:24.728Z"
   },
   {
    "duration": 98,
    "start_time": "2023-10-10T21:33:24.733Z"
   },
   {
    "duration": 154,
    "start_time": "2023-10-10T21:34:02.546Z"
   },
   {
    "duration": 31,
    "start_time": "2023-10-10T21:35:16.646Z"
   },
   {
    "duration": 33745,
    "start_time": "2023-10-10T21:35:36.195Z"
   },
   {
    "duration": 339,
    "start_time": "2023-10-10T21:36:09.942Z"
   },
   {
    "duration": 95,
    "start_time": "2023-10-10T21:37:37.339Z"
   },
   {
    "duration": 3,
    "start_time": "2023-10-10T21:38:16.551Z"
   },
   {
    "duration": 699,
    "start_time": "2023-10-10T21:38:32.707Z"
   },
   {
    "duration": 966,
    "start_time": "2023-10-10T21:38:43.328Z"
   },
   {
    "duration": 892,
    "start_time": "2023-10-10T21:38:48.395Z"
   },
   {
    "duration": 1159,
    "start_time": "2023-10-10T21:38:52.553Z"
   },
   {
    "duration": 83,
    "start_time": "2023-10-10T21:40:24.682Z"
   },
   {
    "duration": 21,
    "start_time": "2023-10-10T21:40:34.245Z"
   },
   {
    "duration": 108,
    "start_time": "2023-10-10T21:40:54.750Z"
   },
   {
    "duration": 15,
    "start_time": "2023-10-10T21:40:55.805Z"
   },
   {
    "duration": 13,
    "start_time": "2023-10-10T21:41:24.782Z"
   },
   {
    "duration": 23,
    "start_time": "2023-10-10T21:41:29.290Z"
   },
   {
    "duration": 14,
    "start_time": "2023-10-10T21:41:29.891Z"
   },
   {
    "duration": 117,
    "start_time": "2023-10-10T21:42:44.490Z"
   },
   {
    "duration": 15,
    "start_time": "2023-10-10T21:42:45.062Z"
   },
   {
    "duration": 1763,
    "start_time": "2023-10-10T21:42:50.102Z"
   },
   {
    "duration": 12,
    "start_time": "2023-10-10T21:43:11.097Z"
   },
   {
    "duration": 18,
    "start_time": "2023-10-10T21:43:12.734Z"
   },
   {
    "duration": 11,
    "start_time": "2023-10-10T21:46:38.384Z"
   },
   {
    "duration": 79,
    "start_time": "2023-10-10T21:47:25.648Z"
   },
   {
    "duration": 40,
    "start_time": "2023-10-10T21:48:44.757Z"
   },
   {
    "duration": 14,
    "start_time": "2023-10-10T21:48:52.051Z"
   },
   {
    "duration": 8105,
    "start_time": "2023-10-10T21:48:59.710Z"
   },
   {
    "duration": 9,
    "start_time": "2023-10-10T21:49:30.191Z"
   },
   {
    "duration": 138,
    "start_time": "2023-10-10T21:49:40.447Z"
   },
   {
    "duration": 126,
    "start_time": "2023-10-10T21:49:57.267Z"
   },
   {
    "duration": 103,
    "start_time": "2023-10-10T21:50:25.506Z"
   },
   {
    "duration": 13,
    "start_time": "2023-10-10T21:50:46.344Z"
   },
   {
    "duration": 110,
    "start_time": "2023-10-10T21:50:48.683Z"
   },
   {
    "duration": 2309,
    "start_time": "2023-10-10T21:50:51.147Z"
   },
   {
    "duration": 2732,
    "start_time": "2023-10-10T21:51:01.293Z"
   },
   {
    "duration": 2902,
    "start_time": "2023-10-10T21:51:08.288Z"
   },
   {
    "duration": 1496,
    "start_time": "2023-10-10T21:52:07.185Z"
   },
   {
    "duration": 13,
    "start_time": "2023-10-10T21:52:17.752Z"
   },
   {
    "duration": 483,
    "start_time": "2023-10-10T21:52:25.781Z"
   },
   {
    "duration": 11,
    "start_time": "2023-10-10T21:52:45.297Z"
   },
   {
    "duration": 11,
    "start_time": "2023-10-10T21:52:51.763Z"
   },
   {
    "duration": 9,
    "start_time": "2023-10-10T21:52:54.640Z"
   },
   {
    "duration": 86,
    "start_time": "2023-10-10T21:53:03.353Z"
   },
   {
    "duration": 8,
    "start_time": "2023-10-10T21:53:05.866Z"
   },
   {
    "duration": 3,
    "start_time": "2023-10-10T21:54:26.496Z"
   },
   {
    "duration": 3,
    "start_time": "2023-10-10T21:55:08.989Z"
   },
   {
    "duration": 12,
    "start_time": "2023-10-10T21:55:09.195Z"
   },
   {
    "duration": 8,
    "start_time": "2023-10-10T21:55:09.790Z"
   },
   {
    "duration": 6,
    "start_time": "2023-10-10T21:55:10.201Z"
   },
   {
    "duration": 92,
    "start_time": "2023-10-10T21:57:17.141Z"
   },
   {
    "duration": 41,
    "start_time": "2023-10-10T21:57:24.447Z"
   },
   {
    "duration": 87,
    "start_time": "2023-10-10T21:57:50.148Z"
   },
   {
    "duration": 2972,
    "start_time": "2023-10-10T21:57:55.642Z"
   },
   {
    "duration": 78,
    "start_time": "2023-10-10T21:58:29.945Z"
   },
   {
    "duration": 2853,
    "start_time": "2023-10-10T21:58:33.033Z"
   },
   {
    "duration": 4,
    "start_time": "2023-10-10T21:59:21.401Z"
   },
   {
    "duration": 19,
    "start_time": "2023-10-10T21:59:40.045Z"
   },
   {
    "duration": 588,
    "start_time": "2023-10-10T21:59:51.645Z"
   },
   {
    "duration": 4,
    "start_time": "2023-10-10T21:59:52.905Z"
   },
   {
    "duration": 766,
    "start_time": "2023-10-10T21:59:53.867Z"
   },
   {
    "duration": 89,
    "start_time": "2023-10-10T22:14:01.135Z"
   },
   {
    "duration": 403,
    "start_time": "2023-10-10T22:14:13.105Z"
   },
   {
    "duration": 27,
    "start_time": "2023-10-10T22:15:01.985Z"
   },
   {
    "duration": 11,
    "start_time": "2023-10-10T22:16:23.781Z"
   },
   {
    "duration": 6351,
    "start_time": "2023-10-10T22:18:53.789Z"
   },
   {
    "duration": 28,
    "start_time": "2023-10-10T22:19:00.142Z"
   },
   {
    "duration": 18,
    "start_time": "2023-10-10T22:19:10.377Z"
   },
   {
    "duration": 4963,
    "start_time": "2023-10-10T22:23:43.746Z"
   },
   {
    "duration": 20,
    "start_time": "2023-10-10T22:23:57.636Z"
   },
   {
    "duration": 2238,
    "start_time": "2023-10-10T22:24:15.792Z"
   },
   {
    "duration": 2367,
    "start_time": "2023-10-10T22:24:22.894Z"
   },
   {
    "duration": 22,
    "start_time": "2023-10-10T22:24:27.282Z"
   },
   {
    "duration": 4924,
    "start_time": "2023-10-10T22:24:54.445Z"
   },
   {
    "duration": 21,
    "start_time": "2023-10-10T22:25:19.182Z"
   },
   {
    "duration": 111,
    "start_time": "2023-10-10T22:25:42.247Z"
   },
   {
    "duration": 4,
    "start_time": "2023-10-10T22:26:01.401Z"
   },
   {
    "duration": 256,
    "start_time": "2023-10-10T22:26:01.408Z"
   },
   {
    "duration": 1326,
    "start_time": "2023-10-10T22:26:01.666Z"
   },
   {
    "duration": 845,
    "start_time": "2023-10-10T22:26:02.993Z"
   },
   {
    "duration": 47,
    "start_time": "2023-10-10T22:26:03.840Z"
   },
   {
    "duration": 5,
    "start_time": "2023-10-10T22:26:03.888Z"
   },
   {
    "duration": 347,
    "start_time": "2023-10-10T22:26:03.895Z"
   },
   {
    "duration": 87,
    "start_time": "2023-10-10T22:26:04.249Z"
   },
   {
    "duration": 269,
    "start_time": "2023-10-10T22:26:04.338Z"
   },
   {
    "duration": 3,
    "start_time": "2023-10-10T22:26:04.609Z"
   },
   {
    "duration": 98,
    "start_time": "2023-10-10T22:26:04.613Z"
   },
   {
    "duration": 126,
    "start_time": "2023-10-10T22:26:04.713Z"
   },
   {
    "duration": 28803,
    "start_time": "2023-10-10T22:26:04.841Z"
   },
   {
    "duration": 269,
    "start_time": "2023-10-10T22:26:33.647Z"
   },
   {
    "duration": 91,
    "start_time": "2023-10-10T22:26:33.918Z"
   },
   {
    "duration": 3,
    "start_time": "2023-10-10T22:26:34.011Z"
   },
   {
    "duration": 884,
    "start_time": "2023-10-10T22:26:34.015Z"
   },
   {
    "duration": 240,
    "start_time": "2023-10-10T22:26:34.900Z"
   },
   {
    "duration": 16,
    "start_time": "2023-10-10T22:26:35.141Z"
   },
   {
    "duration": 24,
    "start_time": "2023-10-10T22:26:35.158Z"
   },
   {
    "duration": 2648,
    "start_time": "2023-10-10T22:26:35.184Z"
   },
   {
    "duration": 3,
    "start_time": "2023-10-10T22:26:37.833Z"
   },
   {
    "duration": 20,
    "start_time": "2023-10-10T22:26:37.838Z"
   },
   {
    "duration": 5,
    "start_time": "2023-10-10T22:26:37.860Z"
   },
   {
    "duration": 33,
    "start_time": "2023-10-10T22:26:37.867Z"
   },
   {
    "duration": 81,
    "start_time": "2023-10-10T22:26:37.902Z"
   },
   {
    "duration": 4,
    "start_time": "2023-10-10T22:26:37.984Z"
   },
   {
    "duration": 724,
    "start_time": "2023-10-10T22:26:37.989Z"
   },
   {
    "duration": 151,
    "start_time": "2023-10-10T22:26:38.714Z"
   },
   {
    "duration": 2164,
    "start_time": "2023-10-10T22:26:44.083Z"
   },
   {
    "duration": 50,
    "start_time": "2023-10-10T22:26:46.249Z"
   },
   {
    "duration": 5,
    "start_time": "2023-10-10T22:26:48.882Z"
   },
   {
    "duration": 4,
    "start_time": "2023-10-10T22:26:52.524Z"
   },
   {
    "duration": 3,
    "start_time": "2023-10-10T22:29:20.772Z"
   },
   {
    "duration": 3,
    "start_time": "2023-10-10T22:34:03.618Z"
   },
   {
    "duration": 35,
    "start_time": "2023-10-10T22:34:03.623Z"
   },
   {
    "duration": 1117,
    "start_time": "2023-10-10T22:34:03.660Z"
   },
   {
    "duration": 826,
    "start_time": "2023-10-10T22:34:04.778Z"
   },
   {
    "duration": 23,
    "start_time": "2023-10-10T22:34:05.606Z"
   },
   {
    "duration": 22,
    "start_time": "2023-10-10T22:34:05.630Z"
   },
   {
    "duration": 439,
    "start_time": "2023-10-10T22:34:05.653Z"
   },
   {
    "duration": 115,
    "start_time": "2023-10-10T22:34:06.094Z"
   },
   {
    "duration": 305,
    "start_time": "2023-10-10T22:34:06.211Z"
   },
   {
    "duration": 3,
    "start_time": "2023-10-10T22:34:06.518Z"
   },
   {
    "duration": 88,
    "start_time": "2023-10-10T22:34:06.522Z"
   },
   {
    "duration": 129,
    "start_time": "2023-10-10T22:34:06.612Z"
   },
   {
    "duration": 28648,
    "start_time": "2023-10-10T22:34:06.749Z"
   },
   {
    "duration": 272,
    "start_time": "2023-10-10T22:34:35.399Z"
   },
   {
    "duration": 92,
    "start_time": "2023-10-10T22:34:35.673Z"
   },
   {
    "duration": 3,
    "start_time": "2023-10-10T22:34:35.767Z"
   },
   {
    "duration": 972,
    "start_time": "2023-10-10T22:34:35.771Z"
   },
   {
    "duration": 245,
    "start_time": "2023-10-10T22:34:36.745Z"
   },
   {
    "duration": 13,
    "start_time": "2023-10-10T22:34:36.992Z"
   },
   {
    "duration": 47,
    "start_time": "2023-10-10T22:34:37.006Z"
   },
   {
    "duration": 2539,
    "start_time": "2023-10-10T22:34:37.055Z"
   },
   {
    "duration": 2,
    "start_time": "2023-10-10T22:34:39.596Z"
   },
   {
    "duration": 35,
    "start_time": "2023-10-10T22:34:39.600Z"
   },
   {
    "duration": 19,
    "start_time": "2023-10-10T22:34:39.636Z"
   },
   {
    "duration": 23,
    "start_time": "2023-10-10T22:34:39.656Z"
   },
   {
    "duration": 97,
    "start_time": "2023-10-10T22:34:39.681Z"
   },
   {
    "duration": 4,
    "start_time": "2023-10-10T22:34:39.779Z"
   },
   {
    "duration": 703,
    "start_time": "2023-10-10T22:34:39.785Z"
   },
   {
    "duration": 2186,
    "start_time": "2023-10-10T22:34:40.490Z"
   },
   {
    "duration": 203,
    "start_time": "2023-10-10T22:34:42.678Z"
   },
   {
    "duration": 4,
    "start_time": "2023-10-11T09:00:14.688Z"
   },
   {
    "duration": 284,
    "start_time": "2023-10-11T09:00:14.694Z"
   },
   {
    "duration": 1630,
    "start_time": "2023-10-11T09:00:14.980Z"
   },
   {
    "duration": 3557,
    "start_time": "2023-10-11T09:00:16.612Z"
   },
   {
    "duration": 29,
    "start_time": "2023-10-11T09:00:20.172Z"
   },
   {
    "duration": 18,
    "start_time": "2023-10-11T09:00:20.203Z"
   },
   {
    "duration": 451,
    "start_time": "2023-10-11T09:00:20.223Z"
   },
   {
    "duration": 117,
    "start_time": "2023-10-11T09:00:20.677Z"
   },
   {
    "duration": 314,
    "start_time": "2023-10-11T09:00:20.796Z"
   },
   {
    "duration": 3,
    "start_time": "2023-10-11T09:00:21.112Z"
   },
   {
    "duration": 134,
    "start_time": "2023-10-11T09:00:21.117Z"
   },
   {
    "duration": 165,
    "start_time": "2023-10-11T09:00:21.254Z"
   },
   {
    "duration": 35492,
    "start_time": "2023-10-11T09:00:21.423Z"
   },
   {
    "duration": 360,
    "start_time": "2023-10-11T09:00:56.917Z"
   },
   {
    "duration": 126,
    "start_time": "2023-10-11T09:00:57.279Z"
   },
   {
    "duration": 3,
    "start_time": "2023-10-11T09:00:57.407Z"
   },
   {
    "duration": 1091,
    "start_time": "2023-10-11T09:00:57.411Z"
   },
   {
    "duration": 322,
    "start_time": "2023-10-11T09:00:58.505Z"
   },
   {
    "duration": 32,
    "start_time": "2023-10-11T09:00:58.830Z"
   },
   {
    "duration": 21,
    "start_time": "2023-10-11T09:00:58.864Z"
   },
   {
    "duration": 3354,
    "start_time": "2023-10-11T09:00:58.888Z"
   },
   {
    "duration": 3,
    "start_time": "2023-10-11T09:01:02.244Z"
   },
   {
    "duration": 41,
    "start_time": "2023-10-11T09:01:02.258Z"
   },
   {
    "duration": 33,
    "start_time": "2023-10-11T09:01:02.301Z"
   },
   {
    "duration": 40,
    "start_time": "2023-10-11T09:01:02.337Z"
   },
   {
    "duration": 112,
    "start_time": "2023-10-11T09:01:02.380Z"
   },
   {
    "duration": 5,
    "start_time": "2023-10-11T09:01:02.495Z"
   },
   {
    "duration": 922,
    "start_time": "2023-10-11T09:01:02.503Z"
   },
   {
    "duration": 8947,
    "start_time": "2023-10-11T09:01:03.428Z"
   },
   {
    "duration": 259,
    "start_time": "2023-10-11T09:01:12.378Z"
   },
   {
    "duration": 136,
    "start_time": "2023-10-11T09:04:13.486Z"
   },
   {
    "duration": 175,
    "start_time": "2023-10-11T09:06:01.748Z"
   },
   {
    "duration": 25,
    "start_time": "2023-10-11T09:06:08.526Z"
   },
   {
    "duration": 8,
    "start_time": "2023-10-11T09:16:43.844Z"
   },
   {
    "duration": 22,
    "start_time": "2023-10-11T09:21:52.846Z"
   },
   {
    "duration": 36,
    "start_time": "2023-10-11T09:21:53.587Z"
   },
   {
    "duration": 25,
    "start_time": "2023-10-11T09:21:56.828Z"
   },
   {
    "duration": 8,
    "start_time": "2023-10-11T09:23:20.874Z"
   },
   {
    "duration": 14,
    "start_time": "2023-10-11T09:25:49.915Z"
   },
   {
    "duration": 11,
    "start_time": "2023-10-11T09:26:09.531Z"
   },
   {
    "duration": 198,
    "start_time": "2023-10-11T09:27:31.451Z"
   },
   {
    "duration": 109,
    "start_time": "2023-10-11T09:28:00.106Z"
   },
   {
    "duration": 118,
    "start_time": "2023-10-11T09:28:08.891Z"
   },
   {
    "duration": 9,
    "start_time": "2023-10-11T09:28:30.931Z"
   },
   {
    "duration": 99,
    "start_time": "2023-10-11T09:28:31.706Z"
   },
   {
    "duration": 4,
    "start_time": "2023-10-11T09:29:12.405Z"
   },
   {
    "duration": 173,
    "start_time": "2023-10-11T09:29:12.411Z"
   },
   {
    "duration": 1505,
    "start_time": "2023-10-11T09:29:12.586Z"
   },
   {
    "duration": 3376,
    "start_time": "2023-10-11T09:29:14.093Z"
   },
   {
    "duration": 29,
    "start_time": "2023-10-11T09:29:17.471Z"
   },
   {
    "duration": 5,
    "start_time": "2023-10-11T09:29:17.502Z"
   },
   {
    "duration": 434,
    "start_time": "2023-10-11T09:29:17.508Z"
   },
   {
    "duration": 150,
    "start_time": "2023-10-11T09:29:17.944Z"
   },
   {
    "duration": 328,
    "start_time": "2023-10-11T09:29:18.096Z"
   },
   {
    "duration": 3,
    "start_time": "2023-10-11T09:29:18.427Z"
   },
   {
    "duration": 113,
    "start_time": "2023-10-11T09:29:18.433Z"
   },
   {
    "duration": 173,
    "start_time": "2023-10-11T09:29:18.548Z"
   },
   {
    "duration": 36390,
    "start_time": "2023-10-11T09:29:18.723Z"
   },
   {
    "duration": 353,
    "start_time": "2023-10-11T09:29:55.116Z"
   },
   {
    "duration": 105,
    "start_time": "2023-10-11T09:29:55.472Z"
   },
   {
    "duration": 3,
    "start_time": "2023-10-11T09:29:55.579Z"
   },
   {
    "duration": 1188,
    "start_time": "2023-10-11T09:29:55.584Z"
   },
   {
    "duration": 327,
    "start_time": "2023-10-11T09:29:56.774Z"
   },
   {
    "duration": 16,
    "start_time": "2023-10-11T09:29:57.103Z"
   },
   {
    "duration": 40,
    "start_time": "2023-10-11T09:29:57.122Z"
   },
   {
    "duration": 3431,
    "start_time": "2023-10-11T09:29:57.166Z"
   },
   {
    "duration": 3,
    "start_time": "2023-10-11T09:30:00.599Z"
   },
   {
    "duration": 92,
    "start_time": "2023-10-11T09:30:00.604Z"
   },
   {
    "duration": 48,
    "start_time": "2023-10-11T09:30:00.698Z"
   },
   {
    "duration": 45,
    "start_time": "2023-10-11T09:30:00.749Z"
   },
   {
    "duration": 130,
    "start_time": "2023-10-11T09:30:00.796Z"
   },
   {
    "duration": 5,
    "start_time": "2023-10-11T09:30:00.928Z"
   },
   {
    "duration": 955,
    "start_time": "2023-10-11T09:30:00.934Z"
   },
   {
    "duration": 121,
    "start_time": "2023-10-11T09:30:01.891Z"
   },
   {
    "duration": 214,
    "start_time": "2023-10-11T09:30:02.014Z"
   },
   {
    "duration": 3169,
    "start_time": "2023-10-11T09:30:02.230Z"
   },
   {
    "duration": 2564,
    "start_time": "2023-10-11T09:30:05.402Z"
   },
   {
    "duration": 23,
    "start_time": "2023-10-11T09:30:07.974Z"
   },
   {
    "duration": 73,
    "start_time": "2023-10-11T09:30:07.999Z"
   },
   {
    "duration": 216,
    "start_time": "2023-10-11T09:30:08.075Z"
   },
   {
    "duration": 9,
    "start_time": "2023-10-11T09:30:08.293Z"
   },
   {
    "duration": 4,
    "start_time": "2023-10-11T09:32:29.814Z"
   },
   {
    "duration": 45,
    "start_time": "2023-10-11T09:32:29.820Z"
   },
   {
    "duration": 1452,
    "start_time": "2023-10-11T09:32:29.868Z"
   },
   {
    "duration": 3446,
    "start_time": "2023-10-11T09:32:31.323Z"
   },
   {
    "duration": 29,
    "start_time": "2023-10-11T09:32:34.771Z"
   },
   {
    "duration": 43,
    "start_time": "2023-10-11T09:32:34.802Z"
   },
   {
    "duration": 457,
    "start_time": "2023-10-11T09:32:34.847Z"
   },
   {
    "duration": 127,
    "start_time": "2023-10-11T09:32:35.306Z"
   },
   {
    "duration": 350,
    "start_time": "2023-10-11T09:32:35.435Z"
   },
   {
    "duration": 3,
    "start_time": "2023-10-11T09:32:35.789Z"
   },
   {
    "duration": 136,
    "start_time": "2023-10-11T09:32:35.794Z"
   },
   {
    "duration": 170,
    "start_time": "2023-10-11T09:32:35.932Z"
   },
   {
    "duration": 36396,
    "start_time": "2023-10-11T09:32:36.104Z"
   },
   {
    "duration": 341,
    "start_time": "2023-10-11T09:33:12.502Z"
   },
   {
    "duration": 120,
    "start_time": "2023-10-11T09:33:12.865Z"
   },
   {
    "duration": 2,
    "start_time": "2023-10-11T09:33:12.987Z"
   },
   {
    "duration": 1095,
    "start_time": "2023-10-11T09:33:12.991Z"
   },
   {
    "duration": 316,
    "start_time": "2023-10-11T09:33:14.088Z"
   },
   {
    "duration": 17,
    "start_time": "2023-10-11T09:33:14.406Z"
   },
   {
    "duration": 40,
    "start_time": "2023-10-11T09:33:14.425Z"
   },
   {
    "duration": 3362,
    "start_time": "2023-10-11T09:33:14.468Z"
   },
   {
    "duration": 3,
    "start_time": "2023-10-11T09:33:17.832Z"
   },
   {
    "duration": 42,
    "start_time": "2023-10-11T09:33:17.837Z"
   },
   {
    "duration": 31,
    "start_time": "2023-10-11T09:33:17.881Z"
   },
   {
    "duration": 62,
    "start_time": "2023-10-11T09:33:17.914Z"
   },
   {
    "duration": 130,
    "start_time": "2023-10-11T09:33:17.979Z"
   },
   {
    "duration": 4,
    "start_time": "2023-10-11T09:33:18.111Z"
   },
   {
    "duration": 851,
    "start_time": "2023-10-11T09:33:18.119Z"
   },
   {
    "duration": 122,
    "start_time": "2023-10-11T09:33:18.973Z"
   },
   {
    "duration": 42,
    "start_time": "2023-10-11T09:33:19.098Z"
   },
   {
    "duration": 2922,
    "start_time": "2023-10-11T09:33:19.143Z"
   },
   {
    "duration": 2159,
    "start_time": "2023-10-11T09:33:22.069Z"
   },
   {
    "duration": 16,
    "start_time": "2023-10-11T09:33:24.230Z"
   },
   {
    "duration": 61,
    "start_time": "2023-10-11T09:33:24.248Z"
   },
   {
    "duration": 200,
    "start_time": "2023-10-11T09:33:24.311Z"
   },
   {
    "duration": 115,
    "start_time": "2023-10-11T09:33:24.513Z"
   },
   {
    "duration": 8,
    "start_time": "2023-10-11T09:34:27.490Z"
   },
   {
    "duration": 59,
    "start_time": "2023-10-11T09:34:28.129Z"
   },
   {
    "duration": 3,
    "start_time": "2023-10-11T09:34:31.839Z"
   },
   {
    "duration": 47,
    "start_time": "2023-10-11T09:34:31.845Z"
   },
   {
    "duration": 1449,
    "start_time": "2023-10-11T09:34:31.894Z"
   },
   {
    "duration": 3443,
    "start_time": "2023-10-11T09:34:33.345Z"
   },
   {
    "duration": 28,
    "start_time": "2023-10-11T09:34:36.791Z"
   },
   {
    "duration": 6,
    "start_time": "2023-10-11T09:34:36.821Z"
   },
   {
    "duration": 477,
    "start_time": "2023-10-11T09:34:36.829Z"
   },
   {
    "duration": 124,
    "start_time": "2023-10-11T09:34:37.308Z"
   },
   {
    "duration": 326,
    "start_time": "2023-10-11T09:34:37.434Z"
   },
   {
    "duration": 5,
    "start_time": "2023-10-11T09:34:37.764Z"
   },
   {
    "duration": 123,
    "start_time": "2023-10-11T09:34:37.773Z"
   },
   {
    "duration": 177,
    "start_time": "2023-10-11T09:34:37.898Z"
   },
   {
    "duration": 36448,
    "start_time": "2023-10-11T09:34:38.077Z"
   },
   {
    "duration": 342,
    "start_time": "2023-10-11T09:35:14.530Z"
   },
   {
    "duration": 115,
    "start_time": "2023-10-11T09:35:14.875Z"
   },
   {
    "duration": 4,
    "start_time": "2023-10-11T09:35:14.992Z"
   },
   {
    "duration": 1193,
    "start_time": "2023-10-11T09:35:14.999Z"
   },
   {
    "duration": 323,
    "start_time": "2023-10-11T09:35:16.195Z"
   },
   {
    "duration": 17,
    "start_time": "2023-10-11T09:35:16.520Z"
   },
   {
    "duration": 71,
    "start_time": "2023-10-11T09:35:16.539Z"
   },
   {
    "duration": 3361,
    "start_time": "2023-10-11T09:35:16.612Z"
   },
   {
    "duration": 4,
    "start_time": "2023-10-11T09:35:19.975Z"
   },
   {
    "duration": 16,
    "start_time": "2023-10-11T09:35:19.981Z"
   },
   {
    "duration": 6,
    "start_time": "2023-10-11T09:35:19.999Z"
   },
   {
    "duration": 24,
    "start_time": "2023-10-11T09:35:20.008Z"
   },
   {
    "duration": 135,
    "start_time": "2023-10-11T09:35:20.034Z"
   },
   {
    "duration": 4,
    "start_time": "2023-10-11T09:35:20.171Z"
   },
   {
    "duration": 816,
    "start_time": "2023-10-11T09:35:20.177Z"
   },
   {
    "duration": 110,
    "start_time": "2023-10-11T09:35:20.996Z"
   },
   {
    "duration": 143,
    "start_time": "2023-10-11T09:35:21.108Z"
   },
   {
    "duration": 3153,
    "start_time": "2023-10-11T09:35:21.253Z"
   },
   {
    "duration": 3344,
    "start_time": "2023-10-11T09:35:24.409Z"
   },
   {
    "duration": 22,
    "start_time": "2023-10-11T09:35:27.755Z"
   },
   {
    "duration": 75,
    "start_time": "2023-10-11T09:35:27.779Z"
   },
   {
    "duration": 219,
    "start_time": "2023-10-11T09:35:27.860Z"
   },
   {
    "duration": 14,
    "start_time": "2023-10-11T09:35:28.086Z"
   },
   {
    "duration": 5,
    "start_time": "2023-10-11T09:35:51.373Z"
   },
   {
    "duration": 59,
    "start_time": "2023-10-11T09:35:51.380Z"
   },
   {
    "duration": 1383,
    "start_time": "2023-10-11T09:35:51.441Z"
   },
   {
    "duration": 3469,
    "start_time": "2023-10-11T09:35:52.826Z"
   },
   {
    "duration": 28,
    "start_time": "2023-10-11T09:35:56.298Z"
   },
   {
    "duration": 22,
    "start_time": "2023-10-11T09:35:56.328Z"
   },
   {
    "duration": 468,
    "start_time": "2023-10-11T09:35:56.353Z"
   },
   {
    "duration": 150,
    "start_time": "2023-10-11T09:35:56.822Z"
   },
   {
    "duration": 394,
    "start_time": "2023-10-11T09:35:56.976Z"
   },
   {
    "duration": 3,
    "start_time": "2023-10-11T09:35:57.374Z"
   },
   {
    "duration": 118,
    "start_time": "2023-10-11T09:35:57.378Z"
   },
   {
    "duration": 163,
    "start_time": "2023-10-11T09:35:57.498Z"
   },
   {
    "duration": 36890,
    "start_time": "2023-10-11T09:35:57.663Z"
   },
   {
    "duration": 374,
    "start_time": "2023-10-11T09:36:34.561Z"
   },
   {
    "duration": 132,
    "start_time": "2023-10-11T09:36:34.937Z"
   },
   {
    "duration": 3,
    "start_time": "2023-10-11T09:36:35.073Z"
   },
   {
    "duration": 1101,
    "start_time": "2023-10-11T09:36:35.078Z"
   },
   {
    "duration": 317,
    "start_time": "2023-10-11T09:36:36.182Z"
   },
   {
    "duration": 17,
    "start_time": "2023-10-11T09:36:36.501Z"
   },
   {
    "duration": 34,
    "start_time": "2023-10-11T09:36:36.520Z"
   },
   {
    "duration": 3395,
    "start_time": "2023-10-11T09:36:36.559Z"
   },
   {
    "duration": 14,
    "start_time": "2023-10-11T09:36:39.956Z"
   },
   {
    "duration": 51,
    "start_time": "2023-10-11T09:36:39.973Z"
   },
   {
    "duration": 41,
    "start_time": "2023-10-11T09:36:40.026Z"
   },
   {
    "duration": 54,
    "start_time": "2023-10-11T09:36:40.069Z"
   },
   {
    "duration": 143,
    "start_time": "2023-10-11T09:36:40.125Z"
   },
   {
    "duration": 4,
    "start_time": "2023-10-11T09:36:40.271Z"
   },
   {
    "duration": 795,
    "start_time": "2023-10-11T09:36:40.278Z"
   },
   {
    "duration": 99,
    "start_time": "2023-10-11T09:36:41.076Z"
   },
   {
    "duration": 33,
    "start_time": "2023-10-11T09:36:41.176Z"
   },
   {
    "duration": 2704,
    "start_time": "2023-10-11T09:36:41.211Z"
   },
   {
    "duration": 2250,
    "start_time": "2023-10-11T09:36:43.918Z"
   },
   {
    "duration": 212,
    "start_time": "2023-10-11T09:36:46.171Z"
   },
   {
    "duration": 4,
    "start_time": "2023-10-11T09:36:46.385Z"
   },
   {
    "duration": 56,
    "start_time": "2023-10-11T09:36:46.391Z"
   },
   {
    "duration": 64,
    "start_time": "2023-10-11T09:36:46.450Z"
   },
   {
    "duration": 54,
    "start_time": "2023-10-11T09:37:25.843Z"
   },
   {
    "duration": 3,
    "start_time": "2023-10-11T09:37:30.380Z"
   },
   {
    "duration": 39,
    "start_time": "2023-10-11T09:37:30.385Z"
   },
   {
    "duration": 1383,
    "start_time": "2023-10-11T09:37:30.428Z"
   },
   {
    "duration": 3237,
    "start_time": "2023-10-11T09:37:31.814Z"
   },
   {
    "duration": 28,
    "start_time": "2023-10-11T09:37:35.053Z"
   },
   {
    "duration": 7,
    "start_time": "2023-10-11T09:37:35.083Z"
   },
   {
    "duration": 378,
    "start_time": "2023-10-11T09:37:35.092Z"
   },
   {
    "duration": 113,
    "start_time": "2023-10-11T09:37:35.471Z"
   },
   {
    "duration": 291,
    "start_time": "2023-10-11T09:37:35.586Z"
   },
   {
    "duration": 4,
    "start_time": "2023-10-11T09:37:35.879Z"
   },
   {
    "duration": 106,
    "start_time": "2023-10-11T09:37:35.884Z"
   },
   {
    "duration": 149,
    "start_time": "2023-10-11T09:37:35.992Z"
   },
   {
    "duration": 33642,
    "start_time": "2023-10-11T09:37:36.143Z"
   },
   {
    "duration": 307,
    "start_time": "2023-10-11T09:38:09.786Z"
   },
   {
    "duration": 112,
    "start_time": "2023-10-11T09:38:10.095Z"
   },
   {
    "duration": 3,
    "start_time": "2023-10-11T09:38:10.209Z"
   },
   {
    "duration": 1054,
    "start_time": "2023-10-11T09:38:10.214Z"
   },
   {
    "duration": 286,
    "start_time": "2023-10-11T09:38:11.271Z"
   },
   {
    "duration": 17,
    "start_time": "2023-10-11T09:38:11.559Z"
   },
   {
    "duration": 37,
    "start_time": "2023-10-11T09:38:11.578Z"
   },
   {
    "duration": 3019,
    "start_time": "2023-10-11T09:38:11.617Z"
   },
   {
    "duration": 4,
    "start_time": "2023-10-11T09:38:14.638Z"
   },
   {
    "duration": 39,
    "start_time": "2023-10-11T09:38:14.643Z"
   },
   {
    "duration": 45,
    "start_time": "2023-10-11T09:38:14.683Z"
   },
   {
    "duration": 71,
    "start_time": "2023-10-11T09:38:14.730Z"
   },
   {
    "duration": 135,
    "start_time": "2023-10-11T09:38:14.804Z"
   },
   {
    "duration": 4,
    "start_time": "2023-10-11T09:38:14.941Z"
   },
   {
    "duration": 812,
    "start_time": "2023-10-11T09:38:14.957Z"
   },
   {
    "duration": 101,
    "start_time": "2023-10-11T09:38:15.771Z"
   },
   {
    "duration": 31,
    "start_time": "2023-10-11T09:38:15.874Z"
   },
   {
    "duration": 2545,
    "start_time": "2023-10-11T09:38:15.907Z"
   },
   {
    "duration": 2226,
    "start_time": "2023-10-11T09:38:18.454Z"
   },
   {
    "duration": 200,
    "start_time": "2023-10-11T09:38:20.682Z"
   },
   {
    "duration": 3,
    "start_time": "2023-10-11T09:38:20.884Z"
   },
   {
    "duration": 35,
    "start_time": "2023-10-11T09:38:20.888Z"
   },
   {
    "duration": 77,
    "start_time": "2023-10-11T09:38:20.925Z"
   },
   {
    "duration": 103745,
    "start_time": "2023-10-11T09:38:21.004Z"
   },
   {
    "duration": 10,
    "start_time": "2023-10-11T09:40:04.751Z"
   },
   {
    "duration": 226,
    "start_time": "2023-10-11T09:40:04.762Z"
   },
   {
    "duration": 10,
    "start_time": "2023-10-11T10:42:08.588Z"
   },
   {
    "duration": 11807,
    "start_time": "2023-10-11T10:42:09.920Z"
   },
   {
    "duration": 6,
    "start_time": "2023-10-11T10:42:55.937Z"
   },
   {
    "duration": 13443,
    "start_time": "2023-10-11T10:42:57.562Z"
   },
   {
    "duration": 13603,
    "start_time": "2023-10-11T10:43:24.000Z"
   },
   {
    "duration": 13900,
    "start_time": "2023-10-11T10:44:22.505Z"
   },
   {
    "duration": 5,
    "start_time": "2023-10-11T10:58:22.376Z"
   },
   {
    "duration": 13455,
    "start_time": "2023-10-11T10:58:22.806Z"
   },
   {
    "duration": 41,
    "start_time": "2023-10-11T10:58:46.535Z"
   },
   {
    "duration": 6,
    "start_time": "2023-10-11T10:59:15.807Z"
   },
   {
    "duration": 6,
    "start_time": "2023-10-11T12:18:35.106Z"
   },
   {
    "duration": 140,
    "start_time": "2023-10-11T12:18:35.738Z"
   },
   {
    "duration": 5,
    "start_time": "2023-10-11T12:18:55.827Z"
   },
   {
    "duration": 10427,
    "start_time": "2023-10-11T12:18:56.338Z"
   },
   {
    "duration": 8,
    "start_time": "2023-10-11T13:31:43.793Z"
   },
   {
    "duration": 11481,
    "start_time": "2023-10-11T13:31:44.039Z"
   },
   {
    "duration": 5,
    "start_time": "2023-10-11T13:32:14.215Z"
   },
   {
    "duration": 6,
    "start_time": "2023-10-11T13:32:20.336Z"
   },
   {
    "duration": 11217,
    "start_time": "2023-10-11T13:32:21.049Z"
   },
   {
    "duration": 7,
    "start_time": "2023-10-11T14:36:00.348Z"
   },
   {
    "duration": 15240,
    "start_time": "2023-10-11T14:36:03.937Z"
   },
   {
    "duration": 11126,
    "start_time": "2023-10-11T14:41:51.938Z"
   },
   {
    "duration": 2676,
    "start_time": "2023-10-11T14:42:51.882Z"
   },
   {
    "duration": 5,
    "start_time": "2023-10-11T14:42:56.148Z"
   },
   {
    "duration": 105542,
    "start_time": "2023-10-11T14:42:56.428Z"
   },
   {
    "duration": 15,
    "start_time": "2023-10-11T14:46:49.475Z"
   },
   {
    "duration": 14,
    "start_time": "2023-10-11T14:46:58.894Z"
   },
   {
    "duration": 41,
    "start_time": "2023-10-11T14:47:57.024Z"
   },
   {
    "duration": 7,
    "start_time": "2023-10-11T14:48:07.065Z"
   },
   {
    "duration": 61,
    "start_time": "2023-10-11T14:50:04.105Z"
   },
   {
    "duration": 207,
    "start_time": "2023-10-11T14:50:50.066Z"
   },
   {
    "duration": 124,
    "start_time": "2023-10-11T14:51:32.633Z"
   },
   {
    "duration": 4,
    "start_time": "2023-10-11T16:06:40.091Z"
   },
   {
    "duration": 13,
    "start_time": "2023-10-11T16:06:40.098Z"
   },
   {
    "duration": 25,
    "start_time": "2023-10-11T16:06:40.114Z"
   },
   {
    "duration": 3256,
    "start_time": "2023-10-11T16:06:40.141Z"
   },
   {
    "duration": 30,
    "start_time": "2023-10-11T16:06:43.400Z"
   },
   {
    "duration": 7,
    "start_time": "2023-10-11T16:06:43.432Z"
   },
   {
    "duration": 364,
    "start_time": "2023-10-11T16:06:43.441Z"
   },
   {
    "duration": 106,
    "start_time": "2023-10-11T16:06:43.807Z"
   },
   {
    "duration": 325,
    "start_time": "2023-10-11T16:06:43.915Z"
   },
   {
    "duration": 4,
    "start_time": "2023-10-11T16:06:44.242Z"
   },
   {
    "duration": 106,
    "start_time": "2023-10-11T16:06:44.257Z"
   },
   {
    "duration": 181,
    "start_time": "2023-10-11T16:06:44.366Z"
   },
   {
    "duration": 33931,
    "start_time": "2023-10-11T16:06:44.558Z"
   },
   {
    "duration": 314,
    "start_time": "2023-10-11T16:07:18.493Z"
   },
   {
    "duration": 131,
    "start_time": "2023-10-11T16:07:18.810Z"
   },
   {
    "duration": 13,
    "start_time": "2023-10-11T16:07:18.944Z"
   },
   {
    "duration": 1243,
    "start_time": "2023-10-11T16:07:18.959Z"
   },
   {
    "duration": 286,
    "start_time": "2023-10-11T16:07:20.204Z"
   },
   {
    "duration": 16,
    "start_time": "2023-10-11T16:07:20.492Z"
   },
   {
    "duration": 37,
    "start_time": "2023-10-11T16:07:20.510Z"
   },
   {
    "duration": 2894,
    "start_time": "2023-10-11T16:07:20.548Z"
   },
   {
    "duration": 3,
    "start_time": "2023-10-11T16:07:23.443Z"
   },
   {
    "duration": 34,
    "start_time": "2023-10-11T16:07:23.448Z"
   },
   {
    "duration": 6,
    "start_time": "2023-10-11T16:07:23.484Z"
   },
   {
    "duration": 9,
    "start_time": "2023-10-11T16:07:23.492Z"
   },
   {
    "duration": 96,
    "start_time": "2023-10-11T16:07:23.502Z"
   },
   {
    "duration": 4,
    "start_time": "2023-10-11T16:07:23.600Z"
   },
   {
    "duration": 736,
    "start_time": "2023-10-11T16:07:23.606Z"
   },
   {
    "duration": 117,
    "start_time": "2023-10-11T16:07:24.344Z"
   },
   {
    "duration": 35,
    "start_time": "2023-10-11T16:07:24.462Z"
   },
   {
    "duration": 2534,
    "start_time": "2023-10-11T16:07:24.499Z"
   },
   {
    "duration": 6,
    "start_time": "2023-10-11T16:07:27.035Z"
   },
   {
    "duration": 287,
    "start_time": "2023-10-11T16:07:27.042Z"
   },
   {
    "duration": 4,
    "start_time": "2023-10-11T16:07:27.331Z"
   },
   {
    "duration": 35,
    "start_time": "2023-10-11T16:07:27.336Z"
   },
   {
    "duration": 69,
    "start_time": "2023-10-11T16:07:27.373Z"
   },
   {
    "duration": 4,
    "start_time": "2023-10-11T16:07:52.032Z"
   },
   {
    "duration": 22,
    "start_time": "2023-10-11T16:07:52.037Z"
   },
   {
    "duration": 1354,
    "start_time": "2023-10-11T16:07:52.060Z"
   },
   {
    "duration": 3257,
    "start_time": "2023-10-11T16:07:53.416Z"
   },
   {
    "duration": 29,
    "start_time": "2023-10-11T16:07:56.675Z"
   },
   {
    "duration": 5,
    "start_time": "2023-10-11T16:07:56.707Z"
   },
   {
    "duration": 407,
    "start_time": "2023-10-11T16:07:56.713Z"
   },
   {
    "duration": 124,
    "start_time": "2023-10-11T16:07:57.122Z"
   },
   {
    "duration": 304,
    "start_time": "2023-10-11T16:07:57.248Z"
   },
   {
    "duration": 4,
    "start_time": "2023-10-11T16:07:57.557Z"
   },
   {
    "duration": 107,
    "start_time": "2023-10-11T16:07:57.562Z"
   },
   {
    "duration": 146,
    "start_time": "2023-10-11T16:07:57.671Z"
   },
   {
    "duration": 33694,
    "start_time": "2023-10-11T16:07:57.819Z"
   },
   {
    "duration": 303,
    "start_time": "2023-10-11T16:08:31.517Z"
   },
   {
    "duration": 116,
    "start_time": "2023-10-11T16:08:31.822Z"
   },
   {
    "duration": 3,
    "start_time": "2023-10-11T16:08:31.940Z"
   },
   {
    "duration": 1113,
    "start_time": "2023-10-11T16:08:31.957Z"
   },
   {
    "duration": 322,
    "start_time": "2023-10-11T16:08:33.072Z"
   },
   {
    "duration": 17,
    "start_time": "2023-10-11T16:08:33.396Z"
   },
   {
    "duration": 77,
    "start_time": "2023-10-11T16:08:33.415Z"
   },
   {
    "duration": 3085,
    "start_time": "2023-10-11T16:08:33.494Z"
   },
   {
    "duration": 4,
    "start_time": "2023-10-11T16:08:36.581Z"
   },
   {
    "duration": 83,
    "start_time": "2023-10-11T16:08:36.586Z"
   },
   {
    "duration": 30,
    "start_time": "2023-10-11T16:08:36.671Z"
   },
   {
    "duration": 138,
    "start_time": "2023-10-11T16:08:36.703Z"
   },
   {
    "duration": 143,
    "start_time": "2023-10-11T16:08:36.843Z"
   },
   {
    "duration": 4,
    "start_time": "2023-10-11T16:08:36.988Z"
   },
   {
    "duration": 747,
    "start_time": "2023-10-11T16:08:36.994Z"
   },
   {
    "duration": 94,
    "start_time": "2023-10-11T16:08:37.743Z"
   },
   {
    "duration": 42,
    "start_time": "2023-10-11T16:08:37.839Z"
   },
   {
    "duration": 2628,
    "start_time": "2023-10-11T16:08:37.883Z"
   },
   {
    "duration": 1903,
    "start_time": "2023-10-11T16:08:40.515Z"
   },
   {
    "duration": 208,
    "start_time": "2023-10-11T16:08:42.420Z"
   },
   {
    "duration": 3,
    "start_time": "2023-10-11T16:08:42.630Z"
   },
   {
    "duration": 25,
    "start_time": "2023-10-11T16:08:42.635Z"
   },
   {
    "duration": 52,
    "start_time": "2023-10-11T16:08:42.662Z"
   },
   {
    "duration": 102295,
    "start_time": "2023-10-11T16:08:42.716Z"
   },
   {
    "duration": 2133,
    "start_time": "2023-10-14T20:49:41.433Z"
   },
   {
    "duration": 1476,
    "start_time": "2023-10-14T20:49:43.568Z"
   },
   {
    "duration": 821,
    "start_time": "2023-10-14T20:49:45.046Z"
   },
   {
    "duration": 32,
    "start_time": "2023-10-14T20:49:57.066Z"
   },
   {
    "duration": 4,
    "start_time": "2023-10-14T20:49:57.591Z"
   },
   {
    "duration": 349,
    "start_time": "2023-10-14T20:49:58.219Z"
   },
   {
    "duration": 104,
    "start_time": "2023-10-14T20:50:07.837Z"
   },
   {
    "duration": 295,
    "start_time": "2023-10-14T20:50:08.217Z"
   },
   {
    "duration": 4,
    "start_time": "2023-10-14T20:50:13.964Z"
   },
   {
    "duration": 83,
    "start_time": "2023-10-14T20:50:15.051Z"
   },
   {
    "duration": 162,
    "start_time": "2023-10-14T20:50:15.943Z"
   },
   {
    "duration": 29459,
    "start_time": "2023-10-14T20:50:16.767Z"
   },
   {
    "duration": 273,
    "start_time": "2023-10-14T20:50:46.228Z"
   },
   {
    "duration": 174,
    "start_time": "2023-10-14T20:50:46.503Z"
   },
   {
    "duration": 965,
    "start_time": "2023-10-14T20:50:46.679Z"
   },
   {
    "duration": 3204,
    "start_time": "2023-10-14T20:50:47.645Z"
   },
   {
    "duration": 14,
    "start_time": "2023-10-14T20:50:50.850Z"
   },
   {
    "duration": 175,
    "start_time": "2023-10-14T20:50:50.865Z"
   },
   {
    "duration": 112,
    "start_time": "2023-10-14T20:50:51.043Z"
   },
   {
    "duration": 2559,
    "start_time": "2023-10-14T20:50:51.157Z"
   },
   {
    "duration": 10,
    "start_time": "2023-10-14T20:50:53.718Z"
   },
   {
    "duration": 18,
    "start_time": "2023-10-14T20:50:53.730Z"
   },
   {
    "duration": 9,
    "start_time": "2023-10-14T20:50:53.750Z"
   },
   {
    "duration": 169,
    "start_time": "2023-10-14T20:50:53.761Z"
   },
   {
    "duration": 4,
    "start_time": "2023-10-14T20:51:10.632Z"
   },
   {
    "duration": 688,
    "start_time": "2023-10-14T20:51:11.134Z"
   },
   {
    "duration": 40,
    "start_time": "2023-10-14T20:51:12.554Z"
   },
   {
    "duration": 86,
    "start_time": "2023-10-14T20:52:24.785Z"
   },
   {
    "duration": 2259,
    "start_time": "2023-10-14T20:52:39.331Z"
   },
   {
    "duration": 1512,
    "start_time": "2023-10-14T20:52:41.592Z"
   },
   {
    "duration": 943,
    "start_time": "2023-10-14T20:52:43.105Z"
   },
   {
    "duration": 25,
    "start_time": "2023-10-14T20:52:44.050Z"
   },
   {
    "duration": 7,
    "start_time": "2023-10-14T20:52:44.077Z"
   },
   {
    "duration": 395,
    "start_time": "2023-10-14T20:52:44.086Z"
   },
   {
    "duration": 128,
    "start_time": "2023-10-14T20:52:44.483Z"
   },
   {
    "duration": 297,
    "start_time": "2023-10-14T20:52:44.613Z"
   },
   {
    "duration": 3,
    "start_time": "2023-10-14T20:52:44.912Z"
   },
   {
    "duration": 83,
    "start_time": "2023-10-14T20:52:44.917Z"
   },
   {
    "duration": 148,
    "start_time": "2023-10-14T20:52:45.004Z"
   },
   {
    "duration": 31932,
    "start_time": "2023-10-14T20:52:45.154Z"
   },
   {
    "duration": 345,
    "start_time": "2023-10-14T20:53:17.091Z"
   },
   {
    "duration": 177,
    "start_time": "2023-10-14T20:53:17.443Z"
   },
   {
    "duration": 1061,
    "start_time": "2023-10-14T20:53:17.622Z"
   },
   {
    "duration": 3288,
    "start_time": "2023-10-14T20:53:18.685Z"
   },
   {
    "duration": 16,
    "start_time": "2023-10-14T20:53:21.975Z"
   },
   {
    "duration": 166,
    "start_time": "2023-10-14T20:53:21.993Z"
   },
   {
    "duration": 112,
    "start_time": "2023-10-14T20:53:22.161Z"
   },
   {
    "duration": 2833,
    "start_time": "2023-10-14T20:53:22.275Z"
   },
   {
    "duration": 13,
    "start_time": "2023-10-14T20:53:25.110Z"
   },
   {
    "duration": 25,
    "start_time": "2023-10-14T20:53:25.125Z"
   },
   {
    "duration": 25,
    "start_time": "2023-10-14T20:53:25.152Z"
   },
   {
    "duration": 156,
    "start_time": "2023-10-14T20:53:25.180Z"
   },
   {
    "duration": 8,
    "start_time": "2023-10-14T20:53:25.337Z"
   },
   {
    "duration": 903,
    "start_time": "2023-10-14T20:53:25.346Z"
   },
   {
    "duration": 42,
    "start_time": "2023-10-14T20:53:26.252Z"
   },
   {
    "duration": 151,
    "start_time": "2023-10-14T20:53:26.296Z"
   },
   {
    "duration": 17,
    "start_time": "2023-10-14T20:54:19.911Z"
   },
   {
    "duration": 69,
    "start_time": "2023-10-14T20:55:38.586Z"
   },
   {
    "duration": 150,
    "start_time": "2023-10-14T20:56:40.290Z"
   }
  ],
  "colab": {
   "provenance": []
  },
  "kernelspec": {
   "display_name": "Python 3 (ipykernel)",
   "language": "python",
   "name": "python3"
  },
  "language_info": {
   "codemirror_mode": {
    "name": "ipython",
    "version": 3
   },
   "file_extension": ".py",
   "mimetype": "text/x-python",
   "name": "python",
   "nbconvert_exporter": "python",
   "pygments_lexer": "ipython3",
   "version": "3.9.5"
  },
  "toc": {
   "base_numbering": 1,
   "nav_menu": {},
   "number_sections": true,
   "sideBar": true,
   "skip_h1_title": true,
   "title_cell": "Table of Contents",
   "title_sidebar": "Contents",
   "toc_cell": false,
   "toc_position": {},
   "toc_section_display": true,
   "toc_window_display": false
  }
 },
 "nbformat": 4,
 "nbformat_minor": 4
}
