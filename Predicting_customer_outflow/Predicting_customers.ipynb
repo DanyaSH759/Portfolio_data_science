{
 "cells": [
  {
   "cell_type": "markdown",
   "metadata": {},
   "source": [
    "# Отток клиентов"
   ]
  },
  {
   "cell_type": "markdown",
   "metadata": {},
   "source": [
    "Из «Бета-Банка» стали уходить клиенты. Каждый месяц. Немного, но заметно. Банковские маркетологи посчитали: сохранять текущих клиентов дешевле, чем привлекать новых.\n",
    "\n",
    "Нужно спрогнозировать, уйдёт клиент из банка в ближайшее время или нет. Вам предоставлены исторические данные о поведении клиентов и расторжении договоров с банком. \n",
    "\n",
    "Источник данных: [https://www.kaggle.com/barelydedicated/bank-customer-churn-modeling](https://www.kaggle.com/barelydedicated/bank-customer-churn-modeling)"
   ]
  },
  {
   "cell_type": "markdown",
   "metadata": {},
   "source": [
    "## Подготовка данных"
   ]
  },
  {
   "cell_type": "code",
   "execution_count": 1,
   "metadata": {},
   "outputs": [
    {
     "name": "stdout",
     "output_type": "stream",
     "text": [
      "Requirement already satisfied: phik in d:\\anaconda\\lib\\site-packages (0.12.3)\n",
      "Requirement already satisfied: joblib>=0.14.1 in d:\\anaconda\\lib\\site-packages (from phik) (1.1.0)\n",
      "Requirement already satisfied: numpy>=1.18.0 in d:\\anaconda\\lib\\site-packages (from phik) (1.21.5)\n",
      "Requirement already satisfied: pandas>=0.25.1 in d:\\anaconda\\lib\\site-packages (from phik) (1.4.2)\n",
      "Requirement already satisfied: matplotlib>=2.2.3 in d:\\anaconda\\lib\\site-packages (from phik) (3.5.1)\n",
      "Requirement already satisfied: scipy>=1.5.2 in d:\\anaconda\\lib\\site-packages (from phik) (1.7.3)\n",
      "Requirement already satisfied: pyparsing>=2.2.1 in d:\\anaconda\\lib\\site-packages (from matplotlib>=2.2.3->phik) (3.0.4)\n",
      "Requirement already satisfied: python-dateutil>=2.7 in d:\\anaconda\\lib\\site-packages (from matplotlib>=2.2.3->phik) (2.8.2)\n",
      "Requirement already satisfied: pillow>=6.2.0 in d:\\anaconda\\lib\\site-packages (from matplotlib>=2.2.3->phik) (9.0.1)\n",
      "Requirement already satisfied: kiwisolver>=1.0.1 in d:\\anaconda\\lib\\site-packages (from matplotlib>=2.2.3->phik) (1.3.2)\n",
      "Requirement already satisfied: fonttools>=4.22.0 in d:\\anaconda\\lib\\site-packages (from matplotlib>=2.2.3->phik) (4.25.0)\n",
      "Requirement already satisfied: cycler>=0.10 in d:\\anaconda\\lib\\site-packages (from matplotlib>=2.2.3->phik) (0.11.0)\n",
      "Requirement already satisfied: packaging>=20.0 in d:\\anaconda\\lib\\site-packages (from matplotlib>=2.2.3->phik) (21.3)\n",
      "Requirement already satisfied: pytz>=2020.1 in d:\\anaconda\\lib\\site-packages (from pandas>=0.25.1->phik) (2021.3)\n",
      "Requirement already satisfied: six>=1.5 in d:\\anaconda\\lib\\site-packages (from python-dateutil>=2.7->matplotlib>=2.2.3->phik) (1.16.0)\n"
     ]
    }
   ],
   "source": [
    "# в веб версии отсутвует по умолчанию библиотека phik\n",
    "# скачаем её\n",
    "!pip install phik"
   ]
  },
  {
   "cell_type": "code",
   "execution_count": 2,
   "metadata": {},
   "outputs": [],
   "source": [
    "# загружаю библиотеки\n",
    "import pandas as pd\n",
    "import matplotlib.pyplot as plt\n",
    "import numpy as np\n",
    "\n",
    "import phik\n",
    "from phik.report import plot_correlation_matrix\n",
    "\n",
    "from sklearn.dummy import DummyClassifier\n",
    "from sklearn.tree import DecisionTreeClassifier\n",
    "from sklearn.ensemble import RandomForestClassifier\n",
    "from sklearn.linear_model import LogisticRegression\n",
    "\n",
    "from sklearn.model_selection import train_test_split\n",
    "from sklearn.preprocessing import StandardScaler\n",
    "\n",
    "from sklearn.metrics import accuracy_score, f1_score, \\\n",
    "    precision_score, recall_score, confusion_matrix, \\\n",
    "    mean_squared_error, roc_auc_score, roc_curve\n",
    "\n",
    "from sklearn.utils import shuffle\n",
    "from sklearn.preprocessing import StandardScaler"
   ]
  },
  {
   "cell_type": "code",
   "execution_count": 3,
   "metadata": {},
   "outputs": [],
   "source": [
    "#Импортирую датасет\n",
    "try:\n",
    "    data = pd.read_csv('/datasets/Churn.csv')\n",
    "except:\n",
    "    data = pd.read_csv('Churn.csv')"
   ]
  },
  {
   "cell_type": "code",
   "execution_count": 4,
   "metadata": {},
   "outputs": [
    {
     "data": {
      "text/html": [
       "<div>\n",
       "<style scoped>\n",
       "    .dataframe tbody tr th:only-of-type {\n",
       "        vertical-align: middle;\n",
       "    }\n",
       "\n",
       "    .dataframe tbody tr th {\n",
       "        vertical-align: top;\n",
       "    }\n",
       "\n",
       "    .dataframe thead th {\n",
       "        text-align: right;\n",
       "    }\n",
       "</style>\n",
       "<table border=\"1\" class=\"dataframe\">\n",
       "  <thead>\n",
       "    <tr style=\"text-align: right;\">\n",
       "      <th></th>\n",
       "      <th>RowNumber</th>\n",
       "      <th>CustomerId</th>\n",
       "      <th>Surname</th>\n",
       "      <th>CreditScore</th>\n",
       "      <th>Geography</th>\n",
       "      <th>Gender</th>\n",
       "      <th>Age</th>\n",
       "      <th>Tenure</th>\n",
       "      <th>Balance</th>\n",
       "      <th>NumOfProducts</th>\n",
       "      <th>HasCrCard</th>\n",
       "      <th>IsActiveMember</th>\n",
       "      <th>EstimatedSalary</th>\n",
       "      <th>Exited</th>\n",
       "    </tr>\n",
       "  </thead>\n",
       "  <tbody>\n",
       "    <tr>\n",
       "      <th>0</th>\n",
       "      <td>1</td>\n",
       "      <td>15634602</td>\n",
       "      <td>Hargrave</td>\n",
       "      <td>619</td>\n",
       "      <td>France</td>\n",
       "      <td>Female</td>\n",
       "      <td>42</td>\n",
       "      <td>2.0</td>\n",
       "      <td>0.00</td>\n",
       "      <td>1</td>\n",
       "      <td>1</td>\n",
       "      <td>1</td>\n",
       "      <td>101348.88</td>\n",
       "      <td>1</td>\n",
       "    </tr>\n",
       "    <tr>\n",
       "      <th>1</th>\n",
       "      <td>2</td>\n",
       "      <td>15647311</td>\n",
       "      <td>Hill</td>\n",
       "      <td>608</td>\n",
       "      <td>Spain</td>\n",
       "      <td>Female</td>\n",
       "      <td>41</td>\n",
       "      <td>1.0</td>\n",
       "      <td>83807.86</td>\n",
       "      <td>1</td>\n",
       "      <td>0</td>\n",
       "      <td>1</td>\n",
       "      <td>112542.58</td>\n",
       "      <td>0</td>\n",
       "    </tr>\n",
       "    <tr>\n",
       "      <th>2</th>\n",
       "      <td>3</td>\n",
       "      <td>15619304</td>\n",
       "      <td>Onio</td>\n",
       "      <td>502</td>\n",
       "      <td>France</td>\n",
       "      <td>Female</td>\n",
       "      <td>42</td>\n",
       "      <td>8.0</td>\n",
       "      <td>159660.80</td>\n",
       "      <td>3</td>\n",
       "      <td>1</td>\n",
       "      <td>0</td>\n",
       "      <td>113931.57</td>\n",
       "      <td>1</td>\n",
       "    </tr>\n",
       "    <tr>\n",
       "      <th>3</th>\n",
       "      <td>4</td>\n",
       "      <td>15701354</td>\n",
       "      <td>Boni</td>\n",
       "      <td>699</td>\n",
       "      <td>France</td>\n",
       "      <td>Female</td>\n",
       "      <td>39</td>\n",
       "      <td>1.0</td>\n",
       "      <td>0.00</td>\n",
       "      <td>2</td>\n",
       "      <td>0</td>\n",
       "      <td>0</td>\n",
       "      <td>93826.63</td>\n",
       "      <td>0</td>\n",
       "    </tr>\n",
       "    <tr>\n",
       "      <th>4</th>\n",
       "      <td>5</td>\n",
       "      <td>15737888</td>\n",
       "      <td>Mitchell</td>\n",
       "      <td>850</td>\n",
       "      <td>Spain</td>\n",
       "      <td>Female</td>\n",
       "      <td>43</td>\n",
       "      <td>2.0</td>\n",
       "      <td>125510.82</td>\n",
       "      <td>1</td>\n",
       "      <td>1</td>\n",
       "      <td>1</td>\n",
       "      <td>79084.10</td>\n",
       "      <td>0</td>\n",
       "    </tr>\n",
       "  </tbody>\n",
       "</table>\n",
       "</div>"
      ],
      "text/plain": [
       "   RowNumber  CustomerId   Surname  CreditScore Geography  Gender  Age  \\\n",
       "0          1    15634602  Hargrave          619    France  Female   42   \n",
       "1          2    15647311      Hill          608     Spain  Female   41   \n",
       "2          3    15619304      Onio          502    France  Female   42   \n",
       "3          4    15701354      Boni          699    France  Female   39   \n",
       "4          5    15737888  Mitchell          850     Spain  Female   43   \n",
       "\n",
       "   Tenure    Balance  NumOfProducts  HasCrCard  IsActiveMember  \\\n",
       "0     2.0       0.00              1          1               1   \n",
       "1     1.0   83807.86              1          0               1   \n",
       "2     8.0  159660.80              3          1               0   \n",
       "3     1.0       0.00              2          0               0   \n",
       "4     2.0  125510.82              1          1               1   \n",
       "\n",
       "   EstimatedSalary  Exited  \n",
       "0        101348.88       1  \n",
       "1        112542.58       0  \n",
       "2        113931.57       1  \n",
       "3         93826.63       0  \n",
       "4         79084.10       0  "
      ]
     },
     "metadata": {},
     "output_type": "display_data"
    }
   ],
   "source": [
    "# проверяю корректность открытия датасета\n",
    "display(data.head())"
   ]
  },
  {
   "cell_type": "code",
   "execution_count": 5,
   "metadata": {},
   "outputs": [
    {
     "name": "stdout",
     "output_type": "stream",
     "text": [
      "<class 'pandas.core.frame.DataFrame'>\n",
      "RangeIndex: 10000 entries, 0 to 9999\n",
      "Data columns (total 14 columns):\n",
      " #   Column           Non-Null Count  Dtype  \n",
      "---  ------           --------------  -----  \n",
      " 0   RowNumber        10000 non-null  int64  \n",
      " 1   CustomerId       10000 non-null  int64  \n",
      " 2   Surname          10000 non-null  object \n",
      " 3   CreditScore      10000 non-null  int64  \n",
      " 4   Geography        10000 non-null  object \n",
      " 5   Gender           10000 non-null  object \n",
      " 6   Age              10000 non-null  int64  \n",
      " 7   Tenure           9091 non-null   float64\n",
      " 8   Balance          10000 non-null  float64\n",
      " 9   NumOfProducts    10000 non-null  int64  \n",
      " 10  HasCrCard        10000 non-null  int64  \n",
      " 11  IsActiveMember   10000 non-null  int64  \n",
      " 12  EstimatedSalary  10000 non-null  float64\n",
      " 13  Exited           10000 non-null  int64  \n",
      "dtypes: float64(3), int64(8), object(3)\n",
      "memory usage: 1.1+ MB\n"
     ]
    },
    {
     "data": {
      "text/plain": [
       "None"
      ]
     },
     "metadata": {},
     "output_type": "display_data"
    }
   ],
   "source": [
    "display(data.info())"
   ]
  },
  {
   "cell_type": "code",
   "execution_count": 6,
   "metadata": {},
   "outputs": [
    {
     "data": {
      "text/html": [
       "<div>\n",
       "<style scoped>\n",
       "    .dataframe tbody tr th:only-of-type {\n",
       "        vertical-align: middle;\n",
       "    }\n",
       "\n",
       "    .dataframe tbody tr th {\n",
       "        vertical-align: top;\n",
       "    }\n",
       "\n",
       "    .dataframe thead th {\n",
       "        text-align: right;\n",
       "    }\n",
       "</style>\n",
       "<table border=\"1\" class=\"dataframe\">\n",
       "  <thead>\n",
       "    <tr style=\"text-align: right;\">\n",
       "      <th></th>\n",
       "      <th>RowNumber</th>\n",
       "      <th>CustomerId</th>\n",
       "      <th>CreditScore</th>\n",
       "      <th>Age</th>\n",
       "      <th>Tenure</th>\n",
       "      <th>Balance</th>\n",
       "      <th>NumOfProducts</th>\n",
       "      <th>HasCrCard</th>\n",
       "      <th>IsActiveMember</th>\n",
       "      <th>EstimatedSalary</th>\n",
       "      <th>Exited</th>\n",
       "    </tr>\n",
       "  </thead>\n",
       "  <tbody>\n",
       "    <tr>\n",
       "      <th>count</th>\n",
       "      <td>10000.00000</td>\n",
       "      <td>1.000000e+04</td>\n",
       "      <td>10000.000000</td>\n",
       "      <td>10000.000000</td>\n",
       "      <td>9091.000000</td>\n",
       "      <td>10000.000000</td>\n",
       "      <td>10000.000000</td>\n",
       "      <td>10000.00000</td>\n",
       "      <td>10000.000000</td>\n",
       "      <td>10000.000000</td>\n",
       "      <td>10000.000000</td>\n",
       "    </tr>\n",
       "    <tr>\n",
       "      <th>mean</th>\n",
       "      <td>5000.50000</td>\n",
       "      <td>1.569094e+07</td>\n",
       "      <td>650.528800</td>\n",
       "      <td>38.921800</td>\n",
       "      <td>4.997690</td>\n",
       "      <td>76485.889288</td>\n",
       "      <td>1.530200</td>\n",
       "      <td>0.70550</td>\n",
       "      <td>0.515100</td>\n",
       "      <td>100090.239881</td>\n",
       "      <td>0.203700</td>\n",
       "    </tr>\n",
       "    <tr>\n",
       "      <th>std</th>\n",
       "      <td>2886.89568</td>\n",
       "      <td>7.193619e+04</td>\n",
       "      <td>96.653299</td>\n",
       "      <td>10.487806</td>\n",
       "      <td>2.894723</td>\n",
       "      <td>62397.405202</td>\n",
       "      <td>0.581654</td>\n",
       "      <td>0.45584</td>\n",
       "      <td>0.499797</td>\n",
       "      <td>57510.492818</td>\n",
       "      <td>0.402769</td>\n",
       "    </tr>\n",
       "    <tr>\n",
       "      <th>min</th>\n",
       "      <td>1.00000</td>\n",
       "      <td>1.556570e+07</td>\n",
       "      <td>350.000000</td>\n",
       "      <td>18.000000</td>\n",
       "      <td>0.000000</td>\n",
       "      <td>0.000000</td>\n",
       "      <td>1.000000</td>\n",
       "      <td>0.00000</td>\n",
       "      <td>0.000000</td>\n",
       "      <td>11.580000</td>\n",
       "      <td>0.000000</td>\n",
       "    </tr>\n",
       "    <tr>\n",
       "      <th>25%</th>\n",
       "      <td>2500.75000</td>\n",
       "      <td>1.562853e+07</td>\n",
       "      <td>584.000000</td>\n",
       "      <td>32.000000</td>\n",
       "      <td>2.000000</td>\n",
       "      <td>0.000000</td>\n",
       "      <td>1.000000</td>\n",
       "      <td>0.00000</td>\n",
       "      <td>0.000000</td>\n",
       "      <td>51002.110000</td>\n",
       "      <td>0.000000</td>\n",
       "    </tr>\n",
       "    <tr>\n",
       "      <th>50%</th>\n",
       "      <td>5000.50000</td>\n",
       "      <td>1.569074e+07</td>\n",
       "      <td>652.000000</td>\n",
       "      <td>37.000000</td>\n",
       "      <td>5.000000</td>\n",
       "      <td>97198.540000</td>\n",
       "      <td>1.000000</td>\n",
       "      <td>1.00000</td>\n",
       "      <td>1.000000</td>\n",
       "      <td>100193.915000</td>\n",
       "      <td>0.000000</td>\n",
       "    </tr>\n",
       "    <tr>\n",
       "      <th>75%</th>\n",
       "      <td>7500.25000</td>\n",
       "      <td>1.575323e+07</td>\n",
       "      <td>718.000000</td>\n",
       "      <td>44.000000</td>\n",
       "      <td>7.000000</td>\n",
       "      <td>127644.240000</td>\n",
       "      <td>2.000000</td>\n",
       "      <td>1.00000</td>\n",
       "      <td>1.000000</td>\n",
       "      <td>149388.247500</td>\n",
       "      <td>0.000000</td>\n",
       "    </tr>\n",
       "    <tr>\n",
       "      <th>max</th>\n",
       "      <td>10000.00000</td>\n",
       "      <td>1.581569e+07</td>\n",
       "      <td>850.000000</td>\n",
       "      <td>92.000000</td>\n",
       "      <td>10.000000</td>\n",
       "      <td>250898.090000</td>\n",
       "      <td>4.000000</td>\n",
       "      <td>1.00000</td>\n",
       "      <td>1.000000</td>\n",
       "      <td>199992.480000</td>\n",
       "      <td>1.000000</td>\n",
       "    </tr>\n",
       "  </tbody>\n",
       "</table>\n",
       "</div>"
      ],
      "text/plain": [
       "         RowNumber    CustomerId   CreditScore           Age       Tenure  \\\n",
       "count  10000.00000  1.000000e+04  10000.000000  10000.000000  9091.000000   \n",
       "mean    5000.50000  1.569094e+07    650.528800     38.921800     4.997690   \n",
       "std     2886.89568  7.193619e+04     96.653299     10.487806     2.894723   \n",
       "min        1.00000  1.556570e+07    350.000000     18.000000     0.000000   \n",
       "25%     2500.75000  1.562853e+07    584.000000     32.000000     2.000000   \n",
       "50%     5000.50000  1.569074e+07    652.000000     37.000000     5.000000   \n",
       "75%     7500.25000  1.575323e+07    718.000000     44.000000     7.000000   \n",
       "max    10000.00000  1.581569e+07    850.000000     92.000000    10.000000   \n",
       "\n",
       "             Balance  NumOfProducts    HasCrCard  IsActiveMember  \\\n",
       "count   10000.000000   10000.000000  10000.00000    10000.000000   \n",
       "mean    76485.889288       1.530200      0.70550        0.515100   \n",
       "std     62397.405202       0.581654      0.45584        0.499797   \n",
       "min         0.000000       1.000000      0.00000        0.000000   \n",
       "25%         0.000000       1.000000      0.00000        0.000000   \n",
       "50%     97198.540000       1.000000      1.00000        1.000000   \n",
       "75%    127644.240000       2.000000      1.00000        1.000000   \n",
       "max    250898.090000       4.000000      1.00000        1.000000   \n",
       "\n",
       "       EstimatedSalary        Exited  \n",
       "count     10000.000000  10000.000000  \n",
       "mean     100090.239881      0.203700  \n",
       "std       57510.492818      0.402769  \n",
       "min          11.580000      0.000000  \n",
       "25%       51002.110000      0.000000  \n",
       "50%      100193.915000      0.000000  \n",
       "75%      149388.247500      0.000000  \n",
       "max      199992.480000      1.000000  "
      ]
     },
     "execution_count": 6,
     "metadata": {},
     "output_type": "execute_result"
    }
   ],
   "source": [
    "# изучаю базовую статистику каждого столбца\n",
    "data.describe()"
   ]
  },
  {
   "cell_type": "code",
   "execution_count": 7,
   "metadata": {},
   "outputs": [
    {
     "data": {
      "text/html": [
       "<div>\n",
       "<style scoped>\n",
       "    .dataframe tbody tr th:only-of-type {\n",
       "        vertical-align: middle;\n",
       "    }\n",
       "\n",
       "    .dataframe tbody tr th {\n",
       "        vertical-align: top;\n",
       "    }\n",
       "\n",
       "    .dataframe thead th {\n",
       "        text-align: right;\n",
       "    }\n",
       "</style>\n",
       "<table border=\"1\" class=\"dataframe\">\n",
       "  <thead>\n",
       "    <tr style=\"text-align: right;\">\n",
       "      <th></th>\n",
       "      <th>RowNumber</th>\n",
       "      <th>CustomerId</th>\n",
       "      <th>CreditScore</th>\n",
       "      <th>Age</th>\n",
       "      <th>Tenure</th>\n",
       "      <th>Balance</th>\n",
       "      <th>NumOfProducts</th>\n",
       "      <th>HasCrCard</th>\n",
       "      <th>IsActiveMember</th>\n",
       "      <th>EstimatedSalary</th>\n",
       "      <th>Exited</th>\n",
       "    </tr>\n",
       "  </thead>\n",
       "  <tbody>\n",
       "    <tr>\n",
       "      <th>RowNumber</th>\n",
       "      <td>1.000000</td>\n",
       "      <td>0.004202</td>\n",
       "      <td>0.005840</td>\n",
       "      <td>0.000783</td>\n",
       "      <td>-0.007322</td>\n",
       "      <td>-0.009067</td>\n",
       "      <td>0.007246</td>\n",
       "      <td>0.000599</td>\n",
       "      <td>0.012044</td>\n",
       "      <td>-0.005988</td>\n",
       "      <td>-0.016571</td>\n",
       "    </tr>\n",
       "    <tr>\n",
       "      <th>CustomerId</th>\n",
       "      <td>0.004202</td>\n",
       "      <td>1.000000</td>\n",
       "      <td>0.005308</td>\n",
       "      <td>0.009497</td>\n",
       "      <td>-0.021418</td>\n",
       "      <td>-0.012419</td>\n",
       "      <td>0.016972</td>\n",
       "      <td>-0.014025</td>\n",
       "      <td>0.001665</td>\n",
       "      <td>0.015271</td>\n",
       "      <td>-0.006248</td>\n",
       "    </tr>\n",
       "    <tr>\n",
       "      <th>CreditScore</th>\n",
       "      <td>0.005840</td>\n",
       "      <td>0.005308</td>\n",
       "      <td>1.000000</td>\n",
       "      <td>-0.003965</td>\n",
       "      <td>-0.000062</td>\n",
       "      <td>0.006268</td>\n",
       "      <td>0.012238</td>\n",
       "      <td>-0.005458</td>\n",
       "      <td>0.025651</td>\n",
       "      <td>-0.001384</td>\n",
       "      <td>-0.027094</td>\n",
       "    </tr>\n",
       "    <tr>\n",
       "      <th>Age</th>\n",
       "      <td>0.000783</td>\n",
       "      <td>0.009497</td>\n",
       "      <td>-0.003965</td>\n",
       "      <td>1.000000</td>\n",
       "      <td>-0.013134</td>\n",
       "      <td>0.028308</td>\n",
       "      <td>-0.030680</td>\n",
       "      <td>-0.011721</td>\n",
       "      <td>0.085472</td>\n",
       "      <td>-0.007201</td>\n",
       "      <td>0.285323</td>\n",
       "    </tr>\n",
       "    <tr>\n",
       "      <th>Tenure</th>\n",
       "      <td>-0.007322</td>\n",
       "      <td>-0.021418</td>\n",
       "      <td>-0.000062</td>\n",
       "      <td>-0.013134</td>\n",
       "      <td>1.000000</td>\n",
       "      <td>-0.007911</td>\n",
       "      <td>0.011979</td>\n",
       "      <td>0.027232</td>\n",
       "      <td>-0.032178</td>\n",
       "      <td>0.010520</td>\n",
       "      <td>-0.016761</td>\n",
       "    </tr>\n",
       "    <tr>\n",
       "      <th>Balance</th>\n",
       "      <td>-0.009067</td>\n",
       "      <td>-0.012419</td>\n",
       "      <td>0.006268</td>\n",
       "      <td>0.028308</td>\n",
       "      <td>-0.007911</td>\n",
       "      <td>1.000000</td>\n",
       "      <td>-0.304180</td>\n",
       "      <td>-0.014858</td>\n",
       "      <td>-0.010084</td>\n",
       "      <td>0.012797</td>\n",
       "      <td>0.118533</td>\n",
       "    </tr>\n",
       "    <tr>\n",
       "      <th>NumOfProducts</th>\n",
       "      <td>0.007246</td>\n",
       "      <td>0.016972</td>\n",
       "      <td>0.012238</td>\n",
       "      <td>-0.030680</td>\n",
       "      <td>0.011979</td>\n",
       "      <td>-0.304180</td>\n",
       "      <td>1.000000</td>\n",
       "      <td>0.003183</td>\n",
       "      <td>0.009612</td>\n",
       "      <td>0.014204</td>\n",
       "      <td>-0.047820</td>\n",
       "    </tr>\n",
       "    <tr>\n",
       "      <th>HasCrCard</th>\n",
       "      <td>0.000599</td>\n",
       "      <td>-0.014025</td>\n",
       "      <td>-0.005458</td>\n",
       "      <td>-0.011721</td>\n",
       "      <td>0.027232</td>\n",
       "      <td>-0.014858</td>\n",
       "      <td>0.003183</td>\n",
       "      <td>1.000000</td>\n",
       "      <td>-0.011866</td>\n",
       "      <td>-0.009933</td>\n",
       "      <td>-0.007138</td>\n",
       "    </tr>\n",
       "    <tr>\n",
       "      <th>IsActiveMember</th>\n",
       "      <td>0.012044</td>\n",
       "      <td>0.001665</td>\n",
       "      <td>0.025651</td>\n",
       "      <td>0.085472</td>\n",
       "      <td>-0.032178</td>\n",
       "      <td>-0.010084</td>\n",
       "      <td>0.009612</td>\n",
       "      <td>-0.011866</td>\n",
       "      <td>1.000000</td>\n",
       "      <td>-0.011421</td>\n",
       "      <td>-0.156128</td>\n",
       "    </tr>\n",
       "    <tr>\n",
       "      <th>EstimatedSalary</th>\n",
       "      <td>-0.005988</td>\n",
       "      <td>0.015271</td>\n",
       "      <td>-0.001384</td>\n",
       "      <td>-0.007201</td>\n",
       "      <td>0.010520</td>\n",
       "      <td>0.012797</td>\n",
       "      <td>0.014204</td>\n",
       "      <td>-0.009933</td>\n",
       "      <td>-0.011421</td>\n",
       "      <td>1.000000</td>\n",
       "      <td>0.012097</td>\n",
       "    </tr>\n",
       "    <tr>\n",
       "      <th>Exited</th>\n",
       "      <td>-0.016571</td>\n",
       "      <td>-0.006248</td>\n",
       "      <td>-0.027094</td>\n",
       "      <td>0.285323</td>\n",
       "      <td>-0.016761</td>\n",
       "      <td>0.118533</td>\n",
       "      <td>-0.047820</td>\n",
       "      <td>-0.007138</td>\n",
       "      <td>-0.156128</td>\n",
       "      <td>0.012097</td>\n",
       "      <td>1.000000</td>\n",
       "    </tr>\n",
       "  </tbody>\n",
       "</table>\n",
       "</div>"
      ],
      "text/plain": [
       "                 RowNumber  CustomerId  CreditScore       Age    Tenure  \\\n",
       "RowNumber         1.000000    0.004202     0.005840  0.000783 -0.007322   \n",
       "CustomerId        0.004202    1.000000     0.005308  0.009497 -0.021418   \n",
       "CreditScore       0.005840    0.005308     1.000000 -0.003965 -0.000062   \n",
       "Age               0.000783    0.009497    -0.003965  1.000000 -0.013134   \n",
       "Tenure           -0.007322   -0.021418    -0.000062 -0.013134  1.000000   \n",
       "Balance          -0.009067   -0.012419     0.006268  0.028308 -0.007911   \n",
       "NumOfProducts     0.007246    0.016972     0.012238 -0.030680  0.011979   \n",
       "HasCrCard         0.000599   -0.014025    -0.005458 -0.011721  0.027232   \n",
       "IsActiveMember    0.012044    0.001665     0.025651  0.085472 -0.032178   \n",
       "EstimatedSalary  -0.005988    0.015271    -0.001384 -0.007201  0.010520   \n",
       "Exited           -0.016571   -0.006248    -0.027094  0.285323 -0.016761   \n",
       "\n",
       "                  Balance  NumOfProducts  HasCrCard  IsActiveMember  \\\n",
       "RowNumber       -0.009067       0.007246   0.000599        0.012044   \n",
       "CustomerId      -0.012419       0.016972  -0.014025        0.001665   \n",
       "CreditScore      0.006268       0.012238  -0.005458        0.025651   \n",
       "Age              0.028308      -0.030680  -0.011721        0.085472   \n",
       "Tenure          -0.007911       0.011979   0.027232       -0.032178   \n",
       "Balance          1.000000      -0.304180  -0.014858       -0.010084   \n",
       "NumOfProducts   -0.304180       1.000000   0.003183        0.009612   \n",
       "HasCrCard       -0.014858       0.003183   1.000000       -0.011866   \n",
       "IsActiveMember  -0.010084       0.009612  -0.011866        1.000000   \n",
       "EstimatedSalary  0.012797       0.014204  -0.009933       -0.011421   \n",
       "Exited           0.118533      -0.047820  -0.007138       -0.156128   \n",
       "\n",
       "                 EstimatedSalary    Exited  \n",
       "RowNumber              -0.005988 -0.016571  \n",
       "CustomerId              0.015271 -0.006248  \n",
       "CreditScore            -0.001384 -0.027094  \n",
       "Age                    -0.007201  0.285323  \n",
       "Tenure                  0.010520 -0.016761  \n",
       "Balance                 0.012797  0.118533  \n",
       "NumOfProducts           0.014204 -0.047820  \n",
       "HasCrCard              -0.009933 -0.007138  \n",
       "IsActiveMember         -0.011421 -0.156128  \n",
       "EstimatedSalary         1.000000  0.012097  \n",
       "Exited                  0.012097  1.000000  "
      ]
     },
     "execution_count": 7,
     "metadata": {},
     "output_type": "execute_result"
    }
   ],
   "source": [
    "# поиск коррелирующих друг с другом столбцов\n",
    "data.corr()"
   ]
  },
  {
   "cell_type": "markdown",
   "metadata": {},
   "source": [
    "Т.к. в датасете присутствует большое количество категориальных переменных применим метрику Phik (φk) корреляции. \n",
    "Данный метод последовательно работает между категориальными, порядковыми и интервальными переменными, фиксирует нелинейную зависимость и возвращается к коэффициенту корреляции Пирсона в случае двумерного нормального распределения входных данных. "
   ]
  },
  {
   "cell_type": "code",
   "execution_count": 8,
   "metadata": {},
   "outputs": [
    {
     "name": "stdout",
     "output_type": "stream",
     "text": [
      "interval columns not set, guessing: ['RowNumber', 'CustomerId', 'CreditScore', 'Age', 'Tenure', 'Balance', 'NumOfProducts', 'HasCrCard', 'IsActiveMember', 'EstimatedSalary', 'Exited']\n"
     ]
    },
    {
     "name": "stderr",
     "output_type": "stream",
     "text": [
      "D:\\Anaconda\\lib\\site-packages\\phik\\data_quality.py:59: UserWarning: The number of unique values of variable Surname is large: 2932. Are you sure this is not an interval variable? Analysis for pairs of variables including Surname can be slow.\n",
      "  warnings.warn(\n"
     ]
    },
    {
     "data": {
      "image/png": "[encoded data removed]",
      "text/plain": [
       "<Figure size 1080x576 with 2 Axes>"
      ]
     },
     "metadata": {
      "needs_background": "light"
     },
     "output_type": "display_data"
    }
   ],
   "source": [
    "# построение матрици корреляции\n",
    "phik_overview = data.phik_matrix()\n",
    "\n",
    "\n",
    "plot_correlation_matrix(phik_overview.values.round(2), \n",
    "                        x_labels=phik_overview.columns, \n",
    "                        y_labels=phik_overview.index, \n",
    "                        vmin=0, vmax=1, color_map=\"Greens\", \n",
    "                        title=r\"correlation $\\phi_K$\", \n",
    "                        fontsize_factor=1.5, \n",
    "                        figsize=(15, 8))\n",
    "plt.tight_layout()\n"
   ]
  },
  {
   "cell_type": "code",
   "execution_count": 9,
   "metadata": {},
   "outputs": [
    {
     "data": {
      "text/html": [
       "<style type=\"text/css\">\n",
       "#T_997cc_row0_col0, #T_997cc_row1_col0, #T_997cc_row2_col0, #T_997cc_row3_col0, #T_997cc_row4_col0, #T_997cc_row5_col0, #T_997cc_row6_col0, #T_997cc_row8_col0, #T_997cc_row9_col0, #T_997cc_row10_col0, #T_997cc_row11_col0, #T_997cc_row12_col0, #T_997cc_row13_col0 {\n",
       "  background-color: #3b4cc0;\n",
       "  color: #f1f1f1;\n",
       "}\n",
       "#T_997cc_row7_col0 {\n",
       "  background-color: #b40426;\n",
       "  color: #f1f1f1;\n",
       "}\n",
       "</style>\n",
       "<table id=\"T_997cc\">\n",
       "  <thead>\n",
       "    <tr>\n",
       "      <th class=\"blank level0\" >&nbsp;</th>\n",
       "      <th id=\"T_997cc_level0_col0\" class=\"col_heading level0 col0\" >0</th>\n",
       "    </tr>\n",
       "  </thead>\n",
       "  <tbody>\n",
       "    <tr>\n",
       "      <th id=\"T_997cc_level0_row0\" class=\"row_heading level0 row0\" >RowNumber</th>\n",
       "      <td id=\"T_997cc_row0_col0\" class=\"data row0 col0\" >0.000000</td>\n",
       "    </tr>\n",
       "    <tr>\n",
       "      <th id=\"T_997cc_level0_row1\" class=\"row_heading level0 row1\" >CustomerId</th>\n",
       "      <td id=\"T_997cc_row1_col0\" class=\"data row1 col0\" >0.000000</td>\n",
       "    </tr>\n",
       "    <tr>\n",
       "      <th id=\"T_997cc_level0_row2\" class=\"row_heading level0 row2\" >Surname</th>\n",
       "      <td id=\"T_997cc_row2_col0\" class=\"data row2 col0\" >0.000000</td>\n",
       "    </tr>\n",
       "    <tr>\n",
       "      <th id=\"T_997cc_level0_row3\" class=\"row_heading level0 row3\" >CreditScore</th>\n",
       "      <td id=\"T_997cc_row3_col0\" class=\"data row3 col0\" >0.000000</td>\n",
       "    </tr>\n",
       "    <tr>\n",
       "      <th id=\"T_997cc_level0_row4\" class=\"row_heading level0 row4\" >Geography</th>\n",
       "      <td id=\"T_997cc_row4_col0\" class=\"data row4 col0\" >0.000000</td>\n",
       "    </tr>\n",
       "    <tr>\n",
       "      <th id=\"T_997cc_level0_row5\" class=\"row_heading level0 row5\" >Gender</th>\n",
       "      <td id=\"T_997cc_row5_col0\" class=\"data row5 col0\" >0.000000</td>\n",
       "    </tr>\n",
       "    <tr>\n",
       "      <th id=\"T_997cc_level0_row6\" class=\"row_heading level0 row6\" >Age</th>\n",
       "      <td id=\"T_997cc_row6_col0\" class=\"data row6 col0\" >0.000000</td>\n",
       "    </tr>\n",
       "    <tr>\n",
       "      <th id=\"T_997cc_level0_row7\" class=\"row_heading level0 row7\" >Tenure</th>\n",
       "      <td id=\"T_997cc_row7_col0\" class=\"data row7 col0\" >9.000000</td>\n",
       "    </tr>\n",
       "    <tr>\n",
       "      <th id=\"T_997cc_level0_row8\" class=\"row_heading level0 row8\" >Balance</th>\n",
       "      <td id=\"T_997cc_row8_col0\" class=\"data row8 col0\" >0.000000</td>\n",
       "    </tr>\n",
       "    <tr>\n",
       "      <th id=\"T_997cc_level0_row9\" class=\"row_heading level0 row9\" >NumOfProducts</th>\n",
       "      <td id=\"T_997cc_row9_col0\" class=\"data row9 col0\" >0.000000</td>\n",
       "    </tr>\n",
       "    <tr>\n",
       "      <th id=\"T_997cc_level0_row10\" class=\"row_heading level0 row10\" >HasCrCard</th>\n",
       "      <td id=\"T_997cc_row10_col0\" class=\"data row10 col0\" >0.000000</td>\n",
       "    </tr>\n",
       "    <tr>\n",
       "      <th id=\"T_997cc_level0_row11\" class=\"row_heading level0 row11\" >IsActiveMember</th>\n",
       "      <td id=\"T_997cc_row11_col0\" class=\"data row11 col0\" >0.000000</td>\n",
       "    </tr>\n",
       "    <tr>\n",
       "      <th id=\"T_997cc_level0_row12\" class=\"row_heading level0 row12\" >EstimatedSalary</th>\n",
       "      <td id=\"T_997cc_row12_col0\" class=\"data row12 col0\" >0.000000</td>\n",
       "    </tr>\n",
       "    <tr>\n",
       "      <th id=\"T_997cc_level0_row13\" class=\"row_heading level0 row13\" >Exited</th>\n",
       "      <td id=\"T_997cc_row13_col0\" class=\"data row13 col0\" >0.000000</td>\n",
       "    </tr>\n",
       "  </tbody>\n",
       "</table>\n"
      ],
      "text/plain": [
       "<pandas.io.formats.style.Styler at 0x1f2142ccb20>"
      ]
     },
     "execution_count": 9,
     "metadata": {},
     "output_type": "execute_result"
    }
   ],
   "source": [
    "# просмотр пропущенных значений\n",
    "pd.DataFrame(round(data.isna().mean()*100,)).style.background_gradient('coolwarm')"
   ]
  },
  {
   "cell_type": "markdown",
   "metadata": {},
   "source": [
    "Значения с пропусками составляют 9% от вссего датасета. Необходимо заполнить пропуски медианными значениями. Предпологаю, что чем дольше клиент пользуется банком, тем больше у него банковских услуг. Решено заполнить колонку Tenure в зависимости от принадлежности клиента к той или иной группе по NumOfProducts."
   ]
  },
  {
   "cell_type": "code",
   "execution_count": 10,
   "metadata": {},
   "outputs": [
    {
     "data": {
      "text/html": [
       "<div>\n",
       "<style scoped>\n",
       "    .dataframe tbody tr th:only-of-type {\n",
       "        vertical-align: middle;\n",
       "    }\n",
       "\n",
       "    .dataframe tbody tr th {\n",
       "        vertical-align: top;\n",
       "    }\n",
       "\n",
       "    .dataframe thead th {\n",
       "        text-align: right;\n",
       "    }\n",
       "</style>\n",
       "<table border=\"1\" class=\"dataframe\">\n",
       "  <thead>\n",
       "    <tr style=\"text-align: right;\">\n",
       "      <th></th>\n",
       "      <th>RowNumber</th>\n",
       "      <th>CustomerId</th>\n",
       "      <th>Surname</th>\n",
       "      <th>CreditScore</th>\n",
       "      <th>Geography</th>\n",
       "      <th>Gender</th>\n",
       "      <th>Age</th>\n",
       "      <th>Tenure</th>\n",
       "      <th>Balance</th>\n",
       "      <th>NumOfProducts</th>\n",
       "      <th>HasCrCard</th>\n",
       "      <th>IsActiveMember</th>\n",
       "      <th>EstimatedSalary</th>\n",
       "      <th>Exited</th>\n",
       "    </tr>\n",
       "  </thead>\n",
       "  <tbody>\n",
       "    <tr>\n",
       "      <th>30</th>\n",
       "      <td>31</td>\n",
       "      <td>15589475</td>\n",
       "      <td>Azikiwe</td>\n",
       "      <td>591</td>\n",
       "      <td>Spain</td>\n",
       "      <td>Female</td>\n",
       "      <td>39</td>\n",
       "      <td>NaN</td>\n",
       "      <td>0.00</td>\n",
       "      <td>3</td>\n",
       "      <td>1</td>\n",
       "      <td>0</td>\n",
       "      <td>140469.38</td>\n",
       "      <td>1</td>\n",
       "    </tr>\n",
       "    <tr>\n",
       "      <th>48</th>\n",
       "      <td>49</td>\n",
       "      <td>15766205</td>\n",
       "      <td>Yin</td>\n",
       "      <td>550</td>\n",
       "      <td>Germany</td>\n",
       "      <td>Male</td>\n",
       "      <td>38</td>\n",
       "      <td>NaN</td>\n",
       "      <td>103391.38</td>\n",
       "      <td>1</td>\n",
       "      <td>0</td>\n",
       "      <td>1</td>\n",
       "      <td>90878.13</td>\n",
       "      <td>0</td>\n",
       "    </tr>\n",
       "    <tr>\n",
       "      <th>51</th>\n",
       "      <td>52</td>\n",
       "      <td>15768193</td>\n",
       "      <td>Trevisani</td>\n",
       "      <td>585</td>\n",
       "      <td>Germany</td>\n",
       "      <td>Male</td>\n",
       "      <td>36</td>\n",
       "      <td>NaN</td>\n",
       "      <td>146050.97</td>\n",
       "      <td>2</td>\n",
       "      <td>0</td>\n",
       "      <td>0</td>\n",
       "      <td>86424.57</td>\n",
       "      <td>0</td>\n",
       "    </tr>\n",
       "    <tr>\n",
       "      <th>53</th>\n",
       "      <td>54</td>\n",
       "      <td>15702298</td>\n",
       "      <td>Parkhill</td>\n",
       "      <td>655</td>\n",
       "      <td>Germany</td>\n",
       "      <td>Male</td>\n",
       "      <td>41</td>\n",
       "      <td>NaN</td>\n",
       "      <td>125561.97</td>\n",
       "      <td>1</td>\n",
       "      <td>0</td>\n",
       "      <td>0</td>\n",
       "      <td>164040.94</td>\n",
       "      <td>1</td>\n",
       "    </tr>\n",
       "    <tr>\n",
       "      <th>60</th>\n",
       "      <td>61</td>\n",
       "      <td>15651280</td>\n",
       "      <td>Hunter</td>\n",
       "      <td>742</td>\n",
       "      <td>Germany</td>\n",
       "      <td>Male</td>\n",
       "      <td>35</td>\n",
       "      <td>NaN</td>\n",
       "      <td>136857.00</td>\n",
       "      <td>1</td>\n",
       "      <td>0</td>\n",
       "      <td>0</td>\n",
       "      <td>84509.57</td>\n",
       "      <td>0</td>\n",
       "    </tr>\n",
       "    <tr>\n",
       "      <th>...</th>\n",
       "      <td>...</td>\n",
       "      <td>...</td>\n",
       "      <td>...</td>\n",
       "      <td>...</td>\n",
       "      <td>...</td>\n",
       "      <td>...</td>\n",
       "      <td>...</td>\n",
       "      <td>...</td>\n",
       "      <td>...</td>\n",
       "      <td>...</td>\n",
       "      <td>...</td>\n",
       "      <td>...</td>\n",
       "      <td>...</td>\n",
       "      <td>...</td>\n",
       "    </tr>\n",
       "    <tr>\n",
       "      <th>9944</th>\n",
       "      <td>9945</td>\n",
       "      <td>15703923</td>\n",
       "      <td>Cameron</td>\n",
       "      <td>744</td>\n",
       "      <td>Germany</td>\n",
       "      <td>Male</td>\n",
       "      <td>41</td>\n",
       "      <td>NaN</td>\n",
       "      <td>190409.34</td>\n",
       "      <td>2</td>\n",
       "      <td>1</td>\n",
       "      <td>1</td>\n",
       "      <td>138361.48</td>\n",
       "      <td>0</td>\n",
       "    </tr>\n",
       "    <tr>\n",
       "      <th>9956</th>\n",
       "      <td>9957</td>\n",
       "      <td>15707861</td>\n",
       "      <td>Nucci</td>\n",
       "      <td>520</td>\n",
       "      <td>France</td>\n",
       "      <td>Female</td>\n",
       "      <td>46</td>\n",
       "      <td>NaN</td>\n",
       "      <td>85216.61</td>\n",
       "      <td>1</td>\n",
       "      <td>1</td>\n",
       "      <td>0</td>\n",
       "      <td>117369.52</td>\n",
       "      <td>1</td>\n",
       "    </tr>\n",
       "    <tr>\n",
       "      <th>9964</th>\n",
       "      <td>9965</td>\n",
       "      <td>15642785</td>\n",
       "      <td>Douglas</td>\n",
       "      <td>479</td>\n",
       "      <td>France</td>\n",
       "      <td>Male</td>\n",
       "      <td>34</td>\n",
       "      <td>NaN</td>\n",
       "      <td>117593.48</td>\n",
       "      <td>2</td>\n",
       "      <td>0</td>\n",
       "      <td>0</td>\n",
       "      <td>113308.29</td>\n",
       "      <td>0</td>\n",
       "    </tr>\n",
       "    <tr>\n",
       "      <th>9985</th>\n",
       "      <td>9986</td>\n",
       "      <td>15586914</td>\n",
       "      <td>Nepean</td>\n",
       "      <td>659</td>\n",
       "      <td>France</td>\n",
       "      <td>Male</td>\n",
       "      <td>36</td>\n",
       "      <td>NaN</td>\n",
       "      <td>123841.49</td>\n",
       "      <td>2</td>\n",
       "      <td>1</td>\n",
       "      <td>0</td>\n",
       "      <td>96833.00</td>\n",
       "      <td>0</td>\n",
       "    </tr>\n",
       "    <tr>\n",
       "      <th>9999</th>\n",
       "      <td>10000</td>\n",
       "      <td>15628319</td>\n",
       "      <td>Walker</td>\n",
       "      <td>792</td>\n",
       "      <td>France</td>\n",
       "      <td>Female</td>\n",
       "      <td>28</td>\n",
       "      <td>NaN</td>\n",
       "      <td>130142.79</td>\n",
       "      <td>1</td>\n",
       "      <td>1</td>\n",
       "      <td>0</td>\n",
       "      <td>38190.78</td>\n",
       "      <td>0</td>\n",
       "    </tr>\n",
       "  </tbody>\n",
       "</table>\n",
       "<p>909 rows × 14 columns</p>\n",
       "</div>"
      ],
      "text/plain": [
       "      RowNumber  CustomerId    Surname  CreditScore Geography  Gender  Age  \\\n",
       "30           31    15589475    Azikiwe          591     Spain  Female   39   \n",
       "48           49    15766205        Yin          550   Germany    Male   38   \n",
       "51           52    15768193  Trevisani          585   Germany    Male   36   \n",
       "53           54    15702298   Parkhill          655   Germany    Male   41   \n",
       "60           61    15651280     Hunter          742   Germany    Male   35   \n",
       "...         ...         ...        ...          ...       ...     ...  ...   \n",
       "9944       9945    15703923    Cameron          744   Germany    Male   41   \n",
       "9956       9957    15707861      Nucci          520    France  Female   46   \n",
       "9964       9965    15642785    Douglas          479    France    Male   34   \n",
       "9985       9986    15586914     Nepean          659    France    Male   36   \n",
       "9999      10000    15628319     Walker          792    France  Female   28   \n",
       "\n",
       "      Tenure    Balance  NumOfProducts  HasCrCard  IsActiveMember  \\\n",
       "30       NaN       0.00              3          1               0   \n",
       "48       NaN  103391.38              1          0               1   \n",
       "51       NaN  146050.97              2          0               0   \n",
       "53       NaN  125561.97              1          0               0   \n",
       "60       NaN  136857.00              1          0               0   \n",
       "...      ...        ...            ...        ...             ...   \n",
       "9944     NaN  190409.34              2          1               1   \n",
       "9956     NaN   85216.61              1          1               0   \n",
       "9964     NaN  117593.48              2          0               0   \n",
       "9985     NaN  123841.49              2          1               0   \n",
       "9999     NaN  130142.79              1          1               0   \n",
       "\n",
       "      EstimatedSalary  Exited  \n",
       "30          140469.38       1  \n",
       "48           90878.13       0  \n",
       "51           86424.57       0  \n",
       "53          164040.94       1  \n",
       "60           84509.57       0  \n",
       "...               ...     ...  \n",
       "9944        138361.48       0  \n",
       "9956        117369.52       1  \n",
       "9964        113308.29       0  \n",
       "9985         96833.00       0  \n",
       "9999         38190.78       0  \n",
       "\n",
       "[909 rows x 14 columns]"
      ]
     },
     "metadata": {},
     "output_type": "display_data"
    }
   ],
   "source": [
    "# изучение данных с пропусками\n",
    "display(data[data['Tenure'].isna()])"
   ]
  },
  {
   "cell_type": "code",
   "execution_count": 11,
   "metadata": {},
   "outputs": [],
   "source": [
    "# поиск медианного значения в зависимости от кол-ва банковских услуг\n",
    "for i in data['NumOfProducts'].unique():\n",
    "    data.loc[(data['NumOfProducts'] == i) & (data['Tenure'].isna()), 'Tenure'] = \\\n",
    "    data.loc[(data['NumOfProducts'] == i), 'Tenure'].median()\n"
   ]
  },
  {
   "cell_type": "code",
   "execution_count": 12,
   "metadata": {},
   "outputs": [
    {
     "name": "stdout",
     "output_type": "stream",
     "text": [
      "<class 'pandas.core.frame.DataFrame'>\n",
      "RangeIndex: 10000 entries, 0 to 9999\n",
      "Data columns (total 14 columns):\n",
      " #   Column           Non-Null Count  Dtype  \n",
      "---  ------           --------------  -----  \n",
      " 0   RowNumber        10000 non-null  int64  \n",
      " 1   CustomerId       10000 non-null  int64  \n",
      " 2   Surname          10000 non-null  object \n",
      " 3   CreditScore      10000 non-null  int64  \n",
      " 4   Geography        10000 non-null  object \n",
      " 5   Gender           10000 non-null  object \n",
      " 6   Age              10000 non-null  int64  \n",
      " 7   Tenure           10000 non-null  float64\n",
      " 8   Balance          10000 non-null  float64\n",
      " 9   NumOfProducts    10000 non-null  int64  \n",
      " 10  HasCrCard        10000 non-null  int64  \n",
      " 11  IsActiveMember   10000 non-null  int64  \n",
      " 12  EstimatedSalary  10000 non-null  float64\n",
      " 13  Exited           10000 non-null  int64  \n",
      "dtypes: float64(3), int64(8), object(3)\n",
      "memory usage: 1.1+ MB\n"
     ]
    },
    {
     "data": {
      "text/plain": [
       "None"
      ]
     },
     "metadata": {},
     "output_type": "display_data"
    }
   ],
   "source": [
    "display(data.info())"
   ]
  },
  {
   "cell_type": "markdown",
   "metadata": {},
   "source": [
    "**Вывод:** В датасете 10 000 значений. Были обнаружены пропуски в размере 9% от всего датасета. Пропуски были заменены медианными значениями."
   ]
  },
  {
   "cell_type": "markdown",
   "metadata": {},
   "source": [
    "## Исследование задачи"
   ]
  },
  {
   "cell_type": "code",
   "execution_count": 13,
   "metadata": {},
   "outputs": [
    {
     "name": "stdout",
     "output_type": "stream",
     "text": [
      "0    0.7963\n",
      "1    0.2037\n",
      "Name: Exited, dtype: float64\n"
     ]
    },
    {
     "data": {
      "image/png": "[encoded data removed]",
      "text/plain": [
       "<Figure size 432x288 with 1 Axes>"
      ]
     },
     "metadata": {
      "needs_background": "light"
     },
     "output_type": "display_data"
    }
   ],
   "source": [
    "#изучение дисбаланса в целевом показателе\n",
    "class_frequency = data['Exited'].value_counts(normalize= True)\n",
    "print(class_frequency)\n",
    "class_frequency.plot(kind='bar')\n",
    "plt.show()"
   ]
  },
  {
   "cell_type": "code",
   "execution_count": 14,
   "metadata": {
    "scrolled": true
   },
   "outputs": [],
   "source": [
    "# применим технику OHE для кодирования данных типа obj\n",
    "\n",
    "data_ohe = data.drop(['RowNumber', 'CustomerId', 'Surname'], axis = 1)\n",
    "data_ohe = pd.get_dummies(data_ohe, drop_first=True)"
   ]
  },
  {
   "cell_type": "markdown",
   "metadata": {},
   "source": [
    "Решил удалить из обучающего датасета колонки 'RowNumber', 'CustomerId' и все колонки с 'Surname', сформировавшиеся после применениия техники OHE, т.к. считаю что данные показатели будут перегружать модель и её искажать."
   ]
  },
  {
   "cell_type": "code",
   "execution_count": 15,
   "metadata": {},
   "outputs": [
    {
     "data": {
      "text/html": [
       "<div>\n",
       "<style scoped>\n",
       "    .dataframe tbody tr th:only-of-type {\n",
       "        vertical-align: middle;\n",
       "    }\n",
       "\n",
       "    .dataframe tbody tr th {\n",
       "        vertical-align: top;\n",
       "    }\n",
       "\n",
       "    .dataframe thead th {\n",
       "        text-align: right;\n",
       "    }\n",
       "</style>\n",
       "<table border=\"1\" class=\"dataframe\">\n",
       "  <thead>\n",
       "    <tr style=\"text-align: right;\">\n",
       "      <th></th>\n",
       "      <th>CreditScore</th>\n",
       "      <th>Age</th>\n",
       "      <th>Tenure</th>\n",
       "      <th>Balance</th>\n",
       "      <th>NumOfProducts</th>\n",
       "      <th>HasCrCard</th>\n",
       "      <th>IsActiveMember</th>\n",
       "      <th>EstimatedSalary</th>\n",
       "      <th>Exited</th>\n",
       "      <th>Geography_Germany</th>\n",
       "      <th>Geography_Spain</th>\n",
       "      <th>Gender_Male</th>\n",
       "    </tr>\n",
       "  </thead>\n",
       "  <tbody>\n",
       "    <tr>\n",
       "      <th>0</th>\n",
       "      <td>619</td>\n",
       "      <td>42</td>\n",
       "      <td>2.0</td>\n",
       "      <td>0.00</td>\n",
       "      <td>1</td>\n",
       "      <td>1</td>\n",
       "      <td>1</td>\n",
       "      <td>101348.88</td>\n",
       "      <td>1</td>\n",
       "      <td>0</td>\n",
       "      <td>0</td>\n",
       "      <td>0</td>\n",
       "    </tr>\n",
       "    <tr>\n",
       "      <th>1</th>\n",
       "      <td>608</td>\n",
       "      <td>41</td>\n",
       "      <td>1.0</td>\n",
       "      <td>83807.86</td>\n",
       "      <td>1</td>\n",
       "      <td>0</td>\n",
       "      <td>1</td>\n",
       "      <td>112542.58</td>\n",
       "      <td>0</td>\n",
       "      <td>0</td>\n",
       "      <td>1</td>\n",
       "      <td>0</td>\n",
       "    </tr>\n",
       "    <tr>\n",
       "      <th>2</th>\n",
       "      <td>502</td>\n",
       "      <td>42</td>\n",
       "      <td>8.0</td>\n",
       "      <td>159660.80</td>\n",
       "      <td>3</td>\n",
       "      <td>1</td>\n",
       "      <td>0</td>\n",
       "      <td>113931.57</td>\n",
       "      <td>1</td>\n",
       "      <td>0</td>\n",
       "      <td>0</td>\n",
       "      <td>0</td>\n",
       "    </tr>\n",
       "    <tr>\n",
       "      <th>3</th>\n",
       "      <td>699</td>\n",
       "      <td>39</td>\n",
       "      <td>1.0</td>\n",
       "      <td>0.00</td>\n",
       "      <td>2</td>\n",
       "      <td>0</td>\n",
       "      <td>0</td>\n",
       "      <td>93826.63</td>\n",
       "      <td>0</td>\n",
       "      <td>0</td>\n",
       "      <td>0</td>\n",
       "      <td>0</td>\n",
       "    </tr>\n",
       "    <tr>\n",
       "      <th>4</th>\n",
       "      <td>850</td>\n",
       "      <td>43</td>\n",
       "      <td>2.0</td>\n",
       "      <td>125510.82</td>\n",
       "      <td>1</td>\n",
       "      <td>1</td>\n",
       "      <td>1</td>\n",
       "      <td>79084.10</td>\n",
       "      <td>0</td>\n",
       "      <td>0</td>\n",
       "      <td>1</td>\n",
       "      <td>0</td>\n",
       "    </tr>\n",
       "  </tbody>\n",
       "</table>\n",
       "</div>"
      ],
      "text/plain": [
       "   CreditScore  Age  Tenure    Balance  NumOfProducts  HasCrCard  \\\n",
       "0          619   42     2.0       0.00              1          1   \n",
       "1          608   41     1.0   83807.86              1          0   \n",
       "2          502   42     8.0  159660.80              3          1   \n",
       "3          699   39     1.0       0.00              2          0   \n",
       "4          850   43     2.0  125510.82              1          1   \n",
       "\n",
       "   IsActiveMember  EstimatedSalary  Exited  Geography_Germany  \\\n",
       "0               1        101348.88       1                  0   \n",
       "1               1        112542.58       0                  0   \n",
       "2               0        113931.57       1                  0   \n",
       "3               0         93826.63       0                  0   \n",
       "4               1         79084.10       0                  0   \n",
       "\n",
       "   Geography_Spain  Gender_Male  \n",
       "0                0            0  \n",
       "1                1            0  \n",
       "2                0            0  \n",
       "3                0            0  \n",
       "4                1            0  "
      ]
     },
     "metadata": {},
     "output_type": "display_data"
    }
   ],
   "source": [
    "display(data_ohe.head(5))"
   ]
  },
  {
   "cell_type": "code",
   "execution_count": 16,
   "metadata": {},
   "outputs": [],
   "source": [
    "# деление датасета\n",
    "\n",
    "target = data_ohe['Exited']\n",
    "features = data_ohe.drop(['Exited'], axis = 1)"
   ]
  },
  {
   "cell_type": "code",
   "execution_count": 17,
   "metadata": {},
   "outputs": [
    {
     "data": {
      "text/html": [
       "<div>\n",
       "<style scoped>\n",
       "    .dataframe tbody tr th:only-of-type {\n",
       "        vertical-align: middle;\n",
       "    }\n",
       "\n",
       "    .dataframe tbody tr th {\n",
       "        vertical-align: top;\n",
       "    }\n",
       "\n",
       "    .dataframe thead th {\n",
       "        text-align: right;\n",
       "    }\n",
       "</style>\n",
       "<table border=\"1\" class=\"dataframe\">\n",
       "  <thead>\n",
       "    <tr style=\"text-align: right;\">\n",
       "      <th></th>\n",
       "      <th>CreditScore</th>\n",
       "      <th>Age</th>\n",
       "      <th>Tenure</th>\n",
       "      <th>Balance</th>\n",
       "      <th>NumOfProducts</th>\n",
       "      <th>HasCrCard</th>\n",
       "      <th>IsActiveMember</th>\n",
       "      <th>EstimatedSalary</th>\n",
       "      <th>Geography_Germany</th>\n",
       "      <th>Geography_Spain</th>\n",
       "      <th>Gender_Male</th>\n",
       "    </tr>\n",
       "  </thead>\n",
       "  <tbody>\n",
       "    <tr>\n",
       "      <th>0</th>\n",
       "      <td>619</td>\n",
       "      <td>42</td>\n",
       "      <td>2.0</td>\n",
       "      <td>0.00</td>\n",
       "      <td>1</td>\n",
       "      <td>1</td>\n",
       "      <td>1</td>\n",
       "      <td>101348.88</td>\n",
       "      <td>0</td>\n",
       "      <td>0</td>\n",
       "      <td>0</td>\n",
       "    </tr>\n",
       "    <tr>\n",
       "      <th>1</th>\n",
       "      <td>608</td>\n",
       "      <td>41</td>\n",
       "      <td>1.0</td>\n",
       "      <td>83807.86</td>\n",
       "      <td>1</td>\n",
       "      <td>0</td>\n",
       "      <td>1</td>\n",
       "      <td>112542.58</td>\n",
       "      <td>0</td>\n",
       "      <td>1</td>\n",
       "      <td>0</td>\n",
       "    </tr>\n",
       "    <tr>\n",
       "      <th>2</th>\n",
       "      <td>502</td>\n",
       "      <td>42</td>\n",
       "      <td>8.0</td>\n",
       "      <td>159660.80</td>\n",
       "      <td>3</td>\n",
       "      <td>1</td>\n",
       "      <td>0</td>\n",
       "      <td>113931.57</td>\n",
       "      <td>0</td>\n",
       "      <td>0</td>\n",
       "      <td>0</td>\n",
       "    </tr>\n",
       "    <tr>\n",
       "      <th>3</th>\n",
       "      <td>699</td>\n",
       "      <td>39</td>\n",
       "      <td>1.0</td>\n",
       "      <td>0.00</td>\n",
       "      <td>2</td>\n",
       "      <td>0</td>\n",
       "      <td>0</td>\n",
       "      <td>93826.63</td>\n",
       "      <td>0</td>\n",
       "      <td>0</td>\n",
       "      <td>0</td>\n",
       "    </tr>\n",
       "    <tr>\n",
       "      <th>4</th>\n",
       "      <td>850</td>\n",
       "      <td>43</td>\n",
       "      <td>2.0</td>\n",
       "      <td>125510.82</td>\n",
       "      <td>1</td>\n",
       "      <td>1</td>\n",
       "      <td>1</td>\n",
       "      <td>79084.10</td>\n",
       "      <td>0</td>\n",
       "      <td>1</td>\n",
       "      <td>0</td>\n",
       "    </tr>\n",
       "  </tbody>\n",
       "</table>\n",
       "</div>"
      ],
      "text/plain": [
       "   CreditScore  Age  Tenure    Balance  NumOfProducts  HasCrCard  \\\n",
       "0          619   42     2.0       0.00              1          1   \n",
       "1          608   41     1.0   83807.86              1          0   \n",
       "2          502   42     8.0  159660.80              3          1   \n",
       "3          699   39     1.0       0.00              2          0   \n",
       "4          850   43     2.0  125510.82              1          1   \n",
       "\n",
       "   IsActiveMember  EstimatedSalary  Geography_Germany  Geography_Spain  \\\n",
       "0               1        101348.88                  0                0   \n",
       "1               1        112542.58                  0                1   \n",
       "2               0        113931.57                  0                0   \n",
       "3               0         93826.63                  0                0   \n",
       "4               1         79084.10                  0                1   \n",
       "\n",
       "   Gender_Male  \n",
       "0            0  \n",
       "1            0  \n",
       "2            0  \n",
       "3            0  \n",
       "4            0  "
      ]
     },
     "execution_count": 17,
     "metadata": {},
     "output_type": "execute_result"
    }
   ],
   "source": [
    "# проверяю корректность кодировки\n",
    "features.head()"
   ]
  },
  {
   "cell_type": "code",
   "execution_count": 18,
   "metadata": {},
   "outputs": [],
   "source": [
    "#Дробление датасета на 3 выборки\n",
    "features_train, X_rem, target_train, y_rem = train_test_split(\n",
    "    features, target, train_size=0.60, random_state = 12345)\n",
    "\n",
    "features_valid, features_test, target_valid, target_test = train_test_split(\n",
    "    X_rem, y_rem, test_size=0.50, random_state = 12345)\n"
   ]
  },
  {
   "cell_type": "code",
   "execution_count": 19,
   "metadata": {},
   "outputs": [
    {
     "name": "stdout",
     "output_type": "stream",
     "text": [
      "(6000, 11)\n",
      "(2000, 11)\n",
      "(2000, 11)\n"
     ]
    }
   ],
   "source": [
    "#Просмотр размеров выборок\n",
    "print(features_train.shape)\n",
    "print(features_valid.shape)\n",
    "print(features_test.shape)"
   ]
  },
  {
   "cell_type": "code",
   "execution_count": 20,
   "metadata": {},
   "outputs": [
    {
     "name": "stdout",
     "output_type": "stream",
     "text": [
      "<class 'pandas.core.frame.DataFrame'>\n",
      "RangeIndex: 10000 entries, 0 to 9999\n",
      "Data columns (total 11 columns):\n",
      " #   Column             Non-Null Count  Dtype  \n",
      "---  ------             --------------  -----  \n",
      " 0   CreditScore        10000 non-null  int64  \n",
      " 1   Age                10000 non-null  int64  \n",
      " 2   Tenure             10000 non-null  float64\n",
      " 3   Balance            10000 non-null  float64\n",
      " 4   NumOfProducts      10000 non-null  int64  \n",
      " 5   HasCrCard          10000 non-null  int64  \n",
      " 6   IsActiveMember     10000 non-null  int64  \n",
      " 7   EstimatedSalary    10000 non-null  float64\n",
      " 8   Geography_Germany  10000 non-null  uint8  \n",
      " 9   Geography_Spain    10000 non-null  uint8  \n",
      " 10  Gender_Male        10000 non-null  uint8  \n",
      "dtypes: float64(3), int64(5), uint8(3)\n",
      "memory usage: 654.4 KB\n"
     ]
    }
   ],
   "source": [
    "features.info()"
   ]
  },
  {
   "cell_type": "code",
   "execution_count": 21,
   "metadata": {},
   "outputs": [
    {
     "data": {
      "text/html": [
       "<div>\n",
       "<style scoped>\n",
       "    .dataframe tbody tr th:only-of-type {\n",
       "        vertical-align: middle;\n",
       "    }\n",
       "\n",
       "    .dataframe tbody tr th {\n",
       "        vertical-align: top;\n",
       "    }\n",
       "\n",
       "    .dataframe thead th {\n",
       "        text-align: right;\n",
       "    }\n",
       "</style>\n",
       "<table border=\"1\" class=\"dataframe\">\n",
       "  <thead>\n",
       "    <tr style=\"text-align: right;\">\n",
       "      <th></th>\n",
       "      <th>CreditScore</th>\n",
       "      <th>Age</th>\n",
       "      <th>Tenure</th>\n",
       "      <th>Balance</th>\n",
       "      <th>NumOfProducts</th>\n",
       "      <th>HasCrCard</th>\n",
       "      <th>IsActiveMember</th>\n",
       "      <th>EstimatedSalary</th>\n",
       "      <th>Geography_Germany</th>\n",
       "      <th>Geography_Spain</th>\n",
       "      <th>Gender_Male</th>\n",
       "    </tr>\n",
       "  </thead>\n",
       "  <tbody>\n",
       "    <tr>\n",
       "      <th>7479</th>\n",
       "      <td>567</td>\n",
       "      <td>35</td>\n",
       "      <td>8.0</td>\n",
       "      <td>153137.74</td>\n",
       "      <td>1</td>\n",
       "      <td>1</td>\n",
       "      <td>0</td>\n",
       "      <td>88659.07</td>\n",
       "      <td>0</td>\n",
       "      <td>1</td>\n",
       "      <td>1</td>\n",
       "    </tr>\n",
       "    <tr>\n",
       "      <th>3411</th>\n",
       "      <td>711</td>\n",
       "      <td>37</td>\n",
       "      <td>8.0</td>\n",
       "      <td>113899.92</td>\n",
       "      <td>1</td>\n",
       "      <td>0</td>\n",
       "      <td>0</td>\n",
       "      <td>80215.20</td>\n",
       "      <td>0</td>\n",
       "      <td>0</td>\n",
       "      <td>0</td>\n",
       "    </tr>\n",
       "    <tr>\n",
       "      <th>6027</th>\n",
       "      <td>850</td>\n",
       "      <td>44</td>\n",
       "      <td>3.0</td>\n",
       "      <td>140393.65</td>\n",
       "      <td>2</td>\n",
       "      <td>0</td>\n",
       "      <td>1</td>\n",
       "      <td>186285.52</td>\n",
       "      <td>1</td>\n",
       "      <td>0</td>\n",
       "      <td>1</td>\n",
       "    </tr>\n",
       "    <tr>\n",
       "      <th>1247</th>\n",
       "      <td>512</td>\n",
       "      <td>24</td>\n",
       "      <td>6.0</td>\n",
       "      <td>0.00</td>\n",
       "      <td>2</td>\n",
       "      <td>1</td>\n",
       "      <td>0</td>\n",
       "      <td>37654.31</td>\n",
       "      <td>0</td>\n",
       "      <td>0</td>\n",
       "      <td>1</td>\n",
       "    </tr>\n",
       "    <tr>\n",
       "      <th>3716</th>\n",
       "      <td>665</td>\n",
       "      <td>27</td>\n",
       "      <td>2.0</td>\n",
       "      <td>147435.96</td>\n",
       "      <td>1</td>\n",
       "      <td>0</td>\n",
       "      <td>0</td>\n",
       "      <td>187508.06</td>\n",
       "      <td>1</td>\n",
       "      <td>0</td>\n",
       "      <td>0</td>\n",
       "    </tr>\n",
       "    <tr>\n",
       "      <th>...</th>\n",
       "      <td>...</td>\n",
       "      <td>...</td>\n",
       "      <td>...</td>\n",
       "      <td>...</td>\n",
       "      <td>...</td>\n",
       "      <td>...</td>\n",
       "      <td>...</td>\n",
       "      <td>...</td>\n",
       "      <td>...</td>\n",
       "      <td>...</td>\n",
       "      <td>...</td>\n",
       "    </tr>\n",
       "    <tr>\n",
       "      <th>4478</th>\n",
       "      <td>549</td>\n",
       "      <td>31</td>\n",
       "      <td>4.0</td>\n",
       "      <td>0.00</td>\n",
       "      <td>2</td>\n",
       "      <td>0</td>\n",
       "      <td>1</td>\n",
       "      <td>25684.85</td>\n",
       "      <td>0</td>\n",
       "      <td>0</td>\n",
       "      <td>1</td>\n",
       "    </tr>\n",
       "    <tr>\n",
       "      <th>4094</th>\n",
       "      <td>513</td>\n",
       "      <td>29</td>\n",
       "      <td>10.0</td>\n",
       "      <td>0.00</td>\n",
       "      <td>2</td>\n",
       "      <td>0</td>\n",
       "      <td>1</td>\n",
       "      <td>25514.77</td>\n",
       "      <td>0</td>\n",
       "      <td>0</td>\n",
       "      <td>1</td>\n",
       "    </tr>\n",
       "    <tr>\n",
       "      <th>3492</th>\n",
       "      <td>655</td>\n",
       "      <td>45</td>\n",
       "      <td>5.0</td>\n",
       "      <td>57327.04</td>\n",
       "      <td>1</td>\n",
       "      <td>0</td>\n",
       "      <td>1</td>\n",
       "      <td>47349.00</td>\n",
       "      <td>0</td>\n",
       "      <td>0</td>\n",
       "      <td>0</td>\n",
       "    </tr>\n",
       "    <tr>\n",
       "      <th>2177</th>\n",
       "      <td>667</td>\n",
       "      <td>24</td>\n",
       "      <td>4.0</td>\n",
       "      <td>0.00</td>\n",
       "      <td>2</td>\n",
       "      <td>0</td>\n",
       "      <td>1</td>\n",
       "      <td>34335.55</td>\n",
       "      <td>0</td>\n",
       "      <td>0</td>\n",
       "      <td>0</td>\n",
       "    </tr>\n",
       "    <tr>\n",
       "      <th>4578</th>\n",
       "      <td>691</td>\n",
       "      <td>38</td>\n",
       "      <td>1.0</td>\n",
       "      <td>0.00</td>\n",
       "      <td>2</td>\n",
       "      <td>0</td>\n",
       "      <td>0</td>\n",
       "      <td>44653.50</td>\n",
       "      <td>0</td>\n",
       "      <td>0</td>\n",
       "      <td>1</td>\n",
       "    </tr>\n",
       "  </tbody>\n",
       "</table>\n",
       "<p>6000 rows × 11 columns</p>\n",
       "</div>"
      ],
      "text/plain": [
       "      CreditScore  Age  Tenure    Balance  NumOfProducts  HasCrCard  \\\n",
       "7479          567   35     8.0  153137.74              1          1   \n",
       "3411          711   37     8.0  113899.92              1          0   \n",
       "6027          850   44     3.0  140393.65              2          0   \n",
       "1247          512   24     6.0       0.00              2          1   \n",
       "3716          665   27     2.0  147435.96              1          0   \n",
       "...           ...  ...     ...        ...            ...        ...   \n",
       "4478          549   31     4.0       0.00              2          0   \n",
       "4094          513   29    10.0       0.00              2          0   \n",
       "3492          655   45     5.0   57327.04              1          0   \n",
       "2177          667   24     4.0       0.00              2          0   \n",
       "4578          691   38     1.0       0.00              2          0   \n",
       "\n",
       "      IsActiveMember  EstimatedSalary  Geography_Germany  Geography_Spain  \\\n",
       "7479               0         88659.07                  0                1   \n",
       "3411               0         80215.20                  0                0   \n",
       "6027               1        186285.52                  1                0   \n",
       "1247               0         37654.31                  0                0   \n",
       "3716               0        187508.06                  1                0   \n",
       "...              ...              ...                ...              ...   \n",
       "4478               1         25684.85                  0                0   \n",
       "4094               1         25514.77                  0                0   \n",
       "3492               1         47349.00                  0                0   \n",
       "2177               1         34335.55                  0                0   \n",
       "4578               0         44653.50                  0                0   \n",
       "\n",
       "      Gender_Male  \n",
       "7479            1  \n",
       "3411            0  \n",
       "6027            1  \n",
       "1247            1  \n",
       "3716            0  \n",
       "...           ...  \n",
       "4478            1  \n",
       "4094            1  \n",
       "3492            0  \n",
       "2177            0  \n",
       "4578            1  \n",
       "\n",
       "[6000 rows x 11 columns]"
      ]
     },
     "execution_count": 21,
     "metadata": {},
     "output_type": "execute_result"
    }
   ],
   "source": [
    "features_train"
   ]
  },
  {
   "cell_type": "code",
   "execution_count": 22,
   "metadata": {
    "scrolled": true
   },
   "outputs": [
    {
     "data": {
      "text/plain": [
       "StandardScaler()"
      ]
     },
     "execution_count": 22,
     "metadata": {},
     "output_type": "execute_result"
    }
   ],
   "source": [
    "# стандартизация данных\n",
    "\n",
    "scaler = StandardScaler()\n",
    "\n",
    "# стандартизируем щначения с числовым типом \n",
    "numeric = ['CreditScore', 'Age', 'Tenure', 'Balance', 'NumOfProducts', 'HasCrCard',\n",
    "       'IsActiveMember', 'EstimatedSalary']\n",
    "\n",
    "scaler.fit(features_train[numeric])\n",
    "\n"
   ]
  },
  {
   "cell_type": "code",
   "execution_count": 23,
   "metadata": {},
   "outputs": [],
   "source": [
    "# стандартизация выборок \n",
    "\n",
    "features_train[numeric] = scaler.transform(features_train[numeric])\n",
    "features_valid[numeric] = scaler.transform(features_valid[numeric])\n",
    "features_test[numeric] = scaler.transform(features_test[numeric])\n"
   ]
  },
  {
   "cell_type": "code",
   "execution_count": 24,
   "metadata": {},
   "outputs": [
    {
     "name": "stdout",
     "output_type": "stream",
     "text": [
      "Лучшая глубина дерева: 6\n",
      "Лучшая метрика f1: 0.5696969696969697\n",
      "CPU times: total: 266 ms\n",
      "Wall time: 257 ms\n"
     ]
    }
   ],
   "source": [
    "%%time\n",
    "# Модель дерева решений\n",
    "\n",
    "f1_best = 0\n",
    "best_depth_tree = 0\n",
    "\n",
    "#Цикл для поиска лучшей модели\n",
    "for depth in range(1, 16): \n",
    "    model = DecisionTreeClassifier(max_depth=depth,\n",
    "                                   random_state = 12345)\n",
    "    model.fit(features_train, target_train) #Обучение\n",
    "\n",
    "    predict_valid = model.predict(features_valid) #Предсказание\n",
    "    f1 = f1_score(target_valid, predict_valid)   #Оценка f1\n",
    "        \n",
    "    #Сохранение параметров лучшей модели \n",
    "    if f1 > f1_best:\n",
    "        \n",
    "        best_depth_tree = depth\n",
    "        f1_best = f1\n",
    "            \n",
    "print('Лучшая глубина дерева:', best_depth_tree)\n",
    "print('Лучшая метрика f1:', f1_best)"
   ]
  },
  {
   "cell_type": "code",
   "execution_count": 25,
   "metadata": {},
   "outputs": [
    {
     "name": "stdout",
     "output_type": "stream",
     "text": [
      "Лучшая глубина дерева: 12\n",
      "Кол-во листьев лучшей модели: 90\n",
      "Лучшая метрика f1: 0.5896656534954408\n",
      "CPU times: total: 33.1 s\n",
      "Wall time: 33.1 s\n"
     ]
    }
   ],
   "source": [
    "%%time\n",
    "# Модель случайный лес\n",
    "\n",
    "f1_best = 0\n",
    "best_est = 0\n",
    "best_depth = 0\n",
    "\n",
    "#Цикл для поиска лучшей модели\n",
    "for est in range(10, 101, 10):\n",
    "    for depth in range (1, 16):\n",
    "        model = RandomForestClassifier(random_state=12345,\n",
    "                                       n_estimators=est, max_depth=depth)\n",
    "        model.fit(features_train, target_train) #Обучение\n",
    "        \n",
    "        \n",
    "        predict_valid = model.predict(features_valid) #Предсказани\n",
    "        f1 = f1_score(target_valid, predict_valid)   #Оценка f1\n",
    "\n",
    "        #Сохранение параметров лучшей модели \n",
    "        if f1 > f1_best:\n",
    "\n",
    "            f1_best = f1\n",
    "            best_est = est\n",
    "            best_depth = depth\n",
    "\n",
    "\n",
    "print('Лучшая глубина дерева:', best_depth)\n",
    "print('Кол-во листьев лучшей модели:', best_est)\n",
    "print('Лучшая метрика f1:', f1_best)\n",
    "               "
   ]
  },
  {
   "cell_type": "code",
   "execution_count": 26,
   "metadata": {},
   "outputs": [
    {
     "name": "stdout",
     "output_type": "stream",
     "text": [
      "Лучшее кол-во итераций: 100\n",
      "Лучшая метрика f1: 0.33108108108108103\n",
      "CPU times: total: 812 ms\n",
      "Wall time: 224 ms\n"
     ]
    }
   ],
   "source": [
    "%%time\n",
    "# Логическая регрессия\n",
    "\n",
    "\n",
    "best_iter = 0\n",
    "f1_best = 0\n",
    "\n",
    "\n",
    "#Цикл для поиска лучшей модели\n",
    "for iters in range (100, 2000, 100):\n",
    "\n",
    "    model = LogisticRegression(random_state = 12345, \n",
    "                               solver='liblinear', max_iter = iters)        \n",
    "    model.fit(features_train, target_train) #Обучение \n",
    "    \n",
    "    predict_valid = model.predict(features_valid) #Предсказание \n",
    "    f1 = f1_score(target_valid, predict_valid)   #Оценка f1\n",
    "\n",
    "    #Сохранение параметров лучшей модели \n",
    "    if f1 > f1_best:\n",
    "        \n",
    "        f1_best = f1\n",
    "        best_iter = iters \n",
    "    \n",
    "        \n",
    "print('Лучшее кол-во итераций:', best_iter)\n",
    "print('Лучшая метрика f1:', f1_best)\n",
    "\n"
   ]
  },
  {
   "cell_type": "code",
   "execution_count": 27,
   "metadata": {},
   "outputs": [],
   "source": [
    "def metrixs(features, target, predict, model):\n",
    "    '''исследование метрики при использовании оптимальной модели МО'''\n",
    "   \n",
    "    #Исследование точности модели     \n",
    "    precision = precision_score(target, predict)\n",
    "\n",
    "    # Исследование полноты модели\n",
    "    recall = recall_score(target, predict)\n",
    "\n",
    "    #  f1 метрика\n",
    "    f1 = f1_score(target, predict)\n",
    "    \n",
    "    #   auc_roc метрика\n",
    "    probabilities = model.predict_proba(features)\n",
    "    probabilities_one = probabilities[:, 1]\n",
    "    \n",
    "    auc_roc = roc_auc_score(target, probabilities_one) \n",
    "    \n",
    "    # матрица ошибок \n",
    "    conf_matrix = confusion_matrix(target, predict)\n",
    "    \n",
    "    \n",
    "    print(\"Полнота:\", recall)\n",
    "    print(\"Точность:\", precision)\n",
    "    print(\"F1-мера:\", f1)\n",
    "    print(\"auc_roc:\", auc_roc)\n",
    "    print('Матрица ошибок:','\\n', conf_matrix)\n",
    "\n"
   ]
  },
  {
   "cell_type": "code",
   "execution_count": 28,
   "metadata": {},
   "outputs": [
    {
     "name": "stdout",
     "output_type": "stream",
     "text": [
      "Полнота: 0.44976076555023925\n",
      "Точность: 0.7768595041322314\n",
      "F1-мера: 0.5696969696969697\n",
      "auc_roc: 0.8164631712023421\n",
      "Матрица ошибок: \n",
      " [[1528   54]\n",
      " [ 230  188]]\n",
      "CPU times: total: 156 ms\n",
      "Wall time: 49.9 ms\n"
     ]
    }
   ],
   "source": [
    "%%time\n",
    "# исследование метрики при использовании оптимальной  модели дерева решений\n",
    "\n",
    "model = DecisionTreeClassifier(max_depth = best_depth_tree,\n",
    "                               random_state = 12345)\n",
    "\n",
    "model.fit(features_train, target_train)\n",
    "predict_valid = model.predict(features_valid) #Предсказание\n",
    "metrixs(features_valid, target_valid, predict_valid, model)\n",
    " "
   ]
  },
  {
   "cell_type": "code",
   "execution_count": 29,
   "metadata": {},
   "outputs": [
    {
     "name": "stdout",
     "output_type": "stream",
     "text": [
      "Полнота: 0.46411483253588515\n",
      "Точность: 0.8083333333333333\n",
      "F1-мера: 0.5896656534954408\n",
      "auc_roc: 0.8483976433440803\n",
      "Матрица ошибок: \n",
      " [[1536   46]\n",
      " [ 224  194]]\n",
      "CPU times: total: 828 ms\n",
      "Wall time: 513 ms\n"
     ]
    }
   ],
   "source": [
    "%%time\n",
    "# исследование метрики при использовании оптимальной модели случайного леса\n",
    "\n",
    "model = RandomForestClassifier(random_state=12345, \n",
    "                               n_estimators=best_est, max_depth= best_depth)\n",
    "\n",
    "model.fit(features_train, target_train) #Обучение\n",
    "\n",
    "predict_valid = model.predict(features_valid) #Предсказани\n",
    "\n",
    "metrixs(features_valid, target_valid, predict_valid, model)"
   ]
  },
  {
   "cell_type": "code",
   "execution_count": 30,
   "metadata": {},
   "outputs": [
    {
     "name": "stdout",
     "output_type": "stream",
     "text": [
      "Полнота: 0.23444976076555024\n",
      "Точность: 0.5632183908045977\n",
      "F1-мера: 0.33108108108108103\n",
      "auc_roc: 0.7587588238496482\n",
      "Матрица ошибок: \n",
      " [[1506   76]\n",
      " [ 320   98]]\n",
      "CPU times: total: 78.1 ms\n",
      "Wall time: 27.9 ms\n"
     ]
    }
   ],
   "source": [
    "%%time\n",
    "# исследование метрики при использовании оптимальной модели логической регрессии\n",
    "\n",
    "model = LogisticRegression(random_state = 12345, \n",
    "                           solver='liblinear', max_iter = best_iter)        \n",
    "\n",
    "model.fit(features_train, target_train) #Обучение \n",
    "\n",
    "predict_valid= model.predict(features_valid) #Предсказани\n",
    "metrixs(features_valid, target_valid, predict_valid,  model)"
   ]
  },
  {
   "cell_type": "markdown",
   "metadata": {},
   "source": [
    "**Вывод:** Большенство моделей по матрице ошибок тяготеют к False Negative ответу в предсказаниях. Самая высокая оценка f1 наблюдается у модели \"Случайный лес\" - 0.5896. Самая низка, у логической регрессии - 0.331."
   ]
  },
  {
   "cell_type": "markdown",
   "metadata": {},
   "source": [
    "## Борьба с дисбалансом"
   ]
  },
  {
   "cell_type": "markdown",
   "metadata": {},
   "source": [
    "Для борьбы с дисбалансом создадим 2 функции по увелечению и уменьшению выборки.\n",
    "Т.к. лучшая метрика по f1 без учета дисбаланса классво наблюдается у модели \"Дерево решений\", то дальнейшее исследования будет проводится именно на данной модели МО."
   ]
  },
  {
   "cell_type": "code",
   "execution_count": 31,
   "metadata": {},
   "outputs": [],
   "source": [
    "def upsample(features, target, repeat):\n",
    "    \"\"\"Увелечение выборки в х раз\"\"\"\n",
    "    \n",
    "    features_zeros = pd.DataFrame(features[target == 0], index = None)\n",
    "    features_ones = pd.DataFrame(features[target == 1], index = None)\n",
    "    target_zeros = pd.Series(target[target == 0], index = None)\n",
    "    target_ones = pd.Series(target[target == 1], index = None)\n",
    "\n",
    "    features_upsampled = pd.concat(\n",
    "        [features_zeros] + [features_ones] * repeat)\n",
    "    \n",
    "    target_upsampled = pd.concat(\n",
    "        [target_zeros] + [target_ones] * repeat)\n",
    "    \n",
    "    features_upsampled, target_upsampled = shuffle(\n",
    "        features_upsampled, target_upsampled, random_state = 12345)\n",
    "    \n",
    "    return features_upsampled, target_upsampled"
   ]
  },
  {
   "cell_type": "code",
   "execution_count": 32,
   "metadata": {},
   "outputs": [],
   "source": [
    "def downsample(features, target, fraction):\n",
    "    \"\"\"Уменьшение выборки в х раз\"\"\"\n",
    "    \n",
    "    features_zeros = pd.DataFrame(features[target == 0], index = None)\n",
    "    features_ones = pd.DataFrame(features[target == 1], index = None)\n",
    "    target_zeros = pd.Series(target[target == 0], index = None)\n",
    "    target_ones = pd.Series(target[target == 1], index = None)\n",
    "\n",
    "    features_downsampled = pd.concat(\n",
    "        [features_zeros.sample(frac=fraction, random_state=12345)] + [features_ones])\n",
    "    \n",
    "    target_downsampled = pd.concat(\n",
    "        [target_zeros.sample(frac=fraction, random_state=12345)] + [target_ones])\n",
    "    \n",
    "    features_downsampled, target_downsampled = shuffle(\n",
    "        features_downsampled, target_downsampled, random_state=12345)\n",
    "    \n",
    "    \n",
    "    return features_downsampled, target_downsampled\n",
    "\n"
   ]
  },
  {
   "cell_type": "code",
   "execution_count": 33,
   "metadata": {},
   "outputs": [
    {
     "name": "stdout",
     "output_type": "stream",
     "text": [
      "CPU times: total: 594 ms\n",
      "Wall time: 272 ms\n"
     ]
    }
   ],
   "source": [
    "%%time\n",
    "# Модель дерева решений. \n",
    "# Устранение дисбаланса при помощи весов классов\n",
    "\n",
    "depth_weight = 0\n",
    "auc_roc_weight = 0   \n",
    "f1_weight = 0\n",
    "\n",
    "#Цикл для поиска лучшей модели\n",
    "for depth in range(1, 16): \n",
    "    model = DecisionTreeClassifier(max_depth=depth,\n",
    "                                   random_state = 12345, \n",
    "                                   class_weight = 'balanced')\n",
    "    \n",
    "    model.fit(features_train, target_train) #Обучение\n",
    "\n",
    "    #валидационная выборка\n",
    "    predict_valid = model.predict(features_valid) #Предсказание\n",
    "    \n",
    "    f1 = f1_score(target_valid, predict_valid)  #Оценка предсказания   \n",
    "    \n",
    "    \n",
    "    #Сохранение параметров лучшей модели \n",
    "    if f1 > f1_weight:\n",
    "        \n",
    "        probabilities = model.predict_proba(features_valid)\n",
    "        probabilities_one = probabilities[:, 1]\n",
    "        \n",
    "        depth_weight = depth\n",
    "        f1_weight = f1\n",
    "        auc_roc_weight = roc_auc_score(target_valid, probabilities_one)\n",
    "        conf_matrix_weight = confusion_matrix(target_valid, predict_valid)   \n",
    "                            "
   ]
  },
  {
   "cell_type": "code",
   "execution_count": 34,
   "metadata": {},
   "outputs": [
    {
     "name": "stdout",
     "output_type": "stream",
     "text": [
      "CPU times: total: 3.67 s\n",
      "Wall time: 3.68 s\n"
     ]
    }
   ],
   "source": [
    "%%time\n",
    "# Модель дерева решений. \n",
    "# Устранение дисбаланса увелечением выборки\n",
    "\n",
    "depth_up = 0\n",
    "f1_up = 0\n",
    "auc_roc_up = 0  \n",
    "upsampe_best = 0\n",
    "\n",
    "#Цикл для поиска лучшей модели\n",
    "for depth in range(1, 16): \n",
    "    model = DecisionTreeClassifier(max_depth=depth,\n",
    "                                   random_state = 12345)\n",
    "    for i in range(0, 10):\n",
    "        features_upsampled, target_upsampled = upsample(\n",
    "            features_train, target_train, i)\n",
    "\n",
    "        model.fit(features_upsampled, target_upsampled) #Обучение\n",
    "\n",
    "        #валидационная выборка\n",
    "        predict_valid = model.predict(features_valid) #Предсказание\n",
    "\n",
    "        f1 = f1_score(target_valid, predict_valid)  #Оценка предсказания\n",
    "         \n",
    "    \n",
    "        #Сохранение параметров лучшей модели \n",
    "        if f1 > f1_up:\n",
    "            \n",
    "            probabilities = model.predict_proba(features_valid)\n",
    "            probabilities_one = probabilities[:, 1]\n",
    "            \n",
    "            depth_up = depth\n",
    "            f1_up = f1\n",
    "            upsampe_best = i\n",
    "            auc_roc_up = roc_auc_score(target_valid, probabilities_one)  \n",
    "            conf_matrix_up = confusion_matrix(target_valid, predict_valid) \n",
    "            "
   ]
  },
  {
   "cell_type": "code",
   "execution_count": 35,
   "metadata": {},
   "outputs": [
    {
     "name": "stdout",
     "output_type": "stream",
     "text": [
      "CPU times: total: 1.97 s\n",
      "Wall time: 1.97 s\n"
     ]
    }
   ],
   "source": [
    "%%time\n",
    "# Модель дерева решений. \n",
    "# Устранение дисбаланса уменьшением выборки\n",
    "\n",
    "depth_down = 0\n",
    "f1_down = 0\n",
    "auc_roc_down = 0  \n",
    "downsample_best = 0\n",
    "\n",
    "#Цикл для поиска лучшей модели\n",
    "for depth in range(1, 16): \n",
    "    model = DecisionTreeClassifier(max_depth=depth,\n",
    "                                   random_state = 12345)\n",
    "    \n",
    "    for i in np.arange(0.1, 1, 0.1):\n",
    "        features_downsampled, target_downsampled = downsample(\n",
    "            features_train, target_train, i)\n",
    "        \n",
    "        model.fit(features_downsampled, target_downsampled) #Обучение\n",
    "\n",
    "        #валидационная выборка\n",
    "        predict_valid = model.predict(features_valid) #Предсказание\n",
    "\n",
    "        f1 = f1_score(target_valid, predict_valid)  #Оценка предсказания\n",
    "        \n",
    "            \n",
    "        #Сохранение параметров лучшей модели \n",
    "        if f1 > f1_down:\n",
    "            \n",
    "            probabilities = model.predict_proba(features_valid)\n",
    "            probabilities_one = probabilities[:, 1]\n",
    "            \n",
    "            depth_down = depth\n",
    "            f1_down = f1\n",
    "            downsample_best = i\n",
    "            auc_roc_down = roc_auc_score(target_valid, probabilities_one)  \n",
    "            conf_matrix_down = confusion_matrix(target_valid, predict_valid) \n",
    "            \n"
   ]
  },
  {
   "cell_type": "code",
   "execution_count": 36,
   "metadata": {},
   "outputs": [
    {
     "name": "stdout",
     "output_type": "stream",
     "text": [
      "_____Дисбаланс - изменение весов классов_____\n",
      "Лучшая глубина дерева: 5\n",
      "Лучшая метрика f1: 0.5963791267305644\n",
      "Лучшая метрика auc_roc: 0.8310244134068074\n",
      "Матрица ошибок: \n",
      " [[1341  241]\n",
      " [ 138  280]]\n"
     ]
    }
   ],
   "source": [
    "print('_____Дисбаланс - изменение весов классов_____')\n",
    "print('Лучшая глубина дерева:', depth_weight)\n",
    "print('Лучшая метрика f1:', f1_weight)\n",
    "print('Лучшая метрика auc_roc:', auc_roc_weight)\n",
    "print('Матрица ошибок:','\\n', conf_matrix_weight)"
   ]
  },
  {
   "cell_type": "code",
   "execution_count": 37,
   "metadata": {},
   "outputs": [
    {
     "name": "stdout",
     "output_type": "stream",
     "text": [
      "_____Дисбаланс - увелечение выборки_____\n",
      "Лучшая глубина дерева: 6\n",
      "Лучшая метрика f1: 0.5977961432506886\n",
      "Лучшая метрика auc_roc: 0.8210565633714213\n",
      "Увелечение выборки в 2 раз\n",
      "Матрица ошибок: \n",
      " [[1491   91]\n",
      " [ 201  217]]\n"
     ]
    }
   ],
   "source": [
    "print('_____Дисбаланс - увелечение выборки_____')\n",
    "print('Лучшая глубина дерева:', depth_up)\n",
    "print('Лучшая метрика f1:', f1_up)\n",
    "print('Лучшая метрика auc_roc:', auc_roc_up)\n",
    "print(\"Увелечение выборки в\",upsampe_best , \"раз\")\n",
    "print('Матрица ошибок:','\\n', conf_matrix_up)"
   ]
  },
  {
   "cell_type": "code",
   "execution_count": 38,
   "metadata": {},
   "outputs": [
    {
     "name": "stdout",
     "output_type": "stream",
     "text": [
      "_____Дисбаланс - уменьшение выборки_____\n",
      "Лучшая глубина дерева: 8\n",
      "Лучшая метрика f1: 0.5867665418227216\n",
      "Лучшая метрика auc_roc: 0.793673897132211\n",
      "Уменьшение выборки в 0.6 раз\n",
      "Матрица ошибок: \n",
      " [[1434  148]\n",
      " [ 183  235]]\n"
     ]
    }
   ],
   "source": [
    "print('_____Дисбаланс - уменьшение выборки_____')\n",
    "print('Лучшая глубина дерева:', depth_down)\n",
    "print('Лучшая метрика f1:', f1_down)\n",
    "print('Лучшая метрика auc_roc:', auc_roc_down)\n",
    "print(\"Уменьшение выборки в\",downsample_best , \"раз\")\n",
    "print('Матрица ошибок:','\\n', conf_matrix_down)"
   ]
  },
  {
   "cell_type": "code",
   "execution_count": 39,
   "metadata": {},
   "outputs": [
    {
     "name": "stdout",
     "output_type": "stream",
     "text": [
      "CPU times: total: 44.5 s\n",
      "Wall time: 44.6 s\n"
     ]
    }
   ],
   "source": [
    "%%time\n",
    "# Модель случайный лес\n",
    "# Устранение дисбаланса при помощи весов классов\n",
    "\n",
    "depth_weight = 0\n",
    "est_weight = 0\n",
    "f1_weight = 0\n",
    "auc_roc_weight = 0  \n",
    "\n",
    "#Цикл для поиска лучшей модели\n",
    "for est in range(10, 111, 10):\n",
    "    for depth in range (1, 17):\n",
    "        model = RandomForestClassifier(random_state=12345,\n",
    "                                       n_estimators=est, max_depth=depth,\n",
    "                                      class_weight = 'balanced')\n",
    "        \n",
    "        model.fit(features_downsampled, target_downsampled) #Обучение\n",
    "\n",
    "        predict_valid = model.predict(features_valid) #Предсказани\n",
    "        f1 = f1_score(target_valid, predict_valid)   #Оценка f1\n",
    "        \n",
    "        #Сохранение параметров лучшей модели \n",
    "        if f1 > f1_best:\n",
    "                \n",
    "            probabilities = model.predict_proba(features_valid)\n",
    "            probabilities_one = probabilities[:, 1]\n",
    "                \n",
    "            f1_weight = f1\n",
    "            est_weight = est\n",
    "            depth_weight = depth\n",
    "            auc_roc_weight = roc_auc_score(target_valid, probabilities_one) \n",
    "            conf_matrix_weight = confusion_matrix(target_valid, predict_valid)"
   ]
  },
  {
   "cell_type": "code",
   "execution_count": 40,
   "metadata": {},
   "outputs": [
    {
     "name": "stdout",
     "output_type": "stream",
     "text": [
      "CPU times: total: 10min 17s\n",
      "Wall time: 10min 19s\n"
     ]
    }
   ],
   "source": [
    "%%time\n",
    "# Модель случайный лес\n",
    "# Устранение дисбаланса увелечением выборки\n",
    "\n",
    "depth_up = 0\n",
    "est_up = 0\n",
    "f1_up = 0\n",
    "auc_roc_up = 0  \n",
    "upwnsample_best = 0\n",
    "\n",
    "#Цикл для поиска лучшей модели\n",
    "for est in range(10, 111, 10):\n",
    "    for depth in range (1, 17):\n",
    "        model = RandomForestClassifier(random_state=12345,\n",
    "                                       n_estimators=est, max_depth=depth)\n",
    "        for i in range(0, 10):\n",
    "            features_upsampled, target_upsampled = upsample(\n",
    "                features_train, target_train, i)\n",
    "        \n",
    "            model.fit(features_upsampled, target_upsampled) #Обучение\n",
    "\n",
    "            predict_valid = model.predict(features_valid) #Предсказани\n",
    "            f1 = f1_score(target_valid, predict_valid)   #Оценка f1\n",
    "\n",
    "            #Сохранение параметров лучшей модели \n",
    "            if f1 > f1_best:\n",
    "                \n",
    "                probabilities = model.predict_proba(features_valid)\n",
    "                probabilities_one = probabilities[:, 1]\n",
    "                \n",
    "                f1_up = f1\n",
    "                est_up = est\n",
    "                depth_up = depth\n",
    "                auc_roc_up = roc_auc_score(target_valid, probabilities_one) \n",
    "                upwnsample_best = i\n",
    "                conf_matrix_up = confusion_matrix(target_valid, predict_valid)\n",
    "                \n",
    "                "
   ]
  },
  {
   "cell_type": "code",
   "execution_count": 41,
   "metadata": {},
   "outputs": [
    {
     "name": "stdout",
     "output_type": "stream",
     "text": [
      "CPU times: total: 5min 29s\n",
      "Wall time: 5min 37s\n"
     ]
    }
   ],
   "source": [
    "%%time\n",
    "# Модель случайный лес\n",
    "# Устранение дисбаланса уменьшением выборки\n",
    "\n",
    "depth_down = 0\n",
    "est_down = 0\n",
    "f1_down = 0\n",
    "auc_roc_down = 0  \n",
    "downsample_best = 0\n",
    "\n",
    "#Цикл для поиска лучшей модели\n",
    "for est in range(10, 111, 10):\n",
    "    for depth in range (1, 17):\n",
    "        model = RandomForestClassifier(random_state=12345,\n",
    "                                       n_estimators=est, max_depth=depth)\n",
    "        for i in np.arange(0.1, 1, 0.1):\n",
    "            features_downsampled, target_downsampled = downsample(\n",
    "                features_train, target_train, i)\n",
    "        \n",
    "            model.fit(features_downsampled, target_downsampled) #Обучение\n",
    "\n",
    "\n",
    "            predict_valid = model.predict(features_valid) #Предсказани\n",
    "            f1 = f1_score(target_valid, predict_valid)   #Оценка f1\n",
    "\n",
    "            #Сохранение параметров лучшей модели \n",
    "            if f1 > f1_best:\n",
    "                \n",
    "                probabilities = model.predict_proba(features_valid)\n",
    "                probabilities_one = probabilities[:, 1]\n",
    "                \n",
    "                \n",
    "                f1_down = f1\n",
    "                est_down = est\n",
    "                depth_down = depth\n",
    "                auc_roc_down = roc_auc_score(target_valid, probabilities_one) \n",
    "                downsample_best = i\n",
    "                conf_matrix_down = confusion_matrix(target_valid, predict_valid)\n"
   ]
  },
  {
   "cell_type": "code",
   "execution_count": 42,
   "metadata": {},
   "outputs": [
    {
     "name": "stdout",
     "output_type": "stream",
     "text": [
      "_____Дисбаланс - изменение весов классов_____\n",
      "Лучшая глубина дерева: 16\n",
      "Количество листьев: 110\n",
      "Лучшая метрика f1: 0.5988372093023256\n",
      "Лучшая метрика auc_roc: 0.8436575650711654\n",
      "Матрица ошибок: \n",
      " [[1518   64]\n",
      " [ 212  206]]\n"
     ]
    }
   ],
   "source": [
    "print('_____Дисбаланс - изменение весов классов_____')\n",
    "print('Лучшая глубина дерева:', depth_weight)\n",
    "print('Количество листьев:', est_weight)\n",
    "print('Лучшая метрика f1:', f1_weight)\n",
    "print('Лучшая метрика auc_roc:', auc_roc_weight)\n",
    "print('Матрица ошибок:','\\n', conf_matrix_weight)"
   ]
  },
  {
   "cell_type": "code",
   "execution_count": 43,
   "metadata": {},
   "outputs": [
    {
     "name": "stdout",
     "output_type": "stream",
     "text": [
      "_____Дисбаланс - увелечение выборки_____\n",
      "Лучшая глубина дерева: 16\n",
      "Количество листьев: 110\n",
      "Лучшая метрика f1: 0.6032138442521632\n",
      "Лучшая метрика auc_roc: 0.8381076887714057\n",
      "Увелечение выборки в 9 раз\n",
      "Матрица ошибок: \n",
      " [[1435  147]\n",
      " [ 174  244]]\n"
     ]
    }
   ],
   "source": [
    "print('_____Дисбаланс - увелечение выборки_____')\n",
    "print('Лучшая глубина дерева:', depth_up)\n",
    "print('Количество листьев:', est_up)\n",
    "print('Лучшая метрика f1:', f1_up)\n",
    "print('Лучшая метрика auc_roc:', auc_roc_up)\n",
    "print(\"Увелечение выборки в\",upwnsample_best , \"раз\")\n",
    "print('Матрица ошибок:','\\n', conf_matrix_up)"
   ]
  },
  {
   "cell_type": "code",
   "execution_count": 44,
   "metadata": {},
   "outputs": [
    {
     "name": "stdout",
     "output_type": "stream",
     "text": [
      "_____Дисбаланс - уменьшение выборки_____\n",
      "Лучшая глубина дерева: 16\n",
      "Количество листьев: 110\n",
      "Лучшая метрика f1: 0.5889212827988337\n",
      "Лучшая метрика auc_roc: 0.8402421984163948\n",
      "Уменьшение выборки в 0.9 раз\n",
      "Матрица ошибок: \n",
      " [[1516   66]\n",
      " [ 216  202]]\n"
     ]
    }
   ],
   "source": [
    "print('_____Дисбаланс - уменьшение выборки_____')\n",
    "print('Лучшая глубина дерева:', depth_down)\n",
    "print('Количество листьев:', est_down)\n",
    "print('Лучшая метрика f1:', f1_down)\n",
    "print('Лучшая метрика auc_roc:', auc_roc_down)\n",
    "print(\"Уменьшение выборки в\",downsample_best , \"раз\")\n",
    "print('Матрица ошибок:','\\n', conf_matrix_down)"
   ]
  },
  {
   "cell_type": "code",
   "execution_count": 45,
   "metadata": {},
   "outputs": [
    {
     "name": "stdout",
     "output_type": "stream",
     "text": [
      "CPU times: total: 828 ms\n",
      "Wall time: 213 ms\n"
     ]
    }
   ],
   "source": [
    "%%time\n",
    "# Логическая регрессия\n",
    "# Устранение дисбаланса при помощи весов классов\n",
    "\n",
    "iter_weight = 0\n",
    "f1_weight = 0\n",
    "auc_roc_weight = 0  \n",
    "\n",
    "#Цикл для поиска лучшей модели\n",
    "for iters in range (100, 2000, 100):\n",
    "\n",
    "    model = LogisticRegression(random_state = 12345, \n",
    "                               solver='liblinear', max_iter = iters,\n",
    "                              class_weight = 'balanced')\n",
    "    \n",
    "    model.fit(features_train, target_train) #Обучение \n",
    "    \n",
    "    predict_valid = model.predict(features_valid) #Предсказание \n",
    "    f1 = f1_score(target_valid, predict_valid)   #Оценка f1\n",
    "    \n",
    "    #Сохранение параметров лучшей модели \n",
    "    if f1 > f1_weight:\n",
    "        \n",
    "        probabilities = model.predict_proba(features_valid)\n",
    "        probabilities_one = probabilities[:, 1]\n",
    "        \n",
    "        f1_weight = f1\n",
    "        iter_weight = iters\n",
    "\n",
    "        auc_roc_weight = roc_auc_score(target_valid, probabilities_one) \n",
    "        conf_matrix_weight = confusion_matrix(target_valid, predict_valid)\n",
    "        \n",
    "        "
   ]
  },
  {
   "cell_type": "code",
   "execution_count": 46,
   "metadata": {},
   "outputs": [
    {
     "name": "stdout",
     "output_type": "stream",
     "text": [
      "CPU times: total: 13 s\n",
      "Wall time: 3.8 s\n"
     ]
    }
   ],
   "source": [
    "%%time\n",
    "# Логическая регрессия\n",
    "# Устранение дисбаланса увелечением выборки\n",
    "\n",
    "iter_up = 0\n",
    "f1_up = 0\n",
    "auc_roc_up = 0  \n",
    "upsample_best = 0\n",
    "\n",
    "#Цикл для поиска лучшей модели\n",
    "for iters in range (100, 2000, 100):\n",
    "\n",
    "    model = LogisticRegression(random_state = 12345, \n",
    "                               solver='liblinear', max_iter = iters)\n",
    "    \n",
    "    for i in range(1, 10):\n",
    "        \n",
    "        features_upsampled, target_upsampled = upsample(\n",
    "                features_train, target_train, i)\n",
    "        \n",
    "        model.fit(features_upsampled, target_upsampled)\n",
    "    \n",
    "\n",
    "        predict_valid = model.predict(features_valid) #Предсказание \n",
    "        f1 = f1_score(target_valid, predict_valid)   #Оценка f1\n",
    "\n",
    "        #Сохранение параметров лучшей модели \n",
    "        if f1 > f1_up:\n",
    "\n",
    "            upsample_best = i\n",
    "\n",
    "            f1_up = f1\n",
    "            iter_up = iters \n",
    "\n",
    "            probabilities = model.predict_proba(features_valid)\n",
    "            probabilities_one = probabilities[:, 1]\n",
    "\n",
    "\n",
    "            auc_roc_up = roc_auc_score(target_valid, probabilities_one) \n",
    "            conf_matrix_up = confusion_matrix(target_valid, predict_valid)"
   ]
  },
  {
   "cell_type": "code",
   "execution_count": 47,
   "metadata": {},
   "outputs": [
    {
     "name": "stdout",
     "output_type": "stream",
     "text": [
      "CPU times: total: 7.2 s\n",
      "Wall time: 1.87 s\n"
     ]
    }
   ],
   "source": [
    "%%time\n",
    "# Логическая регрессия\n",
    "# Устранение дисбаланса уменьшением выборки\n",
    "iter_down = 0\n",
    "f1_down = 0\n",
    "auc_roc_down = 0  \n",
    "downsample_best = 0\n",
    "\n",
    "#Цикл для поиска лучшей модели\n",
    "for iters in range (100, 2000, 100):\n",
    "\n",
    "    model = LogisticRegression(random_state = 12345, \n",
    "                               solver='liblinear', max_iter = iters)        \n",
    "    \n",
    "    for i in np.arange(0.1, 1, 0.1):\n",
    "        features_downsampled, target_downsampled = downsample(\n",
    "                features_train, target_train, i)\n",
    "        \n",
    "        model.fit(features_downsampled, target_downsampled) #Обучение\n",
    "\n",
    "        predict_valid = model.predict(features_valid) #Предсказание \n",
    "        f1 = f1_score(target_valid, predict_valid)   #Оценка f1\n",
    "\n",
    "        #Сохранение параметров лучшей модели \n",
    "        if f1 > f1_down:\n",
    "\n",
    "            f1_down = f1\n",
    "            iter_down = i \n",
    "\n",
    "            probabilities = model.predict_proba(features_valid)\n",
    "            probabilities_one = probabilities[:, 1]\n",
    "\n",
    "            auc_roc_down = roc_auc_score(target_valid, probabilities_one) \n",
    "            conf_matrix_down = confusion_matrix(target_valid, predict_valid)\n",
    "\n"
   ]
  },
  {
   "cell_type": "code",
   "execution_count": 48,
   "metadata": {},
   "outputs": [
    {
     "name": "stdout",
     "output_type": "stream",
     "text": [
      "_____Дисбаланс - изменение весов классов_____\n",
      "Количество итераций: 100\n",
      "Лучшая метрика f1: 0.4888507718696398\n",
      "Лучшая метрика auc_roc: 0.7636160997828441\n",
      "Матрица ошибок: \n",
      " [[1119  463]\n",
      " [ 133  285]]\n"
     ]
    }
   ],
   "source": [
    "print('_____Дисбаланс - изменение весов классов_____')\n",
    "print('Количество итераций:', iter_weight)\n",
    "print('Лучшая метрика f1:', f1_weight)\n",
    "print('Лучшая метрика auc_roc:', auc_roc_weight)\n",
    "print('Матрица ошибок:','\\n', conf_matrix_weight)"
   ]
  },
  {
   "cell_type": "code",
   "execution_count": 49,
   "metadata": {},
   "outputs": [
    {
     "name": "stdout",
     "output_type": "stream",
     "text": [
      "_____Дисбаланс - увелечение выборки_____\n",
      "Лучшая глубина дерева: 16\n",
      "Лучшая метрика f1: 0.5\n",
      "Лучшая метрика auc_roc: 0.7626452494873547\n",
      "Увелечение в 9\n",
      "Матрица ошибок: \n",
      " [[1250  332]\n",
      " [ 168  250]]\n"
     ]
    }
   ],
   "source": [
    "print('_____Дисбаланс - увелечение выборки_____')\n",
    "print('Лучшая глубина дерева:', depth_up)\n",
    "print('Лучшая метрика f1:', f1_up)\n",
    "print('Лучшая метрика auc_roc:', auc_roc_up)\n",
    "print(\"Увелечение в\", upwnsample_best)\n",
    "print('Матрица ошибок:','\\n', conf_matrix_up)"
   ]
  },
  {
   "cell_type": "code",
   "execution_count": 50,
   "metadata": {},
   "outputs": [
    {
     "name": "stdout",
     "output_type": "stream",
     "text": [
      "_____Дисбаланс - увелечение выборки_____\n",
      "Лучшая глубина дерева: 16\n",
      "Лучшая метрика f1: 0.5043290043290043\n",
      "Лучшая метрика auc_roc: 0.7624819288768987\n",
      "Увелечение в 0\n",
      "Матрица ошибок: \n",
      " [[1309  273]\n",
      " [ 185  233]]\n"
     ]
    }
   ],
   "source": [
    "print('_____Дисбаланс - увелечение выборки_____')\n",
    "print('Лучшая глубина дерева:', depth_down)\n",
    "print('Лучшая метрика f1:', f1_down)\n",
    "print('Лучшая метрика auc_roc:', auc_roc_down)\n",
    "print(\"Увелечение в\", downsample_best)\n",
    "print('Матрица ошибок:','\\n', conf_matrix_down)"
   ]
  },
  {
   "cell_type": "markdown",
   "metadata": {},
   "source": [
    "**Вывод:** Балансировка весов классов значительно увеличивает f1 оценку. Самым лучшим способом для борьбы с дисбалансом классов, для данной модели, является увелечение тренировочной выборки для обучения."
   ]
  },
  {
   "cell_type": "markdown",
   "metadata": {},
   "source": [
    "## Тестирование модели"
   ]
  },
  {
   "cell_type": "code",
   "execution_count": 52,
   "metadata": {},
   "outputs": [
    {
     "name": "stdout",
     "output_type": "stream",
     "text": [
      "Полнота: 0.5650118203309693\n",
      "Точность: 0.6565934065934066\n",
      "F1-мера: 0.6073697585768741\n",
      "auc_roc: 0.8513374138584948\n",
      "Матрица ошибок: \n",
      " [[1452  125]\n",
      " [ 184  239]]\n"
     ]
    },
    {
     "data": {
      "image/png": "[encoded data removed]",
      "text/plain": [
       "<Figure size 432x288 with 1 Axes>"
      ]
     },
     "metadata": {
      "needs_background": "light"
     },
     "output_type": "display_data"
    }
   ],
   "source": [
    "# создание модели с наилучшими параметрами\n",
    "model = RandomForestClassifier(random_state=12345,\n",
    "                                       n_estimators=110, max_depth=16,\n",
    "                                      class_weight = 'balanced')\n",
    "\n",
    "# увелечение выборки\n",
    "features_upsampled, target_upsampled = upsample(\n",
    "                features_train, target_train, 9)\n",
    "        \n",
    "model.fit(features_upsampled, target_upsampled)\n",
    "\n",
    "predict_test= model.predict(features_test) #предсказание по тестовой выборке\n",
    "\n",
    "# печать результатов метрик\n",
    "metrixs(features_test, target_test, predict_test, model)\n",
    "\n",
    "# запись результатов модели при изменении порогов положительного ответа\n",
    "probabilities_test = model.predict_proba(features_test)\n",
    "probabilities_one_test = probabilities_test[:, 1]\n",
    "\n",
    "fpr, tpr, thresholds = roc_curve(target_test, probabilities_one_test)\n",
    "\n",
    "plt.figure()\n",
    "\n",
    "# построение графика модели\n",
    "plt.step(fpr, tpr)\n",
    "\n",
    "# ROC-кривая случайной модели\n",
    "plt.plot([0,1], linestyle = '--')\n",
    "\n",
    "plt.ylim([0, 1])\n",
    "plt.xlim([0, 1])\n",
    "\n",
    "plt.xlabel(\"False Positive Rate\")\n",
    "plt.ylabel(\"True Positive Rate\")\n",
    "plt.title(\"ROC-кривая\")\n",
    "\n",
    "plt.show()\n",
    "\n",
    "\n"
   ]
  },
  {
   "cell_type": "markdown",
   "metadata": {},
   "source": [
    "**Вывод:** Лучший результат f1 метрики для тестовой выборки с наилучшими параметрами модели составляет 0.6073. Показатель auc_roc составляет 0.85133."
   ]
  },
  {
   "cell_type": "markdown",
   "metadata": {},
   "source": [
    "<div style=\"border:solid steelgreen 4px; padding: 20px; border-radius: 15px\">\n",
    "<h1>Итог:</h1>\n",
    "\n",
    ">В ходе работы были выполнены следующие операции:\n",
    ">>- Изучена общая информация о представленном датасете\n",
    ">>- Подготовка датасета для обучения моделей МО\n",
    ">>- Исследованы результаты работы различных моделей без учета дисбаланса классов\n",
    ">>- Исследованы результаты моделей с учетом дисбаланса классов\n",
    ">>- Проверены показатели метрики выбранной модели на тестовой выборке\n",
    "   \n",
    "\n",
    "> В ходе исследования была выявлена самая лучшая модель для решения задачи классификации (разторгнет клиент договор с банком или нет) - \"Случайный лес\". Для достижение наилучших результатов предсказания данной модели, необходимо учесть в параметрах дисбаланс классов и увеличить обучающую выборку в 9 раз. Благодоря этому показатели F1-меры достигаю 0.6073 и auc_roc - 0.85133. \n",
    "    "
   ]
  },
  {
   "cell_type": "code",
   "execution_count": null,
   "metadata": {},
   "outputs": [],
   "source": []
  }
 ],
 "metadata": {
  "ExecuteTimeLog": [
   {
    "duration": 448,
    "start_time": "2023-05-12T14:11:13.825Z"
   },
   {
    "duration": 193,
    "start_time": "2023-05-12T14:11:58.610Z"
   },
   {
    "duration": 24,
    "start_time": "2023-05-12T14:12:04.826Z"
   },
   {
    "duration": 16,
    "start_time": "2023-05-12T14:12:12.626Z"
   },
   {
    "duration": 17,
    "start_time": "2023-05-12T14:12:30.097Z"
   },
   {
    "duration": 58,
    "start_time": "2023-05-12T14:19:27.674Z"
   },
   {
    "duration": 22,
    "start_time": "2023-05-12T14:19:51.628Z"
   },
   {
    "duration": 97,
    "start_time": "2023-05-12T14:40:42.505Z"
   },
   {
    "duration": 16,
    "start_time": "2023-05-12T14:40:47.964Z"
   },
   {
    "duration": 17,
    "start_time": "2023-05-12T14:40:56.611Z"
   },
   {
    "duration": 24,
    "start_time": "2023-05-12T14:41:01.355Z"
   },
   {
    "duration": 8,
    "start_time": "2023-05-12T14:42:55.333Z"
   },
   {
    "duration": 533,
    "start_time": "2023-05-12T14:43:00.286Z"
   },
   {
    "duration": 7,
    "start_time": "2023-05-12T14:47:54.797Z"
   },
   {
    "duration": 5,
    "start_time": "2023-05-12T14:48:02.491Z"
   },
   {
    "duration": 6,
    "start_time": "2023-05-12T14:48:27.886Z"
   },
   {
    "duration": 38,
    "start_time": "2023-05-12T14:53:13.064Z"
   },
   {
    "duration": 21,
    "start_time": "2023-05-12T14:53:21.624Z"
   },
   {
    "duration": 21,
    "start_time": "2023-05-12T14:53:58.105Z"
   },
   {
    "duration": 21,
    "start_time": "2023-05-12T14:54:21.364Z"
   },
   {
    "duration": 17,
    "start_time": "2023-05-12T14:54:58.567Z"
   },
   {
    "duration": 7,
    "start_time": "2023-05-12T14:55:27.529Z"
   },
   {
    "duration": 23,
    "start_time": "2023-05-12T14:55:36.563Z"
   },
   {
    "duration": 16,
    "start_time": "2023-05-12T14:55:56.463Z"
   },
   {
    "duration": 48,
    "start_time": "2023-05-12T15:07:11.490Z"
   },
   {
    "duration": 15,
    "start_time": "2023-05-12T15:07:19.193Z"
   },
   {
    "duration": 6,
    "start_time": "2023-05-12T15:07:27.473Z"
   },
   {
    "duration": 179,
    "start_time": "2023-05-12T15:15:45.985Z"
   },
   {
    "duration": 5,
    "start_time": "2023-05-12T15:41:13.431Z"
   },
   {
    "duration": 137,
    "start_time": "2023-05-12T15:41:20.937Z"
   },
   {
    "duration": 781,
    "start_time": "2023-05-12T15:43:35.236Z"
   },
   {
    "duration": 20,
    "start_time": "2023-05-12T15:43:43.085Z"
   },
   {
    "duration": 61,
    "start_time": "2023-05-12T16:02:29.052Z"
   },
   {
    "duration": 7,
    "start_time": "2023-05-12T16:02:33.712Z"
   },
   {
    "duration": 42,
    "start_time": "2023-05-12T16:02:50.578Z"
   },
   {
    "duration": 73,
    "start_time": "2023-05-12T16:02:53.518Z"
   },
   {
    "duration": 6,
    "start_time": "2023-05-12T16:02:53.990Z"
   },
   {
    "duration": 4,
    "start_time": "2023-05-12T16:03:02.520Z"
   },
   {
    "duration": 6,
    "start_time": "2023-05-12T16:03:08.990Z"
   },
   {
    "duration": 100,
    "start_time": "2023-05-12T16:03:11.898Z"
   },
   {
    "duration": 3,
    "start_time": "2023-05-12T16:03:54.514Z"
   },
   {
    "duration": 17,
    "start_time": "2023-05-12T16:03:54.946Z"
   },
   {
    "duration": 11,
    "start_time": "2023-05-12T16:03:55.342Z"
   },
   {
    "duration": 283,
    "start_time": "2023-05-12T16:03:56.997Z"
   },
   {
    "duration": 7,
    "start_time": "2023-05-12T16:04:23.190Z"
   },
   {
    "duration": 292,
    "start_time": "2023-05-12T16:04:29.138Z"
   },
   {
    "duration": 9,
    "start_time": "2023-05-12T16:04:49.206Z"
   },
   {
    "duration": 11,
    "start_time": "2023-05-12T16:04:54.343Z"
   },
   {
    "duration": 6,
    "start_time": "2023-05-12T16:05:01.238Z"
   },
   {
    "duration": 280,
    "start_time": "2023-05-12T16:05:01.959Z"
   },
   {
    "duration": 12,
    "start_time": "2023-05-12T16:05:03.106Z"
   },
   {
    "duration": 279,
    "start_time": "2023-05-12T16:05:26.786Z"
   },
   {
    "duration": 4,
    "start_time": "2023-05-12T16:05:31.639Z"
   },
   {
    "duration": 293,
    "start_time": "2023-05-12T16:05:37.394Z"
   },
   {
    "duration": 33,
    "start_time": "2023-05-12T16:11:01.524Z"
   },
   {
    "duration": 44,
    "start_time": "2023-05-12T16:11:11.148Z"
   },
   {
    "duration": 93,
    "start_time": "2023-05-12T16:18:28.394Z"
   },
   {
    "duration": 23,
    "start_time": "2023-05-12T16:18:33.403Z"
   },
   {
    "duration": 257,
    "start_time": "2023-05-12T16:18:43.747Z"
   },
   {
    "duration": 261,
    "start_time": "2023-05-12T16:18:52.821Z"
   },
   {
    "duration": 472,
    "start_time": "2023-05-12T16:18:56.456Z"
   },
   {
    "duration": 503,
    "start_time": "2023-05-12T16:23:27.889Z"
   },
   {
    "duration": 4,
    "start_time": "2023-05-12T16:23:40.328Z"
   },
   {
    "duration": 6,
    "start_time": "2023-05-12T16:23:40.732Z"
   },
   {
    "duration": 467,
    "start_time": "2023-05-12T16:23:41.139Z"
   },
   {
    "duration": 10278,
    "start_time": "2023-05-12T16:26:47.452Z"
   },
   {
    "duration": 15910,
    "start_time": "2023-05-12T16:27:05.835Z"
   },
   {
    "duration": 59598,
    "start_time": "2023-05-12T16:27:43.073Z"
   },
   {
    "duration": 3795,
    "start_time": "2023-05-12T16:32:36.354Z"
   },
   {
    "duration": 3770,
    "start_time": "2023-05-12T16:33:03.479Z"
   },
   {
    "duration": 4,
    "start_time": "2023-05-12T16:41:48.604Z"
   },
   {
    "duration": 4,
    "start_time": "2023-05-12T16:42:04.661Z"
   },
   {
    "duration": 6,
    "start_time": "2023-05-12T16:42:24.241Z"
   },
   {
    "duration": 3,
    "start_time": "2023-05-12T16:46:25.891Z"
   },
   {
    "duration": 486,
    "start_time": "2023-05-12T16:47:25.716Z"
   },
   {
    "duration": 59980,
    "start_time": "2023-05-12T16:47:33.481Z"
   },
   {
    "duration": 39,
    "start_time": "2023-05-12T16:55:56.071Z"
   },
   {
    "duration": 3741,
    "start_time": "2023-05-12T16:56:00.414Z"
   },
   {
    "duration": 12,
    "start_time": "2023-05-12T18:36:31.364Z"
   },
   {
    "duration": 4,
    "start_time": "2023-05-12T18:47:23.062Z"
   },
   {
    "duration": 3,
    "start_time": "2023-05-12T18:48:07.460Z"
   },
   {
    "duration": 11,
    "start_time": "2023-05-12T18:48:15.558Z"
   },
   {
    "duration": 125,
    "start_time": "2023-05-12T18:48:31.506Z"
   },
   {
    "duration": 43,
    "start_time": "2023-05-12T18:52:22.214Z"
   },
   {
    "duration": 6,
    "start_time": "2023-05-12T18:52:29.688Z"
   },
   {
    "duration": 16,
    "start_time": "2023-05-12T18:52:34.094Z"
   },
   {
    "duration": 22,
    "start_time": "2023-05-12T18:52:46.828Z"
   },
   {
    "duration": 58,
    "start_time": "2023-05-12T18:53:25.065Z"
   },
   {
    "duration": 69,
    "start_time": "2023-05-12T18:53:29.294Z"
   },
   {
    "duration": 5,
    "start_time": "2023-05-12T18:53:33.486Z"
   },
   {
    "duration": 3,
    "start_time": "2023-05-12T18:53:36.495Z"
   },
   {
    "duration": 8,
    "start_time": "2023-05-12T19:04:41.399Z"
   },
   {
    "duration": 513,
    "start_time": "2023-05-12T19:04:55.489Z"
   },
   {
    "duration": 10,
    "start_time": "2023-05-12T19:05:12.447Z"
   },
   {
    "duration": 481,
    "start_time": "2023-05-12T19:05:13.401Z"
   },
   {
    "duration": 7,
    "start_time": "2023-05-12T19:05:27.887Z"
   },
   {
    "duration": 499,
    "start_time": "2023-05-12T19:05:28.789Z"
   },
   {
    "duration": 7,
    "start_time": "2023-05-12T19:05:35.203Z"
   },
   {
    "duration": 514,
    "start_time": "2023-05-12T19:05:37.811Z"
   },
   {
    "duration": 10,
    "start_time": "2023-05-12T19:05:46.637Z"
   },
   {
    "duration": 541,
    "start_time": "2023-05-12T19:05:48.572Z"
   },
   {
    "duration": 523,
    "start_time": "2023-05-12T19:05:55.790Z"
   },
   {
    "duration": 10,
    "start_time": "2023-05-12T19:10:58.070Z"
   },
   {
    "duration": 535,
    "start_time": "2023-05-12T19:11:02.592Z"
   },
   {
    "duration": 9,
    "start_time": "2023-05-12T19:12:21.170Z"
   },
   {
    "duration": 133,
    "start_time": "2023-05-12T19:12:34.691Z"
   },
   {
    "duration": 67523,
    "start_time": "2023-05-12T19:12:45.484Z"
   },
   {
    "duration": 10,
    "start_time": "2023-05-12T19:16:00.159Z"
   },
   {
    "duration": 496,
    "start_time": "2023-05-12T19:16:03.670Z"
   },
   {
    "duration": 65086,
    "start_time": "2023-05-12T19:16:07.374Z"
   },
   {
    "duration": 8,
    "start_time": "2023-05-12T19:17:29.888Z"
   },
   {
    "duration": 562,
    "start_time": "2023-05-12T19:17:31.798Z"
   },
   {
    "duration": 63619,
    "start_time": "2023-05-12T19:17:33.778Z"
   },
   {
    "duration": 464,
    "start_time": "2023-05-12T19:21:40.763Z"
   },
   {
    "duration": 472,
    "start_time": "2023-05-12T19:23:02.361Z"
   },
   {
    "duration": 51,
    "start_time": "2023-05-12T19:25:24.704Z"
   },
   {
    "duration": 50,
    "start_time": "2023-05-12T19:25:31.615Z"
   },
   {
    "duration": 42,
    "start_time": "2023-05-12T19:26:00.790Z"
   },
   {
    "duration": 502,
    "start_time": "2023-05-12T19:26:06.166Z"
   },
   {
    "duration": 46,
    "start_time": "2023-05-12T19:26:08.492Z"
   },
   {
    "duration": 46,
    "start_time": "2023-05-12T19:29:17.297Z"
   },
   {
    "duration": 6608,
    "start_time": "2023-05-12T19:29:23.657Z"
   },
   {
    "duration": 62775,
    "start_time": "2023-05-12T19:29:33.706Z"
   },
   {
    "duration": 372,
    "start_time": "2023-05-12T19:30:44.089Z"
   },
   {
    "duration": 420,
    "start_time": "2023-05-12T19:31:04.887Z"
   },
   {
    "duration": 3678,
    "start_time": "2023-05-12T19:36:29.777Z"
   },
   {
    "duration": 203,
    "start_time": "2023-05-12T19:37:21.053Z"
   },
   {
    "duration": 435,
    "start_time": "2023-05-12T19:41:43.158Z"
   },
   {
    "duration": 4,
    "start_time": "2023-05-12T19:41:48.602Z"
   },
   {
    "duration": 520,
    "start_time": "2023-05-12T19:41:52.114Z"
   },
   {
    "duration": 597,
    "start_time": "2023-05-12T19:42:19.995Z"
   },
   {
    "duration": 535,
    "start_time": "2023-05-12T19:43:01.403Z"
   },
   {
    "duration": 374,
    "start_time": "2023-05-12T19:45:28.007Z"
   },
   {
    "duration": 52,
    "start_time": "2023-05-12T19:47:13.757Z"
   },
   {
    "duration": 6,
    "start_time": "2023-05-12T19:47:16.623Z"
   },
   {
    "duration": 46,
    "start_time": "2023-05-12T19:47:19.991Z"
   },
   {
    "duration": 5,
    "start_time": "2023-05-12T19:47:26.799Z"
   },
   {
    "duration": 42,
    "start_time": "2023-05-12T19:47:27.257Z"
   },
   {
    "duration": 435,
    "start_time": "2023-05-12T19:47:40.848Z"
   },
   {
    "duration": 112,
    "start_time": "2023-05-12T19:48:05.549Z"
   },
   {
    "duration": 411,
    "start_time": "2023-05-12T19:48:20.199Z"
   },
   {
    "duration": 5,
    "start_time": "2023-05-12T19:50:21.517Z"
   },
   {
    "duration": 4,
    "start_time": "2023-05-12T19:50:37.851Z"
   },
   {
    "duration": 9,
    "start_time": "2023-05-12T19:51:03.333Z"
   },
   {
    "duration": 798,
    "start_time": "2023-05-12T19:51:35.387Z"
   },
   {
    "duration": 747,
    "start_time": "2023-05-12T19:51:58.291Z"
   },
   {
    "duration": 18,
    "start_time": "2023-05-12T19:52:48.751Z"
   },
   {
    "duration": 11,
    "start_time": "2023-05-12T19:52:51.697Z"
   },
   {
    "duration": 12,
    "start_time": "2023-05-12T19:53:04.552Z"
   },
   {
    "duration": 13,
    "start_time": "2023-05-12T19:54:07.795Z"
   },
   {
    "duration": 597,
    "start_time": "2023-05-12T19:54:09.051Z"
   },
   {
    "duration": 4,
    "start_time": "2023-05-12T19:54:14.593Z"
   },
   {
    "duration": 12,
    "start_time": "2023-05-12T19:54:14.864Z"
   },
   {
    "duration": 744,
    "start_time": "2023-05-12T19:54:15.311Z"
   },
   {
    "duration": 7,
    "start_time": "2023-05-12T19:54:36.709Z"
   },
   {
    "duration": 6,
    "start_time": "2023-05-12T19:55:15.685Z"
   },
   {
    "duration": 12,
    "start_time": "2023-05-12T19:55:18.788Z"
   },
   {
    "duration": 12,
    "start_time": "2023-05-12T19:55:43.319Z"
   },
   {
    "duration": 194,
    "start_time": "2023-05-12T19:55:57.316Z"
   },
   {
    "duration": 12,
    "start_time": "2023-05-12T19:56:11.952Z"
   },
   {
    "duration": 281,
    "start_time": "2023-05-12T19:56:13.294Z"
   },
   {
    "duration": 16,
    "start_time": "2023-05-12T19:56:25.686Z"
   },
   {
    "duration": 334,
    "start_time": "2023-05-12T19:56:26.719Z"
   },
   {
    "duration": 11,
    "start_time": "2023-05-12T19:56:51.297Z"
   },
   {
    "duration": 375,
    "start_time": "2023-05-12T19:56:52.282Z"
   },
   {
    "duration": 17,
    "start_time": "2023-05-12T19:56:56.994Z"
   },
   {
    "duration": 323,
    "start_time": "2023-05-12T19:56:58.281Z"
   },
   {
    "duration": 14,
    "start_time": "2023-05-12T19:57:09.987Z"
   },
   {
    "duration": 286,
    "start_time": "2023-05-12T19:57:14.076Z"
   },
   {
    "duration": 4,
    "start_time": "2023-05-12T19:59:20.083Z"
   },
   {
    "duration": 12,
    "start_time": "2023-05-12T19:59:20.453Z"
   },
   {
    "duration": 7028,
    "start_time": "2023-05-12T20:00:05.024Z"
   },
   {
    "duration": 6904,
    "start_time": "2023-05-12T20:00:40.298Z"
   },
   {
    "duration": 7104,
    "start_time": "2023-05-12T20:00:49.994Z"
   },
   {
    "duration": 6596,
    "start_time": "2023-05-12T20:01:50.595Z"
   },
   {
    "duration": 11,
    "start_time": "2023-05-12T20:03:47.014Z"
   },
   {
    "duration": 17,
    "start_time": "2023-05-12T20:04:29.798Z"
   },
   {
    "duration": 18,
    "start_time": "2023-05-12T20:04:58.599Z"
   },
   {
    "duration": 21,
    "start_time": "2023-05-12T20:05:22.174Z"
   },
   {
    "duration": 4,
    "start_time": "2023-05-12T20:05:31.597Z"
   },
   {
    "duration": 4,
    "start_time": "2023-05-12T20:06:08.907Z"
   },
   {
    "duration": 5,
    "start_time": "2023-05-12T20:06:14.755Z"
   },
   {
    "duration": 6,
    "start_time": "2023-05-12T20:06:18.289Z"
   },
   {
    "duration": 24,
    "start_time": "2023-05-12T20:06:27.974Z"
   },
   {
    "duration": 5,
    "start_time": "2023-05-12T20:06:37.198Z"
   },
   {
    "duration": 18,
    "start_time": "2023-05-12T20:06:38.083Z"
   },
   {
    "duration": 13,
    "start_time": "2023-05-12T20:07:21.486Z"
   },
   {
    "duration": 23,
    "start_time": "2023-05-12T20:07:26.083Z"
   },
   {
    "duration": 5,
    "start_time": "2023-05-12T20:07:47.686Z"
   },
   {
    "duration": 6,
    "start_time": "2023-05-12T20:07:55.851Z"
   },
   {
    "duration": 19,
    "start_time": "2023-05-12T20:08:05.498Z"
   },
   {
    "duration": 23,
    "start_time": "2023-05-12T20:08:19.198Z"
   },
   {
    "duration": 791,
    "start_time": "2023-05-12T20:08:27.500Z"
   },
   {
    "duration": 52,
    "start_time": "2023-05-12T20:09:06.164Z"
   },
   {
    "duration": 19,
    "start_time": "2023-05-12T20:09:08.770Z"
   },
   {
    "duration": 17,
    "start_time": "2023-05-12T20:09:27.420Z"
   },
   {
    "duration": 2316,
    "start_time": "2023-05-12T20:10:11.556Z"
   },
   {
    "duration": 2539,
    "start_time": "2023-05-12T20:10:23.353Z"
   },
   {
    "duration": 82,
    "start_time": "2023-05-12T20:15:50.076Z"
   },
   {
    "duration": 4,
    "start_time": "2023-05-12T20:15:52.657Z"
   },
   {
    "duration": 5,
    "start_time": "2023-05-12T20:17:18.588Z"
   },
   {
    "duration": 5,
    "start_time": "2023-05-12T20:17:49.900Z"
   },
   {
    "duration": 405,
    "start_time": "2023-05-12T20:17:54.617Z"
   },
   {
    "duration": 400,
    "start_time": "2023-05-12T20:18:12.650Z"
   },
   {
    "duration": 4,
    "start_time": "2023-05-12T20:18:15.672Z"
   },
   {
    "duration": 6243,
    "start_time": "2023-05-12T20:18:16.874Z"
   },
   {
    "duration": 5,
    "start_time": "2023-05-12T20:19:41.369Z"
   },
   {
    "duration": 466,
    "start_time": "2023-05-12T20:23:57.336Z"
   },
   {
    "duration": 483,
    "start_time": "2023-05-12T20:27:20.341Z"
   },
   {
    "duration": 465,
    "start_time": "2023-05-12T20:29:21.556Z"
   },
   {
    "duration": 6,
    "start_time": "2023-05-12T20:38:10.504Z"
   },
   {
    "duration": 3,
    "start_time": "2023-05-12T20:38:46.825Z"
   },
   {
    "duration": 69,
    "start_time": "2023-05-12T20:39:05.887Z"
   },
   {
    "duration": 620,
    "start_time": "2023-05-12T20:39:10.008Z"
   },
   {
    "duration": 613,
    "start_time": "2023-05-12T20:40:10.896Z"
   },
   {
    "duration": 640,
    "start_time": "2023-05-12T20:40:26.622Z"
   },
   {
    "duration": 647,
    "start_time": "2023-05-12T20:40:31.286Z"
   },
   {
    "duration": 685,
    "start_time": "2023-05-12T20:41:17.251Z"
   },
   {
    "duration": 232,
    "start_time": "2023-05-12T20:41:29.349Z"
   },
   {
    "duration": 266,
    "start_time": "2023-05-12T20:41:34.586Z"
   },
   {
    "duration": 240,
    "start_time": "2023-05-12T20:41:39.559Z"
   },
   {
    "duration": 260,
    "start_time": "2023-05-12T20:41:43.657Z"
   },
   {
    "duration": 281,
    "start_time": "2023-05-12T20:41:47.235Z"
   },
   {
    "duration": 277,
    "start_time": "2023-05-12T20:41:50.485Z"
   },
   {
    "duration": 255,
    "start_time": "2023-05-12T20:41:54.694Z"
   },
   {
    "duration": 259,
    "start_time": "2023-05-12T20:43:05.506Z"
   },
   {
    "duration": 574,
    "start_time": "2023-05-12T20:43:08.103Z"
   },
   {
    "duration": 7,
    "start_time": "2023-05-12T20:43:59.319Z"
   },
   {
    "duration": 3,
    "start_time": "2023-05-12T20:43:59.651Z"
   },
   {
    "duration": 628,
    "start_time": "2023-05-12T20:44:00.090Z"
   },
   {
    "duration": 6,
    "start_time": "2023-05-12T20:44:06.201Z"
   },
   {
    "duration": 3,
    "start_time": "2023-05-12T20:44:06.588Z"
   },
   {
    "duration": 649,
    "start_time": "2023-05-12T20:44:07.311Z"
   },
   {
    "duration": 7,
    "start_time": "2023-05-12T20:44:11.705Z"
   },
   {
    "duration": 3,
    "start_time": "2023-05-12T20:44:12.057Z"
   },
   {
    "duration": 628,
    "start_time": "2023-05-12T20:44:13.070Z"
   },
   {
    "duration": 617,
    "start_time": "2023-05-12T20:44:25.287Z"
   },
   {
    "duration": 7,
    "start_time": "2023-05-12T20:44:29.113Z"
   },
   {
    "duration": 3,
    "start_time": "2023-05-12T20:44:29.812Z"
   },
   {
    "duration": 657,
    "start_time": "2023-05-12T20:44:31.898Z"
   },
   {
    "duration": 6,
    "start_time": "2023-05-12T20:44:34.690Z"
   },
   {
    "duration": 3,
    "start_time": "2023-05-12T20:44:34.899Z"
   },
   {
    "duration": 622,
    "start_time": "2023-05-12T20:44:35.144Z"
   },
   {
    "duration": 6,
    "start_time": "2023-05-12T20:44:36.993Z"
   },
   {
    "duration": 3,
    "start_time": "2023-05-12T20:44:37.190Z"
   },
   {
    "duration": 626,
    "start_time": "2023-05-12T20:44:37.396Z"
   },
   {
    "duration": 6,
    "start_time": "2023-05-12T20:44:39.230Z"
   },
   {
    "duration": 3,
    "start_time": "2023-05-12T20:44:39.445Z"
   },
   {
    "duration": 605,
    "start_time": "2023-05-12T20:44:39.689Z"
   },
   {
    "duration": 6,
    "start_time": "2023-05-12T20:44:41.508Z"
   },
   {
    "duration": 3,
    "start_time": "2023-05-12T20:44:41.728Z"
   },
   {
    "duration": 683,
    "start_time": "2023-05-12T20:44:41.943Z"
   },
   {
    "duration": 8,
    "start_time": "2023-05-12T20:44:43.690Z"
   },
   {
    "duration": 3,
    "start_time": "2023-05-12T20:44:43.920Z"
   },
   {
    "duration": 641,
    "start_time": "2023-05-12T20:44:44.199Z"
   },
   {
    "duration": 7,
    "start_time": "2023-05-12T20:44:46.073Z"
   },
   {
    "duration": 3,
    "start_time": "2023-05-12T20:44:46.318Z"
   },
   {
    "duration": 677,
    "start_time": "2023-05-12T20:44:46.624Z"
   },
   {
    "duration": 7,
    "start_time": "2023-05-12T20:44:49.033Z"
   },
   {
    "duration": 3,
    "start_time": "2023-05-12T20:44:49.294Z"
   },
   {
    "duration": 640,
    "start_time": "2023-05-12T20:44:49.586Z"
   },
   {
    "duration": 56,
    "start_time": "2023-05-12T20:47:52.507Z"
   },
   {
    "duration": 45,
    "start_time": "2023-05-12T20:48:20.995Z"
   },
   {
    "duration": 49,
    "start_time": "2023-05-12T20:48:36.436Z"
   },
   {
    "duration": 41,
    "start_time": "2023-05-12T20:48:46.386Z"
   },
   {
    "duration": 46,
    "start_time": "2023-05-12T20:49:26.736Z"
   },
   {
    "duration": 1374,
    "start_time": "2023-05-12T20:49:47.614Z"
   },
   {
    "duration": 43,
    "start_time": "2023-05-12T20:49:48.990Z"
   },
   {
    "duration": 18,
    "start_time": "2023-05-12T20:49:49.034Z"
   },
   {
    "duration": 14,
    "start_time": "2023-05-12T20:49:49.054Z"
   },
   {
    "duration": 42,
    "start_time": "2023-05-12T20:49:49.070Z"
   },
   {
    "duration": 44,
    "start_time": "2023-05-12T20:49:49.114Z"
   },
   {
    "duration": 65,
    "start_time": "2023-05-12T20:49:49.160Z"
   },
   {
    "duration": 32,
    "start_time": "2023-05-12T20:49:49.227Z"
   },
   {
    "duration": 10,
    "start_time": "2023-05-12T20:49:49.261Z"
   },
   {
    "duration": 28,
    "start_time": "2023-05-12T20:49:49.273Z"
   },
   {
    "duration": 143,
    "start_time": "2023-05-12T20:49:49.303Z"
   },
   {
    "duration": 39,
    "start_time": "2023-05-12T20:49:49.447Z"
   },
   {
    "duration": 16,
    "start_time": "2023-05-12T20:49:49.487Z"
   },
   {
    "duration": 7,
    "start_time": "2023-05-12T20:49:49.505Z"
   },
   {
    "duration": 493,
    "start_time": "2023-05-12T20:49:49.514Z"
   },
   {
    "duration": 6,
    "start_time": "2023-05-12T20:49:50.009Z"
   },
   {
    "duration": 58682,
    "start_time": "2023-05-12T20:49:50.017Z"
   },
   {
    "duration": 3680,
    "start_time": "2023-05-12T20:50:48.700Z"
   },
   {
    "duration": 581,
    "start_time": "2023-05-12T20:50:52.382Z"
   },
   {
    "duration": 51,
    "start_time": "2023-05-12T20:50:52.966Z"
   },
   {
    "duration": 226,
    "start_time": "2023-05-12T20:50:53.020Z"
   },
   {
    "duration": 153,
    "start_time": "2023-05-12T20:51:09.487Z"
   },
   {
    "duration": 46,
    "start_time": "2023-05-12T20:51:17.837Z"
   },
   {
    "duration": 59901,
    "start_time": "2023-05-12T20:51:25.314Z"
   },
   {
    "duration": 5,
    "start_time": "2023-05-12T20:52:37.318Z"
   },
   {
    "duration": 15870,
    "start_time": "2023-05-12T20:54:19.620Z"
   },
   {
    "duration": 4,
    "start_time": "2023-05-12T20:54:46.957Z"
   },
   {
    "duration": 6095,
    "start_time": "2023-05-12T20:55:09.214Z"
   },
   {
    "duration": 7,
    "start_time": "2023-05-12T20:56:04.527Z"
   },
   {
    "duration": 3,
    "start_time": "2023-05-12T20:56:05.216Z"
   },
   {
    "duration": 1152,
    "start_time": "2023-05-12T20:56:06.028Z"
   },
   {
    "duration": 1067,
    "start_time": "2023-05-12T20:56:10.198Z"
   },
   {
    "duration": 1053,
    "start_time": "2023-05-12T20:56:14.786Z"
   },
   {
    "duration": 1075,
    "start_time": "2023-05-12T20:56:16.595Z"
   },
   {
    "duration": 1080,
    "start_time": "2023-05-12T20:56:18.360Z"
   },
   {
    "duration": 1152,
    "start_time": "2023-05-12T20:56:20.214Z"
   },
   {
    "duration": 1208,
    "start_time": "2023-05-12T20:56:22.158Z"
   },
   {
    "duration": 1124,
    "start_time": "2023-05-12T20:56:24.110Z"
   },
   {
    "duration": 1159,
    "start_time": "2023-05-12T20:56:26.126Z"
   },
   {
    "duration": 6,
    "start_time": "2023-05-12T20:56:29.156Z"
   },
   {
    "duration": 4,
    "start_time": "2023-05-12T20:56:29.553Z"
   },
   {
    "duration": 1184,
    "start_time": "2023-05-12T20:56:30.210Z"
   },
   {
    "duration": 8,
    "start_time": "2023-05-12T20:56:32.926Z"
   },
   {
    "duration": 3,
    "start_time": "2023-05-12T20:56:33.232Z"
   },
   {
    "duration": 1105,
    "start_time": "2023-05-12T20:56:33.726Z"
   },
   {
    "duration": 7,
    "start_time": "2023-05-12T20:56:36.206Z"
   },
   {
    "duration": 3,
    "start_time": "2023-05-12T20:56:36.427Z"
   },
   {
    "duration": 1185,
    "start_time": "2023-05-12T20:56:36.690Z"
   },
   {
    "duration": 7,
    "start_time": "2023-05-12T20:56:39.131Z"
   },
   {
    "duration": 3,
    "start_time": "2023-05-12T20:56:39.330Z"
   },
   {
    "duration": 1095,
    "start_time": "2023-05-12T20:56:39.533Z"
   },
   {
    "duration": 6,
    "start_time": "2023-05-12T20:56:41.890Z"
   },
   {
    "duration": 3,
    "start_time": "2023-05-12T20:56:42.060Z"
   },
   {
    "duration": 1225,
    "start_time": "2023-05-12T20:56:42.286Z"
   },
   {
    "duration": 6,
    "start_time": "2023-05-12T20:56:45.745Z"
   },
   {
    "duration": 3,
    "start_time": "2023-05-12T20:56:45.990Z"
   },
   {
    "duration": 1158,
    "start_time": "2023-05-12T20:56:46.226Z"
   },
   {
    "duration": 7,
    "start_time": "2023-05-12T20:56:48.678Z"
   },
   {
    "duration": 3,
    "start_time": "2023-05-12T20:56:48.898Z"
   },
   {
    "duration": 1206,
    "start_time": "2023-05-12T20:56:49.122Z"
   },
   {
    "duration": 8,
    "start_time": "2023-05-12T20:56:51.806Z"
   },
   {
    "duration": 3,
    "start_time": "2023-05-12T20:56:52.019Z"
   },
   {
    "duration": 1219,
    "start_time": "2023-05-12T20:56:52.286Z"
   },
   {
    "duration": 2025,
    "start_time": "2023-05-12T20:59:38.932Z"
   },
   {
    "duration": 866,
    "start_time": "2023-05-12T21:03:43.799Z"
   },
   {
    "duration": 48244,
    "start_time": "2023-05-12T21:08:19.042Z"
   },
   {
    "duration": 48174,
    "start_time": "2023-05-12T21:10:35.206Z"
   },
   {
    "duration": 5,
    "start_time": "2023-05-12T21:11:30.807Z"
   },
   {
    "duration": 12911,
    "start_time": "2023-05-12T21:11:31.613Z"
   },
   {
    "duration": 7,
    "start_time": "2023-05-12T21:13:02.037Z"
   },
   {
    "duration": 4,
    "start_time": "2023-05-12T21:13:02.623Z"
   },
   {
    "duration": 1150,
    "start_time": "2023-05-12T21:13:03.158Z"
   },
   {
    "duration": 1092,
    "start_time": "2023-05-12T21:13:10.425Z"
   },
   {
    "duration": 6,
    "start_time": "2023-05-12T21:13:13.616Z"
   },
   {
    "duration": 4,
    "start_time": "2023-05-12T21:13:14.158Z"
   },
   {
    "duration": 1053,
    "start_time": "2023-05-12T21:13:14.786Z"
   },
   {
    "duration": 1325,
    "start_time": "2023-05-12T21:14:30.490Z"
   },
   {
    "duration": 1255,
    "start_time": "2023-05-12T21:14:35.218Z"
   },
   {
    "duration": 1095,
    "start_time": "2023-05-12T21:14:39.482Z"
   },
   {
    "duration": 542,
    "start_time": "2023-05-12T21:15:33.259Z"
   },
   {
    "duration": 14005,
    "start_time": "2023-05-12T21:18:18.958Z"
   },
   {
    "duration": 51381,
    "start_time": "2023-05-12T21:18:35.502Z"
   },
   {
    "duration": 4,
    "start_time": "2023-05-12T21:19:30.810Z"
   },
   {
    "duration": 14079,
    "start_time": "2023-05-12T21:19:31.523Z"
   },
   {
    "duration": 11334,
    "start_time": "2023-05-12T21:19:52.415Z"
   },
   {
    "duration": 13856,
    "start_time": "2023-05-12T21:20:08.712Z"
   },
   {
    "duration": 4534,
    "start_time": "2023-05-12T21:20:34.482Z"
   },
   {
    "duration": 14061,
    "start_time": "2023-05-12T21:20:41.259Z"
   },
   {
    "duration": 5272,
    "start_time": "2023-05-12T21:21:57.192Z"
   },
   {
    "duration": 7,
    "start_time": "2023-05-12T21:22:18.394Z"
   },
   {
    "duration": 4,
    "start_time": "2023-05-12T21:22:18.828Z"
   },
   {
    "duration": 14,
    "start_time": "2023-05-12T21:24:13.805Z"
   },
   {
    "duration": 51967,
    "start_time": "2023-05-12T21:24:22.623Z"
   },
   {
    "duration": 4,
    "start_time": "2023-05-12T21:25:14.592Z"
   },
   {
    "duration": 81,
    "start_time": "2023-05-12T21:25:14.598Z"
   },
   {
    "duration": 4,
    "start_time": "2023-05-12T21:25:14.682Z"
   },
   {
    "duration": 5299,
    "start_time": "2023-05-12T21:25:14.688Z"
   },
   {
    "duration": 14041,
    "start_time": "2023-05-12T21:25:25.182Z"
   },
   {
    "duration": 5,
    "start_time": "2023-05-12T21:25:43.489Z"
   },
   {
    "duration": 5409,
    "start_time": "2023-05-12T21:25:43.987Z"
   },
   {
    "duration": 7,
    "start_time": "2023-05-12T21:26:14.513Z"
   },
   {
    "duration": 3,
    "start_time": "2023-05-12T21:26:14.879Z"
   },
   {
    "duration": 592,
    "start_time": "2023-05-12T21:26:15.514Z"
   },
   {
    "duration": 9,
    "start_time": "2023-05-12T21:26:19.646Z"
   },
   {
    "duration": 4,
    "start_time": "2023-05-12T21:26:20.299Z"
   },
   {
    "duration": 627,
    "start_time": "2023-05-12T21:26:21.736Z"
   },
   {
    "duration": 8,
    "start_time": "2023-05-12T21:26:24.858Z"
   },
   {
    "duration": 4,
    "start_time": "2023-05-12T21:26:25.296Z"
   },
   {
    "duration": 621,
    "start_time": "2023-05-12T21:26:26.305Z"
   },
   {
    "duration": 7,
    "start_time": "2023-05-12T21:26:29.203Z"
   },
   {
    "duration": 3,
    "start_time": "2023-05-12T21:26:29.531Z"
   },
   {
    "duration": 589,
    "start_time": "2023-05-12T21:26:29.994Z"
   },
   {
    "duration": 6,
    "start_time": "2023-05-12T21:26:33.174Z"
   },
   {
    "duration": 4,
    "start_time": "2023-05-12T21:26:33.485Z"
   },
   {
    "duration": 586,
    "start_time": "2023-05-12T21:26:33.878Z"
   },
   {
    "duration": 8,
    "start_time": "2023-05-12T21:26:36.245Z"
   },
   {
    "duration": 3,
    "start_time": "2023-05-12T21:26:36.532Z"
   },
   {
    "duration": 621,
    "start_time": "2023-05-12T21:26:36.886Z"
   },
   {
    "duration": 7,
    "start_time": "2023-05-12T21:26:40.478Z"
   },
   {
    "duration": 3,
    "start_time": "2023-05-12T21:26:40.794Z"
   },
   {
    "duration": 607,
    "start_time": "2023-05-12T21:26:41.278Z"
   },
   {
    "duration": 6,
    "start_time": "2023-05-12T21:26:44.423Z"
   },
   {
    "duration": 3,
    "start_time": "2023-05-12T21:26:44.711Z"
   },
   {
    "duration": 569,
    "start_time": "2023-05-12T21:26:45.093Z"
   },
   {
    "duration": 6,
    "start_time": "2023-05-12T21:26:48.415Z"
   },
   {
    "duration": 4,
    "start_time": "2023-05-12T21:26:48.704Z"
   },
   {
    "duration": 633,
    "start_time": "2023-05-12T21:26:49.039Z"
   },
   {
    "duration": 7,
    "start_time": "2023-05-12T21:26:53.092Z"
   },
   {
    "duration": 3,
    "start_time": "2023-05-12T21:26:53.387Z"
   },
   {
    "duration": 633,
    "start_time": "2023-05-12T21:26:53.720Z"
   },
   {
    "duration": 910,
    "start_time": "2023-05-12T21:26:57.036Z"
   },
   {
    "duration": 886,
    "start_time": "2023-05-12T21:27:05.542Z"
   },
   {
    "duration": 1474,
    "start_time": "2023-05-12T22:27:51.518Z"
   },
   {
    "duration": 43,
    "start_time": "2023-05-12T22:27:52.995Z"
   },
   {
    "duration": 20,
    "start_time": "2023-05-12T22:27:53.040Z"
   },
   {
    "duration": 33,
    "start_time": "2023-05-12T22:27:53.061Z"
   },
   {
    "duration": 54,
    "start_time": "2023-05-12T22:27:53.097Z"
   },
   {
    "duration": 20,
    "start_time": "2023-05-12T22:27:53.152Z"
   },
   {
    "duration": 61,
    "start_time": "2023-05-12T22:27:53.174Z"
   },
   {
    "duration": 22,
    "start_time": "2023-05-12T22:27:53.245Z"
   },
   {
    "duration": 20,
    "start_time": "2023-05-12T22:27:53.269Z"
   },
   {
    "duration": 29,
    "start_time": "2023-05-12T22:27:53.291Z"
   },
   {
    "duration": 128,
    "start_time": "2023-05-12T22:27:53.321Z"
   },
   {
    "duration": 40,
    "start_time": "2023-05-12T22:27:53.450Z"
   },
   {
    "duration": 16,
    "start_time": "2023-05-12T22:27:53.491Z"
   },
   {
    "duration": 6,
    "start_time": "2023-05-12T22:27:53.510Z"
   },
   {
    "duration": 469,
    "start_time": "2023-05-12T22:27:53.518Z"
   },
   {
    "duration": 4,
    "start_time": "2023-05-12T22:27:53.989Z"
   },
   {
    "duration": 57181,
    "start_time": "2023-05-12T22:27:53.995Z"
   },
   {
    "duration": 3707,
    "start_time": "2023-05-12T22:28:51.178Z"
   },
   {
    "duration": 502,
    "start_time": "2023-05-12T22:28:54.947Z"
   },
   {
    "duration": 39,
    "start_time": "2023-05-12T22:28:55.451Z"
   },
   {
    "duration": 157,
    "start_time": "2023-05-12T22:28:55.492Z"
   },
   {
    "duration": 289,
    "start_time": "2023-05-12T22:28:55.651Z"
   },
   {
    "duration": 4,
    "start_time": "2023-05-12T22:28:55.941Z"
   },
   {
    "duration": 107,
    "start_time": "2023-05-12T22:28:55.947Z"
   },
   {
    "duration": 4,
    "start_time": "2023-05-12T22:28:56.056Z"
   },
   {
    "duration": 108,
    "start_time": "2023-05-12T22:28:56.061Z"
   },
   {
    "duration": 6,
    "start_time": "2023-05-12T22:28:56.171Z"
   },
   {
    "duration": 22,
    "start_time": "2023-05-12T22:28:56.179Z"
   },
   {
    "duration": 52,
    "start_time": "2023-05-12T22:28:56.203Z"
   },
   {
    "duration": 726,
    "start_time": "2023-05-12T22:28:56.256Z"
   },
   {
    "duration": 4,
    "start_time": "2023-05-12T23:07:42.238Z"
   },
   {
    "duration": 1343,
    "start_time": "2023-05-12T23:08:20.527Z"
   },
   {
    "duration": 4,
    "start_time": "2023-05-12T23:08:24.343Z"
   },
   {
    "duration": 56,
    "start_time": "2023-05-12T23:08:24.349Z"
   },
   {
    "duration": 18,
    "start_time": "2023-05-12T23:08:24.408Z"
   },
   {
    "duration": 46,
    "start_time": "2023-05-12T23:08:24.428Z"
   },
   {
    "duration": 53,
    "start_time": "2023-05-12T23:08:24.476Z"
   },
   {
    "duration": 17,
    "start_time": "2023-05-12T23:08:24.531Z"
   },
   {
    "duration": 76,
    "start_time": "2023-05-12T23:08:24.550Z"
   },
   {
    "duration": 21,
    "start_time": "2023-05-12T23:08:24.627Z"
   },
   {
    "duration": 14,
    "start_time": "2023-05-12T23:08:24.649Z"
   },
   {
    "duration": 23,
    "start_time": "2023-05-12T23:08:24.665Z"
   },
   {
    "duration": 113,
    "start_time": "2023-05-12T23:08:24.690Z"
   },
   {
    "duration": 44,
    "start_time": "2023-05-12T23:08:24.805Z"
   },
   {
    "duration": 16,
    "start_time": "2023-05-12T23:08:24.851Z"
   },
   {
    "duration": 27,
    "start_time": "2023-05-12T23:08:24.870Z"
   },
   {
    "duration": 430,
    "start_time": "2023-05-12T23:08:24.898Z"
   },
   {
    "duration": 4,
    "start_time": "2023-05-12T23:08:25.330Z"
   },
   {
    "duration": 56001,
    "start_time": "2023-05-12T23:08:25.335Z"
   },
   {
    "duration": 3643,
    "start_time": "2023-05-12T23:09:21.338Z"
   },
   {
    "duration": 552,
    "start_time": "2023-05-12T23:09:24.983Z"
   },
   {
    "duration": 51,
    "start_time": "2023-05-12T23:09:25.537Z"
   },
   {
    "duration": 76,
    "start_time": "2023-05-12T23:09:25.590Z"
   },
   {
    "duration": 56334,
    "start_time": "2023-05-12T23:09:25.747Z"
   },
   {
    "duration": 4,
    "start_time": "2023-05-12T23:10:22.083Z"
   },
   {
    "duration": 15558,
    "start_time": "2023-05-12T23:10:22.089Z"
   },
   {
    "duration": 4,
    "start_time": "2023-05-12T23:10:37.649Z"
   },
   {
    "duration": 5895,
    "start_time": "2023-05-12T23:10:37.655Z"
   },
   {
    "duration": 6,
    "start_time": "2023-05-12T23:10:43.552Z"
   },
   {
    "duration": 17,
    "start_time": "2023-05-12T23:10:43.560Z"
   },
   {
    "duration": 533,
    "start_time": "2023-05-12T23:10:43.579Z"
   },
   {
    "duration": 840,
    "start_time": "2023-05-12T23:10:44.114Z"
   },
   {
    "duration": 1711,
    "start_time": "2023-05-14T20:38:23.392Z"
   },
   {
    "duration": 195,
    "start_time": "2023-05-14T20:38:27.749Z"
   },
   {
    "duration": 21,
    "start_time": "2023-05-14T20:38:30.107Z"
   },
   {
    "duration": 14,
    "start_time": "2023-05-14T20:38:30.751Z"
   },
   {
    "duration": 45,
    "start_time": "2023-05-14T20:38:33.344Z"
   },
   {
    "duration": 20,
    "start_time": "2023-05-14T20:38:34.494Z"
   },
   {
    "duration": 67,
    "start_time": "2023-05-14T20:38:36.707Z"
   },
   {
    "duration": 26,
    "start_time": "2023-05-14T20:39:44.775Z"
   },
   {
    "duration": 18,
    "start_time": "2023-05-14T20:39:48.811Z"
   },
   {
    "duration": 14,
    "start_time": "2023-05-14T20:40:15.196Z"
   },
   {
    "duration": 150,
    "start_time": "2023-05-14T20:40:34.560Z"
   },
   {
    "duration": 40,
    "start_time": "2023-05-14T20:40:42.788Z"
   },
   {
    "duration": 18,
    "start_time": "2023-05-14T20:41:01.710Z"
   },
   {
    "duration": 43,
    "start_time": "2023-05-14T20:43:10.648Z"
   },
   {
    "duration": 17,
    "start_time": "2023-05-14T20:43:12.845Z"
   },
   {
    "duration": 6,
    "start_time": "2023-05-14T20:43:16.840Z"
   },
   {
    "duration": 575,
    "start_time": "2023-05-14T20:44:39.821Z"
   },
   {
    "duration": 66760,
    "start_time": "2023-05-14T20:44:44.290Z"
   },
   {
    "duration": 3634,
    "start_time": "2023-05-14T20:46:12.836Z"
   },
   {
    "duration": 5,
    "start_time": "2023-05-14T20:46:28.186Z"
   },
   {
    "duration": 342,
    "start_time": "2023-05-14T20:48:29.589Z"
   },
   {
    "duration": 64,
    "start_time": "2023-05-14T20:49:07.613Z"
   },
   {
    "duration": 496,
    "start_time": "2023-05-14T20:49:09.847Z"
   },
   {
    "duration": 4,
    "start_time": "2023-05-14T20:49:17.084Z"
   },
   {
    "duration": 663,
    "start_time": "2023-05-14T20:49:20.412Z"
   },
   {
    "duration": 191,
    "start_time": "2023-05-14T20:50:13.436Z"
   },
   {
    "duration": 16,
    "start_time": "2023-05-14T20:56:07.652Z"
   },
   {
    "duration": 1692,
    "start_time": "2023-05-14T20:56:15.019Z"
   },
   {
    "duration": 70,
    "start_time": "2023-05-14T20:56:16.713Z"
   },
   {
    "duration": 27,
    "start_time": "2023-05-14T20:56:16.785Z"
   },
   {
    "duration": 70,
    "start_time": "2023-05-14T20:56:16.814Z"
   },
   {
    "duration": 78,
    "start_time": "2023-05-14T20:56:16.888Z"
   },
   {
    "duration": 26,
    "start_time": "2023-05-14T20:56:16.968Z"
   },
   {
    "duration": 83,
    "start_time": "2023-05-14T20:56:16.997Z"
   },
   {
    "duration": 30,
    "start_time": "2023-05-14T20:56:17.082Z"
   },
   {
    "duration": 41,
    "start_time": "2023-05-14T20:56:17.115Z"
   },
   {
    "duration": 28,
    "start_time": "2023-05-14T20:56:17.158Z"
   },
   {
    "duration": 145,
    "start_time": "2023-05-14T20:56:17.188Z"
   },
   {
    "duration": 53,
    "start_time": "2023-05-14T20:56:17.335Z"
   },
   {
    "duration": 34,
    "start_time": "2023-05-14T20:56:17.390Z"
   },
   {
    "duration": 6,
    "start_time": "2023-05-14T20:56:17.428Z"
   },
   {
    "duration": 632,
    "start_time": "2023-05-14T20:56:17.436Z"
   },
   {
    "duration": 70337,
    "start_time": "2023-05-14T20:56:18.073Z"
   },
   {
    "duration": 4272,
    "start_time": "2023-05-14T20:57:28.411Z"
   },
   {
    "duration": 47,
    "start_time": "2023-05-14T20:57:32.685Z"
   },
   {
    "duration": 174,
    "start_time": "2023-05-14T20:57:32.738Z"
   },
   {
    "duration": 482,
    "start_time": "2023-05-14T20:57:32.914Z"
   },
   {
    "duration": 227,
    "start_time": "2023-05-14T20:57:33.399Z"
   },
   {
    "duration": 1655,
    "start_time": "2023-05-14T21:04:35.301Z"
   },
   {
    "duration": 42,
    "start_time": "2023-05-14T21:04:36.958Z"
   },
   {
    "duration": 26,
    "start_time": "2023-05-14T21:04:37.001Z"
   },
   {
    "duration": 58,
    "start_time": "2023-05-14T21:04:37.028Z"
   },
   {
    "duration": 48,
    "start_time": "2023-05-14T21:04:37.089Z"
   },
   {
    "duration": 28,
    "start_time": "2023-05-14T21:04:37.139Z"
   },
   {
    "duration": 80,
    "start_time": "2023-05-14T21:04:37.168Z"
   },
   {
    "duration": 24,
    "start_time": "2023-05-14T21:04:37.250Z"
   },
   {
    "duration": 12,
    "start_time": "2023-05-14T21:04:37.275Z"
   },
   {
    "duration": 38,
    "start_time": "2023-05-14T21:04:37.290Z"
   },
   {
    "duration": 155,
    "start_time": "2023-05-14T21:04:37.330Z"
   },
   {
    "duration": 76,
    "start_time": "2023-05-14T21:04:37.487Z"
   },
   {
    "duration": 15,
    "start_time": "2023-05-14T21:04:37.566Z"
   },
   {
    "duration": 6,
    "start_time": "2023-05-14T21:04:37.584Z"
   },
   {
    "duration": 582,
    "start_time": "2023-05-14T21:04:37.591Z"
   },
   {
    "duration": 70885,
    "start_time": "2023-05-14T21:04:38.175Z"
   },
   {
    "duration": 3963,
    "start_time": "2023-05-14T21:05:49.064Z"
   },
   {
    "duration": 8,
    "start_time": "2023-05-14T21:05:53.029Z"
   },
   {
    "duration": 123,
    "start_time": "2023-05-14T21:05:53.039Z"
   },
   {
    "duration": 523,
    "start_time": "2023-05-14T21:05:53.164Z"
   },
   {
    "duration": 127,
    "start_time": "2023-05-14T21:05:53.689Z"
   },
   {
    "duration": 292,
    "start_time": "2023-05-14T21:07:56.414Z"
   },
   {
    "duration": 31,
    "start_time": "2023-05-14T21:08:04.488Z"
   },
   {
    "duration": 870,
    "start_time": "2023-05-14T21:08:11.965Z"
   },
   {
    "duration": 666,
    "start_time": "2023-05-14T21:08:18.800Z"
   },
   {
    "duration": 71,
    "start_time": "2023-05-14T21:09:33.845Z"
   },
   {
    "duration": 606,
    "start_time": "2023-05-14T21:09:42.203Z"
   },
   {
    "duration": 6,
    "start_time": "2023-05-14T21:11:26.036Z"
   },
   {
    "duration": 4,
    "start_time": "2023-05-14T21:11:26.776Z"
   },
   {
    "duration": 664,
    "start_time": "2023-05-14T21:12:06.779Z"
   },
   {
    "duration": 8959,
    "start_time": "2023-05-14T21:15:36.352Z"
   },
   {
    "duration": 8038,
    "start_time": "2023-05-14T21:16:42.570Z"
   },
   {
    "duration": 8446,
    "start_time": "2023-05-14T21:19:29.848Z"
   },
   {
    "duration": 52,
    "start_time": "2023-05-14T21:21:31.304Z"
   },
   {
    "duration": 4114,
    "start_time": "2023-05-14T21:21:45.633Z"
   },
   {
    "duration": 1489,
    "start_time": "2023-05-14T21:27:38.106Z"
   },
   {
    "duration": 63,
    "start_time": "2023-05-14T21:27:39.597Z"
   },
   {
    "duration": 18,
    "start_time": "2023-05-14T21:27:39.661Z"
   },
   {
    "duration": 19,
    "start_time": "2023-05-14T21:27:39.680Z"
   },
   {
    "duration": 43,
    "start_time": "2023-05-14T21:27:39.701Z"
   },
   {
    "duration": 21,
    "start_time": "2023-05-14T21:27:39.745Z"
   },
   {
    "duration": 95,
    "start_time": "2023-05-14T21:27:39.768Z"
   },
   {
    "duration": 21,
    "start_time": "2023-05-14T21:27:39.865Z"
   },
   {
    "duration": 13,
    "start_time": "2023-05-14T21:27:39.888Z"
   },
   {
    "duration": 27,
    "start_time": "2023-05-14T21:27:39.903Z"
   },
   {
    "duration": 151,
    "start_time": "2023-05-14T21:27:39.932Z"
   },
   {
    "duration": 50,
    "start_time": "2023-05-14T21:27:40.084Z"
   },
   {
    "duration": 21,
    "start_time": "2023-05-14T21:27:40.136Z"
   },
   {
    "duration": 12,
    "start_time": "2023-05-14T21:27:40.160Z"
   },
   {
    "duration": 561,
    "start_time": "2023-05-14T21:27:40.173Z"
   },
   {
    "duration": 65994,
    "start_time": "2023-05-14T21:27:40.735Z"
   },
   {
    "duration": 3641,
    "start_time": "2023-05-14T21:28:46.731Z"
   },
   {
    "duration": 6,
    "start_time": "2023-05-14T21:28:50.373Z"
   },
   {
    "duration": 198,
    "start_time": "2023-05-14T21:28:50.381Z"
   },
   {
    "duration": 494,
    "start_time": "2023-05-14T21:28:50.580Z"
   },
   {
    "duration": 157,
    "start_time": "2023-05-14T21:28:51.076Z"
   },
   {
    "duration": 17,
    "start_time": "2023-05-14T21:28:51.240Z"
   },
   {
    "duration": 99,
    "start_time": "2023-05-14T21:28:51.261Z"
   },
   {
    "duration": 616,
    "start_time": "2023-05-14T21:28:51.362Z"
   },
   {
    "duration": 8025,
    "start_time": "2023-05-14T21:28:51.980Z"
   },
   {
    "duration": 4169,
    "start_time": "2023-05-14T21:29:00.007Z"
   },
   {
    "duration": 594,
    "start_time": "2023-05-14T21:34:33.134Z"
   },
   {
    "duration": 128,
    "start_time": "2023-05-14T21:34:36.144Z"
   },
   {
    "duration": 600,
    "start_time": "2023-05-14T21:34:49.045Z"
   },
   {
    "duration": 6,
    "start_time": "2023-05-14T21:34:50.316Z"
   },
   {
    "duration": 597,
    "start_time": "2023-05-14T21:36:16.392Z"
   },
   {
    "duration": 5,
    "start_time": "2023-05-14T21:36:18.255Z"
   },
   {
    "duration": 623,
    "start_time": "2023-05-14T21:36:34.068Z"
   },
   {
    "duration": 6,
    "start_time": "2023-05-14T21:36:34.752Z"
   },
   {
    "duration": 51,
    "start_time": "2023-05-14T21:38:49.706Z"
   },
   {
    "duration": 87,
    "start_time": "2023-05-14T21:38:56.012Z"
   },
   {
    "duration": 7817,
    "start_time": "2023-05-14T21:38:59.742Z"
   },
   {
    "duration": 11,
    "start_time": "2023-05-14T21:39:14.634Z"
   },
   {
    "duration": 585,
    "start_time": "2023-05-14T21:40:56.277Z"
   },
   {
    "duration": 8,
    "start_time": "2023-05-14T21:40:58.346Z"
   },
   {
    "duration": 7314,
    "start_time": "2023-05-14T21:42:38.173Z"
   },
   {
    "duration": 5,
    "start_time": "2023-05-14T21:42:45.489Z"
   },
   {
    "duration": 7439,
    "start_time": "2023-05-14T21:42:57.173Z"
   },
   {
    "duration": 12,
    "start_time": "2023-05-14T21:43:04.614Z"
   },
   {
    "duration": 7711,
    "start_time": "2023-05-14T21:43:21.846Z"
   },
   {
    "duration": 5,
    "start_time": "2023-05-14T21:43:32.853Z"
   },
   {
    "duration": 7993,
    "start_time": "2023-05-14T21:43:57.062Z"
   },
   {
    "duration": 6,
    "start_time": "2023-05-14T21:44:05.057Z"
   },
   {
    "duration": 7385,
    "start_time": "2023-05-14T21:44:41.114Z"
   },
   {
    "duration": 5,
    "start_time": "2023-05-14T21:44:48.501Z"
   },
   {
    "duration": 3788,
    "start_time": "2023-05-14T21:46:36.143Z"
   },
   {
    "duration": 5,
    "start_time": "2023-05-14T21:46:39.933Z"
   },
   {
    "duration": 5,
    "start_time": "2023-05-14T21:46:51.945Z"
   },
   {
    "duration": 6,
    "start_time": "2023-05-14T21:46:52.434Z"
   },
   {
    "duration": 5,
    "start_time": "2023-05-14T21:46:52.799Z"
   },
   {
    "duration": 7,
    "start_time": "2023-05-14T21:47:18.834Z"
   },
   {
    "duration": 6,
    "start_time": "2023-05-14T21:48:42.494Z"
   },
   {
    "duration": 7,
    "start_time": "2023-05-14T21:48:43.538Z"
   },
   {
    "duration": 10,
    "start_time": "2023-05-14T21:50:01.481Z"
   },
   {
    "duration": 50,
    "start_time": "2023-05-14T21:51:04.297Z"
   },
   {
    "duration": 6,
    "start_time": "2023-05-14T21:51:23.617Z"
   },
   {
    "duration": 2,
    "start_time": "2023-05-14T21:51:24.149Z"
   },
   {
    "duration": 48,
    "start_time": "2023-05-14T21:51:24.776Z"
   },
   {
    "duration": 8,
    "start_time": "2023-05-14T21:51:29.045Z"
   },
   {
    "duration": 5,
    "start_time": "2023-05-14T21:51:29.542Z"
   },
   {
    "duration": 51,
    "start_time": "2023-05-14T21:51:30.253Z"
   },
   {
    "duration": 7,
    "start_time": "2023-05-14T21:51:32.882Z"
   },
   {
    "duration": 3,
    "start_time": "2023-05-14T21:51:33.161Z"
   },
   {
    "duration": 56,
    "start_time": "2023-05-14T21:51:33.410Z"
   },
   {
    "duration": 6,
    "start_time": "2023-05-14T21:51:35.794Z"
   },
   {
    "duration": 3,
    "start_time": "2023-05-14T21:51:36.079Z"
   },
   {
    "duration": 50,
    "start_time": "2023-05-14T21:51:36.369Z"
   },
   {
    "duration": 7,
    "start_time": "2023-05-14T21:51:45.057Z"
   },
   {
    "duration": 4,
    "start_time": "2023-05-14T21:51:45.319Z"
   },
   {
    "duration": 42,
    "start_time": "2023-05-14T21:51:45.882Z"
   },
   {
    "duration": 7,
    "start_time": "2023-05-14T21:51:49.889Z"
   },
   {
    "duration": 4,
    "start_time": "2023-05-14T21:51:50.167Z"
   },
   {
    "duration": 65,
    "start_time": "2023-05-14T21:51:51.293Z"
   },
   {
    "duration": 6,
    "start_time": "2023-05-14T21:51:55.591Z"
   },
   {
    "duration": 3,
    "start_time": "2023-05-14T21:51:55.893Z"
   },
   {
    "duration": 39,
    "start_time": "2023-05-14T21:51:56.363Z"
   },
   {
    "duration": 11,
    "start_time": "2023-05-14T21:53:20.916Z"
   },
   {
    "duration": 115,
    "start_time": "2023-05-14T21:53:56.920Z"
   },
   {
    "duration": 61,
    "start_time": "2023-05-14T21:54:01.634Z"
   },
   {
    "duration": 25,
    "start_time": "2023-05-14T21:54:06.849Z"
   },
   {
    "duration": 7,
    "start_time": "2023-05-14T21:54:14.249Z"
   },
   {
    "duration": 3,
    "start_time": "2023-05-14T21:54:15.116Z"
   },
   {
    "duration": 24,
    "start_time": "2023-05-14T21:54:16.386Z"
   },
   {
    "duration": 7,
    "start_time": "2023-05-14T21:54:18.558Z"
   },
   {
    "duration": 6,
    "start_time": "2023-05-14T21:54:18.749Z"
   },
   {
    "duration": 34,
    "start_time": "2023-05-14T21:54:18.942Z"
   },
   {
    "duration": 6,
    "start_time": "2023-05-14T21:55:00.982Z"
   },
   {
    "duration": 28,
    "start_time": "2023-05-14T21:55:09.962Z"
   },
   {
    "duration": 36,
    "start_time": "2023-05-14T21:55:13.714Z"
   },
   {
    "duration": 3,
    "start_time": "2023-05-14T21:55:15.544Z"
   },
   {
    "duration": 34,
    "start_time": "2023-05-14T21:55:16.438Z"
   },
   {
    "duration": 3,
    "start_time": "2023-05-14T21:55:19.250Z"
   },
   {
    "duration": 2,
    "start_time": "2023-05-14T21:55:19.546Z"
   },
   {
    "duration": 38,
    "start_time": "2023-05-14T21:55:19.914Z"
   },
   {
    "duration": 30,
    "start_time": "2023-05-14T21:55:23.738Z"
   },
   {
    "duration": 32,
    "start_time": "2023-05-14T21:55:27.312Z"
   },
   {
    "duration": 38,
    "start_time": "2023-05-14T21:55:31.104Z"
   },
   {
    "duration": 39,
    "start_time": "2023-05-14T21:55:34.481Z"
   },
   {
    "duration": 35,
    "start_time": "2023-05-14T21:55:38.593Z"
   },
   {
    "duration": 28,
    "start_time": "2023-05-14T21:55:42.953Z"
   },
   {
    "duration": 40,
    "start_time": "2023-05-14T21:55:46.717Z"
   },
   {
    "duration": 4,
    "start_time": "2023-05-14T21:55:57.911Z"
   },
   {
    "duration": 3,
    "start_time": "2023-05-14T21:55:58.900Z"
   },
   {
    "duration": 588,
    "start_time": "2023-05-14T21:55:59.747Z"
   },
   {
    "duration": 7422,
    "start_time": "2023-05-14T21:56:01.190Z"
   },
   {
    "duration": 3820,
    "start_time": "2023-05-14T21:56:08.614Z"
   },
   {
    "duration": 6,
    "start_time": "2023-05-14T21:56:12.443Z"
   },
   {
    "duration": 102,
    "start_time": "2023-05-14T21:56:12.451Z"
   },
   {
    "duration": 11,
    "start_time": "2023-05-14T21:56:12.555Z"
   },
   {
    "duration": 28,
    "start_time": "2023-05-14T21:56:25.442Z"
   },
   {
    "duration": 27,
    "start_time": "2023-05-14T21:56:27.146Z"
   },
   {
    "duration": 26,
    "start_time": "2023-05-14T21:56:27.982Z"
   },
   {
    "duration": 51,
    "start_time": "2023-05-14T21:56:29.407Z"
   },
   {
    "duration": 590,
    "start_time": "2023-05-14T21:57:03.361Z"
   },
   {
    "duration": 7576,
    "start_time": "2023-05-14T21:57:03.953Z"
   },
   {
    "duration": 3876,
    "start_time": "2023-05-14T21:57:11.530Z"
   },
   {
    "duration": 5,
    "start_time": "2023-05-14T21:57:15.407Z"
   },
   {
    "duration": 30,
    "start_time": "2023-05-14T21:57:15.417Z"
   },
   {
    "duration": 6,
    "start_time": "2023-05-14T21:57:15.449Z"
   },
   {
    "duration": 9,
    "start_time": "2023-05-14T21:57:31.267Z"
   },
   {
    "duration": 32,
    "start_time": "2023-05-14T21:57:44.094Z"
   },
   {
    "duration": 29,
    "start_time": "2023-05-14T21:57:46.134Z"
   },
   {
    "duration": 70,
    "start_time": "2023-05-14T21:59:20.266Z"
   },
   {
    "duration": 29,
    "start_time": "2023-05-14T21:59:28.191Z"
   },
   {
    "duration": 23,
    "start_time": "2023-05-14T21:59:53.674Z"
   },
   {
    "duration": 26,
    "start_time": "2023-05-14T22:00:36.694Z"
   },
   {
    "duration": 23,
    "start_time": "2023-05-14T22:00:44.049Z"
   },
   {
    "duration": 24,
    "start_time": "2023-05-14T22:01:03.591Z"
   },
   {
    "duration": 147,
    "start_time": "2023-05-14T22:01:57.844Z"
   },
   {
    "duration": 203,
    "start_time": "2023-05-14T22:02:25.746Z"
   },
   {
    "duration": 34,
    "start_time": "2023-05-14T22:03:11.642Z"
   },
   {
    "duration": 174,
    "start_time": "2023-05-14T22:03:43.898Z"
   },
   {
    "duration": 4,
    "start_time": "2023-05-14T22:04:38.799Z"
   },
   {
    "duration": 148,
    "start_time": "2023-05-14T22:04:46.242Z"
   },
   {
    "duration": 1515,
    "start_time": "2023-05-14T22:05:43.635Z"
   },
   {
    "duration": 40,
    "start_time": "2023-05-14T22:05:45.152Z"
   },
   {
    "duration": 17,
    "start_time": "2023-05-14T22:05:45.194Z"
   },
   {
    "duration": 14,
    "start_time": "2023-05-14T22:05:45.212Z"
   },
   {
    "duration": 62,
    "start_time": "2023-05-14T22:05:45.229Z"
   },
   {
    "duration": 17,
    "start_time": "2023-05-14T22:05:45.293Z"
   },
   {
    "duration": 67,
    "start_time": "2023-05-14T22:05:45.312Z"
   },
   {
    "duration": 19,
    "start_time": "2023-05-14T22:05:45.381Z"
   },
   {
    "duration": 16,
    "start_time": "2023-05-14T22:05:45.401Z"
   },
   {
    "duration": 47,
    "start_time": "2023-05-14T22:05:45.418Z"
   },
   {
    "duration": 134,
    "start_time": "2023-05-14T22:05:45.466Z"
   },
   {
    "duration": 53,
    "start_time": "2023-05-14T22:05:45.601Z"
   },
   {
    "duration": 14,
    "start_time": "2023-05-14T22:05:45.656Z"
   },
   {
    "duration": 22,
    "start_time": "2023-05-14T22:05:45.674Z"
   },
   {
    "duration": 588,
    "start_time": "2023-05-14T22:05:45.698Z"
   },
   {
    "duration": 64817,
    "start_time": "2023-05-14T22:05:46.288Z"
   },
   {
    "duration": 3657,
    "start_time": "2023-05-14T22:06:51.106Z"
   },
   {
    "duration": 53,
    "start_time": "2023-05-14T22:06:54.765Z"
   },
   {
    "duration": 153,
    "start_time": "2023-05-14T22:06:54.821Z"
   },
   {
    "duration": 423,
    "start_time": "2023-05-14T22:06:54.976Z"
   },
   {
    "duration": 139,
    "start_time": "2023-05-14T22:06:55.400Z"
   },
   {
    "duration": 78,
    "start_time": "2023-05-14T22:06:55.543Z"
   },
   {
    "duration": 38,
    "start_time": "2023-05-14T22:06:55.623Z"
   },
   {
    "duration": 561,
    "start_time": "2023-05-14T22:06:55.662Z"
   },
   {
    "duration": 7606,
    "start_time": "2023-05-14T22:06:56.225Z"
   },
   {
    "duration": 3836,
    "start_time": "2023-05-14T22:07:03.836Z"
   },
   {
    "duration": 4,
    "start_time": "2023-05-14T22:07:07.674Z"
   },
   {
    "duration": 9,
    "start_time": "2023-05-14T22:07:07.680Z"
   },
   {
    "duration": 9,
    "start_time": "2023-05-14T22:07:07.691Z"
   },
   {
    "duration": 168,
    "start_time": "2023-05-14T22:07:07.702Z"
   },
   {
    "duration": 212,
    "start_time": "2023-05-14T22:10:03.709Z"
   },
   {
    "duration": 3713,
    "start_time": "2023-05-14T22:11:38.872Z"
   },
   {
    "duration": 175,
    "start_time": "2023-05-14T22:14:12.010Z"
   },
   {
    "duration": 7,
    "start_time": "2023-05-14T22:15:18.959Z"
   },
   {
    "duration": 7,
    "start_time": "2023-05-14T22:15:41.942Z"
   },
   {
    "duration": 159,
    "start_time": "2023-05-14T22:15:42.492Z"
   },
   {
    "duration": 151,
    "start_time": "2023-05-14T22:15:53.615Z"
   },
   {
    "duration": 7,
    "start_time": "2023-05-14T22:16:02.246Z"
   },
   {
    "duration": 155,
    "start_time": "2023-05-14T22:16:02.634Z"
   },
   {
    "duration": 149,
    "start_time": "2023-05-14T22:17:17.295Z"
   },
   {
    "duration": 161,
    "start_time": "2023-05-14T22:17:20.999Z"
   },
   {
    "duration": 151,
    "start_time": "2023-05-14T22:17:23.252Z"
   },
   {
    "duration": 8,
    "start_time": "2023-05-14T22:17:25.702Z"
   },
   {
    "duration": 162,
    "start_time": "2023-05-14T22:17:26.209Z"
   },
   {
    "duration": 6,
    "start_time": "2023-05-14T22:17:29.684Z"
   },
   {
    "duration": 155,
    "start_time": "2023-05-14T22:17:30.042Z"
   },
   {
    "duration": 6,
    "start_time": "2023-05-14T22:17:32.690Z"
   },
   {
    "duration": 154,
    "start_time": "2023-05-14T22:17:32.977Z"
   },
   {
    "duration": 7,
    "start_time": "2023-05-14T22:17:55.197Z"
   },
   {
    "duration": 148,
    "start_time": "2023-05-14T22:17:55.658Z"
   },
   {
    "duration": 7,
    "start_time": "2023-05-14T22:17:57.711Z"
   },
   {
    "duration": 157,
    "start_time": "2023-05-14T22:17:58.047Z"
   },
   {
    "duration": 13,
    "start_time": "2023-05-14T22:17:59.711Z"
   },
   {
    "duration": 149,
    "start_time": "2023-05-14T22:17:59.954Z"
   },
   {
    "duration": 8,
    "start_time": "2023-05-14T22:18:01.363Z"
   },
   {
    "duration": 280,
    "start_time": "2023-05-14T22:18:01.570Z"
   },
   {
    "duration": 9,
    "start_time": "2023-05-14T22:18:03.042Z"
   },
   {
    "duration": 148,
    "start_time": "2023-05-14T22:18:03.242Z"
   },
   {
    "duration": 7,
    "start_time": "2023-05-14T22:18:04.734Z"
   },
   {
    "duration": 156,
    "start_time": "2023-05-14T22:18:04.938Z"
   },
   {
    "duration": 8,
    "start_time": "2023-05-14T22:18:13.414Z"
   },
   {
    "duration": 8,
    "start_time": "2023-05-14T22:18:22.242Z"
   },
   {
    "duration": 154,
    "start_time": "2023-05-14T22:18:22.534Z"
   },
   {
    "duration": 6,
    "start_time": "2023-05-14T22:18:25.464Z"
   },
   {
    "duration": 152,
    "start_time": "2023-05-14T22:18:25.738Z"
   },
   {
    "duration": 8,
    "start_time": "2023-05-14T22:18:27.165Z"
   },
   {
    "duration": 150,
    "start_time": "2023-05-14T22:18:27.347Z"
   },
   {
    "duration": 7,
    "start_time": "2023-05-14T22:18:28.676Z"
   },
   {
    "duration": 150,
    "start_time": "2023-05-14T22:18:28.849Z"
   },
   {
    "duration": 8,
    "start_time": "2023-05-14T22:18:30.134Z"
   },
   {
    "duration": 156,
    "start_time": "2023-05-14T22:18:30.289Z"
   },
   {
    "duration": 9,
    "start_time": "2023-05-14T22:18:32.044Z"
   },
   {
    "duration": 173,
    "start_time": "2023-05-14T22:18:32.198Z"
   },
   {
    "duration": 6,
    "start_time": "2023-05-14T22:18:40.466Z"
   },
   {
    "duration": 155,
    "start_time": "2023-05-14T22:18:40.659Z"
   },
   {
    "duration": 7,
    "start_time": "2023-05-14T22:18:42.186Z"
   },
   {
    "duration": 143,
    "start_time": "2023-05-14T22:18:42.365Z"
   },
   {
    "duration": 7,
    "start_time": "2023-05-14T22:18:48.816Z"
   },
   {
    "duration": 163,
    "start_time": "2023-05-14T22:18:49.010Z"
   },
   {
    "duration": 6,
    "start_time": "2023-05-14T22:18:50.605Z"
   },
   {
    "duration": 188,
    "start_time": "2023-05-14T22:18:50.777Z"
   },
   {
    "duration": 7,
    "start_time": "2023-05-14T22:18:53.242Z"
   },
   {
    "duration": 248,
    "start_time": "2023-05-14T22:18:53.806Z"
   },
   {
    "duration": 6,
    "start_time": "2023-05-14T22:19:08.095Z"
   },
   {
    "duration": 157,
    "start_time": "2023-05-14T22:19:08.538Z"
   },
   {
    "duration": 8,
    "start_time": "2023-05-14T22:19:38.338Z"
   },
   {
    "duration": 144,
    "start_time": "2023-05-14T22:19:38.855Z"
   },
   {
    "duration": 7,
    "start_time": "2023-05-14T22:19:40.458Z"
   },
   {
    "duration": 170,
    "start_time": "2023-05-14T22:19:40.734Z"
   },
   {
    "duration": 7,
    "start_time": "2023-05-14T22:19:42.642Z"
   },
   {
    "duration": 145,
    "start_time": "2023-05-14T22:19:42.856Z"
   },
   {
    "duration": 6,
    "start_time": "2023-05-14T22:19:56.204Z"
   },
   {
    "duration": 147,
    "start_time": "2023-05-14T22:19:56.445Z"
   },
   {
    "duration": 8,
    "start_time": "2023-05-14T22:20:03.951Z"
   },
   {
    "duration": 149,
    "start_time": "2023-05-14T22:20:04.153Z"
   },
   {
    "duration": 9,
    "start_time": "2023-05-14T22:20:08.942Z"
   },
   {
    "duration": 149,
    "start_time": "2023-05-14T22:20:09.242Z"
   },
   {
    "duration": 6,
    "start_time": "2023-05-14T22:20:11.751Z"
   },
   {
    "duration": 149,
    "start_time": "2023-05-14T22:20:11.955Z"
   },
   {
    "duration": 9,
    "start_time": "2023-05-14T22:20:14.502Z"
   },
   {
    "duration": 158,
    "start_time": "2023-05-14T22:20:14.776Z"
   },
   {
    "duration": 156,
    "start_time": "2023-05-14T22:21:16.230Z"
   },
   {
    "duration": 7,
    "start_time": "2023-05-14T22:21:19.649Z"
   },
   {
    "duration": 148,
    "start_time": "2023-05-14T22:21:20.155Z"
   },
   {
    "duration": 7,
    "start_time": "2023-05-14T22:21:23.657Z"
   },
   {
    "duration": 157,
    "start_time": "2023-05-14T22:21:23.975Z"
   },
   {
    "duration": 6,
    "start_time": "2023-05-14T22:21:26.458Z"
   },
   {
    "duration": 232,
    "start_time": "2023-05-14T22:21:26.738Z"
   },
   {
    "duration": 4,
    "start_time": "2023-05-14T22:33:03.699Z"
   },
   {
    "duration": 5,
    "start_time": "2023-05-14T22:33:14.250Z"
   },
   {
    "duration": 151,
    "start_time": "2023-05-14T22:35:38.152Z"
   },
   {
    "duration": 173,
    "start_time": "2023-05-14T22:41:01.271Z"
   },
   {
    "duration": 13,
    "start_time": "2023-05-14T22:42:10.846Z"
   },
   {
    "duration": 6,
    "start_time": "2023-05-14T22:42:24.890Z"
   },
   {
    "duration": 1374,
    "start_time": "2023-05-14T22:56:58.411Z"
   },
   {
    "duration": 46,
    "start_time": "2023-05-14T22:56:59.787Z"
   },
   {
    "duration": 18,
    "start_time": "2023-05-14T22:56:59.836Z"
   },
   {
    "duration": 16,
    "start_time": "2023-05-14T22:56:59.855Z"
   },
   {
    "duration": 39,
    "start_time": "2023-05-14T22:56:59.873Z"
   },
   {
    "duration": 21,
    "start_time": "2023-05-14T22:56:59.924Z"
   },
   {
    "duration": 58,
    "start_time": "2023-05-14T22:56:59.946Z"
   },
   {
    "duration": 28,
    "start_time": "2023-05-14T22:57:00.005Z"
   },
   {
    "duration": 38,
    "start_time": "2023-05-14T22:57:00.035Z"
   },
   {
    "duration": 23,
    "start_time": "2023-05-14T22:57:00.075Z"
   },
   {
    "duration": 150,
    "start_time": "2023-05-14T22:57:00.100Z"
   },
   {
    "duration": 40,
    "start_time": "2023-05-14T22:57:00.252Z"
   },
   {
    "duration": 14,
    "start_time": "2023-05-14T22:57:00.294Z"
   },
   {
    "duration": 45,
    "start_time": "2023-05-14T22:57:00.316Z"
   },
   {
    "duration": 598,
    "start_time": "2023-05-14T22:57:00.362Z"
   },
   {
    "duration": 63972,
    "start_time": "2023-05-14T22:57:00.961Z"
   },
   {
    "duration": 358,
    "start_time": "2023-05-14T22:58:04.935Z"
   },
   {
    "duration": 4,
    "start_time": "2023-05-14T22:58:05.295Z"
   },
   {
    "duration": 73,
    "start_time": "2023-05-14T22:58:05.300Z"
   },
   {
    "duration": 427,
    "start_time": "2023-05-14T22:58:05.374Z"
   },
   {
    "duration": 135,
    "start_time": "2023-05-14T22:58:05.803Z"
   },
   {
    "duration": 19,
    "start_time": "2023-05-14T22:58:05.943Z"
   },
   {
    "duration": 60,
    "start_time": "2023-05-14T22:58:05.963Z"
   },
   {
    "duration": 601,
    "start_time": "2023-05-14T22:58:06.025Z"
   },
   {
    "duration": 7768,
    "start_time": "2023-05-14T22:58:06.630Z"
   },
   {
    "duration": 3760,
    "start_time": "2023-05-14T22:58:14.399Z"
   },
   {
    "duration": 4,
    "start_time": "2023-05-14T22:58:18.161Z"
   },
   {
    "duration": 16,
    "start_time": "2023-05-14T22:58:18.167Z"
   },
   {
    "duration": 12,
    "start_time": "2023-05-14T22:58:18.185Z"
   },
   {
    "duration": 17,
    "start_time": "2023-05-14T22:58:18.198Z"
   },
   {
    "duration": 32,
    "start_time": "2023-05-14T22:58:18.217Z"
   },
   {
    "duration": 61,
    "start_time": "2023-05-14T22:58:18.251Z"
   },
   {
    "duration": 0,
    "start_time": "2023-05-14T22:58:18.313Z"
   },
   {
    "duration": 207,
    "start_time": "2023-05-14T23:03:50.741Z"
   },
   {
    "duration": 6,
    "start_time": "2023-05-14T23:03:54.309Z"
   },
   {
    "duration": 3704,
    "start_time": "2023-05-14T23:04:28.613Z"
   },
   {
    "duration": 105,
    "start_time": "2023-05-14T23:05:02.518Z"
   },
   {
    "duration": 1419,
    "start_time": "2023-05-14T23:05:27.089Z"
   },
   {
    "duration": 56,
    "start_time": "2023-05-14T23:05:28.510Z"
   },
   {
    "duration": 16,
    "start_time": "2023-05-14T23:05:28.567Z"
   },
   {
    "duration": 12,
    "start_time": "2023-05-14T23:05:28.585Z"
   },
   {
    "duration": 42,
    "start_time": "2023-05-14T23:05:28.599Z"
   },
   {
    "duration": 19,
    "start_time": "2023-05-14T23:05:28.643Z"
   },
   {
    "duration": 62,
    "start_time": "2023-05-14T23:05:28.664Z"
   },
   {
    "duration": 23,
    "start_time": "2023-05-14T23:05:28.728Z"
   },
   {
    "duration": 11,
    "start_time": "2023-05-14T23:05:28.754Z"
   },
   {
    "duration": 13,
    "start_time": "2023-05-14T23:05:28.768Z"
   },
   {
    "duration": 154,
    "start_time": "2023-05-14T23:05:28.783Z"
   },
   {
    "duration": 39,
    "start_time": "2023-05-14T23:05:28.939Z"
   },
   {
    "duration": 14,
    "start_time": "2023-05-14T23:05:28.980Z"
   },
   {
    "duration": 24,
    "start_time": "2023-05-14T23:05:28.995Z"
   },
   {
    "duration": 570,
    "start_time": "2023-05-14T23:05:29.021Z"
   },
   {
    "duration": 63354,
    "start_time": "2023-05-14T23:05:29.593Z"
   },
   {
    "duration": 3614,
    "start_time": "2023-05-14T23:06:32.949Z"
   },
   {
    "duration": 58,
    "start_time": "2023-05-14T23:06:36.565Z"
   },
   {
    "duration": 132,
    "start_time": "2023-05-14T23:06:36.626Z"
   },
   {
    "duration": 431,
    "start_time": "2023-05-14T23:06:36.759Z"
   },
   {
    "duration": 128,
    "start_time": "2023-05-14T23:06:37.191Z"
   },
   {
    "duration": 6,
    "start_time": "2023-05-14T23:06:37.321Z"
   },
   {
    "duration": 121,
    "start_time": "2023-05-14T23:06:37.328Z"
   },
   {
    "duration": 572,
    "start_time": "2023-05-14T23:06:37.451Z"
   },
   {
    "duration": 7536,
    "start_time": "2023-05-14T23:06:38.025Z"
   },
   {
    "duration": 3726,
    "start_time": "2023-05-14T23:06:45.563Z"
   },
   {
    "duration": 4,
    "start_time": "2023-05-14T23:06:49.291Z"
   },
   {
    "duration": 19,
    "start_time": "2023-05-14T23:06:49.299Z"
   },
   {
    "duration": 5,
    "start_time": "2023-05-14T23:06:49.320Z"
   },
   {
    "duration": 37,
    "start_time": "2023-05-14T23:06:49.326Z"
   },
   {
    "duration": 13,
    "start_time": "2023-05-14T23:06:49.364Z"
   },
   {
    "duration": 167,
    "start_time": "2023-05-14T23:06:49.378Z"
   },
   {
    "duration": 8,
    "start_time": "2023-05-14T23:06:49.547Z"
   },
   {
    "duration": 137,
    "start_time": "2023-05-15T06:51:45.873Z"
   },
   {
    "duration": 3038,
    "start_time": "2023-05-15T06:55:34.834Z"
   },
   {
    "duration": 1404,
    "start_time": "2023-05-15T06:55:41.944Z"
   },
   {
    "duration": 2860,
    "start_time": "2023-05-15T06:56:41.763Z"
   },
   {
    "duration": 15,
    "start_time": "2023-05-15T06:57:01.548Z"
   },
   {
    "duration": 436,
    "start_time": "2023-05-15T06:57:10.243Z"
   },
   {
    "duration": 81,
    "start_time": "2023-05-15T06:57:13.936Z"
   },
   {
    "duration": 17,
    "start_time": "2023-05-15T06:57:15.290Z"
   },
   {
    "duration": 15,
    "start_time": "2023-05-15T06:57:15.744Z"
   },
   {
    "duration": 46,
    "start_time": "2023-05-15T06:57:16.229Z"
   },
   {
    "duration": 31,
    "start_time": "2023-05-15T06:57:16.866Z"
   },
   {
    "duration": 3,
    "start_time": "2023-05-15T06:57:18.874Z"
   },
   {
    "duration": 11125,
    "start_time": "2023-05-15T06:57:19.986Z"
   },
   {
    "duration": 11046,
    "start_time": "2023-05-15T06:57:57.091Z"
   },
   {
    "duration": 2129,
    "start_time": "2023-05-15T07:00:52.443Z"
   },
   {
    "duration": 1827,
    "start_time": "2023-05-15T07:01:10.970Z"
   },
   {
    "duration": 1865,
    "start_time": "2023-05-15T07:01:26.018Z"
   },
   {
    "duration": 13916,
    "start_time": "2023-05-15T07:02:37.067Z"
   },
   {
    "duration": 1979,
    "start_time": "2023-05-15T07:11:31.090Z"
   },
   {
    "duration": 36,
    "start_time": "2023-05-15T07:11:33.071Z"
   },
   {
    "duration": 16,
    "start_time": "2023-05-15T07:11:33.109Z"
   },
   {
    "duration": 14,
    "start_time": "2023-05-15T07:11:33.127Z"
   },
   {
    "duration": 45,
    "start_time": "2023-05-15T07:11:33.143Z"
   },
   {
    "duration": 18,
    "start_time": "2023-05-15T07:11:33.190Z"
   },
   {
    "duration": 2180,
    "start_time": "2023-05-15T07:11:33.210Z"
   },
   {
    "duration": 11538,
    "start_time": "2023-05-15T07:11:35.393Z"
   },
   {
    "duration": 13596,
    "start_time": "2023-05-15T07:11:54.364Z"
   },
   {
    "duration": 14002,
    "start_time": "2023-05-15T07:15:54.189Z"
   },
   {
    "duration": 11219,
    "start_time": "2023-05-15T07:17:52.860Z"
   },
   {
    "duration": 1320,
    "start_time": "2023-05-15T07:21:06.554Z"
   },
   {
    "duration": 37,
    "start_time": "2023-05-15T07:21:07.876Z"
   },
   {
    "duration": 16,
    "start_time": "2023-05-15T07:21:07.915Z"
   },
   {
    "duration": 17,
    "start_time": "2023-05-15T07:21:07.933Z"
   },
   {
    "duration": 52,
    "start_time": "2023-05-15T07:21:07.952Z"
   },
   {
    "duration": 18,
    "start_time": "2023-05-15T07:21:08.006Z"
   },
   {
    "duration": 2028,
    "start_time": "2023-05-15T07:21:08.026Z"
   },
   {
    "duration": 13268,
    "start_time": "2023-05-15T07:21:10.056Z"
   },
   {
    "duration": 48,
    "start_time": "2023-05-15T07:21:23.326Z"
   },
   {
    "duration": 21,
    "start_time": "2023-05-15T07:21:23.377Z"
   },
   {
    "duration": 18,
    "start_time": "2023-05-15T07:21:23.400Z"
   },
   {
    "duration": 26,
    "start_time": "2023-05-15T07:21:23.420Z"
   },
   {
    "duration": 112,
    "start_time": "2023-05-15T07:21:47.240Z"
   },
   {
    "duration": 324,
    "start_time": "2023-05-15T07:56:12.683Z"
   },
   {
    "duration": 31,
    "start_time": "2023-05-15T07:56:39.575Z"
   },
   {
    "duration": 1335,
    "start_time": "2023-05-15T07:57:19.132Z"
   },
   {
    "duration": 41,
    "start_time": "2023-05-15T07:57:20.473Z"
   },
   {
    "duration": 25,
    "start_time": "2023-05-15T07:57:20.517Z"
   },
   {
    "duration": 26,
    "start_time": "2023-05-15T07:57:20.546Z"
   },
   {
    "duration": 54,
    "start_time": "2023-05-15T07:57:20.574Z"
   },
   {
    "duration": 30,
    "start_time": "2023-05-15T07:57:20.630Z"
   },
   {
    "duration": 1977,
    "start_time": "2023-05-15T07:57:20.662Z"
   },
   {
    "duration": 14303,
    "start_time": "2023-05-15T07:57:22.641Z"
   },
   {
    "duration": 65,
    "start_time": "2023-05-15T07:57:36.946Z"
   },
   {
    "duration": 20,
    "start_time": "2023-05-15T07:57:37.014Z"
   },
   {
    "duration": 25,
    "start_time": "2023-05-15T07:57:37.036Z"
   },
   {
    "duration": 15,
    "start_time": "2023-05-15T07:57:37.064Z"
   },
   {
    "duration": 134,
    "start_time": "2023-05-15T07:57:37.080Z"
   },
   {
    "duration": 2,
    "start_time": "2023-05-15T07:57:37.215Z"
   },
   {
    "duration": 199,
    "start_time": "2023-05-15T07:57:37.219Z"
   },
   {
    "duration": 27,
    "start_time": "2023-05-15T07:57:43.107Z"
   },
   {
    "duration": 22,
    "start_time": "2023-05-15T07:57:55.324Z"
   },
   {
    "duration": 25,
    "start_time": "2023-05-15T08:01:20.676Z"
   },
   {
    "duration": 114,
    "start_time": "2023-05-15T08:02:11.627Z"
   },
   {
    "duration": 185,
    "start_time": "2023-05-15T08:02:15.436Z"
   },
   {
    "duration": 187,
    "start_time": "2023-05-15T08:03:32.100Z"
   },
   {
    "duration": 19,
    "start_time": "2023-05-15T08:03:35.180Z"
   },
   {
    "duration": 57,
    "start_time": "2023-05-15T08:03:42.195Z"
   },
   {
    "duration": 32,
    "start_time": "2023-05-15T08:03:45.140Z"
   },
   {
    "duration": 6,
    "start_time": "2023-05-15T08:03:45.578Z"
   },
   {
    "duration": 23,
    "start_time": "2023-05-15T08:04:16.766Z"
   },
   {
    "duration": 13,
    "start_time": "2023-05-15T08:04:54.277Z"
   },
   {
    "duration": 7,
    "start_time": "2023-05-15T08:04:58.256Z"
   },
   {
    "duration": 23,
    "start_time": "2023-05-15T08:07:23.842Z"
   },
   {
    "duration": 4,
    "start_time": "2023-05-15T08:07:34.803Z"
   },
   {
    "duration": 38,
    "start_time": "2023-05-15T08:07:35.576Z"
   },
   {
    "duration": 25,
    "start_time": "2023-05-15T08:07:40.374Z"
   },
   {
    "duration": 21,
    "start_time": "2023-05-15T08:08:51.796Z"
   },
   {
    "duration": 205,
    "start_time": "2023-05-15T08:09:20.148Z"
   },
   {
    "duration": 18,
    "start_time": "2023-05-15T08:09:20.772Z"
   },
   {
    "duration": 13,
    "start_time": "2023-05-15T08:09:30.596Z"
   },
   {
    "duration": 12,
    "start_time": "2023-05-15T08:09:30.972Z"
   },
   {
    "duration": 5,
    "start_time": "2023-05-15T08:09:37.371Z"
   },
   {
    "duration": 5,
    "start_time": "2023-05-15T08:10:10.067Z"
   },
   {
    "duration": 32,
    "start_time": "2023-05-15T08:10:12.428Z"
   },
   {
    "duration": 88,
    "start_time": "2023-05-15T08:11:14.487Z"
   },
   {
    "duration": 6,
    "start_time": "2023-05-15T09:06:00.027Z"
   },
   {
    "duration": 19,
    "start_time": "2023-05-15T09:06:04.683Z"
   },
   {
    "duration": 9,
    "start_time": "2023-05-15T09:06:42.307Z"
   },
   {
    "duration": 7,
    "start_time": "2023-05-15T09:06:43.281Z"
   },
   {
    "duration": 21,
    "start_time": "2023-05-15T09:06:47.948Z"
   },
   {
    "duration": 1642,
    "start_time": "2023-05-15T09:29:51.470Z"
   },
   {
    "duration": 45,
    "start_time": "2023-05-15T09:29:53.114Z"
   },
   {
    "duration": 26,
    "start_time": "2023-05-15T09:29:53.161Z"
   },
   {
    "duration": 26,
    "start_time": "2023-05-15T09:29:53.188Z"
   },
   {
    "duration": 61,
    "start_time": "2023-05-15T09:29:53.216Z"
   },
   {
    "duration": 26,
    "start_time": "2023-05-15T09:29:53.279Z"
   },
   {
    "duration": 2753,
    "start_time": "2023-05-15T09:29:53.307Z"
   },
   {
    "duration": 16077,
    "start_time": "2023-05-15T09:29:56.063Z"
   },
   {
    "duration": 83,
    "start_time": "2023-05-15T09:30:12.142Z"
   },
   {
    "duration": 32,
    "start_time": "2023-05-15T09:30:12.227Z"
   },
   {
    "duration": 16,
    "start_time": "2023-05-15T09:30:12.262Z"
   },
   {
    "duration": 19,
    "start_time": "2023-05-15T09:30:12.280Z"
   },
   {
    "duration": 148,
    "start_time": "2023-05-15T09:30:12.301Z"
   },
   {
    "duration": 24,
    "start_time": "2023-05-15T09:30:12.454Z"
   },
   {
    "duration": 19,
    "start_time": "2023-05-15T09:30:12.483Z"
   },
   {
    "duration": 287,
    "start_time": "2023-05-15T09:30:12.505Z"
   },
   {
    "duration": 14,
    "start_time": "2023-05-15T09:30:12.794Z"
   },
   {
    "duration": 9,
    "start_time": "2023-05-15T09:30:12.811Z"
   },
   {
    "duration": 3,
    "start_time": "2023-05-15T09:30:12.822Z"
   },
   {
    "duration": 13,
    "start_time": "2023-05-15T09:30:12.826Z"
   },
   {
    "duration": 188,
    "start_time": "2023-05-15T09:30:12.840Z"
   },
   {
    "duration": 5,
    "start_time": "2023-05-15T09:32:34.628Z"
   },
   {
    "duration": 10,
    "start_time": "2023-05-15T09:34:18.968Z"
   },
   {
    "duration": 18,
    "start_time": "2023-05-15T09:35:31.148Z"
   },
   {
    "duration": 11,
    "start_time": "2023-05-15T09:35:39.265Z"
   },
   {
    "duration": 11,
    "start_time": "2023-05-15T09:35:45.100Z"
   },
   {
    "duration": 20,
    "start_time": "2023-05-15T09:35:47.899Z"
   },
   {
    "duration": 11,
    "start_time": "2023-05-15T09:39:42.778Z"
   },
   {
    "duration": 5,
    "start_time": "2023-05-15T09:39:45.011Z"
   },
   {
    "duration": 11,
    "start_time": "2023-05-15T09:40:35.876Z"
   },
   {
    "duration": 13,
    "start_time": "2023-05-15T09:40:37.507Z"
   },
   {
    "duration": 14,
    "start_time": "2023-05-15T09:41:51.036Z"
   },
   {
    "duration": 14,
    "start_time": "2023-05-15T09:45:19.635Z"
   },
   {
    "duration": 11,
    "start_time": "2023-05-15T09:45:23.490Z"
   },
   {
    "duration": 10,
    "start_time": "2023-05-15T09:45:23.987Z"
   },
   {
    "duration": 10,
    "start_time": "2023-05-15T09:46:48.811Z"
   },
   {
    "duration": 12,
    "start_time": "2023-05-15T09:47:35.731Z"
   },
   {
    "duration": 16,
    "start_time": "2023-05-15T09:50:23.110Z"
   },
   {
    "duration": 11,
    "start_time": "2023-05-15T09:50:34.899Z"
   },
   {
    "duration": 10,
    "start_time": "2023-05-15T09:50:38.690Z"
   },
   {
    "duration": 6,
    "start_time": "2023-05-15T09:50:43.410Z"
   },
   {
    "duration": 6,
    "start_time": "2023-05-15T09:50:51.026Z"
   },
   {
    "duration": 10,
    "start_time": "2023-05-15T09:50:51.835Z"
   },
   {
    "duration": 8,
    "start_time": "2023-05-15T09:51:00.947Z"
   },
   {
    "duration": 11,
    "start_time": "2023-05-15T09:51:16.345Z"
   },
   {
    "duration": 5,
    "start_time": "2023-05-15T09:51:18.435Z"
   },
   {
    "duration": 18,
    "start_time": "2023-05-15T09:51:50.671Z"
   },
   {
    "duration": 14,
    "start_time": "2023-05-15T09:52:03.338Z"
   },
   {
    "duration": 7,
    "start_time": "2023-05-15T09:52:09.346Z"
   },
   {
    "duration": 5,
    "start_time": "2023-05-15T09:52:10.225Z"
   },
   {
    "duration": 2048,
    "start_time": "2023-05-15T09:52:33.809Z"
   },
   {
    "duration": 54,
    "start_time": "2023-05-15T09:52:35.859Z"
   },
   {
    "duration": 17,
    "start_time": "2023-05-15T09:52:35.915Z"
   },
   {
    "duration": 19,
    "start_time": "2023-05-15T09:52:35.934Z"
   },
   {
    "duration": 48,
    "start_time": "2023-05-15T09:52:35.955Z"
   },
   {
    "duration": 18,
    "start_time": "2023-05-15T09:52:36.005Z"
   },
   {
    "duration": 2621,
    "start_time": "2023-05-15T09:52:36.025Z"
   },
   {
    "duration": 15572,
    "start_time": "2023-05-15T09:52:38.648Z"
   },
   {
    "duration": 69,
    "start_time": "2023-05-15T09:52:54.222Z"
   },
   {
    "duration": 26,
    "start_time": "2023-05-15T09:52:54.293Z"
   },
   {
    "duration": 14,
    "start_time": "2023-05-15T09:52:54.321Z"
   },
   {
    "duration": 24,
    "start_time": "2023-05-15T09:52:54.352Z"
   },
   {
    "duration": 150,
    "start_time": "2023-05-15T09:52:54.377Z"
   },
   {
    "duration": 13,
    "start_time": "2023-05-15T09:52:54.531Z"
   },
   {
    "duration": 20,
    "start_time": "2023-05-15T09:52:54.546Z"
   },
   {
    "duration": 34,
    "start_time": "2023-05-15T09:52:54.570Z"
   },
   {
    "duration": 17,
    "start_time": "2023-05-15T09:52:54.606Z"
   },
   {
    "duration": 15,
    "start_time": "2023-05-15T09:52:54.625Z"
   },
   {
    "duration": 25,
    "start_time": "2023-05-15T09:52:54.641Z"
   },
   {
    "duration": 13,
    "start_time": "2023-05-15T09:52:54.668Z"
   },
   {
    "duration": 8,
    "start_time": "2023-05-15T09:52:54.684Z"
   },
   {
    "duration": 19,
    "start_time": "2023-05-15T09:52:54.694Z"
   },
   {
    "duration": 241,
    "start_time": "2023-05-15T09:55:49.522Z"
   },
   {
    "duration": 304,
    "start_time": "2023-05-15T09:56:05.945Z"
   },
   {
    "duration": 316,
    "start_time": "2023-05-15T09:56:13.531Z"
   },
   {
    "duration": 45346,
    "start_time": "2023-05-15T09:57:17.284Z"
   },
   {
    "duration": 53,
    "start_time": "2023-05-15T09:59:09.977Z"
   },
   {
    "duration": 1766,
    "start_time": "2023-05-15T09:59:15.318Z"
   },
   {
    "duration": 6,
    "start_time": "2023-05-15T10:02:39.177Z"
   },
   {
    "duration": 30,
    "start_time": "2023-05-15T10:03:51.396Z"
   },
   {
    "duration": 714,
    "start_time": "2023-05-15T10:07:06.980Z"
   },
   {
    "duration": 106,
    "start_time": "2023-05-15T10:07:27.698Z"
   },
   {
    "duration": 5,
    "start_time": "2023-05-15T10:22:41.476Z"
   },
   {
    "duration": 4,
    "start_time": "2023-05-15T10:22:41.878Z"
   },
   {
    "duration": 117,
    "start_time": "2023-05-15T10:22:42.889Z"
   },
   {
    "duration": 137,
    "start_time": "2023-05-15T10:22:55.076Z"
   },
   {
    "duration": 347,
    "start_time": "2023-05-15T10:24:35.368Z"
   },
   {
    "duration": 127,
    "start_time": "2023-05-15T10:24:37.380Z"
   },
   {
    "duration": 6,
    "start_time": "2023-05-15T10:29:22.302Z"
   },
   {
    "duration": 40,
    "start_time": "2023-05-15T10:29:23.652Z"
   },
   {
    "duration": 677,
    "start_time": "2023-05-15T10:29:25.972Z"
   },
   {
    "duration": 209,
    "start_time": "2023-05-15T10:29:26.651Z"
   },
   {
    "duration": 6,
    "start_time": "2023-05-15T10:30:29.767Z"
   },
   {
    "duration": 171,
    "start_time": "2023-05-15T10:30:30.038Z"
   },
   {
    "duration": 5,
    "start_time": "2023-05-15T10:30:45.877Z"
   },
   {
    "duration": 110,
    "start_time": "2023-05-15T10:30:47.513Z"
   },
   {
    "duration": 130,
    "start_time": "2023-05-15T10:31:03.722Z"
   },
   {
    "duration": 244,
    "start_time": "2023-05-15T10:31:14.872Z"
   },
   {
    "duration": 5,
    "start_time": "2023-05-15T10:31:21.297Z"
   },
   {
    "duration": 182,
    "start_time": "2023-05-15T10:31:23.843Z"
   },
   {
    "duration": 5,
    "start_time": "2023-05-15T10:31:49.837Z"
   },
   {
    "duration": 277,
    "start_time": "2023-05-15T10:31:50.345Z"
   },
   {
    "duration": 5,
    "start_time": "2023-05-15T10:32:07.942Z"
   },
   {
    "duration": 343,
    "start_time": "2023-05-15T10:32:08.609Z"
   },
   {
    "duration": 5,
    "start_time": "2023-05-15T10:32:18.377Z"
   },
   {
    "duration": 382,
    "start_time": "2023-05-15T10:32:18.842Z"
   },
   {
    "duration": 7,
    "start_time": "2023-05-15T10:34:14.049Z"
   },
   {
    "duration": 204,
    "start_time": "2023-05-15T10:34:15.184Z"
   },
   {
    "duration": 5,
    "start_time": "2023-05-15T10:34:40.742Z"
   },
   {
    "duration": 280,
    "start_time": "2023-05-15T10:34:41.416Z"
   },
   {
    "duration": 8,
    "start_time": "2023-05-15T10:35:33.768Z"
   },
   {
    "duration": 3492,
    "start_time": "2023-05-15T10:35:35.992Z"
   },
   {
    "duration": 5,
    "start_time": "2023-05-15T10:35:49.689Z"
   },
   {
    "duration": 2479,
    "start_time": "2023-05-15T10:35:50.336Z"
   },
   {
    "duration": 5,
    "start_time": "2023-05-15T10:35:58.792Z"
   },
   {
    "duration": 4,
    "start_time": "2023-05-15T10:36:58.674Z"
   },
   {
    "duration": 6,
    "start_time": "2023-05-15T10:36:59.080Z"
   },
   {
    "duration": 352,
    "start_time": "2023-05-15T10:37:02.520Z"
   },
   {
    "duration": 4363,
    "start_time": "2023-05-15T10:37:21.741Z"
   },
   {
    "duration": 2558,
    "start_time": "2023-05-15T10:37:28.446Z"
   },
   {
    "duration": 5,
    "start_time": "2023-05-15T10:37:33.946Z"
   },
   {
    "duration": 7,
    "start_time": "2023-05-15T10:37:34.339Z"
   },
   {
    "duration": 9,
    "start_time": "2023-05-15T10:37:34.745Z"
   },
   {
    "duration": 5,
    "start_time": "2023-05-15T10:38:06.772Z"
   },
   {
    "duration": 6,
    "start_time": "2023-05-15T10:38:07.096Z"
   },
   {
    "duration": 70,
    "start_time": "2023-05-15T10:47:34.314Z"
   },
   {
    "duration": 306257,
    "start_time": "2023-05-15T10:47:43.483Z"
   },
   {
    "duration": 6,
    "start_time": "2023-05-15T11:00:40.097Z"
   },
   {
    "duration": 4,
    "start_time": "2023-05-15T11:01:09.802Z"
   },
   {
    "duration": 6992,
    "start_time": "2023-05-15T11:07:47.264Z"
   },
   {
    "duration": 567672,
    "start_time": "2023-05-15T11:10:09.074Z"
   },
   {
    "duration": 56368,
    "start_time": "2023-05-15T11:19:36.750Z"
   },
   {
    "duration": 5,
    "start_time": "2023-05-15T11:20:33.120Z"
   },
   {
    "duration": 24,
    "start_time": "2023-05-15T11:20:33.127Z"
   },
   {
    "duration": 2367,
    "start_time": "2023-05-15T11:27:12.287Z"
   },
   {
    "duration": 7,
    "start_time": "2023-05-15T11:27:16.877Z"
   },
   {
    "duration": 1573,
    "start_time": "2023-05-15T11:27:46.199Z"
   },
   {
    "duration": 9,
    "start_time": "2023-05-15T11:27:50.867Z"
   },
   {
    "duration": 716,
    "start_time": "2023-05-16T06:38:17.662Z"
   },
   {
    "duration": 0,
    "start_time": "2023-05-16T06:38:18.381Z"
   },
   {
    "duration": 0,
    "start_time": "2023-05-16T06:38:18.382Z"
   },
   {
    "duration": 0,
    "start_time": "2023-05-16T06:38:18.382Z"
   },
   {
    "duration": 0,
    "start_time": "2023-05-16T06:38:18.383Z"
   },
   {
    "duration": 0,
    "start_time": "2023-05-16T06:38:18.384Z"
   },
   {
    "duration": 0,
    "start_time": "2023-05-16T06:38:18.385Z"
   },
   {
    "duration": 0,
    "start_time": "2023-05-16T06:38:18.386Z"
   },
   {
    "duration": 0,
    "start_time": "2023-05-16T06:38:18.387Z"
   },
   {
    "duration": 1,
    "start_time": "2023-05-16T06:38:18.387Z"
   },
   {
    "duration": 0,
    "start_time": "2023-05-16T06:38:18.388Z"
   },
   {
    "duration": 0,
    "start_time": "2023-05-16T06:38:18.389Z"
   },
   {
    "duration": 0,
    "start_time": "2023-05-16T06:38:18.390Z"
   },
   {
    "duration": 0,
    "start_time": "2023-05-16T06:38:18.391Z"
   },
   {
    "duration": 0,
    "start_time": "2023-05-16T06:38:18.406Z"
   },
   {
    "duration": 0,
    "start_time": "2023-05-16T06:38:18.407Z"
   },
   {
    "duration": 0,
    "start_time": "2023-05-16T06:38:18.408Z"
   },
   {
    "duration": 0,
    "start_time": "2023-05-16T06:38:18.409Z"
   },
   {
    "duration": 0,
    "start_time": "2023-05-16T06:38:18.410Z"
   },
   {
    "duration": 0,
    "start_time": "2023-05-16T06:38:18.411Z"
   },
   {
    "duration": 0,
    "start_time": "2023-05-16T06:38:18.412Z"
   },
   {
    "duration": 0,
    "start_time": "2023-05-16T06:38:18.413Z"
   },
   {
    "duration": 0,
    "start_time": "2023-05-16T06:38:18.413Z"
   },
   {
    "duration": 0,
    "start_time": "2023-05-16T06:38:18.414Z"
   },
   {
    "duration": 0,
    "start_time": "2023-05-16T06:38:18.415Z"
   },
   {
    "duration": 0,
    "start_time": "2023-05-16T06:38:18.416Z"
   },
   {
    "duration": 0,
    "start_time": "2023-05-16T06:38:18.417Z"
   },
   {
    "duration": 0,
    "start_time": "2023-05-16T06:38:18.418Z"
   },
   {
    "duration": 0,
    "start_time": "2023-05-16T06:38:18.419Z"
   },
   {
    "duration": 0,
    "start_time": "2023-05-16T06:38:18.420Z"
   },
   {
    "duration": 0,
    "start_time": "2023-05-16T06:38:18.421Z"
   },
   {
    "duration": 0,
    "start_time": "2023-05-16T06:38:18.422Z"
   },
   {
    "duration": 0,
    "start_time": "2023-05-16T06:38:18.423Z"
   },
   {
    "duration": 0,
    "start_time": "2023-05-16T06:38:18.423Z"
   },
   {
    "duration": 0,
    "start_time": "2023-05-16T06:38:18.424Z"
   },
   {
    "duration": 0,
    "start_time": "2023-05-16T06:38:18.425Z"
   },
   {
    "duration": 0,
    "start_time": "2023-05-16T06:38:18.426Z"
   },
   {
    "duration": 0,
    "start_time": "2023-05-16T06:38:18.427Z"
   },
   {
    "duration": 0,
    "start_time": "2023-05-16T06:38:18.428Z"
   },
   {
    "duration": 0,
    "start_time": "2023-05-16T06:38:18.429Z"
   },
   {
    "duration": 0,
    "start_time": "2023-05-16T06:38:18.429Z"
   },
   {
    "duration": 0,
    "start_time": "2023-05-16T06:38:18.431Z"
   },
   {
    "duration": 0,
    "start_time": "2023-05-16T06:38:18.431Z"
   },
   {
    "duration": 0,
    "start_time": "2023-05-16T06:38:18.432Z"
   },
   {
    "duration": 0,
    "start_time": "2023-05-16T06:38:18.433Z"
   },
   {
    "duration": 0,
    "start_time": "2023-05-16T06:38:18.435Z"
   },
   {
    "duration": 0,
    "start_time": "2023-05-16T06:38:18.435Z"
   },
   {
    "duration": 0,
    "start_time": "2023-05-16T06:38:18.436Z"
   },
   {
    "duration": 0,
    "start_time": "2023-05-16T06:38:18.437Z"
   },
   {
    "duration": 0,
    "start_time": "2023-05-16T06:38:18.438Z"
   },
   {
    "duration": 0,
    "start_time": "2023-05-16T06:38:18.439Z"
   },
   {
    "duration": 0,
    "start_time": "2023-05-16T06:38:18.441Z"
   },
   {
    "duration": 11,
    "start_time": "2023-05-16T06:38:43.917Z"
   },
   {
    "duration": 0,
    "start_time": "2023-05-16T06:38:43.929Z"
   },
   {
    "duration": 0,
    "start_time": "2023-05-16T06:38:43.931Z"
   },
   {
    "duration": 0,
    "start_time": "2023-05-16T06:38:43.932Z"
   },
   {
    "duration": 0,
    "start_time": "2023-05-16T06:38:43.934Z"
   },
   {
    "duration": 0,
    "start_time": "2023-05-16T06:38:43.935Z"
   },
   {
    "duration": 0,
    "start_time": "2023-05-16T06:38:43.936Z"
   },
   {
    "duration": 0,
    "start_time": "2023-05-16T06:38:43.937Z"
   },
   {
    "duration": 0,
    "start_time": "2023-05-16T06:38:43.938Z"
   },
   {
    "duration": 0,
    "start_time": "2023-05-16T06:38:43.939Z"
   },
   {
    "duration": 7,
    "start_time": "2023-05-16T06:38:43.954Z"
   },
   {
    "duration": 0,
    "start_time": "2023-05-16T06:38:43.962Z"
   },
   {
    "duration": 0,
    "start_time": "2023-05-16T06:38:43.963Z"
   },
   {
    "duration": 0,
    "start_time": "2023-05-16T06:38:43.964Z"
   },
   {
    "duration": 0,
    "start_time": "2023-05-16T06:38:43.965Z"
   },
   {
    "duration": 0,
    "start_time": "2023-05-16T06:38:43.966Z"
   },
   {
    "duration": 0,
    "start_time": "2023-05-16T06:38:43.967Z"
   },
   {
    "duration": 0,
    "start_time": "2023-05-16T06:38:43.968Z"
   },
   {
    "duration": 0,
    "start_time": "2023-05-16T06:38:43.969Z"
   },
   {
    "duration": 0,
    "start_time": "2023-05-16T06:38:43.970Z"
   },
   {
    "duration": 6,
    "start_time": "2023-05-16T06:38:44.006Z"
   },
   {
    "duration": 0,
    "start_time": "2023-05-16T06:38:44.014Z"
   },
   {
    "duration": 0,
    "start_time": "2023-05-16T06:38:44.015Z"
   },
   {
    "duration": 0,
    "start_time": "2023-05-16T06:38:44.016Z"
   },
   {
    "duration": 0,
    "start_time": "2023-05-16T06:38:44.017Z"
   },
   {
    "duration": 0,
    "start_time": "2023-05-16T06:38:44.018Z"
   },
   {
    "duration": 0,
    "start_time": "2023-05-16T06:38:44.019Z"
   },
   {
    "duration": 0,
    "start_time": "2023-05-16T06:38:44.020Z"
   },
   {
    "duration": 0,
    "start_time": "2023-05-16T06:38:44.021Z"
   },
   {
    "duration": 0,
    "start_time": "2023-05-16T06:38:44.022Z"
   },
   {
    "duration": 0,
    "start_time": "2023-05-16T06:38:44.022Z"
   },
   {
    "duration": 0,
    "start_time": "2023-05-16T06:38:44.023Z"
   },
   {
    "duration": 0,
    "start_time": "2023-05-16T06:38:44.024Z"
   },
   {
    "duration": 0,
    "start_time": "2023-05-16T06:38:44.025Z"
   },
   {
    "duration": 0,
    "start_time": "2023-05-16T06:38:44.026Z"
   },
   {
    "duration": 0,
    "start_time": "2023-05-16T06:38:44.027Z"
   },
   {
    "duration": 0,
    "start_time": "2023-05-16T06:38:44.028Z"
   },
   {
    "duration": 0,
    "start_time": "2023-05-16T06:38:44.029Z"
   },
   {
    "duration": 0,
    "start_time": "2023-05-16T06:38:44.029Z"
   },
   {
    "duration": 0,
    "start_time": "2023-05-16T06:38:44.030Z"
   },
   {
    "duration": 0,
    "start_time": "2023-05-16T06:38:44.031Z"
   },
   {
    "duration": 0,
    "start_time": "2023-05-16T06:38:44.032Z"
   },
   {
    "duration": 0,
    "start_time": "2023-05-16T06:38:44.032Z"
   },
   {
    "duration": 0,
    "start_time": "2023-05-16T06:38:44.033Z"
   },
   {
    "duration": 0,
    "start_time": "2023-05-16T06:38:44.034Z"
   },
   {
    "duration": 0,
    "start_time": "2023-05-16T06:38:44.035Z"
   },
   {
    "duration": 0,
    "start_time": "2023-05-16T06:38:44.036Z"
   },
   {
    "duration": 0,
    "start_time": "2023-05-16T06:38:44.037Z"
   },
   {
    "duration": 0,
    "start_time": "2023-05-16T06:38:44.038Z"
   },
   {
    "duration": 0,
    "start_time": "2023-05-16T06:38:44.038Z"
   },
   {
    "duration": 0,
    "start_time": "2023-05-16T06:38:44.039Z"
   },
   {
    "duration": 0,
    "start_time": "2023-05-16T06:38:44.040Z"
   },
   {
    "duration": 3001,
    "start_time": "2023-05-16T06:39:24.088Z"
   },
   {
    "duration": 713,
    "start_time": "2023-05-16T06:39:27.091Z"
   },
   {
    "duration": 164,
    "start_time": "2023-05-16T06:39:27.806Z"
   },
   {
    "duration": 16,
    "start_time": "2023-05-16T06:39:27.972Z"
   },
   {
    "duration": 13,
    "start_time": "2023-05-16T06:39:27.989Z"
   },
   {
    "duration": 36,
    "start_time": "2023-05-16T06:39:28.004Z"
   },
   {
    "duration": 16,
    "start_time": "2023-05-16T06:39:28.042Z"
   },
   {
    "duration": 1811,
    "start_time": "2023-05-16T06:39:28.060Z"
   },
   {
    "duration": 11372,
    "start_time": "2023-05-16T06:39:29.873Z"
   },
   {
    "duration": 47,
    "start_time": "2023-05-16T06:39:41.247Z"
   },
   {
    "duration": 18,
    "start_time": "2023-05-16T06:39:41.296Z"
   },
   {
    "duration": 9,
    "start_time": "2023-05-16T06:39:41.316Z"
   },
   {
    "duration": 12,
    "start_time": "2023-05-16T06:39:41.327Z"
   },
   {
    "duration": 122,
    "start_time": "2023-05-16T06:39:41.341Z"
   },
   {
    "duration": 11,
    "start_time": "2023-05-16T06:39:41.465Z"
   },
   {
    "duration": 9,
    "start_time": "2023-05-16T06:39:41.478Z"
   },
   {
    "duration": 18,
    "start_time": "2023-05-16T06:39:41.488Z"
   },
   {
    "duration": 9,
    "start_time": "2023-05-16T06:39:41.507Z"
   },
   {
    "duration": 7,
    "start_time": "2023-05-16T06:39:41.518Z"
   },
   {
    "duration": 3,
    "start_time": "2023-05-16T06:39:41.527Z"
   },
   {
    "duration": 94,
    "start_time": "2023-05-16T06:39:41.532Z"
   },
   {
    "duration": 7,
    "start_time": "2023-05-16T06:39:41.628Z"
   },
   {
    "duration": 7,
    "start_time": "2023-05-16T06:39:41.636Z"
   },
   {
    "duration": 244,
    "start_time": "2023-05-16T06:39:41.644Z"
   },
   {
    "duration": 36232,
    "start_time": "2023-05-16T06:39:41.889Z"
   },
   {
    "duration": 1591,
    "start_time": "2023-05-16T06:40:18.124Z"
   },
   {
    "duration": 91,
    "start_time": "2023-05-16T06:40:19.716Z"
   },
   {
    "duration": 110,
    "start_time": "2023-05-16T06:40:19.811Z"
   },
   {
    "duration": 535,
    "start_time": "2023-05-16T06:40:19.922Z"
   },
   {
    "duration": 58,
    "start_time": "2023-05-16T06:40:20.458Z"
   },
   {
    "duration": 91,
    "start_time": "2023-05-16T06:40:20.518Z"
   },
   {
    "duration": 97,
    "start_time": "2023-05-16T06:40:20.611Z"
   },
   {
    "duration": 254,
    "start_time": "2023-05-16T06:40:20.709Z"
   },
   {
    "duration": 3660,
    "start_time": "2023-05-16T06:40:20.964Z"
   },
   {
    "duration": 2064,
    "start_time": "2023-05-16T06:40:24.626Z"
   },
   {
    "duration": 4,
    "start_time": "2023-05-16T06:40:26.691Z"
   },
   {
    "duration": 19,
    "start_time": "2023-05-16T06:40:26.696Z"
   },
   {
    "duration": 8,
    "start_time": "2023-05-16T06:40:26.717Z"
   },
   {
    "duration": 48248,
    "start_time": "2023-05-16T06:40:26.726Z"
   },
   {
    "duration": 487168,
    "start_time": "2023-05-16T06:41:14.976Z"
   },
   {
    "duration": 366207,
    "start_time": "2023-05-16T06:49:22.145Z"
   },
   {
    "duration": 4,
    "start_time": "2023-05-16T06:55:28.353Z"
   },
   {
    "duration": 5,
    "start_time": "2023-05-16T06:55:28.359Z"
   },
   {
    "duration": 7,
    "start_time": "2023-05-16T06:55:28.365Z"
   },
   {
    "duration": 1351,
    "start_time": "2023-05-16T06:55:28.373Z"
   },
   {
    "duration": 19914,
    "start_time": "2023-05-16T06:55:29.726Z"
   },
   {
    "duration": 99,
    "start_time": "2023-05-16T06:55:49.710Z"
   },
   {
    "duration": 0,
    "start_time": "2023-05-16T06:55:49.813Z"
   },
   {
    "duration": 0,
    "start_time": "2023-05-16T06:55:49.816Z"
   },
   {
    "duration": 0,
    "start_time": "2023-05-16T06:55:49.818Z"
   },
   {
    "duration": 0,
    "start_time": "2023-05-16T06:55:49.819Z"
   },
   {
    "duration": 0,
    "start_time": "2023-05-16T06:55:49.820Z"
   },
   {
    "duration": 0,
    "start_time": "2023-05-16T06:55:49.820Z"
   },
   {
    "duration": 14971,
    "start_time": "2023-05-16T06:57:40.153Z"
   },
   {
    "duration": 12,
    "start_time": "2023-05-16T06:57:59.327Z"
   },
   {
    "duration": 4,
    "start_time": "2023-05-16T06:57:59.557Z"
   },
   {
    "duration": 5,
    "start_time": "2023-05-16T06:57:59.856Z"
   },
   {
    "duration": 2,
    "start_time": "2023-05-16T06:58:03.787Z"
   },
   {
    "duration": 70,
    "start_time": "2023-05-16T06:58:06.392Z"
   },
   {
    "duration": 107,
    "start_time": "2023-05-16T06:59:20.354Z"
   },
   {
    "duration": 824,
    "start_time": "2023-05-16T06:59:23.592Z"
   },
   {
    "duration": 972,
    "start_time": "2023-05-16T06:59:51.299Z"
   },
   {
    "duration": 6,
    "start_time": "2023-05-16T06:59:59.187Z"
   },
   {
    "duration": 550,
    "start_time": "2023-05-16T07:00:10.286Z"
   },
   {
    "duration": 1145,
    "start_time": "2023-05-16T07:00:21.658Z"
   },
   {
    "duration": 2191,
    "start_time": "2023-05-16T07:01:29.861Z"
   },
   {
    "duration": 1550,
    "start_time": "2023-05-16T07:01:41.786Z"
   },
   {
    "duration": 939,
    "start_time": "2023-05-16T07:02:35.948Z"
   },
   {
    "duration": 1561,
    "start_time": "2023-05-16T07:03:00.291Z"
   }
  ],
  "kernelspec": {
   "display_name": "Python 3 (ipykernel)",
   "language": "python",
   "name": "python3"
  },
  "language_info": {
   "codemirror_mode": {
    "name": "ipython",
    "version": 3
   },
   "file_extension": ".py",
   "mimetype": "text/x-python",
   "name": "python",
   "nbconvert_exporter": "python",
   "pygments_lexer": "ipython3",
   "version": "3.9.12"
  },
  "toc": {
   "base_numbering": 1,
   "nav_menu": {},
   "number_sections": true,
   "sideBar": true,
   "skip_h1_title": true,
   "title_cell": "Содержание",
   "title_sidebar": "Contents",
   "toc_cell": true,
   "toc_position": {
    "height": "calc(100% - 180px)",
    "left": "10px",
    "top": "150px",
    "width": "165px"
   },
   "toc_section_display": true,
   "toc_window_display": true
  }
 },
 "nbformat": 4,
 "nbformat_minor": 2
}
