{
 "cells": [
  {
   "cell_type": "markdown",
   "metadata": {
    "toc": true
   },
   "source": [
    "<h1>Содержание<span class=\"tocSkip\"></span></h1>\n",
    "<div class=\"toc\"><ul class=\"toc-item\"><li><span><a href=\"#Загрузка-данных\" data-toc-modified-id=\"Загрузка-данных-1\"><span class=\"toc-item-num\">1&nbsp;&nbsp;</span>Загрузка данных</a></span></li><li><span><a href=\"#Умножение-матриц\" data-toc-modified-id=\"Умножение-матриц-2\"><span class=\"toc-item-num\">2&nbsp;&nbsp;</span>Умножение матриц</a></span></li><li><span><a href=\"#Алгоритм-преобразования\" data-toc-modified-id=\"Алгоритм-преобразования-3\"><span class=\"toc-item-num\">3&nbsp;&nbsp;</span>Алгоритм преобразования</a></span></li><li><span><a href=\"#Проверка-алгоритма\" data-toc-modified-id=\"Проверка-алгоритма-4\"><span class=\"toc-item-num\">4&nbsp;&nbsp;</span>Проверка алгоритма</a></span></li><li><span><a href=\"#Чек-лист-проверки\" data-toc-modified-id=\"Чек-лист-проверки-5\"><span class=\"toc-item-num\">5&nbsp;&nbsp;</span>Чек-лист проверки</a></span></li></ul></div>"
   ]
  },
  {
   "cell_type": "markdown",
   "metadata": {},
   "source": [
    "# Защита персональных данных клиентов"
   ]
  },
  {
   "cell_type": "markdown",
   "metadata": {},
   "source": [
    "Вам нужно защитить данные клиентов страховой компании «Хоть потоп». Разработайте такой метод преобразования данных, чтобы по ним было сложно восстановить персональную информацию. Обоснуйте корректность его работы.\n",
    "\n",
    "Нужно защитить данные, чтобы при преобразовании качество моделей машинного обучения не ухудшилось. Подбирать наилучшую модель не требуется."
   ]
  },
  {
   "cell_type": "markdown",
   "metadata": {},
   "source": [
    "## Загрузка данных"
   ]
  },
  {
   "cell_type": "code",
   "execution_count": 1,
   "metadata": {},
   "outputs": [],
   "source": [
    "# импортируем основные библиотеки\n",
    "import pandas as pd\n",
    "import numpy as np\n",
    "\n",
    "from sklearn.metrics import r2_score"
   ]
  },
  {
   "cell_type": "code",
   "execution_count": 2,
   "metadata": {},
   "outputs": [],
   "source": [
    "# загружаем датасет\n",
    "db = pd.read_csv('/datasets/insurance.csv')"
   ]
  },
  {
   "cell_type": "code",
   "execution_count": 3,
   "metadata": {},
   "outputs": [
    {
     "name": "stdout",
     "output_type": "stream",
     "text": [
      "<class 'pandas.core.frame.DataFrame'>\n",
      "RangeIndex: 5000 entries, 0 to 4999\n",
      "Data columns (total 5 columns):\n",
      " #   Column             Non-Null Count  Dtype  \n",
      "---  ------             --------------  -----  \n",
      " 0   Пол                5000 non-null   int64  \n",
      " 1   Возраст            5000 non-null   float64\n",
      " 2   Зарплата           5000 non-null   float64\n",
      " 3   Члены семьи        5000 non-null   int64  \n",
      " 4   Страховые выплаты  5000 non-null   int64  \n",
      "dtypes: float64(2), int64(3)\n",
      "memory usage: 195.4 KB\n"
     ]
    }
   ],
   "source": [
    "# проверяем на корректность  загрузки\n",
    "db.info()"
   ]
  },
  {
   "cell_type": "code",
   "execution_count": 4,
   "metadata": {},
   "outputs": [
    {
     "data": {
      "text/html": [
       "<div>\n",
       "<style scoped>\n",
       "    .dataframe tbody tr th:only-of-type {\n",
       "        vertical-align: middle;\n",
       "    }\n",
       "\n",
       "    .dataframe tbody tr th {\n",
       "        vertical-align: top;\n",
       "    }\n",
       "\n",
       "    .dataframe thead th {\n",
       "        text-align: right;\n",
       "    }\n",
       "</style>\n",
       "<table border=\"1\" class=\"dataframe\">\n",
       "  <thead>\n",
       "    <tr style=\"text-align: right;\">\n",
       "      <th></th>\n",
       "      <th>Пол</th>\n",
       "      <th>Возраст</th>\n",
       "      <th>Зарплата</th>\n",
       "      <th>Члены семьи</th>\n",
       "      <th>Страховые выплаты</th>\n",
       "    </tr>\n",
       "  </thead>\n",
       "  <tbody>\n",
       "    <tr>\n",
       "      <th>0</th>\n",
       "      <td>1</td>\n",
       "      <td>41.0</td>\n",
       "      <td>49600.0</td>\n",
       "      <td>1</td>\n",
       "      <td>0</td>\n",
       "    </tr>\n",
       "    <tr>\n",
       "      <th>1</th>\n",
       "      <td>0</td>\n",
       "      <td>46.0</td>\n",
       "      <td>38000.0</td>\n",
       "      <td>1</td>\n",
       "      <td>1</td>\n",
       "    </tr>\n",
       "    <tr>\n",
       "      <th>2</th>\n",
       "      <td>0</td>\n",
       "      <td>29.0</td>\n",
       "      <td>21000.0</td>\n",
       "      <td>0</td>\n",
       "      <td>0</td>\n",
       "    </tr>\n",
       "    <tr>\n",
       "      <th>3</th>\n",
       "      <td>0</td>\n",
       "      <td>21.0</td>\n",
       "      <td>41700.0</td>\n",
       "      <td>2</td>\n",
       "      <td>0</td>\n",
       "    </tr>\n",
       "    <tr>\n",
       "      <th>4</th>\n",
       "      <td>1</td>\n",
       "      <td>28.0</td>\n",
       "      <td>26100.0</td>\n",
       "      <td>0</td>\n",
       "      <td>0</td>\n",
       "    </tr>\n",
       "  </tbody>\n",
       "</table>\n",
       "</div>"
      ],
      "text/plain": [
       "   Пол  Возраст  Зарплата  Члены семьи  Страховые выплаты\n",
       "0    1     41.0   49600.0            1                  0\n",
       "1    0     46.0   38000.0            1                  1\n",
       "2    0     29.0   21000.0            0                  0\n",
       "3    0     21.0   41700.0            2                  0\n",
       "4    1     28.0   26100.0            0                  0"
      ]
     },
     "execution_count": 4,
     "metadata": {},
     "output_type": "execute_result"
    }
   ],
   "source": [
    "db.head(5)"
   ]
  },
  {
   "cell_type": "markdown",
   "metadata": {},
   "source": [
    "**Вывод:** В дадасете 5000 строк. Пропуски отсутствуют."
   ]
  },
  {
   "cell_type": "markdown",
   "metadata": {},
   "source": [
    "## Умножение матриц"
   ]
  },
  {
   "cell_type": "markdown",
   "metadata": {},
   "source": [
    "В этом задании вы можете записывать формулы в *Jupyter Notebook.*\n",
    "\n",
    "Чтобы записать формулу внутри текста, окружите её символами доллара \\\\$; если снаружи —  двойными символами \\\\$\\\\$. Эти формулы записываются на языке вёрстки *LaTeX.* \n",
    "\n",
    "Для примера мы записали формулы линейной регрессии. Можете их скопировать и отредактировать, чтобы решить задачу.\n",
    "\n",
    "Работать в *LaTeX* необязательно."
   ]
  },
  {
   "cell_type": "markdown",
   "metadata": {},
   "source": [
    "Обозначения:\n",
    "\n",
    "- $X$ — матрица признаков (нулевой столбец состоит из единиц)\n",
    "\n",
    "- $y$ — вектор целевого признака\n",
    "\n",
    "- $P$ — матрица, на которую умножаются признаки\n",
    "\n",
    "- $w$ — вектор весов линейной регрессии (нулевой элемент равен сдвигу)"
   ]
  },
  {
   "cell_type": "markdown",
   "metadata": {},
   "source": [
    "Предсказания:\n",
    "\n",
    "$$\n",
    "a = Xw\n",
    "$$\n",
    "\n",
    "Задача обучения:\n",
    "\n",
    "$$\n",
    "w = \\arg\\min_w MSE(Xw, y)\n",
    "$$\n",
    "\n",
    "Формула обучения:\n",
    "\n",
    "$$\n",
    "w = (X^T X)^{-1} X^T y\n",
    "$$"
   ]
  },
  {
   "cell_type": "markdown",
   "metadata": {},
   "source": [
    "**Ответ:** Нет, рузультат при умножении признаков исходной матрицы на обратную не изменится.\n",
    "\n",
    "**Обоснование:** \n",
    "Как и было выше написано, формула линейной регрессии вычесляется так:\n",
    "\n",
    "$$a = Xw + w0$$\n",
    "\n",
    "Для более схожей формулы с теорией добавил w0 - величина сдвига весов.\n",
    "\n",
    "Если признаки умножить на любую обратимую квадратную матрицу (Не важно какие именно значения будут в самой матрице, главное что бы она была обратимой) и точно так же умножим веса но уже на обратную матрицу, то получим следующую формулу: \n",
    "\n",
    "$$a = XA^{-1}Aw + w0$$\n",
    "\n",
    "Квадратная матрица необходима именно для того, что бы можно было вернуться к исходной матрице X\n"
   ]
  },
  {
   "cell_type": "markdown",
   "metadata": {},
   "source": [
    "**Обоснование:**\n",
    "\n",
    "Используемые свойства:\n",
    "$$\n",
    "(AB)^T=B^T A^T\n",
    "$$\n",
    "$$\n",
    "(AB)^{-1} = B^{-1} A^{-1}\n",
    "$$\n",
    "$$\n",
    "A A^{-1} = A^{-1} A = E\n",
    "$$\n",
    "$$\n",
    "AE = EA = A\n",
    "$$\n",
    "Доказательство:\n",
    "$$\n",
    "a = Xw = XEw = XPP^{-1}w = (XP)P^{-1}w = (XP)w'\n",
    "$$\n",
    "\\\n",
    "Требуется доказать, что предсказания не изменятся, имеем  $a =  Xw$,   $a' = X'w'$\n",
    "\\\n",
    "\\\n",
    "$$\n",
    "    w = (X^T X)^{-1} X^T y\n",
    "$$\n",
    "\\\n",
    "$$\n",
    "w' = ((XP)^T XP)^{-1} (XP)^T y\n",
    "$$\n",
    "$$\n",
    "w' = (P^T (X^T X) P)^{-1} (XP)^T y\n",
    "$$\n",
    "$$\n",
    "w' = (P^T (X^T X) P)^{-1} P^T X^T y\n",
    "$$\n",
    "\n"
   ]
  },
  {
   "cell_type": "markdown",
   "metadata": {},
   "source": [
    "Расскроем скобки \n",
    "$$w' = (P^{T})^{-1}(X^{T}X)^{-1}P^{-1}P^{T}X^{T}y $$\n",
    "\n",
    "По условию данное разложение будет равнятся еденичной матрце, поэтому можно сократить выражение\n",
    "$(P^{T})^{-1}P^{T} = E$\n",
    "\n",
    "\n",
    "В результате у нас получается \n",
    "$$ w' = (X^{T}X)^{-1}P^{-1}X^{T}y$$\n",
    "\n",
    "Расскрываем скобки далее\n",
    "$$ w' = (X^{T})^{-1}X^{-1}P^{-1}X^{T}y $$\n",
    "\n",
    "По свойсту $(X^{T})^{-1}X^{-1} = X$ сократим выражение дальше\n",
    "\n",
    "$$ w' = XP^{-1}X^{T}y $$\n",
    "\n",
    "\n",
    "Т.к   $XX^{T} = P$ то итоговые веса равны\n",
    "\n",
    "$$ w' = PP^{-1} $$\n",
    "\n",
    "\n",
    "Подставляем значение в формулу и получаем \n",
    "\n",
    "$$ a = (XP)w' = (XP)PP^{-1} = X(PP)P^{-1} = XP^{-1} $$\n"
   ]
  },
  {
   "cell_type": "markdown",
   "metadata": {},
   "source": [
    "$$ w' = (AB)^{-1}X^{T}y = B^{-1}A^{-1}X^{T}y $$\n",
    "\n",
    "Далее расскроем ранее сокращенные выражения \n",
    "\n",
    "$$ w' = P^{-1}(X^{T}X)^{-1}X^{T}y $$\n",
    "\n",
    "Выражение $(X^{T}X)^{-1}X^{T}y$ является матрицей весов регресии a, т.е. $w$. Тогда получается что \n",
    "\n",
    "$$ w' = P^{-1}w $$\n",
    "$$ a' = (XP)w' = XPP^{-1}w = Xw = a $$"
   ]
  },
  {
   "cell_type": "code",
   "execution_count": 5,
   "metadata": {},
   "outputs": [
    {
     "name": "stdout",
     "output_type": "stream",
     "text": [
      "[[ 1.00000000e+00  2.77555756e-17 -3.33066907e-16]\n",
      " [-2.22044605e-16  1.00000000e+00 -1.11022302e-16]\n",
      " [-2.22044605e-16 -5.55111512e-17  1.00000000e+00]]\n",
      "\n",
      "[[ 1.00000000e+00  0.00000000e+00 -8.32667268e-17]\n",
      " [ 0.00000000e+00  1.00000000e+00 -4.44089210e-16]\n",
      " [ 0.00000000e+00  1.11022302e-16  1.00000000e+00]]\n"
     ]
    }
   ],
   "source": [
    "# наглядный эксперемент \n",
    "a = np.array([[1,2,3],\n",
    "             [8,4,5],\n",
    "             [4,3,2]])\n",
    "\n",
    "print(a @ np.linalg.inv(a))\n",
    "print()\n",
    "print(np.linalg.inv(a) @ a)"
   ]
  },
  {
   "cell_type": "markdown",
   "metadata": {},
   "source": [
    "Из примера видим, что  $A^{-1}A$  или $AA^{-1}$ при любом варинте умножения выдают по своей диагонали еденичную матрицу. Именно за счёт этого удастся получать одинаковый результат при умножении на исходную матрицу и веса векторов. Так же при умножении матрицы на еденичную матрицу результат не меняется.\n"
   ]
  },
  {
   "cell_type": "markdown",
   "metadata": {},
   "source": [
    "## Алгоритм преобразования"
   ]
  },
  {
   "cell_type": "markdown",
   "metadata": {},
   "source": [
    "**Алгоритм**\n",
    "\n",
    "\n",
    "- Создадим любую квадратную матрицу, основываясь на размерности нашей исходной тестовой выборки. К примеру, числа в квадратной матрицу пусть будут от -100 до 100.\n",
    "- найдем произведение обратной матрицы на квадратную \n",
    "- умножим получившиюся матрицу на матрицу значений датасета\n"
   ]
  },
  {
   "cell_type": "code",
   "execution_count": 6,
   "metadata": {},
   "outputs": [],
   "source": [
    "# поделим датасет на фичи и таргет\n",
    "features  = db.drop('Страховые выплаты', axis = 1)\n",
    "target = db['Страховые выплаты']"
   ]
  },
  {
   "cell_type": "code",
   "execution_count": 7,
   "metadata": {},
   "outputs": [],
   "source": [
    "# квадратная матрица\n",
    "sq_matrix_r = np.random.normal(-100, 100, (features.shape[1], features.shape[1]))"
   ]
  },
  {
   "cell_type": "code",
   "execution_count": 8,
   "metadata": {},
   "outputs": [],
   "source": [
    "sq_matrix_inv = np.linalg.inv(sq_matrix_r)"
   ]
  },
  {
   "cell_type": "code",
   "execution_count": 9,
   "metadata": {},
   "outputs": [],
   "source": [
    "Defent_matrix =  features @ sq_matrix_inv"
   ]
  },
  {
   "cell_type": "code",
   "execution_count": 10,
   "metadata": {},
   "outputs": [
    {
     "name": "stdout",
     "output_type": "stream",
     "text": [
      "                0           1            2            3\n",
      "0     1438.188112 -495.889975  1389.198724 -1517.314521\n",
      "1     1102.771455 -380.253577  1065.474192 -1163.605041\n",
      "2      609.672882 -210.232373   589.122944  -643.344225\n",
      "3     1208.216556 -416.567312  1166.803643 -1274.543127\n",
      "4      757.219857 -261.104486   731.548937  -798.950860\n",
      "...           ...         ...          ...          ...\n",
      "4995  1035.012149 -356.863313   999.718551 -1091.940880\n",
      "4996  1518.772234 -523.656973  1466.866460 -1602.230518\n",
      "4997   982.398110 -338.712662   948.776505 -1036.360444\n",
      "4998   947.771722 -326.779075   915.377239  -999.861431\n",
      "4999  1176.862805 -405.776839  1136.671266 -1241.550320\n",
      "\n",
      "[5000 rows x 4 columns]\n"
     ]
    }
   ],
   "source": [
    "print(Defent_matrix)"
   ]
  },
  {
   "cell_type": "markdown",
   "metadata": {},
   "source": [
    "## Проверка алгоритма"
   ]
  },
  {
   "cell_type": "markdown",
   "metadata": {},
   "source": [
    "Создам класс для написания линейной регресии."
   ]
  },
  {
   "cell_type": "code",
   "execution_count": 11,
   "metadata": {},
   "outputs": [],
   "source": [
    "\n",
    "class LinearRegression:\n",
    "    \n",
    "    \"\"\"Линейная регрессия\"\"\"\n",
    "    \n",
    "    def fit(self, train_features, train_target):\n",
    "        \n",
    "        \"\"\"Получение весов \"\"\"\n",
    "        \n",
    "        X = np.concatenate((np.ones((train_features.shape[0], 1)), train_features), axis=1)\n",
    "        y = train_target\n",
    "        w = (np.linalg.inv(X.T.dot(X))).dot(X.T).dot(y)\n",
    "        self.w = w[1:]\n",
    "        self.w0 = w[0]\n",
    "\n",
    "    def predict(self, test_features):\n",
    "        \n",
    "        \"\"\"вычисление результата\"\"\"\n",
    "        \n",
    "        return test_features.dot(self.w) + self.w0\n",
    "    "
   ]
  },
  {
   "cell_type": "code",
   "execution_count": 12,
   "metadata": {},
   "outputs": [],
   "source": [
    "model = LinearRegression()\n",
    "model.fit(features, target)\n",
    "predictions = model.predict(features)\n",
    "result_1 = r2_score(target, predictions)"
   ]
  },
  {
   "cell_type": "code",
   "execution_count": 13,
   "metadata": {},
   "outputs": [],
   "source": [
    "model = LinearRegression()\n",
    "model.fit(Defent_matrix, target)\n",
    "predictions = model.predict(Defent_matrix)\n",
    "result_2 = r2_score(target, predictions)"
   ]
  },
  {
   "cell_type": "code",
   "execution_count": 14,
   "metadata": {},
   "outputs": [
    {
     "name": "stdout",
     "output_type": "stream",
     "text": [
      "0.42494550286668 0.4249455028536483\n",
      "результаты равны?  1.3031686840747625e-11\n"
     ]
    }
   ],
   "source": [
    "print(result_1, result_2)\n",
    "print('результаты равны? ', result_1 - result_2)"
   ]
  },
  {
   "cell_type": "markdown",
   "metadata": {},
   "source": [
    "**Вывод:** При преобразовании матриц результат предсказания изменяется несущественно. "
   ]
  }
 ],
 "metadata": {
  "ExecuteTimeLog": [
   {
    "duration": 414,
    "start_time": "2023-09-27T11:00:16.513Z"
   },
   {
    "duration": 86,
    "start_time": "2023-09-27T11:00:45.567Z"
   },
   {
    "duration": 29,
    "start_time": "2023-09-27T11:00:48.175Z"
   },
   {
    "duration": 6,
    "start_time": "2023-09-27T11:00:48.984Z"
   },
   {
    "duration": 10,
    "start_time": "2023-09-27T11:00:58.071Z"
   },
   {
    "duration": 15,
    "start_time": "2023-09-27T11:01:04.358Z"
   },
   {
    "duration": 987,
    "start_time": "2023-09-27T11:25:22.611Z"
   },
   {
    "duration": 86,
    "start_time": "2023-09-27T11:26:07.320Z"
   },
   {
    "duration": 89,
    "start_time": "2023-09-27T11:26:20.672Z"
   },
   {
    "duration": 4,
    "start_time": "2023-09-27T11:26:52.764Z"
   },
   {
    "duration": 42,
    "start_time": "2023-09-27T11:26:56.176Z"
   },
   {
    "duration": 185,
    "start_time": "2023-09-27T11:27:25.136Z"
   },
   {
    "duration": 187,
    "start_time": "2023-09-27T11:28:42.431Z"
   },
   {
    "duration": 32,
    "start_time": "2023-09-27T11:29:16.884Z"
   },
   {
    "duration": 179,
    "start_time": "2023-09-27T11:29:40.641Z"
   },
   {
    "duration": 205,
    "start_time": "2023-09-27T11:30:04.015Z"
   },
   {
    "duration": 14,
    "start_time": "2023-09-27T11:30:10.438Z"
   },
   {
    "duration": 216,
    "start_time": "2023-09-27T11:30:24.406Z"
   },
   {
    "duration": 199,
    "start_time": "2023-09-27T11:30:27.587Z"
   },
   {
    "duration": 9,
    "start_time": "2023-09-27T11:31:32.248Z"
   },
   {
    "duration": 213,
    "start_time": "2023-09-27T11:32:12.304Z"
   },
   {
    "duration": 171,
    "start_time": "2023-09-27T11:32:37.690Z"
   },
   {
    "duration": 11,
    "start_time": "2023-09-27T11:32:47.411Z"
   },
   {
    "duration": 83,
    "start_time": "2023-09-27T11:33:50.050Z"
   },
   {
    "duration": 204,
    "start_time": "2023-09-27T11:33:56.774Z"
   },
   {
    "duration": 97,
    "start_time": "2023-09-27T11:35:05.816Z"
   },
   {
    "duration": 87,
    "start_time": "2023-09-27T11:36:05.326Z"
   },
   {
    "duration": 6,
    "start_time": "2023-09-27T11:39:33.808Z"
   },
   {
    "duration": 14,
    "start_time": "2023-09-27T11:39:46.459Z"
   },
   {
    "duration": 12,
    "start_time": "2023-09-27T11:39:50.725Z"
   },
   {
    "duration": 5,
    "start_time": "2023-09-27T11:40:26.995Z"
   },
   {
    "duration": 14,
    "start_time": "2023-09-27T11:40:27.926Z"
   },
   {
    "duration": 6,
    "start_time": "2023-09-27T12:12:57.012Z"
   },
   {
    "duration": 6,
    "start_time": "2023-09-27T12:12:59.997Z"
   },
   {
    "duration": 6,
    "start_time": "2023-09-27T12:13:01.507Z"
   },
   {
    "duration": 7,
    "start_time": "2023-09-27T12:13:03.683Z"
   },
   {
    "duration": 6,
    "start_time": "2023-09-27T12:13:04.996Z"
   },
   {
    "duration": 6,
    "start_time": "2023-09-27T12:13:05.612Z"
   },
   {
    "duration": 5,
    "start_time": "2023-09-27T12:13:17.035Z"
   },
   {
    "duration": 14,
    "start_time": "2023-09-27T12:13:24.780Z"
   },
   {
    "duration": 16,
    "start_time": "2023-09-27T12:13:26.435Z"
   },
   {
    "duration": 12,
    "start_time": "2023-09-27T12:13:28.356Z"
   },
   {
    "duration": 100,
    "start_time": "2023-09-27T12:15:18.128Z"
   },
   {
    "duration": 4,
    "start_time": "2023-09-27T12:15:40.261Z"
   },
   {
    "duration": 4,
    "start_time": "2023-09-27T12:15:55.426Z"
   },
   {
    "duration": 3,
    "start_time": "2023-09-27T12:15:56.820Z"
   },
   {
    "duration": 3,
    "start_time": "2023-09-27T12:15:57.228Z"
   },
   {
    "duration": 4,
    "start_time": "2023-09-27T12:16:23.844Z"
   },
   {
    "duration": 4,
    "start_time": "2023-09-27T12:16:25.804Z"
   },
   {
    "duration": 4,
    "start_time": "2023-09-27T12:16:26.099Z"
   },
   {
    "duration": 4,
    "start_time": "2023-09-27T12:16:28.158Z"
   },
   {
    "duration": 4,
    "start_time": "2023-09-27T12:18:50.459Z"
   },
   {
    "duration": 4,
    "start_time": "2023-09-27T12:20:41.485Z"
   },
   {
    "duration": 174,
    "start_time": "2023-09-27T12:21:01.494Z"
   },
   {
    "duration": 89,
    "start_time": "2023-09-27T12:21:08.286Z"
   },
   {
    "duration": 92,
    "start_time": "2023-09-27T12:21:22.500Z"
   },
   {
    "duration": 96,
    "start_time": "2023-09-27T12:22:41.790Z"
   },
   {
    "duration": 91,
    "start_time": "2023-09-27T12:22:48.070Z"
   },
   {
    "duration": 3,
    "start_time": "2023-09-27T12:22:57.253Z"
   },
   {
    "duration": 9,
    "start_time": "2023-09-27T12:23:04.128Z"
   },
   {
    "duration": 15,
    "start_time": "2023-09-27T12:24:42.941Z"
   },
   {
    "duration": 6,
    "start_time": "2023-09-27T12:24:50.749Z"
   },
   {
    "duration": 11,
    "start_time": "2023-09-27T12:26:37.108Z"
   },
   {
    "duration": 14,
    "start_time": "2023-09-27T12:26:40.621Z"
   },
   {
    "duration": 10,
    "start_time": "2023-09-27T12:26:52.069Z"
   },
   {
    "duration": 10,
    "start_time": "2023-09-27T12:26:56.069Z"
   },
   {
    "duration": 1137,
    "start_time": "2023-09-27T19:38:32.356Z"
   },
   {
    "duration": 101,
    "start_time": "2023-09-27T19:38:33.495Z"
   },
   {
    "duration": 10,
    "start_time": "2023-09-27T19:38:33.598Z"
   },
   {
    "duration": 24,
    "start_time": "2023-09-27T19:38:33.610Z"
   },
   {
    "duration": 5,
    "start_time": "2023-09-27T19:55:10.870Z"
   },
   {
    "duration": 98,
    "start_time": "2023-09-27T19:55:12.634Z"
   },
   {
    "duration": 6,
    "start_time": "2023-09-27T19:55:22.303Z"
   },
   {
    "duration": 8,
    "start_time": "2023-09-27T19:55:23.493Z"
   },
   {
    "duration": 10,
    "start_time": "2023-09-27T20:07:17.869Z"
   },
   {
    "duration": 13,
    "start_time": "2023-09-27T20:07:18.969Z"
   },
   {
    "duration": 195,
    "start_time": "2023-09-27T20:15:10.872Z"
   },
   {
    "duration": 10,
    "start_time": "2023-09-27T20:15:47.423Z"
   },
   {
    "duration": 9,
    "start_time": "2023-09-27T20:16:06.560Z"
   },
   {
    "duration": 5,
    "start_time": "2023-09-27T20:16:17.604Z"
   },
   {
    "duration": 7,
    "start_time": "2023-09-27T20:26:19.765Z"
   },
   {
    "duration": 15,
    "start_time": "2023-09-27T20:26:27.747Z"
   },
   {
    "duration": 14,
    "start_time": "2023-09-27T20:31:15.264Z"
   },
   {
    "duration": 15,
    "start_time": "2023-09-27T20:32:00.746Z"
   },
   {
    "duration": 9,
    "start_time": "2023-09-27T20:32:27.643Z"
   },
   {
    "duration": 9,
    "start_time": "2023-09-27T20:32:34.268Z"
   },
   {
    "duration": 83,
    "start_time": "2023-09-27T20:32:45.871Z"
   },
   {
    "duration": 14,
    "start_time": "2023-09-27T20:32:57.119Z"
   },
   {
    "duration": 12,
    "start_time": "2023-09-27T20:33:04.169Z"
   },
   {
    "duration": 11,
    "start_time": "2023-09-27T20:33:07.097Z"
   },
   {
    "duration": 7,
    "start_time": "2023-09-27T20:34:52.749Z"
   },
   {
    "duration": 2,
    "start_time": "2023-09-27T20:34:53.885Z"
   },
   {
    "duration": 3,
    "start_time": "2023-09-27T20:34:54.507Z"
   },
   {
    "duration": 3,
    "start_time": "2023-09-27T20:34:54.817Z"
   },
   {
    "duration": 18,
    "start_time": "2023-09-27T20:34:55.154Z"
   },
   {
    "duration": 9,
    "start_time": "2023-09-27T20:34:57.151Z"
   },
   {
    "duration": 6,
    "start_time": "2023-09-27T20:34:57.748Z"
   },
   {
    "duration": 6,
    "start_time": "2023-09-27T20:34:58.050Z"
   },
   {
    "duration": 19,
    "start_time": "2023-09-27T20:34:58.346Z"
   },
   {
    "duration": 3,
    "start_time": "2023-09-27T20:35:00.095Z"
   },
   {
    "duration": 4,
    "start_time": "2023-09-27T20:35:01.290Z"
   },
   {
    "duration": 3,
    "start_time": "2023-09-27T20:35:01.578Z"
   },
   {
    "duration": 371,
    "start_time": "2023-09-27T20:35:01.820Z"
   },
   {
    "duration": 4,
    "start_time": "2023-09-27T20:35:15.763Z"
   },
   {
    "duration": 9,
    "start_time": "2023-09-27T20:35:16.267Z"
   },
   {
    "duration": 14,
    "start_time": "2023-09-27T20:35:16.558Z"
   },
   {
    "duration": 6,
    "start_time": "2023-09-27T20:35:16.914Z"
   },
   {
    "duration": 3,
    "start_time": "2023-09-27T20:35:18.769Z"
   },
   {
    "duration": 4,
    "start_time": "2023-09-27T20:35:19.301Z"
   },
   {
    "duration": 3,
    "start_time": "2023-09-27T20:35:19.578Z"
   },
   {
    "duration": 8,
    "start_time": "2023-09-27T20:35:19.908Z"
   },
   {
    "duration": 3,
    "start_time": "2023-09-27T20:35:21.475Z"
   },
   {
    "duration": 11,
    "start_time": "2023-09-27T20:35:21.951Z"
   },
   {
    "duration": 10,
    "start_time": "2023-09-27T20:35:22.224Z"
   },
   {
    "duration": 18,
    "start_time": "2023-09-27T20:35:22.550Z"
   },
   {
    "duration": 3,
    "start_time": "2023-09-27T20:35:24.182Z"
   },
   {
    "duration": 4,
    "start_time": "2023-09-27T20:35:24.670Z"
   },
   {
    "duration": 4,
    "start_time": "2023-09-27T20:35:25.014Z"
   },
   {
    "duration": 42,
    "start_time": "2023-09-27T20:35:26.222Z"
   },
   {
    "duration": 13,
    "start_time": "2023-09-27T20:35:30.264Z"
   },
   {
    "duration": 10,
    "start_time": "2023-09-27T20:35:30.985Z"
   },
   {
    "duration": 13,
    "start_time": "2023-09-27T20:35:31.571Z"
   },
   {
    "duration": 635,
    "start_time": "2023-09-27T20:36:04.269Z"
   },
   {
    "duration": 5,
    "start_time": "2023-09-27T20:36:05.678Z"
   },
   {
    "duration": 37,
    "start_time": "2023-09-27T20:36:06.143Z"
   },
   {
    "duration": 610,
    "start_time": "2023-09-27T20:36:06.407Z"
   },
   {
    "duration": 7,
    "start_time": "2023-09-27T20:36:11.657Z"
   },
   {
    "duration": 28,
    "start_time": "2023-09-27T20:36:12.452Z"
   },
   {
    "duration": 13,
    "start_time": "2023-09-27T20:36:36.852Z"
   },
   {
    "duration": 4,
    "start_time": "2023-09-27T20:36:41.172Z"
   },
   {
    "duration": 13,
    "start_time": "2023-09-27T20:36:44.995Z"
   },
   {
    "duration": 59,
    "start_time": "2023-09-27T20:36:48.572Z"
   },
   {
    "duration": 62,
    "start_time": "2023-09-27T20:37:01.572Z"
   },
   {
    "duration": 14,
    "start_time": "2023-09-27T20:37:19.760Z"
   },
   {
    "duration": 9,
    "start_time": "2023-09-27T20:39:06.166Z"
   },
   {
    "duration": 3,
    "start_time": "2023-09-27T20:43:51.708Z"
   },
   {
    "duration": 172,
    "start_time": "2023-09-27T20:44:16.349Z"
   },
   {
    "duration": 146,
    "start_time": "2023-09-27T20:44:29.649Z"
   },
   {
    "duration": 11,
    "start_time": "2023-09-27T20:44:47.757Z"
   },
   {
    "duration": 26,
    "start_time": "2023-09-27T20:45:13.349Z"
   },
   {
    "duration": 16,
    "start_time": "2023-09-27T20:45:42.045Z"
   },
   {
    "duration": 5,
    "start_time": "2023-09-27T20:46:52.004Z"
   },
   {
    "duration": 15,
    "start_time": "2023-09-27T20:52:01.161Z"
   },
   {
    "duration": 8,
    "start_time": "2023-09-27T20:52:30.684Z"
   },
   {
    "duration": 5,
    "start_time": "2023-09-27T20:52:34.999Z"
   },
   {
    "duration": 4,
    "start_time": "2023-09-27T21:03:50.747Z"
   },
   {
    "duration": 4,
    "start_time": "2023-09-27T21:04:06.369Z"
   },
   {
    "duration": 4,
    "start_time": "2023-09-27T21:04:19.407Z"
   },
   {
    "duration": 4,
    "start_time": "2023-09-27T21:04:38.148Z"
   },
   {
    "duration": 4,
    "start_time": "2023-09-27T21:04:43.285Z"
   },
   {
    "duration": 4,
    "start_time": "2023-09-27T21:04:44.350Z"
   },
   {
    "duration": 3,
    "start_time": "2023-09-27T21:04:44.970Z"
   },
   {
    "duration": 6,
    "start_time": "2023-09-27T21:04:46.150Z"
   },
   {
    "duration": 3,
    "start_time": "2023-09-27T21:04:46.344Z"
   },
   {
    "duration": 3,
    "start_time": "2023-09-27T21:04:46.582Z"
   },
   {
    "duration": 4,
    "start_time": "2023-09-27T21:04:46.887Z"
   },
   {
    "duration": 3,
    "start_time": "2023-09-27T21:05:55.297Z"
   },
   {
    "duration": 9,
    "start_time": "2023-09-27T21:06:03.705Z"
   },
   {
    "duration": 9,
    "start_time": "2023-09-27T21:08:34.839Z"
   },
   {
    "duration": 10,
    "start_time": "2023-09-27T21:09:16.930Z"
   },
   {
    "duration": 11,
    "start_time": "2023-09-27T21:09:45.060Z"
   },
   {
    "duration": 9,
    "start_time": "2023-09-27T21:10:05.314Z"
   },
   {
    "duration": 3,
    "start_time": "2023-09-27T21:10:25.086Z"
   },
   {
    "duration": 3,
    "start_time": "2023-09-27T21:10:27.900Z"
   },
   {
    "duration": 3,
    "start_time": "2023-09-27T21:10:28.701Z"
   },
   {
    "duration": 8,
    "start_time": "2023-09-27T21:10:29.322Z"
   },
   {
    "duration": 4,
    "start_time": "2023-09-27T21:10:29.912Z"
   },
   {
    "duration": 4,
    "start_time": "2023-09-27T21:10:30.465Z"
   },
   {
    "duration": 4,
    "start_time": "2023-09-27T21:10:31.008Z"
   },
   {
    "duration": 3,
    "start_time": "2023-09-27T21:10:31.566Z"
   },
   {
    "duration": 3,
    "start_time": "2023-09-27T21:10:32.101Z"
   },
   {
    "duration": 5,
    "start_time": "2023-09-27T21:10:32.636Z"
   },
   {
    "duration": 4,
    "start_time": "2023-09-27T21:10:33.221Z"
   },
   {
    "duration": 4,
    "start_time": "2023-09-27T21:10:33.828Z"
   },
   {
    "duration": 13,
    "start_time": "2023-09-27T21:10:42.041Z"
   },
   {
    "duration": 3,
    "start_time": "2023-09-27T21:10:42.458Z"
   },
   {
    "duration": 7,
    "start_time": "2023-09-27T21:10:45.585Z"
   },
   {
    "duration": 6,
    "start_time": "2023-09-27T21:10:45.850Z"
   },
   {
    "duration": 3,
    "start_time": "2023-09-27T21:10:46.177Z"
   },
   {
    "duration": 89,
    "start_time": "2023-09-27T21:10:55.034Z"
   },
   {
    "duration": 12,
    "start_time": "2023-09-27T21:10:55.243Z"
   },
   {
    "duration": 6,
    "start_time": "2023-09-27T21:10:55.442Z"
   },
   {
    "duration": 5,
    "start_time": "2023-09-27T21:11:09.559Z"
   },
   {
    "duration": 80,
    "start_time": "2023-09-27T21:11:38.681Z"
   },
   {
    "duration": 4,
    "start_time": "2023-09-27T21:11:42.406Z"
   },
   {
    "duration": 14,
    "start_time": "2023-09-27T21:14:31.629Z"
   },
   {
    "duration": 8,
    "start_time": "2023-09-27T21:14:34.688Z"
   },
   {
    "duration": 3,
    "start_time": "2023-09-27T21:16:20.635Z"
   },
   {
    "duration": 13,
    "start_time": "2023-09-27T21:16:40.642Z"
   },
   {
    "duration": 10,
    "start_time": "2023-09-27T21:16:57.138Z"
   },
   {
    "duration": 7,
    "start_time": "2023-09-27T21:17:15.798Z"
   },
   {
    "duration": 4,
    "start_time": "2023-09-27T21:17:20.418Z"
   },
   {
    "duration": 8,
    "start_time": "2023-09-27T21:17:32.554Z"
   },
   {
    "duration": 10,
    "start_time": "2023-09-27T21:17:39.247Z"
   },
   {
    "duration": 9,
    "start_time": "2023-09-27T21:17:40.976Z"
   },
   {
    "duration": 7,
    "start_time": "2023-09-27T21:17:48.692Z"
   },
   {
    "duration": 8,
    "start_time": "2023-09-27T21:17:53.262Z"
   },
   {
    "duration": 8,
    "start_time": "2023-09-27T21:17:55.724Z"
   },
   {
    "duration": 1034,
    "start_time": "2023-09-27T21:18:44.870Z"
   },
   {
    "duration": 35,
    "start_time": "2023-09-27T21:18:45.906Z"
   },
   {
    "duration": 19,
    "start_time": "2023-09-27T21:18:45.944Z"
   },
   {
    "duration": 18,
    "start_time": "2023-09-27T21:18:45.964Z"
   },
   {
    "duration": 6,
    "start_time": "2023-09-27T21:18:45.985Z"
   },
   {
    "duration": 6,
    "start_time": "2023-09-27T21:18:46.028Z"
   },
   {
    "duration": 12,
    "start_time": "2023-09-27T21:18:46.036Z"
   },
   {
    "duration": 77,
    "start_time": "2023-09-27T21:18:46.051Z"
   },
   {
    "duration": 9,
    "start_time": "2023-09-27T21:18:46.131Z"
   },
   {
    "duration": 85,
    "start_time": "2023-09-27T21:18:46.142Z"
   },
   {
    "duration": 94,
    "start_time": "2023-09-27T21:18:46.230Z"
   },
   {
    "duration": 23,
    "start_time": "2023-09-27T21:18:46.326Z"
   },
   {
    "duration": 5,
    "start_time": "2023-09-27T21:18:46.352Z"
   },
   {
    "duration": 22,
    "start_time": "2023-09-27T21:18:46.360Z"
   },
   {
    "duration": 94,
    "start_time": "2023-09-27T21:18:46.442Z"
   },
   {
    "duration": 5,
    "start_time": "2023-09-27T21:18:46.630Z"
   },
   {
    "duration": 1085,
    "start_time": "2023-09-27T21:18:53.566Z"
   },
   {
    "duration": 29,
    "start_time": "2023-09-27T21:18:54.653Z"
   },
   {
    "duration": 10,
    "start_time": "2023-09-27T21:18:54.683Z"
   },
   {
    "duration": 23,
    "start_time": "2023-09-27T21:18:54.695Z"
   },
   {
    "duration": 16,
    "start_time": "2023-09-27T21:18:54.720Z"
   },
   {
    "duration": 19,
    "start_time": "2023-09-27T21:18:54.739Z"
   },
   {
    "duration": 64,
    "start_time": "2023-09-27T21:18:54.760Z"
   },
   {
    "duration": 5,
    "start_time": "2023-09-27T21:18:54.827Z"
   },
   {
    "duration": 90,
    "start_time": "2023-09-27T21:18:54.835Z"
   },
   {
    "duration": 12,
    "start_time": "2023-09-27T21:18:54.932Z"
   },
   {
    "duration": 14,
    "start_time": "2023-09-27T21:18:55.026Z"
   },
   {
    "duration": 27,
    "start_time": "2023-09-27T21:18:55.043Z"
   },
   {
    "duration": 16,
    "start_time": "2023-09-27T21:18:55.071Z"
   },
   {
    "duration": 43,
    "start_time": "2023-09-27T21:18:55.089Z"
   },
   {
    "duration": 95,
    "start_time": "2023-09-27T21:18:55.229Z"
   },
   {
    "duration": 101,
    "start_time": "2023-09-27T21:18:55.327Z"
   },
   {
    "duration": 51,
    "start_time": "2023-09-27T21:21:32.181Z"
   },
   {
    "duration": 1219,
    "start_time": "2023-09-27T21:21:35.858Z"
   },
   {
    "duration": 29,
    "start_time": "2023-09-27T21:21:37.079Z"
   },
   {
    "duration": 13,
    "start_time": "2023-09-27T21:21:37.110Z"
   },
   {
    "duration": 29,
    "start_time": "2023-09-27T21:21:37.125Z"
   },
   {
    "duration": 11,
    "start_time": "2023-09-27T21:21:37.157Z"
   },
   {
    "duration": 60,
    "start_time": "2023-09-27T21:21:37.170Z"
   },
   {
    "duration": 13,
    "start_time": "2023-09-27T21:21:37.234Z"
   },
   {
    "duration": 77,
    "start_time": "2023-09-27T21:21:37.249Z"
   },
   {
    "duration": 97,
    "start_time": "2023-09-27T21:21:37.330Z"
   },
   {
    "duration": 543,
    "start_time": "2023-09-27T21:21:37.430Z"
   },
   {
    "duration": 0,
    "start_time": "2023-09-27T21:21:37.976Z"
   },
   {
    "duration": 0,
    "start_time": "2023-09-27T21:21:37.977Z"
   },
   {
    "duration": 0,
    "start_time": "2023-09-27T21:21:37.979Z"
   },
   {
    "duration": 0,
    "start_time": "2023-09-27T21:21:37.980Z"
   },
   {
    "duration": 0,
    "start_time": "2023-09-27T21:21:37.982Z"
   },
   {
    "duration": 5,
    "start_time": "2023-09-27T21:21:44.398Z"
   },
   {
    "duration": 20,
    "start_time": "2023-09-27T21:21:45.775Z"
   },
   {
    "duration": 411,
    "start_time": "2023-09-27T21:22:03.225Z"
   },
   {
    "duration": 0,
    "start_time": "2023-09-27T21:22:03.640Z"
   },
   {
    "duration": 4,
    "start_time": "2023-09-27T21:22:10.516Z"
   },
   {
    "duration": 7,
    "start_time": "2023-09-27T21:22:11.772Z"
   },
   {
    "duration": 3,
    "start_time": "2023-09-27T21:23:10.663Z"
   },
   {
    "duration": 12,
    "start_time": "2023-09-27T21:24:48.941Z"
   },
   {
    "duration": 10,
    "start_time": "2023-09-27T21:24:52.423Z"
   },
   {
    "duration": 14,
    "start_time": "2023-09-27T21:25:02.022Z"
   },
   {
    "duration": 2,
    "start_time": "2023-09-27T21:25:13.995Z"
   },
   {
    "duration": 12,
    "start_time": "2023-09-27T21:25:38.035Z"
   },
   {
    "duration": 6,
    "start_time": "2023-09-27T21:25:45.255Z"
   },
   {
    "duration": 5,
    "start_time": "2023-09-27T21:25:50.274Z"
   },
   {
    "duration": 3,
    "start_time": "2023-09-27T21:26:00.272Z"
   },
   {
    "duration": 13,
    "start_time": "2023-09-27T21:26:00.537Z"
   },
   {
    "duration": 5,
    "start_time": "2023-09-27T21:26:00.849Z"
   },
   {
    "duration": 5,
    "start_time": "2023-09-27T21:26:01.228Z"
   },
   {
    "duration": 4,
    "start_time": "2023-09-27T21:26:01.580Z"
   },
   {
    "duration": 4,
    "start_time": "2023-09-27T21:26:12.933Z"
   },
   {
    "duration": 5,
    "start_time": "2023-09-27T21:27:38.329Z"
   },
   {
    "duration": 8,
    "start_time": "2023-09-27T21:27:38.529Z"
   },
   {
    "duration": 11,
    "start_time": "2023-09-27T21:27:38.725Z"
   },
   {
    "duration": 5,
    "start_time": "2023-09-27T21:27:38.933Z"
   },
   {
    "duration": 4,
    "start_time": "2023-09-27T21:27:39.278Z"
   },
   {
    "duration": 8,
    "start_time": "2023-09-27T21:27:39.606Z"
   },
   {
    "duration": 3,
    "start_time": "2023-09-27T21:27:48.079Z"
   },
   {
    "duration": 15,
    "start_time": "2023-09-27T21:28:01.240Z"
   },
   {
    "duration": 3,
    "start_time": "2023-09-27T21:28:04.906Z"
   },
   {
    "duration": 3,
    "start_time": "2023-09-27T21:28:14.764Z"
   },
   {
    "duration": 11,
    "start_time": "2023-09-27T21:28:15.704Z"
   },
   {
    "duration": 3,
    "start_time": "2023-09-27T21:28:30.476Z"
   },
   {
    "duration": 7,
    "start_time": "2023-09-27T21:28:31.262Z"
   },
   {
    "duration": 4,
    "start_time": "2023-09-27T21:28:37.554Z"
   },
   {
    "duration": 15,
    "start_time": "2023-09-27T21:28:37.822Z"
   },
   {
    "duration": 12,
    "start_time": "2023-09-27T21:28:38.131Z"
   },
   {
    "duration": 4,
    "start_time": "2023-09-27T21:28:38.477Z"
   },
   {
    "duration": 4,
    "start_time": "2023-09-27T21:28:44.766Z"
   },
   {
    "duration": 16,
    "start_time": "2023-09-27T21:28:45.022Z"
   },
   {
    "duration": 12,
    "start_time": "2023-09-27T21:28:45.325Z"
   },
   {
    "duration": 5,
    "start_time": "2023-09-27T21:28:45.876Z"
   },
   {
    "duration": 9,
    "start_time": "2023-09-27T21:30:29.680Z"
   },
   {
    "duration": 53,
    "start_time": "2023-09-27T21:30:30.022Z"
   },
   {
    "duration": 6,
    "start_time": "2023-09-27T21:30:30.501Z"
   },
   {
    "duration": 1045,
    "start_time": "2023-09-27T21:30:38.779Z"
   },
   {
    "duration": 30,
    "start_time": "2023-09-27T21:30:39.828Z"
   },
   {
    "duration": 214,
    "start_time": "2023-09-27T21:30:39.860Z"
   },
   {
    "duration": 53,
    "start_time": "2023-09-27T21:30:40.076Z"
   },
   {
    "duration": 26,
    "start_time": "2023-09-27T21:30:40.132Z"
   },
   {
    "duration": 65,
    "start_time": "2023-09-27T21:30:40.160Z"
   },
   {
    "duration": 26,
    "start_time": "2023-09-27T21:30:40.227Z"
   },
   {
    "duration": 78,
    "start_time": "2023-09-27T21:30:40.255Z"
   },
   {
    "duration": 91,
    "start_time": "2023-09-27T21:30:40.338Z"
   },
   {
    "duration": 89,
    "start_time": "2023-09-27T21:30:40.435Z"
   },
   {
    "duration": 10,
    "start_time": "2023-09-27T21:30:40.527Z"
   },
   {
    "duration": 28,
    "start_time": "2023-09-27T21:30:40.539Z"
   },
   {
    "duration": 65,
    "start_time": "2023-09-27T21:30:40.568Z"
   },
   {
    "duration": 97,
    "start_time": "2023-09-27T21:30:40.638Z"
   },
   {
    "duration": 91,
    "start_time": "2023-09-27T21:30:40.737Z"
   },
   {
    "duration": 1053,
    "start_time": "2023-09-27T21:30:57.184Z"
   },
   {
    "duration": 29,
    "start_time": "2023-09-27T21:30:58.239Z"
   },
   {
    "duration": 11,
    "start_time": "2023-09-27T21:30:58.270Z"
   },
   {
    "duration": 45,
    "start_time": "2023-09-27T21:30:58.282Z"
   },
   {
    "duration": 11,
    "start_time": "2023-09-27T21:30:58.329Z"
   },
   {
    "duration": 85,
    "start_time": "2023-09-27T21:30:58.342Z"
   },
   {
    "duration": 95,
    "start_time": "2023-09-27T21:30:58.430Z"
   },
   {
    "duration": 49,
    "start_time": "2023-09-27T21:30:58.527Z"
   },
   {
    "duration": 46,
    "start_time": "2023-09-27T21:30:58.578Z"
   },
   {
    "duration": 21,
    "start_time": "2023-09-27T21:30:58.627Z"
   },
   {
    "duration": 10,
    "start_time": "2023-09-27T21:30:58.725Z"
   },
   {
    "duration": 33,
    "start_time": "2023-09-27T21:30:58.738Z"
   },
   {
    "duration": 32,
    "start_time": "2023-09-27T21:30:58.772Z"
   },
   {
    "duration": 99,
    "start_time": "2023-09-27T21:30:58.842Z"
   },
   {
    "duration": 101,
    "start_time": "2023-09-27T21:30:59.027Z"
   },
   {
    "duration": 1120,
    "start_time": "2023-09-27T21:31:14.076Z"
   },
   {
    "duration": 31,
    "start_time": "2023-09-27T21:31:15.197Z"
   },
   {
    "duration": 18,
    "start_time": "2023-09-27T21:31:15.231Z"
   },
   {
    "duration": 19,
    "start_time": "2023-09-27T21:31:15.251Z"
   },
   {
    "duration": 5,
    "start_time": "2023-09-27T21:31:15.273Z"
   },
   {
    "duration": 5,
    "start_time": "2023-09-27T21:31:15.323Z"
   },
   {
    "duration": 15,
    "start_time": "2023-09-27T21:31:15.331Z"
   },
   {
    "duration": 84,
    "start_time": "2023-09-27T21:31:15.348Z"
   },
   {
    "duration": 14,
    "start_time": "2023-09-27T21:31:15.435Z"
   },
   {
    "duration": 8,
    "start_time": "2023-09-27T21:31:15.526Z"
   },
   {
    "duration": 18,
    "start_time": "2023-09-27T21:31:15.537Z"
   },
   {
    "duration": 71,
    "start_time": "2023-09-27T21:31:15.557Z"
   },
   {
    "duration": 25,
    "start_time": "2023-09-27T21:31:15.630Z"
   },
   {
    "duration": 83,
    "start_time": "2023-09-27T21:31:15.658Z"
   },
   {
    "duration": 79,
    "start_time": "2023-09-27T21:31:15.746Z"
   },
   {
    "duration": 78,
    "start_time": "2023-09-28T21:34:38.831Z"
   },
   {
    "duration": 1250,
    "start_time": "2023-09-28T21:34:46.389Z"
   },
   {
    "duration": 139,
    "start_time": "2023-09-28T21:34:47.641Z"
   },
   {
    "duration": 20,
    "start_time": "2023-09-28T21:34:47.788Z"
   },
   {
    "duration": 17,
    "start_time": "2023-09-28T21:34:47.810Z"
   },
   {
    "duration": 31,
    "start_time": "2023-09-28T21:34:47.830Z"
   },
   {
    "duration": 4,
    "start_time": "2023-09-28T21:34:49.037Z"
   },
   {
    "duration": 4,
    "start_time": "2023-09-28T21:34:56.046Z"
   },
   {
    "duration": 303,
    "start_time": "2023-09-28T21:35:37.588Z"
   },
   {
    "duration": 133,
    "start_time": "2023-09-28T21:35:58.341Z"
   },
   {
    "duration": 343,
    "start_time": "2023-09-28T21:36:02.388Z"
   },
   {
    "duration": 4,
    "start_time": "2023-09-28T21:37:18.016Z"
   },
   {
    "duration": 9,
    "start_time": "2023-09-28T21:37:40.582Z"
   },
   {
    "duration": 11,
    "start_time": "2023-09-28T21:37:43.420Z"
   },
   {
    "duration": 3,
    "start_time": "2023-09-28T21:38:00.123Z"
   },
   {
    "duration": 9,
    "start_time": "2023-09-28T21:38:02.569Z"
   },
   {
    "duration": 20,
    "start_time": "2023-09-28T21:38:02.904Z"
   },
   {
    "duration": 6,
    "start_time": "2023-09-28T21:38:04.815Z"
   },
   {
    "duration": 3,
    "start_time": "2023-09-28T21:38:05.333Z"
   },
   {
    "duration": 14,
    "start_time": "2023-09-28T21:38:09.697Z"
   },
   {
    "duration": 20,
    "start_time": "2023-09-28T21:38:09.943Z"
   },
   {
    "duration": 5,
    "start_time": "2023-09-28T21:38:10.191Z"
   },
   {
    "duration": 7,
    "start_time": "2023-09-28T21:38:11.612Z"
   },
   {
    "duration": 6,
    "start_time": "2023-09-28T21:38:11.824Z"
   },
   {
    "duration": 9,
    "start_time": "2023-09-28T21:38:12.091Z"
   },
   {
    "duration": 37,
    "start_time": "2023-09-28T21:38:13.547Z"
   },
   {
    "duration": 4,
    "start_time": "2023-09-28T21:38:13.776Z"
   },
   {
    "duration": 5,
    "start_time": "2023-09-28T21:38:15.207Z"
   },
   {
    "duration": 28,
    "start_time": "2023-09-28T21:38:15.386Z"
   },
   {
    "duration": 11,
    "start_time": "2023-09-28T21:38:15.608Z"
   },
   {
    "duration": 4,
    "start_time": "2023-09-28T21:38:16.804Z"
   },
   {
    "duration": 12,
    "start_time": "2023-09-28T21:38:20.490Z"
   },
   {
    "duration": 3,
    "start_time": "2023-09-28T21:38:20.689Z"
   },
   {
    "duration": 10,
    "start_time": "2023-09-28T21:38:20.890Z"
   },
   {
    "duration": 3,
    "start_time": "2023-09-28T21:38:21.829Z"
   },
   {
    "duration": 8,
    "start_time": "2023-09-28T21:38:24.696Z"
   },
   {
    "duration": 6,
    "start_time": "2023-09-28T21:38:24.904Z"
   },
   {
    "duration": 15,
    "start_time": "2023-09-28T21:38:25.196Z"
   },
   {
    "duration": 6,
    "start_time": "2023-09-28T21:38:25.498Z"
   },
   {
    "duration": 155,
    "start_time": "2023-09-28T21:41:46.384Z"
   },
   {
    "duration": 131,
    "start_time": "2023-09-28T21:41:49.303Z"
   },
   {
    "duration": 447,
    "start_time": "2023-09-28T21:44:12.299Z"
   },
   {
    "duration": 3,
    "start_time": "2023-09-28T21:44:19.344Z"
   },
   {
    "duration": 11,
    "start_time": "2023-09-28T21:44:22.894Z"
   },
   {
    "duration": 169,
    "start_time": "2023-09-28T21:44:39.510Z"
   },
   {
    "duration": 4,
    "start_time": "2023-09-28T21:58:12.627Z"
   },
   {
    "duration": 10,
    "start_time": "2023-09-28T21:58:16.277Z"
   },
   {
    "duration": 4,
    "start_time": "2023-09-28T21:58:30.633Z"
   },
   {
    "duration": 13,
    "start_time": "2023-09-28T22:06:39.235Z"
   },
   {
    "duration": 20,
    "start_time": "2023-09-28T22:06:58.382Z"
   },
   {
    "duration": 15,
    "start_time": "2023-09-28T22:07:04.386Z"
   },
   {
    "duration": 8,
    "start_time": "2023-09-28T22:07:09.276Z"
   },
   {
    "duration": 15,
    "start_time": "2023-09-28T22:07:14.506Z"
   },
   {
    "duration": 1146,
    "start_time": "2023-09-28T22:16:43.440Z"
   },
   {
    "duration": 31,
    "start_time": "2023-09-28T22:16:44.588Z"
   },
   {
    "duration": 13,
    "start_time": "2023-09-28T22:16:44.620Z"
   },
   {
    "duration": 36,
    "start_time": "2023-09-28T22:16:44.635Z"
   },
   {
    "duration": 52,
    "start_time": "2023-09-28T22:16:44.677Z"
   },
   {
    "duration": 4,
    "start_time": "2023-09-28T22:17:30.479Z"
   },
   {
    "duration": 8,
    "start_time": "2023-09-28T22:17:32.274Z"
   },
   {
    "duration": 3,
    "start_time": "2023-09-28T22:17:33.314Z"
   },
   {
    "duration": 4,
    "start_time": "2023-09-28T22:17:35.041Z"
   },
   {
    "duration": 7,
    "start_time": "2023-09-28T22:17:48.273Z"
   },
   {
    "duration": 4,
    "start_time": "2023-09-28T22:18:35.535Z"
   },
   {
    "duration": 3,
    "start_time": "2023-09-28T22:18:35.831Z"
   },
   {
    "duration": 4,
    "start_time": "2023-09-28T22:18:36.141Z"
   },
   {
    "duration": 7,
    "start_time": "2023-09-28T22:18:36.462Z"
   },
   {
    "duration": 6,
    "start_time": "2023-09-28T22:18:37.317Z"
   },
   {
    "duration": 20,
    "start_time": "2023-09-28T22:18:38.275Z"
   },
   {
    "duration": 4,
    "start_time": "2023-09-28T22:18:51.985Z"
   },
   {
    "duration": 12,
    "start_time": "2023-09-28T22:18:54.087Z"
   },
   {
    "duration": 20,
    "start_time": "2023-09-28T22:19:02.942Z"
   },
   {
    "duration": 1127,
    "start_time": "2023-09-28T22:19:52.394Z"
   },
   {
    "duration": 31,
    "start_time": "2023-09-28T22:19:53.523Z"
   },
   {
    "duration": 20,
    "start_time": "2023-09-28T22:19:53.556Z"
   },
   {
    "duration": 24,
    "start_time": "2023-09-28T22:19:53.577Z"
   },
   {
    "duration": 7,
    "start_time": "2023-09-28T22:19:53.603Z"
   },
   {
    "duration": 39,
    "start_time": "2023-09-28T22:19:53.613Z"
   },
   {
    "duration": 4,
    "start_time": "2023-09-28T22:19:53.655Z"
   },
   {
    "duration": 15,
    "start_time": "2023-09-28T22:19:53.662Z"
   },
   {
    "duration": 11,
    "start_time": "2023-09-28T22:19:53.680Z"
   },
   {
    "duration": 7,
    "start_time": "2023-09-28T22:20:54.130Z"
   },
   {
    "duration": 10,
    "start_time": "2023-09-28T22:21:01.156Z"
   },
   {
    "duration": 15,
    "start_time": "2023-09-28T22:21:01.425Z"
   },
   {
    "duration": 11,
    "start_time": "2023-09-28T22:21:01.695Z"
   },
   {
    "duration": 4,
    "start_time": "2023-09-28T22:21:02.035Z"
   },
   {
    "duration": 49,
    "start_time": "2023-09-29T23:05:15.550Z"
   },
   {
    "duration": 1367,
    "start_time": "2023-09-29T23:05:18.934Z"
   },
   {
    "duration": 75,
    "start_time": "2023-09-29T23:05:20.303Z"
   },
   {
    "duration": 227,
    "start_time": "2023-09-29T23:05:20.379Z"
   },
   {
    "duration": 180,
    "start_time": "2023-09-29T23:05:20.608Z"
   },
   {
    "duration": 4,
    "start_time": "2023-09-29T23:05:20.854Z"
   },
   {
    "duration": 183,
    "start_time": "2023-09-29T23:06:06.377Z"
   },
   {
    "duration": 7,
    "start_time": "2023-09-29T23:06:24.569Z"
   },
   {
    "duration": 4,
    "start_time": "2023-09-29T23:06:30.198Z"
   },
   {
    "duration": 4,
    "start_time": "2023-09-29T23:23:49.327Z"
   },
   {
    "duration": 4,
    "start_time": "2023-09-29T23:24:20.784Z"
   },
   {
    "duration": 5,
    "start_time": "2023-09-29T23:24:31.494Z"
   },
   {
    "duration": 14,
    "start_time": "2023-09-29T23:25:03.035Z"
   },
   {
    "duration": 3,
    "start_time": "2023-09-29T23:25:10.773Z"
   },
   {
    "duration": 12,
    "start_time": "2023-09-29T23:25:25.587Z"
   },
   {
    "duration": 3,
    "start_time": "2023-09-29T23:25:33.390Z"
   },
   {
    "duration": 23,
    "start_time": "2023-09-29T23:25:39.622Z"
   },
   {
    "duration": 5,
    "start_time": "2023-09-29T23:25:43.766Z"
   },
   {
    "duration": 4,
    "start_time": "2023-09-29T23:26:13.890Z"
   },
   {
    "duration": 9,
    "start_time": "2023-09-29T23:27:45.452Z"
   },
   {
    "duration": 4,
    "start_time": "2023-09-29T23:27:47.063Z"
   },
   {
    "duration": 3,
    "start_time": "2023-09-29T23:27:47.339Z"
   },
   {
    "duration": 4,
    "start_time": "2023-09-29T23:28:13.146Z"
   },
   {
    "duration": 10,
    "start_time": "2023-09-29T23:28:17.247Z"
   },
   {
    "duration": 14,
    "start_time": "2023-09-29T23:28:34.228Z"
   },
   {
    "duration": 3,
    "start_time": "2023-09-29T23:46:46.652Z"
   },
   {
    "duration": 3,
    "start_time": "2023-09-29T23:46:58.926Z"
   },
   {
    "duration": 3,
    "start_time": "2023-09-29T23:46:59.205Z"
   },
   {
    "duration": 4,
    "start_time": "2023-09-29T23:47:00.928Z"
   },
   {
    "duration": 10,
    "start_time": "2023-09-29T23:47:02.097Z"
   },
   {
    "duration": 11,
    "start_time": "2023-09-29T23:47:33.015Z"
   },
   {
    "duration": 11,
    "start_time": "2023-09-29T23:47:43.769Z"
   },
   {
    "duration": 4,
    "start_time": "2023-09-29T23:47:53.042Z"
   },
   {
    "duration": 18,
    "start_time": "2023-09-29T23:47:55.582Z"
   },
   {
    "duration": 5,
    "start_time": "2023-09-29T23:48:03.881Z"
   },
   {
    "duration": 13,
    "start_time": "2023-09-29T23:48:05.798Z"
   },
   {
    "duration": 131,
    "start_time": "2023-09-29T23:48:47.163Z"
   },
   {
    "duration": 1145,
    "start_time": "2023-09-29T23:58:32.743Z"
   },
   {
    "duration": 28,
    "start_time": "2023-09-29T23:58:33.890Z"
   },
   {
    "duration": 43,
    "start_time": "2023-09-29T23:58:33.919Z"
   },
   {
    "duration": 29,
    "start_time": "2023-09-29T23:58:33.964Z"
   },
   {
    "duration": 19,
    "start_time": "2023-09-29T23:58:33.996Z"
   },
   {
    "duration": 86,
    "start_time": "2023-09-29T23:58:34.016Z"
   },
   {
    "duration": 6,
    "start_time": "2023-09-29T23:58:34.104Z"
   },
   {
    "duration": 91,
    "start_time": "2023-09-29T23:58:34.112Z"
   },
   {
    "duration": 98,
    "start_time": "2023-09-29T23:58:34.205Z"
   },
   {
    "duration": 106,
    "start_time": "2023-09-29T23:58:34.305Z"
   },
   {
    "duration": 523,
    "start_time": "2023-09-29T23:58:34.413Z"
   },
   {
    "duration": 70,
    "start_time": "2023-09-29T23:58:34.938Z"
   },
   {
    "duration": 114,
    "start_time": "2023-09-29T23:58:35.100Z"
   },
   {
    "duration": 191,
    "start_time": "2023-09-29T23:58:35.218Z"
   }
  ],
  "kernelspec": {
   "display_name": "Python 3 (ipykernel)",
   "language": "python",
   "name": "python3"
  },
  "language_info": {
   "codemirror_mode": {
    "name": "ipython",
    "version": 3
   },
   "file_extension": ".py",
   "mimetype": "text/x-python",
   "name": "python",
   "nbconvert_exporter": "python",
   "pygments_lexer": "ipython3",
   "version": "3.9.5"
  },
  "toc": {
   "base_numbering": 1,
   "nav_menu": {},
   "number_sections": true,
   "sideBar": true,
   "skip_h1_title": true,
   "title_cell": "Содержание",
   "title_sidebar": "Contents",
   "toc_cell": true,
   "toc_position": {
    "height": "calc(100% - 180px)",
    "left": "10px",
    "top": "150px",
    "width": "395.2px"
   },
   "toc_section_display": true,
   "toc_window_display": true
  }
 },
 "nbformat": 4,
 "nbformat_minor": 2
}
