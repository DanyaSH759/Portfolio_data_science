{
 "cells": [
  {
   "cell_type": "markdown",
   "metadata": {
    "deletable": false,
    "editable": false,
    "id": "E0vqbgi9ay0H"
   },
   "source": [
    "# Яндекс Музыка"
   ]
  },
  {
   "cell_type": "markdown",
   "metadata": {
    "deletable": false,
    "editable": false,
    "id": "VUC88oWjTJw2"
   },
   "source": [
    "Сравнение Москвы и Петербурга окружено мифами. Например:\n",
    " * Москва — мегаполис, подчинённый жёсткому ритму рабочей недели;\n",
    " * Петербург — культурная столица, со своими вкусами.\n",
    "\n",
    "На данных Яндекс Музыки вы сравните поведение пользователей двух столиц.\n",
    "\n",
    "**Цель исследования** — проверьте три гипотезы:\n",
    "1. Активность пользователей зависит от дня недели. Причём в Москве и Петербурге это проявляется по-разному.\n",
    "2. В понедельник утром в Москве преобладают одни жанры, а в Петербурге — другие. Так же и вечером пятницы преобладают разные жанры — в зависимости от города. \n",
    "3. Москва и Петербург предпочитают разные жанры музыки. В Москве чаще слушают поп-музыку, в Петербурге — русский рэп.\n",
    "\n",
    "**Ход исследования**\n",
    "\n",
    "Данные о поведении пользователей вы получите из файла `yandex_music_project.csv`. О качестве данных ничего не известно. Поэтому перед проверкой гипотез понадобится обзор данных. \n",
    "\n",
    "Вы проверите данные на ошибки и оцените их влияние на исследование. Затем, на этапе предобработки вы поищете возможность исправить самые критичные ошибки данных.\n",
    " \n",
    "Таким образом, исследование пройдёт в три этапа:\n",
    " 1. Обзор данных.\n",
    " 2. Предобработка данных.\n",
    " 3. Проверка гипотез.\n",
    "\n"
   ]
  },
  {
   "cell_type": "markdown",
   "metadata": {
    "deletable": false,
    "editable": false,
    "id": "Ml1hmfXC_Zcs"
   },
   "source": [
    "## Обзор данных\n",
    "\n",
    "Составьте первое представление о данных Яндекс Музыки.\n",
    "\n",
    "\n"
   ]
  },
  {
   "cell_type": "markdown",
   "metadata": {
    "deletable": false,
    "editable": false,
    "id": "57eAOGIz_Zcs",
    "tags": [
     "start_task"
    ]
   },
   "source": [
    "**Задание 1**\n",
    "\n",
    "Основной инструмент аналитика — `pandas`. Импортируйте эту библиотеку."
   ]
  },
  {
   "cell_type": "code",
   "execution_count": 3,
   "metadata": {
    "deletable": false,
    "id": "AXN7PHPN_Zcs"
   },
   "outputs": [],
   "source": [
    "# импорт библиотеки pandas\n",
    "import pandas as pd"
   ]
  },
  {
   "cell_type": "markdown",
   "metadata": {
    "deletable": false,
    "editable": false,
    "id": "SG23P8tt_Zcs",
    "tags": [
     "start_task"
    ]
   },
   "source": [
    "**Задание 2**\n",
    "\n",
    "Прочитайте файл `yandex_music_project.csv` из папки `/datasets` и сохраните его в переменной `df`:"
   ]
  },
  {
   "cell_type": "code",
   "execution_count": 4,
   "metadata": {
    "deletable": false,
    "id": "fFVu7vqh_Zct"
   },
   "outputs": [],
   "source": [
    "# чтение файла с данными и сохранение в df\n",
    "df = pd.read_csv('yandex_music_project.csv')"
   ]
  },
  {
   "cell_type": "markdown",
   "metadata": {
    "deletable": false,
    "editable": false,
    "id": "rDoOMd3uTqnZ",
    "tags": [
     "start_task"
    ]
   },
   "source": [
    "**Задание 3**\n",
    "\n",
    "\n",
    "Выведите на экран первые десять строк таблицы:"
   ]
  },
  {
   "cell_type": "code",
   "execution_count": 9,
   "metadata": {
    "deletable": false,
    "id": "oWTVX3gW_Zct"
   },
   "outputs": [
    {
     "data": {
      "text/html": [
       "<div>\n",
       "<style scoped>\n",
       "    .dataframe tbody tr th:only-of-type {\n",
       "        vertical-align: middle;\n",
       "    }\n",
       "\n",
       "    .dataframe tbody tr th {\n",
       "        vertical-align: top;\n",
       "    }\n",
       "\n",
       "    .dataframe thead th {\n",
       "        text-align: right;\n",
       "    }\n",
       "</style>\n",
       "<table border=\"1\" class=\"dataframe\">\n",
       "  <thead>\n",
       "    <tr style=\"text-align: right;\">\n",
       "      <th></th>\n",
       "      <th>userID</th>\n",
       "      <th>Track</th>\n",
       "      <th>artist</th>\n",
       "      <th>genre</th>\n",
       "      <th>City</th>\n",
       "      <th>time</th>\n",
       "      <th>Day</th>\n",
       "    </tr>\n",
       "  </thead>\n",
       "  <tbody>\n",
       "    <tr>\n",
       "      <th>0</th>\n",
       "      <td>FFB692EC</td>\n",
       "      <td>Kamigata To Boots</td>\n",
       "      <td>The Mass Missile</td>\n",
       "      <td>rock</td>\n",
       "      <td>Saint-Petersburg</td>\n",
       "      <td>20:28:33</td>\n",
       "      <td>Wednesday</td>\n",
       "    </tr>\n",
       "    <tr>\n",
       "      <th>1</th>\n",
       "      <td>55204538</td>\n",
       "      <td>Delayed Because of Accident</td>\n",
       "      <td>Andreas Rönnberg</td>\n",
       "      <td>rock</td>\n",
       "      <td>Moscow</td>\n",
       "      <td>14:07:09</td>\n",
       "      <td>Friday</td>\n",
       "    </tr>\n",
       "    <tr>\n",
       "      <th>2</th>\n",
       "      <td>20EC38</td>\n",
       "      <td>Funiculì funiculà</td>\n",
       "      <td>Mario Lanza</td>\n",
       "      <td>pop</td>\n",
       "      <td>Saint-Petersburg</td>\n",
       "      <td>20:58:07</td>\n",
       "      <td>Wednesday</td>\n",
       "    </tr>\n",
       "    <tr>\n",
       "      <th>3</th>\n",
       "      <td>A3DD03C9</td>\n",
       "      <td>Dragons in the Sunset</td>\n",
       "      <td>Fire + Ice</td>\n",
       "      <td>folk</td>\n",
       "      <td>Saint-Petersburg</td>\n",
       "      <td>08:37:09</td>\n",
       "      <td>Monday</td>\n",
       "    </tr>\n",
       "    <tr>\n",
       "      <th>4</th>\n",
       "      <td>E2DC1FAE</td>\n",
       "      <td>Soul People</td>\n",
       "      <td>Space Echo</td>\n",
       "      <td>dance</td>\n",
       "      <td>Moscow</td>\n",
       "      <td>08:34:34</td>\n",
       "      <td>Monday</td>\n",
       "    </tr>\n",
       "    <tr>\n",
       "      <th>5</th>\n",
       "      <td>842029A1</td>\n",
       "      <td>Преданная</td>\n",
       "      <td>IMPERVTOR</td>\n",
       "      <td>rusrap</td>\n",
       "      <td>Saint-Petersburg</td>\n",
       "      <td>13:09:41</td>\n",
       "      <td>Friday</td>\n",
       "    </tr>\n",
       "    <tr>\n",
       "      <th>6</th>\n",
       "      <td>4CB90AA5</td>\n",
       "      <td>True</td>\n",
       "      <td>Roman Messer</td>\n",
       "      <td>dance</td>\n",
       "      <td>Moscow</td>\n",
       "      <td>13:00:07</td>\n",
       "      <td>Wednesday</td>\n",
       "    </tr>\n",
       "    <tr>\n",
       "      <th>7</th>\n",
       "      <td>F03E1C1F</td>\n",
       "      <td>Feeling This Way</td>\n",
       "      <td>Polina Griffith</td>\n",
       "      <td>dance</td>\n",
       "      <td>Moscow</td>\n",
       "      <td>20:47:49</td>\n",
       "      <td>Wednesday</td>\n",
       "    </tr>\n",
       "    <tr>\n",
       "      <th>8</th>\n",
       "      <td>8FA1D3BE</td>\n",
       "      <td>И вновь продолжается бой</td>\n",
       "      <td>NaN</td>\n",
       "      <td>ruspop</td>\n",
       "      <td>Moscow</td>\n",
       "      <td>09:17:40</td>\n",
       "      <td>Friday</td>\n",
       "    </tr>\n",
       "    <tr>\n",
       "      <th>9</th>\n",
       "      <td>E772D5C0</td>\n",
       "      <td>Pessimist</td>\n",
       "      <td>NaN</td>\n",
       "      <td>dance</td>\n",
       "      <td>Saint-Petersburg</td>\n",
       "      <td>21:20:49</td>\n",
       "      <td>Wednesday</td>\n",
       "    </tr>\n",
       "  </tbody>\n",
       "</table>\n",
       "</div>"
      ],
      "text/plain": [
       "     userID                        Track            artist   genre  \\\n",
       "0  FFB692EC            Kamigata To Boots  The Mass Missile    rock   \n",
       "1  55204538  Delayed Because of Accident  Andreas Rönnberg    rock   \n",
       "2    20EC38            Funiculì funiculà       Mario Lanza     pop   \n",
       "3  A3DD03C9        Dragons in the Sunset        Fire + Ice    folk   \n",
       "4  E2DC1FAE                  Soul People        Space Echo   dance   \n",
       "5  842029A1                    Преданная         IMPERVTOR  rusrap   \n",
       "6  4CB90AA5                         True      Roman Messer   dance   \n",
       "7  F03E1C1F             Feeling This Way   Polina Griffith   dance   \n",
       "8  8FA1D3BE     И вновь продолжается бой               NaN  ruspop   \n",
       "9  E772D5C0                    Pessimist               NaN   dance   \n",
       "\n",
       "             City        time        Day  \n",
       "0  Saint-Petersburg  20:28:33  Wednesday  \n",
       "1            Moscow  14:07:09     Friday  \n",
       "2  Saint-Petersburg  20:58:07  Wednesday  \n",
       "3  Saint-Petersburg  08:37:09     Monday  \n",
       "4            Moscow  08:34:34     Monday  \n",
       "5  Saint-Petersburg  13:09:41     Friday  \n",
       "6            Moscow  13:00:07  Wednesday  \n",
       "7            Moscow  20:47:49  Wednesday  \n",
       "8            Moscow  09:17:40     Friday  \n",
       "9  Saint-Petersburg  21:20:49  Wednesday  "
      ]
     },
     "execution_count": 9,
     "metadata": {},
     "output_type": "execute_result"
    }
   ],
   "source": [
    "# получение первых 10 строк таблицы df\n",
    "df.head(10)"
   ]
  },
  {
   "cell_type": "markdown",
   "metadata": {
    "deletable": false,
    "editable": false,
    "id": "EO73Kwic_Zct",
    "tags": [
     "start_task"
    ]
   },
   "source": [
    "**Задание 4**\n",
    "\n",
    "\n",
    "Одной командой получить общую информацию о таблице c помощью метода `info()`:"
   ]
  },
  {
   "cell_type": "code",
   "execution_count": 10,
   "metadata": {
    "deletable": false,
    "id": "DSf2kIb-_Zct"
   },
   "outputs": [
    {
     "name": "stdout",
     "output_type": "stream",
     "text": [
      "<class 'pandas.core.frame.DataFrame'>\n",
      "RangeIndex: 65079 entries, 0 to 65078\n",
      "Data columns (total 7 columns):\n",
      " #   Column    Non-Null Count  Dtype \n",
      "---  ------    --------------  ----- \n",
      " 0     userID  65079 non-null  object\n",
      " 1   Track     63848 non-null  object\n",
      " 2   artist    57876 non-null  object\n",
      " 3   genre     63881 non-null  object\n",
      " 4     City    65079 non-null  object\n",
      " 5   time      65079 non-null  object\n",
      " 6   Day       65079 non-null  object\n",
      "dtypes: object(7)\n",
      "memory usage: 3.5+ MB\n"
     ]
    }
   ],
   "source": [
    "# получение общей информации о данных в таблице df\n",
    "df.info()"
   ]
  },
  {
   "cell_type": "markdown",
   "metadata": {
    "deletable": false,
    "editable": false,
    "id": "TaQ2Iwbr_Zct"
   },
   "source": [
    "Итак, в таблице семь столбцов. Тип данных во всех столбцах — `object`.\n",
    "\n",
    "Согласно документации к данным:\n",
    "* `userID` — идентификатор пользователя;\n",
    "* `Track` — название трека;  \n",
    "* `artist` — имя исполнителя;\n",
    "* `genre` — название жанра;\n",
    "* `City` — город пользователя;\n",
    "* `time` — время начала прослушивания;\n",
    "* `Day` — день недели.\n",
    "\n",
    "Количество значений в столбцах различается. Значит, в данных есть пропущенные значения."
   ]
  },
  {
   "cell_type": "markdown",
   "metadata": {
    "deletable": false,
    "editable": false,
    "id": "rAfziTBDmf2h",
    "tags": [
     "start_task"
    ]
   },
   "source": [
    "**Задание 5**\n",
    "\n",
    "**Вопрос со свободной формой ответа**\n",
    "\n",
    "В названиях колонок видны нарушения стиля:\n",
    "* Строчные буквы сочетаются с прописными.\n",
    "* Встречаются пробелы.\n",
    "\n",
    "Какое третье нарушение?"
   ]
  },
  {
   "cell_type": "code",
   "execution_count": 11,
   "metadata": {
    "id": "jD8EXEIvmf2h"
   },
   "outputs": [],
   "source": [
    "# Напишите ваш ответ здесь комментарием. Не удаляйте символ #. Не меняйте тип этой ячейки на Markdown.\n",
    "#встречаются названия колонок со стилем \"два горба\" - userID. Необходимо скорректировать на \"змеиный регистр\" -user_id"
   ]
  },
  {
   "cell_type": "markdown",
   "metadata": {
    "deletable": false,
    "editable": false,
    "id": "MCB6-dXG_Zct"
   },
   "source": [
    "**Выводы**\n",
    "\n",
    "В каждой строке таблицы — данные о прослушанном треке. Часть колонок описывает саму композицию: название, исполнителя и жанр. Остальные данные рассказывают о пользователе: из какого он города, когда он слушал музыку. \n",
    "\n",
    "Предварительно можно утверждать, что данных достаточно для проверки гипотез. Но встречаются пропуски в данных, а в названиях колонок — расхождения с хорошим стилем.\n",
    "\n",
    "Чтобы двигаться дальше, нужно устранить проблемы в данных."
   ]
  },
  {
   "cell_type": "markdown",
   "metadata": {
    "deletable": false,
    "editable": false,
    "id": "SjYF6Ub9_Zct"
   },
   "source": [
    "## Предобработка данных\n",
    "Исправьте стиль в заголовках столбцов, исключите пропуски. Затем проверьте данные на дубликаты."
   ]
  },
  {
   "cell_type": "markdown",
   "metadata": {
    "deletable": false,
    "editable": false,
    "id": "dIaKXr29_Zct",
    "tags": [
     "start_task"
    ]
   },
   "source": [
    "### Стиль заголовков\n",
    "\n",
    "**Задание 6**\n",
    "\n",
    "Выведите на экран названия столбцов:"
   ]
  },
  {
   "cell_type": "code",
   "execution_count": 12,
   "metadata": {
    "deletable": false,
    "id": "oKOTdF_Q_Zct"
   },
   "outputs": [
    {
     "data": {
      "text/plain": [
       "Index(['  userID', 'Track', 'artist', 'genre', '  City  ', 'time', 'Day'], dtype='object')"
      ]
     },
     "execution_count": 12,
     "metadata": {},
     "output_type": "execute_result"
    }
   ],
   "source": [
    "# перечень названий столбцов таблицы df\n",
    "df.columns"
   ]
  },
  {
   "cell_type": "markdown",
   "metadata": {
    "deletable": false,
    "editable": false,
    "id": "zj5534cv_Zct",
    "tags": [
     "start_task"
    ]
   },
   "source": [
    "**Задание 7**\n",
    "\n",
    "\n",
    "Приведите названия в соответствие с хорошим стилем:\n",
    "* несколько слов в названии запишите в «змеином_регистре»,\n",
    "* все символы сделайте строчными,\n",
    "* устраните пробелы.\n",
    "\n",
    "Для этого переименуйте колонки так:\n",
    "* `'  userID'` → `'user_id'`;\n",
    "* `'Track'` → `'track'`;\n",
    "* `'  City  '` → `'city'`;\n",
    "* `'Day'` → `'day'`."
   ]
  },
  {
   "cell_type": "code",
   "execution_count": 6,
   "metadata": {
    "deletable": false,
    "id": "ISlFqs5y_Zct"
   },
   "outputs": [],
   "source": [
    "# переименование столбцов\n",
    "df = df.rename(columns = {'  userID':'user_id','Track': 'track','  City  ': 'city','Day': 'day'})"
   ]
  },
  {
   "cell_type": "markdown",
   "metadata": {
    "deletable": false,
    "editable": false,
    "id": "1dqbh00J_Zct",
    "tags": [
     "start_task"
    ]
   },
   "source": [
    "**Задание 8**\n",
    "\n",
    "\n",
    "Проверьте результат. Для этого ещё раз выведите на экран названия столбцов:"
   ]
  },
  {
   "cell_type": "code",
   "execution_count": 7,
   "metadata": {
    "deletable": false,
    "id": "d4NOAmTW_Zct"
   },
   "outputs": [
    {
     "data": {
      "text/plain": [
       "Index(['user_id', 'track', 'artist', 'genre', 'city', 'time', 'day'], dtype='object')"
      ]
     },
     "execution_count": 7,
     "metadata": {},
     "output_type": "execute_result"
    }
   ],
   "source": [
    "# проверка результатов - перечень названий столбцов\n",
    "df.columns"
   ]
  },
  {
   "cell_type": "markdown",
   "metadata": {
    "deletable": false,
    "editable": false,
    "id": "5ISfbcfY_Zct",
    "tags": [
     "start_task"
    ]
   },
   "source": [
    "### Пропуски значений\n",
    "\n",
    "**Задание 9**\n",
    "\n",
    "Сначала посчитайте, сколько в таблице пропущенных значений. Для этого достаточно двух методов `pandas`:"
   ]
  },
  {
   "cell_type": "code",
   "execution_count": 8,
   "metadata": {
    "deletable": false,
    "id": "RskX29qr_Zct"
   },
   "outputs": [
    {
     "data": {
      "text/plain": [
       "user_id       0\n",
       "track      1231\n",
       "artist     7203\n",
       "genre      1198\n",
       "city          0\n",
       "time          0\n",
       "day           0\n",
       "dtype: int64"
      ]
     },
     "execution_count": 8,
     "metadata": {},
     "output_type": "execute_result"
    }
   ],
   "source": [
    "# подсчёт пропусков\n",
    "df.isna().sum()"
   ]
  },
  {
   "cell_type": "markdown",
   "metadata": {
    "deletable": false,
    "editable": false,
    "id": "qubhgnlO_Zct"
   },
   "source": [
    "Не все пропущенные значения влияют на исследование. Так в `track` и `artist` пропуски не важны для вашей работы. Достаточно заменить их явными обозначениями.\n",
    "\n",
    "Но пропуски в `genre` могут помешать сравнению музыкальных вкусов в Москве и Санкт-Петербурге. На практике было бы правильно установить причину пропусков и восстановить данные. Такой возможности нет в учебном проекте. Придётся:\n",
    "* заполнить и эти пропуски явными обозначениями;\n",
    "* оценить, насколько они повредят расчётам. "
   ]
  },
  {
   "cell_type": "markdown",
   "metadata": {
    "deletable": false,
    "editable": false,
    "id": "fSv2laPA_Zct",
    "tags": [
     "start_task"
    ]
   },
   "source": [
    "**Задание 10**\n",
    "\n",
    "Замените пропущенные значения в столбцах `track`, `artist` и `genre` на строку `'unknown'`. Для этого создайте список `columns_to_replace`, переберите его элементы циклом `for` и для каждого столбца выполните замену пропущенных значений:"
   ]
  },
  {
   "cell_type": "code",
   "execution_count": 16,
   "metadata": {
    "deletable": false,
    "id": "KplB5qWs_Zct"
   },
   "outputs": [],
   "source": [
    "# перебор названий столбцов в цикле и замена пропущенных значений на 'unknown'\n",
    "columns_to_replace = ['track', 'artist', 'genre']\n",
    "\n",
    "for unk in columns_to_replace:\n",
    "    df[unk] = df[unk].fillna('unknown')\n",
    "    "
   ]
  },
  {
   "cell_type": "markdown",
   "metadata": {
    "deletable": false,
    "editable": false,
    "id": "Ilsm-MZo_Zct",
    "tags": [
     "start_task"
    ]
   },
   "source": [
    "**Задание 11**\n",
    "\n",
    "Убедитесь, что в таблице не осталось пропусков. Для этого ещё раз посчитайте пропущенные значения."
   ]
  },
  {
   "cell_type": "code",
   "execution_count": 17,
   "metadata": {
    "deletable": false,
    "id": "Tq4nYRX4_Zct"
   },
   "outputs": [
    {
     "data": {
      "text/plain": [
       "user_id    0\n",
       "track      0\n",
       "artist     0\n",
       "genre      0\n",
       "city       0\n",
       "time       0\n",
       "day        0\n",
       "dtype: int64"
      ]
     },
     "execution_count": 17,
     "metadata": {},
     "output_type": "execute_result"
    }
   ],
   "source": [
    "# подсчёт пропусков\n",
    "df.isna().sum()"
   ]
  },
  {
   "cell_type": "markdown",
   "metadata": {
    "deletable": false,
    "editable": false,
    "id": "BWKRtBJ3_Zct",
    "tags": [
     "start_task"
    ]
   },
   "source": [
    "### Дубликаты\n",
    "\n",
    "**Задание 12**\n",
    "\n",
    "Посчитайте явные дубликаты в таблице одной командой:"
   ]
  },
  {
   "cell_type": "code",
   "execution_count": 18,
   "metadata": {
    "deletable": false,
    "id": "36eES_S0_Zct"
   },
   "outputs": [
    {
     "data": {
      "text/plain": [
       "3826"
      ]
     },
     "execution_count": 18,
     "metadata": {},
     "output_type": "execute_result"
    }
   ],
   "source": [
    "# подсчёт явных дубликатов\n",
    "df.duplicated().sum()"
   ]
  },
  {
   "cell_type": "markdown",
   "metadata": {
    "deletable": false,
    "editable": false,
    "id": "Ot25h6XR_Zct",
    "tags": [
     "start_task"
    ]
   },
   "source": [
    "**Задание 13**\n",
    "\n",
    "Вызовите специальный метод `pandas`, чтобы удалить явные дубликаты:"
   ]
  },
  {
   "cell_type": "code",
   "execution_count": 19,
   "metadata": {
    "deletable": false,
    "id": "exFHq6tt_Zct"
   },
   "outputs": [],
   "source": [
    "# удаление явных дубликатов\n",
    "df = df.drop_duplicates()"
   ]
  },
  {
   "cell_type": "markdown",
   "metadata": {
    "deletable": false,
    "editable": false,
    "id": "Im2YwBEG_Zct",
    "tags": [
     "start_task"
    ]
   },
   "source": [
    "**Задание 14**\n",
    "\n",
    "Ещё раз посчитайте явные дубликаты в таблице — убедитесь, что полностью от них избавились:"
   ]
  },
  {
   "cell_type": "code",
   "execution_count": 20,
   "metadata": {
    "deletable": false,
    "id": "-8PuNWQ0_Zct"
   },
   "outputs": [
    {
     "data": {
      "text/plain": [
       "0"
      ]
     },
     "execution_count": 20,
     "metadata": {},
     "output_type": "execute_result"
    }
   ],
   "source": [
    "# проверка на отсутствие дубликатов\n",
    "df.duplicated().sum()"
   ]
  },
  {
   "cell_type": "markdown",
   "metadata": {
    "deletable": false,
    "editable": false,
    "id": "QlFBsxAr_Zct"
   },
   "source": [
    "Теперь избавьтесь от неявных дубликатов в колонке `genre`. Например, название одного и того же жанра может быть записано немного по-разному. Такие ошибки тоже повлияют на результат исследования."
   ]
  },
  {
   "cell_type": "markdown",
   "metadata": {
    "deletable": false,
    "editable": false,
    "id": "eSjWwsOh_Zct",
    "tags": [
     "start_task"
    ]
   },
   "source": [
    "**Задание 15**\n",
    "\n",
    "Выведите на экран список уникальных названий жанров, отсортированный в алфавитном порядке. Для этого:\n",
    "1. извлеките нужный столбец датафрейма; \n",
    "2. примените к нему метод сортировки;\n",
    "3. для отсортированного столбца вызовите метод, который вернёт уникальные значения из столбца."
   ]
  },
  {
   "cell_type": "code",
   "execution_count": 21,
   "metadata": {
    "deletable": false,
    "id": "JIUcqzZN_Zct"
   },
   "outputs": [
    {
     "data": {
      "text/plain": [
       "array(['acid', 'acoustic', 'action', 'adult', 'africa', 'afrikaans',\n",
       "       'alternative', 'alternativepunk', 'ambient', 'americana',\n",
       "       'animated', 'anime', 'arabesk', 'arabic', 'arena',\n",
       "       'argentinetango', 'art', 'audiobook', 'author', 'avantgarde',\n",
       "       'axé', 'baile', 'balkan', 'beats', 'bigroom', 'black', 'bluegrass',\n",
       "       'blues', 'bollywood', 'bossa', 'brazilian', 'breakbeat', 'breaks',\n",
       "       'broadway', 'cantautori', 'cantopop', 'canzone', 'caribbean',\n",
       "       'caucasian', 'celtic', 'chamber', 'chanson', 'children', 'chill',\n",
       "       'chinese', 'choral', 'christian', 'christmas', 'classical',\n",
       "       'classicmetal', 'club', 'colombian', 'comedy', 'conjazz',\n",
       "       'contemporary', 'country', 'cuban', 'dance', 'dancehall',\n",
       "       'dancepop', 'dark', 'death', 'deep', 'deutschrock', 'deutschspr',\n",
       "       'dirty', 'disco', 'dnb', 'documentary', 'downbeat', 'downtempo',\n",
       "       'drum', 'dub', 'dubstep', 'eastern', 'easy', 'electronic',\n",
       "       'electropop', 'emo', 'entehno', 'epicmetal', 'estrada', 'ethnic',\n",
       "       'eurofolk', 'european', 'experimental', 'extrememetal', 'fado',\n",
       "       'fairytail', 'film', 'fitness', 'flamenco', 'folk', 'folklore',\n",
       "       'folkmetal', 'folkrock', 'folktronica', 'forró', 'frankreich',\n",
       "       'französisch', 'french', 'funk', 'future', 'gangsta', 'garage',\n",
       "       'german', 'ghazal', 'gitarre', 'glitch', 'gospel', 'gothic',\n",
       "       'grime', 'grunge', 'gypsy', 'handsup', \"hard'n'heavy\", 'hardcore',\n",
       "       'hardstyle', 'hardtechno', 'hip', 'hip-hop', 'hiphop',\n",
       "       'historisch', 'holiday', 'hop', 'horror', 'house', 'hymn', 'idm',\n",
       "       'independent', 'indian', 'indie', 'indipop', 'industrial',\n",
       "       'inspirational', 'instrumental', 'international', 'irish', 'jam',\n",
       "       'japanese', 'jazz', 'jewish', 'jpop', 'jungle', 'k-pop',\n",
       "       'karadeniz', 'karaoke', 'kayokyoku', 'korean', 'laiko', 'latin',\n",
       "       'latino', 'leftfield', 'local', 'lounge', 'loungeelectronic',\n",
       "       'lovers', 'malaysian', 'mandopop', 'marschmusik', 'meditative',\n",
       "       'mediterranean', 'melodic', 'metal', 'metalcore', 'mexican',\n",
       "       'middle', 'minimal', 'miscellaneous', 'modern', 'mood', 'mpb',\n",
       "       'muslim', 'native', 'neoklassik', 'neue', 'new', 'newage',\n",
       "       'newwave', 'nu', 'nujazz', 'numetal', 'oceania', 'old', 'opera',\n",
       "       'orchestral', 'other', 'piano', 'podcasts', 'pop', 'popdance',\n",
       "       'popelectronic', 'popeurodance', 'poprussian', 'post',\n",
       "       'posthardcore', 'postrock', 'power', 'progmetal', 'progressive',\n",
       "       'psychedelic', 'punjabi', 'punk', 'quebecois', 'ragga', 'ram',\n",
       "       'rancheras', 'rap', 'rave', 'reggae', 'reggaeton', 'regional',\n",
       "       'relax', 'religious', 'retro', 'rhythm', 'rnb', 'rnr', 'rock',\n",
       "       'rockabilly', 'rockalternative', 'rockindie', 'rockother',\n",
       "       'romance', 'roots', 'ruspop', 'rusrap', 'rusrock', 'russian',\n",
       "       'salsa', 'samba', 'scenic', 'schlager', 'self', 'sertanejo',\n",
       "       'shanson', 'shoegazing', 'showtunes', 'singer', 'ska', 'skarock',\n",
       "       'slow', 'smooth', 'soft', 'soul', 'soulful', 'sound', 'soundtrack',\n",
       "       'southern', 'specialty', 'speech', 'spiritual', 'sport',\n",
       "       'stonerrock', 'surf', 'swing', 'synthpop', 'synthrock',\n",
       "       'sängerportrait', 'tango', 'tanzorchester', 'taraftar', 'tatar',\n",
       "       'tech', 'techno', 'teen', 'thrash', 'top', 'traditional',\n",
       "       'tradjazz', 'trance', 'tribal', 'trip', 'triphop', 'tropical',\n",
       "       'türk', 'türkçe', 'ukrrock', 'unknown', 'urban', 'uzbek',\n",
       "       'variété', 'vi', 'videogame', 'vocal', 'western', 'world',\n",
       "       'worldbeat', 'ïîï', 'электроника'], dtype=object)"
      ]
     },
     "execution_count": 21,
     "metadata": {},
     "output_type": "execute_result"
    }
   ],
   "source": [
    "# Просмотр уникальных названий жанров\n",
    "genre = df['genre']\n",
    "genre = genre.sort_values(ascending=True)\n",
    "genre.unique()"
   ]
  },
  {
   "cell_type": "markdown",
   "metadata": {
    "deletable": false,
    "editable": false,
    "id": "qej-Qmuo_Zct",
    "tags": [
     "start_task"
    ]
   },
   "source": [
    "**Задание 16**\n",
    "\n",
    "Просмотрите список и найдите неявные дубликаты названия `hiphop`. Это могут быть названия с ошибками или альтернативные названия того же жанра.\n",
    "\n",
    "Вы увидите следующие неявные дубликаты:\n",
    "* *hip*,\n",
    "* *hop*,\n",
    "* *hip-hop*.\n",
    "\n",
    "Чтобы очистить от них таблицу используйте метод `replace()` с двумя аргументами: списком строк-дубликатов (включащий *hip*, *hop* и *hip-hop*) и строкой с правильным значением. Вам нужно исправить колонку `genre` в таблице `df`: заменить каждое значение из списка дубликатов на верное. Вместо `hip`, `hop` и `hip-hop` в таблице должно быть значение `hiphop`:"
   ]
  },
  {
   "cell_type": "code",
   "execution_count": 22,
   "metadata": {
    "deletable": false,
    "id": "ErNDkmns_Zct"
   },
   "outputs": [],
   "source": [
    "# Устранение неявных дубликатов\n",
    "duplicate = ['hip', 'hop', 'hip-hop']\n",
    "\n",
    "df['genre'] = df['genre'].replace(duplicate, 'hiphop')"
   ]
  },
  {
   "cell_type": "markdown",
   "metadata": {
    "deletable": false,
    "editable": false,
    "id": "zQKF16_RG15m",
    "tags": [
     "start_task"
    ]
   },
   "source": [
    "**Задание 17**\n",
    "\n",
    "Проверьте, что заменили неправильные названия:\n",
    "\n",
    "*   hip,\n",
    "*   hop,\n",
    "*   hip-hop.\n",
    "\n",
    "Выведите отсортированный список уникальных значений столбца `genre`:"
   ]
  },
  {
   "cell_type": "code",
   "execution_count": 23,
   "metadata": {
    "deletable": false,
    "id": "wvixALnFG15m"
   },
   "outputs": [
    {
     "data": {
      "text/plain": [
       "array(['acid', 'acoustic', 'action', 'adult', 'africa', 'afrikaans',\n",
       "       'alternative', 'alternativepunk', 'ambient', 'americana',\n",
       "       'animated', 'anime', 'arabesk', 'arabic', 'arena',\n",
       "       'argentinetango', 'art', 'audiobook', 'author', 'avantgarde',\n",
       "       'axé', 'baile', 'balkan', 'beats', 'bigroom', 'black', 'bluegrass',\n",
       "       'blues', 'bollywood', 'bossa', 'brazilian', 'breakbeat', 'breaks',\n",
       "       'broadway', 'cantautori', 'cantopop', 'canzone', 'caribbean',\n",
       "       'caucasian', 'celtic', 'chamber', 'chanson', 'children', 'chill',\n",
       "       'chinese', 'choral', 'christian', 'christmas', 'classical',\n",
       "       'classicmetal', 'club', 'colombian', 'comedy', 'conjazz',\n",
       "       'contemporary', 'country', 'cuban', 'dance', 'dancehall',\n",
       "       'dancepop', 'dark', 'death', 'deep', 'deutschrock', 'deutschspr',\n",
       "       'dirty', 'disco', 'dnb', 'documentary', 'downbeat', 'downtempo',\n",
       "       'drum', 'dub', 'dubstep', 'eastern', 'easy', 'electronic',\n",
       "       'electropop', 'emo', 'entehno', 'epicmetal', 'estrada', 'ethnic',\n",
       "       'eurofolk', 'european', 'experimental', 'extrememetal', 'fado',\n",
       "       'fairytail', 'film', 'fitness', 'flamenco', 'folk', 'folklore',\n",
       "       'folkmetal', 'folkrock', 'folktronica', 'forró', 'frankreich',\n",
       "       'französisch', 'french', 'funk', 'future', 'gangsta', 'garage',\n",
       "       'german', 'ghazal', 'gitarre', 'glitch', 'gospel', 'gothic',\n",
       "       'grime', 'grunge', 'gypsy', 'handsup', \"hard'n'heavy\", 'hardcore',\n",
       "       'hardstyle', 'hardtechno', 'hiphop', 'historisch', 'holiday',\n",
       "       'horror', 'house', 'hymn', 'idm', 'independent', 'indian', 'indie',\n",
       "       'indipop', 'industrial', 'inspirational', 'instrumental',\n",
       "       'international', 'irish', 'jam', 'japanese', 'jazz', 'jewish',\n",
       "       'jpop', 'jungle', 'k-pop', 'karadeniz', 'karaoke', 'kayokyoku',\n",
       "       'korean', 'laiko', 'latin', 'latino', 'leftfield', 'local',\n",
       "       'lounge', 'loungeelectronic', 'lovers', 'malaysian', 'mandopop',\n",
       "       'marschmusik', 'meditative', 'mediterranean', 'melodic', 'metal',\n",
       "       'metalcore', 'mexican', 'middle', 'minimal', 'miscellaneous',\n",
       "       'modern', 'mood', 'mpb', 'muslim', 'native', 'neoklassik', 'neue',\n",
       "       'new', 'newage', 'newwave', 'nu', 'nujazz', 'numetal', 'oceania',\n",
       "       'old', 'opera', 'orchestral', 'other', 'piano', 'podcasts', 'pop',\n",
       "       'popdance', 'popelectronic', 'popeurodance', 'poprussian', 'post',\n",
       "       'posthardcore', 'postrock', 'power', 'progmetal', 'progressive',\n",
       "       'psychedelic', 'punjabi', 'punk', 'quebecois', 'ragga', 'ram',\n",
       "       'rancheras', 'rap', 'rave', 'reggae', 'reggaeton', 'regional',\n",
       "       'relax', 'religious', 'retro', 'rhythm', 'rnb', 'rnr', 'rock',\n",
       "       'rockabilly', 'rockalternative', 'rockindie', 'rockother',\n",
       "       'romance', 'roots', 'ruspop', 'rusrap', 'rusrock', 'russian',\n",
       "       'salsa', 'samba', 'scenic', 'schlager', 'self', 'sertanejo',\n",
       "       'shanson', 'shoegazing', 'showtunes', 'singer', 'ska', 'skarock',\n",
       "       'slow', 'smooth', 'soft', 'soul', 'soulful', 'sound', 'soundtrack',\n",
       "       'southern', 'specialty', 'speech', 'spiritual', 'sport',\n",
       "       'stonerrock', 'surf', 'swing', 'synthpop', 'synthrock',\n",
       "       'sängerportrait', 'tango', 'tanzorchester', 'taraftar', 'tatar',\n",
       "       'tech', 'techno', 'teen', 'thrash', 'top', 'traditional',\n",
       "       'tradjazz', 'trance', 'tribal', 'trip', 'triphop', 'tropical',\n",
       "       'türk', 'türkçe', 'ukrrock', 'unknown', 'urban', 'uzbek',\n",
       "       'variété', 'vi', 'videogame', 'vocal', 'western', 'world',\n",
       "       'worldbeat', 'ïîï', 'электроника'], dtype=object)"
      ]
     },
     "execution_count": 23,
     "metadata": {},
     "output_type": "execute_result"
    }
   ],
   "source": [
    "# Проверка на неявные дубликаты\n",
    "genre = df['genre']\n",
    "genre = genre.sort_values(ascending=True)\n",
    "genre.unique()"
   ]
  },
  {
   "cell_type": "markdown",
   "metadata": {
    "deletable": false,
    "editable": false,
    "id": "jz6a9-7HQUDd"
   },
   "source": [
    "**Выводы**\n",
    "\n",
    "Предобработка обнаружила три проблемы в данных:\n",
    "\n",
    "- нарушения в стиле заголовков,\n",
    "- пропущенные значения,\n",
    "- дубликаты — явные и неявные.\n",
    "\n",
    "Вы исправили заголовки, чтобы упростить работу с таблицей. Без дубликатов исследование станет более точным.\n",
    "\n",
    "Пропущенные значения вы заменили на `'unknown'`. Ещё предстоит увидеть, не повредят ли исследованию пропуски в колонке `genre`.\n",
    "\n",
    "Теперь можно перейти к проверке гипотез. "
   ]
  },
  {
   "cell_type": "markdown",
   "metadata": {
    "deletable": false,
    "editable": false,
    "id": "WttZHXH0SqKk"
   },
   "source": [
    "## Проверка гипотез"
   ]
  },
  {
   "cell_type": "markdown",
   "metadata": {
    "deletable": false,
    "editable": false,
    "id": "Im936VVi_Zcu"
   },
   "source": [
    "### Сравнение поведения пользователей двух столиц"
   ]
  },
  {
   "cell_type": "markdown",
   "metadata": {
    "deletable": false,
    "editable": false,
    "id": "nwt_MuaL_Zcu"
   },
   "source": [
    "Первая гипотеза утверждает, что пользователи по-разному слушают музыку в Москве и Санкт-Петербурге. Проверьте это предположение по данным о трёх днях недели — понедельнике, среде и пятнице. Для этого:\n",
    "\n",
    "* Разделите пользователей Москвы и Санкт-Петербурга.\n",
    "* Сравните, сколько треков послушала каждая группа пользователей в понедельник, среду и пятницу.\n"
   ]
  },
  {
   "cell_type": "markdown",
   "metadata": {
    "deletable": false,
    "editable": false,
    "id": "8Dw_YMmT_Zcu",
    "tags": [
     "start_task"
    ]
   },
   "source": [
    "**Задание 18**\n",
    "\n",
    "Для тренировки сначала выполните каждый из расчётов по отдельности. \n",
    "\n",
    "Оцените активность пользователей в каждом городе. Сгруппируйте данные по городу и посчитайте прослушивания в каждой группе.\n",
    "\n"
   ]
  },
  {
   "cell_type": "code",
   "execution_count": 24,
   "metadata": {
    "deletable": false,
    "id": "0_Qs96oh_Zcu"
   },
   "outputs": [
    {
     "data": {
      "text/plain": [
       "city\n",
       "Moscow              42741\n",
       "Saint-Petersburg    18512\n",
       "Name: time, dtype: int64"
      ]
     },
     "execution_count": 24,
     "metadata": {},
     "output_type": "execute_result"
    }
   ],
   "source": [
    "# Подсчёт прослушиваний в каждом городе\n",
    "df_city = df.groupby('city')['time'].count()\n",
    "df_city\n",
    "\n",
    "\n"
   ]
  },
  {
   "cell_type": "markdown",
   "metadata": {
    "deletable": false,
    "editable": false,
    "id": "dzli3w8o_Zcu",
    "tags": [
     "start_task"
    ]
   },
   "source": [
    "В Москве прослушиваний больше, чем в Петербурге. Из этого не следует, что московские пользователи чаще слушают музыку. Просто самих пользователей в Москве больше.\n",
    "\n",
    "**Задание 19**\n",
    "\n",
    "Теперь сгруппируйте данные по дню недели и посчитайте прослушивания в понедельник, среду и пятницу. Учтите, что в данных есть информация о прослушиваниях только за эти дни.\n"
   ]
  },
  {
   "cell_type": "code",
   "execution_count": 9,
   "metadata": {
    "deletable": false,
    "id": "uZMKjiJz_Zcu"
   },
   "outputs": [
    {
     "data": {
      "text/plain": [
       "day\n",
       "Friday       23149\n",
       "Monday       22697\n",
       "Wednesday    19233\n",
       "Name: time, dtype: int64"
      ]
     },
     "execution_count": 9,
     "metadata": {},
     "output_type": "execute_result"
    }
   ],
   "source": [
    "# Подсчёт прослушиваний в каждый из трёх дней\n",
    "df_day = df.groupby('day')['time'].count()\n",
    "df_day"
   ]
  },
  {
   "cell_type": "markdown",
   "metadata": {
    "deletable": false,
    "editable": false,
    "id": "cC2tNrlL_Zcu"
   },
   "source": [
    "В среднем пользователи из двух городов менее активны по средам. Но картина может измениться, если рассмотреть каждый город в отдельности."
   ]
  },
  {
   "cell_type": "markdown",
   "metadata": {
    "deletable": false,
    "editable": false,
    "id": "POzs8bGa_Zcu",
    "tags": [
     "start_task"
    ]
   },
   "source": [
    "**Задание 20**\n",
    "\n",
    "\n",
    "Вы видели, как работает группировка по городу и по дням недели. Теперь напишите функцию, которая объединит два эти расчёта.\n",
    "\n",
    "Создайте функцию `number_tracks()`, которая посчитает прослушивания для заданного дня и города. Ей понадобятся два параметра:\n",
    "* день недели,\n",
    "* название города.\n",
    "\n",
    "В функции сохраните в переменную строки исходной таблицы, у которых значение:\n",
    "  * в колонке `day` равно параметру `day`,\n",
    "  * в колонке `city` равно параметру `city`.\n",
    "\n",
    "Для этого примените последовательную фильтрацию с логической индексацией (или сложные логические выражения в одну строку, если вы уже знакомы с ними).\n",
    "\n",
    "Затем посчитайте значения в столбце `user_id` получившейся таблицы. Результат сохраните в новую переменную. Верните эту переменную из функции."
   ]
  },
  {
   "cell_type": "code",
   "execution_count": 26,
   "metadata": {
    "deletable": false,
    "id": "Nz3GdQB1_Zcu"
   },
   "outputs": [],
   "source": [
    "# <создание функции number_tracks()>\n",
    "# Объявляется функция с двумя параметрами: day, city.\n",
    "# В переменной track_list сохраняются те строки таблицы df, для которых \n",
    "# значение в столбце 'day' равно параметру day и одновременно значение\n",
    "# в столбце 'city' равно параметру city (используйте последовательную фильтрацию\n",
    "# с помощью логической индексации или сложные логические выражения в одну строку, если вы уже знакомы с ними).\n",
    "# В переменной track_list_count сохраняется число значений столбца 'user_id',\n",
    "# рассчитанное методом count() для таблицы track_list.\n",
    "# Функция возвращает число - значение track_list_count.\n",
    "\n",
    "# Функция для подсчёта прослушиваний для конкретного города и дня.\n",
    "# С помощью последовательной фильтрации с логической индексацией она \n",
    "# сначала получит из исходной таблицы строки с нужным днём,\n",
    "# затем из результата отфильтрует строки с нужным городом,\n",
    "# методом count() посчитает количество значений в колонке user_id. \n",
    "# Это количество функция вернёт в качестве результата\n",
    "\n",
    "def number_tracks(day, city):\n",
    "    track_list = df[df['day'] == day]\n",
    "    track_list = track_list[track_list['city'] == city].count()\n",
    "    track_list_count = track_list['user_id']\n",
    "    return track_list_count\n"
   ]
  },
  {
   "cell_type": "markdown",
   "metadata": {
    "deletable": false,
    "editable": false,
    "id": "ytf7xFrFJQ2r",
    "tags": [
     "start_task"
    ]
   },
   "source": [
    "**Задание 21**\n",
    "\n",
    "Вызовите `number_tracks()` шесть раз, меняя значение параметров — так, чтобы получить данные для каждого города в каждый из трёх дней."
   ]
  },
  {
   "cell_type": "code",
   "execution_count": 27,
   "metadata": {
    "deletable": false,
    "id": "rJcRATNQ_Zcu"
   },
   "outputs": [
    {
     "data": {
      "text/plain": [
       "15740"
      ]
     },
     "execution_count": 27,
     "metadata": {},
     "output_type": "execute_result"
    }
   ],
   "source": [
    "# количество прослушиваний в Москве по понедельникам\n",
    "number_tracks('Monday','Moscow')"
   ]
  },
  {
   "cell_type": "code",
   "execution_count": 28,
   "metadata": {
    "deletable": false,
    "id": "hq_ncZ5T_Zcu"
   },
   "outputs": [
    {
     "data": {
      "text/plain": [
       "5614"
      ]
     },
     "execution_count": 28,
     "metadata": {},
     "output_type": "execute_result"
    }
   ],
   "source": [
    "# количество прослушиваний в Санкт-Петербурге по понедельникам\n",
    "number_tracks('Monday','Saint-Petersburg')"
   ]
  },
  {
   "cell_type": "code",
   "execution_count": 29,
   "metadata": {
    "deletable": false,
    "id": "_NTy2VPU_Zcu"
   },
   "outputs": [
    {
     "data": {
      "text/plain": [
       "11056"
      ]
     },
     "execution_count": 29,
     "metadata": {},
     "output_type": "execute_result"
    }
   ],
   "source": [
    "# количество прослушиваний в Москве по средам\n",
    "number_tracks('Wednesday','Moscow')"
   ]
  },
  {
   "cell_type": "code",
   "execution_count": 30,
   "metadata": {
    "deletable": false,
    "id": "j2y3TAwo_Zcu"
   },
   "outputs": [
    {
     "data": {
      "text/plain": [
       "7003"
      ]
     },
     "execution_count": 30,
     "metadata": {},
     "output_type": "execute_result"
    }
   ],
   "source": [
    "# количество прослушиваний в Санкт-Петербурге по средам\n",
    "number_tracks('Wednesday','Saint-Petersburg')"
   ]
  },
  {
   "cell_type": "code",
   "execution_count": 31,
   "metadata": {
    "deletable": false,
    "id": "vYDw5u_K_Zcu"
   },
   "outputs": [
    {
     "data": {
      "text/plain": [
       "15945"
      ]
     },
     "execution_count": 31,
     "metadata": {},
     "output_type": "execute_result"
    }
   ],
   "source": [
    "# количество прослушиваний в Москве по пятницам\n",
    "number_tracks('Friday','Moscow')"
   ]
  },
  {
   "cell_type": "code",
   "execution_count": 32,
   "metadata": {
    "deletable": false,
    "id": "8_yzFtW3_Zcu"
   },
   "outputs": [
    {
     "data": {
      "text/plain": [
       "5895"
      ]
     },
     "execution_count": 32,
     "metadata": {},
     "output_type": "execute_result"
    }
   ],
   "source": [
    "# количество прослушиваний в Санкт-Петербурге по пятницам\n",
    "number_tracks('Friday','Saint-Petersburg')"
   ]
  },
  {
   "cell_type": "markdown",
   "metadata": {
    "deletable": false,
    "editable": false,
    "id": "7QXffbO-_Zcu",
    "tags": [
     "start_task"
    ]
   },
   "source": [
    "**Задание 22**\n",
    "\n",
    "Создайте c помощью конструктора `pd.DataFrame` таблицу, где\n",
    "* названия колонок — `['city', 'monday', 'wednesday', 'friday']`;\n",
    "* данные — результаты, которые вы получили с помощью `number_tracks`."
   ]
  },
  {
   "cell_type": "code",
   "execution_count": 33,
   "metadata": {
    "deletable": false,
    "id": "APAcLpOr_Zcu"
   },
   "outputs": [
    {
     "data": {
      "text/html": [
       "<div>\n",
       "<style scoped>\n",
       "    .dataframe tbody tr th:only-of-type {\n",
       "        vertical-align: middle;\n",
       "    }\n",
       "\n",
       "    .dataframe tbody tr th {\n",
       "        vertical-align: top;\n",
       "    }\n",
       "\n",
       "    .dataframe thead th {\n",
       "        text-align: right;\n",
       "    }\n",
       "</style>\n",
       "<table border=\"1\" class=\"dataframe\">\n",
       "  <thead>\n",
       "    <tr style=\"text-align: right;\">\n",
       "      <th></th>\n",
       "      <th>city</th>\n",
       "      <th>monday</th>\n",
       "      <th>wednesday</th>\n",
       "      <th>friday</th>\n",
       "    </tr>\n",
       "  </thead>\n",
       "  <tbody>\n",
       "    <tr>\n",
       "      <th>0</th>\n",
       "      <td>Moscow</td>\n",
       "      <td>15740</td>\n",
       "      <td>11056</td>\n",
       "      <td>15945</td>\n",
       "    </tr>\n",
       "    <tr>\n",
       "      <th>1</th>\n",
       "      <td>Saint-Petersburg</td>\n",
       "      <td>5614</td>\n",
       "      <td>7003</td>\n",
       "      <td>5895</td>\n",
       "    </tr>\n",
       "  </tbody>\n",
       "</table>\n",
       "</div>"
      ],
      "text/plain": [
       "               city  monday  wednesday  friday\n",
       "0            Moscow   15740      11056   15945\n",
       "1  Saint-Petersburg    5614       7003    5895"
      ]
     },
     "execution_count": 33,
     "metadata": {},
     "output_type": "execute_result"
    }
   ],
   "source": [
    "# Таблица с результатами\n",
    "columns = ['city', 'monday', 'wednesday', 'friday']\n",
    "data = [['Moscow', 15740, 11056, 15945],\n",
    "       ['Saint-Petersburg', 5614, 7003, 5895]]\n",
    "info = pd.DataFrame(data = data, columns = columns)\n",
    "info"
   ]
  },
  {
   "cell_type": "markdown",
   "metadata": {
    "deletable": false,
    "editable": false,
    "id": "-EgPIHYu_Zcu"
   },
   "source": [
    "**Выводы**\n",
    "\n",
    "Данные показывают разницу поведения пользователей:\n",
    "\n",
    "- В Москве пик прослушиваний приходится на понедельник и пятницу, а в среду заметен спад.\n",
    "- В Петербурге, наоборот, больше слушают музыку по средам. Активность в понедельник и пятницу здесь почти в равной мере уступает среде.\n",
    "\n",
    "Значит, данные говорят в пользу первой гипотезы."
   ]
  },
  {
   "cell_type": "markdown",
   "metadata": {
    "deletable": false,
    "editable": false,
    "id": "atZAxtq4_Zcu"
   },
   "source": [
    "### Музыка в начале и в конце недели"
   ]
  },
  {
   "cell_type": "markdown",
   "metadata": {
    "deletable": false,
    "editable": false,
    "id": "eXrQqXFH_Zcu"
   },
   "source": [
    "Согласно второй гипотезе, утром в понедельник в Москве преобладают одни жанры, а в Петербурге — другие. Так же и вечером пятницы преобладают разные жанры — в зависимости от города."
   ]
  },
  {
   "cell_type": "markdown",
   "metadata": {
    "deletable": false,
    "editable": false,
    "id": "S8UcW6Hw_Zcu",
    "tags": [
     "start_task"
    ]
   },
   "source": [
    "**Задание 23**\n",
    "\n",
    "Сохраните таблицы с данными в две переменные:\n",
    "* по Москве — в `moscow_general`;\n",
    "* по Санкт-Петербургу — в `spb_general`."
   ]
  },
  {
   "cell_type": "code",
   "execution_count": 11,
   "metadata": {
    "deletable": false,
    "id": "qeaFfM_P_Zcu"
   },
   "outputs": [],
   "source": [
    "# получение таблицы moscow_general из тех строк таблицы df, \n",
    "# для которых значение в столбце 'city' равно 'Moscow'\n",
    "moscow_general = df[df['city'] == 'Moscow']\n"
   ]
  },
  {
   "cell_type": "code",
   "execution_count": 12,
   "metadata": {
    "deletable": false,
    "id": "ORaVRKto_Zcu"
   },
   "outputs": [],
   "source": [
    "# получение таблицы spb_general из тех строк таблицы df,\n",
    "# для которых значение в столбце 'city' равно 'Saint-Petersburg'\n",
    "spb_general = df[df['city'] == 'Saint-Petersburg']\n"
   ]
  },
  {
   "cell_type": "markdown",
   "metadata": {
    "deletable": false,
    "editable": false,
    "id": "MEJV-CX2_Zcu",
    "tags": [
     "start_task"
    ]
   },
   "source": [
    "**Задание 24**\n",
    "\n",
    "Создайте функцию `genre_weekday()` с четырьмя параметрами:\n",
    "* таблица (датафрейм) с данными,\n",
    "* день недели,\n",
    "* начальная временная метка в формате 'hh:mm', \n",
    "* последняя временная метка в формате 'hh:mm'.\n",
    "\n",
    "Функция должна вернуть информацию о топ-10 жанров тех треков, которые прослушивали в указанный день, в промежутке между двумя отметками времени."
   ]
  },
  {
   "cell_type": "code",
   "execution_count": 36,
   "metadata": {
    "deletable": false,
    "id": "laJT9BYl_Zcu"
   },
   "outputs": [],
   "source": [
    "# Объявление функции genre_weekday() с параметрами table, day, time1, time2,\n",
    "# которая возвращает информацию о самых популярных жанрах в указанный день в\n",
    "# заданное время:\n",
    "# 1) в переменную genre_df сохраняются те строки переданного датафрейма table, для\n",
    "#    которых одновременно:\n",
    "#    - значение в столбце day равно значению аргумента day\n",
    "#    - значение в столбце time больше значения аргумента time1\n",
    "#    - значение в столбце time меньше значения аргумента time2\n",
    "#    Используйте последовательную фильтрацию с помощью логической индексации.\n",
    "# 2) сгруппировать датафрейм genre_df по столбцу genre, взять один из его\n",
    "#    столбцов и посчитать методом count() количество записей для каждого из\n",
    "#    присутствующих жанров, получившийся Series записать в переменную\n",
    "#    genre_df_count\n",
    "# 3) отсортировать genre_df_count по убыванию встречаемости и сохранить\n",
    "#    в переменную genre_df_sorted\n",
    "# 4) вернуть Series из 10 первых значений genre_df_sorted, это будут топ-10\n",
    "#    популярных жанров (в указанный день, в заданное время)\n",
    "\n",
    "def genre_weekday(df, day, time1, time2):\n",
    "    # последовательная фильтрация\n",
    "    # оставляем в genre_df только те строки df, у которых день равен day\n",
    "    genre_df = df[df['day'] == day]\n",
    "    # оставляем в genre_df только те строки genre_df, у которых время меньше time2\n",
    "    genre_df = genre_df[genre_df['time'] < time2]\n",
    "    # оставляем в genre_df только те строки genre_df, у которых время больше time1\n",
    "    genre_df = genre_df[genre_df['time'] > time1]\n",
    "    # сгруппируем отфильтрованный датафрейм по столбцу с названиями жанров, возьмём столбец genre и посчитаем кол-во строк для каждого жанра методом count()\n",
    "    genre_df_grouped = genre_df.groupby('genre')['genre'].count()\n",
    "    # отсортируем результат по убыванию (чтобы в начале Series оказались самые популярные жанры)\n",
    "    genre_df_sorted = genre_df_grouped.sort_values(ascending=False)\n",
    "    # вернём Series с 10 самыми популярными жанрами в указанный отрезок времени заданного дня\n",
    "    return genre_df_sorted[:10]"
   ]
  },
  {
   "cell_type": "markdown",
   "metadata": {
    "deletable": false,
    "editable": false,
    "id": "la2s2_PF_Zcu",
    "tags": [
     "start_task"
    ]
   },
   "source": [
    "**Задание 25**\n",
    "\n",
    "\n",
    "Cравните результаты функции `genre_weekday()` для Москвы и Санкт-Петербурга в понедельник утром (с 7:00 до 11:00) и в пятницу вечером (с 17:00 до 23:00):"
   ]
  },
  {
   "cell_type": "code",
   "execution_count": 37,
   "metadata": {
    "deletable": false,
    "id": "yz7itPUQ_Zcu"
   },
   "outputs": [
    {
     "data": {
      "text/plain": [
       "genre\n",
       "pop            781\n",
       "dance          549\n",
       "electronic     480\n",
       "rock           474\n",
       "hiphop         286\n",
       "ruspop         186\n",
       "world          181\n",
       "rusrap         175\n",
       "alternative    164\n",
       "unknown        161\n",
       "Name: genre, dtype: int64"
      ]
     },
     "execution_count": 37,
     "metadata": {},
     "output_type": "execute_result"
    }
   ],
   "source": [
    "# вызов функции для утра понедельника в Москве (вместо df — таблица moscow_general)\n",
    "# объекты, хранящие время, являются строками и сравниваются как строки\n",
    "# пример вызова: genre_weekday(moscow_general, 'Monday', '07:00', '11:00')\n",
    "genre_weekday(moscow_general, 'Monday', '07:00', '11:00')"
   ]
  },
  {
   "cell_type": "code",
   "execution_count": 38,
   "metadata": {
    "deletable": false,
    "id": "kwUcHPdy_Zcu"
   },
   "outputs": [
    {
     "data": {
      "text/plain": [
       "genre\n",
       "pop            218\n",
       "dance          182\n",
       "rock           162\n",
       "electronic     147\n",
       "hiphop          80\n",
       "ruspop          64\n",
       "alternative     58\n",
       "rusrap          55\n",
       "jazz            44\n",
       "classical       40\n",
       "Name: genre, dtype: int64"
      ]
     },
     "execution_count": 38,
     "metadata": {},
     "output_type": "execute_result"
    }
   ],
   "source": [
    "# вызов функции для утра понедельника в Петербурге (вместо df — таблица spb_general)\n",
    "genre_weekday(spb_general, 'Monday', '07:00', '11:00')"
   ]
  },
  {
   "cell_type": "code",
   "execution_count": 39,
   "metadata": {
    "deletable": false,
    "id": "EzXVRE1o_Zcu"
   },
   "outputs": [
    {
     "data": {
      "text/plain": [
       "genre\n",
       "pop            713\n",
       "rock           517\n",
       "dance          495\n",
       "electronic     482\n",
       "hiphop         273\n",
       "world          208\n",
       "ruspop         170\n",
       "alternative    163\n",
       "classical      163\n",
       "rusrap         142\n",
       "Name: genre, dtype: int64"
      ]
     },
     "execution_count": 39,
     "metadata": {},
     "output_type": "execute_result"
    }
   ],
   "source": [
    "# вызов функции для вечера пятницы в Москве\n",
    "genre_weekday(moscow_general, 'Friday', '17:00', '23:00')"
   ]
  },
  {
   "cell_type": "code",
   "execution_count": 40,
   "metadata": {
    "deletable": false,
    "id": "JZaEKu5v_Zcu"
   },
   "outputs": [
    {
     "data": {
      "text/plain": [
       "genre\n",
       "pop            256\n",
       "electronic     216\n",
       "rock           216\n",
       "dance          210\n",
       "hiphop          97\n",
       "alternative     63\n",
       "jazz            61\n",
       "classical       60\n",
       "rusrap          59\n",
       "world           54\n",
       "Name: genre, dtype: int64"
      ]
     },
     "execution_count": 40,
     "metadata": {},
     "output_type": "execute_result"
    }
   ],
   "source": [
    "# вызов функции для вечера пятницы в Петербурге\n",
    "genre_weekday(spb_general, 'Friday', '17:00', '23:00')"
   ]
  },
  {
   "cell_type": "markdown",
   "metadata": {
    "deletable": false,
    "editable": false,
    "id": "wrCe4MNX_Zcu"
   },
   "source": [
    "**Выводы**\n",
    "\n",
    "Если сравнить топ-10 жанров в понедельник утром, можно сделать такие выводы:\n",
    "\n",
    "1. В Москве и Петербурге слушают похожую музыку. Единственное отличие — в московский рейтинг вошёл жанр “world”, а в петербургский — джаз и классика.\n",
    "\n",
    "2. В Москве пропущенных значений оказалось так много, что значение `'unknown'` заняло десятое место среди самых популярных жанров. Значит, пропущенные значения занимают существенную долю в данных и угрожают достоверности исследования.\n",
    "\n",
    "Вечер пятницы не меняет эту картину. Некоторые жанры поднимаются немного выше, другие спускаются, но в целом топ-10 остаётся тем же самым.\n",
    "\n",
    "Таким образом, вторая гипотеза подтвердилась лишь частично:\n",
    "* Пользователи слушают похожую музыку в начале недели и в конце.\n",
    "* Разница между Москвой и Петербургом не слишком выражена. В Москве чаще слушают русскую популярную музыку, в Петербурге — джаз.\n",
    "\n",
    "Однако пропуски в данных ставят под сомнение этот результат. В Москве их так много, что рейтинг топ-10 мог бы выглядеть иначе, если бы не утерянные  данные о жанрах."
   ]
  },
  {
   "cell_type": "markdown",
   "metadata": {
    "deletable": false,
    "editable": false,
    "id": "JolODAqr_Zcu"
   },
   "source": [
    "### Жанровые предпочтения в Москве и Петербурге\n",
    "\n",
    "Гипотеза: Петербург — столица рэпа, музыку этого жанра там слушают чаще, чем в Москве.  А Москва — город контрастов, в котором, тем не менее, преобладает поп-музыка."
   ]
  },
  {
   "cell_type": "markdown",
   "metadata": {
    "deletable": false,
    "editable": false,
    "id": "DlegSvaT_Zcu",
    "tags": [
     "start_task"
    ]
   },
   "source": [
    "**Задание 26**\n",
    "\n",
    "Сгруппируйте таблицу `moscow_general` по жанру и посчитайте прослушивания треков каждого жанра методом `count()`. Затем отсортируйте результат в порядке убывания и сохраните его в таблице `moscow_genres`."
   ]
  },
  {
   "cell_type": "code",
   "execution_count": 26,
   "metadata": {
    "deletable": false,
    "id": "r19lIPke_Zcu"
   },
   "outputs": [],
   "source": [
    "# одной строкой: группировка таблицы moscow_general по столбцу 'genre', \n",
    "# подсчёт числа значений 'genre' в этой группировке методом count(), \n",
    "# сортировка получившегося Series в порядке убывания и сохранение в moscow_genres\n",
    "\n",
    "moscow_genres = moscow_general.groupby('genre')['genre'].count()\n",
    "moscow_genres = moscow_genres.sort_values(ascending = False)\n"
   ]
  },
  {
   "cell_type": "markdown",
   "metadata": {
    "deletable": false,
    "editable": false,
    "id": "6kMuomxTiIr8",
    "tags": [
     "start_task"
    ]
   },
   "source": [
    "**Задание 27**\n",
    "\n",
    "Выведите на экран первые десять строк `moscow_genres`:"
   ]
  },
  {
   "cell_type": "code",
   "execution_count": 27,
   "metadata": {
    "deletable": false,
    "id": "WhCSooF8_Zcv"
   },
   "outputs": [
    {
     "data": {
      "text/plain": [
       "genre\n",
       "pop            6253\n",
       "dance          4707\n",
       "rock           4188\n",
       "electronic     4010\n",
       "hip            2156\n",
       "classical      1712\n",
       "world          1516\n",
       "alternative    1466\n",
       "ruspop         1453\n",
       "rusrap         1239\n",
       "Name: genre, dtype: int64"
      ]
     },
     "execution_count": 27,
     "metadata": {},
     "output_type": "execute_result"
    }
   ],
   "source": [
    "# просмотр первых 10 строк moscow_genres\n",
    "moscow_genres[:10]"
   ]
  },
  {
   "cell_type": "markdown",
   "metadata": {
    "deletable": false,
    "editable": false,
    "id": "cnPG2vnN_Zcv",
    "tags": [
     "start_task"
    ]
   },
   "source": [
    "**Задание 28**\n",
    "\n",
    "\n",
    "Теперь повторите то же и для Петербурга.\n",
    "\n",
    "Сгруппируйте таблицу `spb_general` по жанру. Посчитайте прослушивания треков каждого жанра. Результат отсортируйте в порядке убывания и сохраните в таблице `spb_genres`:\n"
   ]
  },
  {
   "cell_type": "code",
   "execution_count": 22,
   "metadata": {
    "deletable": false,
    "id": "gluLIpE7_Zcv"
   },
   "outputs": [],
   "source": [
    "# одной строкой: группировка таблицы spb_general по столбцу 'genre', \n",
    "# подсчёт числа значений 'genre' в этой группировке методом count(), \n",
    "# сортировка получившегося Series в порядке убывания и сохранение в spb_genres\n",
    "\n",
    "spb_genres = spb_general.groupby('genre')['genre'].count()\n",
    "spb_genres = spb_genres.sort_values(ascending = False)"
   ]
  },
  {
   "cell_type": "markdown",
   "metadata": {
    "deletable": false,
    "editable": false,
    "id": "5Doha_ODgyQ8",
    "tags": [
     "start_task"
    ]
   },
   "source": [
    "**Задание 29**\n",
    "\n",
    "Выведите на экран первые десять строк `spb_genres`:"
   ]
  },
  {
   "cell_type": "code",
   "execution_count": 23,
   "metadata": {
    "deletable": false,
    "id": "uaGJHjVU_Zcv"
   },
   "outputs": [
    {
     "data": {
      "text/plain": [
       "genre\n",
       "pop            2597\n",
       "dance          2054\n",
       "rock           2004\n",
       "electronic     1842\n",
       "hip             992\n",
       "alternative     700\n",
       "classical       684\n",
       "rusrap          604\n",
       "ruspop          565\n",
       "world           553\n",
       "Name: genre, dtype: int64"
      ]
     },
     "execution_count": 23,
     "metadata": {},
     "output_type": "execute_result"
    }
   ],
   "source": [
    "# просмотр первых 10 строк spb_genres\n",
    "spb_genres[:10]"
   ]
  },
  {
   "cell_type": "markdown",
   "metadata": {
    "deletable": false,
    "editable": false,
    "id": "RY51YJYu_Zcv"
   },
   "source": [
    "**Выводы**"
   ]
  },
  {
   "cell_type": "markdown",
   "metadata": {
    "deletable": false,
    "editable": false,
    "id": "nVhnJEm__Zcv"
   },
   "source": [
    "Гипотеза частично подтвердилась:\n",
    "* Поп-музыка — самый популярный жанр в Москве, как и предполагала гипотеза. Более того, в топ-10 жанров встречается близкий жанр — русская популярная музыка.\n",
    "* Вопреки ожиданиям, рэп одинаково популярен в Москве и Петербурге. \n"
   ]
  },
  {
   "cell_type": "markdown",
   "metadata": {
    "deletable": false,
    "editable": false,
    "id": "ykKQ0N65_Zcv"
   },
   "source": [
    "## Итоги исследования"
   ]
  },
  {
   "cell_type": "markdown",
   "metadata": {
    "deletable": false,
    "editable": false,
    "id": "tjUwbHb3_Zcv"
   },
   "source": [
    "Вы проверили три гипотезы и установили:\n",
    "\n",
    "1. День недели по-разному влияет на активность пользователей в Москве и Петербурге. \n",
    "\n",
    "Первая гипотеза полностью подтвердилась.\n",
    "\n",
    "2. Музыкальные предпочтения не сильно меняются в течение недели — будь то Москва или Петербург. Небольшие различия заметны в начале недели, по понедельникам:\n",
    "* в Москве слушают музыку жанра “world”,\n",
    "* в Петербурге — джаз и классику.\n",
    "\n",
    "Таким образом, вторая гипотеза подтвердилась лишь отчасти. Этот результат мог оказаться иным, если бы не пропуски в данных.\n",
    "\n",
    "3. Во вкусах пользователей Москвы и Петербурга больше общего чем различий. Вопреки ожиданиям, предпочтения жанров в Петербурге напоминают московские.\n",
    "\n",
    "Третья гипотеза не подтвердилась. Если различия в предпочтениях и существуют, на основной массе пользователей они незаметны.\n",
    "\n",
    "**На практике исследования содержат проверки статистических гипотез.**\n",
    "Из данных одного сервиса не всегда можно сделать вывод о всех жителях города.\n",
    "Проверки статистических гипотез покажут, насколько они достоверны, исходя из имеющихся данных. \n",
    "С методами проверок гипотез вы ещё познакомитесь в следующих темах."
   ]
  }
 ],
 "metadata": {
  "ExecuteTimeLog": [
   {
    "duration": 442,
    "start_time": "2023-01-07T13:38:07.291Z"
   },
   {
    "duration": 444,
    "start_time": "2023-01-07T13:38:50.158Z"
   },
   {
    "duration": 24,
    "start_time": "2023-01-07T13:38:57.969Z"
   },
   {
    "duration": 9,
    "start_time": "2023-01-07T13:39:20.172Z"
   },
   {
    "duration": 28,
    "start_time": "2023-01-07T13:39:43.922Z"
   },
   {
    "duration": 3,
    "start_time": "2023-01-07T13:41:53.923Z"
   },
   {
    "duration": 64,
    "start_time": "2023-01-07T13:42:51.918Z"
   },
   {
    "duration": 7,
    "start_time": "2023-01-07T13:42:55.991Z"
   },
   {
    "duration": 4,
    "start_time": "2023-01-07T13:42:58.972Z"
   },
   {
    "duration": 44,
    "start_time": "2023-01-07T13:44:13.518Z"
   },
   {
    "duration": 45,
    "start_time": "2023-01-07T13:44:20.972Z"
   },
   {
    "duration": 6,
    "start_time": "2023-01-07T13:44:30.112Z"
   },
   {
    "duration": 11,
    "start_time": "2023-01-07T13:46:24.121Z"
   },
   {
    "duration": 5,
    "start_time": "2023-01-07T13:46:27.358Z"
   },
   {
    "duration": 8,
    "start_time": "2023-01-07T13:46:46.133Z"
   },
   {
    "duration": 7,
    "start_time": "2023-01-07T13:49:00.319Z"
   },
   {
    "duration": 26,
    "start_time": "2023-01-07T13:49:10.947Z"
   },
   {
    "duration": 25,
    "start_time": "2023-01-07T13:49:17.777Z"
   },
   {
    "duration": 13,
    "start_time": "2023-01-07T13:54:11.134Z"
   },
   {
    "duration": 11,
    "start_time": "2023-01-07T13:54:21.083Z"
   },
   {
    "duration": 7,
    "start_time": "2023-01-07T13:54:36.665Z"
   },
   {
    "duration": 7,
    "start_time": "2023-01-07T13:54:48.236Z"
   },
   {
    "duration": 11,
    "start_time": "2023-01-07T13:56:38.062Z"
   },
   {
    "duration": 15,
    "start_time": "2023-01-07T13:56:52.659Z"
   },
   {
    "duration": 18,
    "start_time": "2023-01-07T13:58:13.384Z"
   },
   {
    "duration": 23,
    "start_time": "2023-01-07T13:58:20.567Z"
   },
   {
    "duration": 70,
    "start_time": "2023-01-07T13:58:33.904Z"
   },
   {
    "duration": 72,
    "start_time": "2023-01-07T13:58:43.864Z"
   },
   {
    "duration": 72,
    "start_time": "2023-01-07T14:02:37.218Z"
   },
   {
    "duration": 74,
    "start_time": "2023-01-07T14:02:52.966Z"
   },
   {
    "duration": 8,
    "start_time": "2023-01-07T14:04:38.867Z"
   },
   {
    "duration": 11,
    "start_time": "2023-01-07T14:07:48.478Z"
   },
   {
    "duration": 8,
    "start_time": "2023-01-07T14:08:00.039Z"
   },
   {
    "duration": 7,
    "start_time": "2023-01-07T14:08:29.478Z"
   },
   {
    "duration": 9,
    "start_time": "2023-01-07T14:09:08.782Z"
   },
   {
    "duration": 56,
    "start_time": "2023-01-07T14:11:34.030Z"
   },
   {
    "duration": 49,
    "start_time": "2023-01-07T14:13:09.485Z"
   },
   {
    "duration": 39,
    "start_time": "2023-01-07T14:14:57.761Z"
   },
   {
    "duration": 10,
    "start_time": "2023-01-07T14:28:44.908Z"
   },
   {
    "duration": 40,
    "start_time": "2023-01-07T14:29:01.946Z"
   },
   {
    "duration": 32,
    "start_time": "2023-01-07T14:39:24.625Z"
   },
   {
    "duration": 29,
    "start_time": "2023-01-07T14:40:07.246Z"
   },
   {
    "duration": 36,
    "start_time": "2023-01-07T14:40:29.866Z"
   },
   {
    "duration": 41,
    "start_time": "2023-01-07T14:40:49.205Z"
   },
   {
    "duration": 45,
    "start_time": "2023-01-07T14:41:03.372Z"
   },
   {
    "duration": 12,
    "start_time": "2023-01-07T14:41:41.333Z"
   },
   {
    "duration": 4669,
    "start_time": "2023-01-07T14:42:49.259Z"
   },
   {
    "duration": 84,
    "start_time": "2023-01-07T14:43:23.938Z"
   },
   {
    "duration": 82,
    "start_time": "2023-01-07T14:43:27.841Z"
   },
   {
    "duration": 49,
    "start_time": "2023-01-07T14:43:31.415Z"
   },
   {
    "duration": 39,
    "start_time": "2023-01-07T14:43:43.108Z"
   },
   {
    "duration": 4471,
    "start_time": "2023-01-07T14:43:47.827Z"
   },
   {
    "duration": 9,
    "start_time": "2023-01-07T14:45:01.853Z"
   },
   {
    "duration": 4219,
    "start_time": "2023-01-07T14:45:11.330Z"
   },
   {
    "duration": 4378,
    "start_time": "2023-01-07T14:48:17.737Z"
   },
   {
    "duration": 35,
    "start_time": "2023-01-07T14:48:33.282Z"
   },
   {
    "duration": 57,
    "start_time": "2023-01-07T14:57:34.726Z"
   },
   {
    "duration": 7,
    "start_time": "2023-01-07T14:57:41.247Z"
   },
   {
    "duration": 425,
    "start_time": "2023-01-07T14:57:46.256Z"
   },
   {
    "duration": 243,
    "start_time": "2023-01-07T14:57:46.684Z"
   },
   {
    "duration": 22,
    "start_time": "2023-01-07T14:57:46.929Z"
   },
   {
    "duration": 33,
    "start_time": "2023-01-07T14:57:46.953Z"
   },
   {
    "duration": 3,
    "start_time": "2023-01-07T14:57:46.990Z"
   },
   {
    "duration": 21,
    "start_time": "2023-01-07T14:57:46.995Z"
   },
   {
    "duration": 21,
    "start_time": "2023-01-07T14:57:47.019Z"
   },
   {
    "duration": 7,
    "start_time": "2023-01-07T14:57:47.043Z"
   },
   {
    "duration": 29,
    "start_time": "2023-01-07T14:57:47.052Z"
   },
   {
    "duration": 40,
    "start_time": "2023-01-07T14:57:47.083Z"
   },
   {
    "duration": 36,
    "start_time": "2023-01-07T14:57:47.124Z"
   },
   {
    "duration": 79,
    "start_time": "2023-01-07T14:57:47.162Z"
   },
   {
    "duration": 86,
    "start_time": "2023-01-07T14:57:47.243Z"
   },
   {
    "duration": 95,
    "start_time": "2023-01-07T14:57:47.334Z"
   },
   {
    "duration": 37,
    "start_time": "2023-01-07T14:57:47.431Z"
   },
   {
    "duration": 13,
    "start_time": "2023-01-07T14:57:47.470Z"
   },
   {
    "duration": 53,
    "start_time": "2023-01-07T14:57:47.485Z"
   },
   {
    "duration": 46,
    "start_time": "2023-01-07T14:57:47.540Z"
   },
   {
    "duration": 3,
    "start_time": "2023-01-07T14:57:47.588Z"
   },
   {
    "duration": 24,
    "start_time": "2023-01-07T14:57:47.592Z"
   },
   {
    "duration": 10,
    "start_time": "2023-01-07T14:57:47.618Z"
   },
   {
    "duration": 9,
    "start_time": "2023-01-07T14:57:47.630Z"
   },
   {
    "duration": 15,
    "start_time": "2023-01-07T14:57:47.640Z"
   },
   {
    "duration": 7,
    "start_time": "2023-01-07T14:57:47.656Z"
   },
   {
    "duration": 8,
    "start_time": "2023-01-07T14:57:47.665Z"
   },
   {
    "duration": 9,
    "start_time": "2023-01-07T14:57:47.675Z"
   },
   {
    "duration": 10,
    "start_time": "2023-01-07T14:57:47.685Z"
   },
   {
    "duration": 5,
    "start_time": "2023-01-07T14:57:47.697Z"
   },
   {
    "duration": 12,
    "start_time": "2023-01-07T14:57:47.704Z"
   },
   {
    "duration": 48,
    "start_time": "2023-01-07T14:57:47.717Z"
   },
   {
    "duration": 0,
    "start_time": "2023-01-07T14:57:47.767Z"
   },
   {
    "duration": 0,
    "start_time": "2023-01-07T14:57:47.768Z"
   },
   {
    "duration": 0,
    "start_time": "2023-01-07T14:57:47.771Z"
   },
   {
    "duration": 0,
    "start_time": "2023-01-07T14:57:47.772Z"
   },
   {
    "duration": 0,
    "start_time": "2023-01-07T14:57:47.773Z"
   },
   {
    "duration": 0,
    "start_time": "2023-01-07T14:57:47.774Z"
   },
   {
    "duration": 0,
    "start_time": "2023-01-07T14:57:47.775Z"
   },
   {
    "duration": 0,
    "start_time": "2023-01-07T14:57:47.777Z"
   },
   {
    "duration": 25,
    "start_time": "2023-01-07T14:57:56.114Z"
   },
   {
    "duration": 34,
    "start_time": "2023-01-07T14:58:00.139Z"
   },
   {
    "duration": 730,
    "start_time": "2023-01-07T14:58:43.901Z"
   },
   {
    "duration": 75,
    "start_time": "2023-01-07T14:59:05.711Z"
   },
   {
    "duration": 78,
    "start_time": "2023-01-07T14:59:12.132Z"
   },
   {
    "duration": 78,
    "start_time": "2023-01-07T14:59:26.976Z"
   },
   {
    "duration": 71,
    "start_time": "2023-01-07T14:59:41.796Z"
   },
   {
    "duration": 4,
    "start_time": "2023-01-07T15:00:23.866Z"
   },
   {
    "duration": 11,
    "start_time": "2023-01-07T15:01:13.876Z"
   },
   {
    "duration": 20,
    "start_time": "2023-01-07T15:02:13.506Z"
   },
   {
    "duration": 26,
    "start_time": "2023-01-07T15:02:33.610Z"
   },
   {
    "duration": 4207,
    "start_time": "2023-01-07T15:02:38.474Z"
   },
   {
    "duration": 4,
    "start_time": "2023-01-07T15:06:46.705Z"
   },
   {
    "duration": 30,
    "start_time": "2023-01-07T15:06:50.825Z"
   },
   {
    "duration": 12,
    "start_time": "2023-01-07T15:07:13.880Z"
   },
   {
    "duration": 6,
    "start_time": "2023-01-07T15:07:32.121Z"
   },
   {
    "duration": 697,
    "start_time": "2023-01-07T15:08:20.880Z"
   },
   {
    "duration": 11,
    "start_time": "2023-01-07T15:08:56.906Z"
   },
   {
    "duration": 12,
    "start_time": "2023-01-07T15:09:01.657Z"
   },
   {
    "duration": 14,
    "start_time": "2023-01-07T15:12:25.160Z"
   },
   {
    "duration": 11,
    "start_time": "2023-01-07T15:12:45.057Z"
   },
   {
    "duration": 16,
    "start_time": "2023-01-07T15:12:57.016Z"
   },
   {
    "duration": 8,
    "start_time": "2023-01-07T15:13:22.563Z"
   },
   {
    "duration": 9,
    "start_time": "2023-01-07T15:13:29.658Z"
   },
   {
    "duration": 12,
    "start_time": "2023-01-07T15:13:41.575Z"
   },
   {
    "duration": 12,
    "start_time": "2023-01-07T15:14:04.646Z"
   },
   {
    "duration": 2074,
    "start_time": "2023-01-07T15:14:09.729Z"
   },
   {
    "duration": 10,
    "start_time": "2023-01-07T15:14:21.106Z"
   },
   {
    "duration": 6,
    "start_time": "2023-01-07T15:14:28.912Z"
   },
   {
    "duration": 10,
    "start_time": "2023-01-07T15:14:33.825Z"
   },
   {
    "duration": 10,
    "start_time": "2023-01-07T15:14:49.773Z"
   },
   {
    "duration": 12,
    "start_time": "2023-01-07T15:14:57.324Z"
   },
   {
    "duration": 9,
    "start_time": "2023-01-07T15:15:25.137Z"
   },
   {
    "duration": 4,
    "start_time": "2023-01-07T15:15:30.452Z"
   },
   {
    "duration": 9,
    "start_time": "2023-01-07T15:15:35.963Z"
   },
   {
    "duration": 47,
    "start_time": "2023-01-07T15:15:40.829Z"
   },
   {
    "duration": 9,
    "start_time": "2023-01-07T15:15:42.374Z"
   },
   {
    "duration": 9,
    "start_time": "2023-01-07T15:15:44.328Z"
   },
   {
    "duration": 8,
    "start_time": "2023-01-07T15:15:46.689Z"
   },
   {
    "duration": 4,
    "start_time": "2023-01-07T15:16:27.707Z"
   },
   {
    "duration": 20,
    "start_time": "2023-01-07T15:16:31.867Z"
   },
   {
    "duration": 14,
    "start_time": "2023-01-07T15:16:39.065Z"
   },
   {
    "duration": 17,
    "start_time": "2023-01-07T15:16:42.425Z"
   },
   {
    "duration": 4,
    "start_time": "2023-01-07T15:16:46.455Z"
   },
   {
    "duration": 17,
    "start_time": "2023-01-07T15:16:48.524Z"
   },
   {
    "duration": 10,
    "start_time": "2023-01-07T15:19:12.004Z"
   },
   {
    "duration": 15,
    "start_time": "2023-01-07T15:19:24.056Z"
   },
   {
    "duration": 9,
    "start_time": "2023-01-07T15:20:28.248Z"
   },
   {
    "duration": 25,
    "start_time": "2023-01-07T15:20:56.204Z"
   },
   {
    "duration": 14,
    "start_time": "2023-01-07T15:21:00.541Z"
   },
   {
    "duration": 20,
    "start_time": "2023-01-07T15:21:06.805Z"
   },
   {
    "duration": 12,
    "start_time": "2023-01-07T15:21:19.712Z"
   },
   {
    "duration": 13,
    "start_time": "2023-01-07T15:21:27.196Z"
   },
   {
    "duration": 18,
    "start_time": "2023-01-07T15:21:46.705Z"
   },
   {
    "duration": 255,
    "start_time": "2023-01-07T15:23:17.949Z"
   },
   {
    "duration": 315,
    "start_time": "2023-01-07T15:24:50.365Z"
   },
   {
    "duration": 325,
    "start_time": "2023-01-07T15:24:55.344Z"
   },
   {
    "duration": 4,
    "start_time": "2023-01-07T15:25:19.666Z"
   },
   {
    "duration": 12,
    "start_time": "2023-01-07T15:25:25.309Z"
   },
   {
    "duration": 15,
    "start_time": "2023-01-07T15:26:18.813Z"
   },
   {
    "duration": 13,
    "start_time": "2023-01-07T15:26:21.736Z"
   },
   {
    "duration": 12,
    "start_time": "2023-01-07T15:30:16.729Z"
   },
   {
    "duration": 12,
    "start_time": "2023-01-07T15:30:44.127Z"
   },
   {
    "duration": 12,
    "start_time": "2023-01-07T15:30:49.359Z"
   },
   {
    "duration": 3,
    "start_time": "2023-01-07T17:51:53.089Z"
   },
   {
    "duration": 26,
    "start_time": "2023-01-07T17:51:55.341Z"
   },
   {
    "duration": 4,
    "start_time": "2023-01-07T17:52:24.062Z"
   },
   {
    "duration": 77,
    "start_time": "2023-01-07T17:52:26.340Z"
   },
   {
    "duration": 4,
    "start_time": "2023-01-07T17:52:49.639Z"
   },
   {
    "duration": 14,
    "start_time": "2023-01-07T17:52:52.433Z"
   },
   {
    "duration": 14,
    "start_time": "2023-01-07T17:54:15.089Z"
   },
   {
    "duration": 14,
    "start_time": "2023-01-07T17:54:16.832Z"
   },
   {
    "duration": 12,
    "start_time": "2023-01-07T17:54:20.338Z"
   },
   {
    "duration": 13,
    "start_time": "2023-01-07T17:54:22.290Z"
   },
   {
    "duration": 14,
    "start_time": "2023-01-07T17:54:24.235Z"
   },
   {
    "duration": 18,
    "start_time": "2023-01-07T17:54:26.078Z"
   },
   {
    "duration": 6,
    "start_time": "2023-01-07T17:55:16.372Z"
   },
   {
    "duration": 18,
    "start_time": "2023-01-07T17:55:17.762Z"
   },
   {
    "duration": 13,
    "start_time": "2023-01-07T17:55:18.668Z"
   },
   {
    "duration": 4,
    "start_time": "2023-01-07T17:56:13.878Z"
   },
   {
    "duration": 818,
    "start_time": "2023-01-07T17:56:15.184Z"
   },
   {
    "duration": 4,
    "start_time": "2023-01-07T17:56:43.254Z"
   },
   {
    "duration": 13,
    "start_time": "2023-01-07T17:56:45.292Z"
   },
   {
    "duration": 15,
    "start_time": "2023-01-07T17:56:47.223Z"
   },
   {
    "duration": 5,
    "start_time": "2023-01-07T17:56:56.092Z"
   },
   {
    "duration": 4,
    "start_time": "2023-01-07T17:57:07.531Z"
   },
   {
    "duration": 781,
    "start_time": "2023-01-07T17:57:08.774Z"
   },
   {
    "duration": 4,
    "start_time": "2023-01-07T17:58:40.372Z"
   },
   {
    "duration": 41,
    "start_time": "2023-01-07T17:58:42.692Z"
   },
   {
    "duration": 24,
    "start_time": "2023-01-07T17:58:45.664Z"
   },
   {
    "duration": 42,
    "start_time": "2023-01-07T17:59:48.778Z"
   },
   {
    "duration": 3,
    "start_time": "2023-01-07T17:59:52.429Z"
   },
   {
    "duration": 38,
    "start_time": "2023-01-07T17:59:54.172Z"
   },
   {
    "duration": 29,
    "start_time": "2023-01-07T18:00:00.600Z"
   },
   {
    "duration": 20,
    "start_time": "2023-01-07T18:00:01.673Z"
   },
   {
    "duration": 26,
    "start_time": "2023-01-07T18:00:03.022Z"
   },
   {
    "duration": 21,
    "start_time": "2023-01-07T18:00:03.629Z"
   },
   {
    "duration": 3,
    "start_time": "2023-01-07T18:00:18.285Z"
   },
   {
    "duration": 25,
    "start_time": "2023-01-07T18:00:20.355Z"
   },
   {
    "duration": 4,
    "start_time": "2023-01-07T18:00:28.202Z"
   },
   {
    "duration": 41,
    "start_time": "2023-01-07T18:00:29.683Z"
   },
   {
    "duration": 3,
    "start_time": "2023-01-07T18:00:36.728Z"
   },
   {
    "duration": 31,
    "start_time": "2023-01-07T18:00:38.097Z"
   },
   {
    "duration": 4,
    "start_time": "2023-01-07T18:00:56.001Z"
   },
   {
    "duration": 5,
    "start_time": "2023-01-07T18:00:57.270Z"
   },
   {
    "duration": 8,
    "start_time": "2023-01-07T18:00:59.522Z"
   },
   {
    "duration": 8,
    "start_time": "2023-01-07T18:01:01.020Z"
   },
   {
    "duration": 6,
    "start_time": "2023-01-07T18:01:01.951Z"
   },
   {
    "duration": 4,
    "start_time": "2023-01-07T18:01:09.979Z"
   },
   {
    "duration": 28,
    "start_time": "2023-01-07T18:01:10.800Z"
   },
   {
    "duration": 4,
    "start_time": "2023-01-07T18:01:22.401Z"
   },
   {
    "duration": 22,
    "start_time": "2023-01-07T18:01:23.198Z"
   },
   {
    "duration": 4,
    "start_time": "2023-01-07T18:01:32.342Z"
   },
   {
    "duration": 25,
    "start_time": "2023-01-07T18:01:33.168Z"
   },
   {
    "duration": 8,
    "start_time": "2023-01-07T18:02:27.722Z"
   },
   {
    "duration": 17,
    "start_time": "2023-01-07T18:02:29.948Z"
   },
   {
    "duration": 4,
    "start_time": "2023-01-07T18:02:51.981Z"
   },
   {
    "duration": 16,
    "start_time": "2023-01-07T18:02:54.588Z"
   },
   {
    "duration": 15,
    "start_time": "2023-01-07T18:02:56.142Z"
   },
   {
    "duration": 10,
    "start_time": "2023-01-07T18:02:57.071Z"
   },
   {
    "duration": 10,
    "start_time": "2023-01-07T18:02:57.868Z"
   },
   {
    "duration": 11,
    "start_time": "2023-01-07T18:02:58.532Z"
   },
   {
    "duration": 18,
    "start_time": "2023-01-07T18:02:59.213Z"
   },
   {
    "duration": 3,
    "start_time": "2023-01-07T18:03:20.559Z"
   },
   {
    "duration": 592,
    "start_time": "2023-01-07T18:03:21.348Z"
   },
   {
    "duration": 3,
    "start_time": "2023-01-07T18:03:52.279Z"
   },
   {
    "duration": 16,
    "start_time": "2023-01-07T18:03:53.840Z"
   },
   {
    "duration": 22,
    "start_time": "2023-01-07T18:03:56.328Z"
   },
   {
    "duration": 3,
    "start_time": "2023-01-07T18:04:51.228Z"
   },
   {
    "duration": 644,
    "start_time": "2023-01-07T18:04:52.391Z"
   },
   {
    "duration": 562,
    "start_time": "2023-01-07T18:04:57.799Z"
   },
   {
    "duration": 4,
    "start_time": "2023-01-07T18:05:21.685Z"
   },
   {
    "duration": 32,
    "start_time": "2023-01-07T18:05:23.297Z"
   },
   {
    "duration": 5,
    "start_time": "2023-01-07T18:05:31.992Z"
   },
   {
    "duration": 22,
    "start_time": "2023-01-07T18:05:33.398Z"
   },
   {
    "duration": 18,
    "start_time": "2023-01-07T18:05:35.031Z"
   },
   {
    "duration": 4,
    "start_time": "2023-01-07T18:05:41.651Z"
   },
   {
    "duration": 24,
    "start_time": "2023-01-07T18:05:42.592Z"
   },
   {
    "duration": 17,
    "start_time": "2023-01-07T18:05:43.953Z"
   },
   {
    "duration": 30,
    "start_time": "2023-01-07T18:05:45.093Z"
   },
   {
    "duration": 4,
    "start_time": "2023-01-07T18:05:50.549Z"
   },
   {
    "duration": 22,
    "start_time": "2023-01-07T18:05:51.487Z"
   },
   {
    "duration": 17,
    "start_time": "2023-01-07T18:05:52.349Z"
   },
   {
    "duration": 23,
    "start_time": "2023-01-07T18:05:53.499Z"
   },
   {
    "duration": 20,
    "start_time": "2023-01-07T18:05:54.089Z"
   },
   {
    "duration": 23,
    "start_time": "2023-01-07T18:05:54.658Z"
   },
   {
    "duration": 27,
    "start_time": "2023-01-07T18:05:55.461Z"
   },
   {
    "duration": 5,
    "start_time": "2023-01-07T18:06:07.402Z"
   },
   {
    "duration": 31,
    "start_time": "2023-01-07T18:06:08.236Z"
   },
   {
    "duration": 44,
    "start_time": "2023-01-07T18:06:14.429Z"
   },
   {
    "duration": 4,
    "start_time": "2023-01-07T18:07:31.175Z"
   },
   {
    "duration": 21,
    "start_time": "2023-01-07T18:07:33.441Z"
   },
   {
    "duration": 3,
    "start_time": "2023-01-07T18:08:05.561Z"
   },
   {
    "duration": 24,
    "start_time": "2023-01-07T18:08:06.566Z"
   },
   {
    "duration": 4,
    "start_time": "2023-01-07T18:08:26.139Z"
   },
   {
    "duration": 35,
    "start_time": "2023-01-07T18:08:27.287Z"
   },
   {
    "duration": 17,
    "start_time": "2023-01-07T18:08:28.468Z"
   },
   {
    "duration": 22,
    "start_time": "2023-01-07T18:08:29.291Z"
   },
   {
    "duration": 16,
    "start_time": "2023-01-07T18:08:30.079Z"
   },
   {
    "duration": 22,
    "start_time": "2023-01-07T18:08:30.822Z"
   },
   {
    "duration": 25,
    "start_time": "2023-01-07T18:08:31.499Z"
   },
   {
    "duration": 7,
    "start_time": "2023-01-07T18:09:00.322Z"
   },
   {
    "duration": 21,
    "start_time": "2023-01-07T18:09:01.363Z"
   },
   {
    "duration": 3,
    "start_time": "2023-01-07T18:15:14.240Z"
   },
   {
    "duration": 31,
    "start_time": "2023-01-07T18:15:16.053Z"
   },
   {
    "duration": 4,
    "start_time": "2023-01-07T18:15:57.231Z"
   },
   {
    "duration": 33,
    "start_time": "2023-01-07T18:15:58.305Z"
   },
   {
    "duration": 4,
    "start_time": "2023-01-07T18:16:16.029Z"
   },
   {
    "duration": 30,
    "start_time": "2023-01-07T18:16:16.986Z"
   },
   {
    "duration": 20,
    "start_time": "2023-01-07T18:16:18.093Z"
   },
   {
    "duration": 18,
    "start_time": "2023-01-07T18:16:20.335Z"
   },
   {
    "duration": 17,
    "start_time": "2023-01-07T18:16:21.080Z"
   },
   {
    "duration": 20,
    "start_time": "2023-01-07T18:16:21.662Z"
   },
   {
    "duration": 36,
    "start_time": "2023-01-07T18:16:22.199Z"
   },
   {
    "duration": 4,
    "start_time": "2023-01-07T18:16:34.270Z"
   },
   {
    "duration": 32,
    "start_time": "2023-01-07T18:16:35.143Z"
   },
   {
    "duration": 5,
    "start_time": "2023-01-07T18:20:20.020Z"
   },
   {
    "duration": 10,
    "start_time": "2023-01-07T18:20:30.064Z"
   },
   {
    "duration": 14,
    "start_time": "2023-01-07T18:26:48.123Z"
   },
   {
    "duration": 9,
    "start_time": "2023-01-07T18:26:48.778Z"
   },
   {
    "duration": 4,
    "start_time": "2023-01-07T18:35:53.028Z"
   },
   {
    "duration": 5,
    "start_time": "2023-01-07T18:37:13.133Z"
   },
   {
    "duration": 19,
    "start_time": "2023-01-07T18:37:45.881Z"
   },
   {
    "duration": 4,
    "start_time": "2023-01-07T18:38:00.076Z"
   },
   {
    "duration": 15,
    "start_time": "2023-01-07T18:38:01.139Z"
   },
   {
    "duration": 6,
    "start_time": "2023-01-07T18:39:42.788Z"
   },
   {
    "duration": 36,
    "start_time": "2023-01-07T18:39:45.093Z"
   },
   {
    "duration": 7,
    "start_time": "2023-01-07T18:42:04.834Z"
   },
   {
    "duration": 23,
    "start_time": "2023-01-07T18:42:08.532Z"
   },
   {
    "duration": 6,
    "start_time": "2023-01-07T18:42:22.436Z"
   },
   {
    "duration": 23,
    "start_time": "2023-01-07T18:42:23.474Z"
   },
   {
    "duration": 4,
    "start_time": "2023-01-07T18:44:46.084Z"
   },
   {
    "duration": 16,
    "start_time": "2023-01-07T18:44:47.733Z"
   },
   {
    "duration": 4,
    "start_time": "2023-01-07T18:45:43.730Z"
   },
   {
    "duration": 30,
    "start_time": "2023-01-07T18:45:44.810Z"
   },
   {
    "duration": 5,
    "start_time": "2023-01-07T18:45:54.577Z"
   },
   {
    "duration": 4,
    "start_time": "2023-01-07T18:45:56.991Z"
   },
   {
    "duration": 18,
    "start_time": "2023-01-07T18:45:57.892Z"
   },
   {
    "duration": 5,
    "start_time": "2023-01-07T18:46:42.828Z"
   },
   {
    "duration": 16,
    "start_time": "2023-01-07T18:46:43.784Z"
   },
   {
    "duration": 12,
    "start_time": "2023-01-07T18:47:39.887Z"
   },
   {
    "duration": 12,
    "start_time": "2023-01-07T18:47:48.134Z"
   },
   {
    "duration": 5,
    "start_time": "2023-01-07T18:48:06.464Z"
   },
   {
    "duration": 550,
    "start_time": "2023-01-07T18:48:08.214Z"
   },
   {
    "duration": 5,
    "start_time": "2023-01-07T18:48:32.104Z"
   },
   {
    "duration": 13,
    "start_time": "2023-01-07T18:48:33.628Z"
   },
   {
    "duration": 25,
    "start_time": "2023-01-07T18:48:38.218Z"
   },
   {
    "duration": 26,
    "start_time": "2023-01-07T18:48:41.109Z"
   },
   {
    "duration": 4,
    "start_time": "2023-01-07T18:48:51.692Z"
   },
   {
    "duration": 20,
    "start_time": "2023-01-07T18:48:52.732Z"
   },
   {
    "duration": 8,
    "start_time": "2023-01-07T18:48:57.016Z"
   },
   {
    "duration": 17,
    "start_time": "2023-01-07T18:48:57.973Z"
   },
   {
    "duration": 6,
    "start_time": "2023-01-07T18:49:32.623Z"
   },
   {
    "duration": 25,
    "start_time": "2023-01-07T18:49:33.596Z"
   },
   {
    "duration": 22,
    "start_time": "2023-01-07T18:53:58.371Z"
   },
   {
    "duration": 14,
    "start_time": "2023-01-07T18:54:00.128Z"
   },
   {
    "duration": 25,
    "start_time": "2023-01-07T18:54:00.956Z"
   },
   {
    "duration": 5,
    "start_time": "2023-01-07T18:54:24.936Z"
   },
   {
    "duration": 21,
    "start_time": "2023-01-07T18:54:25.836Z"
   },
   {
    "duration": 10,
    "start_time": "2023-01-07T18:55:11.031Z"
   },
   {
    "duration": 19,
    "start_time": "2023-01-07T18:55:11.955Z"
   },
   {
    "duration": 5,
    "start_time": "2023-01-07T18:55:13.212Z"
   },
   {
    "duration": 10,
    "start_time": "2023-01-07T18:56:12.042Z"
   },
   {
    "duration": 28,
    "start_time": "2023-01-07T18:56:13.928Z"
   },
   {
    "duration": 17,
    "start_time": "2023-01-07T18:56:15.240Z"
   },
   {
    "duration": 7,
    "start_time": "2023-01-07T18:57:19.509Z"
   },
   {
    "duration": 1216,
    "start_time": "2023-01-07T18:57:20.676Z"
   },
   {
    "duration": 6,
    "start_time": "2023-01-07T18:57:56.462Z"
   },
   {
    "duration": 20,
    "start_time": "2023-01-07T18:57:57.679Z"
   },
   {
    "duration": 61,
    "start_time": "2023-01-07T18:58:09.419Z"
   },
   {
    "duration": 22,
    "start_time": "2023-01-07T18:58:10.867Z"
   },
   {
    "duration": 5,
    "start_time": "2023-01-07T18:58:13.657Z"
   },
   {
    "duration": 21,
    "start_time": "2023-01-07T18:58:14.640Z"
   },
   {
    "duration": 7,
    "start_time": "2023-01-07T18:58:36.449Z"
   },
   {
    "duration": 29,
    "start_time": "2023-01-07T18:58:37.492Z"
   },
   {
    "duration": 30,
    "start_time": "2023-01-07T18:58:40.492Z"
   },
   {
    "duration": 21,
    "start_time": "2023-01-07T18:58:43.332Z"
   },
   {
    "duration": 16,
    "start_time": "2023-01-07T18:58:44.079Z"
   },
   {
    "duration": 40,
    "start_time": "2023-01-07T18:58:45.905Z"
   },
   {
    "duration": 16,
    "start_time": "2023-01-07T18:58:47.042Z"
   },
   {
    "duration": 6,
    "start_time": "2023-01-07T18:59:06.345Z"
   },
   {
    "duration": 27,
    "start_time": "2023-01-07T18:59:07.410Z"
   },
   {
    "duration": 16,
    "start_time": "2023-01-07T18:59:09.235Z"
   },
   {
    "duration": 25,
    "start_time": "2023-01-07T18:59:10.346Z"
   },
   {
    "duration": 6,
    "start_time": "2023-01-07T18:59:20.649Z"
   },
   {
    "duration": 19,
    "start_time": "2023-01-07T18:59:21.767Z"
   },
   {
    "duration": 19,
    "start_time": "2023-01-07T18:59:23.651Z"
   },
   {
    "duration": 32,
    "start_time": "2023-01-07T18:59:25.621Z"
   },
   {
    "duration": 4,
    "start_time": "2023-01-07T18:59:45.371Z"
   },
   {
    "duration": 20,
    "start_time": "2023-01-07T18:59:46.337Z"
   },
   {
    "duration": 5,
    "start_time": "2023-01-07T19:00:03.879Z"
   },
   {
    "duration": 27,
    "start_time": "2023-01-07T19:00:05.136Z"
   },
   {
    "duration": 4,
    "start_time": "2023-01-07T19:00:12.651Z"
   },
   {
    "duration": 15,
    "start_time": "2023-01-07T19:00:13.770Z"
   },
   {
    "duration": 10,
    "start_time": "2023-01-07T19:00:18.432Z"
   },
   {
    "duration": 21,
    "start_time": "2023-01-07T19:00:19.840Z"
   },
   {
    "duration": 6,
    "start_time": "2023-01-07T19:00:24.097Z"
   },
   {
    "duration": 17,
    "start_time": "2023-01-07T19:00:25.160Z"
   },
   {
    "duration": 6,
    "start_time": "2023-01-07T19:00:37.486Z"
   },
   {
    "duration": 18,
    "start_time": "2023-01-07T19:00:38.438Z"
   },
   {
    "duration": 30,
    "start_time": "2023-01-07T19:00:41.210Z"
   },
   {
    "duration": 18,
    "start_time": "2023-01-07T19:01:09.649Z"
   },
   {
    "duration": 4,
    "start_time": "2023-01-07T19:01:13.598Z"
   },
   {
    "duration": 15,
    "start_time": "2023-01-07T19:01:14.364Z"
   },
   {
    "duration": 6,
    "start_time": "2023-01-07T19:06:10.327Z"
   },
   {
    "duration": 28,
    "start_time": "2023-01-07T19:06:11.598Z"
   },
   {
    "duration": 5,
    "start_time": "2023-01-07T19:06:58.837Z"
   },
   {
    "duration": 940,
    "start_time": "2023-01-07T19:07:00.267Z"
   },
   {
    "duration": 7,
    "start_time": "2023-01-07T19:07:07.670Z"
   },
   {
    "duration": 17,
    "start_time": "2023-01-07T19:07:09.161Z"
   },
   {
    "duration": 5,
    "start_time": "2023-01-07T19:07:24.658Z"
   },
   {
    "duration": 23,
    "start_time": "2023-01-07T19:07:26.254Z"
   },
   {
    "duration": 5,
    "start_time": "2023-01-07T19:08:01.062Z"
   },
   {
    "duration": 23,
    "start_time": "2023-01-07T19:08:02.513Z"
   },
   {
    "duration": 5,
    "start_time": "2023-01-07T19:56:33.239Z"
   },
   {
    "duration": 5,
    "start_time": "2023-01-07T19:56:42.150Z"
   },
   {
    "duration": 5,
    "start_time": "2023-01-07T19:56:52.478Z"
   },
   {
    "duration": 5,
    "start_time": "2023-01-07T19:56:53.397Z"
   },
   {
    "duration": 5,
    "start_time": "2023-01-07T19:56:57.496Z"
   },
   {
    "duration": 6,
    "start_time": "2023-01-07T19:56:58.438Z"
   },
   {
    "duration": 6,
    "start_time": "2023-01-07T19:57:25.222Z"
   },
   {
    "duration": 12,
    "start_time": "2023-01-07T19:57:30.424Z"
   },
   {
    "duration": 308,
    "start_time": "2023-01-07T19:57:33.144Z"
   },
   {
    "duration": 10,
    "start_time": "2023-01-07T19:57:36.278Z"
   },
   {
    "duration": 6,
    "start_time": "2023-01-07T19:57:47.963Z"
   },
   {
    "duration": 9,
    "start_time": "2023-01-07T19:57:57.079Z"
   },
   {
    "duration": 9,
    "start_time": "2023-01-07T19:58:05.888Z"
   },
   {
    "duration": 9,
    "start_time": "2023-01-07T19:58:33.899Z"
   },
   {
    "duration": 10,
    "start_time": "2023-01-07T19:58:46.734Z"
   },
   {
    "duration": 4,
    "start_time": "2023-01-07T19:58:58.547Z"
   },
   {
    "duration": 10,
    "start_time": "2023-01-07T19:59:04.324Z"
   },
   {
    "duration": 10,
    "start_time": "2023-01-07T19:59:16.339Z"
   },
   {
    "duration": 14,
    "start_time": "2023-01-07T19:59:30.104Z"
   },
   {
    "duration": 10,
    "start_time": "2023-01-07T19:59:39.796Z"
   },
   {
    "duration": 7,
    "start_time": "2023-01-07T20:02:47.092Z"
   },
   {
    "duration": 8,
    "start_time": "2023-01-07T20:03:11.145Z"
   },
   {
    "duration": 8,
    "start_time": "2023-01-07T20:03:17.599Z"
   },
   {
    "duration": 5,
    "start_time": "2023-01-07T20:03:31.503Z"
   },
   {
    "duration": 11,
    "start_time": "2023-01-07T20:03:53.720Z"
   },
   {
    "duration": 8,
    "start_time": "2023-01-07T20:04:00.995Z"
   },
   {
    "duration": 11,
    "start_time": "2023-01-07T20:04:15.195Z"
   },
   {
    "duration": 10,
    "start_time": "2023-01-07T20:04:15.702Z"
   },
   {
    "duration": 10,
    "start_time": "2023-01-07T20:04:20.631Z"
   },
   {
    "duration": 27,
    "start_time": "2023-01-07T20:04:49.036Z"
   },
   {
    "duration": 5,
    "start_time": "2023-01-07T20:05:20.702Z"
   },
   {
    "duration": 8,
    "start_time": "2023-01-07T20:05:37.584Z"
   },
   {
    "duration": 5,
    "start_time": "2023-01-07T20:05:38.771Z"
   },
   {
    "duration": 15,
    "start_time": "2023-01-07T20:07:19.311Z"
   },
   {
    "duration": 8,
    "start_time": "2023-01-07T20:08:25.703Z"
   },
   {
    "duration": 6,
    "start_time": "2023-01-07T20:08:28.867Z"
   },
   {
    "duration": 9,
    "start_time": "2023-01-07T20:08:29.517Z"
   }
  ],
  "colab": {
   "collapsed_sections": [
    "E0vqbgi9ay0H",
    "VUC88oWjTJw2"
   ],
   "name": "automatization_template_upd4.ipynb",
   "provenance": []
  },
  "kernelspec": {
   "display_name": "Python 3 (ipykernel)",
   "language": "python",
   "name": "python3"
  },
  "language_info": {
   "codemirror_mode": {
    "name": "ipython",
    "version": 3
   },
   "file_extension": ".py",
   "mimetype": "text/x-python",
   "name": "python",
   "nbconvert_exporter": "python",
   "pygments_lexer": "ipython3",
   "version": "3.9.12"
  },
  "toc": {
   "base_numbering": 1,
   "nav_menu": {
    "height": "215px",
    "width": "403px"
   },
   "number_sections": true,
   "sideBar": true,
   "skip_h1_title": true,
   "title_cell": "Table of Contents",
   "title_sidebar": "Contents",
   "toc_cell": false,
   "toc_position": {
    "height": "calc(100% - 180px)",
    "left": "10px",
    "top": "150px",
    "width": "285.825px"
   },
   "toc_section_display": true,
   "toc_window_display": false
  }
 },
 "nbformat": 4,
 "nbformat_minor": 1
}
